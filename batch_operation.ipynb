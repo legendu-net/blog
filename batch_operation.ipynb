{
 "cells": [
  {
   "cell_type": "code",
   "execution_count": 1,
   "metadata": {},
   "outputs": [],
   "source": [
    "from typing import Union\n",
    "from pathlib import Path\n",
    "import shutil\n",
    "import aiutil\n",
    "from blogger import is_post, Post, NOW_DASH"
   ]
  },
  {
   "cell_type": "markdown",
   "metadata": {},
   "source": [
    "## Essentially Empty Directories"
   ]
  },
  {
   "cell_type": "code",
   "execution_count": 8,
   "metadata": {},
   "outputs": [
    {
     "data": {
      "text/plain": [
       "[PosixPath('.git/branches'),\n",
       " PosixPath('.git/objects/info'),\n",
       " PosixPath('.git/refs/tags'),\n",
       " PosixPath('__pycache__'),\n",
       " PosixPath('cn/__pycache__'),\n",
       " PosixPath('cn/output/.git/branches'),\n",
       " PosixPath('cn/output/.git/objects/info'),\n",
       " PosixPath('cn/output/.git/objects/pack'),\n",
       " PosixPath('cn/output/.git/refs/tags'),\n",
       " PosixPath('en/__pycache__'),\n",
       " PosixPath('en/output'),\n",
       " PosixPath('home/__pycache__'),\n",
       " PosixPath('home/output/.git/branches'),\n",
       " PosixPath('home/output/.git/refs/tags'),\n",
       " PosixPath('home/output/.git/objects/pack'),\n",
       " PosixPath('home/output/.git/objects/info'),\n",
       " PosixPath('misc/__pycache__'),\n",
       " PosixPath('misc/content/2020/12/data-interchange-format'),\n",
       " PosixPath('misc/output/.git/branches'),\n",
       " PosixPath('misc/output/.git/objects/info'),\n",
       " PosixPath('misc/output/.git/objects/pack'),\n",
       " PosixPath('misc/output/.git/refs/tags'),\n",
       " PosixPath('outdated/__pycache__')]"
      ]
     },
     "execution_count": 8,
     "metadata": {},
     "output_type": "execute_result"
    }
   ],
   "source": [
    "aiutil.filesystem.find_ess_empty(\".\")"
   ]
  },
  {
   "cell_type": "code",
   "execution_count": 12,
   "metadata": {},
   "outputs": [
    {
     "data": {
      "text/plain": [
       "[]"
      ]
     },
     "execution_count": 12,
     "metadata": {},
     "output_type": "execute_result"
    }
   ],
   "source": [
    "aiutil.filesystem.remove_ess_empty(\".\")"
   ]
  },
  {
   "cell_type": "code",
   "execution_count": 18,
   "metadata": {},
   "outputs": [],
   "source": [
    "def ignore(path: Union[str, Path]):\n",
    "    if isinstance(path, str):\n",
    "        path = Path(path)\n",
    "    if path.is_file():\n",
    "        return False\n",
    "    return all(\n",
    "        p.is_file() and p.suffix not in (\".markdown\", \".md\", \".ipynb\")\n",
    "        for p in path.iterdir()\n",
    "    )"
   ]
  },
  {
   "cell_type": "code",
   "execution_count": 20,
   "metadata": {},
   "outputs": [
    {
     "data": {
      "text/plain": [
       "[PosixPath('misc/content/2021/04/abc'),\n",
       " PosixPath('misc/content/2021/06/rust-crate-log/test_log/src'),\n",
       " PosixPath('misc/content/2021/10/serialize-and-deserialize-object-using-pickle-in-python'),\n",
       " PosixPath('misc/content/2019/12/bash-file-name/bash-file-name'),\n",
       " PosixPath('misc/content/2020/11/python-tips-traps/.jukit')]"
      ]
     },
     "execution_count": 20,
     "metadata": {},
     "output_type": "execute_result"
    }
   ],
   "source": [
    "aiutil.filesystem.find_ess_empty(\"misc/content/\", ignore)"
   ]
  },
  {
   "cell_type": "code",
   "execution_count": 26,
   "metadata": {},
   "outputs": [],
   "source": [
    "!rm -rf misc/content/2019/12/bash-file-name/bash-file-name"
   ]
  },
  {
   "cell_type": "markdown",
   "metadata": {},
   "source": [
    "## Posts Containing Conflicts"
   ]
  },
  {
   "cell_type": "code",
   "execution_count": 6,
   "metadata": {},
   "outputs": [
    {
     "name": "stdout",
     "output_type": "stream",
     "text": [
      "misc/content/2021/06/popular-databases/popular-databases.markdown\n"
     ]
    }
   ],
   "source": [
    "for path in Path().glob(\"*/*/20??/??/*/*\"):\n",
    "    if is_post(path) and \"<<<<<<< HEAD\" in path.read_text():\n",
    "        print(path)"
   ]
  },
  {
   "cell_type": "markdown",
   "metadata": {},
   "source": [
    "## Modified"
   ]
  },
  {
   "cell_type": "code",
   "execution_count": 4,
   "metadata": {},
   "outputs": [
    {
     "name": "stdout",
     "output_type": "stream",
     "text": [
      "misc/content/2021/06/popular-databases/popular-databases.markdown\n"
     ]
    }
   ],
   "source": [
    "for path in Path().glob(\"misc/*/20??/??/*/*\"):\n",
    "    if not is_post(path):\n",
    "        continue\n",
    "    record = Post(path).record()\n",
    "    if record.modified == NOW_DASH:\n",
    "        print(path)"
   ]
  },
  {
   "cell_type": "code",
   "execution_count": 8,
   "metadata": {},
   "outputs": [
    {
     "name": "stdout",
     "output_type": "stream",
     "text": [
      "Help on function record in module blogger:\n",
      "\n",
      "record(self) -> 'Record'\n",
      "\n"
     ]
    }
   ],
   "source": [
    "help(Post.record)"
   ]
  },
  {
   "cell_type": "markdown",
   "metadata": {},
   "source": [
    "## Disclaimer"
   ]
  },
  {
   "cell_type": "markdown",
   "metadata": {},
   "source": [
    "### outdated"
   ]
  },
  {
   "cell_type": "code",
   "execution_count": 5,
   "metadata": {},
   "outputs": [],
   "source": [
    "olds = [\n",
    "    \"\"\"\n",
    "Things on this page are\n",
    "fragmentary and immature notes/thoughts of the author.\n",
    "It is not meant to readers\n",
    "but rather for convenient reference of the author and future improvement.\n",
    "\"\"\".strip(),\n",
    "    \"\"\"\n",
    "Things on this page are fragmentary and immature notes/thoughts of the author. \n",
    "Please read with your own judgement!\n",
    "\"\"\".strip(),\n",
    "    \"\"\"\n",
    "Things on this page are fragmentary and immature notes/thoughts of the author. \n",
    "It is not meant to readers but rather for convenient reference of the author and future improvement.\n",
    "\"\"\".strip(),\n",
    "    \"\"\"\n",
    "Things on this page are\n",
    "fragmentary and immature notes/thoughts of the author.\n",
    "Please read with your own judgement!\n",
    "\"\"\".strip(),\n",
    "]\n",
    "new = \"\"\"\n",
    "Things under legendu.net/outdated are outdated technologies \n",
    "that the author does not plan to update any more. \n",
    "Please look for better alternatives. \n",
    "\"\"\".strip()\n",
    "new2 = \"\"\"Things under legendu.net/outdated are outdated technologies that the author does not plan to update any more. Please look for better alternatives.\"\"\".strip()"
   ]
  },
  {
   "cell_type": "code",
   "execution_count": 4,
   "metadata": {},
   "outputs": [],
   "source": [
    "for path in Path(\"outdated/content\").glob(\"**/*.markdown\"):\n",
    "    text = path.read_text()\n",
    "    for old in olds:\n",
    "        text = text.replace(old, new)\n",
    "    with path.open(\"w\") as fout:\n",
    "        fout.write(text)"
   ]
  },
  {
   "cell_type": "code",
   "execution_count": 6,
   "metadata": {},
   "outputs": [
    {
     "name": "stdout",
     "output_type": "stream",
     "text": [
      "outdated/content/2010/11/combination-and-permutation-in-r/combination-and-permutation-in-r.markdown\n",
      "outdated/content/2010/11/functions-and-calls-in-r/functions-and-calls-in-r.markdown\n",
      "outdated/content/2012/04/arrayQualityMetrics/arrayQualityMetrics.markdown\n",
      "outdated/content/2012/05/pass-array-r-other-language/pass-array-r-other-language.markdown\n",
      "outdated/content/2012/05/r-interface-other-languages/r-interface-other-languages.markdown\n",
      "outdated/content/2012/05/rstudio-not-start/rstudio-not-start.markdown\n",
      "outdated/content/2012/06/call-java-in-r/call-java-in-r.markdown\n",
      "outdated/content/2012/06/develop-r-packages-using-roxygen2/develop-r-packages-using-roxygen2.markdown\n",
      "outdated/content/2012/06/fast-computing-r/fast-computing-r.markdown\n",
      "outdated/content/2012/06/mistakes-r/mistakes-r.markdown\n",
      "outdated/content/2012/06/ruby-read-pdf/ruby-read-pdf.markdown\n",
      "outdated/content/2012/06/send-email-ruby/send-email-ruby.markdown\n",
      "outdated/content/2012/06/submit-r-package-cran/submit-r-package-cran.markdown\n",
      "outdated/content/2012/07/sas-data-manipulation/sas-data-manipulation.markdown\n",
      "outdated/content/2012/07/sas-iml-procedure/sas-iml-procedure.markdown\n",
      "outdated/content/2012/07/sas-plot/sas-plot.markdown\n",
      "outdated/content/2012/08/input-bug-ruby/input-bug-ruby.markdown\n",
      "outdated/content/2012/08/keep-matrix-structure-r/keep-matrix-structure-r.markdown\n",
      "outdated/content/2012/08/load-script-ruby/load-script-ruby.markdown\n",
      "outdated/content/2012/08/tips-ruby/tips-ruby.markdown\n",
      "outdated/content/2012/09/download-debian-using-jigdo/download-debian-using-jigdo.markdown\n",
      "outdated/content/2012/09/rcpp-rocks/rcpp-rocks.markdown\n",
      "outdated/content/2012/10/use-eclipse-as-your-ide/use-eclipse-as-your-ide.markdown\n",
      "outdated/content/2012/11/general-tips-for-r/general-tips-for-r.markdown\n",
      "outdated/content/2012/11/io-in-r/io-in-r.markdown\n",
      "outdated/content/2012/11/r-for-internet-web-applications/r-for-internet-web-applications.markdown\n",
      "outdated/content/2012/11/r-for-numerical-analysis/r-for-numerical-analysis.markdown\n",
      "outdated/content/2012/11/r-system-and-configurations/r-system-and-configurations.markdown\n",
      "outdated/content/2012/11/skills-for-r/skills-for-r.markdown\n",
      "outdated/content/2012/11/sweave/sweave.markdown\n",
      "outdated/content/2012/11/time-and-date-in-r/time-and-date-in-r.markdown\n",
      "outdated/content/2012/11/traps-in-r/traps-in-r.markdown\n",
      "outdated/content/2012/11/writing-r-extensions/writing-r-extensions.markdown\n",
      "outdated/content/2012/12/compile-matlab-code/compile-matlab-code.markdown\n",
      "outdated/content/2012/12/filesystem-in-matlab/filesystem-in-matlab.markdown\n",
      "outdated/content/2012/12/general-tips-for-matlab/general-tips-for-matlab.markdown\n",
      "outdated/content/2012/12/graphics-in-matlab/graphics-in-matlab.markdown\n",
      "outdated/content/2012/12/linear-algebra-in-matlab/linear-algebra-in-matlab.markdown\n",
      "outdated/content/2012/12/matlab-different/matlab-different.markdown\n",
      "outdated/content/2012/12/matlab-ide/matlab-ide.markdown\n",
      "outdated/content/2012/12/numerical-analysis-in-matlab/numerical-analysis-in-matlab.markdown\n",
      "outdated/content/2012/12/parallel-computing-in-matlab/parallel-computing-in-matlab.markdown\n",
      "outdated/content/2012/12/problem-when-launching-matlab/problem-when-launching-matlab.markdown\n",
      "outdated/content/2012/12/send-email-in-matlab/send-email-in-matlab.markdown\n",
      "outdated/content/2012/12/special-functions-in-matlab/special-functions-in-matlab.markdown\n",
      "outdated/content/2012/12/statistics-in-matlab/statistics-in-matlab.markdown\n",
      "outdated/content/2012/12/string-in-matlab/string-in-matlab.markdown\n",
      "outdated/content/2012/12/tricky-problems-in-matlab/tricky-problems-in-matlab.markdown\n",
      "outdated/content/2013/04/general-tips-for-mathematica/general-tips-for-mathematica.markdown\n",
      "outdated/content/2013/08/cygwin-rescue-linux-fan/cygwin-rescue-linux-fan.markdown\n",
      "outdated/content/2013/10/abook-links/abook-links.markdown\n",
      "outdated/content/2013/10/mathematica-tips/mathematica-tips.markdown\n",
      "outdated/content/2013/10/php-tips/php-tips.markdown\n",
      "outdated/content/2013/12/cheatsheet-for-muttator/cheatsheet-for-muttator.markdown\n",
      "outdated/content/2013/12/config-cymail-in-thunderbird/config-cymail-in-thunderbird.markdown\n",
      "outdated/content/2013/12/install-the-rjava-package-in-r/install-the-rjava-package-in-r.markdown\n",
      "outdated/content/2014/01/feedly-tips/feedly-tips.markdown\n",
      "outdated/content/2014/01/pig-tips/pig-tips.markdown\n",
      "outdated/content/2014/05/sas-error-messages/sas-error-messages.markdown\n",
      "outdated/content/2014/07/install-R-packages-on-windows-behind-proxy/install-R-packages-on-windows-behind-proxy.markdown\n",
      "outdated/content/2014/08/advanced-data-structures-in-vba/advanced-data-structures-in-vba.markdown\n",
      "outdated/content/2014/08/check-the-type-of-a-sas-variable/check-the-type-of-a-sas-variable.markdown\n",
      "outdated/content/2014/08/matlab-tips/matlab-tips.markdown\n",
      "outdated/content/2014/08/string-functions-in-vba/string-functions-in-vba.markdown\n",
      "outdated/content/2014/08/vba-tips/vba-tips.markdown\n",
      "outdated/content/2014/09/date-utilities-in-sas/date-utilities-in-sas.markdown\n",
      "outdated/content/2014/10/cartesian-product-in-sas/cartesian-product-in-sas.markdown\n",
      "outdated/content/2014/10/set-missing-rows-as-missing-data-in-sas/set-missing-rows-as-missing-data-in-sas.markdown\n",
      "outdated/content/2015/01/import-export-data-sas/import-export-data-sas.markdown\n",
      "outdated/content/2015/02/transpose-data-in-sas/transpose-data-in-sas.markdown\n",
      "outdated/content/2015/03/conversation-mode-in-thunderbird/conversation-mode-in-thunderbird.markdown\n",
      "outdated/content/2015/03/missing-values-in-sas/missing-values-in-sas.markdown\n",
      "outdated/content/2015/03/useful-shortcuts-for-thunderbird/useful-shortcuts-for-thunderbird.markdown\n",
      "outdated/content/2016/05/comparing-values-involving-NA-in-R/comparing-values-involving-NA-in-R.markdown\n",
      "outdated/content/2016/06/q-query-text-file-sql/q-query-text-file-sql.markdown\n",
      "outdated/content/2016/08/cygwin-ports/cygwin-ports.markdown\n",
      "outdated/content/2016/12/install-jupyter-scala-for-jupyterlab/install-jupyter-scala-for-jupyterlab.markdown\n",
      "outdated/content/2017/04/zero-length-vector-issue-in-R/zero-length-vector-issue-in-R.markdown\n",
      "outdated/content/2017/07/docker-on-windows/docker-on-windows.markdown\n",
      "outdated/content/2019/03/configure-terminal-for-pycharm-on-windows/configure-terminal-for-pycharm-on-windows.markdown\n",
      "outdated/content/2019/03/install-python-pip-in-cygwin/install-python-pip-in-cygwin.markdown\n",
      "outdated/content/2019/05/alternative-to-the-rm-command-in-linux/alternative-to-the-rm-command-in-linux.markdown\n",
      "outdated/content/2019/10/tips-on-dockerswarm/tips-on-dockerswarm.markdown\n",
      "outdated/content/2020/05/fastload-in-teradata/fastload-in-teradata.markdown\n",
      "outdated/content/2020/06/understand-and-avoid-the-no-more-spool-space-issue-in-teradata/understand-and-avoid-the-no-more-spool-space-issue-in-teradata.markdown\n",
      "outdated/content/2021/04/connect-to-teradata-from-the-bekaerx-sql-kernel-in-jupyterlab/connect-to-teradata-from-the-bekaerx-sql-kernel-in-jupyterlab.markdown\n",
      "outdated/content/2021/04/hide-3d-graph-in-mathematica/hide-3d-graph-in-mathematica.markdown\n",
      "outdated/content/2021/04/use-spark-with-the-beakerx-scala-kernel/use-spark-with-the-beakerx-scala-kernel.markdown\n",
      "outdated/content/2022/10/tips-on-KMyMoney/tips-on-KMyMoney.markdown\n"
     ]
    }
   ],
   "source": [
    "for path in Path(\"outdated/content\").glob(\"**/*.markdown\"):\n",
    "    text = path.read_text()\n",
    "    if not new in text and not new2 in text:\n",
    "        print(path)"
   ]
  },
  {
   "cell_type": "code",
   "execution_count": null,
   "metadata": {},
   "outputs": [],
   "source": []
  }
 ],
 "metadata": {
  "kernelspec": {
   "display_name": "Python 3",
   "language": "python",
   "name": "python3"
  },
  "language_info": {
   "codemirror_mode": {
    "name": "ipython",
    "version": 3
   },
   "file_extension": ".py",
   "mimetype": "text/x-python",
   "name": "python",
   "nbconvert_exporter": "python",
   "pygments_lexer": "ipython3",
   "version": "3.10.6"
  },
  "vscode": {
   "interpreter": {
    "hash": "e7370f93d1d0cde622a1f8e1c04877d8463912d04d973331ad4851f04de6915a"
   }
  }
 },
 "nbformat": 4,
 "nbformat_minor": 4
}
