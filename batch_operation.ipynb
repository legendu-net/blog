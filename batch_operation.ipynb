{
 "cells": [
  {
   "cell_type": "code",
   "execution_count": 1,
   "metadata": {
    "tags": []
   },
   "outputs": [],
   "source": [
    "from typing import Union\n",
    "from pathlib import Path\n",
    "import shutil\n",
    "import aiutil\n",
    "from blogger import is_post, Post, NOW_DASH"
   ]
  },
  {
   "cell_type": "markdown",
   "metadata": {},
   "source": [
    "## Essentially Empty Directories"
   ]
  },
  {
   "cell_type": "code",
   "execution_count": 2,
   "metadata": {
    "tags": []
   },
   "outputs": [
    {
     "ename": "FileNotFoundError",
     "evalue": "The file /workdir/archives/blog/.venv/bin/python3 does not exist!",
     "output_type": "error",
     "traceback": [
      "\u001b[0;31m---------------------------------------------------------------------------\u001b[0m",
      "\u001b[0;31mFileNotFoundError\u001b[0m                         Traceback (most recent call last)",
      "Cell \u001b[0;32mIn[2], line 1\u001b[0m\n\u001b[0;32m----> 1\u001b[0m \u001b[43maiutil\u001b[49m\u001b[38;5;241;43m.\u001b[39;49m\u001b[43mfilesystem\u001b[49m\u001b[38;5;241;43m.\u001b[39;49m\u001b[43mfind_ess_empty\u001b[49m\u001b[43m(\u001b[49m\u001b[38;5;124;43m\"\u001b[39;49m\u001b[38;5;124;43m.\u001b[39;49m\u001b[38;5;124;43m\"\u001b[39;49m\u001b[43m)\u001b[49m\n",
      "File \u001b[0;32m/usr/local/lib/python3.10/dist-packages/aiutil/filesystem.py:317\u001b[0m, in \u001b[0;36mfind_ess_empty\u001b[0;34m(path, ignore)\u001b[0m\n\u001b[1;32m    315\u001b[0m ess_empty \u001b[38;5;241m=\u001b[39m {}\n\u001b[1;32m    316\u001b[0m ess_empty_dir \u001b[38;5;241m=\u001b[39m []\n\u001b[0;32m--> 317\u001b[0m \u001b[43m_find_ess_empty\u001b[49m\u001b[43m(\u001b[49m\n\u001b[1;32m    318\u001b[0m \u001b[43m    \u001b[49m\u001b[43mpath\u001b[49m\u001b[38;5;241;43m=\u001b[39;49m\u001b[43mpath\u001b[49m\u001b[43m,\u001b[49m\u001b[43m \u001b[49m\u001b[43mignore\u001b[49m\u001b[38;5;241;43m=\u001b[39;49m\u001b[43mignore\u001b[49m\u001b[43m,\u001b[49m\u001b[43m \u001b[49m\u001b[43mess_empty\u001b[49m\u001b[38;5;241;43m=\u001b[39;49m\u001b[43mess_empty\u001b[49m\u001b[43m,\u001b[49m\u001b[43m \u001b[49m\u001b[43mess_empty_dir\u001b[49m\u001b[38;5;241;43m=\u001b[39;49m\u001b[43mess_empty_dir\u001b[49m\n\u001b[1;32m    319\u001b[0m \u001b[43m\u001b[49m\u001b[43m)\u001b[49m\n\u001b[1;32m    320\u001b[0m \u001b[38;5;28;01mreturn\u001b[39;00m ess_empty_dir\n",
      "File \u001b[0;32m/usr/local/lib/python3.10/dist-packages/aiutil/filesystem.py:331\u001b[0m, in \u001b[0;36m_find_ess_empty\u001b[0;34m(path, ignore, ess_empty, ess_empty_dir)\u001b[0m\n\u001b[1;32m    329\u001b[0m \u001b[38;5;28;01mfor\u001b[39;00m p \u001b[38;5;129;01min\u001b[39;00m path\u001b[38;5;241m.\u001b[39miterdir():\n\u001b[1;32m    330\u001b[0m     \u001b[38;5;28;01mif\u001b[39;00m p\u001b[38;5;241m.\u001b[39mis_dir():\n\u001b[0;32m--> 331\u001b[0m         \u001b[43m_find_ess_empty\u001b[49m\u001b[43m(\u001b[49m\n\u001b[1;32m    332\u001b[0m \u001b[43m            \u001b[49m\u001b[43mpath\u001b[49m\u001b[38;5;241;43m=\u001b[39;49m\u001b[43mp\u001b[49m\u001b[43m,\u001b[49m\u001b[43m \u001b[49m\u001b[43mignore\u001b[49m\u001b[38;5;241;43m=\u001b[39;49m\u001b[43mignore\u001b[49m\u001b[43m,\u001b[49m\u001b[43m \u001b[49m\u001b[43mess_empty\u001b[49m\u001b[38;5;241;43m=\u001b[39;49m\u001b[43mess_empty\u001b[49m\u001b[43m,\u001b[49m\u001b[43m \u001b[49m\u001b[43mess_empty_dir\u001b[49m\u001b[38;5;241;43m=\u001b[39;49m\u001b[43mess_empty_dir\u001b[49m\n\u001b[1;32m    333\u001b[0m \u001b[43m        \u001b[49m\u001b[43m)\u001b[49m\n",
      "File \u001b[0;32m/usr/local/lib/python3.10/dist-packages/aiutil/filesystem.py:331\u001b[0m, in \u001b[0;36m_find_ess_empty\u001b[0;34m(path, ignore, ess_empty, ess_empty_dir)\u001b[0m\n\u001b[1;32m    329\u001b[0m \u001b[38;5;28;01mfor\u001b[39;00m p \u001b[38;5;129;01min\u001b[39;00m path\u001b[38;5;241m.\u001b[39miterdir():\n\u001b[1;32m    330\u001b[0m     \u001b[38;5;28;01mif\u001b[39;00m p\u001b[38;5;241m.\u001b[39mis_dir():\n\u001b[0;32m--> 331\u001b[0m         \u001b[43m_find_ess_empty\u001b[49m\u001b[43m(\u001b[49m\n\u001b[1;32m    332\u001b[0m \u001b[43m            \u001b[49m\u001b[43mpath\u001b[49m\u001b[38;5;241;43m=\u001b[39;49m\u001b[43mp\u001b[49m\u001b[43m,\u001b[49m\u001b[43m \u001b[49m\u001b[43mignore\u001b[49m\u001b[38;5;241;43m=\u001b[39;49m\u001b[43mignore\u001b[49m\u001b[43m,\u001b[49m\u001b[43m \u001b[49m\u001b[43mess_empty\u001b[49m\u001b[38;5;241;43m=\u001b[39;49m\u001b[43mess_empty\u001b[49m\u001b[43m,\u001b[49m\u001b[43m \u001b[49m\u001b[43mess_empty_dir\u001b[49m\u001b[38;5;241;43m=\u001b[39;49m\u001b[43mess_empty_dir\u001b[49m\n\u001b[1;32m    333\u001b[0m \u001b[43m        \u001b[49m\u001b[43m)\u001b[49m\n",
      "File \u001b[0;32m/usr/local/lib/python3.10/dist-packages/aiutil/filesystem.py:326\u001b[0m, in \u001b[0;36m_find_ess_empty\u001b[0;34m(path, ignore, ess_empty, ess_empty_dir)\u001b[0m\n\u001b[1;32m    323\u001b[0m \u001b[38;5;28;01mdef\u001b[39;00m \u001b[38;5;21m_find_ess_empty\u001b[39m(\n\u001b[1;32m    324\u001b[0m     path: Path, ignore: Callable, ess_empty: \u001b[38;5;28mdict\u001b[39m[Path, \u001b[38;5;28mbool\u001b[39m], ess_empty_dir: \u001b[38;5;28mlist\u001b[39m[Path]\n\u001b[1;32m    325\u001b[0m ):\n\u001b[0;32m--> 326\u001b[0m     \u001b[38;5;28;01mif\u001b[39;00m \u001b[43mis_ess_empty\u001b[49m\u001b[43m(\u001b[49m\u001b[43mpath\u001b[49m\u001b[38;5;241;43m=\u001b[39;49m\u001b[43mpath\u001b[49m\u001b[43m,\u001b[49m\u001b[43m \u001b[49m\u001b[43mignore\u001b[49m\u001b[38;5;241;43m=\u001b[39;49m\u001b[43mignore\u001b[49m\u001b[43m,\u001b[49m\u001b[43m \u001b[49m\u001b[43mess_empty\u001b[49m\u001b[38;5;241;43m=\u001b[39;49m\u001b[43mess_empty\u001b[49m\u001b[43m)\u001b[49m:\n\u001b[1;32m    327\u001b[0m         ess_empty_dir\u001b[38;5;241m.\u001b[39mappend(path)\n\u001b[1;32m    328\u001b[0m         \u001b[38;5;28;01mreturn\u001b[39;00m\n",
      "File \u001b[0;32m/usr/local/lib/python3.10/dist-packages/aiutil/filesystem.py:367\u001b[0m, in \u001b[0;36mis_ess_empty\u001b[0;34m(path, ignore, ess_empty)\u001b[0m\n\u001b[1;32m    365\u001b[0m \u001b[38;5;28;01mif\u001b[39;00m p\u001b[38;5;241m.\u001b[39mis_file():\n\u001b[1;32m    366\u001b[0m     \u001b[38;5;28;01mreturn\u001b[39;00m \u001b[38;5;28;01mFalse\u001b[39;00m\n\u001b[0;32m--> 367\u001b[0m \u001b[38;5;28;01mif\u001b[39;00m \u001b[38;5;129;01mnot\u001b[39;00m \u001b[43mis_ess_empty\u001b[49m\u001b[43m(\u001b[49m\u001b[43mp\u001b[49m\u001b[43m,\u001b[49m\u001b[43m \u001b[49m\u001b[43mignore\u001b[49m\u001b[38;5;241;43m=\u001b[39;49m\u001b[43mignore\u001b[49m\u001b[43m,\u001b[49m\u001b[43m \u001b[49m\u001b[43mess_empty\u001b[49m\u001b[38;5;241;43m=\u001b[39;49m\u001b[43mess_empty\u001b[49m\u001b[43m)\u001b[49m:\n\u001b[1;32m    368\u001b[0m     ess_empty[path] \u001b[38;5;241m=\u001b[39m \u001b[38;5;28;01mFalse\u001b[39;00m\n\u001b[1;32m    369\u001b[0m     \u001b[38;5;28;01mreturn\u001b[39;00m \u001b[38;5;28;01mFalse\u001b[39;00m\n",
      "File \u001b[0;32m/usr/local/lib/python3.10/dist-packages/aiutil/filesystem.py:350\u001b[0m, in \u001b[0;36mis_ess_empty\u001b[0;34m(path, ignore, ess_empty)\u001b[0m\n\u001b[1;32m    348\u001b[0m     path \u001b[38;5;241m=\u001b[39m Path(path)\n\u001b[1;32m    349\u001b[0m \u001b[38;5;28;01mif\u001b[39;00m \u001b[38;5;129;01mnot\u001b[39;00m path\u001b[38;5;241m.\u001b[39mexists():\n\u001b[0;32m--> 350\u001b[0m     \u001b[38;5;28;01mraise\u001b[39;00m \u001b[38;5;167;01mFileNotFoundError\u001b[39;00m(\u001b[38;5;124mf\u001b[39m\u001b[38;5;124m\"\u001b[39m\u001b[38;5;124mThe file \u001b[39m\u001b[38;5;132;01m{\u001b[39;00mpath\u001b[38;5;132;01m}\u001b[39;00m\u001b[38;5;124m does not exist!\u001b[39m\u001b[38;5;124m\"\u001b[39m)\n\u001b[1;32m    351\u001b[0m \u001b[38;5;28;01mif\u001b[39;00m \u001b[38;5;129;01mnot\u001b[39;00m os\u001b[38;5;241m.\u001b[39maccess(path, os\u001b[38;5;241m.\u001b[39mR_OK):\n\u001b[1;32m    352\u001b[0m     \u001b[38;5;28;01mreturn\u001b[39;00m \u001b[38;5;28;01mFalse\u001b[39;00m\n",
      "\u001b[0;31mFileNotFoundError\u001b[0m: The file /workdir/archives/blog/.venv/bin/python3 does not exist!"
     ]
    }
   ],
   "source": [
    "aiutil.filesystem.find_ess_empty(\".\")"
   ]
  },
  {
   "cell_type": "code",
   "execution_count": 12,
   "metadata": {},
   "outputs": [
    {
     "data": {
      "text/plain": [
       "[]"
      ]
     },
     "execution_count": 12,
     "metadata": {},
     "output_type": "execute_result"
    }
   ],
   "source": [
    "aiutil.filesystem.remove_ess_empty(\".\")"
   ]
  },
  {
   "cell_type": "code",
   "execution_count": 18,
   "metadata": {},
   "outputs": [],
   "source": [
    "def ignore(path: Union[str, Path]):\n",
    "    if isinstance(path, str):\n",
    "        path = Path(path)\n",
    "    if path.is_file():\n",
    "        return False\n",
    "    return all(\n",
    "        p.is_file() and p.suffix not in (\".markdown\", \".md\", \".ipynb\")\n",
    "        for p in path.iterdir()\n",
    "    )"
   ]
  },
  {
   "cell_type": "code",
   "execution_count": 20,
   "metadata": {},
   "outputs": [
    {
     "data": {
      "text/plain": [
       "[PosixPath('misc/content/2021/04/abc'),\n",
       " PosixPath('misc/content/2021/06/rust-crate-log/test_log/src'),\n",
       " PosixPath('misc/content/2021/10/serialize-and-deserialize-object-using-pickle-in-python'),\n",
       " PosixPath('misc/content/2019/12/bash-file-name/bash-file-name'),\n",
       " PosixPath('misc/content/2020/11/python-tips-traps/.jukit')]"
      ]
     },
     "execution_count": 20,
     "metadata": {},
     "output_type": "execute_result"
    }
   ],
   "source": [
    "aiutil.filesystem.find_ess_empty(\"misc/content/\", ignore)"
   ]
  },
  {
   "cell_type": "code",
   "execution_count": 26,
   "metadata": {},
   "outputs": [],
   "source": [
    "!rm -rf misc/content/2019/12/bash-file-name/bash-file-name"
   ]
  },
  {
   "cell_type": "markdown",
   "metadata": {},
   "source": [
    "## Posts Containing Conflicts"
   ]
  },
  {
   "cell_type": "code",
   "execution_count": 6,
   "metadata": {},
   "outputs": [
    {
     "name": "stdout",
     "output_type": "stream",
     "text": [
      "misc/content/2021/06/popular-databases/popular-databases.markdown\n"
     ]
    }
   ],
   "source": [
    "for path in Path().glob(\"*/*/20??/??/*/*\"):\n",
    "    if is_post(path) and \"<<<<<<< HEAD\" in path.read_text():\n",
    "        print(path)"
   ]
  },
  {
   "cell_type": "markdown",
   "metadata": {},
   "source": [
    "## Modified"
   ]
  },
  {
   "cell_type": "code",
   "execution_count": 4,
   "metadata": {
    "tags": []
   },
   "outputs": [],
   "source": [
    "for path in Path().glob(\"misc/*/20??/??/*/*\"):\n",
    "    if not is_post(path):\n",
    "        continue\n",
    "    record = Post(path).record()\n",
    "    if record.modified == NOW_DASH:\n",
    "        print(path)"
   ]
  },
  {
   "cell_type": "markdown",
   "metadata": {},
   "source": [
    "## Disclaimer"
   ]
  },
  {
   "cell_type": "markdown",
   "metadata": {},
   "source": [
    "### outdated"
   ]
  },
  {
   "cell_type": "code",
   "execution_count": 8,
   "metadata": {
    "tags": []
   },
   "outputs": [
    {
     "data": {
      "text/plain": [
       "'**\\nThings on this page are\\nfragmentary and immature notes/thoughts of the author.\\nPlease read with your own judgement!\\n**'"
      ]
     },
     "execution_count": 8,
     "metadata": {},
     "output_type": "execute_result"
    }
   ],
   "source": [
    "s = \"\"\"**\n",
    "Things on this page are\n",
    "fragmentary and immature notes/thoughts of the author.\n",
    "Please read with your own judgement!\n",
    "**\"\"\"\n",
    "s"
   ]
  },
  {
   "cell_type": "code",
   "execution_count": 5,
   "metadata": {
    "tags": []
   },
   "outputs": [],
   "source": [
    "olds = [\n",
    "    \"**\\nThings under legendu.net/outdated are outdated technologies that the author does not plan to update any more. Please look for better alternatives.\\n**\"\n",
    "]\n",
    "new = \"\"\"Things under legendu.net/outdated are outdated technologies that the author does not plan to update any more. Please look for better alternatives.\"\"\".strip()"
   ]
  },
  {
   "cell_type": "code",
   "execution_count": 12,
   "metadata": {
    "tags": []
   },
   "outputs": [],
   "source": [
    "for path in Path(\"misc/content\").glob(\"**/*.markdown\"):\n",
    "    text = path.read_text()\n",
    "    for old in olds:\n",
    "        text = text.replace(old, new)\n",
    "    with path.open(\"w\") as fout:\n",
    "        fout.write(text)"
   ]
  },
  {
   "cell_type": "code",
   "execution_count": 11,
   "metadata": {
    "tags": []
   },
   "outputs": [],
   "source": [
    "for path in Path(\"outdated/content\").glob(\"**/*.markdown\"):\n",
    "    text = path.read_text()\n",
    "    if not new in text and not new2 in text:\n",
    "        print(path)"
   ]
  },
  {
   "cell_type": "code",
   "execution_count": null,
   "metadata": {},
   "outputs": [],
   "source": []
  }
 ],
 "metadata": {
  "kernelspec": {
   "display_name": "Python 3 (ipykernel)",
   "language": "python",
   "name": "python3"
  },
  "language_info": {
   "codemirror_mode": {
    "name": "ipython",
    "version": 3
   },
   "file_extension": ".py",
   "mimetype": "text/x-python",
   "name": "python",
   "nbconvert_exporter": "python",
   "pygments_lexer": "ipython3",
   "version": "3.10.6"
  },
  "vscode": {
   "interpreter": {
    "hash": "e7370f93d1d0cde622a1f8e1c04877d8463912d04d973331ad4851f04de6915a"
   }
  }
 },
 "nbformat": 4,
 "nbformat_minor": 4
}
