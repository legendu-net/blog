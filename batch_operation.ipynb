{
 "cells": [
  {
   "cell_type": "code",
   "execution_count": 2,
   "metadata": {},
   "outputs": [],
   "source": [
    "from pathlib import Path\n",
    "import shutil\n",
    "import aiutil\n",
    "from blogger import is_post, Post, NOW_DASH"
   ]
  },
  {
   "cell_type": "markdown",
   "metadata": {},
   "source": [
    "## Essentially Empty Directories"
   ]
  },
  {
   "cell_type": "code",
   "execution_count": 4,
   "metadata": {},
   "outputs": [
    {
     "data": {
      "text/plain": [
       "[]"
      ]
     },
     "execution_count": 4,
     "metadata": {},
     "output_type": "execute_result"
    }
   ],
   "source": [
    "aiutil.filesystem.find_ess_empty(\".\")"
   ]
  },
  {
   "cell_type": "code",
   "execution_count": 3,
   "metadata": {},
   "outputs": [
    {
     "data": {
      "text/plain": [
       "[]"
      ]
     },
     "execution_count": 3,
     "metadata": {},
     "output_type": "execute_result"
    }
   ],
   "source": [
    "aiutil.filesystem.remove_ess_empty(\".\")"
   ]
  },
  {
   "cell_type": "markdown",
   "metadata": {},
   "source": [
    "## Posts Containing Conflicts"
   ]
  },
  {
   "cell_type": "code",
   "execution_count": 6,
   "metadata": {},
   "outputs": [
    {
     "name": "stdout",
     "output_type": "stream",
     "text": [
      "misc/content/2021/06/popular-databases/popular-databases.markdown\n"
     ]
    }
   ],
   "source": [
    "for path in Path().glob(\"*/*/20??/??/*/*\"):\n",
    "    if is_post(path) and \"<<<<<<< HEAD\" in path.read_text():\n",
    "        print(path)"
   ]
  },
  {
   "cell_type": "markdown",
   "metadata": {},
   "source": [
    "## Posts Containing \"Authors\" Instead of \"Author\""
   ]
  },
  {
   "cell_type": "code",
   "execution_count": 2,
   "metadata": {},
   "outputs": [
    {
     "name": "stdout",
     "output_type": "stream",
     "text": [
      "misc/content/2021/03/hands-on-python-library-tomlkit/hands-on-python-library-tomlkit.ipynb\n",
      "misc/content/2021/06/make-a-rust-project-both-a-library-and-a-binary/make-a-rust-project-both-a-library-and-a-binary.markdown\n",
      "misc/content/2021/09/multiple-lines-on-the-same-plot-in-holoviews/multiple-lines-on-the-same-plot-in-holoviews.ipynb\n",
      "misc/content/2019/12/tips-on-kaggle/tips-on-kaggle.markdown\n",
      "misc/content/2019/12/python-holoviews-best/python-holoviews-best.ipynb\n",
      "misc/content/2013/12/common-errors-in-bibliographies/common-errors-in-bibliographies.markdown\n",
      "en/content/2021/04/hands-on-python-library-toml/hands-on-python-library-toml.ipynb\n",
      "en/content/2021/09/visualize-Nvidia-GPU-usage/visualize-Nvidia-GPU-usage.ipynb\n",
      "en/content/2012/11/scientfic-reference/scientfic-reference.markdown\n"
     ]
    }
   ],
   "source": [
    "for path in Path().glob(\"*/*/20??/??/*/*\"):\n",
    "    if is_post(path) and \"authors\" in path.read_text().lower():\n",
    "        print(path)"
   ]
  },
  {
   "cell_type": "markdown",
   "metadata": {},
   "source": [
    "## Modified"
   ]
  },
  {
   "cell_type": "code",
   "execution_count": 4,
   "metadata": {},
   "outputs": [
    {
     "name": "stdout",
     "output_type": "stream",
     "text": [
      "misc/content/2021/06/popular-databases/popular-databases.markdown\n"
     ]
    }
   ],
   "source": [
    "for path in Path().glob(\"misc/*/20??/??/*/*\"):\n",
    "    if not is_post(path):\n",
    "        continue\n",
    "    record = Post(path).record()\n",
    "    if record.modified == NOW_DASH:\n",
    "        print(path)"
   ]
  },
  {
   "cell_type": "code",
   "execution_count": 8,
   "metadata": {},
   "outputs": [
    {
     "name": "stdout",
     "output_type": "stream",
     "text": [
      "Help on function record in module blogger:\n",
      "\n",
      "record(self) -> 'Record'\n",
      "\n"
     ]
    }
   ],
   "source": [
    "help(Post.record)"
   ]
  },
  {
   "cell_type": "markdown",
   "metadata": {},
   "source": [
    "## Disclaimer"
   ]
  },
  {
   "cell_type": "markdown",
   "metadata": {},
   "source": [
    "### misc"
   ]
  },
  {
   "cell_type": "code",
   "execution_count": 1,
   "metadata": {},
   "outputs": [],
   "source": [
    "s1 = \"It is not meant to readers\\nbut rather for convenient reference of the author and future improvement.\"\n",
    "s2 = \"Please read with your own judgement!\""
   ]
  },
  {
   "cell_type": "code",
   "execution_count": 2,
   "metadata": {},
   "outputs": [],
   "source": [
    "from pathlib import Path"
   ]
  },
  {
   "cell_type": "code",
   "execution_count": 3,
   "metadata": {},
   "outputs": [],
   "source": [
    "for path in Path(\"misc/content/\").glob(\"*.markdown\"):\n",
    "    text = path.read_text().replace(s1, s2)\n",
    "    with path.open(\"w\") as fout:\n",
    "        fout.write(text)"
   ]
  },
  {
   "cell_type": "markdown",
   "metadata": {},
   "source": [
    "### outdated"
   ]
  },
  {
   "cell_type": "code",
   "execution_count": 1,
   "metadata": {},
   "outputs": [],
   "source": [
    "olds = [\"\"\"\n",
    "Things on this page are\n",
    "fragmentary and immature notes/thoughts of the author.\n",
    "It is not meant to readers\n",
    "but rather for convenient reference of the author and future improvement.\n",
    "\"\"\".strip(),\n",
    "\"\"\"\n",
    "Things on this page are fragmentary and immature notes/thoughts of the author. \n",
    "Please read with your own judgement!\n",
    "\"\"\".strip(),\n",
    "\"\"\"\n",
    "Things on this page are\n",
    "fragmentary and immature notes/thoughts of the author.\n",
    "Please read with your own judgement!\n",
    "\"\"\".strip()\n",
    "]\n",
    "new = \"\"\"\n",
    "Things under legendu.net/outdated are outdated technologies \n",
    "that the author does not plan to update any more. \n",
    "Please look for better alternatives. \n",
    "\"\"\".strip()"
   ]
  },
  {
   "cell_type": "code",
   "execution_count": 5,
   "metadata": {},
   "outputs": [],
   "source": [
    "for path in Path(\"outdated/content\").glob(\"**/*.markdown\"):\n",
    "    text = path.read_text()\n",
    "    for old in olds:\n",
    "        text = text.replace(old, new)\n",
    "    with path.open(\"w\") as fout:\n",
    "        fout.write(text)"
   ]
  },
  {
   "cell_type": "code",
   "execution_count": null,
   "metadata": {},
   "outputs": [],
   "source": []
  }
 ],
 "metadata": {
  "kernelspec": {
   "display_name": "Python 3 (ipykernel)",
   "language": "python",
   "name": "python3"
  },
  "language_info": {
   "codemirror_mode": {
    "name": "ipython",
    "version": 3
   },
   "file_extension": ".py",
   "mimetype": "text/x-python",
   "name": "python",
   "nbconvert_exporter": "python",
   "pygments_lexer": "ipython3",
   "version": "3.10.4"
  }
 },
 "nbformat": 4,
 "nbformat_minor": 4
}
