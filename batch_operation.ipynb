{
 "cells": [
  {
   "cell_type": "code",
   "execution_count": 7,
   "metadata": {},
   "outputs": [],
   "source": [
    "from typing import Union\n",
    "from pathlib import Path\n",
    "import shutil\n",
    "import aiutil\n",
    "from blogger import is_post, Post, NOW_DASH"
   ]
  },
  {
   "cell_type": "markdown",
   "metadata": {},
   "source": [
    "## Essentially Empty Directories"
   ]
  },
  {
   "cell_type": "code",
   "execution_count": 8,
   "metadata": {},
   "outputs": [
    {
     "data": {
      "text/plain": [
       "[PosixPath('.git/branches'),\n",
       " PosixPath('.git/objects/info'),\n",
       " PosixPath('.git/refs/tags'),\n",
       " PosixPath('__pycache__'),\n",
       " PosixPath('cn/__pycache__'),\n",
       " PosixPath('cn/output/.git/branches'),\n",
       " PosixPath('cn/output/.git/objects/info'),\n",
       " PosixPath('cn/output/.git/objects/pack'),\n",
       " PosixPath('cn/output/.git/refs/tags'),\n",
       " PosixPath('en/__pycache__'),\n",
       " PosixPath('en/output'),\n",
       " PosixPath('home/__pycache__'),\n",
       " PosixPath('home/output/.git/branches'),\n",
       " PosixPath('home/output/.git/refs/tags'),\n",
       " PosixPath('home/output/.git/objects/pack'),\n",
       " PosixPath('home/output/.git/objects/info'),\n",
       " PosixPath('misc/__pycache__'),\n",
       " PosixPath('misc/content/2020/12/data-interchange-format'),\n",
       " PosixPath('misc/output/.git/branches'),\n",
       " PosixPath('misc/output/.git/objects/info'),\n",
       " PosixPath('misc/output/.git/objects/pack'),\n",
       " PosixPath('misc/output/.git/refs/tags'),\n",
       " PosixPath('outdated/__pycache__')]"
      ]
     },
     "execution_count": 8,
     "metadata": {},
     "output_type": "execute_result"
    }
   ],
   "source": [
    "aiutil.filesystem.find_ess_empty(\".\")"
   ]
  },
  {
   "cell_type": "code",
   "execution_count": 12,
   "metadata": {},
   "outputs": [
    {
     "data": {
      "text/plain": [
       "[]"
      ]
     },
     "execution_count": 12,
     "metadata": {},
     "output_type": "execute_result"
    }
   ],
   "source": [
    "aiutil.filesystem.remove_ess_empty(\".\")"
   ]
  },
  {
   "cell_type": "code",
   "execution_count": 18,
   "metadata": {},
   "outputs": [],
   "source": [
    "def ignore(path: Union[str, Path]):\n",
    "    if isinstance(path, str):\n",
    "        path = Path(path)\n",
    "    if path.is_file():\n",
    "        return False\n",
    "    return all(p.is_file() and p.suffix not in (\".markdown\", \".md\", \".ipynb\") for p in path.iterdir())"
   ]
  },
  {
   "cell_type": "code",
   "execution_count": 20,
   "metadata": {},
   "outputs": [
    {
     "data": {
      "text/plain": [
       "[PosixPath('misc/content/2021/04/abc'),\n",
       " PosixPath('misc/content/2021/06/rust-crate-log/test_log/src'),\n",
       " PosixPath('misc/content/2021/10/serialize-and-deserialize-object-using-pickle-in-python'),\n",
       " PosixPath('misc/content/2019/12/bash-file-name/bash-file-name'),\n",
       " PosixPath('misc/content/2020/11/python-tips-traps/.jukit')]"
      ]
     },
     "execution_count": 20,
     "metadata": {},
     "output_type": "execute_result"
    }
   ],
   "source": [
    "aiutil.filesystem.find_ess_empty(\"misc/content/\", ignore)"
   ]
  },
  {
   "cell_type": "code",
   "execution_count": 26,
   "metadata": {},
   "outputs": [],
   "source": [
    "!rm -rf misc/content/2019/12/bash-file-name/bash-file-name"
   ]
  },
  {
   "cell_type": "markdown",
   "metadata": {},
   "source": [
    "## Posts Containing Conflicts"
   ]
  },
  {
   "cell_type": "code",
   "execution_count": 6,
   "metadata": {},
   "outputs": [
    {
     "name": "stdout",
     "output_type": "stream",
     "text": [
      "misc/content/2021/06/popular-databases/popular-databases.markdown\n"
     ]
    }
   ],
   "source": [
    "for path in Path().glob(\"*/*/20??/??/*/*\"):\n",
    "    if is_post(path) and \"<<<<<<< HEAD\" in path.read_text():\n",
    "        print(path)"
   ]
  },
  {
   "cell_type": "markdown",
   "metadata": {},
   "source": [
    "## Modified"
   ]
  },
  {
   "cell_type": "code",
   "execution_count": 4,
   "metadata": {},
   "outputs": [
    {
     "name": "stdout",
     "output_type": "stream",
     "text": [
      "misc/content/2021/06/popular-databases/popular-databases.markdown\n"
     ]
    }
   ],
   "source": [
    "for path in Path().glob(\"misc/*/20??/??/*/*\"):\n",
    "    if not is_post(path):\n",
    "        continue\n",
    "    record = Post(path).record()\n",
    "    if record.modified == NOW_DASH:\n",
    "        print(path)"
   ]
  },
  {
   "cell_type": "code",
   "execution_count": 8,
   "metadata": {},
   "outputs": [
    {
     "name": "stdout",
     "output_type": "stream",
     "text": [
      "Help on function record in module blogger:\n",
      "\n",
      "record(self) -> 'Record'\n",
      "\n"
     ]
    }
   ],
   "source": [
    "help(Post.record)"
   ]
  },
  {
   "cell_type": "markdown",
   "metadata": {},
   "source": [
    "## Disclaimer"
   ]
  },
  {
   "cell_type": "markdown",
   "metadata": {},
   "source": [
    "### outdated"
   ]
  },
  {
   "cell_type": "code",
   "execution_count": 1,
   "metadata": {},
   "outputs": [],
   "source": [
    "olds = [\"\"\"\n",
    "Things on this page are\n",
    "fragmentary and immature notes/thoughts of the author.\n",
    "It is not meant to readers\n",
    "but rather for convenient reference of the author and future improvement.\n",
    "\"\"\".strip(),\n",
    "\"\"\"\n",
    "Things on this page are fragmentary and immature notes/thoughts of the author. \n",
    "Please read with your own judgement!\n",
    "\"\"\".strip(),\n",
    "\"\"\"\n",
    "Things on this page are\n",
    "fragmentary and immature notes/thoughts of the author.\n",
    "Please read with your own judgement!\n",
    "\"\"\".strip()\n",
    "]\n",
    "new = \"\"\"\n",
    "Things under legendu.net/outdated are outdated technologies \n",
    "that the author does not plan to update any more. \n",
    "Please look for better alternatives. \n",
    "\"\"\".strip()"
   ]
  },
  {
   "cell_type": "code",
   "execution_count": 2,
   "metadata": {},
   "outputs": [],
   "source": [
    "for path in Path(\"outdated/content\").glob(\"**/*.markdown\"):\n",
    "    text = path.read_text()\n",
    "    for old in olds:\n",
    "        text = text.replace(old, new)\n",
    "    with path.open(\"w\") as fout:\n",
    "        fout.write(text)"
   ]
  },
  {
   "cell_type": "code",
   "execution_count": null,
   "metadata": {},
   "outputs": [],
   "source": []
  }
 ],
 "metadata": {
  "kernelspec": {
   "display_name": "Python 3",
   "language": "python",
   "name": "python3"
  },
  "language_info": {
   "codemirror_mode": {
    "name": "ipython",
    "version": 3
   },
   "file_extension": ".py",
   "mimetype": "text/x-python",
   "name": "python",
   "nbconvert_exporter": "python",
   "pygments_lexer": "ipython3",
   "version": "3.10.6"
  },
  "vscode": {
   "interpreter": {
    "hash": "e7370f93d1d0cde622a1f8e1c04877d8463912d04d973331ad4851f04de6915a"
   }
  }
 },
 "nbformat": 4,
 "nbformat_minor": 4
}
