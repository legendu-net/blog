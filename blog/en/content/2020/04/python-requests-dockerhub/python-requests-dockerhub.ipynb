{
 "cells": [
  {
   "cell_type": "markdown",
   "metadata": {},
   "source": [
    "- Title: Deleting Docker Image Tags on DockerHub using the Python Module requests\n",
    "- Slug: python-requests-dockerhub\n",
    "- Date: 2020-04-06 18:24:23\n",
    "- Category: Computer Science\n",
    "- Tags: programming, Python, DockerHub, Docker Hub, Docker, image, tag, delete, requests, RESTful\n",
    "- Author: Ben Du\n",
    "- Modified: 2020-04-06 18:24:23\n"
   ]
  },
  {
   "cell_type": "markdown",
   "metadata": {},
   "source": [
    "## Tips\n",
    "\n",
    "\n",
    "1. You can use [Convert curl syntax to Python, Node.js, PHP, R](https://curl.trillworks.com/)\n",
    "    or [curlconverter](https://github.com/NickCarneiro/curlconverter/)\n",
    "    to convert CURL commands to Python requests code.\n",
    "    \n"
   ]
  },
  {
   "cell_type": "markdown",
   "metadata": {},
   "source": [
    "## Get All Tags of a Docker Image"
   ]
  },
  {
   "cell_type": "code",
   "execution_count": 1,
   "metadata": {},
   "outputs": [],
   "source": [
    "import requests"
   ]
  },
  {
   "cell_type": "code",
   "execution_count": 2,
   "metadata": {},
   "outputs": [
    {
     "data": {
      "text/plain": [
       "<Response [200]>"
      ]
     },
     "execution_count": 2,
     "metadata": {},
     "output_type": "execute_result"
    }
   ],
   "source": [
    "url = \"https://hub.docker.com/v2/repositories/dclong/jupyterhub-ds/tags/\"\n",
    "res = requests.get(url)\n",
    "res"
   ]
  },
  {
   "cell_type": "code",
   "execution_count": 4,
   "metadata": {},
   "outputs": [
    {
     "data": {
      "text/plain": [
       "[{'creator': 866262,\n",
       "  'id': 78982771,\n",
       "  'image_id': None,\n",
       "  'images': [{'architecture': 'amd64',\n",
       "    'features': '',\n",
       "    'variant': None,\n",
       "    'digest': 'sha256:9cc71546886c737af290a3d70103e63e8ffdcbf5c49a403cc2f466b4bee455e0',\n",
       "    'os': 'linux',\n",
       "    'os_features': '',\n",
       "    'os_version': None,\n",
       "    'size': 1603009050}],\n",
       "  'last_updated': '2020-03-29T00:42:36.291312Z',\n",
       "  'last_updater': 866262,\n",
       "  'last_updater_username': 'dclong',\n",
       "  'name': 'latest',\n",
       "  'repository': 1838633,\n",
       "  'full_size': 1603009050,\n",
       "  'v2': True},\n",
       " {'creator': 866262,\n",
       "  'id': 92776564,\n",
       "  'image_id': None,\n",
       "  'images': [{'architecture': 'amd64',\n",
       "    'features': '',\n",
       "    'variant': None,\n",
       "    'digest': 'sha256:9cc71546886c737af290a3d70103e63e8ffdcbf5c49a403cc2f466b4bee455e0',\n",
       "    'os': 'linux',\n",
       "    'os_features': '',\n",
       "    'os_version': None,\n",
       "    'size': 1603009050}],\n",
       "  'last_updated': '2020-03-29T00:42:43.407048Z',\n",
       "  'last_updater': 866262,\n",
       "  'last_updater_username': 'dclong',\n",
       "  'name': '200328',\n",
       "  'repository': 1838633,\n",
       "  'full_size': 1603009050,\n",
       "  'v2': True},\n",
       " {'creator': 866262,\n",
       "  'id': 80522269,\n",
       "  'image_id': None,\n",
       "  'images': [{'architecture': 'amd64',\n",
       "    'features': '',\n",
       "    'variant': None,\n",
       "    'digest': 'sha256:9cc71546886c737af290a3d70103e63e8ffdcbf5c49a403cc2f466b4bee455e0',\n",
       "    'os': 'linux',\n",
       "    'os_features': '',\n",
       "    'os_version': None,\n",
       "    'size': 1603009050}],\n",
       "  'last_updated': '2020-03-28T17:56:29.182608Z',\n",
       "  'last_updater': 866262,\n",
       "  'last_updater_username': 'dclong',\n",
       "  'name': 'next',\n",
       "  'repository': 1838633,\n",
       "  'full_size': 1603009050,\n",
       "  'v2': True},\n",
       " {'creator': 866262,\n",
       "  'id': 91939644,\n",
       "  'image_id': None,\n",
       "  'images': [{'architecture': 'amd64',\n",
       "    'features': '',\n",
       "    'variant': None,\n",
       "    'digest': 'sha256:acb385b55453255fa1cdd984227e7a010ed9acbc6f6a3f5dd3b55f0a95160118',\n",
       "    'os': 'linux',\n",
       "    'os_features': '',\n",
       "    'os_version': None,\n",
       "    'size': 1939413195}],\n",
       "  'last_updated': '2020-03-23T23:44:29.506295Z',\n",
       "  'last_updater': 866262,\n",
       "  'last_updater_username': 'dclong',\n",
       "  'name': '200323',\n",
       "  'repository': 1838633,\n",
       "  'full_size': 1939413195,\n",
       "  'v2': True},\n",
       " {'creator': 866262,\n",
       "  'id': 91756137,\n",
       "  'image_id': None,\n",
       "  'images': [{'architecture': 'amd64',\n",
       "    'features': '',\n",
       "    'variant': None,\n",
       "    'digest': 'sha256:db0d72d5f0611e7edb7a8b37ee095b692ebde18fb45ec7549bad0dd11b812e3a',\n",
       "    'os': 'linux',\n",
       "    'os_features': '',\n",
       "    'os_version': None,\n",
       "    'size': 1941758508}],\n",
       "  'last_updated': '2020-03-22T09:37:22.329669Z',\n",
       "  'last_updater': 866262,\n",
       "  'last_updater_username': 'dclong',\n",
       "  'name': '200322',\n",
       "  'repository': 1838633,\n",
       "  'full_size': 1941758508,\n",
       "  'v2': True},\n",
       " {'creator': 866262,\n",
       "  'id': 90270919,\n",
       "  'image_id': None,\n",
       "  'images': [{'architecture': 'amd64',\n",
       "    'features': '',\n",
       "    'variant': None,\n",
       "    'digest': 'sha256:f9ab05f682af5f91b36e4c54d2170c6f6a5a6b5a95774dab85fa67446362b4e1',\n",
       "    'os': 'linux',\n",
       "    'os_features': '',\n",
       "    'os_version': None,\n",
       "    'size': 1496134944}],\n",
       "  'last_updated': '2020-03-12T00:30:18.53872Z',\n",
       "  'last_updater': 866262,\n",
       "  'last_updater_username': 'dclong',\n",
       "  'name': '200312',\n",
       "  'repository': 1838633,\n",
       "  'full_size': 1496134944,\n",
       "  'v2': True},\n",
       " {'creator': 866262,\n",
       "  'id': 89804112,\n",
       "  'image_id': None,\n",
       "  'images': [{'architecture': 'amd64',\n",
       "    'features': '',\n",
       "    'variant': None,\n",
       "    'digest': 'sha256:50503edbd3965932ea6829c6c93dfc53f76c5cd84a40f5ac8fd18e4b4a41bba0',\n",
       "    'os': 'linux',\n",
       "    'os_features': '',\n",
       "    'os_version': None,\n",
       "    'size': 1482447679}],\n",
       "  'last_updated': '2020-03-09T01:38:59.53255Z',\n",
       "  'last_updater': 866262,\n",
       "  'last_updater_username': 'dclong',\n",
       "  'name': '200309',\n",
       "  'repository': 1838633,\n",
       "  'full_size': 1482447679,\n",
       "  'v2': True},\n",
       " {'creator': 866262,\n",
       "  'id': 89795707,\n",
       "  'image_id': None,\n",
       "  'images': [{'architecture': 'amd64',\n",
       "    'features': '',\n",
       "    'variant': None,\n",
       "    'digest': 'sha256:50503edbd3965932ea6829c6c93dfc53f76c5cd84a40f5ac8fd18e4b4a41bba0',\n",
       "    'os': 'linux',\n",
       "    'os_features': '',\n",
       "    'os_version': None,\n",
       "    'size': 1482447679}],\n",
       "  'last_updated': '2020-03-08T23:20:10.409408Z',\n",
       "  'last_updater': 866262,\n",
       "  'last_updater_username': 'dclong',\n",
       "  'name': '200308',\n",
       "  'repository': 1838633,\n",
       "  'full_size': 1482447679,\n",
       "  'v2': True}]"
      ]
     },
     "execution_count": 4,
     "metadata": {},
     "output_type": "execute_result"
    }
   ],
   "source": [
    "res.json()[\"results\"]"
   ]
  },
  {
   "cell_type": "markdown",
   "metadata": {},
   "source": [
    "## Get Token for Authentication\n",
    "\n",
    "You need authentication to delete a tag from a Docker Image on DockerHub."
   ]
  },
  {
   "cell_type": "code",
   "execution_count": 146,
   "metadata": {},
   "outputs": [],
   "source": [
    "res = requests.post(\n",
    "    url=\"https://hub.docker.com/v2/users/login/\",\n",
    "    data={\n",
    "        \"username\": \"YOUR_USER_NAME\",\n",
    "        \"password\": \"YOUR_PASSWORD\"\n",
    "    },\n",
    ")"
   ]
  },
  {
   "cell_type": "markdown",
   "metadata": {},
   "source": [
    "Once the above POST comamnd is executed successfully,\n",
    "the token can be extracted using the following statement."
   ]
  },
  {
   "cell_type": "code",
   "execution_count": null,
   "metadata": {},
   "outputs": [],
   "source": [
    "res.json()[\"token\"]"
   ]
  },
  {
   "cell_type": "markdown",
   "metadata": {},
   "source": [
    "## Deleting a Tag of a Docker Image\n",
    "\n",
    "The example below delete the tag `200302` from the Docker image \n",
    "[dclong/jupyterhub-ds](https://github.com/dclong/docker-jupyterhub-ds)."
   ]
  },
  {
   "cell_type": "code",
   "execution_count": 156,
   "metadata": {},
   "outputs": [
    {
     "data": {
      "text/plain": [
       "<Response [204]>"
      ]
     },
     "execution_count": 156,
     "metadata": {},
     "output_type": "execute_result"
    }
   ],
   "source": [
    "url = \"https://hub.docker.com/v2/repositories/dclong/jupyterhub-ds/tags/200302/\"\n",
    "requests.delete(\n",
    "    url,\n",
    "    headers={\n",
    "        \"Content-Type\": \"application/json\",\n",
    "        \"Authorization\": f\"JWT {res.json()['token']}\"\n",
    "    }\n",
    ")"
   ]
  },
  {
   "cell_type": "markdown",
   "metadata": {},
   "source": [
    "## References\n",
    "\n",
    "- [Authentication for Requests](https://requests.readthedocs.io/en/master/user/authentication/)\n",
    "\n",
    "- [Python requests library how to pass Authorization header with single token](https://stackoverflow.com/questions/19069701/python-requests-library-how-to-pass-authorization-header-with-single-token)\n",
    "\n",
    "- [How do I delete a docker image from docker hub via command line?](https://stackoverflow.com/questions/44209644/how-do-i-delete-a-docker-image-from-docker-hub-via-command-line/44218747)\n",
    "\n",
    "- [How to purge Docker images, containers, networks or volumes](https://devopsheaven.com/docker/volumes/purge/devops/2018/05/25/purge-docker-images-containers-networks-volumes.html)\n",
    "\n",
    "- [How to delete a Docker image tag from Docker Hub registry](https://devopsheaven.com/docker/dockerhub/2018/04/09/delete-docker-image-tag-dockerhub.html)"
   ]
  }
 ],
 "metadata": {
  "kernelspec": {
   "display_name": "Python 3",
   "language": "python",
   "name": "python3"
  },
  "language_info": {
   "codemirror_mode": {
    "name": "ipython",
    "version": 3
   },
   "file_extension": ".py",
   "mimetype": "text/x-python",
   "name": "python",
   "nbconvert_exporter": "python",
   "pygments_lexer": "ipython3",
   "version": "3.8.5"
  }
 },
 "nbformat": 4,
 "nbformat_minor": 4
}