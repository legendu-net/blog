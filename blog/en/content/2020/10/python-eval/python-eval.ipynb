{
 "cells": [
  {
   "cell_type": "markdown",
   "metadata": {},
   "source": [
    "- Title: The eval Function in Python\n",
    "- Slug: the-eval-function-in-python\n",
    "- Date: 2020-10-10 12:26:47\n",
    "- Category: Computer Science\n",
    "- Tags: programming, Python, eval, ast\n",
    "- Author: Ben Du\n",
    "- Modified: 2020-10-10 12:26:47\n"
   ]
  },
  {
   "cell_type": "markdown",
   "metadata": {},
   "source": [
    "The function `eval` takes a single line of code as string,\n",
    "evaluates it,\n",
    "and returns the value.\n",
    "Notice that objects in the evaluated expression \n",
    "must be present in the current scope,\n",
    "otherwise, \n",
    "exceptions will be thrown.\n",
    "\n",
    "Even though `eval` (together with `exec`) might be useful in some situations,\n",
    "e.g., when implementing a REPL. \n",
    "It is strongly suggested that you avoid using `eval` in your Python code. \n",
    "Notice that some use cases of `eval` can be replaced with `getattr`.\n"
   ]
  },
  {
   "cell_type": "code",
   "execution_count": 3,
   "metadata": {},
   "outputs": [
    {
     "data": {
      "text/plain": [
       "[1, 2, 3]"
      ]
     },
     "execution_count": 3,
     "metadata": {},
     "output_type": "execute_result"
    }
   ],
   "source": [
    "expr = \"[1, 2, 3]\"\n",
    "my_list = eval(expr)\n",
    "my_list"
   ]
  },
  {
   "cell_type": "code",
   "execution_count": 6,
   "metadata": {},
   "outputs": [
    {
     "data": {
      "text/plain": [
       "[1, 2, 3, 1, 2, 3]"
      ]
     },
     "execution_count": 6,
     "metadata": {},
     "output_type": "execute_result"
    }
   ],
   "source": [
    "eval(\"[1, 2, 3] * 2\")"
   ]
  },
  {
   "cell_type": "code",
   "execution_count": 9,
   "metadata": {},
   "outputs": [
    {
     "data": {
      "text/plain": [
       "[1, 2, 3]"
      ]
     },
     "execution_count": 9,
     "metadata": {},
     "output_type": "execute_result"
    }
   ],
   "source": [
    "import ast\n",
    "expr = \"[1, 2, 3]\"\n",
    "ast.literal_eval(expr)"
   ]
  },
  {
   "cell_type": "code",
   "execution_count": null,
   "metadata": {},
   "outputs": [],
   "source": []
  }
 ],
 "metadata": {
  "kernelspec": {
   "display_name": "Python 3",
   "language": "python",
   "name": "python3"
  },
  "language_info": {
   "codemirror_mode": {
    "name": "ipython",
    "version": 3
   },
   "file_extension": ".py",
   "mimetype": "text/x-python",
   "name": "python",
   "nbconvert_exporter": "python",
   "pygments_lexer": "ipython3",
   "version": "3.8.5-final"
  }
 },
 "nbformat": 4,
 "nbformat_minor": 4
}