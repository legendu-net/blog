{
 "nbformat": 4,
 "nbformat_minor": 2,
 "metadata": {
  "language_info": {
   "name": "python",
   "codemirror_mode": {
    "name": "ipython",
    "version": 3
   }
  },
  "orig_nbformat": 2,
  "file_extension": ".py",
  "mimetype": "text/x-python",
  "name": "python",
  "npconvert_exporter": "python",
  "pygments_lexer": "ipython3",
  "version": 3
 },
 "cells": [
  {
   "cell_type": "markdown",
   "metadata": {},
   "source": [
    "- Author: Ben Du\n",
    "- Date: 2021-04-26 10:01:20\n",
    "- Title: Auto Rename eTrade Employee Stock Plan Release Confirmations Using pdftotext\n",
    "- Slug: auto-rename-eTrade-EMPLOYEE-STOCK-PLAN-RELEASE-CONFIRMATION-using-pdftotext\n",
    "- Category: Computer Science\n",
    "- Tags: Computer Science, programming, Python, PDF, text, extract, pdftotext\n",
    "- Modified: 2021-03-26 10:01:20\n"
   ]
  },
  {
   "source": [
    "## Install pdftotext"
   ],
   "cell_type": "markdown",
   "metadata": {}
  },
  {
   "cell_type": "code",
   "execution_count": null,
   "metadata": {},
   "outputs": [],
   "source": [
    "!wajig install build-essential libpoppler-cpp-dev pkg-config python3-dev"
   ]
  },
  {
   "cell_type": "code",
   "execution_count": null,
   "metadata": {},
   "outputs": [],
   "source": [
    "!pip3 install pdftotext"
   ]
  },
  {
   "source": [
    "## Auto Rename PDF Files"
   ],
   "cell_type": "markdown",
   "metadata": {}
  },
  {
   "cell_type": "code",
   "execution_count": null,
   "metadata": {},
   "outputs": [],
   "source": [
    "from typing import Union\n",
    "from pathlib import Path\n",
    "import shutil\n",
    "import re\n",
    "import pdftotext\n",
    "\n",
    "\n",
    "def _extract_text(path: Path) -> str:\n",
    "    with path.open(\"rb\") as fin:\n",
    "        pdf = pdftotext.PDF(fin)\n",
    "    return (\"=\" * 80).join(pdf)\n",
    "\n",
    "\n",
    "def _parse_date(text, keywords) -> str:\n",
    "    date = re.search(keywords + r\"\\s+(\\d{2}-\\d{2}-\\d{4})\", text).group(1)\n",
    "    date = date.replace(\"-\", \"\")\n",
    "    return date[4:] + date[:4]\n",
    "\n",
    "\n",
    "def rename_pdf(path: Union[str, Path]) -> None:\n",
    "    if isinstance(path, str):\n",
    "        path = Path(path)\n",
    "    text = _extract_text(path)\n",
    "    award_num = re.search(r\"Award Number\\s+(\\d+)\", text).group(1)\n",
    "    award_date = _parse_date(text, \"Award Date\")\n",
    "    release_date = _parse_date(text, \"Release Date\")\n",
    "    name = f\"{award_num}_{award_date}_{release_date}.pdf\"\n",
    "    try:\n",
    "        shutil.move(path, path.with_name(name))\n",
    "    except FileExistsError:\n",
    "        print(f\"{path} has duplicate file!\")"
   ]
  },
  {
   "cell_type": "code",
   "execution_count": null,
   "metadata": {},
   "outputs": [],
   "source": [
    "for path in Path().glob(\"*.pdf\"):\n",
    "    rename_pdf(path)"
   ]
  },
  {
   "source": [
    "## References \n",
    "\n",
    "https://github.com/jalan/pdftotext"
   ],
   "cell_type": "markdown",
   "metadata": {}
  },
  {
   "cell_type": "code",
   "execution_count": null,
   "metadata": {},
   "outputs": [],
   "source": []
  }
 ]
}