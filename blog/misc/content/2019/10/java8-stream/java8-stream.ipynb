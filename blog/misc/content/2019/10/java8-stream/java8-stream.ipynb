{
 "cells": [
  {
   "cell_type": "markdown",
   "metadata": {},
   "source": [
    "- Title: Hands on the Stream Object in Java 8\n",
    "- Slug: hands-on-stream-object-java8\n",
    "- Date: 2019-10-26\n",
    "- Category: Computer Science\n",
    "- Tags: programming, JVM, Java 8, Stream\n",
    "- Author: Ben Du\n",
    "- Modified: 2019-10-26\n"
   ]
  },
  {
   "cell_type": "markdown",
   "metadata": {},
   "source": [
    "## Comemnts\n",
    "\n",
    "1. Stream (introduced in Java 8) brings functional programming into Java\n",
    "    so that coding in Java is easier and faster\n",
    "    but at the cost of performance.\n",
    "    Code written in Stream is slower than non-stream and lambda based Java code, generally speaking.\n",
    "    \n",
    "2. The method `Stream.map` is not friendly on conversion to Arrays. \n",
    "    `Stream.mapToInt`, `Stream.mapToLong`, etc. are better alternatives \n",
    "    if you need to to convert a Stream object to an Array."
   ]
  },
  {
   "cell_type": "markdown",
   "metadata": {},
   "source": [
    "## Stream.filter"
   ]
  },
  {
   "cell_type": "code",
   "execution_count": 14,
   "metadata": {},
   "outputs": [
    {
     "name": "stdout",
     "output_type": "stream",
     "text": [
      "8.0\n",
      "7.0\n",
      "5.0\n"
     ]
    },
    {
     "data": {
      "text/plain": [
       "null"
      ]
     },
     "execution_count": 14,
     "metadata": {},
     "output_type": "execute_result"
    }
   ],
   "source": [
    "import java.util.Arrays;\n",
    "double[] arr = {8, 7, -6, 5, -4};\n",
    "arr = Arrays.stream(arr).filter(x -> x > 0).toArray();\n",
    "for (double elem : arr) {\n",
    "    System.out.println(elem);\n",
    "}"
   ]
  },
  {
   "cell_type": "markdown",
   "metadata": {},
   "source": [
    "## Sum Integer Values"
   ]
  },
  {
   "cell_type": "markdown",
   "metadata": {},
   "source": [
    "https://stackoverflow.com/questions/30125296/how-to-sum-a-list-of-integers-with-java-streams"
   ]
  },
  {
   "cell_type": "code",
   "execution_count": null,
   "metadata": {},
   "outputs": [],
   "source": [
    "integers.values().stream().mapToInt(i -> i.intValue()).sum();\n",
    "integers.values().stream().mapToInt(Integer::intValue).sum();"
   ]
  },
  {
   "cell_type": "markdown",
   "metadata": {},
   "source": [
    "## Taking Elements By Indexes"
   ]
  },
  {
   "cell_type": "code",
   "execution_count": null,
   "metadata": {},
   "outputs": [],
   "source": [
    "Card[] threeCards = (Card[]) Arrays.stream(index).mapToObj(i -> leftCards[i]).toArray();"
   ]
  },
  {
   "cell_type": "markdown",
   "metadata": {},
   "source": [
    "## Convert a Stream to a Primitive Array"
   ]
  },
  {
   "cell_type": "markdown",
   "metadata": {},
   "source": [
    "You can call the `Stream.mapTo*` method (NOT `Stream.map`) followed by `Stream.toArray` to convert a Stream to a primitive Array."
   ]
  },
  {
   "cell_type": "code",
   "execution_count": 7,
   "metadata": {},
   "outputs": [
    {
     "name": "stdout",
     "output_type": "stream",
     "text": [
      "3\n",
      "5\n",
      "5\n",
      "3\n",
      "5\n",
      "4\n",
      "3\n",
      "4\n",
      "3\n"
     ]
    },
    {
     "data": {
      "text/plain": [
       "null"
      ]
     },
     "execution_count": 7,
     "metadata": {},
     "output_type": "execute_result"
    }
   ],
   "source": [
    "import java.util.Arrays;\n",
    "\n",
    "String[] words = new String[] {\"The\", \"quick\", \"brown\", \"fox\", \"jumps\", \"over\", \"the\", \"lazy\", \"dog\"};\n",
    "int[] lens = Arrays.stream(words).mapToInt(word -> word.length()).toArray();\n",
    "for(int len : lens){\n",
    "    System.out.println(len);\n",
    "}"
   ]
  },
  {
   "cell_type": "markdown",
   "metadata": {},
   "source": [
    "Calling `Stream.map` followed `Stream.toArray` cannot convert a Stream to a primitive array."
   ]
  },
  {
   "cell_type": "code",
   "execution_count": 9,
   "metadata": {},
   "outputs": [
    {
     "ename": "incompatible types",
     "evalue": " java.lang.Object[] cannot be converted to int[]",
     "output_type": "error",
     "text": "incompatible types: java.lang.Object[] cannot be converted to int[]\n int[] lens = Arrays.stream(words).map(word -> word.length()).toArray()\n              ^                                                        ^ \n\n",
     "traceback": [
      "\u001b[1;31mincompatible types: java.lang.Object[] cannot be converted to int[]\u001b[0;0m",
      "\u001b[1;31m int[] lens = Arrays.stream(words).map(word -> word.length()).toArray()\u001b[0;0m",
      "\u001b[1;31m              ^                                                        ^ \u001b[0;0m"
     ]
    }
   ],
   "source": [
    "import java.util.Arrays;\n",
    "\n",
    "String[] words = new String[] {\"The\", \"quick\", \"brown\", \"fox\", \"jumps\", \"over\", \"the\", \"lazy\", \"dog\"};\n",
    "int[] lens = Arrays.stream(words).map(word -> word.length()).toArray();"
   ]
  },
  {
   "cell_type": "markdown",
   "metadata": {},
   "source": [
    "## Convert A Stream to an Object Array"
   ]
  },
  {
   "cell_type": "code",
   "execution_count": 12,
   "metadata": {},
   "outputs": [
    {
     "name": "stdout",
     "output_type": "stream",
     "text": [
      "3\n",
      "5\n",
      "5\n",
      "3\n",
      "5\n",
      "4\n",
      "3\n",
      "4\n",
      "3\n"
     ]
    },
    {
     "data": {
      "text/plain": [
       "null"
      ]
     },
     "execution_count": 12,
     "metadata": {},
     "output_type": "execute_result"
    }
   ],
   "source": [
    "import java.util.Arrays;\n",
    "\n",
    "String[] words = new String[] {\"The\", \"quick\", \"brown\", \"fox\", \"jumps\", \"over\", \"the\", \"lazy\", \"dog\"};\n",
    "Integer[] lens = Arrays.stream(words).map(word -> word.length()).toArray(Integer[]::new);\n",
    "for(int len : lens){\n",
    "    System.out.println(len);\n",
    "}"
   ]
  },
  {
   "cell_type": "markdown",
   "metadata": {},
   "source": [
    "## References\n",
    "\n",
    "https://blog.overops.com/benchmark-how-java-8-lambdas-and-streams-can-make-your-code-5-times-slower/\n",
    "\n",
    "https://blog.jooq.org/2015/12/08/3-reasons-why-you-shouldnt-replace-your-for-loops-by-stream-foreach/\n",
    "\n",
    "https://stackoverflow.com/questions/23079003/how-to-convert-a-java-8-stream-to-an-array\n",
    "\n",
    "https://www.mkyong.com/java8/java-8-how-to-convert-a-stream-to-array/"
   ]
  }
 ],
 "metadata": {
  "kernelspec": {
   "display_name": "Java",
   "language": "java",
   "name": "java"
  },
  "language_info": {
   "codemirror_mode": "text/x-java",
   "file_extension": ".java",
   "mimetype": "",
   "name": "Java",
   "nbconverter_exporter": "",
   "version": "1.8.0_222"
  }
 },
 "nbformat": 4,
 "nbformat_minor": 4
}