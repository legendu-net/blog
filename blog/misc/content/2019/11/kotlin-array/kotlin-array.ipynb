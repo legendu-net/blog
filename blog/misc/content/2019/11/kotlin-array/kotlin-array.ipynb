{
 "cells": [
  {
   "cell_type": "markdown",
   "metadata": {},
   "source": [
    "- Title: Array in Kotlin \n",
    "- Slug: array-kotlin\n",
    "- Date: 2019-11-18\n",
    "- Category: Computer Science\n",
    "- Tags: programming, Kotlin, JVM, collections, Array\n",
    "- Author: Ben Du\n",
    "- Modified: 2019-11-18\n"
   ]
  },
  {
   "cell_type": "markdown",
   "metadata": {},
   "source": [
    "## Comments\n",
    "\n",
    "1. An array in Java is not an `Iterable` (due to design reasons).\n",
    "    There is no super class of array and `Iterable` either in Java.\n",
    "    If you want a method to support both array and `Iterable` as the parameter,\n",
    "    you need to overload it (for both array and `Iterable`.)\n",
    "    It is the same situation in Kotlin as Kotlin is mostly Java."
   ]
  },
  {
   "cell_type": "markdown",
   "metadata": {},
   "source": [
    "## [IntArray vs Array<Int> in Kotlin](https://stackoverflow.com/questions/45090808/intarray-vs-arrayint-in-kotlin)\n",
    "    \n",
    "Array<Int> is an Integer[] under the hood\n",
    "while IntArray is an int[]."
   ]
  },
  {
   "cell_type": "code",
   "execution_count": 1,
   "metadata": {},
   "outputs": [
    {
     "data": {
      "text/plain": [
       "[0, 0, 0, 0, 0]"
      ]
     },
     "execution_count": 1,
     "metadata": {},
     "output_type": "execute_result"
    }
   ],
   "source": [
    "IntArray(5)"
   ]
  },
  {
   "cell_type": "code",
   "execution_count": 2,
   "metadata": {},
   "outputs": [
    {
     "data": {
      "text/plain": [
       "[0, 1, 2, 3, 4]"
      ]
     },
     "execution_count": 2,
     "metadata": {},
     "output_type": "execute_result"
    }
   ],
   "source": [
    "IntArray(5, {\n",
    "    i: Int -> i\n",
    "})"
   ]
  },
  {
   "cell_type": "code",
   "execution_count": 1,
   "metadata": {},
   "outputs": [
    {
     "data": {
      "text/plain": [
       "[10, 20, 30]"
      ]
     },
     "execution_count": 1,
     "metadata": {},
     "output_type": "execute_result"
    }
   ],
   "source": [
    "intArrayOf(10, 20, 30)"
   ]
  },
  {
   "cell_type": "markdown",
   "metadata": {},
   "source": [
    "## [Array is NOT Iterable!](https://kotlinlang.org/api/latest/jvm/stdlib/kotlin.collections/as-iterable.html )\n",
    "\n",
    "Array in Kotlin is not Iterable (similar to that in Java).\n",
    "However,\n",
    "you can call the `asIterable` to make convert it to an Iterable object.\n",
    "Or you can return a List object by calling the method `toList`."
   ]
  },
  {
   "cell_type": "markdown",
   "metadata": {},
   "source": [
    "## References\n",
    "\n",
    "https://kotlinlang.org/api/latest/jvm/stdlib/kotlin.collections/as-iterable.html"
   ]
  },
  {
   "cell_type": "code",
   "execution_count": null,
   "metadata": {},
   "outputs": [],
   "source": []
  }
 ],
 "metadata": {
  "kernelspec": {
   "display_name": "Kotlin",
   "language": "kotlin",
   "name": "kotlin"
  },
  "language_info": {
   "codemirror_mode": "text/x-kotlin",
   "file_extension": ".kt",
   "mimetype": "text/x-kotlin",
   "name": "kotlin",
   "pygments_lexer": "kotlin",
   "version": "1.4.20-dev-2342"
  }
 },
 "nbformat": 4,
 "nbformat_minor": 4
}