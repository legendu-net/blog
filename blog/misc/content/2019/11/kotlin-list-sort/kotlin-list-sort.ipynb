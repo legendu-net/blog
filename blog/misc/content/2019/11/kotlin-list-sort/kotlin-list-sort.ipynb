{
 "cells": [
  {
   "cell_type": "markdown",
   "metadata": {},
   "source": [
    "- Title: Sort a List in Kotlin \n",
    "- Slug: kotlin-list-sort\n",
    "- Date: 2019-11-18\n",
    "- Category: Computer Science\n",
    "- Tags: programming, Kotlin, JVM, collections, List, sorting, sort\n",
    "- Author: Ben Du\n",
    "- Modified: 2019-11-18\n"
   ]
  },
  {
   "cell_type": "markdown",
   "metadata": {},
   "source": [
    "## sorted\n",
    "\n",
    "If elements in a List implements the Comparable interface,\n",
    "you can call the method `sorted` to return a sorted List (in nature order).\n",
    "\n",
    "Note: Pair in Kotin does not implement the Comparable interface!!!"
   ]
  },
  {
   "cell_type": "code",
   "execution_count": 7,
   "metadata": {},
   "outputs": [
    {
     "data": {
      "text/plain": [
       "[2, 3, 5, 9]"
      ]
     },
     "execution_count": 7,
     "metadata": {},
     "output_type": "execute_result"
    }
   ],
   "source": [
    "listOf(5, 9, 3, 2).sorted()"
   ]
  },
  {
   "cell_type": "code",
   "execution_count": 2,
   "metadata": {},
   "outputs": [
    {
     "data": {
      "text/plain": [
       "[(5, 7), (5, 3), (1, 2), (2, 3), (1, 9)]"
      ]
     },
     "execution_count": 2,
     "metadata": {},
     "output_type": "execute_result"
    }
   ],
   "source": [
    "val listPairs = listOf(Pair(5, 7), Pair(5, 3), Pair(1, 2), Pair(2, 3), Pair(1, 9))\n",
    "listPairs"
   ]
  },
  {
   "cell_type": "code",
   "execution_count": 4,
   "metadata": {},
   "outputs": [
    {
     "ename": "error",
     "evalue": " type parameter bound for T in fun <T ",
     "output_type": "error",
     "text": "error: type parameter bound for T in fun <T : Comparable<T>> Iterable<T>.sorted(): List<T>\n is not satisfied: inferred type Pair<Int, Int> is not a subtype of Comparable<Pair<Int, Int>>\nlistPairs.sorted()\n          ^\n",
     "traceback": [
      "\u001b[1;31merror: type parameter bound for T in fun <T : Comparable<T>> Iterable<T>.sorted(): List<T>\u001b[0;0m",
      "\u001b[1;31m is not satisfied: inferred type Pair<Int, Int> is not a subtype of Comparable<Pair<Int, Int>>\u001b[0;0m",
      "\u001b[1;31mlistPairs.sorted()\u001b[0;0m",
      "\u001b[1;31m          ^\u001b[0;0m"
     ]
    }
   ],
   "source": [
    "listPairs.sorted()"
   ]
  },
  {
   "cell_type": "markdown",
   "metadata": {},
   "source": [
    "## sortedBy"
   ]
  },
  {
   "cell_type": "code",
   "execution_count": 7,
   "metadata": {},
   "outputs": [
    {
     "data": {
      "text/plain": [
       "[(1, 2), (1, 9), (2, 3), (5, 7), (5, 3)]"
      ]
     },
     "execution_count": 7,
     "metadata": {},
     "output_type": "execute_result"
    }
   ],
   "source": [
    "listPairs.sortedBy{ it.first }"
   ]
  },
  {
   "cell_type": "markdown",
   "metadata": {},
   "source": [
    "## sortedWith"
   ]
  },
  {
   "cell_type": "code",
   "execution_count": 5,
   "metadata": {},
   "outputs": [
    {
     "data": {
      "text/plain": [
       "[(1, 2), (1, 9), (2, 3), (5, 3), (5, 7)]"
      ]
     },
     "execution_count": 5,
     "metadata": {},
     "output_type": "execute_result"
    }
   ],
   "source": [
    "listPairs.sortedWith(compareBy({it.first}, {it.second}))"
   ]
  },
  {
   "cell_type": "markdown",
   "metadata": {},
   "source": [
    "## References\n",
    "\n",
    "https://stackoverflow.com/questions/33640864/how-to-sort-based-on-compare-multiple-values-in-kotlin\n",
    "\n",
    "https://kotlinlang.org/api/latest/jvm/stdlib/kotlin.collections/sort.html\n",
    "\n",
    "https://www.baeldung.com/kotlin-sort\n",
    "\n",
    "https://kotlinlang.org/api/latest/jvm/stdlib/kotlin.comparisons/natural-order.html"
   ]
  },
  {
   "cell_type": "code",
   "execution_count": null,
   "metadata": {},
   "outputs": [],
   "source": []
  }
 ],
 "metadata": {
  "kernelspec": {
   "display_name": "Kotlin",
   "language": "kotlin",
   "name": "kotlin"
  },
  "language_info": {
   "codemirror_mode": "kotlin",
   "file_extension": ".kt",
   "mimetype": "",
   "name": "Kotlin",
   "nbconverter_exporter": "",
   "version": "1.2.21"
  }
 },
 "nbformat": 4,
 "nbformat_minor": 4
}