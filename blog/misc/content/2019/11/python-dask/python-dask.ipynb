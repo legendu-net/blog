{
 "cells": [
  {
   "cell_type": "markdown",
   "metadata": {},
   "source": [
    "- Title: Hands on the Python module dask\n",
    "- Slug: hands-on-the-python-module-dask\n",
    "- Date: 2019-11-25\n",
    "- Category: Computer Science\n",
    "- Tags: programming, Python, dask, data frame, pandas\n",
    "- Author: Ben Du\n",
    "- Modified: 2019-11-25\n"
   ]
  },
  {
   "cell_type": "markdown",
   "metadata": {},
   "source": [
    "https://docs.dask.org/en/latest/"
   ]
  },
  {
   "cell_type": "markdown",
   "metadata": {},
   "source": [
    "## Installation\n",
    "\n",
    "\n",
    "1. You have to install the complete version of Dask (using the command `pip3 install dask[complete]`)\n",
    "    if you need support of extended memory (for handling big data) and schedulers (for performance).\n",
    "    The default installation version (`pip3 install dask`) of Dask\n",
    "    does not include those features out-of-box.\n"
   ]
  },
  {
   "cell_type": "code",
   "execution_count": null,
   "metadata": {},
   "outputs": [],
   "source": [
    "import dask.dataframe as dd"
   ]
  },
  {
   "cell_type": "code",
   "execution_count": null,
   "metadata": {},
   "outputs": [],
   "source": [
    "df.read_parquet('/path/to/file')"
   ]
  },
  {
   "cell_type": "code",
   "execution_count": null,
   "metadata": {},
   "outputs": [],
   "source": [
    "df.shape[0].compute(scheduler='processes')"
   ]
  },
  {
   "cell_type": "markdown",
   "metadata": {},
   "source": [
    "## Dask and sk-learn\n",
    "\n",
    "- [Dask and sk-lean](https://gist.github.com/mrocklin/891885124c7c8ae3c3140186e4e56fe0)"
   ]
  },
  {
   "cell_type": "markdown",
   "metadata": {},
   "source": [
    "## Dask and xgboost\n",
    "\n",
    "https://gist.github.com/mrocklin/3696fe2398dc7152c66bf593a674e4d9"
   ]
  },
  {
   "cell_type": "markdown",
   "metadata": {},
   "source": [
    "## Dask and Tensorflow\n",
    "\n",
    "https://dask-ml.readthedocs.io/en/latest/tensorflow.html\n",
    "\n",
    "https://github.com/dask/dask-tensorflow\n",
    "\n",
    "http://matthewrocklin.com/blog/work/2017/02/11/dask-tensorflow"
   ]
  },
  {
   "cell_type": "markdown",
   "metadata": {},
   "source": [
    "## Dask and Bokeh\n",
    "\n",
    "https://gist.github.com/mrocklin/a2e9fbe8be93bbbfa9c3f10dc1851e71"
   ]
  }
 ],
 "metadata": {
  "kernelspec": {
   "display_name": "Python 3",
   "language": "python",
   "name": "python3"
  },
  "language_info": {
   "codemirror_mode": {
    "name": "ipython",
    "version": 3
   },
   "file_extension": ".py",
   "mimetype": "text/x-python",
   "name": "python",
   "nbconvert_exporter": "python",
   "pygments_lexer": "ipython3",
   "version": "3.7.3"
  }
 },
 "nbformat": 4,
 "nbformat_minor": 4
}