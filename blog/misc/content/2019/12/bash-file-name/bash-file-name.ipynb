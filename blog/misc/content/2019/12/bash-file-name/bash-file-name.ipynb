{
 "cells": [
  {
   "cell_type": "markdown",
   "metadata": {},
   "source": [
    "- Title: File Name of Bash Script\n",
    "- Slug: bash-file-name\n",
    "- Date: 2019-12-03\n",
    "- Category: Computer Science\n",
    "- Tags: programming, Bash, file name\n",
    "- Author: Ben Du\n",
    "- Modified: 2019-12-03\n"
   ]
  },
  {
   "cell_type": "markdown",
   "metadata": {},
   "source": [
    "1. Do NOT get into this messy shit if you can avoid it! \n",
    "    Use Python script instead if you can.\n",
    "\n",
    "1. If you want to reliably get the name of a Bash script, \n",
    "    it is recommended that you run the Bash script as an executable script instead of source it in.\n",
    "    \n",
    "2. There are 2 ways (`$0` and `${BASH_SOURCE[0]}`) to get the file name of a Bash script.\n",
    "    `${BASH_SOURCE[0]}` is a more robust way and is preferred.\n"
   ]
  },
  {
   "cell_type": "markdown",
   "metadata": {},
   "source": [
    "## Get File Name Without Parent Directory\n",
    "\n",
    "https://stackoverflow.com/questions/3362920/get-just-the-filename-from-a-path-in-a-bash-script/3362952"
   ]
  },
  {
   "cell_type": "code",
   "execution_count": 1,
   "metadata": {},
   "outputs": [
    {
     "name": "stdout",
     "output_type": "stream",
     "text": [
      "etc.sh\n"
     ]
    }
   ],
   "source": [
    "!basename /scripts/sys/etc.sh"
   ]
  },
  {
   "cell_type": "markdown",
   "metadata": {},
   "source": [
    "## Get File Name and Extensions"
   ]
  },
  {
   "cell_type": "code",
   "execution_count": 3,
   "metadata": {},
   "outputs": [
    {
     "name": "stdout",
     "output_type": "stream",
     "text": [
      "example\n",
      "example.tar\n",
      "tar.gz\n",
      "gz\n"
     ]
    }
   ],
   "source": [
    "%%bash\n",
    "\n",
    "FILE=\"example.tar.gz\"\n",
    "echo \"${FILE%%.*}\"\n",
    "\n",
    "echo \"${FILE%.*}\"\n",
    "\n",
    "echo \"${FILE#*.}\"\n",
    "\n",
    "echo \"${FILE##*.}\""
   ]
  },
  {
   "cell_type": "markdown",
   "metadata": {},
   "source": [
    "## `$0` vs `${BASH_SOURCE[0]}`\n",
    "The example below shows that `${BASH_SOURCE[0]}` is more robust than `$0` and is preferred."
   ]
  },
  {
   "cell_type": "code",
   "execution_count": 22,
   "metadata": {},
   "outputs": [
    {
     "name": "stdout",
     "output_type": "stream",
     "text": [
      "\u001b[00;34m#!/bin/bash\u001b[m\n",
      "\n",
      "\u001b[00;32mecho\u001b[m \u001b[00;31m'\u001b[m\u001b[00;35m$0\u001b[m\u001b[00;31m: '\u001b[m\u001b[00;32m$0\u001b[m\n",
      "\u001b[00;32mecho\u001b[m \u001b[00;31m'$(readlink -f\u001b[m \u001b[00;35m$0\u001b[m\u001b[00;31m): '\u001b[m$\u001b[00;00m(\u001b[mreadlink \u001b[00;32m-f\u001b[m \u001b[00;32m$0\u001b[m\u001b[00;00m)\u001b[m\n",
      "\u001b[00;32mecho\u001b[m \u001b[00;31m'\u001b[m\u001b[00;35m${BASH_SOURCE[0]}\u001b[m\u001b[00;31m: '\u001b[m\u001b[00;32m${BASH_SOURCE[0]}\u001b[m\n",
      "\u001b[00;32mecho\u001b[m \u001b[00;31m' $(readlink -f\u001b[m \u001b[00;35m${BASH_SOURCE[0]}\u001b[m\u001b[00;31m): '\u001b[m$\u001b[00;00m(\u001b[mreadlink \u001b[00;32m-f\u001b[m \u001b[00;32m${BASH_SOURCE[0]}\u001b[m\u001b[00;00m)\u001b[m\n"
     ]
    }
   ],
   "source": [
    "# print the content of a Bash script a.sh\n",
    "!cat bash-file-name/a.sh | highlight -O ansi"
   ]
  },
  {
   "cell_type": "markdown",
   "metadata": {},
   "source": [
    "Running the Bash script as an executable script."
   ]
  },
  {
   "cell_type": "code",
   "execution_count": 20,
   "metadata": {},
   "outputs": [
    {
     "name": "stdout",
     "output_type": "stream",
     "text": [
      "$0: bash-file-name/a.sh\n",
      "$(readlink -f $0): /workspace/blog/misc/content/bash-file-name/a.sh\n",
      "${BASH_SOURCE[0]}: bash-file-name/a.sh\n",
      " $(readlink -f ${BASH_SOURCE[0]}): /workspace/blog/misc/content/bash-file-name/a.sh\n"
     ]
    }
   ],
   "source": [
    "!bash-file-name/a.sh"
   ]
  },
  {
   "cell_type": "markdown",
   "metadata": {},
   "source": [
    "Source in the Bash script."
   ]
  },
  {
   "cell_type": "code",
   "execution_count": 21,
   "metadata": {},
   "outputs": [
    {
     "name": "stdout",
     "output_type": "stream",
     "text": [
      "$0: bash\n",
      "$(readlink -f $0): /workspace/blog/misc/content/bash\n",
      "${BASH_SOURCE[0]}: bash-file-name/a.sh\n",
      " $(readlink -f ${BASH_SOURCE[0]}): /workspace/blog/misc/content/bash-file-name/a.sh\n"
     ]
    }
   ],
   "source": [
    "%%bash\n",
    "\n",
    "source bash-file-name/a.sh"
   ]
  },
  {
   "cell_type": "markdown",
   "metadata": {},
   "source": [
    "## On Symbolic Links\n",
    "\n",
    "Both `$0` and `${BASH_SOURCE[0]}` work on symbolic links.\n",
    "You can use `readlink` to get the raw path of the file."
   ]
  },
  {
   "cell_type": "code",
   "execution_count": 27,
   "metadata": {},
   "outputs": [
    {
     "name": "stdout",
     "output_type": "stream",
     "text": [
      "'bash-file-name/b.sh' -> '/workspace/blog/misc/content/bash-file-name/a.sh'\n"
     ]
    }
   ],
   "source": [
    "# create a symbolic link to a.sh as b.sh\n",
    "!ln -svf $(realpath bash-file-name/a.sh) bash-file-name/b.sh"
   ]
  },
  {
   "cell_type": "code",
   "execution_count": 28,
   "metadata": {},
   "outputs": [
    {
     "name": "stdout",
     "output_type": "stream",
     "text": [
      "$0: bash-file-name/b.sh\n",
      "$(readlink -f $0): /workspace/blog/misc/content/bash-file-name/a.sh\n",
      "${BASH_SOURCE[0]}: bash-file-name/b.sh\n",
      " $(readlink -f ${BASH_SOURCE[0]}): /workspace/blog/misc/content/bash-file-name/a.sh\n"
     ]
    }
   ],
   "source": [
    "!bash-file-name/b.sh"
   ]
  },
  {
   "cell_type": "code",
   "execution_count": 29,
   "metadata": {},
   "outputs": [
    {
     "name": "stdout",
     "output_type": "stream",
     "text": [
      "$0: bash\n",
      "$(readlink -f $0): /workspace/blog/misc/content/bash\n",
      "${BASH_SOURCE[0]}: bash-file-name/b.sh\n",
      " $(readlink -f ${BASH_SOURCE[0]}): /workspace/blog/misc/content/bash-file-name/a.sh\n"
     ]
    }
   ],
   "source": [
    "%%bash\n",
    "\n",
    "source bash-file-name/b.sh"
   ]
  },
  {
   "cell_type": "markdown",
   "metadata": {},
   "source": [
    "## Running from Another Script"
   ]
  },
  {
   "cell_type": "code",
   "execution_count": 36,
   "metadata": {},
   "outputs": [
    {
     "name": "stdout",
     "output_type": "stream",
     "text": [
      "\u001b[00;34m#!/bin/bash\u001b[m\n",
      "\n",
      "\u001b[00;32msource\u001b[m bash-file-name\u001b[00;00m/\u001b[ma.sh\n",
      "bash-file-name\u001b[00;00m/\u001b[ma.sh\n",
      "\u001b[00;32mecho\u001b[m \u001b[00;32m${BASH_SOURCE[0]}\u001b[m\n"
     ]
    }
   ],
   "source": [
    "# c.sh runs a.sh\n",
    "!cat bash-file-name/c.sh | highlight -O ansi"
   ]
  },
  {
   "cell_type": "code",
   "execution_count": 32,
   "metadata": {},
   "outputs": [
    {
     "name": "stdout",
     "output_type": "stream",
     "text": [
      "$0: bash-file-name/c.sh\n",
      "$(readlink -f $0): /workspace/blog/misc/content/bash-file-name/c.sh\n",
      "${BASH_SOURCE[0]}: bash-file-name/a.sh\n",
      " $(readlink -f ${BASH_SOURCE[0]}): /workspace/blog/misc/content/bash-file-name/a.sh\n",
      "$0: bash-file-name/a.sh\n",
      "$(readlink -f $0): /workspace/blog/misc/content/bash-file-name/a.sh\n",
      "${BASH_SOURCE[0]}: bash-file-name/a.sh\n",
      " $(readlink -f ${BASH_SOURCE[0]}): /workspace/blog/misc/content/bash-file-name/a.sh\n",
      "bash-file-name/c.sh\n"
     ]
    }
   ],
   "source": [
    "!bash-file-name/c.sh"
   ]
  },
  {
   "cell_type": "code",
   "execution_count": 34,
   "metadata": {},
   "outputs": [
    {
     "name": "stdout",
     "output_type": "stream",
     "text": [
      "$0: bash-file-name/c.sh\n",
      "$(readlink -f $0): /workspace/blog/misc/content/bash-file-name/c.sh\n",
      "${BASH_SOURCE[0]}: bash-file-name/a.sh\n",
      " $(readlink -f ${BASH_SOURCE[0]}): /workspace/blog/misc/content/bash-file-name/a.sh\n",
      "$0: bash-file-name/a.sh\n",
      "$(readlink -f $0): /workspace/blog/misc/content/bash-file-name/a.sh\n",
      "${BASH_SOURCE[0]}: bash-file-name/a.sh\n",
      " $(readlink -f ${BASH_SOURCE[0]}): /workspace/blog/misc/content/bash-file-name/a.sh\n",
      "bash-file-name/c.sh\n"
     ]
    }
   ],
   "source": [
    "%%bash\n",
    "\n",
    "bash-file-name/c.sh"
   ]
  }
 ],
 "metadata": {
  "kernelspec": {
   "display_name": "Python 3",
   "language": "python",
   "name": "python3"
  },
  "language_info": {
   "codemirror_mode": {
    "name": "ipython",
    "version": 3
   },
   "file_extension": ".py",
   "mimetype": "text/x-python",
   "name": "python",
   "nbconvert_exporter": "python",
   "pygments_lexer": "ipython3",
   "version": "3.7.3"
  }
 },
 "nbformat": 4,
 "nbformat_minor": 4
}