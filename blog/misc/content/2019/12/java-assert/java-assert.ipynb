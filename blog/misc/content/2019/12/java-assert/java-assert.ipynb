{
 "cells": [
  {
   "cell_type": "markdown",
   "metadata": {},
   "source": [
    "- Title: Assert in Java\n",
    "- Slug: java-assert\n",
    "- Date: 2019-12-16\n",
    "- Category: Computer Science\n",
    "- Tags: programming, JVM, Java, assert, assertion\n",
    "- Author: Ben Du\n",
    "- Modified: 2019-12-16\n"
   ]
  },
  {
   "cell_type": "markdown",
   "metadata": {},
   "source": [
    "1. Avoid using `assert` in Java production code as assertion is not turned on by default. \n",
    "    Throw exception instead (since assert is just a syntax sugar of throwing exceptions).\n",
    "\n",
    "The most important thing to remember about assertions is that they can be disabled, so never assume they'll be executed.\n",
    "\n",
    "Therefore keep the followings things in mind when using assertions:\n",
    "\n",
    "Always check for null values and empty Optionals where appropriate\n",
    "Avoid using assertions to check inputs into a public method and instead use an unchecked exception such as IllegalArgumentException or NullPointerException\n",
    "Don't call methods in assertion conditions and instead assign the result of the method to a local variable and use that variable with assert\n",
    "Assertions are great for places in the code that will never be executed, such as the default case of a switch statement or after a loop that never finishes"
   ]
  },
  {
   "cell_type": "markdown",
   "metadata": {},
   "source": [
    "## References\n",
    "\n",
    "https://www.baeldung.com/java-assert\n",
    "\n",
    "https://www.geeksforgeeks.org/assertions-in-java/"
   ]
  },
  {
   "cell_type": "code",
   "execution_count": null,
   "metadata": {},
   "outputs": [],
   "source": []
  }
 ],
 "metadata": {
  "kernelspec": {
   "display_name": "Java",
   "language": "java",
   "name": "java"
  },
  "language_info": {
   "codemirror_mode": "text/x-java",
   "file_extension": ".java",
   "mimetype": "",
   "name": "Java",
   "nbconverter_exporter": "",
   "version": "1.8.0_222"
  }
 },
 "nbformat": 4,
 "nbformat_minor": 4
}