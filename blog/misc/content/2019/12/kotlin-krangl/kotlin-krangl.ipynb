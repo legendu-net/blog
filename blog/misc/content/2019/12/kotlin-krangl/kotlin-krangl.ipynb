{
 "cells": [
  {
   "cell_type": "markdown",
   "metadata": {},
   "source": [
    "- Title: Hands on krangl in Kotlin \n",
    "- Slug: kotlin-krangl\n",
    "- Date: 2019-12-12\n",
    "- Category: Computer Science\n",
    "- Tags: programming, Kotlin, DataFrame, data frame, krangl\n",
    "- Author: Ben Du\n",
    "- Modified: 2019-12-12\n"
   ]
  },
  {
   "cell_type": "code",
   "execution_count": 5,
   "metadata": {},
   "outputs": [
    {
     "name": "stdout",
     "output_type": "stream",
     "text": [
      "Added new repo: jcenter\n"
     ]
    }
   ],
   "source": [
    "%classpath config resolver jcenter https://jcenter.bintray.com/"
   ]
  },
  {
   "cell_type": "code",
   "execution_count": 6,
   "metadata": {},
   "outputs": [
    {
     "data": {
      "application/vnd.jupyter.widget-view+json": {
       "model_id": "",
       "version_major": 2,
       "version_minor": 0
      },
      "method": "display_data"
     },
     "metadata": {},
     "output_type": "display_data"
    },
    {
     "data": {
      "application/vnd.jupyter.widget-view+json": {
       "model_id": "5a767942-07da-488a-8b39-191daba674ff",
       "version_major": 2,
       "version_minor": 0
      },
      "method": "display_data"
     },
     "metadata": {},
     "output_type": "display_data"
    }
   ],
   "source": [
    "%classpath add mvn de.mpicbg.scicomp krangl 0.11"
   ]
  },
  {
   "cell_type": "code",
   "execution_count": 12,
   "metadata": {},
   "outputs": [
    {
     "data": {
      "text/plain": [
       "null"
      ]
     },
     "execution_count": 12,
     "metadata": {},
     "output_type": "execute_result"
    }
   ],
   "source": [
    "import krangl.DataFrame\n",
    "import krangl.dataFrameOf"
   ]
  },
  {
   "cell_type": "markdown",
   "metadata": {},
   "source": [
    "## readCSV"
   ]
  },
  {
   "cell_type": "code",
   "execution_count": 40,
   "metadata": {},
   "outputs": [
    {
     "ename": "error",
     "evalue": " unresolved reference",
     "output_type": "error",
     "text": "error: unresolved reference: readCSV\nDataFrame.readCSV(\"../../home/media/data/flights14.csv\")\n          ^\n",
     "traceback": [
      "\u001b[1;31merror: unresolved reference: readCSV\u001b[0;0m",
      "\u001b[1;31mDataFrame.readCSV(\"../../home/media/data/flights14.csv\")\u001b[0;0m",
      "\u001b[1;31m          ^\u001b[0;0m"
     ]
    }
   ],
   "source": [
    "DataFrame.readCSV(\"../../home/media/data/flights14.csv\")"
   ]
  },
  {
   "cell_type": "markdown",
   "metadata": {},
   "source": [
    "## dataFrameOf"
   ]
  },
  {
   "cell_type": "code",
   "execution_count": 14,
   "metadata": {},
   "outputs": [
    {
     "data": {
      "text/plain": [
       "A DataFrame: 3 x 4\n",
       "    first_name   last_name   age   weight\n",
       "1          Max         Doe    23       55\n",
       "2        Franz       Smith    23       88\n",
       "3        Horst      Keanes    12       82"
      ]
     },
     "execution_count": 14,
     "metadata": {},
     "output_type": "execute_result"
    }
   ],
   "source": [
    "val df: DataFrame = dataFrameOf(\n",
    "    \"first_name\", \"last_name\", \"age\", \"weight\")(\n",
    "    \"Max\", \"Doe\", 23, 55,\n",
    "    \"Franz\", \"Smith\", 23, 88,\n",
    "    \"Horst\", \"Keanes\", 12, 82\n",
    ")\n",
    "df"
   ]
  },
  {
   "cell_type": "code",
   "execution_count": 38,
   "metadata": {},
   "outputs": [
    {
     "name": "stdout",
     "output_type": "stream",
     "text": [
      "public krangl.DataFrame krangl.SimpleDataFrame.summarize(krangl.ColumnFormula[])\n",
      "public krangl.DataFrame krangl.SimpleDataFrame.groupedBy()\n",
      "public krangl.DataFrame krangl.SimpleDataFrame.ungroup()\n",
      "public krangl.DataFrame krangl.SimpleDataFrame.filterByRow(kotlin.jvm.functions.Function2)\n",
      "public krangl.DataFrame krangl.SimpleDataFrame.selectIf(kotlin.jvm.functions.Function1)\n",
      "public krangl.DataFrame krangl.SimpleDataFrame.addColumns(krangl.ColumnFormula[])\n",
      "public krangl.DataFrame krangl.SimpleDataFrame.transmute(krangl.ColumnFormula[])\n",
      "public int krangl.SimpleDataFrame.getNrow()\n",
      "public int krangl.SimpleDataFrame.getNcol()\n",
      "public krangl.DataFrame krangl.SimpleDataFrame.addColumn(java.lang.String,kotlin.jvm.functions.Function2)\n",
      "public krangl.DataFrame krangl.SimpleDataFrame.addColumn(krangl.ColumnFormula)\n",
      "public java.util.List krangl.SimpleDataFrame.getCols()\n",
      "public krangl.DataFrame krangl.SimpleDataFrame.sortedBy(java.lang.String[])\n",
      "public krangl.DataFrame krangl.SimpleDataFrame.sortedByDescending(java.lang.String[])\n",
      "public krangl.DataFrame krangl.SimpleDataFrame.groupBy(java.lang.String[])\n",
      "public java.util.Map krangl.SimpleDataFrame.row(int)\n",
      "public krangl.DataFrame krangl.SimpleDataFrame.select(kotlin.jvm.functions.Function1)\n",
      "public krangl.DataFrame krangl.SimpleDataFrame.select(java.lang.Iterable)\n",
      "public krangl.DataFrame krangl.SimpleDataFrame.select(kotlin.jvm.functions.Function1[])\n",
      "public krangl.DataFrame krangl.SimpleDataFrame.select(java.lang.String[])\n",
      "public java.lang.Iterable krangl.SimpleDataFrame.getRows()\n",
      "public java.util.List krangl.SimpleDataFrame.getNames()\n",
      "public krangl.DataFrame krangl.SimpleDataFrame.remove(java.lang.Iterable)\n",
      "public krangl.DataFrame krangl.SimpleDataFrame.remove(kotlin.jvm.functions.Function1[])\n",
      "public krangl.DataFrame krangl.SimpleDataFrame.remove(kotlin.jvm.functions.Function1)\n",
      "public krangl.DataFrame krangl.SimpleDataFrame.remove(java.lang.String[])\n",
      "public java.util.List krangl.SimpleDataFrame.groups()\n",
      "public krangl.DataCol krangl.SimpleDataFrame.get(int)\n",
      "public krangl.DataCol krangl.SimpleDataFrame.get(java.lang.String)\n",
      "public boolean krangl.SimpleDataFrame.equals(java.lang.Object)\n",
      "public java.lang.String krangl.SimpleDataFrame.toString()\n",
      "public int krangl.SimpleDataFrame.hashCode()\n",
      "public krangl.DataFrame krangl.SimpleDataFrame.removeIf(kotlin.jvm.functions.Function1)\n",
      "public krangl.DataFrame krangl.SimpleDataFrame.filter(kotlin.jvm.functions.Function2)\n",
      "public final void java.lang.Object.wait(long,int) throws java.lang.InterruptedException\n",
      "public final native void java.lang.Object.wait(long) throws java.lang.InterruptedException\n",
      "public final void java.lang.Object.wait() throws java.lang.InterruptedException\n",
      "public final native java.lang.Class java.lang.Object.getClass()\n",
      "public final native void java.lang.Object.notify()\n",
      "public final native void java.lang.Object.notifyAll()\n"
     ]
    },
    {
     "data": {
      "text/plain": [
       "null"
      ]
     },
     "execution_count": 38,
     "metadata": {},
     "output_type": "execute_result"
    }
   ],
   "source": [
    "df.javaClass.getMethods().forEach {\n",
    "    println(it)\n",
    "}"
   ]
  },
  {
   "cell_type": "markdown",
   "metadata": {},
   "source": [
    "## References\n",
    "\n",
    "https://krangl.gitbook.io/docs/getting-started/10_minutes\n",
    "\n",
    "https://krangl.gitbook.io/docs/"
   ]
  }
 ],
 "metadata": {
  "kernelspec": {
   "display_name": "Kotlin",
   "language": "kotlin",
   "name": "kotlin"
  },
  "language_info": {
   "codemirror_mode": "kotlin",
   "file_extension": ".kt",
   "mimetype": "",
   "name": "Kotlin",
   "nbconverter_exporter": "",
   "version": "1.2.21"
  }
 },
 "nbformat": 4,
 "nbformat_minor": 4
}