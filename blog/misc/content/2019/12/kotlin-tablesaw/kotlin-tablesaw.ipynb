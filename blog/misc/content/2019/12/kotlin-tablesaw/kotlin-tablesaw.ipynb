{
 "cells": [
  {
   "cell_type": "markdown",
   "metadata": {},
   "source": [
    "- Title: Use Tablesaw with Kotlin \n",
    "- Slug: kotlin-tablesaw\n",
    "- Date: 2019-12-12\n",
    "- Category: Computer Science\n",
    "- Tags: programming, Kotlin, DataFrame, Tablesaw\n",
    "- Author: Ben Du\n",
    "- Modified: 2019-12-12\n"
   ]
  },
  {
   "cell_type": "code",
   "execution_count": 1,
   "metadata": {},
   "outputs": [
    {
     "data": {
      "application/vnd.jupyter.widget-view+json": {
       "model_id": "",
       "version_major": 2,
       "version_minor": 0
      },
      "method": "display_data"
     },
     "metadata": {},
     "output_type": "display_data"
    },
    {
     "data": {
      "application/vnd.jupyter.widget-view+json": {
       "model_id": "d763afdc-6c27-4876-ac16-56bf75bf4f6c",
       "version_major": 2,
       "version_minor": 0
      },
      "method": "display_data"
     },
     "metadata": {},
     "output_type": "display_data"
    }
   ],
   "source": [
    "%%classpath add mvn\n",
    "tech.tablesaw tablesaw-beakerx 0.36.0\n",
    "com.jimmoores quandl-tablesaw 2.0.0"
   ]
  },
  {
   "cell_type": "code",
   "execution_count": 4,
   "metadata": {},
   "outputs": [
    {
     "data": {
      "text/plain": [
       "null"
      ]
     },
     "execution_count": 4,
     "metadata": {},
     "output_type": "execute_result"
    }
   ],
   "source": [
    "import tech.tablesaw.aggregate.AggregateFunctions.*\n",
    "import tech.tablesaw.api.*\n",
    "import tech.tablesaw.columns.*"
   ]
  },
  {
   "cell_type": "markdown",
   "metadata": {},
   "source": [
    "## Comments\n",
    "\n",
    "1. Tablesaw's usability is still far away from Python pandas or Spark DataFrame \n",
    "    (even though it is the best implementation for JVM currently).\n",
    "    I suggest you stick to Spark DataFrame or Python pandas at this time.\n",
    "\n",
    "1. You can display Tablesaw tables with BeakerX table display widget\n",
    "    by running the following command.\n",
    "\n",
    "        tech.tablesaw.beakerx.TablesawDisplayer.register()"
   ]
  },
  {
   "cell_type": "markdown",
   "metadata": {},
   "source": [
    "## Column"
   ]
  },
  {
   "cell_type": "code",
   "execution_count": 6,
   "metadata": {},
   "outputs": [
    {
     "name": "stdout",
     "output_type": "stream",
     "text": [
      "Column: nc\n",
      "1\n",
      "2\n",
      "3\n",
      "4\n",
      "\n"
     ]
    },
    {
     "data": {
      "text/plain": [
       "null"
      ]
     },
     "execution_count": 6,
     "metadata": {},
     "output_type": "execute_result"
    }
   ],
   "source": [
    "val numbers = arrayOf(1, 2, 3, 4)\n",
    "val col = DoubleColumn.create(\"nc\", numbers)\n",
    "println(col.print())"
   ]
  },
  {
   "cell_type": "code",
   "execution_count": 7,
   "metadata": {},
   "outputs": [
    {
     "data": {
      "text/plain": [
       "3.0"
      ]
     },
     "execution_count": 7,
     "metadata": {},
     "output_type": "execute_result"
    }
   ],
   "source": [
    "col.get(2)"
   ]
  },
  {
   "cell_type": "code",
   "execution_count": 10,
   "metadata": {},
   "outputs": [
    {
     "data": {
      "text/plain": [
       "Double column: nc * 4.0"
      ]
     },
     "execution_count": 10,
     "metadata": {},
     "output_type": "execute_result"
    }
   ],
   "source": [
    "col.multiply(4)"
   ]
  },
  {
   "cell_type": "code",
   "execution_count": 11,
   "metadata": {},
   "outputs": [
    {
     "name": "stdout",
     "output_type": "stream",
     "text": [
      "Column: nc * 4.0\n",
      "4\n",
      "8\n",
      "12\n",
      "16\n",
      "\n"
     ]
    },
    {
     "data": {
      "text/plain": [
       "null"
      ]
     },
     "execution_count": 11,
     "metadata": {},
     "output_type": "execute_result"
    }
   ],
   "source": [
    "println(col.multiply(4).print())"
   ]
  },
  {
   "cell_type": "code",
   "execution_count": 13,
   "metadata": {},
   "outputs": [
    {
     "data": {
      "text/plain": [
       "Selection of size: 2"
      ]
     },
     "execution_count": 13,
     "metadata": {},
     "output_type": "execute_result"
    }
   ],
   "source": [
    "col.isLessThan(3.0)"
   ]
  },
  {
   "cell_type": "code",
   "execution_count": 16,
   "metadata": {},
   "outputs": [
    {
     "data": {
      "text/plain": [
       "Selection of size: 2"
      ]
     },
     "execution_count": 16,
     "metadata": {},
     "output_type": "execute_result"
    }
   ],
   "source": [
    "val c = col.isLessThan(3.0)\n",
    "c"
   ]
  },
  {
   "cell_type": "code",
   "execution_count": 18,
   "metadata": {},
   "outputs": [
    {
     "name": "stdout",
     "output_type": "stream",
     "text": [
      "Column: nc\n",
      "1\n",
      "2\n",
      "\n"
     ]
    },
    {
     "data": {
      "text/plain": [
       "null"
      ]
     },
     "execution_count": 18,
     "metadata": {},
     "output_type": "execute_result"
    }
   ],
   "source": [
    "println(col.where(c).print())"
   ]
  },
  {
   "cell_type": "code",
   "execution_count": 20,
   "metadata": {},
   "outputs": [
    {
     "data": {
      "text/plain": [
       "Double column: nc"
      ]
     },
     "execution_count": 20,
     "metadata": {},
     "output_type": "execute_result"
    }
   ],
   "source": [
    "col.where(col.isLessThan(3.0).and(col.isPositive()))"
   ]
  },
  {
   "cell_type": "code",
   "execution_count": 21,
   "metadata": {},
   "outputs": [
    {
     "name": "stdout",
     "output_type": "stream",
     "text": [
      "Column: nc\n",
      "1\n",
      "2\n",
      "\n"
     ]
    },
    {
     "data": {
      "text/plain": [
       "null"
      ]
     },
     "execution_count": 21,
     "metadata": {},
     "output_type": "execute_result"
    }
   ],
   "source": [
    "println(col.where(col.isLessThan(3.0).and(col.isPositive())).print())"
   ]
  },
  {
   "cell_type": "code",
   "execution_count": 22,
   "metadata": {},
   "outputs": [
    {
     "ename": "error",
     "evalue": " unresolved reference",
     "output_type": "error",
     "text": "error: unresolved reference: Selection\ncol.where(Selection.with(0, 2))\n          ^\n",
     "traceback": [
      "\u001b[1;31merror: unresolved reference: Selection\u001b[0;0m",
      "\u001b[1;31mcol.where(Selection.with(0, 2))\u001b[0;0m",
      "\u001b[1;31m          ^\u001b[0;0m"
     ]
    }
   ],
   "source": [
    "col.where(Selection.with(0, 2))"
   ]
  },
  {
   "cell_type": "code",
   "execution_count": null,
   "metadata": {},
   "outputs": [],
   "source": [
    "col.where(Selection.withRange(1, 3))"
   ]
  },
  {
   "cell_type": "markdown",
   "metadata": {},
   "source": [
    "## Table/DataFrame"
   ]
  },
  {
   "cell_type": "code",
   "execution_count": 6,
   "metadata": {},
   "outputs": [
    {
     "data": {
      "text/plain": [
       "null"
      ]
     },
     "execution_count": 6,
     "metadata": {},
     "output_type": "execute_result"
    }
   ],
   "source": [
    "val flights = Table.read().csv(\"../../home/media/data/flights14.csv\")"
   ]
  },
  {
   "cell_type": "code",
   "execution_count": 5,
   "metadata": {},
   "outputs": [
    {
     "data": {
      "application/vnd.jupyter.widget-view+json": {
       "model_id": "bf003a45-ef83-4e3c-970d-97e5e98de8ae",
       "version_major": 2,
       "version_minor": 0
      },
      "method": "display_data"
     },
     "metadata": {},
     "output_type": "display_data"
    }
   ],
   "source": [
    "flights.structure()"
   ]
  },
  {
   "cell_type": "code",
   "execution_count": 6,
   "metadata": {},
   "outputs": [
    {
     "data": {
      "text/plain": [
       "[year, month, day, dep_time, dep_delay, arr_time, arr_delay, cancelled, carrier, tailnum, flight, origin, dest, air_time, distance, hour, min]"
      ]
     },
     "execution_count": 6,
     "metadata": {},
     "output_type": "execute_result"
    }
   ],
   "source": [
    "flights.columnNames()"
   ]
  },
  {
   "cell_type": "code",
   "execution_count": 7,
   "metadata": {},
   "outputs": [
    {
     "data": {
      "text/plain": [
       "39 rows X 17 cols"
      ]
     },
     "execution_count": 7,
     "metadata": {},
     "output_type": "execute_result"
    }
   ],
   "source": [
    "flights.shape()"
   ]
  },
  {
   "cell_type": "code",
   "execution_count": 9,
   "metadata": {},
   "outputs": [
    {
     "data": {
      "application/vnd.jupyter.widget-view+json": {
       "model_id": "8cc8b4fd-bc61-47d6-9f07-bb39a997f33e",
       "version_major": 2,
       "version_minor": 0
      },
      "method": "display_data"
     },
     "metadata": {},
     "output_type": "display_data"
    }
   ],
   "source": [
    "flights.first(10)"
   ]
  },
  {
   "cell_type": "code",
   "execution_count": 10,
   "metadata": {},
   "outputs": [
    {
     "data": {
      "text/plain": [
       "\n",
       "Table summary for: flights14.csv\n",
       "     Column: year     \n",
       " Measure   |  Value  |\n",
       "----------------------\n",
       "        n  |     39  |\n",
       "      sum  |  78546  |\n",
       "     Mean  |   2014  |\n",
       "      Min  |   2014  |\n",
       "      Max  |   2014  |\n",
       "    Range  |      0  |\n",
       " Variance  |      0  |\n",
       " Std. Dev  |      0  |\n",
       "    Column: month     \n",
       " Measure   |  Value  |\n",
       "----------------------\n",
       "        n  |     39  |\n",
       "      sum  |     39  |\n",
       "     Mean  |      1  |\n",
       "      Min  |      1  |\n",
       "      Max  |      1  |\n",
       "    Range  |      0  |\n",
       " Variance  |      0  |\n",
       " Std. Dev  |      0  |\n",
       "     Column: day      \n",
       " Measure   |  Value  |\n",
       "----------------------\n",
       "        n  |     39  |\n",
       "      sum  |     39  |\n",
       "     Mean  |      1  |\n",
       "      Min  |      1  |\n",
       "      Max  |      1  |\n",
       "    Range  |      0  |\n",
       " Variance  |      0  |\n",
       " Std. Dev  |      0  |\n",
       "         Column: dep_time          \n",
       " Measure   |        Value         |\n",
       "-----------------------------------\n",
       "        n  |                  39  |\n",
       "      sum  |               54119  |\n",
       "     Mean  |  1387.6666666666665  |\n",
       "      Min  |                 553  |\n",
       "      Max  |                2133  |\n",
       "    Range  |                1580  |\n",
       " Variance  |  197312.91228070174  |\n",
       " Std. Dev  |   444.1991808645101  |\n",
       "         Column: dep_delay         \n",
       " Measure   |        Value         |\n",
       "-----------------------------------\n",
       "        n  |                  39  |\n",
       "      sum  |                 609  |\n",
       "     Mean  |  15.615384615384615  |\n",
       "      Min  |                 -10  |\n",
       "      Max  |                 191  |\n",
       "    Range  |                 201  |\n",
       " Variance  |  1612.7165991902837  |\n",
       " Std. Dev  |  40.158642895275776  |\n",
       "         Column: arr_time         \n",
       " Measure   |        Value        |\n",
       "----------------------------------\n",
       "        n  |                 39  |\n",
       "      sum  |              62670  |\n",
       "     Mean  |  1606.923076923077  |\n",
       "      Min  |                 37  |\n",
       "      Max  |               2342  |\n",
       "    Range  |               2305  |\n",
       " Variance  |  276612.8623481781  |\n",
       " Std. Dev  |  525.9399797963434  |\n",
       "         Column: arr_delay         \n",
       " Measure   |        Value         |\n",
       "-----------------------------------\n",
       "        n  |                  39  |\n",
       "      sum  |                 671  |\n",
       "     Mean  |    17.2051282051282  |\n",
       "      Min  |                 -27  |\n",
       "      Max  |                 185  |\n",
       "    Range  |                 212  |\n",
       " Variance  |  2045.4831309041833  |\n",
       " Std. Dev  |   45.22701770959681  |\n",
       "  Column: cancelled   \n",
       " Measure   |  Value  |\n",
       "----------------------\n",
       "        n  |     39  |\n",
       "      sum  |      0  |\n",
       "     Mean  |      0  |\n",
       "      Min  |      0  |\n",
       "      Max  |      0  |\n",
       "    Range  |      0  |\n",
       " Variance  |      0  |\n",
       " Std. Dev  |      0  |\n",
       "   Column: carrier    \n",
       " Category  |  Count  |\n",
       "----------------------\n",
       "       AA  |     39  |\n",
       "   Column: tailnum    \n",
       " Category  |  Count  |\n",
       "----------------------\n",
       "   N3KDAA  |      1  |\n",
       "   N3KRAA  |      1  |\n",
       "   N3BSAA  |      1  |\n",
       "   N3HFAA  |      1  |\n",
       "   N3BJAA  |      1  |\n",
       "   N5FJAA  |      1  |\n",
       "   N328AA  |      1  |\n",
       "   N3ESAA  |      1  |\n",
       "   N5CEAA  |      1  |\n",
       "   N3JWAA  |      1  |\n",
       "      ...  |    ...  |\n",
       "   N336AA  |      1  |\n",
       "   N3BCAA  |      1  |\n",
       "   N3JMAA  |      1  |\n",
       "   N3CWAA  |      1  |\n",
       "   N323AA  |      1  |\n",
       "   N3EHAA  |      1  |\n",
       "   N319AA  |      1  |\n",
       "   N338AA  |      1  |\n",
       "   N327AA  |      1  |\n",
       "   N335AA  |      1  |\n",
       "          Column: flight          \n",
       " Measure   |        Value        |\n",
       "----------------------------------\n",
       "        n  |                 39  |\n",
       "      sum  |              13176  |\n",
       "     Mean  |  337.8461538461538  |\n",
       "      Min  |                  1  |\n",
       "      Max  |               1171  |\n",
       "    Range  |               1170  |\n",
       " Variance  |  89952.60728744938  |\n",
       " Std. Dev  |  299.9210017445417  |\n",
       "    Column: origin    \n",
       " Category  |  Count  |\n",
       "----------------------\n",
       "      JFK  |     18  |\n",
       "      EWR  |      4  |\n",
       "      LGA  |     17  |\n",
       "     Column: dest     \n",
       " Category  |  Count  |\n",
       "----------------------\n",
       "      STT  |      1  |\n",
       "      BOS  |      2  |\n",
       "      DFW  |      3  |\n",
       "      AUS  |      1  |\n",
       "      IAH  |      1  |\n",
       "      SJU  |      1  |\n",
       "      ORD  |     14  |\n",
       "      SFO  |      1  |\n",
       "      SEA  |      1  |\n",
       "      LAX  |      8  |\n",
       "      MIA  |      5  |\n",
       "      PBI  |      1  |\n",
       "         Column: air_time          \n",
       " Measure   |        Value         |\n",
       "-----------------------------------\n",
       "        n  |                  39  |\n",
       "      sum  |                8026  |\n",
       "     Mean  |  205.79487179487182  |\n",
       "      Min  |                  35  |\n",
       "      Max  |                 365  |\n",
       "    Range  |                 330  |\n",
       " Variance  |   9050.535762483129  |\n",
       " Std. Dev  |    95.1343038156223  |\n",
       "         Column: distance          \n",
       " Measure   |        Value         |\n",
       "-----------------------------------\n",
       "        n  |                  39  |\n",
       "      sum  |               52212  |\n",
       "     Mean  |  1338.7692307692312  |\n",
       "      Min  |                 187  |\n",
       "      Max  |                2586  |\n",
       "    Range  |                2399  |\n",
       " Variance  |   562719.0242914981  |\n",
       " Std. Dev  |   750.1460019832793  |\n",
       "           Column: hour            \n",
       " Measure   |        Value         |\n",
       "-----------------------------------\n",
       "        n  |                  39  |\n",
       "      sum  |                 528  |\n",
       "     Mean  |  13.538461538461533  |\n",
       "      Min  |                   5  |\n",
       "      Max  |                  21  |\n",
       "    Range  |                  16  |\n",
       " Variance  |  19.991902834008094  |\n",
       " Std. Dev  |  4.4712305726732655  |\n",
       "            Column: min            \n",
       " Measure   |        Value         |\n",
       "-----------------------------------\n",
       "        n  |                  39  |\n",
       "      sum  |                1319  |\n",
       "     Mean  |  33.820512820512825  |\n",
       "      Min  |                   2  |\n",
       "      Max  |                  57  |\n",
       "    Range  |                  55  |\n",
       " Variance  |  274.04588394062074  |\n",
       " Std. Dev  |  16.554331274340885  |\n",
       "\n"
      ]
     },
     "execution_count": 10,
     "metadata": {},
     "output_type": "execute_result"
    }
   ],
   "source": [
    "flights.summary()"
   ]
  },
  {
   "cell_type": "code",
   "execution_count": 8,
   "metadata": {},
   "outputs": [
    {
     "data": {
      "text/plain": [
       "[1.0, 2.0, 3.0, 7.0, 9.44242, 11.0]"
      ]
     },
     "execution_count": 8,
     "metadata": {},
     "output_type": "execute_result"
    }
   ],
   "source": [
    "val values = doubleArrayOf(1.0, 2.0, 3.0, 7.0, 9.44242, 11.0)\n",
    "values"
   ]
  },
  {
   "cell_type": "code",
   "execution_count": 9,
   "metadata": {},
   "outputs": [
    {
     "data": {
      "text/plain": [
       "null"
      ]
     },
     "execution_count": 9,
     "metadata": {},
     "output_type": "execute_result"
    }
   ],
   "source": [
    "val column = DoubleColumn.create(\"my_numbers\", values)"
   ]
  },
  {
   "cell_type": "code",
   "execution_count": 11,
   "metadata": {},
   "outputs": [
    {
     "data": {
      "application/vnd.jupyter.widget-view+json": {
       "model_id": "81a49492-aa69-4cec-a1f9-4f1906f096af",
       "version_major": 2,
       "version_minor": 0
      },
      "method": "display_data"
     },
     "metadata": {},
     "output_type": "display_data"
    }
   ],
   "source": [
    "DoubleColumn.create(\"col\", 0.until(10).map{\n",
    "    i -> i.toDouble()\n",
    "})"
   ]
  },
  {
   "cell_type": "code",
   "execution_count": 5,
   "metadata": {},
   "outputs": [
    {
     "data": {
      "text/plain": [
       "                                                             Table1                                                              \n",
       " column_0  |  column_1  |  column_2  |  column_3  |  column_4  |  column_5  |  column_6  |  column_7  |  column_8  |  column_9  |\n",
       "---------------------------------------------------------------------------------------------------------------------------------\n",
       "        0  |        10  |        20  |        30  |        40  |        50  |        60  |        70  |        80  |        90  |\n",
       "        1  |        11  |        21  |        31  |        41  |        51  |        61  |        71  |        81  |        91  |\n",
       "        2  |        12  |        22  |        32  |        42  |        52  |        62  |        72  |        82  |        92  |\n",
       "        3  |        13  |        23  |        33  |        43  |        53  |        63  |        73  |        83  |        93  |\n",
       "        4  |        14  |        24  |        34  |        44  |        54  |        64  |        74  |        84  |        94  |\n",
       "        5  |        15  |        25  |        35  |        45  |        55  |        65  |        75  |        85  |        95  |\n",
       "        6  |        16  |        26  |        36  |        46  |        56  |        66  |        76  |        86  |        96  |\n",
       "        7  |        17  |        27  |        37  |        47  |        57  |        67  |        77  |        87  |        97  |\n",
       "        8  |        18  |        28  |        38  |        48  |        58  |        68  |        78  |        88  |        98  |\n",
       "        9  |        19  |        29  |        39  |        49  |        59  |        69  |        79  |        89  |        99  |"
      ]
     },
     "execution_count": 5,
     "metadata": {},
     "output_type": "execute_result"
    }
   ],
   "source": [
    "import tech.tablesaw.api.Table\n",
    "import tech.tablesaw.api.DoubleColumn\n",
    "\n",
    "val table = Table.create(\"Table1\")\n",
    "\n",
    "for (i in 0.until(10)) {\n",
    "    val column = DoubleColumn.create(\"column_\" + i, 0.until(10).map{\n",
    "        j -> (j + 10 * i).toDouble()\n",
    "    })\n",
    "    table.addColumns(column)\n",
    "}\n",
    "table.print()"
   ]
  },
  {
   "cell_type": "markdown",
   "metadata": {},
   "source": [
    "## References\n",
    "\n",
    "https://github.com/jtablesaw/tablesaw\n",
    "\n",
    "https://jtablesaw.github.io/tablesaw/gettingstarted\n",
    "\n",
    "https://jtablesaw.wordpress.com/\n",
    "\n",
    "https://javadoc.io/doc/tech.tablesaw/tablesaw-core/0.25.2/tech/tablesaw/api/Table.html\n",
    "\n",
    "https://javadoc.io/doc/tech.tablesaw/tablesaw-core/0.25.2/tech/tablesaw/api/DoubleColumn.html"
   ]
  },
  {
   "cell_type": "code",
   "execution_count": null,
   "metadata": {},
   "outputs": [],
   "source": []
  }
 ],
 "metadata": {
  "kernelspec": {
   "display_name": "Kotlin",
   "language": "kotlin",
   "name": "kotlin"
  },
  "language_info": {
   "codemirror_mode": "kotlin",
   "file_extension": ".kt",
   "mimetype": "",
   "name": "Kotlin",
   "nbconverter_exporter": "",
   "version": "1.2.21"
  }
 },
 "nbformat": 4,
 "nbformat_minor": 4
}