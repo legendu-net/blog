{
 "cells": [
  {
   "cell_type": "markdown",
   "metadata": {},
   "source": [
    "- Title: Use Jedi for Autocompletion in Python\n",
    "- Slug: python-Jedi-autocompletion\n",
    "- Date: 2019-12-23\n",
    "- Category: Computer Science\n",
    "- Tags: programming, Python, Jedi, auto completion, autocompletion\n",
    "- Author: Ben Du\n",
    "- Modified: 2019-12-23\n"
   ]
  },
  {
   "cell_type": "markdown",
   "metadata": {},
   "source": [
    "Below is an example of auto completion using Jedi in Python."
   ]
  },
  {
   "cell_type": "code",
   "execution_count": 2,
   "metadata": {},
   "outputs": [
    {
     "name": "stdout",
     "output_type": "stream",
     "text": [
      "[<Completion: lower>]\n"
     ]
    }
   ],
   "source": [
    "import jedi\n",
    "\n",
    "source = \"\"\"\n",
    "def foo(bar: str):\n",
    "    print(bar.lo)\n",
    "\"\"\".strip()\n",
    "script = jedi.Script(source, 2, len(\"    print(bar.lo\"))\n",
    "print(script.completions())"
   ]
  },
  {
   "cell_type": "markdown",
   "metadata": {},
   "source": [
    "## References\n",
    "\n",
    "https://jedi.readthedocs.io/en/latest/"
   ]
  },
  {
   "cell_type": "code",
   "execution_count": null,
   "metadata": {},
   "outputs": [],
   "source": []
  }
 ],
 "metadata": {
  "kernelspec": {
   "display_name": "Python 3",
   "language": "python",
   "name": "python3"
  },
  "language_info": {
   "codemirror_mode": {
    "name": "ipython",
    "version": 3
   },
   "file_extension": ".py",
   "mimetype": "text/x-python",
   "name": "python",
   "nbconvert_exporter": "python",
   "pygments_lexer": "ipython3",
   "version": "3.7.3"
  }
 },
 "nbformat": 4,
 "nbformat_minor": 4
}