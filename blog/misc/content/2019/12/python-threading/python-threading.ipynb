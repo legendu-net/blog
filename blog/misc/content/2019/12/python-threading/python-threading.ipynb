{
 "cells": [
  {
   "cell_type": "markdown",
   "metadata": {},
   "source": [
    "- Title: Hands on the Python module threading\n",
    "- Slug: python-threading\n",
    "- Date: 2019-12-19 09:41:32\n",
    "- Category: Computer Science\n",
    "- Tags: programming, Python, HPC, high performance computing, threading, thread\n",
    "- Author: Ben Du\n",
    "- Modified: 2019-12-19 09:41:32\n"
   ]
  },
  {
   "cell_type": "markdown",
   "metadata": {},
   "source": [
    "https://docs.python.org/3/library/threading.html#module-threading\n",
    "\n",
    "https://docs.python.org/3/library/_thread.html#module-_thread"
   ]
  },
  {
   "cell_type": "code",
   "execution_count": 2,
   "metadata": {},
   "outputs": [],
   "source": [
    "import threading\n",
    "from time import ctime, sleep"
   ]
  },
  {
   "cell_type": "code",
   "execution_count": 3,
   "metadata": {},
   "outputs": [],
   "source": [
    "class MyThread(threading.Thread):\n",
    "    def __init__(self, func, args, name=''):\n",
    "        threading.Thread.__init__(self)  # initialize Thread\n",
    "        self.func = func  # the function for the thread to run\n",
    "        self.args = args  # the arguments of func\n",
    "        self.name = name  # name of thread\n",
    "\n",
    "    def run(self):\n",
    "        print(\"The thread %s started at %s\" % (self.name, ctime()))\n",
    "        self.res = self.func(*self.args)\n",
    "        print(\"The thread %s ended at %s\" % (self.name, ctime()))\n",
    "\n",
    "    def getResult(self):\n",
    "        return self.res"
   ]
  },
  {
   "cell_type": "code",
   "execution_count": 6,
   "metadata": {},
   "outputs": [],
   "source": [
    "def i_o(x):\n",
    "    \"\"\"Mimic IO using sleep.\n",
    "    \"\"\"\n",
    "    sleep(x)\n",
    "    return x"
   ]
  },
  {
   "cell_type": "code",
   "execution_count": 9,
   "metadata": {},
   "outputs": [],
   "source": [
    "def main():\n",
    "    fib_num = [[3], [2], [4]]\n",
    "    threads = []\n",
    "    for i, num in enumerate(fib_num):\n",
    "        threads.append(MyThread(i_o, num, i))\n",
    "    for item in threads:\n",
    "        item.start()\n",
    "    for item in threads:\n",
    "        item.join()\n",
    "        print(\"%s: %s\" % (item.name, item.getResult()))"
   ]
  },
  {
   "cell_type": "code",
   "execution_count": 8,
   "metadata": {},
   "outputs": [
    {
     "name": "stdout",
     "output_type": "stream",
     "text": [
      "The thread 0 started at Wed Dec 18 16:13:35 2019The thread 1 started at Wed Dec 18 16:13:35 2019\n",
      "\n",
      "The thread 2 started at Wed Dec 18 16:13:35 2019\n",
      "The thread 1 ended at Wed Dec 18 16:13:37 2019\n",
      "The thread 0 ended at Wed Dec 18 16:13:38 2019\n",
      "0: 3\n",
      "1: 2\n",
      "The thread 2 ended at Wed Dec 18 16:13:39 2019\n",
      "2: 4\n"
     ]
    }
   ],
   "source": [
    "main()"
   ]
  },
  {
   "cell_type": "code",
   "execution_count": null,
   "metadata": {},
   "outputs": [],
   "source": []
  }
 ],
 "metadata": {
  "kernelspec": {
   "display_name": "Python 3",
   "language": "python",
   "name": "python3"
  },
  "language_info": {
   "codemirror_mode": {
    "name": "ipython",
    "version": 3
   },
   "file_extension": ".py",
   "mimetype": "text/x-python",
   "name": "python",
   "nbconvert_exporter": "python",
   "pygments_lexer": "ipython3",
   "version": "3.7.3"
  }
 },
 "nbformat": 4,
 "nbformat_minor": 4
}