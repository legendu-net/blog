{
 "cells": [
  {
   "cell_type": "markdown",
   "metadata": {},
   "source": [
    "- Title: Convert an Image to Differnt Modes Using Pillow in Python\n",
    "- Slug: python-pillow-image-convert\n",
    "- Date: 2020-03-11 21:00:59\n",
    "- Category: Computer Science\n",
    "- Tags: programming, Python, Pillow, computer vision, CV, image, PIL, black and white, grayscale, mode, RGBA, RGB\n",
    "- Author: Ben Du\n",
    "- Modified: 2020-03-11 21:00:59\n"
   ]
  },
  {
   "cell_type": "code",
   "execution_count": 1,
   "metadata": {},
   "outputs": [],
   "source": [
    "import numpy as np\n",
    "from PIL import Image, ImageOps"
   ]
  },
  {
   "cell_type": "code",
   "execution_count": 2,
   "metadata": {},
   "outputs": [
    {
     "data": {
      "image/png": "[encoded data removed]",
      "text/plain": "<PIL.PngImagePlugin.PngImageFile image mode=RGB size=37x54 at 0x11DB473D0>"
     },
     "execution_count": 2,
     "metadata": {},
     "output_type": "execute_result"
    }
   ],
   "source": [
    "img = Image.open(\"../../home/media/poker/4h.png\")\n",
    "img"
   ]
  },
  {
   "cell_type": "markdown",
   "metadata": {},
   "source": [
    "## Comments\n",
    "\n",
    "1. You can use the method `Image.convert` to convert a `PIL.Image` to different modes.\n",
    "    \n",
    "2. `ImageOps.grayscale(img)` is equivalent to `img.convert(\"L\")`.\n",
    "    As a matter of fact,\n",
    "    `ImageOps.grayscale(img)` directly calls `img.convert(\"L\")`\n",
    "    according to [the implementation](https://github.com/python-pillow/Pillow/blob/master/src/PIL/ImageOps.py#L462)."
   ]
  },
  {
   "cell_type": "markdown",
   "metadata": {},
   "source": [
    "## Gray Scale - \"L\" Mode"
   ]
  },
  {
   "cell_type": "code",
   "execution_count": 14,
   "metadata": {},
   "outputs": [
    {
     "data": {
      "image/png": "[encoded data removed]",
      "text/plain": [
       "<PIL.Image.Image image mode=L size=37x54 at 0x7F4515F85160>"
      ]
     },
     "execution_count": 14,
     "metadata": {},
     "output_type": "execute_result"
    }
   ],
   "source": [
    "ImageOps.grayscale(img)"
   ]
  },
  {
   "cell_type": "code",
   "execution_count": 16,
   "metadata": {},
   "outputs": [
    {
     "data": {
      "image/png": "[encoded data removed]",
      "text/plain": [
       "<PIL.Image.Image image mode=L size=37x54 at 0x7F4515F85748>"
      ]
     },
     "execution_count": 16,
     "metadata": {},
     "output_type": "execute_result"
    }
   ],
   "source": [
    "img.convert(\"L\")"
   ]
  },
  {
   "cell_type": "markdown",
   "metadata": {},
   "source": [
    "## Black-and-White - \"1\" Mode\n",
    "\n",
    "By default, dithering is applied (white noisies are added)."
   ]
  },
  {
   "cell_type": "code",
   "execution_count": 25,
   "metadata": {},
   "outputs": [
    {
     "data": {
      "image/png": "[encoded data removed]",
      "text/plain": [
       "<PIL.Image.Image image mode=1 size=37x54 at 0x7F27CE694908>"
      ]
     },
     "execution_count": 25,
     "metadata": {},
     "output_type": "execute_result"
    }
   ],
   "source": [
    "img.convert(\"1\")"
   ]
  },
  {
   "cell_type": "markdown",
   "metadata": {},
   "source": [
    "You can disable dithering with the option `dither=False`."
   ]
  },
  {
   "cell_type": "code",
   "execution_count": 18,
   "metadata": {},
   "outputs": [
    {
     "data": {
      "image/png": "[encoded data removed]",
      "text/plain": [
       "<PIL.Image.Image image mode=1 size=37x54 at 0x7F4515F85E80>"
      ]
     },
     "execution_count": 18,
     "metadata": {},
     "output_type": "execute_result"
    }
   ],
   "source": [
    "img_bw = img.convert(\"1\", dither=False)\n",
    "img_bw"
   ]
  },
  {
   "cell_type": "code",
   "execution_count": 19,
   "metadata": {},
   "outputs": [
    {
     "data": {
      "image/png": "[encoded data removed]",
      "text/plain": [
       "<PIL.Image.Image image mode=1 size=37x54 at 0x7F458C8BF080>"
      ]
     },
     "execution_count": 19,
     "metadata": {},
     "output_type": "execute_result"
    }
   ],
   "source": [
    "img_bw.convert(\"1\", dither=False)"
   ]
  },
  {
   "cell_type": "markdown",
   "metadata": {},
   "source": [
    "When a black-and-white image is converted to a numpy array,\n",
    "a 2-dimensional array (instead of 3-dimensional) is returned."
   ]
  },
  {
   "cell_type": "code",
   "execution_count": 22,
   "metadata": {},
   "outputs": [
    {
     "data": {
      "text/plain": [
       "array([[False,  True,  True, ...,  True,  True,  True],\n",
       "       [ True,  True,  True, ...,  True,  True,  True],\n",
       "       [ True,  True,  True, ...,  True,  True,  True],\n",
       "       ...,\n",
       "       [False,  True,  True, ...,  True,  True,  True],\n",
       "       [False, False, False, ..., False, False, False],\n",
       "       [False, False, False, ..., False, False, False]])"
      ]
     },
     "execution_count": 22,
     "metadata": {},
     "output_type": "execute_result"
    }
   ],
   "source": [
    "np.array(img_bw)"
   ]
  },
  {
   "cell_type": "markdown",
   "metadata": {},
   "source": [
    "You can also use Pillow to convert an image to other (colorfull) modes. \n",
    "For more details, \n",
    "please refer to \n",
    "[Modes of the Method Image.convert](https://pillow.readthedocs.io/en/stable/handbook/concepts.html#concept-modes)\n",
    "."
   ]
  },
  {
   "cell_type": "code",
   "execution_count": 26,
   "metadata": {},
   "outputs": [
    {
     "name": "stdout",
     "output_type": "stream",
     "text": [
      "--2020-02-16 11:00:53--  https://i.imgur.com/mB96s.png\n",
      "Resolving i.imgur.com (i.imgur.com)... 127.0.0.1\n",
      "Connecting to i.imgur.com (i.imgur.com)|127.0.0.1|:443... failed: Connection refused.\n"
     ]
    }
   ],
   "source": [
    "!wget https://i.imgur.com/mB96s.png"
   ]
  },
  {
   "cell_type": "code",
   "execution_count": 27,
   "metadata": {},
   "outputs": [
    {
     "data": {
      "image/png": "[encoded data removed]",
      "text/plain": [
       "<PIL.PngImagePlugin.PngImageFile image mode=RGB size=518x604 at 0x7F4515F7A160>"
      ]
     },
     "execution_count": 27,
     "metadata": {},
     "output_type": "execute_result"
    }
   ],
   "source": [
    "Image.open(\"mB96s.png\")"
   ]
  },
  {
   "cell_type": "code",
   "execution_count": 30,
   "metadata": {},
   "outputs": [
    {
     "data": {
      "image/png": "[encoded data removed]",
      "text/plain": [
       "<PIL.Image.Image image mode=L size=518x604 at 0x7F4517776EF0>"
      ]
     },
     "execution_count": 30,
     "metadata": {},
     "output_type": "execute_result"
    }
   ],
   "source": [
    "Image.open(\"mB96s.png\").convert(\"L\")"
   ]
  },
  {
   "cell_type": "code",
   "execution_count": 34,
   "metadata": {},
   "outputs": [],
   "source": [
    "def binarize(arr2d, threshold=200):\n",
    "    arr2d = arr2d.copy()\n",
    "    nrow, ncol = arr2d.shape\n",
    "    for i in range(nrow):\n",
    "        for j in range(ncol):\n",
    "            if arr2d[i, j] > threshold:\n",
    "                arr2d[i, j] = 255\n",
    "            else:\n",
    "                arr2d[i, j] = 0\n",
    "    return arr2d"
   ]
  },
  {
   "cell_type": "code",
   "execution_count": 35,
   "metadata": {},
   "outputs": [
    {
     "data": {
      "image/png": "[encoded data removed]",
      "text/plain": [
       "<PIL.Image.Image image mode=L size=518x604 at 0x7F458C8BF400>"
      ]
     },
     "execution_count": 35,
     "metadata": {},
     "output_type": "execute_result"
    }
   ],
   "source": [
    "img_gs = Image.open(\"mB96s.png\").convert(\"L\")\n",
    "Image.fromarray(binarize(np.array(img_gs)))"
   ]
  },
  {
   "cell_type": "code",
   "execution_count": 36,
   "metadata": {},
   "outputs": [
    {
     "data": {
      "image/png": "[encoded data removed]",
      "text/plain": [
       "<PIL.Image.Image image mode=1 size=518x604 at 0x7F4515F59978>"
      ]
     },
     "execution_count": 36,
     "metadata": {},
     "output_type": "execute_result"
    }
   ],
   "source": [
    "Image.open(\"mB96s.png\").convert(\"1\", dither=False)"
   ]
  },
  {
   "cell_type": "code",
   "execution_count": 37,
   "metadata": {},
   "outputs": [
    {
     "data": {
      "image/png": "[encoded data removed]",
      "text/plain": [
       "<PIL.Image.Image image mode=1 size=518x604 at 0x7F458C8BF6A0>"
      ]
     },
     "execution_count": 37,
     "metadata": {},
     "output_type": "execute_result"
    }
   ],
   "source": [
    "Image.open(\"mB96s.png\").convert(\"L\").convert(\"1\", dither=False)"
   ]
  },
  {
   "cell_type": "markdown",
   "metadata": {},
   "source": [
    "## Convert a RGBA Image to RGB"
   ]
  },
  {
   "cell_type": "code",
   "execution_count": 4,
   "metadata": {},
   "outputs": [
    {
     "data": {
      "text/plain": "'RGBA'"
     },
     "execution_count": 4,
     "metadata": {},
     "output_type": "execute_result"
    }
   ],
   "source": [
    "img_rgba = img.convert(\"RGBA\")\n",
    "img_rgba.mode"
   ]
  },
  {
   "cell_type": "code",
   "execution_count": 5,
   "metadata": {},
   "outputs": [
    {
     "data": {
      "text/plain": "'RGB'"
     },
     "execution_count": 5,
     "metadata": {},
     "output_type": "execute_result"
    }
   ],
   "source": [
    "img_rgb = img_rgba.convert(\"RGB\")\n",
    "img_rgb.mode"
   ]
  },
  {
   "cell_type": "markdown",
   "metadata": {},
   "source": [
    "## References\n",
    "\n",
    "http://www.blog.pythonlibrary.org/2017/10/11/convert-a-photo-to-black-and-white-in-python/\n",
    "\n",
    "https://brohrer.github.io/convert_rgb_to_grayscale.html\n",
    "\n",
    "https://stackoverflow.com/questions/12201577/how-can-i-convert-an-rgb-image-into-grayscale-in-python\n",
    "\n",
    "https://stackoverflow.com/questions/9506841/using-python-pil-to-turn-a-rgb-image-into-a-pure-black-and-white-image\n",
    "\n",
    "[Modes of the Method Image.convert](https://pillow.readthedocs.io/en/stable/handbook/concepts.html#concept-modes)\n",
    "\n",
    "[Source Code of the ImageOps Class](https://github.com/python-pillow/Pillow/blob/master/src/PIL/ImageOps.py)\n",
    "\n",
    "[Source Code of the Image Class](https://github.com/python-pillow/Pillow/blob/master/src/PIL/Image.py)\n",
    "\n",
    "https://www.rapidtables.com/web/color/white-color.html\n",
    "\n",
    "https://www.rapidtables.com/web/color/black-color.html"
   ]
  },
  {
   "cell_type": "code",
   "execution_count": null,
   "metadata": {},
   "outputs": [],
   "source": []
  }
 ],
 "metadata": {
  "kernelspec": {
   "display_name": "Python 3",
   "language": "python",
   "name": "python3"
  },
  "language_info": {
   "codemirror_mode": {
    "name": "ipython",
    "version": 3
   },
   "file_extension": ".py",
   "mimetype": "text/x-python",
   "name": "python",
   "nbconvert_exporter": "python",
   "pygments_lexer": "ipython3",
   "version": "3.7.6-final"
  }
 },
 "nbformat": 4,
 "nbformat_minor": 4
}