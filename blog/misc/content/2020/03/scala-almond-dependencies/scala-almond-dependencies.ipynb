{
 "cells": [
  {
   "cell_type": "markdown",
   "metadata": {},
   "source": [
    "- Title: Specify Dependencies in the Almond Scala Kernel in JupyterLab\n",
    "- Slug: scala-almond-dependencies\n",
    "- Date: 2020-03-25 17:44:17\n",
    "- Category: Computer Science\n",
    "- Tags: programming, Scala, JVM, Almond, JupyterLab, dependencies, Ammonite\n",
    "- Author: Ben Du\n",
    "- Modified: 2020-03-25 17:44:17\n"
   ]
  },
  {
   "cell_type": "markdown",
   "metadata": {},
   "source": [
    "## Jar Dependency\n",
    "\n",
    "The way to add Jar dependency in Almond is the same as in \n",
    "[Ammonite](http://ammonite.io/#Ammonite-REPL)."
   ]
  },
  {
   "cell_type": "code",
   "execution_count": null,
   "metadata": {},
   "outputs": [],
   "source": [
    "interp.load.cp(os.Path(\"/absolute/path/to/file.jar\"))"
   ]
  },
  {
   "cell_type": "code",
   "execution_count": null,
   "metadata": {},
   "outputs": [],
   "source": [
    "import $cp.`/absolute/path/to/file.jar`"
   ]
  },
  {
   "cell_type": "markdown",
   "metadata": {},
   "source": [
    "## Maven Dependency\n",
    "\n",
    "1. Notice that `%%` (in `interp.load.ivy`) and `::` (in `import $ivy...`) \n",
    "    automatically suffix the short version of the current Scala distribution (e.g., `_2.12`)\n",
    "    to the artifact name. \n",
    "    For example, \n",
    "    if your current Scala distribution is 2.12, \n",
    "    then the following 2 statements are equivalent.\n",
    "    ```scala\n",
    "    interp.load.ivy(\"org.apache.spark\" % \"spark-core_2.12\" % \"2.3.1\")\n",
    "    interp.load.ivy(\"org.apache.spark\" %% \"spark-core\" % \"2.3.1\")\n",
    "    ```\n",
    "    This is specific to Scala. \n",
    "    You almost never need to use `%%` or `::` when you add a Java library dependency."
   ]
  },
  {
   "cell_type": "code",
   "execution_count": null,
   "metadata": {},
   "outputs": [],
   "source": [
    "import $ivy.`org.apache.spark:spark-sql_2.12:2.4.2` \n",
    "import $ivy.`org.apache.spark::spark-sql:2.4.2` "
   ]
  },
  {
   "cell_type": "code",
   "execution_count": null,
   "metadata": {},
   "outputs": [],
   "source": [
    "interp.load.ivy(\"org.apache.spark\" % \"spark-core_2.12\" % \"2.4.2\")\n",
    "interp.load.ivy(\"org.apache.spark\" %% \"spark-sql\" % \"2.4.2\")"
   ]
  },
  {
   "cell_type": "markdown",
   "metadata": {},
   "source": [
    "## Almond Jupyter/Lab API\n",
    "\n",
    "https://almond.sh/docs/api-jupyter"
   ]
  },
  {
   "cell_type": "markdown",
   "metadata": {},
   "source": [
    "## References\n",
    "\n",
    "https://almond.sh/\n",
    "\n",
    "http://ammonite.io/\n",
    "\n",
    "https://almond.sh/docs/api-ammonite.html#load-dependencies\n",
    "\n",
    "https://github.com/almond-sh/examples/tree/master/notebooks"
   ]
  },
  {
   "cell_type": "code",
   "execution_count": null,
   "metadata": {},
   "outputs": [],
   "source": []
  }
 ],
 "metadata": {
  "kernelspec": {
   "display_name": "Scala",
   "language": "scala",
   "name": "scala"
  },
  "language_info": {
   "codemirror_mode": "text/x-scala",
   "file_extension": ".scala",
   "mimetype": "text/x-scala",
   "name": "scala",
   "nbconvert_exporter": "script",
   "version": "2.12.10"
  }
 },
 "nbformat": 4,
 "nbformat_minor": 4
}