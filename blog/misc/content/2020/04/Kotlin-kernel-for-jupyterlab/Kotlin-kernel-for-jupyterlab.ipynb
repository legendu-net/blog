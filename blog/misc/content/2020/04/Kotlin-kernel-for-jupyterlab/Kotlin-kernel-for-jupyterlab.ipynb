{
 "nbformat": 4,
 "nbformat_minor": 2,
 "metadata": {
  "language_info": {
   "name": "python",
   "codemirror_mode": {
    "name": "ipython",
    "version": 3
   }
  },
  "orig_nbformat": 2,
  "file_extension": ".py",
  "mimetype": "text/x-python",
  "name": "python",
  "npconvert_exporter": "python",
  "pygments_lexer": "ipython3",
  "version": 3
 },
 "cells": [
  {
   "cell_type": "markdown",
   "execution_count": null,
   "metadata": {},
   "outputs": [],
   "source": [
    "- Author: Ben Du\n",
    "- Date: 2020-04-20 13:15:09\n",
    "- Title: Kotlin Kernel for JupyterLab\n",
    "- Slug: Kotlin-kernel-for-jupyterlab\n",
    "- Category: Computer Science\n",
    "- Tags: Computer Science, Kotlin, Jupyter, JupyterLab, kernel, dependency, JetBrains\n",
    "- Modified: 2020-04-20 13:15:09\n"
   ]
  },
  {
   "cell_type": "markdown",
   "metadata": {},
   "source": [
    "## Tips and Traps\n",
    "\n",
    "There are multiple Kotlin kernels for JupyterLab. \n",
    "It is is suggested that you use official one released by JetBrains."
   ]
  },
  {
   "cell_type": "markdown",
   "metadata": {},
   "source": [
    "## Jar Dependencies\n",
    "\n",
    "You can add a JAR dependency using the following code."
   ]
  },
  {
   "cell_type": "code",
   "execution_count": null,
   "metadata": {},
   "outputs": [],
   "source": [
    "@file:DependsOn(\"/workdir/archives/poker/ofcp-gui/poker-core-1.1.0-shadow.jar\")"
   ]
  },
  {
   "cell_type": "markdown",
   "metadata": {},
   "source": [
    "## Maven Dependencies"
   ]
  },
  {
   "cell_type": "code",
   "execution_count": null,
   "metadata": {},
   "outputs": [],
   "source": []
  }
 ]
}