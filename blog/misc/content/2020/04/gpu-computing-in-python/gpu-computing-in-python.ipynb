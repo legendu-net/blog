{
 "cells": [
  {
   "cell_type": "markdown",
   "metadata": {},
   "source": [
    "- Author: Ben Du\n",
    "- Date: 2020-04-09 13:17:05\n",
    "- Title: GPU Computing in Python\n",
    "- Slug: gpu-computing-in-python\n",
    "- Category: Computer Science\n",
    "- Tags: Computer Science, GPU, Python\n",
    "- Modified: 2020-05-09 13:17:05\n"
   ]
  },
  {
   "cell_type": "markdown",
   "metadata": {},
   "source": [
    "## General Purpose GPU Computing\n",
    "\n",
    "### [pyculib](https://github.com/numba/pyculib)\n",
    "\n",
    "### [PyCUDA](https://github.com/inducer/pycuda)\n",
    "\n",
    "    CUDA integration for Python, plus shiny features.\n",
    "    \n",
    "### [cupy](https://github.com/cupy/cupy)\n",
    "\n",
    "    NumPy-like API accelerated with CUDA.\n",
    "    \n",
    "### [cudf](https://github.com/rapidsai/cudf)\n",
    "\n",
    "    cuDF - GPU DataFrame Library.\n",
    "    \n",
    "### [jax](https://github.com/google/jax)\n",
    "\n",
    "### [cuml](https://github.com/rapidsai/cuml)"
   ]
  },
  {
   "cell_type": "markdown",
   "metadata": {},
   "source": [
    "## Graphics Rendering\n",
    "\n",
    "[PyOpenGL](https://github.com/mcfletch/pyopengl)"
   ]
  },
  {
   "cell_type": "markdown",
   "metadata": {},
   "source": [
    "## Machine Learning Libraries\n",
    "\n",
    "Most machine learning libraries in Python support GPU computing. \n",
    "I list the most famous ones below.\n",
    "\n",
    "### LightGBM\n",
    "\n",
    "### AutoGluon\n",
    "\n",
    "### PyTorch\n",
    "\n",
    "### TensorFlow\n",
    "\n",
    "### Apache Ray\n",
    "\n",
    "### Horovod\n",
    "\n",
    "### ZeRO + DeepSpeed"
   ]
  },
  {
   "cell_type": "code",
   "execution_count": null,
   "metadata": {},
   "outputs": [],
   "source": []
  }
 ],
 "metadata": {
  "file_extension": ".py",
  "kernelspec": {
   "display_name": "Python 3",
   "language": "python",
   "name": "python3"
  },
  "language_info": {
   "codemirror_mode": {
    "name": "ipython",
    "version": 3
   },
   "file_extension": ".py",
   "mimetype": "text/x-python",
   "name": "python",
   "nbconvert_exporter": "python",
   "pygments_lexer": "ipython3",
   "version": "3.8.5"
  },
  "mimetype": "text/x-python",
  "name": "python",
  "npconvert_exporter": "python",
  "pygments_lexer": "ipython3",
  "version": 3
 },
 "nbformat": 4,
 "nbformat_minor": 4
}