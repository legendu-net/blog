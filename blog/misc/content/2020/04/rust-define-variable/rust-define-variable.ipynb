{
 "cells": [
  {
   "cell_type": "markdown",
   "metadata": {},
   "source": [
    "- Title: Define Variables in Rust\n",
    "- Slug: rust-define-variable\n",
    "- Date: 2020-04-24 07:36:11\n",
    "- Category: Computer Science\n",
    "- Tags: programming, Rust, define, variable, let, mut, const, static\n",
    "- Author: Ben Du\n",
    "- Modified: 2021-04-24 07:36:11\n"
   ]
  },
  {
   "cell_type": "markdown",
   "metadata": {},
   "source": [
    "## let\n",
    "\n",
    "1. By default,\n",
    "    `let` defines an immutble variable.\n",
    "    To define a mutable variable,\n",
    "    you have to use `let mut`.\n",
    "    \n",
    "2. `let` can only be used in a function,\n",
    "    which means that you cannot define a variable using `let` in a module."
   ]
  },
  {
   "cell_type": "code",
   "execution_count": 20,
   "metadata": {},
   "outputs": [
    {
     "data": {
      "text/plain": [
       "1"
      ]
     },
     "execution_count": 20,
     "metadata": {},
     "output_type": "execute_result"
    }
   ],
   "source": [
    "let x = 1;\n",
    "x"
   ]
  },
  {
   "cell_type": "code",
   "execution_count": 21,
   "metadata": {},
   "outputs": [
    {
     "ename": "Error",
     "evalue": "cannot assign twice to immutable variable `x`",
     "output_type": "error",
     "traceback": [
      "x = 2;",
      "^^^^^ cannot assign twice to immutable variable",
      "cannot assign twice to immutable variable `x`"
     ]
    }
   ],
   "source": [
    "x = 2"
   ]
  },
  {
   "cell_type": "markdown",
   "metadata": {},
   "source": [
    "## let mut"
   ]
  },
  {
   "cell_type": "code",
   "execution_count": 19,
   "metadata": {},
   "outputs": [
    {
     "data": {
      "text/plain": [
       "3"
      ]
     },
     "execution_count": 19,
     "metadata": {},
     "output_type": "execute_result"
    }
   ],
   "source": [
    "let mut y = 2;\n",
    "y = 3;\n",
    "y"
   ]
  },
  {
   "cell_type": "markdown",
   "metadata": {},
   "source": [
    "## const\n",
    "\n",
    "You must specify the type of a variable explicitly \n",
    "when defining it using the `const` keyword."
   ]
  },
  {
   "cell_type": "code",
   "execution_count": 17,
   "metadata": {},
   "outputs": [
    {
     "ename": "Error",
     "evalue": "expected `:`, found `=`",
     "output_type": "error",
     "traceback": [
      "const my_const_var = 1;",
      "                   ^ expected `:`",
      "expected `:`, found `=`"
     ]
    }
   ],
   "source": [
    "const my_const_var = 1;"
   ]
  },
  {
   "cell_type": "code",
   "execution_count": 16,
   "metadata": {},
   "outputs": [],
   "source": [
    "const my_const_var: i32 = 1;"
   ]
  },
  {
   "cell_type": "markdown",
   "metadata": {},
   "source": [
    "## `let` vs `const`\n",
    "\n",
    "- `mut` is NOT allowed with `const` since a const can never be changed. \n",
    "\n",
    "- `const` requires explit types while `let` support type inference.\n",
    "\n",
    "- A `const` variable is resolved and inlined at compile time \n",
    "    which means that a `const` variable must be a constant expression which can be determined at compile time.\n",
    "    It cannot be the result of a function call or anything that could only be determined at runtime."
   ]
  },
  {
   "cell_type": "markdown",
   "metadata": {},
   "source": [
    "## `static` vs `const`\n",
    "\n",
    "There is a very good discussion at\n",
    "[Const vs static](https://users.rust-lang.org/t/const-vs-static/52951)\n",
    ".\n",
    "To sum up,  \n",
    "1. Both `const` and `static` requires explicit types.  \n",
    "2. A const variable is inlined into the code at compile time.  \n",
    "3. Currently, \n",
    "    you can associate a const variable with a struct \n",
    "    but you cannot associate a static variable with a struct. \n",
    "    However,\n",
    "    this might change in future\n",
    "    as there is a \n",
    "    [Pre-RFC: Associated statics](https://internals.rust-lang.org/t/pre-rfc-associated-statics/9092)\n",
    "    proposing supporting associated statics.\n",
    "4. You probably do not really need const ..."
   ]
  },
  {
   "cell_type": "code",
   "execution_count": 8,
   "metadata": {},
   "outputs": [],
   "source": [
    "mod abc {\n",
    "    pub static x: i8 = 1;\n",
    "}"
   ]
  },
  {
   "cell_type": "code",
   "execution_count": 9,
   "metadata": {},
   "outputs": [
    {
     "data": {
      "text/plain": [
       "1"
      ]
     },
     "execution_count": 9,
     "metadata": {},
     "output_type": "execute_result"
    }
   ],
   "source": [
    "abc::x"
   ]
  },
  {
   "cell_type": "markdown",
   "metadata": {},
   "source": [
    "## References\n",
    "\n",
    "[Const vs static](https://users.rust-lang.org/t/const-vs-static/52951)"
   ]
  },
  {
   "cell_type": "code",
   "execution_count": null,
   "metadata": {},
   "outputs": [],
   "source": []
  }
 ],
 "metadata": {
  "kernelspec": {
   "display_name": "Rust",
   "language": "rust",
   "name": "rust"
  },
  "language_info": {
   "codemirror_mode": "rust",
   "file_extension": ".rs",
   "mimetype": "text/rust",
   "name": "Rust",
   "pygment_lexer": "rust",
   "version": ""
  }
 },
 "nbformat": 4,
 "nbformat_minor": 4
}