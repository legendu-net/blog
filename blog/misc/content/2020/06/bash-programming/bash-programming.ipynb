{
 "nbformat": 4,
 "nbformat_minor": 2,
 "metadata": {
  "language_info": {
   "name": "python",
   "codemirror_mode": {
    "name": "ipython",
    "version": 3
   }
  },
  "orig_nbformat": 2,
  "file_extension": ".py",
  "mimetype": "text/x-python",
  "name": "python",
  "npconvert_exporter": "python",
  "pygments_lexer": "ipython3",
  "version": 3
 },
 "cells": [
  {
   "cell_type": "markdown",
   "execution_count": null,
   "metadata": {},
   "outputs": [],
   "source": [
    "- Author: Ben Du\n",
    "- Date: 2020-06-23 00:21:31\n",
    "- Title: Bash Programming\n",
    "- Slug: bash-programming\n",
    "- Category: Computer Science\n",
    "- Tags: Computer Science, bash, programming, shell\n",
    "- Modified: 2020-06-23 00:21:31\n"
   ]
  },
  {
   "cell_type": "markdown",
   "execution_count": null,
   "metadata": {},
   "outputs": [],
   "source": [
    "## [Parse Arguments in Bash](http://www.legendu.net/misc/blog/parse-arguments-in-bash/)"
   ]
  },
  {
   "cell_type": "markdown",
   "execution_count": null,
   "metadata": {},
   "outputs": [],
   "source": [
    "## Environment Variables"
   ]
  },
  {
   "cell_type": "markdown",
   "execution_count": null,
   "metadata": {},
   "outputs": [],
   "source": [
    "export\n",
    "\n",
    "unset"
   ]
  },
  {
   "cell_type": "markdown",
   "execution_count": null,
   "metadata": {},
   "outputs": [],
   "source": [
    "## Tips and Traps \n",
    "\n",
    "1. [explainshell.com](http://www.explainshell.com/) \n",
    "    is a great place for learning shell. \n",
    "\n",
    "2. [Bash-it/bash-it](https://github.com/Bash-it/bash-it)\n",
    "    is a great community driven Bash framework.\n",
    "\n",
    "3. It is suggested that you avoid writing complicated Bash scripts. \n",
    "    [IPython](https://ipython.readthedocs.io/en/stable/)\n",
    "    is a much better alternative.\n",
    "\n",
    "4. Do NOT use `;` to delimit paths passed to a shell command because `;` terminates shell commands.\n",
    "  Use `,` to delimit paths if needed.\n",
    "\n",
    "5. `$(some_command)` is preferred over ```some_command```.\n",
    "    For more details, \n",
    "    please refer to http://mywiki.wooledge.org/BashFAQ/082.\n",
    "    \n",
    "## Redirect Output\n",
    "\n",
    "1. Redirect `stdout` to the file `output` and `stderr` to another file `error`.\n",
    "    ```\n",
    "    command > output 2> error\n",
    "    ```\n",
    "\n",
    "2. Redirect `stderr` to `stdout` (`&1`), and then redirect `stdout` to the file `output`.\n",
    "\n",
    "        command > output 2>&1\n",
    "\n",
    "3. Redirect both `stdout` and `stderr` to the file `output`.\n",
    "\n",
    "        command &> output\n",
    "\n",
    "4. It seems to me that `tee` does not work well sometimes. \n",
    "    Basically, \n",
    "    I have a Python script calling shell comamnds using `subprocess.call`.\n",
    "    The output of the shell commands cannot be captured by `tee`.\n",
    "    However, \n",
    "    redirection using `>` partially works.\n",
    "    Output of `git` commands (invoked by `subprocess.call`) cannot be redirected correctly.\n",
    "    Actually, \n",
    "    it turned out to be that both `>` and `tee` only works on a file in the current directly. \n",
    "    And even so, \n",
    "    some output of the `git` command invoked by `subprocess.call` is not captured.\n",
    "    I have no idea why that happens.\n",
    "    Not sure whether this is a bug in Mac, the Bash shell\n",
    "    or due to the fact that I mixed shell commands and the print function in Python.\n",
    "\n",
    "5. If there are logging from difference resources \n",
    "    (e.g., both shell comamnd via `subprocess.call` and the print function in Python) \n",
    "    to the standard output,\n",
    "    make sure you flush the console so that output/error redirection works as expected. \n",
    "\n",
    "\n"
   ]
  },
  {
   "cell_type": "markdown",
   "execution_count": null,
   "metadata": {},
   "outputs": [],
   "source": [
    "## References\n",
    "\n",
    "http://www.legendu.net/misc/blog/bash-loops/\n",
    "\n",
    "http://www.legendu.net/misc/blog/bash-functions/\n",
    "\n",
    "http://www.legendu.net/misc/blog/environment-variables-in-shell/\n",
    "\n",
    "http://www.legendu.net/misc/blog/autocomplete-for-bash-in-mac/\n",
    "\n",
    "https://askubuntu.com/questions/625224/how-to-redirect-stderr-to-a-file\n",
    "\n",
    "https://askubuntu.com/questions/639877/tee-doesnt-get-whole-output-from-the-pipe\n",
    "\n",
    "https://unix.stackexchange.com/questions/306111/what-is-the-difference-between-the-bash-operators-vs-vs-vs\n",
    "\n",
    "https://stackoverflow.com/questions/2953646/how-can-i-declare-and-use-boolean-variables-in-a-shell-script"
   ]
  },
  {
   "cell_type": "code",
   "execution_count": null,
   "metadata": {},
   "outputs": [],
   "source": []
  }
 ]
}