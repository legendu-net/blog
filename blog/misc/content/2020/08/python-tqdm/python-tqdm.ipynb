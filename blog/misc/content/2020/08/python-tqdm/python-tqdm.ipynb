{
 "cells": [
  {
   "cell_type": "markdown",
   "metadata": {},
   "source": [
    "- Title: Hands on the tqdm Module in Python\n",
    "- Slug: python-tqdm\n",
    "- Date: 2020-08-17 13:27:22\n",
    "- Category: Computer Science\n",
    "- Tags: programming, Python, tdqm, progress bar, trange\n",
    "- Author: Ben Du\n",
    "- Modified: 2020-08-17 13:27:22\n"
   ]
  },
  {
   "cell_type": "markdown",
   "metadata": {},
   "source": [
    "## Simple Use Case\n",
    "\n",
    "The usage of the tqdm module is really simple. \n",
    "All you need is to import the `tqdm` function from the `tqdm` module,\n",
    "and then wrap the function `tqdm` over the iterable object that you want iterate over.\n",
    "This is really convenient if you have a long running task\n",
    "and want to report the progress of the task."
   ]
  },
  {
   "cell_type": "code",
   "execution_count": 1,
   "metadata": {},
   "outputs": [
    {
     "name": "stderr",
     "output_type": "stream",
     "text": [
      "100%|\u2588\u2588\u2588\u2588\u2588\u2588\u2588\u2588\u2588\u2588| 100000/100000 [00:00<00:00, 1151357.70it/s]\n"
     ]
    }
   ],
   "source": [
    "from tqdm import tqdm\n",
    "\n",
    "arr = [i**2 for i in tqdm(range(100000))]"
   ]
  },
  {
   "cell_type": "markdown",
   "metadata": {},
   "source": [
    "You can specify the (guessed) total number of iterations using the argument `total`."
   ]
  },
  {
   "cell_type": "code",
   "execution_count": 4,
   "metadata": {},
   "outputs": [
    {
     "name": "stderr",
     "output_type": "stream",
     "text": [
      "100it [01:40,  1.00s/it]\n"
     ]
    }
   ],
   "source": [
    "import time\n",
    "\n",
    "for i in tqdm(range(100), total=10):\n",
    "    time.sleep(1)"
   ]
  },
  {
   "cell_type": "code",
   "execution_count": 6,
   "metadata": {},
   "outputs": [
    {
     "name": "stderr",
     "output_type": "stream",
     "text": [
      " 10%|\u2588         | 10/100 [00:10<01:30,  1.00s/it]\n"
     ]
    }
   ],
   "source": [
    "import time\n",
    "\n",
    "for i in tqdm(range(10), total=100):\n",
    "    time.sleep(1)"
   ]
  },
  {
   "cell_type": "markdown",
   "metadata": {},
   "source": [
    "Notice that `trange(i)` is a special optimised instance of `tqdm(range(i))`."
   ]
  },
  {
   "cell_type": "code",
   "execution_count": 1,
   "metadata": {},
   "outputs": [
    {
     "name": "stderr",
     "output_type": "stream",
     "text": [
      "100%|\u2588\u2588\u2588\u2588\u2588\u2588\u2588\u2588\u2588\u2588| 10000/10000 [00:00<00:00, 868116.32it/s]\n"
     ]
    }
   ],
   "source": [
    "from tqdm import trange\n",
    "\n",
    "arr = [i**2 for i in trange(0, 100000, 10)]"
   ]
  },
  {
   "cell_type": "markdown",
   "metadata": {},
   "source": [
    "## `tqdm` with `multiprocessing`\n",
    "\n",
    "The trick is to use `multiprocessing.Pool.imap` \n",
    "and use `tqdm` outside the map (rather than inside it).\n",
    "Notice that the time reported might not accurate (especially at the beginning and with long-running tasks). \n",
    "As more tasks get finished, \n",
    "the ETA is more reliable. "
   ]
  },
  {
   "cell_type": "code",
   "execution_count": null,
   "metadata": {},
   "outputs": [],
   "source": [
    "import multiprocessing as mp\n",
    "from tqdm import tqdm\n",
    "\n",
    "with mp.Pool(4) as pool:\n",
    "    for _ in tqdm(pool.imap(task, params), total=total):\n",
    "        pass"
   ]
  },
  {
   "cell_type": "markdown",
   "metadata": {},
   "source": [
    "## Command-line and Pipe\n",
    "\n",
    "`tqdm` can also be executed as a module with pipes."
   ]
  },
  {
   "cell_type": "code",
   "execution_count": 6,
   "metadata": {},
   "outputs": [
    {
     "name": "stdout",
     "output_type": "stream",
     "text": [
      "75.2MB [00:00, 140MB/s]\n",
      "9999999\n"
     ]
    }
   ],
   "source": [
    "seq 9999999 | tqdm --bytes | wc -l"
   ]
  },
  {
   "cell_type": "markdown",
   "metadata": {},
   "source": [
    "## References\n",
    "\n",
    "https://github.com/tqdm/tqdm\n",
    "\n",
    "[Multiprocessing : use tqdm to display a progress bar](https://stackoverflow.com/questions/41920124/multiprocessing-use-tqdm-to-display-a-progress-bar)\n"
   ]
  },
  {
   "cell_type": "code",
   "execution_count": null,
   "metadata": {},
   "outputs": [],
   "source": []
  }
 ],
 "metadata": {
  "kernelspec": {
   "display_name": "Python 3",
   "language": "python",
   "name": "python3"
  },
  "language_info": {
   "codemirror_mode": {
    "name": "ipython",
    "version": 3
   },
   "file_extension": ".py",
   "mimetype": "text/x-python",
   "name": "python",
   "nbconvert_exporter": "python",
   "pygments_lexer": "ipython3",
   "version": "3.8.6-final"
  }
 },
 "nbformat": 4,
 "nbformat_minor": 4
}