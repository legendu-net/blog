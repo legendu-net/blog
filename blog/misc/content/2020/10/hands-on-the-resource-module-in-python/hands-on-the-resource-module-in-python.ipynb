{
 "nbformat": 4,
 "nbformat_minor": 2,
 "metadata": {
  "language_info": {
   "name": "python",
   "codemirror_mode": {
    "name": "ipython",
    "version": 3
   },
   "version": "3.8.5-final"
  },
  "orig_nbformat": 2,
  "file_extension": ".py",
  "mimetype": "text/x-python",
  "name": "python",
  "npconvert_exporter": "python",
  "pygments_lexer": "ipython3",
  "version": 3,
  "kernelspec": {
   "name": "Python 3.8.5 64-bit",
   "display_name": "Python 3.8.5 64-bit",
   "metadata": {
    "interpreter": {
     "hash": "aee8b7b246df8f9039afb4144a1f6fd8d2ca17a180786b69acc140d282b71a49"
    }
   }
  }
 },
 "cells": [
  {
   "cell_type": "markdown",
   "metadata": {},
   "source": [
    "- Author: Ben Du\n",
    "- Date: 2020-10-24 12:24:03\n",
    "- Title: Hands on the Resource Module in Python\n",
    "- Slug: hands-on-the-resource-module-in-python\n",
    "- Category: Computer Science\n",
    "- Tags: Computer Science, programming, Python, resource, CPU, memory\n",
    "- Modified: 2020-10-24 12:24:03\n"
   ]
  },
  {
   "source": [
    "## Tips and Traps \n",
    "\n",
    "This module provides basic mechanisms \n",
    "for measuring and controlling system resources utilized by **a process and its subprocesses**.\n",
    "It cannot be used to check resource usage of other processes.\n"
   ],
   "cell_type": "markdown",
   "metadata": {}
  },
  {
   "cell_type": "code",
   "execution_count": 1,
   "metadata": {},
   "outputs": [
    {
     "output_type": "execute_result",
     "data": {
      "text/plain": [
       "resource.struct_rusage(ru_utime=1.233378, ru_stime=0.28574299999999997, ru_maxrss=87670784, ru_ixrss=0, ru_idrss=0, ru_isrss=0, ru_minflt=39163, ru_majflt=0, ru_nswap=0, ru_inblock=0, ru_oublock=0, ru_msgsnd=85, ru_msgrcv=73, ru_nsignals=0, ru_nvcsw=17, ru_nivcsw=6092)"
      ]
     },
     "metadata": {},
     "execution_count": 1
    }
   ],
   "source": [
    "import resource\n",
    "\n",
    "usage = resource.getrusage(resource.RUSAGE_SELF)\n",
    "usage"
   ]
  },
  {
   "cell_type": "code",
   "execution_count": 2,
   "metadata": {},
   "outputs": [
    {
     "output_type": "execute_result",
     "data": {
      "text/plain": [
       "'87,670,784'"
      ]
     },
     "metadata": {},
     "execution_count": 2
    }
   ],
   "source": [
    "\"{:,}\".format(usage.ru_maxrss)"
   ]
  },
  {
   "cell_type": "code",
   "execution_count": null,
   "metadata": {},
   "outputs": [],
   "source": []
  },
  {
   "cell_type": "code",
   "execution_count": null,
   "metadata": {},
   "outputs": [],
   "source": []
  },
  {
   "cell_type": "code",
   "execution_count": null,
   "metadata": {},
   "outputs": [],
   "source": []
  }
 ]
}