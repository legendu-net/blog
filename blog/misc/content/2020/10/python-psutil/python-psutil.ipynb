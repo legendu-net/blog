{
 "cells": [
  {
   "cell_type": "markdown",
   "metadata": {},
   "source": [
    "- Title: Hands on the psutil Module in Python\n",
    "- Slug: hands-on-psutil-python\n",
    "- Date: 2020-10-24 12:21:40\n",
    "- Category: Computer Science\n",
    "- Tags: programming, Python, psutil, process, Computer Science, CPU, memory, resource\n",
    "- Author: Ben Du\n",
    "- Modified: 2020-10-24 12:21:40\n"
   ]
  },
  {
   "cell_type": "code",
   "execution_count": 3,
   "metadata": {},
   "outputs": [
    {
     "name": "stdout",
     "output_type": "stream",
     "text": [
      "Collecting psutil\n",
      "  Downloading psutil-5.7.3.tar.gz (465 kB)\n",
      "\u001b[K     |\u2588\u2588\u2588\u2588\u2588\u2588\u2588\u2588\u2588\u2588\u2588\u2588\u2588\u2588\u2588\u2588\u2588\u2588\u2588\u2588\u2588\u2588\u2588\u2588\u2588\u2588\u2588\u2588\u2588\u2588\u2588\u2588| 465 kB 2.0 MB/s \n",
      "\u001b[?25hBuilding wheels for collected packages: psutil\n",
      "  Building wheel for psutil (setup.py) ... \u001b[?25ldone\n",
      "\u001b[?25h  Created wheel for psutil: filename=psutil-5.7.3-cp38-cp38-macosx_10_15_x86_64.whl size=234560 sha256=03c5b38dcb3243006fd488e10e8ff17adf038b8755afdd316ed367976181ce45\n",
      "  Stored in directory: /Users/dclong/Library/Caches/pip/wheels/f6/59/c2/38111ef4c354088a156bc95fbeb5396c0cac91a0f62f7158b9\n",
      "Successfully built psutil\n",
      "Installing collected packages: psutil\n",
      "Successfully installed psutil-5.7.3\n"
     ]
    }
   ],
   "source": [
    "!pip3 install psutil"
   ]
  },
  {
   "cell_type": "code",
   "execution_count": 4,
   "metadata": {},
   "outputs": [],
   "source": [
    "import psutil"
   ]
  },
  {
   "cell_type": "code",
   "execution_count": 5,
   "metadata": {},
   "outputs": [
    {
     "data": {
      "text/plain": [
       "svmem(total=34359738368, available=16077950976, percent=53.2, used=12415860736, free=7193649152, active=8815947776, inactive=8731512832, wired=3599912960)"
      ]
     },
     "execution_count": 5,
     "metadata": {},
     "output_type": "execute_result"
    }
   ],
   "source": [
    "psutil.virtual_memory()"
   ]
  },
  {
   "cell_type": "code",
   "execution_count": 6,
   "metadata": {},
   "outputs": [
    {
     "data": {
      "text/plain": [
       "4.8"
      ]
     },
     "execution_count": 6,
     "metadata": {},
     "output_type": "execute_result"
    }
   ],
   "source": [
    "psutil.cpu_percent()"
   ]
  },
  {
   "cell_type": "code",
   "execution_count": 17,
   "metadata": {},
   "outputs": [
    {
     "data": {
      "text/plain": [
       "svmem(total=34359738368, available=16035885056, percent=53.3, used=12460191744, free=7184756736, active=8855121920, inactive=8669417472, wired=3605069824)"
      ]
     },
     "execution_count": 17,
     "metadata": {},
     "output_type": "execute_result"
    }
   ],
   "source": [
    "psutil.virtual_memory()"
   ]
  },
  {
   "cell_type": "code",
   "execution_count": 10,
   "metadata": {},
   "outputs": [],
   "source": [
    "pids = psutil.pids()"
   ]
  },
  {
   "cell_type": "code",
   "execution_count": 14,
   "metadata": {},
   "outputs": [
    {
     "data": {
      "text/plain": [
       "psutil.Process(pid=1, name='launchd', status='running', started='2020-10-19 22:13:12')"
      ]
     },
     "execution_count": 14,
     "metadata": {},
     "output_type": "execute_result"
    }
   ],
   "source": [
    "p = psutil.Process(1)\n",
    "p"
   ]
  },
  {
   "cell_type": "code",
   "execution_count": 16,
   "metadata": {},
   "outputs": [
    {
     "data": {
      "text/plain": [
       "'root'"
      ]
     },
     "execution_count": 16,
     "metadata": {},
     "output_type": "execute_result"
    }
   ],
   "source": [
    "p.username()"
   ]
  },
  {
   "cell_type": "code",
   "execution_count": 22,
   "metadata": {},
   "outputs": [
    {
     "name": "stdout",
     "output_type": "stream",
     "text": [
      "pmem(rss=4644864, vms=4798234624, pfaults=3825, pageins=91)\n"
     ]
    }
   ],
   "source": [
    "for p in psutil.process_iter():\n",
    "    if p.username() == \"dclong\":\n",
    "        print(p.memory_info())\n",
    "        break"
   ]
  },
  {
   "cell_type": "code",
   "execution_count": 29,
   "metadata": {},
   "outputs": [
    {
     "name": "stdout",
     "output_type": "stream",
     "text": [
      "Memory info: pmem(rss=4644864, vms=4798234624, pfaults=3825, pageins=91)\n",
      "Memory pct: 0.013518333435058594\n",
      "CPU pct: 0.0\n"
     ]
    }
   ],
   "source": [
    "for p in psutil.process_iter():\n",
    "    if p.username() == \"dclong\":\n",
    "        print(f\"Memory info: {p.memory_info()}\")\n",
    "        print(f\"Memory pct: {p.memory_percent()}\")\n",
    "        print(f\"CPU pct: {p.cpu_percent()}\")\n",
    "        break"
   ]
  },
  {
   "cell_type": "code",
   "execution_count": 32,
   "metadata": {},
   "outputs": [
    {
     "data": {
      "text/plain": [
       "'running'"
      ]
     },
     "execution_count": 32,
     "metadata": {},
     "output_type": "execute_result"
    }
   ],
   "source": [
    "p.status()"
   ]
  },
  {
   "cell_type": "code",
   "execution_count": 33,
   "metadata": {},
   "outputs": [
    {
     "data": {
      "text/plain": [
       "54.66163158416748"
      ]
     },
     "execution_count": 33,
     "metadata": {},
     "output_type": "execute_result"
    }
   ],
   "source": [
    "sum(\n",
    "    p.memory_percent() for p in psutil.process_iter()\n",
    "    if p.username() == \"dclong\" and p.status() == \"running\"\n",
    ")"
   ]
  },
  {
   "cell_type": "code",
   "execution_count": 42,
   "metadata": {},
   "outputs": [
    {
     "data": {
      "text/plain": [
       "65.39999999999999"
      ]
     },
     "execution_count": 42,
     "metadata": {},
     "output_type": "execute_result"
    }
   ],
   "source": [
    "sum(\n",
    "    p.cpu_percent() for p in psutil.process_iter()\n",
    "    if p.username() == \"dclong\" and p.status() == \"running\"\n",
    ")"
   ]
  },
  {
   "cell_type": "code",
   "execution_count": 2,
   "metadata": {},
   "outputs": [
    {
     "name": "stdout",
     "output_type": "stream",
     "text": [
      "psutil.Process(pid=1, name='bash', started='09:39:49')\n",
      "psutil.Process(pid=38, name='jupyterhub', started='09:39:49')\n",
      "psutil.Process(pid=43, name='node', started='09:39:50')\n",
      "psutil.Process(pid=63, name='jupyterhub-sing', started='09:39:59')\n",
      "psutil.Process(pid=125, name='bash', started='09:44:41')\n",
      "psutil.Process(pid=147, name='python3', started='10:01:47')\n",
      "psutil.Process(pid=184, name='pyls', started='10:01:59')\n",
      "psutil.Process(pid=203, name='python3', started='10:02:20')\n"
     ]
    }
   ],
   "source": [
    "for proc in psutil.process_iter():\n",
    "    print(proc)"
   ]
  },
  {
   "cell_type": "markdown",
   "metadata": {},
   "source": [
    "## References\n",
    "\n",
    "https://psutil.readthedocs.io/en/latest/\n",
    "\n",
    "https://stackoverflow.com/questions/550653/cross-platform-way-to-get-pids-by-process-name-in-python/2241047"
   ]
  },
  {
   "cell_type": "code",
   "execution_count": null,
   "metadata": {},
   "outputs": [],
   "source": []
  }
 ],
 "metadata": {
  "kernelspec": {
   "display_name": "Python 3",
   "language": "python",
   "name": "python3"
  },
  "language_info": {
   "codemirror_mode": {
    "name": "ipython",
    "version": 3
   },
   "file_extension": ".py",
   "mimetype": "text/x-python",
   "name": "python",
   "nbconvert_exporter": "python",
   "pygments_lexer": "ipython3",
   "version": "3.8.5-final"
  }
 },
 "nbformat": 4,
 "nbformat_minor": 4
}