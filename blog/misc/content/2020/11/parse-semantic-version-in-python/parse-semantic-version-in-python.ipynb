{
 "cells": [
  {
   "cell_type": "markdown",
   "metadata": {},
   "source": [
    "- Author: Ben Du\n",
    "- Date: 2020-11-22 13:39:02\n",
    "- Title: Parse Semantic Version in Python\n",
    "- Slug: parse-semantic-version-in-python\n",
    "- Category: Computer Science\n",
    "- Tags: Computer Science, programming\n",
    "- Modified: 2020-11-22 13:39:02\n"
   ]
  },
  {
   "cell_type": "markdown",
   "metadata": {},
   "source": [
    " ** Things on this page are fragmentary and immature notes/thoughts of the author. Please read with your own judgement! **  "
   ]
  },
  {
   "cell_type": "markdown",
   "metadata": {},
   "source": [
    "## Tips and Traps\n",
    "\n",
    "1. There are at least 3 packages (`packaing`, `python-semver` and) in Python which can help you work with semantic versions."
   ]
  },
  {
   "cell_type": "markdown",
   "metadata": {},
   "source": [
    "## [packaging](http://www.legendu.net/misc/blog/tips-on-the-python-module-packaging)\n",
    "\n",
    "Please refer to \n",
    "[packaging](http://www.legendu.net/misc/blog/tips-on-the-python-module-packaging)\n",
    "for more details."
   ]
  },
  {
   "cell_type": "markdown",
   "metadata": {},
   "source": [
    "## [python-semver](https://github.com/python-semver/python-semver)"
   ]
  },
  {
   "cell_type": "markdown",
   "metadata": {},
   "source": [
    "## [python-semanticversion](https://github.com/rbarrois/python-semanticversion)"
   ]
  },
  {
   "cell_type": "code",
   "execution_count": null,
   "metadata": {},
   "outputs": [],
   "source": []
  }
 ],
 "metadata": {
  "file_extension": ".py",
  "kernelspec": {
   "display_name": "Python 3",
   "language": "python",
   "name": "python3"
  },
  "language_info": {
   "codemirror_mode": {
    "name": "ipython",
    "version": 3
   },
   "file_extension": ".py",
   "mimetype": "text/x-python",
   "name": "python",
   "nbconvert_exporter": "python",
   "pygments_lexer": "ipython3",
   "version": "3.8.5"
  },
  "mimetype": "text/x-python",
  "name": "python",
  "npconvert_exporter": "python",
  "pygments_lexer": "ipython3",
  "version": 3
 },
 "nbformat": 4,
 "nbformat_minor": 4
}