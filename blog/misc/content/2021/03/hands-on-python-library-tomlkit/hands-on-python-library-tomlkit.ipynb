{
 "cells": [
  {
   "cell_type": "markdown",
   "metadata": {},
   "source": [
    "- Author: Ben Du\n",
    "- Date: 2021-03-30 13:50:07\n",
    "- Title: Hands on the Python Library tomlkit\n",
    "- Slug: hands-on-python-library-tomlkit\n",
    "- Category: Computer Science\n",
    "- Tags: Computer Science, programming, TOML, Python, tomlkit\n",
    "- Modified: 2021-03-30 13:50:07\n"
   ]
  },
  {
   "cell_type": "markdown",
   "metadata": {},
   "source": [
    " ** Things on this page are fragmentary and immature notes/thoughts of the author. Please read with your own judgement! **  "
   ]
  },
  {
   "cell_type": "markdown",
   "metadata": {},
   "source": [
    "## Tips & Traps\n",
    "\n",
    "1. Indentions are allowed in a TOML file."
   ]
  },
  {
   "cell_type": "markdown",
   "metadata": {},
   "source": [
    "## Installatoion"
   ]
  },
  {
   "cell_type": "code",
   "execution_count": 4,
   "metadata": {},
   "outputs": [
    {
     "name": "stdout",
     "output_type": "stream",
     "text": [
      "Requirement already satisfied: tomlkit in /usr/local/lib/python3.8/dist-packages (0.7.0)\n"
     ]
    }
   ],
   "source": [
    "!pip3 install tomlkit"
   ]
  },
  {
   "cell_type": "code",
   "execution_count": 17,
   "metadata": {},
   "outputs": [],
   "source": [
    "from pathlib import Path\n",
    "import tomlkit"
   ]
  },
  {
   "cell_type": "code",
   "execution_count": 18,
   "metadata": {},
   "outputs": [
    {
     "data": {
      "text/plain": [
       "\u001b[0;31mSignature:\u001b[0m \u001b[0mloads\u001b[0m\u001b[0;34m(\u001b[0m\u001b[0mstring\u001b[0m\u001b[0;34m)\u001b[0m\u001b[0;34m\u001b[0m\u001b[0;34m\u001b[0m\u001b[0m\n",
       "\u001b[0;31mDocstring:\u001b[0m\n",
       "Parses a string into a TOMLDocument.\n",
       "\n",
       "Alias for parse().\n",
       "\u001b[0;31mFile:\u001b[0m      /usr/local/lib/python3.8/dist-packages/tomlkit/api.py\n",
       "\u001b[0;31mType:\u001b[0m      function\n"
      ]
     },
     "metadata": {},
     "output_type": "display_data"
    }
   ],
   "source": [
    "?loads"
   ]
  },
  {
   "cell_type": "code",
   "execution_count": 19,
   "metadata": {},
   "outputs": [
    {
     "data": {
      "text/plain": [
       "\u001b[0;31mSignature:\u001b[0m \u001b[0mdumps\u001b[0m\u001b[0;34m(\u001b[0m\u001b[0mdata\u001b[0m\u001b[0;34m,\u001b[0m \u001b[0msort_keys\u001b[0m\u001b[0;34m=\u001b[0m\u001b[0;32mFalse\u001b[0m\u001b[0;34m)\u001b[0m\u001b[0;34m\u001b[0m\u001b[0;34m\u001b[0m\u001b[0m\n",
       "\u001b[0;31mDocstring:\u001b[0m Dumps a TOMLDocument into a string.\n",
       "\u001b[0;31mFile:\u001b[0m      /usr/local/lib/python3.8/dist-packages/tomlkit/api.py\n",
       "\u001b[0;31mType:\u001b[0m      function\n"
      ]
     },
     "metadata": {},
     "output_type": "display_data"
    }
   ],
   "source": [
    "?dumps"
   ]
  },
  {
   "cell_type": "markdown",
   "metadata": {},
   "source": [
    "## Parse TOML"
   ]
  },
  {
   "cell_type": "code",
   "execution_count": 20,
   "metadata": {},
   "outputs": [],
   "source": [
    "toml_string = \"\"\"\n",
    "    # This is a TOML document.\n",
    "    title = \"TOML Example\"\n",
    "\n",
    "    [owner.info]\n",
    "    name = \"Tom Preston-Werner\"\n",
    "    dob = 1979-05-27T07:32:00-08:00 # First class dates\n",
    "\n",
    "    [database]\n",
    "    server = \"192.168.1.1\"\n",
    "    ports = [ 8001, 8001, 8002 ]\n",
    "    connection_max = 5000\n",
    "    enabled = true\n",
    "\n",
    "    [servers]\n",
    "\n",
    "    [servers.alpha]\n",
    "    ip = \"10.0.0.1\"\n",
    "    dc = \"eqdc10\"\n",
    "\n",
    "    [servers.beta]\n",
    "    ip = \"10.0.0.2\"\n",
    "    dc = \"eqdc10\"\n",
    "\n",
    "    [clients]\n",
    "    data = [ [\"gamma\", \"delta\"], [1, 2] ]\n",
    "\n",
    "    # Line breaks are OK when inside arrays\n",
    "    hosts = [\n",
    "    \"alpha\",\n",
    "    \"omega\"\n",
    "    ]\n",
    "    \"\"\""
   ]
  },
  {
   "cell_type": "code",
   "execution_count": 21,
   "metadata": {},
   "outputs": [
    {
     "data": {
      "text/plain": [
       "{'title': 'TOML Example', 'owner': {'info': {'name': 'Tom Preston-Werner', 'dob': DateTime(1979, 5, 27, 7, 32, tzinfo=datetime.timezone(datetime.timedelta(days=-1, seconds=57600), '-08:00'))}}, 'database': {'server': '192.168.1.1', 'ports': [8001, 8001, 8002], 'connection_max': 5000, 'enabled': True}, 'servers': {'alpha': {'ip': '10.0.0.1', 'dc': 'eqdc10'}, 'beta': {'ip': '10.0.0.2', 'dc': 'eqdc10'}}, 'clients': {'data': [['gamma', 'delta'], [1, 2]], 'hosts': ['alpha', 'omega']}}"
      ]
     },
     "execution_count": 21,
     "metadata": {},
     "output_type": "execute_result"
    }
   ],
   "source": [
    "dic = tomlkit.loads(toml_string)\n",
    "dic"
   ]
  },
  {
   "cell_type": "markdown",
   "metadata": {},
   "source": [
    "`tomlkit` does not have a method to parse a TOML file directly.\n",
    "However, \n",
    "you can read a TOML file as text and then parse it."
   ]
  },
  {
   "cell_type": "code",
   "execution_count": 22,
   "metadata": {},
   "outputs": [
    {
     "data": {
      "text/plain": [
       "{'tool': {'poetry': {'name': 'xinstall', 'version': '0.35.0', 'description': 'Easy Cross-platform Installation and Configuration of Apps.', 'authors': ['Benjamin Du <longendu@yahoo.com>'], 'scripts': {'xinstall': 'xinstall:main.main'}, 'dependencies': {'python': '>=3.7.1,<4', 'distro': '>=1.5.0', 'tqdm': '>=4.48.2', 'findspark': '>=1.4.2', 'requests': '>=2.25.0', 'packaging': '>=20.4', 'GitPython': '>=3.1.11', 'toml': '>=0.10.2'}, 'dev-dependencies': {'pytest': '>=3.0', 'pylint': '>=2.4.4', 'pytype': {'version': '>=2020.08.10', 'python': '<3.9'}, 'yapf': '>=0.31.0', 'coverage': '>=5.3'}}, 'pylint': {'master': {'ignore': '.venv,.ipynb_checkpoints', 'unsafe-load-any-extension': 'no', 'load-plugins': 'pylint.extensions.docparams', 'extension-pkg-whitelist': 'numpy,cv2,pyspark', 'generated-members': 'sqlite3.*,cv2.*,pyspark.*', 'ignored-modules': 'pyspark.sql.functions'}, 'typecheck': {'ignored-classes': 'Namespace'}, 'message_control': {'disable': 'C0103,C0200,C0301,C0302,C0303,C0330,R0902,R0903,R0904,R0911,R0912,R0913,W0621,W0622,W0702,W0703,W1116,W9016'}}, 'yapf': {'based_on_style': 'facebook', 'column_limit': '88'}}, 'build-system': {'requires': ['poetry>=1.0.0'], 'build-backend': 'poetry.masonry.api'}}"
      ]
     },
     "execution_count": 22,
     "metadata": {},
     "output_type": "execute_result"
    }
   ],
   "source": [
    "dic = tomlkit.loads(Path(\"pyproject.toml\").read_text())\n",
    "dic "
   ]
  },
  {
   "cell_type": "markdown",
   "metadata": {},
   "source": [
    "## Dump an Object to a TOML String"
   ]
  },
  {
   "cell_type": "code",
   "execution_count": 25,
   "metadata": {},
   "outputs": [
    {
     "name": "stdout",
     "output_type": "stream",
     "text": [
      "\n",
      "    # This is a TOML document.\n",
      "    title = \"TOML Example\"\n",
      "\n",
      "        [owner.info]\n",
      "    name = \"Tom Preston-Werner\"\n",
      "    dob = 1979-05-27T07:32:00-08:00 # First class dates\n",
      "\n",
      "    [database]\n",
      "    server = \"192.168.1.1\"\n",
      "    ports = [ 8001, 8001, 8002 ]\n",
      "    connection_max = 5000\n",
      "    enabled = true\n",
      "\n",
      "    [servers]\n",
      "\n",
      "    [servers.alpha]\n",
      "    ip = \"10.0.0.1\"\n",
      "    dc = \"eqdc10\"\n",
      "\n",
      "    [servers.beta]\n",
      "    ip = \"10.0.0.2\"\n",
      "    dc = \"eqdc10\"\n",
      "\n",
      "    [clients]\n",
      "    data = [ [\"gamma\", \"delta\"], [1, 2] ]\n",
      "\n",
      "    # Line breaks are OK when inside arrays\n",
      "    hosts = [\n",
      "    \"alpha\",\n",
      "    \"omega\"\n",
      "    ]\n",
      "    \n"
     ]
    }
   ],
   "source": [
    "print(tomlkit.dumps(tomlkit.loads(toml_string)))"
   ]
  },
  {
   "cell_type": "markdown",
   "metadata": {},
   "source": [
    "`tomlkit` does not have a method to dump an object into a TOML file directly.\n",
    "However,\n",
    "you can first dump an object into a string\n",
    "and then write the string into a TOML file."
   ]
  },
  {
   "cell_type": "code",
   "execution_count": 28,
   "metadata": {},
   "outputs": [],
   "source": [
    "with Path(\"/tmp/j.toml\").open(\"w\") as fout:\n",
    "    fout.write(tomlkit.dumps(dic))"
   ]
  },
  {
   "cell_type": "markdown",
   "metadata": {},
   "source": [
    "## More"
   ]
  },
  {
   "cell_type": "code",
   "execution_count": null,
   "metadata": {},
   "outputs": [],
   "source": [
    ">>> from tomlkit import comment\n",
    ">>> from tomlkit import document\n",
    ">>> from tomlkit import nl\n",
    ">>> from tomlkit import table\n",
    "\n",
    ">>> doc = document()\n",
    ">>> doc.add(comment(\"This is a TOML document.\"))\n",
    ">>> doc.add(nl())\n",
    ">>> doc.add(\"title\", \"TOML Example\")\n",
    "# Using doc[\"title\"] = \"TOML Example\" is also possible\n",
    "\n",
    ">>> owner = table()\n",
    ">>> owner.add(\"name\", \"Tom Preston-Werner\")\n",
    ">>> owner.add(\"organization\", \"GitHub\")\n",
    ">>> owner.add(\"bio\", \"GitHub Cofounder & CEO\\nLikes tater tots and beer.\")\n",
    ">>> owner.add(\"dob\", datetime(1979, 5, 27, 7, 32, tzinfo=utc))\n",
    ">>> owner[\"dob\"].comment(\"First class dates? Why not?\")\n",
    "\n",
    "# Adding the table to the document\n",
    ">>> doc.add(\"owner\", owner)\n",
    "\n",
    ">>> database = table()\n",
    ">>> database[\"server\"] = \"192.168.1.1\"\n",
    ">>> database[\"ports\"] = [8001, 8001, 8002]\n",
    ">>> database[\"connection_max\"] = 5000\n",
    ">>> database[\"enabled\"] = True\n",
    "\n",
    ">>> doc[\"database\"] = database"
   ]
  },
  {
   "cell_type": "markdown",
   "metadata": {},
   "source": [
    "## References\n",
    "\n",
    "https://github.com/sdispater/tomlkit"
   ]
  },
  {
   "cell_type": "code",
   "execution_count": null,
   "metadata": {},
   "outputs": [],
   "source": []
  }
 ],
 "metadata": {
  "file_extension": ".py",
  "kernelspec": {
   "display_name": "Python 3",
   "language": "python",
   "name": "python3"
  },
  "language_info": {
   "codemirror_mode": {
    "name": "ipython",
    "version": 3
   },
   "file_extension": ".py",
   "mimetype": "text/x-python",
   "name": "python",
   "nbconvert_exporter": "python",
   "pygments_lexer": "ipython3",
   "version": "3.8.5"
  },
  "mimetype": "text/x-python",
  "name": "python",
  "npconvert_exporter": "python",
  "pygments_lexer": "ipython3",
  "version": 3
 },
 "nbformat": 4,
 "nbformat_minor": 4
}