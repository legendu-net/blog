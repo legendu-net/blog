{
 "nbformat": 4,
 "nbformat_minor": 2,
 "metadata": {
  "language_info": {
   "name": "python",
   "codemirror_mode": {
    "name": "ipython",
    "version": 3
   },
   "version": "3.8.6-final"
  },
  "orig_nbformat": 2,
  "file_extension": ".py",
  "mimetype": "text/x-python",
  "name": "python",
  "npconvert_exporter": "python",
  "pygments_lexer": "ipython3",
  "version": 3,
  "kernelspec": {
   "name": "python3",
   "display_name": "Python 3.8.6 64-bit",
   "metadata": {
    "interpreter": {
     "hash": "aee8b7b246df8f9039afb4144a1f6fd8d2ca17a180786b69acc140d282b71a49"
    }
   }
  }
 },
 "cells": [
  {
   "cell_type": "markdown",
   "metadata": {},
   "source": [
    "- Author: Ben Du\n",
    "- Date: 2021-03-16 13:34:32\n",
    "- Title: Hands on the Python Library DeepDiff\n",
    "- Slug: hands-on-the-python-library-deepdiff\n",
    "- Category: Computer Science\n",
    "- Tags: Computer Science, programming, Python, diff, deep, DeepDiff, object, compare\n",
    "- Modified: 2021-03-16 13:34:32\n"
   ]
  },
  {
   "source": [
    " ** Things on this page are fragmentary and immature notes/thoughts of the author. Please read with your own judgement! **  "
   ],
   "cell_type": "markdown",
   "metadata": {}
  },
  {
   "cell_type": "code",
   "execution_count": 1,
   "metadata": {},
   "outputs": [
    {
     "output_type": "stream",
     "name": "stdout",
     "text": [
      "Collecting deepdiff\n",
      "  Downloading deepdiff-5.2.3-py3-none-any.whl (64 kB)\n",
      "\u001b[K     |\u2588\u2588\u2588\u2588\u2588\u2588\u2588\u2588\u2588\u2588\u2588\u2588\u2588\u2588\u2588\u2588\u2588\u2588\u2588\u2588\u2588\u2588\u2588\u2588\u2588\u2588\u2588\u2588\u2588\u2588\u2588\u2588| 64 kB 2.6 MB/s \n",
      "\u001b[?25hCollecting ordered-set==4.0.2\n",
      "  Downloading ordered-set-4.0.2.tar.gz (10 kB)\n",
      "Building wheels for collected packages: ordered-set\n",
      "  Building wheel for ordered-set (setup.py) ... \u001b[?25ldone\n",
      "\u001b[?25h  Created wheel for ordered-set: filename=ordered_set-4.0.2-py2.py3-none-any.whl size=8209 sha256=92957b34a9d884c3fc2d0cb50fe17cbc3d0c82fc0b343b7fa74bb635c0f64213\n",
      "  Stored in directory: /Users/dclong/Library/Caches/pip/wheels/a1/09/42/0b963b1d5423ddc87cb4ba9f475e09838d3813300b52a866ea\n",
      "Successfully built ordered-set\n",
      "Installing collected packages: ordered-set, deepdiff\n",
      "Successfully installed deepdiff-5.2.3 ordered-set-4.0.2\n"
     ]
    }
   ],
   "source": [
    "pip3 install deepdiff"
   ]
  },
  {
   "cell_type": "code",
   "execution_count": 2,
   "metadata": {},
   "outputs": [],
   "source": [
    "from deepdiff import DeepDiff"
   ]
  },
  {
   "cell_type": "code",
   "execution_count": 3,
   "metadata": {},
   "outputs": [
    {
     "output_type": "execute_result",
     "data": {
      "text/plain": [
       "{}"
      ]
     },
     "metadata": {},
     "execution_count": 3
    }
   ],
   "source": [
    "t1 = {1:1, 2:2, 3:3, 4:{\"a\":\"hello\", \"b\":[1, 2, 3]}}\n",
    "t2 = {1:1, 2:2, 3:3, 4:{\"a\":\"hello\", \"b\":[1, 3, 2, 3]}}\n",
    "ddiff = DeepDiff(t1, t2, ignore_order=True)\n",
    "ddiff"
   ]
  },
  {
   "cell_type": "code",
   "execution_count": 4,
   "metadata": {},
   "outputs": [
    {
     "output_type": "execute_result",
     "data": {
      "text/plain": [
       "False"
      ]
     },
     "metadata": {},
     "execution_count": 4
    }
   ],
   "source": [
    "True if ddiff else False"
   ]
  },
  {
   "source": [
    "## References\n",
    "\n",
    "https://github.com/seperman/deepdiff"
   ],
   "cell_type": "markdown",
   "metadata": {}
  },
  {
   "cell_type": "code",
   "execution_count": null,
   "metadata": {},
   "outputs": [],
   "source": []
  }
 ]
}