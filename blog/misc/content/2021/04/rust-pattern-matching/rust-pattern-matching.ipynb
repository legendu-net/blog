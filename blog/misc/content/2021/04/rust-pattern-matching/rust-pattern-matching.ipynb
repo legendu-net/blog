{
 "cells": [
  {
   "cell_type": "markdown",
   "metadata": {},
   "source": [
    "- Author: Ben Du\n",
    "- Date: 2021-04-26 08:55:40\n",
    "- Title: Pattern Matching in Rust\n",
    "- Slug: pattern-matching-in-rust\n",
    "- Category: Computer Science\n",
    "- Tags: Computer Science, programming, Rust, pattern, match, matching\n",
    "- Modified: 2021-04-26 08:55:40\n"
   ]
  },
  {
   "cell_type": "markdown",
   "metadata": {},
   "source": [
    "**Things on this page are fragmentary and immature notes/thoughts of the author. Please read with your own judgement!**"
   ]
  },
  {
   "cell_type": "markdown",
   "metadata": {},
   "source": [
    "## Tips and Traps\n",
    "\n",
    "1. `match` does a pattern matching which means each branch must be a pattern instead of an expression.\n",
    "    Please refer to \n",
    "    [Patterns Are Not Expressions](https://h2co3.github.io/pattern/)\n",
    "    for differences between patterns and expressions."
   ]
  },
  {
   "cell_type": "markdown",
   "metadata": {},
   "source": [
    "The following `match` statement won't compile because `0 + 1` is NOT a pattern."
   ]
  },
  {
   "cell_type": "code",
   "execution_count": 2,
   "metadata": {},
   "outputs": [
    {
     "ename": "Error",
     "evalue": "expected one of `...`, `..=`, `..`, `=>`, `if`, or `|`, found `+`",
     "output_type": "error",
     "traceback": [
      "    0 + 1 => \"how\"",
      "      ^ expected one of `...`, `..=`, `..`, `=>`, `if`, or `|`",
      "expected one of `...`, `..=`, `..`, `=>`, `if`, or `|`, found `+`"
     ]
    },
    {
     "ename": "Error",
     "evalue": "unreachable expression",
     "output_type": "error",
     "traceback": [
      "unreachable expression",
      "any code following this expression is unreachable",
      "unreachable expression"
     ]
    }
   ],
   "source": [
    "let x = 1;\n",
    "match x {\n",
    "    0 + 1 => \"how\"\n",
    "    _ => \"are\",\n",
    "}"
   ]
  },
  {
   "cell_type": "markdown",
   "metadata": {},
   "source": [
    "The following match statement is problematic \n",
    "as `y` is an identifier pattern which is irrefutable.\n",
    "In another words,\n",
    "`y` will match anything and the branch `_ => \"are\"` will never be reached."
   ]
  },
  {
   "cell_type": "code",
   "execution_count": 4,
   "metadata": {},
   "outputs": [
    {
     "data": {
      "text/plain": [
       "\"how\""
      ]
     },
     "execution_count": 4,
     "metadata": {},
     "output_type": "execute_result"
    }
   ],
   "source": [
    "let x = 1;\n",
    "fn f(x: i32) -> i32 {\n",
    "    x\n",
    "}\n",
    "let y = f(1);\n",
    "match x {\n",
    "    y => \"how\",\n",
    "    _ => \"are\",\n",
    "}"
   ]
  },
  {
   "cell_type": "markdown",
   "metadata": {},
   "source": [
    "## Match Guards\n",
    "\n",
    "You can use match guards to mimic an `if/else` or `switch` statement."
   ]
  },
  {
   "cell_type": "markdown",
   "metadata": {},
   "source": [
    "The following is a `if/else` like `match` statement even if it is not as concise."
   ]
  },
  {
   "cell_type": "code",
   "execution_count": 5,
   "metadata": {},
   "outputs": [
    {
     "data": {
      "text/plain": [
       "\"are\""
      ]
     },
     "execution_count": 5,
     "metadata": {},
     "output_type": "execute_result"
    }
   ],
   "source": [
    "let x = 1;\n",
    "match x {\n",
    "    v if v == 0 => \"how\",\n",
    "    v if v == 1 => \"are\",\n",
    "    _ => \"you\",\n",
    "}"
   ]
  },
  {
   "cell_type": "code",
   "execution_count": 6,
   "metadata": {},
   "outputs": [
    {
     "data": {
      "text/plain": [
       "\"you\""
      ]
     },
     "execution_count": 6,
     "metadata": {},
     "output_type": "execute_result"
    }
   ],
   "source": [
    "let x = 10;\n",
    "match x {\n",
    "    v if v == 0 => \"how\",\n",
    "    v if v == 1 => \"are\",\n",
    "    _ => \"you\",\n",
    "}"
   ]
  },
  {
   "cell_type": "markdown",
   "metadata": {},
   "source": [
    "## References \n",
    "\n",
    "[Patterns](https://doc.rust-lang.org/stable/reference/patterns.html)\n",
    "\n",
    "[Patterns Are Not Expressions](https://h2co3.github.io/pattern/)\n",
    "\n",
    "[Why doesn’t match support expressions in branches?](https://users.rust-lang.org/t/why-doesnt-match-support-expressions-in-branches/58926)"
   ]
  },
  {
   "cell_type": "code",
   "execution_count": null,
   "metadata": {},
   "outputs": [],
   "source": []
  }
 ],
 "metadata": {
  "file_extension": ".py",
  "kernelspec": {
   "display_name": "Rust",
   "language": "rust",
   "name": "rust"
  },
  "language_info": {
   "codemirror_mode": "rust",
   "file_extension": ".rs",
   "mimetype": "text/rust",
   "name": "Rust",
   "pygment_lexer": "rust",
   "version": ""
  },
  "mimetype": "text/x-python",
  "name": "python",
  "npconvert_exporter": "python",
  "pygments_lexer": "ipython3",
  "version": 3
 },
 "nbformat": 4,
 "nbformat_minor": 4
}
