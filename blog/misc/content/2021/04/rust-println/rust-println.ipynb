{
 "cells": [
  {
   "cell_type": "markdown",
   "metadata": {},
   "source": [
    "- Author: Ben Du\n",
    "- Date: 2021-04-20 08:55:30\n",
    "- Title: The println Macro in Rust\n",
    "- Slug: the-println-macro-in-rust\n",
    "- Category: Computer Science\n",
    "- Tags: Computer Science, programming, Rust, println, format, formatting, fmt\n",
    "- Modified: 2021-06-16 18:07:04\n"
   ]
  },
  {
   "cell_type": "markdown",
   "metadata": {},
   "source": [
    "**Things on this page are fragmentary and immature notes/thoughts of the author. Please read with your own judgement!**"
   ]
  },
  {
   "cell_type": "markdown",
   "metadata": {},
   "source": [
    "## Tips and Traps \n",
    "\n",
    "1. `println` is a macro (NOT a function) in Rust. \n",
    "    A macro rule is invoke in the format `macro_rule!` to distinguish it from a regular function in Rust,\n",
    "    so `println` is invoked as `println!`."
   ]
  },
  {
   "cell_type": "markdown",
   "metadata": {},
   "source": [
    "Format an integer to its binary representation."
   ]
  },
  {
   "cell_type": "code",
   "execution_count": 2,
   "metadata": {},
   "outputs": [
    {
     "data": {
      "text/plain": [
       "\"1111\""
      ]
     },
     "execution_count": 2,
     "metadata": {},
     "output_type": "execute_result"
    }
   ],
   "source": [
    "format!(\"{:b}\", 15)"
   ]
  },
  {
   "cell_type": "code",
   "execution_count": 3,
   "metadata": {},
   "outputs": [
    {
     "data": {
      "text/plain": [
       "\"0b1111\""
      ]
     },
     "execution_count": 3,
     "metadata": {},
     "output_type": "execute_result"
    }
   ],
   "source": [
    "format!(\"{:#b}\", 15)"
   ]
  },
  {
   "cell_type": "code",
   "execution_count": null,
   "metadata": {},
   "outputs": [],
   "source": [
    "format!(\"Hello\");                 // => \"Hello\"\n",
    "format!(\"Hello, {}!\", \"world\");   // => \"Hello, world!\"\n",
    "format!(\"The number is {}\", 1);   // => \"The number is 1\"\n",
    "format!(\"{:?}\", (3, 4));          // => \"(3, 4)\"\n",
    "format!(\"{value}\", value=4);      // => \"4\"\n",
    "format!(\"{} {}\", 1, 2);           // => \"1 2\"\n",
    "format!(\"{:04}\", 42);             // => \"0042\" with leading zeros"
   ]
  },
  {
   "cell_type": "markdown",
   "metadata": {},
   "source": [
    "## Positional Parameters"
   ]
  },
  {
   "cell_type": "code",
   "execution_count": 9,
   "metadata": {},
   "outputs": [
    {
     "data": {
      "text/plain": [
       "\"2 1 1 2\""
      ]
     },
     "execution_count": 9,
     "metadata": {},
     "output_type": "execute_result"
    }
   ],
   "source": [
    "format!(\"{1} {} {0} {}\", 1, 2)"
   ]
  },
  {
   "cell_type": "markdown",
   "metadata": {},
   "source": [
    "## Named Parameters"
   ]
  },
  {
   "cell_type": "code",
   "execution_count": null,
   "metadata": {},
   "outputs": [],
   "source": [
    "format!(\"{argument}\", argument = \"test\");   // => \"test\"\n",
    "format!(\"{name} {}\", 1, name = 2);          // => \"2 1\"\n",
    "format!(\"{a} {c} {b}\", a=\"a\", b='b', c=3);  // => \"a 3 b\""
   ]
  },
  {
   "cell_type": "markdown",
   "metadata": {},
   "source": [
    "## Fill and Alignment"
   ]
  },
  {
   "cell_type": "code",
   "execution_count": null,
   "metadata": {},
   "outputs": [],
   "source": [
    "assert_eq!(format!(\"Hello {:<5}!\", \"x\"),  \"Hello x    !\");\n",
    "assert_eq!(format!(\"Hello {:-<5}!\", \"x\"), \"Hello x----!\");\n",
    "assert_eq!(format!(\"Hello {:^5}!\", \"x\"),  \"Hello   x  !\");\n",
    "assert_eq!(format!(\"Hello {:>5}!\", \"x\"),  \"Hello     x!\");"
   ]
  },
  {
   "cell_type": "markdown",
   "metadata": {},
   "source": [
    "## Formatting Parameters"
   ]
  },
  {
   "cell_type": "code",
   "execution_count": null,
   "metadata": {},
   "outputs": [],
   "source": [
    "// All of these print \"Hello x    !\"\n",
    "println!(\"Hello {:5}!\", \"x\");\n",
    "println!(\"Hello {:1$}!\", \"x\", 5);\n",
    "println!(\"Hello {1:0$}!\", 5, \"x\");\n",
    "println!(\"Hello {:width$}!\", \"x\", width = 5);"
   ]
  },
  {
   "cell_type": "code",
   "execution_count": 4,
   "metadata": {},
   "outputs": [
    {
     "name": "stdout",
     "output_type": "stream",
     "text": [
      "1\n"
     ]
    },
    {
     "data": {
      "text/plain": [
       "()"
      ]
     },
     "execution_count": 4,
     "metadata": {},
     "output_type": "execute_result"
    }
   ],
   "source": [
    "println!(\"{}\", 1)"
   ]
  },
  {
   "cell_type": "code",
   "execution_count": 5,
   "metadata": {},
   "outputs": [
    {
     "name": "stdout",
     "output_type": "stream",
     "text": [
      "1\n"
     ]
    },
    {
     "data": {
      "text/plain": [
       "()"
      ]
     },
     "execution_count": 5,
     "metadata": {},
     "output_type": "execute_result"
    }
   ],
   "source": [
    "println!(\"{:?}\", 1)"
   ]
  },
  {
   "cell_type": "markdown",
   "metadata": {},
   "source": [
    "## References \n",
    "\n",
    "[Module std::fmt](https://doc.rust-lang.org/std/fmt/)"
   ]
  },
  {
   "cell_type": "code",
   "execution_count": null,
   "metadata": {},
   "outputs": [],
   "source": []
  }
 ],
 "metadata": {
  "file_extension": ".py",
  "kernelspec": {
   "display_name": "Rust",
   "language": "rust",
   "name": "rust"
  },
  "language_info": {
   "codemirror_mode": "rust",
   "file_extension": ".rs",
   "mimetype": "text/rust",
   "name": "Rust",
   "pygment_lexer": "rust",
   "version": ""
  },
  "mimetype": "text/x-python",
  "name": "python",
  "npconvert_exporter": "python",
  "pygments_lexer": "ipython3",
  "version": 3
 },
 "nbformat": 4,
 "nbformat_minor": 4
}