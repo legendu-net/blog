{
 "cells": [
  {
   "cell_type": "markdown",
   "metadata": {},
   "source": [
    "- Author: Ben Du\n",
    "- Date: 2021-05-02 00:11:22\n",
    "- Title: Get Type Name of Variables in Rust\n",
    "- Slug: get-type-name-of-variables-in-rust\n",
    "- Category: Computer Science\n",
    "- Tags: Computer Science, programming, Rust, type, name, variable, object, typename, type_name\n",
    "- Modified: 2021-05-02 00:11:22\n"
   ]
  },
  {
   "cell_type": "markdown",
   "metadata": {},
   "source": [
    "**Things on this page are fragmentary and immature notes/thoughts of the author. Please read with your own judgement!**"
   ]
  },
  {
   "cell_type": "markdown",
   "metadata": {},
   "source": [
    "## Tips & Traps\n"
   ]
  },
  {
   "cell_type": "code",
   "execution_count": 2,
   "metadata": {},
   "outputs": [
    {
     "data": {
      "text/plain": [
       "\"i32\""
      ]
     },
     "execution_count": 2,
     "metadata": {},
     "output_type": "execute_result"
    }
   ],
   "source": [
    "std::any::type_name::<i32>()"
   ]
  },
  {
   "cell_type": "code",
   "execution_count": 3,
   "metadata": {},
   "outputs": [
    {
     "ename": "Error",
     "evalue": "constant provided when a type was expected",
     "output_type": "error",
     "traceback": [
      "std::any::type_name::<0>()",
      "                      ^ ",
      "constant provided when a type was expected"
     ]
    }
   ],
   "source": [
    "std::any::type_name::<0>()"
   ]
  },
  {
   "cell_type": "code",
   "execution_count": 4,
   "metadata": {},
   "outputs": [],
   "source": [
    "use std::any::{Any, TypeId};"
   ]
  },
  {
   "cell_type": "code",
   "execution_count": 5,
   "metadata": {},
   "outputs": [
    {
     "ename": "Error",
     "evalue": "consider importing one of these items",
     "output_type": "error",
     "traceback": [
      "",
      "",
      "consider importing one of these items"
     ]
    }
   ],
   "source": [
    "std::TypeId::of::<i32>()"
   ]
  },
  {
   "cell_type": "code",
   "execution_count": 6,
   "metadata": {},
   "outputs": [
    {
     "ename": "Error",
     "evalue": "an inner attribute is not permitted in this context",
     "output_type": "error",
     "traceback": [
      "#![feature(type_name_of_val)]",
      "^^^^^^^^^^^^^^^^^^^^^^^^^^^^^ ",
      "an inner attribute is not permitted in this context"
     ]
    },
    {
     "ename": "Error",
     "evalue": "use of unstable library feature 'type_name_of_val'",
     "output_type": "error",
     "traceback": [
      "",
      "use of unstable library feature 'type_name_of_val'"
     ]
    },
    {
     "ename": "Error",
     "evalue": "use of unstable library feature 'type_name_of_val'",
     "output_type": "error",
     "traceback": [
      "println!(\"{}\", type_name_of_val(&x));",
      "               ^^^^^^^^^^^^^^^^ ",
      "use of unstable library feature 'type_name_of_val'"
     ]
    },
    {
     "ename": "Error",
     "evalue": "use of unstable library feature 'type_name_of_val'",
     "output_type": "error",
     "traceback": [
      "println!(\"{}\", type_name_of_val(&y));",
      "               ^^^^^^^^^^^^^^^^ ",
      "use of unstable library feature 'type_name_of_val'"
     ]
    }
   ],
   "source": [
    "#![feature(type_name_of_val)]\n",
    "use std::any::type_name_of_val;\n",
    "\n",
    "let x = 1;\n",
    "println!(\"{}\", type_name_of_val(&x));\n",
    "let y = 1.0;\n",
    "println!(\"{}\", type_name_of_val(&y));"
   ]
  },
  {
   "cell_type": "code",
   "execution_count": null,
   "metadata": {},
   "outputs": [],
   "source": [
    "align_of, \n",
    "align_of_val and \n",
    "size_of and size_of_val \n"
   ]
  },
  {
   "cell_type": "code",
   "execution_count": null,
   "metadata": {},
   "outputs": [],
   "source": [
    "\n",
    "fn print_type_of<T>(_: &T) {\n",
    "    println!(\"{}\", std::any::type_name::<T>());\n",
    "}\n",
    "\n",
    "\n",
    "fn main() {\n",
    "let x: &str = \"abc\";\n",
    "    print_type_of(&x);          // prints \"f64\"\n",
    "    print_type_of(&vec![1, 2, 4]);  // prints \"std::vec::Vec<i32>\"\n",
    "    print_type_of(&\"foo\");          // prints \"&str\"\n",
    "}"
   ]
  },
  {
   "cell_type": "markdown",
   "metadata": {},
   "source": [
    "## Use the [typename](https://crates.io/crates/typename) crate"
   ]
  },
  {
   "cell_type": "code",
   "execution_count": 38,
   "metadata": {},
   "outputs": [],
   "source": [
    ":dep typename = \"0.1.2\""
   ]
  },
  {
   "cell_type": "code",
   "execution_count": 39,
   "metadata": {},
   "outputs": [],
   "source": [
    "use typename::TypeName;"
   ]
  },
  {
   "cell_type": "code",
   "execution_count": 40,
   "metadata": {},
   "outputs": [
    {
     "data": {
      "text/plain": [
       "\"std::string::String\""
      ]
     },
     "execution_count": 40,
     "metadata": {},
     "output_type": "execute_result"
    }
   ],
   "source": [
    "String::type_name()"
   ]
  },
  {
   "cell_type": "code",
   "execution_count": 41,
   "metadata": {},
   "outputs": [
    {
     "data": {
      "text/plain": [
       "\"std::vec::Vec<i32>\""
      ]
     },
     "execution_count": 41,
     "metadata": {},
     "output_type": "execute_result"
    }
   ],
   "source": [
    "Vec::<i32>::type_name()"
   ]
  },
  {
   "cell_type": "code",
   "execution_count": 42,
   "metadata": {},
   "outputs": [
    {
     "data": {
      "text/plain": [
       "\"[i32; 3]\""
      ]
     },
     "execution_count": 42,
     "metadata": {},
     "output_type": "execute_result"
    }
   ],
   "source": [
    "[0, 1, 2].type_name_of()"
   ]
  },
  {
   "cell_type": "markdown",
   "metadata": {},
   "source": [
    "## References\n",
    "\n",
    "[typename](https://crates.io/crates/typename)\n",
    "\n",
    "https://doc.rust-lang.org/std/any/struct.TypeId.html\n"
   ]
  },
  {
   "cell_type": "code",
   "execution_count": null,
   "metadata": {},
   "outputs": [],
   "source": []
  }
 ],
 "metadata": {
  "file_extension": ".py",
  "kernelspec": {
   "display_name": "Rust",
   "language": "rust",
   "name": "rust"
  },
  "language_info": {
   "codemirror_mode": "rust",
   "file_extension": ".rs",
   "mimetype": "text/rust",
   "name": "Rust",
   "pygment_lexer": "rust",
   "version": ""
  },
  "mimetype": "text/x-python",
  "name": "python",
  "npconvert_exporter": "python",
  "pygments_lexer": "ipython3",
  "version": 3
 },
 "nbformat": 4,
 "nbformat_minor": 4
}
