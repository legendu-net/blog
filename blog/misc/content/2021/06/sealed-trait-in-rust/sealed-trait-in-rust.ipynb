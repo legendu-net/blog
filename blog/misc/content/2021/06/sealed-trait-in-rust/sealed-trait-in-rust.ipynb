{
 "cells": [
  {
   "cell_type": "markdown",
   "metadata": {},
   "source": [
    "- Author: Ben Du\n",
    "- Date: 2021-06-08 16:39:00\n",
    "- Title: Sealed Trait in Rust\n",
    "- Slug: sealed-trait-in-rust\n",
    "- Category: Computer Science\n",
    "- Tags: Computer Science, programming, Rust, sealed, trait\n",
    "- Modified: 2021-06-08 16:39:00\n"
   ]
  },
  {
   "cell_type": "markdown",
   "metadata": {},
   "source": [
    "**Things on this page are fragmentary and immature notes/thoughts of the author. Please read with your own judgement!**"
   ]
  },
  {
   "cell_type": "markdown",
   "metadata": {},
   "source": [
    "Rust does not have a keyword or macro tag to define a sealed trait.\n",
    "However,\n",
    "a sealed trait can be implemented as below in Rust.\n",
    "```\n",
    "pub trait Yo: private::Sealed {}\n",
    "\n",
    "impl Yo for u8 {}\n",
    "\n",
    "mod private {\n",
    "    pub trait Sealed {}\n",
    "    impl Sealed for u8 {}\n",
    "}\n",
    "\n",
    "```\n",
    "For more discussions,\n",
    "please refer to \n",
    "[Sealed traits protect against downstream implementations (C-SEALED)](https://rust-lang.github.io/api-guidelines/future-proofing.html#sealed-traits-protect-against-downstream-implementations-c-sealed)\n",
    "."
   ]
  },
  {
   "cell_type": "code",
   "execution_count": null,
   "metadata": {},
   "outputs": [],
   "source": []
  }
 ],
 "metadata": {
  "file_extension": ".py",
  "kernelspec": {
   "display_name": "Rust",
   "language": "rust",
   "name": "rust"
  },
  "language_info": {
   "codemirror_mode": "rust",
   "file_extension": ".rs",
   "mimetype": "text/rust",
   "name": "Rust",
   "pygment_lexer": "rust",
   "version": ""
  },
  "mimetype": "text/x-python",
  "name": "python",
  "npconvert_exporter": "python",
  "pygments_lexer": "ipython3",
  "version": 3
 },
 "nbformat": 4,
 "nbformat_minor": 4
}