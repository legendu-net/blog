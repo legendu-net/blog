{
 "cells": [
  {
   "cell_type": "markdown",
   "metadata": {},
   "source": [
    "- Title: Manipulate Videos Using MoviePy in Python\n",
    "- Slug: python-moviepy\n",
    "- Date: 2020-04-06 14:39:48\n",
    "- Category: Computer Science\n",
    "- Tags: programming, Python, computer vision, CV, video, MoviePy\n",
    "- Author: Ben Du\n",
    "- Modified: 2020-04-06 14:39:48\n"
   ]
  },
  {
   "cell_type": "markdown",
   "metadata": {},
   "source": [
    "Convert part (the 50 - 60 second) of a MOV video into a MP4 video.\n",
    "Notice that MP4 and Webm as the output format are support \n",
    "while MOV and AVI (as the output format) are not."
   ]
  },
  {
   "cell_type": "code",
   "execution_count": null,
   "metadata": {},
   "outputs": [],
   "source": [
    "from moviepy.editor import *\n",
    "\n",
    "video = VideoFileClip(\"input.mov\").subclip(50, 60)\n",
    "video.write_videofile(\"output.mp4\")"
   ]
  },
  {
   "cell_type": "markdown",
   "metadata": {},
   "source": [
    "## References\n",
    "\n",
    "[Gallery](https://zulko.github.io/moviepy/gallery.html)\n",
    "\n",
    "[MoviePy](https://zulko.github.io/moviepy/)"
   ]
  }
 ],
 "metadata": {
  "kernelspec": {
   "display_name": "Python 3",
   "language": "python",
   "name": "python3"
  },
  "language_info": {
   "codemirror_mode": {
    "name": "ipython",
    "version": 3
   },
   "file_extension": ".py",
   "mimetype": "text/x-python",
   "name": "python",
   "nbconvert_exporter": "python",
   "pygments_lexer": "ipython3",
   "version": "3.7.3"
  }
 },
 "nbformat": 4,
 "nbformat_minor": 4
}