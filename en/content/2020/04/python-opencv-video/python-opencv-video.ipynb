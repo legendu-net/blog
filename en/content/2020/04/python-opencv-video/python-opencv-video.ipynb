{
 "cells": [
  {
   "cell_type": "markdown",
   "metadata": {},
   "source": [
    "- Title: Manipulate Videos Using OpenCV in Python\n",
    "- Slug: python-opencv-python\n",
    "- Date: 2020-04-06 14:52:30\n",
    "- Category: Computer Science\n",
    "- Tags: programming, Python, computer vision, CV, video, OpenCV, mp4\n",
    "- Author: Ben Du\n",
    "- Modified: 2021-08-15 11:43:03\n"
   ]
  },
  {
   "cell_type": "markdown",
   "metadata": {},
   "source": [
    "## Convert a Video to MP4 Using `python-opencv`"
   ]
  },
  {
   "cell_type": "markdown",
   "metadata": {},
   "source": [
    "The code below converts a MOV vidoe file to a MP4 vidoe file using OpenCV in Python."
   ]
  },
  {
   "cell_type": "code",
   "execution_count": null,
   "metadata": {},
   "outputs": [],
   "source": [
    "import cv2\n",
    "\n",
    "\n",
    "def video_to_mp4(input, output, fps: int = 0, frame_size: tuple = (), fourcc: str = \"H264\"):\n",
    "    vidcap = cv2.VideoCapture(input)\n",
    "    if not fps:\n",
    "        fps = round(vidcap.get(cv2.CAP_PROP_FPS))\n",
    "    success, arr = vidcap.read()\n",
    "    if not frame_size:\n",
    "        height, width, _ = arr.shape\n",
    "        frame_size = width, height\n",
    "    writer = cv2.VideoWriter(\n",
    "        output,\n",
    "        apiPreference=0,\n",
    "        fourcc=cv2.VideoWriter_fourcc(*fourcc),\n",
    "        fps=fps,\n",
    "        frameSize=frame_size\n",
    "    )\n",
    "    while True:\n",
    "        if not success:\n",
    "            break\n",
    "        writer.write(arr)\n",
    "        success, arr = vidcap.read()\n",
    "    writer.release()\n",
    "    vidcap.release()"
   ]
  },
  {
   "cell_type": "code",
   "execution_count": null,
   "metadata": {},
   "outputs": [],
   "source": [
    "video_to_mp4(\"in.mov\", output=\"out.mov\")"
   ]
  },
  {
   "cell_type": "markdown",
   "metadata": {},
   "source": [
    "The above code might fail to work if your OpenCV is compiled with `H264` encoding support. \n",
    "In that case,\n",
    "you can use `MPV4` or `AVC1` instead."
   ]
  },
  {
   "cell_type": "markdown",
   "metadata": {},
   "source": [
    "## Convert a Video to MP4 Using `moviepy` \n",
    "\n",
    "`moviepy` is even a better alternative\n",
    "for converting format of videos.\n",
    "Below is an example of converting a MOV file to a MP4 file.\n",
    "It keeps the FPS, video length and frame size by default."
   ]
  },
  {
   "cell_type": "code",
   "execution_count": 2,
   "metadata": {},
   "outputs": [
    {
     "name": "stdout",
     "output_type": "stream",
     "text": [
      "Moviepy - Building video 2021-08-11_215005.mp4.\n",
      "Moviepy - Writing video 2021-08-11_215005.mp4\n",
      "\n"
     ]
    },
    {
     "name": "stderr",
     "output_type": "stream",
     "text": [
      "                                                                  \r"
     ]
    },
    {
     "name": "stdout",
     "output_type": "stream",
     "text": [
      "Moviepy - Done !\n",
      "Moviepy - video ready 2021-08-11_215005.mp4\n"
     ]
    }
   ],
   "source": [
    "from moviepy.editor import VideoFileClip\n",
    "\n",
    "video = VideoFileClip(\"in.mov\")\n",
    "video.write_videofile(\"out.mp4\")"
   ]
  },
  {
   "cell_type": "markdown",
   "metadata": {},
   "source": [
    "## References\n",
    "\n",
    "- [Tips on OpenCV](http://www.legendu.net/misc/blog/tips-on-opencv)\n",
    "\n",
    "- [Writing an mp4 video using python opencv](https://stackoverflow.com/questions/30509573/writing-an-mp4-video-using-python-opencv/54731615)\n",
    "\n",
    "- [How to create video animation using Python and OpenCV](https://medium.com/@enriqueav/how-to-create-video-animations-using-python-and-opencv-881b18e41397)\n",
    "\n",
    "- [Creating Video from Images using OpenCV-Python](https://theailearner.com/2018/10/15/creating-video-from-images-using-opencv-python/)\n",
    "\n",
    "- [what is the codec for mp4 videos in python OpenCV](https://stackoverflow.com/questions/30103077/what-is-the-codec-for-mp4-videos-in-python-opencv)"
   ]
  },
  {
   "cell_type": "code",
   "execution_count": null,
   "metadata": {},
   "outputs": [],
   "source": []
  }
 ],
 "metadata": {
  "kernelspec": {
   "display_name": "Python 3 (ipykernel)",
   "language": "python",
   "name": "python3"
  },
  "language_info": {
   "codemirror_mode": {
    "name": "ipython",
    "version": 3
   },
   "file_extension": ".py",
   "mimetype": "text/x-python",
   "name": "python",
   "nbconvert_exporter": "python",
   "pygments_lexer": "ipython3",
   "version": "3.8.10"
  }
 },
 "nbformat": 4,
 "nbformat_minor": 4
}
