{
 "cells": [
  {
   "cell_type": "markdown",
   "metadata": {},
   "source": [
    "- Title: Manipulate Videos Using OpenCV in Python\n",
    "- Slug: python-opencv-python\n",
    "- Date: 2020-04-06 14:52:30\n",
    "- Category: Computer Science\n",
    "- Tags: programming, Python, computer vision, CV, video, OpenCV\n",
    "- Author: Ben Du\n",
    "- Modified: 2020-04-06 14:52:30\n"
   ]
  },
  {
   "cell_type": "markdown",
   "metadata": {},
   "source": [
    "The code below converts a MOV vidoe file to a MP4 vidoe file using OpenCV in Python."
   ]
  },
  {
   "cell_type": "code",
   "execution_count": null,
   "metadata": {},
   "outputs": [],
   "source": [
    "import cv2\n",
    "\n",
    "vidcap = cv2.VideoCapture(\"in.mov\")\n",
    "writer = cv2.VideoWriter(\n",
    "    \"out.mp4\",\n",
    "    apiPreference=0,\n",
    "    fourcc=cv2.VideoWriter_fourcc(*'H264'),\n",
    "    fps=25,\n",
    "    frameSize=(2880, 1800)\n",
    ")\n",
    "while True:\n",
    "    success, image = vidcap.read()\n",
    "    if not success:\n",
    "        break\n",
    "    writer.write(image)\n",
    "writer.release()"
   ]
  },
  {
   "cell_type": "markdown",
   "metadata": {},
   "source": [
    "## References\n",
    "\n",
    "[How to create video animation using Python and OpenCV](https://medium.com/@enriqueav/how-to-create-video-animations-using-python-and-opencv-881b18e41397)\n",
    "\n",
    "[Creating Video from Images using OpenCV-Python](https://theailearner.com/2018/10/15/creating-video-from-images-using-opencv-python/)\n",
    "\n",
    "[what is the codec for mp4 videos in python OpenCV](https://stackoverflow.com/questions/30103077/what-is-the-codec-for-mp4-videos-in-python-opencv)"
   ]
  },
  {
   "cell_type": "code",
   "execution_count": null,
   "metadata": {},
   "outputs": [],
   "source": []
  }
 ],
 "metadata": {
  "kernelspec": {
   "display_name": "Python 3",
   "language": "python",
   "name": "python3"
  },
  "language_info": {
   "codemirror_mode": {
    "name": "ipython",
    "version": 3
   },
   "file_extension": ".py",
   "mimetype": "text/x-python",
   "name": "python",
   "nbconvert_exporter": "python",
   "pygments_lexer": "ipython3",
   "version": "3.7.3"
  }
 },
 "nbformat": 4,
 "nbformat_minor": 4
}