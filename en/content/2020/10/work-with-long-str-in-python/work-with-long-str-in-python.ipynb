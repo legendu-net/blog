{
 "cells": [
  {
   "cell_type": "markdown",
   "metadata": {},
   "source": [
    "- Title: Work with Long Strings in Python\n",
    "- Slug: work-with-long-strings-in-python\n",
    "- Date: 2020-10-24 09:35:31\n",
    "- Category: Computer Science\n",
    "- Tags: Computer Science, programming, Python, string, str, character, long, long strings\n",
    "- Author: Ben Du\n",
    "- Modified: 2020-10-24 09:35:31\n"
   ]
  },
  {
   "cell_type": "markdown",
   "metadata": {},
   "source": [
    "This article discusses different ways to write long strings in Python."
   ]
  },
  {
   "cell_type": "markdown",
   "metadata": {},
   "source": [
    "## Long String in One Line\n",
    "A long string can be put on the the same line,\n",
    "which is ugly of course."
   ]
  },
  {
   "cell_type": "code",
   "execution_count": 1,
   "metadata": {},
   "outputs": [
    {
     "name": "stdout",
     "output_type": "stream",
     "text": [
      "This is a very looooooooooooooooooooooooooooooooooooooooooooooooooooooooooooooooooooooooooooong string.\n"
     ]
    }
   ],
   "source": [
    "long_string = 'This is a very looooooooooooooooooooooooooooooooooooooooooooooooooooooooooooooooooooooooooooong string.'\n",
    "print(long_string)"
   ]
  },
  {
   "cell_type": "markdown",
   "metadata": {},
   "source": [
    "## Concatenate Multiple Strings Using `+`\n",
    "Use `+` to concatenate multiple string,\n",
    "which is is visually good but not recommended (due to simpler alternatives)."
   ]
  },
  {
   "cell_type": "code",
   "execution_count": 9,
   "metadata": {},
   "outputs": [
    {
     "name": "stdout",
     "output_type": "stream",
     "text": [
      "This is a veryloooooooooooooooooooooooooooooooooooong string.\n"
     ]
    }
   ],
   "source": [
    "long_string = 'This is a very' + \\\n",
    "    'loooooooooooooooooooooooooooooooooooong string.'\n",
    "print(long_string)"
   ]
  },
  {
   "cell_type": "markdown",
   "metadata": {},
   "source": [
    "## Parentheses\n",
    "\n",
    "Parentheses can be used to break a long string into multiple lines \n",
    "and avoid the side effect of white spaces at the same time. "
   ]
  },
  {
   "cell_type": "code",
   "execution_count": 15,
   "metadata": {},
   "outputs": [
    {
     "name": "stdout",
     "output_type": "stream",
     "text": [
      "This is a very looooooooooooooooooooooooooooooooooooong string.\n"
     ]
    }
   ],
   "source": [
    "long_string = ('This is a very ' 'looooooooooooooooooooooooooooooooooooong string.')\n",
    "print(long_string)"
   ]
  },
  {
   "cell_type": "markdown",
   "metadata": {},
   "source": [
    "This is especially convenient if the long string is passed directly to a method."
   ]
  },
  {
   "cell_type": "code",
   "execution_count": 14,
   "metadata": {},
   "outputs": [
    {
     "data": {
      "text/plain": [
       "63"
      ]
     },
     "execution_count": 14,
     "metadata": {},
     "output_type": "execute_result"
    }
   ],
   "source": [
    "len('This is a very ' 'looooooooooooooooooooooooooooooooooooong string.')"
   ]
  },
  {
   "cell_type": "markdown",
   "metadata": {},
   "source": [
    "## Line Continuation `\\`\n",
    "\n",
    "The line continuation symbol `\\` can be used to break a string into multiple lines.\n",
    "This is another good alternative if you do not like the parentheses way."
   ]
  },
  {
   "cell_type": "code",
   "execution_count": 17,
   "metadata": {},
   "outputs": [
    {
     "name": "stdout",
     "output_type": "stream",
     "text": [
      "This is a very looooooooooooooooooooooooooooooooooong string.\n"
     ]
    }
   ],
   "source": [
    "long_string = 'This is a very ' \\\n",
    "    'looooooooooooooooooooooooooooooooooong string.'\n",
    "print(long_string)"
   ]
  },
  {
   "cell_type": "markdown",
   "metadata": {},
   "source": [
    "## Triple Quotes\n",
    "Triple double/single quotes is a very convenient way to write a large chunk of string in Python.\n",
    "Howeve, \n",
    "whites spaces are kept literally in a triple-qutoe string,\n",
    "which might or might not be what you want."
   ]
  },
  {
   "cell_type": "code",
   "execution_count": 2,
   "metadata": {},
   "outputs": [
    {
     "name": "stdout",
     "output_type": "stream",
     "text": [
      "This is a very\n",
      "    loooooooooooooooooooooooooooooooooooooong string.\n",
      "    \n"
     ]
    }
   ],
   "source": [
    "long_string = '''This is a very\n",
    "    loooooooooooooooooooooooooooooooooooooong string.\n",
    "    '''\n",
    "print(long_string)"
   ]
  },
  {
   "cell_type": "markdown",
   "metadata": {},
   "source": [
    "Fortunately,\n",
    "there are a few functions in Python \n",
    "which can easily remove leading whites spaces in each line of a tripple quotes string."
   ]
  },
  {
   "cell_type": "markdown",
   "metadata": {},
   "source": [
    "### [inspect.cleandoc](https://docs.python.org/3/library/inspect.html#inspect.cleandoc)"
   ]
  },
  {
   "cell_type": "code",
   "execution_count": 3,
   "metadata": {},
   "outputs": [],
   "source": [
    "import inspect"
   ]
  },
  {
   "cell_type": "code",
   "execution_count": 3,
   "metadata": {},
   "outputs": [],
   "source": [
    "s = \"\"\"\n",
    "    if [[ -f ... ]]; then\n",
    "        echo\n",
    "    fi\n",
    "    \"\"\""
   ]
  },
  {
   "cell_type": "code",
   "execution_count": 6,
   "metadata": {},
   "outputs": [
    {
     "name": "stdout",
     "output_type": "stream",
     "text": [
      "if [[ -f ... ]]; then\n",
      "    echo\n",
      "fi\n"
     ]
    }
   ],
   "source": [
    "print(inspect.cleandoc(s))"
   ]
  },
  {
   "cell_type": "markdown",
   "metadata": {},
   "source": [
    "### [textwrap.dedent](https://docs.python.org/3/library/textwrap.html#textwrap.dedent)"
   ]
  },
  {
   "cell_type": "code",
   "execution_count": 1,
   "metadata": {},
   "outputs": [],
   "source": [
    "import textwrap"
   ]
  },
  {
   "cell_type": "code",
   "execution_count": 7,
   "metadata": {},
   "outputs": [],
   "source": [
    "s = \"\"\"\\\n",
    "    if [[ -f ... ]]; then\n",
    "        echo\n",
    "    fi\n",
    "    \"\"\""
   ]
  },
  {
   "cell_type": "code",
   "execution_count": 8,
   "metadata": {},
   "outputs": [
    {
     "name": "stdout",
     "output_type": "stream",
     "text": [
      "if [[ -f ... ]]; then\n",
      "    echo\n",
      "fi\n",
      "\n"
     ]
    }
   ],
   "source": [
    "print(textwrap.dedent(s))"
   ]
  },
  {
   "cell_type": "markdown",
   "metadata": {},
   "source": [
    "## References \n",
    "\n",
    "https://docs.python.org/3/library/stdtypes.html#textseq"
   ]
  },
  {
   "cell_type": "code",
   "execution_count": null,
   "metadata": {},
   "outputs": [],
   "source": []
  }
 ],
 "metadata": {
  "kernelspec": {
   "display_name": "Python 3",
   "language": "python",
   "name": "python3"
  },
  "language_info": {
   "codemirror_mode": {
    "name": "ipython",
    "version": 3
   },
   "file_extension": ".py",
   "mimetype": "text/x-python",
   "name": "python",
   "nbconvert_exporter": "python",
   "pygments_lexer": "ipython3",
   "version": "3.8.5-final"
  }
 },
 "nbformat": 4,
 "nbformat_minor": 4
}