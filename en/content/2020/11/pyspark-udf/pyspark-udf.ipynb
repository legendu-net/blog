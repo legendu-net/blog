{
 "cells": [
  {
   "cell_type": "markdown",
   "metadata": {},
   "source": [
    "- Title: User-defined Function (UDF) in PySpark\n",
    "- Slug: pyspark-udf\n",
    "- Date: 2020-11-27 22:55:16\n",
    "- Category: Computer Science\n",
    "- Tags: programming, Python, HPC, high performance computing, PySpark, UDF, pandas, pandas_udf, pandas UDF\n",
    "- Author: Ben Du\n",
    "- Modified: 2021-04-27 22:55:16\n"
   ]
  },
  {
   "cell_type": "markdown",
   "metadata": {},
   "source": [
    "## Tips and Traps\n",
    "\n",
    "1. The easist way to define a UDF in PySpark is to use the `@udf` tag,\n",
    "    and similarly the easist way to define a Pandas UDF in PySpark is to use the `@pandas_udf` tag.\n",
    "    Pandas UDFs are preferred to UDFs for server reasons.\n",
    "    First, pandas UDFs are typically much faster than UDFs.\n",
    "    Second, pandas UDFs are more flexible than UDFs on parameter passing.\n",
    "    Both UDFs and pandas UDFs can take multiple columns as parameters.\n",
    "    In addition, \n",
    "    pandas UDFs can take a DataFrame as parameter \n",
    "    (when passed to the `apply` function after `groupBy` is called).\n",
    "\n",
    "2. You need to specify a value for the parameter `returnType`\n",
    "    (the type of elements in the PySpark DataFrame Column)\n",
    "    when creating a (pandas) UDF. \n",
    "    Both type objects (e.g., `StringType()`)\n",
    "    and names of types (e.g., `\"string\"`) are accepted.\n",
    "    Specifying names of types is simpler (as you do not have to import the corresponding types\n",
    "    and names are short to type)\n",
    "    but at the cost of losing the ability to do static type checking (e.g., using pylint) on the used return types. \n",
    "   \n",
    "4. When invoking a (pandas) UDF, \n",
    "    you can either pass column expressions (e.g., `col(\"name\")`)\n",
    "    or names of columns (e.g., `\"name\"`) to it.\n",
    "    It is suggested that you always use the explicit way (`col(\"name\")`)\n",
    "    as it avoids confusions in certain situations.\n",
    "    \n",
    "3. UDFs created using the tags `@udf` and `@pandas_udf` can only be used in DataFrame APIs but not in Spark SQL. \n",
    "    To use a UDF or Pandas UDF in Spark SQL, \n",
    "    you have to register it using `spark.udf.register`.\n",
    "    Notice that `spark.udf.register` can not only register UDFs and pandas UDFS but also a regular Python function \n",
    "    (in which case you have to specify return types).\n",
    "\n",
    "5. BinaryType has already been supported in versions earlier than Spark 2.4. \n",
    "    However, \n",
    "    conversion between a Spark DataFrame which contains BinaryType columns \n",
    "    and a pandas DataFrame (via pyarrow) is not supported until spark 2.4.\n",
    "    \n",
    "6. Pandas UDF leveraging PyArrow (>=0.15) causes `java.lang.IllegalArgumentException` in PySpark 2.4 \n",
    "    (PySpark 3 has fixed issues completely). \n",
    "    Listed below are 3 ways to fix this issue. \n",
    "    For more discussions please refer to \n",
    "    [Apache Arrow in PySpark](https://spark.apache.org/docs/latest/api/python/user_guide/arrow_pandas.html),\n",
    "    [PySpark pandas_udfs java.lang.IllegalArgumentException error](https://www.nuomiphp.com/eplan/en/52878.html)\n",
    "    and\n",
    "    [pandas udf not working with latest pyarrow release (0.15.0)](https://issues.apache.org/jira/browse/SPARK-29367)\n",
    "    .\n",
    "    \n",
    "    1. Downgrade PyArrow to 0.14.1 (if you have to stick to PySpark 2.4).\n",
    "    2. Set the environment variable `ARROW_PRE_0_15_IPC_FORMAT` to be `1` (if you have to stick to PySpark 2.4).\n",
    "        You can do this using `spark.yarn.appMasterEnv.ARROW_PRE_0_15_IPC_FORMAT=1`\n",
    "        and `spark.executorEnv.ARROW_PRE_0_15_IPC_FORMAT=1`.\n",
    "    3. Use PySpark 3.\n",
    "    \n",
    "\n",
    "4. If your (pandas) UDF needs a non-Column parameter,\n",
    "    there are 3 ways to achieve it. \n",
    "    \n",
    "    - Use a global variable in your pandas UDF. \n",
    "    - Use a curried function which takes non-Column parameter(s)\n",
    "        and return a (pandas) UDF (which then takes Columns as parameters).\n",
    "        \n",
    "            def comparator_udf(n):\n",
    "                return udf(lambda c: c == n, BooleanType())\n",
    "\n",
    "            df.where(comparator_udf(\"Bonsanto\")(col(\"name\")))\n",
    "            \n",
    "    - Simplify treat a non-Column parameter as a Column parameter\n",
    "        and wrap the parameter into `lit` when invoking the (pandas) UDF. \n",
    "        \n",
    "    The 1st way is error-prone and inflexible. \n",
    "    Both the 2nd and the last approaches are solid,\n",
    "    however,\n",
    "    the last ways is preferred \n",
    "    as it is universal and also more flexible \n",
    "    (if you want to use Column parameters to replace non-Column parameters later).\n",
    "    "
   ]
  },
  {
   "cell_type": "code",
   "execution_count": 3,
   "metadata": {},
   "outputs": [],
   "source": [
    "import pandas as pd\n",
    "import findspark\n",
    "findspark.init(\"/opt/spark-3.1.1-bin-hadoop3.2/\")\n",
    "\n",
    "from pyspark.sql import SparkSession, DataFrame\n",
    "from pyspark.sql.functions import *\n",
    "from pyspark.sql.types import IntegerType, StringType, StructType\n",
    "spark = SparkSession.builder.appName(\"PySpark UDF\").enableHiveSupport().getOrCreate()"
   ]
  },
  {
   "cell_type": "code",
   "execution_count": 4,
   "metadata": {},
   "outputs": [
    {
     "name": "stdout",
     "output_type": "stream",
     "text": [
      "+----+---+---+\n",
      "|name| id|age|\n",
      "+----+---+---+\n",
      "| Ben|  2| 30|\n",
      "| Dan|  4| 25|\n",
      "|Will|  1| 26|\n",
      "+----+---+---+\n",
      "\n"
     ]
    }
   ],
   "source": [
    "df_p = pd.DataFrame(\n",
    "    data=[\n",
    "        [\"Ben\", 2, 30],\n",
    "        [\"Dan\", 4, 25],\n",
    "        [\"Will\", 1, 26],\n",
    "    ],\n",
    "    columns=[\"name\", \"id\", \"age\"]\n",
    ")\n",
    "df = spark.createDataFrame(df_p)\n",
    "df.show()"
   ]
  },
  {
   "cell_type": "code",
   "execution_count": 4,
   "metadata": {},
   "outputs": [],
   "source": [
    "df.createOrReplaceTempView(\"table_df\")"
   ]
  },
  {
   "cell_type": "markdown",
   "metadata": {},
   "source": [
    "## Pandas UDF \n",
    "\n",
    "1. BinaryType has already been supported in versions earlier than Spark 2.4. \n",
    "    However, \n",
    "    conversion between a Spark DataFrame which contains BinaryType columns \n",
    "    and a pandas DataFrame (via pyarrow) is not supported until spark 2.4."
   ]
  },
  {
   "cell_type": "markdown",
   "metadata": {},
   "source": [
    "### Return a `pandas.Series`\n",
    "\n",
    "The following pandas UDF take a `pandas.Series` (converted from a PySpark DataFrame Column on one partition) as parameter\n",
    "and returns a `pandas.Series` of the same length.\n",
    "Failure to stick to the constraint will cause runtime errors.\n"
   ]
  },
  {
   "cell_type": "code",
   "execution_count": 6,
   "metadata": {},
   "outputs": [],
   "source": [
    "@pandas_udf(\"integer\")\n",
    "def age_plus_one(age: pd.Series) -> pd.Series:\n",
    "    return age + 1"
   ]
  },
  {
   "cell_type": "code",
   "execution_count": 5,
   "metadata": {},
   "outputs": [
    {
     "name": "stdout",
     "output_type": "stream",
     "text": [
      "+----+---+---+----+\n",
      "|name| id|age|age1|\n",
      "+----+---+---+----+\n",
      "| Ben|  2| 30|  31|\n",
      "| Dan|  4| 25|  26|\n",
      "|Will|  1| 26|  27|\n",
      "+----+---+---+----+\n",
      "\n"
     ]
    }
   ],
   "source": [
    "df.withColumn(\"age1\", age_plus_one(\"age\")).show()"
   ]
  },
  {
   "cell_type": "code",
   "execution_count": 6,
   "metadata": {},
   "outputs": [],
   "source": [
    "@pandas_udf(\"integer\")\n",
    "def age_plus_two(age: pd.Series) -> pd.Series:\n",
    "    return pd.Series(a + 2 for a in age)"
   ]
  },
  {
   "cell_type": "code",
   "execution_count": 7,
   "metadata": {},
   "outputs": [
    {
     "name": "stdout",
     "output_type": "stream",
     "text": [
      "+----+---+---+----+\n",
      "|name| id|age|age2|\n",
      "+----+---+---+----+\n",
      "| Ben|  2| 30|  32|\n",
      "| Dan|  4| 25|  27|\n",
      "|Will|  1| 26|  28|\n",
      "+----+---+---+----+\n",
      "\n"
     ]
    }
   ],
   "source": [
    "df.withColumn(\"age2\", age_plus_two(\"age\")).show()"
   ]
  },
  {
   "cell_type": "code",
   "execution_count": 8,
   "metadata": {},
   "outputs": [],
   "source": [
    "@pandas_udf(\"string\")\n",
    "def concat(name: pd.Series, age: pd.Series) -> pd.Series:\n",
    "    return name + \" is \" + \"age years old.\""
   ]
  },
  {
   "cell_type": "code",
   "execution_count": 9,
   "metadata": {},
   "outputs": [
    {
     "name": "stdout",
     "output_type": "stream",
     "text": [
      "+----+---+---+--------------------+\n",
      "|name| id|age|               intro|\n",
      "+----+---+---+--------------------+\n",
      "| Ben|  2| 30|Ben is age years ...|\n",
      "| Dan|  4| 25|Dan is age years ...|\n",
      "|Will|  1| 26|Will is age years...|\n",
      "+----+---+---+--------------------+\n",
      "\n"
     ]
    }
   ],
   "source": [
    "df.withColumn(\"intro\", concat(\"name\", \"age\")).show()"
   ]
  },
  {
   "cell_type": "code",
   "execution_count": 10,
   "metadata": {},
   "outputs": [],
   "source": [
    "@pandas_udf(\"string\")\n",
    "def concat2(name: pd.Series, age: pd.Series) -> pd.Series:\n",
    "    return pd.Series(f\"{name} is {age} years old.\" for name, age in zip(name, age))"
   ]
  },
  {
   "cell_type": "code",
   "execution_count": 11,
   "metadata": {},
   "outputs": [
    {
     "name": "stdout",
     "output_type": "stream",
     "text": [
      "+----+---+---+--------------------+\n",
      "|name| id|age|               intro|\n",
      "+----+---+---+--------------------+\n",
      "| Ben|  2| 30|Ben is 30 years old.|\n",
      "| Dan|  4| 25|Dan is 25 years old.|\n",
      "|Will|  1| 26|Will is 26 years ...|\n",
      "+----+---+---+--------------------+\n",
      "\n"
     ]
    }
   ],
   "source": [
    "df.withColumn(\"intro\", concat2(\"name\", \"age\")).show()"
   ]
  },
  {
   "cell_type": "markdown",
   "metadata": {},
   "source": [
    "### Return a `pandas.DataFrame`\n",
    "\n",
    "The following pandas UDF takes a pandas DataFrame as input and returns a pandas UDF. \n",
    "It can only be applied after `groupBy`."
   ]
  },
  {
   "cell_type": "code",
   "execution_count": null,
   "metadata": {},
   "outputs": [],
   "source": [
    "@pandas_udf(\n",
    "    returnType=\"id long, prob double\",\n",
    "    functionType=PandasUDFType.GROUPED_MAP\n",
    ")\n",
    "def predict_udf(df):\n",
    "    df[\"prob\"] = model.predict_proba(df[features])[:, 1]\n",
    "    return df[[\"id\", \"prob\"]]"
   ]
  },
  {
   "cell_type": "code",
   "execution_count": null,
   "metadata": {},
   "outputs": [],
   "source": [
    "df.groupBy(spark_partition_id()).apply(predict_udf)"
   ]
  },
  {
   "cell_type": "markdown",
   "metadata": {},
   "source": [
    "## Pandas UDFs in Spark SQL\n",
    "\n",
    "Pandas UDFs created using `@pandas_udf` can only be used in DataFrame APIs but not in Spark SQL.\n",
    "To use a Pandas UDF in Spark SQL, \n",
    "you have to register it using `spark.udf.register`.\n",
    "The same holds for UDFs. \n",
    "Notice that `spark.udf.register` can not only register pandas UDFS and UDFS but also a regular Python function \n",
    "(in which case you have to specify return types)."
   ]
  },
  {
   "cell_type": "code",
   "execution_count": 13,
   "metadata": {},
   "outputs": [
    {
     "ename": "AnalysisException",
     "evalue": "Undefined function: 'age_plus_one'. This function is neither a registered temporary function nor a permanent function registered in the database 'default'.; line 1 pos 10",
     "output_type": "error",
     "traceback": [
      "\u001b[0;31m---------------------------------------------------------------------------\u001b[0m",
      "\u001b[0;31mAnalysisException\u001b[0m                         Traceback (most recent call last)",
      "\u001b[0;32m<ipython-input-13-501267730fde>\u001b[0m in \u001b[0;36m<module>\u001b[0;34m\u001b[0m\n\u001b[0;32m----> 1\u001b[0;31m \u001b[0mspark\u001b[0m\u001b[0;34m.\u001b[0m\u001b[0msql\u001b[0m\u001b[0;34m(\u001b[0m\u001b[0;34m\"select *, age_plus_one(age) as age1 from table_df\"\u001b[0m\u001b[0;34m)\u001b[0m\u001b[0;34m.\u001b[0m\u001b[0mshow\u001b[0m\u001b[0;34m(\u001b[0m\u001b[0;34m)\u001b[0m\u001b[0;34m\u001b[0m\u001b[0;34m\u001b[0m\u001b[0m\n\u001b[0m",
      "\u001b[0;32m/opt/spark-3.1.1-bin-hadoop3.2/python/pyspark/sql/session.py\u001b[0m in \u001b[0;36msql\u001b[0;34m(self, sqlQuery)\u001b[0m\n\u001b[1;32m    721\u001b[0m         \u001b[0;34m[\u001b[0m\u001b[0mRow\u001b[0m\u001b[0;34m(\u001b[0m\u001b[0mf1\u001b[0m\u001b[0;34m=\u001b[0m\u001b[0;36m1\u001b[0m\u001b[0;34m,\u001b[0m \u001b[0mf2\u001b[0m\u001b[0;34m=\u001b[0m\u001b[0;34m'row1'\u001b[0m\u001b[0;34m)\u001b[0m\u001b[0;34m,\u001b[0m \u001b[0mRow\u001b[0m\u001b[0;34m(\u001b[0m\u001b[0mf1\u001b[0m\u001b[0;34m=\u001b[0m\u001b[0;36m2\u001b[0m\u001b[0;34m,\u001b[0m \u001b[0mf2\u001b[0m\u001b[0;34m=\u001b[0m\u001b[0;34m'row2'\u001b[0m\u001b[0;34m)\u001b[0m\u001b[0;34m,\u001b[0m \u001b[0mRow\u001b[0m\u001b[0;34m(\u001b[0m\u001b[0mf1\u001b[0m\u001b[0;34m=\u001b[0m\u001b[0;36m3\u001b[0m\u001b[0;34m,\u001b[0m \u001b[0mf2\u001b[0m\u001b[0;34m=\u001b[0m\u001b[0;34m'row3'\u001b[0m\u001b[0;34m)\u001b[0m\u001b[0;34m]\u001b[0m\u001b[0;34m\u001b[0m\u001b[0;34m\u001b[0m\u001b[0m\n\u001b[1;32m    722\u001b[0m         \"\"\"\n\u001b[0;32m--> 723\u001b[0;31m         \u001b[0;32mreturn\u001b[0m \u001b[0mDataFrame\u001b[0m\u001b[0;34m(\u001b[0m\u001b[0mself\u001b[0m\u001b[0;34m.\u001b[0m\u001b[0m_jsparkSession\u001b[0m\u001b[0;34m.\u001b[0m\u001b[0msql\u001b[0m\u001b[0;34m(\u001b[0m\u001b[0msqlQuery\u001b[0m\u001b[0;34m)\u001b[0m\u001b[0;34m,\u001b[0m \u001b[0mself\u001b[0m\u001b[0;34m.\u001b[0m\u001b[0m_wrapped\u001b[0m\u001b[0;34m)\u001b[0m\u001b[0;34m\u001b[0m\u001b[0;34m\u001b[0m\u001b[0m\n\u001b[0m\u001b[1;32m    724\u001b[0m \u001b[0;34m\u001b[0m\u001b[0m\n\u001b[1;32m    725\u001b[0m     \u001b[0;32mdef\u001b[0m \u001b[0mtable\u001b[0m\u001b[0;34m(\u001b[0m\u001b[0mself\u001b[0m\u001b[0;34m,\u001b[0m \u001b[0mtableName\u001b[0m\u001b[0;34m)\u001b[0m\u001b[0;34m:\u001b[0m\u001b[0;34m\u001b[0m\u001b[0;34m\u001b[0m\u001b[0m\n",
      "\u001b[0;32m/opt/spark-3.1.1-bin-hadoop3.2/python/lib/py4j-0.10.9-src.zip/py4j/java_gateway.py\u001b[0m in \u001b[0;36m__call__\u001b[0;34m(self, *args)\u001b[0m\n\u001b[1;32m   1302\u001b[0m \u001b[0;34m\u001b[0m\u001b[0m\n\u001b[1;32m   1303\u001b[0m         \u001b[0manswer\u001b[0m \u001b[0;34m=\u001b[0m \u001b[0mself\u001b[0m\u001b[0;34m.\u001b[0m\u001b[0mgateway_client\u001b[0m\u001b[0;34m.\u001b[0m\u001b[0msend_command\u001b[0m\u001b[0;34m(\u001b[0m\u001b[0mcommand\u001b[0m\u001b[0;34m)\u001b[0m\u001b[0;34m\u001b[0m\u001b[0;34m\u001b[0m\u001b[0m\n\u001b[0;32m-> 1304\u001b[0;31m         return_value = get_return_value(\n\u001b[0m\u001b[1;32m   1305\u001b[0m             answer, self.gateway_client, self.target_id, self.name)\n\u001b[1;32m   1306\u001b[0m \u001b[0;34m\u001b[0m\u001b[0m\n",
      "\u001b[0;32m/opt/spark-3.1.1-bin-hadoop3.2/python/pyspark/sql/utils.py\u001b[0m in \u001b[0;36mdeco\u001b[0;34m(*a, **kw)\u001b[0m\n\u001b[1;32m    115\u001b[0m                 \u001b[0;31m# Hide where the exception came from that shows a non-Pythonic\u001b[0m\u001b[0;34m\u001b[0m\u001b[0;34m\u001b[0m\u001b[0;34m\u001b[0m\u001b[0m\n\u001b[1;32m    116\u001b[0m                 \u001b[0;31m# JVM exception message.\u001b[0m\u001b[0;34m\u001b[0m\u001b[0;34m\u001b[0m\u001b[0;34m\u001b[0m\u001b[0m\n\u001b[0;32m--> 117\u001b[0;31m                 \u001b[0;32mraise\u001b[0m \u001b[0mconverted\u001b[0m \u001b[0;32mfrom\u001b[0m \u001b[0;32mNone\u001b[0m\u001b[0;34m\u001b[0m\u001b[0;34m\u001b[0m\u001b[0m\n\u001b[0m\u001b[1;32m    118\u001b[0m             \u001b[0;32melse\u001b[0m\u001b[0;34m:\u001b[0m\u001b[0;34m\u001b[0m\u001b[0;34m\u001b[0m\u001b[0m\n\u001b[1;32m    119\u001b[0m                 \u001b[0;32mraise\u001b[0m\u001b[0;34m\u001b[0m\u001b[0;34m\u001b[0m\u001b[0m\n",
      "\u001b[0;31mAnalysisException\u001b[0m: Undefined function: 'age_plus_one'. This function is neither a registered temporary function nor a permanent function registered in the database 'default'.; line 1 pos 10"
     ]
    }
   ],
   "source": [
    "spark.sql(\"select *, age_plus_one(age) as age1 from table_df\").show()"
   ]
  },
  {
   "cell_type": "code",
   "execution_count": 18,
   "metadata": {},
   "outputs": [
    {
     "data": {
      "text/plain": [
       "<function __main__.age_plus_one(age: pandas.core.series.Series) -> pandas.core.series.Series>"
      ]
     },
     "execution_count": 18,
     "metadata": {},
     "output_type": "execute_result"
    }
   ],
   "source": [
    "spark.udf.register(\"age_plus_one\", age_plus_one)"
   ]
  },
  {
   "cell_type": "code",
   "execution_count": 19,
   "metadata": {},
   "outputs": [
    {
     "name": "stdout",
     "output_type": "stream",
     "text": [
      "+----+---+---+----+\n",
      "|name| id|age|age1|\n",
      "+----+---+---+----+\n",
      "| Ben|  2| 30|  31|\n",
      "| Dan|  4| 25|  26|\n",
      "|Will|  1| 26|  27|\n",
      "+----+---+---+----+\n",
      "\n"
     ]
    }
   ],
   "source": [
    "spark.sql(\"select *, age_plus_one(age) as age1 from table_df\").show()"
   ]
  },
  {
   "cell_type": "code",
   "execution_count": 20,
   "metadata": {},
   "outputs": [
    {
     "name": "stdout",
     "output_type": "stream",
     "text": [
      "+----+---+---+----+\n",
      "|name| id|age|age1|\n",
      "+----+---+---+----+\n",
      "| Ben|  2| 30|  31|\n",
      "| Dan|  4| 25|  26|\n",
      "|Will|  1| 26|  27|\n",
      "+----+---+---+----+\n",
      "\n"
     ]
    }
   ],
   "source": [
    "df.withColumn(\"age1\", age_plus_one(\"age\")).show()"
   ]
  },
  {
   "cell_type": "markdown",
   "metadata": {},
   "source": [
    "## Non-Column Parameters\n",
    "\n",
    "If your (pandas) UDF needs a non-Column parameter,\n",
    "simplify treat it as a Column parameter\n",
    "and wrap the parameter into `lit` when invoking the (pandas) UDF. \n",
    "Another possibility is to define a regular Python function with takes non-Column parameters \n",
    "and return a (pandas) UDF.\n",
    "The first approach is simpler, universal and also more flexible if later you want to use a Column parameters to replace the non-Column parameters."
   ]
  },
  {
   "cell_type": "code",
   "execution_count": 7,
   "metadata": {},
   "outputs": [],
   "source": [
    "@pandas_udf(\"integer\")\n",
    "def age_plus_one(age: pd.Series) -> pd.Series:\n",
    "    return age + 1"
   ]
  },
  {
   "cell_type": "code",
   "execution_count": 9,
   "metadata": {},
   "outputs": [
    {
     "name": "stdout",
     "output_type": "stream",
     "text": [
      "+----+---+---+----+\n",
      "|name| id|age|age0|\n",
      "+----+---+---+----+\n",
      "| Ben|  2| 30|   1|\n",
      "| Dan|  4| 25|   1|\n",
      "|Will|  1| 26|   1|\n",
      "+----+---+---+----+\n",
      "\n"
     ]
    }
   ],
   "source": [
    "df.withColumn(\"age0\", age_plus_one(lit(0))).show()"
   ]
  },
  {
   "cell_type": "markdown",
   "metadata": {},
   "source": [
    "## UDF Taking One Column as Parameter"
   ]
  },
  {
   "cell_type": "code",
   "execution_count": 19,
   "metadata": {},
   "outputs": [],
   "source": [
    "@udf(StringType())\n",
    "def say_hello(name: str) -> str:\n",
    "    return f\"Hello {name}\""
   ]
  },
  {
   "cell_type": "code",
   "execution_count": 21,
   "metadata": {},
   "outputs": [
    {
     "name": "stdout",
     "output_type": "stream",
     "text": [
      "+----+---+---+----------+\n",
      "|name| id|age| greetings|\n",
      "+----+---+---+----------+\n",
      "| Ben|  2| 30| Hello Ben|\n",
      "| Dan|  4| 25| Hello Dan|\n",
      "|Will|  1| 26|Hello Will|\n",
      "+----+---+---+----------+\n",
      "\n"
     ]
    }
   ],
   "source": [
    "df.withColumn(\"greetings\", say_hello(col(\"name\"))).show()"
   ]
  },
  {
   "cell_type": "code",
   "execution_count": 21,
   "metadata": {},
   "outputs": [],
   "source": [
    "def say_hello_2(name: str) -> str:\n",
    "    return f\"Hello {name}\""
   ]
  },
  {
   "cell_type": "code",
   "execution_count": 25,
   "metadata": {},
   "outputs": [
    {
     "data": {
      "text/plain": [
       "<function __main__.say_hello_2(name: str) -> str>"
      ]
     },
     "execution_count": 25,
     "metadata": {},
     "output_type": "execute_result"
    }
   ],
   "source": [
    "spark.udf.register(\"say_hello_udf\", say_hello_2, StringType())\n"
   ]
  },
  {
   "cell_type": "code",
   "execution_count": 26,
   "metadata": {},
   "outputs": [
    {
     "name": "stdout",
     "output_type": "stream",
     "text": [
      "+----+---+---+----------+\n",
      "|name| id|age|     hello|\n",
      "+----+---+---+----------+\n",
      "| Ben|  2| 30| Hello Ben|\n",
      "| Dan|  4| 25| Hello Dan|\n",
      "|Will|  1| 26|Hello Will|\n",
      "+----+---+---+----------+\n",
      "\n"
     ]
    }
   ],
   "source": [
    "spark.sql(\"select *, say_hello_2(name) as hello from table_df\").show()"
   ]
  },
  {
   "cell_type": "code",
   "execution_count": 27,
   "metadata": {},
   "outputs": [
    {
     "ename": "NameError",
     "evalue": "name 'say_hello_udf' is not defined",
     "output_type": "error",
     "traceback": [
      "\u001b[0;31m---------------------------------------------------------------------------\u001b[0m",
      "\u001b[0;31mNameError\u001b[0m                                 Traceback (most recent call last)",
      "\u001b[0;32m<ipython-input-27-83cdbd56ac4a>\u001b[0m in \u001b[0;36m<module>\u001b[0;34m\u001b[0m\n\u001b[0;32m----> 1\u001b[0;31m \u001b[0mdf\u001b[0m\u001b[0;34m.\u001b[0m\u001b[0mwithColumn\u001b[0m\u001b[0;34m(\u001b[0m\u001b[0msay_hello_udf\u001b[0m\u001b[0;34m(\u001b[0m\u001b[0;34m\"name\"\u001b[0m\u001b[0;34m)\u001b[0m\u001b[0;34m)\u001b[0m\u001b[0;34m.\u001b[0m\u001b[0mshow\u001b[0m\u001b[0;34m(\u001b[0m\u001b[0;34m)\u001b[0m\u001b[0;34m\u001b[0m\u001b[0;34m\u001b[0m\u001b[0m\n\u001b[0m",
      "\u001b[0;31mNameError\u001b[0m: name 'say_hello_udf' is not defined"
     ]
    }
   ],
   "source": [
    "df.withColumn(say_hello_udf(\"name\")).show()"
   ]
  },
  {
   "cell_type": "markdown",
   "metadata": {},
   "source": [
    "## UDF Taking Two Columns as Parameters"
   ]
  },
  {
   "cell_type": "code",
   "execution_count": 31,
   "metadata": {},
   "outputs": [],
   "source": [
    "@udf(\"string\")\n",
    "def concat(name: str, age: int) -> str:\n",
    "    return f\"{name} is {age} years old.\""
   ]
  },
  {
   "cell_type": "code",
   "execution_count": 32,
   "metadata": {},
   "outputs": [
    {
     "name": "stdout",
     "output_type": "stream",
     "text": [
      "+----+---+---+--------------------+\n",
      "|name| id|age|           greetings|\n",
      "+----+---+---+--------------------+\n",
      "| Ben|  2| 30|Ben is 30 years old.|\n",
      "| Dan|  4| 25|Dan is 25 years old.|\n",
      "|Will|  1| 26|Will is 26 years ...|\n",
      "+----+---+---+--------------------+\n",
      "\n"
     ]
    }
   ],
   "source": [
    "df.withColumn(\"greetings\", concat(col(\"name\"), col(\"age\"))).show()"
   ]
  },
  {
   "cell_type": "code",
   "execution_count": 24,
   "metadata": {},
   "outputs": [
    {
     "name": "stdout",
     "output_type": "stream",
     "text": [
      "+----+---+---+--------------------+\n",
      "|name| id|age|           greetings|\n",
      "+----+---+---+--------------------+\n",
      "| Ben|  2| 30|Ben is 30 years old.|\n",
      "| Dan|  4| 25|Dan is 25 years old.|\n",
      "|Will|  1| 26|Will is 26 years ...|\n",
      "+----+---+---+--------------------+\n",
      "\n"
     ]
    }
   ],
   "source": [
    "df.withColumn(\"greetings\", concat(\"name\", \"age\")).show()"
   ]
  },
  {
   "cell_type": "markdown",
   "metadata": {},
   "source": [
    "## References\n",
    "\n",
    "[Scalable Python Code with Pandas UDFs: A Data Science Application](https://towardsdatascience.com/scalable-python-code-with-pandas-udfs-a-data-science-application-dd515a628896)\n",
    "\n",
    "https://medium.com/@ayplam/developing-pyspark-udfs-d179db0ccc87\n",
    "\n",
    "https://medium.com/analytics-vidhya/pyspark-udf-deep-dive-8ae984bfac00\n",
    "    \n",
    "https://docs.databricks.com/spark/latest/spark-sql/udf-python.html\n",
    "    \n",
    "https://changhsinlee.com/pyspark-udf/\n",
    "    \n",
    "https://medium.com/@ayplam/developing-pyspark-udfs-d179db0ccc87\n",
    "\n",
    "https://spark.apache.org/docs/latest/api/python/pyspark.sql.html\n",
    "\n",
    "https://spark.apache.org/docs/latest/api/python/pyspark.sql.html#pyspark.sql.DataFrame\n",
    "\n",
    "https://spark.apache.org/docs/latest/api/python/pyspark.sql.html#pyspark.sql.Column\n",
    "\n",
    "https://spark.apache.org/docs/latest/api/python/pyspark.sql.html#module-pyspark.sql.functions\n",
    "\n",
    "[pyspark.sql.functions.pandas_udf](https://spark.apache.org/docs/latest/api/python/reference/api/pyspark.sql.functions.pandas_udf.html#pyspark.sql.functions.pandas_udf)"
   ]
  },
  {
   "cell_type": "code",
   "execution_count": null,
   "metadata": {},
   "outputs": [],
   "source": []
  }
 ],
 "metadata": {
  "kernelspec": {
   "display_name": "Python 3",
   "language": "python",
   "name": "python3"
  },
  "language_info": {
   "codemirror_mode": {
    "name": "ipython",
    "version": 3
   },
   "file_extension": ".py",
   "mimetype": "text/x-python",
   "name": "python",
   "nbconvert_exporter": "python",
   "pygments_lexer": "ipython3",
   "version": "3.8.5"
  },
  "widgets": {
   "application/vnd.jupyter.widget-state+json": {
    "state": {},
    "version_major": 2,
    "version_minor": 0
   }
  }
 },
 "nbformat": 4,
 "nbformat_minor": 4
}