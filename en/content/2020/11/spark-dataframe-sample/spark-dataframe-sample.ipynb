{
 "cells": [
  {
   "cell_type": "markdown",
   "metadata": {},
   "source": [
    "- Author: Ben Du\n",
    "- Date: 2020-11-05 00:13:37\n",
    "- Title: Sample Rows from a Spark DataFrame\n",
    "- Slug: spark-dataframe-sample\n",
    "- Category: Computer Science\n",
    "- Tags: programming, PySpark, DataFrame, sample, TABLESAMPLE\n",
    "- Modified: 2020-11-05 00:13:37\n"
   ]
  },
  {
   "cell_type": "markdown",
   "metadata": {},
   "source": [
    "## Tips and Traps\n",
    "\n",
    "1. `TABLESAMPLE` must be immedidately after a table name.\n",
    "\n",
    "2. The `WHERE` clause in the following SQL query runs after `TABLESAMPLE`.\n",
    "\n",
    "        SELECT \n",
    "            *\n",
    "        FROM \n",
    "            table_name \n",
    "        TABLESAMPLE (10 PERCENT) \n",
    "        WHERE \n",
    "            id = 1\n",
    "\n",
    "    If you want to run a `WHERE` clause first and then do `TABLESAMPLE`,\n",
    "    you have to a subquery instead. \n",
    "\n",
    "        SELECT \n",
    "            *\n",
    "        FROM (\n",
    "            SELECT * FROM table_name\n",
    "            WHERE id = 1\n",
    "        ) A\n",
    "        TABLESAMPLE (10 PERCENT)\n",
    "\n",
    "3. Avoid using `TABLESAMPLE (k rows)` as it is not simple random sample \n",
    "    but instead implemented using `LIMIT`. \n",
    "    Always use `TABLESAMPLE (p PERCENT)` if randomness is important."
   ]
  },
  {
   "cell_type": "markdown",
   "metadata": {},
   "source": [
    "## Be Careful with Subsampling"
   ]
  },
  {
   "cell_type": "markdown",
   "metadata": {},
   "source": [
    "If you don't persist the data frame, \n",
    "it's recalculated every time!\n",
    "This is really dangerous for any random associated data processing,\n",
    "e.g., subsampling."
   ]
  },
  {
   "cell_type": "markdown",
   "metadata": {},
   "source": [
    "## Do NOT Sampling a Specific Number of Rows\n",
    "\n",
    "Sampling a specific number of rows in Spark does not performance a simple random sampling,\n",
    "it is implemented as `LIMIT`\n",
    "It is suggested that you always sample a fraction instead of sampling a specific number of rows in Spark \n",
    "if randomness is important. \n",
    "\n",
    "    # avoid \n",
    "    select * from table_name TABLESAMPLE (100 ROWS) \n",
    "    # use the following instead\n",
    "    select * from table_name TABLESAMPLE (1 PCT) "
   ]
  },
  {
   "cell_type": "markdown",
   "metadata": {},
   "source": [
    "## SQL API\n",
    "\n",
    "```\n",
    "SELECT * FROM some_table\n",
    "TABLESAMPLE (100 ROWS)\n",
    "```\n",
    "\n",
    "```\n",
    "SELECT * FROM some_table\n",
    "TABLESAMPLE (50 PERCENT)\n",
    "```"
   ]
  },
  {
   "cell_type": "code",
   "execution_count": 1,
   "metadata": {},
   "outputs": [
    {
     "name": "stderr",
     "output_type": "stream",
     "text": [
      "21/10/04 10:22:52 WARN NativeCodeLoader: Unable to load native-hadoop library for your platform... using builtin-java classes where applicable\n",
      "Using Spark's default log4j profile: org/apache/spark/log4j-defaults.properties\n",
      "Setting default log level to \"WARN\".\n",
      "To adjust logging level use sc.setLogLevel(newLevel). For SparkR, use setLogLevel(newLevel).\n"
     ]
    }
   ],
   "source": [
    "import pandas as pd\n",
    "import findspark\n",
    "findspark.init(\"/opt/spark-3.1.2-bin-hadoop3.2/\")\n",
    "\n",
    "from pyspark.sql import SparkSession, DataFrame\n",
    "from pyspark.sql.functions import *\n",
    "from pyspark.sql.types import IntegerType, StringType, StructType\n",
    "spark = SparkSession.builder.appName(\"PySpark Sample\").enableHiveSupport().getOrCreate()"
   ]
  },
  {
   "cell_type": "code",
   "execution_count": 9,
   "metadata": {},
   "outputs": [],
   "source": [
    "!curl -sSL https://www.legendu.net/media/data/iris.csv -o iris.csv"
   ]
  },
  {
   "cell_type": "code",
   "execution_count": 12,
   "metadata": {},
   "outputs": [
    {
     "name": "stdout",
     "output_type": "stream",
     "text": [
      "+---+---------------+--------------+---------------+--------------+-----------+\n",
      "| id|sepal_length_cm|sepal_width_cm|petal_length_cm|petal_width_cm|    species|\n",
      "+---+---------------+--------------+---------------+--------------+-----------+\n",
      "|  1|            5.1|           3.5|            1.4|           0.2|Iris-setosa|\n",
      "|  2|            4.9|           3.0|            1.4|           0.2|Iris-setosa|\n",
      "|  3|            4.7|           3.2|            1.3|           0.2|Iris-setosa|\n",
      "|  4|            4.6|           3.1|            1.5|           0.2|Iris-setosa|\n",
      "|  5|            5.0|           3.6|            1.4|           0.2|Iris-setosa|\n",
      "|  6|            5.4|           3.9|            1.7|           0.4|Iris-setosa|\n",
      "|  7|            4.6|           3.4|            1.4|           0.3|Iris-setosa|\n",
      "|  8|            5.0|           3.4|            1.5|           0.2|Iris-setosa|\n",
      "|  9|            4.4|           2.9|            1.4|           0.2|Iris-setosa|\n",
      "| 10|            4.9|           3.1|            1.5|           0.1|Iris-setosa|\n",
      "| 11|            5.4|           3.7|            1.5|           0.2|Iris-setosa|\n",
      "| 12|            4.8|           3.4|            1.6|           0.2|Iris-setosa|\n",
      "| 13|            4.8|           3.0|            1.4|           0.1|Iris-setosa|\n",
      "| 14|            4.3|           3.0|            1.1|           0.1|Iris-setosa|\n",
      "| 15|            5.8|           4.0|            1.2|           0.2|Iris-setosa|\n",
      "| 16|            5.7|           4.4|            1.5|           0.4|Iris-setosa|\n",
      "| 17|            5.4|           3.9|            1.3|           0.4|Iris-setosa|\n",
      "| 18|            5.1|           3.5|            1.4|           0.3|Iris-setosa|\n",
      "| 19|            5.7|           3.8|            1.7|           0.3|Iris-setosa|\n",
      "| 20|            5.1|           3.8|            1.5|           0.3|Iris-setosa|\n",
      "+---+---------------+--------------+---------------+--------------+-----------+\n",
      "only showing top 20 rows\n",
      "\n"
     ]
    }
   ],
   "source": [
    "df = spark.read.option(\"header\", \"true\").csv(\"iris.csv\")\n",
    "df.show()"
   ]
  },
  {
   "cell_type": "markdown",
   "metadata": {},
   "source": [
    "## Sample with Replacement"
   ]
  },
  {
   "cell_type": "code",
   "execution_count": 16,
   "metadata": {},
   "outputs": [
    {
     "name": "stdout",
     "output_type": "stream",
     "text": [
      "+---+---------------+--------------+---------------+--------------+---------------+\n",
      "| id|sepal_length_cm|sepal_width_cm|petal_length_cm|petal_width_cm|        species|\n",
      "+---+---------------+--------------+---------------+--------------+---------------+\n",
      "|  3|            4.7|           3.2|            1.3|           0.2|    Iris-setosa|\n",
      "|  7|            4.6|           3.4|            1.4|           0.3|    Iris-setosa|\n",
      "| 11|            5.4|           3.7|            1.5|           0.2|    Iris-setosa|\n",
      "| 16|            5.7|           4.4|            1.5|           0.4|    Iris-setosa|\n",
      "| 24|            5.1|           3.3|            1.7|           0.5|    Iris-setosa|\n",
      "| 40|            5.1|           3.4|            1.5|           0.2|    Iris-setosa|\n",
      "| 47|            5.1|           3.8|            1.6|           0.2|    Iris-setosa|\n",
      "| 51|            7.0|           3.2|            4.7|           1.4|Iris-versicolor|\n",
      "| 92|            6.1|           3.0|            4.6|           1.4|Iris-versicolor|\n",
      "| 99|            5.1|           2.5|            3.0|           1.1|Iris-versicolor|\n",
      "|113|            6.8|           3.0|            5.5|           2.1| Iris-virginica|\n",
      "|119|            7.7|           2.6|            6.9|           2.3| Iris-virginica|\n",
      "|130|            7.2|           3.0|            5.8|           1.6| Iris-virginica|\n",
      "|149|            6.2|           3.4|            5.4|           2.3| Iris-virginica|\n",
      "+---+---------------+--------------+---------------+--------------+---------------+\n",
      "\n"
     ]
    }
   ],
   "source": [
    "df.sample(True, 0.1).show()"
   ]
  },
  {
   "cell_type": "markdown",
   "metadata": {},
   "source": [
    "## Sample without Replacement"
   ]
  },
  {
   "cell_type": "code",
   "execution_count": 20,
   "metadata": {},
   "outputs": [
    {
     "name": "stdout",
     "output_type": "stream",
     "text": [
      "+---+---------------+--------------+---------------+--------------+-----------+\n",
      "| id|sepal_length_cm|sepal_width_cm|petal_length_cm|petal_width_cm|    species|\n",
      "+---+---------------+--------------+---------------+--------------+-----------+\n",
      "|  2|            4.9|           3.0|            1.4|           0.2|Iris-setosa|\n",
      "|  3|            4.7|           3.2|            1.3|           0.2|Iris-setosa|\n",
      "|  4|            4.6|           3.1|            1.5|           0.2|Iris-setosa|\n",
      "|  5|            5.0|           3.6|            1.4|           0.2|Iris-setosa|\n",
      "|  6|            5.4|           3.9|            1.7|           0.4|Iris-setosa|\n",
      "|  8|            5.0|           3.4|            1.5|           0.2|Iris-setosa|\n",
      "|  9|            4.4|           2.9|            1.4|           0.2|Iris-setosa|\n",
      "| 10|            4.9|           3.1|            1.5|           0.1|Iris-setosa|\n",
      "| 11|            5.4|           3.7|            1.5|           0.2|Iris-setosa|\n",
      "| 12|            4.8|           3.4|            1.6|           0.2|Iris-setosa|\n",
      "| 13|            4.8|           3.0|            1.4|           0.1|Iris-setosa|\n",
      "| 14|            4.3|           3.0|            1.1|           0.1|Iris-setosa|\n",
      "| 16|            5.7|           4.4|            1.5|           0.4|Iris-setosa|\n",
      "| 17|            5.4|           3.9|            1.3|           0.4|Iris-setosa|\n",
      "| 18|            5.1|           3.5|            1.4|           0.3|Iris-setosa|\n",
      "| 19|            5.7|           3.8|            1.7|           0.3|Iris-setosa|\n",
      "| 20|            5.1|           3.8|            1.5|           0.3|Iris-setosa|\n",
      "| 22|            5.1|           3.7|            1.5|           0.4|Iris-setosa|\n",
      "| 23|            4.6|           3.6|            1.0|           0.2|Iris-setosa|\n",
      "| 24|            5.1|           3.3|            1.7|           0.5|Iris-setosa|\n",
      "+---+---------------+--------------+---------------+--------------+-----------+\n",
      "only showing top 20 rows\n",
      "\n"
     ]
    }
   ],
   "source": [
    "df.sample(False, 0.9).show()"
   ]
  },
  {
   "cell_type": "code",
   "execution_count": 22,
   "metadata": {},
   "outputs": [
    {
     "name": "stdout",
     "output_type": "stream",
     "text": [
      "+---+---------------+--------------+---------------+--------------+-----------+\n",
      "| id|sepal_length_cm|sepal_width_cm|petal_length_cm|petal_width_cm|    species|\n",
      "+---+---------------+--------------+---------------+--------------+-----------+\n",
      "|  5|            5.0|           3.6|            1.4|           0.2|Iris-setosa|\n",
      "|  7|            4.6|           3.4|            1.4|           0.3|Iris-setosa|\n",
      "|  8|            5.0|           3.4|            1.5|           0.2|Iris-setosa|\n",
      "|  9|            4.4|           2.9|            1.4|           0.2|Iris-setosa|\n",
      "| 10|            4.9|           3.1|            1.5|           0.1|Iris-setosa|\n",
      "| 13|            4.8|           3.0|            1.4|           0.1|Iris-setosa|\n",
      "| 14|            4.3|           3.0|            1.1|           0.1|Iris-setosa|\n",
      "| 15|            5.8|           4.0|            1.2|           0.2|Iris-setosa|\n",
      "| 16|            5.7|           4.4|            1.5|           0.4|Iris-setosa|\n",
      "| 18|            5.1|           3.5|            1.4|           0.3|Iris-setosa|\n",
      "| 19|            5.7|           3.8|            1.7|           0.3|Iris-setosa|\n",
      "| 23|            4.6|           3.6|            1.0|           0.2|Iris-setosa|\n",
      "| 24|            5.1|           3.3|            1.7|           0.5|Iris-setosa|\n",
      "| 28|            5.2|           3.5|            1.5|           0.2|Iris-setosa|\n",
      "| 30|            4.7|           3.2|            1.6|           0.2|Iris-setosa|\n",
      "| 34|            5.5|           4.2|            1.4|           0.2|Iris-setosa|\n",
      "| 35|            4.9|           3.1|            1.5|           0.1|Iris-setosa|\n",
      "| 37|            5.5|           3.5|            1.3|           0.2|Iris-setosa|\n",
      "| 46|            4.8|           3.0|            1.4|           0.3|Iris-setosa|\n",
      "| 50|            5.0|           3.3|            1.4|           0.2|Iris-setosa|\n",
      "+---+---------------+--------------+---------------+--------------+-----------+\n",
      "only showing top 20 rows\n",
      "\n"
     ]
    }
   ],
   "source": [
    "df.sample(False, 0.5).show()"
   ]
  },
  {
   "cell_type": "markdown",
   "metadata": {},
   "source": [
    "## References\n",
    "\n",
    "https://stackoverflow.com/questions/51502443/is-sample-n-really-a-random-sample-when-used-with-sparklyr"
   ]
  }
 ],
 "metadata": {
  "kernelspec": {
   "display_name": "Python 3 (ipykernel)",
   "language": "python",
   "name": "python3"
  },
  "language_info": {
   "codemirror_mode": {
    "name": "ipython",
    "version": 3
   },
   "file_extension": ".py",
   "mimetype": "text/x-python",
   "name": "python",
   "nbconvert_exporter": "python",
   "pygments_lexer": "ipython3",
   "version": "3.8.10"
  }
 },
 "nbformat": 4,
 "nbformat_minor": 4
}
