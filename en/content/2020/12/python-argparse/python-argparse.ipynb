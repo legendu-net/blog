{
 "cells": [
  {
   "cell_type": "markdown",
   "metadata": {},
   "source": [
    "- Title: Hands on the Python Module argparse\n",
    "- Slug: hands-on-the-python-module-argparse\n",
    "- Date: 2020-12-24 12:00:55\n",
    "- Category: Computer Science\n",
    "- Tags: programming, Python, argparse, cli, command line, command-line, parse, argument\n",
    "- Author: Ben Du\n",
    "- Modified: 2020-12-24 12:00:55\n"
   ]
  },
  {
   "cell_type": "markdown",
   "metadata": {},
   "source": [
    "1. `argparse` is the best library to use to parse command-line arguments in Python.\n",
    "    It is included in Python standard libaries\n",
    "    (which menas that you can use it out of the box).\n",
    "\n",
    "2. It is suggestedd that you **always log a parsed Namespace object**\n",
    "    so that you can check whether it is as expected.\n",
    "\n",
    "2. `ArgumentParser.parse_args` takes a list (instead of string) for the parameter `args`!\n",
    "    This is due to `sys.argv` is of the list type.\n",
    "\n",
    "2. The argument `aliases` does not take a geneartor as input.\n",
    "  Generally speaking, \n",
    "  you should be carefule about using a generator as a generator is essentially an iterator \n",
    "  which is invalidated once iterated.\n",
    "  Use a list instead if you have to iterator a collection multiple times.\n",
    "\n",
    "2. It seems that the default value for an argument must be specified\n",
    "    in the first occurrence of the corresponding `add_argument` function.\n",
    "\n",
    "3. It seems that default value must be specified in the first occurrence.\n",
    "\n",
    "4. You can check whether an option is defined for a command or not using `'some_option' in args`\n",
    "  where `args` is a Namespace object returned by `argparse.parse_args`.\n",
    "  So that you can use `args.level if 'level' in args else 'INFO'` \n",
    "  to get the value for the option `args.level` with the fallback value `INFO`.\n",
    "  You can also convert a Namespace object to a dictionary using the function `vars`,\n",
    "  so an even easier way of get the value of an option with a fallback value is use `vars(args).get('level', 'INFO')`.\n",
    "\n",
    "5. Do NOT call time-consuming or likely-to-throw-exception functions/methods \n",
    "  when defining default values of command-line options!!!\n",
    "  Specially,\n",
    "  avoid calling HTTP request to parse information for default values of command-line options.\n",
    "  The reason is that default values for options are always calculated no matter it is needed for the (sub)command or not.\n",
    "  If a function/method which is time-consuming, or likely to throw exception, or might fail due to firewall \n",
    "  is used to define default values of command-line options, \n",
    "  it greatly hurts use experience of the command-line tool.\n",
    "  A better alternative is to use None, empty string, etc. for the default value \n",
    "  and handle it when the corresponding (sub)command is invoked. \n",
    "  This delays the computation of the function/method until it is really needed."
   ]
  },
  {
   "cell_type": "markdown",
   "metadata": {},
   "source": [
    "## Optional Positional Arguments\n",
    "\n",
    "By design, \n",
    "positional arguments are always required (which is different from options).\n",
    "However, \n",
    "you can leverage the `nargs` option to achive optional positional arguments.\n",
    "Basically, \n",
    "you use `nargs=*` to let argparse knwo that the positonal argument takes 0 or more inputs."
   ]
  },
  {
   "cell_type": "code",
   "execution_count": 1,
   "metadata": {},
   "outputs": [],
   "source": [
    "from argparse import ArgumentParser, Namespace"
   ]
  },
  {
   "cell_type": "code",
   "execution_count": 2,
   "metadata": {},
   "outputs": [
    {
     "data": {
      "text/plain": [
       "_StoreAction(option_strings=[], dest='numbers', nargs='*', const=None, default=None, type=None, choices=None, help='A list of numbers.', metavar=None)"
      ]
     },
     "execution_count": 2,
     "metadata": {},
     "output_type": "execute_result"
    }
   ],
   "source": [
    "parser = ArgumentParser(description='Illustrate an optional positional argument.')\n",
    "parser.add_argument('numbers', nargs='*', help='A list of numbers.')"
   ]
  },
  {
   "cell_type": "code",
   "execution_count": 3,
   "metadata": {},
   "outputs": [
    {
     "data": {
      "text/plain": [
       "Namespace(numbers=[])"
      ]
     },
     "execution_count": 3,
     "metadata": {},
     "output_type": "execute_result"
    }
   ],
   "source": [
    "parser.parse_args([])"
   ]
  },
  {
   "cell_type": "code",
   "execution_count": 4,
   "metadata": {},
   "outputs": [
    {
     "data": {
      "text/plain": [
       "Namespace(numbers=['1', '2', '3'])"
      ]
     },
     "execution_count": 4,
     "metadata": {},
     "output_type": "execute_result"
    }
   ],
   "source": [
    "parser.parse_args(['1', '2', '3'])"
   ]
  },
  {
   "cell_type": "code",
   "execution_count": 5,
   "metadata": {},
   "outputs": [
    {
     "data": {
      "text/plain": [
       "Namespace(numbers=['1', ' ', '2', ' ', '3'])"
      ]
     },
     "execution_count": 5,
     "metadata": {},
     "output_type": "execute_result"
    }
   ],
   "source": [
    "parser.parse_args(\"1 2 3\")"
   ]
  },
  {
   "cell_type": "markdown",
   "metadata": {},
   "source": [
    "## Convert to dict"
   ]
  },
  {
   "cell_type": "code",
   "execution_count": 5,
   "metadata": {},
   "outputs": [
    {
     "data": {
      "text/plain": [
       "Namespace(x=1, y=2)"
      ]
     },
     "execution_count": 5,
     "metadata": {},
     "output_type": "execute_result"
    }
   ],
   "source": [
    "ns = Namespace(x=1, y=2)\n",
    "ns"
   ]
  },
  {
   "cell_type": "code",
   "execution_count": 6,
   "metadata": {},
   "outputs": [
    {
     "data": {
      "text/plain": [
       "{'x': 1, 'y': 2}"
      ]
     },
     "execution_count": 6,
     "metadata": {},
     "output_type": "execute_result"
    }
   ],
   "source": [
    "vars(ns)"
   ]
  },
  {
   "cell_type": "markdown",
   "metadata": {},
   "source": [
    "## Convert from dict"
   ]
  },
  {
   "cell_type": "code",
   "execution_count": 7,
   "metadata": {},
   "outputs": [
    {
     "data": {
      "text/plain": [
       "{'x': 1, 'y': 2}"
      ]
     },
     "execution_count": 7,
     "metadata": {},
     "output_type": "execute_result"
    }
   ],
   "source": [
    "dic = {'x': 1, 'y': 2}\n",
    "dic"
   ]
  },
  {
   "cell_type": "code",
   "execution_count": 8,
   "metadata": {},
   "outputs": [
    {
     "data": {
      "text/plain": [
       "Namespace(x=1, y=2)"
      ]
     },
     "execution_count": 8,
     "metadata": {},
     "output_type": "execute_result"
    }
   ],
   "source": [
    "Namespace(**dic)"
   ]
  },
  {
   "cell_type": "markdown",
   "metadata": {},
   "source": [
    "## Mutually Exclusive\n",
    "\n",
    "You can use the method `add_mutually_exclusive_group` to define a mutually exclusive group,\n",
    "i.e., \n",
    "only one option in the group can be specified in the command line. \n",
    "And you use the option `required=True` to make the group required,\n",
    "i.e., one of the options in the group must be specified. \n",
    "\n",
    "Notice that all options in a `REQUIRED` mutually exclusive group are present in the final parsed Namespace. \n",
    "Those options not specified have a default value `None`.\n",
    "So the right way to check whether an option in a mutually exclusive group is specified is to check whether it has value other than `None`.\n"
   ]
  },
  {
   "cell_type": "code",
   "execution_count": null,
   "metadata": {},
   "outputs": [],
   "source": [
    "mutex_group = parser.add_mutually_exclusive_group()"
   ]
  },
  {
   "cell_type": "code",
   "execution_count": null,
   "metadata": {},
   "outputs": [],
   "source": [
    "mutex_group = parser.add_mutually_exclusive_group(required=True)"
   ]
  },
  {
   "cell_type": "markdown",
   "metadata": {},
   "source": [
    "## Good Examples of Using argparse\n",
    "\n",
    "https://github.com/dclong/blog/blob/master/main.py\n",
    "\n",
    "https://github.com/dclong/xinstall/blob/dev/xinstall/main.py"
   ]
  },
  {
   "cell_type": "markdown",
   "metadata": {},
   "source": [
    "## References \n",
    "\n",
    "https://docs.python.org/3/library/argparse.html"
   ]
  },
  {
   "cell_type": "code",
   "execution_count": null,
   "metadata": {},
   "outputs": [],
   "source": []
  }
 ],
 "metadata": {
  "kernelspec": {
   "display_name": "Python 3",
   "language": "python",
   "name": "python3"
  },
  "language_info": {
   "codemirror_mode": {
    "name": "ipython",
    "version": 3
   },
   "file_extension": ".py",
   "mimetype": "text/x-python",
   "name": "python",
   "nbconvert_exporter": "python",
   "pygments_lexer": "ipython3",
   "version": "3.8.2"
  }
 },
 "nbformat": 4,
 "nbformat_minor": 4
}