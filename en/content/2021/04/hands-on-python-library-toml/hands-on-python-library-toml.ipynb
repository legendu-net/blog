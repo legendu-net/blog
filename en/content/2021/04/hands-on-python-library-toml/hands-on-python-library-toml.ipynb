{
 "cells": [
  {
   "cell_type": "markdown",
   "metadata": {},
   "source": [
    "- Author: Ben Du\n",
    "- Date: 2021-04-16 13:37:09\n",
    "- Title: Hands on the Python Library toml\n",
    "- Slug: hands-on-python-library-toml\n",
    "- Category: Computer Science\n",
    "- Tags: Computer Science, programming, TOML, Python\n",
    "- Modified: 2021-03-16 13:37:09\n"
   ]
  },
  {
   "cell_type": "markdown",
   "metadata": {},
   "source": [
    "## Tips & Traps\n",
    "\n",
    "1. Please refer to\n",
    "    [Parse TOML File in Python](https://www.legendu.net/en/blog/parse-toml-file-in-python/)\n",
    "    for general tips on parsing TOML in Python.\n"
   ]
  },
  {
   "cell_type": "markdown",
   "metadata": {},
   "source": [
    "## Installatoion"
   ]
  },
  {
   "cell_type": "code",
   "execution_count": 1,
   "metadata": {},
   "outputs": [
    {
     "name": "stdout",
     "output_type": "stream",
     "text": [
      "Defaulting to user installation because normal site-packages is not writeable\n",
      "Requirement already satisfied: toml in /usr/local/lib/python3.8/dist-packages (0.10.2)\n"
     ]
    }
   ],
   "source": [
    "pip3 install toml"
   ]
  },
  {
   "cell_type": "markdown",
   "metadata": {},
   "source": [
    "## Parse TOML from a String"
   ]
  },
  {
   "cell_type": "code",
   "execution_count": 2,
   "metadata": {},
   "outputs": [],
   "source": [
    "import toml"
   ]
  },
  {
   "cell_type": "code",
   "execution_count": 3,
   "metadata": {},
   "outputs": [],
   "source": [
    "toml_string = \"\"\"\n",
    "    # This is a TOML document.\n",
    "    title = \"TOML Example\"\n",
    "\n",
    "    [owner.info]\n",
    "    name = \"Tom Preston-Werner\"\n",
    "    dob = 1979-05-27T07:32:00-08:00 # First class dates\n",
    "\n",
    "    [database]\n",
    "    server = \"192.168.1.1\"\n",
    "    ports = [ 8001, 8001, 8002 ]\n",
    "    connection_max = 5000\n",
    "    enabled = true\n",
    "\n",
    "    [servers]\n",
    "\n",
    "    [servers.alpha]\n",
    "    ip = \"10.0.0.1\"\n",
    "    dc = \"eqdc10\"\n",
    "\n",
    "    [servers.beta]\n",
    "    ip = \"10.0.0.2\"\n",
    "    dc = \"eqdc10\"\n",
    "\n",
    "    [clients]\n",
    "    data = [ [\"gamma\", \"delta\"], [1, 2] ]\n",
    "\n",
    "    # Line breaks are OK when inside arrays\n",
    "    hosts = [\n",
    "    \"alpha\",\n",
    "    \"omega\"\n",
    "    ]\n",
    "    \"\"\""
   ]
  },
  {
   "cell_type": "code",
   "execution_count": 4,
   "metadata": {},
   "outputs": [
    {
     "data": {
      "text/plain": [
       "{'title': 'TOML Example',\n",
       " 'owner': {'info': {'name': 'Tom Preston-Werner',\n",
       "   'dob': datetime.datetime(1979, 5, 27, 7, 32, tzinfo=<toml.tz.TomlTz object at 0x7f3d687e93d0>)}},\n",
       " 'database': {'server': '192.168.1.1',\n",
       "  'ports': [8001, 8001, 8002],\n",
       "  'connection_max': 5000,\n",
       "  'enabled': True},\n",
       " 'servers': {'alpha': {'ip': '10.0.0.1', 'dc': 'eqdc10'},\n",
       "  'beta': {'ip': '10.0.0.2', 'dc': 'eqdc10'}},\n",
       " 'clients': {'data': [['gamma', 'delta'], [1, 2]],\n",
       "  'hosts': ['alpha', 'omega']}}"
      ]
     },
     "execution_count": 4,
     "metadata": {},
     "output_type": "execute_result"
    }
   ],
   "source": [
    "dic = toml.loads(toml_string)\n",
    "dic"
   ]
  },
  {
   "cell_type": "code",
   "execution_count": 6,
   "metadata": {},
   "outputs": [
    {
     "data": {
      "text/plain": [
       "{'tool': {'poetry': {'name': 'xinstall',\n",
       "   'version': '0.51.1',\n",
       "   'description': 'Easy Cross-platform Installation and Configuration of Apps.',\n",
       "   'authors': ['Benjamin Du <longendu@yahoo.com>'],\n",
       "   'license': 'MIT',\n",
       "   'readme': 'readme.md',\n",
       "   'repository': 'https://github.com/legendu-net/xinstall',\n",
       "   'keywords': ['installation', 'configuration', 'cross-platform'],\n",
       "   'scripts': {'xinstall': 'xinstall:main.main'},\n",
       "   'dependencies': {'python': '>=3.7.1,<4',\n",
       "    'distro': '>=1.5.0',\n",
       "    'tqdm': '>=4.48.2',\n",
       "    'findspark': '>=1.4.2',\n",
       "    'requests': '>=2.25.0',\n",
       "    'packaging': '>=20.4',\n",
       "    'tomlkit': '>=0.7.0',\n",
       "    'dulwich': '>=0.20.24'},\n",
       "   'dev-dependencies': {'pytest': '>=3.0',\n",
       "    'pylint': '>=2.4.4',\n",
       "    'pytype': {'version': '>=2020.08.10', 'python': '<3.9'},\n",
       "    'yapf': '>=0.32.0',\n",
       "    'coverage': '>=5.3',\n",
       "    'deepdiff': '>=5.2.3'}},\n",
       "  'pylint': {'master': {'ignore': '.venv,.ipynb_checkpoints',\n",
       "    'unsafe-load-any-extension': 'no',\n",
       "    'load-plugins': 'pylint.extensions.docparams',\n",
       "    'extension-pkg-whitelist': 'numpy,cv2,pyspark',\n",
       "    'generated-members': 'sqlite3.*,cv2.*,pyspark.*',\n",
       "    'ignored-modules': 'pyspark.sql.functions'},\n",
       "   'messages_control': {'disable': 'C0103,C0200,C0301,C0302,C0303,C0330,R0801,R0902,R0903,R0904,R0911,R0912,R0913,R0914,W0621,W0622,W0702,W0703,W1116,W9012,W9016'},\n",
       "   'typecheck': {'ignored-classes': 'Namespace'}},\n",
       "  'yapf': {'based_on_style': 'facebook', 'column_limit': '88'},\n",
       "  'yapfignore': {'ignore_patterns': ['*/.ipynb_checkpoints/']}},\n",
       " 'build-system': {'requires': ['poetry>=1.0.0'],\n",
       "  'build-backend': 'poetry.masonry.api'}}"
      ]
     },
     "execution_count": 6,
     "metadata": {},
     "output_type": "execute_result"
    }
   ],
   "source": [
    "dic = toml.load(Path(\"pyproject.toml\").open())\n",
    "dic"
   ]
  },
  {
   "cell_type": "code",
   "execution_count": 7,
   "metadata": {},
   "outputs": [
    {
     "name": "stdout",
     "output_type": "stream",
     "text": [
      "[build-system]\n",
      "requires = [ \"poetry>=1.0.0\",]\n",
      "build-backend = \"poetry.masonry.api\"\n",
      "\n",
      "[tool.poetry]\n",
      "name = \"xinstall\"\n",
      "version = \"0.51.1\"\n",
      "description = \"Easy Cross-platform Installation and Configuration of Apps.\"\n",
      "authors = [ \"Benjamin Du <longendu@yahoo.com>\",]\n",
      "license = \"MIT\"\n",
      "readme = \"readme.md\"\n",
      "repository = \"https://github.com/legendu-net/xinstall\"\n",
      "keywords = [ \"installation\", \"configuration\", \"cross-platform\",]\n",
      "\n",
      "[tool.yapf]\n",
      "based_on_style = \"facebook\"\n",
      "column_limit = \"88\"\n",
      "\n",
      "[tool.yapfignore]\n",
      "ignore_patterns = [ \"*/.ipynb_checkpoints/\",]\n",
      "\n",
      "[tool.poetry.scripts]\n",
      "xinstall = \"xinstall:main.main\"\n",
      "\n",
      "[tool.poetry.dependencies]\n",
      "python = \">=3.7.1,<4\"\n",
      "distro = \">=1.5.0\"\n",
      "tqdm = \">=4.48.2\"\n",
      "findspark = \">=1.4.2\"\n",
      "requests = \">=2.25.0\"\n",
      "packaging = \">=20.4\"\n",
      "tomlkit = \">=0.7.0\"\n",
      "dulwich = \">=0.20.24\"\n",
      "\n",
      "[tool.poetry.dev-dependencies]\n",
      "pytest = \">=3.0\"\n",
      "pylint = \">=2.4.4\"\n",
      "yapf = \">=0.32.0\"\n",
      "coverage = \">=5.3\"\n",
      "deepdiff = \">=5.2.3\"\n",
      "\n",
      "[tool.pylint.master]\n",
      "ignore = \".venv,.ipynb_checkpoints\"\n",
      "unsafe-load-any-extension = \"no\"\n",
      "load-plugins = \"pylint.extensions.docparams\"\n",
      "extension-pkg-whitelist = \"numpy,cv2,pyspark\"\n",
      "generated-members = \"sqlite3.*,cv2.*,pyspark.*\"\n",
      "ignored-modules = \"pyspark.sql.functions\"\n",
      "\n",
      "[tool.pylint.messages_control]\n",
      "disable = \"C0103,C0200,C0301,C0302,C0303,C0330,R0801,R0902,R0903,R0904,R0911,R0912,R0913,R0914,W0621,W0622,W0702,W0703,W1116,W9012,W9016\"\n",
      "\n",
      "[tool.pylint.typecheck]\n",
      "ignored-classes = \"Namespace\"\n",
      "\n",
      "[tool.poetry.dev-dependencies.pytype]\n",
      "version = \">=2020.08.10\"\n",
      "python = \"<3.9\"\n",
      "\n"
     ]
    }
   ],
   "source": [
    "print(toml.dumps(dic))"
   ]
  },
  {
   "cell_type": "markdown",
   "metadata": {},
   "source": [
    "## Parse TOML from a File"
   ]
  },
  {
   "cell_type": "code",
   "execution_count": 21,
   "metadata": {},
   "outputs": [
    {
     "data": {
      "text/plain": [
       "{'title': 'TOML Example',\n",
       " 'database': {'server': '192.168.1.1',\n",
       "  'ports': [8001, 8001, 8002],\n",
       "  'connection_max': 5000,\n",
       "  'enabled': True},\n",
       " 'clients': {'data': [['gamma', 'delta'], [1, 2]],\n",
       "  'hosts': ['alpha', 'omega']},\n",
       " 'owner': {'info': {'name': 'Tom Preston-Werner',\n",
       "   'dob': datetime.datetime(1979, 5, 27, 7, 32, tzinfo=<toml.tz.TomlTz object at 0x11f7b7490>)}},\n",
       " 'servers': {'alpha': {'ip': '10.0.0.1', 'dc': 'eqdc10'},\n",
       "  'beta': {'ip': '10.0.0.2', 'dc': 'eqdc10'}}}"
      ]
     },
     "execution_count": 21,
     "metadata": {},
     "output_type": "execute_result"
    }
   ],
   "source": [
    "with open(\"example.toml\", \"r\") as fin:\n",
    "    dic = toml.load(fin)\n",
    "dic"
   ]
  },
  {
   "cell_type": "markdown",
   "metadata": {},
   "source": [
    "## Dump an Object to a TOML String"
   ]
  },
  {
   "cell_type": "code",
   "execution_count": null,
   "metadata": {},
   "outputs": [],
   "source": [
    "with open(\"example.toml\", \"r\") as fin:\n",
    "    dic = toml.load(fin)"
   ]
  },
  {
   "cell_type": "code",
   "execution_count": 18,
   "metadata": {},
   "outputs": [
    {
     "name": "stdout",
     "output_type": "stream",
     "text": [
      "title = \"TOML Example\"\n",
      "\n",
      "[database]\n",
      "server = \"192.168.1.1\"\n",
      "ports = [ 8001, 8001, 8002,]\n",
      "connection_max = 5000\n",
      "enabled = true\n",
      "\n",
      "[clients]\n",
      "data = [ [ \"gamma\", \"delta\",], [ 1, 2,],]\n",
      "hosts = [ \"alpha\", \"omega\",]\n",
      "\n",
      "[owner.info]\n",
      "name = \"Tom Preston-Werner\"\n",
      "dob = 1979-05-27T07:32:00-08:00\n",
      "\n",
      "[servers.alpha]\n",
      "ip = \"10.0.0.1\"\n",
      "dc = \"eqdc10\"\n",
      "\n",
      "[servers.beta]\n",
      "ip = \"10.0.0.2\"\n",
      "dc = \"eqdc10\"\n",
      "\n"
     ]
    }
   ],
   "source": [
    "print(toml.dumps(dic))"
   ]
  },
  {
   "cell_type": "markdown",
   "metadata": {},
   "source": [
    "## Dump an Object to a TOML File"
   ]
  },
  {
   "cell_type": "code",
   "execution_count": null,
   "metadata": {},
   "outputs": [],
   "source": [
    "with open(\"example.toml\", \"r\") as fin:\n",
    "    dic = toml.load(fin)"
   ]
  },
  {
   "cell_type": "code",
   "execution_count": null,
   "metadata": {},
   "outputs": [],
   "source": [
    "with open(\"/tmp/example.toml\", \"w\") as fout:\n",
    "    toml.dump(dic, fout)"
   ]
  },
  {
   "cell_type": "markdown",
   "metadata": {},
   "source": [
    "## References\n",
    "\n",
    "https://github.com/uiri/toml"
   ]
  }
 ],
 "metadata": {
  "file_extension": ".py",
  "kernelspec": {
   "display_name": "Python 3 (ipykernel)",
   "language": "python",
   "name": "python3"
  },
  "language_info": {
   "codemirror_mode": {
    "name": "ipython",
    "version": 3
   },
   "file_extension": ".py",
   "mimetype": "text/x-python",
   "name": "python",
   "nbconvert_exporter": "python",
   "pygments_lexer": "ipython3",
   "version": "3.8.10"
  },
  "mimetype": "text/x-python",
  "name": "python",
  "npconvert_exporter": "python",
  "pygments_lexer": "ipython3",
  "version": 3
 },
 "nbformat": 4,
 "nbformat_minor": 4
}
