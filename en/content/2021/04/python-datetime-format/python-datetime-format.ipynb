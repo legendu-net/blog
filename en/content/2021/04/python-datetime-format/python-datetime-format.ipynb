{
 "cells": [
  {
   "cell_type": "markdown",
   "metadata": {},
   "source": [
    "- Title: Format Date and Time in Python\n",
    "- Slug: python-datetime-format\n",
    "- Date: 2021-04-30 12:35:25\n",
    "- Category: Computer Science\n",
    "- Tags: programming, Python, time, datetime, date, format\n",
    "- Author: Ben Du\n",
    "- Modified: 2021-03-30 12:35:25\n"
   ]
  },
  {
   "cell_type": "markdown",
   "metadata": {},
   "source": [
    "## Date/Time Format \n",
    "\n",
    "Please refer to https://docs.python.org/3/library/datetime.html#strftime-and-strptime-format-codes\n",
    "for a complete list of formats."
   ]
  },
  {
   "cell_type": "markdown",
   "metadata": {},
   "source": [
    "## Time to String"
   ]
  },
  {
   "cell_type": "code",
   "execution_count": 1,
   "metadata": {
    "tags": []
   },
   "outputs": [
    {
     "data": {
      "text/html": [
       "<div>\n",
       "<style scoped>\n",
       "    .dataframe tbody tr th:only-of-type {\n",
       "        vertical-align: middle;\n",
       "    }\n",
       "\n",
       "    .dataframe tbody tr th {\n",
       "        vertical-align: top;\n",
       "    }\n",
       "\n",
       "    .dataframe thead th {\n",
       "        text-align: right;\n",
       "    }\n",
       "</style>\n",
       "<table border=\"1\" class=\"dataframe\">\n",
       "  <thead>\n",
       "    <tr style=\"text-align: right;\">\n",
       "      <th></th>\n",
       "      <th>Fomat</th>\n",
       "      <th>Examples</th>\n",
       "      <th>Comment</th>\n",
       "    </tr>\n",
       "  </thead>\n",
       "  <tbody>\n",
       "    <tr>\n",
       "      <th>0</th>\n",
       "      <td>%Y-%m-%d</td>\n",
       "      <td>2023-07-15</td>\n",
       "      <td></td>\n",
       "    </tr>\n",
       "    <tr>\n",
       "      <th>1</th>\n",
       "      <td>%y-%m-%d</td>\n",
       "      <td>23-07-15</td>\n",
       "      <td></td>\n",
       "    </tr>\n",
       "    <tr>\n",
       "      <th>2</th>\n",
       "      <td>%x</td>\n",
       "      <td>07/15/23</td>\n",
       "      <td></td>\n",
       "    </tr>\n",
       "    <tr>\n",
       "      <th>3</th>\n",
       "      <td>%H:%M:%S</td>\n",
       "      <td>18:24:29</td>\n",
       "      <td></td>\n",
       "    </tr>\n",
       "    <tr>\n",
       "      <th>4</th>\n",
       "      <td>%I:%M:%S</td>\n",
       "      <td>06:24:29</td>\n",
       "      <td></td>\n",
       "    </tr>\n",
       "    <tr>\n",
       "      <th>5</th>\n",
       "      <td>%Y-%m-%d %H:%M:%S</td>\n",
       "      <td>2023-07-15 18:24:29</td>\n",
       "      <td></td>\n",
       "    </tr>\n",
       "    <tr>\n",
       "      <th>6</th>\n",
       "      <td>%Y-%m-%d %H:%M:%S.%f</td>\n",
       "      <td>2023-07-15 18:24:29.225717</td>\n",
       "      <td></td>\n",
       "    </tr>\n",
       "    <tr>\n",
       "      <th>7</th>\n",
       "      <td>%Y%m%d_%H%M%S_%f</td>\n",
       "      <td>20230715_182429_225717</td>\n",
       "      <td></td>\n",
       "    </tr>\n",
       "    <tr>\n",
       "      <th>8</th>\n",
       "      <td>%Y-%m-%d %X</td>\n",
       "      <td>2023-07-15 18:24:29</td>\n",
       "      <td></td>\n",
       "    </tr>\n",
       "    <tr>\n",
       "      <th>9</th>\n",
       "      <td>%Y-%m-%d %H:%M:%S %z</td>\n",
       "      <td>2023-07-15 18:24:29</td>\n",
       "      <td></td>\n",
       "    </tr>\n",
       "    <tr>\n",
       "      <th>10</th>\n",
       "      <td>%W</td>\n",
       "      <td>28</td>\n",
       "      <td></td>\n",
       "    </tr>\n",
       "    <tr>\n",
       "      <th>11</th>\n",
       "      <td>%w</td>\n",
       "      <td>6</td>\n",
       "      <td></td>\n",
       "    </tr>\n",
       "    <tr>\n",
       "      <th>12</th>\n",
       "      <td>%c</td>\n",
       "      <td>Sat Jul 15 18:24:29 2023</td>\n",
       "      <td></td>\n",
       "    </tr>\n",
       "    <tr>\n",
       "      <th>13</th>\n",
       "      <td>%B</td>\n",
       "      <td>July</td>\n",
       "      <td></td>\n",
       "    </tr>\n",
       "    <tr>\n",
       "      <th>14</th>\n",
       "      <td>%b</td>\n",
       "      <td>Jul</td>\n",
       "      <td></td>\n",
       "    </tr>\n",
       "    <tr>\n",
       "      <th>15</th>\n",
       "      <td>%A</td>\n",
       "      <td>Saturday</td>\n",
       "      <td></td>\n",
       "    </tr>\n",
       "    <tr>\n",
       "      <th>16</th>\n",
       "      <td>%a</td>\n",
       "      <td>Sat</td>\n",
       "      <td></td>\n",
       "    </tr>\n",
       "    <tr>\n",
       "      <th>17</th>\n",
       "      <td>%z</td>\n",
       "      <td></td>\n",
       "      <td></td>\n",
       "    </tr>\n",
       "    <tr>\n",
       "      <th>18</th>\n",
       "      <td>%%</td>\n",
       "      <td>%</td>\n",
       "      <td></td>\n",
       "    </tr>\n",
       "  </tbody>\n",
       "</table>\n",
       "</div>"
      ],
      "text/plain": [
       "                   Fomat                    Examples Comment\n",
       "0               %Y-%m-%d                  2023-07-15        \n",
       "1               %y-%m-%d                    23-07-15        \n",
       "2                     %x                    07/15/23        \n",
       "3               %H:%M:%S                    18:24:29        \n",
       "4               %I:%M:%S                    06:24:29        \n",
       "5      %Y-%m-%d %H:%M:%S         2023-07-15 18:24:29        \n",
       "6   %Y-%m-%d %H:%M:%S.%f  2023-07-15 18:24:29.225717        \n",
       "7       %Y%m%d_%H%M%S_%f      20230715_182429_225717        \n",
       "8            %Y-%m-%d %X         2023-07-15 18:24:29        \n",
       "9   %Y-%m-%d %H:%M:%S %z        2023-07-15 18:24:29         \n",
       "10                    %W                          28        \n",
       "11                    %w                           6        \n",
       "12                    %c    Sat Jul 15 18:24:29 2023        \n",
       "13                    %B                        July        \n",
       "14                    %b                         Jul        \n",
       "15                    %A                    Saturday        \n",
       "16                    %a                         Sat        \n",
       "17                    %z                                    \n",
       "18                    %%                           %        "
      ]
     },
     "execution_count": 1,
     "metadata": {},
     "output_type": "execute_result"
    }
   ],
   "source": [
    "import datetime\n",
    "import pandas as pd\n",
    "\n",
    "pd.options.display.max_colwidth = 100\n",
    "now = datetime.datetime.now()\n",
    "formats = [\n",
    "    (\"%Y-%m-%d\", \"\"),\n",
    "    (\"%y-%m-%d\", \"\"),\n",
    "    (\"%x\", \"\"),\n",
    "    (\"%H:%M:%S\", \"\"),\n",
    "    (\"%I:%M:%S\", \"\"),\n",
    "    (\"%Y-%m-%d %H:%M:%S\", \"\"),\n",
    "    (\"%Y-%m-%d %H:%M:%S.%f\", \"\"),\n",
    "    (\"%Y%m%d_%H%M%S_%f\", \"\"),\n",
    "    (\"%Y-%m-%d %X\", \"\"),\n",
    "    (\"%Y-%m-%d %H:%M:%S %z\", \"\"),\n",
    "    (\"%W\", \"\"),\n",
    "    (\"%w\", \"\"),\n",
    "    (\"%c\", \"\"),\n",
    "    (\"%B\", \"\"),\n",
    "    (\"%b\", \"\"),\n",
    "    (\"%A\", \"\"),\n",
    "    (\"%a\", \"\"),\n",
    "    (\"%z\", \"\"),\n",
    "    (\"%%\", \"\"),\n",
    "]\n",
    "# examples = [[f, now.strftime(f)] for f in formats]\n",
    "df = pd.DataFrame(formats, columns=[\"Fomat\", \"Comment\"])\n",
    "df.insert(1, column=\"Examples\", value=[now.strftime(fmt) for fmt, _ in formats])\n",
    "df"
   ]
  },
  {
   "cell_type": "markdown",
   "metadata": {},
   "source": [
    "## Date to String"
   ]
  },
  {
   "cell_type": "code",
   "execution_count": 7,
   "metadata": {},
   "outputs": [
    {
     "data": {
      "text/plain": [
       "datetime.date(2017, 1, 9)"
      ]
     },
     "execution_count": 7,
     "metadata": {},
     "output_type": "execute_result"
    }
   ],
   "source": [
    "d = datetime.date(2017, 1, 9)\n",
    "d"
   ]
  },
  {
   "cell_type": "code",
   "execution_count": 8,
   "metadata": {},
   "outputs": [
    {
     "data": {
      "text/plain": [
       "'2017-01-09'"
      ]
     },
     "execution_count": 8,
     "metadata": {},
     "output_type": "execute_result"
    }
   ],
   "source": [
    "d.strftime(\"%Y-%m-%d\")"
   ]
  },
  {
   "cell_type": "code",
   "execution_count": 9,
   "metadata": {},
   "outputs": [
    {
     "data": {
      "text/plain": [
       "'2017-01-09'"
      ]
     },
     "execution_count": 9,
     "metadata": {},
     "output_type": "execute_result"
    }
   ],
   "source": [
    "str(d)"
   ]
  },
  {
   "cell_type": "markdown",
   "metadata": {},
   "source": [
    "## References \n",
    "\n",
    "https://docs.python.org/3/library/datetime.html#strftime-and-strptime-format-codes"
   ]
  },
  {
   "cell_type": "code",
   "execution_count": null,
   "metadata": {},
   "outputs": [],
   "source": []
  }
 ],
 "metadata": {
  "kernelspec": {
   "display_name": "Python 3 (ipykernel)",
   "language": "python",
   "name": "python3"
  },
  "language_info": {
   "codemirror_mode": {
    "name": "ipython",
    "version": 3
   },
   "file_extension": ".py",
   "mimetype": "text/x-python",
   "name": "python",
   "nbconvert_exporter": "python",
   "pygments_lexer": "ipython3",
   "version": "3.10.6"
  }
 },
 "nbformat": 4,
 "nbformat_minor": 4
}
