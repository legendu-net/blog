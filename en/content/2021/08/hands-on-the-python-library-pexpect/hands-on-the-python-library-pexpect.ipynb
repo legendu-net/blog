{
 "nbformat": 4,
 "nbformat_minor": 2,
 "metadata": {
  "language_info": {
   "name": "python",
   "codemirror_mode": {
    "name": "ipython",
    "version": 3
   }
  },
  "orig_nbformat": 2,
  "file_extension": ".py",
  "mimetype": "text/x-python",
  "name": "python",
  "npconvert_exporter": "python",
  "pygments_lexer": "ipython3",
  "version": 3
 },
 "cells": [
  {
   "cell_type": "markdown",
   "metadata": {},
   "source": [
    "- Author: Ben Du\n",
    "- Date: 2021-08-03 18:14:35\n",
    "- Modified: 2021-08-03 18:14:35\n",
    "- Title: Hands on the Python Library pexpect\n",
    "- Slug: hands-on-the-python-library-pexpect\n",
    "- Category: Computer Science\n",
    "- Tags: Computer Science, programming, Python, pexpect, shell, command, terminal"
   ]
  },
  {
   "source": [
    "## Tips and Traps\n",
    "\n",
    "1. The command-line tool of some (e.g., network) applications might be slow to authenticate. \n",
    "    If you use pexect to automate such a command-line tool, \n",
    "    it is best to wait for sometime after sending password using `child.sendline(passwd)`.\n",
    "    If the authentication has ouput on both success and failure,\n",
    "    a smart way is to wait for the success or failure message to come out. \n",
    "\n",
    "        child.expect(\".*success_pattern.*|.*failure_pattern.*\")\n",
    "\n",
    "    If the the output of authentication contains the same keyword (e.g., dclong) on both success and failure,\n",
    "    the pattern can be further simplified.\n",
    "\n",
    "        child.expect(\".*dclong.*\")"
   ],
   "cell_type": "markdown",
   "metadata": {}
  },
  {
   "source": [
    "## References \n",
    "\n",
    "- [pexpect @ GitHub](https://github.com/pexpect/pexpect)\n",
    "- [\u4f7f\u7528popen\u548c\u4e13\u7528TTY Python\u8fd0\u884c\u4ea4\u4e92\u5f0fBash](https://www.cnpython.com/qa/81808)"
   ],
   "cell_type": "markdown",
   "metadata": {}
  },
  {
   "cell_type": "code",
   "execution_count": null,
   "metadata": {},
   "outputs": [],
   "source": []
  }
 ]
}