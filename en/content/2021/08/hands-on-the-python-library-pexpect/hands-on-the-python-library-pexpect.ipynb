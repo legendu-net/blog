{
 "cells": [
  {
   "cell_type": "markdown",
   "metadata": {},
   "source": [
    "- Author: Ben Du\n",
    "- Date: 2021-08-03 18:14:35\n",
    "- Modified: 2022-12-09 09:58:40\n",
    "- Title: Hands on the Python Library pexpect\n",
    "- Slug: hands-on-the-python-library-pexpect\n",
    "- Category: Computer Science\n",
    "- Tags: Computer Science, programming, Python, pexpect, shell, command, terminal\n"
   ]
  },
  {
   "attachments": {},
   "cell_type": "markdown",
   "metadata": {},
   "source": [
    "## Tips and Traps\n",
    "\n",
    "1. The command-line tool of some (e.g., network) applications might be slow to authenticate. \n",
    "    If you use pexect to automate such a command-line tool, \n",
    "    it is best to wait for sometime after sending password using `child.sendline(passwd)`.\n",
    "    If the authentication has ouput on both success and failure,\n",
    "    a smart way is to wait for the success or failure message to come out. \n",
    "\n",
    "        child.expect(\".*success_pattern.*|.*failure_pattern.*\")\n",
    "\n",
    "    If the the output of authentication contains the same keyword (e.g., dclong) on both success and failure,\n",
    "    the pattern can be further simplified.\n",
    "\n",
    "        child.expect(\".*dclong.*\")\n",
    "        \n",
    "2. The method `spawn.interact` gives control of the child process back to the interactive user \n",
    "    (the human at the keyboard). \n",
    "    Keystrokes are sent to the child process, and the stdout and stderr output of the child process is printed.\n",
    "    This is extremely useful \n",
    "    if you only want `pexpect` to hijack the child process for certain interactions.\n",
    "    For example,\n",
    "    if a command-line tool requires both a password and a hardware token for authentication,\n",
    "    you can use `pexpect` to hijack the child process to enter password automatically \n",
    "    and then give control of the child process back to the user to authenticate using hard token."
   ]
  },
  {
   "cell_type": "markdown",
   "metadata": {},
   "source": [
    "## References \n",
    "\n",
    "- [pexpect @ GitHub](https://github.com/pexpect/pexpect)\n",
    "- [\u4f7f\u7528popen\u548c\u4e13\u7528TTY Python\u8fd0\u884c\u4ea4\u4e92\u5f0fBash](https://www.cnpython.com/qa/81808)"
   ]
  },
  {
   "cell_type": "code",
   "execution_count": null,
   "metadata": {},
   "outputs": [],
   "source": []
  }
 ],
 "metadata": {
  "file_extension": ".py",
  "language_info": {
   "codemirror_mode": {
    "name": "ipython",
    "version": 3
   },
   "name": "python"
  },
  "mimetype": "text/x-python",
  "name": "python",
  "npconvert_exporter": "python",
  "orig_nbformat": 2,
  "pygments_lexer": "ipython3",
  "version": 3
 },
 "nbformat": 4,
 "nbformat_minor": 2
}