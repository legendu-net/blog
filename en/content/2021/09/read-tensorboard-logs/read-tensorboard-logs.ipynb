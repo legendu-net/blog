{
 "cells": [
  {
   "cell_type": "markdown",
   "metadata": {},
   "source": [
    "- Author: Benjamin Du\n",
    "- Date: 2021-09-24 22:14:34\n",
    "- Modified: 2022-08-11 08:59:20\n",
    "- Title: Read Tensorboard Logs\n",
    "- Slug: read-tensorboard-logs\n",
    "- Category: Computer Science\n",
    "- Tags: Computer Science, programming, Python, TensorBoard, read, file, log\n"
   ]
  },
  {
   "cell_type": "markdown",
   "metadata": {},
   "source": [
    "## Using pandas.read_csv\n",
    "\n",
    "This approaches requires you to have a running TensorBoard\n",
    "which is serving the data you want to read.\n",
    "\n",
    "1. Check the checkbox \"Show data download links\".\n",
    "    See highlighted in the top-left corner of the screenshot below for an example.\n",
    "\n",
    "2. Select an experimentation whose you'd like to download.\n",
    "    See highlighted in the bottom-right corner of the screenshot for an example.\n",
    "    \n",
    "3. Right click on the `CSV` link and use the pop-up menu to copy the link.\n",
    "    See highlighted in the bottom-right corner of the screenshot for an example.\n",
    "    \n",
    "4. Now you can read the data into pandas using copied link.\n",
    "    See the Python code below the screenshot for an example.\n",
    "\n",
    "![tensorboard](https://user-images.githubusercontent.com/824507/134759497-2aa03c51-a4c6-4322-b03b-f781d67f8832.png)"
   ]
  },
  {
   "cell_type": "code",
   "execution_count": 1,
   "metadata": {},
   "outputs": [],
   "source": [
    "import pandas as pd"
   ]
  },
  {
   "cell_type": "code",
   "execution_count": 2,
   "metadata": {},
   "outputs": [
    {
     "data": {
      "text/html": [
       "<div>\n",
       "<style scoped>\n",
       "    .dataframe tbody tr th:only-of-type {\n",
       "        vertical-align: middle;\n",
       "    }\n",
       "\n",
       "    .dataframe tbody tr th {\n",
       "        vertical-align: top;\n",
       "    }\n",
       "\n",
       "    .dataframe thead th {\n",
       "        text-align: right;\n",
       "    }\n",
       "</style>\n",
       "<table border=\"1\" class=\"dataframe\">\n",
       "  <thead>\n",
       "    <tr style=\"text-align: right;\">\n",
       "      <th></th>\n",
       "      <th>Wall time</th>\n",
       "      <th>Step</th>\n",
       "      <th>Value</th>\n",
       "    </tr>\n",
       "  </thead>\n",
       "  <tbody>\n",
       "    <tr>\n",
       "      <th>0</th>\n",
       "      <td>1.632517e+09</td>\n",
       "      <td>1</td>\n",
       "      <td>1.226414e-04</td>\n",
       "    </tr>\n",
       "    <tr>\n",
       "      <th>1</th>\n",
       "      <td>1.632517e+09</td>\n",
       "      <td>2</td>\n",
       "      <td>2.588446e-05</td>\n",
       "    </tr>\n",
       "    <tr>\n",
       "      <th>2</th>\n",
       "      <td>1.632517e+09</td>\n",
       "      <td>3</td>\n",
       "      <td>9.192328e-06</td>\n",
       "    </tr>\n",
       "    <tr>\n",
       "      <th>3</th>\n",
       "      <td>1.632517e+09</td>\n",
       "      <td>4</td>\n",
       "      <td>4.610128e-06</td>\n",
       "    </tr>\n",
       "    <tr>\n",
       "      <th>4</th>\n",
       "      <td>1.632517e+09</td>\n",
       "      <td>5</td>\n",
       "      <td>2.639660e-06</td>\n",
       "    </tr>\n",
       "    <tr>\n",
       "      <th>...</th>\n",
       "      <td>...</td>\n",
       "      <td>...</td>\n",
       "      <td>...</td>\n",
       "    </tr>\n",
       "    <tr>\n",
       "      <th>115</th>\n",
       "      <td>1.632529e+09</td>\n",
       "      <td>116</td>\n",
       "      <td>1.307412e-07</td>\n",
       "    </tr>\n",
       "    <tr>\n",
       "      <th>116</th>\n",
       "      <td>1.632529e+09</td>\n",
       "      <td>117</td>\n",
       "      <td>2.098449e-07</td>\n",
       "    </tr>\n",
       "    <tr>\n",
       "      <th>117</th>\n",
       "      <td>1.632529e+09</td>\n",
       "      <td>118</td>\n",
       "      <td>1.127275e-07</td>\n",
       "    </tr>\n",
       "    <tr>\n",
       "      <th>118</th>\n",
       "      <td>1.632529e+09</td>\n",
       "      <td>119</td>\n",
       "      <td>1.751949e-07</td>\n",
       "    </tr>\n",
       "    <tr>\n",
       "      <th>119</th>\n",
       "      <td>1.632529e+09</td>\n",
       "      <td>120</td>\n",
       "      <td>2.097909e-07</td>\n",
       "    </tr>\n",
       "  </tbody>\n",
       "</table>\n",
       "<p>120 rows \u00d7 3 columns</p>\n",
       "</div>"
      ],
      "text/plain": [
       "        Wall time  Step         Value\n",
       "0    1.632517e+09     1  1.226414e-04\n",
       "1    1.632517e+09     2  2.588446e-05\n",
       "2    1.632517e+09     3  9.192328e-06\n",
       "3    1.632517e+09     4  4.610128e-06\n",
       "4    1.632517e+09     5  2.639660e-06\n",
       "..            ...   ...           ...\n",
       "115  1.632529e+09   116  1.307412e-07\n",
       "116  1.632529e+09   117  2.098449e-07\n",
       "117  1.632529e+09   118  1.127275e-07\n",
       "118  1.632529e+09   119  1.751949e-07\n",
       "119  1.632529e+09   120  2.097909e-07\n",
       "\n",
       "[120 rows x 3 columns]"
      ]
     },
     "execution_count": 2,
     "metadata": {},
     "output_type": "execute_result"
    }
   ],
   "source": [
    "pd.read_csv(\"http://10.0.0.185:6006/data/plugin/scalars/scalars?tag=Test+Loss&run=ofcp_resnet18_8&format=csv\")"
   ]
  },
  {
   "cell_type": "markdown",
   "metadata": {},
   "source": [
    "## tensorboard.backend.event_processing.event_accumulator.EventAccumulator\n",
    "\n",
    "This approach has dependency on the Python library tensorboard,\n",
    "however,\n",
    "it does not need an running instance of TensorBoard.\n",
    "You just need to know the location of TensorBoard logs."
   ]
  },
  {
   "cell_type": "code",
   "execution_count": 1,
   "metadata": {},
   "outputs": [],
   "source": [
    "from tensorboard.backend.event_processing.event_accumulator import EventAccumulator"
   ]
  },
  {
   "cell_type": "code",
   "execution_count": 2,
   "metadata": {},
   "outputs": [],
   "source": [
    "import pandas as pd"
   ]
  },
  {
   "cell_type": "code",
   "execution_count": 7,
   "metadata": {},
   "outputs": [],
   "source": [
    "acc = EventAccumulator(\"/workdir/ofcp_resnet18_8/events.out.tfevents.1632516849.jupyterhub-pytorch.21037.0\")"
   ]
  },
  {
   "cell_type": "code",
   "execution_count": 9,
   "metadata": {},
   "outputs": [],
   "source": [
    "acc = EventAccumulator(\"/workdir/archives/ofcp_data/tensorboard/ofcp_resnet18_8/events.out.tfevents.1632516849.jupyterhub-pytorch.21037.0\")"
   ]
  },
  {
   "cell_type": "code",
   "execution_count": 10,
   "metadata": {},
   "outputs": [
    {
     "data": {
      "text/plain": [
       "<tensorboard.backend.event_processing.event_accumulator.EventAccumulator at 0x7fa4f00f3a30>"
      ]
     },
     "execution_count": 10,
     "metadata": {},
     "output_type": "execute_result"
    }
   ],
   "source": [
    "acc.Reload()"
   ]
  },
  {
   "cell_type": "code",
   "execution_count": 12,
   "metadata": {},
   "outputs": [
    {
     "data": {
      "text/plain": [
       "{'images': [],\n",
       " 'audio': [],\n",
       " 'histograms': [],\n",
       " 'scalars': ['Training Loss',\n",
       "  'Training Accuracy',\n",
       "  'Test Loss',\n",
       "  'Test Accuracy'],\n",
       " 'distributions': [],\n",
       " 'tensors': [],\n",
       " 'graph': False,\n",
       " 'meta_graph': False,\n",
       " 'run_metadata': []}"
      ]
     },
     "execution_count": 12,
     "metadata": {},
     "output_type": "execute_result"
    }
   ],
   "source": [
    "acc.Tags()"
   ]
  },
  {
   "cell_type": "code",
   "execution_count": 13,
   "metadata": {},
   "outputs": [
    {
     "data": {
      "text/html": [
       "<div>\n",
       "<style scoped>\n",
       "    .dataframe tbody tr th:only-of-type {\n",
       "        vertical-align: middle;\n",
       "    }\n",
       "\n",
       "    .dataframe tbody tr th {\n",
       "        vertical-align: top;\n",
       "    }\n",
       "\n",
       "    .dataframe thead th {\n",
       "        text-align: right;\n",
       "    }\n",
       "</style>\n",
       "<table border=\"1\" class=\"dataframe\">\n",
       "  <thead>\n",
       "    <tr style=\"text-align: right;\">\n",
       "      <th></th>\n",
       "      <th>wall_time</th>\n",
       "      <th>step</th>\n",
       "      <th>value</th>\n",
       "    </tr>\n",
       "  </thead>\n",
       "  <tbody>\n",
       "    <tr>\n",
       "      <th>0</th>\n",
       "      <td>1.632517e+09</td>\n",
       "      <td>1</td>\n",
       "      <td>1.226414e-04</td>\n",
       "    </tr>\n",
       "    <tr>\n",
       "      <th>1</th>\n",
       "      <td>1.632517e+09</td>\n",
       "      <td>2</td>\n",
       "      <td>2.588446e-05</td>\n",
       "    </tr>\n",
       "    <tr>\n",
       "      <th>2</th>\n",
       "      <td>1.632517e+09</td>\n",
       "      <td>3</td>\n",
       "      <td>9.192328e-06</td>\n",
       "    </tr>\n",
       "    <tr>\n",
       "      <th>3</th>\n",
       "      <td>1.632517e+09</td>\n",
       "      <td>4</td>\n",
       "      <td>4.610128e-06</td>\n",
       "    </tr>\n",
       "    <tr>\n",
       "      <th>4</th>\n",
       "      <td>1.632517e+09</td>\n",
       "      <td>5</td>\n",
       "      <td>2.639660e-06</td>\n",
       "    </tr>\n",
       "    <tr>\n",
       "      <th>...</th>\n",
       "      <td>...</td>\n",
       "      <td>...</td>\n",
       "      <td>...</td>\n",
       "    </tr>\n",
       "    <tr>\n",
       "      <th>115</th>\n",
       "      <td>1.632529e+09</td>\n",
       "      <td>116</td>\n",
       "      <td>1.307412e-07</td>\n",
       "    </tr>\n",
       "    <tr>\n",
       "      <th>116</th>\n",
       "      <td>1.632529e+09</td>\n",
       "      <td>117</td>\n",
       "      <td>2.098449e-07</td>\n",
       "    </tr>\n",
       "    <tr>\n",
       "      <th>117</th>\n",
       "      <td>1.632529e+09</td>\n",
       "      <td>118</td>\n",
       "      <td>1.127275e-07</td>\n",
       "    </tr>\n",
       "    <tr>\n",
       "      <th>118</th>\n",
       "      <td>1.632529e+09</td>\n",
       "      <td>119</td>\n",
       "      <td>1.751949e-07</td>\n",
       "    </tr>\n",
       "    <tr>\n",
       "      <th>119</th>\n",
       "      <td>1.632529e+09</td>\n",
       "      <td>120</td>\n",
       "      <td>2.097909e-07</td>\n",
       "    </tr>\n",
       "  </tbody>\n",
       "</table>\n",
       "<p>120 rows \u00d7 3 columns</p>\n",
       "</div>"
      ],
      "text/plain": [
       "        wall_time  step         value\n",
       "0    1.632517e+09     1  1.226414e-04\n",
       "1    1.632517e+09     2  2.588446e-05\n",
       "2    1.632517e+09     3  9.192328e-06\n",
       "3    1.632517e+09     4  4.610128e-06\n",
       "4    1.632517e+09     5  2.639660e-06\n",
       "..            ...   ...           ...\n",
       "115  1.632529e+09   116  1.307412e-07\n",
       "116  1.632529e+09   117  2.098449e-07\n",
       "117  1.632529e+09   118  1.127275e-07\n",
       "118  1.632529e+09   119  1.751949e-07\n",
       "119  1.632529e+09   120  2.097909e-07\n",
       "\n",
       "[120 rows x 3 columns]"
      ]
     },
     "execution_count": 13,
     "metadata": {},
     "output_type": "execute_result"
    }
   ],
   "source": [
    "pd.DataFrame(acc.Scalars('Test Loss'))"
   ]
  },
  {
   "cell_type": "code",
   "execution_count": null,
   "metadata": {},
   "outputs": [],
   "source": []
  }
 ],
 "metadata": {
  "file_extension": ".py",
  "kernelspec": {
   "display_name": "Python 3 (ipykernel)",
   "language": "python",
   "name": "python3"
  },
  "language_info": {
   "codemirror_mode": {
    "name": "ipython",
    "version": 3
   },
   "file_extension": ".py",
   "mimetype": "text/x-python",
   "name": "python",
   "nbconvert_exporter": "python",
   "pygments_lexer": "ipython3",
   "version": "3.8.10"
  },
  "mimetype": "text/x-python",
  "name": "python",
  "npconvert_exporter": "python",
  "pygments_lexer": "ipython3",
  "version": 3
 },
 "nbformat": 4,
 "nbformat_minor": 4
}