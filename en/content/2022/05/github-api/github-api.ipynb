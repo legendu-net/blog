{
 "cells": [
  {
   "attachments": {},
   "cell_type": "markdown",
   "metadata": {},
   "source": [
    "- Author: Benjamin Du\n",
    "- Date: 2022-05-08 01:01:02\n",
    "- Modified: 2022-12-20 11:46:35\n",
    "- Title: GitHub API\n",
    "- Slug: github-api\n",
    "- Category: Computer Science\n",
    "- Tags: Computer Science, programming, Python, REST, RESTful, API, GitHub, gh, ghapi\n"
   ]
  },
  {
   "attachments": {},
   "cell_type": "markdown",
   "metadata": {},
   "source": [
    "## Shell Command - [gh](https://github.com/cli/cli)\n",
    "[gh](https://github.com/cli/cli) \n",
    "is GitHub's official command-line tool.\n",
    "Persoanlly,\n",
    "I'm not a fan of gh \n",
    "mainly because I'm not a fan of \n",
    "writing complicated (>10 lines) shell scripts."
   ]
  },
  {
   "attachments": {},
   "cell_type": "markdown",
   "metadata": {},
   "source": [
    "## Python Bindings - [ghapi](https://github.com/fastai/ghapi)\n",
    "\n",
    "1. [ghapi](https://github.com/fastai/ghapi)\n",
    "    provides 100% always-updated coverage of the entire GitHub REST API\n",
    "    by automatically converting the OpenAPI spec to a Pythonic API. \n",
    "    ghapi is always up to date with the latest changes to GitHub APIs.\n",
    "\n",
    "2. Last time I tried,\n",
    "    there seems to be issues in this Python library. "
   ]
  },
  {
   "attachments": {},
   "cell_type": "markdown",
   "metadata": {},
   "source": [
    "## Raw REST API\n",
    "\n",
    "It is very straightforward to call GitHub REST APIs.\n",
    "GitHub REST APIs Doc provides cURL, JavaScript and GitHub CLI examples.\n",
    "You can use [Convert cURL syntax to Python, Node.js, PHP, R](https://curl.trillworks.com/)\n",
    "or [curlconverter](https://github.com/NickCarneiro/curlconverter/)\n",
    "to convert cURL commands to Python requests code.\n",
    "Below are some examples of querying and manipulating GitHub repositories using REST APIs.\n",
    "\n",
    "- [List Repositories of an Organization](https://www.legendu.net/misc/blog/list-repositories-of-a-github-organization-using-rest-api)\n",
    "\n",
    "- [Delete a Repository Secret](https://www.legendu.net/misc/blog/delete-a-github-repository-secret-using-rest-api)\n",
    "\n",
    "- [Delete GitHub Actions Secrets from Many Repositories](https://www.legendu.net/misc/blog/delete-github-actions-secrets-from-repositories)\n",
    "\n",
    "- [Transfer a Repository](https://www.legendu.net/misc/blog/transfer-a-github-repository-using-rest-api)\n",
    "\n",
    "- [Querying Branches of GitHub Repositories Using Rest API](https://www.legendu.net/misc/blog/querying-branches-of-github-repositories-using-rest-api)"
   ]
  },
  {
   "attachments": {},
   "cell_type": "markdown",
   "metadata": {},
   "source": [
    "## References\n",
    "\n",
    "- [GitHub REST API Docs](https://docs.github.com/en/rest)\n",
    "\n",
    "- [GitHub REST API Tutorial \u2013 REST API Support In GitHub](https://www.softwaretestinghelp.com/github-rest-api-tutorial/)\n",
    "\n",
    "- [Hands on ghapi](https://www.legendu.net/misc/blog/hands-on-ghapi/)"
   ]
  }
 ],
 "metadata": {
  "file_extension": ".py",
  "kernelspec": {
   "display_name": "Python 3",
   "language": "python",
   "name": "python3"
  },
  "language_info": {
   "codemirror_mode": {
    "name": "ipython",
    "version": 3
   },
   "file_extension": ".py",
   "mimetype": "text/x-python",
   "name": "python",
   "nbconvert_exporter": "python",
   "pygments_lexer": "ipython3",
   "version": "3.10.6 (main, Nov  2 2022, 18:53:38) [GCC 11.3.0]"
  },
  "mimetype": "text/x-python",
  "name": "python",
  "npconvert_exporter": "python",
  "pygments_lexer": "ipython3",
  "version": 3,
  "vscode": {
   "interpreter": {
    "hash": "916dbcbb3f70747c44a77c7bcd40155683ae19c65e1c03b4aa3499c5328201f1"
   }
  }
 },
 "nbformat": 4,
 "nbformat_minor": 4
}