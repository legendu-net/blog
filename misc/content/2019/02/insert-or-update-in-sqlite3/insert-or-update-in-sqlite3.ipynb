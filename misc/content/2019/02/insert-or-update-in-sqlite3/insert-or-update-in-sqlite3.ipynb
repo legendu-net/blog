{
 "cells": [
  {
   "cell_type": "markdown",
   "metadata": {},
   "source": [
    "- Author: Benjamin Du\n",
    "- Date: 2022-06-26 15:10:32\n",
    "- Modified: 2022-06-26 15:10:32\n",
    "- Title: Insert or Update in SQLite3\n",
    "- Slug: insert-or-update-in-sqlite3\n",
    "- Category: Computer Science\n",
    "- Tags: programming, SQLite3, upsert, insert or replace, insert or update,"
   ]
  },
  {
   "cell_type": "markdown",
   "metadata": {},
   "source": [
    "**\n",
    "Things on this page are fragmentary and immature notes/thoughts of the author.\n",
    "Please read with your own judgement!\n",
    "**"
   ]
  },
  {
   "cell_type": "markdown",
   "metadata": {},
   "source": [
    "## Comments\n",
    "\n",
    "1. `UPSERT` does NOT work with virtual table in SQLite3 currently!"
   ]
  },
  {
   "cell_type": "markdown",
   "metadata": {},
   "source": [
    "The UPSERT clause (following PostgreSQL syntax)\n",
    "is supported in SQLite 3.24.0+.\n",
    "\n",
    "    :::sql\n",
    "    INSERT INTO players (\n",
    "        user_name, age\n",
    "    ) VALUES (\n",
    "        'steven', 32\n",
    "    ) ON CONFLICT (user_name) DO UPDATE\n",
    "    SET age=excluded.age\n",
    "    ;\n",
    "\n",
    "For older versions of SQLite3,\n",
    "you can use `INSERT or REPLACE` clause together with the trick of embedded subselects \n",
    "to keep original value of fields of the existing rows."
   ]
  },
  {
   "cell_type": "code",
   "execution_count": 1,
   "metadata": {},
   "outputs": [],
   "source": [
    "%defaultDatasource jdbc:sqlite:"
   ]
  },
  {
   "cell_type": "code",
   "execution_count": 2,
   "metadata": {},
   "outputs": [],
   "source": [
    "create table players (\n",
    "    id int,\n",
    "    user_name text primary key,\n",
    "    age int\n",
    ")"
   ]
  },
  {
   "cell_type": "code",
   "execution_count": 3,
   "metadata": {},
   "outputs": [],
   "source": [
    "insert into players (\n",
    "    id, user_name, age\n",
    ") values (\n",
    "    1982, 'Johnny', 23\n",
    "), (\n",
    "    1983, 'Steven', 29\n",
    "), (\n",
    "    1984, 'pepee', 40\n",
    ")"
   ]
  },
  {
   "cell_type": "code",
   "execution_count": 4,
   "metadata": {},
   "outputs": [
    {
     "data": {
      "application/vnd.jupyter.widget-view+json": {
       "model_id": "70e6f345-e3a4-4fbd-8776-505ff3bb92c5",
       "version_major": 2,
       "version_minor": 0
      },
      "method": "display_data"
     },
     "metadata": {},
     "output_type": "display_data"
    }
   ],
   "source": [
    "select * from players"
   ]
  },
  {
   "cell_type": "code",
   "execution_count": 5,
   "metadata": {},
   "outputs": [],
   "source": [
    "INSERT INTO players (\n",
    "    user_name, age\n",
    ") VALUES (\n",
    "    'Steven', 32\n",
    ") ON CONFLICT (user_name) DO UPDATE \n",
    "SET age = excluded.age\n",
    ";"
   ]
  },
  {
   "cell_type": "code",
   "execution_count": 6,
   "metadata": {},
   "outputs": [
    {
     "data": {
      "application/vnd.jupyter.widget-view+json": {
       "model_id": "69950d9c-3840-4cb4-bd53-ee91af6b8189",
       "version_major": 2,
       "version_minor": 0
      },
      "method": "display_data"
     },
     "metadata": {},
     "output_type": "display_data"
    }
   ],
   "source": [
    "select * from players"
   ]
  },
  {
   "cell_type": "markdown",
   "metadata": {},
   "source": [
    "## References\n",
    "\n",
    "https://stackoverflow.com/questions/15277373/sqlite-upsert-update-or-insert/15277374\n",
    "\n",
    "https://stackoverflow.com/questions/418898/sqlite-upsert-not-insert-or-replace\n",
    "\n",
    "https://stackoverflow.com/questions/3634984/insert-if-not-exists-else-update"
   ]
  },
  {
   "cell_type": "code",
   "execution_count": null,
   "metadata": {},
   "outputs": [],
   "source": []
  }
 ],
 "metadata": {
  "file_extension": ".py",
  "kernelspec": {
   "display_name": "Python 3 (ipykernel)",
   "language": "python",
   "name": "python3"
  },
  "language_info": {
   "codemirror_mode": {
    "name": "ipython",
    "version": 3
   },
   "file_extension": ".py",
   "mimetype": "text/x-python",
   "name": "python",
   "nbconvert_exporter": "python",
   "pygments_lexer": "ipython3",
   "version": "3.10.4"
  },
  "mimetype": "text/x-python",
  "name": "python",
  "npconvert_exporter": "python",
  "pygments_lexer": "ipython3",
  "version": 3
 },
 "nbformat": 4,
 "nbformat_minor": 4
}
