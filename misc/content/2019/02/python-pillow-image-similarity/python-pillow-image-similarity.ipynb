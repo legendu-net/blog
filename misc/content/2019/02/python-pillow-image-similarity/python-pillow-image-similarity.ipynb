{
 "cells": [
  {
   "cell_type": "markdown",
   "metadata": {},
   "source": [
    "- Title: Compare Images Using Python\n",
    "- Slug: python-pillow-image-compare\n",
    "- Date: 2019-02-16\n",
    "- Category: Computer Science\n",
    "- Tags: programming, Python, Pillow, computer vision, CV, image, PIL, similarity\n",
    "- Author: Ben Du\n",
    "- Modified: 2019-02-16\n"
   ]
  },
  {
   "cell_type": "code",
   "execution_count": 25,
   "metadata": {},
   "outputs": [],
   "source": [
    "import numpy as np\n",
    "from PIL import Image, ImageOps, ImageChops\n",
    "import math, operator\n",
    "from functools import reduce"
   ]
  },
  {
   "cell_type": "markdown",
   "metadata": {},
   "source": [
    "## MSE"
   ]
  },
  {
   "cell_type": "code",
   "execution_count": 18,
   "metadata": {},
   "outputs": [
    {
     "data": {
      "image/png": "[encoded data removed]",
      "text/plain": [
       "<PIL.PngImagePlugin.PngImageFile image mode=RGB size=37x54 at 0x7F63C7031390>"
      ]
     },
     "execution_count": 18,
     "metadata": {},
     "output_type": "execute_result"
    }
   ],
   "source": [
    "img_4h = Image.open(\"../../home/media/poker/4h.png\")\n",
    "img_4h"
   ]
  },
  {
   "cell_type": "code",
   "execution_count": 19,
   "metadata": {},
   "outputs": [
    {
     "data": {
      "image/png": "[encoded data removed]",
      "text/plain": [
       "<PIL.Image.Image image mode=1 size=37x54 at 0x7F63C70310B8>"
      ]
     },
     "execution_count": 19,
     "metadata": {},
     "output_type": "execute_result"
    }
   ],
   "source": [
    "img_4_dither = img_4h.convert(\"1\")\n",
    "img_4_dither"
   ]
  },
  {
   "cell_type": "code",
   "execution_count": 20,
   "metadata": {},
   "outputs": [
    {
     "data": {
      "image/png": "[encoded data removed]",
      "text/plain": [
       "<PIL.Image.Image image mode=1 size=37x54 at 0x7F63C7031668>"
      ]
     },
     "execution_count": 20,
     "metadata": {},
     "output_type": "execute_result"
    }
   ],
   "source": [
    "img_4 = img_4h.convert(\"1\", dither=False)\n",
    "img_4"
   ]
  },
  {
   "cell_type": "code",
   "execution_count": 41,
   "metadata": {},
   "outputs": [],
   "source": [
    "def mse(im1, im2):\n",
    "    im1 = np.array(im1).astype(int)\n",
    "    im2 = np.array(im2).astype(int)\n",
    "    err = np.sum((im1 - im2)**2)\n",
    "    err /= float(im1.shape[0] * im2.shape[1])\n",
    "    return err"
   ]
  },
  {
   "cell_type": "code",
   "execution_count": 42,
   "metadata": {},
   "outputs": [
    {
     "data": {
      "text/plain": [
       "0.1031031031031031"
      ]
     },
     "execution_count": 42,
     "metadata": {},
     "output_type": "execute_result"
    }
   ],
   "source": [
    "mse(img_4_dither, img_4)"
   ]
  },
  {
   "cell_type": "code",
   "execution_count": 29,
   "metadata": {},
   "outputs": [
    {
     "data": {
      "text/plain": [
       "81.87966340477517"
      ]
     },
     "execution_count": 29,
     "metadata": {},
     "output_type": "execute_result"
    }
   ],
   "source": [
    "rmsdiff(img_4_dither, img_4)"
   ]
  },
  {
   "cell_type": "markdown",
   "metadata": {},
   "source": [
    "## SSIM"
   ]
  },
  {
   "cell_type": "code",
   "execution_count": null,
   "metadata": {},
   "outputs": [],
   "source": [
    "!pip3 install scikit-image"
   ]
  },
  {
   "cell_type": "code",
   "execution_count": 43,
   "metadata": {},
   "outputs": [
    {
     "ename": "ModuleNotFoundError",
     "evalue": "No module named 'skimage'",
     "output_type": "error",
     "traceback": [
      "\u001b[0;31m---------------------------------------------------------------------------\u001b[0m",
      "\u001b[0;31mModuleNotFoundError\u001b[0m                       Traceback (most recent call last)",
      "\u001b[0;32m<ipython-input-43-7d88d91d9566>\u001b[0m in \u001b[0;36m<module>\u001b[0;34m\u001b[0m\n\u001b[0;32m----> 1\u001b[0;31m \u001b[0;32mfrom\u001b[0m \u001b[0mskimage\u001b[0m\u001b[0;34m.\u001b[0m\u001b[0mmeasure\u001b[0m \u001b[0;32mimport\u001b[0m \u001b[0mstructural_similarity\u001b[0m \u001b[0;32mas\u001b[0m \u001b[0mssim\u001b[0m\u001b[0;34m\u001b[0m\u001b[0;34m\u001b[0m\u001b[0m\n\u001b[0m\u001b[1;32m      2\u001b[0m \u001b[0;32mimport\u001b[0m \u001b[0mmatplotlib\u001b[0m\u001b[0;34m.\u001b[0m\u001b[0mpyplot\u001b[0m \u001b[0;32mas\u001b[0m \u001b[0mplt\u001b[0m\u001b[0;34m\u001b[0m\u001b[0;34m\u001b[0m\u001b[0m\n\u001b[1;32m      3\u001b[0m \u001b[0;32mimport\u001b[0m \u001b[0mnumpy\u001b[0m \u001b[0;32mas\u001b[0m \u001b[0mnp\u001b[0m\u001b[0;34m\u001b[0m\u001b[0;34m\u001b[0m\u001b[0m\n\u001b[1;32m      4\u001b[0m \u001b[0;32mimport\u001b[0m \u001b[0mcv2\u001b[0m\u001b[0;34m\u001b[0m\u001b[0;34m\u001b[0m\u001b[0m\n",
      "\u001b[0;31mModuleNotFoundError\u001b[0m: No module named 'skimage'"
     ]
    }
   ],
   "source": [
    "from skimage.measure import structural_similarity as ssim\n",
    "import matplotlib.pyplot as plt\n",
    "import numpy as np\n",
    "import cv2"
   ]
  },
  {
   "cell_type": "code",
   "execution_count": null,
   "metadata": {},
   "outputs": [],
   "source": [
    "def compare_images(imageA, imageB, title):\n",
    "    # compute the mean squared error and structural similarity\n",
    "    # index for the images\n",
    "    m = mse(imageA, imageB)\n",
    "    s = ssim(imageA, imageB)\n",
    "    # setup the figure\n",
    "    fig = plt.figure(title)\n",
    "    plt.suptitle(\"MSE: %.2f, SSIM: %.2f\" % (m, s))\n",
    "    # show first image\n",
    "    ax = fig.add_subplot(1, 2, 1)\n",
    "    plt.imshow(imageA, cmap=plt.cm.gray)\n",
    "    plt.axis(\"off\")\n",
    "    # show the second image\n",
    "    ax = fig.add_subplot(1, 2, 2)\n",
    "    plt.imshow(imageB, cmap=plt.cm.gray)\n",
    "    plt.axis(\"off\")\n",
    "    # show the images\n",
    "    plt.show()"
   ]
  },
  {
   "cell_type": "code",
   "execution_count": null,
   "metadata": {},
   "outputs": [],
   "source": [
    "import numpy as np\n",
    "import matplotlib.pyplot as plt\n",
    "\n",
    "from skimage import data, img_as_float\n",
    "from skimage.metrics import structural_similarity as ssim\n",
    "\n",
    "img = img_as_float(data.camera())\n",
    "rows, cols = img.shape\n",
    "\n",
    "noise = np.ones_like(img) * 0.2 * (img.max() - img.min())\n",
    "noise[np.random.random(size=noise.shape) > 0.5] *= -1\n",
    "\n",
    "\n",
    "def mse(x, y):\n",
    "    return np.linalg.norm(x - y)\n",
    "\n",
    "\n",
    "img_noise = img + noise\n",
    "img_const = img + abs(noise)\n",
    "\n",
    "fig, axes = plt.subplots(nrows=1, ncols=3, figsize=(10, 4), sharex=True, sharey=True)\n",
    "ax = axes.ravel()\n",
    "\n",
    "mse_none = mse(img, img)\n",
    "ssim_none = ssim(img, img, data_range=img.max() - img.min())\n",
    "\n",
    "mse_noise = mse(img, img_noise)\n",
    "ssim_noise = ssim(img, img_noise, data_range=img_noise.max() - img_noise.min())\n",
    "\n",
    "mse_const = mse(img, img_const)\n",
    "ssim_const = ssim(img, img_const, data_range=img_const.max() - img_const.min())\n",
    "\n",
    "label = 'MSE: {:.2f}, SSIM: {:.2f}'\n",
    "\n",
    "ax[0].imshow(img, cmap=plt.cm.gray, vmin=0, vmax=1)\n",
    "ax[0].set_xlabel(label.format(mse_none, ssim_none))\n",
    "ax[0].set_title('Original image')\n",
    "\n",
    "ax[1].imshow(img_noise, cmap=plt.cm.gray, vmin=0, vmax=1)\n",
    "ax[1].set_xlabel(label.format(mse_noise, ssim_noise))\n",
    "ax[1].set_title('Image with noise')\n",
    "\n",
    "ax[2].imshow(img_const, cmap=plt.cm.gray, vmin=0, vmax=1)\n",
    "ax[2].set_xlabel(label.format(mse_const, ssim_const))\n",
    "ax[2].set_title('Image plus constant')\n",
    "\n",
    "plt.tight_layout()\n",
    "plt.show()"
   ]
  },
  {
   "cell_type": "markdown",
   "metadata": {},
   "source": [
    "## [skimage.util.compare_images](https://scikit-image.org/docs/dev/api/skimage.util.html#skimage.util.compare_images)"
   ]
  },
  {
   "cell_type": "markdown",
   "metadata": {},
   "source": [
    "## [skimage.measure.compare_ssim](https://scikit-image.org/docs/dev/api/skimage.measure.html?highlight=ssim#compare-ssim)"
   ]
  },
  {
   "cell_type": "markdown",
   "metadata": {},
   "source": [
    "## [skimage.measure.compare_psnr](https://scikit-image.org/docs/dev/api/skimage.measure.html?highlight=ssim#compare-psnr)"
   ]
  },
  {
   "cell_type": "markdown",
   "metadata": {},
   "source": [
    "## [skimage.measure.compare_nrmse](https://scikit-image.org/docs/dev/api/skimage.measure.html?highlight=ssim#compare-nrmse)"
   ]
  },
  {
   "cell_type": "markdown",
   "metadata": {},
   "source": [
    "## [skimage.measure.compare_mse](https://scikit-image.org/docs/dev/api/skimage.measure.html?highlight=ssim#compare-mse)"
   ]
  },
  {
   "cell_type": "code",
   "execution_count": null,
   "metadata": {},
   "outputs": [],
   "source": [
    "import warnings\n",
    "from skimage.measure import compare_ssim\n",
    "from skimage.transform import resize\n",
    "from scipy.stats import wasserstein_distance\n",
    "from scipy.misc import imsave\n",
    "from scipy.ndimage import imread\n",
    "import numpy as np\n",
    "import cv2\n",
    "\n",
    "##\n",
    "# Globals\n",
    "##\n",
    "\n",
    "warnings.filterwarnings('ignore')\n",
    "\n",
    "# specify resized image sizes\n",
    "height = 2**10\n",
    "width = 2**10\n",
    "\n",
    "##\n",
    "# Functions\n",
    "##\n",
    "\n",
    "\n",
    "def get_img(path, norm_size=True, norm_exposure=False):\n",
    "    '''\n",
    "  Prepare an image for image processing tasks\n",
    "  '''\n",
    "    # flatten returns a 2d grayscale array\n",
    "    img = imread(path, flatten=True).astype(int)\n",
    "    # resizing returns float vals 0:255; convert to ints for downstream tasks\n",
    "    if norm_size:\n",
    "        img = resize(img, (height, width), anti_aliasing=True, preserve_range=True)\n",
    "    if norm_exposure:\n",
    "        img = normalize_exposure(img)\n",
    "    return img\n",
    "\n",
    "\n",
    "def get_histogram(img):\n",
    "    '''\n",
    "  Get the histogram of an image. For an 8-bit, grayscale image, the\n",
    "  histogram will be a 256 unit vector in which the nth value indicates\n",
    "  the percent of the pixels in the image with the given darkness level.\n",
    "  The histogram's values sum to 1.\n",
    "  '''\n",
    "    h, w = img.shape\n",
    "    hist = [0.0] * 256\n",
    "    for i in range(h):\n",
    "        for j in range(w):\n",
    "            hist[img[i, j]] += 1\n",
    "    return np.array(hist) / (h * w)\n",
    "\n",
    "\n",
    "def normalize_exposure(img):\n",
    "    '''\n",
    "  Normalize the exposure of an image.\n",
    "  '''\n",
    "    img = img.astype(int)\n",
    "    hist = get_histogram(img)\n",
    "    # get the sum of vals accumulated by each position in hist\n",
    "    cdf = np.array([sum(hist[:i + 1]) for i in range(len(hist))])\n",
    "    # determine the normalization values for each unit of the cdf\n",
    "    sk = np.uint8(255 * cdf)\n",
    "    # normalize each position in the output image\n",
    "    height, width = img.shape\n",
    "    normalized = np.zeros_like(img)\n",
    "    for i in range(0, height):\n",
    "        for j in range(0, width):\n",
    "            normalized[i, j] = sk[img[i, j]]\n",
    "    return normalized.astype(int)\n",
    "\n",
    "\n",
    "def earth_movers_distance(path_a, path_b):\n",
    "    '''\n",
    "  Measure the Earth Mover's distance between two images\n",
    "  @args:\n",
    "    {str} path_a: the path to an image file\n",
    "    {str} path_b: the path to an image file\n",
    "  @returns:\n",
    "    TODO\n",
    "  '''\n",
    "    img_a = get_img(path_a, norm_exposure=True)\n",
    "    img_b = get_img(path_b, norm_exposure=True)\n",
    "    hist_a = get_histogram(img_a)\n",
    "    hist_b = get_histogram(img_b)\n",
    "    return wasserstein_distance(hist_a, hist_b)\n",
    "\n",
    "\n",
    "def structural_sim(path_a, path_b):\n",
    "    '''\n",
    "  Measure the structural similarity between two images\n",
    "  @args:\n",
    "    {str} path_a: the path to an image file\n",
    "    {str} path_b: the path to an image file\n",
    "  @returns:\n",
    "    {float} a float {-1:1} that measures structural similarity\n",
    "      between the input images\n",
    "  '''\n",
    "    img_a = get_img(path_a)\n",
    "    img_b = get_img(path_b)\n",
    "    sim, diff = compare_ssim(img_a, img_b, full=True)\n",
    "    return sim\n",
    "\n",
    "\n",
    "def pixel_sim(path_a, path_b):\n",
    "    '''\n",
    "  Measure the pixel-level similarity between two images\n",
    "  @args:\n",
    "    {str} path_a: the path to an image file\n",
    "    {str} path_b: the path to an image file\n",
    "  @returns:\n",
    "    {float} a float {-1:1} that measures structural similarity\n",
    "      between the input images\n",
    "  '''\n",
    "    img_a = get_img(path_a, norm_exposure=True)\n",
    "    img_b = get_img(path_b, norm_exposure=True)\n",
    "    return np.sum(np.absolute(img_a - img_b)) / (height * width) / 255\n",
    "\n",
    "\n",
    "def sift_sim(path_a, path_b):\n",
    "    '''\n",
    "  Use SIFT features to measure image similarity\n",
    "  @args:\n",
    "    {str} path_a: the path to an image file\n",
    "    {str} path_b: the path to an image file\n",
    "  @returns:\n",
    "    TODO\n",
    "  '''\n",
    "    # initialize the sift feature detector\n",
    "    orb = cv2.ORB_create()\n",
    "\n",
    "    # get the images\n",
    "    img_a = cv2.imread(path_a)\n",
    "    img_b = cv2.imread(path_b)\n",
    "\n",
    "    # find the keypoints and descriptors with SIFT\n",
    "    kp_a, desc_a = orb.detectAndCompute(img_a, None)\n",
    "    kp_b, desc_b = orb.detectAndCompute(img_b, None)\n",
    "\n",
    "    # initialize the bruteforce matcher\n",
    "    bf = cv2.BFMatcher(cv2.NORM_HAMMING, crossCheck=True)\n",
    "\n",
    "    # match.distance is a float between {0:100} - lower means more similar\n",
    "    matches = bf.match(desc_a, desc_b)\n",
    "    similar_regions = [i for i in matches if i.distance < 70]\n",
    "    if len(matches) == 0:\n",
    "        return 0\n",
    "    return len(similar_regions) / len(matches)\n",
    "\n",
    "\n",
    "if __name__ == '__main__':\n",
    "    img_a = 'a.jpg'\n",
    "    img_b = 'b.jpg'\n",
    "    # get the similarity values\n",
    "    structural_sim = structural_sim(img_a, img_b)\n",
    "    pixel_sim = pixel_sim(img_a, img_b)\n",
    "    sift_sim = sift_sim(img_a, img_b)\n",
    "    emd = earth_movers_distance(img_a, img_b)\n",
    "    print(structural_sim, pixel_sim, sift_sim, emd)"
   ]
  },
  {
   "cell_type": "markdown",
   "metadata": {},
   "source": [
    "## References\n",
    "\n",
    "[Image Quality Assessment: From Error Visibility to Structural Similarity](https://www.cns.nyu.edu/pub/eero/wang03-reprint.pdf)\n",
    "\n",
    "https://scikit-image.org/\n",
    "\n",
    "https://scikit-image.org/docs/dev/auto_examples/transform/plot_ssim.html?highlight=ssim\n",
    "\n",
    "https://scikit-image.org/docs/dev/api/skimage.measure.html\n",
    "\n",
    "https://www.pyimagesearch.com/2014/09/15/python-compare-two-images/\n",
    "\n",
    "https://gist.github.com/duhaime/211365edaddf7ff89c0a36d9f3f7956c"
   ]
  },
  {
   "cell_type": "code",
   "execution_count": null,
   "metadata": {},
   "outputs": [],
   "source": []
  }
 ],
 "metadata": {
  "kernelspec": {
   "display_name": "Python 3",
   "language": "python",
   "name": "python3"
  },
  "language_info": {
   "codemirror_mode": {
    "name": "ipython",
    "version": 3
   },
   "file_extension": ".py",
   "mimetype": "text/x-python",
   "name": "python",
   "nbconvert_exporter": "python",
   "pygments_lexer": "ipython3",
   "version": "3.7.3"
  }
 },
 "nbformat": 4,
 "nbformat_minor": 4
}