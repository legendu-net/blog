{
 "cells": [
  {
   "cell_type": "markdown",
   "metadata": {},
   "source": [
    "- Title: Hands on the Python package scikit-image\n",
    "- Slug: python-scikit-image\n",
    "- Date: 2019-02-16\n",
    "- Category: Computer Science\n",
    "- Tags: programming, Python, Pillow, computer vision, CV, image, PIL, similarity\n",
    "- Author: Ben Du\n",
    "- Modified: 2019-02-16\n"
   ]
  },
  {
   "cell_type": "code",
   "execution_count": null,
   "metadata": {},
   "outputs": [],
   "source": []
  },
  {
   "cell_type": "markdown",
   "metadata": {},
   "source": [
    "## References\n",
    "\n",
    "https://github.com/scikit-image/scikit-image\n",
    "\n",
    "https://scikit-image.org/\n",
    "\n",
    "https://scikit-image.org/docs/dev/api/skimage.measure.html"
   ]
  },
  {
   "cell_type": "code",
   "execution_count": null,
   "metadata": {},
   "outputs": [],
   "source": []
  }
 ],
 "metadata": {
  "kernelspec": {
   "display_name": "Python 3",
   "language": "python",
   "name": "python3"
  },
  "language_info": {
   "codemirror_mode": {
    "name": "ipython",
    "version": 3
   },
   "file_extension": ".py",
   "mimetype": "text/x-python",
   "name": "python",
   "nbconvert_exporter": "python",
   "pygments_lexer": "ipython3",
   "version": "3.7.3"
  }
 },
 "nbformat": 4,
 "nbformat_minor": 4
}