{
 "cells": [
  {
   "cell_type": "markdown",
   "metadata": {},
   "source": [
    "- Author: Benjamin Du\n",
    "- Date: 2022-06-26 15:15:02\n",
    "- Modified: 2022-06-26 15:15:02\n",
    "- Title: Split String into Rows in SQL\n",
    "- Slug: split-string-into-rows-in-SQL\n",
    "- Category: Computer Science\n",
    "- Tags: programming, SQL, SQLite3, split, string, rows,"
   ]
  },
  {
   "cell_type": "markdown",
   "metadata": {},
   "source": [
    "**\n",
    "Things on this page are fragmentary and immature notes/thoughts of the author.\n",
    "Please read with your own judgement!\n",
    "**"
   ]
  },
  {
   "cell_type": "markdown",
   "metadata": {},
   "source": [
    "## split\n",
    "\n",
    "```\n",
    "SELECT\n",
    "    A.state,\n",
    "    split.A.value('.', 'VARCHAR(100)') AS String\n",
    "FROM (\n",
    "    SELECT \n",
    "        state,  \n",
    "        CAST('<M>' + REPLACE(city, ',', '</M><M>') + '</M>' AS XML) AS string  \n",
    "    FROM\n",
    "        TableA\n",
    "    ) AS A\n",
    "CROSS APPLY String.nodes ('/M') AS split(a)\n",
    "```"
   ]
  },
  {
   "cell_type": "markdown",
   "metadata": {},
   "source": [
    "## SQLite3"
   ]
  },
  {
   "cell_type": "code",
   "execution_count": 1,
   "metadata": {},
   "outputs": [],
   "source": [
    "%defaultDatasource jdbc:sqlite:split.sqlite3"
   ]
  },
  {
   "cell_type": "code",
   "execution_count": 2,
   "metadata": {},
   "outputs": [
    {
     "ename": "org.sqlite.SQLiteException",
     "evalue": " [SQLITE_ERROR] SQL error or missing database (table states already exists)",
     "output_type": "error",
     "text": "org.sqlite.SQLiteException: [SQLITE_ERROR] SQL error or missing database (table states already exists)",
     "traceback": [
      "\u001b[1;31morg.sqlite.SQLiteException: [SQLITE_ERROR] SQL error or missing database (table states already exists)\u001b[0;0m"
     ]
    }
   ],
   "source": [
    "create table states (\n",
    "    state text,\n",
    "    cities text\n",
    ")"
   ]
  },
  {
   "cell_type": "code",
   "execution_count": 3,
   "metadata": {},
   "outputs": [
    {
     "data": {
      "text/plain": [
       "2"
      ]
     },
     "execution_count": 3,
     "metadata": {},
     "output_type": "execute_result"
    }
   ],
   "source": [
    "select count(*) from states"
   ]
  },
  {
   "cell_type": "code",
   "execution_count": 6,
   "metadata": {},
   "outputs": [],
   "source": [
    "insert into states (\n",
    "    state,\n",
    "    cities\n",
    ") values (\n",
    "    'Iowa',\n",
    "    'Ames, Des Moines, Iowa City'\n",
    "), (\n",
    "    'Illinois',\n",
    "    'Chicago, Buffalo Grove'\n",
    ")"
   ]
  },
  {
   "cell_type": "code",
   "execution_count": 4,
   "metadata": {},
   "outputs": [
    {
     "data": {
      "application/vnd.jupyter.widget-view+json": {
       "model_id": "112299c1-73a5-4f6c-afc4-41c3e92a6297",
       "version_major": 2,
       "version_minor": 0
      },
      "method": "display_data"
     },
     "metadata": {},
     "output_type": "display_data"
    }
   ],
   "source": [
    "select * from states"
   ]
  },
  {
   "cell_type": "code",
   "execution_count": 5,
   "metadata": {},
   "outputs": [
    {
     "data": {
      "application/vnd.jupyter.widget-view+json": {
       "model_id": "7055dbfa-d230-41a1-8a40-f2f6659981b6",
       "version_major": 2,
       "version_minor": 0
      },
      "method": "display_data"
     },
     "metadata": {},
     "output_type": "display_data"
    }
   ],
   "source": [
    "WITH RECURSIVE split(s, last, rest) AS (\n",
    "  VALUES('', '', 'C:\\Users\\fidel\\Desktop\\Temp')\n",
    "  UNION ALL\n",
    "  SELECT s || substr(rest, 1, 1),\n",
    "         substr(rest, 1, 1),\n",
    "         substr(rest, 2)\n",
    "  FROM split\n",
    "  WHERE rest <> ''\n",
    ")\n",
    "SELECT s\n",
    "FROM split\n",
    "WHERE rest = ''\n",
    "   OR last = '\\';"
   ]
  },
  {
   "cell_type": "code",
   "execution_count": 7,
   "metadata": {},
   "outputs": [
    {
     "data": {
      "application/vnd.jupyter.widget-view+json": {
       "model_id": "8ce7ebc4-7b00-4c7f-80bd-6335abd04c29",
       "version_major": 2,
       "version_minor": 0
      },
      "method": "display_data"
     },
     "metadata": {},
     "output_type": "display_data"
    }
   ],
   "source": [
    "WITH RECURSIVE split(s, last, rest) AS (\n",
    "    VALUES('', '', 'C:\\Users\\fidel\\Desktop\\Temp')\n",
    "    UNION ALL\n",
    "    SELECT s || substr(rest, 1, 1),\n",
    "         substr(rest, 1, 1),\n",
    "         substr(rest, 2)\n",
    "    FROM split\n",
    "    WHERE rest <> ''\n",
    ")\n",
    "SELECT \n",
    "    *\n",
    "FROM \n",
    "    split\n",
    ";"
   ]
  },
  {
   "cell_type": "markdown",
   "metadata": {},
   "source": [
    "## References\n",
    "\n",
    "http://sqljason.com/2010/05/converting-single-comma-separated-row.html\n",
    "\n",
    "http://www.samuelbosch.com/2018/02/split-into-rows-sqlite.html\n",
    "\n",
    "https://gist.github.com/dannguyen/1ff581b1e76fddb72cf2ff1542aa6c62\n",
    "\n",
    "https://stackoverflow.com/questions/34659643/split-a-string-into-rows-using-pure-sqlite"
   ]
  }
 ],
 "metadata": {
  "file_extension": ".py",
  "kernelspec": {
   "display_name": "Python 3 (ipykernel)",
   "language": "python",
   "name": "python3"
  },
  "language_info": {
   "codemirror_mode": {
    "name": "ipython",
    "version": 3
   },
   "file_extension": ".py",
   "mimetype": "text/x-python",
   "name": "python",
   "nbconvert_exporter": "python",
   "pygments_lexer": "ipython3",
   "version": "3.10.4"
  },
  "mimetype": "text/x-python",
  "name": "python",
  "npconvert_exporter": "python",
  "pygments_lexer": "ipython3",
  "version": 3
 },
 "nbformat": 4,
 "nbformat_minor": 4
}
