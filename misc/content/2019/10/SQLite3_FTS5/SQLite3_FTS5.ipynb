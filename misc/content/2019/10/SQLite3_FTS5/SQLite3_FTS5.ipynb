{
 "cells": [
  {
   "cell_type": "markdown",
   "metadata": {},
   "source": [
    "- Title: Hands on Full-text Search in SQLite3\n",
    "- Slug: hands-on-full-text-search-in-sqlite3\n",
    "- Date: 2019-10-22\n",
    "- Category: Computer Science\n",
    "- Tags: programming, SQLite3, full-text search, FTS5, SQL\n",
    "- Author: Ben Du\n",
    "- Modified: 2019-10-22\n"
   ]
  },
  {
   "cell_type": "markdown",
   "metadata": {},
   "source": [
    "## References\n",
    "\n",
    "- https://sqlite.org/fts5.html\n",
    "\n",
    "- http://www.sqlitetutorial.net/sqlite-full-text-search/"
   ]
  },
  {
   "cell_type": "markdown",
   "metadata": {},
   "source": [
    "## FTS5 (Full-text Search) in SQLite3"
   ]
  },
  {
   "cell_type": "code",
   "execution_count": 1,
   "metadata": {},
   "outputs": [],
   "source": [
    "%defaultDatasource jdbc:sqlite:fts.sqlite3"
   ]
  },
  {
   "cell_type": "code",
   "execution_count": 2,
   "metadata": {},
   "outputs": [],
   "source": [
    "CREATE VIRTUAL TABLE posts \n",
    "USING fts5(title, category, tags, content)\n",
    ";"
   ]
  },
  {
   "cell_type": "code",
   "execution_count": 3,
   "metadata": {},
   "outputs": [],
   "source": [
    "INSERT INTO posts (\n",
    "    title,\n",
    "    category,\n",
    "    tags,\n",
    "    content\n",
    ") VALUES(\n",
    "    'Use JupyterLab Notebooks in Pelican',\n",
    "    'Life',\n",
    "    'life, blog',\n",
    "    'Introduction on how to use JupyterLab notebooks in Pelican to make blogging easier.'\n",
    "), (\n",
    "    'ODBC vs JDBC in Python',\n",
    "    'Programming',\n",
    "    'programming, Python, JDBC, ODBC',\n",
    "    'Overall speaking, Python has better ODBC support than jDBC support. Most database related packages in Python support or rely on ODBC.'\n",
    "), (\n",
    "    'Tips for JavaScript',\n",
    "    'Programming',\n",
    "    'programming, JavaScript, JS, forntend',\n",
    "    'Node.js is a javaScript runtime environment outside browsers.'\n",
    ")\n",
    ";"
   ]
  },
  {
   "cell_type": "code",
   "execution_count": 4,
   "metadata": {},
   "outputs": [
    {
     "data": {
      "application/vnd.jupyter.widget-view+json": {
       "model_id": "1a949fd9-76de-4de7-8ddc-7cfae48e86d9",
       "version_major": 2,
       "version_minor": 0
      },
      "method": "display_data"
     },
     "metadata": {},
     "output_type": "display_data"
    }
   ],
   "source": [
    "select * from posts"
   ]
  },
  {
   "cell_type": "markdown",
   "metadata": {},
   "source": [
    "## Match"
   ]
  },
  {
   "cell_type": "code",
   "execution_count": 5,
   "metadata": {},
   "outputs": [
    {
     "data": {
      "application/vnd.jupyter.widget-view+json": {
       "model_id": "f426a844-2420-4ccd-88fa-80739d65efab",
       "version_major": 2,
       "version_minor": 0
      },
      "method": "display_data"
     },
     "metadata": {},
     "output_type": "display_data"
    }
   ],
   "source": [
    "SELECT * FROM posts WHERE posts MATCH 'Python'"
   ]
  },
  {
   "cell_type": "code",
   "execution_count": 6,
   "metadata": {},
   "outputs": [
    {
     "data": {
      "application/vnd.jupyter.widget-view+json": {
       "model_id": "7619d56e-8a6c-4ecb-b20d-dac0512eec53",
       "version_major": 2,
       "version_minor": 0
      },
      "method": "display_data"
     },
     "metadata": {},
     "output_type": "display_data"
    }
   ],
   "source": [
    "SELECT * FROM posts WHERE posts MATCH 'programming'"
   ]
  },
  {
   "cell_type": "markdown",
   "metadata": {},
   "source": [
    "## The Equal Sign"
   ]
  },
  {
   "cell_type": "markdown",
   "metadata": {},
   "source": [
    "The equal sign (`=`) is equivalent to the `match` keyword."
   ]
  },
  {
   "cell_type": "code",
   "execution_count": 7,
   "metadata": {},
   "outputs": [
    {
     "data": {
      "application/vnd.jupyter.widget-view+json": {
       "model_id": "1f704d21-5d52-45e6-913a-1c67ce9db958",
       "version_major": 2,
       "version_minor": 0
      },
      "method": "display_data"
     },
     "metadata": {},
     "output_type": "display_data"
    }
   ],
   "source": [
    "SELECT * FROM posts WHERE posts = 'programming'"
   ]
  },
  {
   "cell_type": "markdown",
   "metadata": {},
   "source": [
    "## The Table-valued function Syntax"
   ]
  },
  {
   "cell_type": "code",
   "execution_count": 8,
   "metadata": {},
   "outputs": [
    {
     "data": {
      "application/vnd.jupyter.widget-view+json": {
       "model_id": "ae446666-3f25-49f3-9ca9-c0467db95b41",
       "version_major": 2,
       "version_minor": 0
      },
      "method": "display_data"
     },
     "metadata": {},
     "output_type": "display_data"
    }
   ],
   "source": [
    "SELECT * FROM posts('programming')"
   ]
  },
  {
   "cell_type": "markdown",
   "metadata": {},
   "source": [
    "## Order by the Default Rank"
   ]
  },
  {
   "cell_type": "code",
   "execution_count": 9,
   "metadata": {},
   "outputs": [
    {
     "data": {
      "application/vnd.jupyter.widget-view+json": {
       "model_id": "eb873cc5-59f8-413c-9a8f-c46cfb7b82f5",
       "version_major": 2,
       "version_minor": 0
      },
      "method": "display_data"
     },
     "metadata": {},
     "output_type": "display_data"
    }
   ],
   "source": [
    "SELECT * FROM posts WHERE posts MATCH 'programming' ORDER BY rank"
   ]
  },
  {
   "cell_type": "markdown",
   "metadata": {},
   "source": [
    "## Order by BM25"
   ]
  },
  {
   "cell_type": "code",
   "execution_count": 10,
   "metadata": {},
   "outputs": [
    {
     "data": {
      "application/vnd.jupyter.widget-view+json": {
       "model_id": "4bfa1f2a-d25c-44dc-8a44-83121e0b0cae",
       "version_major": 2,
       "version_minor": 0
      },
      "method": "display_data"
     },
     "metadata": {},
     "output_type": "display_data"
    }
   ],
   "source": [
    "SELECT * FROM posts WHERE posts MATCH 'programming' ORDER BY bm25(posts)"
   ]
  },
  {
   "cell_type": "code",
   "execution_count": 11,
   "metadata": {},
   "outputs": [
    {
     "ename": "org.sqlite.SQLiteException",
     "evalue": " [SQLITE_ERROR] SQL error or missing database (no such table",
     "output_type": "error",
     "text": "org.sqlite.SQLiteException: [SQLITE_ERROR] SQL error or missing database (no such table: email)",
     "traceback": [
      "\u001b[1;31morg.sqlite.SQLiteException: [SQLITE_ERROR] SQL error or missing database (no such table: email)\u001b[0;0m"
     ]
    }
   ],
   "source": [
    "SELECT highlight(email, 2, '<b>', '</b>') FROM email WHERE email MATCH 'fts5'"
   ]
  },
  {
   "cell_type": "markdown",
   "metadata": {},
   "source": [
    "## Highlight"
   ]
  },
  {
   "cell_type": "markdown",
   "metadata": {},
   "source": [
    "1st param: the name of the virtual table.  \n",
    "2nd param: 0-based column index specifying the column from which to search the keywords.  \n",
    "3rd param: left quoting string.  \n",
    "4th param: right quoting string."
   ]
  },
  {
   "cell_type": "code",
   "execution_count": 12,
   "metadata": {},
   "outputs": [
    {
     "data": {
      "application/vnd.jupyter.widget-view+json": {
       "model_id": "64ef32d4-b2dd-40fa-9bdb-5710bc32e25d",
       "version_major": 2,
       "version_minor": 0
      },
      "method": "display_data"
     },
     "metadata": {},
     "output_type": "display_data"
    }
   ],
   "source": [
    "SELECT highlight(posts, 3, '<b>', '</b>') from posts WHERE posts MATCH 'programming' ORDER BY rank"
   ]
  },
  {
   "cell_type": "code",
   "execution_count": null,
   "metadata": {},
   "outputs": [],
   "source": []
  }
 ],
 "metadata": {
  "kernelspec": {
   "display_name": "SQL",
   "language": "SQL",
   "name": "sql"
  },
  "language_info": {
   "codemirror_mode": "sql",
   "file_extension": ".sql",
   "mimetype": "",
   "name": "SQL",
   "nbconverter_exporter": "",
   "version": ""
  }
 },
 "nbformat": 4,
 "nbformat_minor": 4
}