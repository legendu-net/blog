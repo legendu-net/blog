{
 "cells": [
  {
   "cell_type": "markdown",
   "metadata": {},
   "source": [
    "- Title: Hands on the highlight command\n",
    "- Slug: hands-on-the-highlight-command\n",
    "- Date: 2019-10-21\n",
    "- Category: OS\n",
    "- Tags: Linux, shell, command line, highlight\n",
    "- Author: Ben Du\n",
    "- Modified: 2019-10-21\n"
   ]
  },
  {
   "cell_type": "markdown",
   "metadata": {},
   "source": [
    "https://linux.die.net/man/1/highlight\n",
    "\n",
    "    highlight -O ansi\n",
    "    highlight -O xterm256\n",
    "\n",
    "pygmentize\n",
    "\n",
    "    alias c='pygmentize -g'"
   ]
  },
  {
   "cell_type": "code",
   "execution_count": null,
   "metadata": {},
   "outputs": [],
   "source": []
  }
 ],
 "metadata": {
  "kernelspec": {
   "display_name": "Python 3",
   "language": "python",
   "name": "python3"
  },
  "language_info": {
   "codemirror_mode": {
    "name": "ipython",
    "version": 3
   },
   "file_extension": ".py",
   "mimetype": "text/x-python",
   "name": "python",
   "nbconvert_exporter": "python",
   "pygments_lexer": "ipython3",
   "version": "3.6.8"
  }
 },
 "nbformat": 4,
 "nbformat_minor": 2
}