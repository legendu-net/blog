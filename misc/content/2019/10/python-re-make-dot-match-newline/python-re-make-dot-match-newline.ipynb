{
 "cells": [
  {
   "cell_type": "markdown",
   "metadata": {},
   "source": [
    "- Title: Make A Dot Match Newline in the re Module in Python\n",
    "- Slug: make-dot-match-newline-re-python\n",
    "- Date: 2019-10-23\n",
    "- Category: Computer Science\n",
    "- Tags: programming, Python, re, regular expression, newline\n",
    "- Author: Ben Du\n",
    "- Modified: 2019-10-23\n"
   ]
  },
  {
   "cell_type": "markdown",
   "metadata": {},
   "source": [
    "## Comment\n",
    "\n",
    "1. Pass `re.DOTALL` to the option `flags` to make a dot match newlines as well."
   ]
  },
  {
   "cell_type": "code",
   "execution_count": 2,
   "metadata": {},
   "outputs": [],
   "source": [
    "import re"
   ]
  },
  {
   "cell_type": "code",
   "execution_count": 5,
   "metadata": {},
   "outputs": [],
   "source": [
    "pattern = '.*select\\s+.*\\s+from\\s+(\\w+\\.?\\w+)\\s+'\n",
    "sql = '''\n",
    "    select\n",
    "       c1, \n",
    "       c2,\n",
    "    from\n",
    "        abc.table\n",
    "    where\n",
    "        1 = 1\n",
    "    '''.strip().lower()\n",
    "re.search(pattern, sql)"
   ]
  },
  {
   "cell_type": "code",
   "execution_count": 7,
   "metadata": {},
   "outputs": [
    {
     "name": "stdout",
     "output_type": "stream",
     "text": [
      "select\n",
      "       c1, \n",
      "       c2\n",
      "    from\n",
      "        db.table\n",
      "    \n",
      "db.table\n"
     ]
    }
   ],
   "source": [
    "pattern = '.*select\\s+.*\\s+from\\s+(\\w+\\.?\\w+)\\s+'\n",
    "sql = '''\n",
    "    select\n",
    "       c1, \n",
    "       c2\n",
    "    from\n",
    "        db.table\n",
    "    where\n",
    "        1 = 1\n",
    "    '''.strip().lower()\n",
    "match = re.search(pattern, sql, re.DOTALL)\n",
    "print(match.group(0))\n",
    "print(match.group(1))"
   ]
  },
  {
   "cell_type": "code",
   "execution_count": 8,
   "metadata": {},
   "outputs": [
    {
     "name": "stdout",
     "output_type": "stream",
     "text": [
      "\n",
      "    select\n",
      "        count(*) as total,\n",
      "        count(case\n",
      "                when item_site_id = 15 then 1\n",
      "                else 0\n",
      "            end) as total_au\n",
      "    from\n",
      "        db.table\n",
      "    \n",
      "db.table\n"
     ]
    }
   ],
   "source": [
    "pattern = '.*select\\s+.*\\s+from\\s+(\\w+\\.?\\w+)\\s+'\n",
    "sql = '''\n",
    "    select\n",
    "        count(*) as total,\n",
    "        count(case\n",
    "                when item_site_id = 15 then 1\n",
    "                else 0\n",
    "            end) as total_au\n",
    "    from\n",
    "        db.table\n",
    "    '''\n",
    "match = re.search(pattern, sql, re.DOTALL)\n",
    "print(match.group(0))\n",
    "print(match.group(1))"
   ]
  },
  {
   "cell_type": "code",
   "execution_count": 9,
   "metadata": {},
   "outputs": [
    {
     "data": {
      "text/plain": [
       "['abc']"
      ]
     },
     "execution_count": 9,
     "metadata": {},
     "output_type": "execute_result"
    }
   ],
   "source": [
    "'abc'.split(', ')"
   ]
  },
  {
   "cell_type": "code",
   "execution_count": 10,
   "metadata": {},
   "outputs": [],
   "source": [
    "x, = ['nima']"
   ]
  },
  {
   "cell_type": "code",
   "execution_count": 12,
   "metadata": {},
   "outputs": [],
   "source": [
    "x, *_ = ['nima']"
   ]
  },
  {
   "cell_type": "code",
   "execution_count": 13,
   "metadata": {},
   "outputs": [
    {
     "data": {
      "text/plain": [
       "'nima'"
      ]
     },
     "execution_count": 13,
     "metadata": {},
     "output_type": "execute_result"
    }
   ],
   "source": [
    "x"
   ]
  }
 ],
 "metadata": {
  "kernelspec": {
   "display_name": "Python 3",
   "language": "python",
   "name": "python3"
  },
  "language_info": {
   "codemirror_mode": {
    "name": "ipython",
    "version": 3
   },
   "file_extension": ".py",
   "mimetype": "text/x-python",
   "name": "python",
   "nbconvert_exporter": "python",
   "pygments_lexer": "ipython3",
   "version": "3.7.4"
  },
  "widgets": {
   "application/vnd.jupyter.widget-state+json": {
    "state": {},
    "version_major": 2,
    "version_minor": 0
   }
  }
 },
 "nbformat": 4,
 "nbformat_minor": 4
}