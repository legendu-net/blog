{
 "cells": [
  {
   "cell_type": "markdown",
   "source": [
    "- Title: Hands on the Python module subprocess\n",
    "- Slug: hands-on-the-python-model-subprocess\n",
    "- Date: 2019-10-26 10:31:31\n",
    "- Category: Computer Science\n",
    "- Tags: programming, Python, subprocess\n",
    "- Author: Ben Du\n",
    "- Modified: 2021-09-10 11:16:58\n"
   ],
   "metadata": {}
  },
  {
   "cell_type": "markdown",
   "source": [
    "## General Tips\n",
    "\n",
    "1. The method `subprocess.run` is preferred over the older high-level APIs \n",
    "    (`subprocess.call`, `subprocess.check_call` and `subprocess.check_output`).\n",
    "    The method `subprocess.Popen` (which powers the high-level APIs) can be used if you need advanced control.\n",
    "    When running a shell command using `subprocess.run`,\n",
    "    \n",
    "    1. Avoid using system shell (i.e., avoid using `shell=True`) for 2 reasons.\n",
    "        First, avoid shell injection attack.\n",
    "        Second, there is no need for you to manually escape special characters in the command.\n",
    "\n",
    "    2. `capture_output=True` is a convenient way to capture both stdout and sterr of the shell command.\n",
    "        However, \n",
    "        unless your code needs to parse and handle the stderr of the shell command,\n",
    "        it is NOT a good idea to capture stderr of the shell command\n",
    "        as the stderr should be printed to users.\n",
    "    \n",
    "5. When `subprocess.run(...)` fails to run, \n",
    "    it throws `subprocess.CalledProcessError`. \n",
    "    Sometimes, \n",
    "    you might want to know the detailed exceptions/errors which caused the command to fail.\n",
    "    In that case,\n",
    "    you can capture the stderr and stdout of the child process \n",
    "    and then parse `CalledProcessError.stderr` and `CalledProcessError.stdout` manually.\n",
    "    For more discussions,\n",
    "    please refer to \n",
    "    [How to catch exception output from Python subprocess.check_output()?](https://stackoverflow.com/questions/24849998/how-to-catch-exception-output-from-python-subprocess-check-output)\n",
    "    .\n"
   ],
   "metadata": {}
  },
  {
   "cell_type": "markdown",
   "source": [
    "## Capture the Standard Ouput and Error\n",
    "\n",
    "In Python 3.7+, \n",
    "the output (stdout and stderr) of commands can be captured \n",
    "by specifying the option `capture_output=True`.\n",
    "This option is equivalent to the options `stdout=PIPE, stderr=PIPE` in older versions of Python."
   ],
   "metadata": {}
  },
  {
   "cell_type": "markdown",
   "source": [
    "Capture stdout by specifying `stdout=sp.PIPE`."
   ],
   "metadata": {}
  },
  {
   "cell_type": "code",
   "execution_count": 23,
   "source": [
    "process = sp.run(['pwd'], stdout=sp.PIPE, stderr=sp.PIPE)\n",
    "print(process.stdout)"
   ],
   "outputs": [
    {
     "output_type": "stream",
     "name": "stdout",
     "text": [
      "b'/app/archives/blog/misc/content\\n'\n"
     ]
    }
   ],
   "metadata": {}
  },
  {
   "cell_type": "markdown",
   "source": [
    "Capture both the standard ouput and error (separately)."
   ],
   "metadata": {}
  },
  {
   "cell_type": "code",
   "execution_count": 26,
   "source": [
    "process = sp.run(['pwd', '-l'], stdout=sp.PIPE, stderr=sp.PIPE)\n",
    "print(process.stdout)\n",
    "print(process.stderr)"
   ],
   "outputs": [
    {
     "output_type": "stream",
     "name": "stdout",
     "text": [
      "b''\n",
      "b\"pwd: invalid option -- 'l'\\nTry 'pwd --help' for more information.\\n\"\n"
     ]
    }
   ],
   "metadata": {}
  },
  {
   "cell_type": "markdown",
   "source": [
    "Capture both the standard output and error in one place (`process.stdout`)."
   ],
   "metadata": {}
  },
  {
   "cell_type": "code",
   "execution_count": 27,
   "source": [
    "process = sp.run(['pwd', '-l'], stdout=sp.PIPE, stderr=sp.STDOUT)\n",
    "print(process.stdout)"
   ],
   "outputs": [
    {
     "output_type": "stream",
     "name": "stdout",
     "text": [
      "b\"pwd: invalid option -- 'l'\\nTry 'pwd --help' for more information.\\n\"\n"
     ]
    }
   ],
   "metadata": {}
  },
  {
   "cell_type": "markdown",
   "source": [
    "## Supress the Output of `subprocess.run`\n",
    "\n",
    "To suppress the output of `subprocess.run`,\n",
    "    you can redirect the output to `/dev/null`."
   ],
   "metadata": {}
  },
  {
   "cell_type": "code",
   "execution_count": 13,
   "source": [
    "import os\n",
    "import subprocess as sp\n",
    "import sys"
   ],
   "outputs": [],
   "metadata": {}
  },
  {
   "cell_type": "markdown",
   "source": [
    "Without redicting the standard output to `/dev/null` \n",
    "(i.e., supressing the standard output), \n",
    "the command outputs results. \n",
    "(Note that there is bug in ipykernel which supress the output. \n",
    "This comamnd outputs results in a regular Python shell.)"
   ],
   "metadata": {}
  },
  {
   "cell_type": "code",
   "execution_count": 8,
   "source": [
    "sp.run(['ls', '-l'])"
   ],
   "outputs": [
    {
     "output_type": "execute_result",
     "data": {
      "text/plain": [
       "CompletedProcess(args=['ls', '-l'], returncode=0)"
      ]
     },
     "metadata": {},
     "execution_count": 8
    }
   ],
   "metadata": {}
  },
  {
   "cell_type": "markdown",
   "source": [
    "After redirecting the standard output to `/dev/null` \n",
    "(i.e., supressing the standard output), \n",
    "the command does not output any result."
   ],
   "metadata": {}
  },
  {
   "cell_type": "code",
   "execution_count": 1,
   "source": [
    "with open(os.devnull, 'w') as devnull:\n",
    "    sp.run(['ls', '-l'], stdout=devnull)"
   ],
   "outputs": [],
   "metadata": {}
  },
  {
   "cell_type": "markdown",
   "source": [
    "The code below supress both the stdout and stderr \n",
    "by redirecting both of them to `/dev/null`."
   ],
   "metadata": {}
  },
  {
   "cell_type": "code",
   "execution_count": 9,
   "source": [
    "with open(os.devnull, 'w') as devnull:\n",
    "    sp.run(['ls', '-l'], stdout=devnull, stderr=devnull)"
   ],
   "outputs": [],
   "metadata": {}
  },
  {
   "cell_type": "markdown",
   "source": [
    "Below is an equivalent approach,\n",
    "which merges stderr to stdout first \n",
    "and then redirect stdout to `/dev/null`."
   ],
   "metadata": {}
  },
  {
   "cell_type": "code",
   "execution_count": 11,
   "source": [
    "with open(os.devnull, 'w') as devnull:\n",
    "    sp.run(['ls', '-l'], stdout=devnull, stderr=sp.STDOUT)"
   ],
   "outputs": [],
   "metadata": {}
  },
  {
   "cell_type": "markdown",
   "source": [
    "## Comparison of Differenct Devices\n",
    "\n",
    "1. `sys.stdout` is the standard output stream.\n",
    "  `subprocess.STDOUT` refers to the standard out stream of subprocess.\n",
    "  It is either `subprocess.PIPE` or `None`.\n",
    "  \n",
    "    :::python\n",
    "    os.devnull\n",
    "    subprocess.DEVNULL\n",
    "    with open(os.devnull, 'w') as devnull:\n",
    "        pass"
   ],
   "metadata": {}
  },
  {
   "cell_type": "markdown",
   "source": [
    "## Possible Exceptions\n",
    "\n",
    "### FileNotFoundError\n",
    "\n",
    "If the command is not found, \n",
    "`subprocess.run` throws the exception `FileNotFoundError` (even `check=False`).\n",
    "\n",
    "### [subprocess.CalledProcessError](https://docs.python.org/3/library/subprocess.html#subprocess.CalledProcessError)\n",
    "\n",
    "1. If the command fails to run\n",
    "    and `check=True`,\n",
    "    `subprocess.run` throws the exception `subprocess.CalledProcessError`.\n",
    "\n",
    "2. The error message of `CalledProcessError` is usually \n",
    "    `Command '***' returned non-zero exit status 1`,\n",
    "    which is not helpful.\n",
    "    You can get more information about the child process via members `stdout` and `stderr`."
   ],
   "metadata": {}
  },
  {
   "cell_type": "code",
   "execution_count": 10,
   "source": [
    "import subprocess\n",
    "\n",
    "command = [\"ls\", \"/tmp2\"]\n",
    "try:\n",
    "    subprocess.check_output(command, stderr=subprocess.STDOUT).decode()\n",
    "except subprocess.CalledProcessError as e:\n",
    "    print(type(e))\n",
    "    print(\"Error message:\", e)\n",
    "    print(\"Standard output of the child process:\", e.stdout)\n",
    "    print(\"Standard error of the child process:\", e.stderr)"
   ],
   "outputs": [
    {
     "output_type": "stream",
     "name": "stdout",
     "text": [
      "<class 'subprocess.CalledProcessError'>\n",
      "Error message: Command '['ls', '/tmp2']' returned non-zero exit status 1.\n",
      "Standard output of the child process: b'ls: /tmp2: No such file or directory\\n'\n",
      "Standard error of the child process: None\n"
     ]
    }
   ],
   "metadata": {}
  },
  {
   "cell_type": "markdown",
   "source": [
    "## Issues in JupyterLab Notebooks"
   ],
   "metadata": {}
  },
  {
   "cell_type": "markdown",
   "source": [
    "Running `sp.run('ls -a')` in a JupyterLab notebook prints nothing \n",
    "while running it in a regular Python shell prints results.\n",
    "This is likely a bug in ipykernel."
   ],
   "metadata": {}
  },
  {
   "cell_type": "markdown",
   "source": [
    "## The \"Inappropriate ioctl for device\" Issue\n",
    "\n",
    "A shell command running using subprocess request input might throw the error message \"Inappropriate ioctl for device\"\n",
    "if the command requires input from a terminal.\n",
    "The post \n",
    "[\u4f7f\u7528popen\u548c\u4e13\u7528TTY Python\u8fd0\u884c\u4ea4\u4e92\u5f0fBash](https://www.cnpython.com/qa/81808)\n",
    "talks about a way to fix the issue. \n",
    "The Python package\n",
    "[pexpect](https://github.com/pexpect/pexpect)\n",
    "providws even a simpler way to fix the problem.\n",
    "For more details, \n",
    "please refer to \n",
    "[Hands on the Python Library pexpect](http://www.legendu.net/misc/blog/hands-on-the-python-library-pexpect)\n",
    "."
   ],
   "metadata": {}
  },
  {
   "cell_type": "markdown",
   "source": [
    "## References \n",
    "\n",
    "- [subprocess - Official Doc](https://docs.python.org/3/library/subprocess.html)\n",
    "- [\u4f7f\u7528popen\u548c\u4e13\u7528TTY Python\u8fd0\u884c\u4ea4\u4e92\u5f0fBash](https://www.cnpython.com/qa/81808)\n",
    "- [pexpect @ GitHub](https://github.com/pexpect/pexpect)"
   ],
   "metadata": {}
  },
  {
   "cell_type": "code",
   "execution_count": null,
   "source": [],
   "outputs": [],
   "metadata": {}
  }
 ],
 "metadata": {
  "kernelspec": {
   "display_name": "Python 3",
   "language": "python",
   "name": "python3"
  },
  "language_info": {
   "codemirror_mode": {
    "name": "ipython",
    "version": 3
   },
   "file_extension": ".py",
   "mimetype": "text/x-python",
   "name": "python",
   "nbconvert_exporter": "python",
   "pygments_lexer": "ipython3",
   "version": "3.8.5-final"
  }
 },
 "nbformat": 4,
 "nbformat_minor": 4
}