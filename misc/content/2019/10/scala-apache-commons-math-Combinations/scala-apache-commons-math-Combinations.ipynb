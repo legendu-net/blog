{
 "cells": [
  {
   "cell_type": "markdown",
   "metadata": {},
   "source": [
    "- Title: Hands on the Combinations class in Apache Commons Math\n",
    "- Slug: hands-on-apache-commons-math-Combinations\n",
    "- Date: 2019-10-26\n",
    "- Category: Computer Science\n",
    "- Tags: programming, Scala, JVM, Java, Apache, Commons Math, statistics, Combinations\n",
    "- Author: Ben Du\n",
    "- Modified: 2019-10-26\n"
   ]
  },
  {
   "cell_type": "markdown",
   "metadata": {},
   "source": [
    "\n",
    "http://commons.apache.org/proper/commons-math/javadocs/api-3.4/org/apache/commons/math3/util/Combinations.html\n",
    "\n",
    "https://google.github.io/guava/releases/19.0/api/docs/com/google/common/collect/Collections2.html"
   ]
  },
  {
   "cell_type": "code",
   "execution_count": 2,
   "metadata": {},
   "outputs": [
    {
     "data": {
      "application/vnd.jupyter.widget-view+json": {
       "model_id": "",
       "version_major": 2,
       "version_minor": 0
      },
      "method": "display_data"
     },
     "metadata": {},
     "output_type": "display_data"
    },
    {
     "data": {
      "application/vnd.jupyter.widget-view+json": {
       "model_id": "7f5d214f-1114-4aae-b5bb-6bdc94710f68",
       "version_major": 2,
       "version_minor": 0
      },
      "method": "display_data"
     },
     "metadata": {},
     "output_type": "display_data"
    }
   ],
   "source": [
    "%classpath add mvn org.apache.commons commons-math3 3.6.1"
   ]
  },
  {
   "cell_type": "code",
   "execution_count": 3,
   "metadata": {},
   "outputs": [
    {
     "data": {
      "text/plain": [
       "import org.apache.commons.math3.util.Combinations\n",
       "import scala.collection.JavaConverters._\n"
      ]
     },
     "execution_count": 3,
     "metadata": {},
     "output_type": "execute_result"
    }
   ],
   "source": [
    "import org.apache.commons.math3.util.Combinations\n",
    "import scala.collection.JavaConverters._"
   ]
  },
  {
   "cell_type": "code",
   "execution_count": 4,
   "metadata": {},
   "outputs": [
    {
     "ename": "<console>",
     "evalue": "97",
     "output_type": "error",
     "text": "<console>:97: error: value foreach is not a member of java.util.Iterator[Array[Int]]\n       it.foreach(System.out.println)\n          ^\n",
     "traceback": [
      "\u001b[1;31m<console>:97: error: value foreach is not a member of java.util.Iterator[Array[Int]]\u001b[0;0m",
      "\u001b[1;31m       it.foreach(System.out.println)\u001b[0;0m",
      "\u001b[1;31m          ^\u001b[0;0m"
     ]
    }
   ],
   "source": [
    "val it = new Combinations(6, 2).iterator()\n",
    "it.foreach(System.out.println)"
   ]
  },
  {
   "cell_type": "code",
   "execution_count": 5,
   "metadata": {},
   "outputs": [
    {
     "name": "stdout",
     "output_type": "stream",
     "text": [
      "0 1 2\n",
      "0 1 3\n",
      "0 2 3\n",
      "1 2 3\n",
      "0 1 4\n",
      "0 2 4\n",
      "1 2 4\n",
      "0 3 4\n",
      "1 3 4\n",
      "2 3 4\n"
     ]
    },
    {
     "data": {
      "text/plain": [
       "null"
      ]
     },
     "execution_count": 5,
     "metadata": {},
     "output_type": "execute_result"
    }
   ],
   "source": [
    "val it = new Combinations(5, 3).iterator()\n",
    "while(it.hasNext()){\n",
    "    System.out.print(it.next().mkString(\" \") + \"\\n\")\n",
    "}"
   ]
  },
  {
   "cell_type": "code",
   "execution_count": null,
   "metadata": {},
   "outputs": [],
   "source": []
  }
 ],
 "metadata": {
  "kernelspec": {
   "display_name": "Scala",
   "language": "scala",
   "name": "scala"
  },
  "language_info": {
   "codemirror_mode": "text/x-scala",
   "file_extension": ".scala",
   "mimetype": "",
   "name": "Scala",
   "nbconverter_exporter": "",
   "version": "2.11.12"
  }
 },
 "nbformat": 4,
 "nbformat_minor": 4
}