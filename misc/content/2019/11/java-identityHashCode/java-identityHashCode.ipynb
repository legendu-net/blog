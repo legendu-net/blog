{
 "cells": [
  {
   "cell_type": "markdown",
   "metadata": {},
   "source": [
    "- Title: Understand System.identityHashCode in Java\n",
    "- Slug: java-identityHashCode\n",
    "- Date: 2019-11-21\n",
    "- Category: Computer Science\n",
    "- Tags: programming, JVM, Java, identityHashCode, address, RNG\n",
    "- Author: Ben Du\n",
    "- Modified: 2019-11-21\n"
   ]
  },
  {
   "cell_type": "markdown",
   "metadata": {},
   "source": [
    "## Tips and Traps\n",
    "\n",
    "1. You cannot get the address of an object in Java (without hacking).\n",
    "    `System.identityHashCode(obj)` is the next best thing you can have.\n",
    "    This trick (combined with the timestamp) is used to \n",
    "    generate default seed for random number generators in Java."
   ]
  },
  {
   "cell_type": "code",
   "execution_count": 4,
   "metadata": {},
   "outputs": [
    {
     "data": {
      "text/plain": [
       "\u001b[32mimport \u001b[39m\u001b[36morg.apache.commons.math3.random.RandomDataGenerator\n",
       "\u001b[39m\n",
       "\u001b[32mimport \u001b[39m\u001b[36mcollection.JavaConverters._\n",
       "\u001b[39m\n",
       "\u001b[36mrng1\u001b[39m: \u001b[32mRandomDataGenerator\u001b[39m = org.apache.commons.math3.random.RandomDataGenerator@254a5d85\n",
       "\u001b[36mrng2\u001b[39m: \u001b[32mRandomDataGenerator\u001b[39m = org.apache.commons.math3.random.RandomDataGenerator@e18d0ae"
      ]
     },
     "execution_count": 4,
     "metadata": {},
     "output_type": "execute_result"
    }
   ],
   "source": [
    "import org.apache.commons.math3.random.RandomDataGenerator\n",
    "import collection.JavaConverters._\n",
    "val rng1 = new RandomDataGenerator()\n",
    "val rng2 = new RandomDataGenerator()"
   ]
  },
  {
   "cell_type": "code",
   "execution_count": 5,
   "metadata": {},
   "outputs": [
    {
     "data": {
      "text/plain": [
       "\u001b[36mres4\u001b[39m: \u001b[32mInt\u001b[39m = \u001b[32m625630597\u001b[39m"
      ]
     },
     "execution_count": 5,
     "metadata": {},
     "output_type": "execute_result"
    }
   ],
   "source": [
    "System.identityHashCode(rng1)"
   ]
  },
  {
   "cell_type": "code",
   "execution_count": 6,
   "metadata": {},
   "outputs": [
    {
     "data": {
      "text/plain": [
       "\u001b[36mres5\u001b[39m: \u001b[32mInt\u001b[39m = \u001b[32m236507310\u001b[39m"
      ]
     },
     "execution_count": 6,
     "metadata": {},
     "output_type": "execute_result"
    }
   ],
   "source": [
    "System.identityHashCode(rng2)"
   ]
  },
  {
   "cell_type": "markdown",
   "metadata": {},
   "source": [
    "## References"
   ]
  },
  {
   "cell_type": "code",
   "execution_count": null,
   "metadata": {},
   "outputs": [],
   "source": []
  }
 ],
 "metadata": {
  "kernelspec": {
   "display_name": "Kotlin",
   "language": "kotlin",
   "name": "kotlin"
  },
  "language_info": {
   "codemirror_mode": "text/x-kotlin",
   "file_extension": "kt",
   "name": "kotlin"
  }
 },
 "nbformat": 4,
 "nbformat_minor": 4
}