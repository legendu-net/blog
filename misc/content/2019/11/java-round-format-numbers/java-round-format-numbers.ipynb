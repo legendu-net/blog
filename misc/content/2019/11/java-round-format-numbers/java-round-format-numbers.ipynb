{
 "cells": [
  {
   "cell_type": "markdown",
   "metadata": {},
   "source": [
    "- Title: Round/Format Numbers in Java\n",
    "- Slug: java-round-format-numbers\n",
    "- Date: 2019-11-27\n",
    "- Category: Computer Science\n",
    "- Tags: programming, JVM, Java, rounding, formatting\n",
    "- Author: Ben Du\n",
    "- Modified: 2019-11-27\n"
   ]
  },
  {
   "cell_type": "markdown",
   "metadata": {},
   "source": [
    "## System.out.printf"
   ]
  },
  {
   "cell_type": "code",
   "execution_count": 3,
   "metadata": {},
   "outputs": [
    {
     "name": "stdout",
     "output_type": "stream",
     "text": [
      "Pi: 3.14"
     ]
    },
    {
     "data": {
      "text/plain": [
       "null"
      ]
     },
     "execution_count": 3,
     "metadata": {},
     "output_type": "execute_result"
    }
   ],
   "source": [
    "System.out.printf(\"Pi: %.2f\", 3.1415926)"
   ]
  },
  {
   "cell_type": "markdown",
   "metadata": {},
   "source": [
    "## String.format"
   ]
  },
  {
   "cell_type": "code",
   "execution_count": 15,
   "metadata": {},
   "outputs": [
    {
     "name": "stdout",
     "output_type": "stream",
     "text": [
      "3.14"
     ]
    },
    {
     "data": {
      "text/plain": [
       "null"
      ]
     },
     "execution_count": 15,
     "metadata": {},
     "output_type": "execute_result"
    }
   ],
   "source": [
    "String fval = String.format(\"%1.2f\", 3.1415926);\n",
    "System.out.print(fval);"
   ]
  },
  {
   "cell_type": "markdown",
   "metadata": {},
   "source": [
    "## java.text.DecimalFormat"
   ]
  },
  {
   "cell_type": "code",
   "execution_count": 9,
   "metadata": {},
   "outputs": [
    {
     "name": "stdout",
     "output_type": "stream",
     "text": [
      "3.14"
     ]
    },
    {
     "data": {
      "text/plain": [
       "null"
      ]
     },
     "execution_count": 9,
     "metadata": {},
     "output_type": "execute_result"
    }
   ],
   "source": [
    "import java.text.DecimalFormat;\n",
    "\n",
    "DecimalFormat dfmat = new DecimalFormat(\"#.##\");\n",
    "double fval = Double.valueOf(dfmat.format(3.1415926));\n",
    "System.out.print(fval);"
   ]
  },
  {
   "cell_type": "markdown",
   "metadata": {},
   "source": [
    "## Math.round"
   ]
  },
  {
   "cell_type": "code",
   "execution_count": 12,
   "metadata": {},
   "outputs": [
    {
     "name": "stdout",
     "output_type": "stream",
     "text": [
      "3.0"
     ]
    },
    {
     "data": {
      "text/plain": [
       "null"
      ]
     },
     "execution_count": 12,
     "metadata": {},
     "output_type": "execute_result"
    }
   ],
   "source": [
    "import java.lang.Math;\n",
    "\n",
    "double fval = Math.round(3.1415926);\n",
    "System.out.print(fval);"
   ]
  },
  {
   "cell_type": "code",
   "execution_count": 14,
   "metadata": {},
   "outputs": [
    {
     "name": "stdout",
     "output_type": "stream",
     "text": [
      "3.14"
     ]
    },
    {
     "data": {
      "text/plain": [
       "null"
      ]
     },
     "execution_count": 14,
     "metadata": {},
     "output_type": "execute_result"
    }
   ],
   "source": [
    "import java.lang.Math;\n",
    "\n",
    "double fval = Math.round(3.1415926 * 100) / 100.0;\n",
    "System.out.print(fval);"
   ]
  },
  {
   "cell_type": "markdown",
   "metadata": {},
   "source": [
    "## [org.apache.commons.math3.util.Precision](https://commons.apache.org/proper/commons-math/javadocs/api-3.6.1/index.html?org/apache/commons/math3/util/Precision.html)"
   ]
  },
  {
   "cell_type": "code",
   "execution_count": null,
   "metadata": {},
   "outputs": [],
   "source": [
    "import org.apache.commons.math3.util.Precision;\n",
    "\n",
    "double fval = Precision.round(3.1415926, 2);\n",
    "System.out.print(fval);"
   ]
  }
 ],
 "metadata": {
  "kernelspec": {
   "display_name": "Java",
   "language": "java",
   "name": "java"
  },
  "language_info": {
   "codemirror_mode": "text/x-java",
   "file_extension": ".java",
   "mimetype": "",
   "name": "Java",
   "nbconverter_exporter": "",
   "version": "1.8.0_222"
  }
 },
 "nbformat": 4,
 "nbformat_minor": 4
}