{
 "cells": [
  {
   "cell_type": "markdown",
   "metadata": {},
   "source": [
    "- Title: Set in Java\n",
    "- Slug: java-set\n",
    "- Date: 2019-11-22\n",
    "- Category: Computer Science\n",
    "- Tags: programming, JVM, Java, Set\n",
    "- Author: Ben Du\n",
    "- Modified: 2019-11-22\n"
   ]
  },
  {
   "cell_type": "markdown",
   "metadata": {},
   "source": [
    "## Reference"
   ]
  },
  {
   "cell_type": "code",
   "execution_count": 2,
   "metadata": {},
   "outputs": [
    {
     "name": "stdout",
     "output_type": "stream",
     "text": [
      "3\n",
      "\n",
      "20\n",
      "\n",
      "[3, 20]\n"
     ]
    },
    {
     "data": {
      "text/plain": [
       "null"
      ]
     },
     "execution_count": 2,
     "metadata": {},
     "output_type": "execute_result"
    }
   ],
   "source": [
    "import java.util.Iterator;\n",
    "import java.util.SortedSet;\n",
    "import java.util.TreeSet;\n",
    "\n",
    "SortedSet<Integer> set = new TreeSet<Integer>();\n",
    "set.add(8);\n",
    "set.add(3);\n",
    "set.add(20);\n",
    "set.remove(8);\n",
    "set.remove(9);\n",
    "set.add(20);\n",
    "Iterator<Integer> it = set.iterator();\n",
    "for(;it.hasNext();){\n",
    "    System.out.println(it.next()+\"\\n\");\n",
    "}\n",
    "System.out.println(set);"
   ]
  },
  {
   "cell_type": "code",
   "execution_count": null,
   "metadata": {},
   "outputs": [],
   "source": []
  }
 ],
 "metadata": {
  "kernelspec": {
   "display_name": "Java",
   "language": "java",
   "name": "java"
  },
  "language_info": {
   "codemirror_mode": "text/x-java",
   "file_extension": ".java",
   "mimetype": "",
   "name": "Java",
   "nbconverter_exporter": "",
   "version": "1.8.0_222"
  }
 },
 "nbformat": 4,
 "nbformat_minor": 4
}