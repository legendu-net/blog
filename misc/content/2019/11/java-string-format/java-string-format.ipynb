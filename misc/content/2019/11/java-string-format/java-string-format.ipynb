{
 "cells": [
  {
   "cell_type": "markdown",
   "metadata": {},
   "source": [
    "- Title: Format String in Java\n",
    "- Slug: java-string-format\n",
    "- Date: 2019-11-27\n",
    "- Category: Computer Science\n",
    "- Tags: programming, JVM, Java, format, string, formatting\n",
    "- Author: Ben Du\n",
    "- Modified: 2019-11-27\n"
   ]
  },
  {
   "cell_type": "markdown",
   "metadata": {},
   "source": [
    "## [StringSubstitutor](https://commons.apache.org/proper/commons-text/apidocs/org/apache/commons/text/StringSubstitutor.html)"
   ]
  },
  {
   "cell_type": "code",
   "execution_count": 6,
   "metadata": {},
   "outputs": [
    {
     "data": {
      "application/vnd.jupyter.widget-view+json": {
       "model_id": "",
       "version_major": 2,
       "version_minor": 0
      },
      "method": "display_data"
     },
     "metadata": {},
     "output_type": "display_data"
    },
    {
     "data": {
      "application/vnd.jupyter.widget-view+json": {
       "model_id": "ddb0b6ba-50b6-4a9d-a77c-186f19c19e10",
       "version_major": 2,
       "version_minor": 0
      },
      "method": "display_data"
     },
     "metadata": {},
     "output_type": "display_data"
    }
   ],
   "source": [
    "%%classpath add mvn\n",
    "org.apache.commons commons-text 1.8"
   ]
  },
  {
   "cell_type": "code",
   "execution_count": 9,
   "metadata": {},
   "outputs": [
    {
     "name": "stdout",
     "output_type": "stream",
     "text": [
      "The quick brown fox jumped over the lazy dog.\n"
     ]
    },
    {
     "data": {
      "text/plain": [
       "null"
      ]
     },
     "execution_count": 9,
     "metadata": {},
     "output_type": "execute_result"
    }
   ],
   "source": [
    "import org.apache.commons.text.StringSubstitutor;\n",
    "import java.util.Map;\n",
    "import java.util.HashMap;\n",
    "\n",
    "Map<String, String> valuesMap = new HashMap<String, String>();\n",
    "valuesMap.put(\"animal\", \"quick brown fox\");\n",
    "valuesMap.put(\"target\", \"lazy dog\");\n",
    "String templateString = \"The ${animal} jumped over the ${target}.\";\n",
    "StringSubstitutor sub = new StringSubstitutor(valuesMap);\n",
    "String resolvedString = sub.replace(templateString);\n",
    "System.out.println(resolvedString);"
   ]
  },
  {
   "cell_type": "markdown",
   "metadata": {},
   "source": [
    "## [java.text.MessageFormat](https://docs.oracle.com/javase/1.5.0/docs/api/java/text/MessageFormat.html)"
   ]
  },
  {
   "cell_type": "code",
   "execution_count": 2,
   "metadata": {},
   "outputs": [
    {
     "name": "stdout",
     "output_type": "stream",
     "text": [
      "hello world !\n"
     ]
    },
    {
     "data": {
      "text/plain": [
       "null"
      ]
     },
     "execution_count": 2,
     "metadata": {},
     "output_type": "execute_result"
    }
   ],
   "source": [
    "import java.text.MessageFormat;\n",
    "\n",
    "Object[] params = new Object[]{\"hello\", \"!\"};\n",
    "String msg = MessageFormat.format(\"{0} world {1}\", params);\n",
    "System.out.println(msg);"
   ]
  },
  {
   "cell_type": "markdown",
   "metadata": {},
   "source": [
    "## String.format"
   ]
  },
  {
   "cell_type": "code",
   "execution_count": 4,
   "metadata": {},
   "outputs": [
    {
     "name": "stdout",
     "output_type": "stream",
     "text": [
      "Hello! My name is Ben, I'm 32.\n"
     ]
    },
    {
     "data": {
      "text/plain": [
       "null"
      ]
     },
     "execution_count": 4,
     "metadata": {},
     "output_type": "execute_result"
    }
   ],
   "source": [
    "String msg = String.format(\"Hello! My name is %s, I'm %s.\", \"Ben\", 32);\n",
    "System.out.println(msg);"
   ]
  },
  {
   "cell_type": "markdown",
   "metadata": {},
   "source": [
    "## References\n",
    "\n",
    "https://stackoverflow.com/questions/3655424/string-replacement-in-java-similar-to-a-velocity-template"
   ]
  },
  {
   "cell_type": "code",
   "execution_count": null,
   "metadata": {},
   "outputs": [],
   "source": []
  }
 ],
 "metadata": {
  "kernelspec": {
   "display_name": "Java",
   "language": "java",
   "name": "java"
  },
  "language_info": {
   "codemirror_mode": "text/x-java",
   "file_extension": ".java",
   "mimetype": "",
   "name": "Java",
   "nbconverter_exporter": "",
   "version": "1.8.0_232"
  }
 },
 "nbformat": 4,
 "nbformat_minor": 4
}