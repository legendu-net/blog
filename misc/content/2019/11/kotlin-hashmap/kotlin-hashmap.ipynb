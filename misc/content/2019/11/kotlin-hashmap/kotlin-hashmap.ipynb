{
 "cells": [
  {
   "cell_type": "markdown",
   "metadata": {},
   "source": [
    "- Title: Hashmap in Kotlin \n",
    "- Slug: hashmap-kotlin\n",
    "- Date: 2019-11-22 08:58:49\n",
    "- Category: Computer Science\n",
    "- Tags: programming, Kotlin, JVM, collections, Hashmap, Hashtable, dictionary\n",
    "- Author: Ben Du\n",
    "- Modified: 2019-11-22 08:58:49\n"
   ]
  },
  {
   "cell_type": "markdown",
   "metadata": {},
   "source": [
    "## References\n",
    "\n",
    "https://kotlinlang.org/api/latest/jvm/stdlib/kotlin.collections/-map/index.html#kotlin.collections.Map\n",
    "\n",
    "1. LinkedHashMap preserves the insertion order (which is similar to dict in Python 3.7+)."
   ]
  },
  {
   "cell_type": "code",
   "execution_count": 1,
   "metadata": {},
   "outputs": [
    {
     "name": "stdout",
     "output_type": "stream",
     "text": [
      "{-1=zz, 1=x, 2=y}\n"
     ]
    },
    {
     "data": {
      "text/plain": [
       "null"
      ]
     },
     "execution_count": 1,
     "metadata": {},
     "output_type": "execute_result"
    }
   ],
   "source": [
    "val map  = hashMapOf(1 to \"x\", 2 to \"y\", -1 to \"zz\")\n",
    "println(map)"
   ]
  },
  {
   "cell_type": "markdown",
   "metadata": {},
   "source": [
    "## LinkedHashMap"
   ]
  },
  {
   "cell_type": "markdown",
   "metadata": {},
   "source": [
    "Notice that the order of keys is the same as their insertion order!"
   ]
  },
  {
   "cell_type": "code",
   "execution_count": 1,
   "metadata": {},
   "outputs": [
    {
     "name": "stdout",
     "output_type": "stream",
     "text": [
      "{1=x, 2=y, -1=zz}\n"
     ]
    }
   ],
   "source": [
    "val map = linkedMapOf(\n",
    "    1 to \"x\", 2 to \"y\", -1 to \"zz\"\n",
    ")\n",
    "println(map)"
   ]
  },
  {
   "cell_type": "code",
   "execution_count": 8,
   "metadata": {},
   "outputs": [
    {
     "name": "stdout",
     "output_type": "stream",
     "text": [
      "1 = x\n",
      "2 = y\n",
      "-1 = zz\n"
     ]
    }
   ],
   "source": [
    "for ((key, value) in map) {\n",
    "    println(\"$key = $value\")\n",
    "}"
   ]
  },
  {
   "cell_type": "code",
   "execution_count": 10,
   "metadata": {},
   "outputs": [
    {
     "name": "stdout",
     "output_type": "stream",
     "text": [
      "1 = x\n",
      "2 = y\n",
      "-1 = zz\n"
     ]
    }
   ],
   "source": [
    "map.forEach { \n",
    "    (key, value) -> println(\"$key = $value\") \n",
    "}"
   ]
  },
  {
   "cell_type": "code",
   "execution_count": 13,
   "metadata": {},
   "outputs": [
    {
     "data": {
      "text/plain": [
       "[x, y, zz]"
      ]
     },
     "execution_count": 13,
     "metadata": {},
     "output_type": "execute_result"
    }
   ],
   "source": [
    "val list: List<String> = map.map { \n",
    "    (key, value) -> value\n",
    "}\n",
    "list"
   ]
  },
  {
   "cell_type": "markdown",
   "metadata": {},
   "source": [
    "## Count Occurences of Elements in a Collection"
   ]
  },
  {
   "cell_type": "code",
   "execution_count": 3,
   "metadata": {},
   "outputs": [
    {
     "data": {
      "application/vnd.jupyter.widget-view+json": {
       "model_id": "f2101f41-30d0-457f-b6da-2e6c0e93846e",
       "version_major": 2,
       "version_minor": 0
      },
      "method": "display_data"
     },
     "metadata": {},
     "output_type": "display_data"
    }
   ],
   "source": [
    "listOf(1, 1, 3, 2, 1, 2, 4).groupingBy { it }.eachCount()"
   ]
  },
  {
   "cell_type": "markdown",
   "metadata": {},
   "source": [
    "## [mapValues](https://kotlinlang.org/api/latest/jvm/stdlib/kotlin.collections/map-values.html)"
   ]
  },
  {
   "cell_type": "markdown",
   "metadata": {},
   "source": [
    "## References\n",
    "\n",
    "https://kotlinlang.org/api/latest/jvm/stdlib/kotlin.collections/each-count.html\n",
    "\n",
    "https://kotlinlang.org/api/latest/jvm/stdlib/kotlin.collections/-hash-map/"
   ]
  },
  {
   "cell_type": "code",
   "execution_count": null,
   "metadata": {},
   "outputs": [],
   "source": []
  }
 ],
 "metadata": {
  "kernelspec": {
   "display_name": "Kotlin",
   "language": "kotlin",
   "name": "kotlin"
  },
  "language_info": {
   "codemirror_mode": "text/x-kotlin",
   "file_extension": ".kt",
   "mimetype": "text/x-kotlin",
   "name": "kotlin",
   "pygments_lexer": "kotlin",
   "version": "1.4.20-dev-2342"
  }
 },
 "nbformat": 4,
 "nbformat_minor": 4
}