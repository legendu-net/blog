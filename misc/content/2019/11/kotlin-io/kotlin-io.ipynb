{
 "cells": [
  {
   "cell_type": "markdown",
   "metadata": {},
   "source": [
    "- Title: Kotlin IO \n",
    "- Slug: kotlin-io\n",
    "- Date: 2019-11-21\n",
    "- Category: Computer Science\n",
    "- Tags: programming, Kotlin, IO\n",
    "- Author: Ben Du\n",
    "- Modified: 2019-11-21\n"
   ]
  },
  {
   "cell_type": "markdown",
   "metadata": {},
   "source": [
    "## References\n",
    "\n",
    "https://kotlinlang.org/api/latest/jvm/stdlib/kotlin.io/java.io.-file/writer.html\n",
    "\n",
    "https://kotlinlang.org/api/latest/jvm/stdlib/kotlin.io/java.io.-file/buffered-writer.html"
   ]
  },
  {
   "cell_type": "code",
   "execution_count": null,
   "metadata": {},
   "outputs": [],
   "source": [
    "File(\"/path/to/some/file\")"
   ]
  },
  {
   "cell_type": "code",
   "execution_count": null,
   "metadata": {},
   "outputs": [],
   "source": [
    "One-time write. \n",
    "Notice that it will overwrite the previous content of the file."
   ]
  },
  {
   "cell_type": "code",
   "execution_count": null,
   "metadata": {},
   "outputs": [],
   "source": [
    "File(\"/path/to/some/file\").writeText(\"string to write to file\")"
   ]
  },
  {
   "cell_type": "code",
   "execution_count": null,
   "metadata": {},
   "outputs": [],
   "source": [
    "File(\"/path/to/some/file\").writer"
   ]
  },
  {
   "cell_type": "markdown",
   "metadata": {},
   "source": [
    "The BufferedWriter is prefered most of the time."
   ]
  },
  {
   "cell_type": "code",
   "execution_count": null,
   "metadata": {},
   "outputs": [],
   "source": [
    "File(\"/path/to/some/file\").bufferedWriter"
   ]
  }
 ],
 "metadata": {
  "kernelspec": {
   "display_name": "Kotlin",
   "language": "kotlin",
   "name": "kotlin"
  },
  "language_info": {
   "codemirror_mode": "kotlin",
   "file_extension": ".kt",
   "mimetype": "",
   "name": "Kotlin",
   "nbconverter_exporter": "",
   "version": "1.2.21"
  }
 },
 "nbformat": 4,
 "nbformat_minor": 4
}