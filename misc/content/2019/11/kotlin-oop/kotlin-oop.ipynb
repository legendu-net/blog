{
 "cells": [
  {
   "cell_type": "markdown",
   "metadata": {},
   "source": [
    "- Title: OOP in Kotlin \n",
    "- Slug: hashmap-oop\n",
    "- Date: 2019-11-26\n",
    "- Category: Computer Science\n",
    "- Tags: programming, Kotlin, JVM, collections, OOP, class, inheritance\n",
    "- Author: Ben Du\n",
    "- Modified: 2019-11-26\n"
   ]
  },
  {
   "cell_type": "markdown",
   "metadata": {},
   "source": [
    "## References\n",
    "\n",
    "https://kotlinlang.org/docs/reference/classes.html\n",
    "\n",
    "https://www.baeldung.com/kotlin-constructors"
   ]
  },
  {
   "cell_type": "code",
   "execution_count": null,
   "metadata": {},
   "outputs": [],
   "source": []
  }
 ],
 "metadata": {
  "kernelspec": {
   "display_name": "Kotlin",
   "language": "kotlin",
   "name": "kotlin"
  },
  "language_info": {
   "codemirror_mode": "kotlin",
   "file_extension": ".kt",
   "mimetype": "",
   "name": "Kotlin",
   "nbconverter_exporter": "",
   "version": "1.2.21"
  }
 },
 "nbformat": 4,
 "nbformat_minor": 4
}