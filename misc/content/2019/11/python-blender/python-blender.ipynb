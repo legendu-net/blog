{
 "cells": [
  {
   "cell_type": "markdown",
   "metadata": {},
   "source": [
    "- Title: Python Scripting for Blender\n",
    "- Slug: python-blender\n",
    "- Date: 2019-11-14\n",
    "- Category: Computer Science\n",
    "- Tags: programming, Python, Blender, computer vision, CV, video, image\n",
    "- Author: Ben Du\n",
    "- Modified: 2019-11-14\n"
   ]
  },
  {
   "cell_type": "markdown",
   "metadata": {},
   "source": [
    "## References\n",
    "\n",
    "https://www.youtube.com/playlist?list=PLa1F2ddGya_-UvuAqHAksYnB0qL9yWDO6\n",
    "\n",
    "https://www.youtube.com/watch?v=pywbPQD9vYU\n",
    "\n",
    "https://blender.stackexchange.com/questions/43520/extract-sequence-of-frames-from-imported-mp4-scripted\n",
    "\n",
    "https://blenderartists.org/t/how-to-get-particular-frame-of-video-image/590889\n"
   ]
  },
  {
   "cell_type": "code",
   "execution_count": null,
   "metadata": {},
   "outputs": [],
   "source": []
  }
 ],
 "metadata": {
  "kernelspec": {
   "display_name": "Python 3",
   "language": "python",
   "name": "python3"
  },
  "language_info": {
   "codemirror_mode": {
    "name": "ipython",
    "version": 3
   },
   "file_extension": ".py",
   "mimetype": "text/x-python",
   "name": "python",
   "nbconvert_exporter": "python",
   "pygments_lexer": "ipython3",
   "version": "3.7.3"
  }
 },
 "nbformat": 4,
 "nbformat_minor": 4
}