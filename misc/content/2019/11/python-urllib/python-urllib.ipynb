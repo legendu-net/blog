{
 "cells": [
  {
   "cell_type": "markdown",
   "metadata": {},
   "source": [
    "- Title: Hands on the urllib Module in Python\n",
    "- Slug: hands-on-urlib-python\n",
    "- Date: 2019-11-02\n",
    "- Category: Computer Science\n",
    "- Tags: programming, Python, urllib, web, network\n",
    "- Author: Ben Du\n",
    "- Modified: 2019-11-02\n"
   ]
  },
  {
   "cell_type": "markdown",
   "metadata": {},
   "source": [
    "## Comments \n",
    "\n",
    "1. It is suggested that you use the requests module instead of urllib\n",
    "    unless you want to have minimal 3rd-party dependencies.\n",
    "    \n",
    "2. You have to explicit import `urllib.request` in order to use it in Python 3. \n",
    "    Please refer to https://bugs.python.org/issue36701 for more discussions. \n",
    "    This is how Python 3 intends to work generally speaking. \n",
    "    Of course, \n",
    "    there are a few exceptions such as `os.path`."
   ]
  },
  {
   "cell_type": "code",
   "execution_count": 1,
   "metadata": {},
   "outputs": [],
   "source": [
    "import urllib.request"
   ]
  },
  {
   "cell_type": "markdown",
   "metadata": {},
   "source": [
    "## urllib.request.urlopen"
   ]
  },
  {
   "cell_type": "code",
   "execution_count": 2,
   "metadata": {},
   "outputs": [],
   "source": [
    "r = urllib.request.urlopen('https://github.com/dclong/dsutil/releases/latest')"
   ]
  },
  {
   "cell_type": "code",
   "execution_count": 3,
   "metadata": {},
   "outputs": [
    {
     "data": {
      "text/plain": [
       "'https://github.com/dclong/dsutil/releases/tag/v0.10.0'"
      ]
     },
     "execution_count": 3,
     "metadata": {},
     "output_type": "execute_result"
    }
   ],
   "source": [
    "r.url"
   ]
  },
  {
   "cell_type": "markdown",
   "metadata": {},
   "source": [
    "## urllib.request.urlretrieve\n",
    "\n",
    "`urllib.request.urlretrieve` can be used to download a file from the internet to local."
   ]
  },
  {
   "cell_type": "code",
   "execution_count": 6,
   "metadata": {},
   "outputs": [],
   "source": [
    "file, obj = urllib.request.urlretrieve(\n",
    "    \"http://www.legendu.net/media/download_code_server.py\",\n",
    "    \"/tmp/download_code_server.py\"\n",
    ")"
   ]
  },
  {
   "cell_type": "code",
   "execution_count": 7,
   "metadata": {},
   "outputs": [
    {
     "data": {
      "text/plain": [
       "'/tmp/download_code_server.py'"
      ]
     },
     "execution_count": 7,
     "metadata": {},
     "output_type": "execute_result"
    }
   ],
   "source": [
    "file"
   ]
  },
  {
   "cell_type": "code",
   "execution_count": 8,
   "metadata": {},
   "outputs": [
    {
     "data": {
      "text/plain": [
       "<http.client.HTTPMessage at 0x7fe9efc404a8>"
      ]
     },
     "execution_count": 8,
     "metadata": {},
     "output_type": "execute_result"
    }
   ],
   "source": [
    "obj"
   ]
  },
  {
   "cell_type": "code",
   "execution_count": 9,
   "metadata": {},
   "outputs": [
    {
     "name": "stdout",
     "output_type": "stream",
     "text": [
      "/tmp/download_code_server.py\n"
     ]
    }
   ],
   "source": [
    "!ls /tmp/download_code_server.py"
   ]
  },
  {
   "cell_type": "code",
   "execution_count": 10,
   "metadata": {},
   "outputs": [
    {
     "data": {
      "text/plain": [
       "http.client.HTTPMessage"
      ]
     },
     "execution_count": 10,
     "metadata": {},
     "output_type": "execute_result"
    }
   ],
   "source": [
    "type(obj)"
   ]
  },
  {
   "cell_type": "code",
   "execution_count": 12,
   "metadata": {},
   "outputs": [
    {
     "data": {
      "text/plain": [
       "['__bytes__',\n",
       " '__class__',\n",
       " '__contains__',\n",
       " '__delattr__',\n",
       " '__delitem__',\n",
       " '__dict__',\n",
       " '__dir__',\n",
       " '__doc__',\n",
       " '__eq__',\n",
       " '__format__',\n",
       " '__ge__',\n",
       " '__getattribute__',\n",
       " '__getitem__',\n",
       " '__gt__',\n",
       " '__hash__',\n",
       " '__init__',\n",
       " '__init_subclass__',\n",
       " '__iter__',\n",
       " '__le__',\n",
       " '__len__',\n",
       " '__lt__',\n",
       " '__module__',\n",
       " '__ne__',\n",
       " '__new__',\n",
       " '__reduce__',\n",
       " '__reduce_ex__',\n",
       " '__repr__',\n",
       " '__setattr__',\n",
       " '__setitem__',\n",
       " '__sizeof__',\n",
       " '__str__',\n",
       " '__subclasshook__',\n",
       " '__weakref__',\n",
       " '_charset',\n",
       " '_default_type',\n",
       " '_get_params_preserve',\n",
       " '_headers',\n",
       " '_payload',\n",
       " '_unixfrom',\n",
       " 'add_header',\n",
       " 'as_bytes',\n",
       " 'as_string',\n",
       " 'attach',\n",
       " 'defects',\n",
       " 'del_param',\n",
       " 'epilogue',\n",
       " 'get',\n",
       " 'get_all',\n",
       " 'get_boundary',\n",
       " 'get_charset',\n",
       " 'get_charsets',\n",
       " 'get_content_charset',\n",
       " 'get_content_disposition',\n",
       " 'get_content_maintype',\n",
       " 'get_content_subtype',\n",
       " 'get_content_type',\n",
       " 'get_default_type',\n",
       " 'get_filename',\n",
       " 'get_param',\n",
       " 'get_params',\n",
       " 'get_payload',\n",
       " 'get_unixfrom',\n",
       " 'getallmatchingheaders',\n",
       " 'is_multipart',\n",
       " 'items',\n",
       " 'keys',\n",
       " 'policy',\n",
       " 'preamble',\n",
       " 'raw_items',\n",
       " 'replace_header',\n",
       " 'set_boundary',\n",
       " 'set_charset',\n",
       " 'set_default_type',\n",
       " 'set_param',\n",
       " 'set_payload',\n",
       " 'set_raw',\n",
       " 'set_type',\n",
       " 'set_unixfrom',\n",
       " 'values',\n",
       " 'walk']"
      ]
     },
     "execution_count": 12,
     "metadata": {},
     "output_type": "execute_result"
    }
   ],
   "source": [
    "dir(obj)"
   ]
  },
  {
   "cell_type": "code",
   "execution_count": 13,
   "metadata": {},
   "outputs": [
    {
     "data": {
      "text/plain": [
       "'Server: GitHub.com\\nContent-Type: application/octet-stream\\nLast-Modified: Fri, 24 Jan 2020 20:21:29 GMT\\nETag: \"5e2b51c9-2de\"\\nAccess-Control-Allow-Origin: *\\nExpires: Fri, 24 Jan 2020 20:34:29 GMT\\nCache-Control: max-age=600\\nX-Proxy-Cache: MISS\\nX-GitHub-Request-Id: 6ACA:869A:42BECA:4B481B:5E2B527D\\nContent-Length: 734\\nAccept-Ranges: bytes\\nDate: Fri, 24 Jan 2020 22:14:08 GMT\\nVia: 1.1 varnish\\nAge: 13\\nConnection: close\\nX-Served-By: cache-sea4477-SEA\\nX-Cache: HIT\\nX-Cache-Hits: 2\\nX-Timer: S1579904049.754540,VS0,VE0\\nVary: Accept-Encoding\\nX-Fastly-Request-ID: c6c2ef45f576ba81de6fa160a79b67dfda5beaac\\n\\n'"
      ]
     },
     "execution_count": 13,
     "metadata": {},
     "output_type": "execute_result"
    }
   ],
   "source": [
    "obj.as_string()"
   ]
  },
  {
   "cell_type": "markdown",
   "metadata": {},
   "source": [
    "## References\n",
    "\n",
    "https://stackabuse.com/download-files-with-python/\n",
    "    \n",
    "https://stackoverflow.com/questions/22676/how-do-i-download-a-file-over-http-using-python\n",
    "\n",
    "https://docs.python.org/3/library/http.client.html#http.client.HTTPResponse\n",
    "\n",
    "https://docs.python.org/3/library/urllib.request.html#module-urllib.request"
   ]
  },
  {
   "cell_type": "code",
   "execution_count": null,
   "metadata": {},
   "outputs": [],
   "source": []
  }
 ],
 "metadata": {
  "kernelspec": {
   "display_name": "Python 3",
   "language": "python",
   "name": "python3"
  },
  "language_info": {
   "codemirror_mode": {
    "name": "ipython",
    "version": 3
   },
   "file_extension": ".py",
   "mimetype": "text/x-python",
   "name": "python",
   "nbconvert_exporter": "python",
   "pygments_lexer": "ipython3",
   "version": "3.7.3"
  }
 },
 "nbformat": 4,
 "nbformat_minor": 4
}