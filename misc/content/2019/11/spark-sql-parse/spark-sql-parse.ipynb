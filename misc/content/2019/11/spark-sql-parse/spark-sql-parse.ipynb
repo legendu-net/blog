{
 "cells": [
  {
   "cell_type": "markdown",
   "metadata": {},
   "source": [
    "- Title: Read/Write CSV in Spark\n",
    "- Slug: spark-sql-parser\n",
    "- Date: 2019-11-26\n",
    "- Category: Computer Science\n",
    "- Tags: programming, Scala, Spark, CSV, text\n",
    "- Author: Ben Du\n",
    "- Modified: 2019-11-26\n"
   ]
  },
  {
   "source": [
    "## Comments \n",
    "\n",
    "\n",
    "[Writing a customized Spark SQL Parser](https://rtahboub.github.io/blog/2018/writing-customized-parser/)\n",
    "\n",
    "[Writing custom optimization in Apache Spark SQL - parser](https://www.waitingforcode.com/apache-spark-sql/writing-custom-optimization-apache-spark-sql-parser/read)\n",
    "\n",
    "[SparkSqlParser.scala](https://github.com/apache/spark/blob/master/sql/core/src/main/scala/org/apache/spark/sql/execution/SparkSqlParser.scala)\n",
    "\n",
    "[What part of Spark SQL parse SQL statements and create execution plan?](https://stackoverflow.com/questions/44242068/what-part-of-spark-sql-parse-sql-statements-and-create-execution-plan)"
   ],
   "cell_type": "markdown",
   "metadata": {}
  },
  {
   "cell_type": "code",
   "execution_count": 1,
   "metadata": {},
   "outputs": [
    {
     "data": {
      "application/vnd.jupyter.widget-view+json": {
       "model_id": "",
       "version_major": 2,
       "version_minor": 0
      },
      "method": "display_data"
     },
     "metadata": {},
     "output_type": "display_data"
    },
    {
     "data": {
      "application/vnd.jupyter.widget-view+json": {
       "model_id": "a46c7faa-03ec-442f-8737-e5b5e4dcf33f",
       "version_major": 2,
       "version_minor": 0
      },
      "method": "display_data"
     },
     "metadata": {},
     "output_type": "display_data"
    }
   ],
   "source": [
    "%%classpath add mvn\n",
    "org.apache.spark spark-core_2.11 2.3.1\n",
    "org.apache.spark spark-sql_2.11 2.3.1"
   ]
  },
  {
   "cell_type": "code",
   "execution_count": 3,
   "metadata": {},
   "outputs": [
    {
     "data": {
      "text/plain": [
       "org.apache.spark.sql.SparkSession$implicits$@11b6168c"
      ]
     },
     "execution_count": 3,
     "metadata": {},
     "output_type": "execute_result"
    }
   ],
   "source": [
    "import org.apache.spark.sql.SparkSession\n",
    "\n",
    "val spark = SparkSession\n",
    "    .builder()\n",
    "    .master(\"local[2]\")\n",
    "    .appName(\"Spark SQL Parser\")\n",
    "    .getOrCreate()\n",
    "import spark.implicits._"
   ]
  },
  {
   "cell_type": "code",
   "execution_count": 7,
   "metadata": {},
   "outputs": [
    {
     "data": {
      "text/plain": [
       "org.apache.spark.sql.execution.SparkSqlParser@2f64c196"
      ]
     },
     "execution_count": 7,
     "metadata": {},
     "output_type": "execute_result"
    }
   ],
   "source": [
    "val parser = spark.sessionState.sqlParser"
   ]
  },
  {
   "cell_type": "code",
   "execution_count": 8,
   "metadata": {},
   "outputs": [
    {
     "data": {
      "text/plain": [
       "'Project [*]\n",
       "+- 'UnresolvedRelation `nima`\n"
      ]
     },
     "execution_count": 8,
     "metadata": {},
     "output_type": "execute_result"
    }
   ],
   "source": [
    "parser.parsePlan(\"select * from nima\")"
   ]
  },
  {
   "cell_type": "code",
   "execution_count": 10,
   "metadata": {},
   "outputs": [
    {
     "data": {
      "text/plain": [
       "('select * 'from) AS nima#0"
      ]
     },
     "execution_count": 10,
     "metadata": {},
     "output_type": "execute_result"
    }
   ],
   "source": [
    "parser.parseExpression(\"select * from nima\")"
   ]
  },
  {
   "cell_type": "code",
   "execution_count": 11,
   "metadata": {},
   "outputs": [
    {
     "data": {
      "text/plain": [
       "('select * 'from)"
      ]
     },
     "execution_count": 11,
     "metadata": {},
     "output_type": "execute_result"
    }
   ],
   "source": [
    "parser.parseExpression(\"select * from\")"
   ]
  },
  {
   "cell_type": "code",
   "execution_count": 5,
   "metadata": {},
   "outputs": [
    {
     "ename": "org.apache.spark.sql.AnalysisException",
     "evalue": " Table or view not found",
     "output_type": "error",
     "traceback": [
      "\u001b[1;31morg.apache.spark.sql.AnalysisException: Table or view not found: table; line 1 pos 14\u001b[0;0m",
      "\u001b[1;31m  at org.apache.spark.sql.catalyst.analysis.package$AnalysisErrorAt.failAnalysis(package.scala:47)\u001b[0;0m",
      "\u001b[1;31m  at org.apache.spark.sql.catalyst.analysis.Analyzer$ResolveRelations$.org$apache$spark$sql$catalyst$analysis$Analyzer$ResolveRelations$$lookupTableFromCatalog(Analyzer.scala:665)\u001b[0;0m",
      "\u001b[1;31m  at org.apache.spark.sql.catalyst.analysis.Analyzer$ResolveRelations$.resolveRelation(Analyzer.scala:617)\u001b[0;0m",
      "\u001b[1;31m  at org.apache.spark.sql.catalyst.analysis.Analyzer$ResolveRelations$$anonfun$apply$8.applyOrElse(Analyzer.scala:647)\u001b[0;0m",
      "\u001b[1;31m  at org.apache.spark.sql.catalyst.analysis.Analyzer$ResolveRelations$$anonfun$apply$8.applyOrElse(Analyzer.scala:640)\u001b[0;0m",
      "\u001b[1;31m  at org.apache.spark.sql.catalyst.trees.TreeNode$$anonfun$transformUp$1.apply(TreeNode.scala:289)\u001b[0;0m",
      "\u001b[1;31m  at org.apache.spark.sql.catalyst.trees.TreeNode$$anonfun$transformUp$1.apply(TreeNode.scala:289)\u001b[0;0m",
      "\u001b[1;31m  at org.apache.spark.sql.catalyst.trees.CurrentOrigin$.withOrigin(TreeNode.scala:70)\u001b[0;0m",
      "\u001b[1;31m  at org.apache.spark.sql.catalyst.trees.TreeNode.transformUp(TreeNode.scala:288)\u001b[0;0m",
      "\u001b[1;31m  at org.apache.spark.sql.catalyst.trees.TreeNode$$anonfun$3.apply(TreeNode.scala:286)\u001b[0;0m",
      "\u001b[1;31m  at org.apache.spark.sql.catalyst.trees.TreeNode$$anonfun$3.apply(TreeNode.scala:286)\u001b[0;0m",
      "\u001b[1;31m  at org.apache.spark.sql.catalyst.trees.TreeNode$$anonfun$4.apply(TreeNode.scala:306)\u001b[0;0m",
      "\u001b[1;31m  at org.apache.spark.sql.catalyst.trees.TreeNode.mapProductIterator(TreeNode.scala:187)\u001b[0;0m",
      "\u001b[1;31m  at org.apache.spark.sql.catalyst.trees.TreeNode.mapChildren(TreeNode.scala:304)\u001b[0;0m",
      "\u001b[1;31m  at org.apache.spark.sql.catalyst.trees.TreeNode.transformUp(TreeNode.scala:286)\u001b[0;0m",
      "\u001b[1;31m  at org.apache.spark.sql.catalyst.analysis.Analyzer$ResolveRelations$.apply(Analyzer.scala:640)\u001b[0;0m",
      "\u001b[1;31m  at org.apache.spark.sql.catalyst.analysis.Analyzer$ResolveRelations$.apply(Analyzer.scala:586)\u001b[0;0m",
      "\u001b[1;31m  at org.apache.spark.sql.catalyst.rules.RuleExecutor$$anonfun$execute$1$$anonfun$apply$1.apply(RuleExecutor.scala:87)\u001b[0;0m",
      "\u001b[1;31m  at org.apache.spark.sql.catalyst.rules.RuleExecutor$$anonfun$execute$1$$anonfun$apply$1.apply(RuleExecutor.scala:84)\u001b[0;0m",
      "\u001b[1;31m  at scala.collection.LinearSeqOptimized$class.foldLeft(LinearSeqOptimized.scala:124)\u001b[0;0m",
      "\u001b[1;31m  at scala.collection.immutable.List.foldLeft(List.scala:84)\u001b[0;0m",
      "\u001b[1;31m  at org.apache.spark.sql.catalyst.rules.RuleExecutor$$anonfun$execute$1.apply(RuleExecutor.scala:84)\u001b[0;0m",
      "\u001b[1;31m  at org.apache.spark.sql.catalyst.rules.RuleExecutor$$anonfun$execute$1.apply(RuleExecutor.scala:76)\u001b[0;0m",
      "\u001b[1;31m  at scala.collection.immutable.List.foreach(List.scala:392)\u001b[0;0m",
      "\u001b[1;31m  at org.apache.spark.sql.catalyst.rules.RuleExecutor.execute(RuleExecutor.scala:76)\u001b[0;0m",
      "\u001b[1;31m  at org.apache.spark.sql.catalyst.analysis.Analyzer.org$apache$spark$sql$catalyst$analysis$Analyzer$$executeSameContext(Analyzer.scala:124)\u001b[0;0m",
      "\u001b[1;31m  at org.apache.spark.sql.catalyst.analysis.Analyzer.execute(Analyzer.scala:118)\u001b[0;0m",
      "\u001b[1;31m  at org.apache.spark.sql.catalyst.analysis.Analyzer.executeAndCheck(Analyzer.scala:103)\u001b[0;0m",
      "\u001b[1;31m  at org.apache.spark.sql.execution.QueryExecution.analyzed$lzycompute(QueryExecution.scala:57)\u001b[0;0m",
      "\u001b[1;31m  at org.apache.spark.sql.execution.QueryExecution.analyzed(QueryExecution.scala:55)\u001b[0;0m",
      "\u001b[1;31m  at org.apache.spark.sql.execution.QueryExecution.assertAnalyzed(QueryExecution.scala:47)\u001b[0;0m",
      "\u001b[1;31m  at org.apache.spark.sql.Dataset$.ofRows(Dataset.scala:74)\u001b[0;0m",
      "\u001b[1;31m  at org.apache.spark.sql.SparkSession.sql(SparkSession.scala:641)\u001b[0;0m",
      "\u001b[1;31m  ... 48 elided\u001b[0;0m",
      "\u001b[1;31mCaused by: org.apache.spark.sql.catalyst.analysis.NoSuchTableException: Table or view 'table' not found in database 'default';\u001b[0;0m",
      "\u001b[1;31m  at org.apache.spark.sql.catalyst.catalog.ExternalCatalog.requireTableExists(ExternalCatalog.scala:46)\u001b[0;0m",
      "\u001b[1;31m  at org.apache.spark.sql.catalyst.catalog.InMemoryCatalog.getTable(InMemoryCatalog.scala:326)\u001b[0;0m",
      "\u001b[1;31m  at org.apache.spark.sql.catalyst.catalog.SessionCatalog.lookupRelation(SessionCatalog.scala:669)\u001b[0;0m",
      "\u001b[1;31m  at org.apache.spark.sql.catalyst.analysis.Analyzer$ResolveRelations$.org$apache$spark$sql$catalyst$analysis$Analyzer$ResolveRelations$$lookupTableFromCatalog(Analyzer.scala:662)\u001b[0;0m",
      "\u001b[1;31m  ... 79 more\u001b[0;0m"
     ]
    }
   ],
   "source": [
    "spark.sql(\"select * from table\").queryExecution.optimizedPlan"
   ]
  },
  {
   "cell_type": "code",
   "execution_count": null,
   "metadata": {},
   "outputs": [],
   "source": []
  },
  {
   "cell_type": "markdown",
   "metadata": {},
   "source": [
    "## References\n",
    "\n",
    "https://spark.apache.org/docs/latest/api/java/index.html?org/apache/spark/sql/Dataset.html\n",
    "\n",
    "https://spark.apache.org/docs/latest/api/java/index.html?org/apache/spark/sql/functions.html\n",
    "\n",
    "https://spark.apache.org/docs/latest/api/java/org/apache/spark/sql/Row.html"
   ]
  }
 ],
 "metadata": {
  "kernelspec": {
   "display_name": "Scala",
   "language": "scala",
   "name": "scala"
  },
  "language_info": {
   "codemirror_mode": "text/x-scala",
   "file_extension": ".scala",
   "mimetype": "",
   "name": "Scala",
   "nbconverter_exporter": "",
   "version": "2.11.12"
  }
 },
 "nbformat": 4,
 "nbformat_minor": 4
}