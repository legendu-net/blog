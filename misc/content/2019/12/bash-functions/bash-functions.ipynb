{
 "cells": [
  {
   "cell_type": "markdown",
   "metadata": {},
   "source": [
    "- Title: Functions in Bash\n",
    "- Slug: bash-functions\n",
    "- Date: 2019-12-04\n",
    "- Category: Computer Science\n",
    "- Tags: programming, Bash, functions\n",
    "- Author: Ben Du\n",
    "- Modified: 2019-12-04\n"
   ]
  },
  {
   "cell_type": "markdown",
   "metadata": {},
   "source": [
    "By default, \n",
    "variables defined in a function are global,\n",
    "i.e., \n",
    "they are visible outside the function too."
   ]
  },
  {
   "cell_type": "code",
   "execution_count": 12,
   "metadata": {},
   "outputs": [
    {
     "name": "stdout",
     "output_type": "stream",
     "text": [
      "Value of x inside the function: 2\n",
      "Value of x outside the function: 2\n",
      "\n"
     ]
    }
   ],
   "source": [
    "%%bash\n",
    "\n",
    "function my_fun(){\n",
    "    x=1\n",
    "    x=2\n",
    "    echo \"Value of x inside the function: \"$x\n",
    "}\n",
    "\n",
    "my_fun\n",
    "\n",
    "echo \"Value of x outside the function: \"$x"
   ]
  },
  {
   "cell_type": "markdown",
   "metadata": {},
   "source": [
    "Declaring a variable as `local` make it visible only in the function."
   ]
  },
  {
   "cell_type": "code",
   "execution_count": 11,
   "metadata": {},
   "outputs": [
    {
     "name": "stdout",
     "output_type": "stream",
     "text": [
      "Value of x inside the function: 2\n",
      "Value of x outside the function: \n",
      "\n"
     ]
    }
   ],
   "source": [
    "%%bash\n",
    "\n",
    "function my_fun(){\n",
    "    local x=1\n",
    "    x=2\n",
    "    echo \"Value of x inside the function: \"$x\n",
    "}\n",
    "\n",
    "my_fun\n",
    "\n",
    "echo \"Value of x outside the function: \"$x"
   ]
  },
  {
   "cell_type": "markdown",
   "metadata": {},
   "source": [
    "You can declare a variable as `local` multiple times (which is different from other programming languages),\n",
    "but of course, \n",
    "only the first `local` declaration of a variable is necessary \n",
    "and the following `local` declaration of the same variable are useless and redundant."
   ]
  },
  {
   "cell_type": "code",
   "execution_count": 13,
   "metadata": {},
   "outputs": [
    {
     "name": "stdout",
     "output_type": "stream",
     "text": [
      "Value of x inside the function: 2\n",
      "Value of x outside the function: \n",
      "\n"
     ]
    }
   ],
   "source": [
    "%%bash\n",
    "\n",
    "function my_fun(){\n",
    "    local x=1\n",
    "    local x=2\n",
    "    echo \"Value of x inside the function: \"$x\n",
    "}\n",
    "\n",
    "my_fun\n",
    "\n",
    "echo \"Value of x outside the function: \"$x"
   ]
  },
  {
   "cell_type": "markdown",
   "metadata": {},
   "source": [
    "If you have a `global` variable in a function\n",
    "and then declare it as `local`. \n",
    "The last value before it is declared as `local` is still visible outside the function."
   ]
  },
  {
   "cell_type": "code",
   "execution_count": 14,
   "metadata": {},
   "outputs": [
    {
     "name": "stdout",
     "output_type": "stream",
     "text": [
      "Value of x inside the function: 2\n",
      "Value of x outside the function: 1\n",
      "\n"
     ]
    }
   ],
   "source": [
    "%%bash\n",
    "\n",
    "function my_fun(){\n",
    "    x=1\n",
    "    local x=2\n",
    "    echo \"Value of x inside the function: \"$x\n",
    "}\n",
    "\n",
    "my_fun\n",
    "\n",
    "echo \"Value of x outside the function: \"$x"
   ]
  },
  {
   "cell_type": "markdown",
   "metadata": {},
   "source": [
    "By default,\n",
    "loop variables are global. \n",
    "However, \n",
    "you can declare them as local before using them."
   ]
  },
  {
   "cell_type": "code",
   "execution_count": 17,
   "metadata": {},
   "outputs": [
    {
     "name": "stdout",
     "output_type": "stream",
     "text": [
      "1\n",
      "2\n",
      "3\n",
      "Value of i inside the function: 3\n",
      "Value of i outside the function: 3\n",
      "\n"
     ]
    }
   ],
   "source": [
    "%%bash\n",
    "\n",
    "function my_fun(){\n",
    "    for i in {1..3}; do\n",
    "        echo $i\n",
    "    done\n",
    "    echo \"Value of i inside the function: \"$i\n",
    "}\n",
    "\n",
    "my_fun\n",
    "\n",
    "echo \"Value of i outside the function: \"$i"
   ]
  },
  {
   "cell_type": "code",
   "execution_count": 19,
   "metadata": {},
   "outputs": [
    {
     "name": "stdout",
     "output_type": "stream",
     "text": [
      "1\n",
      "2\n",
      "3\n",
      "Value of i inside the function: 3\n",
      "Value of i outside the function: \n",
      "\n"
     ]
    }
   ],
   "source": [
    "%%bash\n",
    "\n",
    "function my_fun(){\n",
    "    local i\n",
    "    for i in {1..3}; do\n",
    "        echo $i\n",
    "    done\n",
    "    echo \"Value of i inside the function: \"$i\n",
    "}\n",
    "\n",
    "my_fun\n",
    "\n",
    "echo \"Value of i outside the function: \"$i"
   ]
  },
  {
   "cell_type": "code",
   "execution_count": null,
   "metadata": {},
   "outputs": [],
   "source": []
  }
 ],
 "metadata": {
  "kernelspec": {
   "display_name": "Java",
   "language": "java",
   "name": "java"
  },
  "language_info": {
   "codemirror_mode": "text/x-java",
   "file_extension": ".java",
   "mimetype": "",
   "name": "Java",
   "nbconverter_exporter": "",
   "version": "1.8.0_222"
  }
 },
 "nbformat": 4,
 "nbformat_minor": 4
}