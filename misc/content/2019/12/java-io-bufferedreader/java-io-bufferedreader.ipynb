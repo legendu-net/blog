{
 "cells": [
  {
   "cell_type": "markdown",
   "metadata": {},
   "source": [
    "- Title: BufferedReader in Java IO\n",
    "- Slug: java-io-bufferedreader\n",
    "- Date: 2019-12-19\n",
    "- Category: Computer Science\n",
    "- Tags: programming, JVM, Java, IO, BufferedReader\n",
    "- Author: Ben Du\n",
    "- Modified: 2019-12-19\n"
   ]
  },
  {
   "cell_type": "markdown",
   "metadata": {},
   "source": [
    "## Comemnt\n",
    "\n",
    "1. The methods `BufferedRead.readLine` and `BufferedRead.lines` \n",
    "    are very helpful for reading text Files."
   ]
  },
  {
   "cell_type": "markdown",
   "metadata": {},
   "source": [
    "## public String [BufferedRead.readLine](https://docs.oracle.com/javase/8/docs/api/java/io/BufferedReader.html#readLine--)\n",
    "\n",
    "Reads a line of text. A line is considered to be terminated by any one of a line feed ('\\n'), a carriage return ('\\r'), or a carriage return followed immediately by a linefeed."
   ]
  },
  {
   "cell_type": "markdown",
   "metadata": {},
   "source": [
    "## public Stream\\<String\\> [BufferedRead.lines](https://docs.oracle.com/javase/8/docs/api/java/io/BufferedReader.html#lines--)\n",
    "\n",
    "Returns a Stream, the elements of which are lines read from this BufferedReader. The Stream is lazily populated, i.e., read only occurs during the terminal stream operation.\n",
    "The reader must not be operated on during the execution of the terminal stream operation. Otherwise, the result of the terminal stream operation is undefined.\n",
    "\n",
    "After execution of the terminal stream operation there are no guarantees that the reader will be at a specific position from which to read the next character or line.\n",
    "\n",
    "If an IOException is thrown when accessing the underlying BufferedReader, it is wrapped in an UncheckedIOException which will be thrown from the Stream method that caused the read to take place. This method will return a Stream if invoked on a BufferedReader that is closed. Any operation on that stream that requires reading from the BufferedReader after it is closed, will cause an UncheckedIOException to be thrown."
   ]
  },
  {
   "cell_type": "markdown",
   "metadata": {},
   "source": [
    "## Create a BufferedReader from a InputStream\n",
    "\n",
    "https://stackoverflow.com/questions/5200187/convert-inputstream-to-bufferedreader/5200228"
   ]
  },
  {
   "cell_type": "code",
   "execution_count": null,
   "metadata": {},
   "outputs": [],
   "source": [
    "BufferedReader br = new BufferedReader(new InputStreamReader(is, \"UTF-8\"));"
   ]
  },
  {
   "cell_type": "markdown",
   "metadata": {},
   "source": [
    "## References\n",
    "\n",
    "https://docs.oracle.com/javase/8/docs/api/java/io/BufferedReader.html\n",
    "\n",
    "https://stackoverflow.com/questions/5200187/convert-inputstream-to-bufferedreader/5200228"
   ]
  }
 ],
 "metadata": {
  "kernelspec": {
   "display_name": "Java",
   "language": "java",
   "name": "java"
  },
  "language_info": {
   "codemirror_mode": "text/x-java",
   "file_extension": ".java",
   "mimetype": "",
   "name": "Java",
   "nbconverter_exporter": "",
   "version": "1.8.0_222"
  }
 },
 "nbformat": 4,
 "nbformat_minor": 4
}