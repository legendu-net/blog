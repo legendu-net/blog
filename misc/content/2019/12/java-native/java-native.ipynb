{
 "cells": [
  {
   "cell_type": "markdown",
   "metadata": {},
   "source": [
    "- Title: Java Native Access\n",
    "- Slug: java-native-access\n",
    "- Date: 2019-12-31 11:08:56\n",
    "- Category: Computer Science\n",
    "- Tags: programming, JVM, Java, JNA, Java Native Access\n",
    "- Author: Ben Du\n",
    "- Modified: 2019-12-31 11:08:56\n"
   ]
  },
  {
   "cell_type": "markdown",
   "metadata": {},
   "source": [
    "## Java Native Interface\n",
    "\n",
    "1. You can call native code (typically C, C++ or Fortran) in Java using the Java Native Interface (JNI). \n",
    "    For the code implemented in native code, \n",
    "    you must use keyword \"native\" to tell the compiler that it is implemented outside Java. \n",
    "    Also, \n",
    "    you should surround the Java code which load the compile native code in `static{}` \n",
    "    (i.e. static initialized). \n",
    "    This will get executed when Java load the class. \n",
    "    For more information, please refer to Calling C library Routines from Java\n",
    "    \n",
    "2. [javacpp](https://github.com/bytedeco/javacpp) seems to be another good option.\n",
    "    \n",
    "## Java Native Access\n",
    "\n",
    "1. Java Native Access is a more convenient way to call native code than the Java Native Interface.\n",
    "    It is based on Java Native Interface"
   ]
  },
  {
   "cell_type": "markdown",
   "metadata": {},
   "source": [
    "An example of calling a system DLL/SO/dynamic load."
   ]
  },
  {
   "cell_type": "code",
   "execution_count": null,
   "metadata": {},
   "outputs": [],
   "source": [
    "\n",
    "import com.sun.jna.Library;\n",
    "import com.sun.jna.Native;\n",
    "import com.sun.jna.Platform;\n",
    "\n",
    "public class TestSystemDLL {\n",
    "\tpublic interface CLibrary extends Library {\n",
    "        CLibrary INSTANCE = (CLibrary)\n",
    "            Native.loadLibrary((Platform.isWindows() ? \"msvcrt\" : \"c\"),\n",
    "                               CLibrary.class);\n",
    "   \n",
    "        void printf(String format, Object... args);\n",
    "    }\n",
    " \n",
    "    public static void main(String[] args) {\n",
    "        CLibrary.INSTANCE.printf(\"Hello, World\\n\");\n",
    "        for (int i=0;i < args.length;i++) {\n",
    "            CLibrary.INSTANCE.printf(\"Argument %d: %s\\n\", i, args[i]);\n",
    "        }\n",
    "    }\n",
    "}"
   ]
  },
  {
   "cell_type": "markdown",
   "metadata": {},
   "source": [
    "An example of calling a user SO."
   ]
  },
  {
   "cell_type": "code",
   "execution_count": null,
   "metadata": {},
   "outputs": [],
   "source": [
    "import com.sun.jna.Library;\n",
    "import com.sun.jna.Native;\n",
    "\n",
    "public class TestUserDLL {\n",
    "\tpublic interface MyDLL extends Library {\n",
    "\t\t\n",
    "\t\tMyDLL INSTANCE = (MyDLL) Native.loadLibrary(\"/home/dclong/test/sum.so\",\n",
    "\t\t\t\tMyDLL.class);\n",
    "\n",
    "\t\tpublic double sum(double x, double y);\n",
    "\n",
    "\t}\n",
    "\n",
    "\tpublic static void main(String[] args) {\n",
    "\t\tSystem.out.println(MyDLL.INSTANCE.sum(1,2));\n",
    "\t}\n",
    "}"
   ]
  },
  {
   "cell_type": "markdown",
   "metadata": {},
   "source": [
    "## References\n",
    "\n",
    "https://www.codepool.biz/package-jni-shared-library-jar-file.html"
   ]
  },
  {
   "cell_type": "code",
   "execution_count": null,
   "metadata": {},
   "outputs": [],
   "source": []
  }
 ],
 "metadata": {
  "kernelspec": {
   "display_name": "Java",
   "language": "java",
   "name": "java"
  },
  "language_info": {
   "codemirror_mode": "text/x-java",
   "file_extension": ".java",
   "mimetype": "",
   "name": "Java",
   "nbconverter_exporter": "",
   "version": "1.8.0_232"
  }
 },
 "nbformat": 4,
 "nbformat_minor": 4
}