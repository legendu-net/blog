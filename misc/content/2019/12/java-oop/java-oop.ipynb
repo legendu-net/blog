{
 "cells": [
  {
   "cell_type": "markdown",
   "metadata": {},
   "source": [
    "- Title: Object Oriented Programming in Java\n",
    "- Slug: java-oop\n",
    "- Date: 2019-12-22\n",
    "- Category: Computer Science\n",
    "- Tags: programming, Java, OOP, class, static\n",
    "- Author: Ben Du\n",
    "- Modified: 2019-12-22\n"
   ]
  },
  {
   "cell_type": "markdown",
   "metadata": {},
   "source": [
    "## Tips and Traps\n",
    "\n",
    "1. A static method cannot be abstract in Java. \n",
    "    For refer to \n",
    "    [this discussion on Stackoverflow](https://stackoverflow.com/questions/370962/why-cant-static-methods-be-abstract-in-java)\n",
    "    for rationale behind it. \n",
    "    If you need the two together, \n",
    "    what you are looking is probably singleton object with inheritance.\n",
    "    \n",
    "2. Singleton objects are more flexible and useful than static methods in Java.\n",
    "    Please refer to [Singleton Pattern Versus Static Class](http://net-informations.com/faq/netfaq/singlestatic.htm)\n",
    "    for more details.\n",
    "    \n",
    "3. Override is a concept specific to methods in class in Java.\n",
    "    A variable in a class cannot be override in Java. \n",
    "    You have to either change the value of the variable to the one want in a subclass\n",
    "    (if you don't need a different type)\n",
    "    or define a variable with the same name in the subclass \n",
    "    to hide the variable in the super class \n",
    "    (if you need a different type).\n",
    "\n",
    "4. The methods `hashCode` and `equals` belong closely together.\n",
    "    You should override both or neither.\n",
    "    Please refer to\n",
    "    [Java equals() and hashCode() Contracts](https://www.baeldung.com/java-equals-hashcode-contracts)\n",
    "    and\n",
    "    [Why do I need to override the equals and hashCode methods in Java?](https://stackoverflow.com/questions/2265503/why-do-i-need-to-override-the-equals-and-hashcode-methods-in-java)\n",
    "    for more discussions.\n",
    "    Notice that this principle applies to other OOP programming languages as well,\n",
    "    not just Java."
   ]
  },
  {
   "cell_type": "markdown",
   "metadata": {},
   "source": [
    "## References\n",
    "\n",
    "https://stackoverflow.com/questions/370962/why-cant-static-methods-be-abstract-in-java\n",
    "\n",
    "http://net-informations.com/faq/netfaq/singlestatic.htm\n",
    "\n",
    "[Controlling Access to Members of a Class](https://docs.oracle.com/javase/tutorial/java/javaOO/accesscontrol.html)\n",
    "\n",
    "https://stackoverflow.com/questions/215497/what-is-the-difference-between-public-protected-package-private-and-private-in"
   ]
  }
 ],
 "metadata": {
  "kernelspec": {
   "display_name": "Java",
   "language": "java",
   "name": "java"
  },
  "language_info": {
   "codemirror_mode": "text/x-java",
   "file_extension": ".java",
   "mimetype": "",
   "name": "Java",
   "nbconverter_exporter": "",
   "version": "1.8.0_232"
  }
 },
 "nbformat": 4,
 "nbformat_minor": 4
}