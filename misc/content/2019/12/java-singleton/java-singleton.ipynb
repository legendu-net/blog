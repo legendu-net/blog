{
 "cells": [
  {
   "cell_type": "markdown",
   "metadata": {},
   "source": [
    "- Title: Implement Singleton in Java\n",
    "- Slug: java-singleton\n",
    "- Date: 2019-12-22\n",
    "- Category: Computer Science\n",
    "- Tags: programming, Java, singleton, class, \n",
    "- Author: Ben Du\n",
    "- Modified: 2019-12-22\n"
   ]
  },
  {
   "cell_type": "markdown",
   "metadata": {},
   "source": [
    "An implementation of the singleton pattern must:\n",
    "\n",
    "- ensure that only one instance of the singleton class ever exists; \n",
    "- and provide global access to that instance.\n",
    "\n",
    "Typically, this is done by:\n",
    "\n",
    "- declaring all constructors of the class to be private; \n",
    "- and providing a static method that returns a reference to the instance.\n",
    "\n",
    "The instance is usually stored as a private static variable; \n",
    "the instance is created when the variable is initialized, \n",
    "at some point before the static method is first called. \n",
    "The following is a sample implementation written in Java."
   ]
  },
  {
   "cell_type": "code",
   "execution_count": null,
   "metadata": {},
   "outputs": [],
   "source": [
    "public final class Singleton {\n",
    "\n",
    "    private static final Singleton INSTANCE = new Singleton();\n",
    "\n",
    "    private Singleton() {}\n",
    "\n",
    "    public static Singleton getInstance() {\n",
    "        return INSTANCE;\n",
    "    }\n",
    "}"
   ]
  },
  {
   "cell_type": "markdown",
   "metadata": {},
   "source": [
    "## Singleton Implementation Using the Initialization-on-demond Holder Idiom"
   ]
  },
  {
   "cell_type": "code",
   "execution_count": null,
   "metadata": {},
   "outputs": [],
   "source": [
    "public class Something {\n",
    "    private Something() {}\n",
    "\n",
    "    private static class LazyHolder {\n",
    "        static final Something INSTANCE = new Something();\n",
    "    }\n",
    "\n",
    "    public static Something getInstance() {\n",
    "        return LazyHolder.INSTANCE;\n",
    "    }\n",
    "}"
   ]
  },
  {
   "cell_type": "markdown",
   "metadata": {},
   "source": [
    "## References\n",
    "\n",
    "https://en.wikipedia.org/wiki/Singleton_pattern\n",
    "\n",
    "https://en.wikipedia.org/wiki/Initialization-on-demand_holder_idiom"
   ]
  }
 ],
 "metadata": {
  "kernelspec": {
   "display_name": "Java",
   "language": "java",
   "name": "java"
  },
  "language_info": {
   "codemirror_mode": "text/x-java",
   "file_extension": ".java",
   "mimetype": "",
   "name": "Java",
   "nbconverter_exporter": "",
   "version": "1.8.0_232"
  }
 },
 "nbformat": 4,
 "nbformat_minor": 4
}