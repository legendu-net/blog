{
 "cells": [
  {
   "cell_type": "markdown",
   "metadata": {},
   "source": [
    "- Title: String in Java\n",
    "- Slug: java-string\n",
    "- Date: 2019-12-20\n",
    "- Category: Computer Science\n",
    "- Tags: programming, JVM, Java, string\n",
    "- Author: Ben Du\n",
    "- Modified: 2019-12-20\n"
   ]
  },
  {
   "cell_type": "markdown",
   "metadata": {},
   "source": [
    "## Comments\n",
    "\n",
    "1. String is a immutable class in Java. \n",
    "    Extensive operations on strings (e.g., `+` in a big loop) is usually very slow before Java 7\n",
    "    (the `+` operator is optimized by the compiler automatically starting from Java 7).\n",
    "    To avoid this problem (in older versions of Java), \n",
    "    you can use the `StringBuilder` class instead to improve performance. \n",
    "    The `StringBuilder` class is mutable. \n",
    "    When you make operations on a `StringBuilder` object, \n",
    "    the original object is mutated (unlike the `String` class)\n",
    "    and returns the (mutated) original object.\n",
    "    Except improvement of performance, \n",
    "    the `StringBuilder` class also offer many other useful methods \n",
    "    for string operations that are not included in the `String` class. \n",
    "\n",
    "2. If you want to read or write large text (e.g. more than 100M), \n",
    "    you can use `BufferedRead` and `BufferedWriter` to improve performance.\n",
    "\n",
    "3. There is no built-in sort method for String. \n",
    "    To sort characters in a string,\n",
    "    you can first convert the string into a char array,\n",
    "    sort the char array and convert back.\n",
    "\n",
    "4. You want to the equals method to compare string most of time \n",
    "    unless you know for sure that comparing references is the right way."
   ]
  },
  {
   "cell_type": "markdown",
   "metadata": {},
   "source": [
    "## String.split"
   ]
  },
  {
   "cell_type": "markdown",
   "metadata": {},
   "source": [
    "Splitting an empty string results in a String array containing a single empty string.\n",
    "That is a String array of length 1 (instead of an emtpy String array) is return!\n",
    "Be aware of it as it might or might not what you want."
   ]
  },
  {
   "cell_type": "code",
   "execution_count": 3,
   "metadata": {},
   "outputs": [
    {
     "name": "stdout",
     "output_type": "stream",
     "text": [
      "1\n"
     ]
    },
    {
     "data": {
      "text/plain": [
       "null"
      ]
     },
     "execution_count": 3,
     "metadata": {},
     "output_type": "execute_result"
    }
   ],
   "source": [
    "String[] arr = \"\".split(\" \");\n",
    "System.out.println(arr.length);"
   ]
  },
  {
   "cell_type": "code",
   "execution_count": null,
   "metadata": {},
   "outputs": [],
   "source": []
  }
 ],
 "metadata": {
  "kernelspec": {
   "display_name": "Java",
   "language": "java",
   "name": "java"
  },
  "language_info": {
   "codemirror_mode": "text/x-java",
   "file_extension": ".java",
   "mimetype": "",
   "name": "Java",
   "nbconverter_exporter": "",
   "version": "1.8.0_232"
  }
 },
 "nbformat": 4,
 "nbformat_minor": 4
}