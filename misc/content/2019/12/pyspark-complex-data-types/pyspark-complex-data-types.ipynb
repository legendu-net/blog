{
 "cells": [
  {
   "cell_type": "markdown",
   "metadata": {},
   "source": [
    "- Title: Handling Complex Data Types in Spark DataFrame\n",
    "- Slug: pyspark-handling-complex-data-types\n",
    "- Date: 2019-12-18\n",
    "- Category: Computer Science\n",
    "- Tags: programming, Scala, Spark, DataFrame, complex data types, StructType, ArrayTypes\n",
    "- Author: Ben Du\n",
    "- Modified: 2019-12-18\n"
   ]
  },
  {
   "cell_type": "markdown",
   "metadata": {},
   "source": [
    "## Comemnts\n",
    "\n",
    "There are multiple ways (vanilla string, JSON string, StructType and ArrayType) to represent complex data types in Spark DataFrames.\n",
    "Notice that a Tuple is converted to a StructType in Spark DataFrames\n",
    "and an Array is converted to a ArrayType in Spark DataFrames.\n",
    "Starting from Spark 2.4, \n",
    "you can use ArrayType which is more convenient if the elements have the same type.\n",
    "\n",
    "### Vanilla String\n",
    "\n",
    "- string, substring, regexp_extract, locate, left, concat_ws\n",
    "\n",
    "### JSON String\n",
    "\n",
    "- json_tuple\n",
    "- get_json_object\n",
    "- from_json\n",
    "\n",
    "### StructType\n",
    "\n",
    "\n",
    "\n",
    "### ArrayType\n",
    "\n",
    "- array\n",
    "- element_at\n",
    "- array_min, array_max, array_join, array_interesect, array_except, array_distinct, array_contains, array, array_position, array_remove, array_repeat, array_sort, array_union, array_overlap, array_zip\n"
   ]
  },
  {
   "cell_type": "code",
   "execution_count": 1,
   "metadata": {},
   "outputs": [],
   "source": [
    "from pathlib import Path\n",
    "import findspark\n",
    "findspark.init(str(next(Path(\"/opt\").glob(\"spark-3*\"))))\n",
    "\n",
    "from pyspark.sql import SparkSession, DataFrame\n",
    "from pyspark.sql.functions import *\n",
    "from pyspark.sql.types import StructType\n",
    "spark = SparkSession.builder.appName(\"PySpark_Str_Func\") \\\n",
    "    .enableHiveSupport().getOrCreate()"
   ]
  },
  {
   "cell_type": "markdown",
   "metadata": {},
   "source": [
    "## explode"
   ]
  },
  {
   "cell_type": "code",
   "execution_count": 4,
   "metadata": {},
   "outputs": [
    {
     "name": "stdout",
     "output_type": "stream",
     "text": [
      "+---------------+\n",
      "|          words|\n",
      "+---------------+\n",
      "|[how, are, you]|\n",
      "+---------------+\n",
      "\n"
     ]
    }
   ],
   "source": [
    "spark.sql(\"\"\"\n",
    "    select\n",
    "        split(\"how are you\", \" \") as words\n",
    "    \"\"\").show()"
   ]
  },
  {
   "cell_type": "code",
   "execution_count": 3,
   "metadata": {},
   "outputs": [
    {
     "name": "stdout",
     "output_type": "stream",
     "text": [
      "+-----+\n",
      "|words|\n",
      "+-----+\n",
      "|  how|\n",
      "|  are|\n",
      "|  you|\n",
      "+-----+\n",
      "\n"
     ]
    }
   ],
   "source": [
    "spark.sql(\"\"\"\n",
    "    select\n",
    "        explode(split(\"how are you\", \" \")) as words\n",
    "    \"\"\").show()"
   ]
  },
  {
   "cell_type": "markdown",
   "metadata": {},
   "source": [
    "## collect"
   ]
  },
  {
   "cell_type": "markdown",
   "metadata": {},
   "source": [
    "## Work with StructType\n",
    "\n",
    "Notice that a Tuple is converted to StructType in Spark DataFrames."
   ]
  },
  {
   "cell_type": "code",
   "execution_count": 6,
   "metadata": {},
   "outputs": [
    {
     "name": "stdout",
     "output_type": "stream",
     "text": [
      "+------+----+\n",
      "|  col1|col2|\n",
      "+------+----+\n",
      "|[1, 2]| how|\n",
      "|[2, 3]| are|\n",
      "|[3, 4]| you|\n",
      "+------+----+\n",
      "\n"
     ]
    },
    {
     "data": {
      "text/plain": [
       "null"
      ]
     },
     "execution_count": 6,
     "metadata": {},
     "output_type": "execute_result"
    }
   ],
   "source": [
    "val df = Seq(\n",
    "    ((1, 2), \"how\"),\n",
    "    ((2, 3), \"are\"),\n",
    "    ((3, 4), \"you\")\n",
    ").toDF(\"col1\", \"col2\")\n",
    "df.show"
   ]
  },
  {
   "cell_type": "markdown",
   "metadata": {},
   "source": [
    "Split all elements of a StructType into different columns."
   ]
  },
  {
   "cell_type": "code",
   "execution_count": 15,
   "metadata": {},
   "outputs": [
    {
     "name": "stdout",
     "output_type": "stream",
     "text": [
      "+---+---+\n",
      "| _1| _2|\n",
      "+---+---+\n",
      "|  1|  2|\n",
      "|  2|  3|\n",
      "|  3|  4|\n",
      "+---+---+\n",
      "\n"
     ]
    }
   ],
   "source": [
    "df.select(\"col1.*\").show"
   ]
  },
  {
   "cell_type": "markdown",
   "metadata": {},
   "source": [
    "Extract elements from StructTypes by position and rename the columns."
   ]
  },
  {
   "cell_type": "code",
   "execution_count": 16,
   "metadata": {},
   "outputs": [
    {
     "name": "stdout",
     "output_type": "stream",
     "text": [
      "+---+---+\n",
      "| v1| v2|\n",
      "+---+---+\n",
      "|  1|  2|\n",
      "|  2|  3|\n",
      "|  3|  4|\n",
      "+---+---+\n",
      "\n"
     ]
    }
   ],
   "source": [
    "df.select(\n",
    "    $\"col1._1\".alias(\"v1\"),\n",
    "    $\"col1._2\".alias(\"v2\")\n",
    ").show"
   ]
  },
  {
   "cell_type": "markdown",
   "metadata": {},
   "source": [
    "## Work with ArrayType\n",
    "\n",
    "Notice that an Array is converted to an ArrayType in Spark DataFrames.\n",
    "Note: ArrayType requires Spark 2.4.0+."
   ]
  },
  {
   "cell_type": "code",
   "execution_count": 17,
   "metadata": {},
   "outputs": [
    {
     "name": "stdout",
     "output_type": "stream",
     "text": [
      "+------+----+\n",
      "|  col1|col2|\n",
      "+------+----+\n",
      "|[1, 2]| how|\n",
      "|[2, 3]| are|\n",
      "|[3, 4]| you|\n",
      "+------+----+\n",
      "\n"
     ]
    },
    {
     "data": {
      "text/plain": [
       "null"
      ]
     },
     "execution_count": 17,
     "metadata": {},
     "output_type": "execute_result"
    }
   ],
   "source": [
    "val df = Seq(\n",
    "    (Array(1, 2), \"how\"),\n",
    "    (Array(2, 3), \"are\"),\n",
    "    (Array(3, 4), \"you\")\n",
    ").toDF(\"col1\", \"col2\")\n",
    "df.show"
   ]
  },
  {
   "cell_type": "code",
   "execution_count": 22,
   "metadata": {},
   "outputs": [
    {
     "name": "stdout",
     "output_type": "stream",
     "text": [
      "+---+---+\n",
      "| v1| v2|\n",
      "+---+---+\n",
      "|  1|  2|\n",
      "|  2|  3|\n",
      "|  3|  4|\n",
      "+---+---+\n",
      "\n"
     ]
    }
   ],
   "source": [
    "df.select(\n",
    "    element_at($\"col1\", 1).alias(\"v1\"),\n",
    "    element_at($\"col1\", 2).alias(\"v2\")\n",
    ").show"
   ]
  },
  {
   "cell_type": "markdown",
   "metadata": {},
   "source": [
    "## References\n",
    "\n",
    "https://docs.databricks.com/_static/notebooks/transform-complex-data-types-scala.html\n",
    "\n",
    "https://stackoverflow.com/questions/45789489/how-to-split-a-list-to-multiple-columns-in-pyspark?noredirect=1&lq=1\n",
    "\n",
    "https://spark.apache.org/docs/latest/api/java/index.html?org/apache/spark/sql/Dataset.html\n",
    "\n",
    "https://spark.apache.org/docs/latest/api/java/index.html?org/apache/spark/sql/functions.html\n",
    "\n",
    "https://spark.apache.org/docs/latest/api/java/org/apache/spark/sql/Row.html"
   ]
  }
 ],
 "metadata": {
  "kernelspec": {
   "display_name": "Python 3",
   "language": "python",
   "name": "python3"
  },
  "language_info": {
   "codemirror_mode": {
    "name": "ipython",
    "version": 3
   },
   "file_extension": ".py",
   "mimetype": "text/x-python",
   "name": "python",
   "nbconvert_exporter": "python",
   "pygments_lexer": "ipython3",
   "version": "3.8.5"
  }
 },
 "nbformat": 4,
 "nbformat_minor": 4
}