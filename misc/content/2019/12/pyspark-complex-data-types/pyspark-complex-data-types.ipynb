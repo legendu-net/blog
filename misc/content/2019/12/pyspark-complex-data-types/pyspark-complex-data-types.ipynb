{
 "cells": [
  {
   "cell_type": "markdown",
   "metadata": {},
   "source": [
    "- Title: Handling Complex Data Types in Spark DataFrame\n",
    "- Slug: pyspark-handling-complex-data-types\n",
    "- Date: 2019-12-18\n",
    "- Category: Computer Science\n",
    "- Author: Ben Du\n",
    "- Modified: 2019-12-18\n"
   ]
  }
 ],
 "metadata": {
  "kernelspec": {
   "display_name": "Python 3 (ipykernel)",
   "language": "python",
   "name": "python3"
  },
  "language_info": {
   "codemirror_mode": {
    "name": "ipython",
    "version": 3
   },
   "file_extension": ".py",
   "mimetype": "text/x-python",
   "name": "python",
   "nbconvert_exporter": "python",
   "pygments_lexer": "ipython3",
   "version": "3.8.10"
  }
 },
 "nbformat": 4,
 "nbformat_minor": 4
}
