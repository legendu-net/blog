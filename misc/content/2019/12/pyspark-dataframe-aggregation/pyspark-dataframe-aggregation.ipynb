{
 "cells": [
  {
   "cell_type": "markdown",
   "metadata": {},
   "source": [
    "- Title: Aggregate DataFrames in Spark\n",
    "- Slug: pyspark-dataframe-aggregation\n",
    "- Date: 2019-12-20\n",
    "- Category: Computer Science\n",
    "- Tags: programming, Scala, Spark, DataFrame, aggregation, group by\n",
    "- Author: Ben Du\n",
    "- Modified: 2019-12-20\n"
   ]
  },
  {
   "cell_type": "markdown",
   "metadata": {},
   "source": [
    "## Aggregation Without Grouping\n",
    "\n",
    "1. You can aggregate all values in Columns of a DataFrame.\n",
    "    Just use aggregation functions in `select` without `groupBy`,\n",
    "    which is very similar to SQL syntax.\n",
    "    \n",
    "2. The aggregation functions `all` and `any` are available since Spark 3.0. \n",
    "    However,\n",
    "    they can be achieved using other aggregation functions such as `sum` and `count`\n",
    "    in earlier versions.\n",
    "    \n",
    "3. You can use both column expression and column names in aggreagation functions."
   ]
  },
  {
   "cell_type": "code",
   "execution_count": 2,
   "metadata": {},
   "outputs": [
    {
     "name": "stdout",
     "output_type": "stream",
     "text": [
      "Defaulting to user installation because normal site-packages is not writeable\n",
      "Collecting pandas\n",
      "  Downloading pandas-1.2.0-cp37-cp37m-manylinux1_x86_64.whl (9.9 MB)\n",
      "\u001b[K     |\u2588\u2588\u2588\u2588\u2588\u2588\u2588\u2588\u2588\u2588\u2588\u2588\u2588\u2588\u2588\u2588\u2588\u2588\u2588\u2588\u2588\u2588\u2588\u2588\u2588\u2588\u2588\u2588\u2588\u2588\u2588\u2588| 9.9 MB 1.3 MB/s eta 0:00:01\n",
      "\u001b[?25hCollecting pyarrow\n",
      "  Downloading pyarrow-2.0.0-cp37-cp37m-manylinux2014_x86_64.whl (17.7 MB)\n",
      "\u001b[K     |\u2588\u2588\u2588\u2588\u2588\u2588\u2588\u2588\u2588\u2588\u2588\u2588\u2588\u2588\u2588\u2588\u2588\u2588\u2588\u2588\u2588\u2588\u2588\u2588\u2588\u2588\u2588\u2588\u2588\u2588\u2588\u2588| 17.7 MB 7.2 MB/s eta 0:00:01    |\u2588\u2588\u2588\u2588\u2588\u2588\u2588\u2588\u2588\u2588\u2588\u258f                    | 6.2 MB 3.7 MB/s eta 0:00:04     |\u2588\u2588\u2588\u2588\u2588\u2588\u2588\u2588\u2588\u2588\u2588\u2588\u258c                   | 6.9 MB 3.7 MB/s eta 0:00:03     |\u2588\u2588\u2588\u2588\u2588\u2588\u2588\u2588\u2588\u2588\u2588\u2588\u2588\u2588\u2588\u2588\u2588\u2588\u258c             | 10.3 MB 3.1 MB/s eta 0:00:03     |\u2588\u2588\u2588\u2588\u2588\u2588\u2588\u2588\u2588\u2588\u2588\u2588\u2588\u2588\u2588\u2588\u2588\u2588\u2588\u2588\u2588\u258c          | 11.9 MB 3.6 MB/s eta 0:00:02\n",
      "\u001b[?25hCollecting findspark\n",
      "  Downloading findspark-1.4.2-py2.py3-none-any.whl (4.2 kB)\n",
      "Collecting pytz>=2017.3\n",
      "  Downloading pytz-2020.5-py2.py3-none-any.whl (510 kB)\n",
      "\u001b[K     |\u2588\u2588\u2588\u2588\u2588\u2588\u2588\u2588\u2588\u2588\u2588\u2588\u2588\u2588\u2588\u2588\u2588\u2588\u2588\u2588\u2588\u2588\u2588\u2588\u2588\u2588\u2588\u2588\u2588\u2588\u2588\u2588| 510 kB 3.8 MB/s eta 0:00:01\n",
      "\u001b[?25hCollecting numpy>=1.16.5\n",
      "  Downloading numpy-1.19.5-cp37-cp37m-manylinux2010_x86_64.whl (14.8 MB)\n",
      "\u001b[K     |\u2588\u2588\u2588\u2588\u2588\u2588\u2588\u2588\u2588\u2588\u2588\u2588\u2588\u2588\u2588\u2588\u2588\u2588\u2588\u2588\u2588\u2588\u2588\u2588\u2588\u2588\u2588\u2588\u2588\u2588\u2588\u2588| 14.8 MB 2.9 MB/s eta 0:00:01    |\u2588\u2588\u2588\u2588\u2588\u2588\u2588\u2588\u2588\u2588\u2588\u2588\u2588                   | 6.1 MB 7.0 MB/s eta 0:00:02     |\u2588\u2588\u2588\u2588\u2588\u2588\u2588\u2588\u2588\u2588\u2588\u2588\u2588\u2588\u2588\u2588\u2588\u2588\u2588\u2588\u2589           | 9.7 MB 7.0 MB/s eta 0:00:01     |\u2588\u2588\u2588\u2588\u2588\u2588\u2588\u2588\u2588\u2588\u2588\u2588\u2588\u2588\u2588\u2588\u2588\u2588\u2588\u2588\u2588\u2588\u2588\u2588\u2588\u2588\u258f     | 12.1 MB 2.9 MB/s eta 0:00:01\n",
      "\u001b[?25hRequirement already satisfied: python-dateutil>=2.7.3 in /opt/pyenv/versions/3.7.9/lib/python3.7/site-packages (from pandas) (2.8.1)\n",
      "Requirement already satisfied: six>=1.5 in /opt/pyenv/versions/3.7.9/lib/python3.7/site-packages (from python-dateutil>=2.7.3->pandas) (1.15.0)\n",
      "Installing collected packages: pytz, numpy, pandas, pyarrow, findspark\n",
      "\u001b[33m  WARNING: The scripts f2py, f2py3 and f2py3.7 are installed in '/home/dclong/.local/bin' which is not on PATH.\n",
      "  Consider adding this directory to PATH or, if you prefer to suppress this warning, use --no-warn-script-location.\u001b[0m\n",
      "\u001b[33m  WARNING: The script plasma_store is installed in '/home/dclong/.local/bin' which is not on PATH.\n",
      "  Consider adding this directory to PATH or, if you prefer to suppress this warning, use --no-warn-script-location.\u001b[0m\n",
      "Successfully installed findspark-1.4.2 numpy-1.19.5 pandas-1.2.0 pyarrow-2.0.0 pytz-2020.5\n",
      "\u001b[33mWARNING: You are using pip version 20.1.1; however, version 20.3.3 is available.\n",
      "You should consider upgrading via the '/opt/pyenv/versions/3.7.9/bin/python -m pip install --upgrade pip' command.\u001b[0m\n"
     ]
    }
   ],
   "source": [
    "!/opt/pyenv/versions/3.7.9/bin/python -m pip install pandas pyarrow findspark"
   ]
  },
  {
   "cell_type": "code",
   "execution_count": 1,
   "metadata": {},
   "outputs": [],
   "source": [
    "import pandas as pd\n",
    "import findspark\n",
    "findspark.init(\"/opt/spark-2.3.1-bin-hadoop2.7/\")\n",
    "\n",
    "from pyspark.sql import SparkSession, DataFrame\n",
    "from pyspark.sql.functions import *\n",
    "from pyspark.sql.types import StructType\n",
    "spark = SparkSession.builder.appName(\"Case/When\") \\\n",
    "    .enableHiveSupport().getOrCreate()"
   ]
  },
  {
   "cell_type": "code",
   "execution_count": 2,
   "metadata": {},
   "outputs": [],
   "source": [
    "import pandas as pd\n",
    "import findspark\n",
    "findspark.init(\"/opt/spark-3.0.1-bin-hadoop3.2/\")\n",
    "\n",
    "from pyspark.sql import SparkSession, DataFrame\n",
    "from pyspark.sql.functions import *\n",
    "from pyspark.sql.types import StructType\n",
    "spark = SparkSession.builder.appName(\"Case/When\") \\\n",
    "    .enableHiveSupport().getOrCreate()"
   ]
  },
  {
   "cell_type": "code",
   "execution_count": 3,
   "metadata": {},
   "outputs": [
    {
     "name": "stdout",
     "output_type": "stream",
     "text": [
      "+-----+-----+-----+-----+---+\n",
      "|fname|lname|score|    x|  y|\n",
      "+-----+-----+-----+-----+---+\n",
      "|  Ben|   Du|    0| true|  1|\n",
      "|  Ben|   Du|    0| true|  1|\n",
      "|  Ben|   Tu|    1|false|  0|\n",
      "|  Ben|   Tu|    3|false|  0|\n",
      "|  Ken|   Xu|    6|false|  0|\n",
      "|  Ken|   Xu|    9|false|  0|\n",
      "+-----+-----+-----+-----+---+\n",
      "\n"
     ]
    }
   ],
   "source": [
    "df = spark.createDataFrame(\n",
    "    pd.DataFrame(\n",
    "        data=(\n",
    "            (\"Ben\", \"Du\", 0, True, 1), (\"Ben\", \"Du\", 0, True, 1),\n",
    "            (\"Ben\", \"Tu\", 1, False, 0), (\"Ben\", \"Tu\", 3, False, 0),\n",
    "            (\"Ken\", \"Xu\", 6, False, 0), (\"Ken\", \"Xu\", 9, False, 0)\n",
    "        ),\n",
    "        columns=(\"fname\", \"lname\", \"score\", \"x\", \"y\")\n",
    "    )\n",
    ")\n",
    "df.show()"
   ]
  },
  {
   "cell_type": "code",
   "execution_count": 10,
   "metadata": {},
   "outputs": [
    {
     "name": "stdout",
     "output_type": "stream",
     "text": [
      "+-----+\n",
      "|score|\n",
      "+-----+\n",
      "|    0|\n",
      "|    0|\n",
      "|    1|\n",
      "|    1|\n",
      "|    1|\n",
      "|    1|\n",
      "+-----+\n",
      "\n"
     ]
    }
   ],
   "source": [
    "df.select(col(\"score\").cast(\"boolean\").cast(\"int\")).show()"
   ]
  },
  {
   "cell_type": "markdown",
   "metadata": {},
   "source": [
    "`None` is correctly recoginized as `null` when used in `when(expr, val).otherwise(None)`."
   ]
  },
  {
   "cell_type": "code",
   "execution_count": 4,
   "metadata": {},
   "outputs": [
    {
     "name": "stdout",
     "output_type": "stream",
     "text": [
      "+---------------------------------+\n",
      "|CASE WHEN (score >= 3) THEN 1 END|\n",
      "+---------------------------------+\n",
      "|                             null|\n",
      "|                             null|\n",
      "|                                1|\n",
      "|                                1|\n",
      "|                             null|\n",
      "|                                1|\n",
      "+---------------------------------+\n",
      "\n"
     ]
    }
   ],
   "source": [
    "df.select(when(col(\"score\") >= 3, 1)).show()"
   ]
  },
  {
   "cell_type": "code",
   "execution_count": 3,
   "metadata": {},
   "outputs": [
    {
     "name": "stdout",
     "output_type": "stream",
     "text": [
      "+-------------------------------------------+\n",
      "|CASE WHEN (score >= 3) THEN 1 ELSE NULL END|\n",
      "+-------------------------------------------+\n",
      "|                                       null|\n",
      "|                                       null|\n",
      "|                                          1|\n",
      "|                                          1|\n",
      "|                                       null|\n",
      "|                                          1|\n",
      "+-------------------------------------------+\n",
      "\n"
     ]
    }
   ],
   "source": [
    "df.select(when(col(\"score\") >= 3, 1).otherwise(None)).show()"
   ]
  },
  {
   "cell_type": "markdown",
   "metadata": {},
   "source": [
    "## any\n",
    "\n",
    "1. Available only as a SQL function (instead of a DataFrame API function) since Spark 3.0.\n",
    "\n",
    "2. Works on boolean columns only."
   ]
  },
  {
   "cell_type": "code",
   "execution_count": 9,
   "metadata": {},
   "outputs": [
    {
     "ename": "ImportError",
     "evalue": "cannot import name 'any' from 'pyspark.sql.functions' (/opt/spark-3.0.1-bin-hadoop3.2/python/pyspark/sql/functions.py)",
     "output_type": "error",
     "traceback": [
      "\u001b[0;31m---------------------------------------------------------------------------\u001b[0m",
      "\u001b[0;31mImportError\u001b[0m                               Traceback (most recent call last)",
      "\u001b[0;32m<ipython-input-9-280aa8841125>\u001b[0m in \u001b[0;36m<module>\u001b[0;34m\u001b[0m\n\u001b[0;32m----> 1\u001b[0;31m \u001b[0;32mfrom\u001b[0m \u001b[0mpyspark\u001b[0m\u001b[0;34m.\u001b[0m\u001b[0msql\u001b[0m\u001b[0;34m.\u001b[0m\u001b[0mfunctions\u001b[0m \u001b[0;32mimport\u001b[0m \u001b[0many\u001b[0m\u001b[0;34m\u001b[0m\u001b[0;34m\u001b[0m\u001b[0m\n\u001b[0m",
      "\u001b[0;31mImportError\u001b[0m: cannot import name 'any' from 'pyspark.sql.functions' (/opt/spark-3.0.1-bin-hadoop3.2/python/pyspark/sql/functions.py)"
     ]
    }
   ],
   "source": [
    "from pyspark.sql.functions import any"
   ]
  },
  {
   "cell_type": "code",
   "execution_count": 4,
   "metadata": {},
   "outputs": [],
   "source": [
    "df.createOrReplaceTempView(\"df\")"
   ]
  },
  {
   "cell_type": "code",
   "execution_count": 6,
   "metadata": {},
   "outputs": [
    {
     "name": "stdout",
     "output_type": "stream",
     "text": [
      "+------+\n",
      "|any(x)|\n",
      "+------+\n",
      "|  true|\n",
      "+------+\n",
      "\n"
     ]
    }
   ],
   "source": [
    "spark.sql(\"select any(x) from df\").show()"
   ]
  },
  {
   "cell_type": "code",
   "execution_count": 8,
   "metadata": {},
   "outputs": [
    {
     "name": "stdout",
     "output_type": "stream",
     "text": [
      "+------+\n",
      "|any(x)|\n",
      "+------+\n",
      "| false|\n",
      "+------+\n",
      "\n"
     ]
    }
   ],
   "source": [
    "spark.sql(\"select any(x) from df where score > 2\").show()"
   ]
  },
  {
   "cell_type": "code",
   "execution_count": 7,
   "metadata": {},
   "outputs": [
    {
     "ename": "AnalysisException",
     "evalue": "cannot resolve 'any(df.`y`)' due to data type mismatch: Input to function 'any' should have been boolean, but it's [bigint].; line 1 pos 7;\n'Aggregate [unresolvedalias(any(y#4L), None)]\n+- SubqueryAlias df\n   +- LogicalRDD [fname#0, lname#1, score#2L, x#3, y#4L], false\n",
     "output_type": "error",
     "traceback": [
      "\u001b[0;31m---------------------------------------------------------------------------\u001b[0m",
      "\u001b[0;31mAnalysisException\u001b[0m                         Traceback (most recent call last)",
      "\u001b[0;32m<ipython-input-7-1b9dcb466bcc>\u001b[0m in \u001b[0;36m<module>\u001b[0;34m\u001b[0m\n\u001b[0;32m----> 1\u001b[0;31m \u001b[0mspark\u001b[0m\u001b[0;34m.\u001b[0m\u001b[0msql\u001b[0m\u001b[0;34m(\u001b[0m\u001b[0;34m\"select any(y) from df\"\u001b[0m\u001b[0;34m)\u001b[0m\u001b[0;34m.\u001b[0m\u001b[0mshow\u001b[0m\u001b[0;34m(\u001b[0m\u001b[0;34m)\u001b[0m\u001b[0;34m\u001b[0m\u001b[0;34m\u001b[0m\u001b[0m\n\u001b[0m",
      "\u001b[0;32m/opt/spark-3.0.1-bin-hadoop3.2/python/pyspark/sql/session.py\u001b[0m in \u001b[0;36msql\u001b[0;34m(self, sqlQuery)\u001b[0m\n\u001b[1;32m    647\u001b[0m         \u001b[0;34m[\u001b[0m\u001b[0mRow\u001b[0m\u001b[0;34m(\u001b[0m\u001b[0mf1\u001b[0m\u001b[0;34m=\u001b[0m\u001b[0;36m1\u001b[0m\u001b[0;34m,\u001b[0m \u001b[0mf2\u001b[0m\u001b[0;34m=\u001b[0m\u001b[0;34mu'row1'\u001b[0m\u001b[0;34m)\u001b[0m\u001b[0;34m,\u001b[0m \u001b[0mRow\u001b[0m\u001b[0;34m(\u001b[0m\u001b[0mf1\u001b[0m\u001b[0;34m=\u001b[0m\u001b[0;36m2\u001b[0m\u001b[0;34m,\u001b[0m \u001b[0mf2\u001b[0m\u001b[0;34m=\u001b[0m\u001b[0;34mu'row2'\u001b[0m\u001b[0;34m)\u001b[0m\u001b[0;34m,\u001b[0m \u001b[0mRow\u001b[0m\u001b[0;34m(\u001b[0m\u001b[0mf1\u001b[0m\u001b[0;34m=\u001b[0m\u001b[0;36m3\u001b[0m\u001b[0;34m,\u001b[0m \u001b[0mf2\u001b[0m\u001b[0;34m=\u001b[0m\u001b[0;34mu'row3'\u001b[0m\u001b[0;34m)\u001b[0m\u001b[0;34m]\u001b[0m\u001b[0;34m\u001b[0m\u001b[0;34m\u001b[0m\u001b[0m\n\u001b[1;32m    648\u001b[0m         \"\"\"\n\u001b[0;32m--> 649\u001b[0;31m         \u001b[0;32mreturn\u001b[0m \u001b[0mDataFrame\u001b[0m\u001b[0;34m(\u001b[0m\u001b[0mself\u001b[0m\u001b[0;34m.\u001b[0m\u001b[0m_jsparkSession\u001b[0m\u001b[0;34m.\u001b[0m\u001b[0msql\u001b[0m\u001b[0;34m(\u001b[0m\u001b[0msqlQuery\u001b[0m\u001b[0;34m)\u001b[0m\u001b[0;34m,\u001b[0m \u001b[0mself\u001b[0m\u001b[0;34m.\u001b[0m\u001b[0m_wrapped\u001b[0m\u001b[0;34m)\u001b[0m\u001b[0;34m\u001b[0m\u001b[0;34m\u001b[0m\u001b[0m\n\u001b[0m\u001b[1;32m    650\u001b[0m \u001b[0;34m\u001b[0m\u001b[0m\n\u001b[1;32m    651\u001b[0m     \u001b[0;34m@\u001b[0m\u001b[0msince\u001b[0m\u001b[0;34m(\u001b[0m\u001b[0;36m2.0\u001b[0m\u001b[0;34m)\u001b[0m\u001b[0;34m\u001b[0m\u001b[0;34m\u001b[0m\u001b[0m\n",
      "\u001b[0;32m/opt/spark-3.0.1-bin-hadoop3.2/python/lib/py4j-0.10.9-src.zip/py4j/java_gateway.py\u001b[0m in \u001b[0;36m__call__\u001b[0;34m(self, *args)\u001b[0m\n\u001b[1;32m   1303\u001b[0m         \u001b[0manswer\u001b[0m \u001b[0;34m=\u001b[0m \u001b[0mself\u001b[0m\u001b[0;34m.\u001b[0m\u001b[0mgateway_client\u001b[0m\u001b[0;34m.\u001b[0m\u001b[0msend_command\u001b[0m\u001b[0;34m(\u001b[0m\u001b[0mcommand\u001b[0m\u001b[0;34m)\u001b[0m\u001b[0;34m\u001b[0m\u001b[0;34m\u001b[0m\u001b[0m\n\u001b[1;32m   1304\u001b[0m         return_value = get_return_value(\n\u001b[0;32m-> 1305\u001b[0;31m             answer, self.gateway_client, self.target_id, self.name)\n\u001b[0m\u001b[1;32m   1306\u001b[0m \u001b[0;34m\u001b[0m\u001b[0m\n\u001b[1;32m   1307\u001b[0m         \u001b[0;32mfor\u001b[0m \u001b[0mtemp_arg\u001b[0m \u001b[0;32min\u001b[0m \u001b[0mtemp_args\u001b[0m\u001b[0;34m:\u001b[0m\u001b[0;34m\u001b[0m\u001b[0;34m\u001b[0m\u001b[0m\n",
      "\u001b[0;32m/opt/spark-3.0.1-bin-hadoop3.2/python/pyspark/sql/utils.py\u001b[0m in \u001b[0;36mdeco\u001b[0;34m(*a, **kw)\u001b[0m\n\u001b[1;32m    132\u001b[0m                 \u001b[0;31m# Hide where the exception came from that shows a non-Pythonic\u001b[0m\u001b[0;34m\u001b[0m\u001b[0;34m\u001b[0m\u001b[0;34m\u001b[0m\u001b[0m\n\u001b[1;32m    133\u001b[0m                 \u001b[0;31m# JVM exception message.\u001b[0m\u001b[0;34m\u001b[0m\u001b[0;34m\u001b[0m\u001b[0;34m\u001b[0m\u001b[0m\n\u001b[0;32m--> 134\u001b[0;31m                 \u001b[0mraise_from\u001b[0m\u001b[0;34m(\u001b[0m\u001b[0mconverted\u001b[0m\u001b[0;34m)\u001b[0m\u001b[0;34m\u001b[0m\u001b[0;34m\u001b[0m\u001b[0m\n\u001b[0m\u001b[1;32m    135\u001b[0m             \u001b[0;32melse\u001b[0m\u001b[0;34m:\u001b[0m\u001b[0;34m\u001b[0m\u001b[0;34m\u001b[0m\u001b[0m\n\u001b[1;32m    136\u001b[0m                 \u001b[0;32mraise\u001b[0m\u001b[0;34m\u001b[0m\u001b[0;34m\u001b[0m\u001b[0m\n",
      "\u001b[0;32m/opt/spark-3.0.1-bin-hadoop3.2/python/pyspark/sql/utils.py\u001b[0m in \u001b[0;36mraise_from\u001b[0;34m(e)\u001b[0m\n",
      "\u001b[0;31mAnalysisException\u001b[0m: cannot resolve 'any(df.`y`)' due to data type mismatch: Input to function 'any' should have been boolean, but it's [bigint].; line 1 pos 7;\n'Aggregate [unresolvedalias(any(y#4L), None)]\n+- SubqueryAlias df\n   +- LogicalRDD [fname#0, lname#1, score#2L, x#3, y#4L], false\n"
     ]
    }
   ],
   "source": [
    "spark.sql(\"select any(y) from df\").show()"
   ]
  },
  {
   "cell_type": "code",
   "execution_count": 3,
   "metadata": {},
   "outputs": [
    {
     "name": "stdout",
     "output_type": "stream",
     "text": [
      "+--------------+-------------+---------+\n",
      "|num_first_name|num_last_name|sum_score|\n",
      "+--------------+-------------+---------+\n",
      "|             6|            6|       20|\n",
      "+--------------+-------------+---------+\n",
      "\n"
     ]
    }
   ],
   "source": [
    "df.select(\n",
    "    count(\"fname\").alias(\"num_first_name\"),\n",
    "    count(\"lname\").alias(\"num_last_name\"),\n",
    "    sum(\"score\").alias(\"sum_score\")\n",
    ").show()"
   ]
  },
  {
   "cell_type": "markdown",
   "metadata": {},
   "source": [
    "## Aggregation Using `groupBy`"
   ]
  },
  {
   "cell_type": "markdown",
   "metadata": {},
   "source": [
    "You can use position alias in group by in Spark SQL!!!"
   ]
  },
  {
   "cell_type": "code",
   "execution_count": 6,
   "metadata": {},
   "outputs": [
    {
     "name": "stdout",
     "output_type": "stream",
     "text": [
      "+-----+-----+-----+-----+---+\n",
      "|fname|lname|score|    x|  y|\n",
      "+-----+-----+-----+-----+---+\n",
      "|  Ben|   Du|    0| true|  1|\n",
      "|  Ben|   Du|    0| true|  1|\n",
      "|  Ben|   Tu|    1|false|  0|\n",
      "|  Ben|   Tu|    3|false|  0|\n",
      "|  Ken|   Xu|    6|false|  0|\n",
      "|  Ken|   Xu|    9|false|  0|\n",
      "+-----+-----+-----+-----+---+\n",
      "\n"
     ]
    }
   ],
   "source": [
    "df.show()"
   ]
  },
  {
   "cell_type": "code",
   "execution_count": 11,
   "metadata": {},
   "outputs": [
    {
     "name": "stdout",
     "output_type": "stream",
     "text": [
      "+-----+------+\n",
      "|lname|sum(y)|\n",
      "+-----+------+\n",
      "|   Xu|     0|\n",
      "|   Du|     2|\n",
      "|   Tu|     0|\n",
      "+-----+------+\n",
      "\n"
     ]
    }
   ],
   "source": [
    "df.groupBy(\"lname\").agg(sum(\"y\")).show()"
   ]
  },
  {
   "cell_type": "code",
   "execution_count": 4,
   "metadata": {},
   "outputs": [],
   "source": [
    "df.createOrReplaceTempView(\"people\")"
   ]
  },
  {
   "cell_type": "code",
   "execution_count": 7,
   "metadata": {},
   "outputs": [
    {
     "name": "stdout",
     "output_type": "stream",
     "text": [
      "+-----+---+\n",
      "|fname|  n|\n",
      "+-----+---+\n",
      "|  Ben|  4|\n",
      "|  Ken|  2|\n",
      "+-----+---+\n",
      "\n"
     ]
    }
   ],
   "source": [
    "spark.sql(\"select fname, count(*) as n from people group by 1\").show"
   ]
  },
  {
   "cell_type": "markdown",
   "metadata": {},
   "source": [
    "### sum"
   ]
  },
  {
   "cell_type": "markdown",
   "metadata": {},
   "source": [
    "1. `sum` ignores `null`\n",
    "\n",
    "2. When all values are `null`, `sum` returns `null`."
   ]
  },
  {
   "cell_type": "markdown",
   "metadata": {},
   "source": [
    "`sum` ignores `null`."
   ]
  },
  {
   "cell_type": "code",
   "execution_count": 1,
   "metadata": {},
   "outputs": [
    {
     "name": "stdout",
     "output_type": "stream",
     "text": [
      "+----------+-----+\n",
      "|      date|value|\n",
      "+----------+-----+\n",
      "|2017-01-01|    1|\n",
      "|2017-01-01|   10|\n",
      "|2017-02-01|    2|\n",
      "|2017-02-01| null|\n",
      "+----------+-----+\n",
      "\n"
     ]
    },
    {
     "data": {
      "text/plain": [
       "df = [date: string, value: bigint]\n"
      ]
     },
     "metadata": {},
     "output_type": "display_data",
     "source": "user"
    },
    {
     "data": {
      "text/plain": [
       "[date: string, value: bigint]"
      ]
     },
     "execution_count": 1,
     "metadata": {},
     "output_type": "execute_result"
    }
   ],
   "source": [
    "val df = Seq(\n",
    "    (\"2017-01-01\", 1L),\n",
    "    (\"2017-01-01\", 10L),\n",
    "    (\"2017-02-01\", 2L),\n",
    "    (\"2017-02-01\", 22L)\n",
    ").toDF(\"date\", \"value\").\n",
    "withColumn(\"value\", when($\"value\" > 20, null).otherwise($\"value\"))\n",
    "df.show"
   ]
  },
  {
   "cell_type": "code",
   "execution_count": 16,
   "metadata": {},
   "outputs": [
    {
     "name": "stdout",
     "output_type": "stream",
     "text": [
      "[Stage 0:>                                                          (0 + 4) / 4]+----------+---+\n",
      "|      date|  s|\n",
      "+----------+---+\n",
      "|2017-01-01| 11|\n",
      "|2017-02-01|  2|\n",
      "+----------+---+\n",
      "\n"
     ]
    },
    {
     "data": {
      "text/plain": [
       "lastException: Throwable = null\n"
      ]
     },
     "metadata": {},
     "output_type": "display_data",
     "source": "user"
    }
   ],
   "source": [
    "df.groupBy(\"date\").agg(sum($\"value\").alias(\"s\")).show"
   ]
  },
  {
   "cell_type": "markdown",
   "metadata": {},
   "source": [
    "When all values are `null`, `sum` returns `null`."
   ]
  },
  {
   "cell_type": "code",
   "execution_count": 1,
   "metadata": {},
   "outputs": [
    {
     "name": "stdout",
     "output_type": "stream",
     "text": [
      "+----+-------+-------+\n",
      "| age|   name|is_null|\n",
      "+----+-------+-------+\n",
      "|null|Michael|      1|\n",
      "|  30|   Andy|      0|\n",
      "|  19| Justin|      0|\n",
      "+----+-------+-------+\n",
      "\n"
     ]
    },
    {
     "data": {
      "text/plain": [
       "df = [age: bigint, name: string ... 1 more field]\n"
      ]
     },
     "metadata": {},
     "output_type": "display_data",
     "source": "user"
    },
    {
     "data": {
      "text/plain": [
       "[age: bigint, name: string ... 1 more field]"
      ]
     },
     "execution_count": 1,
     "metadata": {},
     "output_type": "execute_result"
    }
   ],
   "source": [
    "import org.apache.spark.sql.functions._\n",
    "val df = spark.read.json(\"../data/people.json\").\n",
    "    withColumn(\"is_null\", when($\"age\".isNull, 1).otherwise(0))\n",
    "df.show"
   ]
  },
  {
   "cell_type": "markdown",
   "metadata": {},
   "source": [
    "Specify an alias for the column after aggregation."
   ]
  },
  {
   "cell_type": "code",
   "execution_count": 26,
   "metadata": {},
   "outputs": [
    {
     "name": "stdout",
     "output_type": "stream",
     "text": [
      "+-------+----+\n",
      "|is_null|sage|\n",
      "+-------+----+\n",
      "|      1|null|\n",
      "|      0|  49|\n",
      "+-------+----+\n",
      "\n"
     ]
    }
   ],
   "source": [
    "df.groupBy(\"is_null\").agg(sum(\"age\").alias(\"sage\")).show"
   ]
  },
  {
   "cell_type": "markdown",
   "metadata": {},
   "source": [
    "## Group By Multiple Columns"
   ]
  },
  {
   "cell_type": "code",
   "execution_count": 7,
   "metadata": {},
   "outputs": [
    {
     "name": "stdout",
     "output_type": "stream",
     "text": [
      "+-----+-----+----------+\n",
      "|fname|lname|sum(score)|\n",
      "+-----+-----+----------+\n",
      "|  Ben|   Du|         3|\n",
      "|  Ken|   Xu|        10|\n",
      "|  Ben|   Tu|         7|\n",
      "+-----+-----+----------+\n",
      "\n"
     ]
    },
    {
     "data": {
      "text/plain": [
       "null"
      ]
     },
     "execution_count": 7,
     "metadata": {},
     "output_type": "execute_result"
    }
   ],
   "source": [
    "df.groupBy(\"fname\", \"lname\").sum().show"
   ]
  },
  {
   "cell_type": "code",
   "execution_count": 3,
   "metadata": {},
   "outputs": [
    {
     "name": "stdout",
     "output_type": "stream",
     "text": [
      "+----+-------+\n",
      "| age|   name|\n",
      "+----+-------+\n",
      "|null|Michael|\n",
      "|  30|   Andy|\n",
      "|  19| Justin|\n",
      "+----+-------+\n",
      "\n"
     ]
    },
    {
     "data": {
      "text/plain": [
       "null"
      ]
     },
     "execution_count": 3,
     "metadata": {},
     "output_type": "execute_result"
    }
   ],
   "source": [
    "val df = spark.read.json(\"../../data/people.json\")\n",
    "df.show"
   ]
  },
  {
   "cell_type": "markdown",
   "metadata": {},
   "source": [
    "## agg"
   ]
  },
  {
   "cell_type": "code",
   "execution_count": 4,
   "metadata": {},
   "outputs": [
    {
     "name": "stdout",
     "output_type": "stream",
     "text": [
      "+----+-------+-------+\n",
      "| age|   name|is_null|\n",
      "+----+-------+-------+\n",
      "|null|Michael|      1|\n",
      "|  30|   Andy|      0|\n",
      "|  19| Justin|      0|\n",
      "+----+-------+-------+\n",
      "\n"
     ]
    },
    {
     "data": {
      "text/plain": [
       "null"
      ]
     },
     "execution_count": 4,
     "metadata": {},
     "output_type": "execute_result"
    }
   ],
   "source": [
    "import org.apache.spark.sql.functions._\n",
    "val df = spark.read.json(\"../../data/people.json\").withColumn(\"is_null\", when($\"age\".isNull, 1).otherwise(0))\n",
    "df.show"
   ]
  },
  {
   "cell_type": "code",
   "execution_count": 5,
   "metadata": {},
   "outputs": [
    {
     "name": "stdout",
     "output_type": "stream",
     "text": [
      "+-------+----+\n",
      "|is_null|sage|\n",
      "+-------+----+\n",
      "|      1|null|\n",
      "|      0|  49|\n",
      "+-------+----+\n",
      "\n"
     ]
    },
    {
     "data": {
      "text/plain": [
       "null"
      ]
     },
     "execution_count": 5,
     "metadata": {},
     "output_type": "execute_result"
    }
   ],
   "source": [
    "df.groupBy(\"is_null\").agg(sum(\"age\").alias(\"sage\")).show"
   ]
  },
  {
   "cell_type": "code",
   "execution_count": 6,
   "metadata": {},
   "outputs": [
    {
     "name": "stdout",
     "output_type": "stream",
     "text": [
      "+-------+----+---+\n",
      "|is_null|sage|cnt|\n",
      "+-------+----+---+\n",
      "|      1|null|  1|\n",
      "|      0|  49|  2|\n",
      "+-------+----+---+\n",
      "\n"
     ]
    },
    {
     "data": {
      "text/plain": [
       "null"
      ]
     },
     "execution_count": 6,
     "metadata": {},
     "output_type": "execute_result"
    }
   ],
   "source": [
    "df.groupBy(\"is_null\").agg(sum(\"age\").alias(\"sage\"), count(\"*\").alias(\"cnt\")).show"
   ]
  },
  {
   "cell_type": "markdown",
   "metadata": {},
   "source": [
    "## Collection"
   ]
  },
  {
   "cell_type": "markdown",
   "metadata": {},
   "source": [
    "### collect_list"
   ]
  },
  {
   "cell_type": "code",
   "execution_count": 7,
   "metadata": {},
   "outputs": [
    {
     "name": "stdout",
     "output_type": "stream",
     "text": [
      "+----+-----+\n",
      "|name|score|\n",
      "+----+-----+\n",
      "| Ben|    1|\n",
      "| Ben|    2|\n",
      "| Ben|    3|\n",
      "| Ken|    1|\n",
      "| Ken|    9|\n",
      "+----+-----+\n",
      "\n"
     ]
    },
    {
     "data": {
      "text/plain": [
       "null"
      ]
     },
     "execution_count": 7,
     "metadata": {},
     "output_type": "execute_result"
    }
   ],
   "source": [
    "import org.apache.spark.sql.functions._\n",
    "\n",
    "val df = Seq(\n",
    "    (\"Ben\", 1),\n",
    "    (\"Ben\" ,2),\n",
    "    (\"Ben\", 3),\n",
    "    (\"Ken\", 1),\n",
    "    (\"Ken\", 9)\n",
    ").toDF(\"name\", \"score\")\n",
    "df.show"
   ]
  },
  {
   "cell_type": "code",
   "execution_count": 13,
   "metadata": {},
   "outputs": [
    {
     "name": "stdout",
     "output_type": "stream",
     "text": [
      "+----+---------+\n",
      "|name|   scores|\n",
      "+----+---------+\n",
      "| Ben|[1, 2, 3]|\n",
      "| Ken|   [1, 9]|\n",
      "+----+---------+\n",
      "\n"
     ]
    },
    {
     "data": {
      "text/plain": [
       "null"
      ]
     },
     "execution_count": 13,
     "metadata": {},
     "output_type": "execute_result"
    }
   ],
   "source": [
    "val df2 = df.groupBy(\"name\").agg(\n",
    "    collect_list(\"score\").alias(\"scores\")\n",
    ")\n",
    "df2.show"
   ]
  },
  {
   "cell_type": "code",
   "execution_count": 14,
   "metadata": {},
   "outputs": [
    {
     "name": "stdout",
     "output_type": "stream",
     "text": [
      "root\n",
      " |-- name: string (nullable = true)\n",
      " |-- scores: array (nullable = true)\n",
      " |    |-- element: integer (containsNull = true)\n",
      "\n"
     ]
    },
    {
     "data": {
      "text/plain": [
       "null"
      ]
     },
     "execution_count": 14,
     "metadata": {},
     "output_type": "execute_result"
    }
   ],
   "source": [
    "df2.printSchema"
   ]
  },
  {
   "cell_type": "markdown",
   "metadata": {},
   "source": [
    "### collect_set"
   ]
  },
  {
   "cell_type": "code",
   "execution_count": 11,
   "metadata": {},
   "outputs": [
    {
     "name": "stdout",
     "output_type": "stream",
     "text": [
      "+----+-----+\n",
      "|name|score|\n",
      "+----+-----+\n",
      "| Ben|    1|\n",
      "| Ben|    1|\n",
      "| Ben|    2|\n",
      "| Ben|    3|\n",
      "| Ken|    1|\n",
      "| Ken|    9|\n",
      "+----+-----+\n",
      "\n",
      "+----+------------+\n",
      "|name|      scores|\n",
      "+----+------------+\n",
      "| Ben|[1, 1, 2, 3]|\n",
      "| Ken|      [1, 9]|\n",
      "+----+------------+\n",
      "\n",
      "+----+---------+\n",
      "|name|   scores|\n",
      "+----+---------+\n",
      "| Ben|[1, 2, 3]|\n",
      "| Ken|   [9, 1]|\n",
      "+----+---------+\n",
      "\n"
     ]
    },
    {
     "data": {
      "text/plain": [
       "null"
      ]
     },
     "execution_count": 11,
     "metadata": {},
     "output_type": "execute_result"
    }
   ],
   "source": [
    "val df_copy = Seq(\n",
    "    (\"Ben\", 1),\n",
    "    (\"Ben\", 1),\n",
    "    (\"Ben\" ,2),\n",
    "    (\"Ben\", 3),\n",
    "    (\"Ken\", 1),\n",
    "    (\"Ken\", 9)\n",
    ").toDF(\"name\", \"score\")\n",
    "df_copy.show\n",
    "\n",
    "val df3 = df_copy.groupBy(\"name\").agg(collect_list(\"score\").alias(\"scores\"))\n",
    "df3.show()\n",
    "\n",
    "val df4 = df_copy.groupBy(\"name\").agg(collect_set(\"score\").alias(\"scores\"))\n",
    "df4.show"
   ]
  },
  {
   "cell_type": "markdown",
   "metadata": {},
   "source": [
    "## First/Last"
   ]
  },
  {
   "cell_type": "markdown",
   "metadata": {},
   "source": [
    "## first"
   ]
  },
  {
   "cell_type": "markdown",
   "metadata": {},
   "source": [
    "## last"
   ]
  },
  {
   "cell_type": "markdown",
   "metadata": {},
   "source": [
    "## Grouping"
   ]
  },
  {
   "cell_type": "markdown",
   "metadata": {},
   "source": [
    "### grouping"
   ]
  },
  {
   "cell_type": "markdown",
   "metadata": {},
   "source": [
    "### grouping_id"
   ]
  },
  {
   "cell_type": "code",
   "execution_count": 3,
   "metadata": {},
   "outputs": [
    {
     "name": "stdout",
     "output_type": "stream",
     "text": [
      "+----+-------+\n",
      "| age|   name|\n",
      "+----+-------+\n",
      "|null|Michael|\n",
      "|  30|   Andy|\n",
      "|  19| Justin|\n",
      "+----+-------+\n",
      "\n"
     ]
    }
   ],
   "source": [
    "val df = spark.read.json(\"../data/people.json\")\n",
    "df.show"
   ]
  },
  {
   "cell_type": "markdown",
   "metadata": {},
   "source": [
    "## Count"
   ]
  },
  {
   "cell_type": "markdown",
   "metadata": {},
   "source": [
    "### count"
   ]
  },
  {
   "cell_type": "code",
   "execution_count": 5,
   "metadata": {},
   "outputs": [
    {
     "name": "stdout",
     "output_type": "stream",
     "text": [
      "[Stage 0:>                                                          (0 + 2) / 2]+----+-------+-------+\n",
      "| age|   name|is_null|\n",
      "+----+-------+-------+\n",
      "|null|Michael|      1|\n",
      "|  30|   Andy|      0|\n",
      "|  19| Justin|      0|\n",
      "+----+-------+-------+\n",
      "\n"
     ]
    },
    {
     "data": {
      "text/plain": [
       "df = [age: bigint, name: string ... 1 more field]\n"
      ]
     },
     "metadata": {},
     "output_type": "display_data",
     "source": "user"
    },
    {
     "data": {
      "text/plain": [
       "lastException: Throwable = null\n"
      ]
     },
     "metadata": {},
     "output_type": "display_data",
     "source": "user"
    },
    {
     "data": {
      "text/plain": [
       "[age: bigint, name: string ... 1 more field]"
      ]
     },
     "execution_count": 5,
     "metadata": {},
     "output_type": "execute_result"
    }
   ],
   "source": [
    "import org.apache.spark.sql.functions._\n",
    "val df = spark.read.json(\"../../../data/people.json\").withColumn(\"is_null\", when($\"age\".isNull, 1).otherwise(0))\n",
    "df.show"
   ]
  },
  {
   "cell_type": "code",
   "execution_count": 6,
   "metadata": {},
   "outputs": [
    {
     "name": "stdout",
     "output_type": "stream",
     "text": [
      "+-------+-----+\n",
      "|is_null|count|\n",
      "+-------+-----+\n",
      "|      1|    1|\n",
      "|      0|    2|\n",
      "+-------+-----+\n",
      "\n"
     ]
    }
   ],
   "source": [
    "df.groupBy(\"is_null\").count().show()"
   ]
  },
  {
   "cell_type": "code",
   "execution_count": 7,
   "metadata": {},
   "outputs": [
    {
     "name": "stdout",
     "output_type": "stream",
     "text": [
      "+-------+-----+\n",
      "|is_null|total|\n",
      "+-------+-----+\n",
      "|      1|    1|\n",
      "|      0|    2|\n",
      "+-------+-----+\n",
      "\n"
     ]
    }
   ],
   "source": [
    "df.groupBy(\"is_null\").agg(count(\"*\").as(\"total\")).show"
   ]
  },
  {
   "cell_type": "code",
   "execution_count": 14,
   "metadata": {},
   "outputs": [
    {
     "name": "stdout",
     "output_type": "stream",
     "text": [
      "+-------+---------------------------------------------------+\n",
      "|is_null|count(CASE WHEN (name = Andy) THEN 1 ELSE NULL END)|\n",
      "+-------+---------------------------------------------------+\n",
      "|      1|                                                  0|\n",
      "|      0|                                                  1|\n",
      "+-------+---------------------------------------------------+\n",
      "\n"
     ]
    }
   ],
   "source": [
    "df.groupBy(\"is_null\").agg(count(when($\"name\" === \"Andy\", 1).otherwise(null))).show"
   ]
  },
  {
   "cell_type": "code",
   "execution_count": 13,
   "metadata": {},
   "outputs": [
    {
     "name": "stdout",
     "output_type": "stream",
     "text": [
      "[Stage 41:================================>                       (44 + 8) / 75]+-------+----------------------------------------------+\n",
      "|is_null|sum(CASE WHEN (name = Andy) THEN 1 ELSE 0 END)|\n",
      "+-------+----------------------------------------------+\n",
      "|      1|                                             0|\n",
      "|      0|                                             1|\n",
      "+-------+----------------------------------------------+\n",
      "\n"
     ]
    }
   ],
   "source": [
    "df.groupBy(\"is_null\").agg(sum(when($\"name\" === \"Andy\", 1).otherwise(0))).show"
   ]
  },
  {
   "cell_type": "code",
   "execution_count": 8,
   "metadata": {},
   "outputs": [
    {
     "name": "stdout",
     "output_type": "stream",
     "text": [
      "+-------+-----+\n",
      "|is_null|total|\n",
      "+-------+-----+\n",
      "|      1|    1|\n",
      "|      0|    2|\n",
      "+-------+-----+\n",
      "\n"
     ]
    }
   ],
   "source": [
    "df.groupBy(\"is_null\").agg(count(\"*\").alias(\"total\")).show"
   ]
  },
  {
   "cell_type": "markdown",
   "metadata": {},
   "source": [
    "### countDistinct"
   ]
  },
  {
   "cell_type": "code",
   "execution_count": 16,
   "metadata": {},
   "outputs": [
    {
     "name": "stdout",
     "output_type": "stream",
     "text": [
      "+-------+-----+\n",
      "|is_null|total|\n",
      "+-------+-----+\n",
      "|      1|    1|\n",
      "|      0|    1|\n",
      "+-------+-----+\n",
      "\n"
     ]
    }
   ],
   "source": [
    "df.groupBy(\"is_null\").agg(countDistinct(\"is_null\").alias(\"total\")).show"
   ]
  },
  {
   "cell_type": "markdown",
   "metadata": {},
   "source": [
    "### approx_count_distinct"
   ]
  },
  {
   "cell_type": "markdown",
   "metadata": {},
   "source": [
    "## Sum"
   ]
  },
  {
   "cell_type": "markdown",
   "metadata": {},
   "source": [
    "### sum"
   ]
  },
  {
   "cell_type": "markdown",
   "metadata": {},
   "source": [
    "### sumDistinct"
   ]
  },
  {
   "cell_type": "markdown",
   "metadata": {},
   "source": [
    "## Extreme Values"
   ]
  },
  {
   "cell_type": "markdown",
   "metadata": {},
   "source": [
    "### max"
   ]
  },
  {
   "cell_type": "markdown",
   "metadata": {},
   "source": [
    "### min"
   ]
  },
  {
   "cell_type": "markdown",
   "metadata": {},
   "source": [
    "## Mean/Average"
   ]
  },
  {
   "cell_type": "markdown",
   "metadata": {},
   "source": [
    "### avg\n",
    "\n",
    "How does average behave on null values?"
   ]
  },
  {
   "cell_type": "markdown",
   "metadata": {},
   "source": [
    "### mean"
   ]
  },
  {
   "cell_type": "markdown",
   "metadata": {},
   "source": [
    "## Standard Deviation"
   ]
  },
  {
   "cell_type": "markdown",
   "metadata": {},
   "source": [
    "### stddev"
   ]
  },
  {
   "cell_type": "markdown",
   "metadata": {},
   "source": [
    "### stddev_pop"
   ]
  },
  {
   "cell_type": "markdown",
   "metadata": {},
   "source": [
    "### stddev_samp"
   ]
  },
  {
   "cell_type": "markdown",
   "metadata": {},
   "source": [
    "## Variance"
   ]
  },
  {
   "cell_type": "markdown",
   "metadata": {},
   "source": [
    "### var_pop"
   ]
  },
  {
   "cell_type": "markdown",
   "metadata": {},
   "source": [
    "### var_sample"
   ]
  },
  {
   "cell_type": "markdown",
   "metadata": {},
   "source": [
    "### variance"
   ]
  },
  {
   "cell_type": "markdown",
   "metadata": {},
   "source": [
    "## Correlation & Covariance"
   ]
  },
  {
   "cell_type": "markdown",
   "metadata": {},
   "source": [
    "## corr "
   ]
  },
  {
   "cell_type": "markdown",
   "metadata": {},
   "source": [
    "## covar_pop"
   ]
  },
  {
   "cell_type": "markdown",
   "metadata": {},
   "source": [
    "## covar_samp"
   ]
  },
  {
   "cell_type": "markdown",
   "metadata": {},
   "source": [
    "## Skewness & Kurtosis"
   ]
  },
  {
   "cell_type": "markdown",
   "metadata": {},
   "source": [
    "## skewness"
   ]
  },
  {
   "cell_type": "markdown",
   "metadata": {},
   "source": [
    "## kurtosis"
   ]
  },
  {
   "cell_type": "markdown",
   "metadata": {},
   "source": [
    "## References\n",
    "\n",
    "https://spark.apache.org/docs/2.0.1/api/java/org/apache/spark/sql/RelationalGroupedDataset.html\n",
    "\n",
    "https://spark.apache.org/docs/latest/sql-programming-guide.html\n",
    "\n",
    "https://spark.apache.org/docs/latest/api/scala/index.html#org.apache.spark.sql.functions$\n",
    "\n",
    "https://stackoverflow.com/questions/37612622/spark-unionall-multiple-dataframes\n",
    "\n",
    "https://spark.apache.org/docs/latest/api/java/index.html?org/apache/spark/sql/Dataset.html\n",
    "\n",
    "https://spark.apache.org/docs/latest/api/java/index.html?org/apache/spark/sql/functions.html\n",
    "\n",
    "https://spark.apache.org/docs/latest/api/java/org/apache/spark/sql/Row.html"
   ]
  },
  {
   "cell_type": "markdown",
   "metadata": {},
   "source": []
  }
 ],
 "metadata": {
  "kernelspec": {
   "display_name": "Python 3",
   "language": "python",
   "name": "python3"
  },
  "language_info": {
   "codemirror_mode": {
    "name": "ipython",
    "version": 3
   },
   "file_extension": ".py",
   "mimetype": "text/x-python",
   "name": "python",
   "nbconvert_exporter": "python",
   "pygments_lexer": "ipython3",
   "version": "3.8.5"
  },
  "widgets": {
   "application/vnd.jupyter.widget-state+json": {
    "state": {
     "0085edd1-96ca-47ed-938d-1530402c8ca7": {
      "model_module": "beakerx",
      "model_module_version": "*",
      "model_name": "FoldoutModel",
      "state": {
       "background_color": null,
       "children": [
        "IPY_MODEL_cf9c34ec-66d8-4e2b-9913-77e5a4f62967"
       ],
       "color": null,
       "description": "",
       "disabled": false,
       "font_family": "",
       "font_size": "",
       "font_style": "",
       "font_weight": "",
       "headerLabel": "Added jars: ",
       "hidePreview": false,
       "layout": "IPY_MODEL_f812eb82-5c3e-4be3-87c6-41b4688535f3",
       "msg_throttle": 3,
       "visible": true
      }
     },
     "04d973d4-e69b-49de-868f-aa3a7d02929f": {
      "model_module": "@jupyter-widgets/base",
      "model_module_version": "*",
      "model_name": "LayoutModel",
      "state": {
       "_model_module_version": "*",
       "_view_module_version": "*",
       "align_content": "",
       "align_self": "",
       "border": "",
       "bottom": "",
       "flex": "",
       "height": "",
       "justify_content": "",
       "left": "",
       "margin": "",
       "max_height": "",
       "max_width": "",
       "min_height": "",
       "min_width": "",
       "msg_throttle": 3,
       "overflow": "",
       "overflow_x": "",
       "overflow_y": "",
       "padding": "",
       "right": "",
       "top": ""
      }
     },
     "6492f97a-3442-4da1-84aa-9c833eec6ffa": {
      "model_module": "@jupyter-widgets/base",
      "model_module_version": "*",
      "model_name": "LayoutModel",
      "state": {
       "_model_module_version": "*",
       "_view_module_version": "*",
       "align_content": "",
       "align_self": "",
       "border": "",
       "bottom": "",
       "flex": "",
       "height": "",
       "justify_content": "",
       "left": "",
       "margin": "",
       "max_height": "",
       "max_width": "",
       "min_height": "",
       "min_width": "",
       "msg_throttle": 3,
       "overflow": "",
       "overflow_x": "",
       "overflow_y": "",
       "padding": "",
       "right": "",
       "top": ""
      }
     },
     "cf9c34ec-66d8-4e2b-9913-77e5a4f62967": {
      "model_module": "beakerx",
      "model_module_version": "*",
      "model_name": "BxHTMLModel",
      "state": {
       "background_color": null,
       "color": null,
       "font_family": "",
       "font_size": "",
       "font_style": "",
       "font_weight": "",
       "layout": "IPY_MODEL_04d973d4-e69b-49de-868f-aa3a7d02929f",
       "msg_throttle": 3,
       "placeholder": "",
       "value": "spark-core_2.11-2.1.1.jar, avro-mapred-1.7.7-hadoop2.jar, avro-ipc-1.7.7.jar, avro-1.7.7.jar, avro-ipc-1.7.7-tests.jar, jackson-core-asl-1.9.13.jar, jackson-mapper-asl-1.9.13.jar, chill_2.11-0.8.0.jar, kryo-shaded-3.0.3.jar, minlog-1.3.0.jar, objenesis-2.1.jar, chill-java-0.8.0.jar, xbean-asm5-shaded-4.4.jar, hadoop-client-2.2.0.jar, hadoop-common-2.2.0.jar, commons-cli-1.2.jar, commons-math-2.1.jar, xmlenc-0.52.jar, commons-io-2.1.jar, commons-lang-2.5.jar, commons-configuration-1.6.jar, commons-collections-3.2.1.jar, commons-digester-1.8.jar, commons-beanutils-1.7.0.jar, commons-beanutils-core-1.8.0.jar, protobuf-java-2.5.0.jar, hadoop-auth-2.2.0.jar, commons-compress-1.4.1.jar, xz-1.0.jar, hadoop-hdfs-2.2.0.jar, jetty-util-6.1.26.jar, hadoop-mapreduce-client-app-2.2.0.jar, hadoop-mapreduce-client-common-2.2.0.jar, hadoop-yarn-client-2.2.0.jar, guice-3.0.jar, javax.inject-1.jar, aopalliance-1.0.jar, hadoop-yarn-server-common-2.2.0.jar, hadoop-mapreduce-client-shuffle-2.2.0.jar, hadoop-yarn-api-2.2.0.jar, hadoop-mapreduce-client-core-2.2.0.jar, hadoop-yarn-common-2.2.0.jar, hadoop-mapreduce-client-jobclient-2.2.0.jar, hadoop-annotations-2.2.0.jar, spark-launcher_2.11-2.1.1.jar, spark-network-common_2.11-2.1.1.jar, leveldbjni-all-1.8.jar, jackson-annotations-2.6.5.jar, spark-network-shuffle_2.11-2.1.1.jar, spark-unsafe_2.11-2.1.1.jar, jets3t-0.7.1.jar, commons-codec-1.3.jar, commons-httpclient-3.1.jar, curator-recipes-2.4.0.jar, curator-framework-2.4.0.jar, curator-client-2.4.0.jar, zookeeper-3.4.5.jar, guava-14.0.1.jar, javax.servlet-api-3.1.0.jar, commons-lang3-3.5.jar, commons-math3-3.4.1.jar, jsr305-1.3.9.jar, slf4j-api-1.7.16.jar, jul-to-slf4j-1.7.16.jar, jcl-over-slf4j-1.7.16.jar, log4j-1.2.17.jar, slf4j-log4j12-1.7.16.jar, compress-lzf-1.0.3.jar, snappy-java-1.1.2.6.jar, lz4-1.3.0.jar, RoaringBitmap-0.5.11.jar, commons-net-2.2.jar, scala-library-2.11.8.jar, json4s-jackson_2.11-3.2.11.jar, json4s-core_2.11-3.2.11.jar, json4s-ast_2.11-3.2.11.jar, paranamer-2.6.jar, scalap-2.11.0.jar, scala-compiler-2.11.0.jar, scala-xml_2.11-1.0.1.jar, scala-parser-combinators_2.11-1.0.1.jar, jersey-client-2.22.2.jar, javax.ws.rs-api-2.0.1.jar, hk2-api-2.4.0-b34.jar, hk2-utils-2.4.0-b34.jar, aopalliance-repackaged-2.4.0-b34.jar, javax.inject-2.4.0-b34.jar, hk2-locator-2.4.0-b34.jar, javassist-3.18.1-GA.jar, jersey-common-2.22.2.jar, javax.annotation-api-1.2.jar, jersey-guava-2.22.2.jar, osgi-resource-locator-1.0.1.jar, jersey-server-2.22.2.jar, jersey-media-jaxb-2.22.2.jar, validation-api-1.1.0.Final.jar, jersey-container-servlet-2.22.2.jar, jersey-container-servlet-core-2.22.2.jar, netty-all-4.0.42.Final.jar, netty-3.8.0.Final.jar, stream-2.7.0.jar, metrics-core-3.1.2.jar, metrics-jvm-3.1.2.jar, metrics-json-3.1.2.jar, metrics-graphite-3.1.2.jar, jackson-databind-2.6.5.jar, jackson-core-2.6.5.jar, jackson-module-scala_2.11-2.6.5.jar, scala-reflect-2.11.7.jar, jackson-module-paranamer-2.6.5.jar, ivy-2.4.0.jar, oro-2.0.8.jar, pyrolite-4.13.jar, py4j-0.10.4.jar, spark-tags_2.11-2.1.1.jar, commons-crypto-1.0.0.jar, unused-1.0.0.jar, spark-sql_2.11-2.1.1.jar, univocity-parsers-2.2.1.jar, spark-sketch_2.11-2.1.1.jar, spark-catalyst_2.11-2.1.1.jar, janino-3.0.0.jar, commons-compiler-3.0.0.jar, antlr4-runtime-4.5.3.jar, parquet-column-1.8.1.jar, parquet-common-1.8.1.jar, parquet-encoding-1.8.1.jar, parquet-hadoop-1.8.1.jar, parquet-format-2.3.0-incubating.jar, parquet-jackson-1.8.1.jar",
       "visible": true
      }
     },
     "f812eb82-5c3e-4be3-87c6-41b4688535f3": {
      "model_module": "@jupyter-widgets/base",
      "model_module_version": "*",
      "model_name": "LayoutModel",
      "state": {
       "_model_module_version": "*",
       "_view_module_version": "*",
       "align_content": "",
       "align_self": "",
       "border": "",
       "bottom": "",
       "flex": "",
       "height": "",
       "justify_content": "",
       "left": "",
       "margin": "",
       "max_height": "",
       "max_width": "",
       "min_height": "",
       "min_width": "",
       "msg_throttle": 3,
       "overflow": "",
       "overflow_x": "",
       "overflow_y": "",
       "padding": "",
       "right": "",
       "top": ""
      }
     }
    },
    "version_major": 2,
    "version_minor": 0
   }
  }
 },
 "nbformat": 4,
 "nbformat_minor": 4
}