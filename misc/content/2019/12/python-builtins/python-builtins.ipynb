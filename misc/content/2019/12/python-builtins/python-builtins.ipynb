{
 "cells": [
  {
   "cell_type": "markdown",
   "metadata": {},
   "source": [
    "- Title: Builtin Objects Python\n",
    "- Slug: python-builtins\n",
    "- Date: 2019-12-19\n",
    "- Category: Computer Science\n",
    "- Tags: programming, Python, builtins\n",
    "- Author: Ben Du\n",
    "- Modified: 2019-12-19\n"
   ]
  },
  {
   "cell_type": "markdown",
   "metadata": {},
   "source": [
    "Python has built-in functions and object that users can use directly (no need to import).\n",
    "However, \n",
    "if you import another module which hide a built-in function or object,\n",
    "you cannot use it anymore. \n",
    "For example, \n",
    "`sum` is a built-in function in Python which can be used directly.\n",
    "However, \n",
    "if you use PySpark import SQL functions (`from pyspark.sql.functions import *`),\n",
    "the built-in function sum is hidden by the PySpark SQL function `sum`.\n",
    "You can still use the built-in function `sum` by importing the `builtins` module. "
   ]
  },
  {
   "cell_type": "code",
   "execution_count": 38,
   "metadata": {},
   "outputs": [
    {
     "data": {
      "text/plain": [
       "6"
      ]
     },
     "execution_count": 38,
     "metadata": {},
     "output_type": "execute_result"
    }
   ],
   "source": [
    "import builtins\n",
    "\n",
    "builtins.sum([1, 2, 3])"
   ]
  },
  {
   "cell_type": "code",
   "execution_count": 39,
   "metadata": {},
   "outputs": [
    {
     "data": {
      "text/plain": [
       "True"
      ]
     },
     "execution_count": 39,
     "metadata": {},
     "output_type": "execute_result"
    }
   ],
   "source": [
    "builtins.sum is sum"
   ]
  },
  {
   "cell_type": "markdown",
   "metadata": {},
   "source": [
    "## References\n",
    "\n",
    "https://docs.python.org/3/library/builtins.html\n",
    "\n",
    "https://docs.python.org/3/library/constants.html#built-in-consts\n",
    "\n",
    "https://docs.python.org/3/library/functions.html#built-in-funcs"
   ]
  }
 ],
 "metadata": {
  "kernelspec": {
   "display_name": "Python 3",
   "language": "python",
   "name": "python3"
  },
  "language_info": {
   "codemirror_mode": {
    "name": "ipython",
    "version": 3
   },
   "file_extension": ".py",
   "mimetype": "text/x-python",
   "name": "python",
   "nbconvert_exporter": "python",
   "pygments_lexer": "ipython3",
   "version": "3.7.3"
  }
 },
 "nbformat": 4,
 "nbformat_minor": 4
}