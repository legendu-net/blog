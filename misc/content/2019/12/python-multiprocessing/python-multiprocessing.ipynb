{
 "cells": [
  {
   "cell_type": "markdown",
   "metadata": {},
   "source": [
    "- Title: Hands on the Python module Multiprocessing\n",
    "- Slug: python-multiprocessing\n",
    "- Date: 2019-12-19 09:43:02\n",
    "- Category: Computer Science\n",
    "- Tags: programming, Python, HPC, high performance computing, multiprocessing, parallel computing\n",
    "- Author: Ben Du\n",
    "- Modified: 2019-12-19 09:43:02\n"
   ]
  },
  {
   "cell_type": "markdown",
   "metadata": {},
   "source": [
    "## Comments\n",
    "\n",
    "1. `multiprocessing.Pool.map` does not work with lambda functions\n",
    "    due to the fact that lambda functions cannot be pickled.\n",
    "    There are multiple approaches to avoid the issue.\n",
    "    You can define a function or use `functools.partial`."
   ]
  },
  {
   "cell_type": "code",
   "execution_count": 10,
   "metadata": {},
   "outputs": [],
   "source": [
    "from multiprocessing import Pool"
   ]
  },
  {
   "cell_type": "code",
   "execution_count": 11,
   "metadata": {},
   "outputs": [],
   "source": [
    "pool = Pool(2)"
   ]
  },
  {
   "cell_type": "code",
   "execution_count": 12,
   "metadata": {},
   "outputs": [],
   "source": [
    "numbers = [\n",
    "    [1, 2, 3, 4],\n",
    "    [5, 6, 7, 8],\n",
    "    [9, 10, 11, 12],\n",
    "    [13, 14, 15, 16],\n",
    "]"
   ]
  },
  {
   "cell_type": "code",
   "execution_count": 13,
   "metadata": {},
   "outputs": [
    {
     "data": {
      "text/plain": [
       "[10, 26, 42, 58]"
      ]
     },
     "execution_count": 13,
     "metadata": {},
     "output_type": "execute_result"
    }
   ],
   "source": [
    "pool.map(sum, numbers)"
   ]
  },
  {
   "cell_type": "markdown",
   "metadata": {},
   "source": [
    "## Share Momery Among Process\n",
    "\n",
    "\n",
    "https://www.youtube.com/watch?v=uWbSc84he2Q\n",
    "\n",
    "https://stackoverflow.com/questions/35157367/how-to-share-data-between-python-processes\n",
    "\n",
    "https://docs.python.org/3/library/multiprocessing.shared_memory.html\n"
   ]
  },
  {
   "cell_type": "markdown",
   "metadata": {},
   "source": [
    "## References\n",
    "\n",
    "[A Hack for Using Multiprocessing with Lambda Function in Python](https://medium.com/@yasufumy/python-multiprocessing-c6d54107dd55)\n",
    "\n",
    "https://stackoverflow.com/questions/4827432/how-to-let-pool-map-take-a-lambda-function\n",
    "\n",
    "[Things I Wish They Told Me About Multiprocessing in Python](https://www.cloudcity.io/blog/2019/02/27/things-i-wish-they-told-me-about-multiprocessing-in-python/)\n",
    "\n",
    "[Allowing Multithreaded Read Access While Maintaining a Write Lock](https://www.oreilly.com/library/view/python-cookbook/0596001673/ch06s04.html)"
   ]
  },
  {
   "cell_type": "code",
   "execution_count": null,
   "metadata": {},
   "outputs": [],
   "source": []
  }
 ],
 "metadata": {
  "kernelspec": {
   "display_name": "Python 3",
   "language": "python",
   "name": "python3"
  },
  "language_info": {
   "codemirror_mode": {
    "name": "ipython",
    "version": 3
   },
   "file_extension": ".py",
   "mimetype": "text/x-python",
   "name": "python",
   "nbconvert_exporter": "python",
   "pygments_lexer": "ipython3",
   "version": "3.7.3"
  }
 },
 "nbformat": 4,
 "nbformat_minor": 4
}