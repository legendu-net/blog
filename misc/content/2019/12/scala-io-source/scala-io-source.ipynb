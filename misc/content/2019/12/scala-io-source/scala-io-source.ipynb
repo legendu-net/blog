{
 "cells": [
  {
   "cell_type": "markdown",
   "metadata": {},
   "source": [
    "- Title: The Source Class in Scala IO\n",
    "- Slug: scala-io-source\n",
    "- Date: 2019-12-19\n",
    "- Category: Computer Science\n",
    "- Tags: programming, Scala, InputStream, JVM, IO, stream, Source, BufferedSource\n",
    "- Author: Ben Du\n",
    "- Modified: 2019-12-19\n"
   ]
  },
  {
   "cell_type": "code",
   "execution_count": 11,
   "metadata": {},
   "outputs": [
    {
     "data": {
      "text/plain": [
       "import scala.collection.JavaConverters._\n"
      ]
     },
     "execution_count": 11,
     "metadata": {},
     "output_type": "execute_result"
    }
   ],
   "source": [
    "import scala.collection.JavaConverters._"
   ]
  },
  {
   "cell_type": "markdown",
   "metadata": {},
   "source": [
    "## [BufferedSource](https://www.scala-lang.org/api/current/scala/io/BufferedSource.html)\n",
    "\n",
    "This object provides convenience methods to create an iterable representation of a source file.\n",
    "A BufferedSource object is iterable!\n",
    "Many of the collection methods apply to it."
   ]
  },
  {
   "cell_type": "code",
   "execution_count": 2,
   "metadata": {},
   "outputs": [
    {
     "data": {
      "text/plain": [
       "non-empty iterator"
      ]
     },
     "execution_count": 2,
     "metadata": {},
     "output_type": "execute_result"
    }
   ],
   "source": [
    "val bs = scala.io.Source.fromFile(\"test.yaml\")"
   ]
  },
  {
   "cell_type": "code",
   "execution_count": 3,
   "metadata": {},
   "outputs": [
    {
     "data": {
      "text/plain": [
       "aa:\n",
       "  - x\n",
       "  - y\n",
       "bb: z"
      ]
     },
     "execution_count": 3,
     "metadata": {},
     "output_type": "execute_result"
    }
   ],
   "source": [
    "bs.mkString"
   ]
  },
  {
   "cell_type": "markdown",
   "metadata": {},
   "source": [
    "## InputStream to BufferedSource"
   ]
  },
  {
   "cell_type": "code",
   "execution_count": null,
   "metadata": {},
   "outputs": [],
   "source": [
    "scala.io.Source.fromInputStream(is)"
   ]
  },
  {
   "cell_type": "markdown",
   "metadata": {},
   "source": [
    "## References\n",
    "\n",
    "https://www.scala-lang.org/api/current/scala/io/Source$.html\n",
    "\n",
    "https://www.scala-lang.org/api/current/scala/io/BufferedSource.html\n",
    "\n",
    "https://stackoverflow.com/questions/5221524/idiomatic-way-to-convert-an-inputstream-to-a-string-in-scala/5221595"
   ]
  },
  {
   "cell_type": "code",
   "execution_count": null,
   "metadata": {},
   "outputs": [],
   "source": []
  }
 ],
 "metadata": {
  "kernelspec": {
   "display_name": "Scala",
   "language": "scala",
   "name": "scala"
  },
  "language_info": {
   "codemirror_mode": "text/x-scala",
   "file_extension": ".scala",
   "mimetype": "",
   "name": "Scala",
   "nbconverter_exporter": "",
   "version": "2.11.12"
  }
 },
 "nbformat": 4,
 "nbformat_minor": 4
}