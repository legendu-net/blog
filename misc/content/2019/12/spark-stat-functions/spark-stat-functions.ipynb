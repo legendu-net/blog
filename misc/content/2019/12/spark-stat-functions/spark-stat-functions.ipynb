{
 "cells": [
  {
   "cell_type": "markdown",
   "source": [
    "- Title: Statistical Functions in Spark\n",
    "- Slug: spark-stat-functions\n",
    "- Date: 2019-12-13\n",
    "- Category: Computer Science\n",
    "- Tags: programming, Scala, Spark, DataFrame, statistical functions, quantile, approximate, approxQuantile, approx_quantile\n",
    "- Author: Ben Du\n",
    "- Modified: 2021-09-30 17:35:09\n"
   ],
   "metadata": {}
  },
  {
   "cell_type": "markdown",
   "source": [
    "https://spark.apache.org/docs/latest/api/java/org/apache/spark/sql/DataFrameStatFunctions.html\n",
    "\n",
    "https://spark.apache.org/docs/latest/api/java/org/apache/spark/sql/DataFrameStatFunctions.html#approxQuantile-java.lang.String:A-double:A-double-\n",
    "\n",
    "https://spark.apache.org/docs/latest/api/sql/index.html#approx_percentile"
   ],
   "metadata": {}
  },
  {
   "cell_type": "code",
   "execution_count": 1,
   "source": [
    "%%classpath add mvn\n",
    "org.apache.spark spark-core_2.11 2.3.1\n",
    "org.apache.spark spark-sql_2.11 2.3.1"
   ],
   "outputs": [
    {
     "output_type": "display_data",
     "data": {
      "application/vnd.code.notebook.error": {
       "name": "Error",
       "message": "INVALID mime type, must not be empty or falsy: method",
       "stack": "Error: INVALID mime type, must not be empty or falsy: method\n    at new Ne (/ide/out/vs/workbench/services/extensions/node/extensionHostProcess.js:78:55540)\n    at Function.text (/ide/out/vs/workbench/services/extensions/node/extensionHostProcess.js:78:56159)\n    at i (/ide/extensions/ipynb/dist/ipynbMain.js:1:139019)\n    at b (/ide/extensions/ipynb/dist/ipynbMain.js:1:143604)\n    at _ (/ide/extensions/ipynb/dist/ipynbMain.js:1:143900)\n    at Array.map (<anonymous>)\n    at /ide/extensions/ipynb/dist/ipynbMain.js:1:145052\n    at /ide/extensions/ipynb/dist/ipynbMain.js:1:145294\n    at /ide/extensions/ipynb/dist/ipynbMain.js:1:145301\n    at Array.map (<anonymous>)\n    at e.jupyterNotebookModelToNotebookData (/ide/extensions/ipynb/dist/ipynbMain.js:1:144610)\n    at e.NotebookSerializer.deserializeNotebook (/ide/extensions/ipynb/dist/ipynbMain.js:1:146537)\n    at _.$dataToNotebook (/ide/out/vs/workbench/services/extensions/node/extensionHostProcess.js:85:211988)\n    at h._doInvokeHandler (/ide/out/vs/workbench/services/extensions/node/extensionHostProcess.js:89:12819)\n    at h._invokeHandler (/ide/out/vs/workbench/services/extensions/node/extensionHostProcess.js:89:12503)\n    at h._receiveRequest (/ide/out/vs/workbench/services/extensions/node/extensionHostProcess.js:89:11107)\n    at h._receiveOneMessage (/ide/out/vs/workbench/services/extensions/node/extensionHostProcess.js:89:10142)\n    at /ide/out/vs/workbench/services/extensions/node/extensionHostProcess.js:89:8039\n    at d.fire (/ide/out/vs/workbench/services/extensions/node/extensionHostProcess.js:57:1712)\n    at c.fire (/ide/out/vs/workbench/services/extensions/node/extensionHostProcess.js:65:15825)\n    at /ide/out/vs/workbench/services/extensions/node/extensionHostProcess.js:104:30060\n    at d.fire (/ide/out/vs/workbench/services/extensions/node/extensionHostProcess.js:57:1712)\n    at c.fire (/ide/out/vs/workbench/services/extensions/node/extensionHostProcess.js:65:15825)\n    at r._receiveMessage (/ide/out/vs/workbench/services/extensions/node/extensionHostProcess.js:65:21091)\n    at /ide/out/vs/workbench/services/extensions/node/extensionHostProcess.js:65:17969\n    at d.fire (/ide/out/vs/workbench/services/extensions/node/extensionHostProcess.js:57:1712)\n    at v.acceptChunk (/ide/out/vs/workbench/services/extensions/node/extensionHostProcess.js:65:13186)\n    at /ide/out/vs/workbench/services/extensions/node/extensionHostProcess.js:65:12534\n    at d.fire (/ide/out/vs/workbench/services/extensions/node/extensionHostProcess.js:57:1712)\n    at /ide/out/vs/workbench/services/extensions/node/extensionHostProcess.js:104:19145\n    at afterWrite (internal/streams/writable.js:466:5)\n    at onwrite (internal/streams/writable.js:446:7)\n    at InflateRaw.afterTransform (internal/streams/transform.js:103:3)\n    at Zlib.processCallback (zlib.js:608:8)"
      },
      "application/vnd.jupyter.widget-view+json": {
       "model_id": "",
       "version_major": 2,
       "version_minor": 0
      }
     },
     "metadata": {}
    },
    {
     "output_type": "display_data",
     "data": {
      "application/vnd.code.notebook.error": {
       "name": "Error",
       "message": "INVALID mime type, must not be empty or falsy: method",
       "stack": "Error: INVALID mime type, must not be empty or falsy: method\n    at new Ne (/ide/out/vs/workbench/services/extensions/node/extensionHostProcess.js:78:55540)\n    at Function.text (/ide/out/vs/workbench/services/extensions/node/extensionHostProcess.js:78:56159)\n    at i (/ide/extensions/ipynb/dist/ipynbMain.js:1:139019)\n    at b (/ide/extensions/ipynb/dist/ipynbMain.js:1:143604)\n    at _ (/ide/extensions/ipynb/dist/ipynbMain.js:1:143900)\n    at Array.map (<anonymous>)\n    at /ide/extensions/ipynb/dist/ipynbMain.js:1:145052\n    at /ide/extensions/ipynb/dist/ipynbMain.js:1:145294\n    at /ide/extensions/ipynb/dist/ipynbMain.js:1:145301\n    at Array.map (<anonymous>)\n    at e.jupyterNotebookModelToNotebookData (/ide/extensions/ipynb/dist/ipynbMain.js:1:144610)\n    at e.NotebookSerializer.deserializeNotebook (/ide/extensions/ipynb/dist/ipynbMain.js:1:146537)\n    at _.$dataToNotebook (/ide/out/vs/workbench/services/extensions/node/extensionHostProcess.js:85:211988)\n    at h._doInvokeHandler (/ide/out/vs/workbench/services/extensions/node/extensionHostProcess.js:89:12819)\n    at h._invokeHandler (/ide/out/vs/workbench/services/extensions/node/extensionHostProcess.js:89:12503)\n    at h._receiveRequest (/ide/out/vs/workbench/services/extensions/node/extensionHostProcess.js:89:11107)\n    at h._receiveOneMessage (/ide/out/vs/workbench/services/extensions/node/extensionHostProcess.js:89:10142)\n    at /ide/out/vs/workbench/services/extensions/node/extensionHostProcess.js:89:8039\n    at d.fire (/ide/out/vs/workbench/services/extensions/node/extensionHostProcess.js:57:1712)\n    at c.fire (/ide/out/vs/workbench/services/extensions/node/extensionHostProcess.js:65:15825)\n    at /ide/out/vs/workbench/services/extensions/node/extensionHostProcess.js:104:30060\n    at d.fire (/ide/out/vs/workbench/services/extensions/node/extensionHostProcess.js:57:1712)\n    at c.fire (/ide/out/vs/workbench/services/extensions/node/extensionHostProcess.js:65:15825)\n    at r._receiveMessage (/ide/out/vs/workbench/services/extensions/node/extensionHostProcess.js:65:21091)\n    at /ide/out/vs/workbench/services/extensions/node/extensionHostProcess.js:65:17969\n    at d.fire (/ide/out/vs/workbench/services/extensions/node/extensionHostProcess.js:57:1712)\n    at v.acceptChunk (/ide/out/vs/workbench/services/extensions/node/extensionHostProcess.js:65:13186)\n    at /ide/out/vs/workbench/services/extensions/node/extensionHostProcess.js:65:12534\n    at d.fire (/ide/out/vs/workbench/services/extensions/node/extensionHostProcess.js:57:1712)\n    at /ide/out/vs/workbench/services/extensions/node/extensionHostProcess.js:104:19145\n    at afterWrite (internal/streams/writable.js:466:5)\n    at onwrite (internal/streams/writable.js:446:7)\n    at InflateRaw.afterTransform (internal/streams/transform.js:103:3)\n    at Zlib.processCallback (zlib.js:608:8)"
      },
      "application/vnd.jupyter.widget-view+json": {
       "model_id": "43204a9d-b152-475a-8b2e-155ab5b87268",
       "version_major": 2,
       "version_minor": 0
      }
     },
     "metadata": {}
    }
   ],
   "metadata": {}
  },
  {
   "cell_type": "code",
   "execution_count": 3,
   "source": [
    "import org.apache.spark.sql.SparkSession\n",
    "import org.apache.spark.sql.functions._\n",
    "import org.apache.spark.sql.Row\n",
    "\n",
    "val spark = SparkSession.builder()\n",
    "    .master(\"local[2]\")\n",
    "    .appName(\"Spark Example\")\n",
    "    .config(\"spark.some.config.option\", \"some-value\")\n",
    "    .getOrCreate()\n",
    "\n",
    "import spark.implicits._"
   ],
   "outputs": [
    {
     "output_type": "execute_result",
     "data": {
      "text/plain": [
       "org.apache.spark.sql.SparkSession$implicits$@236eb82c"
      ]
     },
     "metadata": {},
     "execution_count": 3
    }
   ],
   "metadata": {}
  },
  {
   "cell_type": "code",
   "execution_count": 4,
   "source": [
    "import org.apache.spark.sql.functions._\n",
    "\n",
    "val df = Seq(\n",
    "    (\"Ben\", \"Du\", 1),\n",
    "    (\"Ben\", \"Du\", 2),\n",
    "    (\"Ben\", \"Tu\", 3),\n",
    "    (\"Ben\", \"Tu\", 4),\n",
    "    (\"Ken\", \"Xu\", 1),\n",
    "    (\"Ken\", \"Xu\", 9)\n",
    ").toDF(\"fname\", \"lname\", \"score\")\n",
    "df.show"
   ],
   "outputs": [
    {
     "output_type": "stream",
     "name": "stdout",
     "text": [
      "+-----+-----+-----+\n",
      "|fname|lname|score|\n",
      "+-----+-----+-----+\n",
      "|  Ben|   Du|    1|\n",
      "|  Ben|   Du|    2|\n",
      "|  Ben|   Tu|    3|\n",
      "|  Ben|   Tu|    4|\n",
      "|  Ken|   Xu|    1|\n",
      "|  Ken|   Xu|    9|\n",
      "+-----+-----+-----+\n",
      "\n"
     ]
    },
    {
     "output_type": "execute_result",
     "data": {
      "text/plain": [
       "null"
      ]
     },
     "metadata": {},
     "execution_count": 4
    }
   ],
   "metadata": {}
  },
  {
   "cell_type": "markdown",
   "source": [
    "## DataFrame.stat.approxQuantile\n",
    "\n",
    "Notice that it returns a Double array."
   ],
   "metadata": {}
  },
  {
   "cell_type": "code",
   "execution_count": 7,
   "source": [
    "df.stat.approxQuantile(\"score\", Array(0.5), 0.1)"
   ],
   "outputs": [
    {
     "output_type": "execute_result",
     "data": {
      "text/plain": [
       "[2.0]"
      ]
     },
     "metadata": {},
     "execution_count": 7
    }
   ],
   "metadata": {}
  },
  {
   "cell_type": "code",
   "execution_count": 8,
   "source": [
    "df.stat.approxQuantile(\"score\", Array(0.5), 0.001)"
   ],
   "outputs": [
    {
     "output_type": "execute_result",
     "data": {
      "text/plain": [
       "[2.0]"
      ]
     },
     "metadata": {},
     "execution_count": 8
    }
   ],
   "metadata": {}
  },
  {
   "cell_type": "code",
   "execution_count": 10,
   "source": [
    "df.stat.approxQuantile(\"score\", Array(0.5), 0.5)"
   ],
   "outputs": [
    {
     "output_type": "execute_result",
     "data": {
      "text/plain": [
       "[1.0]"
      ]
     },
     "metadata": {},
     "execution_count": 10
    }
   ],
   "metadata": {}
  },
  {
   "cell_type": "markdown",
   "source": [
    "## References\n",
    "\n",
    "- [Spark SQL Built-in Functions](https://spark.apache.org/docs/latest/api/sql/index.html)\n",
    "\n",
    "- [Spark Scala Functions](https://spark.apache.org/docs/latest/api/scala/org/apache/spark/sql/functions$.html)\n",
    "\n",
    "- [Spark Java API for Dataset](https://spark.apache.org/docs/latest/api/java/index.html?org/apache/spark/sql/Dataset.html)\n",
    "\n",
    "- [Spark Java Functions](https://spark.apache.org/docs/latest/api/java/index.html?org/apache/spark/sql/functions.html)\n",
    "\n",
    "- [Spark Java API for Row](https://spark.apache.org/docs/latest/api/java/org/apache/spark/sql/Row.html)"
   ],
   "metadata": {}
  },
  {
   "cell_type": "markdown",
   "source": [],
   "metadata": {}
  }
 ],
 "metadata": {
  "kernelspec": {
   "display_name": "Scala",
   "language": "scala",
   "name": "scala"
  },
  "language_info": {
   "codemirror_mode": "text/x-scala",
   "file_extension": ".sc",
   "mimetype": "text/x-scala",
   "name": "scala",
   "nbconvert_exporter": "script",
   "version": "2.12.12"
  }
 },
 "nbformat": 4,
 "nbformat_minor": 4
}