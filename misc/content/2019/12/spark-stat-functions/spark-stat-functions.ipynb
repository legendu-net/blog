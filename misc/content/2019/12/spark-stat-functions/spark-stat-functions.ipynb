{
 "cells": [
  {
   "cell_type": "markdown",
   "metadata": {},
   "source": [
    "- Title: Statistical Functions in Spark\n",
    "- Slug: spark-stat-functions\n",
    "- Date: 2019-12-13\n",
    "- Category: Computer Science\n",
    "- Tags: programming, Scala, Spark, DataFrame, statistical functions, quantile, approximate, approxQuantile, approx_quantile\n",
    "- Author: Ben Du\n",
    "- Modified: 2021-09-30 17:35:09\n"
   ]
  },
  {
   "cell_type": "markdown",
   "metadata": {},
   "source": [
    "https://spark.apache.org/docs/latest/api/java/org/apache/spark/sql/DataFrameStatFunctions.html\n",
    "\n",
    "https://spark.apache.org/docs/latest/api/java/org/apache/spark/sql/DataFrameStatFunctions.html#approxQuantile-java.lang.String:A-double:A-double-\n",
    "\n",
    "https://spark.apache.org/docs/latest/api/sql/index.html#approx_percentile"
   ]
  },
  {
   "cell_type": "code",
   "execution_count": 9,
   "metadata": {},
   "outputs": [],
   "source": [
    "import pandas as pd"
   ]
  },
  {
   "cell_type": "code",
   "execution_count": 8,
   "metadata": {},
   "outputs": [],
   "source": [
    "import socket\n",
    "import findspark\n",
    "\n",
    "findspark.init(\"/opt/spark-3.2.0-bin-hadoop3.2\")\n",
    "from pyspark.sql import SparkSession, DataFrame\n",
    "from pyspark.sql.functions import *\n",
    "\n",
    "spark = SparkSession.builder.appName(\"PySpark\").enableHiveSupport().getOrCreate()"
   ]
  },
  {
   "cell_type": "code",
   "execution_count": 11,
   "metadata": {},
   "outputs": [
    {
     "name": "stdout",
     "output_type": "stream",
     "text": [
      "+-----+-----+-----+\n",
      "|fname|lname|score|\n",
      "+-----+-----+-----+\n",
      "|  Ben|   Du|    1|\n",
      "|  Ben|   Du|    2|\n",
      "|  Ben|   Tu|    3|\n",
      "|  Ben|   Tu|    4|\n",
      "|  Ken|   Xu|    1|\n",
      "|  Ken|   Xu|    9|\n",
      "+-----+-----+-----+\n",
      "\n"
     ]
    },
    {
     "name": "stderr",
     "output_type": "stream",
     "text": [
      "                                                                                \r"
     ]
    }
   ],
   "source": [
    "df = spark.createDataFrame(\n",
    "    pd.DataFrame(\n",
    "        data=(\n",
    "            (\"Ben\", \"Du\", 1),\n",
    "            (\"Ben\", \"Du\", 2),\n",
    "            (\"Ben\", \"Tu\", 3),\n",
    "            (\"Ben\", \"Tu\", 4),\n",
    "            (\"Ken\", \"Xu\", 1),\n",
    "            (\"Ken\", \"Xu\", 9),\n",
    "        ),\n",
    "        columns=(\"fname\", \"lname\", \"score\"),\n",
    "    )\n",
    ")\n",
    "df.show()"
   ]
  },
  {
   "cell_type": "markdown",
   "metadata": {},
   "source": [
    "## DataFrame.stat.approxQuantile\n",
    "\n",
    "Notice that it returns a Double array."
   ]
  },
  {
   "cell_type": "code",
   "execution_count": 16,
   "metadata": {},
   "outputs": [
    {
     "data": {
      "text/plain": [
       "[2.0]"
      ]
     },
     "execution_count": 16,
     "metadata": {},
     "output_type": "execute_result"
    }
   ],
   "source": [
    "df.stat.approxQuantile(\"score\", [0.5], 0.1)"
   ]
  },
  {
   "cell_type": "code",
   "execution_count": 15,
   "metadata": {},
   "outputs": [
    {
     "data": {
      "text/plain": [
       "[2.0]"
      ]
     },
     "execution_count": 15,
     "metadata": {},
     "output_type": "execute_result"
    }
   ],
   "source": [
    "df.stat.approxQuantile(\"score\", [0.5], 0.001)"
   ]
  },
  {
   "cell_type": "code",
   "execution_count": 18,
   "metadata": {},
   "outputs": [
    {
     "data": {
      "text/plain": [
       "[1.0]"
      ]
     },
     "execution_count": 18,
     "metadata": {},
     "output_type": "execute_result"
    }
   ],
   "source": [
    "df.stat.approxQuantile(\"score\", [0.5], 0.5)"
   ]
  },
  {
   "cell_type": "markdown",
   "metadata": {},
   "source": [
    "## References\n",
    "\n",
    "- [Spark SQL Built-in Functions](https://spark.apache.org/docs/latest/api/sql/index.html)\n",
    "\n",
    "- [PySpark APIs](https://spark.apache.org/docs/latest/api/python/reference/index.html)\n",
    "\n",
    "- [Spark Scala Functions](https://spark.apache.org/docs/latest/api/scala/org/apache/spark/sql/functions$.html)\n",
    "\n",
    "- [Spark Java API for Dataset](https://spark.apache.org/docs/latest/api/java/index.html?org/apache/spark/sql/Dataset.html)\n",
    "\n",
    "- [Spark Java Functions](https://spark.apache.org/docs/latest/api/java/index.html?org/apache/spark/sql/functions.html)\n",
    "\n",
    "- [Spark Java API for Row](https://spark.apache.org/docs/latest/api/java/org/apache/spark/sql/Row.html)"
   ]
  },
  {
   "cell_type": "markdown",
   "metadata": {},
   "source": []
  }
 ],
 "metadata": {
  "kernelspec": {
   "display_name": "Python 3 (ipykernel)",
   "language": "python",
   "name": "python3"
  },
  "language_info": {
   "codemirror_mode": {
    "name": "ipython",
    "version": 3
   },
   "file_extension": ".py",
   "mimetype": "text/x-python",
   "name": "python",
   "nbconvert_exporter": "python",
   "pygments_lexer": "ipython3",
   "version": "3.8.10"
  }
 },
 "nbformat": 4,
 "nbformat_minor": 4
}
