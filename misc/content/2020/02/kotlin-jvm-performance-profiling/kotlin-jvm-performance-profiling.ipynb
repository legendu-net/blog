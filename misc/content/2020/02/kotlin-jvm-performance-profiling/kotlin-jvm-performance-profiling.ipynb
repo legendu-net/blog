{
 "cells": [
  {
   "cell_type": "markdown",
   "metadata": {},
   "source": [
    "- Title: Performance Profiling of JVM Applications \n",
    "- Slug: kotlin-jvm-performace-profiling\n",
    "- Date: 2020-02-10\n",
    "- Category: Computer Science\n",
    "- Tags: programming, Kotlin, JVM, performance, profile, Java, VisualVM, nanoTime, JMH\n",
    "- Author: Ben Du\n",
    "- Modified: 2020-02-10\n"
   ]
  },
  {
   "cell_type": "markdown",
   "metadata": {},
   "source": [
    "## System.nanoTime\n",
    "\n",
    "The naive way is to profling your JVM application using `System.nanoTime` \n",
    "(which gets the system time in nanosecond resolution)."
   ]
  },
  {
   "cell_type": "code",
   "execution_count": null,
   "metadata": {},
   "outputs": [],
   "source": [
    "System.nanoTime()"
   ]
  },
  {
   "cell_type": "markdown",
   "metadata": {},
   "source": [
    "## [VisualVM](http://www.legendu.net/misc/blog/tips-on-virtualvm/)\n",
    "\n",
    "[VisualVM](http://www.legendu.net/misc/blog/tips-on-virtualvm/)\n",
    "is a great tool for performance profiling of JVM applications."
   ]
  },
  {
   "cell_type": "markdown",
   "metadata": {},
   "source": [
    "## JMH\n",
    "\n",
    "JMH is a micro benchmark tool for Java.\n",
    "\n",
    "https://www.baeldung.com/java-microbenchmark-harness\n",
    "\n",
    "https://mp.weixin.qq.com/s/KSsYA3woNdFje_Y9fcjedQ"
   ]
  },
  {
   "cell_type": "code",
   "execution_count": null,
   "metadata": {},
   "outputs": [],
   "source": []
  }
 ],
 "metadata": {
  "kernelspec": {
   "display_name": "Kotlin",
   "language": "kotlin",
   "name": "kotlin"
  },
  "language_info": {
   "codemirror_mode": "kotlin",
   "file_extension": ".kt",
   "mimetype": "",
   "name": "Kotlin",
   "nbconverter_exporter": "",
   "version": "1.2.21"
  }
 },
 "nbformat": 4,
 "nbformat_minor": 4
}