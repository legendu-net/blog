{
 "cells": [
  {
   "cell_type": "markdown",
   "metadata": {},
   "source": [
    "- Title: AutoML on Tabular Data Using AutoGluon\n",
    "- Slug: python-automl-autogluon\n",
    "- Date: 2020-02-04\n",
    "- Category: Ai\n",
    "- Tags: Ai, Python, data science, machine learning, AutoML, AutoGluon\n",
    "- Author: Ben Du\n",
    "- Modified: 2020-02-04\n"
   ]
  },
  {
   "cell_type": "code",
   "execution_count": 1,
   "metadata": {},
   "outputs": [],
   "source": [
    "import autogluon\n",
    "import autogluon as ag\n",
    "from autogluon import TabularPrediction as task\n",
    "import pandas as pd\n",
    "from sklearn.model_selection import train_test_split"
   ]
  },
  {
   "cell_type": "markdown",
   "metadata": {},
   "source": [
    "Note: please download the dataset `legendu/avg_score_after_round3_features` from Kaggle\n",
    "before proceeding to the following."
   ]
  },
  {
   "cell_type": "code",
   "execution_count": 3,
   "metadata": {},
   "outputs": [],
   "source": [
    "df = pd.read_parquet(\"avg_score_after_round3_features/\")\n",
    "train, test = train_test_split(df.iloc[:, 4:], test_size=0.4, random_state=119)"
   ]
  },
  {
   "cell_type": "code",
   "execution_count": 4,
   "metadata": {},
   "outputs": [
    {
     "data": {
      "text/plain": [
       "(553608, 35)"
      ]
     },
     "execution_count": 4,
     "metadata": {},
     "output_type": "execute_result"
    }
   ],
   "source": [
    "train.shape"
   ]
  },
  {
   "cell_type": "code",
   "execution_count": 5,
   "metadata": {},
   "outputs": [
    {
     "data": {
      "text/plain": [
       "(369072, 35)"
      ]
     },
     "execution_count": 5,
     "metadata": {},
     "output_type": "execute_result"
    }
   ],
   "source": [
    "test.shape"
   ]
  },
  {
   "cell_type": "code",
   "execution_count": 6,
   "metadata": {},
   "outputs": [],
   "source": [
    "train_data = task.Dataset(df=train)\n",
    "test_data = task.Dataset(df=test)"
   ]
  },
  {
   "cell_type": "code",
   "execution_count": null,
   "metadata": {},
   "outputs": [
    {
     "name": "stderr",
     "output_type": "stream",
     "text": [
      "Beginning AutoGluon training ...\n",
      "AutoGluon will save models to auto_gluon/\n",
      "Train Data Rows:    553608\n",
      "Train Data Columns: 35\n",
      "Preprocessing data ...\n",
      "Here are the first 10 unique label values in your data:  [ 5.41576689  0.59051321  3.5933087   0.22835347  2.58887605  0.03626061\n",
      " 15.30469829  4.38147371  4.57907499  9.85850969]\n",
      "AutoGluon infers your prediction problem is: regression  (because dtype of label-column == float and many unique label-values observed)\n",
      "If this is wrong, please specify `problem_type` argument in fit() instead (You may specify problem_type as one of: ['binary', 'multiclass', 'regression'])\n",
      "\n",
      "Feature Generator processed 553608 data points with 34 features\n",
      "Original Features:\n",
      "\tint features: 11\n",
      "\tfloat features: 23\n",
      "Generated Features:\n",
      "\tint features: 0\n",
      "All Features:\n",
      "\tint features: 11\n",
      "\tfloat features: 23\n",
      "\tData preprocessing and feature engineering runtime = 1.72s ...\n",
      "AutoGluon will gauge predictive performance using evaluation metric: root_mean_squared_error\n",
      "To change this, specify the eval_metric argument of fit()\n",
      "AutoGluon will early stop models using evaluation metric: root_mean_squared_error\n",
      "/usr/lib/python3.7/imp.py:342: DeprecationWarning: Using or importing the ABCs from 'collections' instead of from 'collections.abc' is deprecated, and in 3.8 it will stop working\n",
      "  return _load(spec)\n",
      "Fitting model: RandomForestRegressorMSE ...\n",
      "\t-1.111\t = Validation root_mean_squared_error score\n",
      "\t153.25s\t = Training runtime\n",
      "\t0.55s\t = Validation runtime\n"
     ]
    }
   ],
   "source": [
    "model = task.fit(\n",
    "    train_data=train_data,\n",
    "    output_directory=\"auto_gluon\",\n",
    "    label=\"avg_score_after_round3\"\n",
    ")"
   ]
  },
  {
   "cell_type": "code",
   "execution_count": 13,
   "metadata": {},
   "outputs": [
    {
     "name": "stdout",
     "output_type": "stream",
     "text": [
      "*** Summary of fit() ***\n",
      "Number of models trained: 9\n",
      "Types of models trained: \n",
      "{'LGBModel', 'CatboostModel', 'KNNModel', 'WeightedEnsembleModel', 'TabularNeuralNetModel', 'RFModel'}\n",
      "Validation performance of individual models: {'RandomForestRegressorMSE': -1.0657452978721853, 'ExtraTreesRegressorMSE': -0.9910711261197889, 'KNeighborsRegressorUnif': -1.7777866717734974, 'KNeighborsRegressorDist': -1.5954465432398592, 'LightGBMRegressor': -1.06333423182554, 'CatboostRegressor': -1.0040615551029053, 'NeuralNetRegressor': -0.9160444564621223, 'LightGBMRegressorCustom': -1.038906098211013, 'weighted_ensemble_k0_l1': -0.8812506880621533}\n",
      "Best model (based on validation performance): weighted_ensemble_k0_l1\n",
      "Hyperparameter-tuning used: False\n",
      "Bagging used: False \n",
      "Stack-ensembling used: False \n",
      "User-specified hyperparameters:\n",
      "{'NN': {'num_epochs': 500}, 'GBM': {'num_boost_round': 10000}, 'CAT': {'iterations': 10000}, 'RF': {'n_estimators': 300}, 'XT': {'n_estimators': 300}, 'KNN': {}, 'custom': ['GBM']}\n",
      "Plot summary of models saved to file: SummaryOfModels.html\n",
      "*** End of fit() summary ***\n"
     ]
    },
    {
     "name": "stderr",
     "output_type": "stream",
     "text": [
      "/usr/lib/python3.7/imp.py:342: DeprecationWarning: Using or importing the ABCs from 'collections' instead of from 'collections.abc' is deprecated, and in 3.8 it will stop working\n",
      "  return _load(spec)\n",
      "/usr/local/lib/python3.7/dist-packages/autogluon/utils/plots.py:133: UserWarning: AutoGluon summary plots cannot be created because bokeh is not installed. Please do: \"pip install bokeh\"\n",
      "  warnings.warn('AutoGluon summary plots cannot be created because bokeh is not installed. Please do: \"pip install bokeh\"')\n"
     ]
    },
    {
     "data": {
      "text/plain": [
       "{'model_types': {'RandomForestRegressorMSE': 'RFModel',\n",
       "  'ExtraTreesRegressorMSE': 'RFModel',\n",
       "  'KNeighborsRegressorUnif': 'KNNModel',\n",
       "  'KNeighborsRegressorDist': 'KNNModel',\n",
       "  'LightGBMRegressor': 'LGBModel',\n",
       "  'CatboostRegressor': 'CatboostModel',\n",
       "  'NeuralNetRegressor': 'TabularNeuralNetModel',\n",
       "  'LightGBMRegressorCustom': 'LGBModel',\n",
       "  'weighted_ensemble_k0_l1': 'WeightedEnsembleModel'},\n",
       " 'model_performance': {'RandomForestRegressorMSE': -1.0657452978721853,\n",
       "  'ExtraTreesRegressorMSE': -0.9910711261197889,\n",
       "  'KNeighborsRegressorUnif': -1.7777866717734974,\n",
       "  'KNeighborsRegressorDist': -1.5954465432398592,\n",
       "  'LightGBMRegressor': -1.06333423182554,\n",
       "  'CatboostRegressor': -1.0040615551029053,\n",
       "  'NeuralNetRegressor': -0.9160444564621223,\n",
       "  'LightGBMRegressorCustom': -1.038906098211013,\n",
       "  'weighted_ensemble_k0_l1': -0.8812506880621533},\n",
       " 'model_best': 'weighted_ensemble_k0_l1',\n",
       " 'model_paths': {'RandomForestRegressorMSE': 'auto_gluon/models/RandomForestRegressorMSE/',\n",
       "  'ExtraTreesRegressorMSE': 'auto_gluon/models/ExtraTreesRegressorMSE/',\n",
       "  'KNeighborsRegressorUnif': 'auto_gluon/models/KNeighborsRegressorUnif/',\n",
       "  'KNeighborsRegressorDist': 'auto_gluon/models/KNeighborsRegressorDist/',\n",
       "  'LightGBMRegressor': 'auto_gluon/models/LightGBMRegressor/',\n",
       "  'CatboostRegressor': 'auto_gluon/models/CatboostRegressor/',\n",
       "  'NeuralNetRegressor': 'auto_gluon/models/NeuralNetRegressor/',\n",
       "  'LightGBMRegressorCustom': 'auto_gluon/models/LightGBMRegressorCustom/',\n",
       "  'weighted_ensemble_k0_l1': 'auto_gluon/models/weighted_ensemble_k0_l1/'},\n",
       " 'model_fit_times': {'RandomForestRegressorMSE': 152.92721271514893,\n",
       "  'ExtraTreesRegressorMSE': 100.98368000984192,\n",
       "  'KNeighborsRegressorUnif': 19.484992265701294,\n",
       "  'KNeighborsRegressorDist': 19.212828636169434,\n",
       "  'LightGBMRegressor': 13.707395076751709,\n",
       "  'CatboostRegressor': 799.2617483139038,\n",
       "  'NeuralNetRegressor': 4635.101431131363,\n",
       "  'LightGBMRegressorCustom': 21.870562076568604,\n",
       "  'weighted_ensemble_k0_l1': 0.795548677444458},\n",
       " 'model_pred_times': {'RandomForestRegressorMSE': 0.5544726848602295,\n",
       "  'ExtraTreesRegressorMSE': 0.738731861114502,\n",
       "  'KNeighborsRegressorUnif': 0.15466761589050293,\n",
       "  'KNeighborsRegressorDist': 0.13497662544250488,\n",
       "  'LightGBMRegressor': 0.02784132957458496,\n",
       "  'CatboostRegressor': 0.04940915107727051,\n",
       "  'NeuralNetRegressor': 4.679487466812134,\n",
       "  'LightGBMRegressorCustom': 0.03708219528198242,\n",
       "  'weighted_ensemble_k0_l1': 0.0013790130615234375},\n",
       " 'num_bagging_folds': 0,\n",
       " 'stack_ensemble_levels': 0,\n",
       " 'feature_prune': False,\n",
       " 'hyperparameter_tune': False,\n",
       " 'hyperparameters_userspecified': {'NN': {'num_epochs': 500},\n",
       "  'GBM': {'num_boost_round': 10000},\n",
       "  'CAT': {'iterations': 10000},\n",
       "  'RF': {'n_estimators': 300},\n",
       "  'XT': {'n_estimators': 300},\n",
       "  'KNN': {},\n",
       "  'custom': ['GBM']},\n",
       " 'model_hyperparams': {'RandomForestRegressorMSE': {'model_type': 'rf',\n",
       "   'n_estimators': 300,\n",
       "   'n_jobs': -1,\n",
       "   'criterion': 'mse'},\n",
       "  'ExtraTreesRegressorMSE': {'model_type': 'xt',\n",
       "   'n_estimators': 300,\n",
       "   'n_jobs': -1,\n",
       "   'criterion': 'mse'},\n",
       "  'KNeighborsRegressorUnif': {'weights': 'uniform', 'n_jobs': -1},\n",
       "  'KNeighborsRegressorDist': {'weights': 'distance', 'n_jobs': -1},\n",
       "  'LightGBMRegressor': {'num_boost_round': 10000,\n",
       "   'num_threads': -1,\n",
       "   'objective': 'regression',\n",
       "   'metric': 'regression',\n",
       "   'verbose': -1,\n",
       "   'boosting_type': 'gbdt',\n",
       "   'two_round': True},\n",
       "  'CatboostRegressor': {'iterations': 10000,\n",
       "   'learning_rate': 0.1,\n",
       "   'random_seed': 0,\n",
       "   'eval_metric': <autogluon.utils.tabular.ml.models.catboost.catboost_utils.RegressionCustomMetric at 0x7f3500c8eb00>},\n",
       "  'NeuralNetRegressor': {'num_epochs': 500,\n",
       "   'seed_value': None,\n",
       "   'proc.embed_min_categories': 4,\n",
       "   'proc.impute_strategy': 'median',\n",
       "   'proc.max_category_levels': 100,\n",
       "   'proc.skew_threshold': 0.99,\n",
       "   'network_type': 'widedeep',\n",
       "   'layers': [256, 128],\n",
       "   'numeric_embed_dim': 420,\n",
       "   'activation': 'relu',\n",
       "   'max_layer_width': 2056,\n",
       "   'embedding_size_factor': 1.0,\n",
       "   'embed_exponent': 0.56,\n",
       "   'max_embedding_dim': 100,\n",
       "   'y_range': (0, 57.325798296928404),\n",
       "   'y_range_extend': 0.05,\n",
       "   'use_batchnorm': True,\n",
       "   'dropout_prob': 0.1,\n",
       "   'batch_size': 512,\n",
       "   'loss_function': L1Loss(batch_axis=0, w=None),\n",
       "   'optimizer': 'adam',\n",
       "   'learning_rate': 0.0003,\n",
       "   'weight_decay': 1e-06,\n",
       "   'clip_gradient': 100.0,\n",
       "   'momentum': 0.9,\n",
       "   'epochs_wo_improve': 20,\n",
       "   'num_dataloading_workers': 20,\n",
       "   'ctx': cpu(0)},\n",
       "  'LightGBMRegressorCustom': {'num_boost_round': 10000,\n",
       "   'num_threads': -1,\n",
       "   'objective': 'regression',\n",
       "   'metric': 'regression',\n",
       "   'verbose': -1,\n",
       "   'boosting_type': 'gbdt',\n",
       "   'two_round': True,\n",
       "   'learning_rate': 0.03,\n",
       "   'num_leaves': 128,\n",
       "   'feature_fraction': 0.9,\n",
       "   'min_data_in_leaf': 5,\n",
       "   'seed_value': 0},\n",
       "  'weighted_ensemble_k0_l1': {'max_models': 25, 'max_models_per_type': 5}}}"
      ]
     },
     "execution_count": 13,
     "metadata": {},
     "output_type": "execute_result"
    }
   ],
   "source": [
    "model.fit_summary()"
   ]
  },
  {
   "cell_type": "code",
   "execution_count": 15,
   "metadata": {},
   "outputs": [
    {
     "name": "stdout",
     "output_type": "stream",
     "text": [
      "                      model  score_val     fit_time  pred_time_val  stack_level\n",
      "8   weighted_ensemble_k0_l1  -0.881251     0.795549       0.001379            1\n",
      "6        NeuralNetRegressor  -0.916044  4635.101431       4.679487            0\n",
      "1    ExtraTreesRegressorMSE  -0.991071   100.983680       0.738732            0\n",
      "5         CatboostRegressor  -1.004062   799.261748       0.049409            0\n",
      "7   LightGBMRegressorCustom  -1.038906    21.870562       0.037082            0\n",
      "4         LightGBMRegressor  -1.063334    13.707395       0.027841            0\n",
      "0  RandomForestRegressorMSE  -1.065745   152.927213       0.554473            0\n",
      "3   KNeighborsRegressorDist  -1.595447    19.212829       0.134977            0\n",
      "2   KNeighborsRegressorUnif  -1.777787    19.484992       0.154668            0\n"
     ]
    },
    {
     "data": {
      "text/html": [
       "<div>\n",
       "<style scoped>\n",
       "    .dataframe tbody tr th:only-of-type {\n",
       "        vertical-align: middle;\n",
       "    }\n",
       "\n",
       "    .dataframe tbody tr th {\n",
       "        vertical-align: top;\n",
       "    }\n",
       "\n",
       "    .dataframe thead th {\n",
       "        text-align: right;\n",
       "    }\n",
       "</style>\n",
       "<table border=\"1\" class=\"dataframe\">\n",
       "  <thead>\n",
       "    <tr style=\"text-align: right;\">\n",
       "      <th></th>\n",
       "      <th>model</th>\n",
       "      <th>score_val</th>\n",
       "      <th>fit_time</th>\n",
       "      <th>pred_time_val</th>\n",
       "      <th>stack_level</th>\n",
       "    </tr>\n",
       "  </thead>\n",
       "  <tbody>\n",
       "    <tr>\n",
       "      <th>8</th>\n",
       "      <td>weighted_ensemble_k0_l1</td>\n",
       "      <td>-0.881251</td>\n",
       "      <td>0.795549</td>\n",
       "      <td>0.001379</td>\n",
       "      <td>1</td>\n",
       "    </tr>\n",
       "    <tr>\n",
       "      <th>6</th>\n",
       "      <td>NeuralNetRegressor</td>\n",
       "      <td>-0.916044</td>\n",
       "      <td>4635.101431</td>\n",
       "      <td>4.679487</td>\n",
       "      <td>0</td>\n",
       "    </tr>\n",
       "    <tr>\n",
       "      <th>1</th>\n",
       "      <td>ExtraTreesRegressorMSE</td>\n",
       "      <td>-0.991071</td>\n",
       "      <td>100.983680</td>\n",
       "      <td>0.738732</td>\n",
       "      <td>0</td>\n",
       "    </tr>\n",
       "    <tr>\n",
       "      <th>5</th>\n",
       "      <td>CatboostRegressor</td>\n",
       "      <td>-1.004062</td>\n",
       "      <td>799.261748</td>\n",
       "      <td>0.049409</td>\n",
       "      <td>0</td>\n",
       "    </tr>\n",
       "    <tr>\n",
       "      <th>7</th>\n",
       "      <td>LightGBMRegressorCustom</td>\n",
       "      <td>-1.038906</td>\n",
       "      <td>21.870562</td>\n",
       "      <td>0.037082</td>\n",
       "      <td>0</td>\n",
       "    </tr>\n",
       "    <tr>\n",
       "      <th>4</th>\n",
       "      <td>LightGBMRegressor</td>\n",
       "      <td>-1.063334</td>\n",
       "      <td>13.707395</td>\n",
       "      <td>0.027841</td>\n",
       "      <td>0</td>\n",
       "    </tr>\n",
       "    <tr>\n",
       "      <th>0</th>\n",
       "      <td>RandomForestRegressorMSE</td>\n",
       "      <td>-1.065745</td>\n",
       "      <td>152.927213</td>\n",
       "      <td>0.554473</td>\n",
       "      <td>0</td>\n",
       "    </tr>\n",
       "    <tr>\n",
       "      <th>3</th>\n",
       "      <td>KNeighborsRegressorDist</td>\n",
       "      <td>-1.595447</td>\n",
       "      <td>19.212829</td>\n",
       "      <td>0.134977</td>\n",
       "      <td>0</td>\n",
       "    </tr>\n",
       "    <tr>\n",
       "      <th>2</th>\n",
       "      <td>KNeighborsRegressorUnif</td>\n",
       "      <td>-1.777787</td>\n",
       "      <td>19.484992</td>\n",
       "      <td>0.154668</td>\n",
       "      <td>0</td>\n",
       "    </tr>\n",
       "  </tbody>\n",
       "</table>\n",
       "</div>"
      ],
      "text/plain": [
       "                      model  score_val     fit_time  pred_time_val  \\\n",
       "8   weighted_ensemble_k0_l1  -0.881251     0.795549       0.001379   \n",
       "6        NeuralNetRegressor  -0.916044  4635.101431       4.679487   \n",
       "1    ExtraTreesRegressorMSE  -0.991071   100.983680       0.738732   \n",
       "5         CatboostRegressor  -1.004062   799.261748       0.049409   \n",
       "7   LightGBMRegressorCustom  -1.038906    21.870562       0.037082   \n",
       "4         LightGBMRegressor  -1.063334    13.707395       0.027841   \n",
       "0  RandomForestRegressorMSE  -1.065745   152.927213       0.554473   \n",
       "3   KNeighborsRegressorDist  -1.595447    19.212829       0.134977   \n",
       "2   KNeighborsRegressorUnif  -1.777787    19.484992       0.154668   \n",
       "\n",
       "   stack_level  \n",
       "8            1  \n",
       "6            0  \n",
       "1            0  \n",
       "5            0  \n",
       "7            0  \n",
       "4            0  \n",
       "0            0  \n",
       "3            0  \n",
       "2            0  "
      ]
     },
     "execution_count": 15,
     "metadata": {},
     "output_type": "execute_result"
    }
   ],
   "source": [
    "model.leaderboard()"
   ]
  },
  {
   "cell_type": "code",
   "execution_count": 16,
   "metadata": {},
   "outputs": [
    {
     "data": {
      "text/plain": [
       "['__abstractmethods__',\n",
       " '__class__',\n",
       " '__delattr__',\n",
       " '__dict__',\n",
       " '__dir__',\n",
       " '__doc__',\n",
       " '__eq__',\n",
       " '__format__',\n",
       " '__ge__',\n",
       " '__getattribute__',\n",
       " '__gt__',\n",
       " '__hash__',\n",
       " '__init__',\n",
       " '__init_subclass__',\n",
       " '__le__',\n",
       " '__lt__',\n",
       " '__module__',\n",
       " '__ne__',\n",
       " '__new__',\n",
       " '__reduce__',\n",
       " '__reduce_ex__',\n",
       " '__repr__',\n",
       " '__setattr__',\n",
       " '__sizeof__',\n",
       " '__slots__',\n",
       " '__str__',\n",
       " '__subclasshook__',\n",
       " '__weakref__',\n",
       " '_abc_impl',\n",
       " '_createResults',\n",
       " '_format_results',\n",
       " '_learner',\n",
       " '_save_model',\n",
       " '_save_results',\n",
       " '_summarize',\n",
       " '_trainer',\n",
       " 'class_labels',\n",
       " 'eval_metric',\n",
       " 'evaluate',\n",
       " 'evaluate_predictions',\n",
       " 'feature_types',\n",
       " 'fit_summary',\n",
       " 'label_column',\n",
       " 'leaderboard',\n",
       " 'load',\n",
       " 'model_names',\n",
       " 'model_performance',\n",
       " 'output_directory',\n",
       " 'predict',\n",
       " 'predict_proba',\n",
       " 'problem_type',\n",
       " 'save']"
      ]
     },
     "execution_count": 16,
     "metadata": {},
     "output_type": "execute_result"
    }
   ],
   "source": [
    "dir(model)"
   ]
  },
  {
   "cell_type": "markdown",
   "metadata": {},
   "source": [
    "## Load Saved Models\n",
    "\n",
    "The trained models are automatically saved to disk \n",
    "and can be load back into memory."
   ]
  },
  {
   "cell_type": "code",
   "execution_count": 10,
   "metadata": {},
   "outputs": [],
   "source": [
    "model2 = task.load(\"auto_gluon\")"
   ]
  },
  {
   "cell_type": "code",
   "execution_count": 11,
   "metadata": {},
   "outputs": [
    {
     "name": "stdout",
     "output_type": "stream",
     "text": [
      "                      model  score_val     fit_time  pred_time_val  stack_level\n",
      "8   weighted_ensemble_k0_l1  -0.881251     0.795549       0.001379            1\n",
      "6        NeuralNetRegressor  -0.916044  4635.101431       4.679487            0\n",
      "1    ExtraTreesRegressorMSE  -0.991071   100.983680       0.738732            0\n",
      "5         CatboostRegressor  -1.004062   799.261748       0.049409            0\n",
      "7   LightGBMRegressorCustom  -1.038906    21.870562       0.037082            0\n",
      "4         LightGBMRegressor  -1.063334    13.707395       0.027841            0\n",
      "0  RandomForestRegressorMSE  -1.065745   152.927213       0.554473            0\n",
      "3   KNeighborsRegressorDist  -1.595447    19.212829       0.134977            0\n",
      "2   KNeighborsRegressorUnif  -1.777787    19.484992       0.154668            0\n"
     ]
    },
    {
     "data": {
      "text/html": [
       "<div>\n",
       "<style scoped>\n",
       "    .dataframe tbody tr th:only-of-type {\n",
       "        vertical-align: middle;\n",
       "    }\n",
       "\n",
       "    .dataframe tbody tr th {\n",
       "        vertical-align: top;\n",
       "    }\n",
       "\n",
       "    .dataframe thead th {\n",
       "        text-align: right;\n",
       "    }\n",
       "</style>\n",
       "<table border=\"1\" class=\"dataframe\">\n",
       "  <thead>\n",
       "    <tr style=\"text-align: right;\">\n",
       "      <th></th>\n",
       "      <th>model</th>\n",
       "      <th>score_val</th>\n",
       "      <th>fit_time</th>\n",
       "      <th>pred_time_val</th>\n",
       "      <th>stack_level</th>\n",
       "    </tr>\n",
       "  </thead>\n",
       "  <tbody>\n",
       "    <tr>\n",
       "      <th>8</th>\n",
       "      <td>weighted_ensemble_k0_l1</td>\n",
       "      <td>-0.881251</td>\n",
       "      <td>0.795549</td>\n",
       "      <td>0.001379</td>\n",
       "      <td>1</td>\n",
       "    </tr>\n",
       "    <tr>\n",
       "      <th>6</th>\n",
       "      <td>NeuralNetRegressor</td>\n",
       "      <td>-0.916044</td>\n",
       "      <td>4635.101431</td>\n",
       "      <td>4.679487</td>\n",
       "      <td>0</td>\n",
       "    </tr>\n",
       "    <tr>\n",
       "      <th>1</th>\n",
       "      <td>ExtraTreesRegressorMSE</td>\n",
       "      <td>-0.991071</td>\n",
       "      <td>100.983680</td>\n",
       "      <td>0.738732</td>\n",
       "      <td>0</td>\n",
       "    </tr>\n",
       "    <tr>\n",
       "      <th>5</th>\n",
       "      <td>CatboostRegressor</td>\n",
       "      <td>-1.004062</td>\n",
       "      <td>799.261748</td>\n",
       "      <td>0.049409</td>\n",
       "      <td>0</td>\n",
       "    </tr>\n",
       "    <tr>\n",
       "      <th>7</th>\n",
       "      <td>LightGBMRegressorCustom</td>\n",
       "      <td>-1.038906</td>\n",
       "      <td>21.870562</td>\n",
       "      <td>0.037082</td>\n",
       "      <td>0</td>\n",
       "    </tr>\n",
       "    <tr>\n",
       "      <th>4</th>\n",
       "      <td>LightGBMRegressor</td>\n",
       "      <td>-1.063334</td>\n",
       "      <td>13.707395</td>\n",
       "      <td>0.027841</td>\n",
       "      <td>0</td>\n",
       "    </tr>\n",
       "    <tr>\n",
       "      <th>0</th>\n",
       "      <td>RandomForestRegressorMSE</td>\n",
       "      <td>-1.065745</td>\n",
       "      <td>152.927213</td>\n",
       "      <td>0.554473</td>\n",
       "      <td>0</td>\n",
       "    </tr>\n",
       "    <tr>\n",
       "      <th>3</th>\n",
       "      <td>KNeighborsRegressorDist</td>\n",
       "      <td>-1.595447</td>\n",
       "      <td>19.212829</td>\n",
       "      <td>0.134977</td>\n",
       "      <td>0</td>\n",
       "    </tr>\n",
       "    <tr>\n",
       "      <th>2</th>\n",
       "      <td>KNeighborsRegressorUnif</td>\n",
       "      <td>-1.777787</td>\n",
       "      <td>19.484992</td>\n",
       "      <td>0.154668</td>\n",
       "      <td>0</td>\n",
       "    </tr>\n",
       "  </tbody>\n",
       "</table>\n",
       "</div>"
      ],
      "text/plain": [
       "                      model  score_val     fit_time  pred_time_val  \\\n",
       "8   weighted_ensemble_k0_l1  -0.881251     0.795549       0.001379   \n",
       "6        NeuralNetRegressor  -0.916044  4635.101431       4.679487   \n",
       "1    ExtraTreesRegressorMSE  -0.991071   100.983680       0.738732   \n",
       "5         CatboostRegressor  -1.004062   799.261748       0.049409   \n",
       "7   LightGBMRegressorCustom  -1.038906    21.870562       0.037082   \n",
       "4         LightGBMRegressor  -1.063334    13.707395       0.027841   \n",
       "0  RandomForestRegressorMSE  -1.065745   152.927213       0.554473   \n",
       "3   KNeighborsRegressorDist  -1.595447    19.212829       0.134977   \n",
       "2   KNeighborsRegressorUnif  -1.777787    19.484992       0.154668   \n",
       "\n",
       "   stack_level  \n",
       "8            1  \n",
       "6            0  \n",
       "1            0  \n",
       "5            0  \n",
       "7            0  \n",
       "4            0  \n",
       "0            0  \n",
       "3            0  \n",
       "2            0  "
      ]
     },
     "execution_count": 11,
     "metadata": {},
     "output_type": "execute_result"
    }
   ],
   "source": [
    "model2.leaderboard()"
   ]
  },
  {
   "cell_type": "markdown",
   "metadata": {},
   "source": [
    "## Further Research\n",
    "\n",
    "It is strange that ExtraTreesRegressorMSE and RandomForestRegressorMSE generate huge models. \n",
    "Check to see what happened."
   ]
  },
  {
   "cell_type": "code",
   "execution_count": 20,
   "metadata": {},
   "outputs": [
    {
     "name": "stdout",
     "output_type": "stream",
     "text": [
      "1.3M\tauto_gluon/models/LightGBMRegressor\n",
      "100K\tauto_gluon/models/weighted_ensemble_k0_l1\n",
      "20G\tauto_gluon/models/ExtraTreesRegressorMSE\n",
      "311M\tauto_gluon/models/KNeighborsRegressorDist\n",
      "311M\tauto_gluon/models/KNeighborsRegressorUnif\n",
      "13G\tauto_gluon/models/RandomForestRegressorMSE\n",
      "4.3M\tauto_gluon/models/LightGBMRegressorCustom\n",
      "3.9M\tauto_gluon/models/NeuralNetRegressor\n",
      "1.8M\tauto_gluon/models/CatboostRegressor\n",
      "32G\tauto_gluon/models\n"
     ]
    }
   ],
   "source": [
    "!du -lhd 1 auto_gluon/models"
   ]
  },
  {
   "cell_type": "code",
   "execution_count": null,
   "metadata": {},
   "outputs": [],
   "source": []
  }
 ],
 "metadata": {
  "kernelspec": {
   "display_name": "Python 3",
   "language": "python",
   "name": "python3"
  },
  "language_info": {
   "codemirror_mode": {
    "name": "ipython",
    "version": 3
   },
   "file_extension": ".py",
   "mimetype": "text/x-python",
   "name": "python",
   "nbconvert_exporter": "python",
   "pygments_lexer": "ipython3",
   "version": "3.7.3"
  }
 },
 "nbformat": 4,
 "nbformat_minor": 4
}