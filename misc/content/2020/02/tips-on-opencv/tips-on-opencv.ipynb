{
 "cells": [
  {
   "cell_type": "markdown",
   "metadata": {},
   "source": [
    "- Author: Benjamin Du\n",
    "- Date: 2021-09-22 10:19:09\n",
    "- Modified: 2021-09-22 10:19:09\n",
    "- Title: Tips on OpenCV\n",
    "- Slug: tips-on-opencv\n",
    "- Category: Computer Science\n",
    "- Tags: programming, OpenCV, tips, computer vision, CV"
   ]
  },
  {
   "cell_type": "markdown",
   "metadata": {},
   "source": [
    "**\n",
    "Things on this page are fragmentary and immature notes/thoughts of the author.\n",
    "Please read with your own judgement!\n",
    "**"
   ]
  },
  {
   "cell_type": "markdown",
   "metadata": {},
   "source": [
    "## Installation\n",
    "\n",
    "You can install OpenCV for Python using the following commands.\n",
    "\n",
    "    :::bash\n",
    "    sudo apt-get install libsm6 libxrender-dev\n",
    "    pip3 install opencv-python\n",
    "\n",
    "If you use \n",
    "[xinstall](https://github.com/dclong/xinstall),\n",
    "you can install OpenCV for Python with the following single command.\n",
    "\n",
    "    :::bash\n",
    "    xinstall --sudo cv -ic"
   ]
  },
  {
   "cell_type": "markdown",
   "metadata": {},
   "source": [
    "## Tips and Traps\n",
    "\n",
    "1. `cv2.imread` returns a numpy ndarray in Python.\n",
    "    This is different from `PIL.Image.Image.open` which returns a Pillow Image.\n",
    "    `cv2.imread` can be more efficient if you want to manipulate the underlying data of image\n",
    "    as you do not have to convert between the underlying data and image objects.\n",
    "    \n",
    "2. OpenCV uses the `BGR` representation of an image\n",
    "    when storing it as a numpy array.\n",
    "    This is different from Pillow \n",
    "    which uses the `RGB` representation of images.\n",
    "    `numpy.flip(arr, 2)` might help \n",
    "    if a library doesn't different representation of images\n",
    "    (e.g. `PIL.Image.fromarray` does not support `BGR` even if it has `mode` parameter).\n",
    "    \n",
    "3. `cv2.imwrite` support writing to different format of image,\n",
    "    and the format of the output image is determined by the file extension."
   ]
  },
  {
   "cell_type": "code",
   "execution_count": 6,
   "metadata": {},
   "outputs": [],
   "source": [
    "import numpy as np\n",
    "from PIL import Image\n",
    "import cv2"
   ]
  },
  {
   "cell_type": "markdown",
   "metadata": {},
   "source": [
    "cv2.imread returns a numpy array,\n",
    "however, \n",
    "it is in BGR mode \n",
    "which is different from Pillow (who uses RGB mode). \n",
    "\n",
    "cv2 uses BGR mode ..."
   ]
  },
  {
   "cell_type": "code",
   "execution_count": 4,
   "metadata": {},
   "outputs": [],
   "source": [
    "!curl -sSL -o 4h.png https://user-images.githubusercontent.com/824507/128439087-0c935d86-bb34-4c2c-8e69-6d78b3022833.png"
   ]
  },
  {
   "cell_type": "code",
   "execution_count": 7,
   "metadata": {},
   "outputs": [
    {
     "data": {
      "image/png": "[encoded data removed]",
      "text/plain": [
       "<PIL.Image.Image image mode=RGB size=37x54 at 0x7FA986678C70>"
      ]
     },
     "execution_count": 7,
     "metadata": {},
     "output_type": "execute_result"
    }
   ],
   "source": [
    "arr = cv2.imread(\"4h.png\")\n",
    "Image.fromarray(np.flip(arr, 2))"
   ]
  },
  {
   "cell_type": "markdown",
   "metadata": {},
   "source": [
    "## cv2.copyMakeBorder"
   ]
  },
  {
   "cell_type": "code",
   "execution_count": 20,
   "metadata": {},
   "outputs": [
    {
     "data": {
      "image/png": "[encoded data removed]",
      "text/plain": [
       "<PIL.Image.Image image mode=RGB size=54x69 at 0x7FEE5C589A30>"
      ]
     },
     "execution_count": 20,
     "metadata": {},
     "output_type": "execute_result"
    }
   ],
   "source": [
    "arr2 = cv2.copyMakeBorder(\n",
    "    arr, 9, 9, 9, 9, borderType=cv2.BORDER_CONSTANT, value=(0, 255, 0)\n",
    ")\n",
    "Image.fromarray(np.flip(arr2, 2))"
   ]
  },
  {
   "cell_type": "markdown",
   "metadata": {},
   "source": [
    "## cv2.addWeighted"
   ]
  },
  {
   "cell_type": "code",
   "execution_count": null,
   "metadata": {},
   "outputs": [],
   "source": [
    "cv2.addWeighted(target_img, 0.8, red_img, 0.2, 0)"
   ]
  },
  {
   "cell_type": "markdown",
   "metadata": {},
   "source": [
    "## References\n",
    "\n",
    "- [Extract Images from Video Using OpenCV in Python](http://www.legendu.net/misc/blog/python-opencv-video-to-image/)\n",
    "\n",
    "- https://opencv.org/\n",
    "\n",
    "- https://github.com/skvark/opencv-python\n",
    "\n",
    "- https://github.com/JimmyHHua/opencv_tutorials\n",
    "\n",
    "- https://github.com/ex2tron/OpenCV-Python-Tutorial"
   ]
  }
 ],
 "metadata": {
  "file_extension": ".py",
  "kernelspec": {
   "display_name": "Python 3 (ipykernel)",
   "language": "python",
   "name": "python3"
  },
  "language_info": {
   "codemirror_mode": {
    "name": "ipython",
    "version": 3
   },
   "file_extension": ".py",
   "mimetype": "text/x-python",
   "name": "python",
   "nbconvert_exporter": "python",
   "pygments_lexer": "ipython3",
   "version": "3.8.10"
  },
  "mimetype": "text/x-python",
  "name": "python",
  "npconvert_exporter": "python",
  "pygments_lexer": "ipython3",
  "version": 3
 },
 "nbformat": 4,
 "nbformat_minor": 4
}
