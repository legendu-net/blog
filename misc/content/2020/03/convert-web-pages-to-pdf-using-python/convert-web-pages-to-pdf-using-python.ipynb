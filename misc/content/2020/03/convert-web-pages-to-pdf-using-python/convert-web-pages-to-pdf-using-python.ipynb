{
 "cells": [
  {
   "cell_type": "markdown",
   "metadata": {},
   "source": [
    "- Author: Benjamin Du\n",
    "- Date: 2023-09-13 23:01:37\n",
    "- Modified: 2023-09-13 23:10:10\n",
    "- Title: Convert Web Pages to PDF Using Python\n",
    "- Slug: convert-web-pages-to-pdf-using-python\n",
    "- Category: Computer Science\n",
    "- Tags: Computer Science, Python, PDF, web, page"
   ]
  },
  {
   "cell_type": "markdown",
   "metadata": {},
   "source": [
    "**Things on this page are fragmentary and immature notes/thoughts of the author. Please read with your own judgement!**"
   ]
  },
  {
   "cell_type": "markdown",
   "metadata": {},
   "source": [
    "## [python-pdfkit](https://github.com/JazzCore/python-pdfkit)\n",
    "\n",
    "Python wrapper for wkhtmltopdf utility to convert HTML to PDF using Webkit."
   ]
  },
  {
   "cell_type": "markdown",
   "metadata": {},
   "source": [
    "!pip install pdfkit\n",
    "!sudo apt-get install wkhtmltopdf"
   ]
  },
  {
   "cell_type": "markdown",
   "metadata": {},
   "source": [
    "import pdfkit \n",
    "pdfkit.from_url('https://www.google.co.in/', 'shaurya.pdf') \n"
   ]
  },
  {
   "cell_type": "markdown",
   "metadata": {},
   "source": [
    "\n",
    "\n",
    "## [WeasyPrint](https://weasyprint.org/)\n"
   ]
  },
  {
   "cell_type": "markdown",
   "metadata": {},
   "source": [
    "!pip3 install weasyprint\n"
   ]
  },
  {
   "cell_type": "markdown",
   "metadata": {},
   "source": [
    "\n",
    "pdf = weasyprint.HTML('http://www.google.com').write_pdf()\n",
    "file('google.pdf', 'wb').write(pdf)\n"
   ]
  },
  {
   "cell_type": "markdown",
   "metadata": {},
   "source": [
    "\n",
    "\n",
    "## Selenium\n",
    "\n",
    "https://stackoverflow.com/questions/31136581/automate-print-save-web-page-as-pdf-in-chrome-python-2-7\n"
   ]
  },
  {
   "cell_type": "markdown",
   "metadata": {},
   "source": [
    "\n",
    "DesiredCapabilities cap = DesiredCapabilities.chrome();\n",
    "cap.setCapability(\"download.default_directory\",\"C:\");\n",
    "cap.setCapability(\"download.prompt_for_download\",\"false\");\n",
    "cap.setCapability(\"directory_upgrade\",\"true\");\n",
    "cap.setCapability(\"plugins.plugins_disabled\",\"Chrome PDF Viewer\");\n",
    "\n",
    "WebDriver driver = new ChromeDriver(cap);\n"
   ]
  },
  {
   "cell_type": "markdown",
   "metadata": {},
   "source": [
    "\n",
    "Or you can add `options.AddArgument(\"---printing\")` to automatically click the print button.\n",
    "\n",
    "https://stackoverflow.com/questions/30452395/selenium-pdf-automatic-download-not-working\n"
   ]
  },
  {
   "cell_type": "markdown",
   "metadata": {},
   "source": [
    "\n",
    "## Sikuli\n"
   ]
  },
  {
   "cell_type": "markdown",
   "metadata": {},
   "source": [
    "\n",
    "## PyAutoGUI + WebBrowser\n"
   ]
  },
  {
   "cell_type": "markdown",
   "metadata": {},
   "source": [
    "\n",
    "## Other Solutions\n",
    "\n",
    "[Automate Web Page To PDF](https://stevepython.wordpress.com/2019/03/13/automate-web-page-to-pdf/)\n",
    "introduces a way of using PyAutoGUI to automate the convertion of web pages to PDF.\n",
    "\n"
   ]
  },
  {
   "cell_type": "markdown",
   "metadata": {},
   "source": [
    "\n",
    "## References\n",
    "\n",
    "https://www.tutorialspoint.com/how-to-convert-html-to-pdf-using-python\n",
    "\n",
    "https://stackoverflow.com/questions/23359083/how-to-convert-webpage-into-pdf-by-using-python\n",
    "\n",
    "[WebBrowser](https://docs.python.org/3.8/library/webbrowser.html)\n"
   ]
  },
  {
   "cell_type": "code",
   "execution_count": null,
   "metadata": {},
   "outputs": [],
   "source": []
  }
 ],
 "metadata": {
  "file_extension": ".py",
  "language_info": {
   "codemirror_mode": {
    "name": "ipython",
    "version": 3
   },
   "name": "python"
  },
  "mimetype": "text/x-python",
  "name": "python",
  "npconvert_exporter": "python",
  "orig_nbformat": 2,
  "pygments_lexer": "ipython3",
  "version": 3
 },
 "nbformat": 4,
 "nbformat_minor": 2
}