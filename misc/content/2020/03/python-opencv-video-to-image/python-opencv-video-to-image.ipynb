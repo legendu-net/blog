{
 "cells": [
  {
   "cell_type": "markdown",
   "metadata": {},
   "source": [
    "- Title: Extract Images from Video Using OpenCV in Python\n",
    "- Slug: python-opencv-video-to-image\n",
    "- Date: 2020-03-25 17:33:14\n",
    "- Category: Computer Science\n",
    "- Tags: programming, Python, OpenCV, computer vision, CV, video, image\n",
    "- Author: Ben Du\n",
    "- Modified: 2020-03-25 17:33:14\n"
   ]
  },
  {
   "cell_type": "markdown",
   "metadata": {},
   "source": [
    "## Comments\n",
    "\n",
    "1. A mp4 video is recorded in 60 FPS (frames per second). \n",
    "\n",
    "2. `cv2.VideoCapture.read` returns a tuple of `(bool, numpy.ndarray)`."
   ]
  },
  {
   "cell_type": "markdown",
   "metadata": {},
   "source": [
    "Download [the big buck bunny video](https://www.sample-videos.com/video123/mp4/720/big_buck_bunny_720p_5mb.mp4)."
   ]
  },
  {
   "cell_type": "code",
   "execution_count": 1,
   "metadata": {},
   "outputs": [
    {
     "name": "stdout",
     "output_type": "stream",
     "text": [
      "--2020-02-16 13:34:34--  https://www.sample-videos.com/video123/mp4/720/big_buck_bunny_720p_5mb.mp4\n",
      "Resolving www.sample-videos.com (www.sample-videos.com)... 3.6.20.22\n",
      "Connecting to www.sample-videos.com (www.sample-videos.com)|3.6.20.22|:443... connected.\n",
      "HTTP request sent, awaiting response... 200 OK\n",
      "Length: 5253880 (5.0M) [video/mp4]\n",
      "Saving to: \u2018big_buck_bunny_720p_5mb.mp4\u2019\n",
      "\n",
      "big_buck_bunny_720p 100%[===================>]   5.01M  2.00MB/s    in 2.5s    \n",
      "\n",
      "2020-02-16 13:34:38 (2.00 MB/s) - \u2018big_buck_bunny_720p_5mb.mp4\u2019 saved [5253880/5253880]\n",
      "\n"
     ]
    }
   ],
   "source": [
    "!wget https://www.sample-videos.com/video123/mp4/720/big_buck_bunny_720p_5mb.mp4"
   ]
  },
  {
   "cell_type": "markdown",
   "metadata": {},
   "source": [
    "Install OpenCV for Python following instructions at http://www.legendu.net/misc/blog/tips-on-opencv/#installation."
   ]
  },
  {
   "cell_type": "markdown",
   "metadata": {},
   "source": [
    "Extract PNG images from the downloaded video every 5 frames."
   ]
  },
  {
   "cell_type": "code",
   "execution_count": null,
   "metadata": {},
   "outputs": [],
   "source": [
    "import cv2\n",
    "vidcap = cv2.VideoCapture(\"big_buck_bunny_720p_5mb.mp4\")\n",
    "count = 0\n",
    "while True:\n",
    "    success, image = vidcap.read()\n",
    "    if not success:\n",
    "        break\n",
    "    if count % 5 == 0:\n",
    "        cv2.imwrite(f\"frame_{'{:0>3}'.format(count)}.png\", image)\n",
    "    count += 1"
   ]
  },
  {
   "cell_type": "markdown",
   "metadata": {},
   "source": [
    "If you are dealing with a FLI anition file,\n",
    "you can also use the Python package Pillow to extract frames from it.\n",
    "For more details,\n",
    "please refer to \n",
    "[ImageSequence Module](https://pillow.readthedocs.io/en/latest/reference/ImageSequence.html)."
   ]
  },
  {
   "cell_type": "code",
   "execution_count": null,
   "metadata": {},
   "outputs": [],
   "source": [
    "from PIL import Image, ImageSequence\n",
    "\n",
    "im = Image.open(\"animation.fli\")\n",
    "\n",
    "index = 0\n",
    "for frame in ImageSequence.Iterator(im):\n",
    "    frame.save(\"frame%d.png\" % index)\n",
    "    index += 1"
   ]
  },
  {
   "cell_type": "markdown",
   "metadata": {},
   "source": [
    "## cv2.imwrite\n",
    "\n",
    "The format of the output image is determined by the file extension."
   ]
  },
  {
   "cell_type": "markdown",
   "metadata": {},
   "source": [
    "## References\n",
    "\n",
    "https://stackoverflow.com/questions/33311153/python-extracting-and-saving-video-frames"
   ]
  },
  {
   "cell_type": "code",
   "execution_count": null,
   "metadata": {},
   "outputs": [],
   "source": []
  }
 ],
 "metadata": {
  "kernelspec": {
   "display_name": "Python 3",
   "language": "python",
   "name": "python3"
  },
  "language_info": {
   "codemirror_mode": {
    "name": "ipython",
    "version": 3
   },
   "file_extension": ".py",
   "mimetype": "text/x-python",
   "name": "python",
   "nbconvert_exporter": "python",
   "pygments_lexer": "ipython3",
   "version": "3.7.3"
  }
 },
 "nbformat": 4,
 "nbformat_minor": 4
}