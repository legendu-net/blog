{
 "cells": [
  {
   "cell_type": "markdown",
   "metadata": {},
   "source": [
    "- Title: Schdule Jobs in Python\n",
    "- Slug: python-schedule-job\n",
    "- Date: 2020-03-23 11:08:56\n",
    "- Category: Computer Science\n",
    "- Tags: programming, Python, schedule, job\n",
    "- Author: Ben Du\n",
    "- Modified: 2020-03-23 11:08:56\n"
   ]
  },
  {
   "cell_type": "markdown",
   "metadata": {},
   "source": [
    "## Tips and Traps\n",
    "\n",
    "1. If you schedule a job $J_1$ using `schedule` in IPython shell, \n",
    "    and then interrupt the following loop that checks and runs pending jobs,\n",
    "    ```python\n",
    "    while True:\n",
    "        schedule.run_pending()\n",
    "    ```\n",
    "    the scheduled job $J_1$ is still there unless you stop the current IPython shell. \n",
    "    The effective consequence of this is that \n",
    "    if you schedule another job $J_2$, \n",
    "    and start to run it using the following loop, \n",
    "    ```python\n",
    "    while True:\n",
    "        schedule.run_pending()\n",
    "    ```\n",
    "    the job $J_1$ will also continue to run! \n",
    "    This might not what you expect since when you intterup the loop that checks and runs pending jobs,\n",
    "    you might thought that you killed scheduled jobs,\n",
    "    which is not correct.\n",
    "     "
   ]
  },
  {
   "cell_type": "markdown",
   "metadata": {},
   "source": [
    "## Installation"
   ]
  },
  {
   "cell_type": "code",
   "execution_count": null,
   "metadata": {},
   "outputs": [],
   "source": [
    "pip3 install schedule"
   ]
  },
  {
   "cell_type": "markdown",
   "metadata": {},
   "source": [
    "## Example"
   ]
  },
  {
   "cell_type": "code",
   "execution_count": null,
   "metadata": {},
   "outputs": [],
   "source": [
    "import schedule\n",
    "import time\n",
    "\n",
    "\n",
    "def job():\n",
    "    print(\"I'm working...\")\n",
    "\n",
    "\n",
    "schedule.every(10).minutes.do(job)\n",
    "schedule.every().hour.do(job)\n",
    "schedule.every().day.at(\"10:30\").do(job)\n",
    "schedule.every().monday.do(job)\n",
    "schedule.every().wednesday.at(\"13:15\").do(job)\n",
    "schedule.every().minute.at(\":17\").do(job)\n",
    "\n",
    "while True:\n",
    "    schedule.run_pending()\n",
    "    time.sleep(1)"
   ]
  },
  {
   "cell_type": "markdown",
   "metadata": {},
   "source": [
    "## [schedule.job.do](https://schedule.readthedocs.io/en/stable/api.html#schedule.Job.do)\n",
    "\n",
    "Specifies the job_func that should be called every time the job runs.\n",
    "Any additional arguments are passed on to job_func when the job runs."
   ]
  },
  {
   "cell_type": "markdown",
   "metadata": {},
   "source": [
    "## References\n",
    "\n",
    "https://github.com/dbader/schedule\n",
    "\n",
    "https://schedule.readthedocs.io/en/stable/\n",
    "\n"
   ]
  },
  {
   "cell_type": "code",
   "execution_count": null,
   "metadata": {},
   "outputs": [],
   "source": []
  }
 ],
 "metadata": {
  "kernelspec": {
   "display_name": "Python 3",
   "language": "python",
   "name": "python3"
  },
  "language_info": {
   "codemirror_mode": {
    "name": "ipython",
    "version": 3
   },
   "file_extension": ".py",
   "mimetype": "text/x-python",
   "name": "python",
   "nbconvert_exporter": "python",
   "pygments_lexer": "ipython3",
   "version": "3.7.3"
  }
 },
 "nbformat": 4,
 "nbformat_minor": 4
}