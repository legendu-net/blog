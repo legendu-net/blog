{
 "nbformat": 4,
 "nbformat_minor": 2,
 "metadata": {
  "language_info": {
   "name": "python",
   "codemirror_mode": {
    "name": "ipython",
    "version": 3
   }
  },
  "orig_nbformat": 2,
  "file_extension": ".py",
  "mimetype": "text/x-python",
  "name": "python",
  "npconvert_exporter": "python",
  "pygments_lexer": "ipython3",
  "version": 3
 },
 "cells": [
  {
   "cell_type": "markdown",
   "execution_count": null,
   "metadata": {},
   "outputs": [],
   "source": [
    "- Author: Ben Du\n",
    "- Date: 2020-04-20 08:58:10\n",
    "- Title: Adaptive Pooling in PyTorch\n",
    "- Slug: adaptive-pooling-in-pytorch\n",
    "- Category: Computer Science\n",
    "- Tags: Computer Science, data science, machine learning, AI, deep learning, PyTorch, pooling, adaptive\n",
    "- Modified: 2020-04-20 08:58:10\n"
   ]
  },
  {
   "cell_type": "markdown",
   "metadata": {},
   "source": [
    "## Tips and Traps\n",
    "\n",
    "1. Adpative pooling an generate fixed-sized output,\n",
    "    which enables a model to handle varying sized input. \n",
    "    The models in torchvision are such examples."
   ]
  },
  {
   "cell_type": "markdown",
   "metadata": {},
   "source": [
    "## [AdaptiveMaxPool2d](https://pytorch.org/docs/stable/nn.html#torch.nn.AdaptiveMaxPool2d)"
   ]
  },
  {
   "cell_type": "markdown",
   "metadata": {},
   "source": [
    "## References\n",
    "\n",
    "[Torchvision ResNet Input Size](https://discuss.pytorch.org/t/torchvision-resnet-input-size/9405/3)"
   ]
  },
  {
   "cell_type": "code",
   "execution_count": null,
   "metadata": {},
   "outputs": [],
   "source": []
  }
 ]
}