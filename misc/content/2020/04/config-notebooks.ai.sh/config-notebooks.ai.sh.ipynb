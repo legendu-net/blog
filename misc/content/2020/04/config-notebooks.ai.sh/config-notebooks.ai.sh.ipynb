{
 "cells": [
  {
   "cell_type": "markdown",
   "metadata": {},
   "source": [
    "- Status: published\n",
    "- Date: 2020-04-07 15:29:39\n",
    "- Author: Benjamin Du\n",
    "- Slug: configuration-scripts-for-the-blog-project-on-notebooks.ai\n",
    "- Title: Configuration Scripts for the Blog Project on notebooks.ai\n",
    "- Category: Computer Science\n",
    "- Tags: programming, notebooks.ai, blog, configuration script\n",
    "- Modified: 2020-04-07 15:29:39\n"
   ]
  },
  {
   "cell_type": "markdown",
   "metadata": {},
   "source": [
    "Below is the script that I use to configure the `blog` project on [notebooks.ai](https://notebooks.ai)."
   ]
  },
  {
   "cell_type": "code",
   "execution_count": 7,
   "metadata": {},
   "outputs": [
    {
     "name": "stdout",
     "output_type": "stream",
     "text": [
      "\u001b[00;34m#!/bin/bash\u001b[m\n",
      "\n",
      "\u001b[00;32mln\u001b[m \u001b[00;32m-svfT\u001b[m \u001b[00;00m/\u001b[mapp\u001b[00;00m/ /\u001b[mworkdir\n",
      "mkdir \u001b[00;32m-p\u001b[m \u001b[00;00m/\u001b[mapp\u001b[00;00m/\u001b[mpkgs\n",
      "curl \u001b[00;32m-sL\u001b[m https\u001b[00;00m://\u001b[mdeb.nodesource.com\u001b[00;00m/\u001b[msetup_10.x | bash \u001b[00;00m-\u001b[m\n",
      "apt-get update \u001b[00;32m-y\u001b[m\n",
      "apt-get \u001b[00;32minstall\u001b[m \u001b[00;32m-y\u001b[m wajig git nodejs highlight\n",
      "pip3 \u001b[00;32minstall\u001b[m pelican loguru py4j\n",
      "mkdir \u001b[00;32m-p\u001b[m \u001b[00;00m/\u001b[mapp\u001b[00;00m/\u001b[marchives\n",
      "\u001b[00;32mln\u001b[m \u001b[00;32m-svf\u001b[m \u001b[00;00m/\u001b[mapp\u001b[00;00m/\u001b[marchives \u001b[00;00m/\u001b[mroot\u001b[00;00m/\u001b[m\n",
      "\n",
      "mkdir \u001b[00;32m-p\u001b[m \u001b[00;00m/\u001b[mroot\u001b[00;00m/\u001b[m.\u001b[00;32mssh\u001b[m\n",
      "\u001b[00;32mcp\u001b[m \u001b[00;00m/\u001b[mapp\u001b[00;00m/\u001b[mssh\u001b[00;00m/* /\u001b[mroot\u001b[00;00m/\u001b[m.ssh\u001b[00;00m/\u001b[m\n",
      "\u001b[00;34m# blog\u001b[m\n",
      "\u001b[00;33mif\u001b[m \u001b[00;00m[[ !\u001b[m \u001b[00;32m-e\u001b[m \u001b[00;00m/\u001b[mapp\u001b[00;00m/\u001b[marchives\u001b[00;00m/\u001b[mblog \u001b[00;00m]];\u001b[m \u001b[00;33mthen\u001b[m\n",
      "    git clone git@github.com\u001b[00;00m:\u001b[mdclong\u001b[00;00m/\u001b[mblog.git \u001b[00;00m/\u001b[mapp\u001b[00;00m/\u001b[marchives\u001b[00;00m/\u001b[m\n",
      "\u001b[00;33mfi\u001b[m\n",
      "git \u001b[00;32m-C\u001b[m \u001b[00;00m/\u001b[mapp\u001b[00;00m/\u001b[marchives\u001b[00;00m/\u001b[mblog pull origin master\n",
      "git \u001b[00;32m-C\u001b[m \u001b[00;00m/\u001b[mapp\u001b[00;00m/\u001b[marchives\u001b[00;00m/\u001b[mblog submodule init\n",
      "git \u001b[00;32m-C\u001b[m \u001b[00;00m/\u001b[mapp\u001b[00;00m/\u001b[marchives\u001b[00;00m/\u001b[mblog submodule update \u001b[00;32m--recursive --remote\u001b[m\n",
      "\n",
      "\u001b[00;34m# config\u001b[m\n",
      "\u001b[00;33mif\u001b[m \u001b[00;00m[[ !\u001b[m \u001b[00;32m-e\u001b[m \u001b[00;00m/\u001b[mapp\u001b[00;00m/\u001b[marchives\u001b[00;00m/\u001b[mconfig \u001b[00;00m]];\u001b[m \u001b[00;33mthen\u001b[m\n",
      "    git clone git@github.com\u001b[00;00m:\u001b[mdclong\u001b[00;00m/\u001b[mconfig.git \u001b[00;00m/\u001b[mapp\u001b[00;00m/\u001b[marchives\u001b[00;00m/\u001b[m\n",
      "\u001b[00;33mfi\u001b[m\n",
      "git \u001b[00;32m-C\u001b[m \u001b[00;00m/\u001b[mapp\u001b[00;00m/\u001b[marchives\u001b[00;00m/\u001b[mconfig pull origin master\n",
      "python3 \u001b[00;00m/\u001b[mapp\u001b[00;00m/\u001b[marchives\u001b[00;00m/\u001b[mconfig\u001b[00;00m/\u001b[mlinstall.py poetry \u001b[00;32m-ic\u001b[m\n",
      "python3 \u001b[00;00m/\u001b[mapp\u001b[00;00m/\u001b[marchives\u001b[00;00m/\u001b[mconfig\u001b[00;00m/\u001b[mlinstall.py ipy3 \u001b[00;32m-ic\u001b[m\n",
      "\u001b[00;34m# python3 /app/archives/config/linstall.py bash_it -ic\u001b[m\n",
      "python3 \u001b[00;00m/\u001b[mapp\u001b[00;00m/\u001b[marchives\u001b[00;00m/\u001b[mconfig\u001b[00;00m/\u001b[mlinstall.py svim \u001b[00;32m-ic --disable-true-colors\u001b[m\n",
      "\n",
      "\u001b[00;34m# dsutil\u001b[m\n",
      "\u001b[00;33mif\u001b[m \u001b[00;00m[[ !\u001b[m \u001b[00;32m-e\u001b[m \u001b[00;00m/\u001b[mapp\u001b[00;00m/\u001b[marchives\u001b[00;00m/\u001b[mdsutil \u001b[00;00m]];\u001b[m \u001b[00;33mthen\u001b[m\n",
      "    git clone git@bitbucket.org\u001b[00;00m:\u001b[mdclong\u001b[00;00m/\u001b[mdsutil.git \u001b[00;00m/\u001b[mapp\u001b[00;00m/\u001b[marchives\u001b[00;00m/\u001b[m\n",
      "\u001b[00;33mfi\u001b[m\n",
      "git \u001b[00;32m-C\u001b[m \u001b[00;00m/\u001b[mapp\u001b[00;00m/\u001b[marchives\u001b[00;00m/\u001b[mdsutil pull origin dev\n",
      "\u001b[00;32mcd\u001b[m \u001b[00;00m/\u001b[mapp\u001b[00;00m/\u001b[marchives\u001b[00;00m/\u001b[mdsutil\u001b[00;00m/\u001b[m\n",
      "poetry env use python3\n",
      "poetry build\n",
      "pip3 \u001b[00;32minstall\u001b[m dist\u001b[00;00m/\u001b[mdsutil\u001b[00;00m*\u001b[m.whl\n",
      "\n"
     ]
    }
   ],
   "source": [
    "!cat ../../home/media/notebooks.ai.sh | highlight -O ansi"
   ]
  },
  {
   "cell_type": "markdown",
   "metadata": {},
   "source": [
    "The script can be run directly using the following command.\n",
    "\n",
    "    curl -sSL www.legendu.net/media/notebooks.ai.sh | bash"
   ]
  },
  {
   "cell_type": "code",
   "execution_count": null,
   "metadata": {},
   "outputs": [],
   "source": []
  }
 ],
 "metadata": {
  "kernelspec": {
   "display_name": "Python 3",
   "language": "python",
   "name": "python3"
  },
  "language_info": {
   "codemirror_mode": {
    "name": "ipython",
    "version": 3
   },
   "file_extension": ".py",
   "mimetype": "text/x-python",
   "name": "python",
   "nbconvert_exporter": "python",
   "pygments_lexer": "ipython3",
   "version": "3.7.3"
  }
 },
 "nbformat": 4,
 "nbformat_minor": 4
}