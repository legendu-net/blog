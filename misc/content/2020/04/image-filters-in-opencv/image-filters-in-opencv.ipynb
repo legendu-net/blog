{
 "cells": [
  {
   "cell_type": "markdown",
   "metadata": {},
   "source": [
    "- Author: Ben Du\n",
    "- Date: 2020-04-24 22:30:50\n",
    "- Title: Image Filters in OpenCV\n",
    "- Slug: image-filters-in-opencv\n",
    "- Category: Computer Science\n",
    "- Tags: Computer Science, OpenCV, Python, image filter\n",
    "- Modified: 2020-05-24 22:30:50\n"
   ]
  },
  {
   "cell_type": "code",
   "execution_count": null,
   "metadata": {},
   "outputs": [],
   "source": []
  },
  {
   "cell_type": "markdown",
   "metadata": {},
   "source": [
    "## References\n",
    "\n",
    "[Create and apply simple filters to an image using OpenCV and Python](https://amehta.github.io/posts/2019/09/create-and-apply-simple-filters-to-an-image-using-opencv-and-python/)\n",
    "\n",
    "[Image filtering techniques in OpenCV](https://hub.packtpub.com/image-filtering-techniques-opencv/)\n",
    "\n",
    "[How to Apply Image Filters in OpenCV with Python // OpenCV and Python Tutorial #8](https://www.youtube.com/watch?v=MVLuexuikv4)\n",
    "\n",
    "[Image Filters in Python](https://towardsdatascience.com/image-filters-in-python-26ee938e57d2)\n",
    "\n",
    "[https://docs.opencv.org/2.4/modules/imgproc/doc/filtering.html](https://docs.opencv.org/2.4/modules/imgproc/doc/filtering.html)"
   ]
  },
  {
   "cell_type": "code",
   "execution_count": null,
   "metadata": {},
   "outputs": [],
   "source": []
  }
 ],
 "metadata": {
  "file_extension": ".py",
  "kernelspec": {
   "display_name": "Python 3",
   "language": "python",
   "name": "python3"
  },
  "language_info": {
   "codemirror_mode": {
    "name": "ipython",
    "version": 3
   },
   "file_extension": ".py",
   "mimetype": "text/x-python",
   "name": "python",
   "nbconvert_exporter": "python",
   "pygments_lexer": "ipython3",
   "version": "3.7.3"
  },
  "mimetype": "text/x-python",
  "name": "python",
  "npconvert_exporter": "python",
  "pygments_lexer": "ipython3",
  "version": 3
 },
 "nbformat": 4,
 "nbformat_minor": 4
}