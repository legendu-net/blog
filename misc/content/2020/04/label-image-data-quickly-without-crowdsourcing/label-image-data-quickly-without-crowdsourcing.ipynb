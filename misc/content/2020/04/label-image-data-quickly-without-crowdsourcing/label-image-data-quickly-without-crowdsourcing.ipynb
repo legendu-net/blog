{
 "nbformat": 4,
 "nbformat_minor": 2,
 "metadata": {
  "language_info": {
   "name": "python",
   "codemirror_mode": {
    "name": "ipython",
    "version": 3
   }
  },
  "orig_nbformat": 2,
  "file_extension": ".py",
  "mimetype": "text/x-python",
  "name": "python",
  "npconvert_exporter": "python",
  "pygments_lexer": "ipython3",
  "version": 3
 },
 "cells": [
  {
   "cell_type": "markdown",
   "execution_count": null,
   "metadata": {},
   "outputs": [],
   "source": [
    "- Title: Label Image Data Quickly Without Crowdsourcing\n",
    "- Slug: label-image-data-quickly-without-crowdsourcing\n",
    "- Date: 2020-04-16 11:47:14\n",
    "- Category: Computer Science\n",
    "- Tags: Computer Science\n",
    "- Author: Ben Du, machine learning, deep learning, data science, labeling, data, class\n",
    "- Modified: 2020-04-16 11:47:14\n"
   ]
  },
  {
   "cell_type": "markdown",
   "metadata": {},
   "source": [
    "If you have to label images for your project but have no budget for crowdsourcing,\n",
    "here are some simple tips\n",
    "which might help you reduce time on human labeling significantly."
   ]
  },
  {
   "cell_type": "markdown",
   "metadata": {},
   "source": [
    "## Approach 0: Train a Model on Already Labeled Data and Use it to Label New Data\n",
    "\n",
    "If you already have some labeled data,\n",
    "you can train a simple model on it \n",
    "and use it to help you label new data. \n",
    "\n",
    "1. Train a (simple) model on already labeled data. \n",
    "\n",
    "2. Run the model on new data and generate labels for them. \n",
    "    If the model is not so good,\n",
    "    you can let it output the probability for each classes \n",
    "    and only accept a label when the predicted probability is high.\n",
    "\n",
    "3. Manually revised the generated labels. \n",
    "\n",
    "4. Now you have more data, you can repeat steps 1-3 if necessary.\n",
    "\n",
    "This approach is great but it relies on the assumption that there are already some labeled data. \n",
    "Below are some approaches to quickly get some labeled data from nothing. "
   ]
  },
  {
   "cell_type": "markdown",
   "metadata": {},
   "source": [
    "## Approach 1: Use Pretrained Models to Identify Similar Images\n",
    "\n",
    "The most convenient way is perhaps to run pretrained vision models on your data\n",
    "to identify similar images. \n",
    "\n",
    "1. Run a pretrained model on your data.\n",
    "\n",
    "2. Pick an image that you want to label as, say, class A \n",
    "    and run the pretrained model on it. \n",
    "    Let's say that it generates a numerical label `5`.\n",
    "\n",
    "3. Filter images that have the output label `5` by the pretrained model \n",
    "    and move them into a subdirectory named `5`. \n",
    "\n",
    "4. In most cases, \n",
    "    the majority of images get selected into the subdirectory `5` \n",
    "    are those images that you want to lable as class A. \n",
    "    If not, \n",
    "    you can try again pretrained model and repeat steps 1-3. \n",
    "\n",
    "5. Manually label images in the subdirectories. "
   ]
  },
  {
   "cell_type": "markdown",
   "metadata": {},
   "source": [
    "## Approach 2: Pretrained Models and K-means Clustering\n",
    "\n",
    "This method is similar to approach 1. \n",
    "However, \n",
    "instead of generating final labels using a pretrained model on your data,\n",
    "you get the image embeddings (or features) and then do a k-means algorithm on your data.\n",
    "\n",
    "1. Pick a pretrained model and remove its output layer. \n",
    "\n",
    "2. Run the customized pretrained model on your data to generate image embeddings (or features).\n",
    "\n",
    "3. Pick a few representative images for each of the class \n",
    "    and run the customized pretrained model on them to generated the center points for clusters.\n",
    "\n",
    "4. Run a k-means algorithm on the image embeddings with the inital start points generated in step 3.  "
   ]
  },
  {
   "cell_type": "markdown",
   "metadata": {},
   "source": [
    "## Approach 3: Rules Based Algorithms\n",
    "\n",
    "You can also develop a rule-based algorithm to help you separated images. \n",
    "However, \n",
    "this usually takes more time than the approach 1."
   ]
  },
  {
   "cell_type": "markdown",
   "metadata": {},
   "source": [
    "## References\n",
    "\n",
    "[PyTorch for Beginners: Image Classification using Pre-trained models](https://www.learnopencv.com/pytorch-for-beginners-image-classification-using-pre-trained-models/)\n",
    "\n",
    "[Image clustering by its similarity in python](https://stackoverflow.com/questions/39123421/image-clustering-by-its-similarity-in-python)"
   ]
  },
  {
   "cell_type": "code",
   "execution_count": null,
   "metadata": {},
   "outputs": [],
   "source": []
  }
 ]
}