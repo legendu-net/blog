{
 "cells": [
  {
   "cell_type": "markdown",
   "metadata": {},
   "source": [
    "- Author: Ben Du\n",
    "- Date: 2020-04-21 13:26:15\n",
    "- Title: Models in Torchvision and Ways to Finetune Them\n",
    "- Slug: models-in-torchvision-and-ways-to-finetune-them\n",
    "- Category: Computer Science\n",
    "- Tags: Computer Science, data science, AI, machine learning, deep learning, PyTorch, models, torchvision, transfer learning\n",
    "- Modified: 2021-09-02 12:29:21\n"
   ]
  },
  {
   "cell_type": "markdown",
   "metadata": {},
   "source": [
    "`inception_v3` requires an input of (299, 299)\n",
    "while other models requires an input of (224, 224).\n",
    "Due to adaptive pooling used in some models, \n",
    "they can run on varying sized intput without throwing errors\n",
    "(but the results are usually not correct).\n",
    "You have to resize/crop an image to be the right input size \n",
    "(and then other necessary transformations, e.g., `to_tensor` and `Normalize`)\n",
    "before feeding it to a pretrained model."
   ]
  },
  {
   "cell_type": "markdown",
   "metadata": {},
   "source": [
    "[FINETUNING TORCHVISION MODELS](https://pytorch.org/tutorials/beginner/finetuning_torchvision_models_tutorial.html)\n",
    "has a very detailed tutorial on how to finetune pretrained models in torchvision.\n",
    "\n",
    "[TORCHVISION OBJECT DETECTION FINETUNING TUTORIAL](https://pytorch.org/tutorials/intermediate/torchvision_tutorial.html)\n",
    "\n",
    "\n",
    "[Building your own object detector — PyTorch vs TensorFlow and how to even get started?](https://towardsdatascience.com/building-your-own-object-detector-pytorch-vs-tensorflow-and-how-to-even-get-started-1d314691d4ae)\n",
    "\n",
    "[Guide to Object Detection using PyTorch](https://medium.com/analytics-vidhya/guide-to-object-detection-using-pytorch-3925e29737b9)\n",
    "\n",
    "https://github.com/ckczzj/Image-Object-Localization"
   ]
  },
  {
   "cell_type": "markdown",
   "metadata": {},
   "source": [
    "## References\n",
    "\n",
    "[TORCHVISION.MODELS](https://pytorch.org/vision/stable/models.html)\n",
    "\n",
    "[FINETUNING TORCHVISION MODELS](https://pytorch.org/tutorials/beginner/finetuning_torchvision_models_tutorial.html)\n",
    "\n",
    "[Transfer Learning - Machine Learning's Next Frontier](https://ruder.io/transfer-learning/)\n",
    "\n",
    "[Transfer Learning](https://cs231n.github.io/transfer-learning/)\n",
    "\n",
    "[Transfer learning usage with different input size](https://discuss.pytorch.org/t/transfer-learning-usage-with-different-input-size/20744)\n"
   ]
  },
  {
   "cell_type": "code",
   "execution_count": null,
   "metadata": {},
   "outputs": [],
   "source": []
  }
 ],
 "metadata": {
  "file_extension": ".py",
  "kernelspec": {
   "display_name": "Python 3 (ipykernel)",
   "language": "python",
   "name": "python3"
  },
  "language_info": {
   "codemirror_mode": {
    "name": "ipython",
    "version": 3
   },
   "file_extension": ".py",
   "mimetype": "text/x-python",
   "name": "python",
   "nbconvert_exporter": "python",
   "pygments_lexer": "ipython3",
   "version": "3.8.10"
  },
  "mimetype": "text/x-python",
  "name": "python",
  "npconvert_exporter": "python",
  "pygments_lexer": "ipython3",
  "version": 3
 },
 "nbformat": 4,
 "nbformat_minor": 4
}
