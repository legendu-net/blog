{
 "nbformat": 4,
 "nbformat_minor": 2,
 "metadata": {
  "language_info": {
   "name": "python",
   "codemirror_mode": {
    "name": "ipython",
    "version": 3
   },
   "version": "3.7.6-final"
  },
  "orig_nbformat": 2,
  "file_extension": ".py",
  "mimetype": "text/x-python",
  "name": "python",
  "npconvert_exporter": "python",
  "pygments_lexer": "ipython3",
  "version": 3,
  "kernelspec": {
   "name": "python37664bite5e01d20666b4ea39b669a865bfedc91",
   "display_name": "Python 3.7.6 64-bit"
  }
 },
 "cells": [
  {
   "cell_type": "markdown",
   "execution_count": null,
   "metadata": {},
   "outputs": [],
   "source": [
    "- Author: Ben Du\n",
    "- Date: 2020-04-20 08:30:49\n",
    "- Title: Multiprocessing Issues in Docker\n",
    "- Slug: multiprocessing-issues-in-docker\n",
    "- Category: Computer Science\n",
    "- Tags: Computer Science, Docker, issue, multiprocessing, PyTorch\n",
    "- Modified: 2020-04-20 08:30:49\n"
   ]
  },
  {
   "cell_type": "markdown",
   "metadata": {},
   "source": [
    "## PyTorch Specific\n",
    "\n",
    "Using `num_workers > 0` for a DataLoader in Docker might causes issues ...\n",
    "\n",
    "[MULTIPROCESSING BEST PRACTICES](https://pytorch.org/docs/stable/notes/multiprocessing.html#multiprocessing-best-practices)\n",
    "\n",
    "[Runtime Error with DataLoader: exited unexpectedly #5301](https://github.com/pytorch/pytorch/issues/5301)\n",
    "\n",
    "https://forums.fast.ai/t/runtimeerror-dataloader-worker-pid-137-is-killed-by-signal-bus-error/27095\n",
    "\n",
    "https://github.com/pytorch/pytorch/issues/2244"
   ]
  },
  {
   "cell_type": "code",
   "execution_count": null,
   "metadata": {},
   "outputs": [],
   "source": []
  }
 ]
}