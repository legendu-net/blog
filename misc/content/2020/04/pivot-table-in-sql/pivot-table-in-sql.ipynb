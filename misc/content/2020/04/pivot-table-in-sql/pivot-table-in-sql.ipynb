{
 "cells": [
  {
   "cell_type": "markdown",
   "metadata": {},
   "source": [
    "- Author: Ben Du\n",
    "- Date: 2020-04-26 15:26:49\n",
    "- Title: Pivot Table in SQL\n",
    "- Slug: pivot-table-in-sql\n",
    "- Category: Computer Science\n",
    "- Tags: Computer Science, pivot, SQL, pivot table\n",
    "- Modified: 2020-04-26 15:26:49\n"
   ]
  },
  {
   "cell_type": "code",
   "execution_count": null,
   "metadata": {},
   "outputs": [],
   "source": []
  },
  {
   "cell_type": "code",
   "execution_count": null,
   "metadata": {},
   "outputs": [],
   "source": []
  },
  {
   "cell_type": "markdown",
   "metadata": {},
   "source": [
    "## References\n",
    "\n",
    "[SQL Pivot: Converting Rows to Columns](https://databricks.com/blog/2018/11/01/sql-pivot-converting-rows-to-columns.html)\n",
    "\n",
    "[Reshaping Data with Pivot in Apache Spark](https://databricks.com/blog/2016/02/09/reshaping-data-with-pivot-in-apache-spark.html)\n",
    "\n",
    "[How to Pivot a Table with Amazon Redshift or PostgreSQL](https://chartio.com/resources/tutorials/how-to-pivot-table-with-redshift-or-postgres/)\n",
    "\n",
    "[Redshift Pivot Table-Transpose Rows to Column and Example](https://dwgeek.com/redshift-pivot-table-transpose-rows-to-column-and-example.html/)"
   ]
  },
  {
   "cell_type": "code",
   "execution_count": null,
   "metadata": {},
   "outputs": [],
   "source": []
  }
 ],
 "metadata": {
  "language_info": {
   "name": "python",
   "codemirror_mode": {
    "name": "ipython",
    "version": 3
   }
  },
  "orig_nbformat": 2,
  "file_extension": ".py",
  "mimetype": "text/x-python",
  "name": "python",
  "npconvert_exporter": "python",
  "pygments_lexer": "ipython3",
  "version": 3
 },
 "nbformat": 4,
 "nbformat_minor": 2
}