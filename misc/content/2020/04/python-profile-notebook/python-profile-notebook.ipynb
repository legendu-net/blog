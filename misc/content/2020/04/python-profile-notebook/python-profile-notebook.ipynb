{
 "cells": [
  {
   "cell_type": "markdown",
   "source": [
    "- Title: Python Profiler for JupyterLab Notebooks\n",
    "- Slug: python-profile-notebook\n",
    "- Date: 2020-04-24 15:19:45\n",
    "- Category: Computer Science\n",
    "- Tags: programming, Python, profile, profiler, Jupyter, JupyterLab, notebook\n",
    "- Author: Ben Du\n",
    "- Modified: 2021-09-28 10:50:20\n"
   ],
   "metadata": {}
  },
  {
   "cell_type": "markdown",
   "source": [
    "## %time\n",
    "\n",
    "Measue the execuation time of the code **ONCE**. "
   ],
   "metadata": {}
  },
  {
   "cell_type": "markdown",
   "source": [
    "## %timeit\n",
    "\n",
    "Measure the execuation time of the code (accurately) by running it **MULTIPLE TIMES** \n",
    "and taking the average. "
   ],
   "metadata": {}
  },
  {
   "cell_type": "markdown",
   "source": [
    "## [%prun | %%prun](https://ipython.readthedocs.io/en/stable/interactive/magics.html#magic-prun)\n",
    "\n",
    "`-D`: output the profiling results into a file \n",
    "so that you can other tools (e.g., snakeviz) to visualize it.\n",
    "\n",
    "Noticd that `%prun` and `%%prun` are based on `cProfile` or `profile`,\n",
    "which are designed to provide an execution profile for a given program, \n",
    "not for benchmarking purposes \n",
    "(for that, there is `time` and `timeit` for reasonably accurate results). \n",
    "This particularly applies to benchmarking Python code against C code: \n",
    "the profilers introduce overhead for Python code, \n",
    "but not for C-level functions, \n",
    "and so the C code would seem faster than any Python one.\n",
    "Overall, \n",
    "`%prun` and `%%prun` might slow down your Python code up to 3 times."
   ],
   "metadata": {}
  },
  {
   "cell_type": "markdown",
   "source": [
    "## [%lprun | %%lprun](https://github.com/pyutils/line_profiler)"
   ],
   "metadata": {}
  },
  {
   "cell_type": "markdown",
   "source": [
    "## %%snakeviz"
   ],
   "metadata": {}
  },
  {
   "cell_type": "code",
   "execution_count": null,
   "source": [
    "pip3 install snakeviz"
   ],
   "outputs": [],
   "metadata": {}
  },
  {
   "cell_type": "code",
   "execution_count": null,
   "source": [
    "%load_ext snakeviz"
   ],
   "outputs": [],
   "metadata": {}
  },
  {
   "cell_type": "markdown",
   "source": [
    "## [pyheatmagic](https://github.com/csurfer/pyheatmagic)\n",
    "\n",
    "### Installation\n",
    "```Python\n",
    "pip3 install py-heat-magic\n",
    "```\n",
    "\n",
    "### Usage\n",
    "Load the magic.\n",
    "```Python\n",
    "%load_ext heat\n",
    "```\n",
    "%%heat \n",
    "\n",
    "%%heat -o file.png\n"
   ],
   "metadata": {}
  },
  {
   "cell_type": "markdown",
   "source": [
    "## [Line Profiler](https://github.com/rkern/line_profiler)\n",
    "\n",
    "Within your jupyter notebook, call: %load_ext line_profiler"
   ],
   "metadata": {}
  },
  {
   "cell_type": "markdown",
   "source": [
    "## References\n",
    "\n",
    "- [Profile Performance of Python Applications](http://www.legendu.net/misc/blog/python-profile/)\n",
    "\n",
    "- https://mortada.net/easily-profile-python-code-in-jupyter.html\n",
    "\n",
    "- https://jiffyclub.github.io/snakeviz/\n",
    "\n",
    "- [How can you profile a Python script?](https://stackoverflow.com/questions/582336/how-can-you-profile-a-python-script)\n"
   ],
   "metadata": {}
  },
  {
   "cell_type": "code",
   "execution_count": null,
   "source": [],
   "outputs": [],
   "metadata": {}
  }
 ],
 "metadata": {
  "kernelspec": {
   "display_name": "Python 3",
   "language": "python",
   "name": "python3"
  },
  "language_info": {
   "codemirror_mode": {
    "name": "ipython",
    "version": 3
   },
   "file_extension": ".py",
   "mimetype": "text/x-python",
   "name": "python",
   "nbconvert_exporter": "python",
   "pygments_lexer": "ipython3",
   "version": "3.7.3"
  }
 },
 "nbformat": 4,
 "nbformat_minor": 4
}