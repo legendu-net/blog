{
 "cells": [
  {
   "cell_type": "markdown",
   "metadata": {},
   "source": [
    "- Date: 2020-04-28 21:35:36\n",
    "- Author: Ben Du- Date: 2020-04-24 00:55:18\n",
    "- Title: Speed up Python Using Native Code\n",
    "- Slug: python-bindings-for-native-code\n",
    "- Category: Computer Science\n",
    "- Tags: Computer Science, Python, language bindings, Rust, C++, cpp, C, numba, PyO3, ctypes, pybind11\n",
    "- Modified: 2020-04-28 21:35:36\n"
   ]
  },
  {
   "cell_type": "markdown",
   "metadata": {},
   "source": [
    "## Tips and Traps\n",
    "\n",
    "1. It is never a good idea to do pre-mature optimization. \n",
    "    Always profile \n",
    "    (please refer to [Profile Performance of Python Applications](http://www.legendu.net/misc/blog/python-profile/)\n",
    "     and [Python Profiler for JupyterLab Notebooks](http://www.legendu.net/misc/blog/python-profile-notebook/)) \n",
    "    your code before you optimize it.\n",
    "    If you do decide to optimize you Python code,\n",
    "    there are multiple approaches. \n",
    "    First, \n",
    "    think about whether you can improve your algorithm.\n",
    "    Please refer to \n",
    "    [Python Performance Tips](https://wiki.python.org/moin/PythonSpeed/PerformanceTips)\n",
    "    for some general tips on this.\n",
    "    Second, \n",
    "    if you are doing numerical computing using numpy arrays, \n",
    "    make sure you have leveraged vector/matrix/array computation to speed up your code\n",
    "    rather than using slow Python loops.\n",
    "    Last but not least, \n",
    "    if the 2 above approaches does not help,\n",
    "    you think reimplement performance-critical part of your code \n",
    "    using faster langages (C, C++, Rust or Java)."
   ]
  },
  {
   "cell_type": "markdown",
   "metadata": {},
   "source": [
    "## [Numba](https://github.com/numba/numba)\n",
    "\n",
    "[Numba](https://github.com/numba/numba)\n",
    "is a numpy aware dynamic Python compiler using LLVM.\n",
    "If numerical computing is the bottle-neck of your code,\n",
    "[numba](https://github.com/numba/numba)\n",
    "is the firt tool you should try\n",
    "as it is of minimal effort.\n",
    "There is no (or absolute minimal) change to your Python code,\n",
    "you only need to add a few \n",
    "[numba](https://github.com/numba/numba)\n",
    "decorators. \n",
    "What is great about \n",
    "[numba](https://github.com/numba/numba)\n",
    "is that with minimal effort, \n",
    "you get equal to (or even better than) C speed.\n",
    "\n",
    "Please refer to \n",
    "[Numba vs. Cython: Take 2](https://jakevdp.github.io/blog/2013/06/15/numba-vs-cython-take-2/)\n",
    "for more details and solid examples on numba."
   ]
  },
  {
   "cell_type": "markdown",
   "metadata": {},
   "source": [
    "## [PyO3 for Rust](https://github.com/PyO3/pyo3)\n",
    "\n",
    "[PyO3 for Rust](https://github.com/PyO3/pyo3)\n",
    "is a Rust bindings for the Python interpreter."
   ]
  },
  {
   "cell_type": "markdown",
   "metadata": {},
   "source": [
    "## Bindings for Java\n",
    "\n",
    "Please refer to \n",
    "[Java Interfaces for Python](http://www.legendu.net/misc/blog/java-interfaces-for-python/)\n",
    "for more details."
   ]
  },
  {
   "cell_type": "markdown",
   "metadata": {},
   "source": [
    "## ctypes\n",
    "\n",
    "1. ctypes is included in the Python standard library.\n",
    "    It is a good choice for C extensions. \n",
    "\n",
    "2. Not friendly on C++ code."
   ]
  },
  {
   "cell_type": "markdown",
   "metadata": {},
   "source": [
    "## cffi"
   ]
  },
  {
   "cell_type": "markdown",
   "metadata": {},
   "source": [
    "## Cython\n",
    "\n",
    "1. Cython has wide adoption historically.\n",
    "    It gets close to C speed using close to Python implementation.\n",
    "    It was a great choice for Python users who are not familiar with C, C++, Rust or Java.\n",
    "    However, \n",
    "    [numba](https://github.com/numba/numba)\n",
    "    might be a better alternative to Cython now in many situations. \n",
    "\n",
    "2. Not friendly on C++ code. \n",
    "\n",
    "```\n",
    "cython3 ma.pyx \n",
    "gcc -shared -pthread -fPIC -fwrapv -O2 -Wall -fno-strict-aliasing -I/usr/include/python3.5 -o ma.so ma.c\n",
    "```"
   ]
  },
  {
   "cell_type": "markdown",
   "metadata": {},
   "source": [
    "## [boost.python](https://www.boost.org/doc/libs/1_70_0/libs/python/doc/html/index.html)\n",
    "\n",
    "[boost.python](https://www.boost.org/doc/libs/1_70_0/libs/python/doc/html/index.html)\n",
    "is a C++ library which enables seamless interoperability between C++ and the Python programming language. \n",
    "The library includes support for:\n",
    "\n",
    "- References and Pointers\n",
    "- Globally Registered Type Coercions\n",
    "- Automatic Cross-Module Type Conversions\n",
    "- Efficient Function Overloading\n",
    "- C++ to Python Exception Translation\n",
    "- Default Arguments\n",
    "- Keyword Arguments\n",
    "- Manipulating Python objects in C++\n",
    "- Exporting C++ Iterators as Python Iterators\n",
    "- Documentation Strings\n",
    "    \n",
    "In particular, \n",
    "boost.python has integration of numpy C-APIs,\n",
    "which make it the suitable tool if you need to manipulate numpy arrays in C++.\n",
    "\n",
    "Boost.Python is an enormously large and complex suite of utility libraries \n",
    "that works with almost every C++ compiler in existence. \n",
    "This compatibility has its cost: arcane template tricks and workarounds are necessary to support the oldest and buggiest of compiler specimens. "
   ]
  },
  {
   "cell_type": "markdown",
   "metadata": {},
   "source": [
    "## [pybind11](https://github.com/pybind/pybind11)\n",
    "\n",
    "[pybind11](https://github.com/pybind/pybind11)\n",
    "is a lightweight header-only library that exposes C++ types in Python and vice versa, \n",
    "mainly to create Python bindings of existing C++ code. \n",
    "Its goals and syntax are similar to the excellent Boost.Python library\n",
    "but is much more light-weighted and user-friendly than boost.python.\n",
    "Due to ease to use and good documentation, \n",
    "pybind11 has a more active community than Boost.Python.\n",
    "In particular,\n",
    "The deep learning framework PyTorch uses pybind11\n",
    "to interact with C++.\n",
    "\n",
    "\n",
    "\n",
    "```C++\n",
    "#include <pybind11/pybind11.h>\n",
    "#include <pybind11/stl.h>\n",
    "```\n",
    "`#include <pybind11/stl.sh>` is for auto type conversion of STL.\n",
    "\n",
    "```bash\n",
    "g++ -O2 -shared -std=c++11 -I/usr/local/include/python3.5 -I/usr/include/python3.5m -fPIC ma_cpp.cpp -o macpp.so\n",
    "```\n",
    "\n",
    "\n",
    "\n",
    "```C++\n",
    "PYBIND11_PLUGIN(ma_cpp) {\n",
    "```\n",
    "`PYBIND11_PLUGIN` defines the module name and the compiled shared object must use this name.\n",
    "\n",
    "\n",
    "The cppimport package makes things easy.\n",
    "Don't forget to use the following setup\n",
    "when using cppimport.\n",
    "\n",
    "```C++\n",
    "<%\n",
    "setup_pybind11(cfg)\n",
    "%>\n",
    "```"
   ]
  },
  {
   "cell_type": "markdown",
   "metadata": {},
   "source": [
    "## cppyy\n",
    "\n",
    "Dynamic,easy to use but sacrifice some performane."
   ]
  },
  {
   "cell_type": "code",
   "execution_count": null,
   "metadata": {},
   "outputs": [],
   "source": [
    "## [Pythran](https://github.com/serge-sans-paille/pythran)\n",
    "\n",
    "A claimless Python to c++ converter."
   ]
  },
  {
   "cell_type": "markdown",
   "metadata": {},
   "source": [
    "## References\n",
    "\n",
    "- [Numba vs. Cython: Take 2](https://jakevdp.github.io/blog/2013/06/15/numba-vs-cython-take-2/)\n",
    "\n",
    "- [Hands on the Python module numba](http://www.legendu.net/misc/blog/python-numba/)\n",
    "\n",
    "http://zhuoqiang.me/bring-cpp-class-to-python-through-cython.html\n",
    "\n",
    "https://stackoverflow.com/questions/145270/calling-c-c-from-python\n",
    "\n",
    "    \n",
    "http://www.algorithm.co.il/blogs/computer-science/10-python-optimization-tips-and-issues/\n",
    "\n",
    "[\u5982\u4f55\u9009\u62e9Python\u4e0eC++\u4e4b\u95f4\u7684\u80f6\u6c34](https://zyxin.xyz/blog/2019-08/GluePythonCpp/)\n",
    "\n",
    "[Cython, pybind11, cffi \u2013 which tool should you choose?](http://blog.behnel.de/posts/cython-pybind11-cffi-which-tool-to-choose.html)\n",
    "\n",
    "[Use Cython, Numba, or C/C++ for algorithmic code](https://github.com/pydata/sparse/issues/126)\n",
    "\n",
    "[CPPYY PART III \u548cpypy/cython/numba\u7684\u6027\u80fd\u5bf9\u6bd4](https://www.jianshu.com/p/384fdf77caae)"
   ]
  },
  {
   "cell_type": "code",
   "execution_count": null,
   "metadata": {},
   "outputs": [],
   "source": []
  }
 ],
 "metadata": {
  "file_extension": ".py",
  "kernelspec": {
   "display_name": "Python 3",
   "language": "python",
   "name": "python3"
  },
  "language_info": {
   "codemirror_mode": {
    "name": "ipython",
    "version": 3
   },
   "file_extension": ".py",
   "mimetype": "text/x-python",
   "name": "python",
   "nbconvert_exporter": "python",
   "pygments_lexer": "ipython3",
   "version": "3.7.5"
  },
  "mimetype": "text/x-python",
  "name": "python",
  "npconvert_exporter": "python",
  "pygments_lexer": "ipython3",
  "version": 3
 },
 "nbformat": 4,
 "nbformat_minor": 4
}