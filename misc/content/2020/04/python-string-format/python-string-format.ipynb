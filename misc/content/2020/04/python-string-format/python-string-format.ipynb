{
 "cells": [
  {
   "cell_type": "markdown",
   "metadata": {},
   "source": [
    "- Title: Format a String in Python\n",
    "- Slug: python-string-format\n",
    "- Date: 2020-04-14 13:01:02\n",
    "- Category: Computer Science\n",
    "- Tags: programming, Python, string, str, format\n",
    "- Author: Ben Du\n",
    "- Modified: 2021-02-14 13:01:02\n"
   ]
  },
  {
   "cell_type": "markdown",
   "metadata": {},
   "source": [
    "https://docs.python.org/3/library/stdtypes.html#textseq\n",
    "\n",
    "https://www.techbeamers.com/python-format-string-list-dict/\n",
    "\n",
    "https://www.techbeamers.com/python-format-string-list-dict/#format-a-python-string"
   ]
  },
  {
   "cell_type": "markdown",
   "metadata": {},
   "source": [
    "## str.format\n",
    "\n",
    "An exception will be thrown if the value for a key in the string is not specified,\n",
    "which means that you must specify values for all keys.\n",
    "However, \n",
    "it is OK if you specify values for keys that do not exist in the string.\n",
    "That is you can specify values for more keys than needed.\n"
   ]
  },
  {
   "cell_type": "code",
   "execution_count": 3,
   "metadata": {},
   "outputs": [
    {
     "ename": "KeyError",
     "evalue": "'x'",
     "output_type": "error",
     "traceback": [
      "\u001b[0;31m---------------------------------------------------------------------------\u001b[0m",
      "\u001b[0;31mKeyError\u001b[0m                                  Traceback (most recent call last)",
      "\u001b[0;32m<ipython-input-3-82a676436a84>\u001b[0m in \u001b[0;36m<module>\u001b[0;34m\u001b[0m\n\u001b[0;32m----> 1\u001b[0;31m \u001b[0;34m'{x}'\u001b[0m\u001b[0;34m.\u001b[0m\u001b[0mformat\u001b[0m\u001b[0;34m(\u001b[0m\u001b[0my\u001b[0m\u001b[0;34m=\u001b[0m\u001b[0;36m2\u001b[0m\u001b[0;34m)\u001b[0m\u001b[0;34m\u001b[0m\u001b[0;34m\u001b[0m\u001b[0m\n\u001b[0m",
      "\u001b[0;31mKeyError\u001b[0m: 'x'"
     ]
    }
   ],
   "source": [
    "'{x}'.format(y=2)"
   ]
  },
  {
   "cell_type": "code",
   "execution_count": 2,
   "metadata": {},
   "outputs": [
    {
     "data": {
      "text/plain": [
       "'1'"
      ]
     },
     "execution_count": 2,
     "metadata": {},
     "output_type": "execute_result"
    }
   ],
   "source": [
    "'{x}'.format(x=1, y=2)"
   ]
  },
  {
   "cell_type": "markdown",
   "metadata": {},
   "source": [
    "## f-string\n",
    "\n",
    "1. f-string is the most convenient way to format strings. \n",
    "    However, \n",
    "    be aware about the potential risk from injection attacks.\n",
    "\n",
    "2. f-string supports specifying a format for the result of the expression.\n",
    "\n",
    "3. f-string can be nested, which is really cool!\n",
    "\n",
    "4. Backslash (`\\`) cannot be used in a f-string. \n",
    "  There are multiple ways to resolve this issue.\n",
    "  First, you can precompute things needed to avoid using `\\` in a f-string.\n",
    "  Second, you can use `chr(10)` (which returns the backslash) instead.\n",
    "\n",
    "1. Be careful about security holes in f-String. \n",
    "  Since f-String can run any code passed to it, \n",
    "  it is open to injection attack. \n",
    "  Avoid using f-String when user input involved."
   ]
  },
  {
   "cell_type": "markdown",
   "metadata": {},
   "source": [
    "Apply formatting (to the result of a expression) in f-string."
   ]
  },
  {
   "cell_type": "code",
   "execution_count": 2,
   "metadata": {},
   "outputs": [
    {
     "output_type": "execute_result",
     "data": {
      "text/plain": "'001'"
     },
     "metadata": {},
     "execution_count": 2
    }
   ],
   "source": [
    "x = 1\n",
    "f\"{x:0>3}\""
   ]
  },
  {
   "cell_type": "markdown",
   "metadata": {},
   "source": [
    "f-strings can be nested. "
   ]
  },
  {
   "cell_type": "code",
   "execution_count": 3,
   "metadata": {},
   "outputs": [
    {
     "output_type": "execute_result",
     "data": {
      "text/plain": "'001'"
     },
     "metadata": {},
     "execution_count": 3
    }
   ],
   "source": [
    "x = 1\n",
    "y = 3\n",
    "f\"{x:0>{y}}\""
   ]
  },
  {
   "cell_type": "markdown",
   "metadata": {},
   "source": [
    "## The Old-style Formatting Operator %\n",
    "\n",
    "It is not suggested to use `%` to format strings unless you have convincing reasons."
   ]
  },
  {
   "cell_type": "markdown",
   "metadata": {},
   "source": [
    "## Formating Numbers"
   ]
  },
  {
   "cell_type": "code",
   "execution_count": 1,
   "metadata": {},
   "outputs": [
    {
     "data": {
      "text/plain": [
       "'  2'"
      ]
     },
     "execution_count": 1,
     "metadata": {},
     "output_type": "execute_result"
    }
   ],
   "source": [
    "\"{:3}\".format(2)"
   ]
  },
  {
   "cell_type": "code",
   "execution_count": 2,
   "metadata": {},
   "outputs": [
    {
     "data": {
      "text/plain": [
       "'002'"
      ]
     },
     "execution_count": 2,
     "metadata": {},
     "output_type": "execute_result"
    }
   ],
   "source": [
    "\"{:0>3}\".format(2)"
   ]
  },
  {
   "cell_type": "code",
   "execution_count": null,
   "metadata": {},
   "outputs": [],
   "source": []
  }
 ],
 "metadata": {
  "kernelspec": {
   "display_name": "Python 3",
   "language": "python",
   "name": "python3"
  },
  "language_info": {
   "codemirror_mode": {
    "name": "ipython",
    "version": 3
   },
   "file_extension": ".py",
   "mimetype": "text/x-python",
   "name": "python",
   "nbconvert_exporter": "python",
   "pygments_lexer": "ipython3",
   "version": "3.7.6-final"
  }
 },
 "nbformat": 4,
 "nbformat_minor": 4
}