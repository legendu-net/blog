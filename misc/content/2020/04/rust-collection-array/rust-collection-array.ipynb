{
 "cells": [
  {
   "cell_type": "markdown",
   "metadata": {},
   "source": [
    "- Title: Array in Rust\n",
    "- Slug: rust-collection-array\n",
    "- Date: 2020-04-08\n",
    "- Category: Computer Science\n",
    "- Tags: programming, Rust, collection, array, Vec, sequence\n",
    "- Author: Ben Du\n",
    "- Modified: 2021-11-21 01:40:45\n"
   ]
  },
  {
   "cell_type": "markdown",
   "metadata": {},
   "source": [
    "## Tips & Traps \n",
    "\n",
    "1. [Summary of Collections in Rust](http://www.legendu.net/misc/blog/summary-of-collections-in-rust/)\n",
    "    has a good summary on when to each which collection in Rust.\n",
    "    \n",
    "2. The length of an array is considered part of its type\n",
    "    and thus has to be defined at compile time. \n",
    "    You cannot define a dynamic (even fixed) size array.\n",
    "    `Vec` is essentially dynamic sized array.\n",
    "    \n",
    "3. An array is copyable if its element type is copyable. \n",
    "    This has a pitfall of implicity copy if you are not careful!\n",
    "    For example, \n",
    "    if you iterate an array using `into_iter`\n",
    "    and then use the array again,\n",
    "    a copy of the array will be made for `into_iter`\n",
    "    which is likely NOT what you want.\n",
    "    \n",
    "        :::rust\n",
    "        let arr = [1, 2, 3];\n",
    "        for v in arr.into_iter() {\n",
    "            println!(\"{}\", v);\n",
    "        }\n",
    "        for v in arr.into_iter() {\n",
    "            println!(\"{}\", v);\n",
    "        }\n",
    "        \n",
    "    You have to be very careful about arrays when you work with them.\n",
    "\n",
    "3. Arrays of sizes from 0 to 32 (inclusive) implement the Default trait \n",
    "    if the element type allows it. \n",
    "    As a stopgap, \n",
    "    trait implementations are statically generated up to size 32.\n",
    "    This will be improved once const generics is leveraged to implement arrays."
   ]
  },
  {
   "cell_type": "markdown",
   "metadata": {},
   "source": [
    "## Array vs Vec in Rust\n",
    "\n",
    "1. Array is fixed size and allocated on a stack\n",
    "    while Vec has a dynamic size and is allocated on the heap.\n",
    "    Array is slightly faster than Vec (since stack is faster than heap)\n",
    "    especially when the size of the sequence is small.\n",
    "    Multi-dimensional array is even faster than Vec of Vec \n",
    "    due to improved caching. \n",
    "\n",
    "2. An array can't be empty at any time. \n",
    "    When you crate an array, \n",
    "    you immediately have to initialize it. \n",
    "    In practice, \n",
    "    you might have to initialize it twice, \n",
    "    once with a zero/default value, \n",
    "    and second time with some computed one.\n",
    "\n",
    "4. A Vec is not copyable even if its element type is copyable,\n",
    "    so you won't worry about copying a Vec accidentally.\n",
    "    However,\n",
    "    an array is copyable if its element type is copyable!\n",
    "    This means that array has a pitfall of implicity copy if you are not careful!\n",
    "    For example, \n",
    "    if you iterate an array using `into_iter`\n",
    "    and then use the array again,\n",
    "    a copy of the array will be made for `into_iter`\n",
    "    which is likely NOT what you want.\n",
    "    \n",
    "        :::rust\n",
    "        let arr = [1, 2, 3];\n",
    "        for v in arr.into_iter() {\n",
    "            println!(\"{}\", v);\n",
    "        }\n",
    "        for v in arr.into_iter() {\n",
    "            println!(\"{}\", v);\n",
    "        }\n",
    "        \n",
    "    You have to be very careful about arrays when you work with them."
   ]
  },
  {
   "cell_type": "code",
   "execution_count": 3,
   "metadata": {},
   "outputs": [
    {
     "name": "stdout",
     "output_type": "stream",
     "text": [
      "1\n",
      "2\n",
      "3\n",
      "1\n",
      "2\n",
      "3\n"
     ]
    },
    {
     "data": {
      "text/plain": [
       "()"
      ]
     },
     "execution_count": 3,
     "metadata": {},
     "output_type": "execute_result"
    }
   ],
   "source": [
    "let arr = [1, 2, 3];\n",
    "for v in arr {\n",
    "    println!(\"{}\", v);\n",
    "}\n",
    "for v in arr {\n",
    "    println!(\"{}\", v);\n",
    "}"
   ]
  },
  {
   "cell_type": "code",
   "execution_count": 2,
   "metadata": {},
   "outputs": [],
   "source": [
    "use std::vec::Vec;"
   ]
  },
  {
   "cell_type": "code",
   "execution_count": 2,
   "metadata": {},
   "outputs": [],
   "source": [
    "fn print_type_of<T>(_: &T) {\n",
    "    println!(\"{}\", std::any::type_name::<T>())\n",
    "}"
   ]
  },
  {
   "cell_type": "markdown",
   "metadata": {},
   "source": [
    "## Construct Arrays"
   ]
  },
  {
   "cell_type": "code",
   "execution_count": 4,
   "metadata": {},
   "outputs": [
    {
     "ename": "Error",
     "evalue": "the trait bound `[Option<Foo>; 100]: Default` is not satisfied",
     "output_type": "error",
     "traceback": [
      "let arr: [Option<Foo>; 100] = Default::default();",
      "                              ^^^^^^^^^^^^^^^^ the trait `Default` is not implemented for `[Option<Foo>; 100]`",
      "the trait bound `[Option<Foo>; 100]: Default` is not satisfied",
      "help: the following implementations were found:\n  <&[T] as Default>\n  <&mut [T] as Default>\n  <[T; 0] as Default>\n  <[T; 10] as Default>\nand 31 others"
     ]
    }
   ],
   "source": [
    "struct Foo;\n",
    "\n",
    "let arr: [Option<Foo>; 100] = Default::default();"
   ]
  },
  {
   "cell_type": "markdown",
   "metadata": {},
   "source": [
    "### (Integer) Array of Zeros"
   ]
  },
  {
   "cell_type": "code",
   "execution_count": 3,
   "metadata": {},
   "outputs": [
    {
     "data": {
      "text/plain": [
       "[0, 0, 0, 0, 0]"
      ]
     },
     "execution_count": 3,
     "metadata": {},
     "output_type": "execute_result"
    }
   ],
   "source": [
    "let arr: [i32; 5] = [0; 5];\n",
    "arr"
   ]
  },
  {
   "cell_type": "code",
   "execution_count": 4,
   "metadata": {},
   "outputs": [
    {
     "data": {
      "text/plain": [
       "[0, 0, 0, 0, 0]"
      ]
     },
     "execution_count": 4,
     "metadata": {},
     "output_type": "execute_result"
    }
   ],
   "source": [
    "let arr2 = &[0; 5];\n",
    "arr2"
   ]
  },
  {
   "cell_type": "code",
   "execution_count": 10,
   "metadata": {},
   "outputs": [
    {
     "name": "stdout",
     "output_type": "stream",
     "text": [
      "[i32; 5]\n"
     ]
    },
    {
     "data": {
      "text/plain": [
       "()"
      ]
     },
     "execution_count": 10,
     "metadata": {},
     "output_type": "execute_result"
    }
   ],
   "source": [
    "print_type_of(arr2)"
   ]
  },
  {
   "cell_type": "code",
   "execution_count": 6,
   "metadata": {},
   "outputs": [
    {
     "name": "stdout",
     "output_type": "stream",
     "text": [
      "I like apples.\n",
      "I like cake.\n",
      "I like coffee.\n"
     ]
    },
    {
     "data": {
      "text/plain": [
       "()"
      ]
     },
     "execution_count": 6,
     "metadata": {},
     "output_type": "execute_result"
    }
   ],
   "source": [
    "let v = [\"apples\", \"cake\", \"coffee\"];\n",
    "\n",
    "for text in v {\n",
    "    println!(\"I like {}.\", text);\n",
    "}"
   ]
  },
  {
   "cell_type": "code",
   "execution_count": 7,
   "metadata": {},
   "outputs": [
    {
     "name": "stdout",
     "output_type": "stream",
     "text": [
      "I like apples.\n",
      "I like cake.\n",
      "I like coffee.\n"
     ]
    },
    {
     "data": {
      "text/plain": [
       "()"
      ]
     },
     "execution_count": 7,
     "metadata": {},
     "output_type": "execute_result"
    }
   ],
   "source": [
    "let v = [\"apples\".to_string(), \"cake\".to_string(), \"coffee\".to_string()];\n",
    "\n",
    "for text in &v {\n",
    "    println!(\"I like {}.\", text);\n",
    "}"
   ]
  },
  {
   "cell_type": "markdown",
   "metadata": {},
   "source": [
    "The size of the array must be determined at compile time."
   ]
  },
  {
   "cell_type": "code",
   "execution_count": 11,
   "metadata": {},
   "outputs": [
    {
     "data": {
      "text/plain": [
       "5"
      ]
     },
     "execution_count": 11,
     "metadata": {},
     "output_type": "execute_result"
    }
   ],
   "source": [
    "let n = 5;\n",
    "n"
   ]
  },
  {
   "cell_type": "code",
   "execution_count": 12,
   "metadata": {},
   "outputs": [
    {
     "ename": "Error",
     "evalue": "attempt to use a non-constant value in a constant",
     "output_type": "error",
     "traceback": [
      "let arr2: [i32; n] = [0; n];",
      "                ^ non-constant value",
      "attempt to use a non-constant value in a constant",
      "help: consider using `const` instead of `let`\n\nconst n"
     ]
    },
    {
     "ename": "Error",
     "evalue": "attempt to use a non-constant value in a constant",
     "output_type": "error",
     "traceback": [
      "let arr2: [i32; n] = [0; n];",
      "                         ^ non-constant value",
      "attempt to use a non-constant value in a constant",
      "help: consider using `const` instead of `let`\n\nconst n"
     ]
    }
   ],
   "source": [
    "let arr2: [i32; n] = [0; n];\n",
    "arr"
   ]
  },
  {
   "cell_type": "code",
   "execution_count": 13,
   "metadata": {},
   "outputs": [
    {
     "data": {
      "text/plain": [
       "[0, 1, 2, 3]"
      ]
     },
     "execution_count": 13,
     "metadata": {},
     "output_type": "execute_result"
    }
   ],
   "source": [
    "let numbers = [0, 1, 2, 3];\n",
    "numbers"
   ]
  },
  {
   "cell_type": "code",
   "execution_count": 14,
   "metadata": {},
   "outputs": [
    {
     "data": {
      "text/plain": [
       "0"
      ]
     },
     "execution_count": 14,
     "metadata": {},
     "output_type": "execute_result"
    }
   ],
   "source": [
    "numbers[0]"
   ]
  },
  {
   "cell_type": "code",
   "execution_count": 15,
   "metadata": {},
   "outputs": [
    {
     "data": {
      "text/plain": [
       "3"
      ]
     },
     "execution_count": 15,
     "metadata": {},
     "output_type": "execute_result"
    }
   ],
   "source": [
    "numbers[3]"
   ]
  },
  {
   "cell_type": "code",
   "execution_count": 16,
   "metadata": {},
   "outputs": [
    {
     "name": "stdout",
     "output_type": "stream",
     "text": [
      "1\n",
      "2\n"
     ]
    },
    {
     "data": {
      "text/plain": [
       "()"
      ]
     },
     "execution_count": 16,
     "metadata": {},
     "output_type": "execute_result"
    }
   ],
   "source": [
    "for i in 1..3 {\n",
    "    println!(\"{}\", numbers[i])\n",
    "}"
   ]
  },
  {
   "cell_type": "markdown",
   "metadata": {},
   "source": [
    "## capacity\n",
    "\n",
    "An array does not have the method `capacity` since it is of fixed length."
   ]
  },
  {
   "cell_type": "code",
   "execution_count": 17,
   "metadata": {},
   "outputs": [
    {
     "ename": "Error",
     "evalue": "no method named `capacity` found for array `[i32; 4]` in the current scope",
     "output_type": "error",
     "traceback": [
      "numbers.capacity()",
      "        ^^^^^^^^ method not found in `[i32; 4]`",
      "no method named `capacity` found for array `[i32; 4]` in the current scope"
     ]
    }
   ],
   "source": [
    "numbers.capacity()"
   ]
  },
  {
   "cell_type": "markdown",
   "metadata": {},
   "source": [
    "## len"
   ]
  },
  {
   "cell_type": "code",
   "execution_count": 18,
   "metadata": {},
   "outputs": [
    {
     "data": {
      "text/plain": [
       "4"
      ]
     },
     "execution_count": 18,
     "metadata": {},
     "output_type": "execute_result"
    }
   ],
   "source": [
    "numbers.len()"
   ]
  },
  {
   "cell_type": "markdown",
   "metadata": {},
   "source": [
    "## push"
   ]
  },
  {
   "cell_type": "code",
   "execution_count": 19,
   "metadata": {},
   "outputs": [
    {
     "ename": "Error",
     "evalue": "no method named `push` found for array `[i32; 4]` in the current scope",
     "output_type": "error",
     "traceback": [
      "numbers.push(4)",
      "        ^^^^ method not found in `[i32; 4]`",
      "no method named `push` found for array `[i32; 4]` in the current scope"
     ]
    }
   ],
   "source": [
    "numbers.push(4)"
   ]
  },
  {
   "cell_type": "markdown",
   "metadata": {},
   "source": [
    "## Size (in Bytes) of Array"
   ]
  },
  {
   "cell_type": "code",
   "execution_count": 20,
   "metadata": {},
   "outputs": [
    {
     "data": {
      "text/plain": [
       "16"
      ]
     },
     "execution_count": 20,
     "metadata": {},
     "output_type": "execute_result"
    }
   ],
   "source": [
    "std::mem::size_of_val(&numbers)"
   ]
  },
  {
   "cell_type": "markdown",
   "metadata": {},
   "source": [
    "## Iterate Through an Array"
   ]
  },
  {
   "cell_type": "markdown",
   "metadata": {},
   "source": [
    "### for loop / into_iter"
   ]
  },
  {
   "cell_type": "code",
   "execution_count": 21,
   "metadata": {},
   "outputs": [
    {
     "name": "stdout",
     "output_type": "stream",
     "text": [
      "0\n",
      "0\n",
      "0\n"
     ]
    },
    {
     "data": {
      "text/plain": [
       "()"
      ]
     },
     "execution_count": 21,
     "metadata": {},
     "output_type": "execute_result"
    }
   ],
   "source": [
    "let array: [i32; 3] = [0; 3];\n",
    "\n",
    "for x in array { \n",
    "    println!(\"{}\", x);\n",
    "}"
   ]
  },
  {
   "cell_type": "code",
   "execution_count": 3,
   "metadata": {},
   "outputs": [
    {
     "name": "stdout",
     "output_type": "stream",
     "text": [
      "alphabetagamma\n"
     ]
    }
   ],
   "source": [
    "let words = vec![\"alpha\", \"beta\", \"gamma\"];\n",
    "let merged: String = words.into_iter().collect();\n",
    "println!(\"{}\", merged);"
   ]
  },
  {
   "cell_type": "code",
   "execution_count": 4,
   "metadata": {},
   "outputs": [
    {
     "ename": "Error",
     "evalue": "a value of type `String` cannot be built from an iterator over elements of type `&&str`",
     "output_type": "error",
     "traceback": [
      "let merged: String = words.into_iter().collect();",
      "                                       ^^^^^^^ value of type `String` cannot be built from `std::iter::Iterator<Item=&&str>`",
      "a value of type `String` cannot be built from an iterator over elements of type `&&str`",
      "help: the trait `FromIterator<&&str>` is not implemented for `String`"
     ]
    }
   ],
   "source": [
    "let words = [\"alpha\", \"beta\", \"gamma\"];\n",
    "let merged: String = words.into_iter().collect();\n",
    "println!(\"{}\", merged);"
   ]
  },
  {
   "cell_type": "code",
   "execution_count": 25,
   "metadata": {},
   "outputs": [
    {
     "data": {
      "text/plain": [
       "0"
      ]
     },
     "execution_count": 25,
     "metadata": {},
     "output_type": "execute_result"
    }
   ],
   "source": [
    "array.into_iter().map(|&i| array[i as usize]).sum::<i32>()"
   ]
  },
  {
   "cell_type": "code",
   "execution_count": 26,
   "metadata": {},
   "outputs": [
    {
     "data": {
      "text/plain": [
       "0"
      ]
     },
     "execution_count": 26,
     "metadata": {},
     "output_type": "execute_result"
    }
   ],
   "source": [
    "array.iter().map(|&i| array[i as usize]).sum::<i32>()"
   ]
  },
  {
   "cell_type": "markdown",
   "metadata": {},
   "source": [
    "### Using Array Index"
   ]
  },
  {
   "cell_type": "code",
   "execution_count": 10,
   "metadata": {},
   "outputs": [
    {
     "name": "stdout",
     "output_type": "stream",
     "text": [
      "0\n",
      "1\n",
      "2\n",
      "3\n",
      "4\n"
     ]
    },
    {
     "data": {
      "text/plain": [
       "()"
      ]
     },
     "execution_count": 10,
     "metadata": {},
     "output_type": "execute_result"
    }
   ],
   "source": [
    "for i in 0..5 {\n",
    "    println!(\"{}\", numbers[i]);\n",
    "}"
   ]
  },
  {
   "cell_type": "markdown",
   "metadata": {},
   "source": [
    "### Using the `.iter()` Method\n",
    "\n",
    "Technically speaking, \n",
    "an array is coerced to a slice (implicitly) before calling `.iter()`."
   ]
  },
  {
   "cell_type": "code",
   "execution_count": 11,
   "metadata": {},
   "outputs": [
    {
     "name": "stdout",
     "output_type": "stream",
     "text": [
      "0\n",
      "1\n",
      "2\n",
      "3\n",
      "4\n"
     ]
    },
    {
     "data": {
      "text/plain": [
       "()"
      ]
     },
     "execution_count": 11,
     "metadata": {},
     "output_type": "execute_result"
    }
   ],
   "source": [
    "for n in numbers.iter() {\n",
    "    println!(\"{}\", n);\n",
    "}"
   ]
  },
  {
   "cell_type": "markdown",
   "metadata": {},
   "source": [
    "### Using the `.iter_mut` Method\n",
    "\n",
    "This is similar to the `.iter()` method but allows you to update the array while iterate through it."
   ]
  },
  {
   "cell_type": "code",
   "execution_count": 2,
   "metadata": {},
   "outputs": [
    {
     "name": "stdout",
     "output_type": "stream",
     "text": [
      "[0, 2, 4, 6, 8]\n"
     ]
    },
    {
     "data": {
      "text/plain": [
       "()"
      ]
     },
     "execution_count": 2,
     "metadata": {},
     "output_type": "execute_result"
    }
   ],
   "source": [
    "let mut numbers: [i32; 5] = [0, 1, 2, 3, 4];\n",
    "for n in numbers.iter_mut() {\n",
    "    *n *= 2;\n",
    "}\n",
    "println!(\"{:?}\", numbers);"
   ]
  },
  {
   "cell_type": "markdown",
   "metadata": {},
   "source": [
    "## Iterator"
   ]
  },
  {
   "cell_type": "markdown",
   "metadata": {},
   "source": [
    "map"
   ]
  },
  {
   "cell_type": "markdown",
   "metadata": {},
   "source": [
    "collect"
   ]
  },
  {
   "cell_type": "markdown",
   "metadata": {},
   "source": [
    "group_by"
   ]
  },
  {
   "cell_type": "markdown",
   "metadata": {},
   "source": [
    "https://doc.rust-lang.org/std/convert/fn.identity.html"
   ]
  },
  {
   "cell_type": "code",
   "execution_count": null,
   "metadata": {},
   "outputs": [],
   "source": []
  },
  {
   "cell_type": "markdown",
   "metadata": {},
   "source": [
    "## 2-D Array"
   ]
  },
  {
   "cell_type": "code",
   "execution_count": 2,
   "metadata": {},
   "outputs": [],
   "source": [
    "let mut state = [[0u8; 4]; 6];\n",
    "state[0][1] = 42;"
   ]
  },
  {
   "cell_type": "code",
   "execution_count": 3,
   "metadata": {},
   "outputs": [
    {
     "data": {
      "text/plain": [
       "[[0, 42, 0, 0], [0, 0, 0, 0], [0, 0, 0, 0], [0, 0, 0, 0], [0, 0, 0, 0], [0, 0, 0, 0]]"
      ]
     },
     "execution_count": 3,
     "metadata": {},
     "output_type": "execute_result"
    }
   ],
   "source": [
    "state"
   ]
  },
  {
   "cell_type": "markdown",
   "metadata": {},
   "source": [
    "## Array vs Slice\n",
    "\n",
    "An array is a collection of objects of the same type `T`,\n",
    "stored in contiguous memory. \n",
    "Arrays are created using brackets `[]`, \n",
    "and their length, \n",
    "which is known at compile time, \n",
    "is part of their type signature [T; length].\n",
    "\n",
    "Slices are similar to arrays, but their length is not known at compile time. Instead, a slice is a two-word object, the first word is a pointer to the data, and the second word is the length of the slice. The word size is the same as usize, determined by the processor architecture eg 64 bits on an x86-64. Slices can be used to borrow a section of an array, and have the type signature `&[T]`.\n",
    "\n",
    "[Arrays and Slices](https://doc.rust-lang.org/rust-by-example/primitives/array.html)\n",
    "\n",
    "[Arrays and Slices in Rust](https://dev-notes.eu/2019/07/arrays-slices-in-rust/)"
   ]
  },
  {
   "cell_type": "markdown",
   "metadata": {},
   "source": [
    "## References \n",
    "\n",
    "[Module std::collections](https://doc.rust-lang.org/std/collections/index.html)\n",
    "\n",
    "[Primitive Type array](https://doc.rust-lang.org/std/primitive.array.html)\n",
    "\n",
    "[Help to understand Iterator type (&[i32; 33] is not an iterator)](https://users.rust-lang.org/t/help-to-understand-iterator-type-i32-33-is-not-an-iterator/27342)\n",
    "\n",
    "[Confusing behavior of `into_iter` on vector and array](https://users.rust-lang.org/t/confusing-behavior-of-into-iter-on-vector-and-array/59168)"
   ]
  }
 ],
 "metadata": {
  "kernelspec": {
   "display_name": "Rust",
   "language": "rust",
   "name": "rust"
  },
  "language_info": {
   "codemirror_mode": "rust",
   "file_extension": ".rs",
   "mimetype": "text/rust",
   "name": "Rust",
   "pygment_lexer": "rust",
   "version": ""
  }
 },
 "nbformat": 4,
 "nbformat_minor": 4
}
