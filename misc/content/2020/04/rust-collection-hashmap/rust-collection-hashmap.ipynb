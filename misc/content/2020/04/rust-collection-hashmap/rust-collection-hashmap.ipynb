{
 "cells": [
  {
   "cell_type": "markdown",
   "metadata": {},
   "source": [
    "- Title: Map in Rust\n",
    "- Slug: rust-map\n",
    "- Date: 2020-04-08\n",
    "- Category: Computer Science\n",
    "- Tags: programming, Rust, collection, HashMap, dictionary, HashTable\n",
    "- Author: Ben Du\n",
    "- Modified: 2020-04-08\n"
   ]
  },
  {
   "cell_type": "code",
   "execution_count": null,
   "metadata": {},
   "outputs": [],
   "source": [
    ":timing\n",
    ":sccache 1"
   ]
  },
  {
   "cell_type": "markdown",
   "metadata": {},
   "source": [
    "## Tips and Traps\n",
    "\n",
    "1. [Summary of Collections in Rust](http://www.legendu.net/misc/blog/summary-of-collections-in-rust/)\n",
    "    has a good summary on when to each which collection in Rust.\n",
    "    \n",
    "2. [std::collections::HashMap](https://doc.rust-lang.org/beta/std/collections/struct.HashMap.html)\n",
    "    has a good discussions on implementation details of HashMap\n",
    "    and things to note when use it.\n",
    "    \n",
    "3. [BTreeMap](https://doc.rust-lang.org/stable/std/collections/struct.BTreeMap.html)\n",
    "    is a sorted alternative to HashMap. \n",
    "    \n",
    "6. [hashbrown](https://crates.io/crates/hashbrown)\n",
    "    is a Rust port of Google's high-performance SwissTable hash map, \n",
    "    adapted to make it a drop-in replacement for Rust's standard HashMap and HashSet types.\n",
    "\n",
    "4. [indexmap](https://github.com/bluss/indexmap)\n",
    "    is a hash table which preserves (in a limited sense) insertion order.\n",
    "    It is similar to \n",
    "    [dict](https://docs.python.org/3/tutorial/datastructures.html)\n",
    "    in Python 3.7+.\n",
    "\n",
    "5. [fnv](https://crates.io/crates/fnv)\n",
    "    is an implementation of the Fowler–Noll–Vo hash function.\n",
    "\n",
    "7. [Fast Hashing Algorithms](http://www.legendu.net/misc/blog/fast-hashing-algorithms/)\n",
    "    has a good discussion of fast hashing algorithms.\n",
    "    \n",
    "## Hash code and Hash Maps\n",
    "\n",
    "- [hashbrown](https://crates.io/crates/hashbrown)\n",
    "    is a Rust port of Google's high-performance SwissTable hash map, \n",
    "    adapted to make it a drop-in replacement for Rust's standard HashMap and HashSet types since Rust 1.36.\n",
    "    However,\n",
    "    you might still want to use hashbrown for a few reasons.\n",
    "    - hashbrown uses AHash as the default hasher, \n",
    "        which is less secure but much faster than SipHash \n",
    "        (default hash used in the Rust standard library). \n",
    "    - It can be used in an environment without std.\n",
    "    \n",
    "- [fnv](https://crates.io/crates/fnv)\n",
    "    is an implementation of the Fowler–Noll–Vo hash function.\n",
    "\n",
    "- [phf](https://crates.io/crates/phf)\n",
    "    provides runtime support for perfect hash function data structures\n",
    "    \n",
    "- [indexmap](https://crates.io/crates/indexmap)\n",
    "    A hash table with consistent order and fast iteration. \n",
    "    The indexmap is a hash table \n",
    "    where the iteration order of the key-value pairs is independent of the hash values of the keys. \n",
    "    It has the usual hash table functionality, \n",
    "    it preserves insertion order except after removals, \n",
    "    and it allows lookup of its elements by either hash table key or numerical index.\n",
    "\n",
    "- [dashmap](https://crates.io/crates/dashmap)\n",
    "    is a blazing fast concurrent HashMap for Rust.\n",
    "\n",
    "- [TinySet](https://crates.io/crates/tinyset)\n",
    "    provides a few collections that are optimized to scale in size well for small numbers of elements, \n",
    "    while still scaling well in time (and size) for numbers of elements.\n",
    "\n",
    "- [schnellru](https://crates.io/crates/schnellru)\n",
    "    is a fast and flexible LRU map.\n",
    "\n",
    "\n",
    "1. For simple integer hashing functions, \n",
    "    integer modulo is a very BAD (in terms of speed) hashing function\n",
    "    while the multiplicative hashing is a much better alternative.\n",
    "\n",
    "2. By default, \n",
    "  Rust hash tables use Siphash 1-3, a hash function that is high quality but fairly slow. \n",
    "  In contrast, \n",
    "  the Rust compiler uses as hash function called FxHasher, which is surprisingly simple yet effective.\n",
    "  \n",
    "3. [FNV Hash](http://www.isthe.com/chongo/tech/comp/fnv/index.html)\n",
    "    and AHash.\n",
    "\n"
   ]
  },
  {
   "cell_type": "markdown",
   "metadata": {},
   "source": [
    "## std::collections::HashMap"
   ]
  },
  {
   "cell_type": "code",
   "execution_count": 2,
   "metadata": {},
   "outputs": [],
   "source": [
    "use std::collections::HashMap;"
   ]
  },
  {
   "cell_type": "code",
   "execution_count": 6,
   "metadata": {},
   "outputs": [],
   "source": [
    "let mut map: HashMap<i32, i32> = HashMap::new();"
   ]
  },
  {
   "cell_type": "code",
   "execution_count": 11,
   "metadata": {},
   "outputs": [
    {
     "data": {
      "text/plain": [
       "None"
      ]
     },
     "execution_count": 11,
     "metadata": {},
     "output_type": "execute_result"
    }
   ],
   "source": [
    "map.get(&1)"
   ]
  },
  {
   "cell_type": "code",
   "execution_count": 10,
   "metadata": {},
   "outputs": [
    {
     "data": {
      "text/plain": [
       "false"
      ]
     },
     "execution_count": 10,
     "metadata": {},
     "output_type": "execute_result"
    }
   ],
   "source": [
    "map.contains_key(&1)"
   ]
  },
  {
   "cell_type": "code",
   "execution_count": 12,
   "metadata": {},
   "outputs": [],
   "source": [
    "map.insert(1, 1000)"
   ]
  },
  {
   "cell_type": "code",
   "execution_count": 13,
   "metadata": {},
   "outputs": [
    {
     "data": {
      "text/plain": [
       "Some(1000)"
      ]
     },
     "execution_count": 13,
     "metadata": {},
     "output_type": "execute_result"
    }
   ],
   "source": [
    "map.get(&1)"
   ]
  },
  {
   "cell_type": "code",
   "execution_count": 14,
   "metadata": {},
   "outputs": [
    {
     "data": {
      "text/plain": [
       "1000"
      ]
     },
     "execution_count": 14,
     "metadata": {},
     "output_type": "execute_result"
    }
   ],
   "source": [
    "map.get(&1).unwrap()"
   ]
  },
  {
   "cell_type": "code",
   "execution_count": 15,
   "metadata": {},
   "outputs": [
    {
     "data": {
      "text/plain": [
       "true"
      ]
     },
     "execution_count": 15,
     "metadata": {},
     "output_type": "execute_result"
    }
   ],
   "source": [
    "map.contains_key(&1)"
   ]
  },
  {
   "cell_type": "markdown",
   "metadata": {},
   "source": [
    "Update the value of the key `1`."
   ]
  },
  {
   "cell_type": "code",
   "execution_count": 22,
   "metadata": {},
   "outputs": [],
   "source": [
    "*map.get_mut(&1).unwrap() += 1;"
   ]
  },
  {
   "cell_type": "code",
   "execution_count": 23,
   "metadata": {},
   "outputs": [
    {
     "data": {
      "text/plain": [
       "Some(1001)"
      ]
     },
     "execution_count": 23,
     "metadata": {},
     "output_type": "execute_result"
    }
   ],
   "source": [
    "map.get(&1)"
   ]
  },
  {
   "cell_type": "markdown",
   "metadata": {},
   "source": [
    "### with_capacity"
   ]
  },
  {
   "cell_type": "code",
   "execution_count": 3,
   "metadata": {},
   "outputs": [
    {
     "data": {
      "text/plain": [
       "{}"
      ]
     },
     "execution_count": 3,
     "metadata": {},
     "output_type": "execute_result"
    }
   ],
   "source": [
    "let mut m2: HashMap<i32, i32> = HashMap::with_capacity(10);\n",
    "m2"
   ]
  },
  {
   "cell_type": "code",
   "execution_count": 4,
   "metadata": {},
   "outputs": [
    {
     "data": {
      "text/plain": [
       "0"
      ]
     },
     "execution_count": 4,
     "metadata": {},
     "output_type": "execute_result"
    }
   ],
   "source": [
    "m2.len()"
   ]
  },
  {
   "cell_type": "code",
   "execution_count": 5,
   "metadata": {},
   "outputs": [
    {
     "data": {
      "text/plain": [
       "14"
      ]
     },
     "execution_count": 5,
     "metadata": {},
     "output_type": "execute_result"
    }
   ],
   "source": [
    "m2.capacity()"
   ]
  },
  {
   "cell_type": "code",
   "execution_count": 6,
   "metadata": {},
   "outputs": [],
   "source": [
    "m2.insert(1,1);"
   ]
  },
  {
   "cell_type": "code",
   "execution_count": 7,
   "metadata": {},
   "outputs": [
    {
     "data": {
      "text/plain": [
       "1"
      ]
     },
     "execution_count": 7,
     "metadata": {},
     "output_type": "execute_result"
    }
   ],
   "source": [
    "m2.len()"
   ]
  },
  {
   "cell_type": "code",
   "execution_count": 8,
   "metadata": {},
   "outputs": [
    {
     "data": {
      "text/plain": [
       "14"
      ]
     },
     "execution_count": 8,
     "metadata": {},
     "output_type": "execute_result"
    }
   ],
   "source": [
    "m2.capacity()"
   ]
  },
  {
   "cell_type": "markdown",
   "metadata": {},
   "source": [
    "## std::collections::BTreeMap"
   ]
  },
  {
   "cell_type": "code",
   "execution_count": 2,
   "metadata": {},
   "outputs": [],
   "source": [
    "use std::collections::BTreeMap;"
   ]
  },
  {
   "cell_type": "code",
   "execution_count": 3,
   "metadata": {},
   "outputs": [],
   "source": [
    "let mut m: BTreeMap<u32, Vec<usize>> = BTreeMap::new();"
   ]
  },
  {
   "cell_type": "code",
   "execution_count": 6,
   "metadata": {},
   "outputs": [],
   "source": [
    "m.insert(1000, vec![2, 7]);"
   ]
  },
  {
   "cell_type": "code",
   "execution_count": 16,
   "metadata": {},
   "outputs": [],
   "source": [
    "m.insert(100, vec![3, 4]);"
   ]
  },
  {
   "cell_type": "code",
   "execution_count": 19,
   "metadata": {},
   "outputs": [],
   "source": [
    "m.insert(333, vec![36, 21]);"
   ]
  },
  {
   "cell_type": "code",
   "execution_count": 15,
   "metadata": {},
   "outputs": [
    {
     "data": {
      "text/plain": [
       "None"
      ]
     },
     "execution_count": 15,
     "metadata": {},
     "output_type": "execute_result"
    }
   ],
   "source": [
    "m.get(&0)"
   ]
  },
  {
   "cell_type": "code",
   "execution_count": 13,
   "metadata": {},
   "outputs": [],
   "source": [
    "m.get_mut(&1000).unwrap().push(111);"
   ]
  },
  {
   "cell_type": "code",
   "execution_count": 14,
   "metadata": {},
   "outputs": [
    {
     "data": {
      "text/plain": [
       "Some([2, 7, 111])"
      ]
     },
     "execution_count": 14,
     "metadata": {},
     "output_type": "execute_result"
    }
   ],
   "source": [
    "m.get(&1000)"
   ]
  },
  {
   "cell_type": "markdown",
   "metadata": {},
   "source": [
    "Confirm that keys of BTreeMap are sorted."
   ]
  },
  {
   "cell_type": "code",
   "execution_count": 20,
   "metadata": {},
   "outputs": [
    {
     "name": "stdout",
     "output_type": "stream",
     "text": [
      "100\n",
      "333\n",
      "1000\n"
     ]
    },
    {
     "data": {
      "text/plain": [
       "()"
      ]
     },
     "execution_count": 20,
     "metadata": {},
     "output_type": "execute_result"
    }
   ],
   "source": [
    "for k in m.keys() {\n",
    "    println!(\"{}\", k);\n",
    "}"
   ]
  },
  {
   "cell_type": "markdown",
   "metadata": {},
   "source": [
    "## References \n",
    "\n",
    "- [Hash in Rust]( https://www.legendu.net/misc/blog/hash-in-rust )\n",
    "\n",
    "- [Summary of Collections in Rust](http://www.legendu.net/misc/blog/summary-of-collections-in-rust/)\n",
    "\n",
    "- [std::collections::HashMap](https://doc.rust-lang.org/beta/std/collections/struct.HashMap.html)\n",
    "\n",
    "- [A brutally effective hash function in Rust](https://nnethercote.github.io/2021/12/08/a-brutally-effective-hash-function-in-rust.html)\n",
    "\n",
    "- [What integer hash function are good that accepts an integer hash key?](https://stackoverflow.com/questions/664014/what-integer-hash-function-are-good-that-accepts-an-integer-hash-key)\n",
    "\n",
    "- [Signed Division and Remainder by Non-Powers of 2](https://doc.lagout.org/security/Hackers%20Delight.pdf)\n",
    "\n",
    "- [A fast alternative to the modulo reduction](https://lemire.me/blog/2016/06/27/a-fast-alternative-to-the-modulo-reduction/)\n",
    "\n",
    "- [Fibonacci Hashing: The Optimization that the World Forgot (or: a Better Alternative to Integer Modulo)](https://probablydance.com/2018/06/16/fibonacci-hashing-the-optimization-that-the-world-forgot-or-a-better-alternative-to-integer-modulo/)\n",
    "\n",
    "- [Fastest Lookup Time Map for Short Keys](https://users.rust-lang.org/t/fastest-lookup-time-map-for-short-keys/2028)\n",
    "\n",
    "- [FNV Hash](http://www.isthe.com/chongo/tech/comp/fnv/index.html)\n",
    "\n",
    "- [Swiss Tables and absl::Hash](https://abseil.io/blog/20180927-swisstables)\n",
    "\n",
    "- [OPTIMIZING HASHMAPS EVEN MORE](https://blog.yoshuawuyts.com/optimizing-hashmaps-even-more/)\n"
   ]
  },
  {
   "cell_type": "code",
   "execution_count": null,
   "metadata": {},
   "outputs": [],
   "source": []
  }
 ],
 "metadata": {
  "kernelspec": {
   "display_name": "Rust",
   "language": "rust",
   "name": "rust"
  },
  "language_info": {
   "codemirror_mode": "rust",
   "file_extension": ".rs",
   "mimetype": "text/rust",
   "name": "Rust",
   "pygment_lexer": "rust",
   "version": ""
  }
 },
 "nbformat": 4,
 "nbformat_minor": 4
}
