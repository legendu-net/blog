{
 "cells": [
  {
   "cell_type": "markdown",
   "metadata": {},
   "source": [
    "- Title: Map in Rust\n",
    "- Slug: rust-hashmap\n",
    "- Date: 2020-04-08\n",
    "- Category: Computer Science\n",
    "- Tags: programming, Rust, collection, HashMap, dictionary, HashTable\n",
    "- Author: Ben Du\n",
    "- Modified: 2020-04-08\n"
   ]
  },
  {
   "cell_type": "markdown",
   "metadata": {},
   "source": [
    "## Tips and Traps\n",
    "\n",
    "1. [Summary of Collections in Rust](http://www.legendu.net/misc/blog/summary-of-collections-in-rust/)\n",
    "    has a good summary on when to each which collection in Rust.\n",
    "    \n",
    "2. [std::collections::HashMap](https://doc.rust-lang.org/beta/std/collections/struct.HashMap.html)\n",
    "    has a good discussions on implementation details of HashMap\n",
    "    and things to note when use it.\n",
    "    \n",
    "3. [BTreeMap](https://doc.rust-lang.org/stable/std/collections/struct.BTreeMap.html)\n",
    "    is a sorted alternative to HashMap. \n",
    "    \n",
    "4. [indexmap](https://github.com/bluss/indexmap)\n",
    "    is a hash table which preserves (in a limited sense) insertion order.\n",
    "    It is similar to \n",
    "    [dict](https://docs.python.org/3/tutorial/datastructures.html)\n",
    "    in Python 3.7+.\n",
    "\n",
    "5. [fnv](https://crates.io/crates/fnv)\n",
    "    is an implementation of the Fowler–Noll–Vo hash function.\n",
    "\n",
    "6. [hashbrown](https://crates.io/crates/hashbrown)\n",
    "    is a Rust port of Google's high-performance SwissTable hash map, \n",
    "    adapted to make it a drop-in replacement for Rust's standard HashMap and HashSet types.\n",
    "\n",
    "7. [Fast Hashing Algorithms](http://www.legendu.net/misc/blog/fast-hashing-algorithms/)\n",
    "    has a good discussion of fast hashing algorithms."
   ]
  },
  {
   "cell_type": "code",
   "execution_count": 2,
   "metadata": {},
   "outputs": [],
   "source": [
    "use std::collections::HashMap;"
   ]
  },
  {
   "cell_type": "code",
   "execution_count": 6,
   "metadata": {},
   "outputs": [],
   "source": [
    "let mut map: HashMap<i32, i32> = HashMap::new();"
   ]
  },
  {
   "cell_type": "code",
   "execution_count": 11,
   "metadata": {},
   "outputs": [
    {
     "data": {
      "text/plain": [
       "None"
      ]
     },
     "execution_count": 11,
     "metadata": {},
     "output_type": "execute_result"
    }
   ],
   "source": [
    "map.get(&1)"
   ]
  },
  {
   "cell_type": "code",
   "execution_count": 10,
   "metadata": {},
   "outputs": [
    {
     "data": {
      "text/plain": [
       "false"
      ]
     },
     "execution_count": 10,
     "metadata": {},
     "output_type": "execute_result"
    }
   ],
   "source": [
    "map.contains_key(&1)"
   ]
  },
  {
   "cell_type": "code",
   "execution_count": 12,
   "metadata": {},
   "outputs": [],
   "source": [
    "map.insert(1, 1000)"
   ]
  },
  {
   "cell_type": "code",
   "execution_count": 13,
   "metadata": {},
   "outputs": [
    {
     "data": {
      "text/plain": [
       "Some(1000)"
      ]
     },
     "execution_count": 13,
     "metadata": {},
     "output_type": "execute_result"
    }
   ],
   "source": [
    "map.get(&1)"
   ]
  },
  {
   "cell_type": "code",
   "execution_count": 14,
   "metadata": {},
   "outputs": [
    {
     "data": {
      "text/plain": [
       "1000"
      ]
     },
     "execution_count": 14,
     "metadata": {},
     "output_type": "execute_result"
    }
   ],
   "source": [
    "map.get(&1).unwrap()"
   ]
  },
  {
   "cell_type": "code",
   "execution_count": 15,
   "metadata": {},
   "outputs": [
    {
     "data": {
      "text/plain": [
       "true"
      ]
     },
     "execution_count": 15,
     "metadata": {},
     "output_type": "execute_result"
    }
   ],
   "source": [
    "map.contains_key(&1)"
   ]
  },
  {
   "cell_type": "markdown",
   "metadata": {},
   "source": [
    "Update the value of the key `1`."
   ]
  },
  {
   "cell_type": "code",
   "execution_count": 22,
   "metadata": {},
   "outputs": [],
   "source": [
    "*map.get_mut(&1).unwrap() += 1;"
   ]
  },
  {
   "cell_type": "code",
   "execution_count": 23,
   "metadata": {},
   "outputs": [
    {
     "data": {
      "text/plain": [
       "Some(1001)"
      ]
     },
     "execution_count": 23,
     "metadata": {},
     "output_type": "execute_result"
    }
   ],
   "source": [
    "map.get(&1)"
   ]
  },
  {
   "cell_type": "markdown",
   "metadata": {},
   "source": [
    "## References \n",
    "\n",
    "- [Summary of Collections in Rust](http://www.legendu.net/misc/blog/summary-of-collections-in-rust/)\n",
    "\n",
    "- [std::collections::HashMap](https://doc.rust-lang.org/beta/std/collections/struct.HashMap.html)\n",
    "\n",
    "- [Fast Hashing Algorithms](http://www.legendu.net/misc/blog/fast-hashing-algorithms/)"
   ]
  },
  {
   "cell_type": "code",
   "execution_count": null,
   "metadata": {},
   "outputs": [],
   "source": []
  }
 ],
 "metadata": {
  "kernelspec": {
   "display_name": "Rust",
   "language": "rust",
   "name": "rust"
  },
  "language_info": {
   "codemirror_mode": "rust",
   "file_extension": ".rs",
   "mimetype": "text/rust",
   "name": "Rust",
   "pygment_lexer": "rust",
   "version": ""
  }
 },
 "nbformat": 4,
 "nbformat_minor": 4
}
