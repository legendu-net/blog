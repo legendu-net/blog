{
 "cells": [
  {
   "cell_type": "markdown",
   "metadata": {},
   "source": [
    "- Title: Iterator in Rust\n",
    "- Slug: rust-collection-iterator\n",
    "- Date: 2020-04-08\n",
    "- Category: Computer Science\n",
    "- Tags: programming, Rust, collection, iterator, IntoIterator\n",
    "- Author: Ben Du\n",
    "- Modified: 2020-04-08\n"
   ]
  },
  {
   "cell_type": "markdown",
   "metadata": {},
   "source": [
    "## Tips & Traps\n",
    "\n",
    "1. Be aware of possible performance penalty \n",
    "    when you write functional programming style code\n",
    "    especially when you have large collections.\n",
    "\n",
    "2. Functional programming methods (`map`, `filter`, etc.) can only apply to Itrators and Ranges\n",
    "    instead of concrete collections types.\n",
    "    \n",
    "3. [itertools](https://crates.io/crates/itertools)\n",
    "    is a crate providing additional iterator related functionalities.\n",
    "    \n",
    "4. [Module std::collections](https://doc.rust-lang.org/std/collections/index.html)\n",
    "    has a good summary on when to each which collection in Rust."
   ]
  },
  {
   "cell_type": "markdown",
   "metadata": {},
   "source": [
    "# [std::iter::Iterator](https://doc.rust-lang.org/std/iter/trait.Iterator.html)"
   ]
  },
  {
   "cell_type": "markdown",
   "metadata": {},
   "source": [
    "## iter vs into_iter\n",
    "\n",
    "[What is the difference between iter and into_iter?](https://stackoverflow.com/questions/34733811/what-is-the-difference-between-iter-and-into-iter)\n",
    "\n",
    "[Why does `iter()` and `into_iter()` does the same thing if the object is a reference?](https://users.rust-lang.org/t/why-does-iter-and-into-iter-does-the-same-thing-if-the-object-is-a-reference/43848)"
   ]
  },
  {
   "cell_type": "markdown",
   "metadata": {},
   "source": [
    "## filter"
   ]
  },
  {
   "cell_type": "code",
   "execution_count": 21,
   "metadata": {},
   "outputs": [
    {
     "data": {
      "text/plain": [
       "9"
      ]
     },
     "execution_count": 21,
     "metadata": {},
     "output_type": "execute_result"
    }
   ],
   "source": [
    "v1.iter().filter(|&&x| x > 0).count()"
   ]
  },
  {
   "cell_type": "code",
   "execution_count": 23,
   "metadata": {},
   "outputs": [
    {
     "data": {
      "text/plain": [
       "30"
      ]
     },
     "execution_count": 23,
     "metadata": {},
     "output_type": "execute_result"
    }
   ],
   "source": [
    "v1.iter().max().unwrap()"
   ]
  },
  {
   "cell_type": "code",
   "execution_count": 24,
   "metadata": {},
   "outputs": [
    {
     "data": {
      "text/plain": [
       "30"
      ]
     },
     "execution_count": 24,
     "metadata": {},
     "output_type": "execute_result"
    }
   ],
   "source": [
    "*v1.iter().max().unwrap()"
   ]
  },
  {
   "cell_type": "code",
   "execution_count": 3,
   "metadata": {},
   "outputs": [
    {
     "ename": "Error",
     "evalue": "mismatched types",
     "output_type": "error",
     "traceback": [
      "v1.iter().filter(|x| x > 0).count()",
      "                         ^ expected `&&i32`, found integer",
      "mismatched types"
     ]
    }
   ],
   "source": [
    "v1.iter().filter(|x| x > 0).count()"
   ]
  },
  {
   "cell_type": "markdown",
   "metadata": {},
   "source": [
    "## map"
   ]
  },
  {
   "cell_type": "markdown",
   "metadata": {},
   "source": [
    "## fold and reduce\n",
    "\n",
    "Iterator.fold is preferred to Iterator.reduce if you do not want to return an `Option`."
   ]
  },
  {
   "cell_type": "markdown",
   "metadata": {},
   "source": [
    "## scan"
   ]
  },
  {
   "cell_type": "markdown",
   "metadata": {},
   "source": [
    "## sum and product"
   ]
  },
  {
   "cell_type": "markdown",
   "metadata": {},
   "source": [
    "## take, take_while, skip, skip_while"
   ]
  },
  {
   "cell_type": "code",
   "execution_count": 2,
   "metadata": {},
   "outputs": [
    {
     "data": {
      "text/plain": [
       "[0, 1, 2, 3, 4, 5, 6, 7, 8, 9]"
      ]
     },
     "execution_count": 2,
     "metadata": {},
     "output_type": "execute_result"
    }
   ],
   "source": [
    "let v = vec![0, 1, 2, 3, 4, 5, 6, 7, 8, 9];\n",
    "v"
   ]
  },
  {
   "cell_type": "code",
   "execution_count": 4,
   "metadata": {},
   "outputs": [
    {
     "data": {
      "text/plain": [
       "Take { iter: Iter([0, 1, 2, 3, 4, 5, 6, 7, 8, 9]), n: 3 }"
      ]
     },
     "execution_count": 4,
     "metadata": {},
     "output_type": "execute_result"
    }
   ],
   "source": [
    "v.iter().take(3)"
   ]
  },
  {
   "cell_type": "code",
   "execution_count": 7,
   "metadata": {},
   "outputs": [
    {
     "data": {
      "text/plain": [
       "[0, 1, 2]"
      ]
     },
     "execution_count": 7,
     "metadata": {},
     "output_type": "execute_result"
    }
   ],
   "source": [
    "v.iter().take(3).collect::<Vec<_>>()"
   ]
  },
  {
   "cell_type": "code",
   "execution_count": 10,
   "metadata": {},
   "outputs": [
    {
     "data": {
      "text/plain": [
       "TakeWhile { iter: Iter([0, 1, 2, 3, 4, 5, 6, 7, 8, 9]), flag: false }"
      ]
     },
     "execution_count": 10,
     "metadata": {},
     "output_type": "execute_result"
    }
   ],
   "source": [
    "v.iter().take_while(|&&x| x < 3)"
   ]
  },
  {
   "cell_type": "code",
   "execution_count": 11,
   "metadata": {},
   "outputs": [
    {
     "data": {
      "text/plain": [
       "[0, 1, 2]"
      ]
     },
     "execution_count": 11,
     "metadata": {},
     "output_type": "execute_result"
    }
   ],
   "source": [
    "v.iter().take_while(|&&x| x < 3).collect::<Vec<_>>()"
   ]
  },
  {
   "cell_type": "code",
   "execution_count": 12,
   "metadata": {},
   "outputs": [
    {
     "data": {
      "text/plain": [
       "Skip { iter: Iter([0, 1, 2, 3, 4, 5, 6, 7, 8, 9]), n: 6 }"
      ]
     },
     "execution_count": 12,
     "metadata": {},
     "output_type": "execute_result"
    }
   ],
   "source": [
    "v.iter().skip(6)"
   ]
  },
  {
   "cell_type": "code",
   "execution_count": 13,
   "metadata": {},
   "outputs": [
    {
     "data": {
      "text/plain": [
       "[6, 7, 8, 9]"
      ]
     },
     "execution_count": 13,
     "metadata": {},
     "output_type": "execute_result"
    }
   ],
   "source": [
    "v.iter().skip(6).collect::<Vec<_>>()"
   ]
  },
  {
   "cell_type": "code",
   "execution_count": 15,
   "metadata": {},
   "outputs": [
    {
     "data": {
      "text/plain": [
       "SkipWhile { iter: Iter([0, 1, 2, 3, 4, 5, 6, 7, 8, 9]), flag: false }"
      ]
     },
     "execution_count": 15,
     "metadata": {},
     "output_type": "execute_result"
    }
   ],
   "source": [
    "v.iter().skip_while(|&&x| x < 6)"
   ]
  },
  {
   "cell_type": "code",
   "execution_count": 16,
   "metadata": {},
   "outputs": [
    {
     "data": {
      "text/plain": [
       "[6, 7, 8, 9]"
      ]
     },
     "execution_count": 16,
     "metadata": {},
     "output_type": "execute_result"
    }
   ],
   "source": [
    "v.iter().skip_while(|&&x| x < 6).collect::<Vec<_>>()"
   ]
  },
  {
   "cell_type": "markdown",
   "metadata": {},
   "source": [
    "## [sorted](https://docs.rs/itertools/0.10.1/itertools/trait.Itertools.html#method.sorted), [sorted_by](https://docs.rs/itertools/0.10.1/itertools/trait.Itertools.html#method.sorted_by), [sorted_by_key](https://docs.rs/itertools/0.10.1/itertools/trait.Itertools.html#method.sorted_by_key), [sorted_unstable](https://docs.rs/itertools/0.10.1/itertools/trait.Itertools.html#method.sorted_unstable), [sorted_unstable_by](https://docs.rs/itertools/0.10.1/itertools/trait.Itertools.html#method.sorted_unstable_by), [sorted_unstable_by_key](https://docs.rs/itertools/0.10.1/itertools/trait.Itertools.html#method.sorted_unstable_by_key)"
   ]
  },
  {
   "cell_type": "markdown",
   "metadata": {},
   "source": [
    "## zip"
   ]
  },
  {
   "cell_type": "markdown",
   "metadata": {},
   "source": [
    "## Join An Iterator of Strings"
   ]
  },
  {
   "cell_type": "markdown",
   "metadata": {},
   "source": [
    "### Empty Separator"
   ]
  },
  {
   "cell_type": "code",
   "execution_count": 5,
   "metadata": {},
   "outputs": [
    {
     "name": "stdout",
     "output_type": "stream",
     "text": [
      "alphabetagamma\n"
     ]
    }
   ],
   "source": [
    "let words = vec![\"alpha\", \"beta\", \"gamma\"];\n",
    "let merged: String = words.into_iter().collect();\n",
    "println!(\"{}\", merged);"
   ]
  },
  {
   "cell_type": "markdown",
   "metadata": {},
   "source": [
    "Notice that the above code won't work if an array were used."
   ]
  },
  {
   "cell_type": "code",
   "execution_count": 4,
   "metadata": {},
   "outputs": [
    {
     "ename": "Error",
     "evalue": "a value of type `String` cannot be built from an iterator over elements of type `&&str`",
     "output_type": "error",
     "traceback": [
      "let merged: String = words.into_iter().collect();",
      "                                       ^^^^^^^ value of type `String` cannot be built from `std::iter::Iterator<Item=&&str>`",
      "a value of type `String` cannot be built from an iterator over elements of type `&&str`",
      "help: the trait `FromIterator<&&str>` is not implemented for `String`"
     ]
    }
   ],
   "source": [
    "let words = [\"alpha\", \"beta\", \"gamma\"];\n",
    "let merged: String = words.into_iter().collect();\n",
    "println!(\"{}\", merged);"
   ]
  },
  {
   "cell_type": "markdown",
   "metadata": {},
   "source": [
    "You have to dereference elements using the method `.copied()` to fix the issue."
   ]
  },
  {
   "cell_type": "code",
   "execution_count": 2,
   "metadata": {},
   "outputs": [
    {
     "name": "stdout",
     "output_type": "stream",
     "text": [
      "alphabetagamma\n"
     ]
    }
   ],
   "source": [
    "let words = [\"alpha\", \"beta\", \"gamma\"];\n",
    "let merged: String = words.into_iter().copied().collect();\n",
    "println!(\"{}\", merged);"
   ]
  },
  {
   "cell_type": "markdown",
   "metadata": {},
   "source": [
    "# The `itertools` Crate\n",
    "\n",
    "The Rust crate [itertools](https://crates.io/crates/itertools)\n",
    "provides additional functionalities \n",
    "in addtion to those provided by the standard library."
   ]
  },
  {
   "cell_type": "code",
   "execution_count": 2,
   "metadata": {},
   "outputs": [],
   "source": [
    ":dep itertools = \"0.10.0\""
   ]
  },
  {
   "cell_type": "code",
   "execution_count": 3,
   "metadata": {},
   "outputs": [],
   "source": [
    "use itertools::Itertools; "
   ]
  },
  {
   "cell_type": "markdown",
   "metadata": {},
   "source": [
    "## intersperse\n",
    "\n",
    "We had an example of concatenating an iterable of strings using the method `std::iterator::collect`.\n",
    "However,\n",
    "`std::iterator::collect` (into string)\n",
    "concatenate strings without seprators.\n",
    "`itertools::itersperse` lets you concatenate an iterable of string with a separator."
   ]
  },
  {
   "cell_type": "code",
   "execution_count": 7,
   "metadata": {},
   "outputs": [
    {
     "ename": "Error",
     "evalue": "an associated function with this name may be added to the standard library in the future",
     "output_type": "error",
     "traceback": [
      "let merged: String = words.into_iter().intersperse(\", \").collect();",
      "                                       ^^^^^^^^^^^ ",
      "an associated function with this name may be added to the standard library in the future",
      "help: call with fully qualified syntax `itertools::Itertools::intersperse(...)` to keep using the current method"
     ]
    },
    {
     "ename": "Error",
     "evalue": "mismatched types",
     "output_type": "error",
     "traceback": [
      "let merged: String = words.into_iter().intersperse(\", \").collect();",
      "                                                   ^^^^ expected `&str`, found `str`",
      "mismatched types"
     ]
    },
    {
     "ename": "Error",
     "evalue": "a value of type `String` cannot be built from an iterator over elements of type `&&str`",
     "output_type": "error",
     "traceback": [
      "let merged: String = words.into_iter().intersperse(\", \").collect();",
      "                                                         ^^^^^^^ value of type `String` cannot be built from `std::iter::Iterator<Item=&&str>`",
      "a value of type `String` cannot be built from an iterator over elements of type `&&str`",
      "help: the trait `FromIterator<&&str>` is not implemented for `String`"
     ]
    }
   ],
   "source": [
    "let words = [\"alpha\", \"beta\", \"gamma\"];\n",
    "let merged: String = words.into_iter().intersperse(\", \").collect();\n",
    "println!(\"{}\", merged);"
   ]
  },
  {
   "cell_type": "code",
   "execution_count": 5,
   "metadata": {},
   "outputs": [
    {
     "name": "stdout",
     "output_type": "stream",
     "text": [
      "alpha, beta, gamma\n"
     ]
    }
   ],
   "source": [
    "let words = [\"alpha\", \"beta\", \"gamma\"];\n",
    "let merged: String = words.iter().copied().intersperse(\", \").collect();\n",
    "println!(\"{}\", merged);"
   ]
  },
  {
   "cell_type": "markdown",
   "metadata": {},
   "source": [
    "## [chunks](https://docs.rs/itertools/0.10.3/itertools/trait.Itertools.html#method.chunks)"
   ]
  },
  {
   "cell_type": "code",
   "execution_count": 9,
   "metadata": {},
   "outputs": [
    {
     "data": {
      "text/plain": [
       "()"
      ]
     },
     "execution_count": 9,
     "metadata": {},
     "output_type": "execute_result"
    }
   ],
   "source": [
    "let data = vec![1, 1, 2, -2, 6, 0, 3, 1];\n",
    "for chunk in &data.into_iter().chunks(3) {\n",
    "    assert_eq!(4, chunk.sum());\n",
    "}"
   ]
  },
  {
   "cell_type": "code",
   "execution_count": 5,
   "metadata": {},
   "outputs": [],
   "source": [
    "\n",
    "fn find_min<I>(vals: I) -> Option<&'static str> where I: Iterator<Item = &'static str>{\n",
    "    vals.min_by_key(|v| v.len())\n",
    "}\n"
   ]
  },
  {
   "cell_type": "code",
   "execution_count": 6,
   "metadata": {},
   "outputs": [],
   "source": [
    "let s = [\"how\", \"are\", \"you\"];"
   ]
  },
  {
   "cell_type": "code",
   "execution_count": 10,
   "metadata": {},
   "outputs": [
    {
     "ename": "Error",
     "evalue": "type mismatch resolving `<std::slice::Iter<'_, &str> as Iterator>::Item == &'static str`",
     "output_type": "error",
     "traceback": [
      "find_min(s.iter())",
      "^^^^^^^^ expected `str`, found `&str`",
      "type mismatch resolving `<std::slice::Iter<'_, &str> as Iterator>::Item == &'static str`"
     ]
    }
   ],
   "source": [
    "find_min(s.iter())"
   ]
  },
  {
   "cell_type": "code",
   "execution_count": 20,
   "metadata": {},
   "outputs": [
    {
     "data": {
      "text/plain": [
       "Some(\"how\")"
      ]
     },
     "execution_count": 20,
     "metadata": {},
     "output_type": "execute_result"
    }
   ],
   "source": [
    "fn foo<'a, I>(x: I) -> Option<I::Item> where I: IntoIterator<Item = &'a &'static str> {\n",
    "    x.into_iter().min_by_key(|v| v.len())\n",
    "}\n",
    "\n",
    "let s = [\"how\", \"are\", \"you\"];\n",
    "foo(&s)"
   ]
  },
  {
   "cell_type": "code",
   "execution_count": 15,
   "metadata": {},
   "outputs": [],
   "source": [
    "fn foo<'a, I: IntoIterator<Item=&'a i32>>(x: I) {\n",
    "}\n",
    "\n",
    "let v = vec![1, 2, 3];\n",
    "foo(&v);"
   ]
  },
  {
   "cell_type": "code",
   "execution_count": 18,
   "metadata": {},
   "outputs": [
    {
     "data": {
      "text/plain": [
       "3"
      ]
     },
     "execution_count": 18,
     "metadata": {},
     "output_type": "execute_result"
    }
   ],
   "source": [
    "fn foo<'a, I>(x: I) -> i32 where I: IntoIterator<Item = &'a i32> {\n",
    "    *x.into_iter().max().unwrap()\n",
    "}\n",
    "\n",
    "let v = vec![1, 2, 3];\n",
    "foo(&v)"
   ]
  },
  {
   "cell_type": "markdown",
   "metadata": {},
   "source": [
    "## [group_by](https://docs.rs/itertools/0.10.3/itertools/trait.Itertools.html#method.group_by)\n",
    "\n",
    "The function `group_by` takes a function generating keys \n",
    "which are used to group elements in the iterator. \n",
    "However,\n",
    "notice that \n",
    "<span style=\"color:red\">\n",
    "    groups of elements are NOT just decided by the key function\n",
    "</span>,\n",
    "it \n",
    "<span style=\"color:green\">\n",
    "also  depends on whether elements are consecutive\n",
    "</span>\n",
    ".\n",
    "In short,\n",
    "consecutive elements that map to the same key (\"runs\")\n",
    "are assigned to the same group.\n",
    "\n"
   ]
  },
  {
   "cell_type": "markdown",
   "metadata": {},
   "source": [
    "## The IntoInterator Trait \n",
    "\n",
    "Please refer to \n",
    "[IntoIterator](http://www.legendu.net/misc/blog/trait-in-rust/#IntoIterator)\n",
    "for discussions."
   ]
  },
  {
   "cell_type": "markdown",
   "metadata": {},
   "source": [
    "## References \n",
    "\n",
    "[Module std::collections](https://doc.rust-lang.org/std/collections/index.html)\n",
    "\n",
    "[Trait std::iter::Iterator](https://doc.rust-lang.org/std/iter/trait.Iterator.html)\n",
    "\n",
    "[Iterators in Rust](https://stackoverflow.com/questions/34733811/what-is-the-difference-between-iter-and-into-iter/34745885#34745885)\n",
    "\n",
    "https://mmstick.gitbooks.io/rust-programming-phoronix-reader-how-to/content/chapter02.html\n",
    "\n",
    "[Rust iterators tips and tricks](https://robinmoussu.gitlab.io/blog/post/2021-03-25_rust_iterators_tips_and_tricks/)\n",
    "\n",
    "[itertools](https://crates.io/crates/itertools)"
   ]
  },
  {
   "cell_type": "code",
   "execution_count": null,
   "metadata": {},
   "outputs": [],
   "source": []
  }
 ],
 "metadata": {
  "kernelspec": {
   "display_name": "Rust",
   "language": "rust",
   "name": "rust"
  },
  "language_info": {
   "codemirror_mode": "rust",
   "file_extension": ".rs",
   "mimetype": "text/rust",
   "name": "Rust",
   "pygment_lexer": "rust",
   "version": ""
  }
 },
 "nbformat": 4,
 "nbformat_minor": 4
}
