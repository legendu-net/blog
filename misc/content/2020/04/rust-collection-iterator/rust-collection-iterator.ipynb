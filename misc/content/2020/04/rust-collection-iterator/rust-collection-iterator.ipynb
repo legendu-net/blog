{
 "cells": [
  {
   "cell_type": "markdown",
   "metadata": {},
   "source": [
    "- Title: Iterator in Rust\n",
    "- Slug: rust-collection-iterator\n",
    "- Date: 2020-04-08\n",
    "- Category: Computer Science\n",
    "- Tags: programming, Rust, collection, iterator\n",
    "- Author: Ben Du\n",
    "- Modified: 2020-04-08\n"
   ]
  },
  {
   "cell_type": "markdown",
   "metadata": {},
   "source": [
    "## Tips & Traps\n",
    "\n",
    "1. Be aware of possible performance penalty \n",
    "    when you write functional programming style code\n",
    "    especially when you have large collections.\n",
    "\n",
    "2. Functional programming methods (`map`, `filter`, etc.) can only apply to Itrators and Ranges\n",
    "    instead of concrete collections types.\n",
    "    \n",
    "3. [itertools](https://crates.io/crates/itertools)\n",
    "    is a crate providing additional iterator related functionalities.\n",
    "    \n",
    "4. [Module std::collections](https://doc.rust-lang.org/std/collections/index.html)\n",
    "    has a good summary on when to each which collection in Rust."
   ]
  },
  {
   "cell_type": "markdown",
   "metadata": {},
   "source": [
    "## iter vs into_iter\n",
    "\n",
    "[What is the difference between iter and into_iter?](https://stackoverflow.com/questions/34733811/what-is-the-difference-between-iter-and-into-iter)\n",
    "\n",
    "[Why does `iter()` and `into_iter()` does the same thing if the object is a reference?](https://users.rust-lang.org/t/why-does-iter-and-into-iter-does-the-same-thing-if-the-object-is-a-reference/43848)"
   ]
  },
  {
   "cell_type": "markdown",
   "metadata": {},
   "source": [
    "## map"
   ]
  },
  {
   "cell_type": "markdown",
   "metadata": {},
   "source": [
    "## fold and reduce\n",
    "\n",
    "Iterator.fold is preferred to Iterator.reduce if you do not want to return an `Option`."
   ]
  },
  {
   "cell_type": "markdown",
   "metadata": {},
   "source": [
    "## scan"
   ]
  },
  {
   "cell_type": "markdown",
   "metadata": {},
   "source": [
    "## sum and product"
   ]
  },
  {
   "cell_type": "markdown",
   "metadata": {},
   "source": [
    "## take and take_while"
   ]
  },
  {
   "cell_type": "markdown",
   "metadata": {},
   "source": [
    "## zip"
   ]
  },
  {
   "cell_type": "markdown",
   "metadata": {},
   "source": [
    "## Join An Iterator of Strings"
   ]
  },
  {
   "cell_type": "markdown",
   "metadata": {},
   "source": [
    "### Empty Separator"
   ]
  },
  {
   "cell_type": "code",
   "execution_count": 5,
   "metadata": {},
   "outputs": [
    {
     "name": "stdout",
     "output_type": "stream",
     "text": [
      "alphabetagamma\n"
     ]
    }
   ],
   "source": [
    "let words = vec![\"alpha\", \"beta\", \"gamma\"];\n",
    "let merged: String = words.into_iter().collect();\n",
    "println!(\"{}\", merged);"
   ]
  },
  {
   "cell_type": "markdown",
   "metadata": {},
   "source": [
    "Notice that the above code won't work if an array were used."
   ]
  },
  {
   "cell_type": "code",
   "execution_count": 4,
   "metadata": {},
   "outputs": [
    {
     "ename": "Error",
     "evalue": "a value of type `String` cannot be built from an iterator over elements of type `&&str`",
     "output_type": "error",
     "traceback": [
      "let merged: String = words.into_iter().collect();",
      "                                       ^^^^^^^ value of type `String` cannot be built from `std::iter::Iterator<Item=&&str>`",
      "a value of type `String` cannot be built from an iterator over elements of type `&&str`",
      "help: the trait `FromIterator<&&str>` is not implemented for `String`"
     ]
    }
   ],
   "source": [
    "let words = [\"alpha\", \"beta\", \"gamma\"];\n",
    "let merged: String = words.into_iter().collect();\n",
    "println!(\"{}\", merged);"
   ]
  },
  {
   "cell_type": "markdown",
   "metadata": {},
   "source": [
    "You have to dereference elements using the method `.copied()` to fix the issue."
   ]
  },
  {
   "cell_type": "code",
   "execution_count": 2,
   "metadata": {},
   "outputs": [
    {
     "name": "stdout",
     "output_type": "stream",
     "text": [
      "alphabetagamma\n"
     ]
    }
   ],
   "source": [
    "let words = [\"alpha\", \"beta\", \"gamma\"];\n",
    "let merged: String = words.into_iter().copied().collect();\n",
    "println!(\"{}\", merged);"
   ]
  },
  {
   "cell_type": "markdown",
   "metadata": {},
   "source": [
    "### Non-empty Separator\n",
    "\n",
    "You have to use the crate `itertools` to help you,\n",
    "which provides the method `intersperse`."
   ]
  },
  {
   "cell_type": "code",
   "execution_count": 3,
   "metadata": {},
   "outputs": [],
   "source": [
    ":dep itertools = \"0.10.0\""
   ]
  },
  {
   "cell_type": "code",
   "execution_count": 4,
   "metadata": {},
   "outputs": [],
   "source": [
    "use itertools::Itertools; "
   ]
  },
  {
   "cell_type": "code",
   "execution_count": 5,
   "metadata": {},
   "outputs": [
    {
     "name": "stdout",
     "output_type": "stream",
     "text": [
      "alpha, beta, gamma\n"
     ]
    }
   ],
   "source": [
    "let words = [\"alpha\", \"beta\", \"gamma\"];\n",
    "let merged: String = words.into_iter().copied().intersperse(\", \").collect();\n",
    "println!(\"{}\", merged);"
   ]
  },
  {
   "cell_type": "markdown",
   "metadata": {},
   "source": [
    "## References \n",
    "\n",
    "[Module std::collections](https://doc.rust-lang.org/std/collections/index.html)\n",
    "\n",
    "[Trait std::iter::Iterator](https://doc.rust-lang.org/std/iter/trait.Iterator.html)\n",
    "\n",
    "[Iterators in Rust](https://stackoverflow.com/questions/34733811/what-is-the-difference-between-iter-and-into-iter/34745885#34745885)\n",
    "\n",
    "https://mmstick.gitbooks.io/rust-programming-phoronix-reader-how-to/content/chapter02.html\n",
    "\n",
    "[Rust iterators tips and tricks](https://robinmoussu.gitlab.io/blog/post/2021-03-25_rust_iterators_tips_and_tricks/)\n",
    "\n",
    "[itertools](https://crates.io/crates/itertools)"
   ]
  },
  {
   "cell_type": "code",
   "execution_count": null,
   "metadata": {},
   "outputs": [],
   "source": []
  }
 ],
 "metadata": {
  "kernelspec": {
   "display_name": "Rust",
   "language": "rust",
   "name": "rust"
  },
  "language_info": {
   "codemirror_mode": "rust",
   "file_extension": ".rs",
   "mimetype": "text/rust",
   "name": "Rust",
   "pygment_lexer": "rust",
   "version": ""
  }
 },
 "nbformat": 4,
 "nbformat_minor": 4
}