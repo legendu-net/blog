{
 "cells": [
  {
   "cell_type": "markdown",
   "metadata": {},
   "source": [
    "- Title: Date and Time in Rust\n",
    "- Slug: rust-date-time\n",
    "- Date: 2020-04-08\n",
    "- Category: Computer Science\n",
    "- Tags: programming, Rust, date, time, chrono, DateTime, SystemTime, format, string, quanta\n",
    "- Author: Ben Du\n",
    "- Modified: 2020-04-08"
   ]
  },
  {
   "cell_type": "markdown",
   "metadata": {},
   "source": [
    "## Comments\n",
    "\n",
    "1. There are a few 3rd-party Rust crates \n",
    "    [time](https://crates.io/crates/time),\n",
    "    [quanta](https://crates.io/crates/quanta)\n",
    "    and\n",
    "    [chrono](https://crates.io/crates/chrono)\n",
    "    for handling time/date. \n",
    "    The Rust crate \n",
    "    [time](https://crates.io/crates/time),\n",
    "    is recommended.\n",
    "    For detailed discussions,\n",
    "    please refer to\n",
    "    [No Time for Chrono](https://passcod.name/technical/no-time-for-chrono.html)\n",
    "    ."
   ]
  },
  {
   "cell_type": "code",
   "execution_count": 5,
   "metadata": {},
   "outputs": [],
   "source": [
    "use std::time::{SystemTime, UNIX_EPOCH};"
   ]
  },
  {
   "cell_type": "code",
   "execution_count": 6,
   "metadata": {},
   "outputs": [
    {
     "data": {
      "text/plain": [
       "SystemTime { tv_sec: 1638324570, tv_nsec: 811168245 }"
      ]
     },
     "execution_count": 6,
     "metadata": {},
     "output_type": "execute_result"
    }
   ],
   "source": [
    "SystemTime::now()"
   ]
  },
  {
   "cell_type": "code",
   "execution_count": 7,
   "metadata": {},
   "outputs": [
    {
     "data": {
      "text/plain": [
       "1638324597.690945736s"
      ]
     },
     "execution_count": 7,
     "metadata": {},
     "output_type": "execute_result"
    }
   ],
   "source": [
    "let start = SystemTime::now();\n",
    "start.duration_since(UNIX_EPOCH).expect(\"Time went backwards\")"
   ]
  },
  {
   "cell_type": "code",
   "execution_count": 8,
   "metadata": {},
   "outputs": [
    {
     "data": {
      "text/plain": [
       "1638324623.948540298s"
      ]
     },
     "execution_count": 8,
     "metadata": {},
     "output_type": "execute_result"
    }
   ],
   "source": [
    "let start = SystemTime::now();\n",
    "start.duration_since(UNIX_EPOCH).unwrap()"
   ]
  },
  {
   "cell_type": "code",
   "execution_count": 10,
   "metadata": {},
   "outputs": [
    {
     "data": {
      "text/plain": [
       "1638324793"
      ]
     },
     "execution_count": 10,
     "metadata": {},
     "output_type": "execute_result"
    }
   ],
   "source": [
    "let start = SystemTime::now();\n",
    "start.duration_since(UNIX_EPOCH).unwrap().as_secs()"
   ]
  },
  {
   "cell_type": "code",
   "execution_count": 9,
   "metadata": {},
   "outputs": [
    {
     "data": {
      "text/plain": [
       "1638324649987"
      ]
     },
     "execution_count": 9,
     "metadata": {},
     "output_type": "execute_result"
    }
   ],
   "source": [
    "let start = SystemTime::now();\n",
    "start.duration_since(UNIX_EPOCH).unwrap().as_millis()"
   ]
  },
  {
   "cell_type": "code",
   "execution_count": 15,
   "metadata": {},
   "outputs": [
    {
     "data": {
      "text/plain": [
       "1638325403263831531"
      ]
     },
     "execution_count": 15,
     "metadata": {},
     "output_type": "execute_result"
    }
   ],
   "source": [
    "let start = SystemTime::now();\n",
    "start.duration_since(UNIX_EPOCH).unwrap().as_nanos()"
   ]
  },
  {
   "cell_type": "markdown",
   "metadata": {},
   "source": [
    "## Format SystemTime (as String)\n",
    "\n",
    "SystemTime itself does not support formatting as string.\n",
    "However, \n",
    "it can be done indirectly by casting SystemTime to \n",
    "[chrono](https://crates.io/crates/chrono)::Datetime first."
   ]
  },
  {
   "cell_type": "code",
   "execution_count": 11,
   "metadata": {},
   "outputs": [],
   "source": [
    ":dep chrono = \"0.4.19\""
   ]
  },
  {
   "cell_type": "code",
   "execution_count": 12,
   "metadata": {},
   "outputs": [],
   "source": [
    "use std::time::SystemTime;\n",
    "use chrono::offset::Local;\n",
    "use chrono::DateTime;"
   ]
  },
  {
   "cell_type": "code",
   "execution_count": 13,
   "metadata": {},
   "outputs": [
    {
     "name": "stdout",
     "output_type": "stream",
     "text": [
      "2021-11-30 18:15:06.485079503\n"
     ]
    }
   ],
   "source": [
    "let datetime: DateTime<Local> = SystemTime::now().into();\n",
    "println!(\"{}\", datetime.format(\"%Y-%m-%d %H:%M:%S.%f\"));"
   ]
  },
  {
   "cell_type": "code",
   "execution_count": 14,
   "metadata": {},
   "outputs": [
    {
     "data": {
      "text/plain": [
       "2021-11-30T18:15:12.199268942-08:00"
      ]
     },
     "execution_count": 14,
     "metadata": {},
     "output_type": "execute_result"
    }
   ],
   "source": [
    "Local::now()"
   ]
  },
  {
   "cell_type": "markdown",
   "metadata": {},
   "source": [
    "## The Rust Crate time"
   ]
  },
  {
   "cell_type": "code",
   "execution_count": null,
   "metadata": {},
   "outputs": [],
   "source": []
  },
  {
   "cell_type": "markdown",
   "metadata": {},
   "source": [
    "## References \n",
    "\n",
    "[Struct std::time::SystemTime](https://doc.rust-lang.org/std/time/struct.SystemTime.html)"
   ]
  },
  {
   "cell_type": "code",
   "execution_count": null,
   "metadata": {},
   "outputs": [],
   "source": []
  }
 ],
 "metadata": {
  "kernelspec": {
   "display_name": "Rust",
   "language": "rust",
   "name": "rust"
  },
  "language_info": {
   "codemirror_mode": "rust",
   "file_extension": ".rs",
   "mimetype": "text/rust",
   "name": "Rust",
   "pygment_lexer": "rust",
   "version": ""
  }
 },
 "nbformat": 4,
 "nbformat_minor": 4
}
