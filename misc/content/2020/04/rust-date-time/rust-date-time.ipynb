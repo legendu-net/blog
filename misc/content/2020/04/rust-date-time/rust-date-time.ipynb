{
 "cells": [
  {
   "cell_type": "markdown",
   "metadata": {},
   "source": [
    "- Title: Date and Time in Rust\n",
    "- Slug: rust-date-time\n",
    "- Date: 2020-04-08\n",
    "- Category: Computer Science\n",
    "- Tags: programming, Rust, date, time, chrono, DateTime, SystemTime, format, string\n",
    "- Author: Ben Du\n",
    "- Modified: 2020-04-08"
   ]
  },
  {
   "cell_type": "code",
   "execution_count": 75,
   "metadata": {},
   "outputs": [],
   "source": [
    "use std::time::SystemTime;"
   ]
  },
  {
   "cell_type": "code",
   "execution_count": 76,
   "metadata": {},
   "outputs": [
    {
     "data": {
      "text/plain": [
       "SystemTime { tv_sec: 1606708826, tv_nsec: 794151500 }"
      ]
     },
     "execution_count": 76,
     "metadata": {},
     "output_type": "execute_result"
    }
   ],
   "source": [
    "SystemTime::now()"
   ]
  },
  {
   "cell_type": "markdown",
   "metadata": {},
   "source": [
    "## Format SystemTime (as String)\n",
    "\n",
    "SystemTime itself does not support formatting as string.\n",
    "However, \n",
    "it can be done indirectly by casting SystemTime to \n",
    "[chrono](https://crates.io/crates/chrono)::Datetime first."
   ]
  },
  {
   "cell_type": "code",
   "execution_count": 5,
   "metadata": {},
   "outputs": [],
   "source": [
    ":dep chrono = \"0.4.19\""
   ]
  },
  {
   "cell_type": "code",
   "execution_count": 6,
   "metadata": {},
   "outputs": [],
   "source": [
    "use std::time::SystemTime;\n",
    "use chrono::offset::Local;\n",
    "use chrono::DateTime;"
   ]
  },
  {
   "cell_type": "code",
   "execution_count": 11,
   "metadata": {},
   "outputs": [
    {
     "name": "stdout",
     "output_type": "stream",
     "text": [
      "2021-11-09 20:28:10.730231730\n"
     ]
    }
   ],
   "source": [
    "let datetime: DateTime<Local> = SystemTime::now().into();\n",
    "println!(\"{}\", datetime.format(\"%Y-%m-%d %H:%M:%S.%f\"));"
   ]
  },
  {
   "cell_type": "markdown",
   "metadata": {},
   "source": [
    "## References \n",
    "\n",
    "[Struct std::time::SystemTime](https://doc.rust-lang.org/std/time/struct.SystemTime.html)"
   ]
  },
  {
   "cell_type": "code",
   "execution_count": null,
   "metadata": {},
   "outputs": [],
   "source": []
  }
 ],
 "metadata": {
  "kernelspec": {
   "display_name": "Rust",
   "language": "rust",
   "name": "rust"
  },
  "language_info": {
   "codemirror_mode": "rust",
   "file_extension": ".rs",
   "mimetype": "text/rust",
   "name": "Rust",
   "pygment_lexer": "rust",
   "version": ""
  }
 },
 "nbformat": 4,
 "nbformat_minor": 4
}
