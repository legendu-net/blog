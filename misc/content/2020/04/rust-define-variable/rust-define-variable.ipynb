{
 "cells": [
  {
   "cell_type": "markdown",
   "metadata": {},
   "source": [
    "- Title: Define Variables in Rust\n",
    "- Slug: rust-define-variable\n",
    "- Date: 2020-04-24 07:36:11\n",
    "- Category: Computer Science\n",
    "- Tags: programming, Rust, define, variable, let, mut, const, static\n",
    "- Author: Ben Du\n",
    "- Modified: 2023-01-08 18:42:54\n"
   ]
  },
  {
   "cell_type": "code",
   "execution_count": 3,
   "metadata": {},
   "outputs": [
    {
     "data": {
      "text/plain": [
       "sccache: true\n"
      ]
     },
     "execution_count": 3,
     "metadata": {},
     "output_type": "execute_result"
    }
   ],
   "source": [
    ":sccache 1\n",
    ":dep once_cell = \"1.13.0\"\n",
    "use once_cell::sync::Lazy;"
   ]
  },
  {
   "cell_type": "markdown",
   "metadata": {},
   "source": [
    "## let\n",
    "\n",
    "1. By default,\n",
    "    `let` defines an immutble variable.\n",
    "    To define a mutable variable,\n",
    "    you have to use `let mut`.\n",
    "    \n",
    "2. `let` can only be used in a function,\n",
    "    which means that you cannot define a variable using `let` in a module.\n",
    "    `const` and `static` can be used in any scope."
   ]
  },
  {
   "cell_type": "code",
   "execution_count": 20,
   "metadata": {},
   "outputs": [
    {
     "data": {
      "text/plain": [
       "1"
      ]
     },
     "execution_count": 20,
     "metadata": {},
     "output_type": "execute_result"
    }
   ],
   "source": [
    "let x = 1;\n",
    "x"
   ]
  },
  {
   "cell_type": "code",
   "execution_count": 21,
   "metadata": {},
   "outputs": [
    {
     "ename": "Error",
     "evalue": "cannot assign twice to immutable variable `x`",
     "output_type": "error",
     "traceback": [
      "x = 2;",
      "^^^^^ cannot assign twice to immutable variable",
      "cannot assign twice to immutable variable `x`"
     ]
    }
   ],
   "source": [
    "x = 2"
   ]
  },
  {
   "cell_type": "markdown",
   "metadata": {},
   "source": [
    "## let mut"
   ]
  },
  {
   "cell_type": "code",
   "execution_count": 19,
   "metadata": {},
   "outputs": [
    {
     "data": {
      "text/plain": [
       "3"
      ]
     },
     "execution_count": 19,
     "metadata": {},
     "output_type": "execute_result"
    }
   ],
   "source": [
    "let mut y = 2;\n",
    "y = 3;\n",
    "y"
   ]
  },
  {
   "cell_type": "markdown",
   "metadata": {},
   "source": [
    "## `const` and `static` Variables\n",
    "\n",
    "1. You must specify the type of a variable explicitly \n",
    "    when defining it using the `const` or `static` keyword.\n",
    "\n",
    "2. Below summarizes the difference between `let` and `const`.\n",
    "    - `mut` is NOT allowed with `const` since a const can never be changed. \n",
    "\n",
    "    - `const` requires explit types while `let` support type inference.\n",
    "\n",
    "    - A `const` variable is resolved and inlined at compile time \n",
    "        which means that a `const` variable must be a constant expression which can be determined at compile time.\n",
    "        It cannot be the result of a function call or anything that could only be determined at runtime.\n",
    "        \n",
    "3. Below summarizes the differences between `static` and `const`.\n",
    "    - Both `const` and `static` can be considered as defining constant values.\n",
    "        `const` is the traditional compile-time concept as in C++\n",
    "        (different from `final` in Java which is not a compile-time concept). \n",
    "        `static` defines a static lifetime variable. \n",
    "        A variable defined using `static` is usually used as immutable (and thus can be treated as a constant).\n",
    "        Accessing or modifiying a mutable `static` variable can only done through `unsafe` code. \n",
    "\n",
    "    - Both `const` and `static` requires explicit types.  \n",
    "\n",
    "    - A const variable is inlined into the code at compile time,\n",
    "        which means that it is not a good choice for defining large data. \n",
    "        Defining large data as a `static` variable is a better alternative.\n",
    "\n",
    "    - Currently, \n",
    "        you can associate a const variable with a struct \n",
    "        but you cannot associate a static variable with a struct. \n",
    "        However,\n",
    "        this might change in future\n",
    "        as there is a \n",
    "        [Pre-RFC: Associated statics](https://internals.rust-lang.org/t/pre-rfc-associated-statics/9092)\n",
    "        proposing supporting associated statics.\n",
    "\n",
    "    - You probably do not really need const ...\n",
    "    \n",
    "    For more discussions,\n",
    "    please refer to\n",
    "    [Const vs static](https://users.rust-lang.org/t/const-vs-static/52951)\n",
    "    ."
   ]
  },
  {
   "cell_type": "markdown",
   "metadata": {},
   "source": [
    "### const"
   ]
  },
  {
   "cell_type": "markdown",
   "metadata": {},
   "source": [
    "You must specify a type when defining a const variable,\n",
    "o.w.,\n",
    "the code won't compile."
   ]
  },
  {
   "cell_type": "code",
   "execution_count": 17,
   "metadata": {},
   "outputs": [
    {
     "ename": "Error",
     "evalue": "expected `:`, found `=`",
     "output_type": "error",
     "traceback": [
      "const my_const_var = 1;",
      "                   ^ expected `:`",
      "expected `:`, found `=`"
     ]
    }
   ],
   "source": [
    "const my_const_var = 1;"
   ]
  },
  {
   "cell_type": "code",
   "execution_count": 16,
   "metadata": {},
   "outputs": [],
   "source": [
    "const my_const_var: i32 = 1;"
   ]
  },
  {
   "cell_type": "markdown",
   "metadata": {},
   "source": [
    "### static\n",
    "\n",
    "When defining a static variable which implements Copy,\n",
    "you can define it as a static reference.\n",
    "This helps avoiding accidental implicity copies.\n",
    "A more idiomatic way is to define a wrapper non-Copy struct\n",
    "so that you can be sure that the underlying data won't get copied."
   ]
  },
  {
   "cell_type": "code",
   "execution_count": null,
   "metadata": {},
   "outputs": [],
   "source": [
    "An example where a static array is copied implicitly."
   ]
  },
  {
   "cell_type": "code",
   "execution_count": 2,
   "metadata": {},
   "outputs": [],
   "source": [
    "static ARR: [usize; 10] = [0, 1, 2, 3, 4, 5, 6, 7, 8, 9];\n",
    "let a = [ARR, ARR, ARR];"
   ]
  },
  {
   "cell_type": "markdown",
   "metadata": {},
   "source": [
    "Define a static variable."
   ]
  },
  {
   "cell_type": "code",
   "execution_count": 8,
   "metadata": {},
   "outputs": [],
   "source": [
    "mod abc {\n",
    "    pub static x: i8 = 1;\n",
    "}"
   ]
  },
  {
   "cell_type": "code",
   "execution_count": 9,
   "metadata": {},
   "outputs": [
    {
     "data": {
      "text/plain": [
       "1"
      ]
     },
     "execution_count": 9,
     "metadata": {},
     "output_type": "execute_result"
    }
   ],
   "source": [
    "abc::x"
   ]
  },
  {
   "cell_type": "code",
   "execution_count": 24,
   "metadata": {},
   "outputs": [],
   "source": [
    "static GLOBAL_VEC: Lazy<Vec<i32>> = Lazy::new(|| {\n",
    "    let mut v = Vec::new();\n",
    "    v.push(1);\n",
    "    v.push(10);\n",
    "    v.push(20);\n",
    "    v\n",
    "});"
   ]
  },
  {
   "cell_type": "code",
   "execution_count": 25,
   "metadata": {},
   "outputs": [],
   "source": [
    "fn print_vec(v: &[i32]) {\n",
    "    v.iter().for_each(|i| {\n",
    "        println!(\"{i}\");\n",
    "    });\n",
    "}"
   ]
  },
  {
   "cell_type": "code",
   "execution_count": 26,
   "metadata": {},
   "outputs": [
    {
     "name": "stdout",
     "output_type": "stream",
     "text": [
      "1\n",
      "10\n",
      "20\n"
     ]
    },
    {
     "data": {
      "text/plain": [
       "()"
      ]
     },
     "execution_count": 26,
     "metadata": {},
     "output_type": "execute_result"
    }
   ],
   "source": [
    "print_vec(&GLOBAL_VEC)"
   ]
  },
  {
   "cell_type": "code",
   "execution_count": 39,
   "metadata": {},
   "outputs": [],
   "source": [
    "static GLOBAL_ARR: Lazy<[i32; 3]> = Lazy::new(|| {\n",
    "    [100, 200, 300]\n",
    "});"
   ]
  },
  {
   "cell_type": "code",
   "execution_count": 40,
   "metadata": {},
   "outputs": [],
   "source": [
    "fn print_arr(v: &[i32]) {\n",
    "    v.iter().for_each(|i| {\n",
    "        println!(\"{i}\");\n",
    "    });\n",
    "}"
   ]
  },
  {
   "cell_type": "code",
   "execution_count": 44,
   "metadata": {},
   "outputs": [
    {
     "name": "stdout",
     "output_type": "stream",
     "text": [
      "100\n",
      "200\n",
      "300\n"
     ]
    },
    {
     "data": {
      "text/plain": [
       "()"
      ]
     },
     "execution_count": 44,
     "metadata": {},
     "output_type": "execute_result"
    }
   ],
   "source": [
    "let arr: &[i32; 3] = &GLOBAL_ARR;\n",
    "print_arr(arr)"
   ]
  },
  {
   "cell_type": "markdown",
   "metadata": {},
   "source": [
    "## References\n",
    "\n",
    "- [Const Syntax](https://blog.yoshuawuyts.com/const-syntax/)\n",
    "\n",
    "- [Const vs static](https://users.rust-lang.org/t/const-vs-static/52951)"
   ]
  },
  {
   "cell_type": "code",
   "execution_count": null,
   "metadata": {},
   "outputs": [],
   "source": []
  }
 ],
 "metadata": {
  "kernelspec": {
   "display_name": "Rust",
   "language": "rust",
   "name": "rust"
  },
  "language_info": {
   "codemirror_mode": "rust",
   "file_extension": ".rs",
   "mimetype": "text/rust",
   "name": "Rust",
   "pygment_lexer": "rust",
   "version": ""
  }
 },
 "nbformat": 4,
 "nbformat_minor": 4
}
