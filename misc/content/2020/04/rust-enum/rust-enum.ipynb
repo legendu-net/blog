{
 "cells": [
  {
   "cell_type": "markdown",
   "metadata": {},
   "source": [
    "- Title: Enum in Rust\n",
    "- Slug: rust-enum\n",
    "- Date: 2020-04-29 10:59:15\n",
    "- Category: Computer Science\n",
    "- Tags: programming, Rust, enum, enumeration\n",
    "- Author: Ben Du\n",
    "- Modified: 2021-04-29 10:59:15\n"
   ]
  },
  {
   "cell_type": "markdown",
   "metadata": {},
   "source": [
    "## Tips\n",
    "\n",
    "1. It does NOT matter whether the last enum item is followed by a comma or not.\n",
    "    It is suggested that you always have a comma after the last item \n",
    "    so that it is easier to add new items later if needed.\n",
    "\n",
    "2. Use `::` to access elements of an enum object.\n",
    "\n",
    "3. Integer enum variants (simple enum variants without associated data) \n",
    "    can be casted into integer values using the keyword `as`. \n",
    "    If no integer value is defined for enum items,\n",
    "    they are casted into integer values starting from 0 (corresponding to their definition order).\n",
    "    If a customized integer value `v` is assigned to an enum item $E_i$\n",
    "    and its following items $E_{i+1}$ is not assigned a customized integer value,\n",
    "    then $E_{i+1}$ has the value `v+1`.\n",
    "\n",
    "4. It is suggested that you derive `Copy` and `Clone` (using `#[derive(Copy, Clone)]`)\n",
    "    for your customized Enum \n",
    "    so that you can cast an Enum item to integer (using the `as` keyword).\n",
    "    Fore more discussion,\n",
    "    please refer to \n",
    "    [How do I convert an enum reference to a number?](https://stackoverflow.com/questions/31358826/how-do-i-convert-an-enum-reference-to-a-number)\n",
    "    .\n"
   ]
  },
  {
   "cell_type": "markdown",
   "metadata": {},
   "source": [
    "## Simple Enum"
   ]
  },
  {
   "cell_type": "markdown",
   "metadata": {},
   "source": [
    "### Value of Enum Variants"
   ]
  },
  {
   "cell_type": "markdown",
   "metadata": {},
   "source": [
    "Enum items can be casted into integer values. \n",
    "By default, \n",
    "casted integer values start from 0 (corresponding to the definition order of items)."
   ]
  },
  {
   "cell_type": "code",
   "execution_count": 2,
   "metadata": {},
   "outputs": [],
   "source": [
    "enum Weekday {\n",
    "    Monday,\n",
    "    Tuesday,\n",
    "    Wednesday,\n",
    "    Thursday,\n",
    "    Friday,\n",
    "    Saturday,\n",
    "    Sunday,\n",
    "}"
   ]
  },
  {
   "cell_type": "code",
   "execution_count": 3,
   "metadata": {},
   "outputs": [
    {
     "data": {
      "text/plain": [
       "0"
      ]
     },
     "execution_count": 3,
     "metadata": {},
     "output_type": "execute_result"
    }
   ],
   "source": [
    "Weekday::Monday as u8"
   ]
  },
  {
   "cell_type": "code",
   "execution_count": 12,
   "metadata": {},
   "outputs": [
    {
     "data": {
      "text/plain": [
       "6"
      ]
     },
     "execution_count": 12,
     "metadata": {},
     "output_type": "execute_result"
    }
   ],
   "source": [
    "Weekday::Sunday as u8"
   ]
  },
  {
   "cell_type": "code",
   "execution_count": 13,
   "metadata": {},
   "outputs": [],
   "source": [
    "enum Weekday1 {\n",
    "    Monday = 1,\n",
    "    Tuesday,\n",
    "    Wednesday,\n",
    "    Thursday,\n",
    "    Friday,\n",
    "    Saturday,\n",
    "    Sunday,\n",
    "}"
   ]
  },
  {
   "cell_type": "code",
   "execution_count": 14,
   "metadata": {},
   "outputs": [
    {
     "data": {
      "text/plain": [
       "1"
      ]
     },
     "execution_count": 14,
     "metadata": {},
     "output_type": "execute_result"
    }
   ],
   "source": [
    "Weekday1::Monday as u8"
   ]
  },
  {
   "cell_type": "code",
   "execution_count": 15,
   "metadata": {},
   "outputs": [
    {
     "data": {
      "text/plain": [
       "7"
      ]
     },
     "execution_count": 15,
     "metadata": {},
     "output_type": "execute_result"
    }
   ],
   "source": [
    "Weekday1::Sunday as u8"
   ]
  },
  {
   "cell_type": "code",
   "execution_count": 27,
   "metadata": {},
   "outputs": [],
   "source": [
    "enum Weekday2 {\n",
    "    Monday,\n",
    "    Tuesday,\n",
    "    Wednesday = 100,\n",
    "    Thursday,\n",
    "    Friday,\n",
    "    Saturday,\n",
    "    Sunday,\n",
    "}"
   ]
  },
  {
   "cell_type": "code",
   "execution_count": 29,
   "metadata": {},
   "outputs": [
    {
     "data": {
      "text/plain": [
       "0"
      ]
     },
     "execution_count": 29,
     "metadata": {},
     "output_type": "execute_result"
    }
   ],
   "source": [
    "Weekday2::Monday as u8"
   ]
  },
  {
   "cell_type": "code",
   "execution_count": 30,
   "metadata": {},
   "outputs": [
    {
     "data": {
      "text/plain": [
       "1"
      ]
     },
     "execution_count": 30,
     "metadata": {},
     "output_type": "execute_result"
    }
   ],
   "source": [
    "Weekday2::Tuesday as u8"
   ]
  },
  {
   "cell_type": "code",
   "execution_count": 31,
   "metadata": {},
   "outputs": [
    {
     "data": {
      "text/plain": [
       "100"
      ]
     },
     "execution_count": 31,
     "metadata": {},
     "output_type": "execute_result"
    }
   ],
   "source": [
    "Weekday2::Wednesday as u8"
   ]
  },
  {
   "cell_type": "code",
   "execution_count": 32,
   "metadata": {},
   "outputs": [
    {
     "data": {
      "text/plain": [
       "104"
      ]
     },
     "execution_count": 32,
     "metadata": {},
     "output_type": "execute_result"
    }
   ],
   "source": [
    "Weekday2::Sunday as u8"
   ]
  },
  {
   "cell_type": "code",
   "execution_count": 20,
   "metadata": {},
   "outputs": [],
   "source": [
    "enum WeekdayInt {\n",
    "    Monday = 1,\n",
    "    Tuesday = 2,\n",
    "    Wednesday = 3,\n",
    "    Thursday = 4,\n",
    "    Friday = 5,\n",
    "    Saturday = 6,\n",
    "    Sunday = 0,\n",
    "}"
   ]
  },
  {
   "cell_type": "code",
   "execution_count": 21,
   "metadata": {},
   "outputs": [
    {
     "data": {
      "text/plain": [
       "1"
      ]
     },
     "execution_count": 21,
     "metadata": {},
     "output_type": "execute_result"
    }
   ],
   "source": [
    "WeekdayInt::Monday as u8"
   ]
  },
  {
   "cell_type": "code",
   "execution_count": 22,
   "metadata": {},
   "outputs": [
    {
     "data": {
      "text/plain": [
       "6"
      ]
     },
     "execution_count": 22,
     "metadata": {},
     "output_type": "execute_result"
    }
   ],
   "source": [
    "WeekdayInt::Saturday as u8"
   ]
  },
  {
   "cell_type": "code",
   "execution_count": 23,
   "metadata": {},
   "outputs": [
    {
     "data": {
      "text/plain": [
       "0"
      ]
     },
     "execution_count": 23,
     "metadata": {},
     "output_type": "execute_result"
    }
   ],
   "source": [
    "WeekdayInt::Sunday as u8"
   ]
  },
  {
   "cell_type": "markdown",
   "metadata": {},
   "source": [
    "### Construct Simple Enum Variants from Integers\n",
    "\n",
    "There are 2 ways to do this.\n",
    "First, \n",
    "you can do a manual `match` statement. \n",
    "The second way is to use the crates `num-traits` and `num-erive`.\n",
    "Below is an example using those 2 crates to convert integers to simple enum variants."
   ]
  },
  {
   "cell_type": "code",
   "execution_count": 26,
   "metadata": {},
   "outputs": [],
   "source": [
    ":dep num-traits = \"0.2.14\"\n",
    ":dep num-derive = \"0.3.3\""
   ]
  },
  {
   "cell_type": "code",
   "execution_count": null,
   "metadata": {},
   "outputs": [],
   "source": [
    "use num_derive::FromPrimitive;    \n",
    "use num_traits::FromPrimitive;\n",
    "\n",
    "#[derive(FromPrimitive)]\n",
    "enum MyEnum {\n",
    "    A = 1,\n",
    "    B,\n",
    "    C,\n",
    "}\n"
   ]
  },
  {
   "cell_type": "code",
   "execution_count": null,
   "metadata": {},
   "outputs": [],
   "source": [
    "let x = 2;\n",
    "\n",
    "match FromPrimitive::from_i32(x) {\n",
    "    Some(MyEnum::A) => println!(\"Got A\"),\n",
    "    Some(MyEnum::B) => println!(\"Got B\"),\n",
    "    Some(MyEnum::C) => println!(\"Got C\"),\n",
    "    None            => println!(\"Couldn't convert {}\", x),\n",
    "}"
   ]
  },
  {
   "cell_type": "markdown",
   "metadata": {},
   "source": [
    "## Complex Enum Variants\n",
    "\n",
    "Enum in Rust is much more poweful than enum in other programming languages \n",
    "as you an associated any kind of data with an enum variant.\n",
    "For example,\n",
    "below is an Enum named `IpAddr`.\n",
    "It has 2 variants `V4` and `V6`.\n",
    "The variant `V4` has 4 integers of the type `u8` associated with it\n",
    "while tthe variant `V6` has a String associated with it."
   ]
  },
  {
   "cell_type": "code",
   "execution_count": 29,
   "metadata": {},
   "outputs": [],
   "source": [
    "#[derive(Debug)]\n",
    "enum IpAddr {\n",
    "    V4(u8, u8, u8, u8),\n",
    "    V6(String),\n",
    "}"
   ]
  },
  {
   "cell_type": "code",
   "execution_count": 31,
   "metadata": {},
   "outputs": [
    {
     "data": {
      "text/plain": [
       "V4(1, 2, 3, 4)"
      ]
     },
     "execution_count": 31,
     "metadata": {},
     "output_type": "execute_result"
    }
   ],
   "source": [
    "let v4 = IpAddr::V4(1, 2, 3, 4);\n",
    "v4"
   ]
  },
  {
   "cell_type": "code",
   "execution_count": 32,
   "metadata": {},
   "outputs": [
    {
     "data": {
      "text/plain": [
       "V6(\"ab:d:ef\")"
      ]
     },
     "execution_count": 32,
     "metadata": {},
     "output_type": "execute_result"
    }
   ],
   "source": [
    "let v6 = IpAddr::V6(\"ab:d:ef\".to_string());\n",
    "v6"
   ]
  },
  {
   "cell_type": "code",
   "execution_count": 33,
   "metadata": {},
   "outputs": [
    {
     "name": "stdout",
     "output_type": "stream",
     "text": [
      "V4 values: 1, 2, 3, 4\n"
     ]
    },
    {
     "data": {
      "text/plain": [
       "()"
      ]
     },
     "execution_count": 33,
     "metadata": {},
     "output_type": "execute_result"
    }
   ],
   "source": [
    "match v4 {\n",
    "    IpAddr::V4(x1, x2, x3, x4) => {\n",
    "        println!(\"V4 values: {}, {}, {}, {}\", x1, x2, x3, x4)\n",
    "    },\n",
    "    _ => println!(\"not matched\"),\n",
    "}"
   ]
  },
  {
   "cell_type": "markdown",
   "metadata": {},
   "source": [
    "## Comparing Enum Items \n",
    "\n",
    "It is strongly suggested that you use `match` to compare Enum items\n",
    "especially when you have complex enum variants. \n",
    "Enums CANNOT be compared using `==` directly.\n",
    "For more discussions,\n",
    "please refer to\n",
    "[How to compare enum without pattern matching](https://stackoverflow.com/questions/25576748/how-to-compare-enum-without-pattern-matching)\n",
    ".\n"
   ]
  },
  {
   "cell_type": "markdown",
   "metadata": {},
   "source": [
    "## Methods for Enum\n",
    "\n",
    "1. You can define methods for an Enum type using `impl`.\n",
    "    The example below define 2 methods for the enum type `Weekday`.\n",
    "    Notice that the method `Weekday.val` is an instance method\n",
    "    while the method `Weekday::greet` is a static method.\n",
    "    \n",
    "2. If `&self` (must use `self` unlike other programming languages, e.g., Python)\n",
    "    is used as the first parameter,\n",
    "    then the method is an instance method.\n",
    "    Otherwise,\n",
    "    the method is a static method."
   ]
  },
  {
   "cell_type": "code",
   "execution_count": 3,
   "metadata": {},
   "outputs": [],
   "source": [
    "impl Weekday {\n",
    "    fn val(&self) -> i32 {\n",
    "        1\n",
    "    }\n",
    "    fn greet() -> String {\n",
    "        String::from(\"Hello\")\n",
    "    }\n",
    "}"
   ]
  },
  {
   "cell_type": "code",
   "execution_count": 4,
   "metadata": {},
   "outputs": [
    {
     "data": {
      "text/plain": [
       "1"
      ]
     },
     "execution_count": 4,
     "metadata": {},
     "output_type": "execute_result"
    }
   ],
   "source": [
    "let m = Weekday::Monday;\n",
    "m.nima()"
   ]
  },
  {
   "cell_type": "code",
   "execution_count": 5,
   "metadata": {},
   "outputs": [
    {
     "data": {
      "text/plain": [
       "\"Hello\""
      ]
     },
     "execution_count": 5,
     "metadata": {},
     "output_type": "execute_result"
    }
   ],
   "source": [
    "Weekday::greet()"
   ]
  },
  {
   "cell_type": "markdown",
   "metadata": {},
   "source": [
    "## Pattern Matching"
   ]
  },
  {
   "cell_type": "code",
   "execution_count": 19,
   "metadata": {},
   "outputs": [],
   "source": [
    "fn schedule(m: Weekday) {\n",
    "    match m {\n",
    "        Weekday::Monday | Weekday::Tuesday | Weekday::Wednesday | Weekday::Thursday | Weekday::Friday => println!(\"Work!\"),\n",
    "        Weekday::Saturday | Weekday::Sunday => println!(\"Have a rest!\")\n",
    "    }\n",
    "}"
   ]
  },
  {
   "cell_type": "code",
   "execution_count": 20,
   "metadata": {},
   "outputs": [
    {
     "name": "stdout",
     "output_type": "stream",
     "text": [
      "Work!\n"
     ]
    },
    {
     "data": {
      "text/plain": [
       "()"
      ]
     },
     "execution_count": 20,
     "metadata": {},
     "output_type": "execute_result"
    }
   ],
   "source": [
    "schedule(Weekday::Monday)"
   ]
  },
  {
   "cell_type": "code",
   "execution_count": 21,
   "metadata": {},
   "outputs": [
    {
     "name": "stdout",
     "output_type": "stream",
     "text": [
      "Have a rest!\n"
     ]
    },
    {
     "data": {
      "text/plain": [
       "()"
      ]
     },
     "execution_count": 21,
     "metadata": {},
     "output_type": "execute_result"
    }
   ],
   "source": [
    "schedule(Weekday::Sunday)"
   ]
  },
  {
   "cell_type": "markdown",
   "metadata": {},
   "source": [
    "## References \n",
    "\n",
    "- [enumflags2](https://crates.io/crates/enumflags2)\n",
    "\n",
    "- [enum_primitive](https://crates.io/crates/enum_primitive)\n"
   ]
  },
  {
   "cell_type": "code",
   "execution_count": null,
   "metadata": {},
   "outputs": [],
   "source": []
  }
 ],
 "metadata": {
  "kernelspec": {
   "display_name": "Rust",
   "language": "rust",
   "name": "rust"
  },
  "language_info": {
   "codemirror_mode": "rust",
   "file_extension": ".rs",
   "mimetype": "text/rust",
   "name": "Rust",
   "pygment_lexer": "rust",
   "version": ""
  }
 },
 "nbformat": 4,
 "nbformat_minor": 4
}