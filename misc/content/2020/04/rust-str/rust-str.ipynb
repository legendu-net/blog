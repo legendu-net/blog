{
 "cells": [
  {
   "cell_type": "markdown",
   "metadata": {},
   "source": [
    "- Title: String in Rust\n",
    "- Slug: rust-str\n",
    "- Date: 2020-04-20 08:57:29\n",
    "- Category: Computer Science\n",
    "- Tags: programming, Rust, string, str, character, bytes\n",
    "- Author: Ben Du\n",
    "- Modified: 2021-06-16 09:07:09\n"
   ]
  },
  {
   "cell_type": "markdown",
   "metadata": {},
   "source": [
    "## Tips and Traps \n",
    "\n",
    "1. Rust has 2 different string types `String` and `str`. \n",
    "    `String` is a MUTABLE (different from Java and Python), heap-allocated data structure \n",
    "    while `str` is an immutable sequence of UTF-8 bytes somewhere in memory \n",
    "    (static storage, heap or stack).\n",
    "    `String` owns the memory for it while `&str` does NOT.\n",
    "\n",
    "2. Since the size of `str` is unknown, \n",
    "    one can only handle it behind a pointer. \n",
    "    This means that `str` most commonly appears as `&str`: \n",
    "    a reference to some UTF-8 data, normally called a \"string slice\" or just a \"slice\".\n",
    "\n",
    "3. `&String` is a reference to a `String`\n",
    "    and is also called a borrowed type.\n",
    "    It is nothing more than a pointer \n",
    "    which you can pass around without giving up ownership. \n",
    "    `&String` can be coerced to a `&str` implicitly.\n",
    "\n",
    "4. If you want a rea-only view of a string, \n",
    "    `&str` is preferred.\n",
    "    If you want to own and mutate a string,\n",
    "    `String` should be used.\n",
    "    For example,\n",
    "    `String` should be used for returning strings created within a function\n",
    "    or (usually) when storing sstrings in a struct or enum.\n",
    "    \n",
    "    \n",
    "5. Indexing into a string is not available in Rust. \n",
    "    The reason for this is that Rust strings are encoded in UTF-8 internally, \n",
    "    so the concept of indexing itself would be ambiguous and people would misuse it. \n",
    "    Byte indexing is fast, \n",
    "    but almost always incorrect \n",
    "    (when your text contains non-ASCII symbols, \n",
    "    byte indexing may leave you inside a character, \n",
    "    which is really bad if you need text processing) \n",
    "    while char indexing is not free because UTF-8 is a variable-length encoding, \n",
    "    so you have to traverse the entire string to find the required code point.\n",
    "    \n",
    "    There are 2 ways to get chars out of a string.\n",
    "    First, \n",
    "    you can call the `chars` method which returns an iterator. \n",
    "    This ways is not efficient of course if you want random access.\n",
    "    Second, \n",
    "    you can get the underlying bytes representation of a string \n",
    "    by calling the `as_bytes` method \n",
    "    (which returns a byte slice `&[u8]`. \n",
    "    You can then index the byte slice and convert a `u8` variable to `char` \n",
    "    using the `as` keyword.\n",
    "\n",
    "5. `let my_str = \"Hello World\";` defines a `&str` (not `String`). \n",
    "\n",
    "6. If you have a `&str` and want a new `String`,\n",
    "    you can clone it either by `to_owned()` or `to_string()` \n",
    "    (they are effectively the same).\n",
    "    Both of those 2 methods will copy the memory and make a new String."
   ]
  },
  {
   "cell_type": "markdown",
   "metadata": {},
   "source": [
    "## &str\n",
    "\n",
    "Primitive, immutable, fixed length."
   ]
  },
  {
   "cell_type": "code",
   "execution_count": 2,
   "metadata": {},
   "outputs": [
    {
     "data": {
      "text/plain": [
       "\"how are you\""
      ]
     },
     "execution_count": 2,
     "metadata": {},
     "output_type": "execute_result"
    }
   ],
   "source": [
    "let mut s: &str = \"how are you\";\n",
    "s"
   ]
  },
  {
   "cell_type": "code",
   "execution_count": 4,
   "metadata": {},
   "outputs": [
    {
     "ename": "Error",
     "evalue": "the type `String` cannot be indexed by `{integer}`",
     "output_type": "error",
     "traceback": [
      "s2[0]",
      "^^^^^ `String` cannot be indexed by `{integer}`",
      "the type `String` cannot be indexed by `{integer}`",
      "help: the trait `Index<{integer}>` is not implemented for `String`"
     ]
    }
   ],
   "source": [
    "let s2 = String::from(\"abc\");\n",
    "s2[0]"
   ]
  },
  {
   "cell_type": "code",
   "execution_count": 3,
   "metadata": {},
   "outputs": [
    {
     "ename": "Error",
     "evalue": "the type `str` cannot be indexed by `{integer}`",
     "output_type": "error",
     "traceback": [
      "s[0]",
      "^^^^ string indices are ranges of `usize`",
      "the type `str` cannot be indexed by `{integer}`",
      "help: the trait `SliceIndex<str>` is not implemented for `{integer}`"
     ]
    }
   ],
   "source": [
    "s[0]"
   ]
  },
  {
   "cell_type": "code",
   "execution_count": 11,
   "metadata": {},
   "outputs": [
    {
     "ename": "Error",
     "evalue": "cannot add `char` to `&str`",
     "output_type": "error",
     "traceback": [
      "s + 'a'",
      "^ &str",
      "s + 'a'",
      "    ^^^ char",
      "s + 'a'",
      "  ^ ",
      "cannot add `char` to `&str`"
     ]
    }
   ],
   "source": [
    "s + 'a'"
   ]
  },
  {
   "cell_type": "code",
   "execution_count": 8,
   "metadata": {},
   "outputs": [
    {
     "data": {
      "text/plain": [
       "Chars(['h', 'o', 'w', ' ', 'a', 'r', 'e', ' ', 'y', 'o', 'u'])"
      ]
     },
     "execution_count": 8,
     "metadata": {},
     "output_type": "execute_result"
    }
   ],
   "source": [
    "s.chars()"
   ]
  },
  {
   "cell_type": "code",
   "execution_count": 10,
   "metadata": {},
   "outputs": [
    {
     "data": {
      "text/plain": [
       "Some('a')"
      ]
     },
     "execution_count": 10,
     "metadata": {},
     "output_type": "execute_result"
    }
   ],
   "source": [
    "s.chars().nth(4)"
   ]
  },
  {
   "cell_type": "code",
   "execution_count": 20,
   "metadata": {},
   "outputs": [
    {
     "ename": "Error",
     "evalue": "character literal may only contain one codepoint",
     "output_type": "error",
     "traceback": [
      "s.push('c2')",
      "       ^^^^ ",
      "character literal may only contain one codepoint"
     ]
    },
    {
     "ename": "Error",
     "evalue": "expected one of `.`, `;`, `?`, `}`, or an operator, found `evcxr_variable_store`",
     "output_type": "error",
     "traceback": [
      "s.push('c2')",
      "             expected one of `.`, `;`, `?`, `}`, or an operator here",
      "expected one of `.`, `;`, `?`, `}`, or an operator, found `evcxr_variable_store`"
     ]
    },
    {
     "ename": "Error",
     "evalue": "no method named `push` found for type `&str` in the current scope",
     "output_type": "error",
     "traceback": [
      "s.push('c2')",
      "  ^^^^ ",
      "no method named `push` found for type `&str` in the current scope"
     ]
    }
   ],
   "source": [
    "s.push('c2')"
   ]
  },
  {
   "cell_type": "code",
   "execution_count": 21,
   "metadata": {},
   "outputs": [
    {
     "data": {
      "text/plain": [
       "false"
      ]
     },
     "execution_count": 21,
     "metadata": {},
     "output_type": "execute_result"
    }
   ],
   "source": [
    "s.is_empty()"
   ]
  },
  {
   "cell_type": "code",
   "execution_count": 3,
   "metadata": {},
   "outputs": [
    {
     "data": {
      "text/plain": [
       "11"
      ]
     },
     "execution_count": 3,
     "metadata": {},
     "output_type": "execute_result"
    }
   ],
   "source": [
    "s.len()"
   ]
  },
  {
   "cell_type": "markdown",
   "metadata": {},
   "source": [
    "## String"
   ]
  },
  {
   "cell_type": "code",
   "execution_count": 4,
   "metadata": {},
   "outputs": [
    {
     "ename": "Error",
     "evalue": "mismatched types",
     "output_type": "error",
     "traceback": [
      "let s1: String = \"Hello World!\";",
      "                 ^^^^^^^^^^^^^^ expected struct `String`, found `&str`",
      "let s1: String = \"Hello World!\";",
      "        ^^^^^^ expected due to this",
      "mismatched types",
      "help: try using a conversion method\n\n\"Hello World!\".to_string()"
     ]
    }
   ],
   "source": [
    "let s1: String = \"Hello World!\";\n",
    "s1"
   ]
  },
  {
   "cell_type": "code",
   "execution_count": 5,
   "metadata": {},
   "outputs": [
    {
     "data": {
      "text/plain": [
       "\"Hello World!\""
      ]
     },
     "execution_count": 5,
     "metadata": {},
     "output_type": "execute_result"
    }
   ],
   "source": [
    "let mut s2: String = String::from(\"Hello World!\");\n",
    "s2"
   ]
  },
  {
   "cell_type": "code",
   "execution_count": 12,
   "metadata": {},
   "outputs": [
    {
     "ename": "Error",
     "evalue": "mismatched types",
     "output_type": "error",
     "traceback": [
      "s2 + 'a'",
      "     ^^^ expected `&str`, found `char`",
      "mismatched types"
     ]
    }
   ],
   "source": [
    "s2 + 'a'"
   ]
  },
  {
   "cell_type": "code",
   "execution_count": 13,
   "metadata": {},
   "outputs": [
    {
     "data": {
      "text/plain": [
       "()"
      ]
     },
     "execution_count": 13,
     "metadata": {},
     "output_type": "execute_result"
    }
   ],
   "source": [
    "s2.push('a')"
   ]
  },
  {
   "cell_type": "code",
   "execution_count": 14,
   "metadata": {},
   "outputs": [
    {
     "data": {
      "text/plain": [
       "\"Hello World!a\""
      ]
     },
     "execution_count": 14,
     "metadata": {},
     "output_type": "execute_result"
    }
   ],
   "source": [
    "s2"
   ]
  },
  {
   "cell_type": "markdown",
   "metadata": {},
   "source": [
    "## Construct Strings"
   ]
  },
  {
   "cell_type": "markdown",
   "metadata": {},
   "source": [
    "### String::new\n",
    "\n",
    "`String::new` creates an new empty string."
   ]
  },
  {
   "cell_type": "code",
   "execution_count": 8,
   "metadata": {},
   "outputs": [
    {
     "data": {
      "text/plain": [
       "\"\""
      ]
     },
     "execution_count": 8,
     "metadata": {},
     "output_type": "execute_result"
    }
   ],
   "source": [
    "String::new()"
   ]
  },
  {
   "cell_type": "markdown",
   "metadata": {},
   "source": [
    "`String::with_capacity` creates a new emtpy string with the given capacity."
   ]
  },
  {
   "cell_type": "code",
   "execution_count": 10,
   "metadata": {},
   "outputs": [
    {
     "data": {
      "text/plain": [
       "\"\""
      ]
     },
     "execution_count": 10,
     "metadata": {},
     "output_type": "execute_result"
    }
   ],
   "source": [
    "let my_str = String::with_capacity(2);\n",
    "my_str"
   ]
  },
  {
   "cell_type": "code",
   "execution_count": 12,
   "metadata": {},
   "outputs": [
    {
     "data": {
      "text/plain": [
       "2"
      ]
     },
     "execution_count": 12,
     "metadata": {},
     "output_type": "execute_result"
    }
   ],
   "source": [
    "my_str.capacity()"
   ]
  },
  {
   "cell_type": "markdown",
   "metadata": {},
   "source": [
    "## Cases of String\n",
    "\n",
    "1. The `to_*case` methods return a new String object\n",
    "    (mainly because changing the case of non-ASCII character might change the length of the string).\n",
    "    The `make_ascii_*case` methods changes cases in place \n",
    "    (as changing the case of ASCII characters won't change the length of the string).\n",
    "    \n",
    "2. `to_*case` methods change the case of all characters \n",
    "    while `to_ascii_*case` methods only change the case of ASCII characters \n",
    "    and leave non-ASCII characters unchanged."
   ]
  },
  {
   "cell_type": "markdown",
   "metadata": {},
   "source": [
    "### to_lowercase and to_uppercase"
   ]
  },
  {
   "cell_type": "markdown",
   "metadata": {},
   "source": [
    "### to_ascii_lowercase and to_ascii_uppercase"
   ]
  },
  {
   "cell_type": "markdown",
   "metadata": {},
   "source": [
    "### make_ascii_lowercase and make_ascii_upper"
   ]
  },
  {
   "cell_type": "markdown",
   "metadata": {},
   "source": [
    "## chars"
   ]
  },
  {
   "cell_type": "markdown",
   "metadata": {},
   "source": [
    "## contains"
   ]
  },
  {
   "cell_type": "markdown",
   "metadata": {},
   "source": [
    "## get"
   ]
  },
  {
   "cell_type": "code",
   "execution_count": 2,
   "metadata": {},
   "outputs": [
    {
     "data": {
      "text/plain": [
       "Some(\"Hel\")"
      ]
     },
     "execution_count": 2,
     "metadata": {},
     "output_type": "execute_result"
    }
   ],
   "source": [
    "let s: String = String::from(\"Hello World!\");\n",
    "s.get(0..3)"
   ]
  },
  {
   "cell_type": "code",
   "execution_count": 5,
   "metadata": {},
   "outputs": [
    {
     "data": {
      "text/plain": [
       "\"Hel\""
      ]
     },
     "execution_count": 5,
     "metadata": {},
     "output_type": "execute_result"
    }
   ],
   "source": [
    "let s: String = String::from(\"Hello World!\");\n",
    "let ss = s.get(0..3).unwrap().to_string();\n",
    "ss"
   ]
  },
  {
   "cell_type": "markdown",
   "metadata": {},
   "source": [
    "## join"
   ]
  },
  {
   "cell_type": "code",
   "execution_count": 6,
   "metadata": {},
   "outputs": [
    {
     "data": {
      "text/plain": [
       "\"ab\""
      ]
     },
     "execution_count": 6,
     "metadata": {},
     "output_type": "execute_result"
    }
   ],
   "source": [
    "[\"a\", \"b\"].join(\"\")"
   ]
  },
  {
   "cell_type": "code",
   "execution_count": 7,
   "metadata": {},
   "outputs": [
    {
     "ename": "Error",
     "evalue": "no method named `join` found for array `[char; 2]` in the current scope",
     "output_type": "error",
     "traceback": [
      "['a', 'b'].join(\"\")",
      "           ^^^^ method not found in `[char; 2]`",
      "no method named `join` found for array `[char; 2]` in the current scope"
     ]
    }
   ],
   "source": [
    "['a', 'b'].join(\"\")"
   ]
  },
  {
   "cell_type": "code",
   "execution_count": 6,
   "metadata": {},
   "outputs": [
    {
     "data": {
      "text/plain": [
       "\"ab\""
      ]
     },
     "execution_count": 6,
     "metadata": {},
     "output_type": "execute_result"
    }
   ],
   "source": [
    "vec![\"a\", \"b\"].join(\"\")"
   ]
  },
  {
   "cell_type": "code",
   "execution_count": 7,
   "metadata": {},
   "outputs": [
    {
     "data": {
      "text/plain": [
       "\"ab\""
      ]
     },
     "execution_count": 7,
     "metadata": {},
     "output_type": "execute_result"
    }
   ],
   "source": [
    "vec![String::from(\"a\"), String::from(\"b\")].join(\"\")"
   ]
  },
  {
   "cell_type": "markdown",
   "metadata": {},
   "source": [
    "## len"
   ]
  },
  {
   "cell_type": "markdown",
   "metadata": {},
   "source": [
    "## replace"
   ]
  },
  {
   "cell_type": "markdown",
   "metadata": {},
   "source": [
    "## parse (Convert String to Other Types)\n",
    "\n",
    "[String Conversions](https://cheats.rs/#string-conversions)"
   ]
  },
  {
   "cell_type": "markdown",
   "metadata": {},
   "source": [
    "Convert an integer to string."
   ]
  },
  {
   "cell_type": "code",
   "execution_count": 2,
   "metadata": {},
   "outputs": [
    {
     "data": {
      "text/plain": [
       "\"123\""
      ]
     },
     "execution_count": 2,
     "metadata": {},
     "output_type": "execute_result"
    }
   ],
   "source": [
    "let s = 123.to_string();\n",
    "s"
   ]
  },
  {
   "cell_type": "code",
   "execution_count": 3,
   "metadata": {},
   "outputs": [
    {
     "data": {
      "text/plain": [
       "\"1\""
      ]
     },
     "execution_count": 3,
     "metadata": {},
     "output_type": "execute_result"
    }
   ],
   "source": [
    "1.to_string()"
   ]
  },
  {
   "cell_type": "markdown",
   "metadata": {},
   "source": [
    "Convert a string to bytes."
   ]
  },
  {
   "cell_type": "code",
   "execution_count": 8,
   "metadata": {},
   "outputs": [
    {
     "data": {
      "text/plain": [
       "[49]"
      ]
     },
     "execution_count": 8,
     "metadata": {},
     "output_type": "execute_result"
    }
   ],
   "source": [
    "\"1\".as_bytes()"
   ]
  },
  {
   "cell_type": "code",
   "execution_count": 4,
   "metadata": {},
   "outputs": [
    {
     "data": {
      "text/plain": [
       "[49]"
      ]
     },
     "execution_count": 4,
     "metadata": {},
     "output_type": "execute_result"
    }
   ],
   "source": [
    "1.to_string().as_bytes()"
   ]
  },
  {
   "cell_type": "code",
   "execution_count": 5,
   "metadata": {},
   "outputs": [
    {
     "data": {
      "text/plain": [
       "[0, 0, 0, 1]"
      ]
     },
     "execution_count": 5,
     "metadata": {},
     "output_type": "execute_result"
    }
   ],
   "source": [
    "1i32.to_be_bytes()"
   ]
  },
  {
   "cell_type": "markdown",
   "metadata": {},
   "source": [
    "Convert the string back to integer."
   ]
  },
  {
   "cell_type": "code",
   "execution_count": 6,
   "metadata": {},
   "outputs": [
    {
     "data": {
      "text/plain": [
       "Ok(123)"
      ]
     },
     "execution_count": 6,
     "metadata": {},
     "output_type": "execute_result"
    }
   ],
   "source": [
    "s.parse::<i32>()"
   ]
  },
  {
   "cell_type": "code",
   "execution_count": 7,
   "metadata": {},
   "outputs": [
    {
     "data": {
      "text/plain": [
       "123"
      ]
     },
     "execution_count": 7,
     "metadata": {},
     "output_type": "execute_result"
    }
   ],
   "source": [
    "s.parse::<i32>().unwrap()"
   ]
  },
  {
   "cell_type": "markdown",
   "metadata": {},
   "source": [
    "## push"
   ]
  },
  {
   "cell_type": "markdown",
   "metadata": {},
   "source": [
    "You cannot concatenate a char to a string using the `+` operator.\n",
    "However,\n",
    "you can use the `String.push` method to add a char to the end of a String."
   ]
  },
  {
   "cell_type": "markdown",
   "metadata": {},
   "source": [
    "## push_str"
   ]
  },
  {
   "cell_type": "markdown",
   "metadata": {},
   "source": [
    "## is_empty"
   ]
  },
  {
   "cell_type": "markdown",
   "metadata": {},
   "source": [
    "## split"
   ]
  },
  {
   "cell_type": "code",
   "execution_count": 4,
   "metadata": {},
   "outputs": [
    {
     "data": {
      "text/plain": [
       "[\"\"]"
      ]
     },
     "execution_count": 4,
     "metadata": {},
     "output_type": "execute_result"
    }
   ],
   "source": [
    "\"\".split(\",\").collect::<Vec<&str>>()"
   ]
  },
  {
   "cell_type": "code",
   "execution_count": 5,
   "metadata": {},
   "outputs": [
    {
     "data": {
      "text/plain": [
       "[\"\"]"
      ]
     },
     "execution_count": 5,
     "metadata": {},
     "output_type": "execute_result"
    }
   ],
   "source": [
    "\"\".split(\" \").collect::<Vec<&str>>()"
   ]
  },
  {
   "cell_type": "code",
   "execution_count": 2,
   "metadata": {},
   "outputs": [
    {
     "data": {
      "text/plain": [
       "Split(SplitInternal { start: 0, end: 5, matcher: StrSearcher { haystack: \"1,2,3\", needle: \",\", searcher: TwoWay(TwoWaySearcher { crit_pos: 0, crit_pos_back: 1, period: 1, byteset: 17592186044416, position: 0, end: 5, memory: 0, memory_back: 1 }) }, allow_trailing_empty: true, finished: false })"
      ]
     },
     "execution_count": 2,
     "metadata": {},
     "output_type": "execute_result"
    }
   ],
   "source": [
    "\"1,2,3\".split(\",\")"
   ]
  },
  {
   "cell_type": "code",
   "execution_count": 20,
   "metadata": {},
   "outputs": [
    {
     "data": {
      "text/plain": [
       "Split(SplitInternal { start: 0, end: 5, matcher: StrSearcher { haystack: \"1,2,3\", needle: \",\", searcher: TwoWay(TwoWaySearcher { crit_pos: 0, crit_pos_back: 1, period: 1, byteset: 17592186044416, position: 0, end: 5, memory: 0, memory_back: 1 }) }, allow_trailing_empty: true, finished: false })"
      ]
     },
     "execution_count": 20,
     "metadata": {},
     "output_type": "execute_result"
    }
   ],
   "source": [
    "let mut it = \"1,2,3\".split(\",\");\n",
    "it"
   ]
  },
  {
   "cell_type": "code",
   "execution_count": 21,
   "metadata": {},
   "outputs": [
    {
     "data": {
      "text/plain": [
       "Some(\"1\")"
      ]
     },
     "execution_count": 21,
     "metadata": {},
     "output_type": "execute_result"
    }
   ],
   "source": [
    "it.next()"
   ]
  },
  {
   "cell_type": "code",
   "execution_count": 22,
   "metadata": {},
   "outputs": [
    {
     "data": {
      "text/plain": [
       "Some(\"2\")"
      ]
     },
     "execution_count": 22,
     "metadata": {},
     "output_type": "execute_result"
    }
   ],
   "source": [
    "it.next()"
   ]
  },
  {
   "cell_type": "code",
   "execution_count": 23,
   "metadata": {},
   "outputs": [
    {
     "data": {
      "text/plain": [
       "Some(\"3\")"
      ]
     },
     "execution_count": 23,
     "metadata": {},
     "output_type": "execute_result"
    }
   ],
   "source": [
    "it.next()"
   ]
  },
  {
   "cell_type": "code",
   "execution_count": 24,
   "metadata": {},
   "outputs": [
    {
     "data": {
      "text/plain": [
       "None"
      ]
     },
     "execution_count": 24,
     "metadata": {},
     "output_type": "execute_result"
    }
   ],
   "source": [
    "it.next()"
   ]
  },
  {
   "cell_type": "code",
   "execution_count": 5,
   "metadata": {},
   "outputs": [
    {
     "data": {
      "text/plain": [
       "[\"1\", \"2\", \"3\"]"
      ]
     },
     "execution_count": 5,
     "metadata": {},
     "output_type": "execute_result"
    }
   ],
   "source": [
    "let v: Vec<&str> = \"1,2,3\".split(\",\").collect();\n",
    "v"
   ]
  },
  {
   "cell_type": "code",
   "execution_count": 17,
   "metadata": {},
   "outputs": [
    {
     "data": {
      "text/plain": [
       "[1, 2, 3]"
      ]
     },
     "execution_count": 17,
     "metadata": {},
     "output_type": "execute_result"
    }
   ],
   "source": [
    "let v: Vec<i8> = \"1,2,3\".split(\",\").map(|x| x.parse::<i8>().unwrap()).collect();\n",
    "v"
   ]
  },
  {
   "cell_type": "markdown",
   "metadata": {},
   "source": [
    "## split_whitespace"
   ]
  },
  {
   "cell_type": "code",
   "execution_count": 23,
   "metadata": {},
   "outputs": [
    {
     "data": {
      "text/plain": [
       "SplitWhitespace { inner: Filter { iter: Split(SplitInternal { start: 0, end: 11, matcher: CharPredicateSearcher { haystack: \"how are you\", char_indices: CharIndices { front_offset: 0, iter: Chars { iter: Iter([104, 111, 119, 32, 97, 114, 101, 32, 121, 111, 117]) } } }, allow_trailing_empty: true, finished: false }) } }"
      ]
     },
     "execution_count": 23,
     "metadata": {},
     "output_type": "execute_result"
    }
   ],
   "source": [
    "\"how are you\".split_whitespace()"
   ]
  },
  {
   "cell_type": "code",
   "execution_count": 27,
   "metadata": {},
   "outputs": [
    {
     "name": "stdout",
     "output_type": "stream",
     "text": [
      "how\n",
      "are\n",
      "you\n"
     ]
    },
    {
     "data": {
      "text/plain": [
       "()"
      ]
     },
     "execution_count": 27,
     "metadata": {},
     "output_type": "execute_result"
    }
   ],
   "source": [
    "for word in \"how are you\".split_whitespace() {\n",
    "    println!(\"{}\", word);\n",
    "}"
   ]
  },
  {
   "cell_type": "markdown",
   "metadata": {},
   "source": [
    "## with_capacity"
   ]
  },
  {
   "cell_type": "code",
   "execution_count": 25,
   "metadata": {},
   "outputs": [
    {
     "data": {
      "text/plain": [
       "\"\""
      ]
     },
     "execution_count": 25,
     "metadata": {},
     "output_type": "execute_result"
    }
   ],
   "source": [
    "let ss = String::with_capacity(3);\n",
    "ss"
   ]
  },
  {
   "cell_type": "markdown",
   "metadata": {},
   "source": [
    "## Print Strings\n",
    "\n",
    "1. You cannot use print an integer directly.\n",
    "    Instead,\n",
    "    you have to convert it to a String first.\n",
    "    \n",
    "2. It is suggested that you use `println!(\"{}\", var);`\n",
    "    to print the variable to terminal so that you do not have to worry about its type.m"
   ]
  },
  {
   "cell_type": "code",
   "execution_count": 2,
   "metadata": {},
   "outputs": [
    {
     "ename": "Error",
     "evalue": "format argument must be a string literal",
     "output_type": "error",
     "traceback": [
      "format argument must be a string literal"
     ]
    }
   ],
   "source": [
    "println!(5)"
   ]
  },
  {
   "cell_type": "code",
   "execution_count": 3,
   "metadata": {},
   "outputs": [
    {
     "name": "stdout",
     "output_type": "stream",
     "text": [
      "5\n"
     ]
    },
    {
     "data": {
      "text/plain": [
       "()"
      ]
     },
     "execution_count": 3,
     "metadata": {},
     "output_type": "execute_result"
    }
   ],
   "source": [
    "println!(\"{}\", 5)"
   ]
  },
  {
   "cell_type": "code",
   "execution_count": 5,
   "metadata": {},
   "outputs": [
    {
     "name": "stdout",
     "output_type": "stream",
     "text": [
      "My name is Ben and I'm 34\n"
     ]
    }
   ],
   "source": [
    "println!(\"My name is {} and I'm {}\", \"Ben\", 34);"
   ]
  },
  {
   "cell_type": "code",
   "execution_count": 6,
   "metadata": {},
   "outputs": [
    {
     "name": "stdout",
     "output_type": "stream",
     "text": [
      "3 * 3 = 9\n"
     ]
    }
   ],
   "source": [
    "println!(\"{0} * {0} = {1}\", 3, 9);"
   ]
  },
  {
   "cell_type": "code",
   "execution_count": 7,
   "metadata": {},
   "outputs": [
    {
     "name": "stdout",
     "output_type": "stream",
     "text": [
      "3 * 3 = 9\n"
     ]
    }
   ],
   "source": [
    "println!(\"{x} * {x} = {y}\", x=3, y=9);"
   ]
  },
  {
   "cell_type": "markdown",
   "metadata": {},
   "source": [
    "## Placeholder Traits"
   ]
  },
  {
   "cell_type": "code",
   "execution_count": 12,
   "metadata": {},
   "outputs": [
    {
     "name": "stdout",
     "output_type": "stream",
     "text": [
      "Binary: 1000000, Hex: 40, Octol: 100\n"
     ]
    }
   ],
   "source": [
    "println!(\"Binary: {v:b}, Hex: {v:x}, Octol: {v:o}\", v = 64);"
   ]
  },
  {
   "cell_type": "markdown",
   "metadata": {},
   "source": [
    "## Print an Iterable"
   ]
  },
  {
   "cell_type": "code",
   "execution_count": 13,
   "metadata": {},
   "outputs": [
    {
     "name": "stdout",
     "output_type": "stream",
     "text": [
      "(\"Hello\", \"World\")\n"
     ]
    }
   ],
   "source": [
    "println!(\"{:?}\", (\"Hello\", \"World\"));"
   ]
  },
  {
   "cell_type": "markdown",
   "metadata": {},
   "source": [
    "## Concatenate a String and a Char"
   ]
  },
  {
   "cell_type": "code",
   "execution_count": 2,
   "metadata": {},
   "outputs": [
    {
     "data": {
      "text/plain": [
       "\"Hello World!\""
      ]
     },
     "execution_count": 2,
     "metadata": {},
     "output_type": "execute_result"
    }
   ],
   "source": [
    "let mut my_str = String::from(\"Hello World\");\n",
    "my_str.push('!');\n",
    "my_str"
   ]
  },
  {
   "cell_type": "markdown",
   "metadata": {},
   "source": [
    "## Concatenate Several Strings Together\n",
    "\n",
    "The GitHub repo\n",
    "[dclong/conccatenation_benchmarks-rs](https://github.com/dclong/concatenation_benchmarks-rs)\n",
    "has a summary of different ways of joining strings \n",
    "and their corresponding performance."
   ]
  },
  {
   "cell_type": "markdown",
   "metadata": {},
   "source": [
    "### Concatenate Strings in an Array/Vector"
   ]
  },
  {
   "cell_type": "code",
   "execution_count": 7,
   "metadata": {},
   "outputs": [
    {
     "data": {
      "text/plain": [
       "\"how are you\""
      ]
     },
     "execution_count": 7,
     "metadata": {},
     "output_type": "execute_result"
    }
   ],
   "source": [
    "[\"how\", \"are\", \"you\"].join(\" \")"
   ]
  },
  {
   "cell_type": "code",
   "execution_count": 8,
   "metadata": {},
   "outputs": [
    {
     "data": {
      "text/plain": [
       "\"how are you\""
      ]
     },
     "execution_count": 8,
     "metadata": {},
     "output_type": "execute_result"
    }
   ],
   "source": [
    "vec![\"how\", \"are\", \"you\"].join(\" \")"
   ]
  },
  {
   "cell_type": "markdown",
   "metadata": {},
   "source": [
    "### Concatenate Strings in an Iterator"
   ]
  },
  {
   "cell_type": "code",
   "execution_count": 15,
   "metadata": {},
   "outputs": [
    {
     "data": {
      "text/plain": [
       "\"howareyou\""
      ]
     },
     "execution_count": 15,
     "metadata": {},
     "output_type": "execute_result"
    }
   ],
   "source": [
    "let v = vec![\"how\", \"are\", \"you\"];\n",
    "v.into_iter().collect::<String>()"
   ]
  },
  {
   "cell_type": "code",
   "execution_count": 10,
   "metadata": {},
   "outputs": [
    {
     "data": {
      "text/plain": [
       "\"howareyou\""
      ]
     },
     "execution_count": 10,
     "metadata": {},
     "output_type": "execute_result"
    }
   ],
   "source": [
    "let v = vec![\"how\", \"are\", \"you\"];\n",
    "v.into_iter().collect::<String>()"
   ]
  },
  {
   "cell_type": "code",
   "execution_count": 9,
   "metadata": {},
   "outputs": [
    {
     "ename": "Error",
     "evalue": "a value of type `String` cannot be built from an iterator over elements of type `&&str`",
     "output_type": "error",
     "traceback": [
      "arr.into_iter().collect::<String>()",
      "                ^^^^^^^ value of type `String` cannot be built from `std::iter::Iterator<Item=&&str>`",
      "a value of type `String` cannot be built from an iterator over elements of type `&&str`",
      "help: the trait `FromIterator<&&str>` is not implemented for `String`"
     ]
    }
   ],
   "source": [
    "let arr = [\"how\", \"are\", \"you\"];\n",
    "arr.into_iter().collect::<String>()"
   ]
  },
  {
   "cell_type": "code",
   "execution_count": 11,
   "metadata": {},
   "outputs": [
    {
     "data": {
      "text/plain": [
       "\"howareyou\""
      ]
     },
     "execution_count": 11,
     "metadata": {},
     "output_type": "execute_result"
    }
   ],
   "source": [
    "let arr = [\"how\", \"are\", \"you\"];\n",
    "arr.into_iter().copied().collect::<String>()"
   ]
  },
  {
   "cell_type": "code",
   "execution_count": 7,
   "metadata": {},
   "outputs": [
    {
     "ename": "Error",
     "evalue": "use of unstable library feature 'iter_intersperse': recently added",
     "output_type": "error",
     "traceback": [
      "v.into_iter().intersperse(\" \")",
      "              ^^^^^^^^^^^ ",
      "use of unstable library feature 'iter_intersperse': recently added"
     ]
    }
   ],
   "source": [
    "let v = vec![\"how\", \"are\", \"you\"];\n",
    "v.into_iter().intersperse(\" \")"
   ]
  },
  {
   "cell_type": "markdown",
   "metadata": {},
   "source": [
    "## Indexing a String\n",
    "\n",
    "  \n",
    "Indexing into a string is not available in Rust. \n",
    "The reason for this is that Rust strings are encoded in UTF-8 internally, \n",
    "so the concept of indexing itself would be ambiguous and people would misuse it. \n",
    "Byte indexing is fast, \n",
    "but almost always incorrect \n",
    "(when your text contains non-ASCII symbols, \n",
    "byte indexing may leave you inside a character, \n",
    "which is really bad if you need text processing) \n",
    "while char indexing is not free because UTF-8 is a variable-length encoding, \n",
    "so you have to traverse the entire string to find the required code point.\n",
    "\n",
    "There are 2 ways to get chars out of a string.\n",
    "First, \n",
    "you can call the `chars` method which returns an iterator. \n",
    "This ways is not efficient of course if you want random access.\n",
    "Second, \n",
    "you can get the underlying bytes representation of a string \n",
    "by calling the `as_bytes` method \n",
    "(which returns a byte slice `&[u8]`. \n",
    "You can then index the byte slice and convert a `u8` variable to `char` \n",
    "using the `as` keyword.\n"
   ]
  },
  {
   "cell_type": "code",
   "execution_count": 6,
   "metadata": {},
   "outputs": [
    {
     "ename": "Error",
     "evalue": "the type `String` cannot be indexed by `{integer}`",
     "output_type": "error",
     "traceback": [
      "s[0]",
      "^^^^ `String` cannot be indexed by `{integer}`",
      "the type `String` cannot be indexed by `{integer}`",
      "help: the trait `Index<{integer}>` is not implemented for `String`"
     ]
    }
   ],
   "source": [
    "let s = String::from(\"how are you\");\n",
    "s[0]"
   ]
  },
  {
   "cell_type": "code",
   "execution_count": 7,
   "metadata": {},
   "outputs": [
    {
     "data": {
      "text/plain": [
       "Some('h')"
      ]
     },
     "execution_count": 7,
     "metadata": {},
     "output_type": "execute_result"
    }
   ],
   "source": [
    "let s = String::from(\"how are you\");\n",
    "s.chars().next()"
   ]
  },
  {
   "cell_type": "code",
   "execution_count": 8,
   "metadata": {},
   "outputs": [
    {
     "data": {
      "text/plain": [
       "'w'"
      ]
     },
     "execution_count": 8,
     "metadata": {},
     "output_type": "execute_result"
    }
   ],
   "source": [
    "let s = String::from(\"how are you\");\n",
    "s.as_bytes()[2] as char"
   ]
  },
  {
   "cell_type": "markdown",
   "metadata": {},
   "source": [
    "## References\n",
    "\n",
    "- [char in Rust](http://www.legendu.net/misc/blog/rust-char)\n",
    "\n",
    "- [Official Doc on String](https://doc.rust-lang.org/std/string/struct.String.html)\n",
    "\n",
    "- [What’s the difference between &String and &str?](https://users.rust-lang.org/t/whats-the-difference-between-string-and-str/10177/2?from=singlemessage&isappinstalled=0)\n",
    "\n",
    "- [Rust: str vs String](https://www.ameyalokare.com/rust/2017/10/12/rust-str-vs-String.html)\n",
    "\n",
    "- [How to index a String in Rust](https://stackoverflow.com/questions/24542115/how-to-index-a-string-in-rust)\n",
    "\n",
    "- [String Conversions](https://cheats.rs/#string-conversions)"
   ]
  },
  {
   "cell_type": "code",
   "execution_count": null,
   "metadata": {},
   "outputs": [],
   "source": []
  }
 ],
 "metadata": {
  "kernelspec": {
   "display_name": "Rust",
   "language": "rust",
   "name": "rust"
  },
  "language_info": {
   "codemirror_mode": "rust",
   "file_extension": ".rs",
   "mimetype": "text/rust",
   "name": "Rust",
   "pygment_lexer": "rust",
   "version": ""
  }
 },
 "nbformat": 4,
 "nbformat_minor": 4
}
