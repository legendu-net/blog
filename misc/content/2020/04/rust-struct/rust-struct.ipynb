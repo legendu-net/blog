{
 "cells": [
  {
   "cell_type": "markdown",
   "metadata": {},
   "source": [
    "- Author: Ben Du\n",
    "- Date: 2020-04-18 20:22:02\n",
    "- Modified: 2021-05-18 20:22:02\n",
    "- Title: Struct in Rust\n",
    "- Slug: rust-struct\n",
    "- Category: Computer Science\n",
    "- Tags: programming, Rust, struct, class, OOP, method, composition, inheritance"
   ]
  },
  {
   "cell_type": "code",
   "execution_count": null,
   "metadata": {},
   "outputs": [],
   "source": [
    ":timing\n",
    ":sccache 1"
   ]
  },
  {
   "cell_type": "markdown",
   "metadata": {},
   "source": [
    "1. Rust's design is different from traditional OOP programming languages.\n",
    "    There is no class in Rust,\n",
    "    however,\n",
    "    you can achieve it using `struct` + `impl`.\n",
    "    \n",
    "2. Rust does not have the concept of constructor (since Rust even does not have the concept of class). \n",
    "    A simple way is to directly create a struct of initialized values. \n",
    "    If complicated intermediate operations are required,\n",
    "    you can implement a static `new` method for the struct.\n",
    "\n",
    "## Sized vs ?Sized \n",
    "\n",
    "## Sync vs !Sync\n"
   ]
  },
  {
   "cell_type": "code",
   "execution_count": 4,
   "metadata": {},
   "outputs": [],
   "source": [
    "struct Person {\n",
    "    name: String,\n",
    "    age: u8,\n",
    "}"
   ]
  },
  {
   "cell_type": "markdown",
   "metadata": {},
   "source": [
    "## Construct Instances of a Struct\n",
    "\n",
    "1. There is only one true way to create an instance of a struct. \n",
    "    Taking the struct `Person` as an example.\n",
    "    \n",
    "        Person {\n",
    "            name: \"Jane Doe\",\n",
    "            age: 30\n",
    "        }\n",
    "        \n",
    "    However, \n",
    "    this way won't work when a struct contains private fields \n",
    "    and you have to initialize an instance of the struct in a different module.\n",
    "    The convention in Rust is to create a public `new` method \n",
    "    for constructing instances of a struct.\n",
    "        \n",
    "2. The `Default` trait has a `default()` method \n",
    "    for constructing a default instance of a struct.\n",
    "    It is suggested that you implement the `Default` trait\n",
    "    if you want to provide a default constructor for a struct.\n",
    "    \n",
    "For more discussions,\n",
    "please refer to the YouTube tutorial\n",
    "[Idiomatic Rust - Constructors](https://www.youtube.com/watch?v=6b-8gpLCrrg)\n",
    "."
   ]
  },
  {
   "cell_type": "markdown",
   "metadata": {},
   "source": [
    "### Create an Instance of Person"
   ]
  },
  {
   "cell_type": "code",
   "execution_count": 4,
   "metadata": {},
   "outputs": [],
   "source": [
    "let p = Person {name: String::from(\"Ben Du\"), age: 30,};"
   ]
  },
  {
   "cell_type": "code",
   "execution_count": 5,
   "metadata": {},
   "outputs": [
    {
     "data": {
      "text/plain": [
       "\"Ben Du\""
      ]
     },
     "execution_count": 5,
     "metadata": {},
     "output_type": "execute_result"
    }
   ],
   "source": [
    "p.name"
   ]
  },
  {
   "cell_type": "code",
   "execution_count": 6,
   "metadata": {},
   "outputs": [
    {
     "data": {
      "text/plain": [
       "30"
      ]
     },
     "execution_count": 6,
     "metadata": {},
     "output_type": "execute_result"
    }
   ],
   "source": [
    "p.age"
   ]
  },
  {
   "cell_type": "markdown",
   "metadata": {},
   "source": [
    "### Implement a `new` Method for Constructing Instances"
   ]
  },
  {
   "cell_type": "code",
   "execution_count": 6,
   "metadata": {},
   "outputs": [],
   "source": [
    "impl Person {\n",
    "    fn new (name: &str, age: u8) -> Person {\n",
    "        Person {\n",
    "            name: name.to_string(),\n",
    "            age: age,\n",
    "        }\n",
    "    }\n",
    "}"
   ]
  },
  {
   "cell_type": "code",
   "execution_count": 7,
   "metadata": {},
   "outputs": [],
   "source": [
    "let p2 = Person::new(\"Ben Du\", 30);"
   ]
  },
  {
   "cell_type": "code",
   "execution_count": 8,
   "metadata": {},
   "outputs": [
    {
     "data": {
      "text/plain": [
       "\"Ben Du\""
      ]
     },
     "execution_count": 8,
     "metadata": {},
     "output_type": "execute_result"
    }
   ],
   "source": [
    "p2.name"
   ]
  },
  {
   "cell_type": "code",
   "execution_count": 14,
   "metadata": {},
   "outputs": [
    {
     "data": {
      "text/plain": [
       "30"
      ]
     },
     "execution_count": 14,
     "metadata": {},
     "output_type": "execute_result"
    }
   ],
   "source": [
    "p2.age"
   ]
  },
  {
   "cell_type": "markdown",
   "metadata": {},
   "source": [
    "## Associated Constants"
   ]
  },
  {
   "cell_type": "code",
   "execution_count": 9,
   "metadata": {},
   "outputs": [],
   "source": [
    "impl Person {\n",
    "    const DENOMINATOR: u32 = 4567891;\n",
    "}"
   ]
  },
  {
   "cell_type": "code",
   "execution_count": 11,
   "metadata": {},
   "outputs": [],
   "source": [
    "let p = Person::new(\"Ben Du\", 31);"
   ]
  },
  {
   "cell_type": "code",
   "execution_count": 12,
   "metadata": {},
   "outputs": [
    {
     "data": {
      "text/plain": [
       "\"Ben Du\""
      ]
     },
     "execution_count": 12,
     "metadata": {},
     "output_type": "execute_result"
    }
   ],
   "source": [
    "p.name"
   ]
  },
  {
   "cell_type": "code",
   "execution_count": 13,
   "metadata": {},
   "outputs": [
    {
     "data": {
      "text/plain": [
       "31"
      ]
     },
     "execution_count": 13,
     "metadata": {},
     "output_type": "execute_result"
    }
   ],
   "source": [
    "p.age"
   ]
  },
  {
   "cell_type": "code",
   "execution_count": 16,
   "metadata": {},
   "outputs": [
    {
     "data": {
      "text/plain": [
       "4567891"
      ]
     },
     "execution_count": 16,
     "metadata": {},
     "output_type": "execute_result"
    }
   ],
   "source": [
    "Person::DENOMINATOR"
   ]
  },
  {
   "cell_type": "code",
   "execution_count": 20,
   "metadata": {},
   "outputs": [],
   "source": [
    "impl Person {\n",
    "    fn get_deno() -> u32 {\n",
    "        return Person::DENOMINATOR\n",
    "    }\n",
    "}"
   ]
  },
  {
   "cell_type": "code",
   "execution_count": 22,
   "metadata": {},
   "outputs": [],
   "source": [
    "let p = Person::new(\"Ben Du\", 32);"
   ]
  },
  {
   "cell_type": "code",
   "execution_count": 23,
   "metadata": {},
   "outputs": [
    {
     "data": {
      "text/plain": [
       "\"Ben Du\""
      ]
     },
     "execution_count": 23,
     "metadata": {},
     "output_type": "execute_result"
    }
   ],
   "source": [
    "p.name"
   ]
  },
  {
   "cell_type": "code",
   "execution_count": 24,
   "metadata": {},
   "outputs": [
    {
     "data": {
      "text/plain": [
       "32"
      ]
     },
     "execution_count": 24,
     "metadata": {},
     "output_type": "execute_result"
    }
   ],
   "source": [
    "p.age"
   ]
  },
  {
   "cell_type": "code",
   "execution_count": 26,
   "metadata": {},
   "outputs": [
    {
     "data": {
      "text/plain": [
       "4567891"
      ]
     },
     "execution_count": 26,
     "metadata": {},
     "output_type": "execute_result"
    }
   ],
   "source": [
    "Person::get_deno()"
   ]
  },
  {
   "cell_type": "markdown",
   "metadata": {},
   "source": [
    "## Hash and Eq\n",
    "\n",
    "Please refer to\n",
    "[Hash in Rust](http://www.legendu.net/misc/blog/hash-in-rust)\n",
    "for more discussions."
   ]
  },
  {
   "cell_type": "markdown",
   "metadata": {},
   "source": [
    "## Copy and Clone\n",
    "\n",
    "Please refer to\n",
    "[The Copy and Clone Traits in Rust](http://www.legendu.net/misc/blog/the-copy-and-clone-traits-in-rust)\n",
    "for more discussions."
   ]
  },
  {
   "cell_type": "markdown",
   "metadata": {},
   "source": [
    "## Shared Method in Different Struct\n",
    "\n",
    "There are a few ways to achieve this. \n",
    "\n",
    "1. Use a trait and define a shared method as a default implementation in the trait. \n",
    "    This is convenient if the shared method does not refer to fields of struct \n",
    "    (or only read fields of struct). \n",
    "\n",
    "2. Use macro to generate common methods. \n",
    "    This way is more complicated \n",
    "    and it is not recommended \n",
    "    unless the share method is a generic useful method.\n",
    "\n",
    "3. Define a base struct with the shared method and include the base struct as a field in other structs.\n",
    "    This is called composition (in contrast to inheritance). \n",
    "    Composition is preferred over inheritance nowadays. "
   ]
  },
  {
   "cell_type": "markdown",
   "metadata": {},
   "source": [
    "## Functions\n",
    "\n",
    "Please refer to\n",
    "[Functions in Rust](http://www.legendu.net/misc/blog/rust-funs)\n",
    "for more discussions."
   ]
  },
  {
   "cell_type": "markdown",
   "metadata": {},
   "source": [
    "## References \n",
    "\n",
    "[Idiomatic Rust - Constructors](https://www.youtube.com/watch?v=6b-8gpLCrrg)\n",
    "\n",
    "[Trait in Rust](http://www.legendu.net/misc/blog/trait-in-rust)\n",
    "\n",
    "[Hand-Implementing PartialEq, Eq, Hash, PartialOrd and Ord in Rust](https://www.philipdaniels.com/blog/2019/rust-equality-and-ordering/)"
   ]
  },
  {
   "cell_type": "code",
   "execution_count": null,
   "metadata": {},
   "outputs": [],
   "source": []
  }
 ],
 "metadata": {
  "kernelspec": {
   "display_name": "Rust",
   "language": "rust",
   "name": "rust"
  },
  "language_info": {
   "codemirror_mode": "rust",
   "file_extension": ".rs",
   "mimetype": "text/rust",
   "name": "Rust",
   "pygment_lexer": "rust",
   "version": ""
  }
 },
 "nbformat": 4,
 "nbformat_minor": 4
}
