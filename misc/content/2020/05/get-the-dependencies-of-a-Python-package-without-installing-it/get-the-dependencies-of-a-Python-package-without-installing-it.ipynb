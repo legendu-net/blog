{
 "cells": [
  {
   "cell_type": "markdown",
   "metadata": {},
   "source": [
    "- Date: 2020-05-24 00:23:26\n",
    "- Author: Ben Du- Date: 2020-05-31 16:38:43\n",
    "- Title: Get the Dependencies of a Python Package Without Installing It\n",
    "- Slug: get-the-dependencies-of-a-Python-package-without-installing-it\n",
    "- Category: Computer Science\n",
    "- Tags: Computer Science, Python, package, module, dependency, aiutil\n",
    "- Modified: 2020-12-24 00:23:26\n"
   ]
  },
  {
   "cell_type": "markdown",
   "metadata": {},
   "source": [
    "After installing a Python package,\n",
    "you can use the command `pip3 show pkg` to check detailed information about it.\n",
    "What if you want to get information about a Python package without installing?\n",
    "The RESTAPI https://pypi.org/pypi/pkg/json returns detailed information of the Python package `pkg`.\n",
    "\n",
    "\n",
    "Note: The recursive version of dependencies implemented bellow does not take into consideration of versions,\n",
    "so it might not return the correct dependencies of a Python packages."
   ]
  },
  {
   "cell_type": "code",
   "execution_count": 1,
   "metadata": {},
   "outputs": [
    {
     "name": "stdout",
     "output_type": "stream",
     "text": [
      "Defaulting to user installation because normal site-packages is not writeable\n",
      "Collecting aiutil\n",
      "  Downloading aiutil-0.74.0-py3-none-any.whl (44 kB)\n",
      "\u001b[2K     \u001b[90m━━━━━━━━━━━━━━━━━━━━━━━━━━━━━━━━━━━━━━━\u001b[0m \u001b[32m44.9/44.9 KB\u001b[0m \u001b[31m581.8 kB/s\u001b[0m eta \u001b[36m0:00:00\u001b[0m \u001b[36m0:00:01\u001b[0m\n",
      "\u001b[?25hRequirement already satisfied: numba>=0.53.0rc1 in /usr/local/lib/python3.8/dist-packages (from aiutil) (0.55.1)\n",
      "Requirement already satisfied: loguru>=0.3.2 in /usr/local/lib/python3.8/dist-packages (from aiutil) (0.6.0)\n",
      "Requirement already satisfied: dulwich>=0.20.24 in /usr/local/lib/python3.8/dist-packages (from aiutil) (0.20.35)\n",
      "Requirement already satisfied: sqlparse>=0.4.1 in /usr/local/lib/python3.8/dist-packages (from aiutil) (0.4.2)\n",
      "Requirement already satisfied: pandas-profiling>=2.9.0 in /usr/local/lib/python3.8/dist-packages (from aiutil) (3.2.0)\n",
      "Requirement already satisfied: dateparser>=0.7.1 in /usr/local/lib/python3.8/dist-packages (from aiutil) (1.1.1)\n",
      "Requirement already satisfied: pandas>=1.2.0 in /usr/local/lib/python3.8/dist-packages (from aiutil) (1.4.2)\n",
      "Requirement already satisfied: pathspec<0.9.0,>=0.8.1 in /usr/local/lib/python3.8/dist-packages (from aiutil) (0.8.1)\n",
      "Requirement already satisfied: notifiers>=1.2.1 in /usr/local/lib/python3.8/dist-packages (from aiutil) (1.3.3)\n",
      "Requirement already satisfied: python-magic>=0.4.0 in /usr/local/lib/python3.8/dist-packages (from aiutil) (0.4.25)\n",
      "Requirement already satisfied: toml>=0.10.0 in /usr/local/lib/python3.8/dist-packages (from aiutil) (0.10.2)\n",
      "Requirement already satisfied: PyYAML>=5.3.1 in /usr/local/lib/python3.8/dist-packages (from aiutil) (6.0)\n",
      "Requirement already satisfied: pytest>=3.0 in /usr/local/lib/python3.8/dist-packages (from aiutil) (7.1.2)\n",
      "Requirement already satisfied: scikit-image>=0.18.3 in /usr/local/lib/python3.8/dist-packages (from aiutil) (0.19.2)\n",
      "Requirement already satisfied: tqdm>=4.59.0 in /usr/local/lib/python3.8/dist-packages (from aiutil) (4.64.0)\n",
      "Requirement already satisfied: GitPython>=3.0.0 in /usr/local/lib/python3.8/dist-packages (from aiutil) (3.1.27)\n",
      "Requirement already satisfied: regex!=2019.02.19,!=2021.8.27,<2022.3.15 in /usr/local/lib/python3.8/dist-packages (from dateparser>=0.7.1->aiutil) (2022.3.2)\n",
      "Requirement already satisfied: python-dateutil in /usr/local/lib/python3.8/dist-packages (from dateparser>=0.7.1->aiutil) (2.8.2)\n",
      "Requirement already satisfied: pytz in /usr/local/lib/python3.8/dist-packages (from dateparser>=0.7.1->aiutil) (2022.1)\n",
      "Requirement already satisfied: tzlocal in /usr/local/lib/python3.8/dist-packages (from dateparser>=0.7.1->aiutil) (4.2)\n",
      "Requirement already satisfied: certifi in /usr/lib/python3/dist-packages (from dulwich>=0.20.24->aiutil) (2019.11.28)\n",
      "Requirement already satisfied: urllib3>=1.24.1 in /usr/lib/python3/dist-packages (from dulwich>=0.20.24->aiutil) (1.25.8)\n",
      "Requirement already satisfied: gitdb<5,>=4.0.1 in /usr/local/lib/python3.8/dist-packages (from GitPython>=3.0.0->aiutil) (4.0.9)\n",
      "Requirement already satisfied: jsonschema<5.0.0,>=4.4.0 in /usr/local/lib/python3.8/dist-packages (from notifiers>=1.2.1->aiutil) (4.5.1)\n",
      "Requirement already satisfied: requests<3.0.0,>=2.27.1 in /usr/local/lib/python3.8/dist-packages (from notifiers>=1.2.1->aiutil) (2.27.1)\n",
      "Collecting click<9.0.0,>=8.0.3\n",
      "  Downloading click-8.1.3-py3-none-any.whl (96 kB)\n",
      "\u001b[2K     \u001b[90m━━━━━━━━━━━━━━━━━━━━━━━━━━━━━━━━━━━━━━━━\u001b[0m \u001b[32m96.6/96.6 KB\u001b[0m \u001b[31m1.2 MB/s\u001b[0m eta \u001b[36m0:00:00\u001b[0ma \u001b[36m0:00:01\u001b[0m\n",
      "\u001b[?25hRequirement already satisfied: llvmlite<0.39,>=0.38.0rc1 in /usr/local/lib/python3.8/dist-packages (from numba>=0.53.0rc1->aiutil) (0.38.0)\n",
      "Requirement already satisfied: numpy<1.22,>=1.18 in /usr/local/lib/python3.8/dist-packages (from numba>=0.53.0rc1->aiutil) (1.21.6)\n",
      "Requirement already satisfied: setuptools in /usr/lib/python3/dist-packages (from numba>=0.53.0rc1->aiutil) (45.2.0)\n",
      "Requirement already satisfied: matplotlib>=3.2.0 in /usr/local/lib/python3.8/dist-packages (from pandas-profiling>=2.9.0->aiutil) (3.5.2)\n",
      "Requirement already satisfied: seaborn>=0.10.1 in /usr/local/lib/python3.8/dist-packages (from pandas-profiling>=2.9.0->aiutil) (0.11.2)\n",
      "Requirement already satisfied: pydantic>=1.8.1 in /home/dclong/.local/lib/python3.8/site-packages (from pandas-profiling>=2.9.0->aiutil) (1.8.1)\n",
      "Requirement already satisfied: missingno>=0.4.2 in /usr/local/lib/python3.8/dist-packages (from pandas-profiling>=2.9.0->aiutil) (0.5.1)\n",
      "Requirement already satisfied: joblib~=1.1.0 in /usr/local/lib/python3.8/dist-packages (from pandas-profiling>=2.9.0->aiutil) (1.1.0)\n",
      "Requirement already satisfied: jinja2>=2.11.1 in /usr/local/lib/python3.8/dist-packages (from pandas-profiling>=2.9.0->aiutil) (3.0.3)\n",
      "Requirement already satisfied: markupsafe~=2.1.1 in /usr/local/lib/python3.8/dist-packages (from pandas-profiling>=2.9.0->aiutil) (2.1.1)\n",
      "Requirement already satisfied: tangled-up-in-unicode==0.2.0 in /usr/local/lib/python3.8/dist-packages (from pandas-profiling>=2.9.0->aiutil) (0.2.0)\n",
      "Requirement already satisfied: scipy>=1.4.1 in /usr/local/lib/python3.8/dist-packages (from pandas-profiling>=2.9.0->aiutil) (1.8.0)\n",
      "Requirement already satisfied: multimethod>=1.4 in /usr/local/lib/python3.8/dist-packages (from pandas-profiling>=2.9.0->aiutil) (1.8)\n",
      "Requirement already satisfied: htmlmin>=0.1.12 in /usr/local/lib/python3.8/dist-packages (from pandas-profiling>=2.9.0->aiutil) (0.1.12)\n",
      "Requirement already satisfied: visions[type_image_path]==0.7.4 in /usr/local/lib/python3.8/dist-packages (from pandas-profiling>=2.9.0->aiutil) (0.7.4)\n",
      "Requirement already satisfied: phik>=0.11.1 in /usr/local/lib/python3.8/dist-packages (from pandas-profiling>=2.9.0->aiutil) (0.12.2)\n",
      "Requirement already satisfied: attrs>=19.3.0 in /usr/local/lib/python3.8/dist-packages (from visions[type_image_path]==0.7.4->pandas-profiling>=2.9.0->aiutil) (21.4.0)\n",
      "Requirement already satisfied: networkx>=2.4 in /usr/local/lib/python3.8/dist-packages (from visions[type_image_path]==0.7.4->pandas-profiling>=2.9.0->aiutil) (2.8)\n",
      "Requirement already satisfied: imagehash in /usr/local/lib/python3.8/dist-packages (from visions[type_image_path]==0.7.4->pandas-profiling>=2.9.0->aiutil) (4.2.1)\n",
      "Requirement already satisfied: Pillow in /usr/local/lib/python3.8/dist-packages (from visions[type_image_path]==0.7.4->pandas-profiling>=2.9.0->aiutil) (9.1.0)\n",
      "Requirement already satisfied: tomli>=1.0.0 in /usr/local/lib/python3.8/dist-packages (from pytest>=3.0->aiutil) (2.0.1)\n",
      "Requirement already satisfied: iniconfig in /usr/local/lib/python3.8/dist-packages (from pytest>=3.0->aiutil) (1.1.1)\n",
      "Requirement already satisfied: py>=1.8.2 in /usr/local/lib/python3.8/dist-packages (from pytest>=3.0->aiutil) (1.11.0)\n",
      "Requirement already satisfied: packaging in /usr/local/lib/python3.8/dist-packages (from pytest>=3.0->aiutil) (21.3)\n",
      "Requirement already satisfied: pluggy<2.0,>=0.12 in /usr/local/lib/python3.8/dist-packages (from pytest>=3.0->aiutil) (1.0.0)\n",
      "Requirement already satisfied: tifffile>=2019.7.26 in /usr/local/lib/python3.8/dist-packages (from scikit-image>=0.18.3->aiutil) (2022.5.4)\n",
      "Requirement already satisfied: imageio>=2.4.1 in /usr/local/lib/python3.8/dist-packages (from scikit-image>=0.18.3->aiutil) (2.19.0)\n",
      "Requirement already satisfied: PyWavelets>=1.1.1 in /usr/local/lib/python3.8/dist-packages (from scikit-image>=0.18.3->aiutil) (1.3.0)\n",
      "Requirement already satisfied: smmap<6,>=3.0.1 in /usr/local/lib/python3.8/dist-packages (from gitdb<5,>=4.0.1->GitPython>=3.0.0->aiutil) (5.0.0)\n",
      "Requirement already satisfied: pyrsistent!=0.17.0,!=0.17.1,!=0.17.2,>=0.14.0 in /usr/local/lib/python3.8/dist-packages (from jsonschema<5.0.0,>=4.4.0->notifiers>=1.2.1->aiutil) (0.18.1)\n",
      "Requirement already satisfied: importlib-resources>=1.4.0 in /usr/local/lib/python3.8/dist-packages (from jsonschema<5.0.0,>=4.4.0->notifiers>=1.2.1->aiutil) (5.7.1)\n",
      "Requirement already satisfied: kiwisolver>=1.0.1 in /usr/local/lib/python3.8/dist-packages (from matplotlib>=3.2.0->pandas-profiling>=2.9.0->aiutil) (1.4.2)\n",
      "Requirement already satisfied: fonttools>=4.22.0 in /usr/local/lib/python3.8/dist-packages (from matplotlib>=3.2.0->pandas-profiling>=2.9.0->aiutil) (4.33.3)\n",
      "Requirement already satisfied: pyparsing>=2.2.1 in /usr/local/lib/python3.8/dist-packages (from matplotlib>=3.2.0->pandas-profiling>=2.9.0->aiutil) (3.0.8)\n",
      "Requirement already satisfied: cycler>=0.10 in /usr/local/lib/python3.8/dist-packages (from matplotlib>=3.2.0->pandas-profiling>=2.9.0->aiutil) (0.11.0)\n",
      "Requirement already satisfied: typing-extensions>=3.7.4.3 in /home/dclong/.local/lib/python3.8/site-packages (from pydantic>=1.8.1->pandas-profiling>=2.9.0->aiutil) (3.10.0.2)\n",
      "Requirement already satisfied: six>=1.5 in /usr/lib/python3/dist-packages (from python-dateutil->dateparser>=0.7.1->aiutil) (1.14.0)\n",
      "Requirement already satisfied: idna<4,>=2.5 in /usr/lib/python3/dist-packages (from requests<3.0.0,>=2.27.1->notifiers>=1.2.1->aiutil) (2.8)\n",
      "Requirement already satisfied: charset-normalizer~=2.0.0 in /usr/local/lib/python3.8/dist-packages (from requests<3.0.0,>=2.27.1->notifiers>=1.2.1->aiutil) (2.0.12)\n",
      "Requirement already satisfied: backports.zoneinfo in /usr/local/lib/python3.8/dist-packages (from tzlocal->dateparser>=0.7.1->aiutil) (0.2.1)\n",
      "Requirement already satisfied: pytz-deprecation-shim in /usr/local/lib/python3.8/dist-packages (from tzlocal->dateparser>=0.7.1->aiutil) (0.1.0.post0)\n",
      "Requirement already satisfied: zipp>=3.1.0 in /usr/local/lib/python3.8/dist-packages (from importlib-resources>=1.4.0->jsonschema<5.0.0,>=4.4.0->notifiers>=1.2.1->aiutil) (3.8.0)\n",
      "Requirement already satisfied: tzdata in /usr/local/lib/python3.8/dist-packages (from pytz-deprecation-shim->tzlocal->dateparser>=0.7.1->aiutil) (2022.1)\n",
      "Installing collected packages: click, aiutil\n",
      "  Attempting uninstall: click\n",
      "    Found existing installation: click 7.1.2\n",
      "    Uninstalling click-7.1.2:\n",
      "      Successfully uninstalled click-7.1.2\n",
      "\u001b[31mERROR: pip's dependency resolver does not currently take into account all the packages that are installed. This behaviour is the source of the following dependency conflicts.\n",
      "jut 0.0.24 requires click==7.1.2, but you have click 8.1.3 which is incompatible.\n",
      "jut 0.0.24 requires nbformat==5.1.2, but you have nbformat 5.4.0 which is incompatible.\u001b[0m\u001b[31m\n",
      "\u001b[0mSuccessfully installed aiutil-0.74.0 click-8.1.3\n",
      "\u001b[33mWARNING: You are using pip version 22.0.4; however, version 22.1 is available.\n",
      "You should consider upgrading via the '/usr/bin/python3 -m pip install --upgrade pip' command.\u001b[0m\u001b[33m\n",
      "\u001b[0m"
     ]
    }
   ],
   "source": [
    "!pip3 install aiutil"
   ]
  },
  {
   "cell_type": "code",
   "execution_count": 2,
   "metadata": {},
   "outputs": [],
   "source": [
    "from aiutil.pypi import dep"
   ]
  },
  {
   "cell_type": "code",
   "execution_count": 3,
   "metadata": {},
   "outputs": [
    {
     "data": {
      "text/plain": [
       "{'numpy (>=1.18.5) ; platform_machine != \"aarch64\" and platform_machine != \"arm64\" and python_version < \"3.10\"',\n",
       " 'numpy (>=1.19.2) ; platform_machine == \"aarch64\" and python_version < \"3.10\"',\n",
       " 'numpy (>=1.20.0) ; platform_machine == \"arm64\" and python_version < \"3.10\"',\n",
       " 'numpy (>=1.21.0) ; python_version >= \"3.10\"',\n",
       " 'python-dateutil (>=2.8.1)',\n",
       " 'pytz (>=2020.1)'}"
      ]
     },
     "execution_count": 3,
     "metadata": {},
     "output_type": "execute_result"
    }
   ],
   "source": [
    "dep(\"pandas\")"
   ]
  },
  {
   "cell_type": "code",
   "execution_count": 4,
   "metadata": {},
   "outputs": [
    {
     "data": {
      "text/plain": [
       "{'MarkupSafe',\n",
       " 'attrs',\n",
       " 'backports-functools-lru-cache',\n",
       " 'beautifulsoup4',\n",
       " 'bleach',\n",
       " 'defusedxml',\n",
       " 'entrypoints',\n",
       " 'fastjsonschema',\n",
       " 'importlib-metadata',\n",
       " 'importlib-resources',\n",
       " 'jinja2',\n",
       " 'jsonschema',\n",
       " 'jupyter-client',\n",
       " 'jupyter-core',\n",
       " 'jupyterlab-pygments',\n",
       " 'mistune',\n",
       " 'nbclient',\n",
       " 'nbformat',\n",
       " 'nest-asyncio',\n",
       " 'packaging',\n",
       " 'pandocfilters',\n",
       " 'pygments',\n",
       " 'pyparsing',\n",
       " 'pyrsistent',\n",
       " 'python-dateutil',\n",
       " 'pywin32',\n",
       " 'pyzmq',\n",
       " 'six',\n",
       " 'soupsieve',\n",
       " 'tinycss2',\n",
       " 'tornado',\n",
       " 'traitlets',\n",
       " 'typing-extensions',\n",
       " 'webencodings',\n",
       " 'zipp'}"
      ]
     },
     "execution_count": 4,
     "metadata": {},
     "output_type": "execute_result"
    }
   ],
   "source": [
    "dep(\"nbconvert\", recursive=True)"
   ]
  },
  {
   "cell_type": "code",
   "execution_count": 5,
   "metadata": {},
   "outputs": [
    {
     "data": {
      "text/plain": [
       "{'PyYAML (>=6.0)',\n",
       " 'docker (>=4.4.0)',\n",
       " 'loguru (>=0.6.0)',\n",
       " 'networkx (>=2.5)',\n",
       " 'pandas (>=1.2.0)',\n",
       " 'pygit2 (>=1.9.1)',\n",
       " 'pytest (>=3.0)',\n",
       " 'requests (>=2.20.0)'}"
      ]
     },
     "execution_count": 5,
     "metadata": {},
     "output_type": "execute_result"
    }
   ],
   "source": [
    "dep(\"dockeree\")"
   ]
  },
  {
   "cell_type": "code",
   "execution_count": 6,
   "metadata": {},
   "outputs": [
    {
     "data": {
      "text/plain": [
       "{'PyYAML',\n",
       " 'aiocontextvars',\n",
       " 'atomicwrites',\n",
       " 'attrs',\n",
       " 'cached-property',\n",
       " 'certifi',\n",
       " 'cffi',\n",
       " 'chardet',\n",
       " 'charset-normalizer',\n",
       " 'colorama',\n",
       " 'contextvars',\n",
       " 'docker',\n",
       " 'idna',\n",
       " 'importlib-metadata',\n",
       " 'iniconfig',\n",
       " 'loguru',\n",
       " 'networkx',\n",
       " 'numpy',\n",
       " 'packaging',\n",
       " 'pandas',\n",
       " 'pluggy',\n",
       " 'py',\n",
       " 'pycparser',\n",
       " 'pygit2',\n",
       " 'pyparsing',\n",
       " 'pytest',\n",
       " 'python-dateutil',\n",
       " 'pytz',\n",
       " 'pywin32',\n",
       " 'requests',\n",
       " 'six',\n",
       " 'tomli',\n",
       " 'typing-extensions',\n",
       " 'urllib3',\n",
       " 'websocket-client',\n",
       " 'win32-setctime',\n",
       " 'zipp'}"
      ]
     },
     "execution_count": 6,
     "metadata": {},
     "output_type": "execute_result"
    }
   ],
   "source": [
    "dep(\"dockeree\", recursive=True)"
   ]
  },
  {
   "cell_type": "markdown",
   "metadata": {},
   "source": [
    "## Other Python Depedency Tools\n",
    "\n",
    "https://github.com/naiquevin/pipdeptree\n",
    "\n",
    "https://github.com/jazzband/pip-tools\n",
    "\n",
    "https://stackoverflow.com/questions/21336323/show-reverse-dependencies-with-pip\n",
    "\n"
   ]
  },
  {
   "cell_type": "markdown",
   "metadata": {},
   "source": [
    "## References\n",
    "\n",
    "https://stackoverflow.com/questions/41816693/how-to-list-dependencies-for-a-python-library-without-installing"
   ]
  }
 ],
 "metadata": {
  "file_extension": ".py",
  "kernelspec": {
   "display_name": "Python 3 (ipykernel)",
   "language": "python",
   "name": "python3"
  },
  "language_info": {
   "codemirror_mode": {
    "name": "ipython",
    "version": 3
   },
   "file_extension": ".py",
   "mimetype": "text/x-python",
   "name": "python",
   "nbconvert_exporter": "python",
   "pygments_lexer": "ipython3",
   "version": "3.8.10"
  },
  "mimetype": "text/x-python",
  "name": "python",
  "npconvert_exporter": "python",
  "pygments_lexer": "ipython3",
  "version": 3
 },
 "nbformat": 4,
 "nbformat_minor": 4
}
