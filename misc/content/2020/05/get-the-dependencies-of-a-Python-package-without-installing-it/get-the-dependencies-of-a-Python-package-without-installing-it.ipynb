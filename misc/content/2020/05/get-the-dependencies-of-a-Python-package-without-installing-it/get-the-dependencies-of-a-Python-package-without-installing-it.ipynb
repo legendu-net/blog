{
 "cells": [
  {
   "cell_type": "markdown",
   "metadata": {},
   "source": [
    "- Date: 2020-05-24 00:23:26\n",
    "- Author: Ben Du- Date: 2020-05-31 16:38:43\n",
    "- Title: Get the Dependencies of a Python Package Without Installing It\n",
    "- Slug: get-the-dependencies-of-a-Python-package-without-installing-it\n",
    "- Category: Computer Science\n",
    "- Tags: Computer Science, Python, package, module, dependency\n",
    "- Modified: 2020-12-24 00:23:26\n"
   ]
  },
  {
   "cell_type": "markdown",
   "metadata": {},
   "source": [
    "After installing a Python package,\n",
    "you can use the command `pip3 show pkg` to check detailed information about it.\n",
    "What if you want to get information about a Python package without installing?\n",
    "The RESTAPI https://pypi.org/pypi/pkg/json returns detailed information of the Python package `pkg`.\n",
    "\n",
    "\n",
    "Note: The recursive version of dependencies implemented bellow does not take into consideration of versions,\n",
    "so it might not return the correct dependencies of a Python packages."
   ]
  },
  {
   "cell_type": "code",
   "execution_count": 3,
   "metadata": {},
   "outputs": [],
   "source": [
    "from typing import Set\n",
    "import re\n",
    "import requests"
   ]
  },
  {
   "cell_type": "code",
   "execution_count": 4,
   "metadata": {},
   "outputs": [],
   "source": [
    "def dep(pkg: str, recursive: bool = False):\n",
    "    if not recursive:\n",
    "        return _dep(pkg)\n",
    "    return dep_recur(pkg)\n",
    "\n",
    "\n",
    "def _dep(pkg):\n",
    "    url = f\"https://pypi.org/pypi/{pkg}/json\"\n",
    "    deps = requests.get(url).json()[\"info\"][\"requires_dist\"]\n",
    "    if deps is None:\n",
    "        return []\n",
    "    return [dep for dep in deps if \"extra ==\" not in dep]\n",
    "\n",
    "\n",
    "def _dep_recur(pkg: str, deps: Set[str]):\n",
    "    for dep in _dep(pkg):\n",
    "        dep = re.split(\" |;|\\(|\\[\", dep, maxsplit=1)[0]\n",
    "        if dep not in deps:\n",
    "            _dep_recur(dep, deps)\n",
    "            deps.add(dep)\n",
    "\n",
    "\n",
    "def dep_recur(pkg: str):\n",
    "    deps = set()\n",
    "    _dep_recur(pkg, deps)\n",
    "    return deps\n",
    "\n",
    "\n",
    "def _dep_recur_2(pkg: str, deps: Set[str]):\n",
    "    for dep in _dep(pkg):\n",
    "        dep = re.split(\";| |\\(|\\[\", dep, maxsplit=1)[0]\n",
    "        if dep not in deps:\n",
    "            _dep_recur_2(dep, deps)\n",
    "    deps.add(pkg)\n",
    "\n",
    "\n",
    "def dep_recur_2(pkg: str):\n",
    "    deps = set()\n",
    "    _dep_recur_2(pkg, deps)\n",
    "    return deps"
   ]
  },
  {
   "cell_type": "code",
   "execution_count": 5,
   "metadata": {},
   "outputs": [
    {
     "data": {
      "text/plain": [
       "['python-dateutil (>=2.7.3)', 'pytz (>=2017.3)', 'numpy (>=1.16.5)']"
      ]
     },
     "execution_count": 5,
     "metadata": {},
     "output_type": "execute_result"
    }
   ],
   "source": [
    "dep(\"pandas\")"
   ]
  },
  {
   "cell_type": "code",
   "execution_count": 9,
   "metadata": {},
   "outputs": [
    {
     "data": {
      "text/plain": [
       "{'MarkupSafe',\n",
       " 'async-generator',\n",
       " 'attrs',\n",
       " 'bleach',\n",
       " 'configparser',\n",
       " 'defusedxml',\n",
       " 'entrypoints',\n",
       " 'functools32',\n",
       " 'importlib-metadata',\n",
       " 'ipython-genutils',\n",
       " 'jinja2',\n",
       " 'jsonschema',\n",
       " 'jupyter-client',\n",
       " 'jupyter-core',\n",
       " 'jupyterlab-pygments',\n",
       " 'mistune',\n",
       " 'nbclient',\n",
       " 'nbformat',\n",
       " 'nest-asyncio',\n",
       " 'packaging',\n",
       " 'pandocfilters',\n",
       " 'pygments',\n",
       " 'pyparsing',\n",
       " 'pyrsistent',\n",
       " 'python-dateutil',\n",
       " 'pywin32',\n",
       " 'pyzmq',\n",
       " 'setuptools',\n",
       " 'six',\n",
       " 'testpath',\n",
       " 'tornado',\n",
       " 'traitlets',\n",
       " 'typing',\n",
       " 'typing-extensions',\n",
       " 'webencodings',\n",
       " 'zipp'}"
      ]
     },
     "execution_count": 9,
     "metadata": {},
     "output_type": "execute_result"
    }
   ],
   "source": [
    "dep(\"nbconvert\", recursive=True)"
   ]
  },
  {
   "cell_type": "markdown",
   "metadata": {},
   "source": [
    "The difference between `dep_recur` and `dep_recur_2` is that\n",
    "`dep_recur` does not include the root package into the final result \n",
    "whilel `dep_recur_2` does include the root package into the final result."
   ]
  },
  {
   "cell_type": "code",
   "execution_count": 6,
   "metadata": {},
   "outputs": [
    {
     "data": {
      "text/plain": [
       "{'numpy', 'python-dateutil', 'pytz', 'six'}"
      ]
     },
     "execution_count": 6,
     "metadata": {},
     "output_type": "execute_result"
    }
   ],
   "source": [
    "dep_recur(\"pandas\")"
   ]
  },
  {
   "cell_type": "code",
   "execution_count": 11,
   "metadata": {},
   "outputs": [
    {
     "data": {
      "text/plain": [
       "{'numpy', 'pandas', 'python-dateutil', 'pytz', 'six'}"
      ]
     },
     "execution_count": 11,
     "metadata": {},
     "output_type": "execute_result"
    }
   ],
   "source": [
    "dep_recur_2(\"pandas\")"
   ]
  },
  {
   "cell_type": "markdown",
   "metadata": {},
   "source": [
    "## Other Python Depedency Tools\n",
    "\n",
    "https://github.com/naiquevin/pipdeptree\n",
    "\n",
    "https://github.com/jazzband/pip-tools\n",
    "\n",
    "https://stackoverflow.com/questions/21336323/show-reverse-dependencies-with-pip\n",
    "\n"
   ]
  },
  {
   "cell_type": "markdown",
   "metadata": {},
   "source": [
    "## References\n",
    "\n",
    "https://stackoverflow.com/questions/41816693/how-to-list-dependencies-for-a-python-library-without-installing"
   ]
  }
 ],
 "metadata": {
  "file_extension": ".py",
  "kernelspec": {
   "display_name": "Python 3",
   "language": "python",
   "name": "python3"
  },
  "language_info": {
   "codemirror_mode": {
    "name": "ipython",
    "version": 3
   },
   "file_extension": ".py",
   "mimetype": "text/x-python",
   "name": "python",
   "nbconvert_exporter": "python",
   "pygments_lexer": "ipython3",
   "version": "3.8.6-final"
  },
  "mimetype": "text/x-python",
  "name": "python",
  "npconvert_exporter": "python",
  "pygments_lexer": "ipython3",
  "version": 3
 },
 "nbformat": 4,
 "nbformat_minor": 4
}