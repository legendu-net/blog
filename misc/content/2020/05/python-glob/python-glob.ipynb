{
 "cells": [
  {
   "cell_type": "markdown",
   "metadata": {},
   "source": [
    "- Title: Hands on the Python module glob\n",
    "- Slug: hands-on-the-python-model-glob\n",
    "- Date: 2020-05-10 10:00:59\n",
    "- Category: Computer Science\n",
    "- Tags: programming, Python, glob, file system\n",
    "- Author: Ben Du\n",
    "- Modified: 2020-05-10 10:00:59\n"
   ]
  },
  {
   "cell_type": "markdown",
   "metadata": {},
   "source": [
    "## Comment\n",
    "\n",
    "1. [pathlib.Path.glob](http://www.legendu.net/misc/blog/hands-on-pathlib.path/#Path.glob) is preferred to the `glob` module!!\n",
    "\n",
    "1. The list returned is not sorted.\n",
    "\n"
   ]
  },
  {
   "cell_type": "code",
   "execution_count": 2,
   "metadata": {},
   "outputs": [],
   "source": [
    "import glob"
   ]
  },
  {
   "cell_type": "code",
   "execution_count": 9,
   "metadata": {},
   "outputs": [
    {
     "output_type": "execute_result",
     "data": {
      "text/plain": "['2019-10-13-git-shell-on-windows.markdown',\n '2012-10-22-containers-in-java.markdown',\n '2019-10-01-tips-on-pyspark.markdown',\n '2020-03-03-common-issues-in-pytorch.markdown',\n '2014-09-14-some-terminologies-in-aml.markdown']"
     },
     "metadata": {},
     "execution_count": 9
    }
   ],
   "source": [
    "files = glob.glob('*.markdown')\n",
    "files[:5]"
   ]
  },
  {
   "cell_type": "code",
   "execution_count": 11,
   "metadata": {},
   "outputs": [
    {
     "output_type": "execute_result",
     "data": {
      "text/plain": "['2010-11-20-general-tips-for-latex.markdown',\n '2012-05-17-java-difference-abstract-interface.markdown',\n '2012-06-05-free-online-tools-for-developers.markdown',\n '2012-06-08-softwares-windows.markdown',\n '2012-06-10-operators-popular-language.markdown']"
     },
     "metadata": {},
     "execution_count": 11
    }
   ],
   "source": [
    "sorted(files)[:5]"
   ]
  },
  {
   "cell_type": "code",
   "execution_count": 12,
   "metadata": {},
   "outputs": [
    {
     "output_type": "execute_result",
     "data": {
      "text/plain": "['2019-02-17-popular-data-structures-in-python.markdown',\n '2020-02-25-popular-and-useful-modules-and-functions-in-pytorch.markdown',\n '2012-06-10-operators-popular-language.markdown']"
     },
     "metadata": {},
     "execution_count": 12
    }
   ],
   "source": [
    "glob.glob('*pop*')"
   ]
  },
  {
   "cell_type": "code",
   "execution_count": null,
   "metadata": {},
   "outputs": [],
   "source": []
  }
 ],
 "metadata": {
  "kernelspec": {
   "display_name": "Python 3.7.6 64-bit",
   "language": "python",
   "name": "python37664bite5e01d20666b4ea39b669a865bfedc91"
  },
  "language_info": {
   "codemirror_mode": {
    "name": "ipython",
    "version": 3
   },
   "file_extension": ".py",
   "mimetype": "text/x-python",
   "name": "python",
   "nbconvert_exporter": "python",
   "pygments_lexer": "ipython3",
   "version": "2.7.16-final"
  }
 },
 "nbformat": 4,
 "nbformat_minor": 4
}