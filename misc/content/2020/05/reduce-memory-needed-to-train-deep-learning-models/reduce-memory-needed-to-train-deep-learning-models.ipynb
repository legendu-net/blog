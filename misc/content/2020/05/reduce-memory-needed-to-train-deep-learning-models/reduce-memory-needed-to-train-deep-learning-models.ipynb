{
 "cells": [
  {
   "cell_type": "markdown",
   "metadata": {},
   "source": [
    "- Author: Ben Du\n",
    "- Date: 2020-05-03 21:33:30\n",
    "- Title: Reduce Memory Needed to Train Deep Learning Models\n",
    "- Slug: reduce-memory-needed-to-train-deep-learning-models\n",
    "- Category: Computer Science\n",
    "- Tags: Computer Science, deep learning, AI, machine learning, data science, checkmate, memory\n",
    "- Modified: 2020-05-03 21:33:30\n"
   ]
  },
  {
   "cell_type": "markdown",
   "metadata": {},
   "source": [
    "## [checkmate](https://github.com/parasj/checkmate)\n",
    "breaks the GPU memory wall by enabling researchers \n",
    "to train large state-of-the-art models that do not fit in GPU memory. \n",
    "Checkmate applies optimal tensor rematerialization \n",
    "(as detailed in the [paper](https://arxiv.org/abs/1910.02653)) to trade off space and time."
   ]
  },
  {
   "cell_type": "code",
   "execution_count": null,
   "metadata": {},
   "outputs": [],
   "source": []
  }
 ],
 "metadata": {
  "language_info": {
   "name": "python",
   "codemirror_mode": {
    "name": "ipython",
    "version": 3
   }
  },
  "orig_nbformat": 2,
  "file_extension": ".py",
  "mimetype": "text/x-python",
  "name": "python",
  "npconvert_exporter": "python",
  "pygments_lexer": "ipython3",
  "version": 3
 },
 "nbformat": 4,
 "nbformat_minor": 2
}