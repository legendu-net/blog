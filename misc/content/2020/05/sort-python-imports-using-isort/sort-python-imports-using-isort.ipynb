{
 "cells": [
  {
   "cell_type": "markdown",
   "metadata": {},
   "source": [
    "- Author: Ben Du\n",
    "- Date: 2020-05-16 12:09:15\n",
    "- Title: Sort Python Imports Using isort\n",
    "- Slug: sort-python-imports-using-isort\n",
    "- Category: Computer Science\n",
    "- Tags: Computer Science, isort, Python, imports, linter, VS Code, Visual Studio Code\n",
    "- Modified: 2020-07-16 12:09:15\n"
   ]
  },
  {
   "cell_type": "markdown",
   "metadata": {},
   "source": [
    "## Installation\n",
    "\n",
    "`isort` can be installed with the following command.\n",
    "\n",
    "    pip3 install isort"
   ]
  },
  {
   "cell_type": "markdown",
   "metadata": {},
   "source": [
    "## Configuration\n",
    "\n",
    "There are 2 recommened ways to configure `isort`.\n",
    "The first recommended way is to place a file named `.isort.cfg` \n",
    "at the root of your project.\n",
    "For example,\n",
    "\n",
    "    [settings]\n",
    "    line_length=120\n",
    "    force_to_top=file1.py,file2.py\n",
    "    skip=file3.py,file4.py\n",
    "    known_future_library=future,pies\n",
    "    known_standard_library=std,std2\n",
    "    known_third_party=randomthirdparty\n",
    "    known_first_party=mylib1,mylib2\n",
    "    indent='    '\n",
    "    multi_line_output=3\n",
    "    length_sort=1\n",
    "    forced_separate=django.contrib,django.utils\n",
    "    default_section=FIRSTPARTY\n",
    "    no_lines_before=LOCALFOLDER\n",
    "\n",
    "The second way is to add your desired settings under a [tool.isort] section in the `pyproject.toml` file\n",
    "under the root of your project.\n",
    "\n",
    "    [tool.isort]\n",
    "    line_length=120\n",
    "    force_to_top=file1.py,file2.py\n",
    "    skip=file3.py,file4.py\n",
    "    known_future_library=future,pies\n",
    "    known_standard_library=std,std2\n",
    "    known_third_party=randomthirdparty\n",
    "    known_first_party=mylib1,mylib2\n",
    "    indent='    '\n",
    "    multi_line_output=3\n",
    "    length_sort=1\n",
    "    forced_separate=django.contrib,django.utils\n",
    "    default_section=FIRSTPARTY\n",
    "    no_lines_before=LOCALFOLDER"
   ]
  },
  {
   "cell_type": "markdown",
   "execution_count": null,
   "metadata": {},
   "outputs": [],
   "source": [
    "## Force Sorting Within Sections \n",
    "```\n",
    "force_sort_within_sections=True\n",
    "```\n"
   ]
  },
  {
   "cell_type": "markdown",
   "metadata": {},
   "source": [
    "## Skip Processing of Imports\n",
    "\n",
    "Please refer to\n",
    "[Skip Processing of Imports (outside of configuration)](https://timothycrosley.github.io/isort/#skip-processing-of-imports-outside-of-configuration)\n",
    "for details."
   ]
  },
  {
   "cell_type": "markdown",
   "metadata": {},
   "source": [
    "## IDE Support\n",
    "\n",
    "`isort` is integrated into the \n",
    "[Python Plugin for Visual Studio Code](https://marketplace.visualstudio.com/items?itemName=ms-python.python)."
   ]
  },
  {
   "cell_type": "markdown",
   "metadata": {},
   "source": [
    "## References\n",
    "\n",
    "[isort @ GitHub](https://github.com/timothycrosley/isort)\n",
    "\n",
    "[isort Documentation](https://timothycrosley.github.io/isort/)"
   ]
  },
  {
   "cell_type": "code",
   "execution_count": null,
   "metadata": {},
   "outputs": [],
   "source": []
  }
 ],
 "metadata": {
  "language_info": {
   "name": "python",
   "codemirror_mode": {
    "name": "ipython",
    "version": 3
   }
  },
  "orig_nbformat": 2,
  "file_extension": ".py",
  "mimetype": "text/x-python",
  "name": "python",
  "npconvert_exporter": "python",
  "pygments_lexer": "ipython3",
  "version": 3
 },
 "nbformat": 4,
 "nbformat_minor": 2
}