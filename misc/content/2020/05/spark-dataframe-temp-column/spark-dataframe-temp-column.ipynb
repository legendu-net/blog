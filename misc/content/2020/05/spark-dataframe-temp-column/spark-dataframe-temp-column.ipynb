{
 "cells": [
  {
   "cell_type": "markdown",
   "metadata": {},
   "source": [
    "- Title: Using Temporary Columns in Spark\n",
    "- Slug: spark-dataframe-temp-column\n",
    "- Date: 2020-05-21\n",
    "- Category: Computer Science\n",
    "- Tags: programming, Scala, Spark, DataFrame, PySpark, temporary, column\n",
    "- Author: Ben Du\n",
    "- Modified: 2020-05-21\n"
   ]
  },
  {
   "cell_type": "code",
   "execution_count": 2,
   "metadata": {},
   "outputs": [
    {
     "data": {
      "text/plain": [
       "org.apache.spark.sql.SparkSession@74a7255c"
      ]
     },
     "execution_count": 2,
     "metadata": {},
     "output_type": "execute_result"
    }
   ],
   "source": [
    "import org.apache.spark.sql.SparkSession\n",
    "\n",
    "val spark = SparkSession.builder().master(\"local[2]\")\n",
    "    .appName(\"Nested\")\n",
    "    .getOrCreate()\n",
    "spark"
   ]
  },
  {
   "cell_type": "code",
   "execution_count": 8,
   "metadata": {},
   "outputs": [
    {
     "data": {
      "text/plain": [
       "org.apache.spark.sql.SparkSession$implicits$@1cdc4527"
      ]
     },
     "execution_count": 8,
     "metadata": {},
     "output_type": "execute_result"
    }
   ],
   "source": [
    "import spark.implicits._\n",
    "import org.apache.spark.sql.functions._"
   ]
  },
  {
   "cell_type": "code",
   "execution_count": 6,
   "metadata": {},
   "outputs": [
    {
     "name": "stdout",
     "output_type": "stream",
     "text": [
      "+------+-----+\n",
      "|number|words|\n",
      "+------+-----+\n",
      "|     8|  bat|\n",
      "|    64|mouse|\n",
      "|   -27|horse|\n",
      "+------+-----+\n",
      "\n"
     ]
    },
    {
     "data": {
      "text/plain": [
       "null"
      ]
     },
     "execution_count": 6,
     "metadata": {},
     "output_type": "execute_result"
    }
   ],
   "source": [
    "val df = Seq(\n",
    "  (8, \"bat\"),\n",
    "  (64, \"mouse\"),\n",
    "  (-27, \"horse\")\n",
    ").toDF(\"number\", \"words\")\n",
    "df.show"
   ]
  },
  {
   "cell_type": "code",
   "execution_count": 9,
   "metadata": {},
   "outputs": [
    {
     "name": "stdout",
     "output_type": "stream",
     "text": [
      "+------+-----+----+\n",
      "|number|words|  n2|\n",
      "+------+-----+----+\n",
      "|     8|  bat| 2.0|\n",
      "|    64|mouse|16.0|\n",
      "|   -27|horse| 0.0|\n",
      "+------+-----+----+\n",
      "\n"
     ]
    }
   ],
   "source": [
    "df.withColumn(\"n2\", {\n",
    "    val tempCol = df(\"number\") / 4\n",
    "    when(tempCol > 0, tempCol).otherwise(0)\n",
    "}).show"
   ]
  },
  {
   "cell_type": "code",
   "execution_count": 10,
   "metadata": {},
   "outputs": [
    {
     "name": "stdout",
     "output_type": "stream",
     "text": [
      "+------+-----+----+\n",
      "|number|words|  n2|\n",
      "+------+-----+----+\n",
      "|     8|  bat| 2.0|\n",
      "|    64|mouse|16.0|\n",
      "|   -27|horse| 0.0|\n",
      "+------+-----+----+\n",
      "\n"
     ]
    }
   ],
   "source": [
    "df.withColumn(\"n2\", {\n",
    "    val tempCol = $\"number\" / 4\n",
    "    when(tempCol > 0, tempCol).otherwise(0)\n",
    "}).show"
   ]
  },
  {
   "cell_type": "code",
   "execution_count": 11,
   "metadata": {},
   "outputs": [
    {
     "name": "stdout",
     "output_type": "stream",
     "text": [
      "+------+-----+----+---+\n",
      "|number|words|  n2| n3|\n",
      "+------+-----+----+---+\n",
      "|     8|  bat| 2.0|2.0|\n",
      "|    64|mouse|16.0|8.0|\n",
      "|   -27|horse| 0.0|1.0|\n",
      "+------+-----+----+---+\n",
      "\n"
     ]
    }
   ],
   "source": [
    "df.withColumn(\"n2\", {\n",
    "    val tempCol = $\"number\" / 4\n",
    "    when(tempCol > 0, tempCol).otherwise(0)\n",
    "}).withColumn(\"n3\", {\n",
    "    val tempCol = $\"n2\" / 2\n",
    "    when(tempCol < 2, tempCol + 1).otherwise(tempCol)\n",
    "}).show"
   ]
  },
  {
   "cell_type": "code",
   "execution_count": null,
   "metadata": {},
   "outputs": [],
   "source": []
  }
 ],
 "metadata": {
  "kernelspec": {
   "display_name": "Python 3",
   "language": "python",
   "name": "python3"
  },
  "language_info": {
   "codemirror_mode": {
    "name": "ipython",
    "version": 3
   },
   "file_extension": ".py",
   "mimetype": "text/x-python",
   "name": "python",
   "nbconvert_exporter": "python",
   "pygments_lexer": "ipython3",
   "version": "3.8.5"
  }
 },
 "nbformat": 4,
 "nbformat_minor": 4
}