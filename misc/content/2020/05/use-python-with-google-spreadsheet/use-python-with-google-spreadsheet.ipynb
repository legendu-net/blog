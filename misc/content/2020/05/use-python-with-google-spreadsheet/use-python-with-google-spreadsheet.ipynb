{
 "nbformat": 4,
 "nbformat_minor": 2,
 "metadata": {
  "language_info": {
   "name": "python",
   "codemirror_mode": {
    "name": "ipython",
    "version": 3
   },
   "version": "3.7.5"
  },
  "orig_nbformat": 2,
  "file_extension": ".py",
  "mimetype": "text/x-python",
  "name": "python",
  "npconvert_exporter": "python",
  "pygments_lexer": "ipython3",
  "version": 3
 },
 "cells": [
  {
   "cell_type": "markdown",
   "execution_count": null,
   "metadata": {},
   "outputs": [],
   "source": [
    "- Author: Ben Du\n",
    "- Date: 2020-05-23 22:34:54\n",
    "- Title: Use Python With Google Spreadsheet\n",
    "- Slug: use-python-with-google-spreadsheet\n",
    "- Category: Computer Science\n",
    "- Tags: Computer Science, Google, spreadsheet, Python, API\n",
    "- Modified: 2020-05-23 22:34:54\n"
   ]
  },
  {
   "source": [
    "# References\n",
    "\n",
    "[gspread](https://github.com/burnash/gspread)\n",
    "\n",
    "[Google Spreadsheet API v4 Python Quickstart](https://developers.google.com/sheets/api/quickstart/python)\n",
    "\n",
    "[Accessing Google Spreadsheet Data using Python](https://towardsdatascience.com/accessing-google-spreadsheet-data-using-python-90a5bc214fd2)\n",
    "\n",
    "[Google Spreadsheet and Python](https://www.twilio.com/blog/2017/02/an-easy-way-to-read-and-write-to-a-google-spreadsheet-in-python.html)"
   ],
   "cell_type": "markdown",
   "outputs": [
    {
     "output_type": "error",
     "ename": "SyntaxError",
     "evalue": "invalid syntax (<ipython-input-2-bf257c3c6db7>, line 3)",
     "traceback": [
      "\u001b[0;36m  File \u001b[0;32m\"<ipython-input-2-bf257c3c6db7>\"\u001b[0;36m, line \u001b[0;32m3\u001b[0m\n\u001b[0;31m    [gspread](https://github.com/burnash/gspread)\u001b[0m\n\u001b[0m                   ^\u001b[0m\n\u001b[0;31mSyntaxError\u001b[0m\u001b[0;31m:\u001b[0m invalid syntax\n"
     ]
    }
   ],
   "metadata": {},
   "execution_count": 2
  },
  {
   "cell_type": "code",
   "execution_count": null,
   "metadata": {},
   "outputs": [],
   "source": []
  }
 ]
}