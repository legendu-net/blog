{
 "nbformat": 4,
 "nbformat_minor": 2,
 "metadata": {
  "language_info": {
   "name": "python",
   "codemirror_mode": {
    "name": "ipython",
    "version": 3
   }
  },
  "orig_nbformat": 2,
  "file_extension": ".py",
  "mimetype": "text/x-python",
  "name": "python",
  "npconvert_exporter": "python",
  "pygments_lexer": "ipython3",
  "version": 3
 },
 "cells": [
  {
   "cell_type": "markdown",
   "execution_count": null,
   "metadata": {},
   "outputs": [],
   "source": [
    "- Author: Ben Du",
    "- Date: 2020-06-13 10:04:54\n",
    "- Title: Dunder/Magic Methods in Python\n",
    "- Slug: dunder-magic-methods-in-python\n",
    "- Category: Computer Science\n",
    "- Tags: Computer Science\n",
    "- Modified: 2020-06-13 10:04:54\n"
   ]
  },
  {
   "cell_type": "markdown",
   "execution_count": null,
   "metadata": {},
   "outputs": [],
   "source": [
    "## `__call__` (Object Invocation)\n",
    "\n",
    "We can make any object callable like a regular function by adding the __call__ dunder method. \n",
    "Let\u2019s consider the below toy(not very meaningful) example just to showcase the __call__ method.\n"
   ]
  },
  {
   "cell_type": "code",
   "execution_count": null,
   "metadata": {},
   "outputs": [],
   "source": []
  },
  {
   "cell_type": "code",
   "execution_count": null,
   "metadata": {},
   "outputs": [],
   "source": []
  },
  {
   "cell_type": "code",
   "execution_count": null,
   "metadata": {},
   "outputs": [],
   "source": []
  },
  {
   "cell_type": "code",
   "execution_count": null,
   "metadata": {},
   "outputs": [],
   "source": []
  },
  {
   "cell_type": "markdown",
   "execution_count": null,
   "metadata": {},
   "outputs": [],
   "source": [
    "## Referneces\n",
    "\n",
    "[Python - Magic Methods](https://www.tutorialsteacher.com/python/magic-methods-in-python)\n",
    "\n",
    "[Python Magic Methods Explained](https://medium.com/python-features/magic-methods-demystified-3c9e93144bf7)\n",
    "\n",
    "[What is the difference between __init__ and __call__?](https://stackoverflow.com/questions/9663562/what-is-the-difference-between-init-and-call)"
   ]
  },
  {
   "cell_type": "code",
   "execution_count": null,
   "metadata": {},
   "outputs": [],
   "source": []
  }
 ]
}