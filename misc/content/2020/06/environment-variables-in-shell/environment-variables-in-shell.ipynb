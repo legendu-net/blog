{
 "nbformat": 4,
 "nbformat_minor": 2,
 "metadata": {
  "language_info": {
   "name": "python",
   "codemirror_mode": {
    "name": "ipython",
    "version": 3
   }
  },
  "orig_nbformat": 2,
  "file_extension": ".py",
  "mimetype": "text/x-python",
  "name": "python",
  "npconvert_exporter": "python",
  "pygments_lexer": "ipython3",
  "version": 3
 },
 "cells": [
  {
   "cell_type": "markdown",
   "execution_count": null,
   "metadata": {},
   "outputs": [],
   "source": [
    "- Author: Ben Du\n",
    "- Date: 2020-06-24 13:31:52\n",
    "- Title: Environment Variables in Shell\n",
    "- Slug: environment-variables-in-shell\n",
    "- Category: Computer Science\n",
    "- Tags: Computer Science, shell, bash, environment variable, export, unset\n",
    "- Modified: 2020-06-24 13:31:52\n"
   ]
  },
  {
   "cell_type": "markdown",
   "execution_count": null,
   "metadata": {},
   "outputs": [],
   "source": [
    "## export\n",
    "\n",
    "A new child process forked from a parent process does not inherit parent's variables by default.\n",
    "The export command marks an environment variable to be exported with any newly forked child processes \n",
    "and thus it allows a child process to inherit all marked variables. \n"
   ]
  },
  {
   "cell_type": "markdown",
   "execution_count": null,
   "metadata": {},
   "outputs": [],
   "source": [
    "## unset"
   ]
  },
  {
   "cell_type": "markdown",
   "execution_count": null,
   "metadata": {},
   "outputs": [],
   "source": [
    "## References\n",
    "\n",
    "https://stackoverflow.com/questions/6877727/how-do-i-delete-an-exported-environment-variable"
   ]
  },
  {
   "cell_type": "code",
   "execution_count": null,
   "metadata": {},
   "outputs": [],
   "source": []
  }
 ]
}