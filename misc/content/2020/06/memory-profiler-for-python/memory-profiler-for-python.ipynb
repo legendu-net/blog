{
 "nbformat": 4,
 "nbformat_minor": 2,
 "metadata": {
  "language_info": {
   "name": "python",
   "codemirror_mode": {
    "name": "ipython",
    "version": 3
   }
  },
  "orig_nbformat": 2,
  "file_extension": ".py",
  "mimetype": "text/x-python",
  "name": "python",
  "npconvert_exporter": "python",
  "pygments_lexer": "ipython3",
  "version": 3
 },
 "cells": [
  {
   "cell_type": "markdown",
   "metadata": {},
   "source": [
    "- Author: Ben Du\n",
    "- Date: 2020-06-09 10:00:34\n",
    "- Title: Memory Profiler for Python\n",
    "- Slug: memory-profiler-for-python\n",
    "- Category: Computer Science\n",
    "- Tags: Computer Science, Python, memory, profile, fil, profiler\n",
    "- Modified: 2021-04-09 10:00:34\n"
   ]
  },
  {
   "cell_type": "code",
   "execution_count": null,
   "metadata": {},
   "outputs": [],
   "source": []
  },
  {
   "cell_type": "markdown",
   "metadata": {},
   "source": [
    "## [scalene](https://github.com/plasma-umass/scalene)\n",
    "\n",
    "Scalene: a high-performance, high-precision CPU, GPU, and memory profiler for Python\n",
    "\n",
    "\n",
    "## [fil](https://gitlab.com/pythonspeed/filprofiler)"
   ]
  },
  {
   "cell_type": "code",
   "execution_count": null,
   "metadata": {},
   "outputs": [],
   "source": []
  },
  {
   "cell_type": "markdown",
   "metadata": {},
   "source": [
    "## References"
   ]
  },
  {
   "cell_type": "code",
   "execution_count": null,
   "metadata": {},
   "outputs": [],
   "source": []
  }
 ]
}