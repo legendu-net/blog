{
 "nbformat": 4,
 "nbformat_minor": 2,
 "metadata": {
  "language_info": {
   "name": "python",
   "codemirror_mode": {
    "name": "ipython",
    "version": 3
   }
  },
  "orig_nbformat": 2,
  "file_extension": ".py",
  "mimetype": "text/x-python",
  "name": "python",
  "npconvert_exporter": "python",
  "pygments_lexer": "ipython3",
  "version": 3
 },
 "cells": [
  {
   "cell_type": "markdown",
   "execution_count": null,
   "metadata": {},
   "outputs": [],
   "source": [
    "- Author: Ben Du\n",
    "- Date: 2020-06-16 15:24:04\n",
    "- Title: Parse Arguments in Bash\n",
    "- Slug: parse-arguments-in-bash\n",
    "- Category: Computer Science\n",
    "- Tags: Computer Science, shell, bash, parse, argument, parameter\n",
    "- Modified: 2020-06-16 15:24:04\n"
   ]
  },
  {
   "cell_type": "code",
   "execution_count": null,
   "metadata": {},
   "outputs": [],
   "source": [
    "#!/bin/bash\n",
    "\n",
    "POSITIONAL=()\n",
    "while [[ $# -gt 0 ]]\n",
    "do\n",
    "key=\"$1\"\n",
    "\n",
    "case $key in\n",
    "    -e|--extension)\n",
    "    EXTENSION=\"$2\"\n",
    "    shift # past argument\n",
    "    shift # past value\n",
    "    ;;\n",
    "    -s|--searchpath)\n",
    "    SEARCHPATH=\"$2\"\n",
    "    shift # past argument\n",
    "    shift # past value\n",
    "    ;;\n",
    "    -l|--lib)\n",
    "    LIBPATH=\"$2\"\n",
    "    shift # past argument\n",
    "    shift # past value\n",
    "    ;;\n",
    "    --default)\n",
    "    DEFAULT=YES\n",
    "    shift # past argument\n",
    "    ;;\n",
    "    *)    # unknown option\n",
    "    POSITIONAL+=(\"$1\") # save it in an array for later\n",
    "    shift # past argument\n",
    "    ;;\n",
    "esac\n",
    "done\n",
    "set -- \"${POSITIONAL[@]}\" # restore positional parameters"
   ]
  },
  {
   "cell_type": "markdown",
   "execution_count": null,
   "metadata": {},
   "outputs": [],
   "source": [
    "## References\n",
    "\n",
    "https://stackoverflow.com/questions/192249/how-do-i-parse-command-line-arguments-in-bash\n",
    "\n",
    "https://medium.com/@Drew_Stokes/bash-argument-parsing-54f3b81a6a8f"
   ]
  },
  {
   "cell_type": "code",
   "execution_count": null,
   "metadata": {},
   "outputs": [],
   "source": []
  }
 ]
}