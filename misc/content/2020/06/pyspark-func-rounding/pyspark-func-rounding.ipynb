{
 "cells": [
  {
   "cell_type": "markdown",
   "source": [
    "- Author: Ben Du\n",
    "- Date: 2020-06-17\n",
    "- Title: Rounding Functions in Spark\n",
    "- Slug: pyspark-func-rounding\n",
    "- Category: Computer Science\n",
    "- Tags: programming, Scala, Spark, DataFrame, rounding, round, Spark SQL, functions\n",
    "- Modified: 2021-09-30 17:35:09\n"
   ],
   "metadata": {}
  },
  {
   "cell_type": "code",
   "execution_count": 1,
   "source": [
    "%%classpath add mvn\n",
    "org.apache.spark spark-core_2.11 2.3.1\n",
    "org.apache.spark spark-sql_2.11 2.3.1"
   ],
   "outputs": [
    {
     "output_type": "display_data",
     "data": {
      "application/vnd.code.notebook.error": {
       "name": "Error",
       "message": "INVALID mime type, must not be empty or falsy: method",
       "stack": "Error: INVALID mime type, must not be empty or falsy: method\n    at new Ne (/ide/out/vs/workbench/services/extensions/node/extensionHostProcess.js:78:55540)\n    at Function.text (/ide/out/vs/workbench/services/extensions/node/extensionHostProcess.js:78:56159)\n    at i (/ide/extensions/ipynb/dist/ipynbMain.js:1:139019)\n    at b (/ide/extensions/ipynb/dist/ipynbMain.js:1:143604)\n    at _ (/ide/extensions/ipynb/dist/ipynbMain.js:1:143900)\n    at Array.map (<anonymous>)\n    at /ide/extensions/ipynb/dist/ipynbMain.js:1:145052\n    at /ide/extensions/ipynb/dist/ipynbMain.js:1:145294\n    at /ide/extensions/ipynb/dist/ipynbMain.js:1:145301\n    at Array.map (<anonymous>)\n    at e.jupyterNotebookModelToNotebookData (/ide/extensions/ipynb/dist/ipynbMain.js:1:144610)\n    at e.NotebookSerializer.deserializeNotebook (/ide/extensions/ipynb/dist/ipynbMain.js:1:146537)\n    at _.$dataToNotebook (/ide/out/vs/workbench/services/extensions/node/extensionHostProcess.js:85:211988)\n    at h._doInvokeHandler (/ide/out/vs/workbench/services/extensions/node/extensionHostProcess.js:89:12819)\n    at h._invokeHandler (/ide/out/vs/workbench/services/extensions/node/extensionHostProcess.js:89:12503)\n    at h._receiveRequest (/ide/out/vs/workbench/services/extensions/node/extensionHostProcess.js:89:11107)\n    at h._receiveOneMessage (/ide/out/vs/workbench/services/extensions/node/extensionHostProcess.js:89:10142)\n    at /ide/out/vs/workbench/services/extensions/node/extensionHostProcess.js:89:8039\n    at d.fire (/ide/out/vs/workbench/services/extensions/node/extensionHostProcess.js:57:1712)\n    at c.fire (/ide/out/vs/workbench/services/extensions/node/extensionHostProcess.js:65:15825)\n    at /ide/out/vs/workbench/services/extensions/node/extensionHostProcess.js:104:30060\n    at d.fire (/ide/out/vs/workbench/services/extensions/node/extensionHostProcess.js:57:1712)\n    at c.fire (/ide/out/vs/workbench/services/extensions/node/extensionHostProcess.js:65:15825)\n    at r._receiveMessage (/ide/out/vs/workbench/services/extensions/node/extensionHostProcess.js:65:21091)\n    at /ide/out/vs/workbench/services/extensions/node/extensionHostProcess.js:65:17969\n    at d.fire (/ide/out/vs/workbench/services/extensions/node/extensionHostProcess.js:57:1712)\n    at v.acceptChunk (/ide/out/vs/workbench/services/extensions/node/extensionHostProcess.js:65:13186)\n    at /ide/out/vs/workbench/services/extensions/node/extensionHostProcess.js:65:12534\n    at d.fire (/ide/out/vs/workbench/services/extensions/node/extensionHostProcess.js:57:1712)\n    at /ide/out/vs/workbench/services/extensions/node/extensionHostProcess.js:104:19145\n    at afterWrite (internal/streams/writable.js:466:5)\n    at onwrite (internal/streams/writable.js:446:7)\n    at InflateRaw.afterTransform (internal/streams/transform.js:103:3)\n    at Zlib.processCallback (zlib.js:608:8)"
      },
      "application/vnd.jupyter.widget-view+json": {
       "model_id": "",
       "version_major": 2,
       "version_minor": 0
      }
     },
     "metadata": {}
    },
    {
     "output_type": "display_data",
     "data": {
      "application/vnd.code.notebook.error": {
       "name": "Error",
       "message": "INVALID mime type, must not be empty or falsy: method",
       "stack": "Error: INVALID mime type, must not be empty or falsy: method\n    at new Ne (/ide/out/vs/workbench/services/extensions/node/extensionHostProcess.js:78:55540)\n    at Function.text (/ide/out/vs/workbench/services/extensions/node/extensionHostProcess.js:78:56159)\n    at i (/ide/extensions/ipynb/dist/ipynbMain.js:1:139019)\n    at b (/ide/extensions/ipynb/dist/ipynbMain.js:1:143604)\n    at _ (/ide/extensions/ipynb/dist/ipynbMain.js:1:143900)\n    at Array.map (<anonymous>)\n    at /ide/extensions/ipynb/dist/ipynbMain.js:1:145052\n    at /ide/extensions/ipynb/dist/ipynbMain.js:1:145294\n    at /ide/extensions/ipynb/dist/ipynbMain.js:1:145301\n    at Array.map (<anonymous>)\n    at e.jupyterNotebookModelToNotebookData (/ide/extensions/ipynb/dist/ipynbMain.js:1:144610)\n    at e.NotebookSerializer.deserializeNotebook (/ide/extensions/ipynb/dist/ipynbMain.js:1:146537)\n    at _.$dataToNotebook (/ide/out/vs/workbench/services/extensions/node/extensionHostProcess.js:85:211988)\n    at h._doInvokeHandler (/ide/out/vs/workbench/services/extensions/node/extensionHostProcess.js:89:12819)\n    at h._invokeHandler (/ide/out/vs/workbench/services/extensions/node/extensionHostProcess.js:89:12503)\n    at h._receiveRequest (/ide/out/vs/workbench/services/extensions/node/extensionHostProcess.js:89:11107)\n    at h._receiveOneMessage (/ide/out/vs/workbench/services/extensions/node/extensionHostProcess.js:89:10142)\n    at /ide/out/vs/workbench/services/extensions/node/extensionHostProcess.js:89:8039\n    at d.fire (/ide/out/vs/workbench/services/extensions/node/extensionHostProcess.js:57:1712)\n    at c.fire (/ide/out/vs/workbench/services/extensions/node/extensionHostProcess.js:65:15825)\n    at /ide/out/vs/workbench/services/extensions/node/extensionHostProcess.js:104:30060\n    at d.fire (/ide/out/vs/workbench/services/extensions/node/extensionHostProcess.js:57:1712)\n    at c.fire (/ide/out/vs/workbench/services/extensions/node/extensionHostProcess.js:65:15825)\n    at r._receiveMessage (/ide/out/vs/workbench/services/extensions/node/extensionHostProcess.js:65:21091)\n    at /ide/out/vs/workbench/services/extensions/node/extensionHostProcess.js:65:17969\n    at d.fire (/ide/out/vs/workbench/services/extensions/node/extensionHostProcess.js:57:1712)\n    at v.acceptChunk (/ide/out/vs/workbench/services/extensions/node/extensionHostProcess.js:65:13186)\n    at /ide/out/vs/workbench/services/extensions/node/extensionHostProcess.js:65:12534\n    at d.fire (/ide/out/vs/workbench/services/extensions/node/extensionHostProcess.js:57:1712)\n    at /ide/out/vs/workbench/services/extensions/node/extensionHostProcess.js:104:19145\n    at afterWrite (internal/streams/writable.js:466:5)\n    at onwrite (internal/streams/writable.js:446:7)\n    at InflateRaw.afterTransform (internal/streams/transform.js:103:3)\n    at Zlib.processCallback (zlib.js:608:8)"
      },
      "application/vnd.jupyter.widget-view+json": {
       "model_id": "ab462bc3-90e5-4b0a-8eb1-a4029b91939e",
       "version_major": 2,
       "version_minor": 0
      }
     },
     "metadata": {}
    }
   ],
   "metadata": {}
  },
  {
   "cell_type": "code",
   "execution_count": 2,
   "source": [
    "import org.apache.spark.sql.SparkSession\n",
    "import org.apache.spark.sql.functions._\n",
    "\n",
    "val spark = SparkSession.builder()\n",
    "    .master(\"local[2]\")\n",
    "    .appName(\"Spark Rounding Examples\")\n",
    "    .config(\"spark.some.config.option\", \"some-value\")\n",
    "    .getOrCreate()\n",
    "\n",
    "import spark.implicits._"
   ],
   "outputs": [
    {
     "output_type": "execute_result",
     "data": {
      "text/plain": [
       "org.apache.spark.sql.SparkSession$implicits$@79d5f914"
      ]
     },
     "metadata": {},
     "execution_count": 2
    }
   ],
   "metadata": {}
  },
  {
   "cell_type": "code",
   "execution_count": 7,
   "source": [
    "val df = Seq(1.12, 2.34, 9.87, 2.5, 3.5).toDF\n",
    "df.show"
   ],
   "outputs": [
    {
     "output_type": "stream",
     "name": "stdout",
     "text": [
      "+-----+\n",
      "|value|\n",
      "+-----+\n",
      "| 1.12|\n",
      "| 2.34|\n",
      "| 9.87|\n",
      "|  2.5|\n",
      "|  3.5|\n",
      "+-----+\n",
      "\n"
     ]
    },
    {
     "output_type": "execute_result",
     "data": {
      "text/plain": [
       "null"
      ]
     },
     "metadata": {},
     "execution_count": 7
    }
   ],
   "metadata": {}
  },
  {
   "cell_type": "markdown",
   "source": [
    "## round"
   ],
   "metadata": {}
  },
  {
   "cell_type": "markdown",
   "source": [
    "Round to the neart integer and round up at 0.5."
   ],
   "metadata": {}
  },
  {
   "cell_type": "code",
   "execution_count": 10,
   "source": [
    "df.withColumn(\"round\", round($\"value\")).show"
   ],
   "outputs": [
    {
     "output_type": "stream",
     "name": "stdout",
     "text": [
      "+-----+-----+\n",
      "|value|round|\n",
      "+-----+-----+\n",
      "| 1.12|  1.0|\n",
      "| 2.34|  2.0|\n",
      "| 9.87| 10.0|\n",
      "|  2.5|  3.0|\n",
      "|  3.5|  4.0|\n",
      "+-----+-----+\n",
      "\n"
     ]
    }
   ],
   "metadata": {}
  },
  {
   "cell_type": "markdown",
   "source": [
    "The function `round` accepts an optional arguments (via method overloadingm) \n",
    "specifying the number of digits to keep."
   ],
   "metadata": {}
  },
  {
   "cell_type": "code",
   "execution_count": 11,
   "source": [
    "df.withColumn(\"round\", round($\"value\", 1)).show"
   ],
   "outputs": [
    {
     "output_type": "stream",
     "name": "stdout",
     "text": [
      "+-----+-----+\n",
      "|value|round|\n",
      "+-----+-----+\n",
      "| 1.12|  1.1|\n",
      "| 2.34|  2.3|\n",
      "| 9.87|  9.9|\n",
      "|  2.5|  2.5|\n",
      "|  3.5|  3.5|\n",
      "+-----+-----+\n",
      "\n"
     ]
    }
   ],
   "metadata": {}
  },
  {
   "cell_type": "markdown",
   "source": [
    "## bround"
   ],
   "metadata": {}
  },
  {
   "cell_type": "markdown",
   "source": [
    "Round to the nearest integer and round to the even number at 0.5."
   ],
   "metadata": {}
  },
  {
   "cell_type": "code",
   "execution_count": 13,
   "source": [
    "df.withColumn(\"round\", bround($\"value\")).show"
   ],
   "outputs": [
    {
     "output_type": "stream",
     "name": "stdout",
     "text": [
      "+-----+-----+\n",
      "|value|round|\n",
      "+-----+-----+\n",
      "| 1.12|  1.0|\n",
      "| 2.34|  2.0|\n",
      "| 9.87| 10.0|\n",
      "|  2.5|  2.0|\n",
      "|  3.5|  4.0|\n",
      "+-----+-----+\n",
      "\n"
     ]
    }
   ],
   "metadata": {}
  },
  {
   "cell_type": "code",
   "execution_count": 15,
   "source": [
    "df.withColumn(\"round\", bround($\"value\", 1)).show"
   ],
   "outputs": [
    {
     "output_type": "stream",
     "name": "stdout",
     "text": [
      "+-----+-----+\n",
      "|value|round|\n",
      "+-----+-----+\n",
      "| 1.12|  1.1|\n",
      "| 2.34|  2.3|\n",
      "| 9.87|  9.9|\n",
      "|  2.5|  2.5|\n",
      "|  3.5|  3.5|\n",
      "+-----+-----+\n",
      "\n"
     ]
    }
   ],
   "metadata": {}
  },
  {
   "cell_type": "markdown",
   "source": [
    "## rint"
   ],
   "metadata": {}
  },
  {
   "cell_type": "markdown",
   "source": [
    "The function `rint` is similar to the function `bround`."
   ],
   "metadata": {}
  },
  {
   "cell_type": "code",
   "execution_count": 16,
   "source": [
    "df.withColumn(\"round\", rint($\"value\")).show"
   ],
   "outputs": [
    {
     "output_type": "stream",
     "name": "stdout",
     "text": [
      "+-----+-----+\n",
      "|value|round|\n",
      "+-----+-----+\n",
      "| 1.12|  1.0|\n",
      "| 2.34|  2.0|\n",
      "| 9.87| 10.0|\n",
      "|  2.5|  2.0|\n",
      "|  3.5|  4.0|\n",
      "+-----+-----+\n",
      "\n"
     ]
    }
   ],
   "metadata": {}
  },
  {
   "cell_type": "markdown",
   "source": [
    "## floor"
   ],
   "metadata": {}
  },
  {
   "cell_type": "code",
   "execution_count": 17,
   "source": [
    "df.withColumn(\"round\", floor($\"value\")).show"
   ],
   "outputs": [
    {
     "output_type": "stream",
     "name": "stdout",
     "text": [
      "+-----+-----+\n",
      "|value|round|\n",
      "+-----+-----+\n",
      "| 1.12|    1|\n",
      "| 2.34|    2|\n",
      "| 9.87|    9|\n",
      "|  2.5|    2|\n",
      "|  3.5|    3|\n",
      "+-----+-----+\n",
      "\n"
     ]
    }
   ],
   "metadata": {}
  },
  {
   "cell_type": "markdown",
   "source": [
    "## ceil"
   ],
   "metadata": {}
  },
  {
   "cell_type": "code",
   "execution_count": 18,
   "source": [
    "df.withColumn(\"round\", ceil($\"value\")).show"
   ],
   "outputs": [
    {
     "output_type": "stream",
     "name": "stdout",
     "text": [
      "+-----+-----+\n",
      "|value|round|\n",
      "+-----+-----+\n",
      "| 1.12|    2|\n",
      "| 2.34|    3|\n",
      "| 9.87|   10|\n",
      "|  2.5|    3|\n",
      "|  3.5|    4|\n",
      "+-----+-----+\n",
      "\n"
     ]
    }
   ],
   "metadata": {}
  },
  {
   "cell_type": "markdown",
   "source": [
    "## References\n",
    "\n",
    "[Spark SQL Built-in Functions](https://spark.apache.org/docs/latest/api/sql/index.html)\n",
    "\n",
    "[Spark Scala Functions](https://spark.apache.org/docs/latest/api/scala/org/apache/spark/sql/functions$.html)\n",
    "\n",
    "http://xinhstechblog.blogspot.com/2016/04/spark-window-functions-for-dataframes.html\n",
    "\n",
    "https://spark.apache.org/docs/2.1.1/api/scala/index.html#org.apache.spark.sql.functions$\n"
   ],
   "metadata": {}
  },
  {
   "cell_type": "code",
   "execution_count": null,
   "source": [],
   "outputs": [],
   "metadata": {}
  }
 ],
 "metadata": {
  "kernelspec": {
   "display_name": "Scala",
   "language": "scala",
   "name": "scala"
  },
  "language_info": {
   "codemirror_mode": "text/x-scala",
   "file_extension": ".sc",
   "mimetype": "text/x-scala",
   "name": "scala",
   "nbconvert_exporter": "script",
   "version": "2.12.12"
  }
 },
 "nbformat": 4,
 "nbformat_minor": 4
}