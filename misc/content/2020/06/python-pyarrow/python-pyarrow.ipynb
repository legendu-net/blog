{
 "cells": [
  {
   "cell_type": "markdown",
   "metadata": {},
   "source": [
    "- Title: Use pyarrow to Share Data in Memory in Python\n",
    "- Slug: python-pyarrow\n",
    "- Date: 2020-06-24 15:54:46\n",
    "- Category: Computer Science\n",
    "- Tags: programming, Python, memory, share, data, pyarrow, Arrow\n",
    "- Author: Ben Du\n",
    "- Modified: 2020-06-24 15:54:46\n"
   ]
  },
  {
   "cell_type": "markdown",
   "metadata": {},
   "source": [
    "## References\n",
    "\n",
    "https://github.com/apache/arrow\n",
    "\n",
    "https://stackoverflow.com/questions/54582073/sharing-objects-across-workers-using-pyarrow\n",
    "\n",
    "https://github.com/pytorch/pytorch/issues/13039\n",
    "\n",
    "https://issues.apache.org/jira/browse/ARROW-5130\n",
    "\n",
    "https://uwekorn.com/2019/09/15/how-we-build-apache-arrows-manylinux-wheels.html"
   ]
  },
  {
   "cell_type": "code",
   "execution_count": null,
   "metadata": {},
   "outputs": [],
   "source": []
  }
 ],
 "metadata": {
  "kernelspec": {
   "display_name": "Python 3",
   "language": "python",
   "name": "python3"
  },
  "language_info": {
   "codemirror_mode": {
    "name": "ipython",
    "version": 3
   },
   "file_extension": ".py",
   "mimetype": "text/x-python",
   "name": "python",
   "nbconvert_exporter": "python",
   "pygments_lexer": "ipython3",
   "version": "3.7.3"
  }
 },
 "nbformat": 4,
 "nbformat_minor": 4
}