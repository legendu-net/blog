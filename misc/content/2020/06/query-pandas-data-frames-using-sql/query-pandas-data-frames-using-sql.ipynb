{
 "cells": [
  {
   "cell_type": "markdown",
   "metadata": {},
   "source": [
    "- Author: Ben Du\n",
    "- Date: 2020-06-27 12:26:43\n",
    "- Title: Query Pandas Data Frames Using SQL\n",
    "- Slug: query-pandas-data-frames-using-sql\n",
    "- Category: Computer Science\n",
    "- Tags: Computer Science, pandas, DataFrame, dask, SQL, query, database, framequery, pandasql, ibis\n",
    "- Modified: 2020-06-27 12:26:43\n"
   ]
  },
  {
   "cell_type": "markdown",
   "metadata": {},
   "source": [
    "## [framequery](https://github.com/chmp/framequery)"
   ]
  },
  {
   "cell_type": "code",
   "execution_count": null,
   "metadata": {},
   "outputs": [],
   "source": []
  },
  {
   "cell_type": "markdown",
   "metadata": {},
   "source": [
    "## [pandasql](https://github.com/yhat/pandasql)"
   ]
  },
  {
   "cell_type": "markdown",
   "metadata": {},
   "source": [
    "## [ibis](https://github.com/ibis-project/ibis)"
   ]
  },
  {
   "cell_type": "markdown",
   "metadata": {},
   "source": [
    "## References\n",
    "\n",
    "https://github.com/chmp/framequery\n",
    "\n",
    "https://github.com/chmp/framequery/blob/master/docs/Usage.md\n",
    "\n",
    "https://github.com/chmp/framequery/blob/master/docs/API.md\n",
    "\n"
   ]
  },
  {
   "cell_type": "code",
   "execution_count": null,
   "metadata": {},
   "outputs": [],
   "source": []
  }
 ],
 "metadata": {
  "language_info": {
   "name": "python",
   "codemirror_mode": {
    "name": "ipython",
    "version": 3
   }
  },
  "orig_nbformat": 2,
  "file_extension": ".py",
  "mimetype": "text/x-python",
  "name": "python",
  "npconvert_exporter": "python",
  "pygments_lexer": "ipython3",
  "version": 3
 },
 "nbformat": 4,
 "nbformat_minor": 2
}