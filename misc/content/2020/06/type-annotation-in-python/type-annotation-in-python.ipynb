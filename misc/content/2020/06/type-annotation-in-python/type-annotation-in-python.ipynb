{
 "cells": [
  {
   "cell_type": "markdown",
   "metadata": {},
   "source": [
    "- Author: Ben Du\n",
    "- Date: 2020-06-15 17:03:11\n",
    "- Title: Type Annotation in Python\n",
    "- Slug: type-annotation-in-python\n",
    "- Category: Computer Science\n",
    "- Tags: Computer Science, Python, type annotation, forward reference\n",
    "- Modified: 2021-03-15 17:03:11\n"
   ]
  },
  {
   "cell_type": "markdown",
   "metadata": {},
   "source": [
    "## Tips and Traps\n",
    "\n",
    "1. [Type hints cheat sheet (Python 3)](https://mypy.readthedocs.io/en/stable/cheat_sheet_py3.html#built-in-types)\n",
    "    is a quick cheat sheet showing how the PEP 484 type annotation notation represents various common types in Python 3.\n",
    "\n",
    "2. Notice that the annotation on List and Tuple are different. \n",
    "    `List[T]` stands for a variable length list of elements with type `T`.\n",
    "    However,\n",
    "    `Tuple[T]` stands for a tuple with 1 element of type `T`.\n",
    "    To specify a variable-length tuple of homogeneous type, use literal ellipsis, e.g. `Tuple[int, ...]`. \n",
    "    A plain Tuple is equivalent to `Tuple[Any, ...]`, and in turn to tuple.\n",
    "\n",
    "3. Use `typing.TextIO` and `typing.BinaryIO` for file handler object.\n"
   ]
  },
  {
   "cell_type": "markdown",
   "metadata": {},
   "source": [
    "## Forward References\n",
    "\n",
    "You can use forward reference in Python 3.8+.\n",
    "It is also backported into Python 3.7,\n",
    "which is accessible after the import statement `from __future__ import annotations`."
   ]
  },
  {
   "cell_type": "markdown",
   "metadata": {},
   "source": [
    "## [MonkeyType](https://github.com/Instagram/MonkeyType)\n",
    "\n",
    "1. Run the following command to annotate your Python script.\n",
    "\n",
    "        :::bash\n",
    "        monkeytype run yourscript.py\n",
    "\n",
    "\n",
    "2. MonkeyType supports pytest.\n",
    "\n",
    "        :::bash\n",
    "        monkeytype run `which pytest`\n"
   ]
  },
  {
   "cell_type": "markdown",
   "metadata": {},
   "source": [
    "## [pytype](https://github.com/google/pytype) & [mypy](http://www.legendu.net/misc/blog/mypy-tips/) & [pyright](https://github.com/microsoft/pyright)\n",
    "\n",
    "1. When you are using Visual Studio Code, \n",
    "    install the Python extension for Visual Studio Code and you are good to go.\n",
    "    Pyright\u2019s type-checking functionality and language features \n",
    "    are now incorporated into a VS Code extension called Pylance, \n",
    "    the officially supported Python Language Server from Microsoft. \n",
    "    Pylance is designed to work with the Python extension for VS Code.\n",
    "\n",
    "2. Both pytype and mypy can be used to check code based using type information. \n",
    "    pytype is superior than mype for a few reasons.\n",
    "\n",
    "    1. Pytype uses inference instead of gradual typing. \n",
    "        This means it will infer types on code even when the code has no type hints on it. \n",
    "        So it can detect issues with code like this, which other type checkers would miss.\n",
    "\n",
    "    2. Pytype is lenient instead of strict. \n",
    "        That means it allows all operations that succeed at runtime and don\u2019t contradict annotations. \n",
    "        For instance, this code will pass as safe in pytype, but fail in other type checkers, \n",
    "        which assign types to variables as soon as they are initialized."
   ]
  },
  {
   "cell_type": "markdown",
   "metadata": {},
   "source": [
    "## [typical](https://github.com/seandstewart/typical/)\n",
    "\n",
    "## [typeguard](https://github.com/agronholm/typeguard)"
   ]
  },
  {
   "cell_type": "markdown",
   "metadata": {},
   "source": [
    "## Stubs\n",
    "\n",
    "[typeshed](https://github.com/python/typeshed)\n",
    "contains external type annotations for the Python standard library and Python builtins, \n",
    "as well as third party packages as contributed by people external to those projects.\n",
    "typeshed is already contained in static type checking tools such as Pyright.\n",
    "\n",
    "https://github.com/zero323/pyspark-stubs\n",
    "\n",
    "https://github.com/predictive-analytics-lab/data-science-types\n",
    "\n",
    "https://github.com/ramonhagenaars/nptyping\n",
    "\n",
    "https://github.com/microsoft/python-type-stubs"
   ]
  },
  {
   "cell_type": "markdown",
   "metadata": {},
   "source": [
    "## References\n",
    "\n",
    "http://www.legendu.net/misc/blog/static-type-checking-of-Python-Scripts-using-pytype/\n",
    "\n",
    "http://www.legendu.net/misc/blog/static-type-checking-python-mypy/\n",
    "\n",
    "https://stackoverflow.com/questions/15853469/putting-current-class-as-return-type-annotation\n",
    "\n",
    "[Forward References](https://www.python.org/dev/peps/pep-0484/#forward-references)\n",
    "\n",
    "[Talk: Dustin Ingram - Static Typing in Python](https://www.youtube.com/watch?v=ST33zDM9vOE)\n",
    "\n",
    "[Make pyspark interface friendly with mypy static analysis](https://issues.apache.org/jira/browse/SPARK-17333?page=com.atlassian.jira.plugin.system.issuetabpanels%3Aall-tabpanel)"
   ]
  },
  {
   "cell_type": "code",
   "execution_count": null,
   "metadata": {},
   "outputs": [],
   "source": []
  }
 ],
 "metadata": {
  "language_info": {
   "name": "python",
   "codemirror_mode": {
    "name": "ipython",
    "version": 3
   }
  },
  "orig_nbformat": 2,
  "file_extension": ".py",
  "mimetype": "text/x-python",
  "name": "python",
  "npconvert_exporter": "python",
  "pygments_lexer": "ipython3",
  "version": 3
 },
 "nbformat": 4,
 "nbformat_minor": 2
}