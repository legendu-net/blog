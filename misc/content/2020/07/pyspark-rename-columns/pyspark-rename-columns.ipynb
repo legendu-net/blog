{
 "cells": [
  {
   "cell_type": "markdown",
   "metadata": {},
   "source": [
    "- Title: Rename and Drop Columns in Spark DataFrames\n",
    "- Slug: spark-rename-columns\n",
    "- Date: 2020-07-19 14:24:40\n",
    "- Category: Computer Science\n",
    "- Tags: programming, Scala, Spark, DataFrame, rename, column, drop\n",
    "- Author: Ben Du\n",
    "- Modified: 2020-07-19 14:24:40\n"
   ]
  },
  {
   "cell_type": "markdown",
   "metadata": {},
   "source": [
    "## Comment\n",
    "\n",
    "You can use `withColumnRenamed` to rename a column in a DataFrame.\n",
    "You can also do renaming using `alias` when select columns."
   ]
  },
  {
   "cell_type": "code",
   "execution_count": 4,
   "metadata": {},
   "outputs": [],
   "source": [
    "import pandas as pd"
   ]
  },
  {
   "cell_type": "code",
   "execution_count": 5,
   "metadata": {},
   "outputs": [],
   "source": [
    "from pathlib import Path\n",
    "import findspark\n",
    "#findspark.init(str(next(Path(\"/opt\").glob(\"spark-3*\"))))\n",
    "findspark.init(\"/opt/spark-3.0.1-bin-hadoop3.2/\")\n",
    "#findspark.init(\"/opt/spark-2.3.0-bin-hadoop2.7\")\n",
    "\n",
    "from pyspark.sql import SparkSession, DataFrame\n",
    "from pyspark.sql.functions import *\n",
    "from pyspark.sql.types import IntegerType, StringType, StructType, StructField, ArrayType\n",
    "\n",
    "spark = SparkSession.builder.appName(\"PySpark_Str_Func\") \\\n",
    "    .enableHiveSupport().getOrCreate()"
   ]
  },
  {
   "cell_type": "code",
   "execution_count": 8,
   "metadata": {},
   "outputs": [
    {
     "name": "stdout",
     "output_type": "stream",
     "text": [
      "+---+---+---+---+\n",
      "| _0| _1| _2| _3|\n",
      "+---+---+---+---+\n",
      "|  1|  a|foo|3.0|\n",
      "|  1|  b|bar|4.0|\n",
      "|  3|  c|foo|5.0|\n",
      "|  4|  d|bar|7.0|\n",
      "+---+---+---+---+\n",
      "\n"
     ]
    }
   ],
   "source": [
    "df = spark.createDataFrame(\n",
    "    pd.DataFrame(\n",
    "        data=(\n",
    "            (1, \"a\", \"foo\", 3.0), (1, \"b\", \"bar\", 4.0), (3, \"c\", \"foo\", 5.0),\n",
    "            (4, \"d\", \"bar\", 7.0)\n",
    "        ),\n",
    "        columns=[\"_0\", \"_1\", \"_2\", \"_3\"]\n",
    "    )\n",
    ")\n",
    "df.show()"
   ]
  },
  {
   "cell_type": "markdown",
   "metadata": {},
   "source": [
    "## Get Column Name\n",
    "\n",
    "1. There is no good way to get the name of a Column, unfortunately.\n",
    "\n",
    "2. `Column._jc.toString()`"
   ]
  },
  {
   "cell_type": "code",
   "execution_count": 9,
   "metadata": {},
   "outputs": [
    {
     "data": {
      "text/plain": [
       "Column<b'_0'>"
      ]
     },
     "execution_count": 9,
     "metadata": {},
     "output_type": "execute_result"
    }
   ],
   "source": [
    "df._0"
   ]
  },
  {
   "cell_type": "code",
   "execution_count": 10,
   "metadata": {},
   "outputs": [
    {
     "data": {
      "text/plain": [
       "\"Column<b'_0'>\""
      ]
     },
     "execution_count": 10,
     "metadata": {},
     "output_type": "execute_result"
    }
   ],
   "source": [
    "str(df._0)"
   ]
  },
  {
   "cell_type": "code",
   "execution_count": 11,
   "metadata": {},
   "outputs": [
    {
     "data": {
      "text/plain": [
       "'_0'"
      ]
     },
     "execution_count": 11,
     "metadata": {},
     "output_type": "execute_result"
    }
   ],
   "source": [
    "df._0._jc.toString()"
   ]
  },
  {
   "cell_type": "code",
   "execution_count": 13,
   "metadata": {},
   "outputs": [
    {
     "data": {
      "text/plain": [
       "Column<b'max(_0) AS `_0_max`'>"
      ]
     },
     "execution_count": 13,
     "metadata": {},
     "output_type": "execute_result"
    }
   ],
   "source": [
    "c = max(df._0).alias(\"_0_max\")\n",
    "c"
   ]
  },
  {
   "cell_type": "code",
   "execution_count": 14,
   "metadata": {},
   "outputs": [
    {
     "data": {
      "text/plain": [
       "'max(_0) AS `_0_max`'"
      ]
     },
     "execution_count": 14,
     "metadata": {},
     "output_type": "execute_result"
    }
   ],
   "source": [
    "c._jc.toString()"
   ]
  },
  {
   "cell_type": "code",
   "execution_count": 15,
   "metadata": {},
   "outputs": [
    {
     "data": {
      "text/plain": [
       "Column<b'multialias(max(_0) AS `_0_max`)'>"
      ]
     },
     "execution_count": 15,
     "metadata": {},
     "output_type": "execute_result"
    }
   ],
   "source": [
    "c.alias()"
   ]
  },
  {
   "cell_type": "code",
   "execution_count": 16,
   "metadata": {},
   "outputs": [
    {
     "data": {
      "text/plain": [
       "\"Column<b'max(_0) AS `_0_max`'>\""
      ]
     },
     "execution_count": 16,
     "metadata": {},
     "output_type": "execute_result"
    }
   ],
   "source": [
    "str(c)"
   ]
  },
  {
   "cell_type": "markdown",
   "metadata": {},
   "source": [
    "## Drop Columns"
   ]
  },
  {
   "cell_type": "code",
   "execution_count": 5,
   "metadata": {},
   "outputs": [
    {
     "name": "stderr",
     "output_type": "stream",
     "text": [
      "20/07/19 14:27:45 INFO CodeGenerator: Code generated in 22.343436 ms\n",
      "20/07/19 14:27:45 INFO CodeGenerator: Code generated in 25.541113 ms\n"
     ]
    },
    {
     "name": "stdout",
     "output_type": "stream",
     "text": [
      "+---+---+\n",
      "| _2| _4|\n",
      "+---+---+\n",
      "|  a|3.0|\n",
      "|  b|4.0|\n",
      "|  c|5.0|\n",
      "|  d|7.0|\n",
      "+---+---+\n",
      "\n"
     ]
    }
   ],
   "source": [
    "df.drop(\"_1\", \"_3\").show"
   ]
  },
  {
   "cell_type": "markdown",
   "metadata": {},
   "source": [
    "## Renaming One Column Using `withColumnRenamed`"
   ]
  },
  {
   "cell_type": "code",
   "execution_count": 8,
   "metadata": {},
   "outputs": [
    {
     "name": "stdout",
     "output_type": "stream",
     "text": [
      "+---+---+---+---+\n",
      "| x1| _2| _3| _4|\n",
      "+---+---+---+---+\n",
      "|  1|  a|foo|3.0|\n",
      "|  2|  b|bar|4.0|\n",
      "|  3|  c|foo|5.0|\n",
      "|  4|  d|bar|7.0|\n",
      "+---+---+---+---+\n",
      "\n"
     ]
    }
   ],
   "source": [
    "df.withColumnRenamed(\"_1\", \"x1\").show"
   ]
  },
  {
   "cell_type": "markdown",
   "metadata": {},
   "source": [
    "## Renaming One Column Using `alias`"
   ]
  },
  {
   "cell_type": "code",
   "execution_count": 9,
   "metadata": {},
   "outputs": [
    {
     "name": "stdout",
     "output_type": "stream",
     "text": [
      "+---+---+---+---+\n",
      "| x1| _2| _3| _4|\n",
      "+---+---+---+---+\n",
      "|  1|  a|foo|3.0|\n",
      "|  2|  b|bar|4.0|\n",
      "|  3|  c|foo|5.0|\n",
      "|  4|  d|bar|7.0|\n",
      "+---+---+---+---+\n",
      "\n"
     ]
    }
   ],
   "source": [
    "df.select(\n",
    "    $\"_1\".alias(\"x1\"),\n",
    "    $\"_2\",\n",
    "    $\"_3\",\n",
    "    $\"_4\"\n",
    ").show"
   ]
  },
  {
   "cell_type": "markdown",
   "metadata": {},
   "source": [
    "## Batch Renaming Using `withColumnRenamed`"
   ]
  },
  {
   "cell_type": "code",
   "execution_count": 12,
   "metadata": {},
   "outputs": [
    {
     "data": {
      "application/vnd.jupyter.widget-view+json": {
       "model_id": "fc392e3d-37d5-413b-8d5a-6754283e84da",
       "version_major": 2,
       "version_minor": 0
      },
      "method": "display_data"
     },
     "metadata": {},
     "output_type": "display_data"
    }
   ],
   "source": [
    "val lookup = Map(\n",
    "    \"_1\" -> \"x1\",\n",
    "    \"_2\" -> \"x2\",\n",
    "    \"_3\" -> \"x3\",\n",
    "    \"_4\" -> \"x4\"\n",
    ")"
   ]
  },
  {
   "cell_type": "code",
   "execution_count": 13,
   "metadata": {},
   "outputs": [
    {
     "name": "stdout",
     "output_type": "stream",
     "text": [
      "+---+---+---+---+\n",
      "| x1| x2| x3| x4|\n",
      "+---+---+---+---+\n",
      "|  1|  a|foo|3.0|\n",
      "|  2|  b|bar|4.0|\n",
      "|  3|  c|foo|5.0|\n",
      "|  4|  d|bar|7.0|\n",
      "+---+---+---+---+\n",
      "\n"
     ]
    }
   ],
   "source": [
    "lookup.foldLeft(df) {\n",
    "    (acc, ca) => acc.withColumnRenamed(ca._1, ca._2)\n",
    "}.show"
   ]
  },
  {
   "cell_type": "markdown",
   "metadata": {},
   "source": [
    "## Batch Renaming Using `alias`"
   ]
  },
  {
   "cell_type": "code",
   "execution_count": 14,
   "metadata": {},
   "outputs": [
    {
     "name": "stdout",
     "output_type": "stream",
     "text": [
      "+---+---+---+---+\n",
      "| x1| x2| x3| x4|\n",
      "+---+---+---+---+\n",
      "|  1|  a|foo|3.0|\n",
      "|  2|  b|bar|4.0|\n",
      "|  3|  c|foo|5.0|\n",
      "|  4|  d|bar|7.0|\n",
      "+---+---+---+---+\n",
      "\n"
     ]
    }
   ],
   "source": [
    "df.select(df.columns.map(c => col(c).alias(lookup.getOrElse(c, c))): _*).show"
   ]
  },
  {
   "cell_type": "markdown",
   "metadata": {},
   "source": [
    "## References\n",
    "\n",
    "https://spark.apache.org/docs/latest/api/java/index.html?org/apache/spark/sql/Dataset.html\n",
    "\n",
    "https://spark.apache.org/docs/latest/api/java/index.html?org/apache/spark/sql/functions.html\n",
    "\n",
    "https://spark.apache.org/docs/latest/api/java/org/apache/spark/sql/Row.html"
   ]
  }
 ],
 "metadata": {
  "kernelspec": {
   "display_name": "Python 3",
   "language": "python",
   "name": "python3"
  },
  "language_info": {
   "codemirror_mode": {
    "name": "ipython",
    "version": 3
   },
   "file_extension": ".py",
   "mimetype": "text/x-python",
   "name": "python",
   "nbconvert_exporter": "python",
   "pygments_lexer": "ipython3",
   "version": "3.8.5"
  }
 },
 "nbformat": 4,
 "nbformat_minor": 4
}