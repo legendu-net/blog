{
 "nbformat": 4,
 "nbformat_minor": 2,
 "metadata": {
  "language_info": {
   "name": "python",
   "codemirror_mode": {
    "name": "ipython",
    "version": 3
   }
  },
  "orig_nbformat": 2,
  "file_extension": ".py",
  "mimetype": "text/x-python",
  "name": "python",
  "npconvert_exporter": "python",
  "pygments_lexer": "ipython3",
  "version": 3
 },
 "cells": [
  {
   "cell_type": "markdown",
   "execution_count": null,
   "metadata": {},
   "outputs": [],
   "source": [
    "- Author: Ben Du\n",
    "- Date: 2020-07-14 22:42:11\n",
    "- Title: Python Logging Made Stupidly Simple With Loguru\n",
    "- Slug: python-logging-made-stupidly-simple-with-loguru\n",
    "- Category: Computer Science\n",
    "- Tags: Computer Science, Python, loguru, logging\n",
    "- Modified: 2020-07-14 22:42:11\n"
   ]
  },
  {
   "cell_type": "markdown",
   "execution_count": null,
   "metadata": {},
   "outputs": [],
   "source": [
    "\n",
    "The best logging package for Python!\n",
    "\n",
    "1. Note that the default logging level is `DEBUG` in loguru\n",
    "  and it is not allowed to change the logging level of an created logger object in loguru.\n",
    "  You can refer to\n",
    "  [changing-the-level-of-an-existing-handler](https://loguru.readthedocs.io/en/latest/resources/recipes.html#changing-the-level-of-an-existing-handler)\n",
    "  and\n",
    "  [Change level of default handler](https://github.com/Delgan/loguru/issues/51)\n",
    "  on ways to changing logging level in loguru.\n",
    "\n",
    "2. Log an exception using luguru and then throws an exception without logging redundant error messages.\n",
    "\n",
    "        :::python\n",
    "        def throw(_, error, message, *args, **kwargs):\n",
    "            message = message.format(*args, **kwargs)\n",
    "            logger.opt(depth=1).error(message)\n",
    "            raise error(message)\n",
    "\n",
    "        logger.__class__.throw = throw\n",
    "\n",
    "        logger.throw(ValueError, \"Something bad happened\")\n",
    "\n",
    "    Or if you do not care what kind of exception is thrown to user, \n",
    "    you can use the following way which is more concise.\n",
    "\n",
    "        :::python\n",
    "        logger.error(message)\n",
    "        sys.exit()\n"
   ]
  },
  {
   "cell_type": "markdown",
   "execution_count": null,
   "metadata": {},
   "outputs": [],
   "source": [
    "## Set Logging Level\n",
    "```\n",
    "import sys\n",
    "from loguru import logger\n",
    "\n",
    "logger.remove()\n",
    "logger.add(sys.stdout, level='INFO')\n",
    "```\n",
    "https://github.com/Delgan/loguru/issues/210\n",
    "\n",
    "https://github.com/Delgan/loguru/issues/138\n",
    "\n",
    "https://github.com/Delgan/loguru#no-handler-no-formatter-no-filter-one-function-to-rule-them-all"
   ]
  },
  {
   "cell_type": "code",
   "execution_count": null,
   "metadata": {},
   "outputs": [],
   "source": []
  }
 ]
}