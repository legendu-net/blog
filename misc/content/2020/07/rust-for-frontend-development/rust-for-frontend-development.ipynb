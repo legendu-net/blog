{
 "cells": [
  {
   "cell_type": "markdown",
   "metadata": {},
   "source": [
    "- Author: Ben Du\n",
    "- Date: 2020-07-27 22:39:08\n",
    "- Title: Rust for Frontend Development\n",
    "- Slug: rust-for-frontend-development\n",
    "- Category: Computer Science\n",
    "- Tags: Computer Science, Rust, frontend, web, HTML\n",
    "- Modified: 2020-10-27 22:39:08\n"
   ]
  },
  {
   "cell_type": "markdown",
   "metadata": {},
   "source": [
    "## [yewstack/yew](https://github.com/yewstack/yew)\n",
    "\n",
    "## [seed](https://github.com/seed-rs/seed)\n",
    "\n",
    "Seed is a front-end Rust framework for creating fast and reliable web apps with an elm-like architecture.\n",
    "\n",
    "- All the benefits of Rust and macro based syntax.\n",
    "- Minimal overhead, configuration, and boilerplate.\n",
    "- Clear documentation made to be accessible regardless of your familiarity with Rust.\n",
    "- Written without any unsafe code and works with stable Rust, no nightly required!"
   ]
  },
  {
   "cell_type": "markdown",
   "metadata": {},
   "source": [
    "## References\n",
    "\n",
    "https://medium.com/swlh/building-a-front-app-with-rust-yes-you-can-and-yew-11e7835d768f"
   ]
  },
  {
   "cell_type": "code",
   "execution_count": null,
   "metadata": {},
   "outputs": [],
   "source": []
  }
 ],
 "metadata": {
  "file_extension": ".py",
  "kernelspec": {
   "display_name": "Rust",
   "language": "rust",
   "name": "rust"
  },
  "language_info": {
   "codemirror_mode": "rust",
   "file_extension": ".rs",
   "mimetype": "text/rust",
   "name": "Rust",
   "pygment_lexer": "rust",
   "version": ""
  },
  "mimetype": "text/x-python",
  "name": "python",
  "npconvert_exporter": "python",
  "pygments_lexer": "ipython3",
  "version": 3
 },
 "nbformat": 4,
 "nbformat_minor": 4
}
