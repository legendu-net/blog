{
 "cells": [
  {
   "cell_type": "markdown",
   "metadata": {},
   "source": [
    "- Author: Ben Du\n",
    "- Date: 2020-07-27 22:39:08\n",
    "- Title: Rust for Frontend Development\n",
    "- Slug: rust-for-frontend-development\n",
    "- Category: Computer Science\n",
    "- Tags: Computer Science, Rust, frontend, web, HTML\n",
    "- Modified: 2023-05-10 16:01:44\n"
   ]
  },
  {
   "cell_type": "markdown",
   "metadata": {},
   "source": [
    "https://github.com/leptos-rs/leptos\n",
    "Leptos is a full-stack, isomorphic Rust web framework leveraging fine-grained reactivity to build declarative user interfaces.\n",
    "\n",
    "https://github.com/DioxusLabs/dioxus\n",
    "Dioxus is a portable, performant, and ergonomic framework for building cross-platform user interfaces in Rust.\n",
    "\n",
    "https://github.com/sycamore-rs/sycamore\n",
    "Sycamore is a reactive library for creating web apps in Rust and WebAssembly.\n",
    "\n",
    "\n",
    "\n",
    "## [yewstack/yew](https://github.com/yewstack/yew)\n",
    "\n",
    "## [seed](https://github.com/seed-rs/seed)\n",
    "\n",
    "Seed is a front-end Rust framework for creating fast and reliable web apps with an elm-like architecture.\n",
    "\n",
    "- All the benefits of Rust and macro based syntax.\n",
    "- Minimal overhead, configuration, and boilerplate.\n",
    "- Clear documentation made to be accessible regardless of your familiarity with Rust.\n",
    "- Written without any unsafe code and works with stable Rust, no nightly required!"
   ]
  },
  {
   "cell_type": "markdown",
   "metadata": {},
   "source": [
    "## References\n",
    "\n",
    "Can Rust Beat Javascript in 2023?\n",
    "https://joshmo.bearblog.dev/can-rust-beat-javascript-in-2023/\n",
    "\n",
    "https://medium.com/swlh/building-a-front-app-with-rust-yes-you-can-and-yew-11e7835d768f"
   ]
  },
  {
   "cell_type": "code",
   "execution_count": null,
   "metadata": {},
   "outputs": [],
   "source": []
  }
 ],
 "metadata": {
  "file_extension": ".py",
  "kernelspec": {
   "display_name": "Rust",
   "language": "rust",
   "name": "rust"
  },
  "language_info": {
   "codemirror_mode": "rust",
   "file_extension": ".rs",
   "mimetype": "text/rust",
   "name": "Rust",
   "pygment_lexer": "rust",
   "version": ""
  },
  "mimetype": "text/x-python",
  "name": "python",
  "npconvert_exporter": "python",
  "pygments_lexer": "ipython3",
  "version": 3
 },
 "nbformat": 4,
 "nbformat_minor": 4
}