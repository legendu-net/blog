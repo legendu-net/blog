{
 "cells": [
  {
   "cell_type": "markdown",
   "metadata": {},
   "source": [
    "- Title: Function in Rust\n",
    "- Slug: rust-funs\n",
    "- Date: 2020-07-04 12:13:06\n",
    "- Category: Computer Science\n",
    "- Tags: programming, Rust, function, overload, default, optional, argument\n",
    "- Author: Ben Du\n",
    "- Modified: 2020-07-04 12:13:06\n"
   ]
  },
  {
   "cell_type": "markdown",
   "metadata": {},
   "source": [
    "## Tips\n",
    "\n",
    "1. Functions in a module is private by default.\n",
    "    To make it public (so that it can called outside the module),\n",
    "    you have to use the keyword `pub`."
   ]
  },
  {
   "cell_type": "code",
   "execution_count": 18,
   "metadata": {},
   "outputs": [],
   "source": [
    "fn add1(x: i32, y: i32) -> i32 {\n",
    "    x + y\n",
    "}"
   ]
  },
  {
   "cell_type": "code",
   "execution_count": 19,
   "metadata": {},
   "outputs": [
    {
     "data": {
      "text/plain": [
       "3"
      ]
     },
     "execution_count": 19,
     "metadata": {},
     "output_type": "execute_result"
    }
   ],
   "source": [
    "add1(1, 2)"
   ]
  },
  {
   "cell_type": "code",
   "execution_count": 21,
   "metadata": {},
   "outputs": [
    {
     "ename": "Error",
     "evalue": "Sorry, the type [closure@src/lib.rs:112:12: 112:34] cannot currently be persisted",
     "output_type": "error",
     "traceback": [
      "Sorry, the type [closure@src/lib.rs:112:12: 112:34] cannot currently be persisted"
     ]
    }
   ],
   "source": [
    "let add2 = |x: i32, y: i32| x + y; \n",
    "add2(1, 2)"
   ]
  },
  {
   "cell_type": "markdown",
   "metadata": {},
   "source": [
    "## Function Overload\n",
    "\n",
    "Rust does not support function overloading.\n",
    "\n",
    "\n",
    "[Is there a simple way to overload functions?](https://users.rust-lang.org/t/is-there-a-simple-way-to-overload-functions/30937)\n"
   ]
  },
  {
   "cell_type": "markdown",
   "metadata": {},
   "source": [
    "## Default/Optional Arguments\n",
    "\n",
    "Rust does not support optinal arguments for Functions.\n",
    "For more discussions,\n",
    "please refer to\n",
    "[Optional arguments in Rust](https://www.kirillvasiltsov.com/writing/optional-arguments-in-rust/)\n",
    "."
   ]
  },
  {
   "cell_type": "markdown",
   "metadata": {},
   "source": [
    "## References\n",
    "\n",
    "[Is there a simple way to overload functions?](https://users.rust-lang.org/t/is-there-a-simple-way-to-overload-functions/30937)\n",
    "\n",
    "[Optional arguments in Rust](https://www.kirillvasiltsov.com/writing/optional-arguments-in-rust/)\n"
   ]
  },
  {
   "cell_type": "code",
   "execution_count": null,
   "metadata": {},
   "outputs": [],
   "source": []
  }
 ],
 "metadata": {
  "kernelspec": {
   "display_name": "Rust",
   "language": "rust",
   "name": "rust"
  },
  "language_info": {
   "codemirror_mode": "rust",
   "file_extension": ".rs",
   "mimetype": "text/rust",
   "name": "Rust",
   "pygment_lexer": "rust",
   "version": ""
  }
 },
 "nbformat": 4,
 "nbformat_minor": 4
}