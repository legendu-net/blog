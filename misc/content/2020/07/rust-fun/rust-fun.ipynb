{
 "cells": [
  {
   "cell_type": "markdown",
   "source": [
    "- Title: Function in Rust\n",
    "- Slug: rust-funs\n",
    "- Date: 2020-07-04 12:13:06\n",
    "- Category: Computer Science\n",
    "- Tags: programming, Rust, function, overload, default, optional, argument\n",
    "- Author: Ben Du\n",
    "- Modified: 2021-10-12 20:36:23\n"
   ],
   "metadata": {}
  },
  {
   "cell_type": "markdown",
   "source": [
    "## Tips\n",
    "\n",
    "1. Functions in a module is private by default.\n",
    "    To make it public (so that it can called outside the module),\n",
    "    you have to use the keyword `pub`."
   ],
   "metadata": {}
  },
  {
   "cell_type": "code",
   "execution_count": 18,
   "source": [
    "fn add1(x: i32, y: i32) -> i32 {\n",
    "    x + y\n",
    "}"
   ],
   "outputs": [],
   "metadata": {}
  },
  {
   "cell_type": "code",
   "execution_count": 19,
   "source": [
    "add1(1, 2)"
   ],
   "outputs": [
    {
     "output_type": "execute_result",
     "data": {
      "text/plain": [
       "3"
      ]
     },
     "metadata": {},
     "execution_count": 19
    }
   ],
   "metadata": {}
  },
  {
   "cell_type": "code",
   "execution_count": 21,
   "source": [
    "let add2 = |x: i32, y: i32| x + y; \n",
    "add2(1, 2)"
   ],
   "outputs": [
    {
     "output_type": "error",
     "ename": "Error",
     "evalue": "Sorry, the type [closure@src/lib.rs:112:12: 112:34] cannot currently be persisted",
     "traceback": [
      "Sorry, the type [closure@src/lib.rs:112:12: 112:34] cannot currently be persisted"
     ]
    }
   ],
   "metadata": {}
  },
  {
   "cell_type": "markdown",
   "source": [
    "## Function Overload\n",
    "\n",
    "Rust does not support function overloading.\n",
    "There are multiple alternative ways to the OOP-style function overloading in Rust.\n",
    "\n",
    "1. Simply define different methods.\n",
    "2. Use trait to simulation function overloading.\n",
    "\n",
    "\n",
    "[Is there a simple way to overload functions?](https://users.rust-lang.org/t/is-there-a-simple-way-to-overload-functions/30937)\n"
   ],
   "metadata": {}
  },
  {
   "cell_type": "markdown",
   "source": [
    "## Default/Optional Arguments\n",
    "\n",
    "Rust does not support optinal arguments for Functions.\n",
    "For more discussions,\n",
    "please refer to\n",
    "[Optional arguments in Rust](https://www.kirillvasiltsov.com/writing/optional-arguments-in-rust/)\n",
    "."
   ],
   "metadata": {}
  },
  {
   "cell_type": "markdown",
   "source": [
    "## References\n",
    "\n",
    "[Is there a simple way to overload functions?](https://users.rust-lang.org/t/is-there-a-simple-way-to-overload-functions/30937)\n",
    "\n",
    "[Optional arguments in Rust](https://www.kirillvasiltsov.com/writing/optional-arguments-in-rust/)\n"
   ],
   "metadata": {}
  },
  {
   "cell_type": "code",
   "execution_count": null,
   "source": [],
   "outputs": [],
   "metadata": {}
  }
 ],
 "metadata": {
  "kernelspec": {
   "display_name": "Rust",
   "language": "rust",
   "name": "rust"
  },
  "language_info": {
   "codemirror_mode": "rust",
   "file_extension": ".rs",
   "mimetype": "text/rust",
   "name": "Rust",
   "pygment_lexer": "rust",
   "version": ""
  }
 },
 "nbformat": 4,
 "nbformat_minor": 4
}