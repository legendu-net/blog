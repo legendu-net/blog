{
 "nbformat": 4,
 "nbformat_minor": 2,
 "metadata": {
  "language_info": {
   "name": "python",
   "codemirror_mode": {
    "name": "ipython",
    "version": 3
   }
  },
  "orig_nbformat": 2,
  "file_extension": ".py",
  "mimetype": "text/x-python",
  "name": "python",
  "npconvert_exporter": "python",
  "pygments_lexer": "ipython3",
  "version": 3
 },
 "cells": [
  {
   "cell_type": "markdown",
   "execution_count": null,
   "metadata": {},
   "outputs": [],
   "source": [
    "- Author: Ben Du\n",
    "- Date: 2020-08-04 08:47:43\n",
    "- Title: Calculate Hash of a Directory in Python\n",
    "- Slug: calculate-hash-of-a-directory-in-python\n",
    "- Category: Computer Science\n",
    "- Tags: Computer Science, Python, directory, dir, hash, md5sum, recursive\n",
    "- Modified: 2020-08-04 08:47:43\n"
   ]
  },
  {
   "cell_type": "markdown",
   "execution_count": null,
   "metadata": {},
   "outputs": [],
   "source": [
    "## Comments \n",
    "\n",
    "https://github.com/andhus/dirhash-python\n",
    "is prefered to \n",
    "https://github.com/cakepietoast/checksumdir\n",
    "."
   ]
  },
  {
   "cell_type": "markdown",
   "execution_count": null,
   "metadata": {},
   "outputs": [],
   "source": [
    "## References\n",
    "\n",
    "https://github.com/andhus/dirhash-python\n",
    "\n",
    "https://github.com/cakepietoast/checksumdir"
   ]
  }
 ]
}