{
 "cells": [
  {
   "cell_type": "markdown",
   "metadata": {},
   "source": [
    "- Title: My Configuration Script for a New Ubuntu Machine\n",
    "- Slug: my-configuration-script-for-a-new-ubuntu-machine\n",
    "- Date: 2020-08-07 16:57:52\n",
    "- Category: OS\n",
    "- Tags: Linux, Python, Ubuntu\n",
    "- Author: Ben Du\n",
    "- Modified: 2020-08-07 16:57:52\n"
   ]
  },
  {
   "source": [
    "!cat home/media/config_ubuntu.sh | highlight -O ansi"
   ],
   "cell_type": "code",
   "outputs": [
    {
     "output_type": "stream",
     "name": "stdout",
     "text": "\u001b[00;34m#!/bin/bash\u001b[m\n\n\u001b[00;33mif\u001b[m \u001b[00;00m[[\u001b[m $\u001b[00;00m(\u001b[mid \u001b[00;32m-u\u001b[m\u001b[00;00m) ==\u001b[m \u001b[00;34m0\u001b[m \u001b[00;00m]];\u001b[m \u001b[00;33mthen\u001b[m\n    prefix\u001b[00;00m=\u001b[m\u001b[00;31m''\u001b[m\n\u001b[00;33melse\u001b[m\n    prefix\u001b[00;00m=\u001b[msudo\n\u001b[00;33mfi\u001b[m\n\u001b[00;32m$prefix\u001b[m apt-get update \u001b[00;32m-y\u001b[m\n\u001b[00;32m$prefix\u001b[m apt-get \u001b[00;32minstall\u001b[m \u001b[00;32m-y\u001b[m python3 python3-setuptools python3-pip wajig\npip3 \u001b[00;32minstall\u001b[m \u001b[00;32m--user\u001b[m loguru\n\nmkdir \u001b[00;32m-p\u001b[m \u001b[00;32m$HOME\u001b[m\u001b[00;00m/\u001b[marchives\ngit clone git@github.com\u001b[00;00m:\u001b[mdclong\u001b[00;00m/\u001b[mblog.git \u001b[00;32m$HOME\u001b[m\u001b[00;00m/\u001b[marchives\u001b[00;00m/\u001b[mblog\ngit clone git@github.com\u001b[00;00m:\u001b[mdclong\u001b[00;00m/\u001b[mconfig.git \u001b[00;32m$HOME\u001b[m\u001b[00;00m/\u001b[marchives\u001b[00;00m/\u001b[mconfig\ngit clone git@bitbucket.org\u001b[00;00m:\u001b[mdclong\u001b[00;00m/\u001b[mdsutil.git \u001b[00;32m$HOME\u001b[m\u001b[00;00m/\u001b[marchives\u001b[00;00m/\u001b[mdsutil\n\nxinstall sshc \u001b[00;32m-y -ic\u001b[m\nxinstall nodejs \u001b[00;32m-y -ic\u001b[m\nxinstall poetry \u001b[00;32m-y -ic\u001b[m\nxinstall ipy \u001b[00;32m-y -ic\u001b[m\nxinstall svim \u001b[00;32m-y -ic\u001b[m\nxinstall docker \u001b[00;32m-y -ic\u001b[m\n"
    }
   ],
   "metadata": {},
   "execution_count": 1
  },
  {
   "cell_type": "markdown",
   "metadata": {},
   "source": [
    "The script can be run directly using the following comamnd. \n",
    "    \n",
    "    curl -sSL www.legendu.net/media/config_ubuntu.sh | bash"
   ]
  },
  {
   "cell_type": "code",
   "execution_count": null,
   "metadata": {},
   "outputs": [],
   "source": []
  }
 ],
 "metadata": {
  "kernelspec": {
   "display_name": "Python 3",
   "language": "python",
   "name": "python3"
  },
  "language_info": {
   "codemirror_mode": {
    "name": "ipython",
    "version": 3
   },
   "file_extension": ".py",
   "mimetype": "text/x-python",
   "name": "python",
   "nbconvert_exporter": "python",
   "pygments_lexer": "ipython3",
   "version": "3.7.5"
  }
 },
 "nbformat": 4,
 "nbformat_minor": 4
}