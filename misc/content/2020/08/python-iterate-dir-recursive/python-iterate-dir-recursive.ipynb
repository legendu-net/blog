{
 "cells": [
  {
   "cell_type": "markdown",
   "metadata": {},
   "source": [
    "- Title: Iterate All Descendant Files in a Directory in Python\n",
    "- Slug: python-iterate-all-descendant\n",
    "- Date: 2020-08-16 17:55:43\n",
    "- Category: Computer Science\n",
    "- Tags: programming, Python, iterate, recursive, files, directory, directories, sub, subfiles, sub-files, subdirectories, descendant\n",
    "- Author: Ben Du\n",
    "- Modified: 2020-08-16 17:55:43\n"
   ]
  },
  {
   "cell_type": "markdown",
   "execution_count": null,
   "metadata": {},
   "outputs": [],
   "source": [
    "## Using pathlib.Path.glob\n",
    "\n",
    "This is the easiest way to iterate through all descendant files of a directory in Python."
   ]
  },
  {
   "source": [
    "from pathlib import Path"
   ],
   "cell_type": "code",
   "outputs": [],
   "metadata": {},
   "execution_count": 1
  },
  {
   "source": [
    "paths = Path(\"cn\").glob(\"**/*\")\n",
    "[path for path in paths if path.is_dir()][:20]"
   ],
   "cell_type": "code",
   "outputs": [
    {
     "output_type": "execute_result",
     "data": {
      "text/plain": "[PosixPath('cn/__pycache__'),\n PosixPath('cn/output'),\n PosixPath('cn/content'),\n PosixPath('cn/output/tag'),\n PosixPath('cn/output/author'),\n PosixPath('cn/output/feeds'),\n PosixPath('cn/output/.git'),\n PosixPath('cn/output/category'),\n PosixPath('cn/output/theme'),\n PosixPath('cn/output/drafts'),\n PosixPath('cn/output/blog'),\n PosixPath('cn/output/.git/logs'),\n PosixPath('cn/output/.git/objects'),\n PosixPath('cn/output/.git/info'),\n PosixPath('cn/output/.git/hooks'),\n PosixPath('cn/output/.git/branches'),\n PosixPath('cn/output/.git/refs'),\n PosixPath('cn/output/.git/logs/refs'),\n PosixPath('cn/output/.git/logs/refs/remotes'),\n PosixPath('cn/output/.git/logs/refs/heads')]"
     },
     "metadata": {},
     "execution_count": 11
    }
   ],
   "metadata": {},
   "execution_count": 11
  },
  {
   "source": [
    "paths = Path(\"misc\").glob(\"**/*\")\n",
    "[path for path in paths if path.is_file()][:20]"
   ],
   "cell_type": "code",
   "outputs": [
    {
     "output_type": "execute_result",
     "data": {
      "text/plain": "[PosixPath('misc/pconf.py'),\n PosixPath('misc/pages/shopping.markdown'),\n PosixPath('misc/pages/links.markdown'),\n PosixPath('misc/pages/tools.markdown'),\n PosixPath('misc/pages/stat.markdown'),\n PosixPath('misc/pages/job.markdown'),\n PosixPath('misc/pages/news.markdown'),\n PosixPath('misc/pages/forum.markdown'),\n PosixPath('misc/pages/learning.markdown'),\n PosixPath('misc/__pycache__/pconf.cpython-37.pyc'),\n PosixPath('misc/output/index45.html'),\n PosixPath('misc/output/index146.html'),\n PosixPath('misc/output/index150.html'),\n PosixPath('misc/output/index56.html'),\n PosixPath('misc/output/index29.html'),\n PosixPath('misc/output/index65.html'),\n PosixPath('misc/output/index160.html'),\n PosixPath('misc/output/index151.html'),\n PosixPath('misc/output/index49.html'),\n PosixPath('misc/output/index60.html')]"
     },
     "metadata": {},
     "execution_count": 12
    }
   ],
   "metadata": {},
   "execution_count": 12
  },
  {
   "cell_type": "markdown",
   "metadata": {},
   "source": [
    "## Using os.walk"
   ]
  },
  {
   "cell_type": "code",
   "execution_count": 3,
   "metadata": {},
   "outputs": [
    {
     "name": "stdout",
     "output_type": "stream",
     "text": [
      "./f2.csv\n",
      "[]\n",
      "./f2.csv/part-00000-96dab35f-bfbb-4134-babe-14553e963d25-c000.csv\n"
     ]
    }
   ],
   "source": [
    "import os\n",
    "\n",
    "for subdir, dirs, files in os.walk('.'):\n",
    "    for file in files:\n",
    "        filepath = os.path.join(subdir, file)\n",
    "        if filepath.endswith(\".csv\"):\n",
    "            print(subdir)\n",
    "            print(dirs)\n",
    "            print(filepath)"
   ]
  },
  {
   "cell_type": "markdown",
   "metadata": {},
   "source": [
    "Or you can implement it yourself using `Path.iterdir()`."
   ]
  },
  {
   "cell_type": "markdown",
   "metadata": {},
   "source": [
    "## Reference\n",
    "\n",
    "https://stackoverflow.com/questions/10377998/how-can-i-iterate-over-files-in-a-given-directory\n",
    "\n",
    "https://docs.python.org/3/library/pathlib.html#pathlib.Path.iterdir"
   ]
  },
  {
   "cell_type": "code",
   "execution_count": null,
   "metadata": {},
   "outputs": [],
   "source": []
  }
 ],
 "metadata": {
  "kernelspec": {
   "display_name": "Python 3",
   "language": "python",
   "name": "python3"
  },
  "language_info": {
   "codemirror_mode": {
    "name": "ipython",
    "version": 3
   },
   "file_extension": ".py",
   "mimetype": "text/x-python",
   "name": "python",
   "nbconvert_exporter": "python",
   "pygments_lexer": "ipython3",
   "version": "3.7.5"
  }
 },
 "nbformat": 4,
 "nbformat_minor": 4
}