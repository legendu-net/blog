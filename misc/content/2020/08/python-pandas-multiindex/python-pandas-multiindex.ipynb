{
 "cells": [
  {
   "cell_type": "markdown",
   "metadata": {},
   "source": [
    "- Title: MultiIndexes in pandas\n",
    "- Slug: python-pandas-multiindex\n",
    "- Date: 2020-08-10 11:01:40\n",
    "- Category: Computer Science\n",
    "- Tags: programming, Python, pandas, Index, DataFrame, MultiIndex\n",
    "- Author: Ben Du\n",
    "- Modified: 2020-08-10 11:01:40\n"
   ]
  },
  {
   "cell_type": "markdown",
   "metadata": {},
   "source": [
    "## Multi-Index"
   ]
  },
  {
   "cell_type": "code",
   "execution_count": null,
   "metadata": {
    "collapsed": true,
    "jupyter": {
     "outputs_hidden": true
    }
   },
   "outputs": [],
   "source": [
    "pd.MultiIndex.from_product([[jj.index.name], jj.index.values])"
   ]
  },
  {
   "cell_type": "markdown",
   "metadata": {},
   "source": [
    "## Get Levels"
   ]
  },
  {
   "cell_type": "markdown",
   "metadata": {},
   "source": [
    "https://pandas.pydata.org/pandas-docs/stable/user_guide/advanced.html"
   ]
  },
  {
   "cell_type": "code",
   "execution_count": null,
   "metadata": {},
   "outputs": [],
   "source": [
    "get_level_values"
   ]
  },
  {
   "cell_type": "code",
   "execution_count": null,
   "metadata": {},
   "outputs": [],
   "source": [
    "it seems to me that there are even easier ways sometimes ..."
   ]
  },
  {
   "cell_type": "markdown",
   "metadata": {},
   "source": [
    "Extract columns whose 2nd-level index is `bi` from the data frame `df`."
   ]
  },
  {
   "cell_type": "code",
   "execution_count": null,
   "metadata": {},
   "outputs": [],
   "source": [
    "df.loc(axis=1)[:, 'bi']"
   ]
  },
  {
   "cell_type": "markdown",
   "metadata": {},
   "source": [
    "## References \n",
    "\n",
    "https://www.youtube.com/watch?v=tcRGa2soc-c\n",
    "\n",
    "https://pandas.pydata.org/pandas-docs/stable/advanced.html\n",
    "\n",
    "https://jakevdp.github.io/PythonDataScienceHandbook/03.05-hierarchical-indexing.html\n",
    "\n",
    "http://www.legendu.net/misc/blog/python-pandas-multiindex-add-level/\n",
    "\n",
    "http://www.legendu.net/misc/blog/python-pandas-multiindex-construct/\n",
    "\n",
    "http://www.legendu.net/misc/blog/python-pandas-index/"
   ]
  },
  {
   "cell_type": "code",
   "execution_count": null,
   "metadata": {},
   "outputs": [],
   "source": []
  }
 ],
 "metadata": {
  "kernelspec": {
   "display_name": "Python 3",
   "language": "python",
   "name": "python3"
  },
  "language_info": {
   "codemirror_mode": {
    "name": "ipython",
    "version": 3
   },
   "file_extension": ".py",
   "mimetype": "text/x-python",
   "name": "python",
   "nbconvert_exporter": "python",
   "pygments_lexer": "ipython3",
   "version": "3.7.5"
  }
 },
 "nbformat": 4,
 "nbformat_minor": 4
}