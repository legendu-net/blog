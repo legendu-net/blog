{
 "cells": [
  {
   "cell_type": "markdown",
   "metadata": {},
   "source": [
    "- Author: Ben Du\n",
    "- Date: 2020-08-13 13:12:21\n",
    "- Title: SQL Style And Formatter\n",
    "- Slug: sql-style-and-formatter\n",
    "- Category: Computer Science\n",
    "- Tags: Computer Science, SQL, programming, format, formatter, formatting, style, sqlfluff\n",
    "- Modified: 2020-12-13 13:12:21\n"
   ]
  },
  {
   "cell_type": "markdown",
   "metadata": {},
   "source": [
    "## Python Libraries\n",
    "\n",
    "\n",
    "### [sqlfluff](http://www.legendu.net/misc/blog/tips-on-sqlfluff)\n",
    "\n",
    "The command `sqlfluff fix` can be used to fix issues (including formatting issues) in SQL code. \n",
    "It can be used as a tool to format SQL code. \n",
    "However, \n",
    "`sqlfluff fix` runs extremely slow. \n",
    "\n",
    "### [dsutil.sql.format](https://github.com/dclong/dsutil/blob/dev/dsutil/sql.py#L7)\n",
    "[dsutil.sql.format](https://github.com/dclong/dsutil/blob/dev/dsutil/sql.py#L7)\n",
    "is a good SQL formatting tool \n",
    "which is a combination of pgFormatter and sqlparse.\n",
    "\n",
    "### [andialbrecht/sqlparse](https://github.com/andialbrecht/sqlparse)\n",
    "\n",
    "You can also use the Python library \n",
    "[andialbrecht/sqlparse](https://github.com/andialbrecht/sqlparse)\n",
    "to help you format SQL queries.\n",
    "It is actually the backend of [SQLFormat](https://sqlformat.org/)."
   ]
  },
  {
   "cell_type": "code",
   "execution_count": 12,
   "metadata": {},
   "outputs": [
    {
     "name": "stdout",
     "output_type": "stream",
     "text": [
      "Collecting sqlparse\n",
      "  Downloading sqlparse-0.4.1-py3-none-any.whl (42 kB)\n",
      "\u001b[K     |\u2588\u2588\u2588\u2588\u2588\u2588\u2588\u2588\u2588\u2588\u2588\u2588\u2588\u2588\u2588\u2588\u2588\u2588\u2588\u2588\u2588\u2588\u2588\u2588\u2588\u2588\u2588\u2588\u2588\u2588\u2588\u2588| 42 kB 1.0 MB/s \n",
      "\u001b[?25hInstalling collected packages: sqlparse\n",
      "Successfully installed sqlparse-0.4.1\n"
     ]
    }
   ],
   "source": [
    "!pip3 install sqlparse"
   ]
  },
  {
   "cell_type": "code",
   "execution_count": 6,
   "metadata": {},
   "outputs": [],
   "source": [
    "import sqlparse as sp"
   ]
  },
  {
   "cell_type": "code",
   "execution_count": 18,
   "metadata": {},
   "outputs": [
    {
     "name": "stdout",
     "output_type": "stream",
     "text": [
      "\n",
      "SELECT c1,\n",
      "       c2 /* this is a comment */\n",
      "FROM t1\n",
      "JOIN t2 ON t1.id = t2.id\n",
      "AND t1.city = 'Shanghai'\n",
      "WHERE c1 > 1\n"
     ]
    }
   ],
   "source": [
    "sql = \"\"\"\n",
    "    select c1, c2 /* this is a comment */\n",
    "    from t1 join t2 on t1.id = t2.id and t1.city = 'Shanghai' where c1 > 1\n",
    "    \"\"\"\n",
    "sql_fmt = sp.format(\n",
    "    sql,\n",
    "    keyword_case=\"upper\",\n",
    "    identifier_case=\"lower\",\n",
    "    strip_comments=False,\n",
    "    reindent=True,\n",
    "    indent_width=2\n",
    ")\n",
    "print(sql_fmt)"
   ]
  },
  {
   "cell_type": "code",
   "execution_count": 5,
   "metadata": {},
   "outputs": [
    {
     "name": "stdout",
     "output_type": "stream",
     "text": [
      "\n",
      "CREATE TABLE db.table AS\n",
      "SELECT c1,\n",
      "       c2 /* this is a comment */\n",
      "FROM t\n",
      "WHERE c1 > 1\n"
     ]
    }
   ],
   "source": [
    "sql = \"\"\"\n",
    "    create table db.table as\n",
    "    select c1, c2 /* this is a comment */\n",
    "    from t where c1 > 1\n",
    "    \"\"\"\n",
    "sql_fmt = sp.format(\n",
    "    sql,\n",
    "    keyword_case=\"upper\",\n",
    "    identifier_case=\"lower\",\n",
    "    strip_comments=False,\n",
    "    reindent=True,\n",
    "    indent_width=2\n",
    ")\n",
    "print(sql_fmt)"
   ]
  },
  {
   "cell_type": "code",
   "execution_count": 17,
   "metadata": {},
   "outputs": [
    {
     "name": "stdout",
     "output_type": "stream",
     "text": [
      "\n",
      "SELECT c1,\n",
      "       c2 /* this is a comment */\n",
      "FROM student s\n",
      "JOIN\n",
      "  (SELECT c1,\n",
      "          c2,\n",
      "          c3,\n",
      "          c4,\n",
      "          CASE\n",
      "              WHEN c5 >0 THEN 1\n",
      "              ELSE 0\n",
      "          END AS c5\n",
      "   FROM CLASS\n",
      "   WHERE id > 0) c ON s.id = c.id\n",
      "JOIN table3 ON s.id = table3.id\n",
      "WHERE c1 > 1\n"
     ]
    }
   ],
   "source": [
    "sql = \"\"\"\n",
    "    select c1, c2 /* this is a comment */\n",
    "    from student S join (select c1, c2, c3, c4, case when c5 >0 then 1 else 0 end as c5 from class where id > 0) C on S.id = C.id \n",
    "    join table3 on s.id = table3.id where c1 > 1\n",
    "    \"\"\"\n",
    "sql_fmt = sp.format(\n",
    "    sql,\n",
    "    keyword_case=\"upper\",\n",
    "    identifier_case=\"lower\",\n",
    "    strip_comments=False,\n",
    "    reindent=True,\n",
    "    indent_width=2\n",
    ")\n",
    "print(sql_fmt)"
   ]
  },
  {
   "cell_type": "markdown",
   "metadata": {},
   "source": [
    "## JavaScipt/TypeScript Libraries\n",
    "\n",
    "https://github.com/zeroturnaround/sql-formatter\n"
   ]
  },
  {
   "cell_type": "markdown",
   "metadata": {},
   "source": [
    "\n",
    "## Java Libraries\n",
    "\n",
    "[vertical-blank/sql-formatter](https://github.com/vertical-blank/sql-formatter)\n",
    "is Java port of the great JS-based SQL formatter \n",
    "[zeroturnaround/sql-formatter](https://github.com/zeroturnaround/sql-formatter)\n",
    "(which is itself a JS port of the PHP-based SQL formatter.)\n"
   ]
  },
  {
   "cell_type": "code",
   "execution_count": 6,
   "metadata": {},
   "outputs": [
    {
     "name": "stdout",
     "output_type": "stream",
     "text": [
      "--2020-12-04 19:58:11--  https://repo1.maven.org/maven2/com/github/vertical-blank/sql-formatter/1.0.3/sql-formatter-1.0.3.jar\n",
      "Resolving repo1.maven.org (repo1.maven.org)... 151.101.52.209\n",
      "Connecting to repo1.maven.org (repo1.maven.org)|151.101.52.209|:443... connected.\n",
      "HTTP request sent, awaiting response... 200 OK\n",
      "Length: 53175 (52K) [application/java-archive]\n",
      "Saving to: \u2018sql-formatter-1.0.3.jar.1\u2019\n",
      "\n",
      "sql-formatter-1.0.3 100%[===================>]  51.93K   288KB/s    in 0.2s    \n",
      "\n",
      "2020-12-04 19:58:12 (288 KB/s) - \u2018sql-formatter-1.0.3.jar.1\u2019 saved [53175/53175]\n",
      "\n"
     ]
    }
   ],
   "source": [
    "!wget https://repo1.maven.org/maven2/com/github/vertical-blank/sql-formatter/1.0.3/sql-formatter-1.0.3.jar"
   ]
  },
  {
   "cell_type": "code",
   "execution_count": 7,
   "metadata": {},
   "outputs": [
    {
     "name": "stdout",
     "output_type": "stream",
     "text": [
      "Requirement already satisfied: JPype1 in /usr/local/lib/python3.8/site-packages (1.1.2)\n"
     ]
    }
   ],
   "source": [
    "!pip3 install JPype1"
   ]
  },
  {
   "cell_type": "code",
   "execution_count": 1,
   "metadata": {},
   "outputs": [
    {
     "name": "stdout",
     "output_type": "stream",
     "text": [
      "/Users/dclong/archives/blog/misc/content/sql-formatter-1.0.3.jar\n"
     ]
    }
   ],
   "source": [
    "from pathlib import Path\n",
    "import jpype\n",
    "import jpype.imports\n",
    "jpype.addClassPath(Path(\"sql-formatter-1.0.3.jar\").resolve())\n",
    "jpype.startJVM()\n",
    "print(jpype.java.lang.System.getProperty(\"java.class.path\"))\n",
    "import com.github.vertical_blank.sqlformatter.SqlFormatter as SqlFormatter"
   ]
  },
  {
   "cell_type": "code",
   "execution_count": 2,
   "metadata": {},
   "outputs": [
    {
     "name": "stdout",
     "output_type": "stream",
     "text": [
      "select\n",
      "  c1,\n",
      "  c2\n",
      "  /* this is a comment */\n",
      "from\n",
      "  t\n",
      "where\n",
      "  c1 > 1\n"
     ]
    }
   ],
   "source": [
    "sql = \"\"\"\n",
    "    select c1, c2 /* this is a comment */\n",
    "    from t where c1 > 1\n",
    "    \"\"\"\n",
    "print(SqlFormatter.format(sql))"
   ]
  },
  {
   "cell_type": "code",
   "execution_count": 3,
   "metadata": {},
   "outputs": [
    {
     "name": "stdout",
     "output_type": "stream",
     "text": [
      "Help on function format in module _jpype:\n",
      "\n",
      "format(*args) -> jpype._jstring.java.lang.String\n",
      "    Java method dispatch 'format' for 'com.github.vertical_blank.sqlformatter.SqlFormatter'\n",
      "    \n",
      "    Static Methods:\n",
      "      * java.lang.String format(java.lang.String, java.lang.String, java.util.Map)\n",
      "      * java.lang.String format(java.lang.String, java.util.List)\n",
      "      * java.lang.String format(java.lang.String, java.lang.String, java.util.List)\n",
      "      * java.lang.String format(java.lang.String, com.github.vertical_blank.sqlformatter.core.FormatConfig)\n",
      "      * java.lang.String format(java.lang.String)\n",
      "      * java.lang.String format(java.lang.String, java.util.Map)\n",
      "      * java.lang.String format(java.lang.String, java.lang.String)\n",
      "    \n",
      "    Returns:\n",
      "      java.lang.String\n",
      "\n"
     ]
    }
   ],
   "source": [
    "help(SqlFormatter.format)"
   ]
  },
  {
   "cell_type": "code",
   "execution_count": 4,
   "metadata": {},
   "outputs": [
    {
     "name": "stdout",
     "output_type": "stream",
     "text": [
      "select\n",
      "    c1,\n",
      "    c2\n",
      "    /* this is a comment */\n",
      "from\n",
      "    student S\n",
      "    join (\n",
      "        select\n",
      "            c1,\n",
      "            c2,\n",
      "            c3,\n",
      "            c4,\n",
      "            case\n",
      "                when c5 > 0 then 1\n",
      "                else 0\n",
      "            end as c5\n",
      "        from\n",
      "            class\n",
      "        where\n",
      "            id > 0\n",
      "    ) C on S.id = C.id\n",
      "where\n",
      "    c1 > 1\n"
     ]
    }
   ],
   "source": [
    "sql = \"\"\"\n",
    "    select c1, c2 /* this is a comment */\n",
    "    from student S join (select c1, c2, c3, c4, case when c5 >0 then 1 else 0 end as c5 from class where id > 0) C on S.id = C.id where c1 > 1\n",
    "    \"\"\"\n",
    "print(SqlFormatter.format(sql, \"    \"))"
   ]
  },
  {
   "cell_type": "markdown",
   "metadata": {},
   "source": [
    "## Perl Libraries\n",
    "\n",
    "### [pgFormatter](https://github.com/darold/pgFormatter)\n",
    "[pgFormatter](https://github.com/darold/pgFormatter)\n",
    "is a PostgreSQL SQL syntax beautifier that can work as a console program or as a CGI."
   ]
  },
  {
   "cell_type": "markdown",
   "metadata": {},
   "source": [
    "\n",
    "## PHP Libraries\n",
    "\n",
    "[jdorn/sql-formatter](https://github.com/jdorn/sql-formatter)\n"
   ]
  },
  {
   "cell_type": "markdown",
   "metadata": {},
   "source": [
    "## Online SQL Formatting Tools\n",
    "\n",
    "You can use online SQL formatters to help you format SQL queries.\n",
    "\n",
    "1. [SQL-Formatter](https://www.freeformatter.com/sql-formatter.html) seems to be a good one.\n",
    "\n",
    "2. [SQL formatter from ExtendsClass](https://extendsclass.com/sql-formatter.html)\n",
    "\n",
    "2. [EverSQL Query Formatter](https://www.eversql.com/sql-query-formatter/)\n",
    "\n",
    "4. [SQL Formatter for Java - Demo](https://www.vertical-blank.com/sql-formatter/)\n",
    "\n",
    "1. [Instant SQL Formatter](http://www.dpriver.com/pp/sqlformat.htm)\n",
    "\n",
    "2. [SQLFormat](https://sqlformat.org/)\n",
    "\n",
    "3. [SQL Formatter](http://www.sql-format.com/)\n",
    "\n",
    "4. [SQL Formatter - Code Beautify](https://codebeautify.org/sqlformatter)\n",
    "\n",
    "5. [Poor SQL](https://poorsql.com/)\n"
   ]
  },
  {
   "cell_type": "markdown",
   "metadata": {},
   "source": [
    "\n",
    "## SQL Style and Formatting\n",
    "\n",
    "https://www.sqlstyle.guide/\n",
    "\n",
    "1. `||` works differently on different date types. \n",
    "    This is because different data types have different (default) padding/formatting styles.\n",
    "    You can manually cast date types to produce the format you want. \n",
    "\n",
    "2. some people like to put `,` \n",
    "    before column names in select, \n",
    "    I don't think this is a good practices, \n",
    "    as what if we want to remove the first column? \n",
    "    it similarly inconvenient to removing the last column when put comma after column names\n"
   ]
  },
  {
   "cell_type": "markdown",
   "metadata": {},
   "source": [
    "\n",
    "## References\n",
    "\n",
    "https://stackoverflow.com/questions/3310188/what-free-sql-formatting-tools-exist\n",
    "\n",
    "http://stackoverflow.com/questions/1394998/parsing-sql-with-python\n"
   ]
  },
  {
   "cell_type": "code",
   "execution_count": null,
   "metadata": {},
   "outputs": [],
   "source": []
  }
 ],
 "metadata": {
  "file_extension": ".py",
  "kernelspec": {
   "display_name": "Python 3.8.6 64-bit",
   "metadata": {
    "interpreter": {
     "hash": "aee8b7b246df8f9039afb4144a1f6fd8d2ca17a180786b69acc140d282b71a49"
    }
   },
   "name": "python3"
  },
  "language_info": {
   "codemirror_mode": {
    "name": "ipython",
    "version": 3
   },
   "name": "python",
   "version": "3.8.6-final"
  },
  "mimetype": "text/x-python",
  "name": "python",
  "npconvert_exporter": "python",
  "pygments_lexer": "ipython3",
  "version": 3
 },
 "nbformat": 4,
 "nbformat_minor": 2
}