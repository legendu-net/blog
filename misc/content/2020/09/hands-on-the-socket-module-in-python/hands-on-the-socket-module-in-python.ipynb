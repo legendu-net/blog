{
 "cells": [
  {
   "cell_type": "markdown",
   "metadata": {},
   "source": [
    "- Author: Ben Du\n",
    "- Date: 2020-09-05 13:15:27\n",
    "- Title: Hands on the Socket Module in Python\n",
    "- Slug: hands-on-the-socket-module-in-python\n",
    "- Category: Computer Science\n",
    "- Tags: Computer Science, \n",
    "- Modified: 2020-09-05 13:15:27\n"
   ]
  },
  {
   "cell_type": "code",
   "execution_count": 1,
   "metadata": {},
   "outputs": [],
   "source": [
    "import socket"
   ]
  },
  {
   "cell_type": "code",
   "execution_count": 3,
   "metadata": {},
   "outputs": [],
   "source": [
    "hostname = socket.gethostname()"
   ]
  },
  {
   "cell_type": "code",
   "execution_count": 4,
   "metadata": {},
   "outputs": [
    {
     "output_type": "execute_result",
     "data": {
      "text/plain": "'172.17.0.3'"
     },
     "metadata": {},
     "execution_count": 4
    }
   ],
   "source": [
    "socket.gethostbyname(hostname)"
   ]
  },
  {
   "cell_type": "code",
   "execution_count": 7,
   "metadata": {},
   "outputs": [
    {
     "output_type": "execute_result",
     "data": {
      "text/plain": "['gethostbyaddr',\n 'gethostbyname',\n 'gethostbyname_ex',\n 'gethostname',\n 'sethostname']"
     },
     "metadata": {},
     "execution_count": 7
    }
   ],
   "source": [
    "[m for m in dir(socket) if \"host\" in m]"
   ]
  },
  {
   "cell_type": "code",
   "execution_count": null,
   "metadata": {},
   "outputs": [],
   "source": []
  }
 ],
 "metadata": {
  "language_info": {
   "name": "python",
   "codemirror_mode": {
    "name": "ipython",
    "version": 3
   },
   "version": "3.8.2-final"
  },
  "orig_nbformat": 2,
  "file_extension": ".py",
  "mimetype": "text/x-python",
  "name": "python",
  "npconvert_exporter": "python",
  "pygments_lexer": "ipython3",
  "version": 3,
  "kernelspec": {
   "name": "python38264bit849ce48c85d447e1ba1c3b410d8ddf11",
   "display_name": "Python 3.8.2 64-bit"
  }
 },
 "nbformat": 4,
 "nbformat_minor": 2
}