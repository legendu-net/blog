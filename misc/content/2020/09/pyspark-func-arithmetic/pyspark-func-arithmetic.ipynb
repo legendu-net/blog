{
 "cells": [
  {
   "cell_type": "markdown",
   "source": [
    "- Author: Ben Du\n",
    "- Date: 2020-09-05 14:56:47\n",
    "- Title: Arithmetic Functions and Operations in Spark\n",
    "- Slug: pyspark-func-arithmetic\n",
    "- Category: Computer Science\n",
    "- Tags: programming, Spark, DataFrame, arithmetic, Spark SQL, functions, modulus\n",
    "- Modified: 2021-09-30 17:35:09\n"
   ],
   "metadata": {}
  },
  {
   "cell_type": "code",
   "execution_count": 1,
   "source": [
    "import pandas as pd"
   ],
   "outputs": [],
   "metadata": {}
  },
  {
   "cell_type": "code",
   "execution_count": 5,
   "source": [
    "from pathlib import Path\n",
    "import findspark\n",
    "\n",
    "# findspark.init(str(next(Path(\"/opt\").glob(\"spark-3*\"))))\n",
    "findspark.init(\"/opt/spark-3.0.1-bin-hadoop3.2/\")\n",
    "# findspark.init(\"/opt/spark-2.3.0-bin-hadoop2.7\")\n",
    "\n",
    "from pyspark.sql import SparkSession, DataFrame\n",
    "from pyspark.sql.functions import *\n",
    "from pyspark.sql.types import StructType\n",
    "\n",
    "spark = (\n",
    "    SparkSession.builder.appName(\"PySpark_Str_Func\").enableHiveSupport().getOrCreate()\n",
    ")"
   ],
   "outputs": [],
   "metadata": {}
  },
  {
   "cell_type": "code",
   "execution_count": 3,
   "source": [
    "df = spark.createDataFrame(\n",
    "    pd.DataFrame(data=[(5.0, 11), (8.0, 20), (1.0, -33)], columns=[\"x\", \"y\"])\n",
    ")\n",
    "df.show()"
   ],
   "outputs": [
    {
     "output_type": "stream",
     "name": "stdout",
     "text": [
      "+---+---+\n",
      "|  x|  y|\n",
      "+---+---+\n",
      "|5.0| 11|\n",
      "|8.0| 20|\n",
      "|1.0|-33|\n",
      "+---+---+\n",
      "\n"
     ]
    }
   ],
   "metadata": {
    "tags": []
   }
  },
  {
   "cell_type": "code",
   "execution_count": 5,
   "source": [
    "df.withColumn(\"z\", col(\"y\") + 1).show()"
   ],
   "outputs": [
    {
     "output_type": "stream",
     "name": "stdout",
     "text": [
      "+---+---+---+\n",
      "|  x|  y|  z|\n",
      "+---+---+---+\n",
      "|5.0| 11| 12|\n",
      "|8.0| 20| 21|\n",
      "|1.0|-33|-32|\n",
      "+---+---+---+\n",
      "\n"
     ]
    }
   ],
   "metadata": {}
  },
  {
   "cell_type": "code",
   "execution_count": 6,
   "source": [
    "df.withColumn(\"z\", col(\"y\") - 1).show()"
   ],
   "outputs": [
    {
     "output_type": "stream",
     "name": "stdout",
     "text": [
      "+---+---+---+\n",
      "|  x|  y|  z|\n",
      "+---+---+---+\n",
      "|5.0| 11| 10|\n",
      "|8.0| 20| 19|\n",
      "|1.0|-33|-34|\n",
      "+---+---+---+\n",
      "\n"
     ]
    }
   ],
   "metadata": {}
  },
  {
   "cell_type": "code",
   "execution_count": 7,
   "source": [
    "df.withColumn(\"z\", col(\"y\") * 2).show()"
   ],
   "outputs": [
    {
     "output_type": "stream",
     "name": "stdout",
     "text": [
      "+---+---+---+\n",
      "|  x|  y|  z|\n",
      "+---+---+---+\n",
      "|5.0| 11| 22|\n",
      "|8.0| 20| 40|\n",
      "|1.0|-33|-66|\n",
      "+---+---+---+\n",
      "\n"
     ]
    }
   ],
   "metadata": {}
  },
  {
   "cell_type": "code",
   "execution_count": 8,
   "source": [
    "df.withColumn(\"z\", col(\"y\") / 2).show()"
   ],
   "outputs": [
    {
     "output_type": "stream",
     "name": "stdout",
     "text": [
      "+---+---+-----+\n",
      "|  x|  y|    z|\n",
      "+---+---+-----+\n",
      "|5.0| 11|  5.5|\n",
      "|8.0| 20| 10.0|\n",
      "|1.0|-33|-16.5|\n",
      "+---+---+-----+\n",
      "\n"
     ]
    }
   ],
   "metadata": {}
  },
  {
   "cell_type": "markdown",
   "source": [
    "## Modulus (`%`)"
   ],
   "metadata": {}
  },
  {
   "cell_type": "code",
   "execution_count": 16,
   "source": [
    "df.withColumn(\"z\", col(\"y\") % 5).show()"
   ],
   "outputs": [
    {
     "output_type": "stream",
     "name": "stdout",
     "text": [
      "+---+---+---+\n",
      "|  x|  y|  z|\n",
      "+---+---+---+\n",
      "|5.0| 11|  1|\n",
      "|8.0| 20|  0|\n",
      "|1.0|-33| -3|\n",
      "+---+---+---+\n",
      "\n"
     ]
    }
   ],
   "metadata": {}
  },
  {
   "cell_type": "code",
   "execution_count": 17,
   "source": [
    "df.withColumn(\"z\", expr(\"y % 5\")).show()"
   ],
   "outputs": [
    {
     "output_type": "stream",
     "name": "stdout",
     "text": [
      "+---+---+---+\n",
      "|  x|  y|  z|\n",
      "+---+---+---+\n",
      "|5.0| 11|  1|\n",
      "|8.0| 20|  0|\n",
      "|1.0|-33| -3|\n",
      "+---+---+---+\n",
      "\n"
     ]
    }
   ],
   "metadata": {}
  },
  {
   "cell_type": "code",
   "execution_count": 18,
   "source": [
    "df.withColumn(\"z\", expr(\"mod(y, 5)\")).show()"
   ],
   "outputs": [
    {
     "output_type": "stream",
     "name": "stdout",
     "text": [
      "+---+---+---+\n",
      "|  x|  y|  z|\n",
      "+---+---+---+\n",
      "|5.0| 11|  1|\n",
      "|8.0| 20|  0|\n",
      "|1.0|-33| -3|\n",
      "+---+---+---+\n",
      "\n"
     ]
    }
   ],
   "metadata": {}
  },
  {
   "cell_type": "code",
   "execution_count": 19,
   "source": [
    "df.withColumn(\"z\", expr(\"pmod(y, 5)\")).show()"
   ],
   "outputs": [
    {
     "output_type": "stream",
     "name": "stdout",
     "text": [
      "+---+---+---+\n",
      "|  x|  y|  z|\n",
      "+---+---+---+\n",
      "|5.0| 11|  1|\n",
      "|8.0| 20|  0|\n",
      "|1.0|-33|  2|\n",
      "+---+---+---+\n",
      "\n"
     ]
    }
   ],
   "metadata": {}
  },
  {
   "cell_type": "code",
   "execution_count": 20,
   "source": [
    "df.createOrReplaceTempView(\"df\")"
   ],
   "outputs": [],
   "metadata": {}
  },
  {
   "cell_type": "code",
   "execution_count": 25,
   "source": [
    "spark.sql(\"select x, y, y % 5 as z from df\").show()"
   ],
   "outputs": [
    {
     "output_type": "stream",
     "name": "stdout",
     "text": [
      "+---+---+---+\n",
      "|  x|  y|  z|\n",
      "+---+---+---+\n",
      "|5.0| 11|  1|\n",
      "|8.0| 20|  0|\n",
      "|1.0|-33| -3|\n",
      "+---+---+---+\n",
      "\n"
     ]
    }
   ],
   "metadata": {}
  },
  {
   "cell_type": "code",
   "execution_count": 26,
   "source": [
    "spark.sql(\"select x, y, mod(y, 5) as z from df\").show()"
   ],
   "outputs": [
    {
     "output_type": "stream",
     "name": "stdout",
     "text": [
      "+---+---+---+\n",
      "|  x|  y|  z|\n",
      "+---+---+---+\n",
      "|5.0| 11|  1|\n",
      "|8.0| 20|  0|\n",
      "|1.0|-33| -3|\n",
      "+---+---+---+\n",
      "\n"
     ]
    }
   ],
   "metadata": {}
  },
  {
   "cell_type": "code",
   "execution_count": 27,
   "source": [
    "spark.sql(\"select x, y, pmod(y, 5) as z from df\").show()"
   ],
   "outputs": [
    {
     "output_type": "stream",
     "name": "stdout",
     "text": [
      "+---+---+---+\n",
      "|  x|  y|  z|\n",
      "+---+---+---+\n",
      "|5.0| 11|  1|\n",
      "|8.0| 20|  0|\n",
      "|1.0|-33|  2|\n",
      "+---+---+---+\n",
      "\n"
     ]
    }
   ],
   "metadata": {}
  },
  {
   "cell_type": "markdown",
   "source": [
    "In Scala/Spark, \n",
    "primitive values must be after the operator.\n",
    "It won't work if the primitive value in a expression is before the arithmetic operator.\n",
    "There are 2 ways to resolve the issue.\n",
    "\n",
    "1. Use the `lit` to create a const column expression.\n",
    "2. Reorder the expression to make the primitive value after the operator.\n",
    "\n",
    "However, \n",
    "in PySpark primitive types can be used before the operator."
   ],
   "metadata": {}
  },
  {
   "cell_type": "code",
   "execution_count": 4,
   "source": [
    "df.withColumn(\"z\", 1 - col(\"y\")).show()"
   ],
   "outputs": [
    {
     "output_type": "stream",
     "name": "stdout",
     "text": [
      "+---+---+---+\n",
      "|  x|  y|  z|\n",
      "+---+---+---+\n",
      "|5.0| 11|-10|\n",
      "|8.0| 20|-19|\n",
      "|1.0|-33| 34|\n",
      "+---+---+---+\n",
      "\n"
     ]
    }
   ],
   "metadata": {}
  },
  {
   "cell_type": "code",
   "execution_count": 6,
   "source": [
    "df.withColumn(\"z\", lit(1) - col(\"y\")).show()"
   ],
   "outputs": [
    {
     "output_type": "stream",
     "name": "stdout",
     "text": [
      "+---+---+---+\n",
      "|  x|  y|  z|\n",
      "+---+---+---+\n",
      "|5.0| 11|-10|\n",
      "|8.0| 20|-19|\n",
      "|1.0|-33| 34|\n",
      "+---+---+---+\n",
      "\n"
     ]
    }
   ],
   "metadata": {}
  },
  {
   "cell_type": "markdown",
   "source": [
    "## References \n",
    "\n",
    "[Spark SQL Built-in Functions](https://spark.apache.org/docs/latest/api/sql/index.html)\n",
    "\n",
    "[Spark Scala Functions](https://spark.apache.org/docs/latest/api/scala/org/apache/spark/sql/functions$.html)\n",
    "\n",
    "https://obstkel.com/spark-sql-functions\n",
    "\n",
    "https://spark.apache.org/docs/latest/api/java/index.html?org/apache/spark/sql/functions.html"
   ],
   "metadata": {}
  },
  {
   "cell_type": "code",
   "execution_count": null,
   "source": [],
   "outputs": [],
   "metadata": {}
  }
 ],
 "metadata": {
  "kernelspec": {
   "display_name": "Python 3.7",
   "language": "python",
   "name": "python3.7"
  },
  "language_info": {
   "codemirror_mode": {
    "name": "ipython",
    "version": 3
   },
   "file_extension": ".py",
   "mimetype": "text/x-python",
   "name": "python",
   "nbconvert_exporter": "python",
   "pygments_lexer": "ipython3",
   "version": "3.7.9"
  }
 },
 "nbformat": 4,
 "nbformat_minor": 4
}