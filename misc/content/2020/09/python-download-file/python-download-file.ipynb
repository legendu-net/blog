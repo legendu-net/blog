{
 "cells": [
  {
   "cell_type": "markdown",
   "metadata": {},
   "source": [
    "- Title: Download Files from the Internet in Python\n",
    "- Slug: python-download-file\n",
    "- Date: 2020-09-04 09:16:10\n",
    "- Category: Computer Science\n",
    "- Tags: programming, Python, web, network, file, internet, download, requests, urllib, wget\n",
    "- Author: Ben Du\n",
    "- Modified: 2020-09-04 09:16:10\n"
   ]
  },
  {
   "cell_type": "markdown",
   "metadata": {},
   "source": [
    "The shell command `curl` and `wget` can be called (using `os.system` or `subprocess.run`)\n",
    "to download files from internet. \n",
    "You can also download files using Python modules directly of course."
   ]
  },
  {
   "cell_type": "code",
   "execution_count": 18,
   "metadata": {},
   "outputs": [],
   "source": [
    "url = \"http://www.legendu.net/media/download_code_server.py\""
   ]
  },
  {
   "cell_type": "markdown",
   "metadata": {},
   "source": [
    "## urllib.request.urlretrieve\n",
    "\n",
    "`urllib.request.urlretrieve` can be used to download a file from the internet to local.\n",
    "For more details,\n",
    "please refer to [Hands on the urllib Module in Python](http://www.legendu.net/misc/blog/hands-on-urlib-python/)."
   ]
  },
  {
   "cell_type": "code",
   "execution_count": 14,
   "metadata": {},
   "outputs": [],
   "source": [
    "import urllib.request\n",
    "file, http_msg = urllib.request.urlretrieve(\n",
    "    \"http://www.legendu.net/media/download_code_server.py\",\n",
    "    \"/tmp/download_code_server.py\"\n",
    ")"
   ]
  },
  {
   "cell_type": "code",
   "execution_count": 15,
   "metadata": {},
   "outputs": [
    {
     "data": {
      "text/plain": [
       "'/tmp/download_code_server.py'"
      ]
     },
     "execution_count": 15,
     "metadata": {},
     "output_type": "execute_result"
    }
   ],
   "source": [
    "file"
   ]
  },
  {
   "cell_type": "code",
   "execution_count": 9,
   "metadata": {},
   "outputs": [
    {
     "name": "stdout",
     "output_type": "stream",
     "text": [
      "/tmp/download_code_server.py\n"
     ]
    }
   ],
   "source": [
    "!ls /tmp/download_code_server.py"
   ]
  },
  {
   "cell_type": "code",
   "execution_count": 16,
   "metadata": {},
   "outputs": [
    {
     "data": {
      "text/plain": [
       "<http.client.HTTPMessage at 0x7fe9efcaa358>"
      ]
     },
     "execution_count": 16,
     "metadata": {},
     "output_type": "execute_result"
    }
   ],
   "source": [
    "http_msg"
   ]
  },
  {
   "cell_type": "code",
   "execution_count": 17,
   "metadata": {},
   "outputs": [
    {
     "data": {
      "text/plain": [
       "'Server: GitHub.com\\nContent-Type: application/octet-stream\\nLast-Modified: Fri, 24 Jan 2020 20:21:29 GMT\\nETag: \"5e2b51c9-2de\"\\nAccess-Control-Allow-Origin: *\\nExpires: Fri, 24 Jan 2020 20:34:29 GMT\\nCache-Control: max-age=600\\nX-Proxy-Cache: MISS\\nX-GitHub-Request-Id: 6ACA:869A:42BECA:4B481B:5E2B527D\\nContent-Length: 734\\nAccept-Ranges: bytes\\nDate: Fri, 24 Jan 2020 22:19:35 GMT\\nVia: 1.1 varnish\\nAge: 339\\nConnection: close\\nX-Served-By: cache-sea4480-SEA\\nX-Cache: HIT\\nX-Cache-Hits: 1\\nX-Timer: S1579904375.100592,VS0,VE0\\nVary: Accept-Encoding\\nX-Fastly-Request-ID: 44fa67063caa264fc25f2cc26353c8dfc534ae66\\n\\n'"
      ]
     },
     "execution_count": 17,
     "metadata": {},
     "output_type": "execute_result"
    }
   ],
   "source": [
    "http_msg.as_string()"
   ]
  },
  {
   "cell_type": "markdown",
   "metadata": {},
   "source": [
    "## requests\n",
    "\n",
    "Notice that you must open the file to write into with the mode `wb`."
   ]
  },
  {
   "cell_type": "code",
   "execution_count": 20,
   "metadata": {},
   "outputs": [],
   "source": [
    "import requests\n",
    "import shutil\n",
    "\n",
    "resp = requests.get(url, stream=True)\n",
    "if not resp.ok:\n",
    "    sys.exit(\"Network issue!\")\n",
    "with open(\"/tmp/download_code_server_2.py\", \"wb\") as fout:\n",
    "    shutil.copyfileobj(resp.raw, fout)"
   ]
  },
  {
   "cell_type": "code",
   "execution_count": 21,
   "metadata": {},
   "outputs": [
    {
     "name": "stdout",
     "output_type": "stream",
     "text": [
      "/tmp/download_code_server_2.py\n"
     ]
    }
   ],
   "source": [
    "!ls /tmp/download_code_server_2.py"
   ]
  },
  {
   "cell_type": "code",
   "execution_count": 22,
   "metadata": {},
   "outputs": [
    {
     "name": "stdout",
     "output_type": "stream",
     "text": [
      "#!/usr/bin/env python3\n",
      "import urllib.request\n",
      "import json\n",
      "\n",
      "\n",
      "class GitHubRepoRelease:\n",
      "\n",
      "    def __init__(self, repo):\n",
      "        self.repo = repo\n",
      "        url = f\"https://api.github.com/repos/{repo}/releases/latest\"\n",
      "        self._resp_http = urllib.request.urlopen(url)\n",
      "        self.release = json.load(self._resp_http)\n",
      "\n",
      "    def download_urls(self, func=None):\n",
      "        urls = [asset[\"browser_download_url\"] for asset in self.release[\"assets\"]]\n",
      "        if func:\n",
      "            urls = [url for url in urls if func(url)]\n",
      "        return urls\n",
      "\n",
      "\n",
      "if __name__ == '__main__':\n",
      "    release = GitHubRepoRelease(\"cdr/code-server\")\n",
      "    url = release.download_urls(lambda url: \"linux-x86_64\" in url)[0]\n",
      "    urllib.request.urlretrieve(url, \"/tmp/code.tar.gz\")\n"
     ]
    }
   ],
   "source": [
    "!cat /tmp/download_code_server_2.py"
   ]
  },
  {
   "cell_type": "markdown",
   "metadata": {},
   "source": [
    "## wget"
   ]
  },
  {
   "cell_type": "markdown",
   "metadata": {},
   "source": [
    "There is no option to overwrite an existing file currently. \n",
    "However, this can be achieved by renaming/moving the downloaded file (using `shutil`)."
   ]
  },
  {
   "cell_type": "code",
   "execution_count": 25,
   "metadata": {},
   "outputs": [
    {
     "data": {
      "text/plain": [
       "'/tmp/download_code_server_3.py'"
      ]
     },
     "execution_count": 25,
     "metadata": {},
     "output_type": "execute_result"
    }
   ],
   "source": [
    "import wget\n",
    "\n",
    "wget.download(url, out=\"/tmp/download_code_server_3.py\")"
   ]
  },
  {
   "cell_type": "code",
   "execution_count": 26,
   "metadata": {},
   "outputs": [
    {
     "data": {
      "text/plain": [
       "'/tmp/download_code_server_3 (1).py'"
      ]
     },
     "execution_count": 26,
     "metadata": {},
     "output_type": "execute_result"
    }
   ],
   "source": [
    "import wget\n",
    "\n",
    "wget.download(url, out=\"/tmp/download_code_server_3.py\", bar=wget.bar_adaptive)"
   ]
  },
  {
   "cell_type": "markdown",
   "metadata": {},
   "source": [
    "Configure proxy for the Python module wget."
   ]
  },
  {
   "cell_type": "code",
   "execution_count": null,
   "metadata": {},
   "outputs": [],
   "source": [
    "import socket\n",
    "import socks\n",
    "socks.set_default_proxy(socks.SOCKS5, \"localhost\")\n",
    "socket.socket = socks.socksocket"
   ]
  },
  {
   "cell_type": "markdown",
   "metadata": {},
   "source": [
    "## pycurl"
   ]
  },
  {
   "cell_type": "code",
   "execution_count": 29,
   "metadata": {},
   "outputs": [
    {
     "ename": "ModuleNotFoundError",
     "evalue": "No module named 'pycurl'",
     "output_type": "error",
     "traceback": [
      "\u001b[0;31m---------------------------------------------------------------------------\u001b[0m",
      "\u001b[0;31mModuleNotFoundError\u001b[0m                       Traceback (most recent call last)",
      "\u001b[0;32m<ipython-input-29-0c73f10fc26e>\u001b[0m in \u001b[0;36m<module>\u001b[0;34m\u001b[0m\n\u001b[0;32m----> 1\u001b[0;31m \u001b[0;32mimport\u001b[0m \u001b[0mpycurl\u001b[0m\u001b[0;34m\u001b[0m\u001b[0;34m\u001b[0m\u001b[0m\n\u001b[0m\u001b[1;32m      2\u001b[0m \u001b[0;34m\u001b[0m\u001b[0m\n\u001b[1;32m      3\u001b[0m \u001b[0;32mwith\u001b[0m \u001b[0mopen\u001b[0m\u001b[0;34m(\u001b[0m\u001b[0;34m'/tmp/download_code_server_4.py'\u001b[0m\u001b[0;34m,\u001b[0m \u001b[0;34m'wb'\u001b[0m\u001b[0;34m)\u001b[0m \u001b[0;32mas\u001b[0m \u001b[0mfout\u001b[0m\u001b[0;34m:\u001b[0m\u001b[0;34m\u001b[0m\u001b[0;34m\u001b[0m\u001b[0m\n\u001b[1;32m      4\u001b[0m     \u001b[0mc\u001b[0m \u001b[0;34m=\u001b[0m \u001b[0mpycurl\u001b[0m\u001b[0;34m.\u001b[0m\u001b[0mCurl\u001b[0m\u001b[0;34m(\u001b[0m\u001b[0;34m)\u001b[0m\u001b[0;34m\u001b[0m\u001b[0;34m\u001b[0m\u001b[0m\n\u001b[1;32m      5\u001b[0m     \u001b[0mc\u001b[0m\u001b[0;34m.\u001b[0m\u001b[0msetopt\u001b[0m\u001b[0;34m(\u001b[0m\u001b[0mc\u001b[0m\u001b[0;34m.\u001b[0m\u001b[0mURL\u001b[0m\u001b[0;34m,\u001b[0m \u001b[0murl\u001b[0m\u001b[0;34m)\u001b[0m\u001b[0;34m\u001b[0m\u001b[0;34m\u001b[0m\u001b[0m\n",
      "\u001b[0;31mModuleNotFoundError\u001b[0m: No module named 'pycurl'"
     ]
    }
   ],
   "source": [
    "import pycurl\n",
    "\n",
    "with open('/tmp/download_code_server_4.py', 'wb') as fout:\n",
    "    c = pycurl.Curl()\n",
    "    c.setopt(c.URL, url)\n",
    "    c.setopt(c.WRITEDATA, fout)\n",
    "    c.perform()\n",
    "    c.close()"
   ]
  },
  {
   "cell_type": "markdown",
   "metadata": {},
   "source": [
    "## References\n",
    "\n",
    "https://stackabuse.com/download-files-with-python/\n",
    "    \n",
    "https://stackoverflow.com/questions/22676/how-do-i-download-a-file-over-http-using-python"
   ]
  },
  {
   "cell_type": "code",
   "execution_count": null,
   "metadata": {},
   "outputs": [],
   "source": []
  }
 ],
 "metadata": {
  "kernelspec": {
   "display_name": "Python 3",
   "language": "python",
   "name": "python3"
  },
  "language_info": {
   "codemirror_mode": {
    "name": "ipython",
    "version": 3
   },
   "file_extension": ".py",
   "mimetype": "text/x-python",
   "name": "python",
   "nbconvert_exporter": "python",
   "pygments_lexer": "ipython3",
   "version": "3.7.3"
  }
 },
 "nbformat": 4,
 "nbformat_minor": 4
}