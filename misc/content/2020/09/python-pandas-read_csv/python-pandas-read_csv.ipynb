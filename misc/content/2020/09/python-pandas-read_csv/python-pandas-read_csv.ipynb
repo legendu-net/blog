{
 "cells": [
  {
   "cell_type": "markdown",
   "metadata": {},
   "source": [
    "- Title: Read Text File into a pandas DataFrame\n",
    "- Slug: python-pandas-read_csv\n",
    "- Date: 2020-09-05 13:46:29\n",
    "- Category: Computer Science\n",
    "- Tags: programming, Python, pandas, DataFrame, read_csv\n",
    "- Author: Ben Du\n",
    "- Modified: 2020-09-05 13:46:29\n"
   ]
  },
  {
   "cell_type": "markdown",
   "metadata": {},
   "source": [
    "## Advanced Options\n",
    "\n",
    "1. The argument `sep` supports regular expression!\n",
    "    For example,\n",
    "        \n",
    "        :::python\n",
    "        df = pd.read_csv(file, sep+\" +\")\n",
    "\n",
    "nrows: control the number of rows to read\n",
    "skiprows,\n",
    "skip blank lines (the default behavior)\n",
    "\n",
    "namesarray-like, optional\n",
    "List of column names to use. If the file contains a header row, then you should explicitly pass header=0 to override the column names. Duplicates in this list are not allowed."
   ]
  },
  {
   "cell_type": "markdown",
   "metadata": {},
   "source": [
    "### usecols (list-like or callable, optional)\n",
    "\n",
    "Return a subset of the columns. If list-like, all elements must either be positional (i.e. integer indices into the document columns) or strings that correspond to column names provided either by the user in names or inferred from the document header row(s). For example, a valid list-like usecols parameter would be [0, 1, 2] or ['foo', 'bar', 'baz']. Element order is ignored, so usecols=[0, 1] is the same as [1, 0]. To instantiate a DataFrame from data with element order preserved use pd.read_csv(data, usecols=['foo', 'bar'])[['foo', 'bar']] for columns in ['foo', 'bar'] order or pd.read_csv(data, usecols=['foo', 'bar'])[['bar', 'foo']] for ['bar', 'foo'] order.\n",
    "\n",
    "If callable, the callable function will be evaluated against the column names, returning names where the callable function evaluates to True. An example of a valid callable argument would be lambda x: x.upper() in ['AAA', 'BBB', 'DDD']. Using this parameter results in much faster parsing time and lower memory usage."
   ]
  },
  {
   "cell_type": "markdown",
   "metadata": {},
   "source": [
    "## skiprows: list-like, int or callable, optional\n",
    "\n",
    "Line numbers to skip (0-indexed) or number of lines to skip (int) at the start of the file.\n",
    "\n",
    "If callable, the callable function will be evaluated against the row indices, returning True if the row should be skipped and False otherwise. An example of a valid callable argument would be lambda x: x in [0, 2]."
   ]
  },
  {
   "cell_type": "markdown",
   "metadata": {},
   "source": [
    "## skip_blank_lines: bool, default True\n",
    "\n",
    "If True, skip over blank lines rather than interpreting as NaN values."
   ]
  },
  {
   "cell_type": "markdown",
   "metadata": {},
   "source": [
    "## References\n",
    "\n",
    "https://pandas.pydata.org/pandas-docs/stable/reference/api/pandas.read_csv.html"
   ]
  },
  {
   "cell_type": "code",
   "execution_count": null,
   "metadata": {},
   "outputs": [],
   "source": []
  }
 ],
 "metadata": {
  "kernelspec": {
   "display_name": "Python 3",
   "language": "python",
   "name": "python3"
  },
  "language_info": {
   "codemirror_mode": {
    "name": "ipython",
    "version": 3
   },
   "file_extension": ".py",
   "mimetype": "text/x-python",
   "name": "python",
   "nbconvert_exporter": "python",
   "pygments_lexer": "ipython3",
   "version": "3.7.3"
  }
 },
 "nbformat": 4,
 "nbformat_minor": 4
}