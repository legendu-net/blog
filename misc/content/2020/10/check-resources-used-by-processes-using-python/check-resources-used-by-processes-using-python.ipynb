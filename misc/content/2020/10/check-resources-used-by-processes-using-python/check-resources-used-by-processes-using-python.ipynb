{
 "nbformat": 4,
 "nbformat_minor": 2,
 "metadata": {
  "language_info": {
   "name": "python",
   "codemirror_mode": {
    "name": "ipython",
    "version": 3
   },
   "version": "3.8.5-final"
  },
  "orig_nbformat": 2,
  "file_extension": ".py",
  "mimetype": "text/x-python",
  "name": "python",
  "npconvert_exporter": "python",
  "pygments_lexer": "ipython3",
  "version": 3,
  "kernelspec": {
   "name": "Python 3.8.5 64-bit",
   "display_name": "Python 3.8.5 64-bit",
   "metadata": {
    "interpreter": {
     "hash": "aee8b7b246df8f9039afb4144a1f6fd8d2ca17a180786b69acc140d282b71a49"
    }
   }
  }
 },
 "cells": [
  {
   "cell_type": "markdown",
   "metadata": {},
   "source": [
    "- Author: Ben Du\n",
    "- Date: 2020-10-24 11:36:01\n",
    "- Title: Check Resources Used by Processes Using Python\n",
    "- Slug: check-resources-used-by-processes-using-python\n",
    "- Category: Computer Science\n",
    "- Tags: Computer Science, programming, Python, resource, process, system, psutil, tracemalloc\n",
    "- Modified: 2020-10-24 11:36:01\n"
   ]
  },
  {
   "source": [
    "## [Use the `resource` Library](http://www.legendu.net/misc/blog/hands-on-the-resource-module-in-python)\n",
    "\n",
    "Please refer to \n",
    "[Hands on the resource Module in Python](http://www.legendu.net/misc/blog/hands-on-the-resource-module-in-python)\n",
    "for more details.\n",
    "\n"
   ],
   "cell_type": "markdown",
   "metadata": {}
  },
  {
   "source": [
    "## Use the `tracemalloc` Library\n",
    "\n",
    "https://docs.python.org/3/library/tracemalloc.html#module-tracemalloc\n",
    "\n",
    "The tracemalloc module is a debug tool to trace memory blocks allocated by Python. It provides the following information:\n",
    "- Traceback where an object was allocated\n",
    "- Statistics on allocated memory blocks per filename and per line number: total size, number and average size of allocated memory blocks\n",
    "- Compute the differences between two snapshots to detect memory leaks"
   ],
   "cell_type": "markdown",
   "metadata": {}
  },
  {
   "source": [
    "## [Use the `psutil` Library](http://www.legendu.net/misc/blog/hands-on-psutil-python)\n",
    "\n",
    "Please refer to\n",
    "[Hands on the psutil Module in Python](http://www.legendu.net/misc/blog/hands-on-psutil-python)\n",
    "for details."
   ],
   "cell_type": "markdown",
   "metadata": {}
  },
  {
   "source": [
    "## References\n",
    "\n",
    "https://medium.com/survata-engineering-blog/monitoring-memory-usage-of-a-running-python-program-49f027e3d1ba\n",
    "\n",
    "[How to get current CPU and RAM usage in Python?](https://stackoverflow.com/questions/276052/how-to-get-current-cpu-and-ram-usage-in-python/2468983)\n",
    "\n",
    "[Total memory used by Python process?](https://stackoverflow.com/questions/938733/total-memory-used-by-python-process)"
   ],
   "cell_type": "markdown",
   "metadata": {}
  },
  {
   "cell_type": "code",
   "execution_count": null,
   "metadata": {},
   "outputs": [],
   "source": []
  }
 ]
}