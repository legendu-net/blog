{
 "nbformat": 4,
 "nbformat_minor": 2,
 "metadata": {
  "language_info": {
   "name": "python",
   "codemirror_mode": {
    "name": "ipython",
    "version": 3
   },
   "version": "3.8.5-final"
  },
  "orig_nbformat": 2,
  "file_extension": ".py",
  "mimetype": "text/x-python",
  "name": "python",
  "npconvert_exporter": "python",
  "pygments_lexer": "ipython3",
  "version": 3,
  "kernelspec": {
   "name": "Python 3.8.5 64-bit",
   "display_name": "Python 3.8.5 64-bit",
   "metadata": {
    "interpreter": {
     "hash": "aee8b7b246df8f9039afb4144a1f6fd8d2ca17a180786b69acc140d282b71a49"
    }
   }
  }
 },
 "cells": [
  {
   "cell_type": "markdown",
   "metadata": {},
   "source": [
    "- Author: Ben Du\n",
    "- Date: 2020-10-25 20:18:27\n",
    "- Title: Hands on the Hashlib Module in Python\n",
    "- Slug: hands-on-the-hashlib-module-in-python\n",
    "- Category: Computer Science\n",
    "- Tags: Computer Science, hash, hashlib, Python, programming, md5, sha256\n",
    "- Modified: 2020-10-25 20:18:27\n"
   ]
  },
  {
   "cell_type": "code",
   "execution_count": 1,
   "metadata": {},
   "outputs": [],
   "source": [
    "import hashlib"
   ]
  },
  {
   "cell_type": "code",
   "execution_count": 4,
   "metadata": {},
   "outputs": [
    {
     "output_type": "execute_result",
     "data": {
      "text/plain": [
       "'01d35666581d37ba3de9741c1122ee0a'"
      ]
     },
     "metadata": {},
     "execution_count": 4
    }
   ],
   "source": [
    "hashlib.md5(\"how are you doing\".encode()).hexdigest()"
   ]
  },
  {
   "source": [
    "## References\n",
    "\n",
    "https://docs.python.org/3/library/hashlib.html"
   ],
   "cell_type": "markdown",
   "metadata": {}
  },
  {
   "cell_type": "code",
   "execution_count": null,
   "metadata": {},
   "outputs": [],
   "source": []
  }
 ]
}