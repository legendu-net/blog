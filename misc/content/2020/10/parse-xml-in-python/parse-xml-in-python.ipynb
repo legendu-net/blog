{
 "nbformat": 4,
 "nbformat_minor": 2,
 "metadata": {
  "language_info": {
   "name": "python",
   "codemirror_mode": {
    "name": "ipython",
    "version": 3
   }
  },
  "orig_nbformat": 2,
  "file_extension": ".py",
  "mimetype": "text/x-python",
  "name": "python",
  "npconvert_exporter": "python",
  "pygments_lexer": "ipython3",
  "version": 3
 },
 "cells": [
  {
   "cell_type": "markdown",
   "metadata": {},
   "source": [
    "- Author: Ben Du\n",
    "- Date: 2020-10-07 15:43:47\n",
    "- Title: Parse Xml in Python\n",
    "- Slug: parse-xml-in-python\n",
    "- Category: Computer Science\n",
    "- Tags: Computer Science, Python, XML, HTML, XHTML, parse, ElementTree, HTMLParser, BeautifulSoup, Beautiful Soup\n",
    "- Modified: 2020-10-07 15:43:47\n"
   ]
  },
  {
   "source": [
    "\n",
    "\n",
    "xml.etree.ElementTree\n",
    "\n",
    "from html.parser import HTMLParser\n",
    "\n",
    "https://www.crummy.com/software/BeautifulSoup/bs4/doc/\n",
    "\n",
    "https://github.com/lxml/lxml\n",
    "\n",
    "`xml.etree.ElementTree` is for parsing strict XML text.\n",
    "Do NOT use `xml.etree.ElementTree` to parse HTML string.\n",
    "\n"
   ],
   "cell_type": "markdown",
   "metadata": {}
  },
  {
   "cell_type": "code",
   "execution_count": null,
   "metadata": {},
   "outputs": [],
   "source": []
  }
 ]
}