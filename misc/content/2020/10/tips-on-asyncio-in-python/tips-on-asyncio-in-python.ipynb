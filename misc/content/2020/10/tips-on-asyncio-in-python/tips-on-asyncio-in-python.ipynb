{
 "nbformat": 4,
 "nbformat_minor": 2,
 "metadata": {
  "language_info": {
   "name": "python",
   "codemirror_mode": {
    "name": "ipython",
    "version": 3
   }
  },
  "orig_nbformat": 2,
  "file_extension": ".py",
  "mimetype": "text/x-python",
  "name": "python",
  "npconvert_exporter": "python",
  "pygments_lexer": "ipython3",
  "version": 3
 },
 "cells": [
  {
   "cell_type": "markdown",
   "metadata": {},
   "source": [
    "- Author: Ben Du\n",
    "- Date: 2020-10-17 12:28:53\n",
    "- Title: Tips on asyncio in Python\n",
    "- Slug: tips-on-asyncio-in-python\n",
    "- Category: Computer Science\n",
    "- Tags: Computer Science, async, asyncio, Python\n",
    "- Modified: 2020-10-17 12:28:53\n"
   ]
  },
  {
   "source": [
    "tornado: async web frame \n",
    "\n",
    "https://github.com/dabeaz/curio\n",
    "\n",
    "https://github.com/python-trio/trio"
   ],
   "cell_type": "markdown",
   "metadata": {}
  },
  {
   "source": [
    "## References\n",
    "\n",
    "https://www.youtube.com/watch?v=Xbl7XjFYsN4"
   ],
   "cell_type": "markdown",
   "metadata": {}
  },
  {
   "cell_type": "code",
   "execution_count": null,
   "metadata": {},
   "outputs": [],
   "source": []
  }
 ]
}