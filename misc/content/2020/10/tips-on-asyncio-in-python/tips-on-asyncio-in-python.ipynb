{
 "cells": [
  {
   "cell_type": "markdown",
   "metadata": {},
   "source": [
    "- Author: Ben Du\n",
    "- Date: 2020-10-17 12:28:53\n",
    "- Title: Tips on asyncio in Python\n",
    "- Slug: tips-on-asyncio-in-python\n",
    "- Category: Computer Science\n",
    "- Tags: Computer Science, async, asyncio, Python\n",
    "- Modified: 2024-08-17 00:16:02\n"
   ]
  },
  {
   "cell_type": "markdown",
   "metadata": {},
   "source": [
    "tornado: async web frame \n",
    "\n",
    "https://github.com/dabeaz/curio\n",
    "\n",
    "https://github.com/python-trio/trio"
   ]
  },
  {
   "cell_type": "markdown",
   "metadata": {},
   "source": [
    "## async http client\n",
    "\n",
    "https://github.com/aio-libs/aiohttp"
   ]
  },
  {
   "cell_type": "markdown",
   "metadata": {},
   "source": [
    "## References\n",
    "\n",
    "https://www.youtube.com/watch?v=Xbl7XjFYsN4\n",
    "\n",
    "HTTPX vs Requests vs AIOHTTP\n",
    "\n",
    "https://oxylabs.io/blog/httpx-vs-requests-vs-aiohttp"
   ]
  },
  {
   "cell_type": "code",
   "execution_count": null,
   "metadata": {},
   "outputs": [],
   "source": []
  }
 ],
 "metadata": {
  "file_extension": ".py",
  "kernelspec": {
   "display_name": "Python 3 (ipykernel)",
   "language": "python",
   "name": "python3"
  },
  "language_info": {
   "codemirror_mode": {
    "name": "ipython",
    "version": 3
   },
   "file_extension": ".py",
   "mimetype": "text/x-python",
   "name": "python",
   "nbconvert_exporter": "python",
   "pygments_lexer": "ipython3",
   "version": "3.10.12"
  },
  "mimetype": "text/x-python",
  "name": "python",
  "npconvert_exporter": "python",
  "pygments_lexer": "ipython3",
  "version": 3
 },
 "nbformat": 4,
 "nbformat_minor": 4
}