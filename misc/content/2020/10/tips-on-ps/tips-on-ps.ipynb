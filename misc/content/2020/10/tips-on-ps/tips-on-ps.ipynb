{
 "nbformat": 4,
 "nbformat_minor": 2,
 "metadata": {
  "language_info": {
   "name": "python",
   "codemirror_mode": {
    "name": "ipython",
    "version": 3
   },
   "version": "3.8.2"
  },
  "orig_nbformat": 2,
  "file_extension": ".py",
  "mimetype": "text/x-python",
  "name": "python",
  "npconvert_exporter": "python",
  "pygments_lexer": "ipython3",
  "version": 3
 },
 "cells": [
  {
   "cell_type": "markdown",
   "metadata": {},
   "source": [
    "- Author: Ben Du\n",
    "- Date: 2020-10-03 23:48:48\n",
    "- Title: Tips on the Shell command ps\n",
    "- Slug: tips-on-ps\n",
    "- Category: Computer Science\n",
    "- Tags: Computer Science, ps, Linux, Unix, process, shell\n",
    "- Modified: 2020-11-03 23:48:48\n"
   ]
  },
  {
   "cell_type": "markdown",
   "metadata": {},
   "source": [
    "Show full comand of processes."
   ]
  },
  {
   "source": [
    "!ps -wwfaux"
   ],
   "cell_type": "code",
   "outputs": [
    {
     "output_type": "stream",
     "name": "stdout",
     "text": "USER         PID %CPU %MEM    VSZ   RSS TTY      STAT START   TIME COMMAND\ngitpod         1  0.5  0.0 716940 22932 ?        Ssl  17:57   0:02 /theia/supervisor run\ngitpod        14 10.8  0.4 573904 289780 ?       Rl   17:57   0:48 /theia/node/bin/gitpod-node ./src-gen/backend/main.js /workspace/blog --port 23000 --hostname 0.0.0.0\ngitpod       837  0.0  0.0   8436  5284 pts/0    Ss+  17:58   0:00  \\_ /bin/bash -i\ngitpod       861  1.3  0.1 370636 88748 ?        Sl   17:58   0:06  \\_ /theia/node/bin/gitpod-node /theia/node_modules/@theia/core/lib/node/messaging/ipc-bootstrap.js\ngitpod      1192  0.1  0.0 287776 54532 ?        Sl   17:58   0:00  \\_ /theia/node/bin/gitpod-node /theia/node_modules/@theia/json/lib/node/json-starter --stdio\ngitpod      1599  7.9  0.4 591008 269700 ?       Sl   17:58   0:32  \\_ /theia/node/bin/gitpod-node /theia/node_modules/@theia/plugin-ext/lib/hosted/node/plugin-host.js\ngitpod      3447  7.1  0.2 54362676 154832 ?     SLl  18:01   0:17  |   \\_ /tmp/vscode-extensions/ms-python.python@2019.11.50794/extension/languageServer.0.5.59/Microsoft.Python.LanguageServer\ngitpod      4988 24.2  0.1 272972 78660 ?        Sl   18:05   0:00  |   \\_ /usr/bin/python3 /usr/local/bin/jupyter-notebook --no-browser --notebook-dir=/tmp/a541162b-aff1-4bed-a77f-9b7b6e771489 --config=/tmp/a541162b-aff1-4bed-a77f-9b7b6e771489/jupyter_notebook_config.py --NotebookApp.iopub_data_rate_limit=10000000000.0\ngitpod      5024  113  0.1 1376204 112832 ?      Ssl  18:05   0:02  |       \\_ /usr/bin/python3 -m ipykernel_launcher -f /home/gitpod/.local/share/jupyter/runtime/kernel-296f0f80-7e52-4c57-a70d-6bce846d9dfe.json\ngitpod      5095  0.0  0.0   8888  3336 pts/1    Rs+  18:05   0:00  |       |   \\_ ps -wwfaux\ngitpod      5058  162  0.1 1263316 94648 ?       Ssl  18:05   0:01  |       \\_ /usr/bin/python3 -m ipykernel_launcher -f /home/gitpod/.local/share/jupyter/runtime/kernel-f828ee72-0d05-4bb4-b312-d72431d38a55.json\ngitpod      5009  0.0  0.0 711268  7952 ?        Ssl  18:05   0:00  \\_ gp forward-port -r 8888 38888\ngitpod      5075  0.0  0.0 711012  7852 ?        Ssl  18:05   0:00  \\_ gp forward-port -r 35123 65123\n"
    }
   ],
   "metadata": {},
   "execution_count": 1
  },
  {
   "cell_type": "code",
   "execution_count": null,
   "metadata": {},
   "outputs": [],
   "source": []
  }
 ]
}