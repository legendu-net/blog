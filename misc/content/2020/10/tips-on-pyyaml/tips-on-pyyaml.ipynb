{
 "cells": [
  {
   "cell_type": "markdown",
   "metadata": {},
   "source": [
    "- Author: Ben Du\n",
    "- Date: 2020-10-17 12:32:23\n",
    "- Title: Tips on PyYAML\n",
    "- Slug: tips-on-pyyaml\n",
    "- Category: Computer Science\n",
    "- Tags: Computer Science, PyYAML, YAML, IO, JSON\n",
    "- Modified: 2020-10-17 12:32:23\n"
   ]
  },
  {
   "cell_type": "markdown",
   "metadata": {},
   "source": [
    "1. [PyYAML](https://github.com/yaml/pyyaml) (YAML 1.1 currently)\n",
    "    and\n",
    "    [ruamel.yaml](https://bitbucket.org/ruamel/yaml/src/default/) (YAML 1.2)\n",
    "    are 2 Python libraries for parsing YAML. \n",
    "    PyYAML is more widely used.\n",
    "\n",
    "2. PyYAML is preferred over `json` for serialization and deserialization for multiple reasons.\n",
    "    - PyYAML is a superset of json.\n",
    "    - PyYAML supports serializing and deserializing set while `json` does not.\n",
    "    - YAML is more readable than JSON.\n",
    "\n",
    "3. [SnakeYaml](https://bitbucket.org/asomov/snakeyaml/src/default/)\n",
    "  is a high quality YAML library for JVM-based languages (Java, Scala, etc.)\n",
    "  [circe-yaml](https://github.com/circe/circe-yaml)\n",
    "  is a Scala library for parsing YAML.\n",
    "\n"
   ]
  },
  {
   "cell_type": "code",
   "execution_count": 1,
   "metadata": {},
   "outputs": [
    {
     "name": "stdout",
     "output_type": "stream",
     "text": [
      "Requirement already satisfied: pyyaml in /usr/local/lib/python3.8/site-packages (5.3.1)\n"
     ]
    }
   ],
   "source": [
    "!pip3 install pyyaml"
   ]
  },
  {
   "cell_type": "code",
   "execution_count": 1,
   "metadata": {},
   "outputs": [],
   "source": [
    "import yaml"
   ]
  },
  {
   "cell_type": "code",
   "execution_count": 5,
   "metadata": {},
   "outputs": [],
   "source": [
    "doc = \"\"\"\n",
    "  a: 1\n",
    "  b:\n",
    "    c: 3\n",
    "    d: 4\n",
    "\"\"\""
   ]
  },
  {
   "cell_type": "code",
   "execution_count": 7,
   "metadata": {},
   "outputs": [
    {
     "data": {
      "text/plain": [
       "{'a': 1, 'b': {'c': 3, 'd': 4}}"
      ]
     },
     "execution_count": 7,
     "metadata": {},
     "output_type": "execute_result"
    }
   ],
   "source": [
    "dic = yaml.load(doc)\n",
    "dic"
   ]
  },
  {
   "cell_type": "code",
   "execution_count": 12,
   "metadata": {},
   "outputs": [],
   "source": [
    "yaml.dump(dic, open(\"test.yml\", \"w\"))"
   ]
  },
  {
   "cell_type": "code",
   "execution_count": 14,
   "metadata": {},
   "outputs": [
    {
     "data": {
      "text/plain": [
       "{'a': 1, 'b': {'c': 3, 'd': 4}}"
      ]
     },
     "execution_count": 14,
     "metadata": {},
     "output_type": "execute_result"
    }
   ],
   "source": [
    "yaml.load(open(\"test.yml\"))"
   ]
  },
  {
   "cell_type": "markdown",
   "metadata": {},
   "source": [
    "## Read YAML from a String"
   ]
  },
  {
   "cell_type": "code",
   "execution_count": 4,
   "metadata": {},
   "outputs": [
    {
     "data": {
      "text/plain": [
       "[{'cal_dt': datetime.date(2019, 1, 1)}, {'cal_dt': datetime.date(2019, 1, 2)}]"
      ]
     },
     "execution_count": 4,
     "metadata": {},
     "output_type": "execute_result"
    }
   ],
   "source": [
    "doc = \"\"\"\n",
    "- \n",
    "    cal_dt: 2019-01-01\n",
    "- \n",
    "    cal_dt: 2019-01-02\n",
    "    \n",
    "    \n",
    "\"\"\"\n",
    "yaml.load(doc, Loader=yaml.FullLoader)"
   ]
  },
  {
   "cell_type": "markdown",
   "metadata": {},
   "source": [
    "## Read YAML Form File (Single Doc)"
   ]
  },
  {
   "cell_type": "code",
   "execution_count": 8,
   "metadata": {},
   "outputs": [
    {
     "name": "stdout",
     "output_type": "stream",
     "text": [
      "{'raincoat': 1, 'coins': 5, 'books': 23, 'spectacles': 2, 'chairs': 12, 'pens': 6}\n"
     ]
    }
   ],
   "source": [
    "with open('items.yaml') as fin:\n",
    "    data = yaml.load(fin, Loader=yaml.FullLoader)\n",
    "print(data)"
   ]
  },
  {
   "cell_type": "code",
   "execution_count": 6,
   "metadata": {},
   "outputs": [
    {
     "name": "stdout",
     "output_type": "stream",
     "text": [
      "!!set\n",
      "1: null\n",
      "2: null\n",
      "3: null\n"
     ]
    }
   ],
   "source": [
    "!cat set.yaml"
   ]
  },
  {
   "cell_type": "code",
   "execution_count": 10,
   "metadata": {},
   "outputs": [
    {
     "data": {
      "text/plain": [
       "{1, 2, 3}"
      ]
     },
     "execution_count": 10,
     "metadata": {},
     "output_type": "execute_result"
    }
   ],
   "source": [
    "with open(\"set.yaml\", \"r\") as fin:\n",
    "    data = yaml.load(fin, Loader=yaml.FullLoader)\n",
    "data"
   ]
  },
  {
   "cell_type": "code",
   "execution_count": 9,
   "metadata": {},
   "outputs": [
    {
     "data": {
      "text/plain": [
       "set"
      ]
     },
     "execution_count": 9,
     "metadata": {},
     "output_type": "execute_result"
    }
   ],
   "source": [
    "type(data)"
   ]
  },
  {
   "cell_type": "markdown",
   "metadata": {},
   "source": [
    "## Read YAML (Multiple Docs)\n",
    "\n",
    "Notice that the method yaml.load_all returns a generator!\n"
   ]
  },
  {
   "cell_type": "code",
   "execution_count": 9,
   "metadata": {},
   "outputs": [
    {
     "name": "stdout",
     "output_type": "stream",
     "text": [
      "cities -> ['Bratislava', 'Kosice', 'Trnava', 'Moldava', 'Trencin']\n",
      "companies -> ['Eset', 'Slovnaft', 'Duslo Sala', 'Matador Puchov']\n"
     ]
    }
   ],
   "source": [
    "with open('data.yaml') as f:\n",
    "    docs = yaml.load_all(f, Loader=yaml.FullLoader)\n",
    "    for doc in docs:\n",
    "        for k, v in doc.items():\n",
    "            print(k, \"->\", v)"
   ]
  },
  {
   "cell_type": "markdown",
   "metadata": {},
   "source": [
    "Convert generator to a list so that you use it out of the with block.\n"
   ]
  },
  {
   "cell_type": "code",
   "execution_count": 11,
   "metadata": {},
   "outputs": [],
   "source": [
    "with open('data.yaml') as f:\n",
    "    docs = list(yaml.load_all(f, Loader=yaml.FullLoader))"
   ]
  },
  {
   "cell_type": "code",
   "execution_count": 12,
   "metadata": {},
   "outputs": [
    {
     "data": {
      "text/plain": [
       "[{'cities': ['Bratislava', 'Kosice', 'Trnava', 'Moldava', 'Trencin']},\n",
       " {'companies': ['Eset', 'Slovnaft', 'Duslo Sala', 'Matador Puchov']}]"
      ]
     },
     "execution_count": 12,
     "metadata": {},
     "output_type": "execute_result"
    }
   ],
   "source": [
    "docs"
   ]
  },
  {
   "cell_type": "code",
   "execution_count": 13,
   "metadata": {},
   "outputs": [
    {
     "name": "stdout",
     "output_type": "stream",
     "text": [
      "cities -> ['Bratislava', 'Kosice', 'Trnava', 'Moldava', 'Trencin']\n",
      "companies -> ['Eset', 'Slovnaft', 'Duslo Sala', 'Matador Puchov']\n"
     ]
    }
   ],
   "source": [
    "for doc in docs:\n",
    "    for k, v in doc.items():\n",
    "        print(k, \"->\", v)"
   ]
  },
  {
   "cell_type": "markdown",
   "metadata": {},
   "source": [
    "## YAML Dump to String"
   ]
  },
  {
   "cell_type": "code",
   "execution_count": 2,
   "metadata": {},
   "outputs": [
    {
     "name": "stdout",
     "output_type": "stream",
     "text": [
      "- name: John Doe\n",
      "  occupation: gardener\n",
      "- name: Lucy Black\n",
      "  occupation: teacher\n",
      "\n"
     ]
    }
   ],
   "source": [
    "users = [\n",
    "    {\n",
    "        'name': 'John Doe',\n",
    "        'occupation': 'gardener'\n",
    "    }, {\n",
    "        'name': 'Lucy Black',\n",
    "        'occupation': 'teacher'\n",
    "    }\n",
    "]\n",
    "\n",
    "print(yaml.dump(users))"
   ]
  },
  {
   "cell_type": "code",
   "execution_count": 3,
   "metadata": {},
   "outputs": [
    {
     "name": "stdout",
     "output_type": "stream",
     "text": [
      "!!set\n",
      "1: null\n",
      "2: null\n",
      "3: null\n",
      "\n"
     ]
    }
   ],
   "source": [
    "print(yaml.dump(set([1, 2, 3])))"
   ]
  },
  {
   "cell_type": "markdown",
   "metadata": {},
   "source": [
    "## YAML Dump to File"
   ]
  },
  {
   "cell_type": "code",
   "execution_count": 15,
   "metadata": {},
   "outputs": [],
   "source": [
    "with open('users.yaml', 'w') as fout:\n",
    "    yaml.dump(users, fout)"
   ]
  },
  {
   "cell_type": "code",
   "execution_count": 4,
   "metadata": {},
   "outputs": [],
   "source": [
    "with open('set.yaml', 'w') as fout:\n",
    "    yaml.dump(set([1, 2, 3]), fout)"
   ]
  },
  {
   "cell_type": "code",
   "execution_count": 5,
   "metadata": {},
   "outputs": [
    {
     "name": "stdout",
     "output_type": "stream",
     "text": [
      "!!set\n",
      "1: null\n",
      "2: null\n",
      "3: null\n"
     ]
    }
   ],
   "source": [
    "!cat set.yaml"
   ]
  },
  {
   "cell_type": "markdown",
   "metadata": {},
   "source": [
    "## Tokens\n",
    "\n",
    "PyYAML can work with a lower-level API when parsing YAML files. The mehtod scan scans a YAML stream and produces scanning tokens.\n",
    "\n",
    "The following example scans and prints tokens."
   ]
  },
  {
   "cell_type": "code",
   "execution_count": 17,
   "metadata": {},
   "outputs": [
    {
     "name": "stdout",
     "output_type": "stream",
     "text": [
      "StreamStartToken(encoding=None)\n",
      "BlockMappingStartToken()\n",
      "KeyToken()\n",
      "ScalarToken(plain=True, style=None, value='raincoat')\n",
      "ValueToken()\n",
      "ScalarToken(plain=True, style=None, value='1')\n",
      "KeyToken()\n",
      "ScalarToken(plain=True, style=None, value='coins')\n",
      "ValueToken()\n",
      "ScalarToken(plain=True, style=None, value='5')\n",
      "KeyToken()\n",
      "ScalarToken(plain=True, style=None, value='books')\n",
      "ValueToken()\n",
      "ScalarToken(plain=True, style=None, value='23')\n",
      "KeyToken()\n",
      "ScalarToken(plain=True, style=None, value='spectacles')\n",
      "ValueToken()\n",
      "ScalarToken(plain=True, style=None, value='2')\n",
      "KeyToken()\n",
      "ScalarToken(plain=True, style=None, value='chairs')\n",
      "ValueToken()\n",
      "ScalarToken(plain=True, style=None, value='12')\n",
      "KeyToken()\n",
      "ScalarToken(plain=True, style=None, value='pens')\n",
      "ValueToken()\n",
      "ScalarToken(plain=True, style=None, value='6')\n",
      "BlockEndToken()\n",
      "StreamEndToken()\n"
     ]
    }
   ],
   "source": [
    "with open('items.yaml') as f:\n",
    "    data = yaml.scan(f, Loader=yaml.FullLoader)\n",
    "    for token in data:\n",
    "        print(token)"
   ]
  },
  {
   "cell_type": "markdown",
   "metadata": {},
   "source": [
    "## Examples"
   ]
  },
  {
   "cell_type": "code",
   "execution_count": 20,
   "metadata": {},
   "outputs": [
    {
     "name": "stdout",
     "output_type": "stream",
     "text": [
      "{'args': [{'cal_dt': '2019-01-01', 'path': '/path/1'}, {'cal_dt': '2019-01-02', 'path': '/path/2'}]}\n"
     ]
    }
   ],
   "source": [
    "with open('ex1.yaml', 'r') as fin:\n",
    "    data = yaml.load(fin, Loader=yaml.FullLoader)\n",
    "print(data)"
   ]
  },
  {
   "cell_type": "code",
   "execution_count": 21,
   "metadata": {},
   "outputs": [
    {
     "name": "stdout",
     "output_type": "stream",
     "text": [
      "[{'cal_dt': datetime.date(2019, 1, 1), 'path': '/path/1'}, {'cal_dt': datetime.date(2019, 1, 2), 'path': '/path/2'}]\n"
     ]
    }
   ],
   "source": [
    "with open('ex2.yaml', 'r') as fin:\n",
    "    data = yaml.load(fin, Loader=yaml.FullLoader)\n",
    "print(data)"
   ]
  },
  {
   "cell_type": "code",
   "execution_count": 22,
   "metadata": {},
   "outputs": [
    {
     "data": {
      "text/plain": [
       "datetime.date"
      ]
     },
     "execution_count": 22,
     "metadata": {},
     "output_type": "execute_result"
    }
   ],
   "source": [
    "type(data[0]['cal_dt'])"
   ]
  },
  {
   "cell_type": "code",
   "execution_count": 23,
   "metadata": {},
   "outputs": [
    {
     "name": "stdout",
     "output_type": "stream",
     "text": [
      "{'args': {'x': [1, 2, 3], 'y': ['a', 'b', 'c']}}\n"
     ]
    }
   ],
   "source": [
    "with open('ex3.yaml', 'r') as fin:\n",
    "    data = yaml.load(fin, Loader=yaml.FullLoader)\n",
    "print(data)"
   ]
  },
  {
   "cell_type": "code",
   "execution_count": 24,
   "metadata": {},
   "outputs": [
    {
     "name": "stdout",
     "output_type": "stream",
     "text": [
      "{'x': [1, 2, 3], 'y': ['a', 'b', 'c']}\n"
     ]
    }
   ],
   "source": [
    "with open('ex4.yaml', 'r') as fin:\n",
    "    data = yaml.load(fin, Loader=yaml.FullLoader)\n",
    "print(data)"
   ]
  },
  {
   "cell_type": "markdown",
   "metadata": {},
   "source": [
    "## Embed Python Code\n",
    "\n",
    "https://stackoverflow.com/questions/26062256/execute-python-code-embedded-in-yaml-file\n"
   ]
  },
  {
   "cell_type": "code",
   "execution_count": 26,
   "metadata": {},
   "outputs": [
    {
     "data": {
      "text/plain": [
       "{'x': [1, 2, 3],\n",
       " 'y': \"import dsutil\\ndsutil.datetime.range('2019-01-01', '2019-01-05')\"}"
      ]
     },
     "execution_count": 26,
     "metadata": {},
     "output_type": "execute_result"
    }
   ],
   "source": [
    "with open('ex5.yaml', 'r') as fin:\n",
    "    data = yaml.load(fin, Loader=yaml.FullLoader)\n",
    "data"
   ]
  },
  {
   "cell_type": "code",
   "execution_count": 27,
   "metadata": {},
   "outputs": [
    {
     "data": {
      "text/plain": [
       "\"import dsutil\\ndsutil.datetime.range('2019-01-01', '2019-01-05')\""
      ]
     },
     "execution_count": 27,
     "metadata": {},
     "output_type": "execute_result"
    }
   ],
   "source": [
    "data['y']"
   ]
  },
  {
   "cell_type": "code",
   "execution_count": 28,
   "metadata": {},
   "outputs": [],
   "source": [
    "eval(compile(data['y'], 'some_file', 'exec'))"
   ]
  },
  {
   "cell_type": "code",
   "execution_count": 31,
   "metadata": {},
   "outputs": [],
   "source": [
    "x = eval('range(10)')"
   ]
  },
  {
   "cell_type": "code",
   "execution_count": 32,
   "metadata": {},
   "outputs": [
    {
     "data": {
      "text/plain": [
       "range(0, 10)"
      ]
     },
     "execution_count": 32,
     "metadata": {},
     "output_type": "execute_result"
    }
   ],
   "source": [
    "x"
   ]
  },
  {
   "cell_type": "code",
   "execution_count": 33,
   "metadata": {},
   "outputs": [
    {
     "data": {
      "text/plain": [
       "'[0, 1, 2, 3, 4, 5, 6, 7, 8, 9]'"
      ]
     },
     "execution_count": 33,
     "metadata": {},
     "output_type": "execute_result"
    }
   ],
   "source": [
    "import json\n",
    "json.dumps(list(x))"
   ]
  },
  {
   "cell_type": "code",
   "execution_count": 34,
   "metadata": {},
   "outputs": [
    {
     "ename": "TypeError",
     "evalue": "'NoneType' object is not iterable",
     "output_type": "error",
     "traceback": [
      "\u001b[0;31m---------------------------------------------------------------------------\u001b[0m",
      "\u001b[0;31mTypeError\u001b[0m                                 Traceback (most recent call last)",
      "\u001b[0;32m<ipython-input-34-42675847b9bb>\u001b[0m in \u001b[0;36m<module>\u001b[0;34m\u001b[0m\n\u001b[0;32m----> 1\u001b[0;31m \u001b[0mlist\u001b[0m\u001b[0;34m(\u001b[0m\u001b[0mexec\u001b[0m\u001b[0;34m(\u001b[0m\u001b[0mdata\u001b[0m\u001b[0;34m[\u001b[0m\u001b[0;34m'y'\u001b[0m\u001b[0;34m]\u001b[0m\u001b[0;34m)\u001b[0m\u001b[0;34m)\u001b[0m\u001b[0;34m\u001b[0m\u001b[0;34m\u001b[0m\u001b[0m\n\u001b[0m",
      "\u001b[0;31mTypeError\u001b[0m: 'NoneType' object is not iterable"
     ]
    }
   ],
   "source": [
    "list(exec(data['y']))"
   ]
  },
  {
   "cell_type": "markdown",
   "metadata": {},
   "source": [
    "eval, exec, single, compile\n",
    "\n",
    "\n",
    "1. simple 1 line python code which requires you to have every library ready ...\n",
    "\n",
    "2. multiple: need a way to reliably run the code and return the result ..."
   ]
  },
  {
   "cell_type": "code",
   "execution_count": null,
   "metadata": {},
   "outputs": [],
   "source": [
    "yaml.load('''!!python/list(range(10))''', Loader=yaml.FullLoader)"
   ]
  },
  {
   "cell_type": "markdown",
   "metadata": {},
   "source": [
    "## References \n",
    "\n",
    "https://github.com/yaml/pyyaml\n",
    "\n",
    "http://zetcode.com/python/yaml/\n",
    "\n",
    "http://sweetohm.net/article/introduction-yaml.en.html\n",
    "\n",
    "https://pyyaml.org/wiki/PyYAMLDocumentation"
   ]
  }
 ],
 "metadata": {
  "file_extension": ".py",
  "kernelspec": {
   "display_name": "Python 3",
   "language": "python",
   "name": "python3"
  },
  "language_info": {
   "codemirror_mode": {
    "name": "ipython",
    "version": 3
   },
   "file_extension": ".py",
   "mimetype": "text/x-python",
   "name": "python",
   "nbconvert_exporter": "python",
   "pygments_lexer": "ipython3",
   "version": "3.8.5"
  },
  "mimetype": "text/x-python",
  "name": "python",
  "npconvert_exporter": "python",
  "pygments_lexer": "ipython3",
  "version": 3
 },
 "nbformat": 4,
 "nbformat_minor": 4
}