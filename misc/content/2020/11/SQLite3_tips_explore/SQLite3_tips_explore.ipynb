{
 "cells": [
  {
   "cell_type": "markdown",
   "metadata": {},
   "source": [
    "- Title: Hands on SQLite3\n",
    "- Slug: hands-on-sqlite3\n",
    "- Date: 2020-11-28 11:25:31\n",
    "- Category: Computer Science\n",
    "- Tags: programming, SQLite3, SQL\n",
    "- Author: Ben Du\n",
    "- Modified: 2020-11-28 11:25:31\n"
   ]
  },
  {
   "cell_type": "markdown",
   "metadata": {},
   "source": [
    "## Tips and Traps\n",
    "\n",
    "1. Do NOT use SQLite3 on network filesystems (NFS, SAMBA, etc).\n",
    "\n",
    "1. `.schema` show create statement of a table\n",
    "\n",
    "2. You can force query to keep the original order of rows \n",
    "    by applying `order by rowid`.\n",
    "\n",
    "3. SQLite3 supports full-text search by the FTS5 extension (since 3.9.0).\n",
    "  It is suggested that you use the `porter` tokenizer for English searching.\n",
    "  Please refer to Section *4.3. Tokenizers* of [SQLite FTS5 Extension](https://sqlite.org/fts5.html) for more details.\n",
    "\n",
    "4. Avoid keeping SQLite database file on a NFS filesystem, \n",
    "  as the locking mechanism might not work correctly.\n",
    "  For details, \n",
    "  please refer to https://www.sqlite.org/draft/faq.html#q5.\n",
    "\n",
    "5. The window functions are supported since \n",
    "  [SQLite 3.25.0](https://www.sqlite.org/releaselog/3_25_0.html).\n",
    "  Notice that the official Python release 3.6.x does not have SQLite 3.25.0.\n",
    "  You have to use official Python release Python 3.7+ if you need SQLite 3.25.0+.\n",
    "  However, the Anaconda Python 3.6+ releases include SQLite 3.25.0+."
   ]
  },
  {
   "cell_type": "markdown",
   "metadata": {},
   "source": [
    "Please proceed after you have run the comamnd `./main.py r` in the directory of blog.\n",
    "This command creates a SQLite3 database named `.blogger.sqlite3` \n",
    "and load all articles into a (virtual) table named `posts`."
   ]
  },
  {
   "cell_type": "code",
   "execution_count": 1,
   "metadata": {},
   "outputs": [],
   "source": [
    "%defaultDatasource jdbc:sqlite:../../.blogger.sqlite3"
   ]
  },
  {
   "cell_type": "markdown",
   "metadata": {},
   "source": [
    "## List All Tables"
   ]
  },
  {
   "cell_type": "code",
   "execution_count": 2,
   "metadata": {},
   "outputs": [
    {
     "data": {
      "application/vnd.jupyter.widget-view+json": {
       "model_id": "b5ffd301-b192-4b0d-acc2-bc0de009026a",
       "version_major": 2,
       "version_minor": 0
      },
      "method": "display_data"
     },
     "metadata": {},
     "output_type": "display_data"
    }
   ],
   "source": [
    "select * from sqlite_master"
   ]
  },
  {
   "cell_type": "markdown",
   "metadata": {},
   "source": [
    "## Number of Posts"
   ]
  },
  {
   "cell_type": "code",
   "execution_count": 7,
   "metadata": {},
   "outputs": [
    {
     "data": {
      "text/plain": [
       "987"
      ]
     },
     "execution_count": 7,
     "metadata": {},
     "output_type": "execute_result"
    }
   ],
   "source": [
    "select count(*) from posts"
   ]
  },
  {
   "cell_type": "markdown",
   "metadata": {},
   "source": [
    "## Top 5 Records"
   ]
  },
  {
   "cell_type": "code",
   "execution_count": 8,
   "metadata": {},
   "outputs": [
    {
     "data": {
      "application/vnd.jupyter.widget-view+json": {
       "model_id": "2933897d-0e16-4619-aca1-c1350d871dfc",
       "version_major": 2,
       "version_minor": 0
      },
      "method": "display_data"
     },
     "metadata": {},
     "output_type": "display_data"
    }
   ],
   "source": [
    "select * from posts limit 10"
   ]
  },
  {
   "cell_type": "code",
   "execution_count": 11,
   "metadata": {},
   "outputs": [
    {
     "data": {
      "application/vnd.jupyter.widget-view+json": {
       "model_id": "66349e8e-c615-4c9a-9a89-954d2d8ce915",
       "version_major": 2,
       "version_minor": 0
      },
      "method": "display_data"
     },
     "metadata": {},
     "output_type": "display_data"
    }
   ],
   "source": [
    "select\n",
    "    *\n",
    "from\n",
    "    posts\n",
    "where\n",
    "    path like '%poems.markdown'"
   ]
  },
  {
   "cell_type": "markdown",
   "metadata": {},
   "source": [
    "## String Comparsion\n",
    "\n",
    "By default, \n",
    "string comparison is case-sensitive in SQLite!!!\n",
    "\n",
    "1. You can specify `collate nocase` to make SQLite3 use case-insensitive string comparisons.\n",
    "    Unfortunately, \n",
    "    this doesn't work if you use the `IN` keyword to compare strings.\n",
    "\n",
    "2. Compare string using `like`.\n",
    "\n",
    "3. Convert strings to lower/upper case and then compare them.\n",
    "\n",
    "https://stackoverflow.com/questions/973541/how-to-set-sqlite3-to-be-case-insensitive-when-string-comparing\n",
    "\n",
    "https://techblog.dorogin.com/case-insensitive-like-in-sqlite-504f594dcdc3"
   ]
  },
  {
   "cell_type": "code",
   "execution_count": 3,
   "metadata": {},
   "outputs": [],
   "source": [
    "select * from posts where category = 'life'"
   ]
  },
  {
   "cell_type": "code",
   "execution_count": 5,
   "metadata": {},
   "outputs": [
    {
     "data": {
      "application/vnd.jupyter.widget-view+json": {
       "model_id": "fe1b61ec-67a9-4a19-8578-3800d4ce0996",
       "version_major": 2,
       "version_minor": 0
      },
      "method": "display_data"
     },
     "metadata": {},
     "output_type": "display_data"
    }
   ],
   "source": [
    "select * from posts where category = 'Life' limit 3"
   ]
  },
  {
   "cell_type": "code",
   "execution_count": 6,
   "metadata": {},
   "outputs": [
    {
     "data": {
      "application/vnd.jupyter.widget-view+json": {
       "model_id": "d41156c3-1ce2-4ed2-8d5e-905cca87bc57",
       "version_major": 2,
       "version_minor": 0
      },
      "method": "display_data"
     },
     "metadata": {},
     "output_type": "display_data"
    }
   ],
   "source": [
    "select * from posts where category = 'life' collate nocase limit 3"
   ]
  },
  {
   "cell_type": "code",
   "execution_count": 8,
   "metadata": {},
   "outputs": [
    {
     "data": {
      "application/vnd.jupyter.widget-view+json": {
       "model_id": "eefc95fd-5872-43d3-a2b9-bcbf08a442ea",
       "version_major": 2,
       "version_minor": 0
      },
      "method": "display_data"
     },
     "metadata": {},
     "output_type": "display_data"
    }
   ],
   "source": [
    "select * from posts where category like 'life' limit 3"
   ]
  },
  {
   "cell_type": "code",
   "execution_count": 10,
   "metadata": {},
   "outputs": [],
   "source": [
    "select * from posts where category in ('life') collate nocase"
   ]
  },
  {
   "cell_type": "code",
   "execution_count": 12,
   "metadata": {},
   "outputs": [
    {
     "data": {
      "application/vnd.jupyter.widget-view+json": {
       "model_id": "a81639e0-85a9-47b6-9859-01e56f2a0764",
       "version_major": 2,
       "version_minor": 0
      },
      "method": "display_data"
     },
     "metadata": {},
     "output_type": "display_data"
    }
   ],
   "source": [
    "select * from posts where lower(category) in ('life') limit 3"
   ]
  },
  {
   "cell_type": "markdown",
   "metadata": {},
   "source": [
    "## Recursive Common Table Expressions\n",
    "\n",
    "https://www.sqlite.org/lang_with.html\n",
    "\n",
    "https://stackoverflow.com/questions/34659643/split-a-string-into-rows-using-pure-sqlite\n",
    "\n",
    "## Issues\n",
    "\n",
    "https://stackoverflow.com/questions/25705671/python-attributeerror-module-object-has-no-attribute-connect"
   ]
  },
  {
   "cell_type": "markdown",
   "metadata": {},
   "source": [
    "## References\n",
    "\n",
    "https://sqlite.org/fts5.html\n",
    "\n",
    "http://www.sqlitetutorial.net/sqlite-full-text-search/\n",
    "\n",
    "https://stackoverflow.com/questions/50332436/syntax-error-when-using-row-number-in-sqlite3"
   ]
  }
 ],
 "metadata": {
  "kernelspec": {
   "display_name": "Python 3",
   "language": "python",
   "name": "python3"
  },
  "language_info": {
   "codemirror_mode": {
    "name": "ipython",
    "version": 3
   },
   "file_extension": ".py",
   "mimetype": "text/x-python",
   "name": "python",
   "nbconvert_exporter": "python",
   "pygments_lexer": "ipython3",
   "version": "3.8.1"
  }
 },
 "nbformat": 4,
 "nbformat_minor": 4
}