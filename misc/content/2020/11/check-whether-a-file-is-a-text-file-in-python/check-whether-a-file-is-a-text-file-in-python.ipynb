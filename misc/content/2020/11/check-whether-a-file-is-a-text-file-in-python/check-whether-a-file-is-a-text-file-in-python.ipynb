{
 "cells": [
  {
   "cell_type": "markdown",
   "source": [
    "- Author: Ben Du\n",
    "- Date: 2020-11-27 11:24:04\n",
    "- Title: Check Whether a File Is a Text File in Python\n",
    "- Slug: check-whether-a-file-is-a-text-file-in-python\n",
    "- Category: Computer Science\n",
    "- Tags: Computer Science, programming, Python, binary, text, python-magic, libmagic, binaryornot, mimetypes\n",
    "- Modified: 2021-05-27 11:24:04\n"
   ],
   "metadata": {}
  },
  {
   "cell_type": "markdown",
   "source": [
    "## [python-magic](https://github.com/ahupp/python-magic)\n",
    "\n",
    "[python-magic](https://github.com/ahupp/python-magic)\n",
    "is the recommended library to use for checking whether a file is a text file."
   ],
   "metadata": {}
  },
  {
   "cell_type": "code",
   "execution_count": 2,
   "source": [
    "!pip3 install python-magic"
   ],
   "outputs": [
    {
     "output_type": "stream",
     "name": "stdout",
     "text": [
      "Collecting python-magic\n",
      "  Downloading python_magic-0.4.18-py2.py3-none-any.whl (8.6 kB)\n",
      "Installing collected packages: python-magic\n",
      "Successfully installed python-magic-0.4.18\n"
     ]
    }
   ],
   "metadata": {}
  },
  {
   "cell_type": "code",
   "execution_count": 3,
   "source": [
    "import magic"
   ],
   "outputs": [],
   "metadata": {}
  },
  {
   "cell_type": "code",
   "execution_count": 4,
   "source": [
    "f = magic.Magic(mime=True, uncompress=True)"
   ],
   "outputs": [],
   "metadata": {}
  },
  {
   "cell_type": "code",
   "execution_count": 2,
   "source": [
    "!wget https://user-images.githubusercontent.com/824507/128439087-0c935d86-bb34-4c2c-8e69-6d78b3022833.png -O 4s.jpg"
   ],
   "outputs": [
    {
     "output_type": "stream",
     "name": "stdout",
     "text": [
      "--2021-08-05 17:54:32--  https://user-images.githubusercontent.com/824507/128439087-0c935d86-bb34-4c2c-8e69-6d78b3022833.png\n",
      "Resolving user-images.githubusercontent.com (user-images.githubusercontent.com)... 185.199.110.133, 185.199.111.133, 185.199.109.133, ...\n",
      "Connecting to user-images.githubusercontent.com (user-images.githubusercontent.com)|185.199.110.133|:443... connected.\n",
      "HTTP request sent, awaiting response... 200 OK\n",
      "Length: 4588 (4.5K) [image/png]\n",
      "Saving to: ‘4s.jpg’\n",
      "\n",
      "4s.jpg              100%[===================>]   4.48K  --.-KB/s    in 0.001s  \n",
      "\n",
      "2021-08-05 17:54:32 (2.96 MB/s) - ‘4s.jpg’ saved [4588/4588]\n",
      "\n"
     ]
    }
   ],
   "metadata": {}
  },
  {
   "cell_type": "code",
   "execution_count": 5,
   "source": [
    "f.from_file(\"4s.jpg\")"
   ],
   "outputs": [
    {
     "output_type": "execute_result",
     "data": {
      "text/plain": [
       "'image/jpeg'"
      ]
     },
     "metadata": {},
     "execution_count": 5
    }
   ],
   "metadata": {}
  },
  {
   "cell_type": "code",
   "execution_count": 1,
   "source": [
    "!wget https://storage.googleapis.com/erwinh-public-data/bankingdata/bank-full.csv"
   ],
   "outputs": [
    {
     "output_type": "stream",
     "name": "stdout",
     "text": [
      "--2021-08-05 17:53:53--  https://storage.googleapis.com/erwinh-public-data/bankingdata/bank-full.csv\n",
      "Resolving storage.googleapis.com (storage.googleapis.com)... 2607:f8b0:400a:801::2010, 2607:f8b0:400a:803::2010, 2607:f8b0:400a:805::2010, ...\n",
      "Connecting to storage.googleapis.com (storage.googleapis.com)|2607:f8b0:400a:801::2010|:443... connected.\n",
      "HTTP request sent, awaiting response... 404 Not Found\n",
      "2021-08-05 17:53:54 ERROR 404: Not Found.\n",
      "\n"
     ]
    }
   ],
   "metadata": {}
  },
  {
   "cell_type": "code",
   "execution_count": 6,
   "source": [
    "f.from_file(\"bank-full.csv\")"
   ],
   "outputs": [
    {
     "output_type": "execute_result",
     "data": {
      "text/plain": [
       "'text/plain'"
      ]
     },
     "metadata": {},
     "execution_count": 6
    }
   ],
   "metadata": {}
  },
  {
   "cell_type": "markdown",
   "source": [
    "## [binaryornot](https://github.com/audreyfeldroy/binaryornot)\n",
    "\n",
    "Not maintained actively."
   ],
   "metadata": {}
  },
  {
   "cell_type": "code",
   "execution_count": null,
   "source": [
    "from binaryornot.check import is_binary"
   ],
   "outputs": [],
   "metadata": {}
  },
  {
   "cell_type": "code",
   "execution_count": null,
   "source": [
    "is_binary('README.rst')"
   ],
   "outputs": [],
   "metadata": {}
  },
  {
   "cell_type": "markdown",
   "source": [
    "## [mimetypes](https://docs.python.org/3/library/mimetypes.html)\n",
    "\n",
    "`memetypes` does NOT work well!"
   ],
   "metadata": {}
  },
  {
   "cell_type": "code",
   "execution_count": null,
   "source": [],
   "outputs": [],
   "metadata": {}
  }
 ],
 "metadata": {
  "file_extension": ".py",
  "kernelspec": {
   "name": "python3",
   "display_name": "Python 3.9.4 64-bit"
  },
  "language_info": {
   "codemirror_mode": {
    "name": "ipython",
    "version": 3
   },
   "file_extension": ".py",
   "mimetype": "text/x-python",
   "name": "python",
   "nbconvert_exporter": "python",
   "pygments_lexer": "ipython3",
   "version": "3.9.4"
  },
  "mimetype": "text/x-python",
  "name": "python",
  "npconvert_exporter": "python",
  "pygments_lexer": "ipython3",
  "version": 3,
  "interpreter": {
   "hash": "aee8b7b246df8f9039afb4144a1f6fd8d2ca17a180786b69acc140d282b71a49"
  }
 },
 "nbformat": 4,
 "nbformat_minor": 4
}