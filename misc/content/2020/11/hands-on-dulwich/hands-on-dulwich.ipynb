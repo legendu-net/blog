{
 "cells": [
  {
   "cell_type": "markdown",
   "metadata": {},
   "source": [
    "- Author: Ben Du\n",
    "- Date: 2020-11-29 21:13:47\n",
    "- Title: Hands on Dulwich\n",
    "- Slug: hands-on-Dulwich\n",
    "- Category: Computer Science\n",
    "- Tags: Computer Science, programming, Python, Git, Dulwicch, version control\n",
    "- Modified: 2021-05-29 21:13:47\n"
   ]
  },
  {
   "cell_type": "markdown",
   "metadata": {},
   "source": [
    "Note: dulwich is not feature complete yet \n",
    "and the development of the project is extremely slow.\n",
    "It is suggested that you use other Python packages instead.\n",
    "For more discussions,\n",
    "please refer to\n",
    "[Git Implementations and Bindings in Python](http://www.legendu.net/misc/blog/git-implementations-and-bindings-in-python/)\n",
    "."
   ]
  },
  {
   "cell_type": "markdown",
   "metadata": {},
   "source": [
    "## Tips and Traps\n",
    "\n",
    "1. The `git` command (and thus Dulwich) accepts URLs both with and without the trailing `.git`. "
   ]
  },
  {
   "cell_type": "code",
   "execution_count": 1,
   "metadata": {
    "tags": []
   },
   "outputs": [
    {
     "name": "stdout",
     "output_type": "stream",
     "text": [
      "Defaulting to user installation because normal site-packages is not writeable\n",
      "Requirement already satisfied: dulwich in /usr/local/lib/python3.10/dist-packages (0.21.5)\n",
      "Requirement already satisfied: urllib3>=1.25 in /usr/local/lib/python3.10/dist-packages (from dulwich) (2.0.3)\n",
      "\n",
      "\u001b[1m[\u001b[0m\u001b[34;49mnotice\u001b[0m\u001b[1;39;49m]\u001b[0m\u001b[39;49m A new release of pip is available: \u001b[0m\u001b[31;49m23.2\u001b[0m\u001b[39;49m -> \u001b[0m\u001b[32;49m23.2.1\u001b[0m\n",
      "\u001b[1m[\u001b[0m\u001b[34;49mnotice\u001b[0m\u001b[1;39;49m]\u001b[0m\u001b[39;49m To update, run: \u001b[0m\u001b[32;49mpython3 -m pip install --upgrade pip\u001b[0m\n"
     ]
    }
   ],
   "source": [
    "!pip3 install dulwich"
   ]
  },
  {
   "cell_type": "code",
   "execution_count": 1,
   "metadata": {
    "tags": []
   },
   "outputs": [],
   "source": [
    "import dulwich.repo"
   ]
  },
  {
   "cell_type": "code",
   "execution_count": 2,
   "metadata": {
    "tags": []
   },
   "outputs": [],
   "source": [
    "from dulwich.repo import Repo"
   ]
  },
  {
   "cell_type": "code",
   "execution_count": 3,
   "metadata": {
    "tags": []
   },
   "outputs": [],
   "source": [
    "import dulwich.porcelain"
   ]
  },
  {
   "cell_type": "code",
   "execution_count": 6,
   "metadata": {
    "tags": []
   },
   "outputs": [],
   "source": [
    "url = \"https://github.com/dclong/test_dulwich\"\n",
    "dir_local = \"/tmp/test_dulwich\"\n",
    "!rm -rf {dir_local}"
   ]
  },
  {
   "cell_type": "markdown",
   "metadata": {},
   "source": [
    "## git clone"
   ]
  },
  {
   "cell_type": "code",
   "execution_count": 7,
   "metadata": {
    "tags": []
   },
   "outputs": [],
   "source": [
    "repo = dulwich.porcelain.clone(url, dir_local)"
   ]
  },
  {
   "cell_type": "code",
   "execution_count": 8,
   "metadata": {
    "tags": []
   },
   "outputs": [
    {
     "data": {
      "text/plain": [
       "<Repo at '/tmp/test_dulwich'>"
      ]
     },
     "execution_count": 8,
     "metadata": {},
     "output_type": "execute_result"
    }
   ],
   "source": [
    "repo"
   ]
  },
  {
   "cell_type": "code",
   "execution_count": 9,
   "metadata": {
    "tags": []
   },
   "outputs": [
    {
     "name": "stdout",
     "output_type": "stream",
     "text": [
      "abc  build.sh  readme.md\n"
     ]
    }
   ],
   "source": [
    "!ls {dir_local}"
   ]
  },
  {
   "cell_type": "markdown",
   "metadata": {},
   "source": [
    "Clone the local repository to another location \n",
    "(which is not very useful as you can directly copy the directory to the new location)."
   ]
  },
  {
   "cell_type": "code",
   "execution_count": 10,
   "metadata": {
    "tags": []
   },
   "outputs": [
    {
     "data": {
      "text/plain": [
       "\u001b[0;31mSignature:\u001b[0m\n",
       "\u001b[0mrepo\u001b[0m\u001b[0;34m.\u001b[0m\u001b[0mclone\u001b[0m\u001b[0;34m(\u001b[0m\u001b[0;34m\u001b[0m\n",
       "\u001b[0;34m\u001b[0m    \u001b[0mtarget_path\u001b[0m\u001b[0;34m,\u001b[0m\u001b[0;34m\u001b[0m\n",
       "\u001b[0;34m\u001b[0m    \u001b[0;34m*\u001b[0m\u001b[0;34m,\u001b[0m\u001b[0;34m\u001b[0m\n",
       "\u001b[0;34m\u001b[0m    \u001b[0mmkdir\u001b[0m\u001b[0;34m=\u001b[0m\u001b[0;32mTrue\u001b[0m\u001b[0;34m,\u001b[0m\u001b[0;34m\u001b[0m\n",
       "\u001b[0;34m\u001b[0m    \u001b[0mbare\u001b[0m\u001b[0;34m=\u001b[0m\u001b[0;32mFalse\u001b[0m\u001b[0;34m,\u001b[0m\u001b[0;34m\u001b[0m\n",
       "\u001b[0;34m\u001b[0m    \u001b[0morigin\u001b[0m\u001b[0;34m=\u001b[0m\u001b[0;34mb'origin'\u001b[0m\u001b[0;34m,\u001b[0m\u001b[0;34m\u001b[0m\n",
       "\u001b[0;34m\u001b[0m    \u001b[0mcheckout\u001b[0m\u001b[0;34m=\u001b[0m\u001b[0;32mNone\u001b[0m\u001b[0;34m,\u001b[0m\u001b[0;34m\u001b[0m\n",
       "\u001b[0;34m\u001b[0m    \u001b[0mbranch\u001b[0m\u001b[0;34m=\u001b[0m\u001b[0;32mNone\u001b[0m\u001b[0;34m,\u001b[0m\u001b[0;34m\u001b[0m\n",
       "\u001b[0;34m\u001b[0m    \u001b[0mprogress\u001b[0m\u001b[0;34m=\u001b[0m\u001b[0;32mNone\u001b[0m\u001b[0;34m,\u001b[0m\u001b[0;34m\u001b[0m\n",
       "\u001b[0;34m\u001b[0m    \u001b[0mdepth\u001b[0m\u001b[0;34m=\u001b[0m\u001b[0;32mNone\u001b[0m\u001b[0;34m,\u001b[0m\u001b[0;34m\u001b[0m\n",
       "\u001b[0;34m\u001b[0m    \u001b[0msymlinks\u001b[0m\u001b[0;34m=\u001b[0m\u001b[0;32mNone\u001b[0m\u001b[0;34m,\u001b[0m\u001b[0;34m\u001b[0m\n",
       "\u001b[0;34m\u001b[0m\u001b[0;34m)\u001b[0m \u001b[0;34m->\u001b[0m \u001b[0;34m'Repo'\u001b[0m\u001b[0;34m\u001b[0m\u001b[0;34m\u001b[0m\u001b[0m\n",
       "\u001b[0;31mDocstring:\u001b[0m\n",
       "Clone this repository.\n",
       "\n",
       "Args:\n",
       "  target_path: Target path\n",
       "  mkdir: Create the target directory\n",
       "  bare: Whether to create a bare repository\n",
       "  checkout: Whether or not to check-out HEAD after cloning\n",
       "  origin: Base name for refs in target repository\n",
       "    cloned from this repository\n",
       "  branch: Optional branch or tag to be used as HEAD in the new repository\n",
       "    instead of this repository's HEAD.\n",
       "  progress: Optional progress function\n",
       "  depth: Depth at which to fetch\n",
       "  symlinks: Symlinks setting (default to autodetect)\n",
       "Returns: Created repository as `Repo`\n",
       "\u001b[0;31mFile:\u001b[0m      /usr/local/lib/python3.10/dist-packages/dulwich/repo.py\n",
       "\u001b[0;31mType:\u001b[0m      method"
      ]
     },
     "metadata": {},
     "output_type": "display_data"
    }
   ],
   "source": [
    "?repo.clone"
   ]
  },
  {
   "cell_type": "markdown",
   "metadata": {},
   "source": [
    "## dulwich.repo.Repo"
   ]
  },
  {
   "cell_type": "code",
   "execution_count": 20,
   "metadata": {},
   "outputs": [
    {
     "data": {
      "text/plain": [
       "dulwich.repo.Repo"
      ]
     },
     "execution_count": 20,
     "metadata": {},
     "output_type": "execute_result"
    }
   ],
   "source": [
    "type(repo)"
   ]
  },
  {
   "cell_type": "code",
   "execution_count": 11,
   "metadata": {},
   "outputs": [
    {
     "data": {
      "text/plain": [
       "<Repo at '/tmp/test_dulwich'>"
      ]
     },
     "execution_count": 11,
     "metadata": {},
     "output_type": "execute_result"
    }
   ],
   "source": [
    "repo2 = Repo(\"/tmp/test_dulwich\")\n",
    "repo2"
   ]
  },
  {
   "cell_type": "code",
   "execution_count": 21,
   "metadata": {},
   "outputs": [
    {
     "data": {
      "text/plain": [
       "['__class__',\n",
       " '__contains__',\n",
       " '__delattr__',\n",
       " '__delitem__',\n",
       " '__dict__',\n",
       " '__dir__',\n",
       " '__doc__',\n",
       " '__enter__',\n",
       " '__eq__',\n",
       " '__exit__',\n",
       " '__format__',\n",
       " '__ge__',\n",
       " '__getattribute__',\n",
       " '__getitem__',\n",
       " '__gt__',\n",
       " '__hash__',\n",
       " '__init__',\n",
       " '__init_subclass__',\n",
       " '__le__',\n",
       " '__lt__',\n",
       " '__module__',\n",
       " '__ne__',\n",
       " '__new__',\n",
       " '__reduce__',\n",
       " '__reduce_ex__',\n",
       " '__repr__',\n",
       " '__setattr__',\n",
       " '__setitem__',\n",
       " '__sizeof__',\n",
       " '__str__',\n",
       " '__subclasshook__',\n",
       " '__weakref__',\n",
       " '_add_graftpoints',\n",
       " '_commondir',\n",
       " '_controldir',\n",
       " '_del_named_file',\n",
       " '_determine_file_mode',\n",
       " '_get_object',\n",
       " '_get_user_identity',\n",
       " '_graftpoints',\n",
       " '_init_files',\n",
       " '_init_maybe_bare',\n",
       " '_init_new_working_directory',\n",
       " '_put_named_file',\n",
       " '_read_heads',\n",
       " '_remove_graftpoints',\n",
       " '_write_reflog',\n",
       " 'bare',\n",
       " 'clone',\n",
       " 'close',\n",
       " 'commondir',\n",
       " 'controldir',\n",
       " 'create',\n",
       " 'discover',\n",
       " 'do_commit',\n",
       " 'fetch',\n",
       " 'fetch_objects',\n",
       " 'fetch_pack_data',\n",
       " 'generate_pack_data',\n",
       " 'get_blob_normalizer',\n",
       " 'get_config',\n",
       " 'get_config_stack',\n",
       " 'get_description',\n",
       " 'get_graph_walker',\n",
       " 'get_named_file',\n",
       " 'get_object',\n",
       " 'get_parents',\n",
       " 'get_peeled',\n",
       " 'get_refs',\n",
       " 'get_shallow',\n",
       " 'get_walker',\n",
       " 'has_index',\n",
       " 'head',\n",
       " 'hooks',\n",
       " 'index_path',\n",
       " 'init',\n",
       " 'init_bare',\n",
       " 'object_store',\n",
       " 'open_index',\n",
       " 'parents_provider',\n",
       " 'path',\n",
       " 'refs',\n",
       " 'reset_index',\n",
       " 'set_description',\n",
       " 'stage',\n",
       " 'update_shallow']"
      ]
     },
     "execution_count": 21,
     "metadata": {},
     "output_type": "execute_result"
    }
   ],
   "source": [
    "dir(repo)"
   ]
  },
  {
   "cell_type": "markdown",
   "metadata": {},
   "source": [
    "## git add"
   ]
  },
  {
   "cell_type": "code",
   "execution_count": 33,
   "metadata": {},
   "outputs": [],
   "source": [
    "!touch /tmp/test_dulwich/abc2"
   ]
  },
  {
   "cell_type": "code",
   "execution_count": 34,
   "metadata": {},
   "outputs": [
    {
     "name": "stdout",
     "output_type": "stream",
     "text": [
      "abc  abc2  build.sh  Dockerfile  LICENSE  readme.md  scripts\n"
     ]
    }
   ],
   "source": [
    "!ls /tmp/test_dulwich/"
   ]
  },
  {
   "cell_type": "code",
   "execution_count": 35,
   "metadata": {},
   "outputs": [
    {
     "name": "stdout",
     "output_type": "stream",
     "text": [
      "On branch dev\n",
      "Changes to be committed:\n",
      "  (use \"git restore --staged <file>...\" to unstage)\n",
      "\t\u001b[32mnew file:   abc\u001b[m\n",
      "\n",
      "Untracked files:\n",
      "  (use \"git add <file>...\" to include in what will be committed)\n",
      "\t\u001b[31mabc2\u001b[m\n",
      "\n"
     ]
    }
   ],
   "source": [
    "!git -C /tmp/test_dulwich/ status"
   ]
  },
  {
   "cell_type": "code",
   "execution_count": 29,
   "metadata": {},
   "outputs": [
    {
     "data": {
      "text/plain": [
       "\u001b[0;31mSignature:\u001b[0m \u001b[0mdulwich\u001b[0m\u001b[0;34m.\u001b[0m\u001b[0mporcelain\u001b[0m\u001b[0;34m.\u001b[0m\u001b[0madd\u001b[0m\u001b[0;34m(\u001b[0m\u001b[0mrepo\u001b[0m\u001b[0;34m=\u001b[0m\u001b[0;34m'.'\u001b[0m\u001b[0;34m,\u001b[0m \u001b[0mpaths\u001b[0m\u001b[0;34m=\u001b[0m\u001b[0;32mNone\u001b[0m\u001b[0;34m)\u001b[0m\u001b[0;34m\u001b[0m\u001b[0;34m\u001b[0m\u001b[0m\n",
       "\u001b[0;31mDocstring:\u001b[0m\n",
       "Add files to the staging area.\n",
       "\n",
       "Args:\n",
       "  repo: Repository for the files\n",
       "  paths: Paths to add.  No value passed stages all modified files.\n",
       "Returns: Tuple with set of added files and ignored files\n",
       "\n",
       "If the repository contains ignored directories, the returned set will\n",
       "contain the path to an ignored directory (with trailing slash). Individual\n",
       "files within ignored directories will not be returned.\n",
       "\u001b[0;31mFile:\u001b[0m      ~/.local/lib/python3.8/site-packages/dulwich/porcelain.py\n",
       "\u001b[0;31mType:\u001b[0m      function\n"
      ]
     },
     "metadata": {},
     "output_type": "display_data"
    }
   ],
   "source": [
    "?dulwich.porcelain.add"
   ]
  },
  {
   "cell_type": "code",
   "execution_count": 32,
   "metadata": {},
   "outputs": [
    {
     "data": {
      "text/plain": [
       "(['abc'], set())"
      ]
     },
     "execution_count": 32,
     "metadata": {},
     "output_type": "execute_result"
    }
   ],
   "source": [
    "dulwich.porcelain.add(\"/tmp/test_dulwich\", paths=\"/tmp/test_dulwich/abc\")"
   ]
  },
  {
   "cell_type": "markdown",
   "metadata": {},
   "source": [
    "By default,\n",
    "dulwich adds all files in the current working directory,\n",
    "which is not the right behavior!\n",
    "I have submitted [a ticket](https://github.com/dulwich/dulwich/issues/895) to fix the issue."
   ]
  },
  {
   "cell_type": "code",
   "execution_count": 54,
   "metadata": {},
   "outputs": [
    {
     "ename": "ValueError",
     "evalue": "'/workdir/archives/blog/misc/content/2020/11/hands-on-dulwich/hands-on-dulwich.ipynb' does not start with '/tmp/test_dulwich'",
     "output_type": "error",
     "traceback": [
      "\u001b[0;31m---------------------------------------------------------------------------\u001b[0m",
      "\u001b[0;31mValueError\u001b[0m                                Traceback (most recent call last)",
      "\u001b[0;32m/tmp/ipykernel_300/40685537.py\u001b[0m in \u001b[0;36m<module>\u001b[0;34m\u001b[0m\n\u001b[0;32m----> 1\u001b[0;31m \u001b[0mdulwich\u001b[0m\u001b[0;34m.\u001b[0m\u001b[0mporcelain\u001b[0m\u001b[0;34m.\u001b[0m\u001b[0madd\u001b[0m\u001b[0;34m(\u001b[0m\u001b[0;34m\"/tmp/test_dulwich\"\u001b[0m\u001b[0;34m)\u001b[0m\u001b[0;34m\u001b[0m\u001b[0;34m\u001b[0m\u001b[0m\n\u001b[0m",
      "\u001b[0;32m~/.local/lib/python3.8/site-packages/dulwich/porcelain.py\u001b[0m in \u001b[0;36madd\u001b[0;34m(repo, paths)\u001b[0m\n\u001b[1;32m    512\u001b[0m         \u001b[0mignore_manager\u001b[0m \u001b[0;34m=\u001b[0m \u001b[0mIgnoreFilterManager\u001b[0m\u001b[0;34m.\u001b[0m\u001b[0mfrom_repo\u001b[0m\u001b[0;34m(\u001b[0m\u001b[0mr\u001b[0m\u001b[0;34m)\u001b[0m\u001b[0;34m\u001b[0m\u001b[0;34m\u001b[0m\u001b[0m\n\u001b[1;32m    513\u001b[0m         \u001b[0;32mif\u001b[0m \u001b[0;32mnot\u001b[0m \u001b[0mpaths\u001b[0m\u001b[0;34m:\u001b[0m\u001b[0;34m\u001b[0m\u001b[0;34m\u001b[0m\u001b[0m\n\u001b[0;32m--> 514\u001b[0;31m             paths = list(\n\u001b[0m\u001b[1;32m    515\u001b[0m                 get_untracked_paths(\n\u001b[1;32m    516\u001b[0m                     \u001b[0mstr\u001b[0m\u001b[0;34m(\u001b[0m\u001b[0mPath\u001b[0m\u001b[0;34m(\u001b[0m\u001b[0mos\u001b[0m\u001b[0;34m.\u001b[0m\u001b[0mgetcwd\u001b[0m\u001b[0;34m(\u001b[0m\u001b[0;34m)\u001b[0m\u001b[0;34m)\u001b[0m\u001b[0;34m.\u001b[0m\u001b[0mresolve\u001b[0m\u001b[0;34m(\u001b[0m\u001b[0;34m)\u001b[0m\u001b[0;34m)\u001b[0m\u001b[0;34m,\u001b[0m\u001b[0;34m\u001b[0m\u001b[0;34m\u001b[0m\u001b[0m\n",
      "\u001b[0;32m~/.local/lib/python3.8/site-packages/dulwich/porcelain.py\u001b[0m in \u001b[0;36mget_untracked_paths\u001b[0;34m(frompath, basepath, index, exclude_ignored)\u001b[0m\n\u001b[1;32m   1291\u001b[0m     ):\n\u001b[1;32m   1292\u001b[0m         \u001b[0;32mif\u001b[0m \u001b[0;32mnot\u001b[0m \u001b[0mis_dir\u001b[0m\u001b[0;34m:\u001b[0m\u001b[0;34m\u001b[0m\u001b[0;34m\u001b[0m\u001b[0m\n\u001b[0;32m-> 1293\u001b[0;31m             \u001b[0mip\u001b[0m \u001b[0;34m=\u001b[0m \u001b[0mpath_to_tree_path\u001b[0m\u001b[0;34m(\u001b[0m\u001b[0mbasepath\u001b[0m\u001b[0;34m,\u001b[0m \u001b[0map\u001b[0m\u001b[0;34m)\u001b[0m\u001b[0;34m\u001b[0m\u001b[0;34m\u001b[0m\u001b[0m\n\u001b[0m\u001b[1;32m   1294\u001b[0m             \u001b[0;32mif\u001b[0m \u001b[0mip\u001b[0m \u001b[0;32mnot\u001b[0m \u001b[0;32min\u001b[0m \u001b[0mindex\u001b[0m\u001b[0;34m:\u001b[0m\u001b[0;34m\u001b[0m\u001b[0;34m\u001b[0m\u001b[0m\n\u001b[1;32m   1295\u001b[0m                 if (\n",
      "\u001b[0;32m~/.local/lib/python3.8/site-packages/dulwich/porcelain.py\u001b[0m in \u001b[0;36mpath_to_tree_path\u001b[0;34m(repopath, path, tree_encoding)\u001b[0m\n\u001b[1;32m    252\u001b[0m \u001b[0;34m\u001b[0m\u001b[0m\n\u001b[1;32m    253\u001b[0m         \u001b[0;32mtry\u001b[0m\u001b[0;34m:\u001b[0m\u001b[0;34m\u001b[0m\u001b[0;34m\u001b[0m\u001b[0m\n\u001b[0;32m--> 254\u001b[0;31m             \u001b[0mrelpath\u001b[0m \u001b[0;34m=\u001b[0m \u001b[0mresolved_path\u001b[0m\u001b[0;34m.\u001b[0m\u001b[0mrelative_to\u001b[0m\u001b[0;34m(\u001b[0m\u001b[0mrepopath\u001b[0m\u001b[0;34m)\u001b[0m\u001b[0;34m\u001b[0m\u001b[0;34m\u001b[0m\u001b[0m\n\u001b[0m\u001b[1;32m    255\u001b[0m         \u001b[0;32mexcept\u001b[0m \u001b[0mValueError\u001b[0m\u001b[0;34m:\u001b[0m\u001b[0;34m\u001b[0m\u001b[0;34m\u001b[0m\u001b[0m\n\u001b[1;32m    256\u001b[0m             \u001b[0;31m# If path is a symlink that points to a file outside the repo, we\u001b[0m\u001b[0;34m\u001b[0m\u001b[0;34m\u001b[0m\u001b[0;34m\u001b[0m\u001b[0m\n",
      "\u001b[0;32m/usr/lib/python3.8/pathlib.py\u001b[0m in \u001b[0;36mrelative_to\u001b[0;34m(self, *other)\u001b[0m\n\u001b[1;32m    906\u001b[0m         \u001b[0;32mif\u001b[0m \u001b[0;34m(\u001b[0m\u001b[0mroot\u001b[0m \u001b[0;32mor\u001b[0m \u001b[0mdrv\u001b[0m\u001b[0;34m)\u001b[0m \u001b[0;32mif\u001b[0m \u001b[0mn\u001b[0m \u001b[0;34m==\u001b[0m \u001b[0;36m0\u001b[0m \u001b[0;32melse\u001b[0m \u001b[0mcf\u001b[0m\u001b[0;34m(\u001b[0m\u001b[0mabs_parts\u001b[0m\u001b[0;34m[\u001b[0m\u001b[0;34m:\u001b[0m\u001b[0mn\u001b[0m\u001b[0;34m]\u001b[0m\u001b[0;34m)\u001b[0m \u001b[0;34m!=\u001b[0m \u001b[0mcf\u001b[0m\u001b[0;34m(\u001b[0m\u001b[0mto_abs_parts\u001b[0m\u001b[0;34m)\u001b[0m\u001b[0;34m:\u001b[0m\u001b[0;34m\u001b[0m\u001b[0;34m\u001b[0m\u001b[0m\n\u001b[1;32m    907\u001b[0m             \u001b[0mformatted\u001b[0m \u001b[0;34m=\u001b[0m \u001b[0mself\u001b[0m\u001b[0;34m.\u001b[0m\u001b[0m_format_parsed_parts\u001b[0m\u001b[0;34m(\u001b[0m\u001b[0mto_drv\u001b[0m\u001b[0;34m,\u001b[0m \u001b[0mto_root\u001b[0m\u001b[0;34m,\u001b[0m \u001b[0mto_parts\u001b[0m\u001b[0;34m)\u001b[0m\u001b[0;34m\u001b[0m\u001b[0;34m\u001b[0m\u001b[0m\n\u001b[0;32m--> 908\u001b[0;31m             raise ValueError(\"{!r} does not start with {!r}\"\n\u001b[0m\u001b[1;32m    909\u001b[0m                              .format(str(self), str(formatted)))\n\u001b[1;32m    910\u001b[0m         return self._from_parsed_parts('', root if n == 1 else '',\n",
      "\u001b[0;31mValueError\u001b[0m: '/workdir/archives/blog/misc/content/2020/11/hands-on-dulwich/hands-on-dulwich.ipynb' does not start with '/tmp/test_dulwich'"
     ]
    }
   ],
   "source": [
    "dulwich.porcelain.add(\"/tmp/test_dulwich\")"
   ]
  },
  {
   "cell_type": "code",
   "execution_count": 67,
   "metadata": {},
   "outputs": [
    {
     "data": {
      "text/plain": [
       "(['./'], set())"
      ]
     },
     "execution_count": 67,
     "metadata": {},
     "output_type": "execute_result"
    }
   ],
   "source": [
    "dulwich.porcelain.add(\"/tmp/test_dulwich\", paths=\"/tmp/test_dulwich/.\")"
   ]
  },
  {
   "cell_type": "code",
   "execution_count": 71,
   "metadata": {},
   "outputs": [
    {
     "data": {
      "text/plain": [
       "GitStatus(staged={'add': [], 'delete': [], 'modify': []}, unstaged=[], untracked=['abc2'])"
      ]
     },
     "execution_count": 71,
     "metadata": {},
     "output_type": "execute_result"
    }
   ],
   "source": [
    "status = dulwich.porcelain.status(\"/tmp/test_dulwich\")\n",
    "status"
   ]
  },
  {
   "cell_type": "code",
   "execution_count": 72,
   "metadata": {},
   "outputs": [
    {
     "data": {
      "text/plain": [
       "[]"
      ]
     },
     "execution_count": 72,
     "metadata": {},
     "output_type": "execute_result"
    }
   ],
   "source": [
    "status.unstaged"
   ]
  },
  {
   "cell_type": "code",
   "execution_count": 73,
   "metadata": {},
   "outputs": [
    {
     "data": {
      "text/plain": [
       "['abc2']"
      ]
     },
     "execution_count": 73,
     "metadata": {},
     "output_type": "execute_result"
    }
   ],
   "source": [
    "status.untracked"
   ]
  },
  {
   "cell_type": "markdown",
   "metadata": {},
   "source": [
    "## git commit"
   ]
  },
  {
   "cell_type": "code",
   "execution_count": 48,
   "metadata": {},
   "outputs": [
    {
     "data": {
      "text/plain": [
       "\u001b[0;31mSignature:\u001b[0m\n",
       "\u001b[0mdulwich\u001b[0m\u001b[0;34m.\u001b[0m\u001b[0mporcelain\u001b[0m\u001b[0;34m.\u001b[0m\u001b[0mcommit\u001b[0m\u001b[0;34m(\u001b[0m\u001b[0;34m\u001b[0m\n",
       "\u001b[0;34m\u001b[0m    \u001b[0mrepo\u001b[0m\u001b[0;34m=\u001b[0m\u001b[0;34m'.'\u001b[0m\u001b[0;34m,\u001b[0m\u001b[0;34m\u001b[0m\n",
       "\u001b[0;34m\u001b[0m    \u001b[0mmessage\u001b[0m\u001b[0;34m=\u001b[0m\u001b[0;32mNone\u001b[0m\u001b[0;34m,\u001b[0m\u001b[0;34m\u001b[0m\n",
       "\u001b[0;34m\u001b[0m    \u001b[0mauthor\u001b[0m\u001b[0;34m=\u001b[0m\u001b[0;32mNone\u001b[0m\u001b[0;34m,\u001b[0m\u001b[0;34m\u001b[0m\n",
       "\u001b[0;34m\u001b[0m    \u001b[0mcommitter\u001b[0m\u001b[0;34m=\u001b[0m\u001b[0;32mNone\u001b[0m\u001b[0;34m,\u001b[0m\u001b[0;34m\u001b[0m\n",
       "\u001b[0;34m\u001b[0m    \u001b[0mencoding\u001b[0m\u001b[0;34m=\u001b[0m\u001b[0;32mNone\u001b[0m\u001b[0;34m,\u001b[0m\u001b[0;34m\u001b[0m\n",
       "\u001b[0;34m\u001b[0m    \u001b[0mno_verify\u001b[0m\u001b[0;34m=\u001b[0m\u001b[0;32mFalse\u001b[0m\u001b[0;34m,\u001b[0m\u001b[0;34m\u001b[0m\n",
       "\u001b[0;34m\u001b[0m\u001b[0;34m)\u001b[0m\u001b[0;34m\u001b[0m\u001b[0;34m\u001b[0m\u001b[0m\n",
       "\u001b[0;31mDocstring:\u001b[0m\n",
       "Create a new commit.\n",
       "\n",
       "Args:\n",
       "  repo: Path to repository\n",
       "  message: Optional commit message\n",
       "  author: Optional author name and email\n",
       "  committer: Optional committer name and email\n",
       "  no_verify: Skip pre-commit and commit-msg hooks\n",
       "Returns: SHA1 of the new commit\n",
       "\u001b[0;31mFile:\u001b[0m      ~/.local/lib/python3.8/site-packages/dulwich/porcelain.py\n",
       "\u001b[0;31mType:\u001b[0m      function\n"
      ]
     },
     "metadata": {},
     "output_type": "display_data"
    }
   ],
   "source": [
    "?dulwich.porcelain.commit"
   ]
  },
  {
   "cell_type": "code",
   "execution_count": 50,
   "metadata": {},
   "outputs": [
    {
     "data": {
      "text/plain": [
       "b'11fb9f18f9d211c93175e898faa731584b8be368'"
      ]
     },
     "execution_count": 50,
     "metadata": {},
     "output_type": "execute_result"
    }
   ],
   "source": [
    "dulwich.porcelain.commit(\"/tmp/test_dulwich/\", message=\"add abc\")"
   ]
  },
  {
   "cell_type": "code",
   "execution_count": 51,
   "metadata": {},
   "outputs": [
    {
     "name": "stdout",
     "output_type": "stream",
     "text": [
      "On branch dev\n",
      "Untracked files:\n",
      "  (use \"git add <file>...\" to include in what will be committed)\n",
      "\t\u001b[31mabc2\u001b[m\n",
      "\n",
      "nothing added to commit but untracked files present (use \"git add\" to track)\n"
     ]
    }
   ],
   "source": [
    "!git -C /tmp/test_dulwich/ status"
   ]
  },
  {
   "cell_type": "code",
   "execution_count": 53,
   "metadata": {},
   "outputs": [
    {
     "name": "stdout",
     "output_type": "stream",
     "text": [
      "commit 11fb9f18f9d211c93175e898faa731584b8be368\n",
      "Author: Benjamin Du <longendu@yahoo.com>\n",
      "Date:   Sat Aug 7 01:33:45 2021 +0000\n",
      "\n",
      "    add abc\n",
      "\n",
      "commit 2fd55f0a653bf8ec2e7ffda16c7b2d601167da06\n",
      "Author: Ben Chuanlong Du <dclong@users.noreply.github.com>\n",
      "Date:   Fri Jul 16 09:53:00 2021 -0700\n",
      "\n"
     ]
    }
   ],
   "source": [
    "!git -C /tmp/test_dulwich/ log | head"
   ]
  },
  {
   "cell_type": "markdown",
   "metadata": {},
   "source": [
    "## ConfigFile\n",
    "\n",
    "ConfigFile inherits ConfigDict which means that you operate on a ConfiFile like a `dict`."
   ]
  },
  {
   "cell_type": "code",
   "execution_count": 14,
   "metadata": {},
   "outputs": [
    {
     "data": {
      "text/plain": [
       "ConfigFile(CaseInsensitiveDict([((b'core',), CaseInsensitiveDict([(b'repositoryformatversion', b'0'), (b'filemode', b'true'), (b'bare', b'false'), (b'logallrefupdates', b'true')])), ((b'remote', b'origin'), CaseInsensitiveDict([(b'url', b'https://github.com/dclong/docker-ubuntu_b'), (b'fetch', b'+refs/heads/*:refs/remotes/origin/*')])), ((b'remote', b'nima'), CaseInsensitiveDict([(b'url', b'https://github.com/dclong/docker-ubuntu_b'), (b'fetch', b'+refs/heads/*:refs/remotes/nima/*')]))]))"
      ]
     },
     "execution_count": 14,
     "metadata": {},
     "output_type": "execute_result"
    }
   ],
   "source": [
    "config = repo.get_config()\n",
    "config"
   ]
  },
  {
   "cell_type": "code",
   "execution_count": 37,
   "metadata": {},
   "outputs": [
    {
     "data": {
      "text/plain": [
       "KeysView(ConfigFile(CaseInsensitiveDict([((b'core',), CaseInsensitiveDict([(b'repositoryformatversion', b'0'), (b'filemode', b'true'), (b'bare', b'false'), (b'logallrefupdates', b'true')])), ((b'remote', b'origin'), CaseInsensitiveDict([(b'url', b'https://github.com/dclong/docker-ubuntu_b'), (b'fetch', b'+refs/heads/*:refs/remotes/origin/*')])), ((b'remote', b'nima'), CaseInsensitiveDict([(b'url', b'https://github.com/dclong/docker-ubuntu_b'), (b'fetch', b'+refs/heads/*:refs/remotes/nima/*')]))])))"
      ]
     },
     "execution_count": 37,
     "metadata": {},
     "output_type": "execute_result"
    }
   ],
   "source": [
    "config.keys()"
   ]
  },
  {
   "cell_type": "code",
   "execution_count": 38,
   "metadata": {},
   "outputs": [
    {
     "data": {
      "text/plain": [
       "ValuesView(ConfigFile(CaseInsensitiveDict([((b'core',), CaseInsensitiveDict([(b'repositoryformatversion', b'0'), (b'filemode', b'true'), (b'bare', b'false'), (b'logallrefupdates', b'true')])), ((b'remote', b'origin'), CaseInsensitiveDict([(b'url', b'https://github.com/dclong/docker-ubuntu_b'), (b'fetch', b'+refs/heads/*:refs/remotes/origin/*')])), ((b'remote', b'nima'), CaseInsensitiveDict([(b'url', b'https://github.com/dclong/docker-ubuntu_b'), (b'fetch', b'+refs/heads/*:refs/remotes/nima/*')]))])))"
      ]
     },
     "execution_count": 38,
     "metadata": {},
     "output_type": "execute_result"
    }
   ],
   "source": [
    "config.values()"
   ]
  },
  {
   "cell_type": "code",
   "execution_count": 40,
   "metadata": {},
   "outputs": [
    {
     "data": {
      "text/plain": [
       "CaseInsensitiveDict([(b'url', b'https://github.com/dclong/docker-ubuntu_b'),\n",
       "                     (b'fetch', b'+refs/heads/*:refs/remotes/origin/*')])"
      ]
     },
     "execution_count": 40,
     "metadata": {},
     "output_type": "execute_result"
    }
   ],
   "source": [
    "config[(b\"remote\", b\"origin\")]"
   ]
  },
  {
   "cell_type": "code",
   "execution_count": 27,
   "metadata": {},
   "outputs": [
    {
     "data": {
      "text/plain": [
       "b'https://github.com/dclong/docker-ubuntu_b'"
      ]
     },
     "execution_count": 27,
     "metadata": {},
     "output_type": "execute_result"
    }
   ],
   "source": [
    "config.get((b\"remote\", b\"origin\"), b\"url\")"
   ]
  },
  {
   "cell_type": "code",
   "execution_count": 31,
   "metadata": {},
   "outputs": [
    {
     "data": {
      "text/plain": [
       "{(b'core',): CaseInsensitiveDict([(b'repositoryformatversion', b'0'),\n",
       "                      (b'filemode', b'true'),\n",
       "                      (b'bare', b'false'),\n",
       "                      (b'logallrefupdates', b'true')]),\n",
       " (b'remote',\n",
       "  b'origin'): CaseInsensitiveDict([(b'url',\n",
       "                       b'https://github.com/dclong/docker-ubuntu_b'),\n",
       "                      (b'fetch', b'+refs/heads/*:refs/remotes/origin/*')]),\n",
       " (b'remote',\n",
       "  b'nima'): CaseInsensitiveDict([(b'url',\n",
       "                       b'https://github.com/dclong/docker-ubuntu_b'),\n",
       "                      (b'fetch', b'+refs/heads/*:refs/remotes/nima/*')])}"
      ]
     },
     "execution_count": 31,
     "metadata": {},
     "output_type": "execute_result"
    }
   ],
   "source": [
    "dict(config)"
   ]
  },
  {
   "cell_type": "markdown",
   "metadata": {},
   "source": [
    "## git remote -v"
   ]
  },
  {
   "cell_type": "code",
   "execution_count": 31,
   "metadata": {
    "tags": []
   },
   "outputs": [
    {
     "data": {
      "text/plain": [
       "['_import_remote_refs',\n",
       " 'get_branch_remote',\n",
       " 'get_remote_repo',\n",
       " 'ls_remote',\n",
       " 'remote_add',\n",
       " 'remote_remove']"
      ]
     },
     "execution_count": 31,
     "metadata": {},
     "output_type": "execute_result"
    }
   ],
   "source": [
    "[m for m in dir(dulwich.porcelain) if 'remote' in m]"
   ]
  },
  {
   "cell_type": "code",
   "execution_count": 34,
   "metadata": {
    "tags": []
   },
   "outputs": [
    {
     "data": {
      "text/plain": [
       "b'origin'"
      ]
     },
     "execution_count": 34,
     "metadata": {},
     "output_type": "execute_result"
    }
   ],
   "source": [
    "dulwich.porcelain.get_branch_remote(repo)"
   ]
  },
  {
   "cell_type": "code",
   "execution_count": 36,
   "metadata": {
    "tags": []
   },
   "outputs": [
    {
     "data": {
      "text/plain": [
       "('origin', 'https://github.com/dclong/docker-ubuntu_b')"
      ]
     },
     "execution_count": 36,
     "metadata": {},
     "output_type": "execute_result"
    }
   ],
   "source": [
    "dulwich.porcelain.get_remote_repo(repo)"
   ]
  },
  {
   "cell_type": "code",
   "execution_count": 39,
   "metadata": {
    "tags": []
   },
   "outputs": [
    {
     "data": {
      "text/plain": [
       "{b'HEAD': b'4996e93a5f24c375b1d56deddda1cd9cfddd14f6',\n",
       " b'refs/heads/centos7': b'd7a6f672771be1fc33ddd1006b3318901c914b19',\n",
       " b'refs/heads/debian': b'c7fc15b52f4c76faa4ba487a113b5c987ac3b371',\n",
       " b'refs/heads/dev': b'4996e93a5f24c375b1d56deddda1cd9cfddd14f6',\n",
       " b'refs/heads/main': b'925dd68d39ea943f1c387e4906e72aebc765c4bf',\n",
       " b'refs/pull/1/head': b'b90bd029b4707a94640957cbfae73a631a9d83e0',\n",
       " b'refs/pull/1/merge': b'c767a6a929e599c245a4241477093554c1ab0d10',\n",
       " b'refs/pull/10/head': b'ea5b60d7fc34fce65ec4a503c20536d3e0d4587a',\n",
       " b'refs/pull/100/head': b'b514f4d74dd93b237cb72a91e992a0480393b546',\n",
       " b'refs/pull/101/head': b'b514f4d74dd93b237cb72a91e992a0480393b546',\n",
       " b'refs/pull/102/head': b'f2f28a5809657930caa51d2606dc62c3e74d2e27',\n",
       " b'refs/pull/103/head': b'f2f28a5809657930caa51d2606dc62c3e74d2e27',\n",
       " b'refs/pull/104/head': b'43863e528cbd069b8f095f8eade79ae990fbe916',\n",
       " b'refs/pull/105/head': b'43863e528cbd069b8f095f8eade79ae990fbe916',\n",
       " b'refs/pull/106/head': b'238b7db8c24f6ed43125696405f56cbd33302ad1',\n",
       " b'refs/pull/107/head': b'238b7db8c24f6ed43125696405f56cbd33302ad1',\n",
       " b'refs/pull/108/head': b'2e5bec99f5b0bfcb5e74ad8b9c0ff4c36827a295',\n",
       " b'refs/pull/109/head': b'4996e93a5f24c375b1d56deddda1cd9cfddd14f6',\n",
       " b'refs/pull/11/head': b'0d7e63476077d2ed51728823f3ce54b57a8287e6',\n",
       " b'refs/pull/110/head': b'4996e93a5f24c375b1d56deddda1cd9cfddd14f6',\n",
       " b'refs/pull/12/head': b'd2fcee067c4f003084950799f8cb408625d8c610',\n",
       " b'refs/pull/13/head': b'5d29d66bdadfb7e265b0f895ca1bf6f26f7bad39',\n",
       " b'refs/pull/14/head': b'114a4a2af63270ea69f08b5801cf1bdfa1c29222',\n",
       " b'refs/pull/15/head': b'ffe1f38e3a91ef69b784b867ad5d7729bf17499f',\n",
       " b'refs/pull/16/head': b'1b2ee6dbbe96435009ef96a80776ebc30e74b082',\n",
       " b'refs/pull/17/head': b'b1d52163d2170c1b7a8fe9a0d05bf15a7c4dfcb0',\n",
       " b'refs/pull/18/head': b'ac8a2c93c8c93985eb7a6e2742e2a3e5aa4786d8',\n",
       " b'refs/pull/19/head': b'2363a9a27b3223553f87ce2607a431b0b6ac9510',\n",
       " b'refs/pull/2/head': b'044c475cbccd47aad5dfbc3aa672ef37dc401fbc',\n",
       " b'refs/pull/20/head': b'163eadfc89d1e2a19ef87b979cd3f912b2606a31',\n",
       " b'refs/pull/21/head': b'd265b2309d471cb6edbcf349259837bd7401be10',\n",
       " b'refs/pull/22/head': b'4a7b4e9f3ab3b38abbf300c4c7ea216d804bf768',\n",
       " b'refs/pull/23/head': b'b3d3e249c98848e3f94cd266fcec31677cf51ba7',\n",
       " b'refs/pull/24/head': b'c6a5918b051d30688bf70f7113bc097d44f97353',\n",
       " b'refs/pull/25/head': b'cdc7a8a78d0344207a701370fe64452b8a32cbaa',\n",
       " b'refs/pull/26/head': b'cdc7a8a78d0344207a701370fe64452b8a32cbaa',\n",
       " b'refs/pull/27/head': b'40fee483349643993e1aa807b6bb92e70f8d0026',\n",
       " b'refs/pull/28/head': b'7fbbc778dbcf88f57ac70a1c8c47f51dcc7c044a',\n",
       " b'refs/pull/29/head': b'e3bd34e88a215a96d79dc362c3bda22966d1a159',\n",
       " b'refs/pull/3/head': b'f05bb4e34974fe56bde6329b65917eb6c13bb492',\n",
       " b'refs/pull/30/head': b'8f9f426f13d70b21f573f7c50bbe01e8ce38f158',\n",
       " b'refs/pull/31/head': b'8f9f426f13d70b21f573f7c50bbe01e8ce38f158',\n",
       " b'refs/pull/32/head': b'5e8e2a3d76050131a74e943045ce370cf05c8a5a',\n",
       " b'refs/pull/33/head': b'2fd55f0a653bf8ec2e7ffda16c7b2d601167da06',\n",
       " b'refs/pull/34/head': b'2fd55f0a653bf8ec2e7ffda16c7b2d601167da06',\n",
       " b'refs/pull/35/head': b'01394b26a91cbfdcdea7ceccf87b1d57dc8d954a',\n",
       " b'refs/pull/36/head': b'01394b26a91cbfdcdea7ceccf87b1d57dc8d954a',\n",
       " b'refs/pull/37/head': b'9329115eba6048db7972381ecb86bbc897d3f977',\n",
       " b'refs/pull/38/head': b'9329115eba6048db7972381ecb86bbc897d3f977',\n",
       " b'refs/pull/39/head': b'2922709aaef766e633d29ad29b559b3597ebce5f',\n",
       " b'refs/pull/4/head': b'4ced0ff539deaed8c0550d8b9375964cf4f301ea',\n",
       " b'refs/pull/40/head': b'2922709aaef766e633d29ad29b559b3597ebce5f',\n",
       " b'refs/pull/41/head': b'2922709aaef766e633d29ad29b559b3597ebce5f',\n",
       " b'refs/pull/42/head': b'a80543f6271e23effee307d9b1e43ae0346ed32c',\n",
       " b'refs/pull/43/head': b'a80543f6271e23effee307d9b1e43ae0346ed32c',\n",
       " b'refs/pull/44/head': b'2e6645a55e1a665b42880d10fa731909ca2cbc62',\n",
       " b'refs/pull/45/head': b'2e6645a55e1a665b42880d10fa731909ca2cbc62',\n",
       " b'refs/pull/46/head': b'2e6645a55e1a665b42880d10fa731909ca2cbc62',\n",
       " b'refs/pull/47/head': b'5701b39fa080dc72d44bb8ab3748272535a1f555',\n",
       " b'refs/pull/48/head': b'5701b39fa080dc72d44bb8ab3748272535a1f555',\n",
       " b'refs/pull/49/head': b'5701b39fa080dc72d44bb8ab3748272535a1f555',\n",
       " b'refs/pull/5/head': b'f1f7d2da22ebd871b40633480bbcf65c6e359183',\n",
       " b'refs/pull/50/head': b'abee9488b95fe174d8c70eaf81481ff75e6a0aeb',\n",
       " b'refs/pull/51/head': b'abee9488b95fe174d8c70eaf81481ff75e6a0aeb',\n",
       " b'refs/pull/52/head': b'abee9488b95fe174d8c70eaf81481ff75e6a0aeb',\n",
       " b'refs/pull/53/head': b'5c9060d676990842910378026a54f76159f14af1',\n",
       " b'refs/pull/54/head': b'5c9060d676990842910378026a54f76159f14af1',\n",
       " b'refs/pull/55/head': b'5c9060d676990842910378026a54f76159f14af1',\n",
       " b'refs/pull/56/head': b'4772475351cda80b6417c70faf574e2b129ae3ce',\n",
       " b'refs/pull/57/head': b'4772475351cda80b6417c70faf574e2b129ae3ce',\n",
       " b'refs/pull/58/head': b'4772475351cda80b6417c70faf574e2b129ae3ce',\n",
       " b'refs/pull/59/head': b'6c22d07d89bb18e3085ba95855c3e57f78b4efd9',\n",
       " b'refs/pull/6/head': b'09c70147a2697351b54ab4c6fa963674ebfaf762',\n",
       " b'refs/pull/60/head': b'6a35b22ac59b05e838bc6c2541f6a43fb0aad0f1',\n",
       " b'refs/pull/61/head': b'1ca56d99216ea8e12ee32e40131c54c85473531d',\n",
       " b'refs/pull/62/head': b'140948d0e0f9e93242643485667db698b91ca84b',\n",
       " b'refs/pull/63/head': b'e26ef132b990841aa0d5fcb4d1172519d7f47540',\n",
       " b'refs/pull/64/head': b'140948d0e0f9e93242643485667db698b91ca84b',\n",
       " b'refs/pull/65/head': b'feac3d41c796fce059cf555730ec274b8b850687',\n",
       " b'refs/pull/66/head': b'feac3d41c796fce059cf555730ec274b8b850687',\n",
       " b'refs/pull/67/head': b'feac3d41c796fce059cf555730ec274b8b850687',\n",
       " b'refs/pull/68/head': b'feac3d41c796fce059cf555730ec274b8b850687',\n",
       " b'refs/pull/69/head': b'7b952d878baa72b3f1a07b7ea5ee2836f7fdb4ba',\n",
       " b'refs/pull/7/head': b'204624e13a9e07770997f95bdf45af179f27e9c4',\n",
       " b'refs/pull/70/head': b'7b952d878baa72b3f1a07b7ea5ee2836f7fdb4ba',\n",
       " b'refs/pull/71/head': b'7b952d878baa72b3f1a07b7ea5ee2836f7fdb4ba',\n",
       " b'refs/pull/72/head': b'da4c00f7e53abceeb80efc9baae8d5a836d32f30',\n",
       " b'refs/pull/73/head': b'da4c00f7e53abceeb80efc9baae8d5a836d32f30',\n",
       " b'refs/pull/74/head': b'bd0515a6b4b6e6266013920694598ae113d48b2c',\n",
       " b'refs/pull/75/head': b'4372406c65f3e11d0138123d45aaa774c27fbe76',\n",
       " b'refs/pull/76/head': b'1f997c23eab00214e49b2def58b6a6e86bdf1cc2',\n",
       " b'refs/pull/77/head': b'4372406c65f3e11d0138123d45aaa774c27fbe76',\n",
       " b'refs/pull/78/head': b'bf346d6742f6558d1bc5c34cd71c63e4eadf22bd',\n",
       " b'refs/pull/79/head': b'6beaaa4db5fb1705f2468462bb40ff2c46341786',\n",
       " b'refs/pull/8/head': b'4546786737d692063b9c175b2e2b5035649e7aaa',\n",
       " b'refs/pull/80/head': b'4df4e6289e4644f21e400d8e148649e9881b4adc',\n",
       " b'refs/pull/81/head': b'2ba920d2d2c834f3fd9c570d2150a0f5dd9dc200',\n",
       " b'refs/pull/82/head': b'd3880bf360b7e36e8cd1ad2c0ee588ffd30611f4',\n",
       " b'refs/pull/83/head': b'f13f3bfd7e4ad3e7084b89b94d789e4e4a9c8e0b',\n",
       " b'refs/pull/84/head': b'7ddf22fdb933da4734fac522287c2c99105b8ced',\n",
       " b'refs/pull/85/head': b'4b7fd4e6cb22afc01020d2464be022ed4b055395',\n",
       " b'refs/pull/86/head': b'80fb1308d9d7576f2d04526f3ce72e197f9ae7de',\n",
       " b'refs/pull/87/head': b'11f32203327e26fd9bcd26c0d7af0c2ebe6266de',\n",
       " b'refs/pull/88/head': b'5961f169e5cd94319fc32ff3d4888469d4a9a293',\n",
       " b'refs/pull/89/head': b'4415bf6ee68993eca9ea6c81d978d5d9f541a8d4',\n",
       " b'refs/pull/9/head': b'24763e5554012f97af5e9926673bdf9cccdc79dc',\n",
       " b'refs/pull/90/head': b'4415bf6ee68993eca9ea6c81d978d5d9f541a8d4',\n",
       " b'refs/pull/91/head': b'cdd4da987285797630230d68d871395a3e59f563',\n",
       " b'refs/pull/92/head': b'c3f9f83ef09dfe6cf221302cc3cb5e601d419fe2',\n",
       " b'refs/pull/93/head': b'cdd4da987285797630230d68d871395a3e59f563',\n",
       " b'refs/pull/94/head': b'8df5667732c0040b0c5f472568e1c5ef2a514170',\n",
       " b'refs/pull/95/head': b'8df5667732c0040b0c5f472568e1c5ef2a514170',\n",
       " b'refs/pull/96/head': b'8ee75013f768869f5e7b15e48dc69937d49de1ec',\n",
       " b'refs/pull/97/head': b'8ee75013f768869f5e7b15e48dc69937d49de1ec',\n",
       " b'refs/pull/98/head': b'7d46e2e2574cbfb575f32206468e3d0c9ad04231',\n",
       " b'refs/pull/99/head': b'7d46e2e2574cbfb575f32206468e3d0c9ad04231'}"
      ]
     },
     "execution_count": 39,
     "metadata": {},
     "output_type": "execute_result"
    }
   ],
   "source": [
    "dulwich.porcelain.ls_remote(url)"
   ]
  },
  {
   "cell_type": "code",
   "execution_count": 36,
   "metadata": {},
   "outputs": [
    {
     "data": {
      "text/plain": [
       "['origin', 'nima']"
      ]
     },
     "execution_count": 36,
     "metadata": {},
     "output_type": "execute_result"
    }
   ],
   "source": [
    "[key[1].decode() for key in config.keys() if key[0] == b\"remote\"]"
   ]
  },
  {
   "cell_type": "markdown",
   "metadata": {},
   "source": [
    "## dulwich.porcelain.ls_remote"
   ]
  },
  {
   "cell_type": "code",
   "execution_count": 79,
   "metadata": {},
   "outputs": [
    {
     "data": {
      "text/plain": [
       "{b'HEAD': b'2fd55f0a653bf8ec2e7ffda16c7b2d601167da06',\n",
       " b'refs/heads/debian': b'618389f8300615ba7d31c4ba7b75fb94770391e1',\n",
       " b'refs/heads/dev': b'2fd55f0a653bf8ec2e7ffda16c7b2d601167da06',\n",
       " b'refs/heads/main': b'71f2b1d96cfa8596319686a5a98514ad4ac85506',\n",
       " b'refs/pull/1/head': b'b90bd029b4707a94640957cbfae73a631a9d83e0',\n",
       " b'refs/pull/1/merge': b'c767a6a929e599c245a4241477093554c1ab0d10',\n",
       " b'refs/pull/10/head': b'ea5b60d7fc34fce65ec4a503c20536d3e0d4587a',\n",
       " b'refs/pull/11/head': b'0d7e63476077d2ed51728823f3ce54b57a8287e6',\n",
       " b'refs/pull/12/head': b'd2fcee067c4f003084950799f8cb408625d8c610',\n",
       " b'refs/pull/13/head': b'5d29d66bdadfb7e265b0f895ca1bf6f26f7bad39',\n",
       " b'refs/pull/14/head': b'114a4a2af63270ea69f08b5801cf1bdfa1c29222',\n",
       " b'refs/pull/15/head': b'ffe1f38e3a91ef69b784b867ad5d7729bf17499f',\n",
       " b'refs/pull/16/head': b'1b2ee6dbbe96435009ef96a80776ebc30e74b082',\n",
       " b'refs/pull/17/head': b'b1d52163d2170c1b7a8fe9a0d05bf15a7c4dfcb0',\n",
       " b'refs/pull/18/head': b'ac8a2c93c8c93985eb7a6e2742e2a3e5aa4786d8',\n",
       " b'refs/pull/19/head': b'2363a9a27b3223553f87ce2607a431b0b6ac9510',\n",
       " b'refs/pull/2/head': b'044c475cbccd47aad5dfbc3aa672ef37dc401fbc',\n",
       " b'refs/pull/20/head': b'163eadfc89d1e2a19ef87b979cd3f912b2606a31',\n",
       " b'refs/pull/21/head': b'd265b2309d471cb6edbcf349259837bd7401be10',\n",
       " b'refs/pull/22/head': b'4a7b4e9f3ab3b38abbf300c4c7ea216d804bf768',\n",
       " b'refs/pull/23/head': b'b3d3e249c98848e3f94cd266fcec31677cf51ba7',\n",
       " b'refs/pull/24/head': b'c6a5918b051d30688bf70f7113bc097d44f97353',\n",
       " b'refs/pull/25/head': b'cdc7a8a78d0344207a701370fe64452b8a32cbaa',\n",
       " b'refs/pull/26/head': b'cdc7a8a78d0344207a701370fe64452b8a32cbaa',\n",
       " b'refs/pull/27/head': b'40fee483349643993e1aa807b6bb92e70f8d0026',\n",
       " b'refs/pull/28/head': b'7fbbc778dbcf88f57ac70a1c8c47f51dcc7c044a',\n",
       " b'refs/pull/29/head': b'e3bd34e88a215a96d79dc362c3bda22966d1a159',\n",
       " b'refs/pull/3/head': b'f05bb4e34974fe56bde6329b65917eb6c13bb492',\n",
       " b'refs/pull/30/head': b'8f9f426f13d70b21f573f7c50bbe01e8ce38f158',\n",
       " b'refs/pull/31/head': b'8f9f426f13d70b21f573f7c50bbe01e8ce38f158',\n",
       " b'refs/pull/32/head': b'5e8e2a3d76050131a74e943045ce370cf05c8a5a',\n",
       " b'refs/pull/33/head': b'2fd55f0a653bf8ec2e7ffda16c7b2d601167da06',\n",
       " b'refs/pull/34/head': b'2fd55f0a653bf8ec2e7ffda16c7b2d601167da06',\n",
       " b'refs/pull/4/head': b'4ced0ff539deaed8c0550d8b9375964cf4f301ea',\n",
       " b'refs/pull/5/head': b'f1f7d2da22ebd871b40633480bbcf65c6e359183',\n",
       " b'refs/pull/6/head': b'09c70147a2697351b54ab4c6fa963674ebfaf762',\n",
       " b'refs/pull/7/head': b'204624e13a9e07770997f95bdf45af179f27e9c4',\n",
       " b'refs/pull/8/head': b'4546786737d692063b9c175b2e2b5035649e7aaa',\n",
       " b'refs/pull/9/head': b'24763e5554012f97af5e9926673bdf9cccdc79dc'}"
      ]
     },
     "execution_count": 79,
     "metadata": {},
     "output_type": "execute_result"
    }
   ],
   "source": [
    "dulwich.porcelain.ls_remote(url)"
   ]
  },
  {
   "cell_type": "markdown",
   "metadata": {},
   "source": [
    "## dulwich.objects.Commit "
   ]
  },
  {
   "cell_type": "code",
   "execution_count": 43,
   "metadata": {},
   "outputs": [
    {
     "data": {
      "text/plain": [
       "b'2fd55f0a653bf8ec2e7ffda16c7b2d601167da06'"
      ]
     },
     "execution_count": 43,
     "metadata": {},
     "output_type": "execute_result"
    }
   ],
   "source": [
    "repo.head()"
   ]
  },
  {
   "cell_type": "code",
   "execution_count": 45,
   "metadata": {},
   "outputs": [
    {
     "data": {
      "text/plain": [
       "<Commit b'2fd55f0a653bf8ec2e7ffda16c7b2d601167da06'>"
      ]
     },
     "execution_count": 45,
     "metadata": {},
     "output_type": "execute_result"
    }
   ],
   "source": [
    "commit = repo[repo.head()]\n",
    "commit"
   ]
  },
  {
   "cell_type": "code",
   "execution_count": 46,
   "metadata": {},
   "outputs": [
    {
     "data": {
      "text/plain": [
       "dulwich.objects.Commit"
      ]
     },
     "execution_count": 46,
     "metadata": {},
     "output_type": "execute_result"
    }
   ],
   "source": [
    "type(commit)"
   ]
  },
  {
   "cell_type": "code",
   "execution_count": 39,
   "metadata": {},
   "outputs": [
    {
     "data": {
      "text/plain": [
       "b'Update etc.sh'"
      ]
     },
     "execution_count": 39,
     "metadata": {},
     "output_type": "execute_result"
    }
   ],
   "source": [
    "commit.message"
   ]
  },
  {
   "cell_type": "code",
   "execution_count": 40,
   "metadata": {},
   "outputs": [
    {
     "data": {
      "text/plain": [
       "['__bytes__',\n",
       " '__class__',\n",
       " '__cmp__',\n",
       " '__delattr__',\n",
       " '__dir__',\n",
       " '__doc__',\n",
       " '__eq__',\n",
       " '__format__',\n",
       " '__ge__',\n",
       " '__getattribute__',\n",
       " '__gt__',\n",
       " '__hash__',\n",
       " '__init__',\n",
       " '__init_subclass__',\n",
       " '__le__',\n",
       " '__lt__',\n",
       " '__module__',\n",
       " '__ne__',\n",
       " '__new__',\n",
       " '__reduce__',\n",
       " '__reduce_ex__',\n",
       " '__repr__',\n",
       " '__setattr__',\n",
       " '__sizeof__',\n",
       " '__slots__',\n",
       " '__str__',\n",
       " '__subclasshook__',\n",
       " '_author',\n",
       " '_author_time',\n",
       " '_author_timezone',\n",
       " '_author_timezone_neg_utc',\n",
       " '_check_has_member',\n",
       " '_chunked_text',\n",
       " '_commit_time',\n",
       " '_commit_timezone',\n",
       " '_commit_timezone_neg_utc',\n",
       " '_committer',\n",
       " '_deserialize',\n",
       " '_encoding',\n",
       " '_extra',\n",
       " '_get_extra',\n",
       " '_get_parents',\n",
       " '_gpgsig',\n",
       " '_header',\n",
       " '_is_legacy_object',\n",
       " '_mergetag',\n",
       " '_message',\n",
       " '_needs_serialization',\n",
       " '_parents',\n",
       " '_parse_file',\n",
       " '_parse_legacy_object',\n",
       " '_parse_legacy_object_header',\n",
       " '_parse_object',\n",
       " '_parse_object_header',\n",
       " '_serialize',\n",
       " '_set_parents',\n",
       " '_sha',\n",
       " '_tree',\n",
       " 'as_legacy_object',\n",
       " 'as_legacy_object_chunks',\n",
       " 'as_pretty_string',\n",
       " 'as_raw_chunks',\n",
       " 'as_raw_string',\n",
       " 'author',\n",
       " 'author_time',\n",
       " 'author_timezone',\n",
       " 'check',\n",
       " 'commit_time',\n",
       " 'commit_timezone',\n",
       " 'committer',\n",
       " 'copy',\n",
       " 'encoding',\n",
       " 'extra',\n",
       " 'from_file',\n",
       " 'from_path',\n",
       " 'from_raw_chunks',\n",
       " 'from_raw_string',\n",
       " 'from_string',\n",
       " 'get_type',\n",
       " 'gpgsig',\n",
       " 'id',\n",
       " 'mergetag',\n",
       " 'message',\n",
       " 'parents',\n",
       " 'raw_length',\n",
       " 'set_raw_chunks',\n",
       " 'set_raw_string',\n",
       " 'set_type',\n",
       " 'sha',\n",
       " 'tree',\n",
       " 'type',\n",
       " 'type_name',\n",
       " 'type_num']"
      ]
     },
     "execution_count": 40,
     "metadata": {},
     "output_type": "execute_result"
    }
   ],
   "source": [
    "dir(commit)"
   ]
  },
  {
   "cell_type": "code",
   "execution_count": 41,
   "metadata": {},
   "outputs": [
    {
     "ename": "NameError",
     "evalue": "name 'heads' is not defined",
     "output_type": "error",
     "traceback": [
      "\u001b[0;31m---------------------------------------------------------------------------\u001b[0m",
      "\u001b[0;31mNameError\u001b[0m                                 Traceback (most recent call last)",
      "\u001b[0;32m/tmp/ipykernel_300/3703271362.py\u001b[0m in \u001b[0;36m<module>\u001b[0;34m\u001b[0m\n\u001b[0;32m----> 1\u001b[0;31m \u001b[0mmain\u001b[0m \u001b[0;34m=\u001b[0m \u001b[0mheads\u001b[0m\u001b[0;34m.\u001b[0m\u001b[0mmain\u001b[0m\u001b[0;34m\u001b[0m\u001b[0;34m\u001b[0m\u001b[0m\n\u001b[0m\u001b[1;32m      2\u001b[0m \u001b[0mmain\u001b[0m\u001b[0;34m\u001b[0m\u001b[0;34m\u001b[0m\u001b[0m\n",
      "\u001b[0;31mNameError\u001b[0m: name 'heads' is not defined"
     ]
    }
   ],
   "source": [
    "main = heads.main\n",
    "main"
   ]
  },
  {
   "cell_type": "markdown",
   "metadata": {},
   "source": [
    "Get the commit pointed to by head called master."
   ]
  },
  {
   "cell_type": "code",
   "execution_count": 17,
   "metadata": {},
   "outputs": [
    {
     "data": {
      "text/plain": [
       "<git.Commit \"95ed236bd715a06320ee85d519fb79a0adffe072\">"
      ]
     },
     "execution_count": 17,
     "metadata": {},
     "output_type": "execute_result"
    }
   ],
   "source": [
    "main.commit"
   ]
  },
  {
   "cell_type": "code",
   "execution_count": 18,
   "metadata": {},
   "outputs": [
    {
     "data": {
      "text/plain": [
       "<git.Head \"refs/heads/main2\">"
      ]
     },
     "execution_count": 18,
     "metadata": {},
     "output_type": "execute_result"
    }
   ],
   "source": [
    "main.rename(\"main2\")"
   ]
  },
  {
   "cell_type": "markdown",
   "metadata": {},
   "source": [
    "Verify that the `main` branch has been renamed to `main2`."
   ]
  },
  {
   "cell_type": "code",
   "execution_count": 19,
   "metadata": {},
   "outputs": [
    {
     "name": "stdout",
     "output_type": "stream",
     "text": [
      "* \u001b[32mmain2\u001b[m\n"
     ]
    }
   ],
   "source": [
    "!cd {dir_local} && git branch"
   ]
  },
  {
   "cell_type": "markdown",
   "metadata": {},
   "source": [
    "### Get the Active Branch"
   ]
  },
  {
   "cell_type": "code",
   "execution_count": 19,
   "metadata": {
    "tags": []
   },
   "outputs": [
    {
     "data": {
      "text/plain": [
       "['_make_branch_ref',\n",
       " '_update_head_during_checkout_branch',\n",
       " 'active_branch',\n",
       " 'branch_create',\n",
       " 'branch_delete',\n",
       " 'branch_list',\n",
       " 'checkout_branch',\n",
       " 'find_unique_abbrev',\n",
       " 'get_branch_remote']"
      ]
     },
     "execution_count": 19,
     "metadata": {},
     "output_type": "execute_result"
    }
   ],
   "source": [
    "[m for m in dir(dulwich.porcelain) if \"br\" in m]"
   ]
  },
  {
   "cell_type": "code",
   "execution_count": 20,
   "metadata": {
    "tags": []
   },
   "outputs": [
    {
     "data": {
      "text/plain": [
       "b'main'"
      ]
     },
     "execution_count": 20,
     "metadata": {},
     "output_type": "execute_result"
    }
   ],
   "source": [
    "dulwich.porcelain.active_branch(repo)"
   ]
  },
  {
   "cell_type": "markdown",
   "metadata": {},
   "source": [
    "## Get All Branches"
   ]
  },
  {
   "cell_type": "code",
   "execution_count": 21,
   "metadata": {
    "tags": []
   },
   "outputs": [
    {
     "data": {
      "text/plain": [
       "{b'main'}"
      ]
     },
     "execution_count": 21,
     "metadata": {},
     "output_type": "execute_result"
    }
   ],
   "source": [
    "dulwich.porcelain.branch_list(repo)"
   ]
  },
  {
   "cell_type": "markdown",
   "metadata": {},
   "source": [
    "## Changed Files"
   ]
  },
  {
   "cell_type": "markdown",
   "metadata": {},
   "source": [
    "Update a file."
   ]
  },
  {
   "cell_type": "code",
   "execution_count": 23,
   "metadata": {},
   "outputs": [],
   "source": [
    "!echo \"# add a line of comment\" >> {dir_local}/build.sh"
   ]
  },
  {
   "cell_type": "markdown",
   "metadata": {},
   "source": [
    "## Staged Files"
   ]
  },
  {
   "cell_type": "markdown",
   "metadata": {},
   "source": [
    "The file `build.sh` is now staged."
   ]
  },
  {
   "cell_type": "markdown",
   "metadata": {},
   "source": [
    "Commit the change."
   ]
  },
  {
   "cell_type": "markdown",
   "metadata": {},
   "source": [
    "## Push the Commits"
   ]
  },
  {
   "cell_type": "markdown",
   "metadata": {},
   "source": [
    "Push the local `main2` branch to the remote `main2` branch."
   ]
  },
  {
   "cell_type": "markdown",
   "metadata": {},
   "source": [
    "The above is equivalent to the following more detailed specification."
   ]
  },
  {
   "cell_type": "markdown",
   "metadata": {},
   "source": [
    "Push the local `main2` branch to the remote `main` branch."
   ]
  },
  {
   "cell_type": "markdown",
   "metadata": {},
   "source": [
    "## git pull"
   ]
  },
  {
   "cell_type": "code",
   "execution_count": 11,
   "metadata": {
    "tags": []
   },
   "outputs": [
    {
     "name": "stdout",
     "output_type": "stream",
     "text": [
      "abc  build.sh  readme.md\n"
     ]
    }
   ],
   "source": [
    "!ls {dir_local}"
   ]
  },
  {
   "cell_type": "code",
   "execution_count": 12,
   "metadata": {
    "tags": []
   },
   "outputs": [],
   "source": [
    "dulwich.porcelain.pull(repo, refspecs=\"main\")"
   ]
  },
  {
   "cell_type": "code",
   "execution_count": 13,
   "metadata": {
    "tags": []
   },
   "outputs": [
    {
     "name": "stdout",
     "output_type": "stream",
     "text": [
      "abc  build.sh  readme.md  test1.txt\n"
     ]
    }
   ],
   "source": [
    "!ls {dir_local}"
   ]
  },
  {
   "cell_type": "markdown",
   "metadata": {},
   "source": [
    "## git checkout"
   ]
  },
  {
   "cell_type": "code",
   "execution_count": 12,
   "metadata": {
    "tags": []
   },
   "outputs": [
    {
     "data": {
      "text/plain": [
       "['_update_head_during_checkout_branch', 'checkout_branch']"
      ]
     },
     "execution_count": 12,
     "metadata": {},
     "output_type": "execute_result"
    }
   ],
   "source": [
    "[m for m in dir(dulwich.porcelain) if 'checkout' in m]"
   ]
  },
  {
   "cell_type": "code",
   "execution_count": 18,
   "metadata": {
    "tags": []
   },
   "outputs": [
    {
     "name": "stdout",
     "output_type": "stream",
     "text": [
      "On branch dev\n",
      "nothing to commit, working tree clean\n"
     ]
    }
   ],
   "source": [
    "!git -C {dir_local} status"
   ]
  },
  {
   "cell_type": "code",
   "execution_count": 26,
   "metadata": {
    "tags": []
   },
   "outputs": [
    {
     "name": "stdout",
     "output_type": "stream",
     "text": [
      "* \u001b[32mdev\u001b[m\n",
      "  main\u001b[m\n"
     ]
    }
   ],
   "source": [
    "!git -C {dir_local} branch"
   ]
  },
  {
   "cell_type": "code",
   "execution_count": 27,
   "metadata": {
    "tags": []
   },
   "outputs": [],
   "source": [
    "dulwich.porcelain.checkout_branch(repo, \"main\")"
   ]
  },
  {
   "cell_type": "code",
   "execution_count": 28,
   "metadata": {
    "tags": []
   },
   "outputs": [
    {
     "name": "stdout",
     "output_type": "stream",
     "text": [
      "  dev\u001b[m\n",
      "* \u001b[32mmain\u001b[m\n"
     ]
    }
   ],
   "source": [
    "!git -C {dir_local} branch"
   ]
  },
  {
   "cell_type": "markdown",
   "metadata": {},
   "source": [
    "## git tag\n",
    "List all tags."
   ]
  },
  {
   "cell_type": "code",
   "execution_count": 27,
   "metadata": {
    "tags": []
   },
   "outputs": [
    {
     "name": "stdout",
     "output_type": "stream",
     "text": [
      "v1.0.0\n"
     ]
    }
   ],
   "source": [
    "!git -C {dir_local} tag "
   ]
  },
  {
   "cell_type": "code",
   "execution_count": 24,
   "metadata": {
    "tags": []
   },
   "outputs": [
    {
     "data": {
      "text/plain": [
       "['_make_tag_ref',\n",
       " 'get_unstaged_changes',\n",
       " 'print_tag',\n",
       " 'show_tag',\n",
       " 'tag_create',\n",
       " 'tag_delete',\n",
       " 'tag_list']"
      ]
     },
     "execution_count": 24,
     "metadata": {},
     "output_type": "execute_result"
    }
   ],
   "source": [
    "[m for m in dir(dulwich.porcelain) if \"tag\" in m]"
   ]
  },
  {
   "cell_type": "code",
   "execution_count": 25,
   "metadata": {
    "tags": []
   },
   "outputs": [
    {
     "data": {
      "text/plain": [
       "[b'v1.0.0']"
      ]
     },
     "execution_count": 25,
     "metadata": {},
     "output_type": "execute_result"
    }
   ],
   "source": [
    "dulwich.porcelain.tag_list(repo)"
   ]
  },
  {
   "cell_type": "markdown",
   "metadata": {},
   "source": [
    "## git tag tag_name\n",
    "\n",
    "Create a new tag."
   ]
  },
  {
   "cell_type": "code",
   "execution_count": 28,
   "metadata": {
    "tags": []
   },
   "outputs": [
    {
     "data": {
      "text/plain": [
       "\u001b[0;31mSignature:\u001b[0m\n",
       "\u001b[0mdulwich\u001b[0m\u001b[0;34m.\u001b[0m\u001b[0mporcelain\u001b[0m\u001b[0;34m.\u001b[0m\u001b[0mtag_create\u001b[0m\u001b[0;34m(\u001b[0m\u001b[0;34m\u001b[0m\n",
       "\u001b[0;34m\u001b[0m    \u001b[0mrepo\u001b[0m\u001b[0;34m,\u001b[0m\u001b[0;34m\u001b[0m\n",
       "\u001b[0;34m\u001b[0m    \u001b[0mtag\u001b[0m\u001b[0;34m,\u001b[0m\u001b[0;34m\u001b[0m\n",
       "\u001b[0;34m\u001b[0m    \u001b[0mauthor\u001b[0m\u001b[0;34m=\u001b[0m\u001b[0;32mNone\u001b[0m\u001b[0;34m,\u001b[0m\u001b[0;34m\u001b[0m\n",
       "\u001b[0;34m\u001b[0m    \u001b[0mmessage\u001b[0m\u001b[0;34m=\u001b[0m\u001b[0;32mNone\u001b[0m\u001b[0;34m,\u001b[0m\u001b[0;34m\u001b[0m\n",
       "\u001b[0;34m\u001b[0m    \u001b[0mannotated\u001b[0m\u001b[0;34m=\u001b[0m\u001b[0;32mFalse\u001b[0m\u001b[0;34m,\u001b[0m\u001b[0;34m\u001b[0m\n",
       "\u001b[0;34m\u001b[0m    \u001b[0mobjectish\u001b[0m\u001b[0;34m=\u001b[0m\u001b[0;34m'HEAD'\u001b[0m\u001b[0;34m,\u001b[0m\u001b[0;34m\u001b[0m\n",
       "\u001b[0;34m\u001b[0m    \u001b[0mtag_time\u001b[0m\u001b[0;34m=\u001b[0m\u001b[0;32mNone\u001b[0m\u001b[0;34m,\u001b[0m\u001b[0;34m\u001b[0m\n",
       "\u001b[0;34m\u001b[0m    \u001b[0mtag_timezone\u001b[0m\u001b[0;34m=\u001b[0m\u001b[0;32mNone\u001b[0m\u001b[0;34m,\u001b[0m\u001b[0;34m\u001b[0m\n",
       "\u001b[0;34m\u001b[0m    \u001b[0msign\u001b[0m\u001b[0;34m=\u001b[0m\u001b[0;32mFalse\u001b[0m\u001b[0;34m,\u001b[0m\u001b[0;34m\u001b[0m\n",
       "\u001b[0;34m\u001b[0m    \u001b[0mencoding\u001b[0m\u001b[0;34m=\u001b[0m\u001b[0;34m'utf-8'\u001b[0m\u001b[0;34m,\u001b[0m\u001b[0;34m\u001b[0m\n",
       "\u001b[0;34m\u001b[0m\u001b[0;34m)\u001b[0m\u001b[0;34m\u001b[0m\u001b[0;34m\u001b[0m\u001b[0m\n",
       "\u001b[0;31mDocstring:\u001b[0m\n",
       "Creates a tag in git via dulwich calls:\n",
       "\n",
       "Args:\n",
       "  repo: Path to repository\n",
       "  tag: tag string\n",
       "  author: tag author (optional, if annotated is set)\n",
       "  message: tag message (optional)\n",
       "  annotated: whether to create an annotated tag\n",
       "  objectish: object the tag should point at, defaults to HEAD\n",
       "  tag_time: Optional time for annotated tag\n",
       "  tag_timezone: Optional timezone for annotated tag\n",
       "  sign: GPG Sign the tag (bool, defaults to False,\n",
       "    pass True to use default GPG key,\n",
       "    pass a str containing Key ID to use a specific GPG key)\n",
       "\u001b[0;31mFile:\u001b[0m      /usr/local/lib/python3.10/dist-packages/dulwich/porcelain.py\n",
       "\u001b[0;31mType:\u001b[0m      function"
      ]
     },
     "metadata": {},
     "output_type": "display_data"
    }
   ],
   "source": [
    "dulwich.porcelain.tag_create?"
   ]
  },
  {
   "cell_type": "code",
   "execution_count": 15,
   "metadata": {},
   "outputs": [
    {
     "data": {
      "text/plain": [
       "<git.TagReference \"refs/tags/v1.0.0\">"
      ]
     },
     "execution_count": 15,
     "metadata": {},
     "output_type": "execute_result"
    }
   ],
   "source": [
    "repo.create_tag(\"v1.0.0\")"
   ]
  },
  {
   "cell_type": "code",
   "execution_count": 17,
   "metadata": {},
   "outputs": [
    {
     "data": {
      "text/plain": [
       "[<git.TagReference \"refs/tags/v1.0.0\">]"
      ]
     },
     "execution_count": 17,
     "metadata": {},
     "output_type": "execute_result"
    }
   ],
   "source": [
    "repo.tags"
   ]
  },
  {
   "cell_type": "code",
   "execution_count": 20,
   "metadata": {},
   "outputs": [
    {
     "data": {
      "text/plain": [
       "<git.TagReference \"refs/tags/v1.0.0\">"
      ]
     },
     "execution_count": 20,
     "metadata": {},
     "output_type": "execute_result"
    }
   ],
   "source": [
    "repo.tag(\"refs/tags/v1.0.0\")"
   ]
  },
  {
   "cell_type": "code",
   "execution_count": 23,
   "metadata": {},
   "outputs": [
    {
     "data": {
      "text/plain": [
       "<git.TagReference \"refs/tags/v2.0.0\">"
      ]
     },
     "execution_count": 23,
     "metadata": {},
     "output_type": "execute_result"
    }
   ],
   "source": [
    "tag2 = repo.tag(\"refs/tags/v2.0.0\")\n",
    "tag2"
   ]
  },
  {
   "cell_type": "code",
   "execution_count": 24,
   "metadata": {},
   "outputs": [
    {
     "data": {
      "text/plain": [
       "[<git.TagReference \"refs/tags/v1.0.0\">]"
      ]
     },
     "execution_count": 24,
     "metadata": {},
     "output_type": "execute_result"
    }
   ],
   "source": [
    "repo.tags"
   ]
  },
  {
   "cell_type": "markdown",
   "metadata": {},
   "source": [
    "The GitCommandError is thrown when the tag already exists."
   ]
  },
  {
   "cell_type": "code",
   "execution_count": 25,
   "metadata": {},
   "outputs": [
    {
     "ename": "GitCommandError",
     "evalue": "Cmd('git') failed due to: exit code(128)\n  cmdline: git tag v1.0.0 HEAD\n  stderr: 'fatal: tag 'v1.0.0' already exists'",
     "output_type": "error",
     "traceback": [
      "\u001b[0;31m---------------------------------------------------------------------------\u001b[0m",
      "\u001b[0;31mGitCommandError\u001b[0m                           Traceback (most recent call last)",
      "\u001b[0;32m<ipython-input-25-c9fa3ca924a1>\u001b[0m in \u001b[0;36m<module>\u001b[0;34m\u001b[0m\n\u001b[0;32m----> 1\u001b[0;31m \u001b[0mrepo\u001b[0m\u001b[0;34m.\u001b[0m\u001b[0mcreate_tag\u001b[0m\u001b[0;34m(\u001b[0m\u001b[0;34m\"v1.0.0\"\u001b[0m\u001b[0;34m)\u001b[0m\u001b[0;34m\u001b[0m\u001b[0;34m\u001b[0m\u001b[0m\n\u001b[0m",
      "\u001b[0;32m/usr/local/lib/python3.8/site-packages/git/repo/base.py\u001b[0m in \u001b[0;36mcreate_tag\u001b[0;34m(self, path, ref, message, force, **kwargs)\u001b[0m\n\u001b[1;32m    397\u001b[0m \u001b[0;34m\u001b[0m\u001b[0m\n\u001b[1;32m    398\u001b[0m         :return: TagReference object \"\"\"\n\u001b[0;32m--> 399\u001b[0;31m         \u001b[0;32mreturn\u001b[0m \u001b[0mTagReference\u001b[0m\u001b[0;34m.\u001b[0m\u001b[0mcreate\u001b[0m\u001b[0;34m(\u001b[0m\u001b[0mself\u001b[0m\u001b[0;34m,\u001b[0m \u001b[0mpath\u001b[0m\u001b[0;34m,\u001b[0m \u001b[0mref\u001b[0m\u001b[0;34m,\u001b[0m \u001b[0mmessage\u001b[0m\u001b[0;34m,\u001b[0m \u001b[0mforce\u001b[0m\u001b[0;34m,\u001b[0m \u001b[0;34m**\u001b[0m\u001b[0mkwargs\u001b[0m\u001b[0;34m)\u001b[0m\u001b[0;34m\u001b[0m\u001b[0;34m\u001b[0m\u001b[0m\n\u001b[0m\u001b[1;32m    400\u001b[0m \u001b[0;34m\u001b[0m\u001b[0m\n\u001b[1;32m    401\u001b[0m     \u001b[0;32mdef\u001b[0m \u001b[0mdelete_tag\u001b[0m\u001b[0;34m(\u001b[0m\u001b[0mself\u001b[0m\u001b[0;34m,\u001b[0m \u001b[0;34m*\u001b[0m\u001b[0mtags\u001b[0m\u001b[0;34m)\u001b[0m\u001b[0;34m:\u001b[0m\u001b[0;34m\u001b[0m\u001b[0;34m\u001b[0m\u001b[0m\n",
      "\u001b[0;32m/usr/local/lib/python3.8/site-packages/git/refs/tag.py\u001b[0m in \u001b[0;36mcreate\u001b[0;34m(cls, repo, path, ref, message, force, **kwargs)\u001b[0m\n\u001b[1;32m     81\u001b[0m             \u001b[0mkwargs\u001b[0m\u001b[0;34m[\u001b[0m\u001b[0;34m'f'\u001b[0m\u001b[0;34m]\u001b[0m \u001b[0;34m=\u001b[0m \u001b[0;32mTrue\u001b[0m\u001b[0;34m\u001b[0m\u001b[0;34m\u001b[0m\u001b[0m\n\u001b[1;32m     82\u001b[0m \u001b[0;34m\u001b[0m\u001b[0m\n\u001b[0;32m---> 83\u001b[0;31m         \u001b[0mrepo\u001b[0m\u001b[0;34m.\u001b[0m\u001b[0mgit\u001b[0m\u001b[0;34m.\u001b[0m\u001b[0mtag\u001b[0m\u001b[0;34m(\u001b[0m\u001b[0;34m*\u001b[0m\u001b[0margs\u001b[0m\u001b[0;34m,\u001b[0m \u001b[0;34m**\u001b[0m\u001b[0mkwargs\u001b[0m\u001b[0;34m)\u001b[0m\u001b[0;34m\u001b[0m\u001b[0;34m\u001b[0m\u001b[0m\n\u001b[0m\u001b[1;32m     84\u001b[0m         \u001b[0;32mreturn\u001b[0m \u001b[0mTagReference\u001b[0m\u001b[0;34m(\u001b[0m\u001b[0mrepo\u001b[0m\u001b[0;34m,\u001b[0m \u001b[0;34m\"%s/%s\"\u001b[0m \u001b[0;34m%\u001b[0m \u001b[0;34m(\u001b[0m\u001b[0mcls\u001b[0m\u001b[0;34m.\u001b[0m\u001b[0m_common_path_default\u001b[0m\u001b[0;34m,\u001b[0m \u001b[0mpath\u001b[0m\u001b[0;34m)\u001b[0m\u001b[0;34m)\u001b[0m\u001b[0;34m\u001b[0m\u001b[0;34m\u001b[0m\u001b[0m\n\u001b[1;32m     85\u001b[0m \u001b[0;34m\u001b[0m\u001b[0m\n",
      "\u001b[0;32m/usr/local/lib/python3.8/site-packages/git/cmd.py\u001b[0m in \u001b[0;36m<lambda>\u001b[0;34m(*args, **kwargs)\u001b[0m\n\u001b[1;32m    540\u001b[0m         \u001b[0;32mif\u001b[0m \u001b[0mname\u001b[0m\u001b[0;34m[\u001b[0m\u001b[0;36m0\u001b[0m\u001b[0;34m]\u001b[0m \u001b[0;34m==\u001b[0m \u001b[0;34m'_'\u001b[0m\u001b[0;34m:\u001b[0m\u001b[0;34m\u001b[0m\u001b[0;34m\u001b[0m\u001b[0m\n\u001b[1;32m    541\u001b[0m             \u001b[0;32mreturn\u001b[0m \u001b[0mLazyMixin\u001b[0m\u001b[0;34m.\u001b[0m\u001b[0m__getattr__\u001b[0m\u001b[0;34m(\u001b[0m\u001b[0mself\u001b[0m\u001b[0;34m,\u001b[0m \u001b[0mname\u001b[0m\u001b[0;34m)\u001b[0m\u001b[0;34m\u001b[0m\u001b[0;34m\u001b[0m\u001b[0m\n\u001b[0;32m--> 542\u001b[0;31m         \u001b[0;32mreturn\u001b[0m \u001b[0;32mlambda\u001b[0m \u001b[0;34m*\u001b[0m\u001b[0margs\u001b[0m\u001b[0;34m,\u001b[0m \u001b[0;34m**\u001b[0m\u001b[0mkwargs\u001b[0m\u001b[0;34m:\u001b[0m \u001b[0mself\u001b[0m\u001b[0;34m.\u001b[0m\u001b[0m_call_process\u001b[0m\u001b[0;34m(\u001b[0m\u001b[0mname\u001b[0m\u001b[0;34m,\u001b[0m \u001b[0;34m*\u001b[0m\u001b[0margs\u001b[0m\u001b[0;34m,\u001b[0m \u001b[0;34m**\u001b[0m\u001b[0mkwargs\u001b[0m\u001b[0;34m)\u001b[0m\u001b[0;34m\u001b[0m\u001b[0;34m\u001b[0m\u001b[0m\n\u001b[0m\u001b[1;32m    543\u001b[0m \u001b[0;34m\u001b[0m\u001b[0m\n\u001b[1;32m    544\u001b[0m     \u001b[0;32mdef\u001b[0m \u001b[0mset_persistent_git_options\u001b[0m\u001b[0;34m(\u001b[0m\u001b[0mself\u001b[0m\u001b[0;34m,\u001b[0m \u001b[0;34m**\u001b[0m\u001b[0mkwargs\u001b[0m\u001b[0;34m)\u001b[0m\u001b[0;34m:\u001b[0m\u001b[0;34m\u001b[0m\u001b[0;34m\u001b[0m\u001b[0m\n",
      "\u001b[0;32m/usr/local/lib/python3.8/site-packages/git/cmd.py\u001b[0m in \u001b[0;36m_call_process\u001b[0;34m(self, method, *args, **kwargs)\u001b[0m\n\u001b[1;32m   1003\u001b[0m         \u001b[0mcall\u001b[0m\u001b[0;34m.\u001b[0m\u001b[0mextend\u001b[0m\u001b[0;34m(\u001b[0m\u001b[0margs\u001b[0m\u001b[0;34m)\u001b[0m\u001b[0;34m\u001b[0m\u001b[0;34m\u001b[0m\u001b[0m\n\u001b[1;32m   1004\u001b[0m \u001b[0;34m\u001b[0m\u001b[0m\n\u001b[0;32m-> 1005\u001b[0;31m         \u001b[0;32mreturn\u001b[0m \u001b[0mself\u001b[0m\u001b[0;34m.\u001b[0m\u001b[0mexecute\u001b[0m\u001b[0;34m(\u001b[0m\u001b[0mcall\u001b[0m\u001b[0;34m,\u001b[0m \u001b[0;34m**\u001b[0m\u001b[0mexec_kwargs\u001b[0m\u001b[0;34m)\u001b[0m\u001b[0;34m\u001b[0m\u001b[0;34m\u001b[0m\u001b[0m\n\u001b[0m\u001b[1;32m   1006\u001b[0m \u001b[0;34m\u001b[0m\u001b[0m\n\u001b[1;32m   1007\u001b[0m     \u001b[0;32mdef\u001b[0m \u001b[0m_parse_object_header\u001b[0m\u001b[0;34m(\u001b[0m\u001b[0mself\u001b[0m\u001b[0;34m,\u001b[0m \u001b[0mheader_line\u001b[0m\u001b[0;34m)\u001b[0m\u001b[0;34m:\u001b[0m\u001b[0;34m\u001b[0m\u001b[0;34m\u001b[0m\u001b[0m\n",
      "\u001b[0;32m/usr/local/lib/python3.8/site-packages/git/cmd.py\u001b[0m in \u001b[0;36mexecute\u001b[0;34m(self, command, istream, with_extended_output, with_exceptions, as_process, output_stream, stdout_as_string, kill_after_timeout, with_stdout, universal_newlines, shell, env, max_chunk_size, **subprocess_kwargs)\u001b[0m\n\u001b[1;32m    820\u001b[0m \u001b[0;34m\u001b[0m\u001b[0m\n\u001b[1;32m    821\u001b[0m         \u001b[0;32mif\u001b[0m \u001b[0mwith_exceptions\u001b[0m \u001b[0;32mand\u001b[0m \u001b[0mstatus\u001b[0m \u001b[0;34m!=\u001b[0m \u001b[0;36m0\u001b[0m\u001b[0;34m:\u001b[0m\u001b[0;34m\u001b[0m\u001b[0;34m\u001b[0m\u001b[0m\n\u001b[0;32m--> 822\u001b[0;31m             \u001b[0;32mraise\u001b[0m \u001b[0mGitCommandError\u001b[0m\u001b[0;34m(\u001b[0m\u001b[0mcommand\u001b[0m\u001b[0;34m,\u001b[0m \u001b[0mstatus\u001b[0m\u001b[0;34m,\u001b[0m \u001b[0mstderr_value\u001b[0m\u001b[0;34m,\u001b[0m \u001b[0mstdout_value\u001b[0m\u001b[0;34m)\u001b[0m\u001b[0;34m\u001b[0m\u001b[0;34m\u001b[0m\u001b[0m\n\u001b[0m\u001b[1;32m    823\u001b[0m \u001b[0;34m\u001b[0m\u001b[0m\n\u001b[1;32m    824\u001b[0m         \u001b[0;32mif\u001b[0m \u001b[0misinstance\u001b[0m\u001b[0;34m(\u001b[0m\u001b[0mstdout_value\u001b[0m\u001b[0;34m,\u001b[0m \u001b[0mbytes\u001b[0m\u001b[0;34m)\u001b[0m \u001b[0;32mand\u001b[0m \u001b[0mstdout_as_string\u001b[0m\u001b[0;34m:\u001b[0m  \u001b[0;31m# could also be output_stream\u001b[0m\u001b[0;34m\u001b[0m\u001b[0;34m\u001b[0m\u001b[0m\n",
      "\u001b[0;31mGitCommandError\u001b[0m: Cmd('git') failed due to: exit code(128)\n  cmdline: git tag v1.0.0 HEAD\n  stderr: 'fatal: tag 'v1.0.0' already exists'"
     ]
    }
   ],
   "source": [
    "repo.create_tag(\"v1.0.0\")"
   ]
  },
  {
   "cell_type": "code",
   "execution_count": 26,
   "metadata": {},
   "outputs": [
    {
     "data": {
      "text/plain": [
       "[<git.remote.PushInfo at 0x12034acc0>]"
      ]
     },
     "execution_count": 26,
     "metadata": {},
     "output_type": "execute_result"
    }
   ],
   "source": [
    "repo.remote().push(\"v1.0.0\")"
   ]
  },
  {
   "cell_type": "markdown",
   "metadata": {},
   "source": [
    "## git diff"
   ]
  },
  {
   "cell_type": "code",
   "execution_count": 16,
   "metadata": {},
   "outputs": [
    {
     "name": "stdout",
     "output_type": "stream",
     "text": [
      "Help on method diff in module git.diff:\n",
      "\n",
      "diff(other: Union[Type[git.diff.Diffable.Index], Type[ForwardRef('Tree')], object, NoneType, str] = <class 'git.diff.Diffable.Index'>, paths: Union[str, List[str], Tuple[str, ...], NoneType] = None, create_patch: bool = False, **kwargs: Any) -> 'DiffIndex' method of git.objects.commit.Commit instance\n",
      "    Creates diffs between two items being trees, trees and index or an\n",
      "    index and the working tree. It will detect renames automatically.\n",
      "    \n",
      "    :param other:\n",
      "        Is the item to compare us with.\n",
      "        If None, we will be compared to the working tree.\n",
      "        If Treeish, it will be compared against the respective tree\n",
      "        If Index ( type ), it will be compared against the index.\n",
      "        If git.NULL_TREE, it will compare against the empty tree.\n",
      "        It defaults to Index to assure the method will not by-default fail\n",
      "        on bare repositories.\n",
      "    \n",
      "    :param paths:\n",
      "        is a list of paths or a single path to limit the diff to.\n",
      "        It will only include at least one of the given path or paths.\n",
      "    \n",
      "    :param create_patch:\n",
      "        If True, the returned Diff contains a detailed patch that if applied\n",
      "        makes the self to other. Patches are somewhat costly as blobs have to be read\n",
      "        and diffed.\n",
      "    \n",
      "    :param kwargs:\n",
      "        Additional arguments passed to git-diff, such as\n",
      "        R=True to swap both sides of the diff.\n",
      "    \n",
      "    :return: git.DiffIndex\n",
      "    \n",
      "    :note:\n",
      "        On a bare repository, 'other' needs to be provided as Index or as\n",
      "        as Tree/Commit, or a git command error will occur\n",
      "\n"
     ]
    }
   ],
   "source": [
    "help(repo.refs[4].commit.diff)"
   ]
  },
  {
   "cell_type": "code",
   "execution_count": 3,
   "metadata": {},
   "outputs": [],
   "source": [
    "url = \"https://github.com/dclong/docker-ubuntu_b.git\"\n",
    "dir_local = \"/tmp/\" + url[(url.rindex(\"/\") + 1) :]\n",
    "!rm -rf {dir_local}"
   ]
  },
  {
   "cell_type": "code",
   "execution_count": 4,
   "metadata": {},
   "outputs": [
    {
     "data": {
      "text/plain": [
       "<git.repo.base.Repo '/tmp/docker-ubuntu_b.git/.git'>"
      ]
     },
     "execution_count": 4,
     "metadata": {},
     "output_type": "execute_result"
    }
   ],
   "source": [
    "repo = git.Repo.clone_from(url, dir_local, branch=\"main\")\n",
    "repo"
   ]
  },
  {
   "cell_type": "code",
   "execution_count": 25,
   "metadata": {},
   "outputs": [
    {
     "data": {
      "text/plain": [
       "[<git.Head \"refs/heads/debian\">,\n",
       " <git.Head \"refs/heads/dev\">,\n",
       " <git.Head \"refs/heads/main\">,\n",
       " <git.RemoteReference \"refs/remotes/origin/HEAD\">,\n",
       " <git.RemoteReference \"refs/remotes/origin/debian\">,\n",
       " <git.RemoteReference \"refs/remotes/origin/dev\">,\n",
       " <git.RemoteReference \"refs/remotes/origin/main\">]"
      ]
     },
     "execution_count": 25,
     "metadata": {},
     "output_type": "execute_result"
    }
   ],
   "source": [
    "repo.refs"
   ]
  },
  {
   "cell_type": "code",
   "execution_count": 6,
   "metadata": {},
   "outputs": [
    {
     "data": {
      "text/plain": [
       "[]"
      ]
     },
     "execution_count": 6,
     "metadata": {},
     "output_type": "execute_result"
    }
   ],
   "source": [
    "diffs = repo.refs[4].commit.diff(repo.refs[3].commit)\n",
    "diffs"
   ]
  },
  {
   "cell_type": "code",
   "execution_count": 21,
   "metadata": {},
   "outputs": [
    {
     "data": {
      "text/plain": [
       "[<git.diff.Diff at 0x7f0eb05d1a60>, <git.diff.Diff at 0x7f0eb05d1af0>]"
      ]
     },
     "execution_count": 21,
     "metadata": {},
     "output_type": "execute_result"
    }
   ],
   "source": [
    "diffs = repo.refs[4].commit.diff(repo.refs[2].commit)\n",
    "diffs"
   ]
  },
  {
   "cell_type": "code",
   "execution_count": 13,
   "metadata": {},
   "outputs": [
    {
     "data": {
      "text/plain": [
       "'Dockerfile\\n=======================================================\\nlhs: 100644 | 8ae5c7650a8c031a8e176d896a3665bbe7e2aae8\\nrhs: 100644 | 9f2304d9a97aa1279ad1938b3bb74790172c9d8b'"
      ]
     },
     "execution_count": 13,
     "metadata": {},
     "output_type": "execute_result"
    }
   ],
   "source": [
    "str(diffs[0])"
   ]
  },
  {
   "cell_type": "code",
   "execution_count": 12,
   "metadata": {},
   "outputs": [
    {
     "data": {
      "text/plain": [
       "'origin/main'"
      ]
     },
     "execution_count": 12,
     "metadata": {},
     "output_type": "execute_result"
    }
   ],
   "source": [
    "repo.refs[5].name"
   ]
  },
  {
   "cell_type": "code",
   "execution_count": 6,
   "metadata": {},
   "outputs": [
    {
     "name": "stdout",
     "output_type": "stream",
     "text": [
      "On branch main\n",
      "Your branch is up to date with 'origin/main'.\n",
      "\n",
      "nothing to commit, working tree clean\n"
     ]
    }
   ],
   "source": [
    "print(repo.git.status())"
   ]
  },
  {
   "cell_type": "code",
   "execution_count": 6,
   "metadata": {},
   "outputs": [
    {
     "data": {
      "text/plain": [
       "\"Your branch is up to date with 'origin/debian'.\""
      ]
     },
     "execution_count": 6,
     "metadata": {},
     "output_type": "execute_result"
    }
   ],
   "source": [
    "repo.git.checkout(\"debian\", force=True)"
   ]
  },
  {
   "cell_type": "code",
   "execution_count": 8,
   "metadata": {},
   "outputs": [
    {
     "data": {
      "text/plain": [
       "''"
      ]
     },
     "execution_count": 8,
     "metadata": {},
     "output_type": "execute_result"
    }
   ],
   "source": [
    "repo.git.checkout(b=\"a_new_branch\", force=True)"
   ]
  },
  {
   "cell_type": "code",
   "execution_count": null,
   "metadata": {},
   "outputs": [],
   "source": [
    "nima = repo.refs[4].checkout(force=True, b=\"nima\")\n",
    "nima"
   ]
  },
  {
   "cell_type": "code",
   "execution_count": 50,
   "metadata": {},
   "outputs": [
    {
     "data": {
      "text/plain": [
       "''"
      ]
     },
     "execution_count": 50,
     "metadata": {},
     "output_type": "execute_result"
    }
   ],
   "source": [
    "diffs = nima.commit.diff(repo.refs[-1].commit)\n",
    "diffs[0].diff"
   ]
  },
  {
   "cell_type": "markdown",
   "metadata": {},
   "source": [
    "Diff the `dev` and the `main` branch,\n",
    "which is equivalent to the Git command \n",
    "`git diff dev..main`."
   ]
  },
  {
   "cell_type": "code",
   "execution_count": 30,
   "metadata": {},
   "outputs": [
    {
     "data": {
      "text/plain": [
       "[]"
      ]
     },
     "execution_count": 30,
     "metadata": {},
     "output_type": "execute_result"
    }
   ],
   "source": [
    "repo.refs[2].commit.diff(repo.refs[1].commit)"
   ]
  },
  {
   "cell_type": "code",
   "execution_count": 32,
   "metadata": {},
   "outputs": [
    {
     "data": {
      "text/plain": [
       "[<git.diff.Diff at 0x128ca3a60>]"
      ]
     },
     "execution_count": 32,
     "metadata": {},
     "output_type": "execute_result"
    }
   ],
   "source": [
    "diffs = repo.refs[2].commit.diff(repo.refs[0].commit)\n",
    "diffs"
   ]
  },
  {
   "cell_type": "code",
   "execution_count": 33,
   "metadata": {},
   "outputs": [
    {
     "data": {
      "text/plain": [
       "<git.diff.Diff at 0x128ca3a60>"
      ]
     },
     "execution_count": 33,
     "metadata": {},
     "output_type": "execute_result"
    }
   ],
   "source": [
    "diffs[0]"
   ]
  },
  {
   "cell_type": "code",
   "execution_count": 24,
   "metadata": {},
   "outputs": [
    {
     "data": {
      "text/plain": [
       "[]"
      ]
     },
     "execution_count": 24,
     "metadata": {},
     "output_type": "execute_result"
    }
   ],
   "source": [
    "diffs = repo.refs[6].commit.diff(repo.refs[7].commit)\n",
    "diffs"
   ]
  },
  {
   "cell_type": "code",
   "execution_count": 25,
   "metadata": {},
   "outputs": [
    {
     "data": {
      "text/plain": [
       "[<git.diff.Diff at 0x128ca3790>]"
      ]
     },
     "execution_count": 25,
     "metadata": {},
     "output_type": "execute_result"
    }
   ],
   "source": [
    "diffs = repo.refs[4].commit.diff(repo.refs[7].commit)\n",
    "diffs"
   ]
  },
  {
   "cell_type": "code",
   "execution_count": 26,
   "metadata": {},
   "outputs": [
    {
     "data": {
      "text/plain": [
       "''"
      ]
     },
     "execution_count": 26,
     "metadata": {},
     "output_type": "execute_result"
    }
   ],
   "source": [
    "diffs[0].diff"
   ]
  },
  {
   "cell_type": "code",
   "execution_count": 27,
   "metadata": {},
   "outputs": [
    {
     "data": {
      "text/plain": [
       "[<git.diff.Diff at 0x128ca3820>]"
      ]
     },
     "execution_count": 27,
     "metadata": {},
     "output_type": "execute_result"
    }
   ],
   "source": [
    "diffs = repo.refs[7].commit.diff(repo.refs[4].commit)\n",
    "diffs"
   ]
  },
  {
   "cell_type": "code",
   "execution_count": 28,
   "metadata": {},
   "outputs": [
    {
     "data": {
      "text/plain": [
       "''"
      ]
     },
     "execution_count": 28,
     "metadata": {},
     "output_type": "execute_result"
    }
   ],
   "source": [
    "diffs[0].diff"
   ]
  },
  {
   "cell_type": "code",
   "execution_count": 19,
   "metadata": {},
   "outputs": [
    {
     "data": {
      "text/plain": [
       "False"
      ]
     },
     "execution_count": 19,
     "metadata": {},
     "output_type": "execute_result"
    }
   ],
   "source": [
    "any(ele for ele in [\"\"])"
   ]
  },
  {
   "cell_type": "code",
   "execution_count": 23,
   "metadata": {},
   "outputs": [
    {
     "data": {
      "text/plain": [
       "'dev'"
      ]
     },
     "execution_count": 23,
     "metadata": {},
     "output_type": "execute_result"
    }
   ],
   "source": [
    "repo.branches[0].name"
   ]
  },
  {
   "cell_type": "code",
   "execution_count": null,
   "metadata": {},
   "outputs": [],
   "source": [
    "for branch in repo.branches:\n",
    "    branch."
   ]
  },
  {
   "cell_type": "code",
   "execution_count": 12,
   "metadata": {},
   "outputs": [
    {
     "data": {
      "text/plain": [
       "<git.Commit \"6716bb0d016bd63ba543f3d9c67a65dadecd152e\">"
      ]
     },
     "execution_count": 12,
     "metadata": {},
     "output_type": "execute_result"
    }
   ],
   "source": [
    "commit = repo.head.commit\n",
    "commit"
   ]
  },
  {
   "cell_type": "code",
   "execution_count": 15,
   "metadata": {},
   "outputs": [
    {
     "data": {
      "text/plain": [
       "git.refs.head.Head"
      ]
     },
     "execution_count": 15,
     "metadata": {},
     "output_type": "execute_result"
    }
   ],
   "source": [
    "type(repo.branches[0])"
   ]
  },
  {
   "cell_type": "code",
   "execution_count": 17,
   "metadata": {},
   "outputs": [
    {
     "data": {
      "text/plain": [
       "[]"
      ]
     },
     "execution_count": 17,
     "metadata": {},
     "output_type": "execute_result"
    }
   ],
   "source": [
    "repo.refs[4].commit.diff(repo.refs[2].commit)"
   ]
  },
  {
   "cell_type": "code",
   "execution_count": 9,
   "metadata": {},
   "outputs": [
    {
     "data": {
      "text/plain": [
       "[<git.diff.Diff at 0x127370310>]"
      ]
     },
     "execution_count": 9,
     "metadata": {},
     "output_type": "execute_result"
    }
   ],
   "source": [
    "repo.refs[4].commit.diff(repo.refs[3].commit)"
   ]
  },
  {
   "cell_type": "code",
   "execution_count": 20,
   "metadata": {},
   "outputs": [
    {
     "name": "stdout",
     "output_type": "stream",
     "text": [
      "Help on function <lambda> in module git.cmd:\n",
      "\n",
      "<lambda> lambda *args, **kwargs\n",
      "\n"
     ]
    }
   ],
   "source": [
    "help(repo.git.branch)"
   ]
  },
  {
   "cell_type": "code",
   "execution_count": 28,
   "metadata": {},
   "outputs": [
    {
     "data": {
      "text/plain": [
       "[<git.Head \"refs/heads/dev\">, <git.Head \"refs/heads/main\">]"
      ]
     },
     "execution_count": 28,
     "metadata": {},
     "output_type": "execute_result"
    }
   ],
   "source": [
    "repo.heads"
   ]
  },
  {
   "cell_type": "markdown",
   "metadata": {},
   "source": [
    "Diff the `debian` and the `main` branches but limit diff to specified paths \n",
    "(via the `paths` parameter)."
   ]
  },
  {
   "cell_type": "code",
   "execution_count": 24,
   "metadata": {},
   "outputs": [
    {
     "data": {
      "text/plain": [
       "[]"
      ]
     },
     "execution_count": 24,
     "metadata": {},
     "output_type": "execute_result"
    }
   ],
   "source": [
    "diffs = repo.refs[4].commit.diff(repo.refs[2].commit, paths=[\"build.sh\", \"scripts\"])\n",
    "diffs"
   ]
  },
  {
   "cell_type": "markdown",
   "metadata": {},
   "source": [
    "## References\n",
    "\n",
    "https://github.com/dulwich/dulwich\n",
    "\n",
    "https://www.dulwich.io/docs/api/"
   ]
  }
 ],
 "metadata": {
  "file_extension": ".py",
  "kernelspec": {
   "display_name": "Python 3 (ipykernel)",
   "language": "python",
   "name": "python3"
  },
  "language_info": {
   "codemirror_mode": {
    "name": "ipython",
    "version": 3
   },
   "file_extension": ".py",
   "mimetype": "text/x-python",
   "name": "python",
   "nbconvert_exporter": "python",
   "pygments_lexer": "ipython3",
   "version": "3.10.6"
  },
  "metadata": {
   "interpreter": {
    "hash": "aee8b7b246df8f9039afb4144a1f6fd8d2ca17a180786b69acc140d282b71a49"
   }
  },
  "mimetype": "text/x-python",
  "name": "python",
  "npconvert_exporter": "python",
  "pygments_lexer": "ipython3",
  "version": 3
 },
 "nbformat": 4,
 "nbformat_minor": 4
}
