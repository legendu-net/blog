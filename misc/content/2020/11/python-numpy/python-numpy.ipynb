{
 "cells": [
  {
   "cell_type": "markdown",
   "source": [
    "- Title: Numpy Arrays in Python\n",
    "- Slug: python-numpy\n",
    "- Date: 2020-11-21 22:10:08\n",
    "- Category: Computer Science\n",
    "- Tags: programming, Python, numpy, array, stack\n",
    "- Author: Ben Du\n",
    "- Modified: 2021-07-29 23:31:00\n"
   ],
   "metadata": {}
  },
  {
   "cell_type": "markdown",
   "source": [
    "## Tips and Traps \n",
    "\n",
    "1. The Pythonic way of checking whether a collection (string, list, set, dict, etc.) `coll`\n",
    "    is non-empty is to use `if coll`. \n",
    "    However, \n",
    "    do NOT use `if arr` to check whether a numpy array is non-empty or not. \n",
    "    Instead,\n",
    "    you shoule use `arr.size >0` to check whether a numpy array is non-empty or not.\n",
    "\n",
    "2. [bottleneck](https://github.com/pydata/bottleneck)\n",
    "    is a collection of fast, NaN-aware NumPy array functions written in C."
   ],
   "metadata": {}
  },
  {
   "cell_type": "code",
   "execution_count": 8,
   "source": [
    "from operator import itemgetter\n",
    "import numpy as np"
   ],
   "outputs": [],
   "metadata": {}
  },
  {
   "cell_type": "markdown",
   "source": [
    "## Construct Numpy Arrays "
   ],
   "metadata": {}
  },
  {
   "cell_type": "markdown",
   "source": [
    "Construct a numpy array from a list."
   ],
   "metadata": {}
  },
  {
   "cell_type": "code",
   "execution_count": 11,
   "source": [
    "arr = np.array([0, 1, 2, 3, 4, 5, 6])\n",
    "arr"
   ],
   "outputs": [
    {
     "output_type": "execute_result",
     "data": {
      "text/plain": [
       "array([0, 1, 2, 3, 4, 5, 6])"
      ]
     },
     "metadata": {},
     "execution_count": 11
    }
   ],
   "metadata": {}
  },
  {
   "cell_type": "markdown",
   "source": [
    "Join a sequence of arrays along a new axis using [numpy.stack](https://numpy.org/doc/stable/reference/generated/numpy.stack.html)."
   ],
   "metadata": {}
  },
  {
   "cell_type": "code",
   "execution_count": null,
   "source": [
    "np.stack([\n",
    "    [1, 2, 3],\n",
    "    [4, 5, 6],\n",
    "], axis=0)"
   ],
   "outputs": [],
   "metadata": {}
  },
  {
   "cell_type": "code",
   "execution_count": null,
   "source": [
    "np.stack([\n",
    "    [1, 2, 3],\n",
    "    [4, 5, 6],\n",
    "], axis=1)"
   ],
   "outputs": [],
   "metadata": {}
  },
  {
   "cell_type": "markdown",
   "source": [
    "## Slicing"
   ],
   "metadata": {}
  },
  {
   "cell_type": "code",
   "execution_count": 12,
   "source": [
    "arr[0]"
   ],
   "outputs": [
    {
     "output_type": "execute_result",
     "data": {
      "text/plain": [
       "0"
      ]
     },
     "metadata": {},
     "execution_count": 12
    }
   ],
   "metadata": {}
  },
  {
   "cell_type": "code",
   "execution_count": 13,
   "source": [
    "arr[1:4]"
   ],
   "outputs": [
    {
     "output_type": "execute_result",
     "data": {
      "text/plain": [
       "array([1, 2, 3])"
      ]
     },
     "metadata": {},
     "execution_count": 13
    }
   ],
   "metadata": {}
  },
  {
   "cell_type": "code",
   "execution_count": 14,
   "source": [
    "itemgetter(2, 3, 5)(arr)"
   ],
   "outputs": [
    {
     "output_type": "execute_result",
     "data": {
      "text/plain": [
       "(2, 3, 5)"
      ]
     },
     "metadata": {},
     "execution_count": 14
    }
   ],
   "metadata": {}
  },
  {
   "cell_type": "markdown",
   "source": [
    "## [numpy.where](https://docs.scipy.org/doc/numpy/reference/generated/numpy.where.html)\n",
    "\n",
    "Note: `numpy.where` works on both `numpy.ndarray` and `list`,\n",
    "however,\n",
    "it doesn't work on a generator/iterator."
   ],
   "metadata": {}
  },
  {
   "cell_type": "code",
   "execution_count": 41,
   "source": [
    "arr = np.array([9, 80, 1, 2, 7, 1000])\n",
    "arr >= 30"
   ],
   "outputs": [
    {
     "output_type": "execute_result",
     "data": {
      "text/plain": [
       "array([False,  True, False, False, False,  True])"
      ]
     },
     "metadata": {},
     "execution_count": 41
    }
   ],
   "metadata": {}
  },
  {
   "cell_type": "code",
   "execution_count": 42,
   "source": [
    "np.where(arr >= 30)"
   ],
   "outputs": [
    {
     "output_type": "execute_result",
     "data": {
      "text/plain": [
       "(array([1, 5]),)"
      ]
     },
     "metadata": {},
     "execution_count": 42
    }
   ],
   "metadata": {}
  },
  {
   "cell_type": "code",
   "execution_count": 43,
   "source": [
    "np.where(arr >= 30)[0].min()"
   ],
   "outputs": [
    {
     "output_type": "execute_result",
     "data": {
      "text/plain": [
       "1"
      ]
     },
     "metadata": {},
     "execution_count": 43
    }
   ],
   "metadata": {}
  },
  {
   "cell_type": "code",
   "execution_count": 44,
   "source": [
    "np.min(np.where(arr >= 30))"
   ],
   "outputs": [
    {
     "output_type": "execute_result",
     "data": {
      "text/plain": [
       "1"
      ]
     },
     "metadata": {},
     "execution_count": 44
    }
   ],
   "metadata": {}
  },
  {
   "cell_type": "markdown",
   "source": [
    "## numpy.ndarray.sum"
   ],
   "metadata": {}
  },
  {
   "cell_type": "code",
   "execution_count": 15,
   "source": [
    "arr.sum()"
   ],
   "outputs": [
    {
     "output_type": "execute_result",
     "data": {
      "text/plain": [
       "21"
      ]
     },
     "metadata": {},
     "execution_count": 15
    }
   ],
   "metadata": {}
  },
  {
   "cell_type": "markdown",
   "source": [
    "## numpy.ndarray.prod"
   ],
   "metadata": {}
  },
  {
   "cell_type": "code",
   "execution_count": 16,
   "source": [
    "arr.prod()"
   ],
   "outputs": [
    {
     "output_type": "execute_result",
     "data": {
      "text/plain": [
       "0"
      ]
     },
     "metadata": {},
     "execution_count": 16
    }
   ],
   "metadata": {}
  },
  {
   "cell_type": "markdown",
   "source": [
    "## Missing Values\n",
    "\n",
    "`np.NaN`, `np.NAN` and `np.nan` are the same."
   ],
   "metadata": {}
  },
  {
   "cell_type": "code",
   "execution_count": 20,
   "source": [
    "np.NaN is np.NAN"
   ],
   "outputs": [
    {
     "output_type": "execute_result",
     "data": {
      "text/plain": [
       "True"
      ]
     },
     "metadata": {},
     "execution_count": 20
    }
   ],
   "metadata": {}
  },
  {
   "cell_type": "code",
   "execution_count": 21,
   "source": [
    "np.NAN is np.nan"
   ],
   "outputs": [
    {
     "output_type": "execute_result",
     "data": {
      "text/plain": [
       "True"
      ]
     },
     "metadata": {},
     "execution_count": 21
    }
   ],
   "metadata": {}
  },
  {
   "cell_type": "markdown",
   "source": [
    "## Matrix"
   ],
   "metadata": {}
  },
  {
   "cell_type": "code",
   "execution_count": 33,
   "source": [
    "mat = np.matrix([\n",
    "    [1, 2, 3],\n",
    "    [4, 5, 6],\n",
    "])"
   ],
   "outputs": [],
   "metadata": {}
  },
  {
   "cell_type": "code",
   "execution_count": 34,
   "source": [
    "mat.diagonal()"
   ],
   "outputs": [
    {
     "output_type": "execute_result",
     "data": {
      "text/plain": [
       "matrix([[1, 5]])"
      ]
     },
     "metadata": {},
     "execution_count": 34
    }
   ],
   "metadata": {}
  },
  {
   "cell_type": "code",
   "execution_count": 35,
   "source": [
    "np.diag(mat)"
   ],
   "outputs": [
    {
     "output_type": "execute_result",
     "data": {
      "text/plain": [
       "array([1, 5])"
      ]
     },
     "metadata": {},
     "execution_count": 35
    }
   ],
   "metadata": {}
  },
  {
   "cell_type": "markdown",
   "source": [
    "## Tutorials\n",
    "\n",
    "- [Complete Python NumPy Tutorial (Creating Arrays, Indexing, Math, Statistics, Reshaping)](https://www.youtube.com/watch?v=GB9ByFAIAH4https://www.youtube.com/watch?v=GB9ByFAIAH4)\n",
    "\n",
    "- [Convert a Tensor to a Numpy Array or List in PyTorch](http://www.legendu.net/misc/blog/python-pytorch-tensor-numpy-list/)\n",
    "\n",
    "- [Convert an Image to Numpy Array in Python](http://www.legendu.net/misc/blog/python-pillow-numpy-array/)\n",
    "\n",
    "- [Broadcast Arrays in Numpy](http://www.legendu.net/misc/blog/broadcast-arrays-in-numpy/)\n",
    "\n",
    "- [Pad a Sequence in Python](http://www.legendu.net/misc/blog/python-pad-sequence/)"
   ],
   "metadata": {}
  },
  {
   "cell_type": "markdown",
   "source": [
    "## References\n",
    "\n",
    "- [bottleneck](https://github.com/pydata/bottleneck)\n",
    "\n",
    "- https://docs.scipy.org/doc/numpy/index.html\n",
    "\n",
    "- https://www.pythoninformer.com/python-libraries/numpy/index-and-slice/\n",
    "\n",
    "- https://docs.python.org/3/library/operator.html#operator.itemgetter\n",
    "\n",
    "- https://stackoverflow.com/questions/19128523/accessing-non-consecutive-elements-of-a-list-or-string-in-python/19128597#19128597\n",
    "\n",
    "- https://stackoverflow.com/questions/48519062/rs-which-and-which-min-equivalent-in-python"
   ],
   "metadata": {}
  },
  {
   "cell_type": "code",
   "execution_count": null,
   "source": [],
   "outputs": [],
   "metadata": {}
  }
 ],
 "metadata": {
  "kernelspec": {
   "display_name": "Python 3",
   "language": "python",
   "name": "python3"
  },
  "language_info": {
   "codemirror_mode": {
    "name": "ipython",
    "version": 3
   },
   "file_extension": ".py",
   "mimetype": "text/x-python",
   "name": "python",
   "nbconvert_exporter": "python",
   "pygments_lexer": "ipython3",
   "version": "3.7.3"
  }
 },
 "nbformat": 4,
 "nbformat_minor": 4
}