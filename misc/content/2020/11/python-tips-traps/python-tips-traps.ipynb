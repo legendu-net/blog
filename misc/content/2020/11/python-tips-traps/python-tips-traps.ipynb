{
 "cells": [
  {
   "cell_type": "markdown",
   "metadata": {},
   "source": [
    "- Title: Python Tips and Traps\n",
    "- Slug: python-tips-and-traps\n",
    "- Date: 2020-11-15 10:10:12\n",
    "- Category: Computer Science\n",
    "- Tags: programming, Python, tips, traps\n",
    "- Author: Ben Du\n",
    "- Modified: 2021-02-15 10:10:12\n"
   ]
  },
  {
   "cell_type": "markdown",
   "metadata": {},
   "source": [
    "## [Tips on Python Module](http://www.legendu.net/2019/blog/python-module-tips)\n",
    "\n",
    "## [Exception and Error Handling in Python](http://www.legendu.net/2020/blog/exception-and-error-handling-in-python)"
   ]
  },
  {
   "cell_type": "markdown",
   "metadata": {},
   "source": [
    "## Misc\n",
    "\n",
    "https://docs.python-guide.org/writing/gotchas/\n",
    "\n",
    "https://stackoverflow.com/questions/101268/hidden-features-of-python\n",
    "\n",
    "\n",
    "2. The `int` type in Python 3 is unbounded,\n",
    "    which means that there is no limit on the range of integer numbers that an `int` can represent. \n",
    "    However, \n",
    "    there are still various integer related limits in Python 3 due to the interpreter's word size (`sys.maxsize`)\n",
    "    (which is the same as the machine's word size in most cases).\n",
    "    This number is the size of the largest possible list or in-memory sequence."
   ]
  },
  {
   "cell_type": "code",
   "execution_count": 1,
   "metadata": {},
   "outputs": [
    {
     "data": {
      "text/plain": [
       "int"
      ]
     },
     "execution_count": 1,
     "metadata": {},
     "output_type": "execute_result"
    }
   ],
   "source": [
    "x = 1111111111111111111111111111111111111111111111111111111111111111111111111111\n",
    "type(x)"
   ]
  },
  {
   "cell_type": "markdown",
   "metadata": {},
   "source": [
    "3. Use type annotation to make your code more readable and easier to understand.\n"
   ]
  },
  {
   "cell_type": "markdown",
   "metadata": {},
   "source": [
    "## Functions and Classes\n",
    "\n",
    "1. Restrict the types of objects that your function/method can be applied to \n",
    "  and throw a (ValueError) exception when a wrong type is provided.\n",
    "  This helps minimize surprisings.\n",
    "  If you must make a function accepts 2 (or more) customized types of objects, \n",
    "  it is best to make them have similar duck types. \n",
    "  For example, \n",
    "  one object has members `mem1` and `mem2` (which are used in the function),\n",
    "  instead of representing the 2nd type of object as a tuple (of 2 elements)\n",
    "  it is better to define a class to match interfaces of the first type of object \n",
    "  so that implementation of the function is simple and concise. \n",
    "  Noticce that dataclass is a good way to implement simple classes.\n",
    "\n",
    "3. AVOID returning objects of different types from a Python function/method.\n",
    "  \n",
    "7. Almost all modern programming languages follow the convention\n",
    "  of not returnting anything (or in another words, retun void, None, etc.)\n",
    "  from a mutator method so that you cannot chain on a mutator method.\n",
    "  Functional programming languages enough chaining on methods\n",
    "  as they often have immutable objects and the methods return new objects\n",
    "  rather than changing the original objects.\n",
    "\n",
    "2. Python functions (except lambda functions) do not automatically return value\n",
    "  unlike functional programming languages.\n",
    "  Forgotting a `return` statement is a common mistake in Python.\n",
    "\n",
    "\n",
    "6. You cannot use `return` to return result from a generator function.\n",
    "  Instead a `return` behaves like raising a StopIteration.\n",
    "  Please see this [issue](https://stackoverflow.com/questions/26595895/return-and-yield-in-the-same-function)\n",
    "  for more discussions.\n",
    "\n",
    "\n",
    "https://jeffknupp.com/blog/2018/10/11/write-better-python-functions/\n",
    "\n",
    "https://softwareengineering.stackexchange.com/questions/225682/is-it-a-bad-idea-to-return-different-data-types-from-a-single-function-in-a-dyna\n",
    "\n",
    "https://stackoverflow.com/questions/1839289/why-should-functions-always-return-the-same-type\n",
    "\n",
    "https://treyhunner.com/2018/04/keyword-arguments-in-python/\n"
   ]
  },
  {
   "cell_type": "markdown",
   "metadata": {},
   "source": [
    "## Operator Precedence\n",
    "\n",
    "1. According to [Python Operator Precedence](https://docs.python.org/2/reference/expressions.html#operator-precedence),\n",
    "  the ternary expression `if - else` has a very low precedence. \n",
    "  However, it has higher precedence than the tuple operator `,`.\n",
    "  It is suggested that you always use parentheses to make the precedence clear \n",
    "  when you use the ternary expression in a complicated expression.\n",
    "  Below is an example illustrating the precedence of the ternary expression."
   ]
  },
  {
   "cell_type": "code",
   "execution_count": 7,
   "metadata": {},
   "outputs": [
    {
     "data": {
      "text/plain": [
       "[\"'succeed'\",\n",
       " 'partitions = 52',\n",
       " 'size = 28836',\n",
       " 'end_time = 1563259850.937318']"
      ]
     },
     "execution_count": 7,
     "metadata": {},
     "output_type": "execute_result"
    }
   ],
   "source": [
    "update = {\n",
    "    \"status\": \"succeed\",\n",
    "    \"partitions\": 52,\n",
    "    \"size\": 28836,\n",
    "    \"end_time\": 1563259850.937318\n",
    "}\n",
    "[\n",
    "    key + \" = \" + f\"{val}\" if isinstance(val, (int, float)) else f\"'{val}'\"\n",
    "    for key, val in update.items()\n",
    "]"
   ]
  },
  {
   "cell_type": "code",
   "execution_count": 8,
   "metadata": {},
   "outputs": [
    {
     "data": {
      "text/plain": [
       "[\"status = 'succeed'\",\n",
       " 'partitions = 52',\n",
       " 'size = 28836',\n",
       " 'end_time = 1563259850.937318']"
      ]
     },
     "execution_count": 8,
     "metadata": {},
     "output_type": "execute_result"
    }
   ],
   "source": [
    "update = {\n",
    "    \"status\": \"succeed\",\n",
    "    \"partitions\": 52,\n",
    "    \"size\": 28836,\n",
    "    \"end_time\": 1563259850.937318\n",
    "}\n",
    "[\n",
    "    key + \" = \" + (f\"{val}\" if isinstance(val, (int, float)) else f\"'{val}'\")\n",
    "    for key, val in update.items()\n",
    "]"
   ]
  },
  {
   "cell_type": "markdown",
   "metadata": {},
   "source": []
  },
  {
   "cell_type": "markdown",
   "metadata": {},
   "source": [
    "## Advanced Python \n",
    "\n",
    "[Talk: Anthony Shaw - Why is Python slow?](https://www.youtube.com/watch?v=I4nkgJdVZFA)\n",
    "\n",
    "[When Python Practices Go Wrong - Brandon Rhodes - code::dive 2019](https://www.youtube.com/watch?v=S0No2zSJmks)\n"
   ]
  },
  {
   "cell_type": "markdown",
   "metadata": {},
   "source": [
    "\n",
    "<img src=\"http://dclong.github.io/media/python/python.png\" height=\"200\" width=\"240\" align=\"right\"/>\n",
    "\n",
    "## Python Doc\n",
    "\n",
    "https://docs.quantifiedcode.com/python-anti-patterns/index.html\n",
    "\n",
    "\n",
    "\n",
    "\n",
    "[Comprehensive Python Cheatsheet](https://gto76.github.io/python-cheatsheet/)\n",
    "\n",
    "- [The Python Wiki](https://wiki.python.org/moin/)\n",
    "- [Useful Modules](https://wiki.python.org/moin/UsefulModules)\n",
    "- [The Hitchhiker\u2019s Guide to Python!](http://docs.python-guide.org/en/latest/)\n",
    "- [PyVideo](http://pyvideo.org/)\n",
    "\n",
    "## Environment Variable\n",
    "\n",
    "1. `os.getenv` gets the value of an environment variable\n",
    "  while `os.setenv` creates a new environment variable or\n",
    "  sets the value of an environment variable.\n",
    "\n",
    "2. You should use `os.pathexpanduser(\"~\")` instead of `os.getenv('HOME')`\n",
    "  to get the home directory of the current user in Python.\n",
    "  `os.getenv('HOME')` only works on Linux/Unix.\n",
    "\n",
    "## Programming Skills\n",
    "\n",
    "1. Python varadic args can mimic function overloading\n",
    "\n",
    "3. Python eval\n",
    "\n",
    "4. `*args` and `**kwargs`. Arguments after `*` must be called by name.\n",
    "\n",
    "6. `sys.stdout.write`, `sys.stdout.flush`, `print`\n",
    "\n",
    "9. Global variables in a Python module are readable but not writable to functions in the same module by default.\n",
    "  If you want to write to a global variable in a function (in the same module),\n",
    "  you have to declare the global variable in the method using the keyword `global`.\n",
    "  For example, if `x` is a global variable\n",
    "  and you want to write to it in a method,\n",
    "  you have to declare `global x` at the beginning of the method.\n",
    "\n",
    "\n",
    "## Numerical\n",
    "\n",
    "1. Division is float division in Python 3 which is different from Python 2.\n",
    "    If you want integer division,\n",
    "    use the `//` operator.\n",
    "\n",
    "## Misc\n",
    "\n",
    "1. Keys for set and dict objects must be immutable in Python\n",
    "    (and the same concept holds in other programming languages too).\n",
    "    Since a list in Python is mutable,\n",
    "    it cannot be used as a key in set and dict objects.\n",
    "    You have to convert it to an immutable equivalence (e.g., tuple).\n",
    "\n",
    "2. Use sys.exit(msg) to print error message and quit when error happens\n",
    "\n",
    "3. Get the class name of an object.\n",
    "\n",
    "\t\ttype(obj).__name__\n",
    "\n",
    "## File System\n",
    "\n",
    "2. `os.mkdir` acts like `mkdir` in Linux and `os.makedirs` acts like `mkdir -p` in Linux.\n",
    "    Both of them throw an exception if the file already exists.\n",
    "\n",
    "3. Use `execfile(open(filename).read())` to source a file,\n",
    "    variables defined in 'filename' are visible,\n",
    "    however, imported packages are invisible to the script running execfile\n",
    "\n",
    "## Encoding\n",
    "\n",
    "`ord` `unichar`\n",
    "return `ascii` number of characters\n",
    "`chr` return a string from a ascii number\n",
    "\n",
    "## Syntax\n",
    "\n",
    "1. Python expression is calculated from left to right.\n",
    "\n",
    "7. You can use a `dict` structure to mimic switch in other programming languages.\n",
    "    However, it is kind of evil and has very limited usage.,\n",
    "    You should avoid use this.\n",
    "    Just use multiple `if ... else ...` branches instead.\n",
    "\n",
    "5. `:` has higher priority than arithmetic operators in Python,\n",
    "    which is opposite to that in R.\n",
    "\n",
    "3.  `return v1, v2` returns a tuple `(v1, v2)`.\n",
    "    And if a function `f` returns a tuple `(v1, v2, v3)`,\n",
    "    you can use\n",
    "    `v1, v2, v3 = f()`\n",
    "\n",
    "11. Stay away from functions/methods/members starting with `_`.\n",
    "    For example,\n",
    "    you should use the built-in function `len` to get the length of a list\n",
    "    instead of using its method `__len__`.\n",
    "\n",
    "7. Python does not support `++`, `--` but support `+=`, `-+`, etc.\n",
    "\n",
    "\n",
    "### Encryption\n",
    "\n",
    "- [pycrypto](https://pypi.python.org/pypi/pycrypto)\n",
    "\n",
    "https://github.com/dlitz/pycrypto\n",
    "\n",
    "http://stackoverflow.com/questions/3504955/using-rsa-in-python"
   ]
  },
  {
   "cell_type": "markdown",
   "metadata": {},
   "source": [
    "## Referneces\n",
    "\n",
    "- [Google Python Style Guide](https://google.github.io/styleguide/pyguide.html#381-docstrings)\n",
    "\n",
    "- [Awesome Python](https://github.com/uhub/awesome-python)\n",
    "\n",
    "- [Common Mistakes](http://www.toptal.com/python/top-10-mistakes-that-python-programmers-make)\n",
    "\n",
    "- [Least Astonishment and The Mutble Default Argument](https://stackoverflow.com/questions/1132941/least-astonishment-and-the-mutable-default-argument)\n",
    "\n",
    "- [Maximum and Minimum Values for Ints](https://stackoverflow.com/questions/7604966/maximum-and-minimum-values-for-ints)\n",
    "\n",
    "- [The Hitchhiker's Guide to Python](https://docs.python-guide.org/writing/documentation/)\n",
    "\n",
    "- https://github.com/pypa\n",
    "\n",
    "- [Python\u65e5\u62a5](http://py.memect.com/)\n",
    "\n",
    "- [Python Homepage](http://www.python.org/)\n",
    "\n",
    "- [Python Documentation](http://docs.python.org/py3k/)\n",
    "\n",
    "- [Useful Modules](https://wiki.python.org/moin/UsefulModules)\n",
    "\n",
    "- [LearningJython](http://wiki.python.org/jython/LearningJython)\n",
    "\n",
    "- [Jython Tutorial](http://www.jython.org/currentdocs.html)\n",
    "\n",
    "- [PEP 8 -- Style Guide for Python](http://legacy.python.org/dev/peps/pep-0008/)\n",
    "\n",
    "- [Documentating Python](https://devguide.python.org/documenting/)\n",
    "\n",
    "- http://builtoncement.org/\n",
    "\n",
    "- https://pythonhosted.org/pyCLI/"
   ]
  },
  {
   "cell_type": "code",
   "execution_count": null,
   "metadata": {},
   "outputs": [],
   "source": []
  }
 ],
 "metadata": {
  "kernelspec": {
   "display_name": "Python 3",
   "language": "python",
   "name": "python3"
  },
  "language_info": {
   "codemirror_mode": {
    "name": "ipython",
    "version": 3
   },
   "file_extension": ".py",
   "mimetype": "text/x-python",
   "name": "python",
   "nbconvert_exporter": "python",
   "pygments_lexer": "ipython3",
   "version": "3.8.6-final"
  }
 },
 "nbformat": 4,
 "nbformat_minor": 4
}