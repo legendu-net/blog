{
 "cells": [
  {
   "cell_type": "markdown",
   "metadata": {},
   "source": [
    "- Author: Ben Du\n",
    "- Date: 2020-11-30 00:15:05\n",
    "- Title: IO in Rust\n",
    "- Slug: io-in-rust\n",
    "- Category: Computer Science\n",
    "- Tags: Computer Science, programming\n",
    "- Modified: 2021-11-22 16:27:01\n"
   ]
  },
  {
   "cell_type": "markdown",
   "metadata": {},
   "source": [
    " ** Things on this page are fragmentary and immature notes/thoughts of the author. Please read with your own judgement! **  "
   ]
  },
  {
   "cell_type": "markdown",
   "metadata": {},
   "source": [
    "## Tips and Traps\n",
    "\n",
    "1. Key strokes `CTRL` + `D` signals an EOF to stdin input.\n",
    "\n",
    "2. Methods reading from stdin **appends** the input to the buffer rather than overwrite it!\n",
    "\n",
    "3. Rust crates \n",
    "    [serde](https://crates.io/crates/serde)\n",
    "    and\n",
    "    [cron](https://crates.io/crates/ron)\n",
    "    are popular serialization/deserialization libraries."
   ]
  },
  {
   "cell_type": "markdown",
   "metadata": {},
   "source": [
    "https://doc.rust-lang.org/std/io/trait.BufRead.html#method.lines\n",
    "    \n",
    "https://doc.rust-lang.org/rust-by-example/std_misc/file/read_lines.html\n",
    "    \n",
    "https://doc.rust-lang.org/std/io/struct.Stdin.html#method.read_line"
   ]
  },
  {
   "cell_type": "code",
   "execution_count": 2,
   "metadata": {},
   "outputs": [],
   "source": [
    "use std::io::BufReader;\n",
    "use std::fs::File;\n",
    "use std::io::Read;\n",
    "use std::io::Lines;"
   ]
  },
  {
   "cell_type": "code",
   "execution_count": 15,
   "metadata": {},
   "outputs": [],
   "source": [
    "use std::io::{self, BufReader, BufWriter};\n",
    "use std::io::prelude::*;\n",
    "use std::fs::File;"
   ]
  },
  {
   "cell_type": "markdown",
   "metadata": {},
   "source": [
    "## [std::fs::read_to_string](https://doc.rust-lang.org/std/fs/fn.read_to_string.html)"
   ]
  },
  {
   "cell_type": "code",
   "execution_count": 12,
   "metadata": {},
   "outputs": [],
   "source": [
    "use std::fs;"
   ]
  },
  {
   "cell_type": "code",
   "execution_count": 17,
   "metadata": {},
   "outputs": [
    {
     "data": {
      "text/plain": [
       "Ok(\"how\\nare you\\ndoing\")"
      ]
     },
     "execution_count": 17,
     "metadata": {},
     "output_type": "execute_result"
    }
   ],
   "source": [
    "fs::read_to_string(\"data.txt\")"
   ]
  },
  {
   "cell_type": "markdown",
   "metadata": {},
   "source": [
    "## [std::fs::read](https://doc.rust-lang.org/std/fs/fn.read.html)\n",
    "\n",
    "Read the entire contents of a file into a bytes vector.\n",
    "This is a convenience function for using `File::open` and `read_to_end` with fewer imports and without an intermediate variable. \n",
    "It pre-allocates a buffer based on the file size when available, \n",
    "so it is generally faster than reading into a vector created with `Vec::new()`."
   ]
  },
  {
   "cell_type": "code",
   "execution_count": 19,
   "metadata": {},
   "outputs": [
    {
     "data": {
      "text/plain": [
       "Ok([104, 111, 119, 10, 97, 114, 101, 32, 121, 111, 117, 10, 100, 111, 105, 110, 103])"
      ]
     },
     "execution_count": 19,
     "metadata": {},
     "output_type": "execute_result"
    }
   ],
   "source": [
    "fs::read(\"data.txt\")"
   ]
  },
  {
   "cell_type": "markdown",
   "metadata": {},
   "source": [
    "## [std::fs::write](https://doc.rust-lang.org/std/fs/fn.write.html)"
   ]
  },
  {
   "cell_type": "code",
   "execution_count": 13,
   "metadata": {},
   "outputs": [
    {
     "data": {
      "text/plain": [
       "Ok(())"
      ]
     },
     "execution_count": 13,
     "metadata": {},
     "output_type": "execute_result"
    }
   ],
   "source": [
    "fs::write(\"o1.txt\", \"this is an example line output\")"
   ]
  },
  {
   "cell_type": "markdown",
   "metadata": {},
   "source": [
    "## std::fs::File"
   ]
  },
  {
   "cell_type": "markdown",
   "metadata": {},
   "source": [
    "Read text from a file."
   ]
  },
  {
   "cell_type": "code",
   "execution_count": 17,
   "metadata": {},
   "outputs": [],
   "source": [
    "let f1 = File::open(\"data.txt\");"
   ]
  },
  {
   "cell_type": "code",
   "execution_count": 18,
   "metadata": {},
   "outputs": [
    {
     "data": {
      "text/plain": [
       "Ok(File { fd: 4, path: \"/workdir/archives/blog/misc/content/2020/11/data.txt\", read: true, write: false })"
      ]
     },
     "execution_count": 18,
     "metadata": {},
     "output_type": "execute_result"
    }
   ],
   "source": [
    "f1"
   ]
  },
  {
   "cell_type": "code",
   "execution_count": 19,
   "metadata": {},
   "outputs": [],
   "source": [
    "let mut f = File::open(\"data.txt\")?;"
   ]
  },
  {
   "cell_type": "code",
   "execution_count": 20,
   "metadata": {},
   "outputs": [],
   "source": [
    "let mut content = String::new();\n",
    "f.read_to_string(&mut content)?;"
   ]
  },
  {
   "cell_type": "code",
   "execution_count": 21,
   "metadata": {},
   "outputs": [
    {
     "data": {
      "text/plain": [
       "\"how\\nare you\\ndoing\""
      ]
     },
     "execution_count": 21,
     "metadata": {},
     "output_type": "execute_result"
    }
   ],
   "source": [
    "content"
   ]
  },
  {
   "cell_type": "markdown",
   "metadata": {},
   "source": [
    "Write text into a file."
   ]
  },
  {
   "cell_type": "code",
   "execution_count": 8,
   "metadata": {},
   "outputs": [
    {
     "data": {
      "text/plain": [
       "File { fd: 4, path: \"/workdir/archives/blog/misc/content/2020/11/rust-io/output.txt\", read: false, write: true }"
      ]
     },
     "execution_count": 8,
     "metadata": {},
     "output_type": "execute_result"
    }
   ],
   "source": [
    "let mut file = File::create(\"output.txt\").unwrap();\n",
    "file"
   ]
  },
  {
   "cell_type": "code",
   "execution_count": 9,
   "metadata": {},
   "outputs": [],
   "source": [
    "file.write_all(b\"Hello, world!\");"
   ]
  },
  {
   "cell_type": "markdown",
   "metadata": {},
   "source": [
    "## [std::io::LineWriter](https://doc.rust-lang.org/std/io/struct.LineWriter.html)"
   ]
  },
  {
   "cell_type": "markdown",
   "metadata": {},
   "source": [
    "## std::io::BufReader"
   ]
  },
  {
   "cell_type": "code",
   "execution_count": 29,
   "metadata": {},
   "outputs": [
    {
     "name": "stdout",
     "output_type": "stream",
     "text": [
      "Ok(\"how\")\n",
      "Ok(\"\")\n",
      "Ok(\"are you\")\n",
      "Ok(\"doing\")\n"
     ]
    },
    {
     "data": {
      "text/plain": [
       "()"
      ]
     },
     "execution_count": 29,
     "metadata": {},
     "output_type": "execute_result"
    }
   ],
   "source": [
    "let br = BufReader::new(File::open(\"data.txt\")?);\n",
    "for line in br.lines() {\n",
    "    println!(\"{:?}\", line);\n",
    "}"
   ]
  },
  {
   "cell_type": "code",
   "execution_count": 31,
   "metadata": {},
   "outputs": [
    {
     "name": "stdout",
     "output_type": "stream",
     "text": [
      "Line 0: Ok(\"how\")\n",
      "Line 1: Ok(\"\")\n",
      "Line 2: Ok(\"are you\")\n",
      "Line 3: Ok(\"doing\")\n"
     ]
    },
    {
     "data": {
      "text/plain": [
       "()"
      ]
     },
     "execution_count": 31,
     "metadata": {},
     "output_type": "execute_result"
    }
   ],
   "source": [
    "let br = BufReader::new(File::open(\"data.txt\")?);\n",
    "for (idx, line) in br.lines().enumerate() {\n",
    "    println!(\"Line {}: {:?}\", idx, line);\n",
    "}"
   ]
  },
  {
   "cell_type": "code",
   "execution_count": 33,
   "metadata": {},
   "outputs": [
    {
     "name": "stdout",
     "output_type": "stream",
     "text": [
      "Line 0: Ok(\"how\")\n",
      "Line 1: Ok(\"\")\n",
      "Line 2: Ok(\"are you\")\n",
      "Line 3: Ok(\"doing\")\n"
     ]
    },
    {
     "data": {
      "text/plain": [
       "()"
      ]
     },
     "execution_count": 33,
     "metadata": {},
     "output_type": "execute_result"
    }
   ],
   "source": [
    "let br = BufReader::new(File::open(\"data.txt\")?);\n",
    "for (idx, line) in br.lines().enumerate() {\n",
    "    println!(\"Line {}: {:?}\", idx, line);\n",
    "}"
   ]
  },
  {
   "cell_type": "markdown",
   "metadata": {},
   "source": [
    "## std::io::BufWriter"
   ]
  },
  {
   "cell_type": "code",
   "execution_count": 16,
   "metadata": {},
   "outputs": [
    {
     "data": {
      "text/plain": [
       "Ok(())"
      ]
     },
     "execution_count": 16,
     "metadata": {},
     "output_type": "execute_result"
    }
   ],
   "source": [
    "let f = File::create(\"o2.txt\").expect(\"Unable to create file\");\n",
    "let mut bfw = BufWriter::new(f);\n",
    "bfw.write_all(b\"writing data\\nusing std::io::BufWriter\")"
   ]
  },
  {
   "cell_type": "markdown",
   "metadata": {},
   "source": [
    "You have to call the method `BufWriter.flush` to force the buffer to output immediately."
   ]
  },
  {
   "cell_type": "code",
   "execution_count": 19,
   "metadata": {},
   "outputs": [
    {
     "data": {
      "text/plain": [
       "Ok(())"
      ]
     },
     "execution_count": 19,
     "metadata": {},
     "output_type": "execute_result"
    }
   ],
   "source": [
    "bfw.flush()"
   ]
  },
  {
   "cell_type": "markdown",
   "metadata": {},
   "source": [
    "Before a buffer is destructed, its content is output to the file."
   ]
  },
  {
   "cell_type": "code",
   "execution_count": 18,
   "metadata": {},
   "outputs": [
    {
     "data": {
      "text/plain": [
       "Ok(())"
      ]
     },
     "execution_count": 18,
     "metadata": {},
     "output_type": "execute_result"
    }
   ],
   "source": [
    "{\n",
    "    let f = File::create(\"o3.txt\").expect(\"Unable to create file\");\n",
    "    let mut bfw = BufWriter::new(f);\n",
    "    bfw.write_all(b\"writing data\\nusing std::io::BufWriter\")\n",
    "}"
   ]
  },
  {
   "cell_type": "markdown",
   "metadata": {},
   "source": [
    "## Read From Stdin\n",
    "\n",
    "Stdin::read_line reads a line (terminated by `\\n`)\n",
    "and returns a Result object. \n",
    "On success,\n",
    "it returns `Ok(n)` where `n` is the number of bytes read from stdin."
   ]
  },
  {
   "cell_type": "code",
   "execution_count": 2,
   "metadata": {},
   "outputs": [
    {
     "ename": "Error",
     "evalue": "cannot find value `pwd` in this scope",
     "output_type": "error",
     "traceback": [
      "!pwd",
      " ^^^ not found in this scope",
      "cannot find value `pwd` in this scope"
     ]
    }
   ],
   "source": [
    "let mut buffer = String::new();\n",
    "let stdin = std::io::stdin();\n",
    "let r = stdin.read_line(&mut buffer);"
   ]
  },
  {
   "cell_type": "markdown",
   "metadata": {},
   "source": [
    "## Read/Write CSV in Rust \n",
    "\n",
    "Please refer to \n",
    "[Read and Write CSV Files in Rust](http://www.legendu.net/misc/blog/read-and-write-csv-files-in-rust/)\n",
    "for details."
   ]
  },
  {
   "cell_type": "markdown",
   "metadata": {},
   "source": [
    "## Bundle File into Rust Application\n",
    "\n",
    "Please refer to\n",
    "[Bundle Resource Files into a Rust Application](http://www.legendu.net/misc/blog/bundle-resource-files-into-a-rust-application)\n",
    "for more discussions."
   ]
  },
  {
   "cell_type": "markdown",
   "metadata": {},
   "source": [
    "## [fs::canonicalize](https://doc.rust-lang.org/std/fs/fn.canonicalize.html)"
   ]
  },
  {
   "cell_type": "code",
   "execution_count": 20,
   "metadata": {},
   "outputs": [
    {
     "data": {
      "text/plain": [
       "Ok(\"/workdir/archives/blog/misc/content/2020/11/rust-io/o1.txt\")"
      ]
     },
     "execution_count": 20,
     "metadata": {},
     "output_type": "execute_result"
    }
   ],
   "source": [
    "fs::canonicalize(\"./o1.txt\")"
   ]
  },
  {
   "cell_type": "markdown",
   "metadata": {},
   "source": [
    "## [fs::copy](https://doc.rust-lang.org/std/fs/fn.copy.html)"
   ]
  },
  {
   "cell_type": "code",
   "execution_count": 21,
   "metadata": {},
   "outputs": [
    {
     "data": {
      "text/plain": [
       "Ok(30)"
      ]
     },
     "execution_count": 21,
     "metadata": {},
     "output_type": "execute_result"
    }
   ],
   "source": [
    "fs::copy(\"o1.txt\", \"out1.txt\")"
   ]
  },
  {
   "cell_type": "markdown",
   "metadata": {},
   "source": [
    "## [fs::create_dir](https://doc.rust-lang.org/std/fs/fn.create_dir.html)"
   ]
  },
  {
   "cell_type": "code",
   "execution_count": 22,
   "metadata": {},
   "outputs": [
    {
     "data": {
      "text/plain": [
       "Ok(())"
      ]
     },
     "execution_count": 22,
     "metadata": {},
     "output_type": "execute_result"
    }
   ],
   "source": [
    "fs::create_dir(\"my_dir\")"
   ]
  },
  {
   "cell_type": "markdown",
   "metadata": {},
   "source": [
    "## [fs::create_dir_all](https://doc.rust-lang.org/std/fs/fn.create_dir_all.html)"
   ]
  },
  {
   "cell_type": "code",
   "execution_count": 23,
   "metadata": {},
   "outputs": [
    {
     "data": {
      "text/plain": [
       "Ok(())"
      ]
     },
     "execution_count": 23,
     "metadata": {},
     "output_type": "execute_result"
    }
   ],
   "source": [
    "fs::create_dir_all(\"another/dir\")"
   ]
  },
  {
   "cell_type": "markdown",
   "metadata": {},
   "source": [
    "## [fs::metadata](https://doc.rust-lang.org/std/fs/fn.metadata.html)"
   ]
  },
  {
   "cell_type": "code",
   "execution_count": 24,
   "metadata": {},
   "outputs": [
    {
     "data": {
      "text/plain": [
       "Ok(Metadata { file_type: FileType(FileType { mode: 33188 }), is_dir: false, is_file: true, permissions: Permissions(FilePermissions { mode: 33188 }), modified: Ok(SystemTime { tv_sec: 1627506651, tv_nsec: 611396728 }), accessed: Ok(SystemTime { tv_sec: 1627506651, tv_nsec: 987468906 }), created: Err(Error { kind: Other, message: \"creation time is not available for the filesystem\" }), .. })"
      ]
     },
     "execution_count": 24,
     "metadata": {},
     "output_type": "execute_result"
    }
   ],
   "source": [
    "fs::metadata(\"o1.txt\")"
   ]
  },
  {
   "cell_type": "markdown",
   "metadata": {},
   "source": [
    "## [fs::read_dir](https://doc.rust-lang.org/std/fs/fn.read_dir.html)"
   ]
  },
  {
   "cell_type": "code",
   "execution_count": 25,
   "metadata": {},
   "outputs": [
    {
     "data": {
      "text/plain": [
       "Ok(ReadDir(\".\"))"
      ]
     },
     "execution_count": 25,
     "metadata": {},
     "output_type": "execute_result"
    }
   ],
   "source": [
    "fs::read_dir(\".\")"
   ]
  },
  {
   "cell_type": "code",
   "execution_count": 27,
   "metadata": {},
   "outputs": [
    {
     "name": "stdout",
     "output_type": "stream",
     "text": [
      "Ok(DirEntry(\"./.ipynb_checkpoints\"))\n",
      "Ok(DirEntry(\"./another\"))\n",
      "Ok(DirEntry(\"./my_dir\"))\n",
      "Ok(DirEntry(\"./o1.txt\"))\n",
      "Ok(DirEntry(\"./o2.txt\"))\n",
      "Ok(DirEntry(\"./o3.txt\"))\n",
      "Ok(DirEntry(\"./out1.txt\"))\n",
      "Ok(DirEntry(\"./output.txt\"))\n",
      "Ok(DirEntry(\"./rust-io.ipynb\"))\n"
     ]
    },
    {
     "data": {
      "text/plain": [
       "()"
      ]
     },
     "execution_count": 27,
     "metadata": {},
     "output_type": "execute_result"
    }
   ],
   "source": [
    "for file in fs::read_dir(\".\").unwrap() {\n",
    "    println!(\"{:?}\", file);\n",
    "}"
   ]
  },
  {
   "cell_type": "markdown",
   "metadata": {},
   "source": [
    "## [fs::read_link](https://doc.rust-lang.org/std/fs/fn.read_link.html)"
   ]
  },
  {
   "cell_type": "code",
   "execution_count": 29,
   "metadata": {},
   "outputs": [
    {
     "data": {
      "text/plain": [
       "Ok(\"o2.txt\")"
      ]
     },
     "execution_count": 29,
     "metadata": {},
     "output_type": "execute_result"
    }
   ],
   "source": [
    "fs::read_link(\"out2.txt\")"
   ]
  },
  {
   "cell_type": "markdown",
   "metadata": {},
   "source": [
    "## [fs::remove_dir](https://doc.rust-lang.org/std/fs/fn.remove_dir.html)\n",
    "\n",
    "Removes an empty directory."
   ]
  },
  {
   "cell_type": "code",
   "execution_count": 30,
   "metadata": {},
   "outputs": [
    {
     "data": {
      "text/plain": [
       "Err(Os { code: 39, kind: Other, message: \"Directory not empty\" })"
      ]
     },
     "execution_count": 30,
     "metadata": {},
     "output_type": "execute_result"
    }
   ],
   "source": [
    "fs::remove_dir(\"another\")"
   ]
  },
  {
   "cell_type": "code",
   "execution_count": 31,
   "metadata": {},
   "outputs": [
    {
     "data": {
      "text/plain": [
       "Ok(())"
      ]
     },
     "execution_count": 31,
     "metadata": {},
     "output_type": "execute_result"
    }
   ],
   "source": [
    "fs::remove_dir(\"my_dir\")"
   ]
  },
  {
   "cell_type": "markdown",
   "metadata": {},
   "source": [
    "## [fs::remove_dir_all](https://doc.rust-lang.org/std/fs/fn.remove_dir_all.html)"
   ]
  },
  {
   "cell_type": "code",
   "execution_count": 32,
   "metadata": {},
   "outputs": [
    {
     "data": {
      "text/plain": [
       "Ok(())"
      ]
     },
     "execution_count": 32,
     "metadata": {},
     "output_type": "execute_result"
    }
   ],
   "source": [
    "fs::remove_dir_all(\"another\")"
   ]
  },
  {
   "cell_type": "code",
   "execution_count": null,
   "metadata": {},
   "outputs": [],
   "source": [
    "https://doc.rust-lang.org/std/fs/fn.remove_file.html"
   ]
  },
  {
   "cell_type": "code",
   "execution_count": null,
   "metadata": {},
   "outputs": [],
   "source": [
    "https://doc.rust-lang.org/std/fs/fn.rename.html\n"
   ]
  },
  {
   "cell_type": "markdown",
   "metadata": {},
   "source": [
    "## References \n",
    "\n",
    "- [Trait std::io::BufRead](https://doc.rust-lang.org/std/io/trait.BufRead.html)\n",
    "- [Struct std::fs::File](https://doc.rust-lang.org/std/fs/struct.File.html)\n",
    "- [Struct std::io::Lines](https://doc.rust-lang.org/std/io/struct.Lines.html)\n",
    "- [Linux control sequence tricks](https://www.networkworld.com/article/3284105/linux-control-sequence-tricks.html)\n",
    "- [Reading from stdin: performance](https://users.rust-lang.org/t/reading-from-stdin-performance/2025)\n",
    "- [What's the de-facto way of reading and writing files in Rust 1.x?](https://stackoverflow.com/questions/31192956/whats-the-de-facto-way-of-reading-and-writing-files-in-rust-1-x)\n",
    "- [https://blog.yoshuawuyts.com/uninit-read-write/#summary](UNINIT READ/WRITE)\n",
    "- [Rust Crate - cron](https://crates.io/crates/ron)"
   ]
  },
  {
   "cell_type": "code",
   "execution_count": null,
   "metadata": {},
   "outputs": [],
   "source": []
  }
 ],
 "metadata": {
  "file_extension": ".py",
  "kernelspec": {
   "display_name": "Rust",
   "language": "rust",
   "name": "rust"
  },
  "language_info": {
   "codemirror_mode": "rust",
   "file_extension": ".rs",
   "mimetype": "text/rust",
   "name": "Rust",
   "pygment_lexer": "rust",
   "version": ""
  },
  "mimetype": "text/x-python",
  "name": "python",
  "npconvert_exporter": "python",
  "pygments_lexer": "ipython3",
  "version": 3
 },
 "nbformat": 4,
 "nbformat_minor": 4
}
