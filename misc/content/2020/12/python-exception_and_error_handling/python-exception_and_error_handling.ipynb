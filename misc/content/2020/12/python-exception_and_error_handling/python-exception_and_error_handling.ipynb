{
 "cells": [
  {
   "cell_type": "markdown",
   "metadata": {},
   "source": [
    "- Title: Exception and Error Handling in Python\n",
    "- Slug: exception-and-error-handling-in-python\n",
    "- Date: 2020-12-15 10:33:03\n",
    "- Category: Computer Science\n",
    "- Tags: programming, Python, exception, error, exception and error handling\n",
    "- Author: Ben Du\n",
    "- Modified: 2021-04-15 10:33:03\n"
   ]
  },
  {
   "cell_type": "markdown",
   "metadata": {},
   "source": [
    "## Tips and Traps\n",
    "\n",
    "1. If you need trackback information when throwing an exception use `raise ExceptionClass(msg)`,\n",
    "    otherwise, use `sys.exit(msg)` instead.\n",
    "\n",
    "2. The `assert` statement (which raises `AssertionError` if the assertion is not met) \n",
    "    is a very good way to ensure conditions to be met.\n",
    "        \n",
    "        :::python\n",
    "        assert some_condition\n",
    "\n"
   ]
  },
  {
   "cell_type": "code",
   "execution_count": 1,
   "metadata": {},
   "outputs": [],
   "source": [
    "import requests\n",
    "import shutil\n",
    "\n",
    "\n",
    "class NetworkError(Exception):\n",
    "    \"\"\"Exception due to network.\"\"\"\n",
    "    def __init__(self, value):\n",
    "        super().__init__(f'Request to \"{value}\" failed.')\n",
    "        \n",
    "\n",
    "def download(id, output=None):\n",
    "    url = 'https://api.crowdflower.com/v1/jobs/{id}.csv?type=full&key=QKozzkJJvuqJfq7hkSbT'\n",
    "    url = url.format(id=id)\n",
    "    resp = requests.get(url, stream=True)\n",
    "    if not resp.ok:\n",
    "        raise NetworkError(url)\n",
    "    if not output:\n",
    "        output = 'f{id}.csv.zip'.format(id=id)\n",
    "    with open(output, 'wb') as f:\n",
    "        shutil.copyfileobj(resp.raw, f)"
   ]
  },
  {
   "cell_type": "code",
   "execution_count": 2,
   "metadata": {},
   "outputs": [],
   "source": [
    "err = NetworkError(\"abc\")"
   ]
  },
  {
   "cell_type": "code",
   "execution_count": 3,
   "metadata": {},
   "outputs": [
    {
     "output_type": "execute_result",
     "data": {
      "text/plain": [
       "'Request to \"abc\" failed.'"
      ]
     },
     "metadata": {},
     "execution_count": 3
    }
   ],
   "source": [
    "str(err)"
   ]
  },
  {
   "cell_type": "code",
   "execution_count": 4,
   "metadata": {},
   "outputs": [
    {
     "output_type": "error",
     "ename": "NetworkError",
     "evalue": "Request to \"abc\" failed.",
     "traceback": [
      "\u001b[0;31m---------------------------------------------------------------------------\u001b[0m",
      "\u001b[0;31mNetworkError\u001b[0m                              Traceback (most recent call last)",
      "\u001b[0;32m<ipython-input-4-9f7bdcf42c44>\u001b[0m in \u001b[0;36m<module>\u001b[0;34m\u001b[0m\n\u001b[0;32m----> 1\u001b[0;31m \u001b[0;32mraise\u001b[0m \u001b[0merr\u001b[0m\u001b[0;34m\u001b[0m\u001b[0;34m\u001b[0m\u001b[0m\n\u001b[0m",
      "\u001b[0;31mNetworkError\u001b[0m: Request to \"abc\" failed."
     ]
    }
   ],
   "source": [
    "raise err"
   ]
  },
  {
   "cell_type": "markdown",
   "metadata": {},
   "source": [
    "## References \n",
    "\n",
    "https://docs.python.org/3/library/exceptions.html\n",
    "\n",
    "https://docs.python.org/3/tutorial/errors.html\n",
    "\n",
    "http://nbviewer.jupyter.org/github/jakevdp/WhirlwindTourOfPython/blob/master/09-Errors-and-Exceptions.ipynb"
   ]
  },
  {
   "cell_type": "code",
   "execution_count": null,
   "metadata": {},
   "outputs": [],
   "source": []
  }
 ],
 "metadata": {
  "kernelspec": {
   "display_name": "Python 3",
   "language": "python",
   "name": "python3"
  },
  "language_info": {
   "codemirror_mode": {
    "name": "ipython",
    "version": 3
   },
   "file_extension": ".py",
   "mimetype": "text/x-python",
   "name": "python",
   "nbconvert_exporter": "python",
   "pygments_lexer": "ipython3",
   "version": "3.8.6-final"
  }
 },
 "nbformat": 4,
 "nbformat_minor": 4
}