{
 "cells": [
  {
   "cell_type": "markdown",
   "metadata": {},
   "source": [
    "- Author: Ben Du\n",
    "- Date: 2020-12-30 14:06:16\n",
    "- Title: Tips on Jinja\n",
    "- Slug: tips-on-jinja\n",
    "- Category: Computer Science\n",
    "- Tags: Computer Science, programming, Jinja, template, Python\n",
    "- Modified: 2020-12-30 14:06:16\n"
   ]
  },
  {
   "cell_type": "markdown",
   "metadata": {},
   "source": [
    " ** Things on this page are fragmentary and immature notes/thoughts of the author. Please read with your own judgement! **  "
   ]
  },
  {
   "cell_type": "code",
   "execution_count": 2,
   "metadata": {},
   "outputs": [
    {
     "name": "stdout",
     "output_type": "stream",
     "text": [
      "Requirement already satisfied: jinja2 in /usr/local/lib/python3.8/site-packages (2.11.2)\n",
      "Requirement already satisfied: MarkupSafe>=0.23 in /usr/local/lib/python3.8/site-packages (from jinja2) (1.1.1)\n"
     ]
    }
   ],
   "source": [
    "!pip3 install jinja2"
   ]
  },
  {
   "cell_type": "code",
   "execution_count": 5,
   "metadata": {},
   "outputs": [],
   "source": [
    "from jinja2 import Template\n",
    "from argparse import Namespace"
   ]
  },
  {
   "cell_type": "code",
   "execution_count": 6,
   "metadata": {},
   "outputs": [
    {
     "data": {
      "text/plain": [
       "'Hello John Doe!'"
      ]
     },
     "execution_count": 6,
     "metadata": {},
     "output_type": "execute_result"
    }
   ],
   "source": [
    "template = Template('Hello {{ name }}!')\n",
    "template.render(name='John Doe')"
   ]
  },
  {
   "cell_type": "code",
   "execution_count": 9,
   "metadata": {},
   "outputs": [
    {
     "name": "stdout",
     "output_type": "stream",
     "text": [
      "<title></title>\n",
      "    <ul>\n",
      "    \n",
      "    <li><a href=\"www.legendu.net\">Ben</a></li>\n",
      "    \n",
      "    </ul>\n",
      "    \n"
     ]
    }
   ],
   "source": [
    "s = \"\"\"<title>{% block title %}{% endblock %}</title>\n",
    "    <ul>\n",
    "    {% for user in users %}\n",
    "    <li><a href=\"{{ user.url }}\">{{ user.username }}</a></li>\n",
    "    {% endfor %}\n",
    "    </ul>\n",
    "    \"\"\"\n",
    "s = Template(s).render(users=[Namespace(username=\"Ben\", url=\"www.legendu.net\")])\n",
    "print(s)"
   ]
  },
  {
   "cell_type": "markdown",
   "metadata": {},
   "source": [
    "## References \n",
    "\n",
    "https://jinja.palletsprojects.com/en/2.11.x/intro/#basic-api-usage"
   ]
  },
  {
   "cell_type": "code",
   "execution_count": null,
   "metadata": {},
   "outputs": [],
   "source": []
  }
 ],
 "metadata": {
  "file_extension": ".py",
  "kernelspec": {
   "display_name": "Python 3.7.6 64-bit",
   "language": "python",
   "name": "python37664bit63fb4f53efb44350a8fe54ef578d532a"
  },
  "language_info": {
   "codemirror_mode": {
    "name": "ipython",
    "version": 3
   },
   "name": "python",
   "version": "3.8.6-final"
  },
  "mimetype": "text/x-python",
  "name": "python",
  "npconvert_exporter": "python",
  "pygments_lexer": "ipython3",
  "version": 3
 },
 "nbformat": 4,
 "nbformat_minor": 2
}