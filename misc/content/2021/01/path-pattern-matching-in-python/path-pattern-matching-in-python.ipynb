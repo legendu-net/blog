{
 "nbformat": 4,
 "nbformat_minor": 2,
 "metadata": {
  "language_info": {
   "name": "python",
   "codemirror_mode": {
    "name": "ipython",
    "version": 3
   }
  },
  "orig_nbformat": 2,
  "file_extension": ".py",
  "mimetype": "text/x-python",
  "name": "python",
  "npconvert_exporter": "python",
  "pygments_lexer": "ipython3",
  "version": 3
 },
 "cells": [
  {
   "cell_type": "markdown",
   "metadata": {},
   "source": [
    "- Author: Ben Du\n",
    "- Date: 2021-01-04 09:59:49\n",
    "- Title: Path Pattern Matching in Python\n",
    "- Slug: path-pattern-matching-in-python\n",
    "- Category: Computer Science\n",
    "- Tags: Computer Science, programming\n",
    "- Modified: 2021-01-04 09:59:49\n"
   ]
  },
  {
   "source": [
    " ** Things on this page are fragmentary and immature notes/thoughts of the author. Please read with your own judgement! **  "
   ],
   "cell_type": "markdown",
   "metadata": {}
  },
  {
   "source": [
    "## Tips and Traps\n",
    "\n",
    "1. Pathspec is preferred over zgitignore as the latter is not actively maintained."
   ],
   "cell_type": "markdown",
   "metadata": {}
  },
  {
   "source": [
    "## [pathspec](https://github.com/cpburnz/python-path-specification)\n",
    "\n",
    "[pathspec](https://github.com/cpburnz/python-path-specification)\n",
    "is a utility library for `gitignore` style pattern matching of file paths."
   ],
   "cell_type": "markdown",
   "metadata": {}
  },
  {
   "source": [
    "## [zgitignore](https://github.com/zb3/zgitignore)\n",
    "\n",
    "[zgitignore](https://github.com/zb3/zgitignore)\n",
    "checks if a file is ignored by a `.zgitignore` file \n",
    "(which is compatible with a .gitignore file).\n"
   ],
   "cell_type": "markdown",
   "metadata": {}
  },
  {
   "source": [
    "## [fnmatch](https://docs.python.org/3/library/fnmatch.html)\n",
    "\n",
    "This module provides support for Unix shell-style wildcards, \n",
    "which are not the same as regular expressions (which are documented in the re module).\n"
   ],
   "cell_type": "markdown",
   "metadata": {}
  },
  {
   "source": [
    "## [pathlib.Path.glob](https://docs.python.org/3/library/pathlib.html#pathlib.Path.glob) or [glob](https://docs.python.org/3/library/glob.html#module-glob)\n",
    "\n",
    "The glob module finds all the pathnames matching a specified pattern \n",
    "according to the rules used by the Unix shell, \n",
    "although results are returned in arbitrary order. \n",
    "No tilde expansion is done, but `*`, `?`, \n",
    "and character ranges expressed with [] will be correctly matched. \n",
    "This is done by using the `os.scandir()` and `fnmatch.fnmatch()` functions in concert, \n",
    "and not by actually invoking a subshell. \n",
    "Note that unlike `fnmatch.fnmatch()`, \n",
    "`glob` treats filenames beginning with a dot (.) as special cases. \n",
    "(For tilde and shell variable expansion, use `os.path.expanduser()` and `os.path.expandvars()`.)"
   ],
   "cell_type": "markdown",
   "metadata": {}
  },
  {
   "source": [
    "## References \n",
    "\n",
    "https://github.com/cpburnz/python-path-specification\n",
    "\n",
    "https://github.com/zb3/zgitignore\n",
    "\n",
    "https://docs.python.org/3/library/fnmatch.html\n",
    "\n",
    "https://docs.python.org/3/library/pathlib.html#pathlib.Path.glob\n",
    "\n",
    "https://docs.python.org/3/library/glob.html#module-glob"
   ],
   "cell_type": "markdown",
   "metadata": {}
  },
  {
   "cell_type": "code",
   "execution_count": null,
   "metadata": {},
   "outputs": [],
   "source": []
  }
 ]
}