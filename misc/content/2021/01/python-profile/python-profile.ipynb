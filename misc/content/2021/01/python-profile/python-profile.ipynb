{
 "cells": [
  {
   "cell_type": "markdown",
   "metadata": {},
   "source": [
    "- Title: Profile Performance of Python Applications\n",
    "- Slug: python-profile\n",
    "- Date: 2021-01-07 12:34:11\n",
    "- Category: Computer Science\n",
    "- Tags: programming, Python, profile, cProfile, importtime, tuna, SnakeViz, pyperf, performance, pyperformance\n",
    "- Author: Ben Du\n",
    "- Modified: 2021-07-16 16:36:42\n"
   ]
  },
  {
   "cell_type": "markdown",
   "metadata": {},
   "source": [
    "## Tips\n",
    "\n",
    "1. `cProfile` (implemented in C) is preferred over `profile` (implemented in Python).\n",
    "    \n",
    "2. The profiler modules (`cProfile` and `profile`) and tools based on them \n",
    "    (e.g., `%prun` and `%%prun` for notebook)\n",
    "    are designed to provide an execution profile for a given program, \n",
    "    not for benchmarking purposes \n",
    "    (for that, there is `time` and `timeit` for reasonably accurate results). \n",
    "    This particularly applies to benchmarking Python code against C code: \n",
    "    the profilers introduce overhead for Python code, \n",
    "    but not for C-level functions, \n",
    "    and so the C code would seem faster than any Python one.\n",
    "    Overall, \n",
    "    the profiler modules and tools based on them \n",
    "    (e.g., `%prun` and `%%prun` for notebooks)\n",
    "    might slow down your Python code up to 3 times.\n"
   ]
  },
  {
   "cell_type": "markdown",
   "metadata": {},
   "source": [
    "## time.time_ns\n",
    "\n",
    "You can use `time.time_ns` (since Python 3.7+) to get the current system time in nanoseconds.\n",
    "This can be used to measuree the performance of Python code."
   ]
  },
  {
   "cell_type": "code",
   "execution_count": 3,
   "metadata": {},
   "outputs": [
    {
     "name": "stdout",
     "output_type": "stream",
     "text": [
      "Time used: 0.0016448 seconds\n"
     ]
    }
   ],
   "source": [
    "import time\n",
    "import math\n",
    "\n",
    "begin_time = time.time_ns()\n",
    "for i in range(10000):\n",
    "    math.sqrt(i)\n",
    "end_time = time.time_ns()\n",
    "print(\"Time used:\", (end_time - begin_time) / 1E9, \"seconds\")"
   ]
  },
  {
   "source": [
    "## timeit.timeit\n",
    "\n",
    "Notice that `timeit.timeit` runs a statement 1 million times to benchmark it by default. \n",
    "This iss probably not what you want most of the time\n",
    "especially when you have a long running task to benchmark.\n",
    "Do NOT forget to set the `number` parameter to an appropriate value \n",
    "when you call `timeit.timeit`."
   ],
   "cell_type": "markdown",
   "metadata": {}
  },
  {
   "cell_type": "code",
   "execution_count": 7,
   "metadata": {},
   "outputs": [
    {
     "output_type": "execute_result",
     "data": {
      "text/plain": [
       "0.001551997"
      ]
     },
     "metadata": {},
     "execution_count": 7
    }
   ],
   "source": [
    "import timeit\n",
    "import time\n",
    "import math\n",
    "\n",
    "\n",
    "def sqrts():\n",
    "    for i in range(10_000):\n",
    "        math.sqrt(i)\n",
    "\n",
    "\n",
    "timeit.timeit(sqrts, timer=time.perf_counter_ns, number=1) / 1E9"
   ]
  },
  {
   "cell_type": "markdown",
   "metadata": {},
   "source": [
    "## cProfile.run\n",
    "\n",
    "This function takes a single argument that can be passed to the exec() function, and an optional file name. In all cases this routine executes:\n",
    "\n",
    "exec(command, __main__.__dict__, __main__.__dict__)\n",
    "and gathers profiling statistics from the execution. If no file name is present, then this function automatically creates a Stats instance and prints a simple profiling report. If the sort value is specified, it is passed to this Stats instance to control how the results are sorted."
   ]
  },
  {
   "cell_type": "code",
   "execution_count": 1,
   "metadata": {},
   "outputs": [
    {
     "name": "stdout",
     "output_type": "stream",
     "text": [
      "         214 function calls (207 primitive calls) in 0.000 seconds\n",
      "\n",
      "   Ordered by: standard name\n",
      "\n",
      "   ncalls  tottime  percall  cumtime  percall filename:lineno(function)\n",
      "        1    0.000    0.000    0.000    0.000 <string>:1(<module>)\n",
      "        2    0.000    0.000    0.000    0.000 enum.py:284(__call__)\n",
      "        2    0.000    0.000    0.000    0.000 enum.py:526(__new__)\n",
      "        1    0.000    0.000    0.000    0.000 enum.py:836(__and__)\n",
      "        1    0.000    0.000    0.000    0.000 re.py:232(compile)\n",
      "        1    0.000    0.000    0.000    0.000 re.py:271(_compile)\n",
      "        1    0.000    0.000    0.000    0.000 sre_compile.py:249(_compile_charset)\n",
      "        1    0.000    0.000    0.000    0.000 sre_compile.py:276(_optimize_charset)\n",
      "        2    0.000    0.000    0.000    0.000 sre_compile.py:453(_get_iscased)\n",
      "        1    0.000    0.000    0.000    0.000 sre_compile.py:461(_get_literal_prefix)\n",
      "        1    0.000    0.000    0.000    0.000 sre_compile.py:492(_get_charset_prefix)\n",
      "        1    0.000    0.000    0.000    0.000 sre_compile.py:536(_compile_info)\n",
      "        2    0.000    0.000    0.000    0.000 sre_compile.py:595(isstring)\n",
      "        1    0.000    0.000    0.000    0.000 sre_compile.py:598(_code)\n",
      "      3/1    0.000    0.000    0.000    0.000 sre_compile.py:71(_compile)\n",
      "        1    0.000    0.000    0.000    0.000 sre_compile.py:759(compile)\n",
      "        3    0.000    0.000    0.000    0.000 sre_parse.py:111(__init__)\n",
      "        7    0.000    0.000    0.000    0.000 sre_parse.py:160(__len__)\n",
      "       18    0.000    0.000    0.000    0.000 sre_parse.py:164(__getitem__)\n",
      "        7    0.000    0.000    0.000    0.000 sre_parse.py:172(append)\n",
      "      3/1    0.000    0.000    0.000    0.000 sre_parse.py:174(getwidth)\n",
      "        1    0.000    0.000    0.000    0.000 sre_parse.py:224(__init__)\n",
      "        8    0.000    0.000    0.000    0.000 sre_parse.py:233(__next)\n",
      "        2    0.000    0.000    0.000    0.000 sre_parse.py:249(match)\n",
      "        6    0.000    0.000    0.000    0.000 sre_parse.py:254(get)\n",
      "        1    0.000    0.000    0.000    0.000 sre_parse.py:286(tell)\n",
      "        1    0.000    0.000    0.000    0.000 sre_parse.py:417(_parse_sub)\n",
      "        2    0.000    0.000    0.000    0.000 sre_parse.py:475(_parse)\n",
      "        1    0.000    0.000    0.000    0.000 sre_parse.py:76(__init__)\n",
      "        2    0.000    0.000    0.000    0.000 sre_parse.py:81(groups)\n",
      "        1    0.000    0.000    0.000    0.000 sre_parse.py:903(fix_flags)\n",
      "        1    0.000    0.000    0.000    0.000 sre_parse.py:919(parse)\n",
      "        1    0.000    0.000    0.000    0.000 {built-in method _sre.compile}\n",
      "        1    0.000    0.000    0.000    0.000 {built-in method builtins.exec}\n",
      "       25    0.000    0.000    0.000    0.000 {built-in method builtins.isinstance}\n",
      "    29/26    0.000    0.000    0.000    0.000 {built-in method builtins.len}\n",
      "        2    0.000    0.000    0.000    0.000 {built-in method builtins.max}\n",
      "        9    0.000    0.000    0.000    0.000 {built-in method builtins.min}\n",
      "        6    0.000    0.000    0.000    0.000 {built-in method builtins.ord}\n",
      "       48    0.000    0.000    0.000    0.000 {method 'append' of 'list' objects}\n",
      "        1    0.000    0.000    0.000    0.000 {method 'disable' of '_lsprof.Profiler' objects}\n",
      "        5    0.000    0.000    0.000    0.000 {method 'find' of 'bytearray' objects}\n",
      "        1    0.000    0.000    0.000    0.000 {method 'items' of 'dict' objects}\n",
      "\n",
      "\n"
     ]
    }
   ],
   "source": [
    "import cProfile\n",
    "import re\n",
    "cProfile.run('re.compile(\"foo|bar\")')"
   ]
  },
  {
   "cell_type": "markdown",
   "metadata": {},
   "source": [
    "ncalls\n",
    "for the number of calls.\n",
    "\n",
    "tottime\n",
    "for the total time spent in the given function (and excluding time made in calls to sub-functions)\n",
    "\n",
    "percall\n",
    "is the quotient of tottime divided by ncalls\n",
    "\n",
    "cumtime\n",
    "is the cumulative time spent in this and all subfunctions (from invocation till exit). This figure is accurate even for recursive functions.\n",
    "\n",
    "percall\n",
    "is the quotient of cumtime divided by primitive calls\n",
    "\n",
    "filename:lineno(function)\n",
    "provides the respective data of each function"
   ]
  },
  {
   "cell_type": "markdown",
   "metadata": {},
   "source": [
    "When there are two numbers in the first column (for example 3/1), it means that the function recursed. The second value is the number of primitive calls and the former is the total number of calls. Note that when the function does not recurse, these two values are the same, and only the single figure is printed."
   ]
  },
  {
   "cell_type": "markdown",
   "metadata": {},
   "source": [
    "Instead of printing the output at the end of the profile run, you can save the results to a file by specifying a filename to the run() function:"
   ]
  },
  {
   "cell_type": "code",
   "execution_count": 2,
   "metadata": {},
   "outputs": [],
   "source": [
    "import cProfile\n",
    "import re\n",
    "cProfile.run('re.compile(\"foo|bar\")', 'restats')"
   ]
  },
  {
   "cell_type": "code",
   "execution_count": 3,
   "metadata": {},
   "outputs": [
    {
     "name": "stdout",
     "output_type": "stream",
     "text": [
      "\ufffd)\u0003\ufffd\u0001~\ufffd\u0000\u0000\u0000\u0000\ufffd\u001f<built-in method builtins.exec>)\u0005\ufffd\u0001\u0000\u0000\u0000r\u0004\u0000\u0000\u0000g\ufffd\ufffd\ufffd\ufffd\ufffd\ufffd\ufffd>g\ufffd&\ufffd|\ufffd\u0011\ufffd>{0)\u0003r\u0001\u0000\u0000\u0000r\u0002\u0000\u0000\u0000\ufffd%<built-in method builtins.isinstance>)\u0005r\u0004\u0000\u0000\u0000r\u0004\u0000\u0000\u0000g\ufffd\ufffd\ufffd\ufffd\ufffd\u01b0>g\ufffd\ufffd\ufffd\ufffd\ufffd\u01b0>{)\u0003\ufffd\u0018/usr/lib/python3.7/re.pyi\u000f\u0001\u0000\u0000_compile)\u0004r\u0004\u0000\u0000\u0000r\u0004\u0000\u0000\u0000g\ufffd\ufffd\ufffd\ufffd\ufffd\u01b0>g\ufffd\ufffd\ufffd\ufffd\ufffd\u01b0>0)\u0003<string>r\u0004\u0000\u0000\u0000<module>)\u0005r\u0004\u0000\u0000\u0000r\u0004\u0000\u0000\u0000g\ufffd\ufffd\ufffd\ufffd\ufffd\u01b0>gT\ufffd\u0010qs*\ufffd>{)\u0003r\u0001\u0000\u0000\u0000r\u0002\u0000\u0000\u0000r\u0003\u0000\u0000\u0000)\u0004r\u0004\u0000\u0000\u0000r\u0004\u0000\u0000\u0000g\ufffd\ufffd\ufffd\ufffd\ufffd\u01b0>gT\ufffd\u0010qs*\ufffd>0)\u0003r\u0001\u0000\u0000\u0000r\u0002\u0000\u0000\u0000\ufffd0<method 'disable' of '_lsprof.Profiler' objects>)\u0005r\u0004\u0000\u0000\u0000r\u0004\u0000\u0000\u0000g\u0000\u0000\u0000\u0000\u0000\u0000\u0000\u0000g\u0000\u0000\u0000\u0000\u0000\u0000\u0000\u0000{0)\u0003r\u0006\u0000\u0000\u0000\ufffd\ufffd\u0000\u0000\u0000\ufffd\u0007compile)\u0005r\u0004\u0000\u0000\u0000r\u0004\u0000\u0000\u0000g\ufffd\ufffd\ufffd\ufffd\ufffd\u01b0>g\ufffdh\u3235\ufffd\ufffd>{)\u0003\u0000\u0000\u0000r\u0004\u0000\u0000\u0000r\t\u0000\u0000\u0000)\u0004r\u0004\u0000\u0000\u0000r\u0004\u0000\u0000\u0000g\ufffd\ufffd\ufffd\ufffd\ufffd\u01b0>g\ufffdh\u3235\ufffd\ufffd>0)\u0003r\u0006\u0000\u0000\u0000i\u000f\u0001\u0000\u0000r\u0007\u0000\u0000\u0000)\u0005r\u0004\u0000\u0000\u0000r\u0004\u0000\u0000\u0000gT\ufffd\u0010qs*\ufffd>g\ufffd\ufffd\ufffd\ufffd\ufffd\ufffd\ufffd>{)\u0003r\u0006\u0000\u0000\u0000r\u000b",
      "\u0000\u0000\u0000r\f",
      "\u0000\u0000\u0000)\u0004r\u0004\u0000\u0000\u0000r\u0004\u0000\u0000\u0000gT\ufffd\u0010qs*\ufffd>g\ufffd\ufffd\ufffd\ufffd\ufffd\ufffd\ufffd>00"
     ]
    }
   ],
   "source": [
    "!cat restats"
   ]
  },
  {
   "cell_type": "markdown",
   "metadata": {},
   "source": [
    "The pstats.Stats class reads profile results from a file and formats them in various ways."
   ]
  },
  {
   "cell_type": "code",
   "execution_count": 5,
   "metadata": {},
   "outputs": [
    {
     "name": "stdout",
     "output_type": "stream",
     "text": [
      "Fri Mar 13 11:00:31 2020    restats\n",
      "\n",
      "         6 function calls in 0.000 seconds\n",
      "\n",
      "   Random listing order was used\n",
      "\n",
      "   ncalls  tottime  percall  cumtime  percall filename:lineno(function)\n",
      "        1    0.000    0.000    0.000    0.000 {built-in method builtins.exec}\n",
      "        1    0.000    0.000    0.000    0.000 {built-in method builtins.isinstance}\n",
      "        1    0.000    0.000    0.000    0.000 <string>:1(<module>)\n",
      "        1    0.000    0.000    0.000    0.000 {method 'disable' of '_lsprof.Profiler' objects}\n",
      "        1    0.000    0.000    0.000    0.000 /usr/lib/python3.7/re.py:232(compile)\n",
      "        1    0.000    0.000    0.000    0.000 /usr/lib/python3.7/re.py:271(_compile)\n",
      "\n",
      "\n"
     ]
    },
    {
     "data": {
      "text/plain": [
       "<pstats.Stats at 0x7f4dc9f656a0>"
      ]
     },
     "execution_count": 5,
     "metadata": {},
     "output_type": "execute_result"
    }
   ],
   "source": [
    "import pstats\n",
    "\n",
    "pstats.Stats(\"restats\").print_stats()"
   ]
  },
  {
   "cell_type": "markdown",
   "metadata": {},
   "source": [
    "## cProfile in Command-line"
   ]
  },
  {
   "cell_type": "code",
   "execution_count": null,
   "metadata": {},
   "outputs": [],
   "source": [
    "The file cProfile can also be invoked as a script to profile another script. For example:"
   ]
  },
  {
   "cell_type": "code",
   "execution_count": 8,
   "metadata": {},
   "outputs": [
    {
     "name": "stdout",
     "output_type": "stream",
     "text": [
      "Usage: cProfile.py [-o output_file_path] [-s sort] [-m module | scriptfile] [arg] ...\n",
      "\n",
      "Options:\n",
      "  -h, --help            show this help message and exit\n",
      "  -o OUTFILE, --outfile=OUTFILE\n",
      "                        Save stats to <outfile>\n",
      "  -s SORT, --sort=SORT  Sort order when printing to stdout, based on\n",
      "                        pstats.Stats class\n",
      "  -m                    Profile a library module\n"
     ]
    }
   ],
   "source": [
    "!python3 -m cProfile -h"
   ]
  },
  {
   "source": [
    "## [scalene](https://github.com/emeryberger/scalene)\n",
    "\n",
    "[scalene](https://github.com/emeryberger/scalene)\n",
    "is a high-performance CPU, GPU and memory profiler for Python \n",
    "that does a number of things that other Python profilers do not and cannot do. \n",
    "It runs orders of magnitude faster than other profilers while delivering far more detailed information.\n"
   ],
   "cell_type": "markdown",
   "metadata": {}
  },
  {
   "source": [
    "## [pyperf](https://github.com/psf/pyperf)\n",
    "\n",
    "The Python pyperf module is a toolkit to write, run and analyze benchmarks."
   ],
   "cell_type": "markdown",
   "metadata": {}
  },
  {
   "cell_type": "markdown",
   "metadata": {},
   "source": [
    "## [line_profiler](https://github.com/pyutils/line_profiler)"
   ]
  },
  {
   "cell_type": "markdown",
   "metadata": {},
   "source": [
    "## SnakeViz"
   ]
  },
  {
   "cell_type": "markdown",
   "metadata": {},
   "source": [
    "### Installation"
   ]
  },
  {
   "cell_type": "code",
   "execution_count": 10,
   "metadata": {},
   "outputs": [
    {
     "name": "stdout",
     "output_type": "stream",
     "text": [
      "Requirement already satisfied: snakeviz in /home/dclong/.local/lib/python3.7/site-packages (2.0.1)\n",
      "Requirement already satisfied: tornado>=2.0 in /usr/local/lib/python3.7/dist-packages (from snakeviz) (6.0.4)\n"
     ]
    }
   ],
   "source": [
    "!pip3 install snakeviz"
   ]
  },
  {
   "cell_type": "code",
   "execution_count": 13,
   "metadata": {},
   "outputs": [
    {
     "name": "stdout",
     "output_type": "stream",
     "text": [
      "usage: snakeviz [-h] [-v] [-H ADDR] [-p PORT] [-b BROWSER_PATH] [-s] filename\n",
      "\n",
      "Start SnakeViz to view a Python profile.\n",
      "\n",
      "positional arguments:\n",
      "  filename              Python profile to view\n",
      "\n",
      "optional arguments:\n",
      "  -h, --help            show this help message and exit\n",
      "  -v, --version         show program's version number and exit\n",
      "  -H ADDR, --hostname ADDR\n",
      "                        hostname to bind to (default: 127.0.0.1)\n",
      "  -p PORT, --port PORT  port to bind to; if this port is already in use a free\n",
      "                        port will be selected automatically (default: 8080)\n",
      "  -b BROWSER_PATH, --browser BROWSER_PATH\n",
      "                        name of webbrowser to launch as described in the\n",
      "                        documentation of Python's webbrowser module:\n",
      "                        https://docs.python.org/3/library/webbrowser.html\n",
      "  -s, --server          start SnakeViz in server-only mode--no attempt will be\n",
      "                        made to open a browser\n"
     ]
    }
   ],
   "source": [
    "!~/.local/bin/snakeviz -h"
   ]
  },
  {
   "cell_type": "markdown",
   "metadata": {},
   "source": [
    "## Tuna\n",
    "\n",
    "Tuna is a very similar tool to SnakeViz but not as good as SnakeViz."
   ]
  },
  {
   "source": [
    "## [pyperformance](https://github.com/python/pyperformance)\n",
    "\n",
    "The pyperformance project is intended to be \n",
    "an authoritative source of benchmarks for all Python implementations. \n",
    "The focus is on real-world benchmarks, \n",
    "rather than synthetic benchmarks, using whole applications when possible."
   ],
   "cell_type": "markdown",
   "metadata": {}
  },
  {
   "cell_type": "markdown",
   "metadata": {},
   "source": [
    "## Profiling Importing Time\n",
    "\n",
    "https://docs.python.org/3/using/cmdline.html#envvar-PYTHONPROFILEIMPORTTIME\n",
    "\n",
    "python3 -X importtime your_code.py"
   ]
  },
  {
   "cell_type": "markdown",
   "metadata": {},
   "source": [
    "## References\n",
    "\n",
    "[Python Profiler for JupyterLab Notebooks](http://www.legendu.net/misc/blog/python-profile-notebook/)\n",
    "\n",
    "https://docs.python.org/3/library/time.html#module-time\n",
    "\n",
    "https://vstinner.github.io/python37-pep-564-nanoseconds.html\n",
    "\n",
    "[Python Debugging and Profiling](https://pygobject.readthedocs.io/en/latest/guide/debug_profile.html)\n",
    "\n",
    "[How can you profile a Python script?](https://stackoverflow.com/questions/582336/how-can-you-profile-a-python-script)\n",
    "\n",
    "https://docs.python.org/3.7/library/profile.html\n",
    "\n",
    "https://docs.python.org/3.7/library/profile.html#pstats.Stats\n",
    "\n",
    "https://github.com/jiffyclub/snakeviz\n",
    "\n",
    "https://jiffyclub.github.io/snakeviz/\n",
    "\n",
    "https://julien.danjou.info/guide-to-python-profiling-cprofile-concrete-case-carbonara/\n",
    "\n",
    "https://www.integralist.co.uk/posts/profiling-python/\n",
    "\n",
    "https://rivolaks.com/posts/profiling-python/\n",
    "\n",
    "https://github.com/nschloe/tuna\n"
   ]
  },
  {
   "cell_type": "code",
   "execution_count": null,
   "metadata": {},
   "outputs": [],
   "source": []
  }
 ],
 "metadata": {
  "kernelspec": {
   "display_name": "Python 3",
   "language": "python",
   "name": "python3"
  },
  "language_info": {
   "codemirror_mode": {
    "name": "ipython",
    "version": 3
   },
   "file_extension": ".py",
   "mimetype": "text/x-python",
   "name": "python",
   "nbconvert_exporter": "python",
   "pygments_lexer": "ipython3",
   "version": "3.8.6-final"
  }
 },
 "nbformat": 4,
 "nbformat_minor": 4
}