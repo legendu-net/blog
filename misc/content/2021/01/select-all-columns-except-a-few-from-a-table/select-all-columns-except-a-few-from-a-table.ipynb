{
 "cells": [
  {
   "cell_type": "markdown",
   "metadata": {},
   "source": [
    "- Author: Ben Du\n",
    "- Date: 2021-01-10 13:04:59\n",
    "- Title: Select All Columns Except a Few from a Table\n",
    "- Slug: select-all-columns-except-a-few-from-a-table\n",
    "- Category: Computer Science\n",
    "- Tags: Computer Science, programming, Python, select, all, except, Spark, PySpark\n",
    "- Modified: 2021-01-10 13:04:59\n"
   ]
  },
  {
   "cell_type": "markdown",
   "metadata": {},
   "source": [
    " ** Things on this page are fragmentary and immature notes/thoughts of the author. Please read with your own judgement! **  "
   ]
  },
  {
   "cell_type": "markdown",
   "metadata": {},
   "source": [
    "## Comments\n",
    "\n",
    "There is no (direct) way of select all columns except a few from a table using SQL.\n",
    "However, \n",
    "this is easily doable with DataFrame APIs (pandas, Spark/PySpark, etc.)."
   ]
  },
  {
   "cell_type": "code",
   "execution_count": 1,
   "metadata": {},
   "outputs": [],
   "source": [
    "import pandas as pd\n",
    "import findspark\n",
    "findspark.init(\"/opt/spark-3.0.1-bin-hadoop3.2/\")\n",
    "\n",
    "from pyspark.sql import SparkSession, DataFrame\n",
    "from pyspark.sql.functions import *\n",
    "from pyspark.sql.types import StructType\n",
    "spark = SparkSession.builder.appName(\"Case/When\") \\\n",
    "    .enableHiveSupport().getOrCreate()"
   ]
  },
  {
   "cell_type": "code",
   "execution_count": 2,
   "metadata": {},
   "outputs": [
    {
     "name": "stdout",
     "output_type": "stream",
     "text": [
      "+-----+-----+-----+\n",
      "|fname|lname|score|\n",
      "+-----+-----+-----+\n",
      "|  Ben|   Du|    1|\n",
      "|  Ben|   Du|    2|\n",
      "|  Ben|   Tu|    3|\n",
      "|  Ben|   Tu|    4|\n",
      "|  Ken|   Xu|    1|\n",
      "|  Ken|   Xu|    9|\n",
      "+-----+-----+-----+\n",
      "\n"
     ]
    }
   ],
   "source": [
    "df = spark.createDataFrame(\n",
    "    pd.DataFrame(\n",
    "        data=(\n",
    "            (\"Ben\", \"Du\", 1), (\"Ben\", \"Du\", 2), (\"Ben\", \"Tu\", 3), (\"Ben\", \"Tu\", 4),\n",
    "            (\"Ken\", \"Xu\", 1), (\"Ken\", \"Xu\", 9)\n",
    "        ),\n",
    "        columns=(\"fname\", \"lname\", \"score\")\n",
    "    )\n",
    ")\n",
    "df.show()"
   ]
  },
  {
   "cell_type": "markdown",
   "metadata": {},
   "source": [
    "Select all columns except `score`."
   ]
  },
  {
   "cell_type": "code",
   "execution_count": 4,
   "metadata": {},
   "outputs": [
    {
     "name": "stdout",
     "output_type": "stream",
     "text": [
      "+-----+-----+\n",
      "|fname|lname|\n",
      "+-----+-----+\n",
      "|  Ben|   Du|\n",
      "|  Ben|   Du|\n",
      "|  Ben|   Tu|\n",
      "|  Ben|   Tu|\n",
      "|  Ken|   Xu|\n",
      "|  Ken|   Xu|\n",
      "+-----+-----+\n",
      "\n"
     ]
    }
   ],
   "source": [
    "df.select(*[col for col in df.columns if col not in (\"score\")]).show()"
   ]
  },
  {
   "cell_type": "markdown",
   "metadata": {},
   "source": [
    "### Reference\n",
    "\n",
    "http://renien.com/blog/exclude-field-hive-query/ \n",
    "\n",
    "https://stackoverflow.com/questions/34198114/alter-hive-table-add-or-drop-column"
   ]
  }
 ],
 "metadata": {
  "file_extension": ".py",
  "kernelspec": {
   "display_name": "Python 3",
   "language": "python",
   "name": "python3"
  },
  "language_info": {
   "codemirror_mode": {
    "name": "ipython",
    "version": 3
   },
   "file_extension": ".py",
   "mimetype": "text/x-python",
   "name": "python",
   "nbconvert_exporter": "python",
   "pygments_lexer": "ipython3",
   "version": "3.8.5"
  },
  "mimetype": "text/x-python",
  "name": "python",
  "npconvert_exporter": "python",
  "pygments_lexer": "ipython3",
  "version": 3
 },
 "nbformat": 4,
 "nbformat_minor": 4
}