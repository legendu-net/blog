{
 "cells": [
  {
   "cell_type": "markdown",
   "metadata": {},
   "source": [
    "- Author: Ben Du\n",
    "- Date: 2021-01-15 11:02:39\n",
    "- Title: Tips on docker-py Library\n",
    "- Slug: tips-on-docker-py-library\n",
    "- Category: Computer Science\n",
    "- Tags: Computer Science, programming, Python, Docker, docker-py, container\n",
    "- Modified: 2021-02-15 11:02:39\n"
   ]
  },
  {
   "cell_type": "markdown",
   "metadata": {},
   "source": [
    " ** Things on this page are fragmentary and immature notes/thoughts of the author. Please read with your own judgement! **  "
   ]
  },
  {
   "cell_type": "code",
   "execution_count": 3,
   "metadata": {},
   "outputs": [],
   "source": [
    "import docker"
   ]
  },
  {
   "cell_type": "markdown",
   "metadata": {},
   "source": [
    "## Get a Container"
   ]
  },
  {
   "cell_type": "code",
   "execution_count": 4,
   "metadata": {},
   "outputs": [],
   "source": [
    "client = docker.from_env()"
   ]
  },
  {
   "cell_type": "code",
   "execution_count": 6,
   "metadata": {},
   "outputs": [
    {
     "data": {
      "text/plain": [
       "[<Container: 2b5cdb0477>]"
      ]
     },
     "execution_count": 6,
     "metadata": {},
     "output_type": "execute_result"
    }
   ],
   "source": [
    "client.containers.list()"
   ]
  },
  {
   "cell_type": "markdown",
   "metadata": {},
   "source": [
    "Get a container by ID."
   ]
  },
  {
   "cell_type": "code",
   "execution_count": 7,
   "metadata": {},
   "outputs": [
    {
     "data": {
      "text/plain": [
       "<Container: 2b5cdb0477>"
      ]
     },
     "execution_count": 7,
     "metadata": {},
     "output_type": "execute_result"
    }
   ],
   "source": [
    "client.containers.get(\"2b5cdb0477\")"
   ]
  },
  {
   "cell_type": "markdown",
   "metadata": {},
   "source": [
    "Get a container by name."
   ]
  },
  {
   "cell_type": "code",
   "execution_count": 8,
   "metadata": {},
   "outputs": [
    {
     "data": {
      "text/plain": [
       "<Container: 2b5cdb0477>"
      ]
     },
     "execution_count": 8,
     "metadata": {},
     "output_type": "execute_result"
    }
   ],
   "source": [
    "client.containers.get(\"nervous_germain\")"
   ]
  },
  {
   "cell_type": "code",
   "execution_count": 9,
   "metadata": {},
   "outputs": [
    {
     "data": {
      "text/plain": [
       "['__class__',\n",
       " '__delattr__',\n",
       " '__dict__',\n",
       " '__dir__',\n",
       " '__doc__',\n",
       " '__eq__',\n",
       " '__format__',\n",
       " '__ge__',\n",
       " '__getattribute__',\n",
       " '__gt__',\n",
       " '__hash__',\n",
       " '__init__',\n",
       " '__init_subclass__',\n",
       " '__le__',\n",
       " '__lt__',\n",
       " '__module__',\n",
       " '__ne__',\n",
       " '__new__',\n",
       " '__reduce__',\n",
       " '__reduce_ex__',\n",
       " '__repr__',\n",
       " '__setattr__',\n",
       " '__sizeof__',\n",
       " '__str__',\n",
       " '__subclasshook__',\n",
       " '__weakref__',\n",
       " 'attach',\n",
       " 'attach_socket',\n",
       " 'attrs',\n",
       " 'client',\n",
       " 'collection',\n",
       " 'commit',\n",
       " 'diff',\n",
       " 'exec_run',\n",
       " 'export',\n",
       " 'get_archive',\n",
       " 'id',\n",
       " 'id_attribute',\n",
       " 'image',\n",
       " 'kill',\n",
       " 'labels',\n",
       " 'logs',\n",
       " 'name',\n",
       " 'pause',\n",
       " 'ports',\n",
       " 'put_archive',\n",
       " 'reload',\n",
       " 'remove',\n",
       " 'rename',\n",
       " 'resize',\n",
       " 'restart',\n",
       " 'short_id',\n",
       " 'start',\n",
       " 'stats',\n",
       " 'status',\n",
       " 'stop',\n",
       " 'top',\n",
       " 'unpause',\n",
       " 'update',\n",
       " 'wait']"
      ]
     },
     "execution_count": 9,
     "metadata": {},
     "output_type": "execute_result"
    }
   ],
   "source": [
    "dir(client.containers.get(\"nervous_germain\"))"
   ]
  },
  {
   "cell_type": "code",
   "execution_count": 10,
   "metadata": {},
   "outputs": [],
   "source": [
    "client.containers.get(\"nervous_germain\").stop()"
   ]
  },
  {
   "cell_type": "markdown",
   "metadata": {},
   "source": [
    "## Pushing Docker Images\n",
    "\n",
    "The `stream=True` option streams the output as a blocking generator,\n",
    "which is much eaiser to parse. \n",
    "The option `decode=True` decodes the blocking output as a dict,\n",
    "which makes it easie to parse. \n",
    "You can refer to [dsutil.docker](https://github.com/dclong/dsutil/blob/dev/dsutil/docker/builder.py)\n",
    "for a real example of parsing the streaming output of pushing Docker images using docker-py."
   ]
  },
  {
   "cell_type": "code",
   "execution_count": null,
   "metadata": {},
   "outputs": [],
   "source": [
    "client = docker.from_env()\n",
    "for line in client.images.push(\n",
    "    \"dclong/jupyterhub-ds\", \"latest\", stream=True, decode=True\n",
    "):\n",
    "    print(line)"
   ]
  },
  {
   "cell_type": "markdown",
   "metadata": {},
   "source": [
    "## References \n",
    "\n",
    "https://github.com/docker/docker-py\n",
    "\n",
    "https://docker-py.readthedocs.io/en/stable/index.html"
   ]
  },
  {
   "cell_type": "code",
   "execution_count": null,
   "metadata": {},
   "outputs": [],
   "source": []
  }
 ],
 "metadata": {
  "file_extension": ".py",
  "kernelspec": {
   "display_name": "Python 3",
   "language": "python",
   "name": "python3"
  },
  "language_info": {
   "codemirror_mode": {
    "name": "ipython",
    "version": 3
   },
   "file_extension": ".py",
   "mimetype": "text/x-python",
   "name": "python",
   "nbconvert_exporter": "python",
   "pygments_lexer": "ipython3",
   "version": "3.8.6-final"
  },
  "mimetype": "text/x-python",
  "name": "python",
  "npconvert_exporter": "python",
  "pygments_lexer": "ipython3",
  "version": 3
 },
 "nbformat": 4,
 "nbformat_minor": 4
}