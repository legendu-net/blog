{
 "nbformat": 4,
 "nbformat_minor": 2,
 "metadata": {
  "language_info": {
   "name": "python",
   "codemirror_mode": {
    "name": "ipython",
    "version": 3
   },
   "version": "3.9.4-final"
  },
  "orig_nbformat": 2,
  "file_extension": ".py",
  "mimetype": "text/x-python",
  "name": "python",
  "npconvert_exporter": "python",
  "pygments_lexer": "ipython3",
  "version": 3,
  "kernelspec": {
   "name": "python3",
   "display_name": "Python 3",
   "language": "python"
  }
 },
 "cells": [
  {
   "cell_type": "markdown",
   "metadata": {},
   "source": [
    "- Author: Ben Du\n",
    "- Date: 2021-02-17 09:55:38\n",
    "- Title: Tips on Sqlfluff\n",
    "- Slug: tips-on-sqlfluff\n",
    "- Category: Computer Science\n",
    "- Tags: Computer Science, programming, sqlfluff, SQL, lint, linter, format, issue, error\n",
    "- Modified: 2021-04-17 09:55:38\n"
   ]
  },
  {
   "source": [
    "## Installation"
   ],
   "cell_type": "markdown",
   "metadata": {}
  },
  {
   "cell_type": "code",
   "execution_count": 2,
   "metadata": {},
   "outputs": [
    {
     "output_type": "stream",
     "name": "stdout",
     "text": [
      "Collecting sqlfluff\n",
      "  Downloading sqlfluff-0.5.2-py3-none-any.whl (278 kB)\n",
      "\u001b[K     |\u2588\u2588\u2588\u2588\u2588\u2588\u2588\u2588\u2588\u2588\u2588\u2588\u2588\u2588\u2588\u2588\u2588\u2588\u2588\u2588\u2588\u2588\u2588\u2588\u2588\u2588\u2588\u2588\u2588\u2588\u2588\u2588| 278 kB 2.9 MB/s \n",
      "\u001b[?25hRequirement already satisfied: pathspec in /usr/local/lib/python3.9/site-packages (from sqlfluff) (0.8.1)\n",
      "Collecting pytest\n",
      "  Downloading pytest-6.2.3-py3-none-any.whl (280 kB)\n",
      "\u001b[K     |\u2588\u2588\u2588\u2588\u2588\u2588\u2588\u2588\u2588\u2588\u2588\u2588\u2588\u2588\u2588\u2588\u2588\u2588\u2588\u2588\u2588\u2588\u2588\u2588\u2588\u2588\u2588\u2588\u2588\u2588\u2588\u2588| 280 kB 42.1 MB/s \n",
      "\u001b[?25hCollecting cached-property\n",
      "  Using cached cached_property-1.5.2-py2.py3-none-any.whl (7.6 kB)\n",
      "Collecting configparser\n",
      "  Downloading configparser-5.0.2-py3-none-any.whl (19 kB)\n",
      "Requirement already satisfied: Jinja2 in /usr/local/lib/python3.9/site-packages (from sqlfluff) (2.11.3)\n",
      "Collecting typing-extensions\n",
      "  Using cached typing_extensions-3.7.4.3-py3-none-any.whl (22 kB)\n",
      "Collecting diff-cover>=2.5.0\n",
      "  Downloading diff_cover-5.0.1-py3-none-any.whl (44 kB)\n",
      "\u001b[K     |\u2588\u2588\u2588\u2588\u2588\u2588\u2588\u2588\u2588\u2588\u2588\u2588\u2588\u2588\u2588\u2588\u2588\u2588\u2588\u2588\u2588\u2588\u2588\u2588\u2588\u2588\u2588\u2588\u2588\u2588\u2588\u2588| 44 kB 11.3 MB/s \n",
      "\u001b[?25hCollecting colorama>=0.3\n",
      "  Using cached colorama-0.4.4-py2.py3-none-any.whl (16 kB)\n",
      "Collecting bench-it\n",
      "  Using cached bench_it-1.0.1-py2.py3-none-any.whl (19 kB)\n",
      "Collecting oyaml\n",
      "  Using cached oyaml-1.0-py2.py3-none-any.whl (3.0 kB)\n",
      "Requirement already satisfied: click>=7.1 in /usr/local/lib/python3.9/site-packages (from sqlfluff) (7.1.2)\n",
      "Collecting appdirs\n",
      "  Using cached appdirs-1.4.4-py2.py3-none-any.whl (9.6 kB)\n",
      "Requirement already satisfied: chardet>=3.0.0 in /usr/local/lib/python3.9/site-packages (from diff-cover>=2.5.0->sqlfluff) (4.0.0)\n",
      "Collecting jinja2-pluralize\n",
      "  Using cached jinja2_pluralize-0.3.0-py2.py3-none-any.whl (4.8 kB)\n",
      "Collecting pluggy\n",
      "  Using cached pluggy-0.13.1-py2.py3-none-any.whl (18 kB)\n",
      "Requirement already satisfied: pygments in /usr/local/lib/python3.9/site-packages (from diff-cover>=2.5.0->sqlfluff) (2.7.2)\n",
      "Requirement already satisfied: MarkupSafe>=0.23 in /usr/local/lib/python3.9/site-packages (from Jinja2->sqlfluff) (1.1.1)\n",
      "Collecting inflect>=0.2.4\n",
      "  Downloading inflect-5.3.0-py3-none-any.whl (32 kB)\n",
      "Requirement already satisfied: pyyaml in /usr/local/lib/python3.9/site-packages (from oyaml->sqlfluff) (5.4.1)\n",
      "Requirement already satisfied: toml in /usr/local/lib/python3.9/site-packages (from pytest->sqlfluff) (0.10.2)\n",
      "Requirement already satisfied: attrs>=19.2.0 in /usr/local/lib/python3.9/site-packages (from pytest->sqlfluff) (20.3.0)\n",
      "Collecting iniconfig\n",
      "  Downloading iniconfig-1.1.1-py2.py3-none-any.whl (5.0 kB)\n",
      "Requirement already satisfied: packaging in /usr/local/lib/python3.9/site-packages (from pytest->sqlfluff) (20.9)\n",
      "Collecting py>=1.8.2\n",
      "  Downloading py-1.10.0-py2.py3-none-any.whl (97 kB)\n",
      "\u001b[K     |\u2588\u2588\u2588\u2588\u2588\u2588\u2588\u2588\u2588\u2588\u2588\u2588\u2588\u2588\u2588\u2588\u2588\u2588\u2588\u2588\u2588\u2588\u2588\u2588\u2588\u2588\u2588\u2588\u2588\u2588\u2588\u2588| 97 kB 12.8 MB/s \n",
      "\u001b[?25hRequirement already satisfied: pyparsing>=2.0.2 in /usr/local/lib/python3.9/site-packages (from packaging->pytest->sqlfluff) (2.4.7)\n",
      "Installing collected packages: inflect, py, pluggy, jinja2-pluralize, iniconfig, typing-extensions, pytest, oyaml, diff-cover, configparser, colorama, cached-property, bench-it, appdirs, sqlfluff\n",
      "Successfully installed appdirs-1.4.4 bench-it-1.0.1 cached-property-1.5.2 colorama-0.4.4 configparser-5.0.2 diff-cover-5.0.1 inflect-5.3.0 iniconfig-1.1.1 jinja2-pluralize-0.3.0 oyaml-1.0 pluggy-0.13.1 py-1.10.0 pytest-6.2.3 sqlfluff-0.5.2 typing-extensions-3.7.4.3\n"
     ]
    }
   ],
   "source": [
    "pip3 install -U sqlfluff"
   ]
  },
  {
   "source": [
    "## General Tips and Traps \n",
    "\n",
    "1. SQLfluff supports Jinja template! \n",
    "\n",
    "## Safe to fix\n",
    "2. L001: Unneccessary trailing whitespace.\n",
    "3. L008: Commas should be followed by a single whitespace unless followed by a comment.\n",
    "\n",
    "\n",
    "## Ignore \n",
    "\n",
    "L:  75 | P:   5 |  LXR | Unable to lex characters: ''${candidat'...'\n",
    "\n",
    "## Parsing Error\n",
    "\n",
    "1. PRS: Found unparsable section: '-- /*Select list of users to choose from...'\n",
    "\n",
    "## Configuration\n",
    "\n",
    "1. `.sqlfluff`\n",
    "\n",
    "\n",
    "2. `.sqlfluffignore`\n",
    "\n",
    "2. You can customize linting and fixing of SQL files by customizing rules.\n",
    "    Please refer to \n",
    "    [Rules Reference](https://docs.sqlfluff.com/en/stable/rules.html#ruleref)\n",
    "    for a complete list of rules."
   ],
   "cell_type": "markdown",
   "metadata": {}
  },
  {
   "source": [
    "## Command-line APIs"
   ],
   "cell_type": "markdown",
   "metadata": {}
  },
  {
   "cell_type": "code",
   "execution_count": 3,
   "metadata": {},
   "outputs": [
    {
     "output_type": "stream",
     "name": "stdout",
     "text": [
      "Usage: sqlfluff lint [OPTIONS] [PATHS]...\n\n  Lint SQL files via passing a list of files or using stdin.\n\n  PATH is the path to a sql file or directory to lint. This can be either a\n  file ('path/to/file.sql'), a path ('directory/of/sql/files'), a single\n  ('-') character to indicate reading from *stdin* or a dot/blank ('.'/' ')\n  which will be interpreted like passing the current working directory as a\n  path argument.\n\n  Linting SQL files:\n\n      sqlfluff lint path/to/file.sql     sqlfluff lint\n      directory/of/sql/files\n\n  Linting a file via stdin (note the lone '-' character):\n\n      cat path/to/file.sql | sqlfluff lint -     echo 'select col from tbl'\n      | sqlfluff lint -\n\nOptions:\n  -n, --nocolor                   No color - if this is set then the output\n                                  will be without ANSI color codes.\n\n  -v, --verbose                   Verbosity, how detailed should the output\n                                  be. This is *stackable*, so `-vv` is more\n                                  verbose than `-v`. For the most verbose\n                                  option try `-vvvv` or `-vvvvv`.\n\n  --version                       Show the version and exit.\n  --logger [parser|linter|rules]  Choose to limit the logging to one of the\n                                  loggers.\n\n  --bench                         Set this flag to engage the benchmarking\n                                  tool output.\n\n  --ignore TEXT                   Ignore particular families of errors so that\n                                  they don't cause a failed run. For example\n                                  `--ignore parsing` would mean that any\n                                  parsing errors are ignored and don't\n                                  influence the success or fail of a run.\n                                  Multiple options are possible if comma\n                                  separated e.g. `--ignore\n                                  parsing,templating`.\n\n  --exclude-rules TEXT            Exclude specific rules. For example\n                                  specifying `--exclude-rules L001` will\n                                  remove rule `L001` (Unnecessary trailing\n                                  whitespace) from the set of considered\n                                  rules. This could either be the whitelist,\n                                  or the general set if there is no specific\n                                  whitelist. Multiple rules can be specified\n                                  with commas e.g. `--exclude-rules L001,L002`\n                                  will exclude violations of rule `L001` and\n                                  rule `L002`.\n\n  --rules TEXT                    Narrow the search to only specific rules.\n                                  For example specifying `--rules L001` will\n                                  only search for rule `L001` (Unnecessary\n                                  trailing whitespace). Multiple rules can be\n                                  specified with commas e.g. `--rules\n                                  L001,L002` will specify only looking for\n                                  violations of rule `L001` and rule `L002`.\n\n  --templater TEXT                The templater to use (default=jinja)\n  --dialect TEXT                  The dialect of SQL to lint (default=ansi)\n  -f, --format [human|json|yaml]  What format to return the lint result in.\n  --nofail                        If set, the exit code will always be zero,\n                                  regardless of violations found. This is\n                                  potentially useful during rollout.\n\n  --disregard-sqlfluffignores     Perform the operation regardless of\n                                  .sqlfluffignore configurations\n\n  --help                          Show this message and exit.\n"
     ]
    }
   ],
   "source": [
    "!sqlfluff lint --help"
   ]
  },
  {
   "cell_type": "code",
   "execution_count": null,
   "metadata": {},
   "outputs": [],
   "source": [
    "sqlfluff lint test.sql"
   ]
  },
  {
   "cell_type": "code",
   "execution_count": null,
   "metadata": {},
   "outputs": [],
   "source": [
    "sqlfluff fix test.sql"
   ]
  },
  {
   "source": [
    "## Customized Fix Rules for sqlfluff\n",
    "\n",
    "Below is my customized fix rules for sqlfluff. \n",
    "It uses upper case for SQL keywords \n",
    "and lower case for identifiers.\n",
    "```\n",
    "[sqlfluff]\n",
    "verbose = 0\n",
    "nocolor = False\n",
    "dialect = ansi\n",
    "templater = jinja\n",
    "rules = None\n",
    "exclude_rules = None\n",
    "recurse = 0\n",
    "output_line_length = 80\n",
    "runaway_limit = 10\n",
    "ignore_templated_areas = True\n",
    "# Comma separated list of file extensions to lint.\n",
    "\n",
    "# NB: This config will only apply in the root folder.\n",
    "sql_file_exts = .sql,.sql.j2,.dml,.ddl\n",
    "\n",
    "[sqlfluff:indentation]\n",
    "indented_joins = False\n",
    "template_blocks_indent = True\n",
    "\n",
    "[sqlfluff:templater]\n",
    "unwrap_wrapped_queries = True\n",
    "\n",
    "[sqlfluff:templater:jinja]\n",
    "apply_dbt_builtins = True\n",
    "\n",
    "[sqlfluff:templater:jinja:macros]\n",
    "# Macros provided as builtins for dbt projects\n",
    "dbt_ref = {% macro ref(model_ref) %}{{model_ref}}{% endmacro %}\n",
    "dbt_source = {% macro source(source_name, table) %}{{source_name}}_{{table}}{% endmacro %}\n",
    "dbt_config = {% macro config() %}{% for k in kwargs %}{% endfor %}{% endmacro %}\n",
    "dbt_var = {% macro var(variable) %}item{% endmacro %}\n",
    "dbt_is_incremental = {% macro is_incremental() %}True{% endmacro %}\n",
    "\n",
    "# Some rules can be configured directly from the config common to other rules.\n",
    "[sqlfluff:rules]\n",
    "tab_space_size = 4\n",
    "max_line_length = 80\n",
    "indent_unit = space\n",
    "comma_style = trailing\n",
    "allow_scalar = True\n",
    "single_table_references = consistent\n",
    "unquoted_identifiers_policy = all\n",
    "\n",
    "# Some rules have their own specific config.\n",
    "[sqlfluff:rules:L003]\n",
    "lint_templated_tokens = True\n",
    "\n",
    "[sqlfluff:rules:L010]  # Keywords\n",
    "capitalisation_policy = upper\n",
    "\n",
    "[sqlfluff:rules:L014]  # Unquoted identifiers\n",
    "extended_capitalisation_policy = lower\n",
    "\n",
    "[sqlfluff:rules:L016]\n",
    "ignore_comment_lines = False\n",
    "\n",
    "[sqlfluff:rules:L029]  # Keyword identifiers\n",
    "unquoted_identifiers_policy = aliases\n",
    "\n",
    "[sqlfluff:rules:L030]  # Function names\n",
    "capitalisation_policy = lower\n",
    "\n",
    "[sqlfluff:rules:L038]\n",
    "select_clause_trailing_comma = forbid\n",
    "\n",
    "[sqlfluff:rules:L040]  # Null & Boolean Literals\n",
    "capitalisation_policy = upper\n",
    "\n",
    "[sqlfluff:rules:L042]\n",
    "# By default, allow subqueries in from clauses, but not join clauses.\n",
    "forbid_subquery_in = join\n",
    "\n",
    "[sqlfluff:rules:L047]  # Consistent syntax to count all rows\n",
    "prefer_count_1 = False\n",
    "```"
   ],
   "cell_type": "markdown",
   "metadata": {}
  },
  {
   "source": [
    "## Python APIs"
   ],
   "cell_type": "markdown",
   "metadata": {}
  },
  {
   "cell_type": "code",
   "execution_count": 1,
   "metadata": {},
   "outputs": [],
   "source": [
    "import sqlfluff"
   ]
  },
  {
   "source": [
    "Parse a quite complex query."
   ],
   "cell_type": "markdown",
   "metadata": {}
  },
  {
   "cell_type": "code",
   "execution_count": 36,
   "metadata": {},
   "outputs": [
    {
     "output_type": "execute_result",
     "data": {
      "text/plain": [
       "('file',\n",
       " (('statement',\n",
       "   (('select_statement',\n",
       "     (('select_clause',\n",
       "       (('keyword', ()),\n",
       "        ('whitespace', ()),\n",
       "        ('select_clause_element',\n",
       "         (('column_reference', (('identifier', ()),)),)))),\n",
       "      ('whitespace', ()),\n",
       "      ('from_clause',\n",
       "       (('keyword', ()),\n",
       "        ('whitespace', ()),\n",
       "        ('from_expression',\n",
       "         (('from_expression_element',\n",
       "           (('table_expression',\n",
       "             (('table_reference',\n",
       "               (('identifier', ()),\n",
       "                ('dot', ()),\n",
       "                ('identifier', ()))),)),)),)))))),)),))"
      ]
     },
     "metadata": {},
     "execution_count": 36
    }
   ],
   "source": [
    "sqlfluff.parse(\"select c1 from db.t1\").tree.to_tuple()"
   ]
  },
  {
   "cell_type": "code",
   "execution_count": 2,
   "metadata": {},
   "outputs": [],
   "source": [
    "sql = \"\"\"\n",
    "    WITH foo AS (\n",
    "        SELECT * FROM bar.bar\n",
    "    ),\n",
    "    baz AS (\n",
    "        SELECT * FROM bap\n",
    "    )\n",
    "    SELECT \n",
    "        * \n",
    "    FROM \n",
    "        foo\n",
    "    INNER JOIN \n",
    "        baz \n",
    "    USING (\n",
    "        user_id\n",
    "    )\n",
    "    INNER JOIN \n",
    "        ban \n",
    "    USING (\n",
    "        user_id\n",
    "    )\n",
    "    \"\"\"\n",
    "parsed = sqlfluff.parse(sql)"
   ]
  },
  {
   "cell_type": "code",
   "execution_count": 3,
   "metadata": {},
   "outputs": [
    {
     "output_type": "execute_result",
     "data": {
      "text/plain": [
       "sqlfluff.core.linter.ParsedString"
      ]
     },
     "metadata": {},
     "execution_count": 3
    }
   ],
   "source": [
    "type(parsed)"
   ]
  },
  {
   "cell_type": "code",
   "execution_count": 5,
   "metadata": {},
   "outputs": [
    {
     "output_type": "execute_result",
     "data": {
      "text/plain": [
       "0"
      ]
     },
     "metadata": {},
     "execution_count": 5
    }
   ],
   "source": [
    "parsed.count(\"table_reference\")"
   ]
  },
  {
   "cell_type": "code",
   "execution_count": 6,
   "metadata": {},
   "outputs": [
    {
     "output_type": "execute_result",
     "data": {
      "text/plain": [
       "{'ban', 'bap', 'bar.bar'}"
      ]
     },
     "metadata": {},
     "execution_count": 6
    }
   ],
   "source": [
    "parsed.tree.get_table_references()"
   ]
  },
  {
   "cell_type": "code",
   "execution_count": 18,
   "metadata": {},
   "outputs": [
    {
     "output_type": "error",
     "ename": "ValueError",
     "evalue": "tuple.index(x): x not in tuple",
     "traceback": [
      "\u001b[0;31m---------------------------------------------------------------------------\u001b[0m",
      "\u001b[0;31mValueError\u001b[0m                                Traceback (most recent call last)",
      "\u001b[0;32m<ipython-input-18-9dd70820bf23>\u001b[0m in \u001b[0;36m<module>\u001b[0;34m\u001b[0m\n\u001b[0;32m----> 1\u001b[0;31m \u001b[0mparsed\u001b[0m\u001b[0;34m.\u001b[0m\u001b[0mindex\u001b[0m\u001b[0;34m(\u001b[0m\u001b[0;34m\"SELECT\"\u001b[0m\u001b[0;34m)\u001b[0m\u001b[0;34m\u001b[0m\u001b[0;34m\u001b[0m\u001b[0m\n\u001b[0m",
      "\u001b[0;31mValueError\u001b[0m: tuple.index(x): x not in tuple"
     ]
    }
   ],
   "source": [
    "parsed.index(\"SELECT\")"
   ]
  },
  {
   "cell_type": "code",
   "execution_count": 22,
   "metadata": {},
   "outputs": [
    {
     "output_type": "execute_result",
     "data": {
      "text/plain": [
       "{'templating': 0.005710315000001742,\n",
       " 'lexing': 0.004631195999998283,\n",
       " 'parsing': 0.031160859000003427}"
      ]
     },
     "metadata": {},
     "execution_count": 22
    }
   ],
   "source": [
    "parsed.time_dict"
   ]
  },
  {
   "cell_type": "code",
   "execution_count": 24,
   "metadata": {},
   "outputs": [
    {
     "output_type": "execute_result",
     "data": {
      "text/plain": [
       "<FileSegment: ([0](1, 1, 1))>"
      ]
     },
     "metadata": {},
     "execution_count": 24
    }
   ],
   "source": [
    "parsed.tree"
   ]
  },
  {
   "cell_type": "code",
   "execution_count": 27,
   "metadata": {},
   "outputs": [
    {
     "output_type": "execute_result",
     "data": {
      "text/plain": [
       "True"
      ]
     },
     "metadata": {},
     "execution_count": 27
    }
   ],
   "source": [
    "parsed.tree.allow_empty"
   ]
  },
  {
   "cell_type": "code",
   "execution_count": 30,
   "metadata": {},
   "outputs": [
    {
     "output_type": "stream",
     "text": [
      "\u001b[0;31mSignature:\u001b[0m \u001b[0mparsed\u001b[0m\u001b[0;34m.\u001b[0m\u001b[0mtree\u001b[0m\u001b[0;34m.\u001b[0m\u001b[0mas_record\u001b[0m\u001b[0;34m(\u001b[0m\u001b[0;34m**\u001b[0m\u001b[0mkwargs\u001b[0m\u001b[0;34m)\u001b[0m\u001b[0;34m\u001b[0m\u001b[0;34m\u001b[0m\u001b[0m\n",
      "\u001b[0;31mDocstring:\u001b[0m\n",
      "Return the segment as a structurally simplified record.\n",
      "\n",
      "This is useful for serialization to yaml or json.\n",
      "kwargs passed to to_tuple\n",
      "\u001b[0;31mFile:\u001b[0m      /usr/local/lib/python3.9/site-packages/sqlfluff/core/parser/segments/base.py\n",
      "\u001b[0;31mType:\u001b[0m      method\n"
     ],
     "name": "stdout"
    }
   ],
   "source": [
    "parsed.tree.as_record?"
   ]
  },
  {
   "cell_type": "code",
   "execution_count": 25,
   "metadata": {},
   "outputs": [
    {
     "output_type": "execute_result",
     "data": {
      "text/plain": [
       "['__annotations__',\n",
       " '__class__',\n",
       " '__delattr__',\n",
       " '__dict__',\n",
       " '__dir__',\n",
       " '__doc__',\n",
       " '__eq__',\n",
       " '__format__',\n",
       " '__ge__',\n",
       " '__getattribute__',\n",
       " '__gt__',\n",
       " '__hash__',\n",
       " '__init__',\n",
       " '__init_subclass__',\n",
       " '__le__',\n",
       " '__lt__',\n",
       " '__module__',\n",
       " '__ne__',\n",
       " '__new__',\n",
       " '__reduce__',\n",
       " '__reduce_ex__',\n",
       " '__repr__',\n",
       " '__setattr__',\n",
       " '__sizeof__',\n",
       " '__str__',\n",
       " '__subclasshook__',\n",
       " '__weakref__',\n",
       " '_comments',\n",
       " '_is_expandable',\n",
       " '_name',\n",
       " '_non_comments',\n",
       " '_preface',\n",
       " '_realign_segments',\n",
       " '_reconstruct',\n",
       " '_suffix',\n",
       " 'allow_empty',\n",
       " 'apply_fixes',\n",
       " 'as_record',\n",
       " 'can_start_end_non_code',\n",
       " 'comment_seperate',\n",
       " 'expand',\n",
       " 'get_child',\n",
       " 'get_children',\n",
       " 'get_end_pos_marker',\n",
       " 'get_start_pos_marker',\n",
       " 'get_table_references',\n",
       " 'invalidate_caches',\n",
       " 'is_code',\n",
       " 'is_comment',\n",
       " 'is_expandable',\n",
       " 'is_meta',\n",
       " 'is_optional',\n",
       " 'is_raw',\n",
       " 'is_segment',\n",
       " 'is_type',\n",
       " 'is_whitespace',\n",
       " 'iter_patches',\n",
       " 'iter_raw_seg',\n",
       " 'iter_segments',\n",
       " 'iter_unparsables',\n",
       " 'match',\n",
       " 'match_grammar',\n",
       " 'matched_length',\n",
       " 'name',\n",
       " 'optional',\n",
       " 'parse',\n",
       " 'parse_grammar',\n",
       " 'path_to',\n",
       " 'pos_marker',\n",
       " 'raw',\n",
       " 'raw_list',\n",
       " 'raw_upper',\n",
       " 'realign',\n",
       " 'recursive_crawl',\n",
       " 'segments',\n",
       " 'segs_to_tuple',\n",
       " 'select_children',\n",
       " 'simple',\n",
       " 'stringify',\n",
       " 'structural_simplify',\n",
       " 'to_tuple',\n",
       " 'trim_chars',\n",
       " 'trim_start',\n",
       " 'type',\n",
       " 'type_set',\n",
       " 'validate_segments']"
      ]
     },
     "metadata": {},
     "execution_count": 25
    }
   ],
   "source": [
    "dir(parsed.tree)"
   ]
  },
  {
   "cell_type": "code",
   "execution_count": 43,
   "metadata": {},
   "outputs": [
    {
     "output_type": "execute_result",
     "data": {
      "text/plain": [
       "(<newline_RawSegment: ([0](1, 1, 1)) '\\n'>,\n",
       " <whitespace_RawSegment: ([1](1, 2, 1)) '    '>,\n",
       " <StatementSegment: ([5](1, 2, 5))>,\n",
       " <newline_RawSegment: ([271](1, 21, 6)) '\\n'>,\n",
       " <whitespace_RawSegment: ([272](1, 22, 1)) '    '>)"
      ]
     },
     "metadata": {},
     "execution_count": 43
    }
   ],
   "source": [
    "parsed.tree.segments"
   ]
  },
  {
   "cell_type": "code",
   "execution_count": 39,
   "metadata": {},
   "outputs": [
    {
     "output_type": "stream",
     "name": "stdout",
     "text": [
      "[0](1, 1, 1)        |file:\n[0](1, 1, 1)        |    newline:                                                  '\\n'\n[1](1, 2, 1)        |    whitespace:                                               '    '\n[5](1, 2, 5)        |    statement:\n[5](1, 2, 5)        |        with_compound_statement:\n[5](1, 2, 5)        |            keyword:                                          'WITH'\n[9](1, 2, 9)        |            whitespace:                                       ' '\n[10](1, 2, 10)      |            common_table_expression:\n[10](1, 2, 10)      |                identifier:                                   'foo'\n[13](1, 2, 13)      |                whitespace:                                   ' '\n[14](1, 2, 14)      |                keyword:                                      'AS'\n[16](1, 2, 16)      |                whitespace:                                   ' '\n[17](1, 2, 17)      |                start_bracket:                                '('\n[18](1, 2, 18)      |                [META] indent:\n[18](1, 2, 18)      |                newline:                                      '\\n'\n[19](1, 3, 1)       |                whitespace:                                   '        '\n[27](1, 3, 9)       |                select_statement:\n[27](1, 3, 9)       |                    select_clause:\n[27](1, 3, 9)       |                        keyword:                              'SELECT'\n[33](1, 3, 15)      |                        [META] indent:\n[33](1, 3, 15)      |                        whitespace:                           ' '\n[34](1, 3, 16)      |                        select_clause_element:\n[34](1, 3, 16)      |                            wildcard_expression:\n[34](1, 3, 16)      |                                wildcard_identifier:\n[34](1, 3, 16)      |                                    star:                     '*'\n[35](1, 3, 17)      |                    whitespace:                               ' '\n[36](1, 3, 18)      |                    [META] dedent:\n[36](1, 3, 18)      |                    from_clause:\n[36](1, 3, 18)      |                        keyword:                              'FROM'\n[40](1, 3, 22)      |                        whitespace:                           ' '\n[41](1, 3, 23)      |                        from_expression:\n[41](1, 3, 23)      |                            [META] indent:\n[41](1, 3, 23)      |                            from_expression_element:\n[41](1, 3, 23)      |                                table_expression:\n[41](1, 3, 23)      |                                    table_reference:\n[41](1, 3, 23)      |                                        identifier:           'bar'\n[44](1, 3, 26)      |                                        dot:                  '.'\n[45](1, 3, 27)      |                                        identifier:           'bar'\n[48](1, 3, 30)      |                            [META] dedent:\n[48](1, 3, 30)      |                newline:                                      '\\n'\n[49](1, 4, 1)       |                whitespace:                                   '    '\n[53](1, 4, 5)       |                [META] dedent:\n[53](1, 4, 5)       |                end_bracket:                                  ')'\n[54](1, 4, 6)       |            comma:                                            ','\n[55](1, 4, 7)       |            newline:                                          '\\n'\n[56](1, 5, 1)       |            whitespace:                                       '    '\n[60](1, 5, 5)       |            common_table_expression:\n[60](1, 5, 5)       |                identifier:                                   'baz'\n[63](1, 5, 8)       |                whitespace:                                   ' '\n[64](1, 5, 9)       |                keyword:                                      'AS'\n[66](1, 5, 11)      |                whitespace:                                   ' '\n[67](1, 5, 12)      |                start_bracket:                                '('\n[68](1, 5, 13)      |                [META] indent:\n[68](1, 5, 13)      |                newline:                                      '\\n'\n[69](1, 6, 1)       |                whitespace:                                   '        '\n[77](1, 6, 9)       |                select_statement:\n[77](1, 6, 9)       |                    select_clause:\n[77](1, 6, 9)       |                        keyword:                              'SELECT'\n[83](1, 6, 15)      |                        [META] indent:\n[83](1, 6, 15)      |                        whitespace:                           ' '\n[84](1, 6, 16)      |                        select_clause_element:\n[84](1, 6, 16)      |                            wildcard_expression:\n[84](1, 6, 16)      |                                wildcard_identifier:\n[84](1, 6, 16)      |                                    star:                     '*'\n[85](1, 6, 17)      |                    whitespace:                               ' '\n[86](1, 6, 18)      |                    [META] dedent:\n[86](1, 6, 18)      |                    from_clause:\n[86](1, 6, 18)      |                        keyword:                              'FROM'\n[90](1, 6, 22)      |                        whitespace:                           ' '\n[91](1, 6, 23)      |                        from_expression:\n[91](1, 6, 23)      |                            [META] indent:\n[91](1, 6, 23)      |                            from_expression_element:\n[91](1, 6, 23)      |                                table_expression:\n[91](1, 6, 23)      |                                    table_reference:\n[91](1, 6, 23)      |                                        identifier:           'bap'\n[94](1, 6, 26)      |                            [META] dedent:\n[94](1, 6, 26)      |                newline:                                      '\\n'\n[95](1, 7, 1)       |                whitespace:                                   '    '\n[99](1, 7, 5)       |                [META] dedent:\n[99](1, 7, 5)       |                end_bracket:                                  ')'\n[100](1, 7, 6)      |            newline:                                          '\\n'\n[101](1, 8, 1)      |            whitespace:                                       '    '\n[105](1, 8, 5)      |            select_statement:\n[105](1, 8, 5)      |                select_clause:\n[105](1, 8, 5)      |                    keyword:                                  'SELECT'\n[111](1, 8, 11)     |                    [META] indent:\n[111](1, 8, 11)     |                    whitespace:                               ' '\n[112](1, 8, 12)     |                    newline:                                  '\\n'\n[113](1, 9, 1)      |                    whitespace:                               '        '\n[121](1, 9, 9)      |                    select_clause_element:\n[121](1, 9, 9)      |                        wildcard_expression:\n[121](1, 9, 9)      |                            wildcard_identifier:\n[121](1, 9, 9)      |                                star:                         '*'\n[122](1, 9, 10)     |                whitespace:                                   ' '\n[123](1, 9, 11)     |                newline:                                      '\\n'\n[124](1, 10, 1)     |                whitespace:                                   '    '\n[128](1, 10, 5)     |                [META] dedent:\n[128](1, 10, 5)     |                from_clause:\n[128](1, 10, 5)     |                    keyword:                                  'FROM'\n[132](1, 10, 9)     |                    whitespace:                               ' '\n[133](1, 10, 10)    |                    newline:                                  '\\n'\n[134](1, 11, 1)     |                    whitespace:                               '        '\n[142](1, 11, 9)     |                    from_expression:\n[142](1, 11, 9)     |                        [META] indent:\n[142](1, 11, 9)     |                        from_expression_element:\n[142](1, 11, 9)     |                            table_expression:\n[142](1, 11, 9)     |                                table_reference:\n[142](1, 11, 9)     |                                    identifier:               'foo'\n[145](1, 11, 12)    |                        newline:                              '\\n'\n[146](1, 12, 1)     |                        whitespace:                           '    '\n[150](1, 12, 5)     |                        [META] dedent:\n[150](1, 12, 5)     |                        join_clause:\n[150](1, 12, 5)     |                            keyword:                          'INNER'\n[155](1, 12, 10)    |                            whitespace:                       ' '\n[156](1, 12, 11)    |                            keyword:                          'JOIN'\n[160](1, 12, 15)    |                            [META] indent:\n[160](1, 12, 15)    |                            whitespace:                       ' '\n[161](1, 12, 16)    |                            newline:                          '\\n'\n[162](1, 13, 1)     |                            whitespace:                       '        '\n[170](1, 13, 9)     |                            from_expression_element:\n[170](1, 13, 9)     |                                table_expression:\n[170](1, 13, 9)     |                                    table_reference:\n[170](1, 13, 9)     |                                        identifier:           'baz'\n[173](1, 13, 12)    |                            whitespace:                       ' '\n[174](1, 13, 13)    |                            newline:                          '\\n'\n[175](1, 14, 1)     |                            whitespace:                       '    '\n[179](1, 14, 5)     |                            keyword:                          'USING'\n[184](1, 14, 10)    |                            [META] indent:\n[184](1, 14, 10)    |                            whitespace:                       ' '\n[185](1, 14, 11)    |                            start_bracket:                    '('\n[186](1, 14, 12)    |                            [META] indent:\n[186](1, 14, 12)    |                            newline:                          '\\n'\n[187](1, 15, 1)     |                            whitespace:                       '        '\n[195](1, 15, 9)     |                            identifier:                       'user_id'\n[202](1, 15, 16)    |                            newline:                          '\\n'\n[203](1, 16, 1)     |                            whitespace:                       '    '\n[207](1, 16, 5)     |                            [META] dedent:\n[207](1, 16, 5)     |                            end_bracket:                      ')'\n[208](1, 16, 6)     |                            [META] dedent:\n[208](1, 16, 6)     |                            [META] dedent:\n[208](1, 16, 6)     |                        newline:                              '\\n'\n[209](1, 17, 1)     |                        whitespace:                           '    '\n[213](1, 17, 5)     |                        join_clause:\n[213](1, 17, 5)     |                            keyword:                          'INNER'\n[218](1, 17, 10)    |                            whitespace:                       ' '\n[219](1, 17, 11)    |                            keyword:                          'JOIN'\n[223](1, 17, 15)    |                            [META] indent:\n[223](1, 17, 15)    |                            whitespace:                       ' '\n[224](1, 17, 16)    |                            newline:                          '\\n'\n[225](1, 18, 1)     |                            whitespace:                       '        '\n[233](1, 18, 9)     |                            from_expression_element:\n[233](1, 18, 9)     |                                table_expression:\n[233](1, 18, 9)     |                                    table_reference:\n[233](1, 18, 9)     |                                        identifier:           'ban'\n[236](1, 18, 12)    |                            whitespace:                       ' '\n[237](1, 18, 13)    |                            newline:                          '\\n'\n[238](1, 19, 1)     |                            whitespace:                       '    '\n[242](1, 19, 5)     |                            keyword:                          'USING'\n[247](1, 19, 10)    |                            [META] indent:\n[247](1, 19, 10)    |                            whitespace:                       ' '\n[248](1, 19, 11)    |                            start_bracket:                    '('\n[249](1, 19, 12)    |                            [META] indent:\n[249](1, 19, 12)    |                            newline:                          '\\n'\n[250](1, 20, 1)     |                            whitespace:                       '        '\n[258](1, 20, 9)     |                            identifier:                       'user_id'\n[265](1, 20, 16)    |                            newline:                          '\\n'\n[266](1, 21, 1)     |                            whitespace:                       '    '\n[270](1, 21, 5)     |                            [META] dedent:\n[270](1, 21, 5)     |                            end_bracket:                      ')'\n[271](1, 21, 6)     |                            [META] dedent:\n[271](1, 21, 6)     |                            [META] dedent:\n[271](1, 21, 6)     |    newline:                                                  '\\n'\n[272](1, 22, 1)     |    whitespace:                                               '    '\n\n"
     ]
    }
   ],
   "source": [
    "print(parsed.tree.stringify())"
   ]
  },
  {
   "cell_type": "code",
   "execution_count": 32,
   "metadata": {},
   "outputs": [],
   "source": [
    "import json"
   ]
  },
  {
   "cell_type": "code",
   "execution_count": 35,
   "metadata": {
    "tags": [
     "outputPrepend"
    ]
   },
   "outputs": [
    {
     "output_type": "stream",
     "name": "stdout",
     "text": [
      "                                             ]\n                                                            ]\n                                                        ]\n                                                    ]\n                                                ]\n                                            ]\n                                        ]\n                                    ]\n                                ],\n                                [\n                                    \"newline\",\n                                    []\n                                ],\n                                [\n                                    \"whitespace\",\n                                    []\n                                ],\n                                [\n                                    \"end_bracket\",\n                                    []\n                                ]\n                            ]\n                        ],\n                        [\n                            \"newline\",\n                            []\n                        ],\n                        [\n                            \"whitespace\",\n                            []\n                        ],\n                        [\n                            \"select_statement\",\n                            [\n                                [\n                                    \"select_clause\",\n                                    [\n                                        [\n                                            \"keyword\",\n                                            []\n                                        ],\n                                        [\n                                            \"whitespace\",\n                                            []\n                                        ],\n                                        [\n                                            \"newline\",\n                                            []\n                                        ],\n                                        [\n                                            \"whitespace\",\n                                            []\n                                        ],\n                                        [\n                                            \"select_clause_element\",\n                                            [\n                                                [\n                                                    \"wildcard_expression\",\n                                                    [\n                                                        [\n                                                            \"wildcard_identifier\",\n                                                            [\n                                                                [\n                                                                    \"star\",\n                                                                    []\n                                                                ]\n                                                            ]\n                                                        ]\n                                                    ]\n                                                ]\n                                            ]\n                                        ]\n                                    ]\n                                ],\n                                [\n                                    \"whitespace\",\n                                    []\n                                ],\n                                [\n                                    \"newline\",\n                                    []\n                                ],\n                                [\n                                    \"whitespace\",\n                                    []\n                                ],\n                                [\n                                    \"from_clause\",\n                                    [\n                                        [\n                                            \"keyword\",\n                                            []\n                                        ],\n                                        [\n                                            \"whitespace\",\n                                            []\n                                        ],\n                                        [\n                                            \"newline\",\n                                            []\n                                        ],\n                                        [\n                                            \"whitespace\",\n                                            []\n                                        ],\n                                        [\n                                            \"from_expression\",\n                                            [\n                                                [\n                                                    \"from_expression_element\",\n                                                    [\n                                                        [\n                                                            \"table_expression\",\n                                                            [\n                                                                [\n                                                                    \"table_reference\",\n                                                                    [\n                                                                        [\n                                                                            \"identifier\",\n                                                                            []\n                                                                        ]\n                                                                    ]\n                                                                ]\n                                                            ]\n                                                        ]\n                                                    ]\n                                                ],\n                                                [\n                                                    \"newline\",\n                                                    []\n                                                ],\n                                                [\n                                                    \"whitespace\",\n                                                    []\n                                                ],\n                                                [\n                                                    \"join_clause\",\n                                                    [\n                                                        [\n                                                            \"keyword\",\n                                                            []\n                                                        ],\n                                                        [\n                                                            \"whitespace\",\n                                                            []\n                                                        ],\n                                                        [\n                                                            \"keyword\",\n                                                            []\n                                                        ],\n                                                        [\n                                                            \"whitespace\",\n                                                            []\n                                                        ],\n                                                        [\n                                                            \"newline\",\n                                                            []\n                                                        ],\n                                                        [\n                                                            \"whitespace\",\n                                                            []\n                                                        ],\n                                                        [\n                                                            \"from_expression_element\",\n                                                            [\n                                                                [\n                                                                    \"table_expression\",\n                                                                    [\n                                                                        [\n                                                                            \"table_reference\",\n                                                                            [\n                                                                                [\n                                                                                    \"identifier\",\n                                                                                    []\n                                                                                ]\n                                                                            ]\n                                                                        ]\n                                                                    ]\n                                                                ]\n                                                            ]\n                                                        ],\n                                                        [\n                                                            \"whitespace\",\n                                                            []\n                                                        ],\n                                                        [\n                                                            \"newline\",\n                                                            []\n                                                        ],\n                                                        [\n                                                            \"whitespace\",\n                                                            []\n                                                        ],\n                                                        [\n                                                            \"keyword\",\n                                                            []\n                                                        ],\n                                                        [\n                                                            \"whitespace\",\n                                                            []\n                                                        ],\n                                                        [\n                                                            \"start_bracket\",\n                                                            []\n                                                        ],\n                                                        [\n                                                            \"newline\",\n                                                            []\n                                                        ],\n                                                        [\n                                                            \"whitespace\",\n                                                            []\n                                                        ],\n                                                        [\n                                                            \"identifier\",\n                                                            []\n                                                        ],\n                                                        [\n                                                            \"newline\",\n                                                            []\n                                                        ],\n                                                        [\n                                                            \"whitespace\",\n                                                            []\n                                                        ],\n                                                        [\n                                                            \"end_bracket\",\n                                                            []\n                                                        ]\n                                                    ]\n                                                ],\n                                                [\n                                                    \"newline\",\n                                                    []\n                                                ],\n                                                [\n                                                    \"whitespace\",\n                                                    []\n                                                ],\n                                                [\n                                                    \"join_clause\",\n                                                    [\n                                                        [\n                                                            \"keyword\",\n                                                            []\n                                                        ],\n                                                        [\n                                                            \"whitespace\",\n                                                            []\n                                                        ],\n                                                        [\n                                                            \"keyword\",\n                                                            []\n                                                        ],\n                                                        [\n                                                            \"whitespace\",\n                                                            []\n                                                        ],\n                                                        [\n                                                            \"newline\",\n                                                            []\n                                                        ],\n                                                        [\n                                                            \"whitespace\",\n                                                            []\n                                                        ],\n                                                        [\n                                                            \"from_expression_element\",\n                                                            [\n                                                                [\n                                                                    \"table_expression\",\n                                                                    [\n                                                                        [\n                                                                            \"table_reference\",\n                                                                            [\n                                                                                [\n                                                                                    \"identifier\",\n                                                                                    []\n                                                                                ]\n                                                                            ]\n                                                                        ]\n                                                                    ]\n                                                                ]\n                                                            ]\n                                                        ],\n                                                        [\n                                                            \"whitespace\",\n                                                            []\n                                                        ],\n                                                        [\n                                                            \"newline\",\n                                                            []\n                                                        ],\n                                                        [\n                                                            \"whitespace\",\n                                                            []\n                                                        ],\n                                                        [\n                                                            \"keyword\",\n                                                            []\n                                                        ],\n                                                        [\n                                                            \"whitespace\",\n                                                            []\n                                                        ],\n                                                        [\n                                                            \"start_bracket\",\n                                                            []\n                                                        ],\n                                                        [\n                                                            \"newline\",\n                                                            []\n                                                        ],\n                                                        [\n                                                            \"whitespace\",\n                                                            []\n                                                        ],\n                                                        [\n                                                            \"identifier\",\n                                                            []\n                                                        ],\n                                                        [\n                                                            \"newline\",\n                                                            []\n                                                        ],\n                                                        [\n                                                            \"whitespace\",\n                                                            []\n                                                        ],\n                                                        [\n                                                            \"end_bracket\",\n                                                            []\n                                                        ]\n                                                    ]\n                                                ]\n                                            ]\n                                        ]\n                                    ]\n                                ]\n                            ]\n                        ]\n                    ]\n                ]\n            ]\n        ],\n        [\n            \"newline\",\n            []\n        ],\n        [\n            \"whitespace\",\n            []\n        ]\n    ]\n]\n"
     ]
    }
   ],
   "source": [
    "print(json.dumps(parsed.tree.to_tuple(), indent=4))"
   ]
  },
  {
   "cell_type": "code",
   "execution_count": 31,
   "metadata": {},
   "outputs": [
    {
     "output_type": "execute_result",
     "data": {
      "text/plain": [
       "('file',\n",
       " (('newline', ()),\n",
       "  ('whitespace', ()),\n",
       "  ('statement',\n",
       "   (('with_compound_statement',\n",
       "     (('keyword', ()),\n",
       "      ('whitespace', ()),\n",
       "      ('common_table_expression',\n",
       "       (('identifier', ()),\n",
       "        ('whitespace', ()),\n",
       "        ('keyword', ()),\n",
       "        ('whitespace', ()),\n",
       "        ('start_bracket', ()),\n",
       "        ('newline', ()),\n",
       "        ('whitespace', ()),\n",
       "        ('select_statement',\n",
       "         (('select_clause',\n",
       "           (('keyword', ()),\n",
       "            ('whitespace', ()),\n",
       "            ('select_clause_element',\n",
       "             (('wildcard_expression',\n",
       "               (('wildcard_identifier', (('star', ()),)),)),)))),\n",
       "          ('whitespace', ()),\n",
       "          ('from_clause',\n",
       "           (('keyword', ()),\n",
       "            ('whitespace', ()),\n",
       "            ('from_expression',\n",
       "             (('from_expression_element',\n",
       "               (('table_expression',\n",
       "                 (('table_reference',\n",
       "                   (('identifier', ()),\n",
       "                    ('dot', ()),\n",
       "                    ('identifier', ()))),)),)),)))))),\n",
       "        ('newline', ()),\n",
       "        ('whitespace', ()),\n",
       "        ('end_bracket', ()))),\n",
       "      ('comma', ()),\n",
       "      ('newline', ()),\n",
       "      ('whitespace', ()),\n",
       "      ('common_table_expression',\n",
       "       (('identifier', ()),\n",
       "        ('whitespace', ()),\n",
       "        ('keyword', ()),\n",
       "        ('whitespace', ()),\n",
       "        ('start_bracket', ()),\n",
       "        ('newline', ()),\n",
       "        ('whitespace', ()),\n",
       "        ('select_statement',\n",
       "         (('select_clause',\n",
       "           (('keyword', ()),\n",
       "            ('whitespace', ()),\n",
       "            ('select_clause_element',\n",
       "             (('wildcard_expression',\n",
       "               (('wildcard_identifier', (('star', ()),)),)),)))),\n",
       "          ('whitespace', ()),\n",
       "          ('from_clause',\n",
       "           (('keyword', ()),\n",
       "            ('whitespace', ()),\n",
       "            ('from_expression',\n",
       "             (('from_expression_element',\n",
       "               (('table_expression',\n",
       "                 (('table_reference', (('identifier', ()),)),)),)),)))))),\n",
       "        ('newline', ()),\n",
       "        ('whitespace', ()),\n",
       "        ('end_bracket', ()))),\n",
       "      ('newline', ()),\n",
       "      ('whitespace', ()),\n",
       "      ('select_statement',\n",
       "       (('select_clause',\n",
       "         (('keyword', ()),\n",
       "          ('whitespace', ()),\n",
       "          ('newline', ()),\n",
       "          ('whitespace', ()),\n",
       "          ('select_clause_element',\n",
       "           (('wildcard_expression',\n",
       "             (('wildcard_identifier', (('star', ()),)),)),)))),\n",
       "        ('whitespace', ()),\n",
       "        ('newline', ()),\n",
       "        ('whitespace', ()),\n",
       "        ('from_clause',\n",
       "         (('keyword', ()),\n",
       "          ('whitespace', ()),\n",
       "          ('newline', ()),\n",
       "          ('whitespace', ()),\n",
       "          ('from_expression',\n",
       "           (('from_expression_element',\n",
       "             (('table_expression',\n",
       "               (('table_reference', (('identifier', ()),)),)),)),\n",
       "            ('newline', ()),\n",
       "            ('whitespace', ()),\n",
       "            ('join_clause',\n",
       "             (('keyword', ()),\n",
       "              ('whitespace', ()),\n",
       "              ('keyword', ()),\n",
       "              ('whitespace', ()),\n",
       "              ('newline', ()),\n",
       "              ('whitespace', ()),\n",
       "              ('from_expression_element',\n",
       "               (('table_expression',\n",
       "                 (('table_reference', (('identifier', ()),)),)),)),\n",
       "              ('whitespace', ()),\n",
       "              ('newline', ()),\n",
       "              ('whitespace', ()),\n",
       "              ('keyword', ()),\n",
       "              ('whitespace', ()),\n",
       "              ('start_bracket', ()),\n",
       "              ('newline', ()),\n",
       "              ('whitespace', ()),\n",
       "              ('identifier', ()),\n",
       "              ('newline', ()),\n",
       "              ('whitespace', ()),\n",
       "              ('end_bracket', ()))),\n",
       "            ('newline', ()),\n",
       "            ('whitespace', ()),\n",
       "            ('join_clause',\n",
       "             (('keyword', ()),\n",
       "              ('whitespace', ()),\n",
       "              ('keyword', ()),\n",
       "              ('whitespace', ()),\n",
       "              ('newline', ()),\n",
       "              ('whitespace', ()),\n",
       "              ('from_expression_element',\n",
       "               (('table_expression',\n",
       "                 (('table_reference', (('identifier', ()),)),)),)),\n",
       "              ('whitespace', ()),\n",
       "              ('newline', ()),\n",
       "              ('whitespace', ()),\n",
       "              ('keyword', ()),\n",
       "              ('whitespace', ()),\n",
       "              ('start_bracket', ()),\n",
       "              ('newline', ()),\n",
       "              ('whitespace', ()),\n",
       "              ('identifier', ()),\n",
       "              ('newline', ()),\n",
       "              ('whitespace', ()),\n",
       "              ('end_bracket', ()))))))))))),)),\n",
       "  ('newline', ()),\n",
       "  ('whitespace', ())))"
      ]
     },
     "metadata": {},
     "execution_count": 31
    }
   ],
   "source": [
    "parsed.tree.to_tuple()"
   ]
  },
  {
   "source": [
    "Extract table names. \n",
    "SQLfluff looks for all table references which are NOT CTE aliases."
   ],
   "cell_type": "markdown",
   "metadata": {}
  },
  {
   "cell_type": "code",
   "execution_count": 5,
   "metadata": {},
   "outputs": [
    {
     "output_type": "execute_result",
     "data": {
      "text/plain": [
       "{'ban', 'bap', 'bar.bar'}"
      ]
     },
     "metadata": {},
     "execution_count": 5
    }
   ],
   "source": [
    "parsed.tree.get_table_references()"
   ]
  },
  {
   "source": [
    "## References \n",
    "\n",
    "https://github.com/sqlfluff/sqlfluff/blob/master/examples/03_extracting_references.py\n",
    "\n",
    "https://github.com/sqlfluff/sqlfluff/tree/master/examples\n",
    "\n",
    "[Rules Reference](https://docs.sqlfluff.com/en/stable/rules.html#ruleref)\n"
   ],
   "cell_type": "markdown",
   "metadata": {}
  },
  {
   "cell_type": "code",
   "execution_count": null,
   "metadata": {},
   "outputs": [],
   "source": []
  }
 ]
}