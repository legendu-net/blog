{
 "nbformat": 4,
 "nbformat_minor": 2,
 "metadata": {
  "language_info": {
   "name": "python",
   "codemirror_mode": {
    "name": "ipython",
    "version": 3
   },
   "version": "3.8.5-final"
  },
  "orig_nbformat": 2,
  "file_extension": ".py",
  "mimetype": "text/x-python",
  "name": "python",
  "npconvert_exporter": "python",
  "pygments_lexer": "ipython3",
  "version": 3,
  "kernelspec": {
   "name": "python38564bit99c1916ce7b34f8a8aa79a79d9b6890b",
   "display_name": "Python 3.8.5 64-bit"
  }
 },
 "cells": [
  {
   "cell_type": "markdown",
   "metadata": {},
   "source": [
    "- Author: Ben Du\n",
    "- Date: 2021-04-18 18:11:45\n",
    "- Title: Extract Identifier Names from a SQL Query Using Sqlfluff\n",
    "- Slug: extract-identifier-names-from-a-sql-query-using-sqlfluff\n",
    "- Category: Computer Science\n",
    "- Tags: Computer Science, programming, Python, SQL, sqlfluff, anonymize, extract, reference, table, column, database\n",
    "- Modified: 2021-04-18 18:11:45\n"
   ]
  },
  {
   "source": [
    " ** Things on this page are fragmentary and immature notes/thoughts of the author. Please read with your own judgement! **  "
   ],
   "cell_type": "markdown",
   "metadata": {}
  },
  {
   "cell_type": "code",
   "execution_count": 2,
   "metadata": {},
   "outputs": [
    {
     "output_type": "stream",
     "name": "stdout",
     "text": [
      "Collecting sqlfluff\n",
      "  Downloading sqlfluff-0.5.2-py3-none-any.whl (278 kB)\n",
      "\u001b[K     |\u2588\u2588\u2588\u2588\u2588\u2588\u2588\u2588\u2588\u2588\u2588\u2588\u2588\u2588\u2588\u2588\u2588\u2588\u2588\u2588\u2588\u2588\u2588\u2588\u2588\u2588\u2588\u2588\u2588\u2588\u2588\u2588| 278 kB 6.4 MB/s \n",
      "\u001b[?25hRequirement already satisfied: pytest in /usr/local/lib/python3.8/dist-packages (from sqlfluff) (6.2.3)\n",
      "Collecting diff-cover>=2.5.0\n",
      "  Downloading diff_cover-5.0.1-py3-none-any.whl (44 kB)\n",
      "\u001b[K     |\u2588\u2588\u2588\u2588\u2588\u2588\u2588\u2588\u2588\u2588\u2588\u2588\u2588\u2588\u2588\u2588\u2588\u2588\u2588\u2588\u2588\u2588\u2588\u2588\u2588\u2588\u2588\u2588\u2588\u2588\u2588\u2588| 44 kB 5.0 MB/s \n",
      "\u001b[?25hRequirement already satisfied: pathspec in /usr/local/lib/python3.8/dist-packages (from sqlfluff) (0.8.1)\n",
      "Collecting oyaml\n",
      "  Downloading oyaml-1.0-py2.py3-none-any.whl (3.0 kB)\n",
      "Collecting appdirs\n",
      "  Downloading appdirs-1.4.4-py2.py3-none-any.whl (9.6 kB)\n",
      "Requirement already satisfied: Jinja2 in /usr/local/lib/python3.8/dist-packages (from sqlfluff) (2.11.3)\n",
      "Collecting cached-property\n",
      "  Downloading cached_property-1.5.2-py2.py3-none-any.whl (7.6 kB)\n",
      "Collecting bench-it\n",
      "  Downloading bench_it-1.0.1-py2.py3-none-any.whl (19 kB)\n",
      "Collecting colorama>=0.3\n",
      "  Downloading colorama-0.4.4-py2.py3-none-any.whl (16 kB)\n",
      "Requirement already satisfied: click>=7.1 in /usr/local/lib/python3.8/dist-packages (from sqlfluff) (7.1.2)\n",
      "Requirement already satisfied: typing-extensions in /usr/local/lib/python3.8/dist-packages (from sqlfluff) (3.7.4.3)\n",
      "Collecting configparser\n",
      "  Downloading configparser-5.0.2-py3-none-any.whl (19 kB)\n",
      "Requirement already satisfied: toml in /usr/local/lib/python3.8/dist-packages (from pytest->sqlfluff) (0.10.2)\n",
      "Requirement already satisfied: pluggy<1.0.0a1,>=0.12 in /usr/local/lib/python3.8/dist-packages (from pytest->sqlfluff) (0.13.1)\n",
      "Requirement already satisfied: iniconfig in /usr/local/lib/python3.8/dist-packages (from pytest->sqlfluff) (1.1.1)\n",
      "Requirement already satisfied: attrs>=19.2.0 in /usr/local/lib/python3.8/dist-packages (from pytest->sqlfluff) (20.3.0)\n",
      "Requirement already satisfied: py>=1.8.2 in /usr/local/lib/python3.8/dist-packages (from pytest->sqlfluff) (1.10.0)\n",
      "Requirement already satisfied: packaging in /usr/local/lib/python3.8/dist-packages (from pytest->sqlfluff) (20.9)\n",
      "Collecting jinja2-pluralize\n",
      "  Downloading jinja2_pluralize-0.3.0-py2.py3-none-any.whl (4.8 kB)\n",
      "Requirement already satisfied: pygments in /usr/local/lib/python3.8/dist-packages (from diff-cover>=2.5.0->sqlfluff) (2.8.1)\n",
      "Requirement already satisfied: chardet>=3.0.0 in /usr/lib/python3/dist-packages (from diff-cover>=2.5.0->sqlfluff) (3.0.4)\n",
      "Requirement already satisfied: pyyaml in /usr/local/lib/python3.8/dist-packages (from oyaml->sqlfluff) (5.4.1)\n",
      "Requirement already satisfied: MarkupSafe>=0.23 in /usr/local/lib/python3.8/dist-packages (from Jinja2->sqlfluff) (1.1.1)\n",
      "Requirement already satisfied: pyparsing>=2.0.2 in /usr/local/lib/python3.8/dist-packages (from packaging->pytest->sqlfluff) (2.4.7)\n",
      "Collecting inflect>=0.2.4\n",
      "  Downloading inflect-5.3.0-py3-none-any.whl (32 kB)\n",
      "Installing collected packages: inflect, jinja2-pluralize, diff-cover, oyaml, appdirs, cached-property, bench-it, colorama, configparser, sqlfluff\n",
      "Successfully installed appdirs-1.4.4 bench-it-1.0.1 cached-property-1.5.2 colorama-0.4.4 configparser-5.0.2 diff-cover-5.0.1 inflect-5.3.0 jinja2-pluralize-0.3.0 oyaml-1.0 sqlfluff-0.5.2\n"
     ]
    }
   ],
   "source": [
    "!pip3 install sqlfluff"
   ]
  },
  {
   "source": [
    "## Parse the SQL file Using `sqlfluff parse`\n",
    "\n",
    "You can also use the Python API `sqlfluff.parse` to parse a SQL query/file, \n",
    "however,\n",
    "you have to manually handle exceptions at this time."
   ],
   "cell_type": "markdown",
   "metadata": {}
  },
  {
   "cell_type": "code",
   "execution_count": 1,
   "metadata": {},
   "outputs": [
    {
     "output_type": "stream",
     "name": "stdout",
     "text": [
      "/bin/bash: sqlfluff: command not found\n"
     ]
    }
   ],
   "source": [
    "!sqlfluff parse example.sql > example_parse.log"
   ]
  },
  {
   "source": [
    "## Parse the Log File to Extract Identifier Names"
   ],
   "cell_type": "markdown",
   "metadata": {}
  },
  {
   "cell_type": "code",
   "execution_count": null,
   "metadata": {},
   "outputs": [],
   "source": [
    "import re\n",
    "from pathlib import Path\n",
    "from typing import Set"
   ]
  },
  {
   "cell_type": "code",
   "execution_count": null,
   "metadata": {},
   "outputs": [],
   "source": [
    "def extract_identifier(line):\n",
    "    identifier = line.strip().rsplit(maxsplit=1)[-1]\n",
    "    return identifier[1:-1]\n",
    "        \n",
    "        \n",
    "def extract_reference(lines, idx):\n",
    "    if \"dot:\" in lines[idx+2]:\n",
    "        return extract_identifier(lines[idx+1]), extract_identifier(lines[idx+3])\n",
    "    return \"\", extract_identifier(lines[idx+1])\n",
    "\n",
    "\n",
    "def gen_mapping(names: Set[str], prefix):\n",
    "    mapping = {}\n",
    "    idx = 1\n",
    "    for name in names:\n",
    "        if name in mapping:\n",
    "            continue\n",
    "        name_lower = name.lower()\n",
    "        if name_lower in mapping:\n",
    "            mapping[name] = mapping[name_lower]\n",
    "            continue\n",
    "        mapping[name] = prefix + str(idx)\n",
    "        mapping[name_lower] = mapping[name]\n",
    "        idx += 1\n",
    "    return mapping\n",
    "        \n",
    "\n",
    "    def anonymize(sql, *mappings):\n",
    "        for mapping in mappings:\n",
    "            for key, val in mapping.items():\n",
    "                sql = sql.replace(key, val)\n",
    "        return sql"
   ]
  },
  {
   "cell_type": "code",
   "execution_count": null,
   "metadata": {},
   "outputs": [],
   "source": [
    "with Path(\"parse_example.log\").open() as fin:\n",
    "    lines = fin.readlines()\n",
    "col_refs = [extract_reference(lines, idx) for idx, line in enumerate(lines) if re.search(\"\\|\\s*column_reference:\", line)]\n",
    "cols = set(col for _, col in col_refs)\n",
    "cols"
   ]
  },
  {
   "cell_type": "code",
   "execution_count": null,
   "metadata": {},
   "outputs": [],
   "source": [
    "tab_refs = [extract_table_reference(lines, idx) for idx, line in enumerate(lines) if re.search(\"\\|\\s*table_reference:\", line)]\n",
    "dbs = set(db for db, _ in tab_refs if db)\n",
    "dbs"
   ]
  },
  {
   "cell_type": "code",
   "execution_count": null,
   "metadata": {},
   "outputs": [],
   "source": [
    "tables = set(table for _, table in tab_refs if table)\n",
    "tables"
   ]
  },
  {
   "source": [
    "## Anonymize a SQL File\n",
    "\n",
    "Once you get all database, table and column names from a SQL query, \n",
    "you can anonymize the SQL query by replacing database, table and column names \n",
    "with non-sensitive names. "
   ],
   "cell_type": "markdown",
   "metadata": {}
  },
  {
   "cell_type": "code",
   "execution_count": null,
   "metadata": {},
   "outputs": [],
   "source": [
    "sql = Path(\"example.sql\").read_text()\n",
    "sql_anon = anonymize(sql, gen_mapping(dbs, \"db_\"), gen_mapping(tables, \"table_\"), gen_mapping(cols, \"col_\"))"
   ]
  }
 ]
}