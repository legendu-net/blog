{
 "cells": [
  {
   "cell_type": "markdown",
   "metadata": {},
   "source": [
    "- Author: Ben Du\n",
    "- Date: 2021-04-21 09:46:38\n",
    "- Title: Implement a Singleton in Rust\n",
    "- Slug: implement-a-singleton-in-rust\n",
    "- Category: Computer Science\n",
    "- Tags: Computer Science, programming, Rust, singleton, once_cell, lazy_static, lazy, static, assignment\n",
    "- Modified: 2023-01-08 18:42:54\n"
   ]
  },
  {
   "cell_type": "markdown",
   "metadata": {},
   "source": [
    "**Things on this page are fragmentary and immature notes/thoughts of the author. Please read with your own judgement!**"
   ]
  },
  {
   "cell_type": "markdown",
   "metadata": {},
   "source": [
    "## Tips and Traps\n",
    "\n",
    "1. There are 2 Rust crates\n",
    "    [lazy_static](https://crates.io/crates/lazy_static)\n",
    "    and\n",
    "    [once_cell](https://crates.io/crates/once_cell)\n",
    "    for (lazy) once assignment \n",
    "    (which can be used to create singletons).\n",
    "    [once_cell](https://crates.io/crates/once_cell)\n",
    "    is preferred to \n",
    "    [lazy_static](https://crates.io/crates/lazy_static)\n",
    "    for a few reasons\n",
    "    .\n",
    "    - [once_cell](https://crates.io/crates/once_cell)\n",
    "        is both more flexible and more convenient than \n",
    "        [lazy_static](https://crates.io/crates/lazy_static)\n",
    "        .\n",
    "\n",
    "    - Unlike \n",
    "        [once_cell](https://crates.io/crates/once_cell)\n",
    "        ,\n",
    "        [lazy_static](https://crates.io/crates/lazy_static)\n",
    "        supports spinlock-based implementation of blocking which works with `#![no_std]`.\n",
    "        \n",
    "    -  [once_cell](https://crates.io/crates/once_cell)\n",
    "        will likely be part of the Rust standard library in future. \n",
    "        \n",
    "2. Once assignment means that you can only assign value to such a variable once.\n",
    "    However, \n",
    "    it is still possible to mutate the variable after initialization.\n",
    "    \n",
    "3. When defining a static variable which implements Copy,\n",
    "    you can define it as a static reference.\n",
    "    This helps avoiding accidental implicity copies.\n",
    "    The more idiomatic way is to define a wrapper non-Copy struct\n",
    "    so that you can be sure that the underlying data won't get copied."
   ]
  },
  {
   "cell_type": "code",
   "execution_count": 5,
   "metadata": {},
   "outputs": [
    {
     "data": {
      "text/plain": [
       "sccache: true\n"
      ]
     },
     "execution_count": 5,
     "metadata": {},
     "output_type": "execute_result"
    }
   ],
   "source": [
    ":sccache 1\n",
    ":dep once_cell = \"1.13.0\""
   ]
  },
  {
   "cell_type": "code",
   "execution_count": 6,
   "metadata": {},
   "outputs": [],
   "source": [
    "use std::{sync::Mutex, collections::HashMap};\n",
    "use once_cell::sync::Lazy;"
   ]
  },
  {
   "cell_type": "markdown",
   "metadata": {},
   "source": [
    "## Create a Mutable Static Variable (Singleton)"
   ]
  },
  {
   "cell_type": "code",
   "execution_count": 15,
   "metadata": {},
   "outputs": [],
   "source": [
    "static GLOBAL_DATA_1: Lazy<Mutex<HashMap<i32, String>>> = Lazy::new(|| {\n",
    "    let mut m = HashMap::new();\n",
    "    m.insert(13, \"Spica\".to_string());\n",
    "    m.insert(74, \"Hoyten\".to_string());\n",
    "    Mutex::new(m)\n",
    "});"
   ]
  },
  {
   "cell_type": "code",
   "execution_count": 16,
   "metadata": {},
   "outputs": [
    {
     "data": {
      "text/plain": [
       "Some(\"New change\")"
      ]
     },
     "execution_count": 16,
     "metadata": {},
     "output_type": "execute_result"
    }
   ],
   "source": [
    "GLOBAL_DATA_1.lock().unwrap().insert(1, \"New change\".to_string());\n",
    "GLOBAL_DATA_1.lock().unwrap().get(&1)"
   ]
  },
  {
   "cell_type": "markdown",
   "metadata": {},
   "source": [
    "## Create a Immutable Static Variable (Singleton)\n",
    "\n",
    "Mutex allows threads to mutate the static variable after initialization. \n",
    "It is not necessary if you just need a readable static variable (after initialization)."
   ]
  },
  {
   "cell_type": "code",
   "execution_count": 20,
   "metadata": {},
   "outputs": [],
   "source": [
    "static GLOBAL_DATA_2: Lazy<HashMap<i32, String>> = Lazy::new(|| {\n",
    "    let mut m = HashMap::new();\n",
    "    m.insert(13, \"Spica\".to_string());\n",
    "    m.insert(74, \"Hoyten\".to_string());\n",
    "    m\n",
    "});"
   ]
  },
  {
   "cell_type": "code",
   "execution_count": 22,
   "metadata": {},
   "outputs": [
    {
     "ename": "Error",
     "evalue": "cannot borrow immutable static item `GLOBAL_DATA_2` as mutable",
     "output_type": "error",
     "traceback": [
      "GLOBAL_DATA_2.insert(1, \"New change\".to_string());",
      "^^^^^^^^^^^^^^^^^^^^^^^^^^^^^^^^^^^^^^^^^^^^^^^^^ cannot borrow as mutable",
      "cannot borrow immutable static item `GLOBAL_DATA_2` as mutable"
     ]
    }
   ],
   "source": [
    "GLOBAL_DATA_2.insert(1, \"New change\".to_string());\n",
    "GLOBAL_DATA_2.get(&1)"
   ]
  },
  {
   "cell_type": "code",
   "execution_count": 23,
   "metadata": {},
   "outputs": [
    {
     "data": {
      "text/plain": [
       "Some(\"Spica\")"
      ]
     },
     "execution_count": 23,
     "metadata": {},
     "output_type": "execute_result"
    }
   ],
   "source": [
    "GLOBAL_DATA.get(&13)"
   ]
  },
  {
   "cell_type": "markdown",
   "metadata": {},
   "source": [
    "## References\n",
    "\n",
    "- [Rust Crate - once_cell](https://crates.io/crates/once_cell)\n",
    "\n",
    "- [Official Doc - once_cell](https://docs.rs/once_cell/latest/once_cell/)\n",
    "\n",
    "- [Struct std::sync::Once](https://doc.rust-lang.org/stable/std/sync/struct.Once.html)\n",
    "\n",
    "- [Struct std::cell::Cell](https://doc.rust-lang.org/stable/std/cell/struct.Cell.html)"
   ]
  },
  {
   "cell_type": "code",
   "execution_count": null,
   "metadata": {},
   "outputs": [],
   "source": []
  }
 ],
 "metadata": {
  "file_extension": ".py",
  "kernelspec": {
   "display_name": "Rust",
   "language": "rust",
   "name": "rust"
  },
  "language_info": {
   "codemirror_mode": "rust",
   "file_extension": ".rs",
   "mimetype": "text/rust",
   "name": "Rust",
   "pygment_lexer": "rust",
   "version": ""
  },
  "mimetype": "text/x-python",
  "name": "python",
  "npconvert_exporter": "python",
  "pygments_lexer": "ipython3",
  "version": 3
 },
 "nbformat": 4,
 "nbformat_minor": 4
}
