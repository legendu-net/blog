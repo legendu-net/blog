{
 "cells": [
  {
   "cell_type": "markdown",
   "metadata": {},
   "source": [
    "- Author: Ben Du\n",
    "- Date: 2021-04-21 09:46:38\n",
    "- Title: Implement a Singleton in Rust\n",
    "- Slug: implement-a-singleton-in-rust\n",
    "- Category: Computer Science\n",
    "- Tags: Computer Science, programming, Rust, singleton, lazy_static\n",
    "- Modified: 2021-04-21 09:46:38\n"
   ]
  },
  {
   "cell_type": "markdown",
   "metadata": {},
   "source": [
    "**Things on this page are fragmentary and immature notes/thoughts of the author. Please read with your own judgement!**"
   ]
  },
  {
   "cell_type": "markdown",
   "metadata": {},
   "source": [
    "## Tips and Traps\n",
    "\n",
    "1. The current best way is to use the crate [lazy_static](https://crates.io/crates/lazy_static).\n",
    "    It is implemented leveraging `std::sync::Once`, `std::cell::Cell`, etc.\n",
    "    There is a good discussion on this at \n",
    "    [Static Struct (with a String) inside a module for singleton pattern](https://users.rust-lang.org/t/static-struct-with-a-string-inside-a-module-for-singleton-pattern/37475)."
   ]
  },
  {
   "cell_type": "markdown",
   "metadata": {},
   "source": [
    "## Example Code"
   ]
  },
  {
   "cell_type": "code",
   "execution_count": null,
   "metadata": {},
   "outputs": [],
   "source": [
    "use lazy_static::lazy_static;\n",
    "use std::collections::HashMap;\n",
    "\n",
    "lazy_static! {\n",
    "    static ref HASHMAP: HashMap<u32, &'static str> = {\n",
    "        let mut m = HashMap::new();\n",
    "        m.insert(0, \"foo\");\n",
    "        m.insert(1, \"bar\");\n",
    "        m.insert(2, \"baz\");\n",
    "        m\n",
    "    };\n",
    "}\n",
    "\n",
    "fn main() {\n",
    "    // First access to `HASHMAP` initializes it\n",
    "    println!(\"The entry for `0` is \\\"{}\\\".\", HASHMAP.get(&0).unwrap());\n",
    "\n",
    "    // Any further access to `HASHMAP` just returns the computed value\n",
    "    println!(\"The entry for `1` is \\\"{}\\\".\", HASHMAP.get(&1).unwrap());\n",
    "}"
   ]
  },
  {
   "cell_type": "markdown",
   "metadata": {},
   "source": [
    "## References\n",
    "\n",
    "https://github.com/rust-lang-nursery/lazy-static.rs\n",
    "\n",
    "https://crates.io/crates/lazy_static\n",
    "\n",
    "[Struct std::sync::Once](https://doc.rust-lang.org/stable/std/sync/struct.Once.html)\n",
    "\n",
    "[Struct std::cell::Cell](https://doc.rust-lang.org/stable/std/cell/struct.Cell.html)"
   ]
  },
  {
   "cell_type": "code",
   "execution_count": null,
   "metadata": {},
   "outputs": [],
   "source": []
  }
 ],
 "metadata": {
  "file_extension": ".py",
  "kernelspec": {
   "display_name": "Rust",
   "language": "rust",
   "name": "rust"
  },
  "language_info": {
   "codemirror_mode": "rust",
   "file_extension": ".rs",
   "mimetype": "text/rust",
   "name": "Rust",
   "pygment_lexer": "rust",
   "version": ""
  },
  "mimetype": "text/x-python",
  "name": "python",
  "npconvert_exporter": "python",
  "pygments_lexer": "ipython3",
  "version": 3
 },
 "nbformat": 4,
 "nbformat_minor": 4
}