{
 "cells": [
  {
   "cell_type": "markdown",
   "metadata": {},
   "source": [
    "- Author: Ben Du\n",
    "- Date: 2021-04-22 15:49:02\n",
    "- Modified: 2021-04-22 15:49:02\n",
    "- Title: Bundle Resource Files into a Rust Application\n",
    "- Slug: bundle-resource-files-into-a-rust-application\n",
    "- Category: Computer Science\n",
    "- Tags: Computer Science, programming, Rust, bundle, resource, file, include_str, include_bytes, cargo, deb, include_dir, rust-embed, embed"
   ]
  },
  {
   "cell_type": "markdown",
   "metadata": {},
   "source": [
    "**Things on this page are fragmentary and immature notes/thoughts of the author. Please read with your own judgement!**"
   ]
  },
  {
   "cell_type": "markdown",
   "metadata": {},
   "source": [
    "1. The Rust macro\n",
    "    [include_str](https://doc.rust-lang.org/std/macro.include_str.html)\n",
    "    includes a UTF-8 encoded file as a string;\n",
    "    the Rust macro\n",
    "    [include_bytes](https://doc.rust-lang.org/std/macro.include_bytes.html)\n",
    "    includes a file as a reference to a byte array.\n",
    "    Both of those 2 macros load files into the Rust binary at compile time \n",
    "    and consume memory at run time.\n",
    "    It might not be a good idea to use them for large files!\n",
    "\n",
    "2. The Rust crate \n",
    "    [rust-embed](https://crates.io/crates/rust-embed)\n",
    "    provides custom derive macro \n",
    "    which loads files into the Rust binary at compile time \n",
    "    during release and loads the file from the fs during dev\n",
    "    .\n",
    "    It is the recommended way to embed many files into the Rust binary.\n",
    "    \n",
    "3. The Rust crate\n",
    "    [include_dir](https://crates.io/crates/include_dir)\n",
    "    is an evolution of the `include_str` \n",
    "    and `include_bytes` macros for embedding an entire directory tree into your binary.\n",
    "    It severs a similar purpose as the Rust crate \n",
    "    [rust-embed](https://crates.io/crates/rust-embed)\n",
    "    ."
   ]
  },
  {
   "cell_type": "code",
   "execution_count": null,
   "metadata": {},
   "outputs": [],
   "source": [
    "If you need data files in your program, then:\n",
    "\n",
    "include_bytes!() will hardcode data inside your executable. That's very useful if you need some internal data that the user doesn't need to touch.\n",
    "\n",
    "Combine env::current_exe() with Path::join() and fs::canonicalize() to get absolute path relative to the executable. That's reasonable for data files distributed with the program, e.g. for a game.\n",
    "\n",
    "Allow user to specify the path on command line\n",
    "\n",
    "Use standard system directories for the data files"
   ]
  },
  {
   "cell_type": "markdown",
   "metadata": {},
   "source": [
    "## References \n",
    "\n",
    "[Installing data files (assets) when ‘cargo install’ is run](https://users.rust-lang.org/t/installing-data-files-assets-when-cargo-install-is-run/47690)\n",
    "\n",
    "https://crates.io/crates/cargo-deb\n",
    "\n",
    "https://github.com/burtonageo/cargo-bundle\n",
    "\n",
    "https://crates.io/crates/cargo-rpm\n",
    "\n",
    "[Different output of env::current_dir()](https://users.rust-lang.org/t/different-output-of-env-current-dir/18968)"
   ]
  },
  {
   "cell_type": "code",
   "execution_count": null,
   "metadata": {},
   "outputs": [],
   "source": []
  }
 ],
 "metadata": {
  "file_extension": ".py",
  "kernelspec": {
   "display_name": "Rust",
   "language": "rust",
   "name": "rust"
  },
  "language_info": {
   "codemirror_mode": "rust",
   "file_extension": ".rs",
   "mimetype": "text/rust",
   "name": "Rust",
   "pygment_lexer": "rust",
   "version": ""
  },
  "mimetype": "text/x-python",
  "name": "python",
  "npconvert_exporter": "python",
  "pygments_lexer": "ipython3",
  "version": 3
 },
 "nbformat": 4,
 "nbformat_minor": 4
}
