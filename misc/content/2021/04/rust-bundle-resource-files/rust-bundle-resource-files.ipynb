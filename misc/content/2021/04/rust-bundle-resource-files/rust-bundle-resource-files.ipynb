{
 "cells": [
  {
   "cell_type": "markdown",
   "metadata": {},
   "source": [
    "- Author: Ben Du\n",
    "- Date: 2021-04-22 15:49:02\n",
    "- Title: Bundle Resource Files into a Rust Application\n",
    "- Slug: bundle-resource-files-into-a-rust-application\n",
    "- Category: Computer Science\n",
    "- Tags: Computer Science, programming, Rust, bundle, resource, file, include_str, include_bytes, cargo, deb\n",
    "- Modified: 2021-04-22 15:49:02\n"
   ]
  },
  {
   "cell_type": "markdown",
   "metadata": {},
   "source": [
    "**Things on this page are fragmentary and immature notes/thoughts of the author. Please read with your own judgement!**"
   ]
  },
  {
   "cell_type": "markdown",
   "metadata": {},
   "source": [
    "\n",
    "1. If the file does not need (much) preprocessing,\n",
    "    you can use macros \n",
    "    [Macro std::include_str](https://doc.rust-lang.org/std/macro.include_str.html)\n",
    "    and\n",
    "    [Macro std::include_bytes](https://doc.rust-lang.org/std/macro.include_bytes.html)\n",
    "    ."
   ]
  },
  {
   "cell_type": "code",
   "execution_count": null,
   "metadata": {},
   "outputs": [],
   "source": [
    "If you need data files in your program, then:\n",
    "\n",
    "include_bytes!() will hardcode data inside your executable. That's very useful if you need some internal data that the user doesn't need to touch.\n",
    "\n",
    "Combine env::current_exe() with Path::join() and fs::canonicalize() to get absolute path relative to the executable. That's reasonable for data files distributed with the program, e.g. for a game.\n",
    "\n",
    "Allow user to specify the path on command line\n",
    "\n",
    "Use standard system directories for the data files"
   ]
  },
  {
   "cell_type": "markdown",
   "metadata": {},
   "source": [
    "## References \n",
    "\n",
    "[Installing data files (assets) when \u2018cargo install\u2019 is run](https://users.rust-lang.org/t/installing-data-files-assets-when-cargo-install-is-run/47690)\n",
    "\n",
    "https://crates.io/crates/cargo-deb\n",
    "\n",
    "https://github.com/burtonageo/cargo-bundle\n",
    "\n",
    "https://crates.io/crates/cargo-rpm\n",
    "\n",
    "[Different output of env::current_dir()](https://users.rust-lang.org/t/different-output-of-env-current-dir/18968)"
   ]
  },
  {
   "cell_type": "code",
   "execution_count": null,
   "metadata": {},
   "outputs": [],
   "source": []
  }
 ],
 "metadata": {
  "file_extension": ".py",
  "kernelspec": {
   "display_name": "Rust",
   "language": "rust",
   "name": "rust"
  },
  "language_info": {
   "codemirror_mode": "rust",
   "file_extension": ".rs",
   "mimetype": "text/rust",
   "name": "Rust",
   "pygment_lexer": "rust",
   "version": ""
  },
  "mimetype": "text/x-python",
  "name": "python",
  "npconvert_exporter": "python",
  "pygments_lexer": "ipython3",
  "version": 3
 },
 "nbformat": 4,
 "nbformat_minor": 4
}