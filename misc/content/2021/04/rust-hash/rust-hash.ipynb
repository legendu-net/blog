{
 "cells": [
  {
   "cell_type": "markdown",
   "metadata": {},
   "source": [
    "- Author: Ben Du\n",
    "- Date: 2021-04-19 20:43:47\n",
    "- Title: Hash in Rust\n",
    "- Slug: hash-in-rust\n",
    "- Category: Computer Science\n",
    "- Tags: Computer Science, programming, Rust, hash, Hasher, Eq, equal\n",
    "- Modified: 2021-04-19 20:43:47\n"
   ]
  },
  {
   "cell_type": "markdown",
   "metadata": {},
   "source": [
    "**Things on this page are fragmentary and immature notes/thoughts of the author. Please read with your own judgement!**"
   ]
  },
  {
   "cell_type": "markdown",
   "metadata": {},
   "source": [
    "1. Hashing calculation in Rust is different from Java, Python, etc.\n",
    "    The `hash` function of the `Hash` trait does not return a hash value,\n",
    "    but instead feed hash into a `Hasher`. \n",
    "    The Hasher is responsible for generating the final hash code based on hash values of different components. \n",
    "    This is one step further simplification over Java and Python's way of calculating hash values\n",
    "    (in which users are responsible for deciding how to combine different hash values.)\n",
    "\n",
    "2. You should either implement both `Hash` and `Eq` traits of neither of them.\n",
    "    When implementing `Hash` and `Eq` traits,\n",
    "    make sure they satisfy the constrait \n",
    "    `k1 == k2 -> hash(k1) == hash(k2)`."
   ]
  },
  {
   "cell_type": "markdown",
   "metadata": {},
   "source": [
    "## PartialEq, Eq and Hash\n",
    "\n",
    "`#[derive(PartialEq, Eq, Hash)]`\n",
    "Whenever you implement `Eq` or `Hash`,\n",
    "you should implement all three of `PartialEq`, `Eq` and `Hash`.\n",
    "One simple way to do this is to use `#[derive(PartialEq, Eq, Hash)]`.\n",
    "When you implement `PartialEq`, `Eq` and `Hash` traits, \n",
    "make sure that `k1 == k2 -> hash(k1) == hash(k2)`.\n",
    "When deriving `PartialEq`, `Eq` and `Hash`,\n",
    "the constraint is hold automatically \n",
    "so that you don't have to worry about it."
   ]
  },
  {
   "cell_type": "code",
   "execution_count": 2,
   "metadata": {},
   "outputs": [],
   "source": [
    "struct Person {\n",
    "    name: String,\n",
    "    age: i32,\n",
    "}"
   ]
  },
  {
   "cell_type": "code",
   "execution_count": 7,
   "metadata": {},
   "outputs": [],
   "source": [
    "let p3 = Person::new(\"Ben Du\", 30);"
   ]
  },
  {
   "cell_type": "code",
   "execution_count": 2,
   "metadata": {},
   "outputs": [
    {
     "name": "stdout",
     "output_type": "stream",
     "text": [
      "Hash is fa637a3502273993!\n"
     ]
    }
   ],
   "source": [
    "use std::collections::hash_map::DefaultHasher;\n",
    "use std::hash::{Hash, Hasher};\n",
    "\n",
    "let mut hasher = DefaultHasher::new();\n",
    "7920.hash(&mut hasher);\n",
    "println!(\"Hash is {:x}!\", hasher.finish());"
   ]
  },
  {
   "cell_type": "markdown",
   "metadata": {},
   "source": [
    "## Calculate Hash of An Object"
   ]
  },
  {
   "cell_type": "code",
   "execution_count": 5,
   "metadata": {
    "tags": []
   },
   "outputs": [],
   "source": [
    "use std::hash::{Hash, Hasher};"
   ]
  },
  {
   "cell_type": "code",
   "execution_count": 6,
   "metadata": {},
   "outputs": [],
   "source": [
    "impl Hash for Person {\n",
    "    fn hash<H: Hasher>(&self, state: &mut H) {\n",
    "        self.name.hash(state);\n",
    "        self.age.hash(state);\n",
    "    }\n",
    "}"
   ]
  },
  {
   "cell_type": "markdown",
   "metadata": {},
   "source": [
    "## References\n",
    "\n",
    "[Module std::hash](https://doc.rust-lang.org/std/hash/index.html)\n",
    "\n",
    "[Hand-Implementing PartialEq, Eq, Hash, PartialOrd and Ord in Rust](https://www.philipdaniels.com/blog/2019/rust-equality-and-ordering/)"
   ]
  },
  {
   "cell_type": "code",
   "execution_count": null,
   "metadata": {},
   "outputs": [],
   "source": []
  }
 ],
 "metadata": {
  "file_extension": ".py",
  "kernelspec": {
   "display_name": "Rust",
   "language": "rust",
   "name": "rust"
  },
  "language_info": {
   "codemirror_mode": "rust",
   "file_extension": ".rs",
   "mimetype": "text/rust",
   "name": "Rust",
   "pygment_lexer": "rust",
   "version": ""
  },
  "mimetype": "text/x-python",
  "name": "python",
  "npconvert_exporter": "python",
  "pygments_lexer": "ipython3",
  "version": 3
 },
 "nbformat": 4,
 "nbformat_minor": 4
}