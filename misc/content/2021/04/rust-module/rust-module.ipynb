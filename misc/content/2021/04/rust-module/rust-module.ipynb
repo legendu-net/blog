{
 "cells": [
  {
   "cell_type": "markdown",
   "metadata": {},
   "source": [
    "- Author: Ben Du\n",
    "- Date: 2021-04-19 21:43:03\n",
    "- Title: Modules in Rust\n",
    "- Slug: modules-in-rust\n",
    "- Category: Computer Science\n",
    "- Tags: Computer Science, programming, Rust, module, crate, use\n",
    "- Modified: 2021-04-19 21:43:03\n"
   ]
  },
  {
   "cell_type": "markdown",
   "metadata": {},
   "source": [
    "**Things on this page are fragmentary and immature notes/thoughts of the author. Please read with your own judgement!**"
   ]
  },
  {
   "cell_type": "markdown",
   "metadata": {},
   "source": [
    "1. A Rust source file should be imported as a module only once in a library or application.\n",
    "    The right way to import modules in Rust is to import submodules (if any) in each module file. \n",
    "    \n",
    "2. You cannot define variables using `let` in a module. \n",
    "    Only static/const variables can be defined in a module.\n"
   ]
  },
  {
   "cell_type": "code",
   "execution_count": null,
   "metadata": {},
   "outputs": [],
   "source": []
  },
  {
   "cell_type": "markdown",
   "metadata": {},
   "source": [
    "## [Preludes](https://doc.rust-lang.org/std/prelude/)"
   ]
  },
  {
   "cell_type": "markdown",
   "metadata": {},
   "source": [
    "## References \n",
    "\n",
    "- [Clear explanation of Rust’s module system](http://www.sheshbabu.com/posts/rust-module-system/)\n",
    "\n",
    "- [Modules](https://doc.rust-lang.org/reference/items/modules.html)"
   ]
  },
  {
   "cell_type": "code",
   "execution_count": null,
   "metadata": {},
   "outputs": [],
   "source": []
  }
 ],
 "metadata": {
  "file_extension": ".py",
  "kernelspec": {
   "display_name": "Rust",
   "language": "rust",
   "name": "rust"
  },
  "language_info": {
   "codemirror_mode": "rust",
   "file_extension": ".rs",
   "mimetype": "text/rust",
   "name": "Rust",
   "pygment_lexer": "rust",
   "version": ""
  },
  "mimetype": "text/x-python",
  "name": "python",
  "npconvert_exporter": "python",
  "pygments_lexer": "ipython3",
  "version": 3
 },
 "nbformat": 4,
 "nbformat_minor": 4
}
