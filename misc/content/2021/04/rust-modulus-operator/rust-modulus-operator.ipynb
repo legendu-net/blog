{
 "cells": [
  {
   "cell_type": "markdown",
   "metadata": {},
   "source": [
    "- Author: Ben Du\n",
    "- Date: 2021-04-21 16:51:05\n",
    "- Title: The Modulus Operator in Rust\n",
    "- Slug: the-modulus-operator-in-rust\n",
    "- Category: Computer Science\n",
    "- Tags: Computer Science, programming\n",
    "- Modified: 2021-04-21 16:51:05\n"
   ]
  },
  {
   "cell_type": "markdown",
   "metadata": {},
   "source": [
    "**Things on this page are fragmentary and immature notes/thoughts of the author. Please read with your own judgement!**"
   ]
  },
  {
   "cell_type": "markdown",
   "metadata": {},
   "source": [
    "## Tips and Traps\n",
    "\n",
    "The modulus operator (`%`) in Rust is very picky about data types. \n",
    "It is only defined for two integers with the same type."
   ]
  },
  {
   "cell_type": "code",
   "execution_count": 2,
   "metadata": {},
   "outputs": [
    {
     "data": {
      "text/plain": [
       "3"
      ]
     },
     "execution_count": 2,
     "metadata": {},
     "output_type": "execute_result"
    }
   ],
   "source": [
    "8 % 5"
   ]
  },
  {
   "cell_type": "code",
   "execution_count": 3,
   "metadata": {},
   "outputs": [
    {
     "ename": "Error",
     "evalue": "mismatched types",
     "output_type": "error",
     "traceback": [
      "x % y",
      "    ^ expected `u64`, found `u32`",
      "mismatched types"
     ]
    },
    {
     "ename": "Error",
     "evalue": "cannot mod `u64` by `u32`",
     "output_type": "error",
     "traceback": [
      "x % y",
      "  ^ no implementation for `u64 % u32`",
      "cannot mod `u64` by `u32`",
      "help: the trait `Rem<u32>` is not implemented for `u64`"
     ]
    }
   ],
   "source": [
    "let x: u64 = 10;\n",
    "let y: u32 = 6;\n",
    "x % y"
   ]
  },
  {
   "cell_type": "code",
   "execution_count": 4,
   "metadata": {},
   "outputs": [
    {
     "data": {
      "text/plain": [
       "4"
      ]
     },
     "execution_count": 4,
     "metadata": {},
     "output_type": "execute_result"
    }
   ],
   "source": [
    "let x: u64 = 10;\n",
    "let y: u32 = 6;\n",
    "x % (y as u64)"
   ]
  },
  {
   "cell_type": "markdown",
   "metadata": {},
   "source": [
    "## References\n",
    "\n",
    "[RFC: implement Rem for all equally signed integers where RHS < LHS](https://github.com/rust-lang/rfcs/pull/2643)\n"
   ]
  }
 ],
 "metadata": {
  "file_extension": ".py",
  "kernelspec": {
   "display_name": "Rust",
   "language": "rust",
   "name": "rust"
  },
  "language_info": {
   "codemirror_mode": "rust",
   "file_extension": ".rs",
   "mimetype": "text/rust",
   "name": "Rust",
   "pygment_lexer": "rust",
   "version": ""
  },
  "mimetype": "text/x-python",
  "name": "python",
  "npconvert_exporter": "python",
  "pygments_lexer": "ipython3",
  "version": 3
 },
 "nbformat": 4,
 "nbformat_minor": 4
}