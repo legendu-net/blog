{
 "cells": [
  {
   "cell_type": "markdown",
   "metadata": {},
   "source": [
    "- Author: Ben Du\n",
    "- Date: 2021-04-19 20:58:22\n",
    "- Title: Trait in Rust\n",
    "- Slug: trait-in-rust\n",
    "- Category: Computer Science\n",
    "- Tags: Computer Science, programming, Rust, Copy, Clone, trait, super, generic\n",
    "- Modified: 2022-08-08 00:49:02\n"
   ]
  },
  {
   "cell_type": "markdown",
   "metadata": {},
   "source": [
    "**Things on this page are fragmentary and immature notes/thoughts of the author. Please read with your own judgement!**"
   ]
  },
  {
   "cell_type": "code",
   "execution_count": null,
   "metadata": {},
   "outputs": [],
   "source": [
    ":timing\n",
    ":sccache 1"
   ]
  },
  {
   "cell_type": "markdown",
   "metadata": {},
   "source": [
    "## Tips and Traps\n",
    "\n",
    "1. Sometimes a trait bound might be too generic for your use case.\n",
    "    If you want your function to take only a fixed number of types, \n",
    "    make your function takes an Enum instead of a generic type.\n",
    "    \n",
    "2. If you define a trait with a bound, \n",
    "    e.g., `trait Derived : Base`, \n",
    "    avoid defining default method implmentations with the same name.\n",
    "    That is if the trait `Base` provides a default implementation `f`,\n",
    "    you should avoid providing another default implementation `f` for `Derive`.\n",
    "    If you do provide default implementations with the same name in both traits,\n",
    "    they are uncorrelated and can cause confusion easily.\n",
    "    For more discussions,\n",
    "    please refer to [Rust Quiz 27](https://dtolnay.github.io/rust-quiz/27)."
   ]
  },
  {
   "cell_type": "markdown",
   "metadata": {},
   "source": [
    "## Trait \n",
    "\n",
    "Currently, \n",
    "a trait in Rust cannot access fields. \n",
    "If a default implementation is provided,\n",
    "the implementation cannot refer to any struct field. \n",
    "\n",
    "[Best Practices When Defining a Default Implementation for a Trait’s Method](https://users.rust-lang.org/t/best-practices-when-defining-a-default-implementation-for-a-traits-method/2033/2)\n",
    "\n",
    "[Allow fields in traits that map to lvalues in impl'ing type #1546](https://github.com/rust-lang/rfcs/pull/1546)\n",
    "\n",
    "[Fields in Traits](https://internals.rust-lang.org/t/fields-in-traits/6933)\n",
    "\n",
    "\n",
    "[Traits and trait objects - more than just interfaces - Rust Community Stuttgart](https://www.youtube.com/watch?v=izXf9-CTAfc)\n",
    "\n",
    "## Traits That You Should Consider Implementing for Your Structs \n",
    "\n",
    "- [Default](https://doc.rust-lang.org/beta/std/default/trait.Default.html)\n",
    "- Copy, Clone\n",
    "- [FromStr](https://doc.rust-lang.org/std/str/trait.FromStr.html)\n",
    "- [From](https://doc.rust-lang.org/std/convert/trait.From.html) / Into\n",
    "- [TryFrom](https://doc.rust-lang.org/std/convert/trait.TryFrom.html)\n",
    "- Display, Debug\n",
    "\n",
    "## Other Useful Traits\n",
    "\n",
    "- Borrow\n",
    "- AsRef\n",
    "- [num::traits::Unsigned](https://docs.rs/num/0.1.31/num/traits/trait.Unsigned.html)\n",
    "- [num_traits::identities::Zero](https://docs.rs/num-traits/0.2.10/num_traits/identities/trait.Zero.html)\n",
    "\n",
    "## PartialEq, Eq and Hash\n",
    "\n",
    "1. Unlike other popular programming languages,\n",
    "    Rust introduces the trait PartialEq \n",
    "    (for solving issues such as NaN in floating numbers).\n",
    "    The `Eq` trait is a trait without any method \n",
    "    which indicating that an object of the struct implementing `Eq` is comparable to itself.\n",
    "    You **always need to implement the trait `PartialEq` if you implement `Eq`**.\n",
    "    This eventually means that if you implement any of `Eq` or `Hash`,\n",
    "    you need to implement all three of `PartialEq`, `Eq` and `Hash`.\n",
    "    One simple way to do this is to use the macro `#[derive(PartialEq, Eq, Hash)]`.\n",
    "    However, \n",
    "    you can implement `PartialEq` without implementing `Eq` or `Hash`. \n",
    "\n",
    "## Sized vs ?Sized \n",
    "\n",
    "## Sync vs !Sync"
   ]
  },
  {
   "cell_type": "code",
   "execution_count": null,
   "metadata": {},
   "outputs": [],
   "source": []
  },
  {
   "cell_type": "markdown",
   "metadata": {},
   "source": [
    "## Copy vs Clone \n",
    "\n",
    "1. Clone means the type can be duplicated.\n",
    "    Copy means the type can be duplicated by copying bytes.\n",
    "    This means that Copy implies Clone,\n",
    "    so when you implements Copy you should always implement Clone.\n",
    "\n",
    "3. `Clone` is a common trait for the ability to explicitly duplicate an object.\n",
    "    It differs from `Copy` in that `Copy` is implicit and extremely inexpensive, \n",
    "    while `Clone` is always explicit and may or may not be expensive. \n",
    "    In order to enforce these characteristics, \n",
    "    Rust does not allow you to reimplement `Copy`, \n",
    "    but you may reimplement `Clone` and run arbitrary code.\n",
    "    Since `Clone` is more general than `Copy`, \n",
    "    you can automatically make anything `Copy` be `Clone` as well.\n",
    "    \n",
    "\n",
    "2. If a type does not implement the `Copy` trait,\n",
    "    it is moved when passed as a parameter. \n",
    "    This might cause issues of \"object moved\".\n",
    "    To resolve this issue, \n",
    "    you have to implement the `Copy` trait. \n",
    "    A simple way is to drive the `Copy` and `Clonable` traits\n",
    "    using `#[derive(Copy, Clone)]`.\n",
    "\n",
    "\n",
    "[Moves, copies and clones in Rust](https://hashrust.com/blog/moves-copies-and-clones-in-rust/)\n",
    "\n",
    "[Trait std::clone::Clone](https://doc.rust-lang.org/std/clone/trait.Clone.html)"
   ]
  },
  {
   "cell_type": "markdown",
   "metadata": {},
   "source": [
    "## AsRef\n",
    "\n",
    "1. The `AsRef` trait is very useful \n",
    "    to make a function taking a generic parameter \n",
    "    of the type `T` where `T` can be converted into the reference of a type\n",
    "    by calling the method `T.as_ref()`.\n",
    "    For example, \n",
    "    if `Card` is a struct\n",
    "    and you'd like to implement a function \n",
    "    which accepts both `&Vec<Card>` and `&Vec<&Card>`\n",
    "    as the parameter,\n",
    "    you can implement it as below."
   ]
  },
  {
   "cell_type": "code",
   "execution_count": null,
   "metadata": {},
   "outputs": [],
   "source": [
    "fn id_sum<T>(cards: &Vec<T>) -> u64\n",
    "where\n",
    "    T: AsRef<Card>,\n",
    "{\n",
    "    cards.into_iter().map(|c| c.as_ref().id).sum()\n",
    "}"
   ]
  },
  {
   "cell_type": "markdown",
   "metadata": {},
   "source": [
    "A perhaps more useful example is `AsRef<str>`.\n",
    "It is well known in Rust that \n",
    "if you want to have a parameter accpeting a string, \n",
    "it is best to specify its type as `&str` \n",
    "as a `String` value can be converted to `&str` without copying."
   ]
  },
  {
   "cell_type": "code",
   "execution_count": 14,
   "metadata": {},
   "outputs": [],
   "source": [
    "fn print_str(s: &str) {\n",
    "    println!(\"{}\", s);\n",
    "}"
   ]
  },
  {
   "cell_type": "code",
   "execution_count": 15,
   "metadata": {},
   "outputs": [
    {
     "name": "stdout",
     "output_type": "stream",
     "text": [
      "How are you doing?\n"
     ]
    }
   ],
   "source": [
    "print_str(\"How are you doing?\");"
   ]
  },
  {
   "cell_type": "code",
   "execution_count": 17,
   "metadata": {},
   "outputs": [
    {
     "name": "stdout",
     "output_type": "stream",
     "text": [
      "How are you doing\n"
     ]
    }
   ],
   "source": [
    "let s: String = \"How are you doing\".into();\n",
    "print_str(s.as_ref());"
   ]
  },
  {
   "cell_type": "markdown",
   "metadata": {},
   "source": [
    "First, \n",
    "the above example is not generic enough \n",
    "as uses have to manually cast the type of value to `&str`.\n",
    "Second,\n",
    "what if we want to implement a function taking a vector of strings (&str, String, etc.)? \n",
    "`AsRef` comes to rescue!"
   ]
  },
  {
   "cell_type": "code",
   "execution_count": 2,
   "metadata": {},
   "outputs": [],
   "source": [
    "fn count_chars<T>(strs: &Vec<T>) -> usize\n",
    "where\n",
    "    T: AsRef<str>\n",
    "{\n",
    "    strs.iter().map(|s| s.as_ref().len()).sum()\n",
    "}"
   ]
  },
  {
   "cell_type": "code",
   "execution_count": 5,
   "metadata": {},
   "outputs": [
    {
     "data": {
      "text/plain": [
       "9"
      ]
     },
     "execution_count": 5,
     "metadata": {},
     "output_type": "execute_result"
    }
   ],
   "source": [
    "let strs = vec![\"how\", \"are\", \"you\"];\n",
    "count_chars(&strs)"
   ]
  },
  {
   "cell_type": "code",
   "execution_count": 6,
   "metadata": {},
   "outputs": [
    {
     "data": {
      "text/plain": [
       "9"
      ]
     },
     "execution_count": 6,
     "metadata": {},
     "output_type": "execute_result"
    }
   ],
   "source": [
    "let strs = vec![\"how\".to_string(), \"are\".to_string(), \"you\".to_string()];\n",
    "count_chars(&strs)"
   ]
  },
  {
   "cell_type": "code",
   "execution_count": 12,
   "metadata": {},
   "outputs": [
    {
     "data": {
      "text/plain": [
       "9"
      ]
     },
     "execution_count": 12,
     "metadata": {},
     "output_type": "execute_result"
    }
   ],
   "source": [
    "{\n",
    "    let strs = vec![\"how\", \"are\", \"you\"];\n",
    "    let strs_ref = vec![&strs[0], &strs[1], &strs[2]];\n",
    "    count_chars(&strs_ref)\n",
    "}"
   ]
  },
  {
   "cell_type": "code",
   "execution_count": 13,
   "metadata": {},
   "outputs": [
    {
     "data": {
      "text/plain": [
       "9"
      ]
     },
     "execution_count": 13,
     "metadata": {},
     "output_type": "execute_result"
    }
   ],
   "source": [
    "{\n",
    "    let strs = vec![\"how\".to_string(), \"are\".to_string(), \"you\".to_string()];\n",
    "    let strs_ref = vec![&strs[0], &strs[1], &strs[2]];\n",
    "    count_chars(&strs_ref)\n",
    "}"
   ]
  },
  {
   "cell_type": "markdown",
   "metadata": {},
   "source": [
    "## AsRef vs Borrow\n",
    "\n",
    "https://rusty-ferris.pages.dev/blog/asref-vs-borrow-trait/"
   ]
  },
  {
   "cell_type": "markdown",
   "metadata": {},
   "source": [
    "As you can see that the above function \n",
    "accepts a vector of `&str`, `String`, `&&str`, `&String`, \n",
    "and more."
   ]
  },
  {
   "cell_type": "markdown",
   "metadata": {},
   "source": [
    "## IntoIterator - Trait for `into_ter`\n",
    "\n",
    "When demonstraing the use of `AsRef<T>`, \n",
    "we has a function taking a vector of values. \n",
    "This is not generic enough. \n",
    "For the same reason that `&str` is preferred over `String` as function parameters,\n",
    "the slice type `&[T]` is preferred over `&Vec<T>`\n",
    "(as a vector reference can be converted to a slice implicitly)."
   ]
  },
  {
   "cell_type": "code",
   "execution_count": 18,
   "metadata": {},
   "outputs": [],
   "source": [
    "fn count_chars<T>(strs: &[T]) -> usize\n",
    "where\n",
    "    T: AsRef<str>\n",
    "{\n",
    "    strs.iter().map(|s| s.as_ref().len()).sum()\n",
    "}"
   ]
  },
  {
   "cell_type": "code",
   "execution_count": 19,
   "metadata": {},
   "outputs": [
    {
     "data": {
      "text/plain": [
       "9"
      ]
     },
     "execution_count": 19,
     "metadata": {},
     "output_type": "execute_result"
    }
   ],
   "source": [
    "let strs = vec![\"how\", \"are\", \"you\"];\n",
    "count_chars(&strs)"
   ]
  },
  {
   "cell_type": "code",
   "execution_count": 20,
   "metadata": {},
   "outputs": [
    {
     "data": {
      "text/plain": [
       "9"
      ]
     },
     "execution_count": 20,
     "metadata": {},
     "output_type": "execute_result"
    }
   ],
   "source": [
    "let strs = [\"how\", \"are\", \"you\"];\n",
    "count_chars(&strs)"
   ]
  },
  {
   "cell_type": "markdown",
   "metadata": {},
   "source": [
    "Pushing generic one step further, \n",
    "we can make the above function taking a type implementing `IntoIterator` instead of `&[T]`\n",
    "(similar to `AsRef<str>` vs `&str`).\n",
    "This makes the function takes even more collection/iterator types\n",
    "as long as they implement `IntoInterator`."
   ]
  },
  {
   "cell_type": "code",
   "execution_count": 22,
   "metadata": {},
   "outputs": [],
   "source": [
    "fn count_chars<I, T>(strs: I) -> usize\n",
    "where\n",
    "    I: IntoIterator<Item = T>, \n",
    "    T: AsRef<str>\n",
    "{\n",
    "    strs.into_iter().map(|s| s.as_ref().len()).sum()\n",
    "}"
   ]
  },
  {
   "cell_type": "code",
   "execution_count": 23,
   "metadata": {},
   "outputs": [
    {
     "data": {
      "text/plain": [
       "9"
      ]
     },
     "execution_count": 23,
     "metadata": {},
     "output_type": "execute_result"
    }
   ],
   "source": [
    "let strs = vec![\"how\", \"are\", \"you\"];\n",
    "count_chars(&strs)"
   ]
  },
  {
   "cell_type": "code",
   "execution_count": 24,
   "metadata": {},
   "outputs": [
    {
     "data": {
      "text/plain": [
       "9"
      ]
     },
     "execution_count": 24,
     "metadata": {},
     "output_type": "execute_result"
    }
   ],
   "source": [
    "let strs = vec![\"how\", \"are\", \"you\"];\n",
    "count_chars(strs)"
   ]
  },
  {
   "cell_type": "code",
   "execution_count": 25,
   "metadata": {},
   "outputs": [
    {
     "data": {
      "text/plain": [
       "9"
      ]
     },
     "execution_count": 25,
     "metadata": {},
     "output_type": "execute_result"
    }
   ],
   "source": [
    "let strs = [\"how\", \"are\", \"you\"];\n",
    "count_chars(&strs)"
   ]
  },
  {
   "cell_type": "code",
   "execution_count": 26,
   "metadata": {},
   "outputs": [
    {
     "data": {
      "text/plain": [
       "9"
      ]
     },
     "execution_count": 26,
     "metadata": {},
     "output_type": "execute_result"
    }
   ],
   "source": [
    "let strs = [\"how\", \"are\", \"you\"];\n",
    "count_chars(strs)"
   ]
  },
  {
   "cell_type": "markdown",
   "metadata": {},
   "source": [
    "## Trait for `iter`\n",
    "\n",
    "There is no Trait in Rust for `iter`\n",
    "as it is not necessary\n",
    "and can be achieve by calling `into_iter` on a reference type."
   ]
  },
  {
   "cell_type": "markdown",
   "metadata": {},
   "source": [
    "## Examples of Generic Types with Trait Bounds\n",
    "\n",
    "The following 2 examples are identical ways to specify trait bounds. "
   ]
  },
  {
   "cell_type": "code",
   "execution_count": 31,
   "metadata": {},
   "outputs": [],
   "source": [
    ":dep num-traits = \"0.2.14\""
   ]
  },
  {
   "cell_type": "code",
   "execution_count": 32,
   "metadata": {},
   "outputs": [],
   "source": [
    "use num_traits::AsPrimitive;"
   ]
  },
  {
   "cell_type": "code",
   "execution_count": 33,
   "metadata": {},
   "outputs": [],
   "source": [
    "fn sp1<T: AsPrimitive<usize>>(major_rank: T) -> f64 {\n",
    "    let r = major_rank.as_();\n",
    "    if r <= 5 {\n",
    "        return 0.0;\n",
    "    }\n",
    "    (r - 5) as f64\n",
    "}"
   ]
  },
  {
   "cell_type": "code",
   "execution_count": 34,
   "metadata": {},
   "outputs": [],
   "source": [
    "enum MyEnum {\n",
    "     A = 0,\n",
    "     B,\n",
    "}"
   ]
  },
  {
   "cell_type": "code",
   "execution_count": 36,
   "metadata": {},
   "outputs": [
    {
     "data": {
      "text/plain": [
       "1"
      ]
     },
     "execution_count": 36,
     "metadata": {},
     "output_type": "execute_result"
    }
   ],
   "source": [
    "MyEnum::B as usize"
   ]
  },
  {
   "cell_type": "code",
   "execution_count": 37,
   "metadata": {},
   "outputs": [
    {
     "data": {
      "text/plain": [
       "1"
      ]
     },
     "execution_count": 37,
     "metadata": {},
     "output_type": "execute_result"
    }
   ],
   "source": [
    "MyEnum::B as i64"
   ]
  },
  {
   "cell_type": "code",
   "execution_count": 40,
   "metadata": {},
   "outputs": [
    {
     "ename": "Error",
     "evalue": "the trait bound `i64: From<MyEnum>` is not satisfied",
     "output_type": "error",
     "traceback": [
      "let x: i64 = MyEnum::B.into();",
      "                       ^^^^ the trait `From<MyEnum>` is not implemented for `i64`",
      "the trait bound `i64: From<MyEnum>` is not satisfied",
      "help: the following implementations were found:\n  <i64 as From<NonZeroI64>>\n  <i64 as From<bool>>\n  <i64 as From<i16>>\n  <i64 as From<i32>>\nand 4 others"
     ]
    }
   ],
   "source": [
    "let x: i64 = MyEnum::B.into();\n",
    "x"
   ]
  },
  {
   "cell_type": "code",
   "execution_count": 35,
   "metadata": {},
   "outputs": [
    {
     "ename": "Error",
     "evalue": "the trait bound `MyEnum: AsPrimitive<usize>` is not satisfied",
     "output_type": "error",
     "traceback": [
      "sp1(MyEnum::A)",
      "    ^^^^^^^^^ the trait `AsPrimitive<usize>` is not implemented for `MyEnum`",
      "the trait bound `MyEnum: AsPrimitive<usize>` is not satisfied"
     ]
    }
   ],
   "source": [
    "sp1(MyEnum::A)"
   ]
  },
  {
   "cell_type": "code",
   "execution_count": 19,
   "metadata": {},
   "outputs": [
    {
     "data": {
      "text/plain": [
       "1.0"
      ]
     },
     "execution_count": 19,
     "metadata": {},
     "output_type": "execute_result"
    }
   ],
   "source": [
    "sp1(6usize)"
   ]
  },
  {
   "cell_type": "code",
   "execution_count": 20,
   "metadata": {},
   "outputs": [],
   "source": [
    "fn sp<T>(major_rank: T) -> f64 where T: AsPrimitive<usize> {\n",
    "    let r = major_rank.as_();\n",
    "    if r <= 5 {\n",
    "        return 0.0;\n",
    "    }\n",
    "    (r - 5) as f64\n",
    "}"
   ]
  },
  {
   "cell_type": "code",
   "execution_count": 21,
   "metadata": {},
   "outputs": [
    {
     "data": {
      "text/plain": [
       "1.0"
      ]
     },
     "execution_count": 21,
     "metadata": {},
     "output_type": "execute_result"
    }
   ],
   "source": [
    "sp(6usize)"
   ]
  },
  {
   "cell_type": "markdown",
   "metadata": {},
   "source": [
    "## Super/Sub Trait and Generic Functions\n",
    "\n",
    "RFC: Supertrait item shadowing #2845\n",
    "\n",
    "[https://github.com/rust-lang/rfcs/pull/2845]"
   ]
  },
  {
   "cell_type": "code",
   "execution_count": 14,
   "metadata": {},
   "outputs": [
    {
     "ename": "Error",
     "evalue": "multiple applicable items in scope",
     "output_type": "error",
     "traceback": [
      "    x.foo();",
      "      ^^^ multiple `foo` found",
      "multiple applicable items in scope",
      "help: disambiguate the associated function for candidate #1\n\nSuper::foo(x)",
      "help: disambiguate the associated function for candidate #2\n\nSub::foo(x)"
     ]
    }
   ],
   "source": [
    "trait Super {\n",
    "    fn foo(&self);\n",
    "}\n",
    "\n",
    "trait Sub: Super {\n",
    "    fn foo(&self);\n",
    "}\n",
    "\n",
    "impl Super for i32 {\n",
    "    fn foo(&self) { \n",
    "        println!(\"super\"); \n",
    "    }\n",
    "}\n",
    "\n",
    "impl Sub for i32 {\n",
    "    fn foo(&self) { \n",
    "        println!(\"sub\"); \n",
    "    }\n",
    "}\n",
    "\n",
    "fn super_generic_fn<S: Super>(x: S) {\n",
    "    x.foo();\n",
    "}\n",
    "\n",
    "fn sub_super_generic_fn<S: Sub>(x: S) {\n",
    "    generic_fn(x);\n",
    "}\n",
    "\n",
    "fn sub_generic_fn<S: Sub>(x: S) {\n",
    "    x.foo();\n",
    "}"
   ]
  },
  {
   "cell_type": "code",
   "execution_count": 8,
   "metadata": {},
   "outputs": [
    {
     "ename": "Error",
     "evalue": "candidate #1 is defined in an impl of the trait `Super` for the type `i32`",
     "output_type": "error",
     "traceback": [
      "",
      "candidate #1 is defined in an impl of the trait `Super` for the type `i32`"
     ]
    }
   ],
   "source": [
    "let x: i32 = 42;\n",
    "x.foo()"
   ]
  },
  {
   "cell_type": "code",
   "execution_count": 11,
   "metadata": {},
   "outputs": [
    {
     "name": "stdout",
     "output_type": "stream",
     "text": [
      "super\n"
     ]
    }
   ],
   "source": [
    "let x: i32 = 42;\n",
    "sub_generic_fn(x);"
   ]
  },
  {
   "cell_type": "code",
   "execution_count": 47,
   "metadata": {},
   "outputs": [],
   "source": [
    "let x = 8u8;\n",
    "let arr: [i64; 10] = [0, 1, 2, 3, 4, 5, 6, 7, 8, 9];"
   ]
  },
  {
   "cell_type": "code",
   "execution_count": 50,
   "metadata": {},
   "outputs": [
    {
     "data": {
      "text/plain": [
       "27"
      ]
     },
     "execution_count": 50,
     "metadata": {},
     "output_type": "execute_result"
    }
   ],
   "source": [
    "(2..x as usize).map(|i| arr[i]).sum::<i64>()"
   ]
  },
  {
   "cell_type": "code",
   "execution_count": 51,
   "metadata": {},
   "outputs": [
    {
     "data": {
      "text/plain": [
       "27"
      ]
     },
     "execution_count": 51,
     "metadata": {},
     "output_type": "execute_result"
    }
   ],
   "source": [
    "(2..x).map(|i| arr[i as usize]).sum::<i64>()"
   ]
  },
  {
   "cell_type": "markdown",
   "metadata": {},
   "source": [
    "## Traits that You Probably Shouldn't Implement\n",
    "\n",
    "- [The Deref Trait in Rust]( https://www.legendu.net/misc/blog/the-deref-trait-in-rust )"
   ]
  },
  {
   "cell_type": "markdown",
   "metadata": {},
   "source": [
    "## References \n",
    "\n",
    "- [THE TRAIT ZOO](https://traitzoo.gitlab.io/rust/)\n",
    "\n",
    "- [Traits and trait objects - more than just interfaces - Rust Community Stuttgart](https://www.youtube.com/watch?v=izXf9-CTAfc)\n",
    "\n",
    "- [Struct in Rust](http://www.legendu.net/misc/blog/rust-struct)\n",
    "\n",
    "- [How can I implement PartialEq?](https://doc.rust-lang.org/std/cmp/trait.PartialEq.html#how-can-i-implement-partialeq)\n",
    "\n",
    "- [How can I implement Eq?](https://doc.rust-lang.org/std/cmp/trait.Eq.html#how-can-i-implement-eq)\n",
    "\n",
    "- https://doc.rust-lang.org/std/cmp/trait.PartialEq.html\n",
    "\n",
    "- https://doc.rust-lang.org/std/borrow/trait.Borrow.html\n",
    "\n",
    "- https://doc.rust-lang.org/std/convert/trait.AsRef.html"
   ]
  },
  {
   "cell_type": "code",
   "execution_count": null,
   "metadata": {},
   "outputs": [],
   "source": []
  }
 ],
 "metadata": {
  "file_extension": ".py",
  "kernelspec": {
   "display_name": "Rust",
   "language": "rust",
   "name": "rust"
  },
  "language_info": {
   "codemirror_mode": "rust",
   "file_extension": ".rs",
   "mimetype": "text/rust",
   "name": "Rust",
   "pygment_lexer": "rust",
   "version": ""
  },
  "mimetype": "text/x-python",
  "name": "python",
  "npconvert_exporter": "python",
  "pygments_lexer": "ipython3",
  "version": 3
 },
 "nbformat": 4,
 "nbformat_minor": 4
}
