{
 "cells": [
  {
   "cell_type": "markdown",
   "metadata": {},
   "source": [
    "- Author: Ben Du\n",
    "- Date: 2021-04-19 20:58:22\n",
    "- Title: Trait in Rust\n",
    "- Slug: trait-in-rust\n",
    "- Category: Computer Science\n",
    "- Tags: Computer Science, programming, Rust, Copy, Clone, trait, super, generic\n",
    "- Modified: 2021-06-18 09:41:45\n"
   ]
  },
  {
   "cell_type": "markdown",
   "metadata": {},
   "source": [
    "**Things on this page are fragmentary and immature notes/thoughts of the author. Please read with your own judgement!**"
   ]
  },
  {
   "cell_type": "markdown",
   "metadata": {},
   "source": [
    "## Trait \n",
    "\n",
    "Currently, \n",
    "a trait in Rust cannot access fields. \n",
    "If a default implementation is provided,\n",
    "the implementation cannot refer to any struct field. \n",
    "\n",
    "[Best Practices When Defining a Default Implementation for a Trait\u2019s Method](https://users.rust-lang.org/t/best-practices-when-defining-a-default-implementation-for-a-traits-method/2033/2)\n",
    "\n",
    "[Allow fields in traits that map to lvalues in impl'ing type #1546](https://github.com/rust-lang/rfcs/pull/1546)\n",
    "\n",
    "[Fields in Traits](https://internals.rust-lang.org/t/fields-in-traits/6933)\n",
    "\n",
    "## PartialEq, Eq and Hash\n",
    "\n",
    "1. Unlike other popular programming languages,\n",
    "    Rust introduces the trait PartialEq \n",
    "    (for solving issues such as NaN in floating numbers).\n",
    "    The `Eq` trait is a trait without any method \n",
    "    which indicating that an object of the struct implementing `Eq` is comparable to itself.\n",
    "    You **always need to implement the trait `PartialEq` if you implement `Eq`**.\n",
    "    This eventually means that if you implement any of `Eq` or `Hash`,\n",
    "    you need to implement all three of `PartialEq`, `Eq` and `Hash`.\n",
    "    One simple way to do this is to use the macro `#[derive(PartialEq, Eq, Hash)]`.\n",
    "    However, \n",
    "    you can implement `PartialEq` without implementing `Eq` or `Hash`. \n",
    "\n",
    "## Sized vs ?Sized \n",
    "\n",
    "## Sync vs !Sync"
   ]
  },
  {
   "cell_type": "code",
   "execution_count": null,
   "metadata": {},
   "outputs": [],
   "source": []
  },
  {
   "cell_type": "markdown",
   "metadata": {},
   "source": [
    "## Copy vs Clone \n",
    "\n",
    "1. Clone means the type can be duplicated.\n",
    "    Copy means the type can be duplicated by copying bytes.\n",
    "    This means that Copy implies Clone,\n",
    "    so when you implements Copy you should always implement Clone.\n",
    "\n",
    "3. `Clone` is a common trait for the ability to explicitly duplicate an object.\n",
    "    It differs from `Copy` in that `Copy` is implicit and extremely inexpensive, \n",
    "    while `Clone` is always explicit and may or may not be expensive. \n",
    "    In order to enforce these characteristics, \n",
    "    Rust does not allow you to reimplement `Copy`, \n",
    "    but you may reimplement `Clone` and run arbitrary code.\n",
    "    Since `Clone` is more general than `Copy`, \n",
    "    you can automatically make anything `Copy` be `Clone` as well.\n",
    "    \n",
    "\n",
    "2. If a type does not implement the `Copy` trait,\n",
    "    it is moved when passed as a parameter. \n",
    "    This might cause issues of \"object moved\".\n",
    "    To resolve this issue, \n",
    "    you have to implement the `Copy` trait. \n",
    "    A simple way is to drive the `Copy` and `Clonable` traits\n",
    "    using `#[derive(Copy, Clone)]`.\n",
    "\n",
    "\n",
    "[Moves, copies and clones in Rust](https://hashrust.com/blog/moves-copies-and-clones-in-rust/)\n",
    "\n",
    "[Trait std::clone::Clone](https://doc.rust-lang.org/std/clone/trait.Clone.html)"
   ]
  },
  {
   "cell_type": "markdown",
   "metadata": {},
   "source": [
    "## Super/Sub Trait and Generic Functions\n",
    "\n",
    "RFC: Supertrait item shadowing #2845\n",
    "\n",
    "[https://github.com/rust-lang/rfcs/pull/2845]"
   ]
  },
  {
   "cell_type": "code",
   "execution_count": 14,
   "metadata": {},
   "outputs": [
    {
     "ename": "Error",
     "evalue": "multiple applicable items in scope",
     "output_type": "error",
     "traceback": [
      "    x.foo();",
      "      ^^^ multiple `foo` found",
      "multiple applicable items in scope",
      "help: disambiguate the associated function for candidate #1\n\nSuper::foo(x)",
      "help: disambiguate the associated function for candidate #2\n\nSub::foo(x)"
     ]
    }
   ],
   "source": [
    "trait Super {\n",
    "    fn foo(&self);\n",
    "}\n",
    "\n",
    "trait Sub: Super {\n",
    "    fn foo(&self);\n",
    "}\n",
    "\n",
    "impl Super for i32 {\n",
    "    fn foo(&self) { \n",
    "        println!(\"super\"); \n",
    "    }\n",
    "}\n",
    "\n",
    "impl Sub for i32 {\n",
    "    fn foo(&self) { \n",
    "        println!(\"sub\"); \n",
    "    }\n",
    "}\n",
    "\n",
    "fn super_generic_fn<S: Super>(x: S) {\n",
    "    x.foo();\n",
    "}\n",
    "\n",
    "fn sub_super_generic_fn<S: Sub>(x: S) {\n",
    "    generic_fn(x);\n",
    "}\n",
    "\n",
    "fn sub_generic_fn<S: Sub>(x: S) {\n",
    "    x.foo();\n",
    "}"
   ]
  },
  {
   "cell_type": "code",
   "execution_count": 8,
   "metadata": {},
   "outputs": [
    {
     "ename": "Error",
     "evalue": "candidate #1 is defined in an impl of the trait `Super` for the type `i32`",
     "output_type": "error",
     "traceback": [
      "",
      "candidate #1 is defined in an impl of the trait `Super` for the type `i32`"
     ]
    }
   ],
   "source": [
    "let x: i32 = 42;\n",
    "x.foo()"
   ]
  },
  {
   "cell_type": "code",
   "execution_count": 11,
   "metadata": {},
   "outputs": [
    {
     "name": "stdout",
     "output_type": "stream",
     "text": [
      "super\n"
     ]
    }
   ],
   "source": [
    "let x: i32 = 42;\n",
    "sub_generic_fn(x);"
   ]
  },
  {
   "cell_type": "markdown",
   "metadata": {},
   "source": [
    "## References \n",
    "\n",
    "[How can I implement PartialEq?](https://doc.rust-lang.org/std/cmp/trait.PartialEq.html#how-can-i-implement-partialeq)\n",
    "\n",
    "[How can I implement Eq?](https://doc.rust-lang.org/std/cmp/trait.Eq.html#how-can-i-implement-eq)\n",
    "\n",
    "https://doc.rust-lang.org/std/cmp/trait.PartialEq.html"
   ]
  },
  {
   "cell_type": "code",
   "execution_count": null,
   "metadata": {},
   "outputs": [],
   "source": []
  }
 ],
 "metadata": {
  "file_extension": ".py",
  "kernelspec": {
   "display_name": "Rust",
   "language": "rust",
   "name": "rust"
  },
  "language_info": {
   "codemirror_mode": "rust",
   "file_extension": ".rs",
   "mimetype": "text/rust",
   "name": "Rust",
   "pygment_lexer": "rust",
   "version": ""
  },
  "mimetype": "text/x-python",
  "name": "python",
  "npconvert_exporter": "python",
  "pygments_lexer": "ipython3",
  "version": 3
 },
 "nbformat": 4,
 "nbformat_minor": 4
}