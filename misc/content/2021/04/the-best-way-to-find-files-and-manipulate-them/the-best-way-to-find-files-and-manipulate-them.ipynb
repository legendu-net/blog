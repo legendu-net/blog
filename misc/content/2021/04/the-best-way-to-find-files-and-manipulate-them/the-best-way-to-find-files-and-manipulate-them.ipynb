{
 "cells": [
  {
   "cell_type": "markdown",
   "metadata": {},
   "source": [
    "- Author: Ben Du\n",
    "- Date: 2021-04-09 00:39:07\n",
    "- Title: The Best Way to Find Files and Manipulate Them\n",
    "- Slug: the-best-way-to-find-files-and-manipulate-them\n",
    "- Category: Computer Science\n",
    "- Tags: Computer Science, programming, Python, find, locate, fselect, osquery, pathlib\n",
    "- Modified: 2021-06-09 00:39:07\n"
   ]
  },
  {
   "cell_type": "markdown",
   "metadata": {},
   "source": [
    " ** Things on this page are fragmentary and immature notes/thoughts of the author. Please read with your own judgement! **  "
   ]
  },
  {
   "cell_type": "markdown",
   "metadata": {},
   "source": [
    "There are many cool (command-line) tools \n",
    "which can help you quickly find/locate files. \n",
    "\n",
    "1. [find](http://www.legendu.net/misc/blog/find-tips)\n",
    "2. locate \n",
    "3. [osquery](http://www.legendu.net/misc/blog/osquery-tips)\n",
    "4. [fselect](http://www.legendu.net/misc/blog/use-fselect-to-find-files)\n",
    "5. [ripgrep](https://github.com/BurntSushi/ripgrep)\n",
    "\n",
    "Those tools can be combined with the pipe operator `|` to do further filtering or manipulation.\n",
    "However,\n",
    "after trying all tools I have to state that the best way for a Python user \n",
    "is leveraging the `pathlib` module in a Jupyter/Lab notebook (or in a IPython shell).\n",
    "Even though you might have to write slight more code in Python than in other command-line tools,\n",
    "Python code has the following advantages.\n",
    "\n",
    "1. Python code is much more intutive to understand. \n",
    "    You do not have to remember weird command-line options \n",
    "    or to handle corner cases.\n",
    "\n",
    "2. Python code is much more flexible especially when used in a notebook or in a IPython shell. \n",
    "    You can easily achieve more complicated operations in Python code. \n",
    "    If an operation requires lots of Python code,\n",
    "    you can also encapsulate it into a Python module. \n",
    "    What's more, \n",
    "    you can mix shell command code in your Python code \n",
    "    if you are using a notebook or a IPython shell,\n",
    "    which makes things much more convenient. \n",
    "\n",
    "3. You do have to worry about side effect (e.g., spaces, special character escaping, etc.) caused by shell.\n",
    "\n",
    "Below are some examples."
   ]
  },
  {
   "cell_type": "code",
   "execution_count": 1,
   "metadata": {},
   "outputs": [],
   "source": [
    "from pathlib import Path "
   ]
  },
  {
   "cell_type": "markdown",
   "metadata": {},
   "source": [
    "1. Find all files with the extension `.out` in the current directory and its subdirectory, \n",
    "    and then make them executable."
   ]
  },
  {
   "cell_type": "code",
   "execution_count": 11,
   "metadata": {},
   "outputs": [],
   "source": [
    "!find . -type f -iname *.out -exec chmod +x '{}' \\;"
   ]
  },
  {
   "cell_type": "code",
   "execution_count": 12,
   "metadata": {},
   "outputs": [],
   "source": [
    "!find . -type f -iname *.out -print0 | xargs -0 chmod +x"
   ]
  },
  {
   "cell_type": "code",
   "execution_count": null,
   "metadata": {},
   "outputs": [],
   "source": [
    "!fselect path from . where is_file = 1 and name like %.out | xargs chmod +x"
   ]
  },
  {
   "cell_type": "code",
   "execution_count": 2,
   "metadata": {},
   "outputs": [],
   "source": [
    "for p in Path().glob(\"**/*\"):\n",
    "    if p.suffix == \".out\":\n",
    "        p.chmod(0o700)"
   ]
  },
  {
   "cell_type": "markdown",
   "metadata": {},
   "source": [
    "2. Find files whose names contain \"conflicted\" and remove them."
   ]
  },
  {
   "cell_type": "code",
   "execution_count": 13,
   "metadata": {},
   "outputs": [
    {
     "name": "stdout",
     "output_type": "stream",
     "text": [
      "rm: missing operand\n",
      "Try 'rm --help' for more information.\n"
     ]
    }
   ],
   "source": [
    "!find . -iname '*conflicted*' -print0 | xargs -0 rm"
   ]
  },
  {
   "cell_type": "code",
   "execution_count": 14,
   "metadata": {},
   "outputs": [
    {
     "name": "stdout",
     "output_type": "stream",
     "text": [
      "/bin/bash: fselect: command not found\n",
      "rm: missing operand\n",
      "Try 'rm --help' for more information.\n"
     ]
    }
   ],
   "source": [
    "!fselect path from . where is_file = 1 and name like %conflicted% | xargs rm "
   ]
  },
  {
   "cell_type": "code",
   "execution_count": 15,
   "metadata": {},
   "outputs": [],
   "source": [
    "for path in Path().glob(\"**/*\"):\n",
    "    if path.is_file() and \"conflicted\" in path.name:\n",
    "        path.unlink()"
   ]
  },
  {
   "cell_type": "markdown",
   "metadata": {},
   "source": [
    "## Size Related Finding"
   ]
  },
  {
   "cell_type": "markdown",
   "metadata": {},
   "source": [
    "1. Find files with 0 size."
   ]
  },
  {
   "cell_type": "code",
   "execution_count": 19,
   "metadata": {},
   "outputs": [
    {
     "name": "stdout",
     "output_type": "stream",
     "text": [
      "./abc/a.out\n"
     ]
    }
   ],
   "source": [
    "!find . -size 0"
   ]
  },
  {
   "cell_type": "code",
   "execution_count": 20,
   "metadata": {},
   "outputs": [
    {
     "name": "stdout",
     "output_type": "stream",
     "text": [
      "/bin/bash: fselect: command not found\n"
     ]
    }
   ],
   "source": [
    "!fselect path from . where size = 0"
   ]
  },
  {
   "cell_type": "code",
   "execution_count": 21,
   "metadata": {},
   "outputs": [
    {
     "name": "stdout",
     "output_type": "stream",
     "text": [
      "abc/a.out\n"
     ]
    }
   ],
   "source": [
    "for path in Path().glob(\"**/*\"):\n",
    "    if path.stat().st_size == 0:\n",
    "        print(path)"
   ]
  },
  {
   "cell_type": "markdown",
   "metadata": {},
   "source": [
    "2. Find empty directories."
   ]
  },
  {
   "cell_type": "code",
   "execution_count": 23,
   "metadata": {
    "tags": []
   },
   "outputs": [
    {
     "name": "stdout",
     "output_type": "stream",
     "text": [
      "./.ipynb_checkpoints\n"
     ]
    }
   ],
   "source": [
    "!find . -type d -empty"
   ]
  },
  {
   "cell_type": "code",
   "execution_count": 27,
   "metadata": {},
   "outputs": [
    {
     "name": "stdout",
     "output_type": "stream",
     "text": [
      ".ipynb_checkpoints\n"
     ]
    }
   ],
   "source": [
    "for path in Path().glob(\"**/*\"):\n",
    "    if path.is_dir() and not any(True for _ in path.iterdir()):\n",
    "        print(path)"
   ]
  },
  {
   "cell_type": "code",
   "execution_count": null,
   "metadata": {},
   "outputs": [],
   "source": [
    "\n",
    "\n",
    "        :::bash\n",
    "\n",
    "\n",
    "3. Find files greater than 1G.\n",
    "\n",
    "        :::bash\n",
    "        find . -xdev -type f -size +1G\n",
    "\n",
    "\n",
    "4. First find files and then pass them to other commands is a very useful trick.\n",
    "    For example, \n",
    "    you can use the following command to find all R scripts containing the word `paste`.\n",
    "\n",
    "        :::bash\n",
    "        find . -type f -iname '*.r' | grep --color=auto paste\n",
    "\n",
    "\n",
    "## Time Related Finding\n",
    "\n",
    "1. Find files created with in 60 minutes.\n",
    "\n",
    "        :::bash\n",
    "        find . -cmin 60\n",
    "\n",
    "2. Find files more than 30 days ago\n",
    "        \n",
    "        :::bash\n",
    "        find . -ctime +30\n",
    "\n",
    "3. Find file less than 30 days ago.\n",
    "\n",
    "        :::bash\n",
    "        find . -ctime -30\n",
    "\n",
    "4. Find files that are exactly 30 days ago.\n",
    "\n",
    "        :::bash\n",
    "        find . -ctime 30\n",
    "\n",
    "2. Find all files modified on the June 7, 2007 in the current directory.\n",
    "\n",
    "        :::bash\n",
    "        find . -type f -newermt 2007-06-07 ! -newermt 2007-06-08\n",
    "\n",
    "\n",
    "3. Find all files accessed on the Sep 29, 2008 in the current directory.\n",
    "\n",
    "        :::bash\n",
    "        find . -type f -newerat 2008-09-29 ! -newerat 2008-09-30\n",
    "\n",
    "4. Find files which had their permission changed on the same day.\n",
    "\n",
    "        :::bash\n",
    "        find . -type f -newerct 2008-09-29 ! -newerct 2008-09-30\n",
    "\n",
    "## File Type Related Finding\n",
    "\n",
    "1. Find broken symbolic links.\n",
    "\n",
    "        :::bash\n",
    "        find . -xtype l\n",
    "        # or\n",
    "        find -L . -type l\n",
    "\n",
    "3. Find executable files in current directory \n",
    "        \n",
    "        :::bash\n",
    "        find .  -maxdepth 1 -type f -executable\n",
    "\n",
    "## User Related Finding\n",
    "\n",
    "10. Find files that belong to a user but writable by its group or other people.\n",
    "\n",
    "        :::bash\n",
    "        find /path/to/file -user user1 -perm /022\n",
    "\n",
    "11. Check file type of all files under the current directory.\n",
    "\n",
    "        :::bash\n",
    "        find . -type f | xargs file\n",
    "\n",
    "-perm mode: File's permission bits are exactly mode (octal or symbolic).\n",
    "-perm -mode: All  of  the  permission bits mode are set for the file. \n",
    "-perm /mode: Any of the permission bits mode are set for the file. \n",
    "a little bit trick about how to understand the last 2 permission criterias.\n",
    "as suggested, think in terms of permission BITs (0/1)\n",
    "\n",
    "The following command finds all files that readable or writable by the group or (readable or writable) by others.\n",
    "\n",
    "    :::bash\n",
    "    find /path/to/file -user user1 -perm /066\n",
    "\n",
    "The following command find all files that readable and writable by the group and (readable and writable) by others.\n",
    "\n",
    "    :::bash\n",
    "    find /path/to/file -user user1 -perm -066\n",
    "\n",
    "The following command find all files that readable or writable by the group and (readable or writable) by others.\n",
    "\n",
    "    :::bash\n",
    "    find /path/to/file -user user1 -perm /060 -perm /006\n",
    "\n",
    "\n",
    "Find Python scripts in the current directory recursively\n",
    "but ignore those under directories with the name `.ipynb_checkpoints`.\n",
    "\n",
    "    :::bash\n",
    "    find . -type f -iname '*.py' -not -path '*/.ipynb_checkpoints/*'"
   ]
  },
  {
   "cell_type": "markdown",
   "metadata": {},
   "source": [
    "## References \n",
    "\n",
    "- [Tips on the find command in Linux](http://www.legendu.net/misc/blog/find-tips)\n",
    "- [Use fselect to Find Files](http://www.legendu.net/misc/blog/use-fselect-to-find-files)"
   ]
  },
  {
   "cell_type": "code",
   "execution_count": null,
   "metadata": {},
   "outputs": [],
   "source": []
  }
 ],
 "metadata": {
  "file_extension": ".py",
  "kernelspec": {
   "display_name": "Python 3",
   "language": "python",
   "name": "python3"
  },
  "language_info": {
   "codemirror_mode": {
    "name": "ipython",
    "version": 3
   },
   "file_extension": ".py",
   "mimetype": "text/x-python",
   "name": "python",
   "nbconvert_exporter": "python",
   "pygments_lexer": "ipython3",
   "version": "3.8.5"
  },
  "mimetype": "text/x-python",
  "name": "python",
  "npconvert_exporter": "python",
  "pygments_lexer": "ipython3",
  "version": 3
 },
 "nbformat": 4,
 "nbformat_minor": 4
}