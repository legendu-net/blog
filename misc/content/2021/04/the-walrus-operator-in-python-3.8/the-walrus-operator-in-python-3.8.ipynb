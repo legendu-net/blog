{
 "nbformat": 4,
 "nbformat_minor": 2,
 "metadata": {
  "language_info": {
   "name": "python",
   "codemirror_mode": {
    "name": "ipython",
    "version": 3
   },
   "version": "3.9.4-final"
  },
  "orig_nbformat": 2,
  "file_extension": ".py",
  "mimetype": "text/x-python",
  "name": "python",
  "npconvert_exporter": "python",
  "pygments_lexer": "ipython3",
  "version": 3,
  "kernelspec": {
   "name": "python37664bit63fb4f53efb44350a8fe54ef578d532a",
   "display_name": "Python 3.9.4 64-bit"
  },
  "metadata": {
   "interpreter": {
    "hash": "aee8b7b246df8f9039afb4144a1f6fd8d2ca17a180786b69acc140d282b71a49"
   }
  }
 },
 "cells": [
  {
   "cell_type": "markdown",
   "metadata": {},
   "source": [
    "- Author: Ben Du\n",
    "- Date: 2021-04-16 23:38:19\n",
    "- Title: The Walrus Operator in Python 3.8\n",
    "- Slug: the-walrus-operator-in-python-3.8\n",
    "- Category: Computer Science\n",
    "- Tags: Computer Science, programming, Python, walrus, operator, 3.8\n",
    "- Modified: 2021-04-16 23:38:19\n"
   ]
  },
  {
   "source": [
    " ** Things on this page are fragmentary and immature notes/thoughts of the author. Please read with your own judgement! **  "
   ],
   "cell_type": "markdown",
   "metadata": {}
  },
  {
   "source": [
    "## List Comprehension"
   ],
   "cell_type": "markdown",
   "metadata": {}
  },
  {
   "source": [
    "Notice that a walrus expression in a list comprehension must be in included in parentheses (to avoid ambiguitions)."
   ],
   "cell_type": "markdown",
   "metadata": {}
  },
  {
   "cell_type": "code",
   "execution_count": 2,
   "metadata": {},
   "outputs": [
    {
     "output_type": "execute_result",
     "data": {
      "text/plain": [
       "[4, 9]"
      ]
     },
     "metadata": {},
     "execution_count": 2
    }
   ],
   "source": [
    "arr = [1, 2, 3]\n",
    "[val for e in arr if (val := e ** 2) > 3]"
   ]
  },
  {
   "cell_type": "code",
   "execution_count": null,
   "metadata": {},
   "outputs": [],
   "source": []
  }
 ]
}