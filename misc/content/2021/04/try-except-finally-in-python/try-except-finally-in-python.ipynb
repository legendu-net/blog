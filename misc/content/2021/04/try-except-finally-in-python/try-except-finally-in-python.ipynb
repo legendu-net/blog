{
 "nbformat": 4,
 "nbformat_minor": 2,
 "metadata": {
  "language_info": {
   "name": "python",
   "codemirror_mode": {
    "name": "ipython",
    "version": 3
   },
   "version": "3.9.4-final"
  },
  "orig_nbformat": 2,
  "file_extension": ".py",
  "mimetype": "text/x-python",
  "name": "python",
  "npconvert_exporter": "python",
  "pygments_lexer": "ipython3",
  "version": 3,
  "kernelspec": {
   "name": "python37664bite5e01d20666b4ea39b669a865bfedc91",
   "display_name": "Python 3.7.6 64-bit",
   "language": "python"
  }
 },
 "cells": [
  {
   "cell_type": "markdown",
   "metadata": {},
   "source": [
    "- Author: Ben Du\n",
    "- Date: 2021-04-15 16:19:37\n",
    "- Title: The try/except/finally Block in Python\n",
    "- Slug: try-except-finally-in-python\n",
    "- Category: Computer Science\n",
    "- Tags: Computer Science, programming, Python, try, except, finally, return\n",
    "- Modified: 2021-04-15 16:19:37\n"
   ]
  },
  {
   "source": [
    " ** Things on this page are fragmentary and immature notes/thoughts of the author. Please read with your own judgement! **  "
   ],
   "cell_type": "markdown",
   "metadata": {}
  },
  {
   "source": [
    "## Tips and Traps \n",
    "\n",
    "1. The `finally` statements are guaranteed to be executed \n",
    "    (presuming no power outage or anything outside of Python's control)\n",
    "    after a `try`/`except` block runs \n",
    "    even if `return`, `break` or `continue` is used in a `try`/`except` block. \n",
    "    This mean that a if a `finally` block presents \n",
    "    the function won't exit immediate on reaching a `return` statement in a `try`/`except` block.\n",
    "    Instead,\n",
    "    the function will wait until the `finally` block is executed to exit. \n",
    "    If another `return` statement is run in the `finally` block, \n",
    "    the previous return value is overwritten.\n",
    "    This means that you should **never use a `return`/`yield` statement in a `finally` block**."
   ],
   "cell_type": "markdown",
   "metadata": {}
  },
  {
   "cell_type": "code",
   "execution_count": 7,
   "metadata": {},
   "outputs": [
    {
     "output_type": "stream",
     "name": "stdout",
     "text": [
      "Beginning of the try block (before return) ...\nBeginning of the finally block (before return) ...\n"
     ]
    },
    {
     "output_type": "execute_result",
     "data": {
      "text/plain": [
       "-1"
      ]
     },
     "metadata": {},
     "execution_count": 7
    }
   ],
   "source": [
    "def f1():\n",
    "    try:\n",
    "        print(\"Beginning of the try block (before return) ...\")\n",
    "        return 1\n",
    "        print(\"End of the try block (after return) ...\")\n",
    "    except:\n",
    "        return 2\n",
    "    else:\n",
    "        return 3\n",
    "    finally:\n",
    "        print(\"Beginning of the finally block (before return) ...\")\n",
    "        return -1\n",
    "        print(\"end of the finally block (after return) ...\")\n",
    "\n",
    "f1()"
   ]
  },
  {
   "cell_type": "code",
   "execution_count": 8,
   "metadata": {},
   "outputs": [
    {
     "output_type": "stream",
     "name": "stdout",
     "text": [
      "Beginning of the exception block (before return) ...\nBeginning of the finally block (before return) ...\n"
     ]
    },
    {
     "output_type": "execute_result",
     "data": {
      "text/plain": [
       "-1"
      ]
     },
     "metadata": {},
     "execution_count": 8
    }
   ],
   "source": [
    "def f2():\n",
    "    try:\n",
    "        raise RuntimeError\n",
    "    except:\n",
    "        print(\"Beginning of the exception block (before return) ...\")\n",
    "        return 1\n",
    "        print(\"End of the exception block (after return) ...\")\n",
    "    else:\n",
    "        return 2\n",
    "    finally:\n",
    "        print(\"Beginning of the finally block (before return) ...\")\n",
    "        return -1\n",
    "        print(\"end of the finally block (after return) ...\")\n",
    "\n",
    "f2()"
   ]
  },
  {
   "cell_type": "code",
   "execution_count": 10,
   "metadata": {},
   "outputs": [
    {
     "output_type": "stream",
     "name": "stdout",
     "text": [
      "Beginning of the exception block (before return) ...\nThe finally block is run.\n"
     ]
    },
    {
     "output_type": "execute_result",
     "data": {
      "text/plain": [
       "1"
      ]
     },
     "metadata": {},
     "execution_count": 10
    }
   ],
   "source": [
    "def f3():\n",
    "    try:\n",
    "        raise RuntimeError\n",
    "    except:\n",
    "        print(\"Beginning of the exception block (before return) ...\")\n",
    "        return 1\n",
    "        print(\"End of the exception block (after return) ...\")\n",
    "    else:\n",
    "        return 2\n",
    "    finally:\n",
    "        print(\"The finally block is run.\")\n",
    "f3()"
   ]
  },
  {
   "source": [
    "## References \n",
    "\n",
    "https://stackoverflow.com/questions/11164144/weird-try-except-else-finally-behavior-with-return-statements\n",
    "\n",
    "https://stackoverflow.com/questions/19805654/python-try-finally-block-returns"
   ],
   "cell_type": "markdown",
   "metadata": {}
  },
  {
   "cell_type": "code",
   "execution_count": null,
   "metadata": {},
   "outputs": [],
   "source": []
  }
 ]
}