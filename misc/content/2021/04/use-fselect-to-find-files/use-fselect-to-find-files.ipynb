{
 "cells": [
  {
   "cell_type": "markdown",
   "metadata": {},
   "source": [
    "- Author: Ben Du\n",
    "- Date: 2021-04-05 23:50:10\n",
    "- Title: Use fselect to Find Files\n",
    "- Slug: use-fselect-to-find-files\n",
    "- Category: Computer Science\n",
    "- Tags: Computer Science, programming, fselect, Rust, find, locate\n",
    "- Modified: 2021-04-05 23:50:10\n"
   ]
  },
  {
   "cell_type": "markdown",
   "metadata": {},
   "source": [
    "## Tips and Traps\n",
    "\n",
    "1. It is suggested that you use Python (the `pathlib` module) instead of the `fselect` command to find files.\n",
    "\n",
    "1. `is_*` columns supporting comparing with `1`, `true` and `yes`, etc. \n",
    "\n",
    "2. `where name like '%.markdown'` can be written as `where name like %.markdown` and is equivalent to `where name = '*.markdown'`\n",
    "\n",
    "3. It is suggested that you use `gt` instead of `>` as `>` is interpreted as the redirect operator in shell if no quotes is used."
   ]
  },
  {
   "cell_type": "code",
   "execution_count": 13,
   "metadata": {},
   "outputs": [
    {
     "name": "stdout",
     "output_type": "stream",
     "text": [
      "tips-on-cargo.markdown\ttips-on-rustc.markdown\tuse-fselect-to-find-files.ipynb\n"
     ]
    }
   ],
   "source": [
    "!fselect * from . where is_file = 1"
   ]
  },
  {
   "cell_type": "code",
   "execution_count": 16,
   "metadata": {},
   "outputs": [
    {
     "name": "stdout",
     "output_type": "stream",
     "text": [
      "tips-on-cargo.markdown\n",
      "tips-on-rustc.markdown\n",
      "use-fselect-to-find-files.ipynb\n"
     ]
    }
   ],
   "source": [
    "!fselect name from . depth 1 where is_file = 1"
   ]
  },
  {
   "cell_type": "markdown",
   "metadata": {},
   "source": [
    "1. Find all files with the extension `.markdown` in the current directory and its subdirectory."
   ]
  },
  {
   "cell_type": "code",
   "execution_count": 26,
   "metadata": {},
   "outputs": [
    {
     "name": "stdout",
     "output_type": "stream",
     "text": [
      "tips-on-cargo.markdown\n",
      "tips-on-rustc.markdown\n"
     ]
    }
   ],
   "source": [
    "!fselect name from . where is_file = 1 and name like %.markdown"
   ]
  },
  {
   "cell_type": "markdown",
   "metadata": {},
   "source": [
    "The pipe operator `|` is very useful for piping the result of a command to another one.\n",
    "Below is an example of find all markdown files in the current directory\n",
    "and keep only those that have `cargo` in the name."
   ]
  },
  {
   "cell_type": "code",
   "execution_count": 39,
   "metadata": {},
   "outputs": [
    {
     "name": "stdout",
     "output_type": "stream",
     "text": [
      "tips-on-cargo.markdown\n"
     ]
    }
   ],
   "source": [
    "!fselect name from . where is_file = 1 and name like %.markdown | grep cargo"
   ]
  },
  {
   "cell_type": "markdown",
   "metadata": {},
   "source": [
    "Of course, \n",
    "this example is not very useful\n",
    "as it is equivalent to the following simpler command (no need of grep)"
   ]
  },
  {
   "cell_type": "code",
   "execution_count": 41,
   "metadata": {},
   "outputs": [
    {
     "name": "stdout",
     "output_type": "stream",
     "text": [
      "tips-on-cargo.markdown\n"
     ]
    }
   ],
   "source": [
    "!fselect name from . where is_file = 1 and name like %cargo%.markdown "
   ]
  },
  {
   "cell_type": "markdown",
   "metadata": {},
   "source": [
    "However, \n",
    "the below example is an useful one which find all markdown files in the current directory\n",
    "and then find lines containing the keyword `cargo` in those files."
   ]
  },
  {
   "cell_type": "code",
   "execution_count": 40,
   "metadata": {},
   "outputs": [
    {
     "name": "stdout",
     "output_type": "stream",
     "text": [
      "tips-on-cargo.markdown:Slug: tips-on-cargo\n",
      "tips-on-cargo.markdown:Tags: Computer Science, programming, rust, cargo\n",
      "tips-on-cargo.markdown:    cargo init\n",
      "tips-on-cargo.markdown:    cargo new project_name\n",
      "tips-on-cargo.markdown:    cargo run\n",
      "tips-on-cargo.markdown:    cargo build\n",
      "tips-on-cargo.markdown:    cargo build --release\n",
      "tips-on-rustc.markdown:Tags: Computer Science, programming, Rust, rustc, optimization, cargo\n",
      "tips-on-rustc.markdown:    and `cargo build --release` uses the release profile which defaults to `-C opt-level=3`.\n"
     ]
    }
   ],
   "source": [
    "!fselect name from . where is_file = 1 and name like %.markdown | xargs grep cargo"
   ]
  },
  {
   "cell_type": "markdown",
   "metadata": {},
   "source": [
    "## File Size"
   ]
  },
  {
   "cell_type": "markdown",
   "metadata": {},
   "source": [
    "1. Find files with size greater than 10 (bytes)."
   ]
  },
  {
   "cell_type": "code",
   "execution_count": 35,
   "metadata": {},
   "outputs": [
    {
     "name": "stdout",
     "output_type": "stream",
     "text": [
      "tips-on-cargo.markdown\t403\n",
      "tips-on-rustc.markdown\t1005\n",
      "use-fselect-to-find-files.ipynb\t7505\n",
      "use-fselect-to-find-files-checkpoint.ipynb\t1121\n"
     ]
    }
   ],
   "source": [
    "!fselect name, size from . where is_file = 1 and size gt 10"
   ]
  },
  {
   "cell_type": "code",
   "execution_count": 37,
   "metadata": {},
   "outputs": [
    {
     "name": "stdout",
     "output_type": "stream",
     "text": [
      "tips-on-cargo.markdown\t403\n",
      "tips-on-rustc.markdown\t1005\n",
      "use-fselect-to-find-files.ipynb\t7505\n",
      "use-fselect-to-find-files-checkpoint.ipynb\t1121\n"
     ]
    }
   ],
   "source": [
    "!fselect \"name, size from . where is_file = 1 and size > 10\""
   ]
  },
  {
   "cell_type": "markdown",
   "metadata": {},
   "source": [
    "Notice that the following query won't work.\n",
    "\n",
    "    fselect name, size from . where is_file = 1 and size > 10\n",
    "    \n",
    "It is interprecated as redirecting the result of `fselect name, size from . where is_file = 1 and size` \n",
    "into a file named `10`.\n"
   ]
  },
  {
   "cell_type": "markdown",
   "metadata": {},
   "source": [
    "2. Find files with size greater than 5k (bytes)."
   ]
  },
  {
   "cell_type": "code",
   "execution_count": 38,
   "metadata": {},
   "outputs": [
    {
     "name": "stdout",
     "output_type": "stream",
     "text": [
      "use-fselect-to-find-files.ipynb\t8169\n"
     ]
    }
   ],
   "source": [
    "!fselect name, size from . where is_file = 1 and size gt 5k"
   ]
  },
  {
   "cell_type": "markdown",
   "metadata": {},
   "source": [
    "2. Find empty directories. \n",
    "\n",
    "        :::bash\n",
    "        find / -type d -empty"
   ]
  },
  {
   "cell_type": "markdown",
   "metadata": {},
   "source": [
    "## Time Related "
   ]
  },
  {
   "cell_type": "code",
   "execution_count": 46,
   "metadata": {},
   "outputs": [
    {
     "name": "stdout",
     "output_type": "stream",
     "text": [
      "[/home/dclong/.cargo/registry/src/github.com-1ecc6299db9ec823/fselect-0.7.4/src/parser.rs:48] fields = [\n",
      "    Expr {\n",
      "        left: None,\n",
      "        arithmetic_op: None,\n",
      "        logical_op: None,\n",
      "        op: None,\n",
      "        right: None,\n",
      "        minus: false,\n",
      "        field: Some(\n",
      "            Name,\n",
      "        ),\n",
      "        function: None,\n",
      "        args: None,\n",
      "        val: None,\n",
      "    },\n",
      "    Expr {\n",
      "        left: None,\n",
      "        arithmetic_op: None,\n",
      "        logical_op: None,\n",
      "        op: None,\n",
      "        right: None,\n",
      "        minus: false,\n",
      "        field: Some(\n",
      "            Accessed,\n",
      "        ),\n",
      "        function: None,\n",
      "        args: None,\n",
      "        val: None,\n",
      "    },\n",
      "]\n",
      "[/home/dclong/.cargo/registry/src/github.com-1ecc6299db9ec823/fselect-0.7.4/src/parser.rs:49] roots = [\n",
      "    Root {\n",
      "        path: \".\",\n",
      "        min_depth: 0,\n",
      "        max_depth: 0,\n",
      "        archives: false,\n",
      "        symlinks: false,\n",
      "        gitignore: None,\n",
      "        hgignore: None,\n",
      "        dockerignore: None,\n",
      "        traversal: Bfs,\n",
      "        regexp: false,\n",
      "    },\n",
      "]\n",
      "query: Could not parse tokens at the end of the query"
     ]
    }
   ],
   "source": [
    "!fselect name, accessed from . where is_file = 1 and accessed gt '1 hour ago'"
   ]
  },
  {
   "cell_type": "code",
   "execution_count": 48,
   "metadata": {},
   "outputs": [
    {
     "name": "stdout",
     "output_type": "stream",
     "text": [
      "use-fselect-to-find-files.ipynb\t2021-04-04 22:52:11\n",
      "use-fselect-to-find-files-checkpoint.ipynb\t2021-04-04 22:48:11\n"
     ]
    }
   ],
   "source": [
    "!fselect \"name, accessed from . where is_file = 1 and accessed gt '1 hour ago'\""
   ]
  },
  {
   "cell_type": "code",
   "execution_count": 49,
   "metadata": {},
   "outputs": [
    {
     "name": "stdout",
     "output_type": "stream",
     "text": [
      "tips-on-cargo.markdown\t2021-04-02 08:16:26\n",
      "tips-on-rustc.markdown\t2021-04-02 08:16:26\n"
     ]
    }
   ],
   "source": [
    "!fselect \"name, accessed from . where is_file = 1 and accessed lt '1 hour ago'\""
   ]
  },
  {
   "cell_type": "markdown",
   "metadata": {},
   "source": [
    "## File Type Related Finding\n",
    "\n",
    "1. Find broken symbolic links.\n",
    "\n",
    "        :::bash\n",
    "        find . -xtype l\n",
    "        # or\n",
    "        find -L . -type l\n",
    "\n",
    "3. Find executable files in current directory \n",
    "        \n",
    "        :::bash\n",
    "        find .  -maxdepth 1 -type f -executable\n",
    "\n",
    "## User Related Finding\n",
    "\n",
    "10. Find files that belong to a user but writable by its group or other people.\n",
    "\n",
    "        :::bash\n",
    "        find /path/to/file -user user1 -perm /022\n",
    "\n",
    "11. Check file type of all files under the current directory.\n",
    "\n",
    "        :::bash\n",
    "        find . -type f | xargs file\n",
    "\n",
    "-perm mode: File's permission bits are exactly mode (octal or symbolic).\n",
    "-perm -mode: All  of  the  permission bits mode are set for the file. \n",
    "-perm /mode: Any of the permission bits mode are set for the file. \n",
    "a little bit trick about how to understand the last 2 permission criterias.\n",
    "as suggested, think in terms of permission BITs (0/1)\n",
    "\n",
    "The following command finds all files that readable or writable by the group or (readable or writable) by others.\n",
    "\n",
    "    :::bash\n",
    "    find /path/to/file -user user1 -perm /066\n",
    "\n",
    "The following command find all files that readable and writable by the group and (readable and writable) by others.\n",
    "\n",
    "    :::bash\n",
    "    find /path/to/file -user user1 -perm -066\n",
    "\n",
    "The following command find all files that readable or writable by the group and (readable or writable) by others.\n",
    "\n",
    "    :::bash\n",
    "    find /path/to/file -user user1 -perm /060 -perm /006\n",
    "\n",
    "\n",
    "Find Python scripts in the current directory recursively\n",
    "but ignore those under directories with the name `.ipynb_checkpoints`.\n",
    "\n",
    "    :::bash\n",
    "    find . -type f -iname '*.py' -not -path '*/.ipynb_checkpoints/*'"
   ]
  },
  {
   "source": [
    "## References\n",
    "\n",
    "https://github.com/jhspetersson/fselect/issues/88"
   ],
   "cell_type": "markdown",
   "metadata": {}
  },
  {
   "cell_type": "code",
   "execution_count": null,
   "metadata": {},
   "outputs": [],
   "source": []
  }
 ],
 "metadata": {
  "file_extension": ".py",
  "kernelspec": {
   "display_name": "Python 3",
   "language": "python",
   "name": "python3"
  },
  "language_info": {
   "codemirror_mode": {
    "name": "ipython",
    "version": 3
   },
   "file_extension": ".py",
   "mimetype": "text/x-python",
   "name": "python",
   "nbconvert_exporter": "python",
   "pygments_lexer": "ipython3",
   "version": "3.8.5"
  },
  "mimetype": "text/x-python",
  "name": "python",
  "npconvert_exporter": "python",
  "pygments_lexer": "ipython3",
  "version": 3
 },
 "nbformat": 4,
 "nbformat_minor": 4
}