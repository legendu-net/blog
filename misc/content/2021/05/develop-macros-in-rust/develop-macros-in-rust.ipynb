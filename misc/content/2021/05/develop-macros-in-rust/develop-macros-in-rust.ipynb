{
 "nbformat": 4,
 "nbformat_minor": 2,
 "metadata": {
  "language_info": {
   "name": "python",
   "codemirror_mode": {
    "name": "ipython",
    "version": 3
   }
  },
  "orig_nbformat": 2,
  "file_extension": ".py",
  "mimetype": "text/x-python",
  "name": "python",
  "npconvert_exporter": "python",
  "pygments_lexer": "ipython3",
  "version": 3
 },
 "cells": [
  {
   "cell_type": "markdown",
   "metadata": {},
   "source": [
    "- Author: Ben Du\n",
    "- Date: 2021-05-15 09:43:53\n",
    "- Title: Develop Macros in Rust\n",
    "- Slug: develop-macros-in-rust\n",
    "- Category: Computer Science\n",
    "- Tags: Computer Science, programming, Rust, macro, declaritive, procedural\n",
    "- Modified: 2021-05-15 09:43:53\n"
   ]
  },
  {
   "source": [
    "**Things on this page are fragmentary and immature notes/thoughts of the author. Please read with your own judgement!**"
   ],
   "cell_type": "markdown",
   "metadata": {}
  },
  {
   "cell_type": "code",
   "execution_count": null,
   "metadata": {},
   "outputs": [],
   "source": []
  },
  {
   "cell_type": "code",
   "execution_count": null,
   "metadata": {},
   "outputs": [],
   "source": []
  },
  {
   "cell_type": "code",
   "execution_count": null,
   "metadata": {},
   "outputs": [],
   "source": []
  },
  {
   "source": [
    "## References \n",
    "\n",
    "[Macros in Rust: A tutorial with examples](https://blog.logrocket.com/macros-in-rust-a-tutorial-with-examples/)\n",
    "\n",
    "[Procedural Macros in Rust (part 1)](https://www.youtube.com/watch?v=geovSK3wMB8&t=1328s)\n",
    "\n",
    "[Procedural Macros in Rust (part 2)](https://www.youtube.com/watch?v=KVWHT1TAirU)"
   ],
   "cell_type": "markdown",
   "metadata": {}
  },
  {
   "cell_type": "code",
   "execution_count": null,
   "metadata": {},
   "outputs": [],
   "source": []
  }
 ]
}