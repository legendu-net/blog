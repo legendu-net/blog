{
 "cells": [
  {
   "cell_type": "markdown",
   "metadata": {},
   "source": [
    "- Author: Ben Du\n",
    "- Date: 2021-05-15 09:43:53\n",
    "- Title: Develop Macros in Rust\n",
    "- Slug: develop-macros-in-rust\n",
    "- Category: Computer Science\n",
    "- Tags: Computer Science, programming, Rust, macro, declaritive, procedural\n",
    "- Modified: 2022-09-08 00:19:55\n"
   ]
  },
  {
   "cell_type": "markdown",
   "metadata": {},
   "source": [
    "**Things on this page are fragmentary and immature notes/thoughts of the author. Please read with your own judgement!**"
   ]
  },
  {
   "cell_type": "markdown",
   "metadata": {},
   "source": [
    "[Structuring, testing and debugging procedural macro crates](https://ferrous-systems.com/blog/testing-proc-macros/)\n",
    "\n",
    "[Rust Programming - Macros Quick Dev Tips](https://www.youtube.com/watch?v=5rwnWfMJflU)\n",
    "\n",
    "[Declarative Macros in Rust](https://www.youtube.com/watch?v=KsJHlqULpO4)\n",
    "\n",
    "[Crust of Rust: Declarative Macros](https://www.youtube.com/watch?v=q6paRBbLgNw&t=6s)"
   ]
  },
  {
   "cell_type": "code",
   "execution_count": null,
   "metadata": {},
   "outputs": [],
   "source": []
  },
  {
   "cell_type": "code",
   "execution_count": null,
   "metadata": {},
   "outputs": [],
   "source": []
  },
  {
   "cell_type": "markdown",
   "metadata": {},
   "source": [
    "## References \n",
    "\n",
    "[Macros in Rust: A tutorial with examples](https://blog.logrocket.com/macros-in-rust-a-tutorial-with-examples/)\n",
    "\n",
    "[Procedural Macros in Rust (part 1)](https://www.youtube.com/watch?v=geovSK3wMB8&t=1328s)\n",
    "\n",
    "[Procedural Macros in Rust (part 2)](https://www.youtube.com/watch?v=KVWHT1TAirU)"
   ]
  },
  {
   "cell_type": "code",
   "execution_count": null,
   "metadata": {},
   "outputs": [],
   "source": []
  }
 ],
 "metadata": {
  "file_extension": ".py",
  "kernelspec": {
   "display_name": "Rust",
   "language": "rust",
   "name": "rust"
  },
  "language_info": {
   "codemirror_mode": "rust",
   "file_extension": ".rs",
   "mimetype": "text/rust",
   "name": "Rust",
   "pygment_lexer": "rust",
   "version": ""
  },
  "mimetype": "text/x-python",
  "name": "python",
  "npconvert_exporter": "python",
  "pygments_lexer": "ipython3",
  "version": 3
 },
 "nbformat": 4,
 "nbformat_minor": 4
}