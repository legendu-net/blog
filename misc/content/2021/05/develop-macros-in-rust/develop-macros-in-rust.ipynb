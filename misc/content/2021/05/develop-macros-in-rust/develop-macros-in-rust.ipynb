{
 "cells": [
  {
   "cell_type": "markdown",
   "metadata": {},
   "source": [
    "- Author: Ben Du\n",
    "- Date: 2021-05-15 09:43:53\n",
    "- Title: Develop Macros in Rust\n",
    "- Slug: develop-macros-in-rust\n",
    "- Category: Computer Science\n",
    "- Tags: Computer Science, programming, Rust, macro, declaritive, procedural\n",
    "- Modified: 2022-09-08 00:19:55\n"
   ]
  },
  {
   "cell_type": "markdown",
   "metadata": {},
   "source": [
    "**Things on this page are fragmentary and immature notes/thoughts of the author. Please read with your own judgement!**"
   ]
  },
  {
   "cell_type": "markdown",
   "metadata": {},
   "source": [
    "## Useful Crates for Macro Development\n",
    "\n",
    "###  [syn](https://crates.io/crates/syn)\n",
    "[Syn](https://crates.io/crates/syn)\n",
    "is a parsing library \n",
    "for parsing a stream of Rust tokens into a syntax tree of Rust source code.\n",
    "\n",
    "### [quote](https://crates.io/crates/quote)\n",
    "[Quote](https://crates.io/crates/quote)\n",
    "provides the `quote!` macro \n",
    "for turning Rust syntax tree data structures into tokens of source code.\n",
    "\n",
    "### [proc-macro2](https://crates.io/crates/proc-macro2)\n",
    "[proc-macro2](https://crates.io/crates/proc-macro2)\n",
    "is a substitute implementation of the compiler's `proc_macro` API \n",
    "to decouple token-based libraries from the procedural macro use case.\n",
    "\n",
    "### [syntactic-for](https://crates.io/crates/syntactic-for)\n",
    "[syntactic-for](https://crates.io/crates/syntactic-for)\n",
    "provides a syntactic \"for\" loop Rust macro."
   ]
  },
  {
   "cell_type": "markdown",
   "metadata": {},
   "source": [
    "[Structuring, testing and debugging procedural macro crates](https://ferrous-systems.com/blog/testing-proc-macros/)\n",
    "\n",
    "[Rust Programming - Macros Quick Dev Tips](https://www.youtube.com/watch?v=5rwnWfMJflU)\n",
    "\n",
    "[Declarative Macros in Rust](https://www.youtube.com/watch?v=KsJHlqULpO4)\n",
    "\n",
    "[Crust of Rust: Declarative Macros](https://www.youtube.com/watch?v=q6paRBbLgNw&t=6s)"
   ]
  },
  {
   "cell_type": "markdown",
   "metadata": {},
   "source": [
    "## Declarative Macros"
   ]
  },
  {
   "cell_type": "code",
   "execution_count": null,
   "metadata": {},
   "outputs": [],
   "source": [
    "macro_rules! add{\n",
    "    ($a:expr,$b:expr)=>{{\n",
    "               $a+$b\n",
    "    }}\n",
    "}"
   ]
  },
  {
   "cell_type": "code",
   "execution_count": null,
   "metadata": {},
   "outputs": [],
   "source": [
    "add!(2, 3)"
   ]
  },
  {
   "cell_type": "markdown",
   "metadata": {},
   "source": [
    "## References \n",
    "\n",
    "[Macros in Rust: A tutorial with examples](https://blog.logrocket.com/macros-in-rust-a-tutorial-with-examples/)\n",
    "\n",
    "[Procedural Macros in Rust (part 1)](https://www.youtube.com/watch?v=geovSK3wMB8&t=1328s)\n",
    "\n",
    "[Procedural Macros in Rust (part 2)](https://www.youtube.com/watch?v=KVWHT1TAirU)"
   ]
  },
  {
   "cell_type": "code",
   "execution_count": null,
   "metadata": {},
   "outputs": [],
   "source": []
  }
 ],
 "metadata": {
  "file_extension": ".py",
  "kernelspec": {
   "display_name": "Rust",
   "language": "rust",
   "name": "rust"
  },
  "language_info": {
   "codemirror_mode": "rust",
   "file_extension": ".rs",
   "mimetype": "text/rust",
   "name": "Rust",
   "pygment_lexer": "rust",
   "version": ""
  },
  "mimetype": "text/x-python",
  "name": "python",
  "npconvert_exporter": "python",
  "pygments_lexer": "ipython3",
  "version": 3
 },
 "nbformat": 4,
 "nbformat_minor": 4
}
