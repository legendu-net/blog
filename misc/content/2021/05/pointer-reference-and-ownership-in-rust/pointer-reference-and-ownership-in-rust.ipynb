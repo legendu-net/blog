{
 "cells": [
  {
   "cell_type": "markdown",
   "metadata": {},
   "source": [
    "- Author: Ben Du\n",
    "- Date: 2021-05-15 11:18:00\n",
    "- Title: Pointer Reference and Ownership in Rust\n",
    "- Slug: pointer-reference-and-ownership-in-rust\n",
    "- Category: Computer Science\n",
    "- Tags: Computer Science, programming, Rust, pointer, reference, ownership\n",
    "- Modified: 2021-05-15 11:18:00\n"
   ]
  },
  {
   "cell_type": "markdown",
   "metadata": {},
   "source": [
    "**Things on this page are fragmentary and immature notes/thoughts of the author. Please read with your own judgement!**"
   ]
  },
  {
   "cell_type": "markdown",
   "metadata": {},
   "source": [
    "## Tips and Traps\n",
    "\n",
    "[Struct std::marker::PhantomData](https://doc.rust-lang.org/std/marker/struct.PhantomData.html)\n",
    "is a zero-sized type used to mark things that \"act like\" they own a T.\n",
    "\n",
    "[Module std::boxed](https://doc.rust-lang.org/std/boxed/index.html)\n",
    "is a (fat) pointer type for heap allocation.\n",
    "`Box<T>`, casually referred to as a `box`, \n",
    "provides the simplest form of heap allocation in Rust. \n",
    "Boxes provide ownership for this allocation, \n",
    "and drop their contents when they go out of scope. \n",
    "Boxes also ensure that they never allocate more than isize::MAX bytes.\n",
    "\n",
    "[Module std::cell](https://doc.rust-lang.org/std/cell/index.html)\n",
    "is a module providing shareable mutable containers.\n",
    "\n",
    "[Module std::rc](https://doc.rust-lang.org/std/rc/index.html)\n",
    "is a module providing single-threaded reference-counting pointers. \n",
    "`Rc` stands for `Reference Counted`.\n",
    "The type `Rc<T>` provides shared ownership of a value of type T, \n",
    "allocated in the heap. \n",
    "Invoking `clone` on `Rc` produces a new pointer to the same allocation in the heap. \n",
    "When the last `Rc` pointer to a given allocation is destroyed, \n",
    "the value stored in that allocation (often referred to as \"inner value\") is also dropped.\n",
    "Shared references in Rust disallow mutation by default, \n",
    "and Rc is no exception: \n",
    "you cannot generally obtain a mutable reference to something inside an `Rc`. \n",
    "If you need mutability, put a `Cell` or `RefCell` inside the `Rc`.\n",
    "\n",
    "[Struct std::sync::Arc](https://doc.rust-lang.org/std/sync/struct.Arc.html)\n",
    "A thread-safe reference-counting pointer. \u2018Arc\u2019 stands for \u2018Atomically Reference Counted\u2019.\n",
    "The type Arc<T> provides shared ownership of a value of type T, allocated in the heap. \n",
    "Invoking clone on Arc produces a new Arc instance, \n",
    "which points to the same allocation on the heap as the source Arc, \n",
    "while increasing a reference count. When the last Arc pointer to a given allocation is destroyed, \n",
    "the value stored in that allocation (often referred to as \u201cinner value\u201d) is also dropped.\n",
    "\n",
    "Shared references in Rust disallow mutation by default, and Arc is no exception: you cannot generally obtain a mutable reference to something inside an Arc. If you need to mutate through an Arc, use Mutex, RwLock, or one of the Atomic types."
   ]
  },
  {
   "cell_type": "markdown",
   "metadata": {},
   "source": [
    "## Ownership\n",
    "\n",
    "- Each value in Rust has a variable that\u2019s called its owner.\n",
    "- There can only be one owner at a time.\n",
    "- When the owner goes out of scope, the value will be dropped."
   ]
  },
  {
   "cell_type": "code",
   "execution_count": 5,
   "metadata": {},
   "outputs": [
    {
     "ename": "Error",
     "evalue": "unused variable: `s2`",
     "output_type": "error",
     "traceback": [
      "    let s2 = s1;",
      "        ^^ ",
      "unused variable: `s2`",
      "help: if this is intentional, prefix it with an underscore\n\n_s2"
     ]
    },
    {
     "ename": "Error",
     "evalue": "borrow of moved value: `s1`",
     "output_type": "error",
     "traceback": [
      "    let s2 = s1;",
      "             ^^ value moved here",
      "    println!(\"{}\", s1);",
      "                   ^^ value borrowed here after move",
      "    let s1 = String::from(\"how are you\");",
      "        ^^ move occurs because `s1` has type `String`, which does not implement the `Copy` trait",
      "borrow of moved value: `s1`"
     ]
    }
   ],
   "source": [
    "{\n",
    "    let s1 = String::from(\"how are you\");\n",
    "    let s2 = s1;\n",
    "    println!(\"{}\", s1);\n",
    "}"
   ]
  },
  {
   "cell_type": "markdown",
   "metadata": {},
   "source": [
    "## Borrow\n",
    "\n",
    "- Allow infinite borrows for read-only access\n",
    "- Read-only borrows make the original data immutable\n",
    "- Only allowed to pass one borrow at a time for write access"
   ]
  },
  {
   "cell_type": "code",
   "execution_count": 4,
   "metadata": {},
   "outputs": [
    {
     "ename": "Error",
     "evalue": "cannot borrow `s1` as mutable because it is also borrowed as immutable",
     "output_type": "error",
     "traceback": [
      "    s1.push('?');",
      "    ^^^^^^^^^^^^ mutable borrow occurs here",
      "    let s2 = &s1;",
      "             ^^^ immutable borrow occurs here",
      "    println!(\"{}\", s2);",
      "                   ^^ immutable borrow later used here",
      "cannot borrow `s1` as mutable because it is also borrowed as immutable"
     ]
    }
   ],
   "source": [
    "{\n",
    "    let mut s1 = String::from(\"how are you\");\n",
    "    let s2 = &s1;\n",
    "    s1.push('?');\n",
    "    println!(\"{}\", s2);\n",
    "}"
   ]
  },
  {
   "cell_type": "code",
   "execution_count": 11,
   "metadata": {},
   "outputs": [
    {
     "name": "stdout",
     "output_type": "stream",
     "text": [
      "how are you\n"
     ]
    },
    {
     "data": {
      "text/plain": [
       "()"
      ]
     },
     "execution_count": 11,
     "metadata": {},
     "output_type": "execute_result"
    }
   ],
   "source": [
    "{\n",
    "    let mut s = String::from(\"how are you\");\n",
    "    println!(\"{}\", &*s);\n",
    "}"
   ]
  },
  {
   "cell_type": "markdown",
   "metadata": {},
   "source": [
    "## References \n",
    "\n",
    "[Hands on Box in Rust](http://www.legendu.net/misc/blog/hands-on-box-in-rust)\n",
    "\n",
    "[Struct std::marker::PhantomData](https://doc.rust-lang.org/std/marker/struct.PhantomData.html)\n",
    "\n",
    "[PhantomData](https://doc.rust-lang.org/nomicon/phantom-data.html)\n",
    "\n",
    "[Module std::boxed](https://doc.rust-lang.org/std/boxed/index.html)"
   ]
  },
  {
   "cell_type": "code",
   "execution_count": null,
   "metadata": {},
   "outputs": [],
   "source": []
  }
 ],
 "metadata": {
  "file_extension": ".py",
  "kernelspec": {
   "display_name": "Rust",
   "language": "rust",
   "name": "rust"
  },
  "language_info": {
   "codemirror_mode": "rust",
   "file_extension": ".rs",
   "mimetype": "text/rust",
   "name": "Rust",
   "pygment_lexer": "rust",
   "version": ""
  },
  "mimetype": "text/x-python",
  "name": "python",
  "npconvert_exporter": "python",
  "pygments_lexer": "ipython3",
  "version": 3
 },
 "nbformat": 4,
 "nbformat_minor": 4
}