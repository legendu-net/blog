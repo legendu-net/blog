{
 "cells": [
  {
   "cell_type": "markdown",
   "metadata": {},
   "source": [
    "- Author: Ben Du\n",
    "- Date: 2021-05-01 14:54:56\n",
    "- Title: Current Working Directory in Rust\n",
    "- Slug: current-working-directory-in-rust\n",
    "- Category: Computer Science\n",
    "- Tags: Computer Science, programming, Rust, current, directory, dir, temp, temporary, executable, environment, variable, PATH\n",
    "- Modified: 2021-05-01 14:54:56\n"
   ]
  },
  {
   "cell_type": "markdown",
   "metadata": {},
   "source": [
    "**Things on this page are fragmentary and immature notes/thoughts of the author. Please read with your own judgement!**"
   ]
  },
  {
   "cell_type": "markdown",
   "metadata": {},
   "source": [
    "## Tips and Traps\n",
    "\n",
    "1. Notice `std::env::current_dir` gets the directory path from where you run the Rust application.\n",
    "    It might be different from the path of the Rust executable."
   ]
  },
  {
   "cell_type": "code",
   "execution_count": 2,
   "metadata": {},
   "outputs": [],
   "source": [
    "use std::env;"
   ]
  },
  {
   "cell_type": "markdown",
   "metadata": {},
   "source": [
    "## [std::env::current_dir](https://doc.rust-lang.org/std/env/fn.current_dir.html)"
   ]
  },
  {
   "cell_type": "code",
   "execution_count": 3,
   "metadata": {},
   "outputs": [
    {
     "data": {
      "text/plain": [
       "Ok(\"/workdir/archives/blog/misc/content/2021/05\")"
      ]
     },
     "execution_count": 3,
     "metadata": {},
     "output_type": "execute_result"
    }
   ],
   "source": [
    "std::env::current_dir()"
   ]
  },
  {
   "cell_type": "markdown",
   "metadata": {},
   "source": [
    "## [std::env::current_exe](https://doc.rust-lang.org/std/env/fn.current_exe.html)"
   ]
  },
  {
   "cell_type": "code",
   "execution_count": 5,
   "metadata": {},
   "outputs": [
    {
     "data": {
      "text/plain": [
       "Ok(\"/root/.cargo/bin/evcxr_jupyter\")"
      ]
     },
     "execution_count": 5,
     "metadata": {},
     "output_type": "execute_result"
    }
   ],
   "source": [
    "std::env::current_exe()"
   ]
  },
  {
   "cell_type": "markdown",
   "metadata": {},
   "source": [
    "## [std::env::set_current_dir](https://doc.rust-lang.org/std/env/fn.set_current_dir.html)"
   ]
  },
  {
   "cell_type": "code",
   "execution_count": 7,
   "metadata": {},
   "outputs": [
    {
     "data": {
      "text/plain": [
       "Ok(())"
      ]
     },
     "execution_count": 7,
     "metadata": {},
     "output_type": "execute_result"
    }
   ],
   "source": [
    "std::env::set_current_dir(\"/workdir\")"
   ]
  },
  {
   "cell_type": "code",
   "execution_count": 8,
   "metadata": {},
   "outputs": [
    {
     "data": {
      "text/plain": [
       "Ok(\"/workdir\")"
      ]
     },
     "execution_count": 8,
     "metadata": {},
     "output_type": "execute_result"
    }
   ],
   "source": [
    "std::env::current_dir()"
   ]
  },
  {
   "cell_type": "markdown",
   "metadata": {},
   "source": [
    "## [std::env::vars](https://doc.rust-lang.org/std/env/fn.vars.html)"
   ]
  },
  {
   "cell_type": "code",
   "execution_count": 17,
   "metadata": {},
   "outputs": [
    {
     "name": "stdout",
     "output_type": "stream",
     "text": [
      "(\"EVCXR_IS_RUNTIME\", \"1\")\n",
      "(\"HOME\", \"/home/dclong\")\n",
      "(\"JAVA_HOME\", \"/usr/lib/jvm/java-8-openjdk-amd64\")\n",
      "(\"JPY_API_TOKEN\", \"967da4b8a66e4f5c8ca3aa31833aad0d\")\n",
      "(\"JPY_PARENT_PID\", \"70\")\n",
      "(\"JUPYTERHUB_ACTIVITY_URL\", \"http://127.0.0.1:8081/hub/api/users/dclong/activity\")\n",
      "(\"JUPYTERHUB_ADMIN_ACCESS\", \"1\")\n",
      "(\"JUPYTERHUB_API_TOKEN\", \"967da4b8a66e4f5c8ca3aa31833aad0d\")\n",
      "(\"JUPYTERHUB_API_URL\", \"http://127.0.0.1:8081/hub/api\")\n",
      "(\"JUPYTERHUB_BASE_URL\", \"/\")\n",
      "(\"JUPYTERHUB_CLIENT_ID\", \"jupyterhub-user-dclong\")\n",
      "(\"JUPYTERHUB_HOST\", \"\")\n",
      "(\"JUPYTERHUB_OAUTH_CALLBACK_URL\", \"/user/dclong/oauth_callback\")\n",
      "(\"JUPYTERHUB_SERVER_NAME\", \"\")\n",
      "(\"JUPYTERHUB_SERVICE_PREFIX\", \"/user/dclong/\")\n",
      "(\"JUPYTERHUB_USER\", \"dclong\")\n",
      "(\"LANG\", \"en_US.UTF-8\")\n",
      "(\"LC_ALL\", \"en_US.UTF-8\")\n",
      "(\"M2_HOME\", \"/usr/share/maven\")\n",
      "(\"PATH\", \"/opt/pyenv/bin:/usr/local/sbin:/usr/local/bin:/usr/sbin:/usr/bin:/sbin:/bin:/usr/lib/jvm/java-8-openjdk-amd64/bin\")\n",
      "(\"RUST_BACKTRACE\", \"1\")\n",
      "(\"SHELL\", \"/bin/bash\")\n",
      "(\"USER\", \"dclong\")\n"
     ]
    },
    {
     "data": {
      "text/plain": [
       "()"
      ]
     },
     "execution_count": 17,
     "metadata": {},
     "output_type": "execute_result"
    }
   ],
   "source": [
    "for var in std::env::vars() {\n",
    "    println!(\"{:?}\", var);\n",
    "}"
   ]
  },
  {
   "cell_type": "markdown",
   "metadata": {},
   "source": [
    "## [std::env::var](https://doc.rust-lang.org/std/env/fn.var.html)"
   ]
  },
  {
   "cell_type": "code",
   "execution_count": 14,
   "metadata": {},
   "outputs": [
    {
     "data": {
      "text/plain": [
       "Ok(\"/opt/pyenv/bin:/usr/local/sbin:/usr/local/bin:/usr/sbin:/usr/bin:/sbin:/bin:/usr/lib/jvm/java-8-openjdk-amd64/bin\")"
      ]
     },
     "execution_count": 14,
     "metadata": {},
     "output_type": "execute_result"
    }
   ],
   "source": [
    "std::env::var(\"PATH\")"
   ]
  },
  {
   "cell_type": "markdown",
   "metadata": {},
   "source": [
    "## [std::env::set_var](https://doc.rust-lang.org/std/env/fn.set_var.html)"
   ]
  },
  {
   "cell_type": "code",
   "execution_count": 26,
   "metadata": {},
   "outputs": [],
   "source": [
    "std::env::set_var(\"NIMA\", \"1000\");"
   ]
  },
  {
   "cell_type": "code",
   "execution_count": 27,
   "metadata": {},
   "outputs": [
    {
     "data": {
      "text/plain": [
       "Ok(\"1000\")"
      ]
     },
     "execution_count": 27,
     "metadata": {},
     "output_type": "execute_result"
    }
   ],
   "source": [
    "std::env::var(\"NIMA\")"
   ]
  },
  {
   "cell_type": "markdown",
   "metadata": {},
   "source": [
    "## [std::env::remove_var](https://doc.rust-lang.org/std/env/fn.remove_var.html)"
   ]
  },
  {
   "cell_type": "code",
   "execution_count": 28,
   "metadata": {},
   "outputs": [
    {
     "data": {
      "text/plain": [
       "()"
      ]
     },
     "execution_count": 28,
     "metadata": {},
     "output_type": "execute_result"
    }
   ],
   "source": [
    "std::env::remove_var(\"NIMA\")"
   ]
  },
  {
   "cell_type": "markdown",
   "metadata": {},
   "source": [
    "## [std::env::split_paths](https://doc.rust-lang.org/std/env/fn.split_paths.html)"
   ]
  },
  {
   "cell_type": "code",
   "execution_count": 25,
   "metadata": {},
   "outputs": [
    {
     "name": "stdout",
     "output_type": "stream",
     "text": [
      "\"/opt/pyenv/bin\"\n",
      "\"/usr/local/sbin\"\n",
      "\"/usr/local/bin\"\n",
      "\"/usr/sbin\"\n",
      "\"/usr/bin\"\n",
      "\"/sbin\"\n",
      "\"/bin\"\n",
      "\"/usr/lib/jvm/java-8-openjdk-amd64/bin\"\n"
     ]
    },
    {
     "data": {
      "text/plain": [
       "()"
      ]
     },
     "execution_count": 25,
     "metadata": {},
     "output_type": "execute_result"
    }
   ],
   "source": [
    "let paths = std::env::var(\"PATH\")?;\n",
    "for path in std::env::split_paths(&paths) {\n",
    "    println!(\"{:?}\", path);\n",
    "}"
   ]
  },
  {
   "cell_type": "markdown",
   "metadata": {},
   "source": [
    "## [std::env::join_paths](https://doc.rust-lang.org/std/env/fn.join_paths.html)"
   ]
  },
  {
   "cell_type": "code",
   "execution_count": 12,
   "metadata": {},
   "outputs": [
    {
     "data": {
      "text/plain": [
       "Ok(\"/workdir:/home/dclong\")"
      ]
     },
     "execution_count": 12,
     "metadata": {},
     "output_type": "execute_result"
    }
   ],
   "source": [
    "std::env::join_paths(&[\"/workdir\", \"/home/dclong\"])"
   ]
  },
  {
   "cell_type": "markdown",
   "metadata": {},
   "source": [
    "## [std::env::temp_dir](https://doc.rust-lang.org/std/env/fn.temp_dir.html)"
   ]
  },
  {
   "cell_type": "code",
   "execution_count": 29,
   "metadata": {},
   "outputs": [
    {
     "data": {
      "text/plain": [
       "\"/tmp\""
      ]
     },
     "execution_count": 29,
     "metadata": {},
     "output_type": "execute_result"
    }
   ],
   "source": [
    "std::env::temp_dir()"
   ]
  },
  {
   "cell_type": "markdown",
   "metadata": {},
   "source": [
    "## References\n",
    "\n",
    "[std::env](https://doc.rust-lang.org/std/env/index.html)\n",
    "\n",
    "[Function std::env::current_exe](https://doc.rust-lang.org/std/env/fn.current_exe.html)\n",
    "\n",
    "[Function std::env::current_dir](https://doc.rust-lang.org/std/env/fn.current_dir.html)"
   ]
  }
 ],
 "metadata": {
  "file_extension": ".py",
  "kernelspec": {
   "display_name": "Rust",
   "language": "rust",
   "name": "rust"
  },
  "language_info": {
   "codemirror_mode": "rust",
   "file_extension": ".rs",
   "mimetype": "text/rust",
   "name": "Rust",
   "pygment_lexer": "rust",
   "version": ""
  },
  "mimetype": "text/x-python",
  "name": "python",
  "npconvert_exporter": "python",
  "pygments_lexer": "ipython3",
  "version": 3
 },
 "nbformat": 4,
 "nbformat_minor": 4
}