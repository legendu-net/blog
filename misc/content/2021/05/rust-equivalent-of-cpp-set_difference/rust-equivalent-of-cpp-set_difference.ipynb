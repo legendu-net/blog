{
 "cells": [
  {
   "cell_type": "markdown",
   "metadata": {},
   "source": [
    "- Author: Ben Du\n",
    "- Date: 2021-05-24 12:24:17\n",
    "- Title: Equivalent of C++'s std::set_difference in Rust\n",
    "- Slug: russt-equivalent--cpp-std::set_difference\n",
    "- Category: Computer Science\n",
    "- Tags: Computer Science, programming, C++, cpp, Rust, equivalent, set_difference, vector\n",
    "- Modified: 2021-05-24 12:24:17\n"
   ]
  },
  {
   "cell_type": "markdown",
   "metadata": {},
   "source": [
    "**Things on this page are fragmentary and immature notes/thoughts of the author. Please read with your own judgement!**"
   ]
  },
  {
   "cell_type": "markdown",
   "metadata": {},
   "source": [
    "## Tips and Traps\n",
    "\n",
    "1. There is no equivalent of C++'s `std::set_difference` in Rust.\n",
    "    However, \n",
    "    you can convert both inputs to `HashSet` (or `BTreeSet`) \n",
    "    and then call the `set_difference` method on `HashSet` (or `BTreeSet`).\n",
    "    However,\n",
    "    you can implement an efficient one leveraging vector slice and binary search."
   ]
  },
  {
   "cell_type": "code",
   "execution_count": null,
   "metadata": {},
   "outputs": [],
   "source": [
    "struct SortedDiff<T, U: Iterator> {\n",
    "    it1: T,\n",
    "    it2: Peekable<U>,\n",
    "}\n",
    "\n",
    "impl<T, U, W> Iterator for SortedDiff<T, U>\n",
    "    where\n",
    "        T: Iterator<Item = W>,\n",
    "        U: Iterator<Item = W>,\n",
    "        W: Ord,\n",
    "{\n",
    "    type Item = W;\n",
    "    \n",
    "    fn next(&mut self) -> Option<Self::Item> {\n",
    "        while let Some(elm1) = self.it1.next() {\n",
    "            'inner: loop {\n",
    "                match self.it2.peek().map(|elm2| elm1.cmp(elm2)) {\n",
    "                    None => return Some(elm1),\n",
    "                    Some(Ordering::Less) => return Some(elm1),\n",
    "                    Some(Ordering::Equal) => break 'inner,\n",
    "                    Some(Ordering::Greater) => { self.it2.next(); },\n",
    "                }\n",
    "            }\n",
    "        }\n",
    "        \n",
    "        None\n",
    "    }\n",
    "}"
   ]
  },
  {
   "cell_type": "markdown",
   "metadata": {},
   "source": [
    "## Remove Multiple Elements At Given Indexes from a Vector\n",
    "\n",
    "Assuming the indexes are sorted."
   ]
  },
  {
   "cell_type": "markdown",
   "metadata": {},
   "source": [
    "## swap_remove\n",
    "\n",
    "If you do not care about persist the original order of elements, \n",
    "the most efficient way is to use the method `Vec.swap_remove`.\n",
    "The trick is to remove from the largest index using `Vec.swap_remove`."
   ]
  },
  {
   "cell_type": "markdown",
   "metadata": {},
   "source": [
    "### Manually Calculate New Index\n",
    "\n",
    "If persisting the original order is required,\n",
    "you can manually calculated the new index for each index to be removed.\n",
    "For example,\n",
    "if the element at index 1 needs to be removed,\n",
    "check the next index to see whether it is available\n",
    "until you find a valid index to use. "
   ]
  },
  {
   "cell_type": "markdown",
   "metadata": {},
   "source": [
    "## References\n",
    "\n",
    "[std::set_difference](https://en.cppreference.com/w/cpp/algorithm/set_difference)\n",
    "\n",
    "[C++ std::set_difference equivalent in Rust](https://users.rust-lang.org/t/c-std-set-difference-equivalent-in-rust/60128/6)\n",
    "\n",
    "[std::slice](https://doc.rust-lang.org/std/slice/index.html)"
   ]
  },
  {
   "cell_type": "code",
   "execution_count": null,
   "metadata": {},
   "outputs": [],
   "source": []
  }
 ],
 "metadata": {
  "file_extension": ".py",
  "kernelspec": {
   "display_name": "Rust",
   "language": "rust",
   "name": "rust"
  },
  "language_info": {
   "codemirror_mode": "rust",
   "file_extension": ".rs",
   "mimetype": "text/rust",
   "name": "Rust",
   "pygment_lexer": "rust",
   "version": ""
  },
  "mimetype": "text/x-python",
  "name": "python",
  "npconvert_exporter": "python",
  "pygments_lexer": "ipython3",
  "version": 3
 },
 "nbformat": 4,
 "nbformat_minor": 4
}