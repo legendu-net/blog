{
 "cells": [
  {
   "cell_type": "markdown",
   "metadata": {},
   "source": [
    "- Author: Ben Du\n",
    "- Date: 2021-05-29 10:12:42\n",
    "- Title: Error Handling in Rust\n",
    "- Slug: error-handling-in-rust\n",
    "- Category: Computer Science\n",
    "- Tags: Computer Science, programming, error, handling, exception, try, catch, panic\n",
    "- Modified: 2021-06-19 23:59:11\n"
   ]
  },
  {
   "cell_type": "markdown",
   "metadata": {},
   "source": [
    "**Things on this page are fragmentary and immature notes/thoughts of the author. Please read with your own judgement!**"
   ]
  },
  {
   "cell_type": "markdown",
   "metadata": {},
   "source": [
    "## Tips and Traps\n",
    "\n",
    "1. The question mark `?` ...\n",
    "\n",
    "2. `eprintln!`\n",
    "\n",
    "3. `Result.ok` converts a `Result` object to an `Option` object.\n",
    "    Symetrically,\n",
    "    `Option.ok_or` converts an `Option` to a `Result` object.\n",
    "\n",
    "3. The recommended way of error handling in Rust is \n",
    "    to  define an enum that covers meaningful error cases for your library,\n",
    "    implement `Debug`, `Display` and `std::error::Error` for that enum.\n",
    "    This is fast/cheap (no heap allocation on error), \n",
    "    and precise and easy to use.\n",
    "\n",
    "4. By default errors in Rust are checked (at compile time). \n",
    "    However, \n",
    "    you can get unchecked error using `Box<dyn std::error::Error + 'static>` with `Send` and `Sync`.\n",
    "\n",
    "5. The disscussion in\n",
    "    [The state of error handling in the 2018 edition](https://users.rust-lang.org/t/the-state-of-error-handling-in-the-2018-edition/23263)\n",
    "    suggests that thiserror (for libraries) + anyhow (for applications) is a good combination.\n",
    "    "
   ]
  },
  {
   "cell_type": "code",
   "execution_count": 2,
   "metadata": {},
   "outputs": [],
   "source": [
    ":dep thiserror = \"1.0.25\"\n",
    ":dep anyhow = \"1.0.41\""
   ]
  },
  {
   "cell_type": "code",
   "execution_count": 3,
   "metadata": {},
   "outputs": [],
   "source": [
    "use thiserror::Error;\n",
    "\n",
    "#[derive(Error, Debug)]\n",
    "pub enum ParseRankError {\n",
    "    #[error(\"{0} is not a valid symbol for card rank!\")]\n",
    "    InvalidSymbol(char),\n",
    "    #[error(\"{0} is not a valid integer for card rank!\")]\n",
    "    InvalidInteger(u8),\n",
    "}"
   ]
  },
  {
   "cell_type": "code",
   "execution_count": 4,
   "metadata": {},
   "outputs": [
    {
     "data": {
      "text/plain": [
       "InvalidSymbol('m')"
      ]
     },
     "execution_count": 4,
     "metadata": {},
     "output_type": "execute_result"
    }
   ],
   "source": [
    "let err = ParseRankError::InvalidSymbol('m');\n",
    "err"
   ]
  },
  {
   "cell_type": "code",
   "execution_count": 5,
   "metadata": {},
   "outputs": [
    {
     "data": {
      "text/plain": [
       "\"m is not a valid symbol for card rank!\""
      ]
     },
     "execution_count": 5,
     "metadata": {},
     "output_type": "execute_result"
    }
   ],
   "source": [
    "err.to_string()"
   ]
  },
  {
   "cell_type": "code",
   "execution_count": 6,
   "metadata": {},
   "outputs": [
    {
     "name": "stdout",
     "output_type": "stream",
     "text": [
      "m is not a valid symbol for card rank!\n"
     ]
    }
   ],
   "source": [
    "println!(\"{}\", err);"
   ]
  },
  {
   "cell_type": "code",
   "execution_count": 7,
   "metadata": {},
   "outputs": [
    {
     "name": "stdout",
     "output_type": "stream",
     "text": [
      "InvalidSymbol('m')\n"
     ]
    }
   ],
   "source": [
    "println!(\"{:?}\", err);"
   ]
  },
  {
   "cell_type": "code",
   "execution_count": 8,
   "metadata": {},
   "outputs": [
    {
     "name": "stdout",
     "output_type": "stream",
     "text": [
      "InvalidSymbol('m'): m is not a valid symbol for card rank!\n"
     ]
    }
   ],
   "source": [
    "println!(\"{:?}: {}\", err, err);"
   ]
  },
  {
   "cell_type": "code",
   "execution_count": 9,
   "metadata": {},
   "outputs": [
    {
     "name": "stderr",
     "output_type": "stream",
     "text": [
      "InvalidSymbol('m'): m is not a valid symbol for card rank!\n"
     ]
    }
   ],
   "source": [
    "eprintln!(\"{:?}: {}\", err, err);"
   ]
  },
  {
   "cell_type": "code",
   "execution_count": 12,
   "metadata": {},
   "outputs": [],
   "source": [
    "use std::io;"
   ]
  },
  {
   "cell_type": "code",
   "execution_count": 16,
   "metadata": {},
   "outputs": [
    {
     "data": {
      "text/plain": [
       "Custom { kind: Other, error: \"oh no!\" }"
      ]
     },
     "execution_count": 16,
     "metadata": {},
     "output_type": "execute_result"
    }
   ],
   "source": [
    "let err = io::Error::new(io::ErrorKind::Other, \"oh no!\");\n",
    "err"
   ]
  },
  {
   "cell_type": "code",
   "execution_count": 17,
   "metadata": {},
   "outputs": [
    {
     "name": "stderr",
     "output_type": "stream",
     "text": [
      "Custom { kind: Other, error: \"oh no!\" }: oh no!\n"
     ]
    }
   ],
   "source": [
    "eprintln!(\"{:?}: {}\", err, err);"
   ]
  },
  {
   "cell_type": "code",
   "execution_count": 19,
   "metadata": {},
   "outputs": [
    {
     "name": "stdout",
     "output_type": "stream",
     "text": [
      "Os { code: 2, kind: NotFound, message: \"No such file or directory\" }\n"
     ]
    }
   ],
   "source": [
    "println!(\"{:?}\", io::Error::last_os_error());"
   ]
  },
  {
   "cell_type": "code",
   "execution_count": null,
   "metadata": {},
   "outputs": [],
   "source": [
    "use thiserror::Error;\n",
    "\n",
    "/// WordCountError enumerates all possible errors returned by this library.\n",
    "#[derive(Error, Debug)]\n",
    "pub enum WordCountError {\n",
    "    /// Represents an empty source. For example, an empty text file being given\n",
    "    /// as input to `count_words()`.\n",
    "    #[error(\"Source contains no data\")]\n",
    "    EmptySource,\n",
    "\n",
    "    /// Represents a failure to read from input.\n",
    "    #[error(\"Read error\")]\n",
    "    ReadError { source: std::io::Error },\n",
    "\n",
    "    /// Represents all other cases of `std::io::Error`.\n",
    "    #[error(transparent)]\n",
    "    IOError(#[from] std::io::Error),\n",
    "}"
   ]
  },
  {
   "cell_type": "code",
   "execution_count": null,
   "metadata": {},
   "outputs": [],
   "source": []
  },
  {
   "cell_type": "code",
   "execution_count": null,
   "metadata": {},
   "outputs": [],
   "source": [
    "/// WordCountError enumerates all possible errors returned by this library.\n",
    "#[derive(Debug)]\n",
    "enum WordCountError {\n",
    "    /// Represents an empty source. For example, an empty text file being given\n",
    "    /// as input to `count_words()`.\n",
    "    EmptySource,\n",
    "\n",
    "    /// Represents a failure to read from input.\n",
    "    ReadError { source: std::io::Error },\n",
    "\n",
    "    /// Represents all other cases of `std::io::Error`.\n",
    "    IOError(std::io::Error),\n",
    "}\n",
    "\n",
    "impl std::error::Error for WordCountError {\n",
    "    fn source(&self) -> Option<&(dyn std::error::Error + 'static)> {\n",
    "        match *self {\n",
    "            WordCountError::EmptySource => None,\n",
    "            WordCountError::ReadError { ref source } => Some(source),\n",
    "            WordCountError::IOError(_) => None,\n",
    "        }\n",
    "    }\n",
    "}\n",
    "\n",
    "impl std::fmt::Display for WordCountError {\n",
    "    fn fmt(&self, f: &mut std::fmt::Formatter) -> std::fmt::Result {\n",
    "        match *self {\n",
    "            WordCountError::EmptySource => {\n",
    "                write!(f, \"Source contains no data\")\n",
    "            }\n",
    "            WordCountError::ReadError { .. } => {\n",
    "                write!(f, \"Read error\")\n",
    "            }\n",
    "            WordCountError::IOError(ref err) => {\n",
    "                err.fmt(f)\n",
    "            }\n",
    "        }\n",
    "    }\n",
    "}\n",
    "\n",
    "impl From<std::io::Error> for WordCountError {\n",
    "    fn from(err: std::io::Error) -> WordCountError {\n",
    "        WordCountError::IOError(err)\n",
    "    }\n",
    "}"
   ]
  },
  {
   "cell_type": "markdown",
   "metadata": {},
   "source": [
    "## References \n",
    "\n",
    "- [thiserror](https://crates.io/crates/thiserror)\n",
    "    \n",
    "- [anyhow](https://crates.io/crates/anyhow)\n",
    "\n",
    "- [Rust: Structuring and handling errors in 2020](https://nick.groenen.me/posts/rust-error-handling/)\n",
    "\n",
    "- [RustConf 2020 - Error handling Isn't All About Errors by Jane Lusby](https://www.youtube.com/watch?v=rAF8mLI0naQ)\n",
    "\n",
    "- [The state of error handling in the 2018 edition](https://users.rust-lang.org/t/the-state-of-error-handling-in-the-2018-edition/23263)\n",
    "\n",
    "- [ERROR HANDLING SURVEY](https://blog.yoshuawuyts.com/error-handling-survey/)\n",
    "\n",
    "- [Scott Wlaschin - Railway Oriented Programming — error handling in functional languages](https://vimeo.com/97344498)\n",
    "\n",
    "- [What Makes Rust Unique Error handling](https://www.youtube.com/watch?v=c6Shucw8p48)\n",
    "\n",
    "- [Do you agree with my opinions on error handling?](https://users.rust-lang.org/t/do-you-agree-with-my-opinions-on-error-handling/23600)\n",
    "\n",
    "- [Error handling in library: Enum or Trait type](https://users.rust-lang.org/t/error-handling-in-library-enum-or-trait-type/53750/8)\n",
    "\n",
    "- [What is this question mark operator about?](https://stackoverflow.com/questions/42917566/what-is-this-question-mark-operator-about)\n",
    "\n",
    "- [Rust - Which error-handling crate to use? ErrorTypes, thiserror & anyhow](https://www.youtube.com/watch?v=UgIQo__luHw)\n",
    "    \n",
    "- [Should I include the error type when defining an error in Rust?](https://users.rust-lang.org/t/should-i-include-the-error-type-when-defining-an-error-in-rust/61166)"
   ]
  }
 ],
 "metadata": {
  "file_extension": ".py",
  "kernelspec": {
   "display_name": "Rust",
   "language": "rust",
   "name": "rust"
  },
  "language_info": {
   "codemirror_mode": "rust",
   "file_extension": ".rs",
   "mimetype": "text/rust",
   "name": "Rust",
   "pygment_lexer": "rust",
   "version": ""
  },
  "mimetype": "text/x-python",
  "name": "python",
  "npconvert_exporter": "python",
  "pygments_lexer": "ipython3",
  "version": 3
 },
 "nbformat": 4,
 "nbformat_minor": 4
}
