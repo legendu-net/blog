{
 "cells": [
  {
   "cell_type": "markdown",
   "metadata": {},
   "source": [
    "- Author: Ben Du\n",
    "- Date: 2021-05-22 09:14:31\n",
    "- Title: Set in Rust\n",
    "- Slug: set-in-rust\n",
    "- Category: Computer Science\n",
    "- Tags: Computer Science, programming, Rust, set, HashSet, \n",
    "- Modified: 2021-05-22 09:14:31\n"
   ]
  },
  {
   "cell_type": "markdown",
   "metadata": {},
   "source": [
    "**Things on this page are fragmentary and immature notes/thoughts of the author. Please read with your own judgement!**"
   ]
  },
  {
   "cell_type": "markdown",
   "metadata": {},
   "source": [
    "## Tips and Traps\n",
    "\n",
    "1. [Module std::collections](https://doc.rust-lang.org/std/collections/index.html)\n",
    "    has a good summary on when to each which collection in Rust.\n",
    "    \n",
    "2. [Struct std::collections::HashSet](https://doc.rust-lang.org/std/collections/struct.HashSet.html)\n",
    "    has a good discussion on implementation details on HashSet \n",
    "    and things to note when use it.\n",
    "    \n",
    "3. BTreeSet is an alternative B-Tree-based implementation to HashSet. \n",
    "    Elements in BTreeSet are sorted\n",
    "    while elements in a HashSet are not sorted."
   ]
  },
  {
   "cell_type": "code",
   "execution_count": 6,
   "metadata": {},
   "outputs": [],
   "source": [
    "use std::collections::HashSet;"
   ]
  },
  {
   "cell_type": "markdown",
   "metadata": {},
   "source": [
    "## capacity\n",
    "\n",
    "Creates an empty HashSet with the specified capacity.\n",
    "The hash set will be able to hold **at least** capacity elements without reallocating. \n",
    "If capacity is 0, the hash set will not allocate."
   ]
  },
  {
   "cell_type": "code",
   "execution_count": 13,
   "metadata": {},
   "outputs": [
    {
     "data": {
      "text/plain": [
       "7"
      ]
     },
     "execution_count": 13,
     "metadata": {},
     "output_type": "execute_result"
    }
   ],
   "source": [
    "{\n",
    "    let s: HashSet<i32> = [0, 1, 2, 3, 4].iter().cloned().collect();\n",
    "    s.capacity()\n",
    "}"
   ]
  },
  {
   "cell_type": "code",
   "execution_count": 15,
   "metadata": {},
   "outputs": [
    {
     "data": {
      "text/plain": [
       "28"
      ]
     },
     "execution_count": 15,
     "metadata": {},
     "output_type": "execute_result"
    }
   ],
   "source": [
    "{\n",
    "    let s: HashSet<i32> = HashSet::with_capacity(20);\n",
    "    s.capacity()\n",
    "}"
   ]
  },
  {
   "cell_type": "markdown",
   "metadata": {},
   "source": [
    "## clear"
   ]
  },
  {
   "cell_type": "code",
   "execution_count": 18,
   "metadata": {},
   "outputs": [
    {
     "data": {
      "text/plain": [
       "{}"
      ]
     },
     "execution_count": 18,
     "metadata": {},
     "output_type": "execute_result"
    }
   ],
   "source": [
    "{\n",
    "    let mut s: HashSet<i32> = [0, 1, 2, 3, 4].iter().cloned().collect();\n",
    "    s.clear();\n",
    "    s\n",
    "}"
   ]
  },
  {
   "cell_type": "markdown",
   "metadata": {},
   "source": [
    "## contains"
   ]
  },
  {
   "cell_type": "code",
   "execution_count": 20,
   "metadata": {},
   "outputs": [
    {
     "data": {
      "text/plain": [
       "true"
      ]
     },
     "execution_count": 20,
     "metadata": {},
     "output_type": "execute_result"
    }
   ],
   "source": [
    "{\n",
    "    let mut s: HashSet<i32> = [0, 1, 2, 3, 4].iter().cloned().collect();\n",
    "    s.contains(&1)\n",
    "}"
   ]
  },
  {
   "cell_type": "code",
   "execution_count": 21,
   "metadata": {},
   "outputs": [
    {
     "data": {
      "text/plain": [
       "false"
      ]
     },
     "execution_count": 21,
     "metadata": {},
     "output_type": "execute_result"
    }
   ],
   "source": [
    "{\n",
    "    let mut s: HashSet<i32> = [0, 1, 2, 3, 4].iter().cloned().collect();\n",
    "    s.contains(&10)\n",
    "}"
   ]
  },
  {
   "cell_type": "markdown",
   "metadata": {},
   "source": [
    "## difference"
   ]
  },
  {
   "cell_type": "code",
   "execution_count": 6,
   "metadata": {},
   "outputs": [
    {
     "name": "stdout",
     "output_type": "stream",
     "text": [
      "s1 - s2: {1, 0, 2}\n",
      "s1: {0, 2, 3, 1, 4}\n"
     ]
    },
    {
     "data": {
      "text/plain": [
       "()"
      ]
     },
     "execution_count": 6,
     "metadata": {},
     "output_type": "execute_result"
    }
   ],
   "source": [
    "{\n",
    "    let s1: HashSet<i32> = [0, 1, 2, 3, 4].iter().cloned().collect();\n",
    "    let s2: HashSet<i32> = [3, 4].iter().cloned().collect();\n",
    "    println!(\"s1 - s2: {:?}\", &s1 - &s2);\n",
    "    println!(\"s1: {:?}\", s1);\n",
    "}"
   ]
  },
  {
   "cell_type": "code",
   "execution_count": 9,
   "metadata": {},
   "outputs": [
    {
     "name": "stdout",
     "output_type": "stream",
     "text": [
      "s1.difference(s2): [0, 2, 1]\n",
      "s1: {0, 2, 3, 4, 1}\n"
     ]
    },
    {
     "data": {
      "text/plain": [
       "()"
      ]
     },
     "execution_count": 9,
     "metadata": {},
     "output_type": "execute_result"
    }
   ],
   "source": [
    "{\n",
    "    let s1: HashSet<i32> = [0, 1, 2, 3, 4].iter().cloned().collect();\n",
    "    let s2: HashSet<i32> = [3, 4].iter().cloned().collect();\n",
    "    println!(\"s1.difference(s2): {:?}\", s1.difference(&s2));\n",
    "    println!(\"s1: {:?}\", s1);\n",
    "}"
   ]
  },
  {
   "cell_type": "markdown",
   "metadata": {},
   "source": [
    "## get"
   ]
  },
  {
   "cell_type": "code",
   "execution_count": 23,
   "metadata": {},
   "outputs": [
    {
     "data": {
      "text/plain": [
       "Some(1)"
      ]
     },
     "execution_count": 23,
     "metadata": {},
     "output_type": "execute_result"
    }
   ],
   "source": [
    "let s: HashSet<i32> = [0, 1, 2, 3, 4].iter().cloned().collect();\n",
    "s.get(&1)"
   ]
  },
  {
   "cell_type": "code",
   "execution_count": 24,
   "metadata": {},
   "outputs": [
    {
     "data": {
      "text/plain": [
       "None"
      ]
     },
     "execution_count": 24,
     "metadata": {},
     "output_type": "execute_result"
    }
   ],
   "source": [
    "let s: HashSet<i32> = [0, 1, 2, 3, 4].iter().cloned().collect();\n",
    "s.get(&10)"
   ]
  },
  {
   "cell_type": "markdown",
   "metadata": {},
   "source": [
    "## get_or_insert"
   ]
  },
  {
   "cell_type": "code",
   "execution_count": 12,
   "metadata": {},
   "outputs": [
    {
     "ename": "Error",
     "evalue": "use of unstable library feature 'hash_set_entry'",
     "output_type": "error",
     "traceback": [
      "    let v = s.get_or_insert(5);",
      "              ^^^^^^^^^^^^^ ",
      "use of unstable library feature 'hash_set_entry'"
     ]
    }
   ],
   "source": [
    "#![feature(hash_set_entry)]\n",
    "{\n",
    "    let s: HashSet<i32> = [0, 1, 2, 3, 4].iter().cloned().collect();\n",
    "    let v = s.get_or_insert(5);\n",
    "    println!(\"v: {}\", v);\n",
    "    println!(\"{:?}\", s);\n",
    "}"
   ]
  },
  {
   "cell_type": "markdown",
   "metadata": {},
   "source": [
    "## insert"
   ]
  },
  {
   "cell_type": "code",
   "execution_count": 26,
   "metadata": {},
   "outputs": [
    {
     "data": {
      "text/plain": [
       "{4, 100, 0, 1, 2, 3}"
      ]
     },
     "execution_count": 26,
     "metadata": {},
     "output_type": "execute_result"
    }
   ],
   "source": [
    "{\n",
    "    let mut s: HashSet<i32> = [0, 1, 2, 3, 4].iter().cloned().collect();\n",
    "    s.insert(100);\n",
    "    s\n",
    "}"
   ]
  },
  {
   "cell_type": "markdown",
   "metadata": {},
   "source": [
    "## intersection"
   ]
  },
  {
   "cell_type": "code",
   "execution_count": 33,
   "metadata": {},
   "outputs": [
    {
     "data": {
      "text/plain": [
       "[3, 4]"
      ]
     },
     "execution_count": 33,
     "metadata": {},
     "output_type": "execute_result"
    }
   ],
   "source": [
    "let s1: HashSet<i32> = [0, 1, 2, 3, 4].iter().cloned().collect();\n",
    "let s2: HashSet<i32> = [3, 4, 5, 6, 7].iter().cloned().collect();\n",
    "s1.intersection(&s2)"
   ]
  },
  {
   "cell_type": "markdown",
   "metadata": {},
   "source": [
    "## is_disjoin"
   ]
  },
  {
   "cell_type": "code",
   "execution_count": 34,
   "metadata": {},
   "outputs": [
    {
     "data": {
      "text/plain": [
       "false"
      ]
     },
     "execution_count": 34,
     "metadata": {},
     "output_type": "execute_result"
    }
   ],
   "source": [
    "let s1: HashSet<i32> = [0, 1, 2, 3, 4].iter().cloned().collect();\n",
    "let s2: HashSet<i32> = [3, 4, 5, 6, 7].iter().cloned().collect();\n",
    "s1.is_disjoint(&s2)"
   ]
  },
  {
   "cell_type": "code",
   "execution_count": 35,
   "metadata": {},
   "outputs": [
    {
     "data": {
      "text/plain": [
       "true"
      ]
     },
     "execution_count": 35,
     "metadata": {},
     "output_type": "execute_result"
    }
   ],
   "source": [
    "let s1: HashSet<i32> = [0, 1, 2, 3].iter().cloned().collect();\n",
    "let s2: HashSet<i32> = [4, 5, 6, 7].iter().cloned().collect();\n",
    "s1.is_disjoint(&s2)"
   ]
  },
  {
   "cell_type": "markdown",
   "metadata": {},
   "source": [
    "## replace\n",
    "\n",
    "This is the same as the function `get_or_insert`."
   ]
  },
  {
   "cell_type": "code",
   "execution_count": 29,
   "metadata": {},
   "outputs": [
    {
     "data": {
      "text/plain": [
       "{2, 4, 0, 3, 1}"
      ]
     },
     "execution_count": 29,
     "metadata": {},
     "output_type": "execute_result"
    }
   ],
   "source": [
    "{\n",
    "    let mut s: HashSet<i32> = [0, 1, 2, 3, 4].iter().cloned().collect();\n",
    "    s.replace(1);\n",
    "    s\n",
    "}"
   ]
  },
  {
   "cell_type": "code",
   "execution_count": 30,
   "metadata": {},
   "outputs": [
    {
     "data": {
      "text/plain": [
       "{2, 3, 0, 100, 4, 1}"
      ]
     },
     "execution_count": 30,
     "metadata": {},
     "output_type": "execute_result"
    }
   ],
   "source": [
    "{\n",
    "    let mut s: HashSet<i32> = [0, 1, 2, 3, 4].iter().cloned().collect();\n",
    "    s.replace(100);\n",
    "    s\n",
    "}"
   ]
  },
  {
   "cell_type": "markdown",
   "metadata": {},
   "source": [
    "# BTreeSet as An Alternative to HashSet\n",
    "\n",
    "BTreeSet is implemented based on B-Tree \n",
    "(binary search tree with each node containing a continuous array to improve caching performance).\n",
    "The main feature of BTreeSet compared to HashSet \n",
    "is that elements in a BTreeSet are sorted!"
   ]
  },
  {
   "cell_type": "code",
   "execution_count": 37,
   "metadata": {},
   "outputs": [
    {
     "data": {
      "text/plain": [
       "{0, 1, 2, 3, 4}"
      ]
     },
     "execution_count": 37,
     "metadata": {},
     "output_type": "execute_result"
    }
   ],
   "source": [
    "use std::collections::BTreeSet;\n",
    "{\n",
    "    let mut s: BTreeSet<i32> = [0, 1, 2, 3, 4].iter().cloned().collect();\n",
    "    s\n",
    "}"
   ]
  },
  {
   "cell_type": "markdown",
   "metadata": {},
   "source": [
    "## References \n",
    "\n",
    "[Module std::collections](https://doc.rust-lang.org/std/collections/index.html)\n",
    "\n",
    "[Struct std::collections::HashSet](https://doc.rust-lang.org/std/collections/struct.HashSet.html)\n",
    "\n",
    "[Struct std::collections::BTreeSet](https://doc.rust-lang.org/std/collections/struct.BTreeSet.html)\n",
    "\n",
    "[Struct std::collections::BTreeMap](https://doc.rust-lang.org/std/collections/struct.BTreeMap.html)"
   ]
  },
  {
   "cell_type": "code",
   "execution_count": null,
   "metadata": {},
   "outputs": [],
   "source": []
  }
 ],
 "metadata": {
  "file_extension": ".py",
  "kernelspec": {
   "display_name": "Rust",
   "language": "rust",
   "name": "rust"
  },
  "language_info": {
   "codemirror_mode": "rust",
   "file_extension": ".rs",
   "mimetype": "text/rust",
   "name": "Rust",
   "pygment_lexer": "rust",
   "version": ""
  },
  "mimetype": "text/x-python",
  "name": "python",
  "npconvert_exporter": "python",
  "pygments_lexer": "ipython3",
  "version": 3
 },
 "nbformat": 4,
 "nbformat_minor": 4
}