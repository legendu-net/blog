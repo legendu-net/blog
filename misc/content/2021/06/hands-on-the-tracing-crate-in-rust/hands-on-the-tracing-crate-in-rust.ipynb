{
 "cells": [
  {
   "cell_type": "markdown",
   "metadata": {},
   "source": [
    "- Author: Ben Du\n",
    "- Date: 2021-06-17 22:56:19\n",
    "- Modified: 2021-06-17 22:56:19\n",
    "- Title: Hands on the Tracing Crate in Rust\n",
    "- Slug: hands-on-the-tracing-crate-in-rust\n",
    "- Category: Computer Science\n",
    "- Tags: Computer Science, programming, Rust, tracing, crate"
   ]
  },
  {
   "cell_type": "markdown",
   "metadata": {},
   "source": [
    "**Things on this page are fragmentary and immature notes/thoughts of the author. Please read with your own judgement!**"
   ]
  },
  {
   "cell_type": "code",
   "execution_count": 4,
   "metadata": {},
   "outputs": [],
   "source": [
    ":dep thiserror = \"1.0.25\""
   ]
  },
  {
   "cell_type": "code",
   "execution_count": 6,
   "metadata": {},
   "outputs": [],
   "source": [
    "use thiserror::Error;\n",
    "\n",
    "#[derive(Error, Debug)]\n",
    "pub enum ParseRankError {\n",
    "    #[error(\"{0} is not a valid symbol for card rank!\")]\n",
    "    InvalidSymbol(char),\n",
    "    #[error(\"{0} is not a valid integer for card rank!\")]\n",
    "    InvalidInteger(u8),\n",
    "}"
   ]
  },
  {
   "cell_type": "code",
   "execution_count": 2,
   "metadata": {},
   "outputs": [],
   "source": [
    ":dep tracing = \"0.1.26\""
   ]
  },
  {
   "cell_type": "code",
   "execution_count": 3,
   "metadata": {},
   "outputs": [],
   "source": [
    "use tracing::{debug, error, info, span, warn, Level};"
   ]
  },
  {
   "cell_type": "code",
   "execution_count": 7,
   "metadata": {},
   "outputs": [
    {
     "data": {
      "text/plain": [
       "InvalidSymbol('m')"
      ]
     },
     "execution_count": 7,
     "metadata": {},
     "output_type": "execute_result"
    }
   ],
   "source": [
    "let e = ParseRankError::InvalidSymbol('m');\n",
    "e"
   ]
  },
  {
   "cell_type": "code",
   "execution_count": 8,
   "metadata": {},
   "outputs": [
    {
     "data": {
      "text/plain": [
       "\"m is not a valid symbol for card rank!\""
      ]
     },
     "execution_count": 8,
     "metadata": {},
     "output_type": "execute_result"
    }
   ],
   "source": [
    "e.to_string()"
   ]
  },
  {
   "cell_type": "code",
   "execution_count": 17,
   "metadata": {},
   "outputs": [
    {
     "data": {
      "text/plain": [
       "()"
      ]
     },
     "execution_count": 17,
     "metadata": {},
     "output_type": "execute_result"
    }
   ],
   "source": [
    "#[tracing::instrument]\n",
    "fn f(){\n",
    "    let e = ParseRankError::InvalidSymbol('m');\n",
    "    warn!(\"{}\", e);\n",
    "}\n",
    "f()"
   ]
  },
  {
   "cell_type": "code",
   "execution_count": 12,
   "metadata": {},
   "outputs": [],
   "source": [
    "error!(\"{}\", e);"
   ]
  },
  {
   "cell_type": "code",
   "execution_count": 14,
   "metadata": {},
   "outputs": [],
   "source": [
    "info!(\"{}\", e);"
   ]
  },
  {
   "cell_type": "code",
   "execution_count": 18,
   "metadata": {},
   "outputs": [],
   "source": [
    "use tracing::error;\n",
    "\n",
    "let (err_info, port) = (\"No connection\", 22);\n",
    "\n",
    "error!(port, error = %err_info);\n",
    "error!(target: \"app_events\", \"App Error: {}\", err_info);\n",
    "error!({ info = err_info }, \"error on port: {}\", port);"
   ]
  },
  {
   "cell_type": "markdown",
   "metadata": {},
   "source": [
    "## References \n",
    "\n",
    "https://crates.io/crates/tracing"
   ]
  },
  {
   "cell_type": "code",
   "execution_count": null,
   "metadata": {},
   "outputs": [],
   "source": []
  }
 ],
 "metadata": {
  "file_extension": ".py",
  "kernelspec": {
   "display_name": "Rust",
   "language": "rust",
   "name": "rust"
  },
  "language_info": {
   "codemirror_mode": "rust",
   "file_extension": ".rs",
   "mimetype": "text/rust",
   "name": "Rust",
   "pygment_lexer": "rust",
   "version": ""
  },
  "mimetype": "text/x-python",
  "name": "python",
  "npconvert_exporter": "python",
  "pygments_lexer": "ipython3",
  "version": 3
 },
 "nbformat": 4,
 "nbformat_minor": 4
}
