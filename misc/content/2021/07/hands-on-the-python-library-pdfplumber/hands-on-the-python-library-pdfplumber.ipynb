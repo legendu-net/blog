{
 "cells": [
  {
   "cell_type": "markdown",
   "metadata": {},
   "source": [
    "- Author: Ben Du\n",
    "- Date: 2021-07-15 15:15:52\n",
    "- Modified: 2021-07-16 09:36:46\n",
    "- Title: Hands on the Python Library Pdfplumber\n",
    "- Slug: hands-on-the-python-library-pdfplumber\n",
    "- Category: Computer Science\n",
    "- Tags: Computer Science, programming, Python, PDF, pdfplumber\n"
   ]
  },
  {
   "cell_type": "markdown",
   "metadata": {},
   "source": [
    "**Things on this page are fragmentary and immature notes/thoughts of the author. Please read with your own judgement!**"
   ]
  },
  {
   "cell_type": "code",
   "execution_count": 1,
   "metadata": {},
   "outputs": [
    {
     "name": "stdout",
     "output_type": "stream",
     "text": [
      "Collecting pdfplumber\n",
      "  Downloading pdfplumber-0.5.28.tar.gz (45 kB)\n",
      "\u001b[K     |\u2588\u2588\u2588\u2588\u2588\u2588\u2588\u2588\u2588\u2588\u2588\u2588\u2588\u2588\u2588\u2588\u2588\u2588\u2588\u2588\u2588\u2588\u2588\u2588\u2588\u2588\u2588\u2588\u2588\u2588\u2588\u2588| 45 kB 1.6 MB/s eta 0:00:01\n",
      "\u001b[?25hRequirement already satisfied: Pillow>=7.0.0 in /usr/local/lib/python3.8/dist-packages (from pdfplumber) (8.3.1)\n",
      "Collecting Wand\n",
      "  Downloading Wand-0.6.6-py2.py3-none-any.whl (138 kB)\n",
      "\u001b[K     |\u2588\u2588\u2588\u2588\u2588\u2588\u2588\u2588\u2588\u2588\u2588\u2588\u2588\u2588\u2588\u2588\u2588\u2588\u2588\u2588\u2588\u2588\u2588\u2588\u2588\u2588\u2588\u2588\u2588\u2588\u2588\u2588| 138 kB 8.5 MB/s eta 0:00:01\n",
      "\u001b[?25hCollecting pdfminer.six==20200517\n",
      "  Downloading pdfminer.six-20200517-py3-none-any.whl (5.6 MB)\n",
      "\u001b[K     |\u2588\u2588\u2588\u2588\u2588\u2588\u2588\u2588\u2588\u2588\u2588\u2588\u2588\u2588\u2588\u2588\u2588\u2588\u2588\u2588\u2588\u2588\u2588\u2588\u2588\u2588\u2588\u2588\u2588\u2588\u2588\u2588| 5.6 MB 22.0 MB/s eta 0:00:01\n",
      "\u001b[?25hCollecting pycryptodome\n",
      "  Downloading pycryptodome-3.10.1-cp35-abi3-manylinux2010_x86_64.whl (1.9 MB)\n",
      "\u001b[K     |\u2588\u2588\u2588\u2588\u2588\u2588\u2588\u2588\u2588\u2588\u2588\u2588\u2588\u2588\u2588\u2588\u2588\u2588\u2588\u2588\u2588\u2588\u2588\u2588\u2588\u2588\u2588\u2588\u2588\u2588\u2588\u2588| 1.9 MB 46.7 MB/s eta 0:00:01\n",
      "\u001b[?25hRequirement already satisfied: chardet; python_version > \"3.0\" in /usr/lib/python3/dist-packages (from pdfminer.six==20200517->pdfplumber) (3.0.4)\n",
      "Collecting sortedcontainers\n",
      "  Downloading sortedcontainers-2.4.0-py2.py3-none-any.whl (29 kB)\n",
      "Building wheels for collected packages: pdfplumber\n",
      "  Building wheel for pdfplumber (setup.py) ... \u001b[?25ldone\n",
      "\u001b[?25h  Created wheel for pdfplumber: filename=pdfplumber-0.5.28-py3-none-any.whl size=32220 sha256=8df60e70751b3087fda49d8b20bb47d0e82931b60a2df7ea913391f68716facc\n",
      "  Stored in directory: /home/dclong/.cache/pip/wheels/36/61/6d/5fdf7f85a9598d42f094b4099be9a3dd9a887b25ca9b5a1bf4\n",
      "Successfully built pdfplumber\n",
      "Installing collected packages: Wand, pycryptodome, sortedcontainers, pdfminer.six, pdfplumber\n",
      "Successfully installed Wand-0.6.6 pdfminer.six-20200517 pdfplumber-0.5.28 pycryptodome-3.10.1 sortedcontainers-2.4.0\n"
     ]
    }
   ],
   "source": [
    "!pip3 install pdfplumber"
   ]
  },
  {
   "cell_type": "code",
   "execution_count": 4,
   "metadata": {},
   "outputs": [
    {
     "name": "stdout",
     "output_type": "stream",
     "text": [
      "--2021-07-15 15:18:14--  http://www.edd.ca.gov/jobs_and_training/warn/eddwarncn12.pdf\n",
      "Resolving www.edd.ca.gov (www.edd.ca.gov)... 134.186.117.17\n",
      "Connecting to www.edd.ca.gov (www.edd.ca.gov)|134.186.117.17|:80... connected.\n",
      "HTTP request sent, awaiting response... 302 Found\n",
      "Location: https://www.edd.ca.gov/jobs_and_training/warn/eddwarncn12.pdf [following]\n",
      "--2021-07-15 15:18:14--  https://www.edd.ca.gov/jobs_and_training/warn/eddwarncn12.pdf\n",
      "Connecting to www.edd.ca.gov (www.edd.ca.gov)|134.186.117.17|:443... connected.\n",
      "HTTP request sent, awaiting response... 200 OK\n",
      "Length: 307728 (301K) [application/pdf]\n",
      "Saving to: \u2018eddwarncn12.pdf\u2019\n",
      "\n",
      "eddwarncn12.pdf     100%[===================>] 300.52K   760KB/s    in 0.4s    \n",
      "\n",
      "2021-07-15 15:18:15 (760 KB/s) - \u2018eddwarncn12.pdf\u2019 saved [307728/307728]\n",
      "\n"
     ]
    }
   ],
   "source": [
    "!wget http://www.edd.ca.gov/jobs_and_training/warn/eddwarncn12.pdf"
   ]
  },
  {
   "cell_type": "code",
   "execution_count": 7,
   "metadata": {},
   "outputs": [],
   "source": [
    "import pdfplumber"
   ]
  },
  {
   "cell_type": "code",
   "execution_count": 9,
   "metadata": {},
   "outputs": [],
   "source": [
    "pdf = pdfplumber.open(\"eddwarncn12.pdf\")"
   ]
  },
  {
   "cell_type": "code",
   "execution_count": 10,
   "metadata": {},
   "outputs": [
    {
     "data": {
      "text/plain": [
       "pdfplumber.pdf.PDF"
      ]
     },
     "execution_count": 10,
     "metadata": {},
     "output_type": "execute_result"
    }
   ],
   "source": [
    "type(pdf)"
   ]
  },
  {
   "cell_type": "code",
   "execution_count": 11,
   "metadata": {},
   "outputs": [
    {
     "data": {
      "text/plain": [
       "pdfplumber.page.Page"
      ]
     },
     "execution_count": 11,
     "metadata": {},
     "output_type": "execute_result"
    }
   ],
   "source": [
    "page = pdf.pages[0]\n",
    "type(page)"
   ]
  },
  {
   "cell_type": "code",
   "execution_count": 12,
   "metadata": {},
   "outputs": [
    {
     "data": {
      "text/plain": [
       "['__class__',\n",
       " '__delattr__',\n",
       " '__dict__',\n",
       " '__dir__',\n",
       " '__doc__',\n",
       " '__enter__',\n",
       " '__eq__',\n",
       " '__exit__',\n",
       " '__format__',\n",
       " '__ge__',\n",
       " '__getattribute__',\n",
       " '__gt__',\n",
       " '__hash__',\n",
       " '__init__',\n",
       " '__init_subclass__',\n",
       " '__le__',\n",
       " '__lt__',\n",
       " '__module__',\n",
       " '__ne__',\n",
       " '__new__',\n",
       " '__reduce__',\n",
       " '__reduce_ex__',\n",
       " '__repr__',\n",
       " '__setattr__',\n",
       " '__sizeof__',\n",
       " '__str__',\n",
       " '__subclasshook__',\n",
       " '__weakref__',\n",
       " 'annots',\n",
       " 'bbox',\n",
       " 'cached_properties',\n",
       " 'chars',\n",
       " 'close',\n",
       " 'close_file',\n",
       " 'crop',\n",
       " 'cropbox',\n",
       " 'curves',\n",
       " 'debug_tablefinder',\n",
       " 'decimalize',\n",
       " 'dedupe_chars',\n",
       " 'edges',\n",
       " 'extract_table',\n",
       " 'extract_tables',\n",
       " 'extract_text',\n",
       " 'extract_words',\n",
       " 'filter',\n",
       " 'find_tables',\n",
       " 'flush_cache',\n",
       " 'height',\n",
       " 'horizontal_edges',\n",
       " 'hyperlinks',\n",
       " 'images',\n",
       " 'initial_doctop',\n",
       " 'is_original',\n",
       " 'iter_layout_objects',\n",
       " 'layout',\n",
       " 'lines',\n",
       " 'mediabox',\n",
       " 'objects',\n",
       " 'page_number',\n",
       " 'page_obj',\n",
       " 'parse_objects',\n",
       " 'pdf',\n",
       " 'process_object',\n",
       " 'rect_edges',\n",
       " 'rects',\n",
       " 'rotation',\n",
       " 'textboxhorizontals',\n",
       " 'textboxverticals',\n",
       " 'textlinehorizontals',\n",
       " 'textlineverticals',\n",
       " 'to_csv',\n",
       " 'to_image',\n",
       " 'to_json',\n",
       " 'vertical_edges',\n",
       " 'width',\n",
       " 'within_bbox']"
      ]
     },
     "execution_count": 12,
     "metadata": {},
     "output_type": "execute_result"
    }
   ],
   "source": [
    "dir(page)"
   ]
  },
  {
   "cell_type": "code",
   "execution_count": 13,
   "metadata": {},
   "outputs": [
    {
     "data": {
      "text/plain": [
       "list"
      ]
     },
     "execution_count": 13,
     "metadata": {},
     "output_type": "execute_result"
    }
   ],
   "source": [
    "table = page.extract_table()\n",
    "type(table)"
   ]
  },
  {
   "cell_type": "code",
   "execution_count": 14,
   "metadata": {},
   "outputs": [
    {
     "data": {
      "text/plain": [
       "[['Company Name', 'Location', 'Employees\\nAffected', 'Layoff\\nDate'],\n",
       " ['AAR MOBILITY SYSTEMS', 'MCCLELLAN AFB', '48', '6/15/12'],\n",
       " ['ABBOTT VASCULAR', 'MURRIETA', '45', '1/25/12'],\n",
       " ['ABBOTT VASCULAR', 'MURRIETA', '38', '10/17/12'],\n",
       " ['ABBOTT VASCULAR', 'TEMECULA', '247', '1/25/12'],\n",
       " ['ABBOTT VASCULAR', 'TEMECULA', '7', '1/25/12'],\n",
       " ['ABBOTT VASCULAR', 'TEMECULA', '139', '10/17/12'],\n",
       " ['ABBOTT VASCULAR', 'TEMECULA', '16', '10/17/12'],\n",
       " ['ABEO MANAGEMENT CORPORATION', 'LOS ANGELES', '42', '11/28/12'],\n",
       " ['ABERCROMBIE & FITCH', 'ANAHEIM', '51', '1/14/12'],\n",
       " ['ABERCROMBIE & FITCH', 'CAPITOLA', '51', '1/21/12'],\n",
       " ['ABERCROMBIE & FITCH', 'RIVERSIDE', '64', '1/14/12'],\n",
       " ['ABERCROMBIE & FITCH', 'SAN DIEGO', '66', '12/29/12'],\n",
       " ['ABERCROMBIE & FITCH', 'SIMI VALLEY', '70', '3/24/12'],\n",
       " ['ABERCROMBIE & FITCH', 'SIMI VALLEY', '47', '3/24/12'],\n",
       " ['ADAMS RITE MANUFACTURING \\nCOMPANY', 'PONOMA', '110', '5/25/12'],\n",
       " ['ADOBE SYSTEMS INCORPORATED', 'SAN FRANCISCO', '121', '1/31/12'],\n",
       " ['ADOBE SYSTEMS INCORPORATED', 'SAN JOSE', '103', '1/31/12'],\n",
       " ['ADVANCED MICRO DEVICES, INC', 'SUNNYVALE', '107', '10/25/12']]"
      ]
     },
     "execution_count": 14,
     "metadata": {},
     "output_type": "execute_result"
    }
   ],
   "source": [
    "table"
   ]
  },
  {
   "cell_type": "markdown",
   "metadata": {},
   "source": [
    "## References\n",
    "\n",
    "- [Editing PDF Files](http://www.legendu.net/misc/blog/editing-PDF-files)"
   ]
  },
  {
   "cell_type": "code",
   "execution_count": null,
   "metadata": {},
   "outputs": [],
   "source": []
  }
 ],
 "metadata": {
  "file_extension": ".py",
  "kernelspec": {
   "name": "python3",
   "display_name": "Python 3 (ipykernel)",
   "language": "python"
  },
  "language_info": {
   "codemirror_mode": {
    "name": "ipython",
    "version": 3
   },
   "file_extension": ".py",
   "mimetype": "text/x-python",
   "name": "python",
   "nbconvert_exporter": "python",
   "pygments_lexer": "ipython3",
   "version": "3.8.10"
  },
  "mimetype": "text/x-python",
  "name": "python",
  "npconvert_exporter": "python",
  "pygments_lexer": "ipython3",
  "version": 3,
  "metadata": {
   "interpreter": {
    "hash": "767d51c1340bd893661ea55ea3124f6de3c7a262a8b4abca0554b478b1e2ff90"
   }
  }
 },
 "nbformat": 4,
 "nbformat_minor": 4
}