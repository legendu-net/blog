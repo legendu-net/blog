{
 "nbformat": 4,
 "nbformat_minor": 2,
 "metadata": {
  "language_info": {
   "name": "python",
   "codemirror_mode": {
    "name": "ipython",
    "version": 3
   }
  },
  "orig_nbformat": 2,
  "file_extension": ".py",
  "mimetype": "text/x-python",
  "name": "python",
  "npconvert_exporter": "python",
  "pygments_lexer": "ipython3",
  "version": 3
 },
 "cells": [
  {
   "cell_type": "markdown",
   "source": [
    "- Author: Benjamin Du\n",
    "- Date: 2021-08-21 15:07:41\n",
    "- Modified: 2021-08-21 15:07:41\n",
    "- Title: The ripgrep Command Is a Better Alternative to the find Command\n",
    "- Slug: ripgrep-is-a-better-alternative-to-find\n",
    "- Category: Computer Science\n",
    "- Tags: Computer Science, programming, command, command-line, find, ripgrep, Rust"
   ],
   "metadata": {}
  },
  {
   "cell_type": "markdown",
   "source": [
    "**Things on this page are fragmentary and immature notes/thoughts of the author. Please read with your own judgement!**"
   ],
   "metadata": {}
  },
  {
   "cell_type": "markdown",
   "source": [
    "## Installation \n",
    "\n",
    "    wajig install ripgrep \n",
    "\n",
    "Or if you use xinstall, \n",
    "\n",
    "    xinstall --sudo ripgrep -ic"
   ],
   "metadata": {}
  },
  {
   "cell_type": "markdown",
   "source": [
    "## Usage\n",
    "\n",
    "    rg pattern_to_find"
   ],
   "metadata": {}
  },
  {
   "cell_type": "markdown",
   "source": [],
   "metadata": {}
  }
 ]
}