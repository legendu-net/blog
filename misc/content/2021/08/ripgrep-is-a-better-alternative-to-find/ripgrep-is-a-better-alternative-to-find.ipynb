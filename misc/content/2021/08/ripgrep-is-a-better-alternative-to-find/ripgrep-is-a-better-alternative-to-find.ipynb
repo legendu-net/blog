{
 "cells": [
  {
   "cell_type": "markdown",
   "metadata": {},
   "source": [
    "- Author: Benjamin Du\n",
    "- Date: 2021-08-21 15:07:41\n",
    "- Modified: 2023-06-25 10:08:56\n",
    "- Title: The ripgrep Command Is a Better Alternative to the find Command\n",
    "- Slug: ripgrep-is-a-better-alternative-to-find\n",
    "- Category: Computer Science\n",
    "- Tags: Computer Science, programming, command, command-line, find, ripgrep, Rust, rg\n"
   ]
  },
  {
   "cell_type": "markdown",
   "metadata": {},
   "source": [
    "**Things on this page are fragmentary and immature notes/thoughts of the author. Please read with your own judgement!**"
   ]
  },
  {
   "cell_type": "markdown",
   "metadata": {},
   "source": [
    "## Installation on Debian/Ubuntu Based Linux Distributions \n",
    "\n",
    "    wajig install ripgrep \n",
    "    \n",
    "## Installation on macOS\n",
    "\n",
    "    brew install ripgrep \n"
   ]
  },
  {
   "cell_type": "markdown",
   "metadata": {},
   "source": [
    "## List Files\n",
    "\n",
    "There are 2 ways to list files using ripgrep.\n",
    "The first way is file name (globbing pattern) based \n",
    "and the second way is file content (regex pattern) based."
   ]
  },
  {
   "cell_type": "markdown",
   "metadata": {},
   "source": [
    "### List Files with Naming Matching Globbing Pattern"
   ]
  },
  {
   "cell_type": "markdown",
   "metadata": {},
   "source": []
  },
  {
   "cell_type": "code",
   "execution_count": 6,
   "metadata": {
    "tags": []
   },
   "outputs": [
    {
     "name": "stdout",
     "output_type": "stream",
     "text": [
      "\u001b[0m\u001b[35m../query-hardware-information-in-linux/query-hardware-information-in-linux.md\u001b[0m\n",
      "\u001b[0m\u001b[35m../debugging-and-testing-tools-for-windows/debugging-and-testing-tools-for-windows.md\u001b[0m\n",
      "\u001b[0m\u001b[35m../incognito-mode-for-browsers/incognito-mode-for-browsers.md\u001b[0m\n",
      "\u001b[0m\u001b[35m../bat-is-a-better-alternative-to-cat/bat-is-a-better-alternative-to-cat.ipynb\u001b[0m\n",
      "\u001b[0m\u001b[35m../tips-on-windows-terminal/tips-on-windows-terminal.md\u001b[0m\n",
      "\u001b[0m\u001b[35m../tips-on-public-speech/tips-on-public-speech.md\u001b[0m\n",
      "\u001b[0m\u001b[35m../tips-on-mumu-app-player/tips-on-mumu-app-player.md\u001b[0m\n",
      "\u001b[0m\u001b[35m../ripgrep-is-a-better-alternative-to-find/ripgrep-is-a-better-alternative-to-find.ipynb\u001b[0m\n",
      "\u001b[0m\u001b[35m../tools-with-dark-power/tools-with-dark-power.md\u001b[0m\n",
      "\u001b[0m\u001b[35m../rip-is-rm-improved/rip-is-rm-improved.ipynb\u001b[0m\n",
      "\u001b[0m\u001b[35m../format-a-flash-drive-in-a-linux-virtual-machine/format-a-flash-drive-in-a-linux-virtual-machine.md\u001b[0m\n"
     ]
    }
   ],
   "source": [
    "# List all files which would have been searched by `ripgrep`\n",
    "!rg --files ../"
   ]
  },
  {
   "cell_type": "code",
   "execution_count": 10,
   "metadata": {
    "tags": []
   },
   "outputs": [
    {
     "name": "stdout",
     "output_type": "stream",
     "text": [
      "\u001b[0m\u001b[35m../query-hardware-information-in-linux/query-hardware-information-in-linux.md\u001b[0m\n",
      "\u001b[0m\u001b[35m../debugging-and-testing-tools-for-windows/debugging-and-testing-tools-for-windows.md\u001b[0m\n",
      "\u001b[0m\u001b[35m../incognito-mode-for-browsers/incognito-mode-for-browsers.md\u001b[0m\n",
      "\u001b[0m\u001b[35m../tips-on-windows-terminal/tips-on-windows-terminal.md\u001b[0m\n",
      "\u001b[0m\u001b[35m../tips-on-public-speech/tips-on-public-speech.md\u001b[0m\n",
      "\u001b[0m\u001b[35m../tips-on-mumu-app-player/tips-on-mumu-app-player.md\u001b[0m\n",
      "\u001b[0m\u001b[35m../tools-with-dark-power/tools-with-dark-power.md\u001b[0m\n",
      "\u001b[0m\u001b[35m../format-a-flash-drive-in-a-linux-virtual-machine/format-a-flash-drive-in-a-linux-virtual-machine.md\u001b[0m\n"
     ]
    }
   ],
   "source": [
    "# List files *.md\n",
    "!rg --files -g '*.md' ../"
   ]
  },
  {
   "cell_type": "markdown",
   "metadata": {},
   "source": [
    "Notice that single quotes are needed \n",
    "to prevent shell from expanding `*.md` to files names \n",
    "so that the globbing pattern is passed to ripgrep \n",
    "to match recursively in the specified directory.\n",
    "Without single quotes,\n",
    "shell expands `*.md` to files matching the pattern in the current directory first\n",
    "and then pass those file names as pattern for ripgrep to match.\n",
    "This is probably not watch you want."
   ]
  },
  {
   "cell_type": "markdown",
   "metadata": {},
   "source": [
    "### List Files with Content Matching Regular Expression Patterns"
   ]
  },
  {
   "cell_type": "code",
   "execution_count": 13,
   "metadata": {},
   "outputs": [
    {
     "name": "stdout",
     "output_type": "stream",
     "text": [
      "\u001b[0m\u001b[35m../query-hardware-information-in-linux/query-hardware-information-in-linux.md\u001b[0m\n",
      "\u001b[0m\u001b[35m../debugging-and-testing-tools-for-windows/debugging-and-testing-tools-for-windows.md\u001b[0m\n",
      "\u001b[0m\u001b[35m../incognito-mode-for-browsers/incognito-mode-for-browsers.md\u001b[0m\n",
      "\u001b[0m\u001b[35m../bat-is-a-better-alternative-to-cat/bat-is-a-better-alternative-to-cat.ipynb\u001b[0m\n",
      "\u001b[0m\u001b[35m../tips-on-windows-terminal/tips-on-windows-terminal.md\u001b[0m\n",
      "\u001b[0m\u001b[35m../tips-on-public-speech/tips-on-public-speech.md\u001b[0m\n",
      "\u001b[0m\u001b[35m../tips-on-mumu-app-player/tips-on-mumu-app-player.md\u001b[0m\n",
      "\u001b[0m\u001b[35m../ripgrep-is-a-better-alternative-to-find/ripgrep-is-a-better-alternative-to-find.ipynb\u001b[0m\n",
      "\u001b[0m\u001b[35m../tools-with-dark-power/tools-with-dark-power.md\u001b[0m\n",
      "\u001b[0m\u001b[35m../rip-is-rm-improved/rip-is-rm-improved.ipynb\u001b[0m\n",
      "\u001b[0m\u001b[35m../format-a-flash-drive-in-a-linux-virtual-machine/format-a-flash-drive-in-a-linux-virtual-machine.md\u001b[0m\n"
     ]
    }
   ],
   "source": [
    "# List files whose content match the pattern '.'\n",
    "!rg -l '.*' ../"
   ]
  },
  {
   "cell_type": "markdown",
   "metadata": {},
   "source": [
    "Notice that `rg -l '.*' ../` is not the same as `rg --files`.\n",
    "`rg --files` list all files which would have been search by ripgrep\n",
    "while `rg -l '.*' ../` does not search binary files and empty files.\n",
    "Binary files can be included as well using `rg --binary -l '.*' ../`,\n",
    "however, empty files are still not listed."
   ]
  },
  {
   "cell_type": "code",
   "execution_count": 15,
   "metadata": {},
   "outputs": [
    {
     "name": "stdout",
     "output_type": "stream",
     "text": [
      "\u001b[0m\u001b[35m../ripgrep-is-a-better-alternative-to-find/ripgrep-is-a-better-alternative-to-find.ipynb\u001b[0m\n"
     ]
    }
   ],
   "source": [
    "# List text files whose content contains ripgrep\n",
    "!rg -l ripgrep ../"
   ]
  },
  {
   "cell_type": "markdown",
   "metadata": {},
   "source": [
    "Recursively search the current directory\n",
    "for the pattern `ripgrep` in file content."
   ]
  },
  {
   "cell_type": "markdown",
   "metadata": {},
   "source": [
    "## Search File Content"
   ]
  },
  {
   "cell_type": "code",
   "execution_count": 3,
   "metadata": {
    "tags": []
   },
   "outputs": [
    {
     "name": "stdout",
     "output_type": "stream",
     "text": [
      "\u001b[0m\u001b[35mripgrep-is-a-better-alternative-to-find.ipynb\u001b[0m\n",
      "\u001b[0m\u001b[32m10\u001b[0m:    \"- Title: The \u001b[0m\u001b[1m\u001b[31mripgrep\u001b[0m Command Is a Better Alternative to the find Command\\n\",\n",
      "\u001b[0m\u001b[32m11\u001b[0m:    \"- Slug: \u001b[0m\u001b[1m\u001b[31mripgrep\u001b[0m-is-a-better-alternative-to-find\\n\",\n",
      "\u001b[0m\u001b[32m13\u001b[0m:    \"- Tags: Computer Science, programming, command, command-line, find, \u001b[0m\u001b[1m\u001b[31mripgrep\u001b[0m, Rust, rg\\n\"\n",
      "\u001b[0m\u001b[32m30\u001b[0m:    \"    wajig install \u001b[0m\u001b[1m\u001b[31mripgrep\u001b[0m \\n\",\n",
      "\u001b[0m\u001b[32m34\u001b[0m:    \"    brew install \u001b[0m\u001b[1m\u001b[31mripgrep\u001b[0m \\n\"\n",
      "\u001b[0m\u001b[32m54\u001b[0m:      \"\\u001b[0m\\u001b[35m\u001b[0m\u001b[1m\u001b[31mripgrep\u001b[0m-is-a-better-alternative-to-find.ipynb\\u001b[0m\\n\",\n",
      "\u001b[0m\u001b[32m55\u001b[0m:      \"\\u001b[0m\\u001b[32m10\\u001b[0m:    \\\"- Title: The \\u001b[0m\\u001b[1m\\u001b[31m\u001b[0m\u001b[1m\u001b[31mripgrep\u001b[0m\\u001b[0m Command Is a Better Alternative to the find Command\\\\n\\\",\\n\",\n",
      "\u001b[0m\u001b[32m56\u001b[0m:      \"\\u001b[0m\\u001b[32m11\\u001b[0m:    \\\"- Slug: \\u001b[0m\\u001b[1m\\u001b[31m\u001b[0m\u001b[1m\u001b[31mripgrep\u001b[0m\\u001b[0m-is-a-better-alternative-to-find\\\\n\\\",\\n\",\n",
      "\u001b[0m\u001b[32m57\u001b[0m:      \"\\u001b[0m\\u001b[32m13\\u001b[0m:    \\\"- Tags: Computer Science, programming, command, command-line, find, \\u001b[0m\\u001b[1m\\u001b[31m\u001b[0m\u001b[1m\u001b[31mripgrep\u001b[0m\\u001b[0m, Rust, rg\\\\n\\\"\\n\",\n",
      "\u001b[0m\u001b[32m58\u001b[0m:      \"\\u001b[0m\\u001b[32m30\\u001b[0m:    \\\"    wajig install \\u001b[0m\\u001b[1m\\u001b[31m\u001b[0m\u001b[1m\u001b[31mripgrep\u001b[0m\\u001b[0m \\\\n\\\",\\n\",\n",
      "\u001b[0m\u001b[32m59\u001b[0m:      \"\\u001b[0m\\u001b[32m34\\u001b[0m:    \\\"    brew install \\u001b[0m\\u001b[1m\\u001b[31m\u001b[0m\u001b[1m\u001b[31mripgrep\u001b[0m\\u001b[0m \\\\n\\\"\\n\",\n",
      "\u001b[0m\u001b[32m60\u001b[0m:      \"\\u001b[0m\\u001b[32m56\\u001b[0m:      \\\"\\\\u001b[0m\\\\u001b[35m\\u001b[0m\\u001b[1m\\u001b[31m\u001b[0m\u001b[1m\u001b[31mripgrep\u001b[0m\\u001b[0m-is-a-better-alternative-to-find.ipynb\\\\u001b[0m\\\\n\\\",\\n\",\n",
      "\u001b[0m\u001b[32m61\u001b[0m:      \"\\u001b[0m\\u001b[32m57\\u001b[0m:      \\\"\\\\u001b[0m\\\\u001b[32m10\\\\u001b[0m:    \\\\\\\"- Title: The \\\\u001b[0m\\\\u001b[1m\\\\u001b[31m\\u001b[0m\\u001b[1m\\u001b[31m\u001b[0m\u001b[1m\u001b[31mripgrep\u001b[0m\\u001b[0m\\\\u001b[0m Command Is a Better Alternative to the find Command\\\\\\\\n\\\\\\\",\\\\n\\\",\\n\",\n",
      "\u001b[0m\u001b[32m62\u001b[0m:      \"\\u001b[0m\\u001b[32m58\\u001b[0m:      \\\"\\\\u001b[0m\\\\u001b[32m11\\\\u001b[0m:    \\\\\\\"- Slug: \\\\u001b[0m\\\\u001b[1m\\\\u001b[31m\\u001b[0m\\u001b[1m\\u001b[31m\u001b[0m\u001b[1m\u001b[31mripgrep\u001b[0m\\u001b[0m\\\\u001b[0m-is-a-better-alternative-to-find\\\\\\\\n\\\\\\\",\\\\n\\\",\\n\",\n",
      "\u001b[0m\u001b[32m63\u001b[0m:      \"\\u001b[0m\\u001b[32m59\\u001b[0m:      \\\"\\\\u001b[0m\\\\u001b[32m13\\\\u001b[0m:    \\\\\\\"- Tags: Computer Science, programming, command, command-line, find, \\\\u001b[0m\\\\u001b[1m\\\\u001b[31m\\u001b[0m\\u001b[1m\\u001b[31m\u001b[0m\u001b[1m\u001b[31mripgrep\u001b[0m\\u001b[0m\\\\u001b[0m, Rust, rg\\\\\\\\n\\\\\\\"\\\\n\\\",\\n\",\n",
      "\u001b[0m\u001b[32m64\u001b[0m:      \"\\u001b[0m\\u001b[32m60\\u001b[0m:      \\\"\\\\u001b[0m\\\\u001b[32m30\\\\u001b[0m:    \\\\\\\"    wajig install \\\\u001b[0m\\\\u001b[1m\\\\u001b[31m\\u001b[0m\\u001b[1m\\u001b[31m\u001b[0m\u001b[1m\u001b[31mripgrep\u001b[0m\\u001b[0m\\\\u001b[0m \\\\\\\\n\\\\\\\",\\\\n\\\",\\n\",\n",
      "\u001b[0m\u001b[32m65\u001b[0m:      \"\\u001b[0m\\u001b[32m61\\u001b[0m:      \\\"\\\\u001b[0m\\\\u001b[32m34\\\\u001b[0m:    \\\\\\\"    brew install \\\\u001b[0m\\\\u001b[1m\\\\u001b[31m\\u001b[0m\\u001b[1m\\u001b[31m\u001b[0m\u001b[1m\u001b[31mripgrep\u001b[0m\\u001b[0m\\\\u001b[0m \\\\\\\\n\\\\\\\"\\\\n\\\",\\n\",\n",
      "\u001b[0m\u001b[32m66\u001b[0m:      \"\\u001b[0m\\u001b[32m62\\u001b[0m:      \\\"\\\\u001b[0m\\\\u001b[32m53\\\\u001b[0m:    \\\\\\\"rg \\\\u001b[0m\\\\u001b[1m\\\\u001b[31m\\u001b[0m\\u001b[1m\\u001b[31m\u001b[0m\u001b[1m\u001b[31mripgrep\u001b[0m\\u001b[0m\\\\u001b[0m\\\\\\\"\\\\n\\\",\\n\",\n",
      "\u001b[0m\u001b[32m67\u001b[0m:      \"\\u001b[0m\\u001b[32m63\\u001b[0m:      \\\"\\\\u001b[0m\\\\u001b[32m63\\\\u001b[0m:    \\\\\\\"- [\\\\u001b[0m\\\\u001b[1m\\\\u001b[31m\\u001b[0m\\u001b[1m\\u001b[31m\u001b[0m\u001b[1m\u001b[31mripgrep\u001b[0m\\u001b[0m\\\\u001b[0m @ GitHub](https://github.com/BurntSushi/\\\\u001b[0m\\\\u001b[1m\\\\u001b[31m\\u001b[0m\\u001b[1m\\u001b[31m\u001b[0m\u001b[1m\u001b[31mripgrep\u001b[0m\\u001b[0m\\\\u001b[0m)\\\\\\\"\\\\n\\\"\\n\",\n",
      "\u001b[0m\u001b[32m68\u001b[0m:      \"\\u001b[0m\\u001b[32m68\\u001b[0m:    \\\"rg \\u001b[0m\\u001b[1m\\u001b[31m\u001b[0m\u001b[1m\u001b[31mripgrep\u001b[0m\\u001b[0m\\\"\\n\",\n",
      "\u001b[0m\u001b[32m69\u001b[0m:      \"\\u001b[0m\\u001b[32m85\\u001b[0m:    \\\"rg \\u001b[0m\\u001b[1m\\u001b[31m\u001b[0m\u001b[1m\u001b[31mripgrep\u001b[0m\\u001b[0m *.markd\\\"\\n\",\n",
      "\u001b[0m\u001b[32m70\u001b[0m:      \"\\u001b[0m\\u001b[32m95\\u001b[0m:    \\\"- [\\u001b[0m\\u001b[1m\\u001b[31m\u001b[0m\u001b[1m\u001b[31mripgrep\u001b[0m\\u001b[0m @ GitHub](https://github.com/BurntSushi/\\u001b[0m\\u001b[1m\\u001b[31m\u001b[0m\u001b[1m\u001b[31mripgrep\u001b[0m\\u001b[0m)\\\"\\n\"\n",
      "\u001b[0m\u001b[32m75\u001b[0m:    \"rg \u001b[0m\u001b[1m\u001b[31mripgrep\u001b[0m\"\n",
      "\u001b[0m\u001b[32m87\u001b[0m:      \"\\u001b[0m\\u001b[32m10\\u001b[0m:    \\\"- Title: The \\u001b[0m\\u001b[1m\\u001b[31m\u001b[0m\u001b[1m\u001b[31mripgrep\u001b[0m\\u001b[0m Command Is a Better Alternative to the find Command\\\\n\\\",\\n\",\n",
      "\u001b[0m\u001b[32m88\u001b[0m:      \"\\u001b[0m\\u001b[32m11\\u001b[0m:    \\\"- Slug: \\u001b[0m\\u001b[1m\\u001b[31m\u001b[0m\u001b[1m\u001b[31mripgrep\u001b[0m\\u001b[0m-is-a-better-alternative-to-find\\\\n\\\",\\n\",\n",
      "\u001b[0m\u001b[32m89\u001b[0m:      \"\\u001b[0m\\u001b[32m13\\u001b[0m:    \\\"- Tags: Computer Science, programming, command, command-line, find, \\u001b[0m\\u001b[1m\\u001b[31m\u001b[0m\u001b[1m\u001b[31mripgrep\u001b[0m\\u001b[0m, Rust, rg\\\\n\\\"\\n\",\n",
      "\u001b[0m\u001b[32m90\u001b[0m:      \"\\u001b[0m\\u001b[32m30\\u001b[0m:    \\\"    wajig install \\u001b[0m\\u001b[1m\\u001b[31m\u001b[0m\u001b[1m\u001b[31mripgrep\u001b[0m\\u001b[0m \\\\n\\\",\\n\",\n",
      "\u001b[0m\u001b[32m91\u001b[0m:      \"\\u001b[0m\\u001b[32m34\\u001b[0m:    \\\"    brew install \\u001b[0m\\u001b[1m\\u001b[31m\u001b[0m\u001b[1m\u001b[31mripgrep\u001b[0m\\u001b[0m \\\\n\\\"\\n\",\n",
      "\u001b[0m\u001b[32m92\u001b[0m:      \"\\u001b[0m\\u001b[32m56\\u001b[0m:      \\\"\\\\u001b[0m\\\\u001b[35m\\u001b[0m\\u001b[1m\\u001b[31m\u001b[0m\u001b[1m\u001b[31mripgrep\u001b[0m\\u001b[0m-is-a-better-alternative-to-find.ipynb\\\\u001b[0m\\\\n\\\",\\n\",\n",
      "\u001b[0m\u001b[32m93\u001b[0m:      \"\\u001b[0m\\u001b[32m57\\u001b[0m:      \\\"\\\\u001b[0m\\\\u001b[32m10\\\\u001b[0m:    \\\\\\\"- Title: The \\\\u001b[0m\\\\u001b[1m\\\\u001b[31m\\u001b[0m\\u001b[1m\\u001b[31m\u001b[0m\u001b[1m\u001b[31mripgrep\u001b[0m\\u001b[0m\\\\u001b[0m Command Is a Better Alternative to the find Command\\\\\\\\n\\\\\\\",\\\\n\\\",\\n\",\n",
      "\u001b[0m\u001b[32m94\u001b[0m:      \"\\u001b[0m\\u001b[32m58\\u001b[0m:      \\\"\\\\u001b[0m\\\\u001b[32m11\\\\u001b[0m:    \\\\\\\"- Slug: \\\\u001b[0m\\\\u001b[1m\\\\u001b[31m\\u001b[0m\\u001b[1m\\u001b[31m\u001b[0m\u001b[1m\u001b[31mripgrep\u001b[0m\\u001b[0m\\\\u001b[0m-is-a-better-alternative-to-find\\\\\\\\n\\\\\\\",\\\\n\\\",\\n\",\n",
      "\u001b[0m\u001b[32m95\u001b[0m:      \"\\u001b[0m\\u001b[32m59\\u001b[0m:      \\\"\\\\u001b[0m\\\\u001b[32m13\\\\u001b[0m:    \\\\\\\"- Tags: Computer Science, programming, command, command-line, find, \\\\u001b[0m\\\\u001b[1m\\\\u001b[31m\\u001b[0m\\u001b[1m\\u001b[31m\u001b[0m\u001b[1m\u001b[31mripgrep\u001b[0m\\u001b[0m\\\\u001b[0m, Rust, rg\\\\\\\\n\\\\\\\"\\\\n\\\",\\n\",\n",
      "\u001b[0m\u001b[32m96\u001b[0m:      \"\\u001b[0m\\u001b[32m60\\u001b[0m:      \\\"\\\\u001b[0m\\\\u001b[32m30\\\\u001b[0m:    \\\\\\\"    wajig install \\\\u001b[0m\\\\u001b[1m\\\\u001b[31m\\u001b[0m\\u001b[1m\\u001b[31m\u001b[0m\u001b[1m\u001b[31mripgrep\u001b[0m\\u001b[0m\\\\u001b[0m \\\\\\\\n\\\\\\\",\\\\n\\\",\\n\",\n",
      "\u001b[0m\u001b[32m97\u001b[0m:      \"\\u001b[0m\\u001b[32m61\\u001b[0m:      \\\"\\\\u001b[0m\\\\u001b[32m34\\\\u001b[0m:    \\\\\\\"    brew install \\\\u001b[0m\\\\u001b[1m\\\\u001b[31m\\u001b[0m\\u001b[1m\\u001b[31m\u001b[0m\u001b[1m\u001b[31mripgrep\u001b[0m\\u001b[0m\\\\u001b[0m \\\\\\\\n\\\\\\\"\\\\n\\\",\\n\",\n",
      "\u001b[0m\u001b[32m98\u001b[0m:      \"\\u001b[0m\\u001b[32m62\\u001b[0m:      \\\"\\\\u001b[0m\\\\u001b[32m56\\\\u001b[0m:      \\\\\\\"\\\\\\\\u001b[0m\\\\\\\\u001b[35m\\\\u001b[0m\\\\u001b[1m\\\\u001b[31m\\u001b[0m\\u001b[1m\\u001b[31m\u001b[0m\u001b[1m\u001b[31mripgrep\u001b[0m\\u001b[0m\\\\u001b[0m-is-a-better-alternative-to-find.ipynb\\\\\\\\u001b[0m\\\\\\\\n\\\\\\\",\\\\n\\\",\\n\",\n",
      "\u001b[0m\u001b[32m99\u001b[0m:      \"\\u001b[0m\\u001b[32m63\\u001b[0m:      \\\"\\\\u001b[0m\\\\u001b[32m57\\\\u001b[0m:      \\\\\\\"\\\\\\\\u001b[0m\\\\\\\\u001b[32m10\\\\\\\\u001b[0m:    \\\\\\\\\\\\\\\"- Title: The \\\\\\\\u001b[0m\\\\\\\\u001b[1m\\\\\\\\u001b[31m\\\\u001b[0m\\\\u001b[1m\\\\u001b[31m\\u001b[0m\\u001b[1m\\u001b[31m\u001b[0m\u001b[1m\u001b[31mripgrep\u001b[0m\\u001b[0m\\\\u001b[0m\\\\\\\\u001b[0m Command Is a Better Alternative to the find Command\\\\\\\\\\\\\\\\n\\\\\\\\\\\\\\\",\\\\\\\\n\\\\\\\",\\\\n\\\",\\n\",\n",
      "\u001b[0m\u001b[32m100\u001b[0m:      \"\\u001b[0m\\u001b[32m64\\u001b[0m:      \\\"\\\\u001b[0m\\\\u001b[32m58\\\\u001b[0m:      \\\\\\\"\\\\\\\\u001b[0m\\\\\\\\u001b[32m11\\\\\\\\u001b[0m:    \\\\\\\\\\\\\\\"- Slug: \\\\\\\\u001b[0m\\\\\\\\u001b[1m\\\\\\\\u001b[31m\\\\u001b[0m\\\\u001b[1m\\\\u001b[31m\\u001b[0m\\u001b[1m\\u001b[31m\u001b[0m\u001b[1m\u001b[31mripgrep\u001b[0m\\u001b[0m\\\\u001b[0m\\\\\\\\u001b[0m-is-a-better-alternative-to-find\\\\\\\\\\\\\\\\n\\\\\\\\\\\\\\\",\\\\\\\\n\\\\\\\",\\\\n\\\",\\n\",\n",
      "\u001b[0m\u001b[32m101\u001b[0m:      \"\\u001b[0m\\u001b[32m65\\u001b[0m:      \\\"\\\\u001b[0m\\\\u001b[32m59\\\\u001b[0m:      \\\\\\\"\\\\\\\\u001b[0m\\\\\\\\u001b[32m13\\\\\\\\u001b[0m:    \\\\\\\\\\\\\\\"- Tags: Computer Science, programming, command, command-line, find, \\\\\\\\u001b[0m\\\\\\\\u001b[1m\\\\\\\\u001b[31m\\\\u001b[0m\\\\u001b[1m\\\\u001b[31m\\u001b[0m\\u001b[1m\\u001b[31m\u001b[0m\u001b[1m\u001b[31mripgrep\u001b[0m\\u001b[0m\\\\u001b[0m\\\\\\\\u001b[0m, Rust, rg\\\\\\\\\\\\\\\\n\\\\\\\\\\\\\\\"\\\\\\\\n\\\\\\\",\\\\n\\\",\\n\",\n",
      "\u001b[0m\u001b[32m102\u001b[0m:      \"\\u001b[0m\\u001b[32m66\\u001b[0m:      \\\"\\\\u001b[0m\\\\u001b[32m60\\\\u001b[0m:      \\\\\\\"\\\\\\\\u001b[0m\\\\\\\\u001b[32m30\\\\\\\\u001b[0m:    \\\\\\\\\\\\\\\"    wajig install \\\\\\\\u001b[0m\\\\\\\\u001b[1m\\\\\\\\u001b[31m\\\\u001b[0m\\\\u001b[1m\\\\u001b[31m\\u001b[0m\\u001b[1m\\u001b[31m\u001b[0m\u001b[1m\u001b[31mripgrep\u001b[0m\\u001b[0m\\\\u001b[0m\\\\\\\\u001b[0m \\\\\\\\\\\\\\\\n\\\\\\\\\\\\\\\",\\\\\\\\n\\\\\\\",\\\\n\\\",\\n\",\n",
      "\u001b[0m\u001b[32m103\u001b[0m:      \"\\u001b[0m\\u001b[32m67\\u001b[0m:      \\\"\\\\u001b[0m\\\\u001b[32m61\\\\u001b[0m:      \\\\\\\"\\\\\\\\u001b[0m\\\\\\\\u001b[32m34\\\\\\\\u001b[0m:    \\\\\\\\\\\\\\\"    brew install \\\\\\\\u001b[0m\\\\\\\\u001b[1m\\\\\\\\u001b[31m\\\\u001b[0m\\\\u001b[1m\\\\u001b[31m\\u001b[0m\\u001b[1m\\u001b[31m\u001b[0m\u001b[1m\u001b[31mripgrep\u001b[0m\\u001b[0m\\\\u001b[0m\\\\\\\\u001b[0m \\\\\\\\\\\\\\\\n\\\\\\\\\\\\\\\"\\\\\\\\n\\\\\\\",\\\\n\\\",\\n\",\n",
      "\u001b[0m\u001b[32m104\u001b[0m:      \"\\u001b[0m\\u001b[32m68\\u001b[0m:      \\\"\\\\u001b[0m\\\\u001b[32m62\\\\u001b[0m:      \\\\\\\"\\\\\\\\u001b[0m\\\\\\\\u001b[32m53\\\\\\\\u001b[0m:    \\\\\\\\\\\\\\\"rg \\\\\\\\u001b[0m\\\\\\\\u001b[1m\\\\\\\\u001b[31m\\\\u001b[0m\\\\u001b[1m\\\\u001b[31m\\u001b[0m\\u001b[1m\\u001b[31m\u001b[0m\u001b[1m\u001b[31mripgrep\u001b[0m\\u001b[0m\\\\u001b[0m\\\\\\\\u001b[0m\\\\\\\\\\\\\\\"\\\\\\\\n\\\\\\\",\\\\n\\\",\\n\",\n",
      "\u001b[0m\u001b[32m105\u001b[0m:      \"\\u001b[0m\\u001b[32m69\\u001b[0m:      \\\"\\\\u001b[0m\\\\u001b[32m63\\\\u001b[0m:      \\\\\\\"\\\\\\\\u001b[0m\\\\\\\\u001b[32m63\\\\\\\\u001b[0m:    \\\\\\\\\\\\\\\"- [\\\\\\\\u001b[0m\\\\\\\\u001b[1m\\\\\\\\u001b[31m\\\\u001b[0m\\\\u001b[1m\\\\u001b[31m\\u001b[0m\\u001b[1m\\u001b[31m\u001b[0m\u001b[1m\u001b[31mripgrep\u001b[0m\\u001b[0m\\\\u001b[0m\\\\\\\\u001b[0m @ GitHub](https://github.com/BurntSushi/\\\\\\\\u001b[0m\\\\\\\\u001b[1m\\\\\\\\u001b[31m\\\\u001b[0m\\\\u001b[1m\\\\u001b[31m\\u001b[0m\\u001b[1m\\u001b[31m\u001b[0m\u001b[1m\u001b[31mripgrep\u001b[0m\\u001b[0m\\\\u001b[0m\\\\\\\\u001b[0m)\\\\\\\\\\\\\\\"\\\\\\\\n\\\\\\\"\\\\n\\\",\\n\",\n",
      "\u001b[0m\u001b[32m106\u001b[0m:      \"\\u001b[0m\\u001b[32m70\\u001b[0m:      \\\"\\\\u001b[0m\\\\u001b[32m68\\\\u001b[0m:    \\\\\\\"rg \\\\u001b[0m\\\\u001b[1m\\\\u001b[31m\\u001b[0m\\u001b[1m\\u001b[31m\u001b[0m\u001b[1m\u001b[31mripgrep\u001b[0m\\u001b[0m\\\\u001b[0m\\\\\\\"\\\\n\\\",\\n\",\n",
      "\u001b[0m\u001b[32m107\u001b[0m:      \"\\u001b[0m\\u001b[32m71\\u001b[0m:      \\\"\\\\u001b[0m\\\\u001b[32m85\\\\u001b[0m:    \\\\\\\"rg \\\\u001b[0m\\\\u001b[1m\\\\u001b[31m\\u001b[0m\\u001b[1m\\u001b[31m\u001b[0m\u001b[1m\u001b[31mripgrep\u001b[0m\\u001b[0m\\\\u001b[0m *.markd\\\\\\\"\\\\n\\\",\\n\",\n",
      "\u001b[0m\u001b[32m108\u001b[0m:      \"\\u001b[0m\\u001b[32m72\\u001b[0m:      \\\"\\\\u001b[0m\\\\u001b[32m95\\\\u001b[0m:    \\\\\\\"- [\\\\u001b[0m\\\\u001b[1m\\\\u001b[31m\\u001b[0m\\u001b[1m\\u001b[31m\u001b[0m\u001b[1m\u001b[31mripgrep\u001b[0m\\u001b[0m\\\\u001b[0m @ GitHub](https://github.com/BurntSushi/\\\\u001b[0m\\\\u001b[1m\\\\u001b[31m\\u001b[0m\\u001b[1m\\u001b[31m\u001b[0m\u001b[1m\u001b[31mripgrep\u001b[0m\\u001b[0m\\\\u001b[0m)\\\\\\\"\\\\n\\\"\\n\",\n",
      "\u001b[0m\u001b[32m109\u001b[0m:      \"\\u001b[0m\\u001b[32m77\\u001b[0m:    \\\"rg \\u001b[0m\\u001b[1m\\u001b[31m\u001b[0m\u001b[1m\u001b[31mripgrep\u001b[0m\\u001b[0m\\\"\\n\",\n",
      "\u001b[0m\u001b[32m110\u001b[0m:      \"\\u001b[0m\\u001b[32m94\\u001b[0m:    \\\"rg \\u001b[0m\\u001b[1m\\u001b[31m\u001b[0m\u001b[1m\u001b[31mripgrep\u001b[0m\\u001b[0m *.markd\\\"\\n\",\n",
      "\u001b[0m\u001b[32m111\u001b[0m:      \"\\u001b[0m\\u001b[32m104\\u001b[0m:    \\\"- [\\u001b[0m\\u001b[1m\\u001b[31m\u001b[0m\u001b[1m\u001b[31mripgrep\u001b[0m\\u001b[0m @ GitHub](https://github.com/BurntSushi/\\u001b[0m\\u001b[1m\\u001b[31m\u001b[0m\u001b[1m\u001b[31mripgrep\u001b[0m\\u001b[0m)\\\"\\n\"\n",
      "\u001b[0m\u001b[32m116\u001b[0m:    \"rg \u001b[0m\u001b[1m\u001b[31mripgrep\u001b[0m *.ipynb\"\n",
      "\u001b[0m\u001b[32m126\u001b[0m:    \"- [\u001b[0m\u001b[1m\u001b[31mripgrep\u001b[0m @ GitHub](https://github.com/BurntSushi/\u001b[0m\u001b[1m\u001b[31mripgrep\u001b[0m)\"\n"
     ]
    }
   ],
   "source": [
    "rg ripgrep"
   ]
  },
  {
   "cell_type": "markdown",
   "metadata": {},
   "source": [
    "Recursively search for `vim` in files with the globbing pattern `Dockerfile` under the currently directory."
   ]
  },
  {
   "cell_type": "code",
   "execution_count": null,
   "metadata": {},
   "outputs": [],
   "source": [
    "rg -g Dockerfile vim"
   ]
  },
  {
   "cell_type": "markdown",
   "metadata": {},
   "source": [
    "Recursively search the current directory\n",
    "for the pattern `ripgrep` in content of files with the glob pattern `*.ipynb`."
   ]
  },
  {
   "cell_type": "code",
   "execution_count": 2,
   "metadata": {
    "tags": []
   },
   "outputs": [
    {
     "name": "stdout",
     "output_type": "stream",
     "text": [
      "\u001b[0m\u001b[32m10\u001b[0m:    \"- Title: The \u001b[0m\u001b[1m\u001b[31mripgrep\u001b[0m Command Is a Better Alternative to the find Command\\n\",\n",
      "\u001b[0m\u001b[32m11\u001b[0m:    \"- Slug: \u001b[0m\u001b[1m\u001b[31mripgrep\u001b[0m-is-a-better-alternative-to-find\\n\",\n",
      "\u001b[0m\u001b[32m13\u001b[0m:    \"- Tags: Computer Science, programming, command, command-line, find, \u001b[0m\u001b[1m\u001b[31mripgrep\u001b[0m, Rust, rg\\n\"\n",
      "\u001b[0m\u001b[32m30\u001b[0m:    \"    wajig install \u001b[0m\u001b[1m\u001b[31mripgrep\u001b[0m \\n\",\n",
      "\u001b[0m\u001b[32m34\u001b[0m:    \"    brew install \u001b[0m\u001b[1m\u001b[31mripgrep\u001b[0m \\n\"\n",
      "\u001b[0m\u001b[32m54\u001b[0m:      \"\\u001b[0m\\u001b[35m\u001b[0m\u001b[1m\u001b[31mripgrep\u001b[0m-is-a-better-alternative-to-find.ipynb\\u001b[0m\\n\",\n",
      "\u001b[0m\u001b[32m55\u001b[0m:      \"\\u001b[0m\\u001b[32m10\\u001b[0m:    \\\"- Title: The \\u001b[0m\\u001b[1m\\u001b[31m\u001b[0m\u001b[1m\u001b[31mripgrep\u001b[0m\\u001b[0m Command Is a Better Alternative to the find Command\\\\n\\\",\\n\",\n",
      "\u001b[0m\u001b[32m56\u001b[0m:      \"\\u001b[0m\\u001b[32m11\\u001b[0m:    \\\"- Slug: \\u001b[0m\\u001b[1m\\u001b[31m\u001b[0m\u001b[1m\u001b[31mripgrep\u001b[0m\\u001b[0m-is-a-better-alternative-to-find\\\\n\\\",\\n\",\n",
      "\u001b[0m\u001b[32m57\u001b[0m:      \"\\u001b[0m\\u001b[32m13\\u001b[0m:    \\\"- Tags: Computer Science, programming, command, command-line, find, \\u001b[0m\\u001b[1m\\u001b[31m\u001b[0m\u001b[1m\u001b[31mripgrep\u001b[0m\\u001b[0m, Rust, rg\\\\n\\\"\\n\",\n",
      "\u001b[0m\u001b[32m58\u001b[0m:      \"\\u001b[0m\\u001b[32m30\\u001b[0m:    \\\"    wajig install \\u001b[0m\\u001b[1m\\u001b[31m\u001b[0m\u001b[1m\u001b[31mripgrep\u001b[0m\\u001b[0m \\\\n\\\",\\n\",\n",
      "\u001b[0m\u001b[32m59\u001b[0m:      \"\\u001b[0m\\u001b[32m34\\u001b[0m:    \\\"    brew install \\u001b[0m\\u001b[1m\\u001b[31m\u001b[0m\u001b[1m\u001b[31mripgrep\u001b[0m\\u001b[0m \\\\n\\\"\\n\",\n",
      "\u001b[0m\u001b[32m60\u001b[0m:      \"\\u001b[0m\\u001b[32m56\\u001b[0m:      \\\"\\\\u001b[0m\\\\u001b[35m\\u001b[0m\\u001b[1m\\u001b[31m\u001b[0m\u001b[1m\u001b[31mripgrep\u001b[0m\\u001b[0m-is-a-better-alternative-to-find.ipynb\\\\u001b[0m\\\\n\\\",\\n\",\n",
      "\u001b[0m\u001b[32m61\u001b[0m:      \"\\u001b[0m\\u001b[32m57\\u001b[0m:      \\\"\\\\u001b[0m\\\\u001b[32m10\\\\u001b[0m:    \\\\\\\"- Title: The \\\\u001b[0m\\\\u001b[1m\\\\u001b[31m\\u001b[0m\\u001b[1m\\u001b[31m\u001b[0m\u001b[1m\u001b[31mripgrep\u001b[0m\\u001b[0m\\\\u001b[0m Command Is a Better Alternative to the find Command\\\\\\\\n\\\\\\\",\\\\n\\\",\\n\",\n",
      "\u001b[0m\u001b[32m62\u001b[0m:      \"\\u001b[0m\\u001b[32m58\\u001b[0m:      \\\"\\\\u001b[0m\\\\u001b[32m11\\\\u001b[0m:    \\\\\\\"- Slug: \\\\u001b[0m\\\\u001b[1m\\\\u001b[31m\\u001b[0m\\u001b[1m\\u001b[31m\u001b[0m\u001b[1m\u001b[31mripgrep\u001b[0m\\u001b[0m\\\\u001b[0m-is-a-better-alternative-to-find\\\\\\\\n\\\\\\\",\\\\n\\\",\\n\",\n",
      "\u001b[0m\u001b[32m63\u001b[0m:      \"\\u001b[0m\\u001b[32m59\\u001b[0m:      \\\"\\\\u001b[0m\\\\u001b[32m13\\\\u001b[0m:    \\\\\\\"- Tags: Computer Science, programming, command, command-line, find, \\\\u001b[0m\\\\u001b[1m\\\\u001b[31m\\u001b[0m\\u001b[1m\\u001b[31m\u001b[0m\u001b[1m\u001b[31mripgrep\u001b[0m\\u001b[0m\\\\u001b[0m, Rust, rg\\\\\\\\n\\\\\\\"\\\\n\\\",\\n\",\n",
      "\u001b[0m\u001b[32m64\u001b[0m:      \"\\u001b[0m\\u001b[32m60\\u001b[0m:      \\\"\\\\u001b[0m\\\\u001b[32m30\\\\u001b[0m:    \\\\\\\"    wajig install \\\\u001b[0m\\\\u001b[1m\\\\u001b[31m\\u001b[0m\\u001b[1m\\u001b[31m\u001b[0m\u001b[1m\u001b[31mripgrep\u001b[0m\\u001b[0m\\\\u001b[0m \\\\\\\\n\\\\\\\",\\\\n\\\",\\n\",\n",
      "\u001b[0m\u001b[32m65\u001b[0m:      \"\\u001b[0m\\u001b[32m61\\u001b[0m:      \\\"\\\\u001b[0m\\\\u001b[32m34\\\\u001b[0m:    \\\\\\\"    brew install \\\\u001b[0m\\\\u001b[1m\\\\u001b[31m\\u001b[0m\\u001b[1m\\u001b[31m\u001b[0m\u001b[1m\u001b[31mripgrep\u001b[0m\\u001b[0m\\\\u001b[0m \\\\\\\\n\\\\\\\"\\\\n\\\",\\n\",\n",
      "\u001b[0m\u001b[32m66\u001b[0m:      \"\\u001b[0m\\u001b[32m62\\u001b[0m:      \\\"\\\\u001b[0m\\\\u001b[32m53\\\\u001b[0m:    \\\\\\\"rg \\\\u001b[0m\\\\u001b[1m\\\\u001b[31m\\u001b[0m\\u001b[1m\\u001b[31m\u001b[0m\u001b[1m\u001b[31mripgrep\u001b[0m\\u001b[0m\\\\u001b[0m\\\\\\\"\\\\n\\\",\\n\",\n",
      "\u001b[0m\u001b[32m67\u001b[0m:      \"\\u001b[0m\\u001b[32m63\\u001b[0m:      \\\"\\\\u001b[0m\\\\u001b[32m63\\\\u001b[0m:    \\\\\\\"- [\\\\u001b[0m\\\\u001b[1m\\\\u001b[31m\\u001b[0m\\u001b[1m\\u001b[31m\u001b[0m\u001b[1m\u001b[31mripgrep\u001b[0m\\u001b[0m\\\\u001b[0m @ GitHub](https://github.com/BurntSushi/\\\\u001b[0m\\\\u001b[1m\\\\u001b[31m\\u001b[0m\\u001b[1m\\u001b[31m\u001b[0m\u001b[1m\u001b[31mripgrep\u001b[0m\\u001b[0m\\\\u001b[0m)\\\\\\\"\\\\n\\\"\\n\",\n",
      "\u001b[0m\u001b[32m68\u001b[0m:      \"\\u001b[0m\\u001b[32m68\\u001b[0m:    \\\"rg \\u001b[0m\\u001b[1m\\u001b[31m\u001b[0m\u001b[1m\u001b[31mripgrep\u001b[0m\\u001b[0m\\\"\\n\",\n",
      "\u001b[0m\u001b[32m69\u001b[0m:      \"\\u001b[0m\\u001b[32m85\\u001b[0m:    \\\"rg \\u001b[0m\\u001b[1m\\u001b[31m\u001b[0m\u001b[1m\u001b[31mripgrep\u001b[0m\\u001b[0m *.markd\\\"\\n\",\n",
      "\u001b[0m\u001b[32m70\u001b[0m:      \"\\u001b[0m\\u001b[32m95\\u001b[0m:    \\\"- [\\u001b[0m\\u001b[1m\\u001b[31m\u001b[0m\u001b[1m\u001b[31mripgrep\u001b[0m\\u001b[0m @ GitHub](https://github.com/BurntSushi/\\u001b[0m\\u001b[1m\\u001b[31m\u001b[0m\u001b[1m\u001b[31mripgrep\u001b[0m\\u001b[0m)\\\"\\n\"\n",
      "\u001b[0m\u001b[32m75\u001b[0m:    \"rg \u001b[0m\u001b[1m\u001b[31mripgrep\u001b[0m\"\n",
      "\u001b[0m\u001b[32m87\u001b[0m:      \"\\u001b[0m\\u001b[32m10\\u001b[0m:    \\\"- Title: The \\u001b[0m\\u001b[1m\\u001b[31m\u001b[0m\u001b[1m\u001b[31mripgrep\u001b[0m\\u001b[0m Command Is a Better Alternative to the find Command\\\\n\\\",\\n\",\n",
      "\u001b[0m\u001b[32m88\u001b[0m:      \"\\u001b[0m\\u001b[32m11\\u001b[0m:    \\\"- Slug: \\u001b[0m\\u001b[1m\\u001b[31m\u001b[0m\u001b[1m\u001b[31mripgrep\u001b[0m\\u001b[0m-is-a-better-alternative-to-find\\\\n\\\",\\n\",\n",
      "\u001b[0m\u001b[32m89\u001b[0m:      \"\\u001b[0m\\u001b[32m13\\u001b[0m:    \\\"- Tags: Computer Science, programming, command, command-line, find, \\u001b[0m\\u001b[1m\\u001b[31m\u001b[0m\u001b[1m\u001b[31mripgrep\u001b[0m\\u001b[0m, Rust, rg\\\\n\\\"\\n\",\n",
      "\u001b[0m\u001b[32m90\u001b[0m:      \"\\u001b[0m\\u001b[32m30\\u001b[0m:    \\\"    wajig install \\u001b[0m\\u001b[1m\\u001b[31m\u001b[0m\u001b[1m\u001b[31mripgrep\u001b[0m\\u001b[0m \\\\n\\\",\\n\",\n",
      "\u001b[0m\u001b[32m91\u001b[0m:      \"\\u001b[0m\\u001b[32m34\\u001b[0m:    \\\"    brew install \\u001b[0m\\u001b[1m\\u001b[31m\u001b[0m\u001b[1m\u001b[31mripgrep\u001b[0m\\u001b[0m \\\\n\\\"\\n\",\n",
      "\u001b[0m\u001b[32m92\u001b[0m:      \"\\u001b[0m\\u001b[32m56\\u001b[0m:      \\\"\\\\u001b[0m\\\\u001b[35m\\u001b[0m\\u001b[1m\\u001b[31m\u001b[0m\u001b[1m\u001b[31mripgrep\u001b[0m\\u001b[0m-is-a-better-alternative-to-find.ipynb\\\\u001b[0m\\\\n\\\",\\n\",\n",
      "\u001b[0m\u001b[32m93\u001b[0m:      \"\\u001b[0m\\u001b[32m57\\u001b[0m:      \\\"\\\\u001b[0m\\\\u001b[32m10\\\\u001b[0m:    \\\\\\\"- Title: The \\\\u001b[0m\\\\u001b[1m\\\\u001b[31m\\u001b[0m\\u001b[1m\\u001b[31m\u001b[0m\u001b[1m\u001b[31mripgrep\u001b[0m\\u001b[0m\\\\u001b[0m Command Is a Better Alternative to the find Command\\\\\\\\n\\\\\\\",\\\\n\\\",\\n\",\n",
      "\u001b[0m\u001b[32m94\u001b[0m:      \"\\u001b[0m\\u001b[32m58\\u001b[0m:      \\\"\\\\u001b[0m\\\\u001b[32m11\\\\u001b[0m:    \\\\\\\"- Slug: \\\\u001b[0m\\\\u001b[1m\\\\u001b[31m\\u001b[0m\\u001b[1m\\u001b[31m\u001b[0m\u001b[1m\u001b[31mripgrep\u001b[0m\\u001b[0m\\\\u001b[0m-is-a-better-alternative-to-find\\\\\\\\n\\\\\\\",\\\\n\\\",\\n\",\n",
      "\u001b[0m\u001b[32m95\u001b[0m:      \"\\u001b[0m\\u001b[32m59\\u001b[0m:      \\\"\\\\u001b[0m\\\\u001b[32m13\\\\u001b[0m:    \\\\\\\"- Tags: Computer Science, programming, command, command-line, find, \\\\u001b[0m\\\\u001b[1m\\\\u001b[31m\\u001b[0m\\u001b[1m\\u001b[31m\u001b[0m\u001b[1m\u001b[31mripgrep\u001b[0m\\u001b[0m\\\\u001b[0m, Rust, rg\\\\\\\\n\\\\\\\"\\\\n\\\",\\n\",\n",
      "\u001b[0m\u001b[32m96\u001b[0m:      \"\\u001b[0m\\u001b[32m60\\u001b[0m:      \\\"\\\\u001b[0m\\\\u001b[32m30\\\\u001b[0m:    \\\\\\\"    wajig install \\\\u001b[0m\\\\u001b[1m\\\\u001b[31m\\u001b[0m\\u001b[1m\\u001b[31m\u001b[0m\u001b[1m\u001b[31mripgrep\u001b[0m\\u001b[0m\\\\u001b[0m \\\\\\\\n\\\\\\\",\\\\n\\\",\\n\",\n",
      "\u001b[0m\u001b[32m97\u001b[0m:      \"\\u001b[0m\\u001b[32m61\\u001b[0m:      \\\"\\\\u001b[0m\\\\u001b[32m34\\\\u001b[0m:    \\\\\\\"    brew install \\\\u001b[0m\\\\u001b[1m\\\\u001b[31m\\u001b[0m\\u001b[1m\\u001b[31m\u001b[0m\u001b[1m\u001b[31mripgrep\u001b[0m\\u001b[0m\\\\u001b[0m \\\\\\\\n\\\\\\\"\\\\n\\\",\\n\",\n",
      "\u001b[0m\u001b[32m98\u001b[0m:      \"\\u001b[0m\\u001b[32m62\\u001b[0m:      \\\"\\\\u001b[0m\\\\u001b[32m56\\\\u001b[0m:      \\\\\\\"\\\\\\\\u001b[0m\\\\\\\\u001b[35m\\\\u001b[0m\\\\u001b[1m\\\\u001b[31m\\u001b[0m\\u001b[1m\\u001b[31m\u001b[0m\u001b[1m\u001b[31mripgrep\u001b[0m\\u001b[0m\\\\u001b[0m-is-a-better-alternative-to-find.ipynb\\\\\\\\u001b[0m\\\\\\\\n\\\\\\\",\\\\n\\\",\\n\",\n",
      "\u001b[0m\u001b[32m99\u001b[0m:      \"\\u001b[0m\\u001b[32m63\\u001b[0m:      \\\"\\\\u001b[0m\\\\u001b[32m57\\\\u001b[0m:      \\\\\\\"\\\\\\\\u001b[0m\\\\\\\\u001b[32m10\\\\\\\\u001b[0m:    \\\\\\\\\\\\\\\"- Title: The \\\\\\\\u001b[0m\\\\\\\\u001b[1m\\\\\\\\u001b[31m\\\\u001b[0m\\\\u001b[1m\\\\u001b[31m\\u001b[0m\\u001b[1m\\u001b[31m\u001b[0m\u001b[1m\u001b[31mripgrep\u001b[0m\\u001b[0m\\\\u001b[0m\\\\\\\\u001b[0m Command Is a Better Alternative to the find Command\\\\\\\\\\\\\\\\n\\\\\\\\\\\\\\\",\\\\\\\\n\\\\\\\",\\\\n\\\",\\n\",\n",
      "\u001b[0m\u001b[32m100\u001b[0m:      \"\\u001b[0m\\u001b[32m64\\u001b[0m:      \\\"\\\\u001b[0m\\\\u001b[32m58\\\\u001b[0m:      \\\\\\\"\\\\\\\\u001b[0m\\\\\\\\u001b[32m11\\\\\\\\u001b[0m:    \\\\\\\\\\\\\\\"- Slug: \\\\\\\\u001b[0m\\\\\\\\u001b[1m\\\\\\\\u001b[31m\\\\u001b[0m\\\\u001b[1m\\\\u001b[31m\\u001b[0m\\u001b[1m\\u001b[31m\u001b[0m\u001b[1m\u001b[31mripgrep\u001b[0m\\u001b[0m\\\\u001b[0m\\\\\\\\u001b[0m-is-a-better-alternative-to-find\\\\\\\\\\\\\\\\n\\\\\\\\\\\\\\\",\\\\\\\\n\\\\\\\",\\\\n\\\",\\n\",\n",
      "\u001b[0m\u001b[32m101\u001b[0m:      \"\\u001b[0m\\u001b[32m65\\u001b[0m:      \\\"\\\\u001b[0m\\\\u001b[32m59\\\\u001b[0m:      \\\\\\\"\\\\\\\\u001b[0m\\\\\\\\u001b[32m13\\\\\\\\u001b[0m:    \\\\\\\\\\\\\\\"- Tags: Computer Science, programming, command, command-line, find, \\\\\\\\u001b[0m\\\\\\\\u001b[1m\\\\\\\\u001b[31m\\\\u001b[0m\\\\u001b[1m\\\\u001b[31m\\u001b[0m\\u001b[1m\\u001b[31m\u001b[0m\u001b[1m\u001b[31mripgrep\u001b[0m\\u001b[0m\\\\u001b[0m\\\\\\\\u001b[0m, Rust, rg\\\\\\\\\\\\\\\\n\\\\\\\\\\\\\\\"\\\\\\\\n\\\\\\\",\\\\n\\\",\\n\",\n",
      "\u001b[0m\u001b[32m102\u001b[0m:      \"\\u001b[0m\\u001b[32m66\\u001b[0m:      \\\"\\\\u001b[0m\\\\u001b[32m60\\\\u001b[0m:      \\\\\\\"\\\\\\\\u001b[0m\\\\\\\\u001b[32m30\\\\\\\\u001b[0m:    \\\\\\\\\\\\\\\"    wajig install \\\\\\\\u001b[0m\\\\\\\\u001b[1m\\\\\\\\u001b[31m\\\\u001b[0m\\\\u001b[1m\\\\u001b[31m\\u001b[0m\\u001b[1m\\u001b[31m\u001b[0m\u001b[1m\u001b[31mripgrep\u001b[0m\\u001b[0m\\\\u001b[0m\\\\\\\\u001b[0m \\\\\\\\\\\\\\\\n\\\\\\\\\\\\\\\",\\\\\\\\n\\\\\\\",\\\\n\\\",\\n\",\n",
      "\u001b[0m\u001b[32m103\u001b[0m:      \"\\u001b[0m\\u001b[32m67\\u001b[0m:      \\\"\\\\u001b[0m\\\\u001b[32m61\\\\u001b[0m:      \\\\\\\"\\\\\\\\u001b[0m\\\\\\\\u001b[32m34\\\\\\\\u001b[0m:    \\\\\\\\\\\\\\\"    brew install \\\\\\\\u001b[0m\\\\\\\\u001b[1m\\\\\\\\u001b[31m\\\\u001b[0m\\\\u001b[1m\\\\u001b[31m\\u001b[0m\\u001b[1m\\u001b[31m\u001b[0m\u001b[1m\u001b[31mripgrep\u001b[0m\\u001b[0m\\\\u001b[0m\\\\\\\\u001b[0m \\\\\\\\\\\\\\\\n\\\\\\\\\\\\\\\"\\\\\\\\n\\\\\\\",\\\\n\\\",\\n\",\n",
      "\u001b[0m\u001b[32m104\u001b[0m:      \"\\u001b[0m\\u001b[32m68\\u001b[0m:      \\\"\\\\u001b[0m\\\\u001b[32m62\\\\u001b[0m:      \\\\\\\"\\\\\\\\u001b[0m\\\\\\\\u001b[32m53\\\\\\\\u001b[0m:    \\\\\\\\\\\\\\\"rg \\\\\\\\u001b[0m\\\\\\\\u001b[1m\\\\\\\\u001b[31m\\\\u001b[0m\\\\u001b[1m\\\\u001b[31m\\u001b[0m\\u001b[1m\\u001b[31m\u001b[0m\u001b[1m\u001b[31mripgrep\u001b[0m\\u001b[0m\\\\u001b[0m\\\\\\\\u001b[0m\\\\\\\\\\\\\\\"\\\\\\\\n\\\\\\\",\\\\n\\\",\\n\",\n",
      "\u001b[0m\u001b[32m105\u001b[0m:      \"\\u001b[0m\\u001b[32m69\\u001b[0m:      \\\"\\\\u001b[0m\\\\u001b[32m63\\\\u001b[0m:      \\\\\\\"\\\\\\\\u001b[0m\\\\\\\\u001b[32m63\\\\\\\\u001b[0m:    \\\\\\\\\\\\\\\"- [\\\\\\\\u001b[0m\\\\\\\\u001b[1m\\\\\\\\u001b[31m\\\\u001b[0m\\\\u001b[1m\\\\u001b[31m\\u001b[0m\\u001b[1m\\u001b[31m\u001b[0m\u001b[1m\u001b[31mripgrep\u001b[0m\\u001b[0m\\\\u001b[0m\\\\\\\\u001b[0m @ GitHub](https://github.com/BurntSushi/\\\\\\\\u001b[0m\\\\\\\\u001b[1m\\\\\\\\u001b[31m\\\\u001b[0m\\\\u001b[1m\\\\u001b[31m\\u001b[0m\\u001b[1m\\u001b[31m\u001b[0m\u001b[1m\u001b[31mripgrep\u001b[0m\\u001b[0m\\\\u001b[0m\\\\\\\\u001b[0m)\\\\\\\\\\\\\\\"\\\\\\\\n\\\\\\\"\\\\n\\\",\\n\",\n",
      "\u001b[0m\u001b[32m106\u001b[0m:      \"\\u001b[0m\\u001b[32m70\\u001b[0m:      \\\"\\\\u001b[0m\\\\u001b[32m68\\\\u001b[0m:    \\\\\\\"rg \\\\u001b[0m\\\\u001b[1m\\\\u001b[31m\\u001b[0m\\u001b[1m\\u001b[31m\u001b[0m\u001b[1m\u001b[31mripgrep\u001b[0m\\u001b[0m\\\\u001b[0m\\\\\\\"\\\\n\\\",\\n\",\n",
      "\u001b[0m\u001b[32m107\u001b[0m:      \"\\u001b[0m\\u001b[32m71\\u001b[0m:      \\\"\\\\u001b[0m\\\\u001b[32m85\\\\u001b[0m:    \\\\\\\"rg \\\\u001b[0m\\\\u001b[1m\\\\u001b[31m\\u001b[0m\\u001b[1m\\u001b[31m\u001b[0m\u001b[1m\u001b[31mripgrep\u001b[0m\\u001b[0m\\\\u001b[0m *.markd\\\\\\\"\\\\n\\\",\\n\",\n",
      "\u001b[0m\u001b[32m108\u001b[0m:      \"\\u001b[0m\\u001b[32m72\\u001b[0m:      \\\"\\\\u001b[0m\\\\u001b[32m95\\\\u001b[0m:    \\\\\\\"- [\\\\u001b[0m\\\\u001b[1m\\\\u001b[31m\\u001b[0m\\u001b[1m\\u001b[31m\u001b[0m\u001b[1m\u001b[31mripgrep\u001b[0m\\u001b[0m\\\\u001b[0m @ GitHub](https://github.com/BurntSushi/\\\\u001b[0m\\\\u001b[1m\\\\u001b[31m\\u001b[0m\\u001b[1m\\u001b[31m\u001b[0m\u001b[1m\u001b[31mripgrep\u001b[0m\\u001b[0m\\\\u001b[0m)\\\\\\\"\\\\n\\\"\\n\",\n",
      "\u001b[0m\u001b[32m109\u001b[0m:      \"\\u001b[0m\\u001b[32m77\\u001b[0m:    \\\"rg \\u001b[0m\\u001b[1m\\u001b[31m\u001b[0m\u001b[1m\u001b[31mripgrep\u001b[0m\\u001b[0m\\\"\\n\",\n",
      "\u001b[0m\u001b[32m110\u001b[0m:      \"\\u001b[0m\\u001b[32m94\\u001b[0m:    \\\"rg \\u001b[0m\\u001b[1m\\u001b[31m\u001b[0m\u001b[1m\u001b[31mripgrep\u001b[0m\\u001b[0m *.markd\\\"\\n\",\n",
      "\u001b[0m\u001b[32m111\u001b[0m:      \"\\u001b[0m\\u001b[32m104\\u001b[0m:    \\\"- [\\u001b[0m\\u001b[1m\\u001b[31m\u001b[0m\u001b[1m\u001b[31mripgrep\u001b[0m\\u001b[0m @ GitHub](https://github.com/BurntSushi/\\u001b[0m\\u001b[1m\\u001b[31m\u001b[0m\u001b[1m\u001b[31mripgrep\u001b[0m\\u001b[0m)\\\"\\n\"\n",
      "\u001b[0m\u001b[32m116\u001b[0m:    \"rg \u001b[0m\u001b[1m\u001b[31mripgrep\u001b[0m *.ipynb\"\n",
      "\u001b[0m\u001b[32m126\u001b[0m:    \"- [\u001b[0m\u001b[1m\u001b[31mripgrep\u001b[0m @ GitHub](https://github.com/BurntSushi/\u001b[0m\u001b[1m\u001b[31mripgrep\u001b[0m)\"\n"
     ]
    }
   ],
   "source": [
    "rg ripgrep *.ipynb"
   ]
  },
  {
   "cell_type": "markdown",
   "metadata": {},
   "source": [
    "Search for the pattern `ripgrep` in all files with glob patterns `*.ipynb` or `*.markdown`\n",
    "under the directory `../../..`.\n",
    "and its sub directories."
   ]
  },
  {
   "cell_type": "markdown",
   "metadata": {},
   "source": [
    "Recursively search the directory `../../..`\n",
    "for the pattern `ripgrep` in content of files with glob pattern `*.ipynb` or `*.markdown`."
   ]
  },
  {
   "cell_type": "markdown",
   "metadata": {},
   "source": [
    "## References\n",
    "\n",
    "- [ripgrep @ GitHub](https://github.com/BurntSushi/ripgrep)"
   ]
  },
  {
   "cell_type": "code",
   "execution_count": null,
   "metadata": {},
   "outputs": [],
   "source": []
  }
 ],
 "metadata": {
  "file_extension": ".py",
  "kernelspec": {
   "display_name": "Python 3 (ipykernel)",
   "language": "python",
   "name": "python3"
  },
  "language_info": {
   "codemirror_mode": {
    "name": "ipython",
    "version": 3
   },
   "file_extension": ".py",
   "mimetype": "text/x-python",
   "name": "python",
   "nbconvert_exporter": "python",
   "pygments_lexer": "ipython3",
   "version": "3.12.3"
  },
  "mimetype": "text/x-python",
  "name": "python",
  "npconvert_exporter": "python",
  "pygments_lexer": "ipython3",
  "version": 3,
  "vscode": {
   "interpreter": {
    "hash": "e7370f93d1d0cde622a1f8e1c04877d8463912d04d973331ad4851f04de6915a"
   }
  }
 },
 "nbformat": 4,
 "nbformat_minor": 4
}
