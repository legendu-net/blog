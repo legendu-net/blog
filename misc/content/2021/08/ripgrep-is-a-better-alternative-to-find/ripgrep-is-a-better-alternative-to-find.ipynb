{
 "cells": [
  {
   "cell_type": "markdown",
   "metadata": {},
   "source": [
    "- Author: Benjamin Du\n",
    "- Date: 2021-08-21 15:07:41\n",
    "- Modified: 2022-11-20 22:12:22\n",
    "- Title: The ripgrep Command Is a Better Alternative to the find Command\n",
    "- Slug: ripgrep-is-a-better-alternative-to-find\n",
    "- Category: Computer Science\n",
    "- Tags: Computer Science, programming, command, command-line, find, ripgrep, Rust, rg\n"
   ]
  },
  {
   "cell_type": "markdown",
   "metadata": {},
   "source": [
    "**Things on this page are fragmentary and immature notes/thoughts of the author. Please read with your own judgement!**"
   ]
  },
  {
   "cell_type": "markdown",
   "metadata": {},
   "source": [
    "## Installation \n",
    "\n",
    "    wajig install ripgrep \n",
    "\n",
    "Or if you use [icon](https://github.com/legendu-net/icon), \n",
    "\n",
    "    icon --sudo ripgrep -ic"
   ]
  },
  {
   "cell_type": "markdown",
   "metadata": {},
   "source": [
    "## Usage\n",
    "\n",
    "    rg pattern_to_find\n",
    "    rg pattern_to_find *.py"
   ]
  },
  {
   "cell_type": "markdown",
   "metadata": {},
   "source": []
  }
 ],
 "metadata": {
  "file_extension": ".py",
  "kernelspec": {
   "display_name": "Python 3",
   "language": "python",
   "name": "python3"
  },
  "language_info": {
   "codemirror_mode": {
    "name": "ipython",
    "version": 3
   },
   "name": "python",
   "version": "3.10.6 (main, Aug 10 2022, 11:40:04) [GCC 11.3.0]"
  },
  "mimetype": "text/x-python",
  "name": "python",
  "npconvert_exporter": "python",
  "orig_nbformat": 2,
  "pygments_lexer": "ipython3",
  "version": 3,
  "vscode": {
   "interpreter": {
    "hash": "e7370f93d1d0cde622a1f8e1c04877d8463912d04d973331ad4851f04de6915a"
   }
  }
 },
 "nbformat": 4,
 "nbformat_minor": 2
}
