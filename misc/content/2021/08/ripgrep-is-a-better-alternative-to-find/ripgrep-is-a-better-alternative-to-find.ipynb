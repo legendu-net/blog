{
 "cells": [
  {
   "cell_type": "markdown",
   "metadata": {},
   "source": [
    "- Author: Benjamin Du\n",
    "- Date: 2021-08-21 15:07:41\n",
    "- Modified: 2022-12-19 22:40:04\n",
    "- Title: The ripgrep Command Is a Better Alternative to the find Command\n",
    "- Slug: ripgrep-is-a-better-alternative-to-find\n",
    "- Category: Computer Science\n",
    "- Tags: Computer Science, programming, command, command-line, find, ripgrep, Rust, rg\n"
   ]
  },
  {
   "cell_type": "markdown",
   "metadata": {},
   "source": [
    "**Things on this page are fragmentary and immature notes/thoughts of the author. Please read with your own judgement!**"
   ]
  },
  {
   "attachments": {},
   "cell_type": "markdown",
   "metadata": {},
   "source": [
    "## Installation on Debian/Ubuntu Based Linux Distributions \n",
    "\n",
    "    wajig install ripgrep \n",
    "    \n",
    "## Installation on macOS\n",
    "\n",
    "    brew install ripgrep \n"
   ]
  },
  {
   "attachments": {},
   "cell_type": "markdown",
   "metadata": {},
   "source": [
    "## Usage"
   ]
  },
  {
   "cell_type": "code",
   "execution_count": 5,
   "metadata": {},
   "outputs": [
    {
     "name": "stdout",
     "output_type": "stream",
     "text": [
      "\u001b[0m\u001b[35mripgrep-is-a-better-alternative-to-find.ipynb\u001b[0m\n",
      "\u001b[0m\u001b[32m10\u001b[0m:    \"- Title: The \u001b[0m\u001b[1m\u001b[31mripgrep\u001b[0m Command Is a Better Alternative to the find Command\\n\",\n",
      "\u001b[0m\u001b[32m11\u001b[0m:    \"- Slug: \u001b[0m\u001b[1m\u001b[31mripgrep\u001b[0m-is-a-better-alternative-to-find\\n\",\n",
      "\u001b[0m\u001b[32m13\u001b[0m:    \"- Tags: Computer Science, programming, command, command-line, find, \u001b[0m\u001b[1m\u001b[31mripgrep\u001b[0m, Rust, rg\\n\"\n",
      "\u001b[0m\u001b[32m30\u001b[0m:    \"    wajig install \u001b[0m\u001b[1m\u001b[31mripgrep\u001b[0m \\n\",\n",
      "\u001b[0m\u001b[32m34\u001b[0m:    \"    brew install \u001b[0m\u001b[1m\u001b[31mripgrep\u001b[0m \\n\"\n",
      "\u001b[0m\u001b[32m56\u001b[0m:      \"\\u001b[0m\\u001b[35m\u001b[0m\u001b[1m\u001b[31mripgrep\u001b[0m-is-a-better-alternative-to-find.ipynb\\u001b[0m\\n\",\n",
      "\u001b[0m\u001b[32m57\u001b[0m:      \"\\u001b[0m\\u001b[32m10\\u001b[0m:    \\\"- Title: The \\u001b[0m\\u001b[1m\\u001b[31m\u001b[0m\u001b[1m\u001b[31mripgrep\u001b[0m\\u001b[0m Command Is a Better Alternative to the find Command\\\\n\\\",\\n\",\n",
      "\u001b[0m\u001b[32m58\u001b[0m:      \"\\u001b[0m\\u001b[32m11\\u001b[0m:    \\\"- Slug: \\u001b[0m\\u001b[1m\\u001b[31m\u001b[0m\u001b[1m\u001b[31mripgrep\u001b[0m\\u001b[0m-is-a-better-alternative-to-find\\\\n\\\",\\n\",\n",
      "\u001b[0m\u001b[32m59\u001b[0m:      \"\\u001b[0m\\u001b[32m13\\u001b[0m:    \\\"- Tags: Computer Science, programming, command, command-line, find, \\u001b[0m\\u001b[1m\\u001b[31m\u001b[0m\u001b[1m\u001b[31mripgrep\u001b[0m\\u001b[0m, Rust, rg\\\\n\\\"\\n\",\n",
      "\u001b[0m\u001b[32m60\u001b[0m:      \"\\u001b[0m\\u001b[32m30\\u001b[0m:    \\\"    wajig install \\u001b[0m\\u001b[1m\\u001b[31m\u001b[0m\u001b[1m\u001b[31mripgrep\u001b[0m\\u001b[0m \\\\n\\\",\\n\",\n",
      "\u001b[0m\u001b[32m61\u001b[0m:      \"\\u001b[0m\\u001b[32m34\\u001b[0m:    \\\"    brew install \\u001b[0m\\u001b[1m\\u001b[31m\u001b[0m\u001b[1m\u001b[31mripgrep\u001b[0m\\u001b[0m \\\\n\\\"\\n\",\n",
      "\u001b[0m\u001b[32m62\u001b[0m:      \"\\u001b[0m\\u001b[32m53\\u001b[0m:    \\\"rg \\u001b[0m\\u001b[1m\\u001b[31m\u001b[0m\u001b[1m\u001b[31mripgrep\u001b[0m\\u001b[0m\\\"\\n\",\n",
      "\u001b[0m\u001b[32m63\u001b[0m:      \"\\u001b[0m\\u001b[32m63\\u001b[0m:    \\\"- [\\u001b[0m\\u001b[1m\\u001b[31m\u001b[0m\u001b[1m\u001b[31mripgrep\u001b[0m\\u001b[0m @ GitHub](https://github.com/BurntSushi/\\u001b[0m\\u001b[1m\\u001b[31m\u001b[0m\u001b[1m\u001b[31mripgrep\u001b[0m\\u001b[0m)\\\"\\n\"\n",
      "\u001b[0m\u001b[32m68\u001b[0m:    \"rg \u001b[0m\u001b[1m\u001b[31mripgrep\u001b[0m\"\n",
      "\u001b[0m\u001b[32m85\u001b[0m:    \"rg \u001b[0m\u001b[1m\u001b[31mripgrep\u001b[0m *.markd\"\n",
      "\u001b[0m\u001b[32m95\u001b[0m:    \"- [\u001b[0m\u001b[1m\u001b[31mripgrep\u001b[0m @ GitHub](https://github.com/BurntSushi/\u001b[0m\u001b[1m\u001b[31mripgrep\u001b[0m)\"\n"
     ]
    }
   ],
   "source": [
    "rg ripgrep"
   ]
  },
  {
   "cell_type": "code",
   "execution_count": 6,
   "metadata": {},
   "outputs": [
    {
     "name": "stdout",
     "output_type": "stream",
     "text": [
      "\u001b[0m\u001b[32m10\u001b[0m:    \"- Title: The \u001b[0m\u001b[1m\u001b[31mripgrep\u001b[0m Command Is a Better Alternative to the find Command\\n\",\n",
      "\u001b[0m\u001b[32m11\u001b[0m:    \"- Slug: \u001b[0m\u001b[1m\u001b[31mripgrep\u001b[0m-is-a-better-alternative-to-find\\n\",\n",
      "\u001b[0m\u001b[32m13\u001b[0m:    \"- Tags: Computer Science, programming, command, command-line, find, \u001b[0m\u001b[1m\u001b[31mripgrep\u001b[0m, Rust, rg\\n\"\n",
      "\u001b[0m\u001b[32m30\u001b[0m:    \"    wajig install \u001b[0m\u001b[1m\u001b[31mripgrep\u001b[0m \\n\",\n",
      "\u001b[0m\u001b[32m34\u001b[0m:    \"    brew install \u001b[0m\u001b[1m\u001b[31mripgrep\u001b[0m \\n\"\n",
      "\u001b[0m\u001b[32m56\u001b[0m:      \"\\u001b[0m\\u001b[35m\u001b[0m\u001b[1m\u001b[31mripgrep\u001b[0m-is-a-better-alternative-to-find.ipynb\\u001b[0m\\n\",\n",
      "\u001b[0m\u001b[32m57\u001b[0m:      \"\\u001b[0m\\u001b[32m10\\u001b[0m:    \\\"- Title: The \\u001b[0m\\u001b[1m\\u001b[31m\u001b[0m\u001b[1m\u001b[31mripgrep\u001b[0m\\u001b[0m Command Is a Better Alternative to the find Command\\\\n\\\",\\n\",\n",
      "\u001b[0m\u001b[32m58\u001b[0m:      \"\\u001b[0m\\u001b[32m11\\u001b[0m:    \\\"- Slug: \\u001b[0m\\u001b[1m\\u001b[31m\u001b[0m\u001b[1m\u001b[31mripgrep\u001b[0m\\u001b[0m-is-a-better-alternative-to-find\\\\n\\\",\\n\",\n",
      "\u001b[0m\u001b[32m59\u001b[0m:      \"\\u001b[0m\\u001b[32m13\\u001b[0m:    \\\"- Tags: Computer Science, programming, command, command-line, find, \\u001b[0m\\u001b[1m\\u001b[31m\u001b[0m\u001b[1m\u001b[31mripgrep\u001b[0m\\u001b[0m, Rust, rg\\\\n\\\"\\n\",\n",
      "\u001b[0m\u001b[32m60\u001b[0m:      \"\\u001b[0m\\u001b[32m30\\u001b[0m:    \\\"    wajig install \\u001b[0m\\u001b[1m\\u001b[31m\u001b[0m\u001b[1m\u001b[31mripgrep\u001b[0m\\u001b[0m \\\\n\\\",\\n\",\n",
      "\u001b[0m\u001b[32m61\u001b[0m:      \"\\u001b[0m\\u001b[32m34\\u001b[0m:    \\\"    brew install \\u001b[0m\\u001b[1m\\u001b[31m\u001b[0m\u001b[1m\u001b[31mripgrep\u001b[0m\\u001b[0m \\\\n\\\"\\n\",\n",
      "\u001b[0m\u001b[32m62\u001b[0m:      \"\\u001b[0m\\u001b[32m56\\u001b[0m:      \\\"\\\\u001b[0m\\\\u001b[35m\\u001b[0m\\u001b[1m\\u001b[31m\u001b[0m\u001b[1m\u001b[31mripgrep\u001b[0m\\u001b[0m-is-a-better-alternative-to-find.ipynb\\\\u001b[0m\\\\n\\\",\\n\",\n",
      "\u001b[0m\u001b[32m63\u001b[0m:      \"\\u001b[0m\\u001b[32m57\\u001b[0m:      \\\"\\\\u001b[0m\\\\u001b[32m10\\\\u001b[0m:    \\\\\\\"- Title: The \\\\u001b[0m\\\\u001b[1m\\\\u001b[31m\\u001b[0m\\u001b[1m\\u001b[31m\u001b[0m\u001b[1m\u001b[31mripgrep\u001b[0m\\u001b[0m\\\\u001b[0m Command Is a Better Alternative to the find Command\\\\\\\\n\\\\\\\",\\\\n\\\",\\n\",\n",
      "\u001b[0m\u001b[32m64\u001b[0m:      \"\\u001b[0m\\u001b[32m58\\u001b[0m:      \\\"\\\\u001b[0m\\\\u001b[32m11\\\\u001b[0m:    \\\\\\\"- Slug: \\\\u001b[0m\\\\u001b[1m\\\\u001b[31m\\u001b[0m\\u001b[1m\\u001b[31m\u001b[0m\u001b[1m\u001b[31mripgrep\u001b[0m\\u001b[0m\\\\u001b[0m-is-a-better-alternative-to-find\\\\\\\\n\\\\\\\",\\\\n\\\",\\n\",\n",
      "\u001b[0m\u001b[32m65\u001b[0m:      \"\\u001b[0m\\u001b[32m59\\u001b[0m:      \\\"\\\\u001b[0m\\\\u001b[32m13\\\\u001b[0m:    \\\\\\\"- Tags: Computer Science, programming, command, command-line, find, \\\\u001b[0m\\\\u001b[1m\\\\u001b[31m\\u001b[0m\\u001b[1m\\u001b[31m\u001b[0m\u001b[1m\u001b[31mripgrep\u001b[0m\\u001b[0m\\\\u001b[0m, Rust, rg\\\\\\\\n\\\\\\\"\\\\n\\\",\\n\",\n",
      "\u001b[0m\u001b[32m66\u001b[0m:      \"\\u001b[0m\\u001b[32m60\\u001b[0m:      \\\"\\\\u001b[0m\\\\u001b[32m30\\\\u001b[0m:    \\\\\\\"    wajig install \\\\u001b[0m\\\\u001b[1m\\\\u001b[31m\\u001b[0m\\u001b[1m\\u001b[31m\u001b[0m\u001b[1m\u001b[31mripgrep\u001b[0m\\u001b[0m\\\\u001b[0m \\\\\\\\n\\\\\\\",\\\\n\\\",\\n\",\n",
      "\u001b[0m\u001b[32m67\u001b[0m:      \"\\u001b[0m\\u001b[32m61\\u001b[0m:      \\\"\\\\u001b[0m\\\\u001b[32m34\\\\u001b[0m:    \\\\\\\"    brew install \\\\u001b[0m\\\\u001b[1m\\\\u001b[31m\\u001b[0m\\u001b[1m\\u001b[31m\u001b[0m\u001b[1m\u001b[31mripgrep\u001b[0m\\u001b[0m\\\\u001b[0m \\\\\\\\n\\\\\\\"\\\\n\\\",\\n\",\n",
      "\u001b[0m\u001b[32m68\u001b[0m:      \"\\u001b[0m\\u001b[32m62\\u001b[0m:      \\\"\\\\u001b[0m\\\\u001b[32m53\\\\u001b[0m:    \\\\\\\"rg \\\\u001b[0m\\\\u001b[1m\\\\u001b[31m\\u001b[0m\\u001b[1m\\u001b[31m\u001b[0m\u001b[1m\u001b[31mripgrep\u001b[0m\\u001b[0m\\\\u001b[0m\\\\\\\"\\\\n\\\",\\n\",\n",
      "\u001b[0m\u001b[32m69\u001b[0m:      \"\\u001b[0m\\u001b[32m63\\u001b[0m:      \\\"\\\\u001b[0m\\\\u001b[32m63\\\\u001b[0m:    \\\\\\\"- [\\\\u001b[0m\\\\u001b[1m\\\\u001b[31m\\u001b[0m\\u001b[1m\\u001b[31m\u001b[0m\u001b[1m\u001b[31mripgrep\u001b[0m\\u001b[0m\\\\u001b[0m @ GitHub](https://github.com/BurntSushi/\\\\u001b[0m\\\\u001b[1m\\\\u001b[31m\\u001b[0m\\u001b[1m\\u001b[31m\u001b[0m\u001b[1m\u001b[31mripgrep\u001b[0m\\u001b[0m\\\\u001b[0m)\\\\\\\"\\\\n\\\"\\n\",\n",
      "\u001b[0m\u001b[32m70\u001b[0m:      \"\\u001b[0m\\u001b[32m68\\u001b[0m:    \\\"rg \\u001b[0m\\u001b[1m\\u001b[31m\u001b[0m\u001b[1m\u001b[31mripgrep\u001b[0m\\u001b[0m\\\"\\n\",\n",
      "\u001b[0m\u001b[32m71\u001b[0m:      \"\\u001b[0m\\u001b[32m85\\u001b[0m:    \\\"rg \\u001b[0m\\u001b[1m\\u001b[31m\u001b[0m\u001b[1m\u001b[31mripgrep\u001b[0m\\u001b[0m *.markd\\\"\\n\",\n",
      "\u001b[0m\u001b[32m72\u001b[0m:      \"\\u001b[0m\\u001b[32m95\\u001b[0m:    \\\"- [\\u001b[0m\\u001b[1m\\u001b[31m\u001b[0m\u001b[1m\u001b[31mripgrep\u001b[0m\\u001b[0m @ GitHub](https://github.com/BurntSushi/\\u001b[0m\\u001b[1m\\u001b[31m\u001b[0m\u001b[1m\u001b[31mripgrep\u001b[0m\\u001b[0m)\\\"\\n\"\n",
      "\u001b[0m\u001b[32m77\u001b[0m:    \"rg \u001b[0m\u001b[1m\u001b[31mripgrep\u001b[0m\"\n",
      "\u001b[0m\u001b[32m94\u001b[0m:    \"rg \u001b[0m\u001b[1m\u001b[31mripgrep\u001b[0m *.markd\"\n",
      "\u001b[0m\u001b[32m104\u001b[0m:    \"- [\u001b[0m\u001b[1m\u001b[31mripgrep\u001b[0m @ GitHub](https://github.com/BurntSushi/\u001b[0m\u001b[1m\u001b[31mripgrep\u001b[0m)\"\n"
     ]
    }
   ],
   "source": [
    "rg ripgrep *.ipynb"
   ]
  },
  {
   "attachments": {},
   "cell_type": "markdown",
   "metadata": {},
   "source": [
    "## References\n",
    "\n",
    "- [ripgrep @ GitHub](https://github.com/BurntSushi/ripgrep)"
   ]
  }
 ],
 "metadata": {
  "file_extension": ".py",
  "kernelspec": {
   "display_name": "Python 3",
   "language": "python",
   "name": "python3"
  },
  "language_info": {
   "codemirror_mode": {
    "name": "ipython",
    "version": 3
   },
   "file_extension": ".py",
   "mimetype": "text/x-python",
   "name": "python",
   "nbconvert_exporter": "python",
   "pygments_lexer": "ipython3",
   "version": "3.10.6"
  },
  "mimetype": "text/x-python",
  "name": "python",
  "npconvert_exporter": "python",
  "orig_nbformat": 2,
  "pygments_lexer": "ipython3",
  "version": 3,
  "vscode": {
   "interpreter": {
    "hash": "e7370f93d1d0cde622a1f8e1c04877d8463912d04d973331ad4851f04de6915a"
   }
  }
 },
 "nbformat": 4,
 "nbformat_minor": 2
}