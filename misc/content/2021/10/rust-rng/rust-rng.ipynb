{
 "cells": [
  {
   "cell_type": "markdown",
   "metadata": {},
   "source": [
    "- Author: Benjamin Du\n",
    "- Date: 2021-10-13 09:21:04\n",
    "- Modified: 2023-07-05 10:07:13\n",
    "- Title: Generating Random Numbers in Rust\n",
    "- Slug: rust-rng\n",
    "- Category: Computer Science\n",
    "- Tags: Computer Science, programming, Rust, rand, random, RNG, PRNG, random number generator, Xoshiro256PlusPlus, ChaCha"
   ]
  },
  {
   "cell_type": "markdown",
   "metadata": {},
   "source": [
    "**Things on this page are fragmentary and immature notes/thoughts of the author. Please read with your own judgement!**"
   ]
  },
  {
   "cell_type": "markdown",
   "metadata": {},
   "source": [
    "## Comments \n",
    "\n",
    "1. [rand::rngs::StdRng](https://docs.rs/rand/latest/rand/rngs/struct.StdRng.html)\n",
    "    (currently, ChaCha block cipher with 12 rounds)\n",
    "    is the default recommended RNG \n",
    "    which is a trade off among speed, quality and security. \n",
    "    While \n",
    "    [rand::rngs::StdRng](https://docs.rs/rand/latest/rand/rngs/struct.StdRng.html)\n",
    "    is a good default choice as a secure PRNG,\n",
    "    it might be too slow for statistical simulations\n",
    "    where security is not of a critical concern.\n",
    "    [rand::rngs::SmallRng](https://docs.rs/rand/latest/rand/rngs/struct.SmallRng.html)\n",
    "    (currently, Xoshiro256PlusPlus on 64-bit platforms and Xoshiro128PlusPlus on 32-bit platforms)\n",
    "    is a faster alternative for statistical simulations.\n",
    "    Note that \n",
    "    [rand::rngs::SmallRng](https://docs.rs/rand/latest/rand/rngs/struct.SmallRng.html)\n",
    "    requires the feature `small_rng`!\n",
    "    \n",
    "2. [ThreadRng](https://docs.rs/rand/latest/rand/rngs/struct.ThreadRng.html)\n",
    "    (obtained by calling `rand::thread_rng()`)\n",
    "    is the default recommended RNG for parallel RNGs.\n",
    "    It is based on\n",
    "    [rand::rngs::StdRng](https://docs.rs/rand/latest/rand/rngs/struct.StdRng.html)\n",
    "    and leverages thread-local storage.\n",
    "    See \n",
    "    [Parallel RNGs With Rayon in Rust](https://www.legendu.net/misc/blog/parallel-RNGs-with-rayon-in-rust)\n",
    "    for more discussions.\n",
    "    \n",
    "3. [Xoshiro256PlusPlus](https://docs.rs/rand_xoshiro/latest/rand_xoshiro/struct.Xoshiro256PlusPlus.html)\n",
    "    is considered the state-of-the-art (SOTA) PRNG for non-crypographic use cases.\n",
    "    Specially,\n",
    "    [Xoshiro256PlusPlus](https://docs.rs/rand_xoshiro/0.6.0/rand_xoshiro/struct.Xoshiro256PlusPlus.html)\n",
    "    supports jumping ahead,\n",
    "    which means that it can be leveraged to implement a fast and **correct** parallel PRNG.\n",
    "    \n",
    "4. [getrandom](https://crates.io/crates/getrandom)\n",
    "    is a small cross-platform library for retrieving random data from system source.\n",
    "    "
   ]
  },
  {
   "cell_type": "code",
   "execution_count": 2,
   "metadata": {
    "tags": []
   },
   "outputs": [],
   "source": [
    ":dep rand = { version = \"0.8.5\", features = [ \"small_rng\" ] }"
   ]
  },
  {
   "cell_type": "code",
   "execution_count": 3,
   "metadata": {
    "tags": []
   },
   "outputs": [],
   "source": [
    ":dep rand_xoshiro = \"0.6.0\""
   ]
  },
  {
   "cell_type": "code",
   "execution_count": 4,
   "metadata": {
    "tags": []
   },
   "outputs": [],
   "source": [
    "use rand::prelude::*;"
   ]
  },
  {
   "cell_type": "code",
   "execution_count": 5,
   "metadata": {
    "tags": []
   },
   "outputs": [
    {
     "data": {
      "text/plain": [
       "0.5377847402315655"
      ]
     },
     "execution_count": 5,
     "metadata": {},
     "output_type": "execute_result"
    }
   ],
   "source": [
    "let mut rng = rand::rngs::StdRng::seed_from_u64(13);\n",
    "rng.gen::<f64>()"
   ]
  },
  {
   "cell_type": "code",
   "execution_count": 6,
   "metadata": {
    "tags": []
   },
   "outputs": [
    {
     "data": {
      "text/plain": [
       "0.4337581964978048"
      ]
     },
     "execution_count": 6,
     "metadata": {},
     "output_type": "execute_result"
    }
   ],
   "source": [
    "let mut rng2 = rand::rngs::SmallRng::seed_from_u64(97);\n",
    "rng2.gen::<f64>()"
   ]
  },
  {
   "cell_type": "markdown",
   "metadata": {},
   "source": [
    "### Jump Xoshiro256PlusPlus Ahead"
   ]
  },
  {
   "cell_type": "code",
   "execution_count": null,
   "metadata": {},
   "outputs": [
    {
     "data": {
      "text/plain": [
       "Xoshiro256PlusPlus { s: [16294208416658607535, 7960286522194355700, 487617019471545679, 17909611376780542444] }"
      ]
     },
     "execution_count": 34,
     "metadata": {},
     "output_type": "execute_result"
    }
   ],
   "source": [
    "use rand_xoshiro::Xoshiro256PlusPlus;\n",
    "\n",
    "let mut rng1 = Xoshiro256PlusPlus::seed_from_u64(12397);\n",
    "let mut rng2 = rng1.clone();\n",
    "rng2.jump();\n",
    "let mut rng3 = rng2.clone();\n",
    "rng3.jump();"
   ]
  },
  {
   "cell_type": "markdown",
   "metadata": {},
   "source": [
    "## [gen_bool](https://docs.rs/rand/0.8.4/rand/trait.Rng.html#method.gen_bool)"
   ]
  },
  {
   "cell_type": "markdown",
   "metadata": {},
   "source": [
    "## [gen_ratio](https://docs.rs/rand/0.8.4/rand/trait.Rng.html#method.gen_ratio)"
   ]
  },
  {
   "cell_type": "markdown",
   "metadata": {},
   "source": [
    "## [gen_range](https://docs.rs/rand/0.8.4/rand/trait.Rng.html#method.gen_range)"
   ]
  },
  {
   "cell_type": "markdown",
   "metadata": {},
   "source": [
    "## [sample](https://docs.rs/rand/0.8.4/rand/trait.Rng.html#method.sample)\n",
    "\n",
    "The most generic way to sample a value from a specific distribution \n",
    "is to use the method `rng.sample`.\n"
   ]
  },
  {
   "cell_type": "markdown",
   "metadata": {},
   "source": [
    "### Sample from a Discrete Uniform Distribution\n",
    "\n",
    "Basically you define a discrete uniform distribution \n",
    "and pass it to the method `rng.sample`.\n",
    "\n",
    "Question: what is difference among\n",
    "`Uniform::new(0u64, 10)`, \n",
    "`Uniform::new(0u32, 10)`, \n",
    "and \n",
    "`Uniform::new(0u16, 10)`?"
   ]
  },
  {
   "cell_type": "code",
   "execution_count": 19,
   "metadata": {},
   "outputs": [
    {
     "data": {
      "text/plain": [
       "11"
      ]
     },
     "execution_count": 19,
     "metadata": {},
     "output_type": "execute_result"
    }
   ],
   "source": [
    "use rand::distributions::Uniform;\n",
    "\n",
    "rng.sample(Uniform::new(10u32, 15))"
   ]
  },
  {
   "cell_type": "code",
   "execution_count": 23,
   "metadata": {},
   "outputs": [
    {
     "data": {
      "text/plain": [
       "12"
      ]
     },
     "execution_count": 23,
     "metadata": {},
     "output_type": "execute_result"
    }
   ],
   "source": [
    "use rand::distributions::Uniform;\n",
    "\n",
    "rng.sample(Uniform::new(10u16, 15))"
   ]
  },
  {
   "cell_type": "code",
   "execution_count": 21,
   "metadata": {},
   "outputs": [
    {
     "data": {
      "text/plain": [
       "10"
      ]
     },
     "execution_count": 21,
     "metadata": {},
     "output_type": "execute_result"
    }
   ],
   "source": [
    "use rand::distributions::Uniform;\n",
    "\n",
    "rng.sample(Uniform::new(10u32, 11))"
   ]
  },
  {
   "cell_type": "markdown",
   "metadata": {},
   "source": [
    "## Random Permutation \n",
    "\n",
    "To generate a random permutation, \n",
    "you have to use the method \n",
    "[rand::seq::index::sample](https://docs.rs/rand/0.8.4/rand/seq/index/fn.sample.html)\n",
    ".\n",
    "Notice that the returned result is a\n",
    "[IndexVec](https://docs.rs/rand/0.8.4/rand/seq/index/enum.IndexVec.html)\n",
    "rather than an iterator.\n",
    "\n",
    "1. IndexVec is a thin Enum wrapper around Vec.\n",
    "2. IndexVec does NOT implement `std:ops::Index`\n",
    "    even though it has a `index` method.\n",
    "3. IndexVec can be converted to a Vec using the method `into_vec`."
   ]
  },
  {
   "cell_type": "code",
   "execution_count": 6,
   "metadata": {},
   "outputs": [
    {
     "data": {
      "text/plain": [
       "U32([1, 9, 0])"
      ]
     },
     "execution_count": 6,
     "metadata": {},
     "output_type": "execute_result"
    }
   ],
   "source": [
    "let iv = rand::seq::index::sample(&mut rng, 10, 3);\n",
    "iv"
   ]
  },
  {
   "cell_type": "markdown",
   "metadata": {},
   "source": [
    "IndexVec does not support brackets for accessing elements."
   ]
  },
  {
   "cell_type": "code",
   "execution_count": 7,
   "metadata": {},
   "outputs": [
    {
     "ename": "Error",
     "evalue": "cannot index into a value of type `IndexVec`",
     "output_type": "error",
     "traceback": [
      "",
      "cannot index into a value of type `IndexVec`"
     ]
    }
   ],
   "source": [
    "iv[0]"
   ]
  },
  {
   "cell_type": "markdown",
   "metadata": {},
   "source": [
    "You can access elements of an IndexVec using the `index` method."
   ]
  },
  {
   "cell_type": "code",
   "execution_count": 10,
   "metadata": {},
   "outputs": [
    {
     "data": {
      "text/plain": [
       "1"
      ]
     },
     "execution_count": 10,
     "metadata": {},
     "output_type": "execute_result"
    }
   ],
   "source": [
    "iv.index(0)"
   ]
  },
  {
   "cell_type": "code",
   "execution_count": 32,
   "metadata": {},
   "outputs": [
    {
     "data": {
      "text/plain": [
       "[7, 0, 2]"
      ]
     },
     "execution_count": 32,
     "metadata": {},
     "output_type": "execute_result"
    }
   ],
   "source": [
    "rand::seq::index::sample(&mut rng, 10, 3).into_vec()"
   ]
  },
  {
   "cell_type": "markdown",
   "metadata": {},
   "source": [
    "## Shuffle a Vector "
   ]
  },
  {
   "cell_type": "code",
   "execution_count": 8,
   "metadata": {},
   "outputs": [],
   "source": [
    "let mut nums: Vec<i32> = (1..100).collect();\n",
    "nums.shuffle(&mut rng);"
   ]
  },
  {
   "cell_type": "code",
   "execution_count": 9,
   "metadata": {},
   "outputs": [
    {
     "name": "stdout",
     "output_type": "stream",
     "text": [
      "[97, 77, 51, 29, 23, 96, 7, 44, 99, 79, 9, 67, 72, 37, 13, 86, 6, 65, 74, 60, 58, 28, 57, 35, 10, 76, 92, 50, 56, 98, 19, 36, 88, 30, 48, 66, 90, 45, 25, 43, 38, 11, 81, 40, 18, 95, 49, 85, 31, 21, 27, 20, 15, 17, 24, 54, 84, 94, 62, 59, 69, 3, 2, 8, 4, 87, 61, 73, 5, 1, 26, 22, 68, 33, 91, 82, 55, 64, 32, 14, 93, 71, 42, 63, 12, 70, 53, 47, 52, 46, 80, 41, 34, 78, 83, 75, 89, 16, 39]\n"
     ]
    },
    {
     "data": {
      "text/plain": [
       "()"
      ]
     },
     "execution_count": 9,
     "metadata": {},
     "output_type": "execute_result"
    }
   ],
   "source": [
    "println!{\"{:?}\", nums}"
   ]
  },
  {
   "cell_type": "markdown",
   "metadata": {},
   "source": [
    "## [sample_iter](https://docs.rs/rand/0.8.4/rand/trait.Rng.html#method.sample_iter)"
   ]
  },
  {
   "cell_type": "markdown",
   "metadata": {},
   "source": []
  },
  {
   "cell_type": "markdown",
   "metadata": {},
   "source": [
    "## Parallel RNGs\n",
    "\n",
    "https://crates.io/crates/rayon\n",
    "supports parallel RNGs.\n",
    "Xoshiro256PlusPlus \n",
    "can be used to construct parallel RNGs \n",
    "as it supports jumping ahead."
   ]
  },
  {
   "cell_type": "code",
   "execution_count": null,
   "metadata": {},
   "outputs": [],
   "source": []
  },
  {
   "cell_type": "markdown",
   "metadata": {},
   "source": [
    "## References \n",
    "\n",
    "- [Parallel Rng With Rayon in Rust]( https://www.legendu.net/misc/blog/parallel-RNG-with-rayon-in-rust )\n",
    "\n",
    "- [rust-random @ GitHub](https://github.com/rust-random)\n",
    "\n",
    "- [The Rust Rand Book](https://rust-random.github.io/book/)\n",
    "\n",
    "- [Crate - rand](https://crates.io/crates/rand)\n",
    "\n",
    "- [How do you change the generator with the Rand crate?](https://stackoverflow.com/questions/60386647/how-do-you-change-the-generator-with-the-rand-crate)"
   ]
  },
  {
   "cell_type": "code",
   "execution_count": null,
   "metadata": {},
   "outputs": [],
   "source": []
  }
 ],
 "metadata": {
  "file_extension": ".py",
  "kernelspec": {
   "display_name": "Rust",
   "language": "rust",
   "name": "rust"
  },
  "language_info": {
   "codemirror_mode": "rust",
   "file_extension": ".rs",
   "mimetype": "text/rust",
   "name": "Rust",
   "pygment_lexer": "rust",
   "version": ""
  },
  "mimetype": "text/x-python",
  "name": "python",
  "npconvert_exporter": "python",
  "pygments_lexer": "ipython3",
  "version": 3
 },
 "nbformat": 4,
 "nbformat_minor": 4
}
