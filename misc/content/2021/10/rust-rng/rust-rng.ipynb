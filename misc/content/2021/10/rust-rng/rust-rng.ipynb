{
 "cells": [
  {
   "cell_type": "markdown",
   "source": [
    "- Author: Benjamin Du\n",
    "- Date: 2021-10-13 09:21:04\n",
    "- Modified: 2021-10-13 20:39:33\n",
    "- Title: Rust a Generating Random Numbers in Rust\n",
    "- Slug: rust-a-generating-random-numbers-in-rust\n",
    "- Category: Computer Science\n",
    "- Tags: Computer Science, programming, Rust, rand, random, RNG, PRNG, random number generator, Xoshiro256PlusPlus, ChaCha\n"
   ],
   "metadata": {}
  },
  {
   "cell_type": "markdown",
   "source": [
    "**Things on this page are fragmentary and immature notes/thoughts of the author. Please read with your own judgement!**"
   ],
   "metadata": {}
  },
  {
   "cell_type": "markdown",
   "source": [
    "## Comments \n",
    "\n",
    "1. The recommended way [thread_rng](https://docs.rs/rand/0.8.4/rand/fn.thread_rng.html) uses the ChaCha block cipher with 12 rounds\n",
    "    which is a trade off among speed, quality and security. \n",
    "    It is a good default choice (especially when you need a secure PRNG for crypto purpose).\n",
    "    However, \n",
    "    chacha might not be a good choice for statistical simulation purposes.\n",
    "    PRNGs implemented in the `rand` crate are summarized at\n",
    "    [rand - PRNGs](https://rust-random.github.io/book/guide-rngs.html)\n",
    "    .\n",
    "    According to the comparison,\n",
    "    [Xoshiro256PlusPlus](https://docs.rs/rand_xoshiro/0.6.0/rand_xoshiro/struct.Xoshiro256PlusPlus.html)\n",
    "    is a good PRNG for statistical simulation purposes.\n",
    "    .\n",
    "    Note that\n",
    "    [Xoshiro256PlusPlus](https://docs.rs/rand_xoshiro/0.6.0/rand_xoshiro/struct.Xoshiro256PlusPlus.html)\n",
    "    supports jumping ahead,\n",
    "    which means that you can use it to implement a fast and **correct** parallel PRNG."
   ],
   "metadata": {}
  },
  {
   "cell_type": "markdown",
   "source": [
    "## The Default RNG\n",
    "\n",
    "The recommended way to using RNG in `rand`\n",
    "is to call the function `rand::thread_rng()` to get an instance of the underlying RNG (ChaCha). \n",
    "You can then use the RNG to generate random numbers."
   ],
   "metadata": {}
  },
  {
   "cell_type": "code",
   "execution_count": 2,
   "source": [
    ":dep rand = \"0.8.4\""
   ],
   "outputs": [],
   "metadata": {}
  },
  {
   "cell_type": "code",
   "execution_count": 5,
   "source": [
    "use rand::prelude::*;"
   ],
   "outputs": [],
   "metadata": {}
  },
  {
   "cell_type": "code",
   "execution_count": 7,
   "source": [
    "let mut rng = rand::thread_rng();\n",
    "rng.gen::<f64>()"
   ],
   "outputs": [
    {
     "output_type": "execute_result",
     "data": {
      "text/plain": [
       "0.6903579270940045"
      ]
     },
     "metadata": {},
     "execution_count": 7
    }
   ],
   "metadata": {}
  },
  {
   "cell_type": "markdown",
   "source": [
    "## [Xoshiro256PlusPlus](https://docs.rs/rand_xoshiro/0.6.0/rand_xoshiro/struct.Xoshiro256PlusPlus.html)\n",
    "\n",
    "The Xoshiro256PlusPlus RNG is available in the crate\n",
    "[random_xoshiro](https://crates.io/crates/rand_xoshiro)\n",
    "."
   ],
   "metadata": {}
  },
  {
   "cell_type": "code",
   "execution_count": 14,
   "source": [
    ":dep rand_xoshiro = \"0.6.0\""
   ],
   "outputs": [],
   "metadata": {}
  },
  {
   "cell_type": "code",
   "execution_count": 34,
   "source": [
    "use rand_xoshiro::Xoshiro256PlusPlus;\n",
    "\n",
    "let mut rng = Xoshiro256PlusPlus::seed_from_u64(0);\n",
    "rng"
   ],
   "outputs": [
    {
     "output_type": "execute_result",
     "data": {
      "text/plain": [
       "Xoshiro256PlusPlus { s: [16294208416658607535, 7960286522194355700, 487617019471545679, 17909611376780542444] }"
      ]
     },
     "metadata": {},
     "execution_count": 34
    }
   ],
   "metadata": {}
  },
  {
   "cell_type": "code",
   "execution_count": 16,
   "source": [
    "rng.gen::<f64>()"
   ],
   "outputs": [
    {
     "output_type": "execute_result",
     "data": {
      "text/plain": [
       "0.3245752680314067"
      ]
     },
     "metadata": {},
     "execution_count": 16
    }
   ],
   "metadata": {}
  },
  {
   "cell_type": "markdown",
   "source": [
    "### Jump Xoshiro256PlusPlus Ahead"
   ],
   "metadata": {}
  },
  {
   "cell_type": "code",
   "execution_count": 17,
   "source": [
    "let mut rng2 = rng.clone();\n",
    "rng2.jump();\n",
    "let mut rng3 = rng2.clone();\n",
    "rng3.jump();"
   ],
   "outputs": [],
   "metadata": {}
  },
  {
   "cell_type": "markdown",
   "source": [
    "## [gen_bool](https://docs.rs/rand/0.8.4/rand/trait.Rng.html#method.gen_bool)"
   ],
   "metadata": {}
  },
  {
   "cell_type": "markdown",
   "source": [
    "## [gen_ratio](https://docs.rs/rand/0.8.4/rand/trait.Rng.html#method.gen_ratio)"
   ],
   "metadata": {}
  },
  {
   "cell_type": "markdown",
   "source": [
    "## [gen_range](https://docs.rs/rand/0.8.4/rand/trait.Rng.html#method.gen_range)"
   ],
   "metadata": {}
  },
  {
   "cell_type": "markdown",
   "source": [
    "## [sample](https://docs.rs/rand/0.8.4/rand/trait.Rng.html#method.sample)\n",
    "\n",
    "The most generic way to sample a value from a specific distribution \n",
    "is to use the method `rng.sample`.\n"
   ],
   "metadata": {}
  },
  {
   "cell_type": "code",
   "execution_count": 18,
   "source": [
    "use rand_xoshiro::Xoshiro256PlusPlus;\n",
    "\n",
    "let mut rng = Xoshiro256PlusPlus::seed_from_u64(0);\n",
    "rng.gen::<f64>()"
   ],
   "outputs": [
    {
     "output_type": "execute_result",
     "data": {
      "text/plain": [
       "0.3245752680314067"
      ]
     },
     "metadata": {},
     "execution_count": 18
    }
   ],
   "metadata": {}
  },
  {
   "cell_type": "markdown",
   "source": [
    "### Sample from a Discrete Uniform Distribution\n",
    "\n",
    "Basically you define a discrete uniform distribution \n",
    "and pass it to the method `rng.sample`.\n",
    "\n",
    "Question: what is difference among\n",
    "`Uniform::new(0u64, 10)`, \n",
    "`Uniform::new(0u32, 10)`, \n",
    "and \n",
    "`Uniform::new(0u16, 10)`?"
   ],
   "metadata": {}
  },
  {
   "cell_type": "code",
   "execution_count": 19,
   "source": [
    "use rand::distributions::Uniform;\n",
    "\n",
    "rng.sample(Uniform::new(10u32, 15))"
   ],
   "outputs": [
    {
     "output_type": "execute_result",
     "data": {
      "text/plain": [
       "11"
      ]
     },
     "metadata": {},
     "execution_count": 19
    }
   ],
   "metadata": {}
  },
  {
   "cell_type": "code",
   "execution_count": 23,
   "source": [
    "use rand::distributions::Uniform;\n",
    "\n",
    "rng.sample(Uniform::new(10u16, 15))"
   ],
   "outputs": [
    {
     "output_type": "execute_result",
     "data": {
      "text/plain": [
       "12"
      ]
     },
     "metadata": {},
     "execution_count": 23
    }
   ],
   "metadata": {}
  },
  {
   "cell_type": "code",
   "execution_count": 21,
   "source": [
    "use rand::distributions::Uniform;\n",
    "\n",
    "rng.sample(Uniform::new(10u32, 11))"
   ],
   "outputs": [
    {
     "output_type": "execute_result",
     "data": {
      "text/plain": [
       "10"
      ]
     },
     "metadata": {},
     "execution_count": 21
    }
   ],
   "metadata": {}
  },
  {
   "cell_type": "markdown",
   "source": [
    "## Random Permutation \n",
    "\n",
    "To generate a random permutation, \n",
    "you have to use the method \n",
    "[rand::seq::index::sample](https://docs.rs/rand/0.8.4/rand/seq/index/fn.sample.html)\n",
    ".\n",
    "Notice that the returned result is a\n",
    "[IndexVec](https://docs.rs/rand/0.8.4/rand/seq/index/enum.IndexVec.html)\n",
    "rather than an iterator."
   ],
   "metadata": {}
  },
  {
   "cell_type": "code",
   "execution_count": 26,
   "source": [
    "rand::seq::index::sample(&mut rng, 10, 3)"
   ],
   "outputs": [
    {
     "output_type": "execute_result",
     "data": {
      "text/plain": [
       "U32([0, 1, 3])"
      ]
     },
     "metadata": {},
     "execution_count": 26
    }
   ],
   "metadata": {}
  },
  {
   "cell_type": "code",
   "execution_count": 32,
   "source": [
    "rand::seq::index::sample(&mut rng, 10, 3).into_vec()"
   ],
   "outputs": [
    {
     "output_type": "execute_result",
     "data": {
      "text/plain": [
       "[7, 0, 2]"
      ]
     },
     "metadata": {},
     "execution_count": 32
    }
   ],
   "metadata": {}
  },
  {
   "cell_type": "markdown",
   "source": [
    "## Shuffle a Vector "
   ],
   "metadata": {}
  },
  {
   "cell_type": "code",
   "execution_count": 8,
   "source": [
    "let mut nums: Vec<i32> = (1..100).collect();\n",
    "nums.shuffle(&mut rng);"
   ],
   "outputs": [],
   "metadata": {}
  },
  {
   "cell_type": "code",
   "execution_count": 9,
   "source": [
    "println!{\"{:?}\", nums}"
   ],
   "outputs": [
    {
     "output_type": "stream",
     "name": "stdout",
     "text": [
      "[97, 77, 51, 29, 23, 96, 7, 44, 99, 79, 9, 67, 72, 37, 13, 86, 6, 65, 74, 60, 58, 28, 57, 35, 10, 76, 92, 50, 56, 98, 19, 36, 88, 30, 48, 66, 90, 45, 25, 43, 38, 11, 81, 40, 18, 95, 49, 85, 31, 21, 27, 20, 15, 17, 24, 54, 84, 94, 62, 59, 69, 3, 2, 8, 4, 87, 61, 73, 5, 1, 26, 22, 68, 33, 91, 82, 55, 64, 32, 14, 93, 71, 42, 63, 12, 70, 53, 47, 52, 46, 80, 41, 34, 78, 83, 75, 89, 16, 39]\n"
     ]
    },
    {
     "output_type": "execute_result",
     "data": {
      "text/plain": [
       "()"
      ]
     },
     "metadata": {},
     "execution_count": 9
    }
   ],
   "metadata": {}
  },
  {
   "cell_type": "markdown",
   "source": [
    "## [sample_iter](https://docs.rs/rand/0.8.4/rand/trait.Rng.html#method.sample_iter)"
   ],
   "metadata": {}
  },
  {
   "cell_type": "markdown",
   "source": [],
   "metadata": {}
  },
  {
   "cell_type": "markdown",
   "source": [
    "## Parallel RNGs\n",
    "\n",
    "https://crates.io/crates/rayon\n",
    "supports parallel RNGs.\n",
    "Xoshiro256PlusPlus \n",
    "can be used to construct parallel RNGs \n",
    "as it supports jumping ahead."
   ],
   "metadata": {}
  },
  {
   "cell_type": "code",
   "execution_count": null,
   "source": [],
   "outputs": [],
   "metadata": {}
  },
  {
   "cell_type": "markdown",
   "source": [
    "## References \n",
    "\n",
    "- [rust-random @ GitHub](https://github.com/rust-random)\n",
    "\n",
    "- [The Rust Rand Book](https://rust-random.github.io/book/)\n",
    "\n",
    "- [Crate - rand](https://crates.io/crates/rand)\n",
    "\n",
    "- [How do you change the generator with the Rand crate?](https://stackoverflow.com/questions/60386647/how-do-you-change-the-generator-with-the-rand-crate)"
   ],
   "metadata": {}
  }
 ],
 "metadata": {
  "file_extension": ".py",
  "kernelspec": {
   "display_name": "Rust",
   "language": "rust",
   "name": "rust"
  },
  "language_info": {
   "codemirror_mode": "rust",
   "file_extension": ".rs",
   "mimetype": "text/rust",
   "name": "Rust",
   "pygment_lexer": "rust",
   "version": ""
  },
  "mimetype": "text/x-python",
  "name": "python",
  "npconvert_exporter": "python",
  "pygments_lexer": "ipython3",
  "version": 3
 },
 "nbformat": 4,
 "nbformat_minor": 4
}