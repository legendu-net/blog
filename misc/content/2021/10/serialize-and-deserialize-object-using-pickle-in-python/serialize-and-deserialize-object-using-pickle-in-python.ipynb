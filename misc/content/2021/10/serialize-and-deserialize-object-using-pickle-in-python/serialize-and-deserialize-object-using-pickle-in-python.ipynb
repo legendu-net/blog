{
 "cells": [
  {
   "cell_type": "markdown",
   "source": [
    "- Author: Benjamin Du\n",
    "- Date: 2021-10-03 23:27:11\n",
    "- Modified: 2021-10-03 23:51:13\n",
    "- Title: Serialize and Deserialize Object Using Pickle in Python\n",
    "- Slug: serialize-and-deserialize-object-using-pickle-in-python\n",
    "- Category: Computer Science\n",
    "- Tags: Computer Science, programming, Python, pickle, serialization, deserialization, dump, load\n"
   ],
   "metadata": {}
  },
  {
   "cell_type": "markdown",
   "source": [
    "**Things on this page are fragmentary and immature notes/thoughts of the author. Please read with your own judgement!**"
   ],
   "metadata": {}
  },
  {
   "cell_type": "markdown",
   "source": [
    "## Tips and Traps\n",
    "\n",
    "1. Make sure to use the mode `wb`/`rb` when read/write pickle files."
   ],
   "metadata": {}
  },
  {
   "cell_type": "code",
   "execution_count": 1,
   "source": [
    "import pickle"
   ],
   "outputs": [],
   "metadata": {}
  },
  {
   "cell_type": "markdown",
   "source": [
    "Serialize a dict object into pickle."
   ],
   "metadata": {}
  },
  {
   "cell_type": "code",
   "execution_count": 4,
   "source": [
    "with open(\"out.pp\", \"wb\") as fout:\n",
    "    pickle.dump({\"x\": 1}, fout)"
   ],
   "outputs": [],
   "metadata": {}
  },
  {
   "cell_type": "markdown",
   "source": [
    "Deserialize the dict from the file."
   ],
   "metadata": {}
  },
  {
   "cell_type": "code",
   "execution_count": 10,
   "source": [
    "with open(\"out.pp\", \"rb\") as fin:\n",
    "    dic = pickle.load(fin)\n",
    "dic"
   ],
   "outputs": [
    {
     "output_type": "execute_result",
     "data": {
      "text/plain": [
       "{'x': 1}"
      ]
     },
     "metadata": {},
     "execution_count": 10
    }
   ],
   "metadata": {}
  },
  {
   "cell_type": "markdown",
   "source": [
    "## References \n",
    "\n",
    "https://docs.python.org/3/library/pickle.html"
   ],
   "metadata": {}
  }
 ],
 "metadata": {
  "file_extension": ".py",
  "kernelspec": {
   "display_name": "Python 3 (ipykernel)",
   "language": "python",
   "name": "python3"
  },
  "language_info": {
   "codemirror_mode": {
    "name": "ipython",
    "version": 3
   },
   "file_extension": ".py",
   "mimetype": "text/x-python",
   "name": "python",
   "nbconvert_exporter": "python",
   "pygments_lexer": "ipython3",
   "version": "3.8.10"
  },
  "mimetype": "text/x-python",
  "name": "python",
  "npconvert_exporter": "python",
  "pygments_lexer": "ipython3",
  "version": 3
 },
 "nbformat": 4,
 "nbformat_minor": 4
}