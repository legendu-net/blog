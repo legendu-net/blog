{
 "nbformat": 4,
 "nbformat_minor": 2,
 "metadata": {
  "language_info": {
   "name": "python",
   "codemirror_mode": {
    "name": "ipython",
    "version": 3
   }
  },
  "orig_nbformat": 2,
  "file_extension": ".py",
  "mimetype": "text/x-python",
  "name": "python",
  "npconvert_exporter": "python",
  "pygments_lexer": "ipython3",
  "version": 3
 },
 "cells": [
  {
   "cell_type": "markdown",
   "source": [
    "- Author: Benjamin Du\n",
    "- Date: 2021-10-14 21:13:48\n",
    "- Modified: 2021-10-14 21:13:48\n",
    "- Title: Tips on Polars\n",
    "- Slug: tips-on-polars\n",
    "- Category: Computer Science\n",
    "- Tags: Computer Science, programming, Rust, polars, DataFrame, big data"
   ],
   "metadata": {}
  },
  {
   "cell_type": "markdown",
   "source": [
    "**Things on this page are fragmentary and immature notes/thoughts of the author. Please read with your own judgement!**"
   ],
   "metadata": {}
  },
  {
   "cell_type": "code",
   "execution_count": null,
   "source": [
    "https://github.com/pola-rs/polars\n",
    "\n",
    "\n",
    "[Polars - Official Documentation](https://www.pola.rs/)"
   ],
   "outputs": [],
   "metadata": {}
  }
 ]
}