{
 "cells": [
  {
   "cell_type": "markdown",
   "metadata": {},
   "source": [
    "- Author: Benjamin Du\n",
    "- Date: 2021-10-14 21:13:48\n",
    "- Modified: 2021-11-20 14:47:09\n",
    "- Title: Tips on Polars\n",
    "- Slug: tips-on-polars\n",
    "- Category: Computer Science\n",
    "- Tags: Computer Science, programming, Rust, polars, DataFrame, big data\n"
   ]
  },
  {
   "cell_type": "markdown",
   "metadata": {},
   "source": [
    "**Things on this page are fragmentary and immature notes/thoughts of the author. Please read with your own judgement!**"
   ]
  },
  {
   "cell_type": "code",
   "execution_count": 1,
   "metadata": {},
   "outputs": [
    {
     "name": "stdout",
     "output_type": "stream",
     "text": [
      "Defaulting to user installation because normal site-packages is not writeable\n",
      "Collecting polars\n",
      "  Downloading polars-0.10.26-cp36-abi3-manylinux_2_12_x86_64.manylinux2010_x86_64.whl (9.9 MB)\n",
      "     |████████████████████████████████| 9.9 MB 2.6 MB/s            \n",
      "\u001b[?25hRequirement already satisfied: numpy in /usr/local/lib/python3.8/dist-packages (from polars) (1.20.3)\n",
      "Installing collected packages: polars\n",
      "Successfully installed polars-0.10.26\n"
     ]
    }
   ],
   "source": [
    "!pip3 install polars"
   ]
  },
  {
   "cell_type": "markdown",
   "metadata": {},
   "source": [
    "## References \n",
    "\n",
    "[polars @ GitHub](https://github.com/pola-rs/polars)\n",
    "\n",
    "\n",
    "[Polars - Official Documentation](https://www.pola.rs/)"
   ]
  },
  {
   "cell_type": "markdown",
   "metadata": {},
   "source": []
  }
 ],
 "metadata": {
  "file_extension": ".py",
  "kernelspec": {
   "display_name": "Python 3 (ipykernel)",
   "language": "python",
   "name": "python3"
  },
  "language_info": {
   "codemirror_mode": {
    "name": "ipython",
    "version": 3
   },
   "file_extension": ".py",
   "mimetype": "text/x-python",
   "name": "python",
   "nbconvert_exporter": "python",
   "pygments_lexer": "ipython3",
   "version": "3.8.10"
  },
  "mimetype": "text/x-python",
  "name": "python",
  "npconvert_exporter": "python",
  "pygments_lexer": "ipython3",
  "version": 3
 },
 "nbformat": 4,
 "nbformat_minor": 4
}
