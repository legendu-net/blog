{
 "nbformat": 4,
 "nbformat_minor": 2,
 "metadata": {
  "language_info": {
   "name": "python",
   "codemirror_mode": {
    "name": "ipython",
    "version": 3
   }
  },
  "orig_nbformat": 2,
  "file_extension": ".py",
  "mimetype": "text/x-python",
  "name": "python",
  "npconvert_exporter": "python",
  "pygments_lexer": "ipython3",
  "version": 3
 },
 "cells": [
  {
   "cell_type": "markdown",
   "source": [
    "- Author: Benjamin Du\n",
    "- Date: 2021-10-01 12:38:03\n",
    "- Modified: 2021-10-01 12:38:03\n",
    "- Title: Tips on Vaex\n",
    "- Slug: tips-on-vaex\n",
    "- Category: Computer Science\n",
    "- Tags: Computer Science, programming, Python, vaex, DataFrame"
   ],
   "metadata": {}
  },
  {
   "cell_type": "markdown",
   "source": [
    "**Things on this page are fragmentary and immature notes/thoughts of the author. Please read with your own judgement!**"
   ],
   "metadata": {}
  },
  {
   "cell_type": "code",
   "execution_count": null,
   "source": [
    "pip3 install vaex"
   ],
   "outputs": [],
   "metadata": {}
  },
  {
   "cell_type": "markdown",
   "source": [
    "## References \n",
    "\n",
    "[vaex @ GitHub](https://github.com/vaexio/vaex)\n",
    "\n",
    "[Train a billion sample model in 5 minutes on your laptop using Vaex](https://vaex.io/blog/ml-impossible-train-a-1-billion-sample-model-in-20-minutes-with-vaex-and-scikit-learn-on-your)"
   ],
   "metadata": {}
  },
  {
   "cell_type": "markdown",
   "source": [],
   "metadata": {}
  }
 ]
}