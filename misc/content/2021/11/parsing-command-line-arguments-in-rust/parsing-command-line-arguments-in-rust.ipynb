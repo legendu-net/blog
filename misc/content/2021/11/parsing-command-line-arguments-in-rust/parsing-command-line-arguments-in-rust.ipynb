{
 "cells": [
  {
   "cell_type": "markdown",
   "metadata": {},
   "source": [
    "- Author: Benjamin Du\n",
    "- Date: 2021-11-09 20:09:20\n",
    "- Modified: 2021-11-09 20:09:20\n",
    "- Title: Parsing Command-line Arguments in Rust\n",
    "- Slug: parsing-command-line-arguments-in-rust\n",
    "- Category: Computer Science\n",
    "- Tags: Computer Science, programming, Rust, command-line, clap, structopt"
   ]
  },
  {
   "cell_type": "markdown",
   "metadata": {},
   "source": [
    "**Things on this page are fragmentary and immature notes/thoughts of the author. Please read with your own judgement!**"
   ]
  },
  {
   "cell_type": "markdown",
   "metadata": {},
   "source": [
    "## Tips and Traps\n",
    "\n",
    "There are 2 popular crates \n",
    "[clap](https://crates.io/crates/clap) \n",
    "and \n",
    "structopt (based on clap) for this purpose. \n",
    "I personally prefer \n",
    "[clap](https://crates.io/crates/clap) \n",
    ". "
   ]
  },
  {
   "cell_type": "code",
   "execution_count": 3,
   "metadata": {},
   "outputs": [],
   "source": [
    ":dep clap = \"2.33.3\""
   ]
  },
  {
   "cell_type": "markdown",
   "metadata": {},
   "source": [
    "## Sub Commands"
   ]
  },
  {
   "cell_type": "code",
   "execution_count": null,
   "metadata": {},
   "outputs": [],
   "source": [
    "use clap::{Arg, App, SubCommand};"
   ]
  },
  {
   "cell_type": "code",
   "execution_count": null,
   "metadata": {},
   "outputs": [],
   "source": [
    "let args = App::new(\"ofcp\")\n",
    "    .subcommand(\n",
    "        SubCommand::with_name(\"test\")\n",
    "        .about(\"Test score_r4\")\n",
    "        .arg(\n",
    "            Arg::with_name(\"id2\")\n",
    "            .long(\"id2\")\n",
    "            .value_name(\"ID2\")\n",
    "            .takes_value(true)\n",
    "            .help(\"Initial id2.\"))\n",
    "        .arg(\n",
    "            Arg::with_name(\"n2\")\n",
    "            .long(\"n2\")\n",
    "            .value_name(\"N2\")\n",
    "            .takes_value(true)\n",
    "            .help(\"number to sample for row2.\"))\n",
    "        .arg(\n",
    "            Arg::with_name(\"n1\")\n",
    "            .long(\"n1\")\n",
    "            .value_name(\"N1\")\n",
    "            .takes_value(true)\n",
    "            .help(\"number to sample for row1.\"))\n",
    "        .arg(\n",
    "            Arg::with_name(\"n0\")\n",
    "            .long(\"n0\")\n",
    "            .value_name(\"N0\")\n",
    "            .takes_value(true)\n",
    "            .help(\"number to sample for row0.\"))\n",
    "    ).get_matches();"
   ]
  },
  {
   "cell_type": "code",
   "execution_count": null,
   "metadata": {},
   "outputs": [],
   "source": [
    "match args.subcommand() {\n",
    "    (\"test\", Some(subm)) => {\n",
    "        let time = SystemTime::now();\n",
    "        let max_diff = test_score_r4(\n",
    "        subm.value_of(\"id2\").unwrap().parse::<u64>().unwrap(),\n",
    "        subm.value_of(\"n2\").unwrap().parse::<usize>().unwrap(),\n",
    "        subm.value_of(\"n1\").unwrap().parse::<usize>().unwrap(),\n",
    "        subm.value_of(\"n0\").unwrap().parse::<usize>().unwrap(),\n",
    "        );\n",
    "        println!(\"Time taken: {}, Max diff: {}\", time.elapsed().unwrap().as_secs_f64(), max_diff);\n",
    "    },\n",
    "    (subcmd, _) => panic!(\"The sub command {} is not supported!\", subcmd),\n",
    "}"
   ]
  }
 ],
 "metadata": {
  "file_extension": ".py",
  "kernelspec": {
   "display_name": "Rust",
   "language": "rust",
   "name": "rust"
  },
  "language_info": {
   "codemirror_mode": "rust",
   "file_extension": ".rs",
   "mimetype": "text/rust",
   "name": "Rust",
   "pygment_lexer": "rust",
   "version": ""
  },
  "mimetype": "text/x-python",
  "name": "python",
  "npconvert_exporter": "python",
  "pygments_lexer": "ipython3",
  "version": 3
 },
 "nbformat": 4,
 "nbformat_minor": 4
}
