{
 "cells": [
  {
   "cell_type": "markdown",
   "metadata": {},
   "source": [
    "- Author: Benjamin Du\n",
    "- Date: 2021-11-22 16:23:11\n",
    "- Modified: 2021-11-23 13:38:46\n",
    "- Title: Read and Write CSV Files in Rust\n",
    "- Slug: read-and-write-csv-files-in-rust\n",
    "- Category: Computer Science\n",
    "- Tags: Computer Science, programming, Rust, CSV, serde\n"
   ]
  },
  {
   "cell_type": "markdown",
   "metadata": {},
   "source": [
    "**Things on this page are fragmentary and immature notes/thoughts of the author. Please read with your own judgement!**"
   ]
  },
  {
   "cell_type": "markdown",
   "metadata": {},
   "source": [
    "[Rust Crate - csv](https://crates.io/crates/csv)"
   ]
  },
  {
   "cell_type": "code",
   "execution_count": null,
   "metadata": {},
   "outputs": [],
   "source": [
    "let mut rdr = csv::Reader::from_reader(io::stdin());\n",
    "    for result in rdr.records() {\n",
    "        // The iterator yields Result<StringRecord, Error>, so we check the\n",
    "        // error here.\n",
    "        let record = result?;\n",
    "        println!(\"{:?}\", record);\n",
    "    }"
   ]
  },
  {
   "cell_type": "markdown",
   "metadata": {},
   "source": [
    "## With Serde"
   ]
  },
  {
   "cell_type": "code",
   "execution_count": null,
   "metadata": {},
   "outputs": [],
   "source": [
    "use std::error::Error;\n",
    "use std::io;\n",
    "use std::process;\n",
    "\n",
    "use serde::Deserialize;\n",
    "\n",
    "#[derive(Debug, Deserialize)]\n",
    "struct Record {\n",
    "    city: String,\n",
    "    region: String,\n",
    "    country: String,\n",
    "    population: Option<u64>,\n",
    "}\n",
    "\n",
    "fn example() -> Result<(), Box<dyn Error>> {\n",
    "    let mut rdr = csv::Reader::from_reader(io::stdin());\n",
    "    for result in rdr.deserialize() {\n",
    "        // Notice that we need to provide a type hint for automatic\n",
    "        // deserialization.\n",
    "        let record: Record = result?;\n",
    "        println!(\"{:?}\", record);\n",
    "    }\n",
    "    Ok(())\n",
    "}\n",
    "\n",
    "fn main() {\n",
    "    if let Err(err) = example() {\n",
    "        println!(\"error running example: {}\", err);\n",
    "        process::exit(1);\n",
    "    }\n",
    "}"
   ]
  }
 ],
 "metadata": {
  "file_extension": ".py",
  "kernelspec": {
   "display_name": "Rust",
   "language": "rust",
   "name": "rust"
  },
  "language_info": {
   "codemirror_mode": {
    "name": "ipython",
    "version": 3
   },
   "name": "python"
  },
  "mimetype": "text/x-python",
  "name": "python",
  "npconvert_exporter": "python",
  "pygments_lexer": "ipython3",
  "version": 3
 },
 "nbformat": 4,
 "nbformat_minor": 4
}