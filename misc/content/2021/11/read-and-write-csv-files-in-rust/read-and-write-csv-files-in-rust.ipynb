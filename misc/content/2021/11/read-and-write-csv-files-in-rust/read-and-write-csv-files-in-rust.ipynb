{
 "cells": [
  {
   "cell_type": "markdown",
   "metadata": {},
   "source": [
    "- Author: Benjamin Du\n",
    "- Date: 2021-11-22 16:23:11\n",
    "- Modified: 2021-11-23 13:38:46\n",
    "- Title: Read and Write CSV Files in Rust\n",
    "- Slug: read-and-write-csv-files-in-rust\n",
    "- Category: Computer Science\n",
    "- Tags: Computer Science, programming, Rust, CSV, serde, header, serialization, deserialization"
   ]
  },
  {
   "cell_type": "markdown",
   "metadata": {},
   "source": [
    "**Things on this page are fragmentary and immature notes/thoughts of the author. Please read with your own judgement!**"
   ]
  },
  {
   "cell_type": "markdown",
   "metadata": {},
   "source": [
    "## Tips and Traps\n",
    "\n",
    "1. By defaut, \n",
    "    `csv::Reader` requires headers.\n",
    "\n",
    "2. When the \n",
    "    [csv](https://crates.io/crates/csv)\n",
    "    crate is used together with the \n",
    "    [serde](https://crates.io/crates/serde)\n",
    "    crate for deserialization,\n",
    "    CSV files to be parsed have to be strictly well formatted.\n",
    "    For example,\n",
    "    the headers in CSV files have to match the defintion in the serde struct.\n",
    "    Otherwise, \n",
    "    the code will panic with an error of \"missing fields\"."
   ]
  },
  {
   "cell_type": "code",
   "execution_count": 2,
   "metadata": {
    "tags": []
   },
   "outputs": [],
   "source": [
    ":dep csv = \"1.2.2\""
   ]
  },
  {
   "cell_type": "code",
   "execution_count": 3,
   "metadata": {
    "tags": []
   },
   "outputs": [],
   "source": [
    ":dep serde = { version = \"1.0.166\", features = [\"derive\"] }"
   ]
  },
  {
   "cell_type": "code",
   "execution_count": 4,
   "metadata": {
    "tags": []
   },
   "outputs": [],
   "source": [
    "use std::fs::File;\n",
    "use std::io;\n",
    "use std::io::Write;\n",
    "use serde::Deserialize;"
   ]
  },
  {
   "cell_type": "markdown",
   "metadata": {},
   "source": [
    "## With Serde"
   ]
  },
  {
   "cell_type": "code",
   "execution_count": 11,
   "metadata": {
    "tags": []
   },
   "outputs": [
    {
     "name": "stdout",
     "output_type": "stream",
     "text": [
      "five_cards: \"5s 5h 5c 5d As\", other_known_cards: \"\", bust_factor: 2, num_sim1: 20, num_sim2: 20, num_sim3: 20, num_sim4: 20\n",
      "five_cards: \"Qs Qh Qc Qd 3d\", other_known_cards: \"\", bust_factor: 2, num_sim1: 20, num_sim2: 20, num_sim3: 20, num_sim4: 20\n",
      "five_cards: \"Ks Kh Kc Kd 4h\", other_known_cards: \"\", bust_factor: 2, num_sim1: 20, num_sim2: 20, num_sim3: 20, num_sim4: 20\n",
      "five_cards: \"As Ah Ac Ad 6c\", other_known_cards: \"\", bust_factor: 2, num_sim1: 20, num_sim2: 20, num_sim3: 20, num_sim4: 20\n",
      "five_cards: \"3s Th 3c Td Ts\", other_known_cards: \"\", bust_factor: 2, num_sim1: 20, num_sim2: 20, num_sim3: 20, num_sim4: 20\n",
      "five_cards: \"Qs 9s 8s 4s 3s\", other_known_cards: \"\", bust_factor: 2, num_sim1: 20, num_sim2: 20, num_sim3: 20, num_sim4: 20\n",
      "five_cards: \"As 9s 8s 4s 3s\", other_known_cards: \"\", bust_factor: 2, num_sim1: 20, num_sim2: 20, num_sim3: 20, num_sim4: 20\n",
      "five_cards: \"Ts Th Tc 7d 7s\", other_known_cards: \"\", bust_factor: 2, num_sim1: 20, num_sim2: 20, num_sim3: 20, num_sim4: 20\n",
      "five_cards: \"4s 5h 6c 7d 8s\", other_known_cards: \"\", bust_factor: 2, num_sim1: 20, num_sim2: 20, num_sim3: 20, num_sim4: 20\n",
      "five_cards: \"As 2c 3d 4s 5h\", other_known_cards: \"\", bust_factor: 2, num_sim1: 20, num_sim2: 20, num_sim3: 20, num_sim4: 20\n",
      "five_cards: \"As Kc Qd Js Th\", other_known_cards: \"\", bust_factor: 2, num_sim1: 20, num_sim2: 20, num_sim3: 20, num_sim4: 20\n",
      "five_cards: \"Ts Th Tc Ad 3s\", other_known_cards: \"\", bust_factor: 2, num_sim1: 20, num_sim2: 20, num_sim3: 20, num_sim4: 20\n",
      "five_cards: \"Ts Th Tc Ad 3d\", other_known_cards: \"\", bust_factor: 2, num_sim1: 20, num_sim2: 20, num_sim3: 20, num_sim4: 20\n",
      "five_cards: \"Ts Th Tc 4d 3s\", other_known_cards: \"\", bust_factor: 2, num_sim1: 20, num_sim2: 20, num_sim3: 20, num_sim4: 20\n",
      "five_cards: \"As Ah 8c 8d 9s\", other_known_cards: \"\", bust_factor: 2, num_sim1: 20, num_sim2: 20, num_sim3: 20, num_sim4: 20\n",
      "five_cards: \"Qs Qh 8c 8d 9s\", other_known_cards: \"\", bust_factor: 2, num_sim1: 20, num_sim2: 20, num_sim3: 20, num_sim4: 20\n",
      "five_cards: \"Ts Th 8c 8d 9s\", other_known_cards: \"\", bust_factor: 2, num_sim1: 20, num_sim2: 20, num_sim3: 20, num_sim4: 20\n"
     ]
    },
    {
     "data": {
      "text/plain": [
       "()"
      ]
     },
     "execution_count": 11,
     "metadata": {},
     "output_type": "execute_result"
    }
   ],
   "source": [
    "pub fn read_r1_csv(file: &str) {\n",
    "    #[derive(Debug, Deserialize)]\n",
    "    struct Record {\n",
    "        pub five_cards: String,\n",
    "        pub other_known_cards: String,\n",
    "        pub bust_factor: f64,\n",
    "        pub num_sim1: usize,\n",
    "        pub num_sim2: usize,\n",
    "        pub num_sim3: usize,\n",
    "        pub num_sim4: usize,\n",
    "    }\n",
    "    let mut csv_reader = {\n",
    "        let file = File::open(file).unwrap_or_else(|_| panic!(\"The file {file} does not exist!\"));\n",
    "        csv::Reader::from_reader(file)\n",
    "    };\n",
    "    csv_reader.deserialize().for_each(|r| {\n",
    "        let r: Record = r.unwrap();\n",
    "        println!(\"five_cards: \\\"{}\\\", other_known_cards: \\\"{}\\\", bust_factor: {}, num_sim1: {}, num_sim2: {}, num_sim3: {}, num_sim4: {}\", \n",
    "            r.five_cards, \n",
    "            r.other_known_cards,\n",
    "            r.bust_factor,\n",
    "            r.num_sim1,\n",
    "            r.num_sim2,\n",
    "            r.num_sim3,\n",
    "            r.num_sim4,\n",
    "        );\n",
    "    });\n",
    "}\n",
    "\n",
    "read_r1_csv(\"r1.csv\")"
   ]
  },
  {
   "cell_type": "code",
   "execution_count": 11,
   "metadata": {
    "tags": []
   },
   "outputs": [
    {
     "name": "stdout",
     "output_type": "stream",
     "text": [
      "five_cards: \"5s 5h 5c 5d As\", other_known_cards: \"\", bust_factor: 2, num_sim1: 20, num_sim2: 20, num_sim3: 20, num_sim4: 20\n",
      "five_cards: \"Qs Qh Qc Qd 3d\", other_known_cards: \"\", bust_factor: 2, num_sim1: 20, num_sim2: 20, num_sim3: 20, num_sim4: 20\n",
      "five_cards: \"Ks Kh Kc Kd 4h\", other_known_cards: \"\", bust_factor: 2, num_sim1: 20, num_sim2: 20, num_sim3: 20, num_sim4: 20\n",
      "five_cards: \"As Ah Ac Ad 6c\", other_known_cards: \"\", bust_factor: 2, num_sim1: 20, num_sim2: 20, num_sim3: 20, num_sim4: 20\n",
      "five_cards: \"3s Th 3c Td Ts\", other_known_cards: \"\", bust_factor: 2, num_sim1: 20, num_sim2: 20, num_sim3: 20, num_sim4: 20\n",
      "five_cards: \"Qs 9s 8s 4s 3s\", other_known_cards: \"\", bust_factor: 2, num_sim1: 20, num_sim2: 20, num_sim3: 20, num_sim4: 20\n",
      "five_cards: \"As 9s 8s 4s 3s\", other_known_cards: \"\", bust_factor: 2, num_sim1: 20, num_sim2: 20, num_sim3: 20, num_sim4: 20\n",
      "five_cards: \"Ts Th Tc 7d 7s\", other_known_cards: \"\", bust_factor: 2, num_sim1: 20, num_sim2: 20, num_sim3: 20, num_sim4: 20\n",
      "five_cards: \"4s 5h 6c 7d 8s\", other_known_cards: \"\", bust_factor: 2, num_sim1: 20, num_sim2: 20, num_sim3: 20, num_sim4: 20\n",
      "five_cards: \"As 2c 3d 4s 5h\", other_known_cards: \"\", bust_factor: 2, num_sim1: 20, num_sim2: 20, num_sim3: 20, num_sim4: 20\n",
      "five_cards: \"As Kc Qd Js Th\", other_known_cards: \"\", bust_factor: 2, num_sim1: 20, num_sim2: 20, num_sim3: 20, num_sim4: 20\n",
      "five_cards: \"Ts Th Tc Ad 3s\", other_known_cards: \"\", bust_factor: 2, num_sim1: 20, num_sim2: 20, num_sim3: 20, num_sim4: 20\n",
      "five_cards: \"Ts Th Tc Ad 3d\", other_known_cards: \"\", bust_factor: 2, num_sim1: 20, num_sim2: 20, num_sim3: 20, num_sim4: 20\n",
      "five_cards: \"Ts Th Tc 4d 3s\", other_known_cards: \"\", bust_factor: 2, num_sim1: 20, num_sim2: 20, num_sim3: 20, num_sim4: 20\n",
      "five_cards: \"As Ah 8c 8d 9s\", other_known_cards: \"\", bust_factor: 2, num_sim1: 20, num_sim2: 20, num_sim3: 20, num_sim4: 20\n",
      "five_cards: \"Qs Qh 8c 8d 9s\", other_known_cards: \"\", bust_factor: 2, num_sim1: 20, num_sim2: 20, num_sim3: 20, num_sim4: 20\n",
      "five_cards: \"Ts Th 8c 8d 9s\", other_known_cards: \"\", bust_factor: 2, num_sim1: 20, num_sim2: 20, num_sim3: 20, num_sim4: 20\n"
     ]
    },
    {
     "data": {
      "text/plain": [
       "()"
      ]
     },
     "execution_count": 11,
     "metadata": {},
     "output_type": "execute_result"
    }
   ],
   "source": [
    "pub fn read_r1_csv(file: &str) {\n",
    "    #[derive(Debug, Deserialize)]\n",
    "    struct Record {\n",
    "        pub five_cards: String,\n",
    "        pub other_known_cards: String,\n",
    "        pub bust_factor: f64,\n",
    "        pub num_sim1: usize,\n",
    "        pub num_sim2: usize,\n",
    "        pub num_sim3: usize,\n",
    "        pub num_sim4: usize,\n",
    "    }\n",
    "    let mut csv_reader = {\n",
    "        let file = File::open(file).unwrap_or_else(|_| panic!(\"The file {file} does not exist!\"));\n",
    "        csv::Reader::from_reader(file)\n",
    "    };\n",
    "    csv_reader.deserialize().for_each(|r| {\n",
    "        let r: Record = r.unwrap();\n",
    "        println!(\"five_cards: \\\"{}\\\", other_known_cards: \\\"{}\\\", bust_factor: {}, num_sim1: {}, num_sim2: {}, num_sim3: {}, num_sim4: {}\", \n",
    "            r.five_cards, \n",
    "            r.other_known_cards,\n",
    "            r.bust_factor,\n",
    "            r.num_sim1,\n",
    "            r.num_sim2,\n",
    "            r.num_sim3,\n",
    "            r.num_sim4,\n",
    "        );\n",
    "    });\n",
    "}\n",
    "\n",
    "read_r1_csv(\"r1.csv\")"
   ]
  },
  {
   "cell_type": "markdown",
   "metadata": {},
   "source": [
    "## References\n",
    "\n",
    "- [Rust Crate - csv](https://crates.io/crates/csv)"
   ]
  },
  {
   "cell_type": "code",
   "execution_count": null,
   "metadata": {},
   "outputs": [],
   "source": []
  }
 ],
 "metadata": {
  "file_extension": ".py",
  "kernelspec": {
   "display_name": "Rust",
   "language": "rust",
   "name": "rust"
  },
  "language_info": {
   "codemirror_mode": "rust",
   "file_extension": ".rs",
   "mimetype": "text/rust",
   "name": "Rust",
   "pygment_lexer": "rust",
   "version": ""
  },
  "mimetype": "text/x-python",
  "name": "python",
  "npconvert_exporter": "python",
  "pygments_lexer": "ipython3",
  "version": 3
 },
 "nbformat": 4,
 "nbformat_minor": 4
}
