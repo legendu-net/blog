{
 "cells": [
  {
   "cell_type": "markdown",
   "metadata": {},
   "source": [
    "- Author: Benjamin Du\n",
    "- Date: 2021-12-12 19:54:50\n",
    "- Modified: 2021-12-12 19:54:50\n",
    "- Title: Configure Log4J for Spark\n",
    "- Slug: configure-log4j-for-spark\n",
    "- Category: Computer Science\n",
    "- Tags: Computer Science, programming, Spark, log4j, PySpark, logging, level, ERROR"
   ]
  },
  {
   "cell_type": "markdown",
   "metadata": {},
   "source": [
    "**Things on this page are fragmentary and immature notes/thoughts of the author. Please read with your own judgement!**"
   ]
  },
  {
   "cell_type": "markdown",
   "metadata": {},
   "source": [
    "## Show Error Messages Only\n",
    "\n",
    "When you run Spark or PySpark in a Jupyter/Lab notebook,\n",
    "it is recommended that you show ERROR messages only.\n",
    "Otherwise, \n",
    "there might be too much logging information \n",
    "polluting your notebook. \n",
    "You can set the log level of Spark to ERROR \n",
    "using the following line of code. "
   ]
  },
  {
   "cell_type": "code",
   "execution_count": null,
   "metadata": {},
   "outputs": [],
   "source": [
    "spark.sparkContext.setLogLevel(\"ERROR\")"
   ]
  },
  {
   "cell_type": "markdown",
   "metadata": {},
   "source": [
    "## References \n",
    "\n",
    "[How to stop INFO messages displaying on spark console?](https://stackoverflow.com/questions/27781187/how-to-stop-info-messages-displaying-on-spark-console)\n",
    "\n",
    "[spark-submit, how to specify log4j.properties](https://stackoverflow.com/questions/42230235/spark-submit-how-to-specify-log4j-properties)"
   ]
  },
  {
   "cell_type": "markdown",
   "metadata": {},
   "source": []
  }
 ],
 "metadata": {
  "file_extension": ".py",
  "language_info": {
   "codemirror_mode": {
    "name": "ipython",
    "version": 3
   },
   "name": "python"
  },
  "mimetype": "text/x-python",
  "name": "python",
  "npconvert_exporter": "python",
  "orig_nbformat": 2,
  "pygments_lexer": "ipython3",
  "version": 3
 },
 "nbformat": 4,
 "nbformat_minor": 2
}
