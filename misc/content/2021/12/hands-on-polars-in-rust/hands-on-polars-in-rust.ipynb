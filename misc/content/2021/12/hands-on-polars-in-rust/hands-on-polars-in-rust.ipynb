{
 "cells": [
  {
   "cell_type": "markdown",
   "metadata": {},
   "source": [
    "- Author: Benjamin Du\n",
    "- Date: 2021-12-04 20:31:38\n",
    "- Modified: 2021-12-04 20:31:38\n",
    "- Title: Hands on the polars Crate in Rust\n",
    "- Slug: hands-on-polars-in-rust\n",
    "- Category: Computer Science\n",
    "- Tags: Computer Science, programming, Rust, Polars, DataFrame"
   ]
  },
  {
   "cell_type": "markdown",
   "metadata": {},
   "source": [
    "**Things on this page are fragmentary and immature notes/thoughts of the author. Please read with your own judgement!**"
   ]
  },
  {
   "cell_type": "markdown",
   "metadata": {},
   "source": [
    "## [polars](http://www.legendu.net/misc/blog/tips-on-polars)   \n",
    "\n",
    "Polars is a blazingly fast DataFrames library implemented in Rust using Apache Arrow as memory model.\n",
    "\n",
    "1. Polars support multithreading and lazy computation.\n",
    "2. Polars CANNOT handle data larger than memory at this time \n",
    "    (even though this might change in future)."
   ]
  },
  {
   "cell_type": "code",
   "execution_count": 2,
   "metadata": {},
   "outputs": [],
   "source": [
    ":dep polars = \"0.18.0\""
   ]
  },
  {
   "cell_type": "code",
   "execution_count": 3,
   "metadata": {},
   "outputs": [
    {
     "data": {
      "text/plain": [
       "shape: (3, 3)\n",
       "+-------+--------+--------------+\n",
       "| names | values | values_nulls |\n",
       "| ---   | ---    | ---          |\n",
       "| str   | i32    | i32          |\n",
       "+=======+========+==============+\n",
       "| a     | 1      | 1            |\n",
       "+-------+--------+--------------+\n",
       "| b     | 2      | null         |\n",
       "+-------+--------+--------------+\n",
       "| c     | 3      | 3            |\n",
       "+-------+--------+--------------+\n"
      ]
     },
     "execution_count": 3,
     "metadata": {},
     "output_type": "execute_result"
    }
   ],
   "source": [
    "use polars::prelude::*;\n",
    "use polars::df;\n",
    "\n",
    "// use macro\n",
    "let df = df![\n",
    "    \"names\" => [\"a\", \"b\", \"c\"],\n",
    "    \"values\" => [1, 2, 3],\n",
    "    \"values_nulls\" => [Some(1), None, Some(3)]\n",
    "].unwrap();\n",
    "df"
   ]
  },
  {
   "cell_type": "code",
   "execution_count": 4,
   "metadata": {},
   "outputs": [
    {
     "data": {
      "text/plain": [
       "shape: (3, 2)\n",
       "+-------+--------+\n",
       "| names | values |\n",
       "| ---   | ---    |\n",
       "| str   | i32    |\n",
       "+=======+========+\n",
       "| a     | 1      |\n",
       "+-------+--------+\n",
       "| b     | null   |\n",
       "+-------+--------+\n",
       "| c     | 3      |\n",
       "+-------+--------+\n"
      ]
     },
     "execution_count": 4,
     "metadata": {},
     "output_type": "execute_result"
    }
   ],
   "source": [
    "let s1 = Series::new(\"names\", &[\"a\", \"b\", \"c\"]);\n",
    "let s2 = Series::new(\"values\", &[Some(1), None, Some(3)]);\n",
    "let df = DataFrame::new(vec![s1, s2]).unwrap();\n",
    "df"
   ]
  },
  {
   "cell_type": "code",
   "execution_count": null,
   "metadata": {},
   "outputs": [],
   "source": []
  },
  {
   "cell_type": "markdown",
   "metadata": {},
   "source": [
    "## References \n",
    "\n",
    "- [polars](https://github.com/pola-rs/polars)\n",
    "\n",
    "- [Polars Eager cookbook](https://docs.rs/polars/latest/polars/docs/eager/index.html)"
   ]
  },
  {
   "cell_type": "code",
   "execution_count": null,
   "metadata": {},
   "outputs": [],
   "source": []
  }
 ],
 "metadata": {
  "file_extension": ".py",
  "kernelspec": {
   "display_name": "Rust",
   "language": "rust",
   "name": "rust"
  },
  "language_info": {
   "codemirror_mode": "rust",
   "file_extension": ".rs",
   "mimetype": "text/rust",
   "name": "Rust",
   "pygment_lexer": "rust",
   "version": ""
  },
  "mimetype": "text/x-python",
  "name": "python",
  "npconvert_exporter": "python",
  "pygments_lexer": "ipython3",
  "version": 3
 },
 "nbformat": 4,
 "nbformat_minor": 4
}
