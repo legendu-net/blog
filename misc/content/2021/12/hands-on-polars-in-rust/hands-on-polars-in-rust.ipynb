{
 "cells": [
  {
   "cell_type": "markdown",
   "metadata": {},
   "source": [
    "- Author: Benjamin Du\n",
    "- Date: 2021-12-04 20:31:38\n",
    "- Modified: 2021-12-04 20:31:38\n",
    "- Title: Hands on the polars Crate in Rust\n",
    "- Slug: hands-on-polars-in-rust\n",
    "- Category: Computer Science\n",
    "- Tags: Computer Science, programming, Rust, Polars, DataFrame"
   ]
  },
  {
   "cell_type": "markdown",
   "metadata": {},
   "source": [
    "**Things on this page are fragmentary and immature notes/thoughts of the author. Please read with your own judgement!**"
   ]
  },
  {
   "cell_type": "markdown",
   "metadata": {
    "tags": []
   },
   "source": [
    "## [polars](https://github.com/pola-rs/polars)\n",
    "\n",
    "Polars is a blazingly fast DataFrames library implemented in Rust using Apache Arrow as memory model.\n",
    "\n",
    "1. Polars support multithreading and lazy computation.\n",
    "2. Polars CANNOT handle data larger than memory at this time \n",
    "    (even though this might change in future).\n",
    "3. Polars does not provide a way to scan Parquet files row by row currently.\n",
    "    You can use the [Parquet](https://crates.io/crates/parquet) crate to achive this."
   ]
  },
  {
   "cell_type": "code",
   "execution_count": 2,
   "metadata": {},
   "outputs": [
    {
     "data": {
      "text/plain": [
       "sccache: true\n"
      ]
     },
     "execution_count": 2,
     "metadata": {},
     "output_type": "execute_result"
    }
   ],
   "source": [
    ":sccache 1\n",
    ":dep polars = { version = \"0.26.1\", features = [\"lazy\", \"parquet\"] }"
   ]
  },
  {
   "cell_type": "code",
   "execution_count": 6,
   "metadata": {},
   "outputs": [],
   "source": [
    "use polars::df;\n",
    "use polars::prelude::*;\n",
    "use polars::datatypes::DataType;\n",
    "use std::fs::File;\n",
    "use std::io::BufWriter;\n",
    "use std::io::Write;"
   ]
  },
  {
   "cell_type": "code",
   "execution_count": 8,
   "metadata": {},
   "outputs": [
    {
     "data": {
      "text/plain": [
       "shape: (4002557, 4)\n",
       "┌──────┬──────────────────┬──────────────────┬─────────────┐\n",
       "│ id0  ┆ id1              ┆ id2              ┆ score_r4_it │\n",
       "│ ---  ┆ ---              ┆ ---              ┆ ---         │\n",
       "│ u64  ┆ u64              ┆ u64              ┆ f64         │\n",
       "╞══════╪══════════════════╪══════════════════╪═════════════╡\n",
       "│ 2    ┆ 16796161         ┆ 4503599635760400 ┆ 1.07059     │\n",
       "├╌╌╌╌╌╌┼╌╌╌╌╌╌╌╌╌╌╌╌╌╌╌╌╌╌┼╌╌╌╌╌╌╌╌╌╌╌╌╌╌╌╌╌╌┼╌╌╌╌╌╌╌╌╌╌╌╌╌┤\n",
       "│ 16   ┆ 8293             ┆ 3288727552       ┆ -0.085568   │\n",
       "├╌╌╌╌╌╌┼╌╌╌╌╌╌╌╌╌╌╌╌╌╌╌╌╌╌┼╌╌╌╌╌╌╌╌╌╌╌╌╌╌╌╌╌╌┼╌╌╌╌╌╌╌╌╌╌╌╌╌┤\n",
       "│ 2    ┆ 4503599660926465 ┆ 28684            ┆ 4.779815    │\n",
       "├╌╌╌╌╌╌┼╌╌╌╌╌╌╌╌╌╌╌╌╌╌╌╌╌╌┼╌╌╌╌╌╌╌╌╌╌╌╌╌╌╌╌╌╌┼╌╌╌╌╌╌╌╌╌╌╌╌╌┤\n",
       "│ 4    ┆ 4503599627386947 ┆ 274911465616     ┆ 4.650999    │\n",
       "├╌╌╌╌╌╌┼╌╌╌╌╌╌╌╌╌╌╌╌╌╌╌╌╌╌┼╌╌╌╌╌╌╌╌╌╌╌╌╌╌╌╌╌╌┼╌╌╌╌╌╌╌╌╌╌╌╌╌┤\n",
       "│ ...  ┆ ...              ┆ ...              ┆ ...         │\n",
       "├╌╌╌╌╌╌┼╌╌╌╌╌╌╌╌╌╌╌╌╌╌╌╌╌╌┼╌╌╌╌╌╌╌╌╌╌╌╌╌╌╌╌╌╌┼╌╌╌╌╌╌╌╌╌╌╌╌╌┤\n",
       "│ 4    ┆ 68727866378      ┆ 4224323673915392 ┆ 11.800134   │\n",
       "├╌╌╌╌╌╌┼╌╌╌╌╌╌╌╌╌╌╌╌╌╌╌╌╌╌┼╌╌╌╌╌╌╌╌╌╌╌╌╌╌╌╌╌╌┼╌╌╌╌╌╌╌╌╌╌╌╌╌┤\n",
       "│ 4    ┆ 4199169          ┆ 1073875984       ┆ 0.594198    │\n",
       "├╌╌╌╌╌╌┼╌╌╌╌╌╌╌╌╌╌╌╌╌╌╌╌╌╌┼╌╌╌╌╌╌╌╌╌╌╌╌╌╌╌╌╌╌┼╌╌╌╌╌╌╌╌╌╌╌╌╌┤\n",
       "│ 512  ┆ 1114250          ┆ 70377336209696   ┆ 7.129028    │\n",
       "├╌╌╌╌╌╌┼╌╌╌╌╌╌╌╌╌╌╌╌╌╌╌╌╌╌┼╌╌╌╌╌╌╌╌╌╌╌╌╌╌╌╌╌╌┼╌╌╌╌╌╌╌╌╌╌╌╌╌┤\n",
       "│ 4096 ┆ 1057409          ┆ 4573976961483792 ┆ 18.13174    │\n",
       "└──────┴──────────────────┴──────────────────┴─────────────┘"
      ]
     },
     "execution_count": 8,
     "metadata": {},
     "output_type": "execute_result"
    }
   ],
   "source": [
    "let mut frame = LazyFrame::scan_parquet(\n",
    "        \"part-000.parquet\",\n",
    "        ScanArgsParquet::default(),\n",
    "    )?\n",
    "    .collect()?;\n",
    "frame"
   ]
  },
  {
   "cell_type": "code",
   "execution_count": 10,
   "metadata": {},
   "outputs": [
    {
     "data": {
      "text/plain": [
       "shape: (10, 4)\n",
       "┌─────┬──────────────────┬──────────────────┬─────────────┐\n",
       "│ id0 ┆ id1              ┆ id2              ┆ score_r4_it │\n",
       "│ --- ┆ ---              ┆ ---              ┆ ---         │\n",
       "│ u64 ┆ u64              ┆ u64              ┆ f64         │\n",
       "╞═════╪══════════════════╪══════════════════╪═════════════╡\n",
       "│ 2   ┆ 16796161         ┆ 4503599635760400 ┆ 1.07059     │\n",
       "├╌╌╌╌╌┼╌╌╌╌╌╌╌╌╌╌╌╌╌╌╌╌╌╌┼╌╌╌╌╌╌╌╌╌╌╌╌╌╌╌╌╌╌┼╌╌╌╌╌╌╌╌╌╌╌╌╌┤\n",
       "│ 16  ┆ 8293             ┆ 3288727552       ┆ -0.085568   │\n",
       "├╌╌╌╌╌┼╌╌╌╌╌╌╌╌╌╌╌╌╌╌╌╌╌╌┼╌╌╌╌╌╌╌╌╌╌╌╌╌╌╌╌╌╌┼╌╌╌╌╌╌╌╌╌╌╌╌╌┤\n",
       "│ 2   ┆ 4503599660926465 ┆ 28684            ┆ 4.779815    │\n",
       "├╌╌╌╌╌┼╌╌╌╌╌╌╌╌╌╌╌╌╌╌╌╌╌╌┼╌╌╌╌╌╌╌╌╌╌╌╌╌╌╌╌╌╌┼╌╌╌╌╌╌╌╌╌╌╌╌╌┤\n",
       "│ 4   ┆ 4503599627386947 ┆ 274911465616     ┆ 4.650999    │\n",
       "├╌╌╌╌╌┼╌╌╌╌╌╌╌╌╌╌╌╌╌╌╌╌╌╌┼╌╌╌╌╌╌╌╌╌╌╌╌╌╌╌╌╌╌┼╌╌╌╌╌╌╌╌╌╌╌╌╌┤\n",
       "│ ... ┆ ...              ┆ ...              ┆ ...         │\n",
       "├╌╌╌╌╌┼╌╌╌╌╌╌╌╌╌╌╌╌╌╌╌╌╌╌┼╌╌╌╌╌╌╌╌╌╌╌╌╌╌╌╌╌╌┼╌╌╌╌╌╌╌╌╌╌╌╌╌┤\n",
       "│ 2   ┆ 33560616         ┆ 274894685952     ┆ 4.494734    │\n",
       "├╌╌╌╌╌┼╌╌╌╌╌╌╌╌╌╌╌╌╌╌╌╌╌╌┼╌╌╌╌╌╌╌╌╌╌╌╌╌╌╌╌╌╌┼╌╌╌╌╌╌╌╌╌╌╌╌╌┤\n",
       "│ 32  ┆ 4503599629598992 ┆ 9007218582356096 ┆ 2.843227    │\n",
       "├╌╌╌╌╌┼╌╌╌╌╌╌╌╌╌╌╌╌╌╌╌╌╌╌┼╌╌╌╌╌╌╌╌╌╌╌╌╌╌╌╌╌╌┼╌╌╌╌╌╌╌╌╌╌╌╌╌┤\n",
       "│ 128 ┆ 4503599644148034 ┆ 229780750336     ┆ 6.006584    │\n",
       "├╌╌╌╌╌┼╌╌╌╌╌╌╌╌╌╌╌╌╌╌╌╌╌╌┼╌╌╌╌╌╌╌╌╌╌╌╌╌╌╌╌╌╌┼╌╌╌╌╌╌╌╌╌╌╌╌╌┤\n",
       "│ 16  ┆ 4503599653715968 ┆ 2147746084       ┆ 1.758733    │\n",
       "└─────┴──────────────────┴──────────────────┴─────────────┘"
      ]
     },
     "execution_count": 10,
     "metadata": {},
     "output_type": "execute_result"
    }
   ],
   "source": [
    "frame.head(None)"
   ]
  },
  {
   "cell_type": "code",
   "execution_count": 9,
   "metadata": {},
   "outputs": [
    {
     "data": {
      "text/plain": [
       "(4002557, 4)"
      ]
     },
     "execution_count": 9,
     "metadata": {},
     "output_type": "execute_result"
    }
   ],
   "source": [
    "frame.shape()"
   ]
  },
  {
   "cell_type": "code",
   "execution_count": 10,
   "metadata": {},
   "outputs": [
    {
     "data": {
      "text/plain": [
       "4002557"
      ]
     },
     "execution_count": 10,
     "metadata": {},
     "output_type": "execute_result"
    }
   ],
   "source": [
    "frame.height()"
   ]
  },
  {
   "cell_type": "code",
   "execution_count": 11,
   "metadata": {},
   "outputs": [
    {
     "data": {
      "text/plain": [
       "4"
      ]
     },
     "execution_count": 11,
     "metadata": {},
     "output_type": "execute_result"
    }
   ],
   "source": [
    "frame.width()"
   ]
  },
  {
   "cell_type": "markdown",
   "metadata": {},
   "source": [
    "## DataFrame.apply"
   ]
  },
  {
   "cell_type": "code",
   "execution_count": 27,
   "metadata": {},
   "outputs": [],
   "source": [
    "fn as_u64(id: &Series) -> Series {\n",
    "    id.cast(&DataType::UInt64).unwrap()\n",
    "}"
   ]
  },
  {
   "cell_type": "code",
   "execution_count": 29,
   "metadata": {},
   "outputs": [
    {
     "data": {
      "text/plain": [
       "shape: (4002557, 4)\n",
       "┌──────┬──────────────────┬──────────────────┬─────────────┐\n",
       "│ id0  ┆ id1              ┆ id2              ┆ score_r4_it │\n",
       "│ ---  ┆ ---              ┆ ---              ┆ ---         │\n",
       "│ u64  ┆ u64              ┆ u64              ┆ f64         │\n",
       "╞══════╪══════════════════╪══════════════════╪═════════════╡\n",
       "│ 2    ┆ 16796161         ┆ 4503599635760400 ┆ 1.0705      │\n",
       "├╌╌╌╌╌╌┼╌╌╌╌╌╌╌╌╌╌╌╌╌╌╌╌╌╌┼╌╌╌╌╌╌╌╌╌╌╌╌╌╌╌╌╌╌┼╌╌╌╌╌╌╌╌╌╌╌╌╌┤\n",
       "│ 16   ┆ 8293             ┆ 3288727552       ┆ -0.085568   │\n",
       "├╌╌╌╌╌╌┼╌╌╌╌╌╌╌╌╌╌╌╌╌╌╌╌╌╌┼╌╌╌╌╌╌╌╌╌╌╌╌╌╌╌╌╌╌┼╌╌╌╌╌╌╌╌╌╌╌╌╌┤\n",
       "│ 2    ┆ 4503599660926465 ┆ 28684            ┆ 4.779815    │\n",
       "├╌╌╌╌╌╌┼╌╌╌╌╌╌╌╌╌╌╌╌╌╌╌╌╌╌┼╌╌╌╌╌╌╌╌╌╌╌╌╌╌╌╌╌╌┼╌╌╌╌╌╌╌╌╌╌╌╌╌┤\n",
       "│ 4    ┆ 4503599627386947 ┆ 274911465616     ┆ 4.650999    │\n",
       "├╌╌╌╌╌╌┼╌╌╌╌╌╌╌╌╌╌╌╌╌╌╌╌╌╌┼╌╌╌╌╌╌╌╌╌╌╌╌╌╌╌╌╌╌┼╌╌╌╌╌╌╌╌╌╌╌╌╌┤\n",
       "│ ...  ┆ ...              ┆ ...              ┆ ...         │\n",
       "├╌╌╌╌╌╌┼╌╌╌╌╌╌╌╌╌╌╌╌╌╌╌╌╌╌┼╌╌╌╌╌╌╌╌╌╌╌╌╌╌╌╌╌╌┼╌╌╌╌╌╌╌╌╌╌╌╌╌┤\n",
       "│ 4    ┆ 68727866378      ┆ 4224323673915392 ┆ 11.800134   │\n",
       "├╌╌╌╌╌╌┼╌╌╌╌╌╌╌╌╌╌╌╌╌╌╌╌╌╌┼╌╌╌╌╌╌╌╌╌╌╌╌╌╌╌╌╌╌┼╌╌╌╌╌╌╌╌╌╌╌╌╌┤\n",
       "│ 4    ┆ 4199169          ┆ 1073875984       ┆ 0.594198    │\n",
       "├╌╌╌╌╌╌┼╌╌╌╌╌╌╌╌╌╌╌╌╌╌╌╌╌╌┼╌╌╌╌╌╌╌╌╌╌╌╌╌╌╌╌╌╌┼╌╌╌╌╌╌╌╌╌╌╌╌╌┤\n",
       "│ 512  ┆ 1114250          ┆ 70377336209696   ┆ 7.129028    │\n",
       "├╌╌╌╌╌╌┼╌╌╌╌╌╌╌╌╌╌╌╌╌╌╌╌╌╌┼╌╌╌╌╌╌╌╌╌╌╌╌╌╌╌╌╌╌┼╌╌╌╌╌╌╌╌╌╌╌╌╌┤\n",
       "│ 4096 ┆ 1057409          ┆ 4573976961483792 ┆ 18.1317     │\n",
       "└──────┴──────────────────┴──────────────────┴─────────────┘"
      ]
     },
     "execution_count": 29,
     "metadata": {},
     "output_type": "execute_result"
    }
   ],
   "source": [
    "df.apply(\"id0\", as_u64);\n",
    "df.apply(\"id1\", as_u64);\n",
    "df.apply(\"id2\", as_u64);\n",
    "df"
   ]
  },
  {
   "cell_type": "code",
   "execution_count": 36,
   "metadata": {},
   "outputs": [],
   "source": [
    "let f = File::create(\"j.parquet\").expect(\"Unable to create file\");\n",
    "let mut bfw = BufWriter::new(f);\n",
    "let pw = ParquetWriter::new(bfw).with_compression(ParquetCompression::Snappy);"
   ]
  },
  {
   "cell_type": "code",
   "execution_count": 38,
   "metadata": {},
   "outputs": [],
   "source": [
    "pw.finish(&mut df);"
   ]
  },
  {
   "cell_type": "markdown",
   "metadata": {},
   "source": [
    "## Loop Through Rows"
   ]
  },
  {
   "cell_type": "code",
   "execution_count": 19,
   "metadata": {},
   "outputs": [
    {
     "name": "stdout",
     "output_type": "stream",
     "text": [
      "0: Int64(2) Int64(16796161) Int64(4503599635760400) Float64(1.0705899035734592) \n",
      "1: Int64(16) Int64(8293) Int64(3288727552) Float64(-0.08556843043513492) \n",
      "2: Int64(2) Int64(4503599660926465) Int64(28684) Float64(4.779815249979719) \n",
      "3: Int64(4) Int64(4503599627386947) Int64(274911465616) Float64(4.650999108662172) \n",
      "4: Int64(1) Int64(4194968) Int64(549822931264) Float64(0.5104124463171542) \n"
     ]
    },
    {
     "data": {
      "text/plain": [
       "()"
      ]
     },
     "execution_count": 19,
     "metadata": {},
     "output_type": "execute_result"
    }
   ],
   "source": [
    "{\n",
    "    let columns = df.get_columns();\n",
    "    for i in 0..5 {\n",
    "        print!(\"{i}: \");\n",
    "        columns.iter().for_each(|s: &Series| {\n",
    "            print!(\"{:?} \", s.get(i));\n",
    "        });\n",
    "        println!(\"\");\n",
    "    }\n",
    "}"
   ]
  },
  {
   "cell_type": "markdown",
   "metadata": {},
   "source": [
    "## References \n",
    "\n",
    "- [polars](https://github.com/pola-rs/polars)\n",
    "\n",
    "- [Polars Eager cookbook](https://docs.rs/polars/latest/polars/docs/eager/index.html)"
   ]
  },
  {
   "cell_type": "code",
   "execution_count": null,
   "metadata": {},
   "outputs": [],
   "source": []
  }
 ],
 "metadata": {
  "file_extension": ".py",
  "kernelspec": {
   "display_name": "Rust",
   "language": "rust",
   "name": "rust"
  },
  "language_info": {
   "codemirror_mode": "rust",
   "file_extension": ".rs",
   "mimetype": "text/rust",
   "name": "Rust",
   "pygment_lexer": "rust",
   "version": ""
  },
  "mimetype": "text/x-python",
  "name": "python",
  "npconvert_exporter": "python",
  "pygments_lexer": "ipython3",
  "version": 3
 },
 "nbformat": 4,
 "nbformat_minor": 4
}
