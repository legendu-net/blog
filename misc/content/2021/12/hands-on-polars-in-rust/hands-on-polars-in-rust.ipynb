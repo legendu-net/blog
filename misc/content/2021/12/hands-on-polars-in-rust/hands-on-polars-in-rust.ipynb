{
 "cells": [
  {
   "cell_type": "markdown",
   "metadata": {},
   "source": [
    "- Author: Benjamin Du\n",
    "- Date: 2021-12-04 20:31:38\n",
    "- Modified: 2021-12-04 20:31:38\n",
    "- Title: Hands on the polars Crate in Rust\n",
    "- Slug: hands-on-polars-in-rust\n",
    "- Category: Computer Science\n",
    "- Tags: Computer Science, programming, Rust, Polars, DataFrame"
   ]
  },
  {
   "cell_type": "markdown",
   "metadata": {},
   "source": [
    "**Things on this page are fragmentary and immature notes/thoughts of the author. Please read with your own judgement!**"
   ]
  },
  {
   "cell_type": "markdown",
   "metadata": {
    "tags": []
   },
   "source": [
    "## [polars](http://www.legendu.net/misc/blog/tips-on-polars)   \n",
    "\n",
    "Polars is a blazingly fast DataFrames library implemented in Rust using Apache Arrow as memory model.\n",
    "\n",
    "1. Polars support multithreading and lazy computation.\n",
    "2. Polars CANNOT handle data larger than memory at this time \n",
    "    (even though this might change in future)."
   ]
  },
  {
   "cell_type": "code",
   "execution_count": 4,
   "metadata": {},
   "outputs": [],
   "source": [
    ":dep polars = { version = \"0.21.1\", features = [\"lazy\", \"parquet\"] }"
   ]
  },
  {
   "cell_type": "code",
   "execution_count": 26,
   "metadata": {},
   "outputs": [],
   "source": [
    "use polars::prelude::*;\n",
    "use polars::df;"
   ]
  },
  {
   "cell_type": "code",
   "execution_count": 31,
   "metadata": {},
   "outputs": [],
   "source": [
    "use std::fs::File;\n",
    "use std::io::BufWriter;\n",
    "use std::io::Write;\n",
    "use polars::prelude::*;\n",
    "use polars::datatypes::DataType;"
   ]
  },
  {
   "cell_type": "code",
   "execution_count": 26,
   "metadata": {},
   "outputs": [
    {
     "data": {
      "text/plain": [
       "shape: (4002557, 4)\n",
       "┌──────┬──────────────────┬──────────────────┬─────────────┐\n",
       "│ id0  ┆ id1              ┆ id2              ┆ score_r4_it │\n",
       "│ ---  ┆ ---              ┆ ---              ┆ ---         │\n",
       "│ i64  ┆ i64              ┆ i64              ┆ f64         │\n",
       "╞══════╪══════════════════╪══════════════════╪═════════════╡\n",
       "│ 2    ┆ 16796161         ┆ 4503599635760400 ┆ 1.0705      │\n",
       "├╌╌╌╌╌╌┼╌╌╌╌╌╌╌╌╌╌╌╌╌╌╌╌╌╌┼╌╌╌╌╌╌╌╌╌╌╌╌╌╌╌╌╌╌┼╌╌╌╌╌╌╌╌╌╌╌╌╌┤\n",
       "│ 16   ┆ 8293             ┆ 3288727552       ┆ -0.085568   │\n",
       "├╌╌╌╌╌╌┼╌╌╌╌╌╌╌╌╌╌╌╌╌╌╌╌╌╌┼╌╌╌╌╌╌╌╌╌╌╌╌╌╌╌╌╌╌┼╌╌╌╌╌╌╌╌╌╌╌╌╌┤\n",
       "│ 2    ┆ 4503599660926465 ┆ 28684            ┆ 4.779815    │\n",
       "├╌╌╌╌╌╌┼╌╌╌╌╌╌╌╌╌╌╌╌╌╌╌╌╌╌┼╌╌╌╌╌╌╌╌╌╌╌╌╌╌╌╌╌╌┼╌╌╌╌╌╌╌╌╌╌╌╌╌┤\n",
       "│ 4    ┆ 4503599627386947 ┆ 274911465616     ┆ 4.650999    │\n",
       "├╌╌╌╌╌╌┼╌╌╌╌╌╌╌╌╌╌╌╌╌╌╌╌╌╌┼╌╌╌╌╌╌╌╌╌╌╌╌╌╌╌╌╌╌┼╌╌╌╌╌╌╌╌╌╌╌╌╌┤\n",
       "│ ...  ┆ ...              ┆ ...              ┆ ...         │\n",
       "├╌╌╌╌╌╌┼╌╌╌╌╌╌╌╌╌╌╌╌╌╌╌╌╌╌┼╌╌╌╌╌╌╌╌╌╌╌╌╌╌╌╌╌╌┼╌╌╌╌╌╌╌╌╌╌╌╌╌┤\n",
       "│ 4    ┆ 68727866378      ┆ 4224323673915392 ┆ 11.800134   │\n",
       "├╌╌╌╌╌╌┼╌╌╌╌╌╌╌╌╌╌╌╌╌╌╌╌╌╌┼╌╌╌╌╌╌╌╌╌╌╌╌╌╌╌╌╌╌┼╌╌╌╌╌╌╌╌╌╌╌╌╌┤\n",
       "│ 4    ┆ 4199169          ┆ 1073875984       ┆ 0.594198    │\n",
       "├╌╌╌╌╌╌┼╌╌╌╌╌╌╌╌╌╌╌╌╌╌╌╌╌╌┼╌╌╌╌╌╌╌╌╌╌╌╌╌╌╌╌╌╌┼╌╌╌╌╌╌╌╌╌╌╌╌╌┤\n",
       "│ 512  ┆ 1114250          ┆ 70377336209696   ┆ 7.129028    │\n",
       "├╌╌╌╌╌╌┼╌╌╌╌╌╌╌╌╌╌╌╌╌╌╌╌╌╌┼╌╌╌╌╌╌╌╌╌╌╌╌╌╌╌╌╌╌┼╌╌╌╌╌╌╌╌╌╌╌╌╌┤\n",
       "│ 4096 ┆ 1057409          ┆ 4573976961483792 ┆ 18.1317     │\n",
       "└──────┴──────────────────┴──────────────────┴─────────────┘"
      ]
     },
     "execution_count": 26,
     "metadata": {},
     "output_type": "execute_result"
    }
   ],
   "source": [
    "let mut df = LazyFrame::scan_parquet(\n",
    "        \"test_data_11_dedup/part-00000-da5cd2f7-7f35-41ba-8660-0441ae9e0d8d-c000.snappy.parquet\".into(),\n",
    "        ScanArgsParquet::default(),\n",
    "    )?\n",
    "    .collect()?;\n",
    "df"
   ]
  },
  {
   "cell_type": "markdown",
   "metadata": {},
   "source": [
    "## DataFrame.apply"
   ]
  },
  {
   "cell_type": "code",
   "execution_count": 27,
   "metadata": {},
   "outputs": [],
   "source": [
    "fn as_u64(id: &Series) -> Series {\n",
    "    id.cast(&DataType::UInt64).unwrap()\n",
    "}"
   ]
  },
  {
   "cell_type": "code",
   "execution_count": 29,
   "metadata": {},
   "outputs": [
    {
     "data": {
      "text/plain": [
       "shape: (4002557, 4)\n",
       "┌──────┬──────────────────┬──────────────────┬─────────────┐\n",
       "│ id0  ┆ id1              ┆ id2              ┆ score_r4_it │\n",
       "│ ---  ┆ ---              ┆ ---              ┆ ---         │\n",
       "│ u64  ┆ u64              ┆ u64              ┆ f64         │\n",
       "╞══════╪══════════════════╪══════════════════╪═════════════╡\n",
       "│ 2    ┆ 16796161         ┆ 4503599635760400 ┆ 1.0705      │\n",
       "├╌╌╌╌╌╌┼╌╌╌╌╌╌╌╌╌╌╌╌╌╌╌╌╌╌┼╌╌╌╌╌╌╌╌╌╌╌╌╌╌╌╌╌╌┼╌╌╌╌╌╌╌╌╌╌╌╌╌┤\n",
       "│ 16   ┆ 8293             ┆ 3288727552       ┆ -0.085568   │\n",
       "├╌╌╌╌╌╌┼╌╌╌╌╌╌╌╌╌╌╌╌╌╌╌╌╌╌┼╌╌╌╌╌╌╌╌╌╌╌╌╌╌╌╌╌╌┼╌╌╌╌╌╌╌╌╌╌╌╌╌┤\n",
       "│ 2    ┆ 4503599660926465 ┆ 28684            ┆ 4.779815    │\n",
       "├╌╌╌╌╌╌┼╌╌╌╌╌╌╌╌╌╌╌╌╌╌╌╌╌╌┼╌╌╌╌╌╌╌╌╌╌╌╌╌╌╌╌╌╌┼╌╌╌╌╌╌╌╌╌╌╌╌╌┤\n",
       "│ 4    ┆ 4503599627386947 ┆ 274911465616     ┆ 4.650999    │\n",
       "├╌╌╌╌╌╌┼╌╌╌╌╌╌╌╌╌╌╌╌╌╌╌╌╌╌┼╌╌╌╌╌╌╌╌╌╌╌╌╌╌╌╌╌╌┼╌╌╌╌╌╌╌╌╌╌╌╌╌┤\n",
       "│ ...  ┆ ...              ┆ ...              ┆ ...         │\n",
       "├╌╌╌╌╌╌┼╌╌╌╌╌╌╌╌╌╌╌╌╌╌╌╌╌╌┼╌╌╌╌╌╌╌╌╌╌╌╌╌╌╌╌╌╌┼╌╌╌╌╌╌╌╌╌╌╌╌╌┤\n",
       "│ 4    ┆ 68727866378      ┆ 4224323673915392 ┆ 11.800134   │\n",
       "├╌╌╌╌╌╌┼╌╌╌╌╌╌╌╌╌╌╌╌╌╌╌╌╌╌┼╌╌╌╌╌╌╌╌╌╌╌╌╌╌╌╌╌╌┼╌╌╌╌╌╌╌╌╌╌╌╌╌┤\n",
       "│ 4    ┆ 4199169          ┆ 1073875984       ┆ 0.594198    │\n",
       "├╌╌╌╌╌╌┼╌╌╌╌╌╌╌╌╌╌╌╌╌╌╌╌╌╌┼╌╌╌╌╌╌╌╌╌╌╌╌╌╌╌╌╌╌┼╌╌╌╌╌╌╌╌╌╌╌╌╌┤\n",
       "│ 512  ┆ 1114250          ┆ 70377336209696   ┆ 7.129028    │\n",
       "├╌╌╌╌╌╌┼╌╌╌╌╌╌╌╌╌╌╌╌╌╌╌╌╌╌┼╌╌╌╌╌╌╌╌╌╌╌╌╌╌╌╌╌╌┼╌╌╌╌╌╌╌╌╌╌╌╌╌┤\n",
       "│ 4096 ┆ 1057409          ┆ 4573976961483792 ┆ 18.1317     │\n",
       "└──────┴──────────────────┴──────────────────┴─────────────┘"
      ]
     },
     "execution_count": 29,
     "metadata": {},
     "output_type": "execute_result"
    }
   ],
   "source": [
    "df.apply(\"id0\", as_u64);\n",
    "df.apply(\"id1\", as_u64);\n",
    "df.apply(\"id2\", as_u64);\n",
    "df"
   ]
  },
  {
   "cell_type": "code",
   "execution_count": 36,
   "metadata": {},
   "outputs": [],
   "source": [
    "let f = File::create(\"j.parquet\").expect(\"Unable to create file\");\n",
    "let mut bfw = BufWriter::new(f);\n",
    "let pw = ParquetWriter::new(bfw).with_compression(ParquetCompression::Snappy);"
   ]
  },
  {
   "cell_type": "code",
   "execution_count": 38,
   "metadata": {},
   "outputs": [],
   "source": [
    "pw.finish(&mut df);"
   ]
  },
  {
   "cell_type": "markdown",
   "metadata": {},
   "source": [
    "## Loop Through Rows"
   ]
  },
  {
   "cell_type": "code",
   "execution_count": 19,
   "metadata": {},
   "outputs": [
    {
     "name": "stdout",
     "output_type": "stream",
     "text": [
      "0: Int64(2) Int64(16796161) Int64(4503599635760400) Float64(1.0705899035734592) \n",
      "1: Int64(16) Int64(8293) Int64(3288727552) Float64(-0.08556843043513492) \n",
      "2: Int64(2) Int64(4503599660926465) Int64(28684) Float64(4.779815249979719) \n",
      "3: Int64(4) Int64(4503599627386947) Int64(274911465616) Float64(4.650999108662172) \n",
      "4: Int64(1) Int64(4194968) Int64(549822931264) Float64(0.5104124463171542) \n"
     ]
    },
    {
     "data": {
      "text/plain": [
       "()"
      ]
     },
     "execution_count": 19,
     "metadata": {},
     "output_type": "execute_result"
    }
   ],
   "source": [
    "{\n",
    "    let columns = df.get_columns();\n",
    "    for i in 0..5 {\n",
    "        print!(\"{i}: \");\n",
    "        columns.iter().for_each(|s: &Series| {\n",
    "            print!(\"{:?} \", s.get(i));\n",
    "        });\n",
    "        println!(\"\");\n",
    "    }\n",
    "}"
   ]
  },
  {
   "cell_type": "markdown",
   "metadata": {},
   "source": [
    "## References \n",
    "\n",
    "- [polars](https://github.com/pola-rs/polars)\n",
    "\n",
    "- [Polars Eager cookbook](https://docs.rs/polars/latest/polars/docs/eager/index.html)"
   ]
  },
  {
   "cell_type": "code",
   "execution_count": null,
   "metadata": {},
   "outputs": [],
   "source": []
  }
 ],
 "metadata": {
  "file_extension": ".py",
  "kernelspec": {
   "display_name": "Rust",
   "language": "rust",
   "name": "rust"
  },
  "language_info": {
   "codemirror_mode": "rust",
   "file_extension": ".rs",
   "mimetype": "text/rust",
   "name": "Rust",
   "pygment_lexer": "rust",
   "version": ""
  },
  "mimetype": "text/x-python",
  "name": "python",
  "npconvert_exporter": "python",
  "pygments_lexer": "ipython3",
  "version": 3
 },
 "nbformat": 4,
 "nbformat_minor": 4
}
