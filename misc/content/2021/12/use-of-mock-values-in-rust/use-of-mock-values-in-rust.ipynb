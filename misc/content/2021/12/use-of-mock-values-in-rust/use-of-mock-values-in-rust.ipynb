{
 "cells": [
  {
   "cell_type": "markdown",
   "metadata": {},
   "source": [
    "- Author: Benjamin Du\n",
    "- Date: 2021-12-11 22:41:34\n",
    "- Modified: 2021-12-11 22:41:34\n",
    "- Title: Use of Mock Values in Rust\n",
    "- Slug: use-of-mock-values-in-rust\n",
    "- Category: Computer Science\n",
    "- Tags: Computer Science, programming, Rust, RNG, mock"
   ]
  },
  {
   "cell_type": "markdown",
   "metadata": {},
   "source": [
    "**Things on this page are fragmentary and immature notes/thoughts of the author. Please read with your own judgement!**"
   ]
  },
  {
   "cell_type": "markdown",
   "metadata": {},
   "source": [
    "## Tips and Traps\n",
    "\n",
    "1. Mock values can be helpful sometimes \n",
    "    especially for testing.\n",
    "    For example, \n",
    "    I had a function which takes `rng: &mut dyn RngCore` as a parameter. \n",
    "    However, \n",
    "    for certain combination of other parameters, \n",
    "    `rng` is not used at all.\n",
    "    For those cases, \n",
    "    it is perfectly OK to pass in a mock RNG value. "
   ]
  },
  {
   "cell_type": "code",
   "execution_count": null,
   "metadata": {},
   "outputs": [],
   "source": [
    "struct FakeRng {}\n",
    "\n",
    "impl RngCore for FakeRng {\n",
    "    fn next_u32(&mut self) -> u32 {\n",
    "        todo!()\n",
    "    }\n",
    "\n",
    "    fn next_u64(&mut self) -> u64 {\n",
    "        todo!()\n",
    "    }\n",
    "\n",
    "    fn fill_bytes(&mut self, dest: &mut [u8]) {\n",
    "        todo!()\n",
    "    }\n",
    "\n",
    "    fn try_fill_bytes(&mut self, dest: &mut [u8]) -> Result<(), rand::Error> {\n",
    "        todo!()\n",
    "    }\n",
    "}"
   ]
  }
 ],
 "metadata": {
  "file_extension": ".py",
  "kernelspec": {
   "display_name": "Rust",
   "language": "rust",
   "name": "rust"
  },
  "language_info": {
   "codemirror_mode": "rust",
   "file_extension": ".rs",
   "mimetype": "text/rust",
   "name": "Rust",
   "pygment_lexer": "rust",
   "version": ""
  },
  "mimetype": "text/x-python",
  "name": "python",
  "npconvert_exporter": "python",
  "pygments_lexer": "ipython3",
  "version": 3
 },
 "nbformat": 4,
 "nbformat_minor": 4
}
