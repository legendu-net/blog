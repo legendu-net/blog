{
 "cells": [
  {
   "cell_type": "markdown",
   "metadata": {},
   "source": [
    "- Author: Benjamin Du\n",
    "- Date: 2022-01-18 17:39:31\n",
    "- Modified: 2022-01-18 17:39:31\n",
    "- Title: Hands on the Rust Crate Parquet\n",
    "- Slug: hands-on-the-rust-crate-parquet\n",
    "- Category: Computer Science\n",
    "- Tags: Computer Science, programming, Rust, Parquet, DataFrame"
   ]
  },
  {
   "cell_type": "markdown",
   "metadata": {},
   "source": [
    "**Things on this page are fragmentary and immature notes/thoughts of the author. Please read with your own judgement!**"
   ]
  },
  {
   "cell_type": "code",
   "execution_count": 3,
   "metadata": {},
   "outputs": [],
   "source": [
    ":dep parquet = \"7.0.0\""
   ]
  },
  {
   "cell_type": "code",
   "execution_count": 8,
   "metadata": {},
   "outputs": [
    {
     "name": "stdout",
     "output_type": "stream",
     "text": [
      "column index: 0, column name: id0, column value: 9007474132647936\n",
      "column index: 1, column name: id1, column value: 7424\n",
      "column index: 2, column name: id2, column value: 4362862139015168\n",
      "column index: 3, column name: row0, column value: \"3j Ah\"\n",
      "column index: 4, column name: row1, column value: \"Ad Kd Qd Td\"\n",
      "column index: 5, column name: row2, column value: \"As Ks Qs Js Ts\"\n",
      "column index: 6, column name: time_ana, column value: 0.514239655\n",
      "column index: 7, column name: time_sim, column value: 0.513780129\n",
      "column index: 8, column name: time_sim_unopt, column value: 2.6066436360000003\n",
      "column index: 9, column name: time_it_1k, column value: 0.0911758424762985\n",
      "column index: 10, column name: time_it, column value: 1.125201072\n",
      "column index: 0, column name: id0, column value: 9007474132647936\n",
      "column index: 1, column name: id1, column value: 6912\n",
      "column index: 2, column name: id2, column value: 4362862139015168\n",
      "column index: 3, column name: row0, column value: \"3j Ah\"\n",
      "column index: 4, column name: row1, column value: \"Ad Kd Jd Td\"\n",
      "column index: 5, column name: row2, column value: \"As Ks Qs Js Ts\"\n",
      "column index: 6, column name: time_ana, column value: 0.521932472\n",
      "column index: 7, column name: time_sim, column value: 0.516484461\n",
      "column index: 8, column name: time_sim_unopt, column value: 2.604909176\n",
      "column index: 9, column name: time_it_1k, column value: 0.0986344892634308\n",
      "column index: 10, column name: time_it, column value: 1.217248232\n",
      "column index: 0, column name: id0, column value: 9007474132647936\n",
      "column index: 1, column name: id1, column value: 5888\n",
      "column index: 2, column name: id2, column value: 4362862139015168\n",
      "column index: 3, column name: row0, column value: \"3j Ah\"\n",
      "column index: 4, column name: row1, column value: \"Ad Qd Jd Td\"\n",
      "column index: 5, column name: row2, column value: \"As Ks Qs Js Ts\"\n",
      "column index: 6, column name: time_ana, column value: 0.544197511\n",
      "column index: 7, column name: time_sim, column value: 0.53159728\n",
      "column index: 8, column name: time_sim_unopt, column value: 2.650837948\n",
      "column index: 9, column name: time_it_1k, column value: 0.0983330353293898\n",
      "column index: 10, column name: time_it, column value: 1.213527989\n",
      "column index: 0, column name: id0, column value: 9007474132647936\n",
      "column index: 1, column name: id1, column value: 3840\n",
      "column index: 2, column name: id2, column value: 4362862139015168\n",
      "column index: 3, column name: row0, column value: \"3j Ah\"\n",
      "column index: 4, column name: row1, column value: \"Kd Qd Jd Td\"\n",
      "column index: 5, column name: row2, column value: \"As Ks Qs Js Ts\"\n",
      "column index: 6, column name: time_ana, column value: 0.612770978\n",
      "column index: 7, column name: time_sim, column value: 0.589677791\n",
      "column index: 8, column name: time_sim_unopt, column value: 2.699055747\n",
      "column index: 9, column name: time_it_1k, column value: 0.0893710769791751\n",
      "column index: 10, column name: time_it, column value: 1.102928461\n",
      "column index: 0, column name: id0, column value: 9007203549708288\n",
      "column index: 1, column name: id1, column value: 7680\n",
      "column index: 2, column name: id2, column value: 4362862139015168\n",
      "column index: 3, column name: row0, column value: \"3j 8h\"\n",
      "column index: 4, column name: row1, column value: \"Ad Kd Qd Jd\"\n",
      "column index: 5, column name: row2, column value: \"As Ks Qs Js Ts\"\n",
      "column index: 6, column name: time_ana, column value: 0.541861286\n",
      "column index: 7, column name: time_sim, column value: 0.559772314\n",
      "column index: 8, column name: time_sim_unopt, column value: 2.870595327\n",
      "column index: 9, column name: time_it_1k, column value: 0.1010760360586662\n",
      "column index: 10, column name: time_it, column value: 1.247379361\n"
     ]
    },
    {
     "data": {
      "text/plain": [
       "()"
      ]
     },
     "execution_count": 8,
     "metadata": {},
     "output_type": "execute_result"
    }
   ],
   "source": [
    "use std::fs::File;\n",
    "use std::path::Path;\n",
    "use parquet::file::reader::{FileReader, SerializedFileReader};\n",
    "\n",
    "let file = File::open(\"../bench.parquet\").unwrap();\n",
    "let reader = SerializedFileReader::new(file).unwrap();\n",
    "for row in reader.get_row_iter(None).unwrap() {\n",
    "    for (idx, (name, field)) in row.get_column_iter().enumerate() {\n",
    "        println!(\"column index: {}, column name: {}, column value: {}\", idx, name, field);\n",
    "    }\n",
    "}"
   ]
  },
  {
   "cell_type": "markdown",
   "metadata": {},
   "source": [
    "## References \n",
    "\n",
    "[Rust Crate - parquet](https://crates.io/crates/parquet)"
   ]
  }
 ],
 "metadata": {
  "file_extension": ".py",
  "kernelspec": {
   "display_name": "Rust",
   "language": "rust",
   "name": "rust"
  },
  "language_info": {
   "codemirror_mode": "rust",
   "file_extension": ".rs",
   "mimetype": "text/rust",
   "name": "Rust",
   "pygment_lexer": "rust",
   "version": ""
  },
  "mimetype": "text/x-python",
  "name": "python",
  "npconvert_exporter": "python",
  "pygments_lexer": "ipython3",
  "version": 3
 },
 "nbformat": 4,
 "nbformat_minor": 4
}
