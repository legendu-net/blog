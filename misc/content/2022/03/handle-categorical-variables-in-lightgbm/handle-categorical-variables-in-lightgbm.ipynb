{
 "cells": [
  {
   "cell_type": "markdown",
   "metadata": {},
   "source": [
    "- Author: Benjamin Du\n",
    "- Date: 2022-03-26 17:37:54\n",
    "- Modified: 2022-03-26 22:21:23\n",
    "- Title: Handle Categorical Variables in LightGBM\n",
    "- Slug: handle-categorical-variables-in-lightgbm\n",
    "- Category: Computer Science\n",
    "- Tags: Computer Science, programming, AI, data science, machine learning, LightGBM, categorical, category\n"
   ]
  },
  {
   "cell_type": "markdown",
   "metadata": {},
   "source": [
    "**Things on this page are fragmentary and immature notes/thoughts of the author. Please read with your own judgement!**"
   ]
  },
  {
   "cell_type": "markdown",
   "metadata": {},
   "source": [
    "LightGBM support pandas columns of `category` type. \n",
    "As a matter of fact,\n",
    "this is the suggested way of handling categorical columns in LightGBM.\n",
    "\n",
    "    data[feature] = pd.Series(data[feature], dtype=\"category\")\n",
    "\n",
    "A LightGBM model (which is a Booster object) records categories of each categorical feature. \n",
    "This information is used to set categories of each categorical feature during prediction,\n",
    "which ensures that a LightGBM model can always handle categorical features correctly."
   ]
  },
  {
   "cell_type": "markdown",
   "metadata": {},
   "source": [
    "However, \n",
    "be careful about importance of categorical features.\n",
    "The article \n",
    "[Beware of categorical features in LGBM!](https://www.kaggle.com/code/mlisovyi/beware-of-categorical-features-in-lgbm/notebook)\n",
    "argues that the Python library shap is better (than built-in methods) \n",
    "for reporting feature importance,\n",
    "especially when you deal with categorical features. \n",
    "Please refer to \n",
    "[Interpreting a LightGBM model](https://www.kaggle.com/code/slundberg/interpreting-a-lightgbm-model/notebook)\n",
    "for more details on how to use shap."
   ]
  },
  {
   "cell_type": "markdown",
   "metadata": {},
   "source": [
    "## References \n",
    "\n",
    "https://pandas.pydata.org/docs/reference/api/pandas.DataFrame.astype.html"
   ]
  },
  {
   "cell_type": "code",
   "execution_count": null,
   "metadata": {},
   "outputs": [],
   "source": []
  }
 ],
 "metadata": {
  "file_extension": ".py",
  "kernelspec": {
   "display_name": "Python 3 (ipykernel)",
   "language": "python",
   "name": "python3"
  },
  "language_info": {
   "codemirror_mode": {
    "name": "ipython",
    "version": 3
   },
   "file_extension": ".py",
   "mimetype": "text/x-python",
   "name": "python",
   "nbconvert_exporter": "python",
   "pygments_lexer": "ipython3",
   "version": "3.8.10"
  },
  "mimetype": "text/x-python",
  "name": "python",
  "npconvert_exporter": "python",
  "pygments_lexer": "ipython3",
  "version": 3
 },
 "nbformat": 4,
 "nbformat_minor": 4
}