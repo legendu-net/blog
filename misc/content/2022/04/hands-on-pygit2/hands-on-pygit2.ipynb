{
 "cells": [
  {
   "cell_type": "markdown",
   "metadata": {},
   "source": [
    "- Author: Benjamin Du\n",
    "- Date: 2022-04-27 17:02:41\n",
    "- Modified: 2022-04-27 17:02:41\n",
    "- Title: Hands on Pygit2\n",
    "- Slug: hands-on-pygit2\n",
    "- Category: Computer Science\n",
    "- Tags: Computer Science, programming"
   ]
  },
  {
   "cell_type": "markdown",
   "metadata": {},
   "source": [
    "**Things on this page are fragmentary and immature notes/thoughts of the author. Please read with your own judgement!**"
   ]
  },
  {
   "cell_type": "code",
   "execution_count": 1,
   "metadata": {},
   "outputs": [],
   "source": [
    "import pygit2"
   ]
  },
  {
   "cell_type": "code",
   "execution_count": 101,
   "metadata": {},
   "outputs": [
    {
     "data": {
      "text/plain": [
       "_pygit2.InvalidSpecError"
      ]
     },
     "execution_count": 101,
     "metadata": {},
     "output_type": "execute_result"
    }
   ],
   "source": [
    "pygit2.InvalidSpecError"
   ]
  },
  {
   "cell_type": "markdown",
   "metadata": {},
   "source": [
    "## Clone a Repository"
   ]
  },
  {
   "cell_type": "code",
   "execution_count": 32,
   "metadata": {},
   "outputs": [],
   "source": [
    "url = \"https://github.com/dclong/docker-ubuntu_b.git\"\n",
    "dir_local = \"/tmp/test_pygit2\"\n",
    "!rm -rf {dir_local}"
   ]
  },
  {
   "cell_type": "code",
   "execution_count": 33,
   "metadata": {},
   "outputs": [],
   "source": [
    "repo = pygit2.clone_repository(url, dir_local)"
   ]
  },
  {
   "cell_type": "code",
   "execution_count": 18,
   "metadata": {},
   "outputs": [
    {
     "name": "stdout",
     "output_type": "stream",
     "text": [
      "build.sh  Dockerfile  LICENSE  readme.md  scripts\n"
     ]
    }
   ],
   "source": [
    "!ls {dir_local}"
   ]
  },
  {
   "cell_type": "code",
   "execution_count": 29,
   "metadata": {},
   "outputs": [],
   "source": [
    "url2 = \"https://github.com/dclong/docker-ubuntu_b\"\n",
    "dir_local2 = \"/tmp/test_pygit2_2\""
   ]
  },
  {
   "cell_type": "code",
   "execution_count": 12,
   "metadata": {},
   "outputs": [
    {
     "data": {
      "text/plain": [
       "pygit2.Repository('/tmp/test_pygit2_2/.git/')"
      ]
     },
     "execution_count": 12,
     "metadata": {},
     "output_type": "execute_result"
    }
   ],
   "source": [
    "pygit2.clone_repository(url, dir_local)"
   ]
  },
  {
   "cell_type": "code",
   "execution_count": 13,
   "metadata": {},
   "outputs": [
    {
     "name": "stdout",
     "output_type": "stream",
     "text": [
      "\u001b[0m\u001b[01;32mbuild.sh\u001b[0m*  Dockerfile  LICENSE  readme.md  \u001b[01;34mscripts\u001b[0m/\n"
     ]
    }
   ],
   "source": [
    "ls /tmp/test_pygit2_2/"
   ]
  },
  {
   "cell_type": "markdown",
   "metadata": {},
   "source": [
    "## Methods of pygit2.Repository"
   ]
  },
  {
   "cell_type": "code",
   "execution_count": 28,
   "metadata": {},
   "outputs": [
    {
     "data": {
      "text/plain": [
       "['TreeBuilder',\n",
       " 'add_submodule',\n",
       " 'add_worktree',\n",
       " 'ahead_behind',\n",
       " 'amend_commit',\n",
       " 'applies',\n",
       " 'apply',\n",
       " 'blame',\n",
       " 'branches',\n",
       " 'checkout',\n",
       " 'checkout_head',\n",
       " 'checkout_index',\n",
       " 'checkout_tree',\n",
       " 'cherrypick',\n",
       " 'compress_references',\n",
       " 'config',\n",
       " 'config_snapshot',\n",
       " 'create_blob',\n",
       " 'create_blob_fromdisk',\n",
       " 'create_blob_fromiobase',\n",
       " 'create_blob_fromworkdir',\n",
       " 'create_branch',\n",
       " 'create_commit',\n",
       " 'create_note',\n",
       " 'create_reference',\n",
       " 'create_reference_direct',\n",
       " 'create_reference_symbolic',\n",
       " 'create_remote',\n",
       " 'create_tag',\n",
       " 'default_signature',\n",
       " 'descendant_of',\n",
       " 'describe',\n",
       " 'diff',\n",
       " 'expand_id',\n",
       " 'free',\n",
       " 'get',\n",
       " 'get_attr',\n",
       " 'git_object_lookup_prefix',\n",
       " 'head',\n",
       " 'head_is_detached',\n",
       " 'head_is_unborn',\n",
       " 'ident',\n",
       " 'index',\n",
       " 'init_submodules',\n",
       " 'is_bare',\n",
       " 'is_empty',\n",
       " 'is_shallow',\n",
       " 'list_worktrees',\n",
       " 'listall_branches',\n",
       " 'listall_reference_objects',\n",
       " 'listall_references',\n",
       " 'listall_stashes',\n",
       " 'listall_submodules',\n",
       " 'lookup_branch',\n",
       " 'lookup_note',\n",
       " 'lookup_reference',\n",
       " 'lookup_reference_dwim',\n",
       " 'lookup_submodule',\n",
       " 'lookup_worktree',\n",
       " 'merge',\n",
       " 'merge_analysis',\n",
       " 'merge_base',\n",
       " 'merge_base_many',\n",
       " 'merge_base_octopus',\n",
       " 'merge_commits',\n",
       " 'merge_file_from_index',\n",
       " 'merge_trees',\n",
       " 'notes',\n",
       " 'odb',\n",
       " 'pack',\n",
       " 'path',\n",
       " 'path_is_ignored',\n",
       " 'raw_listall_branches',\n",
       " 'raw_listall_references',\n",
       " 'read',\n",
       " 'refdb',\n",
       " 'references',\n",
       " 'remotes',\n",
       " 'reset',\n",
       " 'resolve_refish',\n",
       " 'revert_commit',\n",
       " 'revparse',\n",
       " 'revparse_ext',\n",
       " 'revparse_single',\n",
       " 'set_head',\n",
       " 'set_ident',\n",
       " 'set_odb',\n",
       " 'set_refdb',\n",
       " 'stash',\n",
       " 'stash_apply',\n",
       " 'stash_drop',\n",
       " 'stash_pop',\n",
       " 'state_cleanup',\n",
       " 'status',\n",
       " 'status_file',\n",
       " 'update_submodules',\n",
       " 'walk',\n",
       " 'workdir',\n",
       " 'write',\n",
       " 'write_archive']"
      ]
     },
     "execution_count": 28,
     "metadata": {},
     "output_type": "execute_result"
    }
   ],
   "source": [
    "[m for m in dir(repo) if not m.startswith(\"_\")]"
   ]
  },
  {
   "cell_type": "markdown",
   "metadata": {},
   "source": [
    "## Information of the Local Repository"
   ]
  },
  {
   "cell_type": "code",
   "execution_count": 19,
   "metadata": {},
   "outputs": [
    {
     "data": {
      "text/plain": [
       "pygit2.Repository('/tmp/test_pygit2/.git/')"
      ]
     },
     "execution_count": 19,
     "metadata": {},
     "output_type": "execute_result"
    }
   ],
   "source": [
    "repo"
   ]
  },
  {
   "cell_type": "markdown",
   "metadata": {},
   "source": [
    "### Branches"
   ]
  },
  {
   "cell_type": "code",
   "execution_count": 24,
   "metadata": {},
   "outputs": [
    {
     "data": {
      "text/plain": [
       "<pygit2.repository.Branches at 0x7f92480ae100>"
      ]
     },
     "execution_count": 24,
     "metadata": {},
     "output_type": "execute_result"
    }
   ],
   "source": [
    "repo.branches"
   ]
  },
  {
   "cell_type": "code",
   "execution_count": 50,
   "metadata": {},
   "outputs": [
    {
     "data": {
      "text/plain": [
       "<_pygit2.Branch at 0x7f9223679490>"
      ]
     },
     "execution_count": 50,
     "metadata": {},
     "output_type": "execute_result"
    }
   ],
   "source": [
    "repo.branches.get(\"origin/main\")"
   ]
  },
  {
   "cell_type": "code",
   "execution_count": 63,
   "metadata": {},
   "outputs": [
    {
     "data": {
      "text/plain": [
       "['dev',\n",
       " 'main',\n",
       " 'origin/22.04',\n",
       " 'origin/HEAD',\n",
       " 'origin/centos7',\n",
       " 'origin/debian',\n",
       " 'origin/dev',\n",
       " 'origin/main']"
      ]
     },
     "execution_count": 63,
     "metadata": {},
     "output_type": "execute_result"
    }
   ],
   "source": [
    "list(repo.branches)"
   ]
  },
  {
   "cell_type": "markdown",
   "metadata": {},
   "source": [
    "## References"
   ]
  },
  {
   "cell_type": "code",
   "execution_count": 51,
   "metadata": {},
   "outputs": [
    {
     "data": {
      "text/plain": [
       "<pygit2.repository.References at 0x7f91e60d76a0>"
      ]
     },
     "execution_count": 51,
     "metadata": {},
     "output_type": "execute_result"
    }
   ],
   "source": [
    "repo.references"
   ]
  },
  {
   "cell_type": "code",
   "execution_count": 68,
   "metadata": {},
   "outputs": [
    {
     "data": {
      "text/plain": [
       "['refs/heads/dev',\n",
       " 'refs/heads/main',\n",
       " 'refs/remotes/origin/22.04',\n",
       " 'refs/remotes/origin/HEAD',\n",
       " 'refs/remotes/origin/centos7',\n",
       " 'refs/remotes/origin/debian',\n",
       " 'refs/remotes/origin/dev',\n",
       " 'refs/remotes/origin/main']"
      ]
     },
     "execution_count": 68,
     "metadata": {},
     "output_type": "execute_result"
    }
   ],
   "source": [
    "list(repo.references)"
   ]
  },
  {
   "cell_type": "code",
   "execution_count": 72,
   "metadata": {},
   "outputs": [
    {
     "ename": "InvalidSpecError",
     "evalue": "centos7: the given reference name 'centos7' is not valid",
     "output_type": "error",
     "traceback": [
      "\u001b[0;31m---------------------------------------------------------------------------\u001b[0m",
      "\u001b[0;31mInvalidSpecError\u001b[0m                          Traceback (most recent call last)",
      "Input \u001b[0;32mIn [72]\u001b[0m, in \u001b[0;36m<cell line: 1>\u001b[0;34m()\u001b[0m\n\u001b[0;32m----> 1\u001b[0m \u001b[43mrepo\u001b[49m\u001b[38;5;241;43m.\u001b[39;49m\u001b[43mlookup_reference\u001b[49m\u001b[43m(\u001b[49m\u001b[38;5;124;43m\"\u001b[39;49m\u001b[38;5;124;43mcentos7\u001b[39;49m\u001b[38;5;124;43m\"\u001b[39;49m\u001b[43m)\u001b[49m\n",
      "\u001b[0;31mInvalidSpecError\u001b[0m: centos7: the given reference name 'centos7' is not valid"
     ]
    }
   ],
   "source": [
    "repo.lookup_reference(\"centos7\")"
   ]
  },
  {
   "cell_type": "code",
   "execution_count": 73,
   "metadata": {},
   "outputs": [
    {
     "data": {
      "text/plain": [
       "<_pygit2.Reference at 0x7f92235d4c10>"
      ]
     },
     "execution_count": 73,
     "metadata": {},
     "output_type": "execute_result"
    }
   ],
   "source": [
    "repo.lookup_reference(\"refs/remotes/origin/centos7\")"
   ]
  },
  {
   "cell_type": "markdown",
   "metadata": {},
   "source": [
    "## Checkout a Reference"
   ]
  },
  {
   "cell_type": "code",
   "execution_count": 36,
   "metadata": {},
   "outputs": [
    {
     "name": "stdout",
     "output_type": "stream",
     "text": [
      "On branch dev\n",
      "Your branch is up to date with 'origin/dev'.\n",
      "\n",
      "nothing to commit, working tree clean\n"
     ]
    }
   ],
   "source": [
    "!git -C {dir_local} status"
   ]
  },
  {
   "cell_type": "code",
   "execution_count": 71,
   "metadata": {},
   "outputs": [
    {
     "ename": "InvalidSpecError",
     "evalue": "nima: the given reference name 'nima' is not valid",
     "output_type": "error",
     "traceback": [
      "\u001b[0;31m---------------------------------------------------------------------------\u001b[0m",
      "\u001b[0;31mInvalidSpecError\u001b[0m                          Traceback (most recent call last)",
      "Input \u001b[0;32mIn [71]\u001b[0m, in \u001b[0;36m<cell line: 1>\u001b[0;34m()\u001b[0m\n\u001b[0;32m----> 1\u001b[0m \u001b[43mrepo\u001b[49m\u001b[38;5;241;43m.\u001b[39;49m\u001b[43mcheckout\u001b[49m\u001b[43m(\u001b[49m\u001b[38;5;124;43m\"\u001b[39;49m\u001b[38;5;124;43mnima\u001b[39;49m\u001b[38;5;124;43m\"\u001b[39;49m\u001b[43m)\u001b[49m\n",
      "File \u001b[0;32m~/.local/lib/python3.8/site-packages/pygit2/repository.py:422\u001b[0m, in \u001b[0;36mBaseRepository.checkout\u001b[0;34m(self, refname, **kwargs)\u001b[0m\n\u001b[1;32m    420\u001b[0m     refname \u001b[38;5;241m=\u001b[39m refname\u001b[38;5;241m.\u001b[39mname\n\u001b[1;32m    421\u001b[0m \u001b[38;5;28;01melse\u001b[39;00m:\n\u001b[0;32m--> 422\u001b[0m     reference \u001b[38;5;241m=\u001b[39m \u001b[38;5;28;43mself\u001b[39;49m\u001b[38;5;241;43m.\u001b[39;49m\u001b[43mlookup_reference\u001b[49m\u001b[43m(\u001b[49m\u001b[43mrefname\u001b[49m\u001b[43m)\u001b[49m\n\u001b[1;32m    424\u001b[0m oid \u001b[38;5;241m=\u001b[39m reference\u001b[38;5;241m.\u001b[39mresolve()\u001b[38;5;241m.\u001b[39mtarget\n\u001b[1;32m    425\u001b[0m treeish \u001b[38;5;241m=\u001b[39m \u001b[38;5;28mself\u001b[39m[oid]\n",
      "\u001b[0;31mInvalidSpecError\u001b[0m: nima: the given reference name 'nima' is not valid"
     ]
    }
   ],
   "source": [
    "repo.checkout(\"nima\")"
   ]
  },
  {
   "cell_type": "code",
   "execution_count": 77,
   "metadata": {},
   "outputs": [],
   "source": [
    "repo.checkout(\"refs/heads/dev\")"
   ]
  },
  {
   "cell_type": "code",
   "execution_count": 74,
   "metadata": {},
   "outputs": [],
   "source": [
    "repo.checkout(\"refs/heads/main\")"
   ]
  },
  {
   "cell_type": "code",
   "execution_count": 75,
   "metadata": {},
   "outputs": [
    {
     "name": "stdout",
     "output_type": "stream",
     "text": [
      "On branch main\n",
      "Your branch is up to date with 'origin/main'.\n",
      "\n",
      "nothing to commit, working tree clean\n"
     ]
    }
   ],
   "source": [
    "!git -C {dir_local} status"
   ]
  },
  {
   "cell_type": "code",
   "execution_count": 53,
   "metadata": {},
   "outputs": [],
   "source": [
    "repo.checkout(\"refs/remotes/origin/main\")"
   ]
  },
  {
   "cell_type": "code",
   "execution_count": 54,
   "metadata": {},
   "outputs": [
    {
     "name": "stdout",
     "output_type": "stream",
     "text": [
      "\u001b[31mHEAD detached at \u001b[morigin/main\n",
      "nothing to commit, working tree clean\n"
     ]
    }
   ],
   "source": [
    "!git -C {dir_local} status"
   ]
  },
  {
   "cell_type": "code",
   "execution_count": 55,
   "metadata": {},
   "outputs": [
    {
     "name": "stdout",
     "output_type": "stream",
     "text": [
      "* \u001b[32m(HEAD detached at origin/main)\u001b[m\n",
      "  dev\u001b[m\n"
     ]
    }
   ],
   "source": [
    "!git -C {dir_local} branch"
   ]
  },
  {
   "cell_type": "markdown",
   "metadata": {},
   "source": [
    "## Status of the Repository"
   ]
  },
  {
   "cell_type": "code",
   "execution_count": 78,
   "metadata": {},
   "outputs": [
    {
     "data": {
      "text/plain": [
       "{'Dockerfile': 256}"
      ]
     },
     "execution_count": 78,
     "metadata": {},
     "output_type": "execute_result"
    }
   ],
   "source": [
    "repo.status()"
   ]
  },
  {
   "cell_type": "markdown",
   "metadata": {},
   "source": [
    "## Stash Changes"
   ]
  },
  {
   "cell_type": "code",
   "execution_count": 86,
   "metadata": {},
   "outputs": [
    {
     "data": {
      "text/plain": [
       "pygit2.Signature('Benjamin Du', 'longendu@yahoo.com', 1651127956, 4294966876, 'utf-8')"
      ]
     },
     "execution_count": 86,
     "metadata": {},
     "output_type": "execute_result"
    }
   ],
   "source": [
    "repo.default_signature"
   ]
  },
  {
   "cell_type": "code",
   "execution_count": 87,
   "metadata": {},
   "outputs": [
    {
     "ename": "KeyError",
     "evalue": "'cannot stash changes - there is nothing to stash.'",
     "output_type": "error",
     "traceback": [
      "\u001b[0;31m---------------------------------------------------------------------------\u001b[0m",
      "\u001b[0;31mKeyError\u001b[0m                                  Traceback (most recent call last)",
      "Input \u001b[0;32mIn [87]\u001b[0m, in \u001b[0;36m<cell line: 1>\u001b[0;34m()\u001b[0m\n\u001b[0;32m----> 1\u001b[0m \u001b[43mrepo\u001b[49m\u001b[38;5;241;43m.\u001b[39;49m\u001b[43mstash\u001b[49m\u001b[43m(\u001b[49m\u001b[43mrepo\u001b[49m\u001b[38;5;241;43m.\u001b[39;49m\u001b[43mdefault_signature\u001b[49m\u001b[43m)\u001b[49m\n",
      "File \u001b[0;32m~/.local/lib/python3.8/site-packages/pygit2/repository.py:1091\u001b[0m, in \u001b[0;36mBaseRepository.stash\u001b[0;34m(self, stasher, message, keep_index, include_untracked, include_ignored)\u001b[0m\n\u001b[1;32m   1089\u001b[0m coid \u001b[38;5;241m=\u001b[39m ffi\u001b[38;5;241m.\u001b[39mnew(\u001b[38;5;124m'\u001b[39m\u001b[38;5;124mgit_oid *\u001b[39m\u001b[38;5;124m'\u001b[39m)\n\u001b[1;32m   1090\u001b[0m err \u001b[38;5;241m=\u001b[39m C\u001b[38;5;241m.\u001b[39mgit_stash_save(coid, \u001b[38;5;28mself\u001b[39m\u001b[38;5;241m.\u001b[39m_repo, stasher_cptr[\u001b[38;5;241m0\u001b[39m], stash_msg, flags)\n\u001b[0;32m-> 1091\u001b[0m \u001b[43mcheck_error\u001b[49m\u001b[43m(\u001b[49m\u001b[43merr\u001b[49m\u001b[43m)\u001b[49m\n\u001b[1;32m   1093\u001b[0m \u001b[38;5;28;01mreturn\u001b[39;00m Oid(raw\u001b[38;5;241m=\u001b[39m\u001b[38;5;28mbytes\u001b[39m(ffi\u001b[38;5;241m.\u001b[39mbuffer(coid)[:]))\n",
      "File \u001b[0;32m~/.local/lib/python3.8/site-packages/pygit2/errors.py:56\u001b[0m, in \u001b[0;36mcheck_error\u001b[0;34m(err, io)\u001b[0m\n\u001b[1;32m     53\u001b[0m     \u001b[38;5;28;01mif\u001b[39;00m io:\n\u001b[1;32m     54\u001b[0m         \u001b[38;5;28;01mraise\u001b[39;00m \u001b[38;5;167;01mIOError\u001b[39;00m(message)\n\u001b[0;32m---> 56\u001b[0m     \u001b[38;5;28;01mraise\u001b[39;00m \u001b[38;5;167;01mKeyError\u001b[39;00m(message)\n\u001b[1;32m     58\u001b[0m \u001b[38;5;28;01mif\u001b[39;00m err \u001b[38;5;241m==\u001b[39m C\u001b[38;5;241m.\u001b[39mGIT_EINVALIDSPEC:\n\u001b[1;32m     59\u001b[0m     \u001b[38;5;28;01mraise\u001b[39;00m \u001b[38;5;167;01mValueError\u001b[39;00m(message)\n",
      "\u001b[0;31mKeyError\u001b[0m: 'cannot stash changes - there is nothing to stash.'"
     ]
    }
   ],
   "source": [
    "repo.stash(repo.default_signature)"
   ]
  },
  {
   "cell_type": "markdown",
   "metadata": {},
   "source": [
    "## Create a Branch"
   ]
  },
  {
   "cell_type": "code",
   "execution_count": 26,
   "metadata": {},
   "outputs": [
    {
     "data": {
      "text/plain": [
       "\u001b[0;31mDocstring:\u001b[0m\n",
       "create_branch(name: str, commit: Commit, force: bool = False) -> Branch\n",
       "\n",
       "Create a new branch \"name\" which points to a commit.\n",
       "\n",
       "Returns: Branch\n",
       "\n",
       "Parameters:\n",
       "\n",
       "force\n",
       "    If True branches will be overridden, otherwise (the default) an\n",
       "    exception is raised.\n",
       "\n",
       "Examples::\n",
       "\n",
       "    repo.create_branch('foo', repo.head.peel(), force=False)\n",
       "\u001b[0;31mType:\u001b[0m      builtin_function_or_method\n"
      ]
     },
     "metadata": {},
     "output_type": "display_data"
    }
   ],
   "source": [
    "repo.create_branch?"
   ]
  },
  {
   "cell_type": "markdown",
   "metadata": {},
   "source": [
    "## Create a Commit"
   ]
  },
  {
   "cell_type": "code",
   "execution_count": 27,
   "metadata": {},
   "outputs": [
    {
     "data": {
      "text/plain": [
       "\u001b[0;31mDocstring:\u001b[0m\n",
       "create_commit(reference_name: str, author: Signature, committer: Signature, message: bytes | str, tree: Oid, parents: list[Oid][, encoding: str]) -> Oid\n",
       "\n",
       "Create a new commit object, return its oid.\n",
       "\u001b[0;31mType:\u001b[0m      builtin_function_or_method\n"
      ]
     },
     "metadata": {},
     "output_type": "display_data"
    }
   ],
   "source": [
    "repo.create_commit?"
   ]
  },
  {
   "cell_type": "markdown",
   "metadata": {},
   "source": [
    "## References\n",
    "\n",
    "https://www.pygit2.org/"
   ]
  }
 ],
 "metadata": {
  "file_extension": ".py",
  "kernelspec": {
   "display_name": "Python 3 (ipykernel)",
   "language": "python",
   "name": "python3"
  },
  "language_info": {
   "codemirror_mode": {
    "name": "ipython",
    "version": 3
   },
   "file_extension": ".py",
   "mimetype": "text/x-python",
   "name": "python",
   "nbconvert_exporter": "python",
   "pygments_lexer": "ipython3",
   "version": "3.8.10"
  },
  "mimetype": "text/x-python",
  "name": "python",
  "npconvert_exporter": "python",
  "pygments_lexer": "ipython3",
  "version": 3
 },
 "nbformat": 4,
 "nbformat_minor": 4
}
