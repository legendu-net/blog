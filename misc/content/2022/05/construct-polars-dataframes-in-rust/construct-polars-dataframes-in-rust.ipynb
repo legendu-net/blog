{
 "cells": [
  {
   "cell_type": "markdown",
   "metadata": {},
   "source": [
    "- Author: Benjamin Du\n",
    "- Date: 2022-05-24 00:08:10\n",
    "- Modified: 2022-05-24 00:08:10\n",
    "- Title: Construct Polars Dataframes in Rust\n",
    "- Slug: construct-polars-dataframes-in-rust\n",
    "- Category: Computer Science\n",
    "- Tags: Computer Science, programming, Rust, polars, DataFrame, construct, df"
   ]
  },
  {
   "cell_type": "markdown",
   "metadata": {},
   "source": [
    "**Things on this page are fragmentary and immature notes/thoughts of the author. Please read with your own judgement!**"
   ]
  },
  {
   "cell_type": "code",
   "execution_count": 4,
   "metadata": {},
   "outputs": [],
   "source": [
    ":dep polars = { version = \"0.21.1\", features = [\"lazy\", \"parquet\"] }"
   ]
  },
  {
   "cell_type": "code",
   "execution_count": 26,
   "metadata": {},
   "outputs": [],
   "source": [
    "use polars::prelude::*;\n",
    "use polars::df;"
   ]
  },
  {
   "cell_type": "markdown",
   "metadata": {},
   "source": [
    "## Construct DataFrames"
   ]
  },
  {
   "cell_type": "markdown",
   "metadata": {},
   "source": [
    "Construct a DataFrame using the `df` macro."
   ]
  },
  {
   "cell_type": "code",
   "execution_count": 26,
   "metadata": {},
   "outputs": [
    {
     "data": {
      "text/plain": [
       "shape: (3, 3)\n",
       "┌───────┬────────┬──────────────┐\n",
       "│ names ┆ values ┆ values_nulls │\n",
       "│ ---   ┆ ---    ┆ ---          │\n",
       "│ str   ┆ i32    ┆ i32          │\n",
       "╞═══════╪════════╪══════════════╡\n",
       "│ a     ┆ 1      ┆ 1            │\n",
       "├╌╌╌╌╌╌╌┼╌╌╌╌╌╌╌╌┼╌╌╌╌╌╌╌╌╌╌╌╌╌╌┤\n",
       "│ b     ┆ 2      ┆ null         │\n",
       "├╌╌╌╌╌╌╌┼╌╌╌╌╌╌╌╌┼╌╌╌╌╌╌╌╌╌╌╌╌╌╌┤\n",
       "│ c     ┆ 3      ┆ 3            │\n",
       "└───────┴────────┴──────────────┘"
      ]
     },
     "execution_count": 26,
     "metadata": {},
     "output_type": "execute_result"
    }
   ],
   "source": [
    "// use macro\n",
    "let df = df![\n",
    "    \"names\" => [\"a\", \"b\", \"c\"],\n",
    "    \"values\" => [1, 2, 3],\n",
    "    \"values_nulls\" => [Some(1), None, Some(3)]\n",
    "].unwrap();\n",
    "df"
   ]
  },
  {
   "cell_type": "markdown",
   "metadata": {},
   "source": [
    "Construct a polars DataFrame from a vector of Series."
   ]
  },
  {
   "cell_type": "code",
   "execution_count": 4,
   "metadata": {},
   "outputs": [
    {
     "data": {
      "text/plain": [
       "shape: (3, 2)\n",
       "+-------+--------+\n",
       "| names | values |\n",
       "| ---   | ---    |\n",
       "| str   | i32    |\n",
       "+=======+========+\n",
       "| a     | 1      |\n",
       "+-------+--------+\n",
       "| b     | null   |\n",
       "+-------+--------+\n",
       "| c     | 3      |\n",
       "+-------+--------+\n"
      ]
     },
     "execution_count": 4,
     "metadata": {},
     "output_type": "execute_result"
    }
   ],
   "source": [
    "let s1 = Series::new(\"names\", &[\"a\", \"b\", \"c\"]);\n",
    "let s2 = Series::new(\"values\", &[Some(1), None, Some(3)]);\n",
    "let df = DataFrame::new(vec![s1, s2]).unwrap();\n",
    "df"
   ]
  },
  {
   "cell_type": "markdown",
   "metadata": {},
   "source": [
    "## References \n",
    "\n",
    "- [polars](https://github.com/pola-rs/polars)\n",
    "\n",
    "- [Polars Eager cookbook](https://docs.rs/polars/latest/polars/docs/eager/index.html)"
   ]
  },
  {
   "cell_type": "code",
   "execution_count": null,
   "metadata": {},
   "outputs": [],
   "source": []
  }
 ],
 "metadata": {
  "file_extension": ".py",
  "kernelspec": {
   "display_name": "Rust",
   "language": "rust",
   "name": "rust"
  },
  "language_info": {
   "codemirror_mode": "rust",
   "file_extension": ".rs",
   "mimetype": "text/rust",
   "name": "Rust",
   "pygment_lexer": "rust",
   "version": ""
  },
  "mimetype": "text/x-python",
  "name": "python",
  "npconvert_exporter": "python",
  "pygments_lexer": "ipython3",
  "version": 3
 },
 "nbformat": 4,
 "nbformat_minor": 4
}
