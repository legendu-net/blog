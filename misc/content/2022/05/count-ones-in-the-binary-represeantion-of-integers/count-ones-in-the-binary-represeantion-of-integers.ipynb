{
 "cells": [
  {
   "cell_type": "markdown",
   "metadata": {},
   "source": [
    "- Author: Benjamin Du\n",
    "- Date: 2022-05-16 09:52:10\n",
    "- Modified: 2022-05-16 09:52:10\n",
    "- Title: Count Ones in the Binary Represeantion of Integers\n",
    "- Slug: count-ones-in-the-binary-represeantion-of-integers\n",
    "- Category: Computer Science\n",
    "- Tags: Computer Science, programming, count, bits, ones, Python, Rust, Hamming weight, LeetCode"
   ]
  },
  {
   "cell_type": "markdown",
   "metadata": {},
   "source": [
    "**Things on this page are fragmentary and immature notes/thoughts of the author. Please read with your own judgement!**"
   ]
  },
  {
   "cell_type": "code",
   "execution_count": null,
   "metadata": {},
   "outputs": [],
   "source": [
    "https://leetcode.com/problems/number-of-1-bits/"
   ]
  },
  {
   "cell_type": "code",
   "execution_count": null,
   "metadata": {},
   "outputs": [],
   "source": [
    "class Solution:\n",
    "    def hammingWeight(self, n: int) -> int:\n",
    "        num_ones = 0\n",
    "        while n > 0:\n",
    "            num_ones += 1\n",
    "            n &= n - 1\n",
    "        return num_ones"
   ]
  },
  {
   "cell_type": "markdown",
   "metadata": {},
   "source": [
    "Notice that there's a built-in method \n",
    "[int.bit_count](https://docs.python.org/3.10/library/stdtypes.html#int.bit_count)\n",
    "to do this in Python 3.10+.\n",
    "Unsigned integer types in Rust also has a method named \n",
    "[count_ones](https://doc.rust-lang.org/std/primitive.u8.html#method.count_ones)\n",
    "to do this."
   ]
  },
  {
   "cell_type": "code",
   "execution_count": null,
   "metadata": {},
   "outputs": [],
   "source": []
  },
  {
   "cell_type": "markdown",
   "metadata": {},
   "source": [
    "## References \n",
    "\n",
    "https://leetcode.com/problems/number-of-1-bits/"
   ]
  },
  {
   "cell_type": "code",
   "execution_count": null,
   "metadata": {},
   "outputs": [],
   "source": []
  }
 ],
 "metadata": {
  "file_extension": ".py",
  "kernelspec": {
   "display_name": "Python 3 (ipykernel)",
   "language": "python",
   "name": "python3"
  },
  "language_info": {
   "codemirror_mode": {
    "name": "ipython",
    "version": 3
   },
   "file_extension": ".py",
   "mimetype": "text/x-python",
   "name": "python",
   "nbconvert_exporter": "python",
   "pygments_lexer": "ipython3",
   "version": "3.8.10"
  },
  "mimetype": "text/x-python",
  "name": "python",
  "npconvert_exporter": "python",
  "pygments_lexer": "ipython3",
  "version": 3
 },
 "nbformat": 4,
 "nbformat_minor": 4
}
