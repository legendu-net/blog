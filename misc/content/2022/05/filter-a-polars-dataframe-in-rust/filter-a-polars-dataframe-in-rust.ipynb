{
 "cells": [
  {
   "cell_type": "markdown",
   "metadata": {},
   "source": [
    "- Author: Benjamin Du\n",
    "- Date: 2022-05-24 00:19:45\n",
    "- Modified: 2022-05-24 00:19:45\n",
    "- Title: Filter a Polars DataFrame in Rust\n",
    "- Slug: filter-a-polars-dataframe-in-rust\n",
    "- Category: Computer Science\n",
    "- Tags: Computer Science, programming, Rust, polars, DataFrame, filter, ChunkedArray, BooleanType"
   ]
  },
  {
   "cell_type": "markdown",
   "metadata": {},
   "source": [
    "**Things on this page are fragmentary and immature notes/thoughts of the author. Please read with your own judgement!**"
   ]
  },
  {
   "cell_type": "markdown",
   "metadata": {},
   "source": [
    "## Tips and Traps\n",
    "\n",
    "1.  `LazyFrame.filter` filters rows using an `Expr`\n",
    "    while `DataFrame.filter` filters rows using a mask of the type `ChunkedArray<BooleanType>`."
   ]
  },
  {
   "cell_type": "code",
   "execution_count": 2,
   "metadata": {},
   "outputs": [],
   "source": [
    ":dep polars = { version = \"0.21.1\", features = [\"lazy\", \"parquet\"] }"
   ]
  },
  {
   "cell_type": "code",
   "execution_count": 13,
   "metadata": {},
   "outputs": [],
   "source": [
    "use polars::prelude::*;\n",
    "use polars::df;"
   ]
  },
  {
   "cell_type": "code",
   "execution_count": 15,
   "metadata": {},
   "outputs": [
    {
     "data": {
      "text/plain": [
       "shape: (3, 3)\n",
       "┌───────┬────────┬──────────────┐\n",
       "│ names ┆ values ┆ values_nulls │\n",
       "│ ---   ┆ ---    ┆ ---          │\n",
       "│ str   ┆ i32    ┆ i32          │\n",
       "╞═══════╪════════╪══════════════╡\n",
       "│ a     ┆ 1      ┆ 1            │\n",
       "├╌╌╌╌╌╌╌┼╌╌╌╌╌╌╌╌┼╌╌╌╌╌╌╌╌╌╌╌╌╌╌┤\n",
       "│ b     ┆ 2      ┆ null         │\n",
       "├╌╌╌╌╌╌╌┼╌╌╌╌╌╌╌╌┼╌╌╌╌╌╌╌╌╌╌╌╌╌╌┤\n",
       "│ c     ┆ 3      ┆ 3            │\n",
       "└───────┴────────┴──────────────┘"
      ]
     },
     "execution_count": 15,
     "metadata": {},
     "output_type": "execute_result"
    }
   ],
   "source": [
    "// use macro\n",
    "let frame = df![\n",
    "    \"names\" => [\"a\", \"b\", \"c\"],\n",
    "    \"values\" => [1, 2, 3],\n",
    "    \"values_nulls\" => [Some(1), None, Some(3)]\n",
    "].unwrap();\n",
    "df"
   ]
  },
  {
   "cell_type": "code",
   "execution_count": 19,
   "metadata": {},
   "outputs": [
    {
     "data": {
      "text/plain": [
       "shape: (3,)\n",
       "ChunkedArray: 'values_nulls' [bool]\n",
       "[\n",
       "\ttrue\n",
       "\tfalse\n",
       "\ttrue\n",
       "]"
      ]
     },
     "execution_count": 19,
     "metadata": {},
     "output_type": "execute_result"
    }
   ],
   "source": [
    "frame[\"values_nulls\"].is_not_null()"
   ]
  },
  {
   "cell_type": "code",
   "execution_count": 20,
   "metadata": {},
   "outputs": [
    {
     "data": {
      "text/plain": [
       "Ok(shape: (2, 3)\n",
       "┌───────┬────────┬──────────────┐\n",
       "│ names ┆ values ┆ values_nulls │\n",
       "│ ---   ┆ ---    ┆ ---          │\n",
       "│ str   ┆ i32    ┆ i32          │\n",
       "╞═══════╪════════╪══════════════╡\n",
       "│ a     ┆ 1      ┆ 1            │\n",
       "├╌╌╌╌╌╌╌┼╌╌╌╌╌╌╌╌┼╌╌╌╌╌╌╌╌╌╌╌╌╌╌┤\n",
       "│ c     ┆ 3      ┆ 3            │\n",
       "└───────┴────────┴──────────────┘)"
      ]
     },
     "execution_count": 20,
     "metadata": {},
     "output_type": "execute_result"
    }
   ],
   "source": [
    "frame.filter(&frame[\"values_nulls\"].is_not_null())"
   ]
  },
  {
   "cell_type": "code",
   "execution_count": 21,
   "metadata": {},
   "outputs": [],
   "source": [
    "fn predicator(s1: &Series, s2: &Series) -> ChunkedArray<BooleanType> {\n",
    "    ChunkedArray::new(\"x\", &[\n",
    "        Some(true),\n",
    "        Some(false),\n",
    "        None,\n",
    "    ])\n",
    "} "
   ]
  },
  {
   "cell_type": "code",
   "execution_count": 22,
   "metadata": {},
   "outputs": [
    {
     "data": {
      "text/plain": [
       "Ok(shape: (1, 3)\n",
       "┌───────┬────────┬──────────────┐\n",
       "│ names ┆ values ┆ values_nulls │\n",
       "│ ---   ┆ ---    ┆ ---          │\n",
       "│ str   ┆ i32    ┆ i32          │\n",
       "╞═══════╪════════╪══════════════╡\n",
       "│ a     ┆ 1      ┆ 1            │\n",
       "└───────┴────────┴──────────────┘)"
      ]
     },
     "execution_count": 22,
     "metadata": {},
     "output_type": "execute_result"
    }
   ],
   "source": [
    "df.filter(&predicator(&df[\"names\"], &df[\"values\"]))"
   ]
  },
  {
   "cell_type": "code",
   "execution_count": 23,
   "metadata": {},
   "outputs": [],
   "source": [
    "fn predicator2(s1: &Series, s2: &Series) -> ChunkedArray<BooleanType> {\n",
    "    let arr = [10, 5, 3];\n",
    "    BooleanChunked::from_iter_values(\"x\", arr.iter().map(|&x| x > 6))\n",
    "} "
   ]
  },
  {
   "cell_type": "code",
   "execution_count": 24,
   "metadata": {},
   "outputs": [
    {
     "data": {
      "text/plain": [
       "Ok(shape: (1, 3)\n",
       "┌───────┬────────┬──────────────┐\n",
       "│ names ┆ values ┆ values_nulls │\n",
       "│ ---   ┆ ---    ┆ ---          │\n",
       "│ str   ┆ i32    ┆ i32          │\n",
       "╞═══════╪════════╪══════════════╡\n",
       "│ a     ┆ 1      ┆ 1            │\n",
       "└───────┴────────┴──────────────┘)"
      ]
     },
     "execution_count": 24,
     "metadata": {},
     "output_type": "execute_result"
    }
   ],
   "source": [
    "df.filter(&predicator2(&df[\"names\"], &df[\"values\"]))"
   ]
  },
  {
   "cell_type": "code",
   "execution_count": null,
   "metadata": {},
   "outputs": [],
   "source": []
  }
 ],
 "metadata": {
  "file_extension": ".py",
  "kernelspec": {
   "display_name": "Rust",
   "language": "rust",
   "name": "rust"
  },
  "language_info": {
   "codemirror_mode": "rust",
   "file_extension": ".rs",
   "mimetype": "text/rust",
   "name": "Rust",
   "pygment_lexer": "rust",
   "version": ""
  },
  "mimetype": "text/x-python",
  "name": "python",
  "npconvert_exporter": "python",
  "pygments_lexer": "ipython3",
  "version": 3
 },
 "nbformat": 4,
 "nbformat_minor": 4
}
