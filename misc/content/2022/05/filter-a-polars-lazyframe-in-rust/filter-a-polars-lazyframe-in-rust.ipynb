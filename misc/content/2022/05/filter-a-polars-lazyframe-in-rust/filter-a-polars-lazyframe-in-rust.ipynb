{
 "cells": [
  {
   "cell_type": "markdown",
   "metadata": {},
   "source": [
    "- Author: Benjamin Du\n",
    "- Date: 2022-05-24 00:13:15\n",
    "- Modified: 2022-05-28 22:37:28\n",
    "- Title: Filter a Polars LazyFrame in Rust\n",
    "- Slug: filter-a-polars-lazyframe-in-rust\n",
    "- Category: Computer Science\n",
    "- Tags: Computer Science, programming, Rust, LazyFrame, polars, filter, Expr\n"
   ]
  },
  {
   "cell_type": "markdown",
   "metadata": {},
   "source": [
    "**Things on this page are fragmentary and immature notes/thoughts of the author. Please read with your own judgement!**"
   ]
  },
  {
   "cell_type": "markdown",
   "metadata": {},
   "source": [
    "## Tips and Traps\n",
    "\n",
    "1.  `LazyFrame.filter` filters rows using an `Expr`\n",
    "    while `DataFrame.filter` filters rows using a mask of the type `ChunkedArray<BooleanType>`."
   ]
  },
  {
   "cell_type": "code",
   "execution_count": 2,
   "metadata": {},
   "outputs": [
    {
     "data": {
      "text/plain": [
       "sccache: true\n"
      ]
     },
     "execution_count": 2,
     "metadata": {},
     "output_type": "execute_result"
    }
   ],
   "source": [
    ":sccache 1\n",
    ":dep polars = { version = \"0.21.1\", features = [\"lazy\", \"parquet\"] }"
   ]
  },
  {
   "cell_type": "code",
   "execution_count": 3,
   "metadata": {},
   "outputs": [],
   "source": [
    "use polars::prelude::*;\n",
    "use polars::df;"
   ]
  },
  {
   "cell_type": "code",
   "execution_count": 8,
   "metadata": {},
   "outputs": [
    {
     "data": {
      "text/plain": [
       "shape: (3, 3)\n",
       "\u250c\u2500\u2500\u2500\u2500\u2500\u2500\u2500\u252c\u2500\u2500\u2500\u2500\u2500\u2500\u2500\u2500\u252c\u2500\u2500\u2500\u2500\u2500\u2500\u2500\u2500\u2500\u2500\u2500\u2500\u2500\u2500\u2510\n",
       "\u2502 names \u2506 values \u2506 values_nulls \u2502\n",
       "\u2502 ---   \u2506 ---    \u2506 ---          \u2502\n",
       "\u2502 str   \u2506 i32    \u2506 i32          \u2502\n",
       "\u255e\u2550\u2550\u2550\u2550\u2550\u2550\u2550\u256a\u2550\u2550\u2550\u2550\u2550\u2550\u2550\u2550\u256a\u2550\u2550\u2550\u2550\u2550\u2550\u2550\u2550\u2550\u2550\u2550\u2550\u2550\u2550\u2561\n",
       "\u2502 a     \u2506 1      \u2506 1            \u2502\n",
       "\u251c\u254c\u254c\u254c\u254c\u254c\u254c\u254c\u253c\u254c\u254c\u254c\u254c\u254c\u254c\u254c\u254c\u253c\u254c\u254c\u254c\u254c\u254c\u254c\u254c\u254c\u254c\u254c\u254c\u254c\u254c\u254c\u2524\n",
       "\u2502 b     \u2506 2      \u2506 null         \u2502\n",
       "\u251c\u254c\u254c\u254c\u254c\u254c\u254c\u254c\u253c\u254c\u254c\u254c\u254c\u254c\u254c\u254c\u254c\u253c\u254c\u254c\u254c\u254c\u254c\u254c\u254c\u254c\u254c\u254c\u254c\u254c\u254c\u254c\u2524\n",
       "\u2502 c     \u2506 3      \u2506 3            \u2502\n",
       "\u2514\u2500\u2500\u2500\u2500\u2500\u2500\u2500\u2534\u2500\u2500\u2500\u2500\u2500\u2500\u2500\u2500\u2534\u2500\u2500\u2500\u2500\u2500\u2500\u2500\u2500\u2500\u2500\u2500\u2500\u2500\u2500\u2518"
      ]
     },
     "execution_count": 8,
     "metadata": {},
     "output_type": "execute_result"
    }
   ],
   "source": [
    "let frame = df![\n",
    "    \"names\" => [\"a\", \"b\", \"c\"],\n",
    "    \"values\" => [1, 2, 3],\n",
    "    \"values_nulls\" => [Some(1), None, Some(3)]\n",
    "].unwrap();\n",
    "frame"
   ]
  },
  {
   "cell_type": "markdown",
   "metadata": {},
   "source": [
    "Convert the DataFrame to a lazy one\n",
    "and then filter rows using an `Expr`."
   ]
  },
  {
   "cell_type": "code",
   "execution_count": 9,
   "metadata": {},
   "outputs": [
    {
     "data": {
      "text/plain": [
       "Ok(shape: (2, 3)\n",
       "\u250c\u2500\u2500\u2500\u2500\u2500\u2500\u2500\u252c\u2500\u2500\u2500\u2500\u2500\u2500\u2500\u2500\u252c\u2500\u2500\u2500\u2500\u2500\u2500\u2500\u2500\u2500\u2500\u2500\u2500\u2500\u2500\u2510\n",
       "\u2502 names \u2506 values \u2506 values_nulls \u2502\n",
       "\u2502 ---   \u2506 ---    \u2506 ---          \u2502\n",
       "\u2502 str   \u2506 i32    \u2506 i32          \u2502\n",
       "\u255e\u2550\u2550\u2550\u2550\u2550\u2550\u2550\u256a\u2550\u2550\u2550\u2550\u2550\u2550\u2550\u2550\u256a\u2550\u2550\u2550\u2550\u2550\u2550\u2550\u2550\u2550\u2550\u2550\u2550\u2550\u2550\u2561\n",
       "\u2502 b     \u2506 2      \u2506 null         \u2502\n",
       "\u251c\u254c\u254c\u254c\u254c\u254c\u254c\u254c\u253c\u254c\u254c\u254c\u254c\u254c\u254c\u254c\u254c\u253c\u254c\u254c\u254c\u254c\u254c\u254c\u254c\u254c\u254c\u254c\u254c\u254c\u254c\u254c\u2524\n",
       "\u2502 c     \u2506 3      \u2506 3            \u2502\n",
       "\u2514\u2500\u2500\u2500\u2500\u2500\u2500\u2500\u2534\u2500\u2500\u2500\u2500\u2500\u2500\u2500\u2500\u2534\u2500\u2500\u2500\u2500\u2500\u2500\u2500\u2500\u2500\u2500\u2500\u2500\u2500\u2500\u2518)"
      ]
     },
     "execution_count": 9,
     "metadata": {},
     "output_type": "execute_result"
    }
   ],
   "source": [
    "frame.lazy().filter(\n",
    "    col(\"values\").gt(lit::<i32>(1))\n",
    ").collect()"
   ]
  },
  {
   "cell_type": "code",
   "execution_count": 15,
   "metadata": {},
   "outputs": [
    {
     "ename": "Error",
     "evalue": "use of moved value: `lframe`",
     "output_type": "error",
     "traceback": [
      "[lframe.fetch(2), lframe.fetch(2)]",
      "        ^^^^^^^^ `lframe` moved due to this method call",
      "[lframe.fetch(2), lframe.fetch(2)]",
      "                  ^^^^^^ value used here after move",
      "let lframe = frame.lazy();",
      "    ^^^^^^ move occurs because `lframe` has type `LazyFrame`, which does not implement the `Copy` trait",
      "use of moved value: `lframe`"
     ]
    }
   ],
   "source": [
    "let frame = df![\n",
    "    \"names\" => [\"a\", \"b\", \"c\"],\n",
    "    \"values\" => [1, 2, 3],\n",
    "    \"values_nulls\" => [Some(1), None, Some(3)]\n",
    "].unwrap();\n",
    "let lframe = frame.lazy();\n",
    "[lframe.fetch(2), lframe.fetch(2)]"
   ]
  },
  {
   "cell_type": "code",
   "execution_count": null,
   "metadata": {},
   "outputs": [],
   "source": []
  }
 ],
 "metadata": {
  "file_extension": ".py",
  "kernelspec": {
   "display_name": "Rust",
   "language": "rust",
   "name": "rust"
  },
  "language_info": {
   "codemirror_mode": "rust",
   "file_extension": ".rs",
   "mimetype": "text/rust",
   "name": "Rust",
   "pygment_lexer": "rust",
   "version": ""
  },
  "mimetype": "text/x-python",
  "name": "python",
  "npconvert_exporter": "python",
  "pygments_lexer": "ipython3",
  "version": 3
 },
 "nbformat": 4,
 "nbformat_minor": 4
}