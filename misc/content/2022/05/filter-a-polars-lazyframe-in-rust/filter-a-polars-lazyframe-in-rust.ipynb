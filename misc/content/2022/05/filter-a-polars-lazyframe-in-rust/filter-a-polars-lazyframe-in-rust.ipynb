{
 "cells": [
  {
   "cell_type": "markdown",
   "metadata": {},
   "source": [
    "- Author: Benjamin Du\n",
    "- Date: 2022-05-24 00:13:15\n",
    "- Modified: 2022-05-24 00:13:15\n",
    "- Title: Filter a Polars Lazyframe in Rust\n",
    "- Slug: filter-a-polars-lazyframe-in-rust\n",
    "- Category: Computer Science\n",
    "- Tags: Computer Science, programming, Rust, LazyFrame, polars, filter, Expr"
   ]
  },
  {
   "cell_type": "markdown",
   "metadata": {},
   "source": [
    "**Things on this page are fragmentary and immature notes/thoughts of the author. Please read with your own judgement!**"
   ]
  },
  {
   "cell_type": "markdown",
   "metadata": {},
   "source": [
    "## Tips and Traps\n",
    "\n",
    "1.  `LazyFrame.filter` filters rows using an `Expr`\n",
    "    while `DataFrame.filter` filters rows using a mask of the type `ChunkedArray<BooleanType>`."
   ]
  },
  {
   "cell_type": "code",
   "execution_count": 3,
   "metadata": {},
   "outputs": [],
   "source": [
    ":dep polars = { version = \"0.21.1\", features = [\"lazy\", \"parquet\"] }"
   ]
  },
  {
   "cell_type": "code",
   "execution_count": 6,
   "metadata": {},
   "outputs": [],
   "source": [
    "use polars::prelude::*;\n",
    "use polars::df;"
   ]
  },
  {
   "cell_type": "code",
   "execution_count": 7,
   "metadata": {},
   "outputs": [
    {
     "data": {
      "text/plain": [
       "shape: (3, 3)\n",
       "┌───────┬────────┬──────────────┐\n",
       "│ names ┆ values ┆ values_nulls │\n",
       "│ ---   ┆ ---    ┆ ---          │\n",
       "│ str   ┆ i32    ┆ i32          │\n",
       "╞═══════╪════════╪══════════════╡\n",
       "│ a     ┆ 1      ┆ 1            │\n",
       "├╌╌╌╌╌╌╌┼╌╌╌╌╌╌╌╌┼╌╌╌╌╌╌╌╌╌╌╌╌╌╌┤\n",
       "│ b     ┆ 2      ┆ null         │\n",
       "├╌╌╌╌╌╌╌┼╌╌╌╌╌╌╌╌┼╌╌╌╌╌╌╌╌╌╌╌╌╌╌┤\n",
       "│ c     ┆ 3      ┆ 3            │\n",
       "└───────┴────────┴──────────────┘"
      ]
     },
     "execution_count": 7,
     "metadata": {},
     "output_type": "execute_result"
    }
   ],
   "source": [
    "// use macro\n",
    "let df = df![\n",
    "    \"names\" => [\"a\", \"b\", \"c\"],\n",
    "    \"values\" => [1, 2, 3],\n",
    "    \"values_nulls\" => [Some(1), None, Some(3)]\n",
    "].unwrap();\n",
    "df"
   ]
  },
  {
   "cell_type": "markdown",
   "metadata": {},
   "source": [
    "Convert the DataFrame to a lazy one\n",
    "and then filter rows using an `Expr`."
   ]
  },
  {
   "cell_type": "code",
   "execution_count": 8,
   "metadata": {},
   "outputs": [
    {
     "data": {
      "text/plain": [
       "Ok(shape: (2, 3)\n",
       "┌───────┬────────┬──────────────┐\n",
       "│ names ┆ values ┆ values_nulls │\n",
       "│ ---   ┆ ---    ┆ ---          │\n",
       "│ str   ┆ i32    ┆ i32          │\n",
       "╞═══════╪════════╪══════════════╡\n",
       "│ b     ┆ 2      ┆ null         │\n",
       "├╌╌╌╌╌╌╌┼╌╌╌╌╌╌╌╌┼╌╌╌╌╌╌╌╌╌╌╌╌╌╌┤\n",
       "│ c     ┆ 3      ┆ 3            │\n",
       "└───────┴────────┴──────────────┘)"
      ]
     },
     "execution_count": 8,
     "metadata": {},
     "output_type": "execute_result"
    }
   ],
   "source": [
    "df.lazy().filter(\n",
    "    col(\"values\").gt(lit::<i32>(1))\n",
    ").collect()"
   ]
  },
  {
   "cell_type": "code",
   "execution_count": null,
   "metadata": {},
   "outputs": [],
   "source": []
  }
 ],
 "metadata": {
  "file_extension": ".py",
  "kernelspec": {
   "display_name": "Rust",
   "language": "rust",
   "name": "rust"
  },
  "language_info": {
   "codemirror_mode": "rust",
   "file_extension": ".rs",
   "mimetype": "text/rust",
   "name": "Rust",
   "pygment_lexer": "rust",
   "version": ""
  },
  "mimetype": "text/x-python",
  "name": "python",
  "npconvert_exporter": "python",
  "pygments_lexer": "ipython3",
  "version": 3
 },
 "nbformat": 4,
 "nbformat_minor": 4
}
