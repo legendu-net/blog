{
 "cells": [
  {
   "cell_type": "markdown",
   "metadata": {},
   "source": [
    "- Author: Benjamin Du\n",
    "- Date: 2022-05-06 20:16:10\n",
    "- Modified: 2022-05-06 20:16:10\n",
    "- Title: Hands on Ghapi\n",
    "- Slug: hands-on-ghapi\n",
    "- Category: Computer Science\n",
    "- Tags: Computer Science, programming, Python, GitHub, API, ghapi"
   ]
  },
  {
   "cell_type": "markdown",
   "metadata": {},
   "source": [
    "**Things on this page are fragmentary and immature notes/thoughts of the author. Please read with your own judgement!**"
   ]
  },
  {
   "cell_type": "markdown",
   "metadata": {},
   "source": [
    "## Comments\n",
    "\n",
    "There seem to be issues with the library.\n",
    "It is suggested that you call GitHub REST APIs directly,\n",
    "which is very straightforwad.\n",
    "For more discussions on GitHub APIs,\n",
    "please refer to\n",
    "[GitHub API](https://www.legendu.net/misc/blog/github-api)\n",
    "."
   ]
  },
  {
   "cell_type": "code",
   "execution_count": 1,
   "metadata": {},
   "outputs": [
    {
     "name": "stdout",
     "output_type": "stream",
     "text": [
      "Defaulting to user installation because normal site-packages is not writeable\n",
      "Collecting ghapi\n",
      "  Downloading ghapi-0.1.20-py3-none-any.whl (53 kB)\n",
      "\u001b[2K     \u001b[90m━━━━━━━━━━━━━━━━━━━━━━━━━━━━━━━━━━━━━━━━\u001b[0m \u001b[32m54.0/54.0 KB\u001b[0m \u001b[31m1.2 MB/s\u001b[0m eta \u001b[36m0:00:00\u001b[0ma \u001b[36m0:00:01\u001b[0m\n",
      "\u001b[?25hCollecting fastcore\n",
      "  Downloading fastcore-1.4.2-py3-none-any.whl (60 kB)\n",
      "\u001b[2K     \u001b[90m━━━━━━━━━━━━━━━━━━━━━━━━━━━━━━━━━━━━━━━━\u001b[0m \u001b[32m60.1/60.1 KB\u001b[0m \u001b[31m1.7 MB/s\u001b[0m eta \u001b[36m0:00:00\u001b[0m\n",
      "\u001b[?25hRequirement already satisfied: pip in /usr/local/lib/python3.8/dist-packages (from ghapi) (22.0.4)\n",
      "Requirement already satisfied: packaging in /usr/local/lib/python3.8/dist-packages (from ghapi) (21.3)\n",
      "Requirement already satisfied: pyparsing!=3.0.5,>=2.0.2 in /usr/local/lib/python3.8/dist-packages (from packaging->ghapi) (3.0.8)\n",
      "Installing collected packages: fastcore, ghapi\n",
      "Successfully installed fastcore-1.4.2 ghapi-0.1.20\n"
     ]
    }
   ],
   "source": [
    "!pip3 install ghapi"
   ]
  },
  {
   "cell_type": "code",
   "execution_count": 47,
   "metadata": {},
   "outputs": [],
   "source": [
    "from ghapi.all import GhApi\n",
    "api = GhApi(owner=\"dclong\", token=\"ghp_xxxxxxxxxxxxxxxxxxxxxxxxx\")"
   ]
  },
  {
   "cell_type": "markdown",
   "metadata": {},
   "source": [
    "## Methods of GhApi"
   ]
  },
  {
   "cell_type": "code",
   "execution_count": 4,
   "metadata": {},
   "outputs": [
    {
     "data": {
      "text/plain": [
       "['actions',\n",
       " 'activity',\n",
       " 'apps',\n",
       " 'billing',\n",
       " 'checks',\n",
       " 'code_scanning',\n",
       " 'codes_of_conduct',\n",
       " 'codespaces',\n",
       " 'create_branch_empty',\n",
       " 'create_gist',\n",
       " 'create_release',\n",
       " 'debug',\n",
       " 'delete_branch',\n",
       " 'delete_release',\n",
       " 'delete_tag',\n",
       " 'dependabot',\n",
       " 'dependency_graph',\n",
       " 'emojis',\n",
       " 'enable_pages',\n",
       " 'enterprise_admin',\n",
       " 'fetch_events',\n",
       " 'full_docs',\n",
       " 'func_dict',\n",
       " 'get_branch',\n",
       " 'get_content',\n",
       " 'gh_host',\n",
       " 'gists',\n",
       " 'git',\n",
       " 'gitignore',\n",
       " 'groups',\n",
       " 'headers',\n",
       " 'interactions',\n",
       " 'issues',\n",
       " 'last_page',\n",
       " 'licenses',\n",
       " 'limit_cb',\n",
       " 'limit_rem',\n",
       " 'list_branches',\n",
       " 'list_events',\n",
       " 'list_events_parallel',\n",
       " 'list_files',\n",
       " 'list_tags',\n",
       " 'markdown',\n",
       " 'meta',\n",
       " 'migrations',\n",
       " 'oauth_authorizations',\n",
       " 'orgs',\n",
       " 'packages',\n",
       " 'projects',\n",
       " 'pulls',\n",
       " 'rate_limit',\n",
       " 'reactions',\n",
       " 'repos',\n",
       " 'scim',\n",
       " 'search',\n",
       " 'secret_scanning',\n",
       " 'teams',\n",
       " 'update_contents',\n",
       " 'upload_file',\n",
       " 'users']"
      ]
     },
     "execution_count": 4,
     "metadata": {},
     "output_type": "execute_result"
    }
   ],
   "source": [
    "[m for m in dir(api) if not m.startswith(\"_\")]"
   ]
  },
  {
   "cell_type": "markdown",
   "metadata": {},
   "source": [
    "## GhApi.repos"
   ]
  },
  {
   "cell_type": "code",
   "execution_count": 13,
   "metadata": {},
   "outputs": [
    {
     "data": {
      "text/markdown": [
       "- [repos.list_for_org](https://docs.github.com/rest/reference/repos#list-organization-repositories)(org, type, sort, direction, per_page, page): *List organization repositories*\n",
       "- [repos.create_in_org](https://docs.github.com/rest/reference/repos#create-an-organization-repository)(org, name, description, homepage, private, visibility, has_issues, has_projects, has_wiki, is_template, team_id, auto_init, gitignore_template, license_template, allow_squash_merge, allow_merge_commit, allow_rebase_merge, allow_auto_merge, delete_branch_on_merge): *Create an organization repository*\n",
       "- [repos.get](https://docs.github.com/rest/reference/repos#get-a-repository)(owner, repo): *Get a repository*\n",
       "- [repos.update](https://docs.github.com/rest/reference/repos/#update-a-repository)(owner, repo, name, description, homepage, private, visibility, security_and_analysis, has_issues, has_projects, has_wiki, is_template, default_branch, allow_squash_merge, allow_merge_commit, allow_rebase_merge, allow_auto_merge, delete_branch_on_merge, archived, allow_forking): *Update a repository*\n",
       "- [repos.delete](https://docs.github.com/rest/reference/repos#delete-a-repository)(owner, repo): *Delete a repository*\n",
       "- [repos.list_autolinks](https://docs.github.com/v3/repos#list-autolinks)(owner, repo, page): *List all autolinks of a repository*\n",
       "- [repos.create_autolink](https://docs.github.com/v3/repos#create-an-autolink)(owner, repo, key_prefix, url_template): *Create an autolink reference for a repository*\n",
       "- [repos.get_autolink](https://docs.github.com/v3/repos#get-autolink)(owner, repo, autolink_id): *Get an autolink reference of a repository*\n",
       "- [repos.delete_autolink](https://docs.github.com/v3/repos#delete-autolink)(owner, repo, autolink_id): *Delete an autolink reference from a repository*\n",
       "- [repos.enable_automated_security_fixes](https://docs.github.com/rest/reference/repos#enable-automated-security-fixes)(owner, repo): *Enable automated security fixes*\n",
       "- [repos.disable_automated_security_fixes](https://docs.github.com/rest/reference/repos#disable-automated-security-fixes)(owner, repo): *Disable automated security fixes*\n",
       "- [repos.list_branches](https://docs.github.com/rest/reference/repos#list-branches)(owner, repo, protected, per_page, page): *List branches*\n",
       "- [repos.get_branch](https://docs.github.com/rest/reference/repos#get-a-branch)(owner, repo, branch): *Get a branch*\n",
       "- [repos.get_branch_protection](https://docs.github.com/rest/reference/repos#get-branch-protection)(owner, repo, branch): *Get branch protection*\n",
       "- [repos.update_branch_protection](https://docs.github.com/rest/reference/repos#update-branch-protection)(owner, repo, branch, required_status_checks, enforce_admins, required_pull_request_reviews, restrictions, required_linear_history, allow_force_pushes, allow_deletions, block_creations, required_conversation_resolution): *Update branch protection*\n",
       "- [repos.delete_branch_protection](https://docs.github.com/rest/reference/repos#delete-branch-protection)(owner, repo, branch): *Delete branch protection*\n",
       "- [repos.get_admin_branch_protection](https://docs.github.com/rest/reference/repos#get-admin-branch-protection)(owner, repo, branch): *Get admin branch protection*\n",
       "- [repos.set_admin_branch_protection](https://docs.github.com/rest/reference/repos#set-admin-branch-protection)(owner, repo, branch): *Set admin branch protection*\n",
       "- [repos.delete_admin_branch_protection](https://docs.github.com/rest/reference/repos#delete-admin-branch-protection)(owner, repo, branch): *Delete admin branch protection*\n",
       "- [repos.get_pull_request_review_protection](https://docs.github.com/rest/reference/repos#get-pull-request-review-protection)(owner, repo, branch): *Get pull request review protection*\n",
       "- [repos.update_pull_request_review_protection](https://docs.github.com/rest/reference/repos#update-pull-request-review-protection)(owner, repo, branch, dismissal_restrictions, dismiss_stale_reviews, require_code_owner_reviews, required_approving_review_count, bypass_pull_request_allowances): *Update pull request review protection*\n",
       "- [repos.delete_pull_request_review_protection](https://docs.github.com/rest/reference/repos#delete-pull-request-review-protection)(owner, repo, branch): *Delete pull request review protection*\n",
       "- [repos.get_commit_signature_protection](https://docs.github.com/rest/reference/repos#get-commit-signature-protection)(owner, repo, branch): *Get commit signature protection*\n",
       "- [repos.create_commit_signature_protection](https://docs.github.com/rest/reference/repos#create-commit-signature-protection)(owner, repo, branch): *Create commit signature protection*\n",
       "- [repos.delete_commit_signature_protection](https://docs.github.com/rest/reference/repos#delete-commit-signature-protection)(owner, repo, branch): *Delete commit signature protection*\n",
       "- [repos.get_status_checks_protection](https://docs.github.com/rest/reference/repos#get-status-checks-protection)(owner, repo, branch): *Get status checks protection*\n",
       "- [repos.update_status_check_protection](https://docs.github.com/rest/reference/repos#update-status-check-protection)(owner, repo, branch, strict, contexts, checks): *Update status check protection*\n",
       "- [repos.remove_status_check_protection](https://docs.github.com/rest/reference/repos#remove-status-check-protection)(owner, repo, branch): *Remove status check protection*\n",
       "- [repos.get_all_status_check_contexts](https://docs.github.com/rest/reference/repos#get-all-status-check-contexts)(owner, repo, branch): *Get all status check contexts*\n",
       "- [repos.add_status_check_contexts](https://docs.github.com/rest/reference/repos#add-status-check-contexts)(owner, repo, branch, contexts): *Add status check contexts*\n",
       "- [repos.set_status_check_contexts](https://docs.github.com/rest/reference/repos#set-status-check-contexts)(owner, repo, branch, contexts): *Set status check contexts*\n",
       "- [repos.remove_status_check_contexts](https://docs.github.com/rest/reference/repos#remove-status-check-contexts)(owner, repo, branch, contexts): *Remove status check contexts*\n",
       "- [repos.get_access_restrictions](https://docs.github.com/rest/reference/repos#get-access-restrictions)(owner, repo, branch): *Get access restrictions*\n",
       "- [repos.delete_access_restrictions](https://docs.github.com/rest/reference/repos#delete-access-restrictions)(owner, repo, branch): *Delete access restrictions*\n",
       "- [repos.get_apps_with_access_to_protected_branch](https://docs.github.com/rest/reference/repos#list-apps-with-access-to-the-protected-branch)(owner, repo, branch): *Get apps with access to the protected branch*\n",
       "- [repos.add_app_access_restrictions](https://docs.github.com/rest/reference/repos#add-app-access-restrictions)(owner, repo, branch, apps): *Add app access restrictions*\n",
       "- [repos.set_app_access_restrictions](https://docs.github.com/rest/reference/repos#set-app-access-restrictions)(owner, repo, branch, apps): *Set app access restrictions*\n",
       "- [repos.remove_app_access_restrictions](https://docs.github.com/rest/reference/repos#remove-app-access-restrictions)(owner, repo, branch, apps): *Remove app access restrictions*\n",
       "- [repos.get_teams_with_access_to_protected_branch](https://docs.github.com/rest/reference/repos#list-teams-with-access-to-the-protected-branch)(owner, repo, branch): *Get teams with access to the protected branch*\n",
       "- [repos.add_team_access_restrictions](https://docs.github.com/rest/reference/repos#add-team-access-restrictions)(owner, repo, branch, teams): *Add team access restrictions*\n",
       "- [repos.set_team_access_restrictions](https://docs.github.com/rest/reference/repos#set-team-access-restrictions)(owner, repo, branch, teams): *Set team access restrictions*\n",
       "- [repos.remove_team_access_restrictions](https://docs.github.com/rest/reference/repos#remove-team-access-restrictions)(owner, repo, branch, teams): *Remove team access restrictions*\n",
       "- [repos.get_users_with_access_to_protected_branch](https://docs.github.com/rest/reference/repos#list-users-with-access-to-the-protected-branch)(owner, repo, branch): *Get users with access to the protected branch*\n",
       "- [repos.add_user_access_restrictions](https://docs.github.com/rest/reference/repos#add-user-access-restrictions)(owner, repo, branch, users): *Add user access restrictions*\n",
       "- [repos.set_user_access_restrictions](https://docs.github.com/rest/reference/repos#set-user-access-restrictions)(owner, repo, branch, users): *Set user access restrictions*\n",
       "- [repos.remove_user_access_restrictions](https://docs.github.com/rest/reference/repos#remove-user-access-restrictions)(owner, repo, branch, users): *Remove user access restrictions*\n",
       "- [repos.rename_branch](https://docs.github.com/rest/reference/repos#rename-a-branch)(owner, repo, branch, new_name): *Rename a branch*\n",
       "- [repos.codeowners_errors](https://docs.github.com/rest/reference/repos#list-codeowners-errors)(owner, repo, ref): *List CODEOWNERS errors*\n",
       "- [repos.list_collaborators](https://docs.github.com/rest/reference/repos#list-repository-collaborators)(owner, repo, affiliation, per_page, page): *List repository collaborators*\n",
       "- [repos.check_collaborator](https://docs.github.com/rest/reference/repos#check-if-a-user-is-a-repository-collaborator)(owner, repo, username): *Check if a user is a repository collaborator*\n",
       "- [repos.add_collaborator](https://docs.github.com/rest/reference/repos#add-a-repository-collaborator)(owner, repo, username, permission, permissions): *Add a repository collaborator*\n",
       "- [repos.remove_collaborator](https://docs.github.com/rest/reference/repos#remove-a-repository-collaborator)(owner, repo, username): *Remove a repository collaborator*\n",
       "- [repos.get_collaborator_permission_level](https://docs.github.com/rest/reference/repos#get-repository-permissions-for-a-user)(owner, repo, username): *Get repository permissions for a user*\n",
       "- [repos.list_commit_comments_for_repo](https://docs.github.com/rest/reference/repos#list-commit-comments-for-a-repository)(owner, repo, per_page, page): *List commit comments for a repository*\n",
       "- [repos.get_commit_comment](https://docs.github.com/rest/reference/repos#get-a-commit-comment)(owner, repo, comment_id): *Get a commit comment*\n",
       "- [repos.update_commit_comment](https://docs.github.com/rest/reference/repos#update-a-commit-comment)(owner, repo, comment_id, body): *Update a commit comment*\n",
       "- [repos.delete_commit_comment](https://docs.github.com/rest/reference/repos#delete-a-commit-comment)(owner, repo, comment_id): *Delete a commit comment*\n",
       "- [repos.list_commits](https://docs.github.com/rest/reference/repos#list-commits)(owner, repo, sha, path, author, since, until, per_page, page): *List commits*\n",
       "- [repos.list_branches_for_head_commit](https://docs.github.com/rest/reference/repos#list-branches-for-head-commit)(owner, repo, commit_sha): *List branches for HEAD commit*\n",
       "- [repos.list_comments_for_commit](https://docs.github.com/rest/reference/repos#list-commit-comments)(owner, repo, commit_sha, per_page, page): *List commit comments*\n",
       "- [repos.create_commit_comment](https://docs.github.com/rest/reference/repos#create-a-commit-comment)(owner, repo, commit_sha, body, path, position, line): *Create a commit comment*\n",
       "- [repos.list_pull_requests_associated_with_commit](https://docs.github.com/rest/reference/repos#list-pull-requests-associated-with-a-commit)(owner, repo, commit_sha, per_page, page): *List pull requests associated with a commit*\n",
       "- [repos.get_commit](https://docs.github.com/rest/reference/repos#get-a-commit)(owner, repo, ref, page, per_page): *Get a commit*\n",
       "- [repos.get_combined_status_for_ref](https://docs.github.com/rest/reference/repos#get-the-combined-status-for-a-specific-reference)(owner, repo, ref, per_page, page): *Get the combined status for a specific reference*\n",
       "- [repos.list_commit_statuses_for_ref](https://docs.github.com/rest/reference/repos#list-commit-statuses-for-a-reference)(owner, repo, ref, per_page, page): *List commit statuses for a reference*\n",
       "- [repos.get_community_profile_metrics](https://docs.github.com/rest/reference/repos#get-community-profile-metrics)(owner, repo): *Get community profile metrics*\n",
       "- [repos.compare_commits](https://docs.github.com/rest/reference/repos#compare-two-commits)(owner, repo, basehead, page, per_page): *Compare two commits*\n",
       "- [repos.get_content](https://docs.github.com/rest/reference/repos#get-repository-content)(owner, repo, path, ref): *Get repository content*\n",
       "- [repos.create_or_update_file_contents](https://docs.github.com/rest/reference/repos#create-or-update-file-contents)(owner, repo, path, message, content, sha, branch, committer, author): *Create or update file contents*\n",
       "- [repos.delete_file](https://docs.github.com/rest/reference/repos#delete-a-file)(owner, repo, path, message, sha, branch, committer, author): *Delete a file*\n",
       "- [repos.list_contributors](https://docs.github.com/rest/reference/repos#list-repository-contributors)(owner, repo, anon, per_page, page): *List repository contributors*\n",
       "- [repos.list_deployments](https://docs.github.com/rest/reference/repos#list-deployments)(owner, repo, sha, ref, task, environment, per_page, page): *List deployments*\n",
       "- [repos.create_deployment](https://docs.github.com/rest/reference/repos#create-a-deployment)(owner, repo, ref, task, auto_merge, required_contexts, payload, environment, description, transient_environment, production_environment): *Create a deployment*\n",
       "- [repos.get_deployment](https://docs.github.com/rest/reference/repos#get-a-deployment)(owner, repo, deployment_id): *Get a deployment*\n",
       "- [repos.delete_deployment](https://docs.github.com/rest/reference/repos#delete-a-deployment)(owner, repo, deployment_id): *Delete a deployment*\n",
       "- [repos.list_deployment_statuses](https://docs.github.com/rest/reference/repos#list-deployment-statuses)(owner, repo, deployment_id, per_page, page): *List deployment statuses*\n",
       "- [repos.create_deployment_status](https://docs.github.com/rest/reference/repos#create-a-deployment-status)(owner, repo, deployment_id, state, target_url, log_url, description, environment, environment_url, auto_inactive): *Create a deployment status*\n",
       "- [repos.get_deployment_status](https://docs.github.com/rest/reference/repos#get-a-deployment-status)(owner, repo, deployment_id, status_id): *Get a deployment status*\n",
       "- [repos.create_dispatch_event](https://docs.github.com/rest/reference/repos#create-a-repository-dispatch-event)(owner, repo, event_type, client_payload): *Create a repository dispatch event*\n",
       "- [repos.get_all_environments](https://docs.github.com/rest/reference/repos#get-all-environments)(owner, repo, per_page, page): *Get all environments*\n",
       "- [repos.get_environment](https://docs.github.com/rest/reference/repos#get-an-environment)(owner, repo, environment_name): *Get an environment*\n",
       "- [repos.create_or_update_environment](https://docs.github.com/rest/reference/repos#create-or-update-an-environment)(owner, repo, environment_name, wait_timer, reviewers, deployment_branch_policy): *Create or update an environment*\n",
       "- [repos.delete_an_environment](https://docs.github.com/rest/reference/repos#delete-an-environment)(owner, repo, environment_name): *Delete an environment*\n",
       "- [repos.list_forks](https://docs.github.com/rest/reference/repos#list-forks)(owner, repo, sort, per_page, page): *List forks*\n",
       "- [repos.create_fork](https://docs.github.com/rest/reference/repos#create-a-fork)(owner, repo, organization): *Create a fork*\n",
       "- [repos.list_webhooks](https://docs.github.com/rest/reference/repos#list-repository-webhooks)(owner, repo, per_page, page): *List repository webhooks*\n",
       "- [repos.create_webhook](https://docs.github.com/rest/reference/repos#create-a-repository-webhook)(owner, repo, name, config, events, active): *Create a repository webhook*\n",
       "- [repos.get_webhook](https://docs.github.com/rest/reference/repos#get-a-repository-webhook)(owner, repo, hook_id): *Get a repository webhook*\n",
       "- [repos.update_webhook](https://docs.github.com/rest/reference/repos#update-a-repository-webhook)(owner, repo, hook_id, config, events, add_events, remove_events, active): *Update a repository webhook*\n",
       "- [repos.delete_webhook](https://docs.github.com/rest/reference/repos#delete-a-repository-webhook)(owner, repo, hook_id): *Delete a repository webhook*\n",
       "- [repos.get_webhook_config_for_repo](https://docs.github.com/rest/reference/repos#get-a-webhook-configuration-for-a-repository)(owner, repo, hook_id): *Get a webhook configuration for a repository*\n",
       "- [repos.update_webhook_config_for_repo](https://docs.github.com/rest/reference/repos#update-a-webhook-configuration-for-a-repository)(owner, repo, hook_id, url, content_type, secret, insecure_ssl): *Update a webhook configuration for a repository*\n",
       "- [repos.list_webhook_deliveries](https://docs.github.com/rest/reference/repos#list-deliveries-for-a-repository-webhook)(owner, repo, hook_id, per_page, cursor): *List deliveries for a repository webhook*\n",
       "- [repos.get_webhook_delivery](https://docs.github.com/rest/reference/repos#get-a-delivery-for-a-repository-webhook)(owner, repo, hook_id, delivery_id): *Get a delivery for a repository webhook*\n",
       "- [repos.redeliver_webhook_delivery](https://docs.github.com/rest/reference/repos#redeliver-a-delivery-for-a-repository-webhook)(owner, repo, hook_id, delivery_id): *Redeliver a delivery for a repository webhook*\n",
       "- [repos.ping_webhook](https://docs.github.com/rest/reference/repos#ping-a-repository-webhook)(owner, repo, hook_id): *Ping a repository webhook*\n",
       "- [repos.test_push_webhook](https://docs.github.com/rest/reference/repos#test-the-push-repository-webhook)(owner, repo, hook_id): *Test the push repository webhook*\n",
       "- [repos.list_invitations](https://docs.github.com/rest/reference/repos#list-repository-invitations)(owner, repo, per_page, page): *List repository invitations*\n",
       "- [repos.update_invitation](https://docs.github.com/rest/reference/repos#update-a-repository-invitation)(owner, repo, invitation_id, permissions): *Update a repository invitation*\n",
       "- [repos.delete_invitation](https://docs.github.com/rest/reference/repos#delete-a-repository-invitation)(owner, repo, invitation_id): *Delete a repository invitation*\n",
       "- [repos.list_deploy_keys](https://docs.github.com/rest/reference/repos#list-deploy-keys)(owner, repo, per_page, page): *List deploy keys*\n",
       "- [repos.create_deploy_key](https://docs.github.com/rest/reference/repos#create-a-deploy-key)(owner, repo, title, key, read_only): *Create a deploy key*\n",
       "- [repos.get_deploy_key](https://docs.github.com/rest/reference/repos#get-a-deploy-key)(owner, repo, key_id): *Get a deploy key*\n",
       "- [repos.delete_deploy_key](https://docs.github.com/rest/reference/repos#delete-a-deploy-key)(owner, repo, key_id): *Delete a deploy key*\n",
       "- [repos.list_languages](https://docs.github.com/rest/reference/repos#list-repository-languages)(owner, repo): *List repository languages*\n",
       "- [repos.enable_lfs_for_repo](https://docs.github.com/rest/reference/repos#enable-git-lfs-for-a-repository)(owner, repo): *Enable Git LFS for a repository*\n",
       "- [repos.disable_lfs_for_repo](https://docs.github.com/rest/reference/repos#disable-git-lfs-for-a-repository)(owner, repo): *Disable Git LFS for a repository*\n",
       "- [repos.merge_upstream](https://docs.github.com/rest/reference/repos#sync-a-fork-branch-with-the-upstream-repository)(owner, repo, branch): *Sync a fork branch with the upstream repository*\n",
       "- [repos.merge](https://docs.github.com/rest/reference/repos#merge-a-branch)(owner, repo, base, head, commit_message): *Merge a branch*\n",
       "- [repos.get_pages](https://docs.github.com/rest/reference/repos#get-a-github-pages-site)(owner, repo): *Get a GitHub Pages site*\n",
       "- [repos.create_pages_site](https://docs.github.com/rest/reference/repos#create-a-github-pages-site)(owner, repo, source): *Create a GitHub Pages site*\n",
       "- [repos.update_information_about_pages_site](https://docs.github.com/rest/reference/repos#update-information-about-a-github-pages-site)(owner, repo, cname, https_enforced, public, source): *Update information about a GitHub Pages site*\n",
       "- [repos.delete_pages_site](https://docs.github.com/rest/reference/repos#delete-a-github-pages-site)(owner, repo): *Delete a GitHub Pages site*\n",
       "- [repos.list_pages_builds](https://docs.github.com/rest/reference/repos#list-github-pages-builds)(owner, repo, per_page, page): *List GitHub Pages builds*\n",
       "- [repos.request_pages_build](https://docs.github.com/rest/reference/repos#request-a-github-pages-build)(owner, repo): *Request a GitHub Pages build*\n",
       "- [repos.get_latest_pages_build](https://docs.github.com/rest/reference/repos#get-latest-pages-build)(owner, repo): *Get latest Pages build*\n",
       "- [repos.get_pages_build](https://docs.github.com/rest/reference/repos#get-github-pages-build)(owner, repo, build_id): *Get GitHub Pages build*\n",
       "- [repos.get_pages_health_check](https://docs.github.com/rest/reference/repos#get-a-dns-health-check-for-github-pages)(owner, repo): *Get a DNS health check for GitHub Pages*\n",
       "- [repos.get_readme](https://docs.github.com/rest/reference/repos#get-a-repository-readme)(owner, repo, ref): *Get a repository README*\n",
       "- [repos.get_readme_in_directory](https://docs.github.com/rest/reference/repos#get-a-repository-directory-readme)(owner, repo, dir, ref): *Get a repository README for a directory*\n",
       "- [repos.list_releases](https://docs.github.com/rest/reference/repos#list-releases)(owner, repo, per_page, page): *List releases*\n",
       "- [repos.create_release](https://docs.github.com/rest/reference/repos#create-a-release)(owner, repo, tag_name, target_commitish, name, body, draft, prerelease, discussion_category_name, generate_release_notes): *Create a release*\n",
       "- [repos.get_release_asset](https://docs.github.com/rest/reference/repos#get-a-release-asset)(owner, repo, asset_id): *Get a release asset*\n",
       "- [repos.update_release_asset](https://docs.github.com/rest/reference/repos#update-a-release-asset)(owner, repo, asset_id, name, label, state): *Update a release asset*\n",
       "- [repos.delete_release_asset](https://docs.github.com/rest/reference/repos#delete-a-release-asset)(owner, repo, asset_id): *Delete a release asset*\n",
       "- [repos.generate_release_notes](https://docs.github.com/rest/reference/repos#generate-release-notes)(owner, repo, tag_name, target_commitish, previous_tag_name, configuration_file_path): *Generate release notes content for a release*\n",
       "- [repos.get_latest_release](https://docs.github.com/rest/reference/repos#get-the-latest-release)(owner, repo): *Get the latest release*\n",
       "- [repos.get_release_by_tag](https://docs.github.com/rest/reference/repos#get-a-release-by-tag-name)(owner, repo, tag): *Get a release by tag name*\n",
       "- [repos.get_release](https://docs.github.com/rest/reference/repos#get-a-release)(owner, repo, release_id): *Get a release*\n",
       "- [repos.update_release](https://docs.github.com/rest/reference/repos#update-a-release)(owner, repo, release_id, tag_name, target_commitish, name, body, draft, prerelease, discussion_category_name): *Update a release*\n",
       "- [repos.delete_release](https://docs.github.com/rest/reference/repos#delete-a-release)(owner, repo, release_id): *Delete a release*\n",
       "- [repos.list_release_assets](https://docs.github.com/rest/reference/repos#list-release-assets)(owner, repo, release_id, per_page, page): *List release assets*\n",
       "- [repos.upload_release_asset](https://docs.github.com/rest/reference/repos#upload-a-release-asset)(owner, repo, release_id, name, label): *Upload a release asset*\n",
       "- [repos.get_code_frequency_stats](https://docs.github.com/rest/reference/repos#get-the-weekly-commit-activity)(owner, repo): *Get the weekly commit activity*\n",
       "- [repos.get_commit_activity_stats](https://docs.github.com/rest/reference/repos#get-the-last-year-of-commit-activity)(owner, repo): *Get the last year of commit activity*\n",
       "- [repos.get_contributors_stats](https://docs.github.com/rest/reference/repos#get-all-contributor-commit-activity)(owner, repo): *Get all contributor commit activity*\n",
       "- [repos.get_participation_stats](https://docs.github.com/rest/reference/repos#get-the-weekly-commit-count)(owner, repo): *Get the weekly commit count*\n",
       "- [repos.get_punch_card_stats](https://docs.github.com/rest/reference/repos#get-the-hourly-commit-count-for-each-day)(owner, repo): *Get the hourly commit count for each day*\n",
       "- [repos.create_commit_status](https://docs.github.com/rest/reference/repos#create-a-commit-status)(owner, repo, sha, state, target_url, description, context): *Create a commit status*\n",
       "- [repos.list_tags](https://docs.github.com/rest/reference/repos#list-repository-tags)(owner, repo, per_page, page): *List repository tags*\n",
       "- [repos.download_tarball_archive](https://docs.github.com/rest/reference/repos#download-a-repository-archive)(owner, repo, ref): *Download a repository archive (tar)*\n",
       "- [repos.list_teams](https://docs.github.com/rest/reference/repos#list-repository-teams)(owner, repo, per_page, page): *List repository teams*\n",
       "- [repos.get_all_topics](https://docs.github.com/rest/reference/repos#get-all-repository-topics)(owner, repo, page, per_page): *Get all repository topics*\n",
       "- [repos.replace_all_topics](https://docs.github.com/rest/reference/repos#replace-all-repository-topics)(owner, repo, names): *Replace all repository topics*\n",
       "- [repos.get_clones](https://docs.github.com/rest/reference/repos#get-repository-clones)(owner, repo, per): *Get repository clones*\n",
       "- [repos.get_top_paths](https://docs.github.com/rest/reference/repos#get-top-referral-paths)(owner, repo): *Get top referral paths*\n",
       "- [repos.get_top_referrers](https://docs.github.com/rest/reference/repos#get-top-referral-sources)(owner, repo): *Get top referral sources*\n",
       "- [repos.get_views](https://docs.github.com/rest/reference/repos#get-page-views)(owner, repo, per): *Get page views*\n",
       "- [repos.transfer](https://docs.github.com/rest/reference/repos#transfer-a-repository)(owner, repo, new_owner, team_ids): *Transfer a repository*\n",
       "- [repos.check_vulnerability_alerts](https://docs.github.com/rest/reference/repos#check-if-vulnerability-alerts-are-enabled-for-a-repository)(owner, repo): *Check if vulnerability alerts are enabled for a repository*\n",
       "- [repos.enable_vulnerability_alerts](https://docs.github.com/rest/reference/repos#enable-vulnerability-alerts)(owner, repo): *Enable vulnerability alerts*\n",
       "- [repos.disable_vulnerability_alerts](https://docs.github.com/rest/reference/repos#disable-vulnerability-alerts)(owner, repo): *Disable vulnerability alerts*\n",
       "- [repos.download_zipball_archive](https://docs.github.com/rest/reference/repos#download-a-repository-archive)(owner, repo, ref): *Download a repository archive (zip)*\n",
       "- [repos.create_using_template](https://docs.github.com/rest/reference/repos#create-a-repository-using-a-template)(template_owner, template_repo, owner, name, description, include_all_branches, private): *Create a repository using a template*\n",
       "- [repos.list_public](https://docs.github.com/rest/reference/repos#list-public-repositories)(since): *List public repositories*\n",
       "- [repos.list_for_authenticated_user](https://docs.github.com/rest/reference/repos#list-repositories-for-the-authenticated-user)(visibility, affiliation, type, sort, direction, per_page, page, since, before): *List repositories for the authenticated user*\n",
       "- [repos.create_for_authenticated_user](https://docs.github.com/rest/reference/repos#create-a-repository-for-the-authenticated-user)(name, description, homepage, private, has_issues, has_projects, has_wiki, team_id, auto_init, gitignore_template, license_template, allow_squash_merge, allow_merge_commit, allow_rebase_merge, allow_auto_merge, delete_branch_on_merge, has_downloads, is_template): *Create a repository for the authenticated user*\n",
       "- [repos.list_invitations_for_authenticated_user](https://docs.github.com/rest/reference/repos#list-repository-invitations-for-the-authenticated-user)(per_page, page): *List repository invitations for the authenticated user*\n",
       "- [repos.accept_invitation_for_authenticated_user](https://docs.github.com/rest/reference/repos#accept-a-repository-invitation)(invitation_id): *Accept a repository invitation*\n",
       "- [repos.decline_invitation_for_authenticated_user](https://docs.github.com/rest/reference/repos#decline-a-repository-invitation)(invitation_id): *Decline a repository invitation*\n",
       "- [repos.list_for_user](https://docs.github.com/rest/reference/repos#list-repositories-for-a-user)(username, type, sort, direction, per_page, page): *List repositories for a user*"
      ],
      "text/plain": [
       "<ghapi.core._GhVerbGroup at 0x7ff609f1bb20>"
      ]
     },
     "execution_count": 13,
     "metadata": {},
     "output_type": "execute_result"
    }
   ],
   "source": [
    "api.repos"
   ]
  },
  {
   "cell_type": "code",
   "execution_count": 138,
   "metadata": {},
   "outputs": [],
   "source": [
    "repos = api.repos.list_for_org(\"legendu-net\", per_page=100)"
   ]
  },
  {
   "cell_type": "code",
   "execution_count": 139,
   "metadata": {},
   "outputs": [
    {
     "data": {
      "text/plain": [
       "61"
      ]
     },
     "execution_count": 139,
     "metadata": {},
     "output_type": "execute_result"
    }
   ],
   "source": [
    "len(repos)"
   ]
  },
  {
   "cell_type": "markdown",
   "metadata": {},
   "source": [
    "Get all Docker related repositories in the org legendu-net."
   ]
  },
  {
   "cell_type": "code",
   "execution_count": 140,
   "metadata": {},
   "outputs": [
    {
     "data": {
      "text/plain": [
       "['docker-rstudio',\n",
       " 'docker-ubuntu_cn',\n",
       " 'docker-jupyterlab',\n",
       " 'docker-jupyterhub-rb',\n",
       " 'docker-r-base',\n",
       " 'docker-r-pop',\n",
       " 'docker-jupyterhub-rp',\n",
       " 'docker-jupyterhub-toree',\n",
       " 'docker-python',\n",
       " 'docker-jdk',\n",
       " 'docker-dryscrape',\n",
       " 'docker-nodejs',\n",
       " 'docker-typescript',\n",
       " 'docker-jupyterhub-ts',\n",
       " 'docker-jupyterhub-ds',\n",
       " 'docker-base',\n",
       " 'docker-xubuntu-py',\n",
       " 'docker-samba',\n",
       " 'docker-conda',\n",
       " 'docker-conda-yarn',\n",
       " 'docker-jupyter',\n",
       " 'docker-jupyterhub',\n",
       " 'docker-jupyterhub-jdk',\n",
       " 'docker-jupyterhub-antlr4',\n",
       " 'docker-python-jdk',\n",
       " 'docker-nfs',\n",
       " 'docker-conda-build',\n",
       " 'docker-mlflow',\n",
       " 'docker-python-nodejs',\n",
       " 'docker-jupyterhub-sagemath',\n",
       " 'docker-lubuntu',\n",
       " 'docker-lubuntu-jdk',\n",
       " 'docker-jupyterhub-julia',\n",
       " 'docker-jupyterhub-almond',\n",
       " 'docker-jupyterlab-quickopen',\n",
       " 'docker-deepin',\n",
       " 'docker-deepin_b',\n",
       " 'docker-deepin_cn',\n",
       " 'docker-ldeepin',\n",
       " 'docker-lubuntu-pyside2',\n",
       " 'docker-jupyterhub-selenium-firefox',\n",
       " 'docker-jupyterhub-selenium-chrome',\n",
       " 'docker-vscode-server',\n",
       " 'docker-gitpod',\n",
       " 'docker-jupyterhub-cuda',\n",
       " 'docker-jupyterhub-cuda-dev',\n",
       " 'docker-jupyterhub-pytorch',\n",
       " 'docker-jupyterhub-more',\n",
       " 'docker-rustpython',\n",
       " 'docker-rust',\n",
       " 'docker-python-portable',\n",
       " 'docker-pypy',\n",
       " 'docker-rust-utils',\n",
       " 'docker-tensorboard',\n",
       " 'docker-evcxr_jupyter',\n",
       " 'docker-jupyterhub-golang',\n",
       " 'docker-jupyterhub-kotlin']"
      ]
     },
     "execution_count": 140,
     "metadata": {},
     "output_type": "execute_result"
    }
   ],
   "source": [
    "repos_docker = [repo.name for repo in repos.items if repo.name.startswith(\"docker-\")]\n",
    "repos_docker"
   ]
  },
  {
   "cell_type": "markdown",
   "metadata": {},
   "source": [
    "## GhApi.Actions"
   ]
  },
  {
   "cell_type": "code",
   "execution_count": 38,
   "metadata": {},
   "outputs": [
    {
     "data": {
      "text/markdown": [
       "- [actions.get_actions_cache_usage_for_enterprise](https://docs.github.com/rest/reference/actions#get-github-actions-cache-usage-for-an-enterprise)(enterprise): *Get GitHub Actions cache usage for an enterprise*\n",
       "- [actions.get_actions_cache_usage_for_org](https://docs.github.com/rest/reference/actions#get-github-actions-cache-usage-for-an-organization)(org): *Get GitHub Actions cache usage for an organization*\n",
       "- [actions.get_actions_cache_usage_by_repo_for_org](https://docs.github.com/rest/reference/actions#list-repositories-with-github-actions-cache-usage-for-an-organization)(org, per_page, page): *List repositories with GitHub Actions cache usage for an organization*\n",
       "- [actions.get_github_actions_permissions_organization](https://docs.github.com/rest/reference/actions#get-github-actions-permissions-for-an-organization)(org): *Get GitHub Actions permissions for an organization*\n",
       "- [actions.set_github_actions_permissions_organization](https://docs.github.com/rest/reference/actions#set-github-actions-permissions-for-an-organization)(org, enabled_repositories, allowed_actions): *Set GitHub Actions permissions for an organization*\n",
       "- [actions.list_selected_repositories_enabled_github_actions_organization](https://docs.github.com/rest/reference/actions#list-selected-repositories-enabled-for-github-actions-in-an-organization)(org, per_page, page): *List selected repositories enabled for GitHub Actions in an organization*\n",
       "- [actions.set_selected_repositories_enabled_github_actions_organization](https://docs.github.com/rest/reference/actions#set-selected-repositories-enabled-for-github-actions-in-an-organization)(org, selected_repository_ids): *Set selected repositories enabled for GitHub Actions in an organization*\n",
       "- [actions.enable_selected_repository_github_actions_organization](https://docs.github.com/rest/reference/actions#enable-a-selected-repository-for-github-actions-in-an-organization)(org, repository_id): *Enable a selected repository for GitHub Actions in an organization*\n",
       "- [actions.disable_selected_repository_github_actions_organization](https://docs.github.com/rest/reference/actions#disable-a-selected-repository-for-github-actions-in-an-organization)(org, repository_id): *Disable a selected repository for GitHub Actions in an organization*\n",
       "- [actions.get_allowed_actions_organization](https://docs.github.com/rest/reference/actions#get-allowed-actions-for-an-organization)(org): *Get allowed actions and reusable workflows for an organization*\n",
       "- [actions.set_allowed_actions_organization](https://docs.github.com/rest/reference/actions#set-allowed-actions-for-an-organization)(org, github_owned_allowed, verified_allowed, patterns_allowed): *Set allowed actions and reusable workflows for an organization*\n",
       "- [actions.get_github_actions_default_workflow_permissions_organization](https://docs.github.com/rest/reference/actions#get-default-workflow-permissions)(org): *Get default workflow permissions*\n",
       "- [actions.set_github_actions_default_workflow_permissions_organization](https://docs.github.com/rest/reference/actions#set-default-workflow-permissions)(org, default_workflow_permissions, can_approve_pull_request_reviews): *Set default workflow permissions*\n",
       "- [actions.list_self_hosted_runner_groups_for_org](https://docs.github.com/rest/reference/actions#list-self-hosted-runner-groups-for-an-organization)(org, per_page, page): *List self-hosted runner groups for an organization*\n",
       "- [actions.create_self_hosted_runner_group_for_org](https://docs.github.com/rest/reference/actions#create-a-self-hosted-runner-group-for-an-organization)(org, name, visibility, selected_repository_ids, runners, allows_public_repositories, restricted_to_workflows, selected_workflows): *Create a self-hosted runner group for an organization*\n",
       "- [actions.get_self_hosted_runner_group_for_org](https://docs.github.com/rest/reference/actions#get-a-self-hosted-runner-group-for-an-organization)(org, runner_group_id): *Get a self-hosted runner group for an organization*\n",
       "- [actions.update_self_hosted_runner_group_for_org](https://docs.github.com/rest/reference/actions#update-a-self-hosted-runner-group-for-an-organization)(org, runner_group_id, name, visibility, allows_public_repositories, restricted_to_workflows, selected_workflows): *Update a self-hosted runner group for an organization*\n",
       "- [actions.delete_self_hosted_runner_group_from_org](https://docs.github.com/rest/reference/actions#delete-a-self-hosted-runner-group-from-an-organization)(org, runner_group_id): *Delete a self-hosted runner group from an organization*\n",
       "- [actions.list_repo_access_to_self_hosted_runner_group_in_org](https://docs.github.com/rest/reference/actions#list-repository-access-to-a-self-hosted-runner-group-in-an-organization)(org, runner_group_id, page, per_page): *List repository access to a self-hosted runner group in an organization*\n",
       "- [actions.set_repo_access_to_self_hosted_runner_group_in_org](https://docs.github.com/rest/reference/actions#set-repository-access-to-a-self-hosted-runner-group-in-an-organization)(org, runner_group_id, selected_repository_ids): *Set repository access for a self-hosted runner group in an organization*\n",
       "- [actions.add_repo_access_to_self_hosted_runner_group_in_org](https://docs.github.com/rest/reference/actions#add-repository-acess-to-a-self-hosted-runner-group-in-an-organization)(org, runner_group_id, repository_id): *Add repository access to a self-hosted runner group in an organization*\n",
       "- [actions.remove_repo_access_to_self_hosted_runner_group_in_org](https://docs.github.com/rest/reference/actions#remove-repository-access-to-a-self-hosted-runner-group-in-an-organization)(org, runner_group_id, repository_id): *Remove repository access to a self-hosted runner group in an organization*\n",
       "- [actions.list_self_hosted_runners_in_group_for_org](https://docs.github.com/rest/reference/actions#list-self-hosted-runners-in-a-group-for-an-organization)(org, runner_group_id, per_page, page): *List self-hosted runners in a group for an organization*\n",
       "- [actions.set_self_hosted_runners_in_group_for_org](https://docs.github.com/rest/reference/actions#set-self-hosted-runners-in-a-group-for-an-organization)(org, runner_group_id, runners): *Set self-hosted runners in a group for an organization*\n",
       "- [actions.add_self_hosted_runner_to_group_for_org](https://docs.github.com/rest/reference/actions#add-a-self-hosted-runner-to-a-group-for-an-organization)(org, runner_group_id, runner_id): *Add a self-hosted runner to a group for an organization*\n",
       "- [actions.remove_self_hosted_runner_from_group_for_org](https://docs.github.com/rest/reference/actions#remove-a-self-hosted-runner-from-a-group-for-an-organization)(org, runner_group_id, runner_id): *Remove a self-hosted runner from a group for an organization*\n",
       "- [actions.list_self_hosted_runners_for_org](https://docs.github.com/rest/reference/actions#list-self-hosted-runners-for-an-organization)(org, per_page, page): *List self-hosted runners for an organization*\n",
       "- [actions.list_runner_applications_for_org](https://docs.github.com/rest/reference/actions#list-runner-applications-for-an-organization)(org): *List runner applications for an organization*\n",
       "- [actions.create_registration_token_for_org](https://docs.github.com/rest/reference/actions#create-a-registration-token-for-an-organization)(org): *Create a registration token for an organization*\n",
       "- [actions.create_remove_token_for_org](https://docs.github.com/rest/reference/actions#create-a-remove-token-for-an-organization)(org): *Create a remove token for an organization*\n",
       "- [actions.get_self_hosted_runner_for_org](https://docs.github.com/rest/reference/actions#get-a-self-hosted-runner-for-an-organization)(org, runner_id): *Get a self-hosted runner for an organization*\n",
       "- [actions.delete_self_hosted_runner_from_org](https://docs.github.com/rest/reference/actions#delete-a-self-hosted-runner-from-an-organization)(org, runner_id): *Delete a self-hosted runner from an organization*\n",
       "- [actions.list_labels_for_self_hosted_runner_for_org](https://docs.github.com/rest/reference/actions#list-labels-for-a-self-hosted-runner-for-an-organization)(org, runner_id): *List labels for a self-hosted runner for an organization*\n",
       "- [actions.add_custom_labels_to_self_hosted_runner_for_org](https://docs.github.com/rest/reference/actions#add-custom-labels-to-a-self-hosted-runner-for-an-organization)(org, runner_id, labels): *Add custom labels to a self-hosted runner for an organization*\n",
       "- [actions.set_custom_labels_for_self_hosted_runner_for_org](https://docs.github.com/rest/reference/actions#set-custom-labels-for-a-self-hosted-runner-for-an-organization)(org, runner_id, labels): *Set custom labels for a self-hosted runner for an organization*\n",
       "- [actions.remove_all_custom_labels_from_self_hosted_runner_for_org](https://docs.github.com/rest/reference/actions#remove-all-custom-labels-from-a-self-hosted-runner-for-an-organization)(org, runner_id): *Remove all custom labels from a self-hosted runner for an organization*\n",
       "- [actions.remove_custom_label_from_self_hosted_runner_for_org](https://docs.github.com/rest/reference/actions#remove-a-custom-label-from-a-self-hosted-runner-for-an-organization)(org, runner_id, name): *Remove a custom label from a self-hosted runner for an organization*\n",
       "- [actions.list_org_secrets](https://docs.github.com/rest/reference/actions#list-organization-secrets)(org, per_page, page): *List organization secrets*\n",
       "- [actions.get_org_public_key](https://docs.github.com/rest/reference/actions#get-an-organization-public-key)(org): *Get an organization public key*\n",
       "- [actions.get_org_secret](https://docs.github.com/rest/reference/actions#get-an-organization-secret)(org, secret_name): *Get an organization secret*\n",
       "- [actions.create_or_update_org_secret](https://docs.github.com/rest/reference/actions#create-or-update-an-organization-secret)(org, secret_name, encrypted_value, key_id, visibility, selected_repository_ids): *Create or update an organization secret*\n",
       "- [actions.delete_org_secret](https://docs.github.com/rest/reference/actions#delete-an-organization-secret)(org, secret_name): *Delete an organization secret*\n",
       "- [actions.list_selected_repos_for_org_secret](https://docs.github.com/rest/reference/actions#list-selected-repositories-for-an-organization-secret)(org, secret_name, page, per_page): *List selected repositories for an organization secret*\n",
       "- [actions.set_selected_repos_for_org_secret](https://docs.github.com/rest/reference/actions#set-selected-repositories-for-an-organization-secret)(org, secret_name, selected_repository_ids): *Set selected repositories for an organization secret*\n",
       "- [actions.add_selected_repo_to_org_secret](https://docs.github.com/rest/reference/actions#add-selected-repository-to-an-organization-secret)(org, secret_name, repository_id): *Add selected repository to an organization secret*\n",
       "- [actions.remove_selected_repo_from_org_secret](https://docs.github.com/rest/reference/actions#remove-selected-repository-from-an-organization-secret)(org, secret_name, repository_id): *Remove selected repository from an organization secret*\n",
       "- [actions.list_artifacts_for_repo](https://docs.github.com/rest/reference/actions#list-artifacts-for-a-repository)(owner, repo, per_page, page): *List artifacts for a repository*\n",
       "- [actions.get_artifact](https://docs.github.com/rest/reference/actions#get-an-artifact)(owner, repo, artifact_id): *Get an artifact*\n",
       "- [actions.delete_artifact](https://docs.github.com/rest/reference/actions#delete-an-artifact)(owner, repo, artifact_id): *Delete an artifact*\n",
       "- [actions.download_artifact](https://docs.github.com/rest/reference/actions#download-an-artifact)(owner, repo, artifact_id, archive_format): *Download an artifact*\n",
       "- [actions.get_actions_cache_usage](https://docs.github.com/rest/reference/actions#get-github-actions-cache-usage-for-a-repository)(owner, repo): *Get GitHub Actions cache usage for a repository*\n",
       "- [actions.get_job_for_workflow_run](https://docs.github.com/rest/reference/actions#get-a-job-for-a-workflow-run)(owner, repo, job_id): *Get a job for a workflow run*\n",
       "- [actions.download_job_logs_for_workflow_run](https://docs.github.com/rest/reference/actions#download-job-logs-for-a-workflow-run)(owner, repo, job_id): *Download job logs for a workflow run*\n",
       "- [actions.re_run_job_for_workflow_run](https://docs.github.com/rest/reference/actions#re-run-job-for-workflow-run)(owner, repo, job_id): *Re-run a job from a workflow run*\n",
       "- [actions.get_github_actions_permissions_repository](https://docs.github.com/rest/reference/actions#get-github-actions-permissions-for-a-repository)(owner, repo): *Get GitHub Actions permissions for a repository*\n",
       "- [actions.set_github_actions_permissions_repository](https://docs.github.com/rest/reference/actions#set-github-actions-permissions-for-a-repository)(owner, repo, enabled, allowed_actions): *Set GitHub Actions permissions for a repository*\n",
       "- [actions.get_workflow_access_to_repository](https://docs.github.com/rest/reference/actions#get-workflow-access-level-to-a-repository)(owner, repo): *Get the level of access for workflows outside of the repository*\n",
       "- [actions.set_workflow_access_to_repository](https://docs.github.com/rest/reference/actions#set-workflow-access-to-a-repository)(owner, repo, access_level): *Set the level of access for workflows outside of the repository*\n",
       "- [actions.get_allowed_actions_repository](https://docs.github.com/rest/reference/actions#get-allowed-actions-for-a-repository)(owner, repo): *Get allowed actions and reusable workflows for a repository*\n",
       "- [actions.set_allowed_actions_repository](https://docs.github.com/rest/reference/actions#set-allowed-actions-for-a-repository)(owner, repo, github_owned_allowed, verified_allowed, patterns_allowed): *Set allowed actions and reusable workflows for a repository*\n",
       "- [actions.list_self_hosted_runners_for_repo](https://docs.github.com/rest/reference/actions#list-self-hosted-runners-for-a-repository)(owner, repo, per_page, page): *List self-hosted runners for a repository*\n",
       "- [actions.list_runner_applications_for_repo](https://docs.github.com/rest/reference/actions#list-runner-applications-for-a-repository)(owner, repo): *List runner applications for a repository*\n",
       "- [actions.create_registration_token_for_repo](https://docs.github.com/rest/reference/actions#create-a-registration-token-for-a-repository)(owner, repo): *Create a registration token for a repository*\n",
       "- [actions.create_remove_token_for_repo](https://docs.github.com/rest/reference/actions#create-a-remove-token-for-a-repository)(owner, repo): *Create a remove token for a repository*\n",
       "- [actions.get_self_hosted_runner_for_repo](https://docs.github.com/rest/reference/actions#get-a-self-hosted-runner-for-a-repository)(owner, repo, runner_id): *Get a self-hosted runner for a repository*\n",
       "- [actions.delete_self_hosted_runner_from_repo](https://docs.github.com/rest/reference/actions#delete-a-self-hosted-runner-from-a-repository)(owner, repo, runner_id): *Delete a self-hosted runner from a repository*\n",
       "- [actions.list_labels_for_self_hosted_runner_for_repo](https://docs.github.com/rest/reference/actions#list-labels-for-a-self-hosted-runner-for-a-repository)(owner, repo, runner_id): *List labels for a self-hosted runner for a repository*\n",
       "- [actions.add_custom_labels_to_self_hosted_runner_for_repo](https://docs.github.com/rest/reference/actions#add-custom-labels-to-a-self-hosted-runner-for-a-repository)(owner, repo, runner_id, labels): *Add custom labels to a self-hosted runner for a repository*\n",
       "- [actions.set_custom_labels_for_self_hosted_runner_for_repo](https://docs.github.com/rest/reference/actions#set-custom-labels-for-a-self-hosted-runner-for-a-repository)(owner, repo, runner_id, labels): *Set custom labels for a self-hosted runner for a repository*\n",
       "- [actions.remove_all_custom_labels_from_self_hosted_runner_for_repo](https://docs.github.com/rest/reference/actions#remove-all-custom-labels-from-a-self-hosted-runner-for-a-repository)(owner, repo, runner_id): *Remove all custom labels from a self-hosted runner for a repository*\n",
       "- [actions.remove_custom_label_from_self_hosted_runner_for_repo](https://docs.github.com/rest/reference/actions#remove-a-custom-label-from-a-self-hosted-runner-for-a-repository)(owner, repo, runner_id, name): *Remove a custom label from a self-hosted runner for a repository*\n",
       "- [actions.list_workflow_runs_for_repo](https://docs.github.com/rest/reference/actions#list-workflow-runs-for-a-repository)(owner, repo, actor, branch, event, status, per_page, page, created, exclude_pull_requests, check_suite_id): *List workflow runs for a repository*\n",
       "- [actions.get_workflow_run](https://docs.github.com/rest/reference/actions#get-a-workflow-run)(owner, repo, run_id, exclude_pull_requests): *Get a workflow run*\n",
       "- [actions.delete_workflow_run](https://docs.github.com/rest/reference/actions#delete-a-workflow-run)(owner, repo, run_id): *Delete a workflow run*\n",
       "- [actions.get_reviews_for_run](https://docs.github.com/rest/reference/actions#get-the-review-history-for-a-workflow-run)(owner, repo, run_id): *Get the review history for a workflow run*\n",
       "- [actions.approve_workflow_run](https://docs.github.com/rest/reference/actions#approve-a-workflow-run-for-a-fork-pull-request)(owner, repo, run_id): *Approve a workflow run for a fork pull request*\n",
       "- [actions.list_workflow_run_artifacts](https://docs.github.com/rest/reference/actions#list-workflow-run-artifacts)(owner, repo, run_id, per_page, page): *List workflow run artifacts*\n",
       "- [actions.get_workflow_run_attempt](https://docs.github.com/rest/reference/actions#get-a-workflow-run-attempt)(owner, repo, run_id, attempt_number, exclude_pull_requests): *Get a workflow run attempt*\n",
       "- [actions.list_jobs_for_workflow_run_attempt](https://docs.github.com/rest/reference/actions#list-jobs-for-a-workflow-run-attempt)(owner, repo, run_id, attempt_number, per_page, page): *List jobs for a workflow run attempt*\n",
       "- [actions.download_workflow_run_attempt_logs](https://docs.github.com/rest/reference/actions#download-workflow-run-attempt-logs)(owner, repo, run_id, attempt_number): *Download workflow run attempt logs*\n",
       "- [actions.cancel_workflow_run](https://docs.github.com/rest/reference/actions#cancel-a-workflow-run)(owner, repo, run_id): *Cancel a workflow run*\n",
       "- [actions.list_jobs_for_workflow_run](https://docs.github.com/rest/reference/actions#list-jobs-for-a-workflow-run)(owner, repo, run_id, filter, per_page, page): *List jobs for a workflow run*\n",
       "- [actions.download_workflow_run_logs](https://docs.github.com/rest/reference/actions#download-workflow-run-logs)(owner, repo, run_id): *Download workflow run logs*\n",
       "- [actions.delete_workflow_run_logs](https://docs.github.com/rest/reference/actions#delete-workflow-run-logs)(owner, repo, run_id): *Delete workflow run logs*\n",
       "- [actions.get_pending_deployments_for_run](https://docs.github.com/rest/reference/actions#get-pending-deployments-for-a-workflow-run)(owner, repo, run_id): *Get pending deployments for a workflow run*\n",
       "- [actions.review_pending_deployments_for_run](https://docs.github.com/rest/reference/actions#review-pending-deployments-for-a-workflow-run)(owner, repo, run_id, environment_ids, state, comment): *Review pending deployments for a workflow run*\n",
       "- [actions.re_run_workflow](https://docs.github.com/rest/reference/actions#re-run-a-workflow)(owner, repo, run_id): *Re-run a workflow*\n",
       "- [actions.re_run_workflow_failed_jobs](https://docs.github.com/rest/reference/actions#re-run-workflow-failed-jobs)(owner, repo, run_id): *Re-run failed jobs from a workflow run*\n",
       "- [actions.get_workflow_run_usage](https://docs.github.com/rest/reference/actions#get-workflow-run-usage)(owner, repo, run_id): *Get workflow run usage*\n",
       "- [actions.list_repo_secrets](https://docs.github.com/rest/reference/actions#list-repository-secrets)(owner, repo, per_page, page): *List repository secrets*\n",
       "- [actions.get_repo_public_key](https://docs.github.com/rest/reference/actions#get-a-repository-public-key)(owner, repo): *Get a repository public key*\n",
       "- [actions.get_repo_secret](https://docs.github.com/rest/reference/actions#get-a-repository-secret)(owner, repo, secret_name): *Get a repository secret*\n",
       "- [actions.create_or_update_repo_secret](https://docs.github.com/rest/reference/actions#create-or-update-a-repository-secret)(owner, repo, secret_name, encrypted_value, key_id): *Create or update a repository secret*\n",
       "- [actions.delete_repo_secret](https://docs.github.com/rest/reference/actions#delete-a-repository-secret)(owner, repo, secret_name): *Delete a repository secret*\n",
       "- [actions.list_repo_workflows](https://docs.github.com/rest/reference/actions#list-repository-workflows)(owner, repo, per_page, page): *List repository workflows*\n",
       "- [actions.get_workflow](https://docs.github.com/rest/reference/actions#get-a-workflow)(owner, repo, workflow_id): *Get a workflow*\n",
       "- [actions.disable_workflow](https://docs.github.com/rest/reference/actions#disable-a-workflow)(owner, repo, workflow_id): *Disable a workflow*\n",
       "- [actions.create_workflow_dispatch](https://docs.github.com/rest/reference/actions#create-a-workflow-dispatch-event)(owner, repo, workflow_id, ref, inputs): *Create a workflow dispatch event*\n",
       "- [actions.enable_workflow](https://docs.github.com/rest/reference/actions#enable-a-workflow)(owner, repo, workflow_id): *Enable a workflow*\n",
       "- [actions.list_workflow_runs](https://docs.github.com/rest/reference/actions#list-workflow-runs)(owner, repo, workflow_id, actor, branch, event, status, per_page, page, created, exclude_pull_requests, check_suite_id): *List workflow runs*\n",
       "- [actions.get_workflow_usage](https://docs.github.com/rest/reference/actions#get-workflow-usage)(owner, repo, workflow_id): *Get workflow usage*\n",
       "- [actions.list_environment_secrets](https://docs.github.com/rest/reference/actions#list-environment-secrets)(repository_id, environment_name, per_page, page): *List environment secrets*\n",
       "- [actions.get_environment_public_key](https://docs.github.com/rest/reference/actions#get-an-environment-public-key)(repository_id, environment_name): *Get an environment public key*\n",
       "- [actions.get_environment_secret](https://docs.github.com/rest/reference/actions#get-an-environment-secret)(repository_id, environment_name, secret_name): *Get an environment secret*\n",
       "- [actions.create_or_update_environment_secret](https://docs.github.com/rest/reference/actions#create-or-update-an-environment-secret)(repository_id, environment_name, secret_name, encrypted_value, key_id): *Create or update an environment secret*\n",
       "- [actions.delete_environment_secret](https://docs.github.com/rest/reference/actions#delete-an-environment-secret)(repository_id, environment_name, secret_name): *Delete an environment secret*"
      ],
      "text/plain": [
       "<ghapi.core._GhVerbGroup at 0x7ff609f05b20>"
      ]
     },
     "execution_count": 38,
     "metadata": {},
     "output_type": "execute_result"
    }
   ],
   "source": [
    "api.actions"
   ]
  },
  {
   "cell_type": "code",
   "execution_count": 77,
   "metadata": {},
   "outputs": [
    {
     "data": {
      "text/plain": [
       "['add_selected_repo_to_org_secret',\n",
       " 'create_or_update_environment_secret',\n",
       " 'create_or_update_org_secret',\n",
       " 'create_or_update_repo_secret',\n",
       " 'delete_environment_secret',\n",
       " 'delete_org_secret',\n",
       " 'delete_repo_secret',\n",
       " 'get_environment_secret',\n",
       " 'get_org_secret',\n",
       " 'get_repo_secret',\n",
       " 'list_environment_secrets',\n",
       " 'list_org_secrets',\n",
       " 'list_repo_secrets',\n",
       " 'list_selected_repos_for_org_secret',\n",
       " 'remove_selected_repo_from_org_secret',\n",
       " 'set_selected_repos_for_org_secret']"
      ]
     },
     "execution_count": 77,
     "metadata": {},
     "output_type": "execute_result"
    }
   ],
   "source": [
    "[m for m in dir(api.actions) if \"secret\" in m]"
   ]
  },
  {
   "cell_type": "markdown",
   "metadata": {},
   "source": [
    "List secrets in the repository dclong/blog."
   ]
  },
  {
   "cell_type": "code",
   "execution_count": 48,
   "metadata": {},
   "outputs": [
    {
     "data": {
      "text/markdown": [
       "```json\n",
       "{'secrets': [], 'total_count': 0}\n",
       "```"
      ],
      "text/plain": [
       "{'total_count': 0, 'secrets': (#0) []}"
      ]
     },
     "execution_count": 48,
     "metadata": {},
     "output_type": "execute_result"
    }
   ],
   "source": [
    "api.actions.list_repo_secrets(owner=\"dclong\", repo=\"blog\")"
   ]
  },
  {
   "cell_type": "code",
   "execution_count": 71,
   "metadata": {},
   "outputs": [
    {
     "data": {
      "text/markdown": [
       "```json\n",
       "{ 'secrets': [{'name': 'PYPI_XINSTALL', 'created_at': '2022-04-29T19:39:43Z', 'updated_at': '2022-04-29T19:39:43Z'}],\n",
       "  'total_count': 1}\n",
       "```"
      ],
      "text/plain": [
       "{'total_count': 1,\n",
       " 'secrets': (#1) [{'name': 'PYPI_XINSTALL', 'created_at': '2022-04-29T19:39:43Z', 'updated_at': '2022-04-29T19:39:43Z'}]}"
      ]
     },
     "execution_count": 71,
     "metadata": {},
     "output_type": "execute_result"
    }
   ],
   "source": [
    "api.actions.list_repo_secrets(owner=\"legendu-net\", repo=\"xinstall\")"
   ]
  },
  {
   "cell_type": "code",
   "execution_count": 68,
   "metadata": {},
   "outputs": [
    {
     "data": {
      "text/markdown": [
       "```json\n",
       "{ 'created_at': '2022-04-29T19:39:43Z',\n",
       "  'name': 'PYPI_XINSTALL',\n",
       "  'updated_at': '2022-04-29T19:39:43Z'}\n",
       "```"
      ],
      "text/plain": [
       "{'name': 'PYPI_XINSTALL',\n",
       " 'created_at': '2022-04-29T19:39:43Z',\n",
       " 'updated_at': '2022-04-29T19:39:43Z'}"
      ]
     },
     "execution_count": 68,
     "metadata": {},
     "output_type": "execute_result"
    }
   ],
   "source": [
    "api.actions.get_repo_secret(\"xinstall\", \"PYPI_XINSTALL\")"
   ]
  },
  {
   "cell_type": "code",
   "execution_count": 72,
   "metadata": {},
   "outputs": [
    {
     "data": {
      "text/markdown": [
       "```json\n",
       "{ 'created_at': '2020-11-14T05:26:26Z',\n",
       "  'name': 'DOCKERHUB_USERNAME',\n",
       "  'updated_at': '2020-11-14T05:26:26Z'}\n",
       "```"
      ],
      "text/plain": [
       "{'name': 'DOCKERHUB_USERNAME',\n",
       " 'created_at': '2020-11-14T05:26:26Z',\n",
       " 'updated_at': '2020-11-14T05:26:26Z'}"
      ]
     },
     "execution_count": 72,
     "metadata": {},
     "output_type": "execute_result"
    }
   ],
   "source": [
    "api.actions.get_repo_secret(\"docker_image_builder\", \"DOCKERHUB_USERNAME\")"
   ]
  },
  {
   "cell_type": "code",
   "execution_count": 71,
   "metadata": {},
   "outputs": [
    {
     "data": {
      "text/markdown": [
       "```json\n",
       "{ 'secrets': [{'name': 'PYPI_XINSTALL', 'created_at': '2022-04-29T19:39:43Z', 'updated_at': '2022-04-29T19:39:43Z'}],\n",
       "  'total_count': 1}\n",
       "```"
      ],
      "text/plain": [
       "{'total_count': 1,\n",
       " 'secrets': (#1) [{'name': 'PYPI_XINSTALL', 'created_at': '2022-04-29T19:39:43Z', 'updated_at': '2022-04-29T19:39:43Z'}]}"
      ]
     },
     "execution_count": 71,
     "metadata": {},
     "output_type": "execute_result"
    }
   ],
   "source": [
    "api.actions.list_repo_secrets(owner=\"legendu-net\", repo=\"xinstall\")"
   ]
  },
  {
   "cell_type": "code",
   "execution_count": 82,
   "metadata": {},
   "outputs": [
    {
     "data": {
      "text/markdown": [
       "```json\n",
       "{ 'secrets': [{'name': 'GITHUBACTIONS', 'created_at': '2021-11-28T21:46:41Z', 'updated_at': '2021-11-28T21:46:41Z'}],\n",
       "  'total_count': 1}\n",
       "```"
      ],
      "text/plain": [
       "{'total_count': 1,\n",
       " 'secrets': (#1) [{'name': 'GITHUBACTIONS', 'created_at': '2021-11-28T21:46:41Z', 'updated_at': '2021-11-28T21:46:41Z'}]}"
      ]
     },
     "execution_count": 82,
     "metadata": {},
     "output_type": "execute_result"
    }
   ],
   "source": [
    "api.actions.list_repo_secrets(owner=\"legendu-net\", repo=\"docker-jupyterhub-cuda\")"
   ]
  },
  {
   "cell_type": "markdown",
   "metadata": {},
   "source": [
    "List secrets in the repository legendu-net/xinstall."
   ]
  },
  {
   "cell_type": "code",
   "execution_count": 142,
   "metadata": {},
   "outputs": [
    {
     "data": {
      "text/plain": [
       "\u001b[0;31mSignature:\u001b[0m   \u001b[0mapi\u001b[0m\u001b[0;34m.\u001b[0m\u001b[0mactions\u001b[0m\u001b[0;34m.\u001b[0m\u001b[0mdelete_repo_secret\u001b[0m\u001b[0;34m(\u001b[0m\u001b[0mrepo\u001b[0m\u001b[0;34m,\u001b[0m \u001b[0msecret_name\u001b[0m\u001b[0;34m)\u001b[0m\u001b[0;34m\u001b[0m\u001b[0;34m\u001b[0m\u001b[0m\n",
       "\u001b[0;31mType:\u001b[0m        _GhVerb\n",
       "\u001b[0;31mString form:\u001b[0m\n",
       "actions.delete_repo_secret(repo, secret_name)\n",
       "https://docs.github.com/rest/reference/actions#delete-a-repository-secret\n",
       "\u001b[0;31mFile:\u001b[0m        ~/.local/lib/python3.8/site-packages/ghapi/core.py\n",
       "\u001b[0;31mDocstring:\u001b[0m   Delete a repository secret\n"
      ]
     },
     "metadata": {},
     "output_type": "display_data"
    }
   ],
   "source": [
    "api.actions.delete_repo_secret?"
   ]
  },
  {
   "cell_type": "code",
   "execution_count": 150,
   "metadata": {},
   "outputs": [
    {
     "ename": "HTTPError",
     "evalue": "HTTP Error 307: Temporary Redirect",
     "output_type": "error",
     "traceback": [
      "\u001b[0;31m---------------------------------------------------------------------------\u001b[0m",
      "\u001b[0;31mHTTPError\u001b[0m                                 Traceback (most recent call last)",
      "Input \u001b[0;32mIn [150]\u001b[0m, in \u001b[0;36m<cell line: 1>\u001b[0;34m()\u001b[0m\n\u001b[0;32m----> 1\u001b[0m \u001b[43mapi\u001b[49m\u001b[38;5;241;43m.\u001b[39;49m\u001b[43mactions\u001b[49m\u001b[38;5;241;43m.\u001b[39;49m\u001b[43mdelete_repo_secret\u001b[49m\u001b[43m(\u001b[49m\u001b[43mowner\u001b[49m\u001b[38;5;241;43m=\u001b[39;49m\u001b[38;5;124;43m\"\u001b[39;49m\u001b[38;5;124;43mlegendu-net\u001b[39;49m\u001b[38;5;124;43m\"\u001b[39;49m\u001b[43m,\u001b[49m\u001b[43m \u001b[49m\u001b[43mrepo\u001b[49m\u001b[38;5;241;43m=\u001b[39;49m\u001b[38;5;124;43m\"\u001b[39;49m\u001b[38;5;124;43mdocker-jupyterhub-cuda\u001b[39;49m\u001b[38;5;124;43m\"\u001b[39;49m\u001b[43m,\u001b[49m\u001b[43m \u001b[49m\u001b[43msecret_name\u001b[49m\u001b[38;5;241;43m=\u001b[39;49m\u001b[38;5;124;43m\"\u001b[39;49m\u001b[38;5;124;43mGITHUBACTIONS\u001b[39;49m\u001b[38;5;124;43m\"\u001b[39;49m\u001b[43m)\u001b[49m\n",
      "File \u001b[0;32m~/.local/lib/python3.8/site-packages/ghapi/core.py:63\u001b[0m, in \u001b[0;36m_GhVerb.__call__\u001b[0;34m(self, headers, *args, **kwargs)\u001b[0m\n\u001b[1;32m     60\u001b[0m kwargs \u001b[38;5;241m=\u001b[39m {k:v \u001b[38;5;28;01mfor\u001b[39;00m k,v \u001b[38;5;129;01min\u001b[39;00m kwargs\u001b[38;5;241m.\u001b[39mitems() \u001b[38;5;28;01mif\u001b[39;00m v \u001b[38;5;129;01mis\u001b[39;00m \u001b[38;5;129;01mnot\u001b[39;00m \u001b[38;5;28;01mNone\u001b[39;00m}\n\u001b[1;32m     61\u001b[0m route_p,query_p,data_p \u001b[38;5;241m=\u001b[39m [{p:kwargs[p] \u001b[38;5;28;01mfor\u001b[39;00m p \u001b[38;5;129;01min\u001b[39;00m o \u001b[38;5;28;01mif\u001b[39;00m p \u001b[38;5;129;01min\u001b[39;00m kwargs}\n\u001b[1;32m     62\u001b[0m                          \u001b[38;5;28;01mfor\u001b[39;00m o \u001b[38;5;129;01min\u001b[39;00m (\u001b[38;5;28mself\u001b[39m\u001b[38;5;241m.\u001b[39mroute_ps,\u001b[38;5;28mself\u001b[39m\u001b[38;5;241m.\u001b[39mparams,d)]\n\u001b[0;32m---> 63\u001b[0m \u001b[38;5;28;01mreturn\u001b[39;00m \u001b[38;5;28;43mself\u001b[39;49m\u001b[38;5;241;43m.\u001b[39;49m\u001b[43mclient\u001b[49m\u001b[43m(\u001b[49m\u001b[38;5;28;43mself\u001b[39;49m\u001b[38;5;241;43m.\u001b[39;49m\u001b[43mpath\u001b[49m\u001b[43m,\u001b[49m\u001b[43m \u001b[49m\u001b[38;5;28;43mself\u001b[39;49m\u001b[38;5;241;43m.\u001b[39;49m\u001b[43mverb\u001b[49m\u001b[43m,\u001b[49m\u001b[43m \u001b[49m\u001b[43mheaders\u001b[49m\u001b[38;5;241;43m=\u001b[39;49m\u001b[43mheaders\u001b[49m\u001b[43m,\u001b[49m\u001b[43m \u001b[49m\u001b[43mroute\u001b[49m\u001b[38;5;241;43m=\u001b[39;49m\u001b[43mroute_p\u001b[49m\u001b[43m,\u001b[49m\u001b[43m \u001b[49m\u001b[43mquery\u001b[49m\u001b[38;5;241;43m=\u001b[39;49m\u001b[43mquery_p\u001b[49m\u001b[43m,\u001b[49m\u001b[43m \u001b[49m\u001b[43mdata\u001b[49m\u001b[38;5;241;43m=\u001b[39;49m\u001b[43mdata_p\u001b[49m\u001b[43m)\u001b[49m\n",
      "File \u001b[0;32m~/.local/lib/python3.8/site-packages/ghapi/core.py:112\u001b[0m, in \u001b[0;36mGhApi.__call__\u001b[0;34m(self, path, verb, headers, route, query, data)\u001b[0m\n\u001b[1;32m    110\u001b[0m \u001b[38;5;28;01mif\u001b[39;00m route:\n\u001b[1;32m    111\u001b[0m     \u001b[38;5;28;01mfor\u001b[39;00m k,v \u001b[38;5;129;01min\u001b[39;00m route\u001b[38;5;241m.\u001b[39mitems(): route[k] \u001b[38;5;241m=\u001b[39m quote(\u001b[38;5;28mstr\u001b[39m(route[k]))\n\u001b[0;32m--> 112\u001b[0m res,\u001b[38;5;28mself\u001b[39m\u001b[38;5;241m.\u001b[39mrecv_hdrs \u001b[38;5;241m=\u001b[39m \u001b[43murlsend\u001b[49m\u001b[43m(\u001b[49m\u001b[43mpath\u001b[49m\u001b[43m,\u001b[49m\u001b[43m \u001b[49m\u001b[43mverb\u001b[49m\u001b[43m,\u001b[49m\u001b[43m \u001b[49m\u001b[43mheaders\u001b[49m\u001b[38;5;241;43m=\u001b[39;49m\u001b[43mheaders\u001b[49m\u001b[43m \u001b[49m\u001b[38;5;129;43;01mor\u001b[39;49;00m\u001b[43m \u001b[49m\u001b[38;5;28;43;01mNone\u001b[39;49;00m\u001b[43m,\u001b[49m\u001b[43m \u001b[49m\u001b[43mdebug\u001b[49m\u001b[38;5;241;43m=\u001b[39;49m\u001b[38;5;28;43mself\u001b[39;49m\u001b[38;5;241;43m.\u001b[39;49m\u001b[43mdebug\u001b[49m\u001b[43m,\u001b[49m\u001b[43m \u001b[49m\u001b[43mreturn_headers\u001b[49m\u001b[38;5;241;43m=\u001b[39;49m\u001b[38;5;28;43;01mTrue\u001b[39;49;00m\u001b[43m,\u001b[49m\n\u001b[1;32m    113\u001b[0m \u001b[43m                             \u001b[49m\u001b[43mroute\u001b[49m\u001b[38;5;241;43m=\u001b[39;49m\u001b[43mroute\u001b[49m\u001b[43m \u001b[49m\u001b[38;5;129;43;01mor\u001b[39;49;00m\u001b[43m \u001b[49m\u001b[38;5;28;43;01mNone\u001b[39;49;00m\u001b[43m,\u001b[49m\u001b[43m \u001b[49m\u001b[43mquery\u001b[49m\u001b[38;5;241;43m=\u001b[39;49m\u001b[43mquery\u001b[49m\u001b[43m \u001b[49m\u001b[38;5;129;43;01mor\u001b[39;49;00m\u001b[43m \u001b[49m\u001b[38;5;28;43;01mNone\u001b[39;49;00m\u001b[43m,\u001b[49m\u001b[43m \u001b[49m\u001b[43mdata\u001b[49m\u001b[38;5;241;43m=\u001b[39;49m\u001b[43mdata\u001b[49m\u001b[43m \u001b[49m\u001b[38;5;129;43;01mor\u001b[39;49;00m\u001b[43m \u001b[49m\u001b[38;5;28;43;01mNone\u001b[39;49;00m\u001b[43m)\u001b[49m\n\u001b[1;32m    114\u001b[0m \u001b[38;5;28;01mif\u001b[39;00m \u001b[38;5;124m'\u001b[39m\u001b[38;5;124mX-RateLimit-Remaining\u001b[39m\u001b[38;5;124m'\u001b[39m \u001b[38;5;129;01min\u001b[39;00m \u001b[38;5;28mself\u001b[39m\u001b[38;5;241m.\u001b[39mrecv_hdrs:\n\u001b[1;32m    115\u001b[0m     newlim \u001b[38;5;241m=\u001b[39m \u001b[38;5;28mself\u001b[39m\u001b[38;5;241m.\u001b[39mrecv_hdrs[\u001b[38;5;124m'\u001b[39m\u001b[38;5;124mX-RateLimit-Remaining\u001b[39m\u001b[38;5;124m'\u001b[39m]\n",
      "File \u001b[0;32m~/.local/lib/python3.8/site-packages/fastcore/net.py:212\u001b[0m, in \u001b[0;36murlsend\u001b[0;34m(url, verb, headers, route, query, data, json_data, return_json, return_headers, debug)\u001b[0m\n\u001b[1;32m    209\u001b[0m \u001b[38;5;28;01mif\u001b[39;00m route \u001b[38;5;129;01mand\u001b[39;00m route\u001b[38;5;241m.\u001b[39mget(\u001b[38;5;124m'\u001b[39m\u001b[38;5;124marchive_format\u001b[39m\u001b[38;5;124m'\u001b[39m, \u001b[38;5;28;01mNone\u001b[39;00m):\n\u001b[1;32m    210\u001b[0m     \u001b[38;5;28;01mreturn\u001b[39;00m urlread(req, decode\u001b[38;5;241m=\u001b[39m\u001b[38;5;28;01mFalse\u001b[39;00m, return_json\u001b[38;5;241m=\u001b[39m\u001b[38;5;28;01mFalse\u001b[39;00m, return_headers\u001b[38;5;241m=\u001b[39mreturn_headers)\n\u001b[0;32m--> 212\u001b[0m \u001b[38;5;28;01mreturn\u001b[39;00m \u001b[43murlread\u001b[49m\u001b[43m(\u001b[49m\u001b[43mreq\u001b[49m\u001b[43m,\u001b[49m\u001b[43m \u001b[49m\u001b[43mreturn_json\u001b[49m\u001b[38;5;241;43m=\u001b[39;49m\u001b[43mreturn_json\u001b[49m\u001b[43m,\u001b[49m\u001b[43m \u001b[49m\u001b[43mreturn_headers\u001b[49m\u001b[38;5;241;43m=\u001b[39;49m\u001b[43mreturn_headers\u001b[49m\u001b[43m)\u001b[49m\n",
      "File \u001b[0;32m~/.local/lib/python3.8/site-packages/fastcore/net.py:111\u001b[0m, in \u001b[0;36murlread\u001b[0;34m(url, data, headers, decode, return_json, return_headers, timeout, **kwargs)\u001b[0m\n\u001b[1;32m    109\u001b[0m \u001b[38;5;124m\"\u001b[39m\u001b[38;5;124mRetrieve `url`, using `data` dict or `kwargs` to `POST` if present\u001b[39m\u001b[38;5;124m\"\u001b[39m\n\u001b[1;32m    110\u001b[0m \u001b[38;5;28;01mtry\u001b[39;00m:\n\u001b[0;32m--> 111\u001b[0m     \u001b[38;5;28;01mwith\u001b[39;00m \u001b[43murlopen\u001b[49m\u001b[43m(\u001b[49m\u001b[43murl\u001b[49m\u001b[43m,\u001b[49m\u001b[43m \u001b[49m\u001b[43mdata\u001b[49m\u001b[38;5;241;43m=\u001b[39;49m\u001b[43mdata\u001b[49m\u001b[43m,\u001b[49m\u001b[43m \u001b[49m\u001b[43mheaders\u001b[49m\u001b[38;5;241;43m=\u001b[39;49m\u001b[43mheaders\u001b[49m\u001b[43m,\u001b[49m\u001b[43m \u001b[49m\u001b[43mtimeout\u001b[49m\u001b[38;5;241;43m=\u001b[39;49m\u001b[43mtimeout\u001b[49m\u001b[43m,\u001b[49m\u001b[43m \u001b[49m\u001b[38;5;241;43m*\u001b[39;49m\u001b[38;5;241;43m*\u001b[39;49m\u001b[43mkwargs\u001b[49m\u001b[43m)\u001b[49m \u001b[38;5;28;01mas\u001b[39;00m u: res,hdrs \u001b[38;5;241m=\u001b[39m u\u001b[38;5;241m.\u001b[39mread(),u\u001b[38;5;241m.\u001b[39mheaders\n\u001b[1;32m    112\u001b[0m \u001b[38;5;28;01mexcept\u001b[39;00m HTTPError \u001b[38;5;28;01mas\u001b[39;00m e:\n\u001b[1;32m    113\u001b[0m     \u001b[38;5;28;01mif\u001b[39;00m \u001b[38;5;241m400\u001b[39m \u001b[38;5;241m<\u001b[39m\u001b[38;5;241m=\u001b[39m e\u001b[38;5;241m.\u001b[39mcode \u001b[38;5;241m<\u001b[39m \u001b[38;5;241m500\u001b[39m: \u001b[38;5;28;01mraise\u001b[39;00m ExceptionsHTTP[e\u001b[38;5;241m.\u001b[39mcode](e\u001b[38;5;241m.\u001b[39murl, e\u001b[38;5;241m.\u001b[39mhdrs, e\u001b[38;5;241m.\u001b[39mfp) \u001b[38;5;28;01mfrom\u001b[39;00m \u001b[38;5;28mNone\u001b[39m\n",
      "File \u001b[0;32m~/.local/lib/python3.8/site-packages/fastcore/net.py:105\u001b[0m, in \u001b[0;36murlopen\u001b[0;34m(url, data, headers, timeout, **kwargs)\u001b[0m\n\u001b[1;32m    103\u001b[0m     \u001b[38;5;28;01mif\u001b[39;00m \u001b[38;5;129;01mnot\u001b[39;00m \u001b[38;5;28misinstance\u001b[39m(data, (\u001b[38;5;28mstr\u001b[39m,\u001b[38;5;28mbytes\u001b[39m)): data \u001b[38;5;241m=\u001b[39m urlencode(data)\n\u001b[1;32m    104\u001b[0m     \u001b[38;5;28;01mif\u001b[39;00m \u001b[38;5;129;01mnot\u001b[39;00m \u001b[38;5;28misinstance\u001b[39m(data, \u001b[38;5;28mbytes\u001b[39m): data \u001b[38;5;241m=\u001b[39m data\u001b[38;5;241m.\u001b[39mencode(\u001b[38;5;124m'\u001b[39m\u001b[38;5;124mascii\u001b[39m\u001b[38;5;124m'\u001b[39m)\n\u001b[0;32m--> 105\u001b[0m \u001b[38;5;28;01mreturn\u001b[39;00m \u001b[43m_opener\u001b[49m\u001b[38;5;241;43m.\u001b[39;49m\u001b[43mopen\u001b[49m\u001b[43m(\u001b[49m\u001b[43murlwrap\u001b[49m\u001b[43m(\u001b[49m\u001b[43murl\u001b[49m\u001b[43m,\u001b[49m\u001b[43m \u001b[49m\u001b[43mdata\u001b[49m\u001b[38;5;241;43m=\u001b[39;49m\u001b[43mdata\u001b[49m\u001b[43m,\u001b[49m\u001b[43m \u001b[49m\u001b[43mheaders\u001b[49m\u001b[38;5;241;43m=\u001b[39;49m\u001b[43mheaders\u001b[49m\u001b[43m)\u001b[49m\u001b[43m,\u001b[49m\u001b[43m \u001b[49m\u001b[43mtimeout\u001b[49m\u001b[38;5;241;43m=\u001b[39;49m\u001b[43mtimeout\u001b[49m\u001b[43m)\u001b[49m\n",
      "File \u001b[0;32m/usr/lib/python3.8/urllib/request.py:531\u001b[0m, in \u001b[0;36mOpenerDirector.open\u001b[0;34m(self, fullurl, data, timeout)\u001b[0m\n\u001b[1;32m    529\u001b[0m \u001b[38;5;28;01mfor\u001b[39;00m processor \u001b[38;5;129;01min\u001b[39;00m \u001b[38;5;28mself\u001b[39m\u001b[38;5;241m.\u001b[39mprocess_response\u001b[38;5;241m.\u001b[39mget(protocol, []):\n\u001b[1;32m    530\u001b[0m     meth \u001b[38;5;241m=\u001b[39m \u001b[38;5;28mgetattr\u001b[39m(processor, meth_name)\n\u001b[0;32m--> 531\u001b[0m     response \u001b[38;5;241m=\u001b[39m \u001b[43mmeth\u001b[49m\u001b[43m(\u001b[49m\u001b[43mreq\u001b[49m\u001b[43m,\u001b[49m\u001b[43m \u001b[49m\u001b[43mresponse\u001b[49m\u001b[43m)\u001b[49m\n\u001b[1;32m    533\u001b[0m \u001b[38;5;28;01mreturn\u001b[39;00m response\n",
      "File \u001b[0;32m/usr/lib/python3.8/urllib/request.py:640\u001b[0m, in \u001b[0;36mHTTPErrorProcessor.http_response\u001b[0;34m(self, request, response)\u001b[0m\n\u001b[1;32m    637\u001b[0m \u001b[38;5;66;03m# According to RFC 2616, \"2xx\" code indicates that the client's\u001b[39;00m\n\u001b[1;32m    638\u001b[0m \u001b[38;5;66;03m# request was successfully received, understood, and accepted.\u001b[39;00m\n\u001b[1;32m    639\u001b[0m \u001b[38;5;28;01mif\u001b[39;00m \u001b[38;5;129;01mnot\u001b[39;00m (\u001b[38;5;241m200\u001b[39m \u001b[38;5;241m<\u001b[39m\u001b[38;5;241m=\u001b[39m code \u001b[38;5;241m<\u001b[39m \u001b[38;5;241m300\u001b[39m):\n\u001b[0;32m--> 640\u001b[0m     response \u001b[38;5;241m=\u001b[39m \u001b[38;5;28;43mself\u001b[39;49m\u001b[38;5;241;43m.\u001b[39;49m\u001b[43mparent\u001b[49m\u001b[38;5;241;43m.\u001b[39;49m\u001b[43merror\u001b[49m\u001b[43m(\u001b[49m\n\u001b[1;32m    641\u001b[0m \u001b[43m        \u001b[49m\u001b[38;5;124;43m'\u001b[39;49m\u001b[38;5;124;43mhttp\u001b[39;49m\u001b[38;5;124;43m'\u001b[39;49m\u001b[43m,\u001b[49m\u001b[43m \u001b[49m\u001b[43mrequest\u001b[49m\u001b[43m,\u001b[49m\u001b[43m \u001b[49m\u001b[43mresponse\u001b[49m\u001b[43m,\u001b[49m\u001b[43m \u001b[49m\u001b[43mcode\u001b[49m\u001b[43m,\u001b[49m\u001b[43m \u001b[49m\u001b[43mmsg\u001b[49m\u001b[43m,\u001b[49m\u001b[43m \u001b[49m\u001b[43mhdrs\u001b[49m\u001b[43m)\u001b[49m\n\u001b[1;32m    643\u001b[0m \u001b[38;5;28;01mreturn\u001b[39;00m response\n",
      "File \u001b[0;32m/usr/lib/python3.8/urllib/request.py:563\u001b[0m, in \u001b[0;36mOpenerDirector.error\u001b[0;34m(self, proto, *args)\u001b[0m\n\u001b[1;32m    561\u001b[0m     http_err \u001b[38;5;241m=\u001b[39m \u001b[38;5;241m0\u001b[39m\n\u001b[1;32m    562\u001b[0m args \u001b[38;5;241m=\u001b[39m (\u001b[38;5;28mdict\u001b[39m, proto, meth_name) \u001b[38;5;241m+\u001b[39m args\n\u001b[0;32m--> 563\u001b[0m result \u001b[38;5;241m=\u001b[39m \u001b[38;5;28;43mself\u001b[39;49m\u001b[38;5;241;43m.\u001b[39;49m\u001b[43m_call_chain\u001b[49m\u001b[43m(\u001b[49m\u001b[38;5;241;43m*\u001b[39;49m\u001b[43margs\u001b[49m\u001b[43m)\u001b[49m\n\u001b[1;32m    564\u001b[0m \u001b[38;5;28;01mif\u001b[39;00m result:\n\u001b[1;32m    565\u001b[0m     \u001b[38;5;28;01mreturn\u001b[39;00m result\n",
      "File \u001b[0;32m/usr/lib/python3.8/urllib/request.py:502\u001b[0m, in \u001b[0;36mOpenerDirector._call_chain\u001b[0;34m(self, chain, kind, meth_name, *args)\u001b[0m\n\u001b[1;32m    500\u001b[0m \u001b[38;5;28;01mfor\u001b[39;00m handler \u001b[38;5;129;01min\u001b[39;00m handlers:\n\u001b[1;32m    501\u001b[0m     func \u001b[38;5;241m=\u001b[39m \u001b[38;5;28mgetattr\u001b[39m(handler, meth_name)\n\u001b[0;32m--> 502\u001b[0m     result \u001b[38;5;241m=\u001b[39m \u001b[43mfunc\u001b[49m\u001b[43m(\u001b[49m\u001b[38;5;241;43m*\u001b[39;49m\u001b[43margs\u001b[49m\u001b[43m)\u001b[49m\n\u001b[1;32m    503\u001b[0m     \u001b[38;5;28;01mif\u001b[39;00m result \u001b[38;5;129;01mis\u001b[39;00m \u001b[38;5;129;01mnot\u001b[39;00m \u001b[38;5;28;01mNone\u001b[39;00m:\n\u001b[1;32m    504\u001b[0m         \u001b[38;5;28;01mreturn\u001b[39;00m result\n",
      "File \u001b[0;32m/usr/lib/python3.8/urllib/request.py:734\u001b[0m, in \u001b[0;36mHTTPRedirectHandler.http_error_302\u001b[0;34m(self, req, fp, code, msg, headers)\u001b[0m\n\u001b[1;32m    729\u001b[0m newurl \u001b[38;5;241m=\u001b[39m urljoin(req\u001b[38;5;241m.\u001b[39mfull_url, newurl)\n\u001b[1;32m    731\u001b[0m \u001b[38;5;66;03m# XXX Probably want to forget about the state of the current\u001b[39;00m\n\u001b[1;32m    732\u001b[0m \u001b[38;5;66;03m# request, although that might interact poorly with other\u001b[39;00m\n\u001b[1;32m    733\u001b[0m \u001b[38;5;66;03m# handlers that also use handler-specific request attributes\u001b[39;00m\n\u001b[0;32m--> 734\u001b[0m new \u001b[38;5;241m=\u001b[39m \u001b[38;5;28;43mself\u001b[39;49m\u001b[38;5;241;43m.\u001b[39;49m\u001b[43mredirect_request\u001b[49m\u001b[43m(\u001b[49m\u001b[43mreq\u001b[49m\u001b[43m,\u001b[49m\u001b[43m \u001b[49m\u001b[43mfp\u001b[49m\u001b[43m,\u001b[49m\u001b[43m \u001b[49m\u001b[43mcode\u001b[49m\u001b[43m,\u001b[49m\u001b[43m \u001b[49m\u001b[43mmsg\u001b[49m\u001b[43m,\u001b[49m\u001b[43m \u001b[49m\u001b[43mheaders\u001b[49m\u001b[43m,\u001b[49m\u001b[43m \u001b[49m\u001b[43mnewurl\u001b[49m\u001b[43m)\u001b[49m\n\u001b[1;32m    735\u001b[0m \u001b[38;5;28;01mif\u001b[39;00m new \u001b[38;5;129;01mis\u001b[39;00m \u001b[38;5;28;01mNone\u001b[39;00m:\n\u001b[1;32m    736\u001b[0m     \u001b[38;5;28;01mreturn\u001b[39;00m\n",
      "File \u001b[0;32m/usr/lib/python3.8/urllib/request.py:672\u001b[0m, in \u001b[0;36mHTTPRedirectHandler.redirect_request\u001b[0;34m(self, req, fp, code, msg, headers, newurl)\u001b[0m\n\u001b[1;32m    669\u001b[0m m \u001b[38;5;241m=\u001b[39m req\u001b[38;5;241m.\u001b[39mget_method()\n\u001b[1;32m    670\u001b[0m \u001b[38;5;28;01mif\u001b[39;00m (\u001b[38;5;129;01mnot\u001b[39;00m (code \u001b[38;5;129;01min\u001b[39;00m (\u001b[38;5;241m301\u001b[39m, \u001b[38;5;241m302\u001b[39m, \u001b[38;5;241m303\u001b[39m, \u001b[38;5;241m307\u001b[39m) \u001b[38;5;129;01mand\u001b[39;00m m \u001b[38;5;129;01min\u001b[39;00m (\u001b[38;5;124m\"\u001b[39m\u001b[38;5;124mGET\u001b[39m\u001b[38;5;124m\"\u001b[39m, \u001b[38;5;124m\"\u001b[39m\u001b[38;5;124mHEAD\u001b[39m\u001b[38;5;124m\"\u001b[39m)\n\u001b[1;32m    671\u001b[0m     \u001b[38;5;129;01mor\u001b[39;00m code \u001b[38;5;129;01min\u001b[39;00m (\u001b[38;5;241m301\u001b[39m, \u001b[38;5;241m302\u001b[39m, \u001b[38;5;241m303\u001b[39m) \u001b[38;5;129;01mand\u001b[39;00m m \u001b[38;5;241m==\u001b[39m \u001b[38;5;124m\"\u001b[39m\u001b[38;5;124mPOST\u001b[39m\u001b[38;5;124m\"\u001b[39m)):\n\u001b[0;32m--> 672\u001b[0m     \u001b[38;5;28;01mraise\u001b[39;00m HTTPError(req\u001b[38;5;241m.\u001b[39mfull_url, code, msg, headers, fp)\n\u001b[1;32m    674\u001b[0m \u001b[38;5;66;03m# Strictly (according to RFC 2616), 301 or 302 in response to\u001b[39;00m\n\u001b[1;32m    675\u001b[0m \u001b[38;5;66;03m# a POST MUST NOT cause a redirection without confirmation\u001b[39;00m\n\u001b[1;32m    676\u001b[0m \u001b[38;5;66;03m# from the user (of urllib.request, in this case).  In practice,\u001b[39;00m\n\u001b[0;32m   (...)\u001b[0m\n\u001b[1;32m    681\u001b[0m \u001b[38;5;66;03m# redundant with the more complete encoding done in http_error_302(),\u001b[39;00m\n\u001b[1;32m    682\u001b[0m \u001b[38;5;66;03m# but it is kept for compatibility with other callers.\u001b[39;00m\n\u001b[1;32m    683\u001b[0m newurl \u001b[38;5;241m=\u001b[39m newurl\u001b[38;5;241m.\u001b[39mreplace(\u001b[38;5;124m'\u001b[39m\u001b[38;5;124m \u001b[39m\u001b[38;5;124m'\u001b[39m, \u001b[38;5;124m'\u001b[39m\u001b[38;5;124m%\u001b[39m\u001b[38;5;124m20\u001b[39m\u001b[38;5;124m'\u001b[39m)\n",
      "\u001b[0;31mHTTPError\u001b[0m: HTTP Error 307: Temporary Redirect"
     ]
    }
   ],
   "source": [
    "api.actions.delete_repo_secret(owner=\"legendu-net\", repo=\"docker-jupyterhub-cuda\", secret_name=\"GITHUBACTIONS\")"
   ]
  },
  {
   "cell_type": "markdown",
   "metadata": {},
   "source": [
    "## GhApi.issues"
   ]
  },
  {
   "cell_type": "code",
   "execution_count": 9,
   "metadata": {},
   "outputs": [
    {
     "name": "stdout",
     "output_type": "stream",
     "text": [
      "Unexpected exception formatting exception. Falling back to standard exception\n"
     ]
    },
    {
     "name": "stderr",
     "output_type": "stream",
     "text": [
      "Traceback (most recent call last):\n",
      "  File \"/usr/local/lib/python3.8/dist-packages/IPython/core/interactiveshell.py\", line 3397, in run_code\n",
      "    exec(code_obj, self.user_global_ns, self.user_ns)\n",
      "  File \"/tmp/ipykernel_3545/1632110837.py\", line 1, in <cell line: 1>\n",
      "    api.issues.list()\n",
      "  File \"/home/dclong/.local/lib/python3.8/site-packages/ghapi/core.py\", line 63, in __call__\n",
      "    return self.client(self.path, self.verb, headers=headers, route=route_p, query=query_p, data=data_p)\n",
      "  File \"/home/dclong/.local/lib/python3.8/site-packages/ghapi/core.py\", line 112, in __call__\n",
      "    res,self.recv_hdrs = urlsend(path, verb, headers=headers or None, debug=self.debug, return_headers=True,\n",
      "  File \"/home/dclong/.local/lib/python3.8/site-packages/fastcore/net.py\", line 212, in urlsend\n",
      "    return urlread(req, return_json=return_json, return_headers=return_headers)\n",
      "  File \"/home/dclong/.local/lib/python3.8/site-packages/fastcore/net.py\", line 113, in urlread\n",
      "    if 400 <= e.code < 500: raise ExceptionsHTTP[e.code](e.url, e.hdrs, e.fp) from None\n",
      "fastcore.basics.HTTP404NotFoundError: HTTP Error 404: Not Found\n",
      "\n",
      "During handling of the above exception, another exception occurred:\n",
      "\n",
      "Traceback (most recent call last):\n",
      "  File \"/usr/local/lib/python3.8/dist-packages/IPython/core/interactiveshell.py\", line 1989, in showtraceback\n",
      "    if hasattr(value, \"_render_traceback_\"):\n",
      "  File \"/usr/lib/python3.8/tempfile.py\", line 606, in __getattr__\n",
      "    file = self.__dict__['file']\n",
      "KeyError: 'file'\n"
     ]
    }
   ],
   "source": [
    "api.issues.list()"
   ]
  },
  {
   "cell_type": "code",
   "execution_count": 7,
   "metadata": {},
   "outputs": [
    {
     "data": {
      "text/markdown": [
       "- [issues.list](https://docs.github.com/rest/reference/issues#list-issues-assigned-to-the-authenticated-user)(filter, state, labels, sort, direction, since, collab, orgs, owned, pulls, per_page, page): *List issues assigned to the authenticated user*\n",
       "- [issues.list_for_org](https://docs.github.com/rest/reference/issues#list-organization-issues-assigned-to-the-authenticated-user)(org, filter, state, labels, sort, direction, since, per_page, page): *List organization issues assigned to the authenticated user*\n",
       "- [issues.list_assignees](https://docs.github.com/rest/reference/issues#list-assignees)(owner, repo, per_page, page): *List assignees*\n",
       "- [issues.check_user_can_be_assigned](https://docs.github.com/rest/reference/issues#check-if-a-user-can-be-assigned)(owner, repo, assignee): *Check if a user can be assigned*\n",
       "- [issues.list_for_repo](https://docs.github.com/rest/reference/issues#list-repository-issues)(owner, repo, milestone, state, assignee, creator, mentioned, labels, sort, direction, since, per_page, page): *List repository issues*\n",
       "- [issues.create](https://docs.github.com/rest/reference/issues#create-an-issue)(owner, repo, title, body, assignee, milestone, labels, assignees): *Create an issue*\n",
       "- [issues.list_comments_for_repo](https://docs.github.com/rest/reference/issues#list-issue-comments-for-a-repository)(owner, repo, sort, direction, since, per_page, page): *List issue comments for a repository*\n",
       "- [issues.get_comment](https://docs.github.com/rest/reference/issues#get-an-issue-comment)(owner, repo, comment_id): *Get an issue comment*\n",
       "- [issues.update_comment](https://docs.github.com/rest/reference/issues#update-an-issue-comment)(owner, repo, comment_id, body): *Update an issue comment*\n",
       "- [issues.delete_comment](https://docs.github.com/rest/reference/issues#delete-an-issue-comment)(owner, repo, comment_id): *Delete an issue comment*\n",
       "- [issues.list_events_for_repo](https://docs.github.com/rest/reference/issues#list-issue-events-for-a-repository)(owner, repo, per_page, page): *List issue events for a repository*\n",
       "- [issues.get_event](https://docs.github.com/rest/reference/issues#get-an-issue-event)(owner, repo, event_id): *Get an issue event*\n",
       "- [issues.get](https://docs.github.com/rest/reference/issues#get-an-issue)(owner, repo, issue_number): *Get an issue*\n",
       "- [issues.update](https://docs.github.com/rest/reference/issues/#update-an-issue)(owner, repo, issue_number, title, body, assignee, state, milestone, labels, assignees): *Update an issue*\n",
       "- [issues.add_assignees](https://docs.github.com/rest/reference/issues#add-assignees-to-an-issue)(owner, repo, issue_number, assignees): *Add assignees to an issue*\n",
       "- [issues.remove_assignees](https://docs.github.com/rest/reference/issues#remove-assignees-from-an-issue)(owner, repo, issue_number, assignees): *Remove assignees from an issue*\n",
       "- [issues.list_comments](https://docs.github.com/rest/reference/issues#list-issue-comments)(owner, repo, issue_number, since, per_page, page): *List issue comments*\n",
       "- [issues.create_comment](https://docs.github.com/rest/reference/issues#create-an-issue-comment)(owner, repo, issue_number, body): *Create an issue comment*\n",
       "- [issues.list_events](https://docs.github.com/rest/reference/issues#list-issue-events)(owner, repo, issue_number, per_page, page): *List issue events*\n",
       "- [issues.list_labels_on_issue](https://docs.github.com/rest/reference/issues#list-labels-for-an-issue)(owner, repo, issue_number, per_page, page): *List labels for an issue*\n",
       "- [issues.add_labels](https://docs.github.com/rest/reference/issues#add-labels-to-an-issue)(owner, repo, issue_number, labels): *Add labels to an issue*\n",
       "- [issues.set_labels](https://docs.github.com/rest/reference/issues#set-labels-for-an-issue)(owner, repo, issue_number, labels): *Set labels for an issue*\n",
       "- [issues.remove_all_labels](https://docs.github.com/rest/reference/issues#remove-all-labels-from-an-issue)(owner, repo, issue_number): *Remove all labels from an issue*\n",
       "- [issues.remove_label](https://docs.github.com/rest/reference/issues#remove-a-label-from-an-issue)(owner, repo, issue_number, name): *Remove a label from an issue*\n",
       "- [issues.lock](https://docs.github.com/rest/reference/issues#lock-an-issue)(owner, repo, issue_number, lock_reason): *Lock an issue*\n",
       "- [issues.unlock](https://docs.github.com/rest/reference/issues#unlock-an-issue)(owner, repo, issue_number): *Unlock an issue*\n",
       "- [issues.list_events_for_timeline](https://docs.github.com/rest/reference/issues#list-timeline-events-for-an-issue)(owner, repo, issue_number, per_page, page): *List timeline events for an issue*\n",
       "- [issues.list_labels_for_repo](https://docs.github.com/rest/reference/issues#list-labels-for-a-repository)(owner, repo, per_page, page): *List labels for a repository*\n",
       "- [issues.create_label](https://docs.github.com/rest/reference/issues#create-a-label)(owner, repo, name, color, description): *Create a label*\n",
       "- [issues.get_label](https://docs.github.com/rest/reference/issues#get-a-label)(owner, repo, name): *Get a label*\n",
       "- [issues.update_label](https://docs.github.com/rest/reference/issues#update-a-label)(owner, repo, name, new_name, color, description): *Update a label*\n",
       "- [issues.delete_label](https://docs.github.com/rest/reference/issues#delete-a-label)(owner, repo, name): *Delete a label*\n",
       "- [issues.list_milestones](https://docs.github.com/rest/reference/issues#list-milestones)(owner, repo, state, sort, direction, per_page, page): *List milestones*\n",
       "- [issues.create_milestone](https://docs.github.com/rest/reference/issues#create-a-milestone)(owner, repo, title, state, description, due_on): *Create a milestone*\n",
       "- [issues.get_milestone](https://docs.github.com/rest/reference/issues#get-a-milestone)(owner, repo, milestone_number): *Get a milestone*\n",
       "- [issues.update_milestone](https://docs.github.com/rest/reference/issues#update-a-milestone)(owner, repo, milestone_number, title, state, description, due_on): *Update a milestone*\n",
       "- [issues.delete_milestone](https://docs.github.com/rest/reference/issues#delete-a-milestone)(owner, repo, milestone_number): *Delete a milestone*\n",
       "- [issues.list_labels_for_milestone](https://docs.github.com/rest/reference/issues#list-labels-for-issues-in-a-milestone)(owner, repo, milestone_number, per_page, page): *List labels for issues in a milestone*\n",
       "- [issues.list_for_authenticated_user](https://docs.github.com/rest/reference/issues#list-user-account-issues-assigned-to-the-authenticated-user)(filter, state, labels, sort, direction, since, per_page, page): *List user account issues assigned to the authenticated user*"
      ],
      "text/plain": [
       "<ghapi.core._GhVerbGroup at 0x7ff609f1b910>"
      ]
     },
     "execution_count": 7,
     "metadata": {},
     "output_type": "execute_result"
    }
   ],
   "source": [
    "api.issues"
   ]
  },
  {
   "cell_type": "code",
   "execution_count": 11,
   "metadata": {},
   "outputs": [
    {
     "data": {
      "text/markdown": [
       "- [oauth-authorizations.list_grants](https://docs.github.com/rest/reference/oauth-authorizations#list-your-grants)(per_page, page, client_id): *List your grants*\n",
       "- [oauth-authorizations.get_grant](https://docs.github.com/rest/reference/oauth-authorizations#get-a-single-grant)(grant_id): *Get a single grant*\n",
       "- [oauth-authorizations.delete_grant](https://docs.github.com/rest/reference/oauth-authorizations#delete-a-grant)(grant_id): *Delete a grant*\n",
       "- [oauth-authorizations.list_authorizations](https://docs.github.com/rest/reference/oauth-authorizations#list-your-authorizations)(per_page, page, client_id): *List your authorizations*\n",
       "- [oauth-authorizations.create_authorization](https://docs.github.com/rest/reference/oauth-authorizations#create-a-new-authorization)(scopes, note, note_url, client_id, client_secret, fingerprint): *Create a new authorization*\n",
       "- [oauth-authorizations.get_or_create_authorization_for_app](https://docs.github.com/rest/reference/oauth-authorizations#get-or-create-an-authorization-for-a-specific-app)(client_id, client_secret, scopes, note, note_url, fingerprint): *Get-or-create an authorization for a specific app*\n",
       "- [oauth-authorizations.get_or_create_authorization_for_app_and_fingerprint](https://docs.github.com/rest/reference/oauth-authorizations#get-or-create-an-authorization-for-a-specific-app-and-fingerprint)(client_id, fingerprint, client_secret, scopes, note, note_url): *Get-or-create an authorization for a specific app and fingerprint*\n",
       "- [oauth-authorizations.get_authorization](https://docs.github.com/rest/reference/oauth-authorizations#get-a-single-authorization)(authorization_id): *Get a single authorization*\n",
       "- [oauth-authorizations.update_authorization](https://docs.github.com/rest/reference/oauth-authorizations#update-an-existing-authorization)(authorization_id, scopes, add_scopes, remove_scopes, note, note_url, fingerprint): *Update an existing authorization*\n",
       "- [oauth-authorizations.delete_authorization](https://docs.github.com/rest/reference/oauth-authorizations#delete-an-authorization)(authorization_id): *Delete an authorization*"
      ],
      "text/plain": [
       "<ghapi.core._GhVerbGroup at 0x7ff630657fd0>"
      ]
     },
     "execution_count": 11,
     "metadata": {},
     "output_type": "execute_result"
    }
   ],
   "source": [
    "api.oauth_authorizations"
   ]
  },
  {
   "cell_type": "code",
   "execution_count": 20,
   "metadata": {},
   "outputs": [
    {
     "data": {
      "text/markdown": [
       "- [secret-scanning.list_alerts_for_enterprise](https://docs.github.com/rest/reference/secret-scanning#list-secret-scanning-alerts-for-an-enterprise)(enterprise, state, secret_type, resolution, per_page, before, after): *List secret scanning alerts for an enterprise*\n",
       "- [secret-scanning.list_alerts_for_org](https://docs.github.com/rest/reference/secret-scanning#list-secret-scanning-alerts-for-an-organization)(org, state, secret_type, resolution, page, per_page): *List secret scanning alerts for an organization*\n",
       "- [secret-scanning.list_alerts_for_repo](https://docs.github.com/rest/reference/secret-scanning#list-secret-scanning-alerts-for-a-repository)(owner, repo, state, secret_type, resolution, page, per_page): *List secret scanning alerts for a repository*\n",
       "- [secret-scanning.get_alert](https://docs.github.com/rest/reference/secret-scanning#get-a-secret-scanning-alert)(owner, repo, alert_number): *Get a secret scanning alert*\n",
       "- [secret-scanning.update_alert](https://docs.github.com/rest/reference/secret-scanning#update-a-secret-scanning-alert)(owner, repo, alert_number, state, resolution): *Update a secret scanning alert*\n",
       "- [secret-scanning.list_locations_for_alert](https://docs.github.com/rest/reference/secret-scanning#list-locations-for-a-secret-scanning-alert)(owner, repo, alert_number, page, per_page): *List locations for a secret scanning alert*"
      ],
      "text/plain": [
       "<ghapi.core._GhVerbGroup at 0x7ff609f1b460>"
      ]
     },
     "execution_count": 20,
     "metadata": {},
     "output_type": "execute_result"
    }
   ],
   "source": [
    "api.secret_scanning"
   ]
  },
  {
   "cell_type": "code",
   "execution_count": null,
   "metadata": {},
   "outputs": [],
   "source": []
  }
 ],
 "metadata": {
  "file_extension": ".py",
  "kernelspec": {
   "display_name": "Python 3 (ipykernel)",
   "language": "python",
   "name": "python3"
  },
  "language_info": {
   "codemirror_mode": {
    "name": "ipython",
    "version": 3
   },
   "file_extension": ".py",
   "mimetype": "text/x-python",
   "name": "python",
   "nbconvert_exporter": "python",
   "pygments_lexer": "ipython3",
   "version": "3.8.10"
  },
  "mimetype": "text/x-python",
  "name": "python",
  "npconvert_exporter": "python",
  "pygments_lexer": "ipython3",
  "version": 3
 },
 "nbformat": 4,
 "nbformat_minor": 4
}
