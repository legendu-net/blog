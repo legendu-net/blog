{
 "cells": [
  {
   "cell_type": "markdown",
   "metadata": {},
   "source": [
    "- Author: Benjamin Du\n",
    "- Date: 2022-05-30 18:55:22\n",
    "- Modified: 2022-07-05 17:00:10\n",
    "- Title: Parse YAML in Rust\n",
    "- Slug: parse-yaml-in-rust\n",
    "- Category: Computer Science\n",
    "- Tags: Computer Science, programming, Rust, YAML, parse, serde, serde_yaml\n"
   ]
  },
  {
   "cell_type": "markdown",
   "metadata": {},
   "source": [
    "**Things on this page are fragmentary and immature notes/thoughts of the author. Please read with your own judgement!**"
   ]
  },
  {
   "cell_type": "markdown",
   "metadata": {},
   "source": [
    "## Comments\n",
    "\n",
    "1. The\n",
    "    [serde_yaml](https://crates.io/crates/serde_yaml)\n",
    "    crate is the best tool for parsing YAML in Rust."
   ]
  },
  {
   "cell_type": "code",
   "execution_count": 2,
   "metadata": {},
   "outputs": [
    {
     "data": {
      "text/plain": [
       "sccache: true\n"
      ]
     },
     "execution_count": 2,
     "metadata": {},
     "output_type": "execute_result"
    }
   ],
   "source": [
    ":sccache 1\n",
    ":dep serde = \">=1.0.137\"\n",
    ":dep serde_yaml = \">=0.8.24\""
   ]
  },
  {
   "cell_type": "code",
   "execution_count": 3,
   "metadata": {},
   "outputs": [],
   "source": [
    "use std::fs\n",
    "use std::collections::BTreeMap;"
   ]
  },
  {
   "cell_type": "code",
   "execution_count": 4,
   "metadata": {},
   "outputs": [
    {
     "data": {
      "text/plain": [
       "{\"x\": 1.0, \"y\": NaN}"
      ]
     },
     "execution_count": 4,
     "metadata": {},
     "output_type": "execute_result"
    }
   ],
   "source": [
    "let mut map = BTreeMap::new();\n",
    "map.insert(\"x\".to_string(), 1.0);\n",
    "map.insert(\"y\".to_string(), f64::NAN);\n",
    "map"
   ]
  },
  {
   "cell_type": "markdown",
   "metadata": {},
   "source": [
    "Serialize the above BTreeMap to a YAML string."
   ]
  },
  {
   "cell_type": "code",
   "execution_count": 5,
   "metadata": {},
   "outputs": [
    {
     "name": "stdout",
     "output_type": "stream",
     "text": [
      "---\n",
      "x: 1.0\n",
      "y: .nan\n",
      "\n"
     ]
    }
   ],
   "source": [
    "let s = serde_yaml::to_string(&map).unwrap();\n",
    "println!(\"{s}\");"
   ]
  },
  {
   "cell_type": "markdown",
   "metadata": {},
   "source": [
    "Deserialize the above string back to a Rust type."
   ]
  },
  {
   "cell_type": "code",
   "execution_count": 6,
   "metadata": {},
   "outputs": [
    {
     "data": {
      "text/plain": [
       "{\"x\": 1.0, \"y\": NaN}"
      ]
     },
     "execution_count": 6,
     "metadata": {},
     "output_type": "execute_result"
    }
   ],
   "source": [
    "let deserialized_map: BTreeMap<String, f64> = serde_yaml::from_str(&s)?;\n",
    "deserialized_map"
   ]
  },
  {
   "cell_type": "code",
   "execution_count": 24,
   "metadata": {},
   "outputs": [
    {
     "name": "stdout",
     "output_type": "stream",
     "text": [
      "_11_highcard:\n",
      "-   - 9d\n",
      "    - 8d Ah 3c 2s 7h\n",
      "    - 2c Kc Qc Jc Tc\n",
      "    - .nan\n",
      "-   - 2j\n",
      "    - 8d Qs 3c 2s 7h\n",
      "    - 2c Kc Qc Jc Tc\n",
      "    - .nan\n",
      "_11_other:\n",
      "-   - Ac\n",
      "    - 6d 5c 3c 2s 3j\n",
      "    - Qc Jh Td 9d 2j\n",
      "    - .nan\n",
      "-   - 2j\n",
      "    - 8d 6h 5c 4s 7h\n",
      "    - 2c Kc Qc Jc Tc\n",
      "    - .nan\n",
      "_11_pair:\n",
      "-   - Ac\n",
      "    - Td 5c 3c 2s Th\n",
      "    - Qc Jh Ts 9d 2j\n",
      "    - .nan\n",
      "-   - Ac\n",
      "    - 5d 5c 3c 2s Th\n",
      "    - Qc Jh Ts 9d 2j\n",
      "    - .nan\n"
     ]
    }
   ],
   "source": [
    "let s = fs::read_to_string(\"tests.yaml\").unwrap();\n",
    "println!(\"{s}\");"
   ]
  },
  {
   "cell_type": "code",
   "execution_count": 25,
   "metadata": {},
   "outputs": [
    {
     "data": {
      "text/plain": [
       "{\"_11_highcard\": [(\"9d\", \"8d Ah 3c 2s 7h\", \"2c Kc Qc Jc Tc\", NaN), (\"2j\", \"8d Qs 3c 2s 7h\", \"2c Kc Qc Jc Tc\", NaN)], \"_11_other\": [(\"Ac\", \"6d 5c 3c 2s 3j\", \"Qc Jh Td 9d 2j\", NaN), (\"2j\", \"8d 6h 5c 4s 7h\", \"2c Kc Qc Jc Tc\", NaN)], \"_11_pair\": [(\"Ac\", \"Td 5c 3c 2s Th\", \"Qc Jh Ts 9d 2j\", NaN), (\"Ac\", \"5d 5c 3c 2s Th\", \"Qc Jh Ts 9d 2j\", NaN)]}"
      ]
     },
     "execution_count": 25,
     "metadata": {},
     "output_type": "execute_result"
    }
   ],
   "source": [
    "let deserialized_map: BTreeMap<String, Vec<(String, String, String, f64)>> = serde_yaml::from_str(&s).unwrap();\n",
    "deserialized_map"
   ]
  },
  {
   "cell_type": "code",
   "execution_count": 16,
   "metadata": {},
   "outputs": [
    {
     "name": "stdout",
     "output_type": "stream",
     "text": [
      "---\n",
      "_11_highcard:\n",
      "  - - 9d\n",
      "    - 8d Ah 3c 2s 7h\n",
      "    - 2c Kc Qc Jc Tc\n",
      "    - .nan\n",
      "  - - 2j\n",
      "    - 8d Qs 3c 2s 7h\n",
      "    - 2c Kc Qc Jc Tc\n",
      "    - .nan\n",
      "_11_other:\n",
      "  - - Ac\n",
      "    - 6d 5c 3c 2s 3j\n",
      "    - Qc Jh Td 9d 2j\n",
      "    - .nan\n",
      "  - - 2j\n",
      "    - 8d 6h 5c 4s 7h\n",
      "    - 2c Kc Qc Jc Tc\n",
      "    - .nan\n",
      "_11_pair:\n",
      "  - - Ac\n",
      "    - Td 5c 3c 2s Th\n",
      "    - Qc Jh Ts 9d 2j\n",
      "    - .nan\n",
      "  - - Ac\n",
      "    - 5d 5c 3c 2s Th\n",
      "    - Qc Jh Ts 9d 2j\n",
      "    - .nan\n",
      "\n"
     ]
    }
   ],
   "source": [
    "let s = serde_yaml::to_string(&deserialized_map).unwrap();\n",
    "println!(\"{s}\");"
   ]
  },
  {
   "cell_type": "code",
   "execution_count": 26,
   "metadata": {},
   "outputs": [],
   "source": [
    "use std::fs::File;\n",
    "use std::io::{BufWriter, Write};\n",
    "let f = File::create(\"out.yaml\").expect(\"Unable to create the file out.yaml\");\n",
    "let mut bw = BufWriter::new(f);\n",
    "serde_yaml::to_writer(bw, &deserialized_map).unwrap();"
   ]
  },
  {
   "cell_type": "markdown",
   "metadata": {},
   "source": [
    "## References\n",
    "\n",
    "- [serde_yaml](https://crates.io/crates/serde_yaml)"
   ]
  },
  {
   "cell_type": "code",
   "execution_count": null,
   "metadata": {},
   "outputs": [],
   "source": []
  }
 ],
 "metadata": {
  "file_extension": ".py",
  "kernelspec": {
   "display_name": "Rust",
   "language": "rust",
   "name": "rust"
  },
  "language_info": {
   "codemirror_mode": "rust",
   "file_extension": ".rs",
   "mimetype": "text/rust",
   "name": "Rust",
   "pygment_lexer": "rust",
   "version": ""
  },
  "mimetype": "text/x-python",
  "name": "python",
  "npconvert_exporter": "python",
  "pygments_lexer": "ipython3",
  "version": 3
 },
 "nbformat": 4,
 "nbformat_minor": 4
}