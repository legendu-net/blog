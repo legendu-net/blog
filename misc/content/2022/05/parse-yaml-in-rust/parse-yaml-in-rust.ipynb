{
 "cells": [
  {
   "cell_type": "markdown",
   "metadata": {},
   "source": [
    "- Author: Benjamin Du\n",
    "- Date: 2022-05-30 18:55:22\n",
    "- Modified: 2022-05-30 18:55:22\n",
    "- Title: Parse YAML in Rust\n",
    "- Slug: parse-yaml-in-rust\n",
    "- Category: Computer Science\n",
    "- Tags: Computer Science, programming, Rust, YAML, parse, serde"
   ]
  },
  {
   "cell_type": "markdown",
   "metadata": {},
   "source": [
    "**Things on this page are fragmentary and immature notes/thoughts of the author. Please read with your own judgement!**"
   ]
  },
  {
   "cell_type": "markdown",
   "metadata": {},
   "source": [
    "## Comments\n",
    "\n",
    "1. The\n",
    "    [serde_yaml](https://crates.io/crates/serde_yaml)\n",
    "    crate is the best tool for parsing YAML in Rust."
   ]
  },
  {
   "cell_type": "code",
   "execution_count": 16,
   "metadata": {},
   "outputs": [
    {
     "data": {
      "text/plain": [
       "sccache: true\n"
      ]
     },
     "execution_count": 16,
     "metadata": {},
     "output_type": "execute_result"
    }
   ],
   "source": [
    ":sccache 1\n",
    ":dep serde = \">=1.0.137\"\n",
    ":dep serde_yaml = \">=0.8.24\""
   ]
  },
  {
   "cell_type": "code",
   "execution_count": 18,
   "metadata": {},
   "outputs": [],
   "source": [
    "use std::fs\n",
    "use std::collections::BTreeMap;"
   ]
  },
  {
   "cell_type": "code",
   "execution_count": 11,
   "metadata": {},
   "outputs": [
    {
     "data": {
      "text/plain": [
       "{\"x\": 1.0, \"y\": 2.0}"
      ]
     },
     "execution_count": 11,
     "metadata": {},
     "output_type": "execute_result"
    }
   ],
   "source": [
    "let mut map = BTreeMap::new();\n",
    "map.insert(\"x\".to_string(), 1.0);\n",
    "map.insert(\"y\".to_string(), 2.0);\n",
    "map"
   ]
  },
  {
   "cell_type": "markdown",
   "metadata": {},
   "source": [
    "Serialize the above BTreeMap to a YAML string."
   ]
  },
  {
   "cell_type": "code",
   "execution_count": 14,
   "metadata": {},
   "outputs": [
    {
     "name": "stdout",
     "output_type": "stream",
     "text": [
      "---\n",
      "x: 1.0\n",
      "y: 2.0\n",
      "\n"
     ]
    }
   ],
   "source": [
    "let s = serde_yaml::to_string(&map).unwrap();\n",
    "println!(\"{s}\");"
   ]
  },
  {
   "cell_type": "markdown",
   "metadata": {},
   "source": [
    "Deserialize the above string back to a Rust type."
   ]
  },
  {
   "cell_type": "code",
   "execution_count": 15,
   "metadata": {},
   "outputs": [
    {
     "data": {
      "text/plain": [
       "{\"x\": 1.0, \"y\": 2.0}"
      ]
     },
     "execution_count": 15,
     "metadata": {},
     "output_type": "execute_result"
    }
   ],
   "source": [
    "let deserialized_map: BTreeMap<String, f64> = serde_yaml::from_str(&s)?;\n",
    "deserialized_map"
   ]
  },
  {
   "cell_type": "code",
   "execution_count": 22,
   "metadata": {},
   "outputs": [
    {
     "data": {
      "text/plain": [
       "{\"_11_highcard\": [\"9d,8d Ah 3c 2s 7h,2c Kc Qc Jc Tc\", \"9d,8d Ah 3c 2s 7h,2h Kc Qc Jc Tc\", \"9d,8d Ks 3c 2s 7h,2c Kc Qc Jc Tc\", \"8c,8d Ah 3c 2s 7h,2c Kc Qc Jc Tc\", \"8s,8d Ah 3c 2s 7h,2c Kc Qc Jc Tc\", \"7c,8d 4h 3c 2s 7h,2c Kc Qc Jc Tc\", \"7d,8d Ah 3c 2s 7h,2c Kc Qc Jc Tc\", \"6d,8d Ah 3c 2s 7h,2c Kc Qc Jc Tc\", \"4h,8d Ah 3c 2s 7h,2c Kc Qc Jc Tc\", \"As,Th 9d 8c 6h 3j,9h 8d 7d 5c 5d\", \"2j,8d Ks 3c 2s 7h,2c Kc Qc Jc Tc\", \"2j,8d Ah 3c 2s 7h,2c Kc Qc Jc Tc\", \"2j,8d Qs 3c 2s 7h,2c Kc Qc Jc Tc\"], \"_11_other\": [\"9d,8d 6h 5c 4s 7h,2c Kc Qc Jc Tc\", \"Ac,6d 5c 3c 2s 3j,Qc Jh Td 9d 2j\", \"2j,8d 6h 5c 4s 7h,2c Kc Qc Jc Tc\"], \"_11_pair\": [\"Ac,Td 5c 3c 2s Th,Qc Jh Ts 9d 2j\", \"Ac,5d 5c 3c 2s Th,Qc Jh Ts 9d 2j\", \"Qs,Td Ac 3c 2s Th,Qc Jh Ts 9d 2j\", \"Qs,Td Ac 3c 2s Th,Qc Jc Tc 9c 2c\", \"8s,6d Ac 3c 2s 6h,Qc Jc Tc 9c 2c\", \"As,6d Ac 3c 2s 6h,Qc Jc Tc 9c 2c\", \"As,7d Ac 3c 2s 7h,Qc Jc Tc 9c 8c\", \"8s,7d Ah 3c 2s 7h,Ac Kc Qc Jc Tc\", \"9d,7d Ah 3c 2s 7h,Ac Kc Qc Jc Tc\", \"9d,7d Ah 3c 2s 7h,8c Kc Qc Jc Tc\", \"9d,8d Ah 3c 2s 8h,8c Kc Qc Jc Tc\", \"9d,8d Ah 3c 3s 7h,2h Kc Qc Jc Tc\", \"8s,8d 6h 3c 2s 8h,8c Kc Qc Jc Tc\", \"8s,8d 4h 3c 2s 8h,2c Kc Qc Jc Tc\", \"8s,8d 4h 3c 2s 2j,2c Kc Qc Jc Tc\", \"Ts,Td 7h 3c 2s Th,2c Kc Qc Jc Tc\", \"Js,Jd 7h 3c 2s Jh,2c Kc Qc Jc Tc\", \"Js,Jd 7h 3c 2s Jh,2c Kc Qc 4c Tc\", \"Js,2j 7h 3c 2s Jh,2c Kc Qc 4c Tc\", \"Ac,As 5c 3c 2s Ah,Qc Jh Ts 9d 2j\", \"Tc,Td Ac 3c 2s Th,Qc Jh Ts 9d 2j\", \"Tc,Td Kc 3c 2s Th,Qc Jh Ts 9d 2j\", \"Tc,Td Jc 3c 2s Th,Qc Jh Ts 9d 2j\", \"Tc,Td Jc 3c 2s Th,Qc Jh Ts 9d Kh\", \"6c,6d Jc 3c 2s 6h,Qc Jh Ts 9d Kh\", \"9c,Td 6c 3c 2s Th,Qc Jh Ts 9d Kh\", \"5c,Td 4c 3c 2s Th,Qc Jh Ts 9d Kh\", \"5c,Jd 4c 3c 2s Jc,Qc Jh Ts 9d Kh\", \"8c,Jd 4c 3c 2s Jc,Qc Jh Ts 9d Kh\", \"8c,Jd 9c 3c 2s Jc,Qc Jh Ts 9d Kh\", \"8c,Jd Ac 3c 2s Jc,Qc Jh Ts 9d Kh\", \"6c,Jd Ac 3c 2s Jc,Qc Jh Ts 9d Kh\", \"6c,Td Ac 3c 2s Tc,Qc Jh Ts 9d Kh\"]}"
      ]
     },
     "execution_count": 22,
     "metadata": {},
     "output_type": "execute_result"
    }
   ],
   "source": [
    "let s = fs::read_to_string(\"tests.yml\").unwrap();\n",
    "let deserialized_map: BTreeMap<String, Vec<String>> = serde_yaml::from_str(&s)?;\n",
    "deserialized_map"
   ]
  },
  {
   "cell_type": "markdown",
   "metadata": {},
   "source": [
    "## References\n",
    "\n",
    "- [serde_yaml](https://crates.io/crates/serde_yaml)"
   ]
  },
  {
   "cell_type": "code",
   "execution_count": null,
   "metadata": {},
   "outputs": [],
   "source": []
  }
 ],
 "metadata": {
  "file_extension": ".py",
  "kernelspec": {
   "display_name": "Rust",
   "language": "rust",
   "name": "rust"
  },
  "language_info": {
   "codemirror_mode": "rust",
   "file_extension": ".rs",
   "mimetype": "text/rust",
   "name": "Rust",
   "pygment_lexer": "rust",
   "version": ""
  },
  "mimetype": "text/x-python",
  "name": "python",
  "npconvert_exporter": "python",
  "pygments_lexer": "ipython3",
  "version": 3
 },
 "nbformat": 4,
 "nbformat_minor": 4
}
