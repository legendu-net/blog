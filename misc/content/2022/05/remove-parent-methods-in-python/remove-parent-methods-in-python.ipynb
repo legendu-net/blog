{
 "cells": [
  {
   "cell_type": "markdown",
   "metadata": {},
   "source": [
    "- Author: Benjamin Du\n",
    "- Date: 2022-05-08 09:23:26\n",
    "- Modified: 2022-05-08 09:23:26\n",
    "- Title: Remove Parent Methods in Python\n",
    "- Slug: remove-parent-methods-in-python\n",
    "- Category: Computer Science\n",
    "- Tags: Computer Science, programming, Python, class, OOP, method, parent"
   ]
  },
  {
   "cell_type": "markdown",
   "metadata": {},
   "source": [
    "**Things on this page are fragmentary and immature notes/thoughts of the author. Please read with your own judgement!**"
   ]
  },
  {
   "cell_type": "code",
   "execution_count": 1,
   "metadata": {
    "execute": {
     "shell": {
      "execute_reply": "2022-05-08T16:42:14.484541+00:00"
     }
    },
    "iopub": {
     "execute_input": "2022-05-08T16:42:14.481044+00:00",
     "status": {
      "busy": "2022-05-08T16:42:14.480878+00:00"
     }
    }
   },
   "outputs": [
    {
     "ename": "SyntaxError",
     "evalue": "invalid syntax (3425179582.py, line 4)",
     "output_type": "error",
     "traceback": [
      "\u001b[0;36m  Input \u001b[0;32mIn [1]\u001b[0;36m\u001b[0m\n\u001b[0;31m    if name in [whatever must be excluded ]:\u001b[0m\n\u001b[0m                         ^\u001b[0m\n\u001b[0;31mSyntaxError\u001b[0m\u001b[0;31m:\u001b[0m invalid syntax\n"
     ]
    }
   ],
   "source": [
    "class Son(Father):\n",
    "\n",
    "    def __getattribute__( self, name ):\n",
    "        if name in [whatever must be excluded ]: \n",
    "            raise AttributeError( name )\n",
    "        else: \n",
    "            return super( Son, self ).__getattribute__( name )\n",
    "\n",
    "    def __dir__(self):\n",
    "        return sorted((set(dir(self.__class__ )) | set(self.__dict__.keys())) - set([whatever must be excluded]))"
   ]
  },
  {
   "cell_type": "markdown",
   "metadata": {
    "execute": {
     "shell": {
      "execute_reply": "2022-05-08T16:55:45.688270+00:00"
     }
    },
    "iopub": {
     "execute_input": "2022-05-08T16:55:45.685616+00:00",
     "status": {
      "busy": "2022-05-08T16:55:45.685393+00:00"
     }
    }
   },
   "source": [
    "## References\n",
    "\n",
    "https://medium.com/@maouu/sorry-but-youre-wrong-aea1b88ffc03"
   ]
  },
  {
   "cell_type": "code",
   "execution_count": null,
   "metadata": {},
   "outputs": [],
   "source": []
  }
 ],
 "metadata": {
  "file_extension": ".py",
  "kernelspec": {
   "display_name": "Python 3 (ipykernel)",
   "language": "python",
   "name": "python3"
  },
  "language_info": {
   "codemirror_mode": {
    "name": "ipython",
    "version": 3
   },
   "file_extension": ".py",
   "mimetype": "text/x-python",
   "name": "python",
   "nbconvert_exporter": "python",
   "pygments_lexer": "ipython3",
   "version": "3.8.10"
  },
  "mimetype": "text/x-python",
  "name": "python",
  "npconvert_exporter": "python",
  "pygments_lexer": "ipython3",
  "version": 3
 },
 "nbformat": 4,
 "nbformat_minor": 4
}
