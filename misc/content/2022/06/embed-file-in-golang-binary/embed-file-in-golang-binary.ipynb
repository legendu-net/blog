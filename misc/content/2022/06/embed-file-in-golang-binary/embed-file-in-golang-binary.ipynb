{
 "cells": [
  {
   "cell_type": "markdown",
   "metadata": {},
   "source": [
    "- Author: Benjamin Du\n",
    "- Date: 2022-06-09 20:57:36\n",
    "- Modified: 2022-06-09 20:57:36\n",
    "- Title: Embed File in Golang Binary\n",
    "- Slug: embed-file-in-golang-binary\n",
    "- Category: Computer Science\n",
    "- Tags: Computer Science, programming, GoLANG, Go, embed, file"
   ]
  },
  {
   "cell_type": "markdown",
   "metadata": {},
   "source": [
    "**Things on this page are fragmentary and immature notes/thoughts of the author. Please read with your own judgement!**"
   ]
  },
  {
   "cell_type": "markdown",
   "metadata": {},
   "source": [
    "## Tips and Traps\n",
    "\n",
    "1. My understanding is that embed files are loaded into memory,\n",
    "    which means that the Go app might consume large memory if you embed a large file.\n",
    "    \n",
    "2. The \"embed\" package does not work with the Gophernotes kernel. "
   ]
  },
  {
   "cell_type": "code",
   "execution_count": 3,
   "metadata": {},
   "outputs": [],
   "source": [
    "import _ \"embed\"\n",
    "\n",
    "//go:embed hello.txt\n",
    "var s string\n",
    "print(s)"
   ]
  },
  {
   "cell_type": "code",
   "execution_count": 4,
   "metadata": {},
   "outputs": [],
   "source": [
    "import _ \"embed\"\n",
    "\n",
    "//go:embed hello.txt\n",
    "var b []byte\n",
    "print(string(b))"
   ]
  },
  {
   "cell_type": "code",
   "execution_count": 6,
   "metadata": {},
   "outputs": [],
   "source": [
    "import \"embed\"\n",
    "\n",
    "//go:embed hello.txt\n",
    "var f embed.FS\n",
    "data, _ := f.ReadFile(\"hello.txt\")\n",
    "print(string(data))"
   ]
  },
  {
   "cell_type": "markdown",
   "metadata": {},
   "source": [
    "## References\n",
    "\n",
    "- [Go Standard Library - embed](https://pkg.go.dev/embed)\n",
    "\n",
    "- [Embedding static files in a go binary using go embed](https://harsimranmaan.medium.com/embedding-static-files-in-a-go-binary-using-go-embed-bac505f3cb9a)"
   ]
  },
  {
   "cell_type": "code",
   "execution_count": null,
   "metadata": {},
   "outputs": [],
   "source": []
  }
 ],
 "metadata": {
  "file_extension": ".py",
  "kernelspec": {
   "display_name": "Go",
   "language": "go",
   "name": "gophernotes"
  },
  "language_info": {
   "codemirror_mode": "",
   "file_extension": ".go",
   "mimetype": "",
   "name": "go",
   "nbconvert_exporter": "",
   "pygments_lexer": "",
   "version": "go1.18.3"
  },
  "mimetype": "text/x-python",
  "name": "python",
  "npconvert_exporter": "python",
  "pygments_lexer": "ipython3",
  "version": 3
 },
 "nbformat": 4,
 "nbformat_minor": 4
}
