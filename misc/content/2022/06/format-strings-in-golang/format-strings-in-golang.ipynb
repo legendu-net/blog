{
 "cells": [
  {
   "cell_type": "markdown",
   "metadata": {},
   "source": [
    "- Author: Benjamin Du\n",
    "- Date: 2022-06-28 18:42:41\n",
    "- Modified: 2022-06-28 18:42:41\n",
    "- Title: Format Strings in Golang\n",
    "- Slug: format-strings-in-golang\n",
    "- Category: Computer Science\n",
    "- Tags: Computer Science, programming, Golang, string, format, fmt"
   ]
  },
  {
   "cell_type": "markdown",
   "metadata": {},
   "source": [
    "**Things on this page are fragmentary and immature notes/thoughts of the author. Please read with your own judgement!**"
   ]
  },
  {
   "cell_type": "code",
   "execution_count": null,
   "metadata": {},
   "outputs": [],
   "source": []
  },
  {
   "cell_type": "code",
   "execution_count": null,
   "metadata": {},
   "outputs": [],
   "source": [
    "fmt.Printf"
   ]
  },
  {
   "cell_type": "code",
   "execution_count": null,
   "metadata": {},
   "outputs": [],
   "source": [
    "fmt.Println"
   ]
  },
  {
   "cell_type": "markdown",
   "metadata": {},
   "source": [
    "## [fmt.Sprintf](https://pkg.go.dev/fmt#Sprintf)"
   ]
  },
  {
   "cell_type": "markdown",
   "metadata": {},
   "source": [
    "## References\n",
    "\n",
    "- [Official Doc - fmt](https://pkg.go.dev/fmt)\n",
    "\n",
    "- [Official Doc - strings](https://pkg.go.dev/strings)\n",
    "\n",
    "- [String in Golang](https://www.legendu.net/misc/blog/string-in-golang/)\n",
    "\n",
    "- [Strings in Golang Are UTF-8](https://www.legendu.net/misc/blog/strings-in-golang-are-utf-8/)\n",
    "\n",
    "- [Manipulate Strings Using the `strings` Module in Golang](https://www.legendu.net/misc/blog/manipulate-strings-using-the-strings-module-in-golang/)\n",
    "\n",
    "- [How to Use Strings in Go (Golang)](https://www.developer.com/languages/strings-in-go/)"
   ]
  },
  {
   "cell_type": "code",
   "execution_count": null,
   "metadata": {},
   "outputs": [],
   "source": []
  }
 ],
 "metadata": {
  "file_extension": ".py",
  "kernelspec": {
   "display_name": "Python 3 (ipykernel)",
   "language": "python",
   "name": "python3"
  },
  "language_info": {
   "codemirror_mode": {
    "name": "ipython",
    "version": 3
   },
   "file_extension": ".py",
   "mimetype": "text/x-python",
   "name": "python",
   "nbconvert_exporter": "python",
   "pygments_lexer": "ipython3",
   "version": "3.10.4"
  },
  "mimetype": "text/x-python",
  "name": "python",
  "npconvert_exporter": "python",
  "pygments_lexer": "ipython3",
  "version": 3
 },
 "nbformat": 4,
 "nbformat_minor": 4
}
