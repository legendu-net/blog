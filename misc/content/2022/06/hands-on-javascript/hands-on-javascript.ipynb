{
 "cells": [
  {
   "cell_type": "markdown",
   "metadata": {},
   "source": [
    "- Author: Benjamin Du\n",
    "- Date: 2022-06-28 18:51:06\n",
    "- Modified: 2022-06-28 18:51:06\n",
    "- Title: Hands on JavaScript\n",
    "- Slug: hands-on-javascript\n",
    "- Category: Computer Science\n",
    "- Tags: Computer Science, programming, JavaScript, JS"
   ]
  },
  {
   "cell_type": "markdown",
   "metadata": {},
   "source": [
    "**Things on this page are fragmentary and immature notes/thoughts of the author. Please read with your own judgement!**"
   ]
  },
  {
   "cell_type": "code",
   "execution_count": 2,
   "metadata": {},
   "outputs": [
    {
     "name": "stderr",
     "output_type": "stream",
     "text": [
      "1:17 - No overload matches this call.\n",
      "1:17 - Overload 1 of 2, '(iterable?: Iterable<any>): Set<any>', gave the following error.\n",
      "1:17 - Argument of type 'number' is not assignable to parameter of type 'Iterable<any>'.\n",
      "1:17 - Overload 2 of 2, '(values?: readonly any[]): Set<any>', gave the following error.\n",
      "1:17 - Argument of type 'number' is not assignable to parameter of type 'readonly any[]'.\n",
      "1:20 - ',' expected.\n",
      "1:22 - Cannot redeclare block-scoped variable '(Missing)'.\n",
      "1:22 - ':' expected.\n",
      "1:25 - Cannot redeclare block-scoped variable '(Missing)'.\n",
      "1:25 - ':' expected.\n",
      "1:28 - Cannot redeclare block-scoped variable '(Missing)'.\n",
      "1:28 - ':' expected.\n"
     ]
    }
   ],
   "source": [
    "let a = new Set(3) {1, 2, 3}"
   ]
  },
  {
   "cell_type": "code",
   "execution_count": 3,
   "metadata": {},
   "outputs": [
    {
     "name": "stderr",
     "output_type": "stream",
     "text": [
      "1:1 - Value of type 'SetConstructor' is not callable. Did you mean to include 'new'?\n"
     ]
    }
   ],
   "source": [
    "Set(3)"
   ]
  },
  {
   "cell_type": "code",
   "execution_count": 5,
   "metadata": {},
   "outputs": [
    {
     "name": "stdout",
     "output_type": "stream",
     "text": [
      "Set(0) {}\n"
     ]
    }
   ],
   "source": [
    "new Set()"
   ]
  },
  {
   "cell_type": "code",
   "execution_count": 6,
   "metadata": {},
   "outputs": [
    {
     "name": "stderr",
     "output_type": "stream",
     "text": [
      "1:2 - Left side of comma operator is unused and has no side effects.\n",
      "1:2 - Left side of comma operator is unused and has no side effects.\n"
     ]
    }
   ],
   "source": [
    "{1, 2, 3}"
   ]
  },
  {
   "cell_type": "code",
   "execution_count": 7,
   "metadata": {},
   "outputs": [
    {
     "name": "stdout",
     "output_type": "stream",
     "text": [
      "Set(3) { 1, 2, 3 }\n"
     ]
    }
   ],
   "source": [
    "new Set ([1, 2, 3])"
   ]
  },
  {
   "cell_type": "code",
   "execution_count": 8,
   "metadata": {},
   "outputs": [],
   "source": [
    "let x;"
   ]
  },
  {
   "cell_type": "code",
   "execution_count": 9,
   "metadata": {},
   "outputs": [
    {
     "name": "stdout",
     "output_type": "stream",
     "text": [
      "undefined\n"
     ]
    }
   ],
   "source": [
    "typeof(x)"
   ]
  },
  {
   "cell_type": "code",
   "execution_count": 10,
   "metadata": {},
   "outputs": [
    {
     "name": "stdout",
     "output_type": "stream",
     "text": [
      "true\n"
     ]
    }
   ],
   "source": [
    "x == null"
   ]
  }
 ],
 "metadata": {
  "file_extension": ".py",
  "kernelspec": {
   "display_name": "Python 3 (ipykernel)",
   "language": "python",
   "name": "python3"
  },
  "language_info": {
   "codemirror_mode": {
    "name": "ipython",
    "version": 3
   },
   "file_extension": ".py",
   "mimetype": "text/x-python",
   "name": "python",
   "nbconvert_exporter": "python",
   "pygments_lexer": "ipython3",
   "version": "3.10.4"
  },
  "mimetype": "text/x-python",
  "name": "python",
  "npconvert_exporter": "python",
  "pygments_lexer": "ipython3",
  "version": 3
 },
 "nbformat": 4,
 "nbformat_minor": 4
}
