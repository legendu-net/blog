{
 "cells": [
  {
   "cell_type": "markdown",
   "metadata": {},
   "source": [
    "- Author: Benjamin Du\n",
    "- Date: 2022-06-27 21:03:44\n",
    "- Modified: 2022-06-27 21:03:44\n",
    "- Title: Hands on the Cobra Module in Golang\n",
    "- Slug: hands-on-the-cobra-module-in-golang\n",
    "- Category: Computer Science\n",
    "- Tags: Computer Science, programming, cobra, go, Golang, command-line, terminal,"
   ]
  },
  {
   "cell_type": "markdown",
   "metadata": {},
   "source": [
    "**Things on this page are fragmentary and immature notes/thoughts of the author. Please read with your own judgement!**"
   ]
  },
  {
   "cell_type": "markdown",
   "metadata": {},
   "source": [
    "## Comments\n",
    "\n",
    "1. Cobra support groups of flags which appear together or are mutually exclusive.\n",
    "    For detailed discussions,\n",
    "    please refer to [Flag Groups](https://github.com/spf13/cobra/blob/master/user_guide.md#flag-groups)\n",
    "    ."
   ]
  },
  {
   "cell_type": "markdown",
   "metadata": {},
   "source": [
    "## Quickly Start a Cobra-based project"
   ]
  },
  {
   "cell_type": "markdown",
   "metadata": {},
   "source": [
    "Below is an example of creating a cobra-based project \"icon\"."
   ]
  },
  {
   "cell_type": "code",
   "execution_count": null,
   "metadata": {},
   "outputs": [],
   "source": [
    "mkdir icon\n",
    "cd icon\n",
    "go mod init legendu.net/icon\n",
    "go get -u github.com/spf13/cobra@latest\n",
    "go install github.com/spf13/cobra-cli@latest\n",
    " ~/go/bin/cobra-cli init"
   ]
  },
  {
   "cell_type": "markdown",
   "metadata": {},
   "source": [
    "## References\n",
    "\n",
    "https://www.thorsten-hans.com/lets-build-a-cli-in-go-with-cobra/"
   ]
  },
  {
   "cell_type": "code",
   "execution_count": null,
   "metadata": {},
   "outputs": [],
   "source": []
  }
 ],
 "metadata": {
  "file_extension": ".py",
  "kernelspec": {
   "display_name": "Python 3 (ipykernel)",
   "language": "python",
   "name": "python3"
  },
  "language_info": {
   "codemirror_mode": {
    "name": "ipython",
    "version": 3
   },
   "file_extension": ".py",
   "mimetype": "text/x-python",
   "name": "python",
   "nbconvert_exporter": "python",
   "pygments_lexer": "ipython3",
   "version": "3.10.4"
  },
  "mimetype": "text/x-python",
  "name": "python",
  "npconvert_exporter": "python",
  "pygments_lexer": "ipython3",
  "version": 3
 },
 "nbformat": 4,
 "nbformat_minor": 4
}
