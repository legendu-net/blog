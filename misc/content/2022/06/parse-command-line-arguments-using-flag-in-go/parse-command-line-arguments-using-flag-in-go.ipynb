{
 "cells": [
  {
   "cell_type": "markdown",
   "metadata": {},
   "source": [
    "- Author: Benjamin Du\n",
    "- Date: 2022-06-04 18:19:32\n",
    "- Modified: 2022-06-04 18:19:32\n",
    "- Title: Parse Command Line Arguments Using Flag in Go\n",
    "- Slug: parse-command-line-arguments-using-flag-in-go\n",
    "- Category: Computer Science\n",
    "- Tags: Computer Science, programming, Go, GoLANG, flag, command, line, command-line, arguments, option, sub-command"
   ]
  },
  {
   "cell_type": "markdown",
   "metadata": {},
   "source": [
    "**Things on this page are fragmentary and immature notes/thoughts of the author. Please read with your own judgement!**"
   ]
  },
  {
   "cell_type": "markdown",
   "metadata": {},
   "source": [
    "It is suggested that you use the Golang module \n",
    "[spf13/cobra](https://www.legendu.net/misc/blog/hands-on-the-cobra-module-in-golang/) \n",
    "(instead of the standard Golang library flag)\n",
    "for parsing command-line arguments. "
   ]
  },
  {
   "cell_type": "code",
   "execution_count": 1,
   "metadata": {},
   "outputs": [],
   "source": [
    "import (\n",
    "    \"flag\"\n",
    "    \"fmt\"\n",
    ")"
   ]
  },
  {
   "cell_type": "markdown",
   "metadata": {},
   "source": [
    "Declare a string flag `--name` with a default value \"Ben\" and a short description. \n",
    "Notice that the function `flag.String` returns a string pointer (not a string value)."
   ]
  },
  {
   "cell_type": "code",
   "execution_count": 2,
   "metadata": {},
   "outputs": [],
   "source": [
    "wordPtr := flag.String(\"name\", \"Ben\", \"Name of a person.\")"
   ]
  },
  {
   "cell_type": "code",
   "execution_count": 3,
   "metadata": {},
   "outputs": [],
   "source": [
    "numbPtr := flag.Int(\"numb\", 42, \"an int\")\n",
    "forkPtr := flag.Bool(\"fork\", false, \"a bool\")"
   ]
  },
  {
   "cell_type": "code",
   "execution_count": 4,
   "metadata": {},
   "outputs": [],
   "source": [
    "flag.Parse()"
   ]
  },
  {
   "cell_type": "code",
   "execution_count": 5,
   "metadata": {},
   "outputs": [
    {
     "data": {
      "text/plain": [
       "Ben"
      ]
     },
     "execution_count": 5,
     "metadata": {},
     "output_type": "execute_result"
    }
   ],
   "source": [
    "*wordPtr"
   ]
  },
  {
   "cell_type": "code",
   "execution_count": 6,
   "metadata": {},
   "outputs": [
    {
     "data": {
      "text/plain": [
       "42"
      ]
     },
     "execution_count": 6,
     "metadata": {},
     "output_type": "execute_result"
    }
   ],
   "source": [
    "*numbPtr"
   ]
  },
  {
   "cell_type": "code",
   "execution_count": 7,
   "metadata": {},
   "outputs": [
    {
     "data": {
      "text/plain": [
       "false"
      ]
     },
     "execution_count": 7,
     "metadata": {},
     "output_type": "execute_result"
    }
   ],
   "source": [
    "*forkPtr"
   ]
  },
  {
   "cell_type": "code",
   "execution_count": 8,
   "metadata": {},
   "outputs": [
    {
     "data": {
      "text/plain": [
       "[/home/dclong/.local/share/jupyter/runtime/kernel-9d64ca68-de95-4d2c-a5a1-256edc785832.json]"
      ]
     },
     "execution_count": 8,
     "metadata": {},
     "output_type": "execute_result"
    }
   ],
   "source": [
    "flag.Args()"
   ]
  },
  {
   "cell_type": "markdown",
   "metadata": {},
   "source": [
    "## Sub Commands\n",
    "\n",
    "You can define sub-commands using `flag.NewFlagSet`.\n",
    "However,\n",
    "`flag` does not automatically generate help docs for sub-commands defined\n",
    "(which is not as convenient as `argparse` in Python).\n",
    "One way to improve the default behavior here\n",
    "is to overwrite the `-h` option for the main command\n",
    "and print help documentation on sub-commands when `-h` is specified.\n",
    "Below is such an example."
   ]
  },
  {
   "cell_type": "code",
   "execution_count": 1,
   "metadata": {},
   "outputs": [],
   "source": [
    "package main\n",
    "\n",
    "import \"flag\"\n",
    "import \"fmt\"\n",
    "import \"os\"\n",
    "\n",
    "func main() {\n",
    "\thelp := flag.Bool(\"h\", false, \"show help doc\")\n",
    "\tfooCmd := flag.NewFlagSet(\"foo\", flag.ExitOnError)\n",
    "\tbarCmd := flag.NewFlagSet(\"bar\", flag.ExitOnError)\n",
    "\tflag.Parse()\n",
    "\tif *help {\n",
    "\t\tfmt.Printf(`Usage of %s\n",
    "    foo - help doc on foo\n",
    "    bar - help doc on bar\n",
    "`, os.Args[0])\n",
    "\t\tos.Exit(0)\n",
    "\t}\n",
    "\tswitch os.Args[1] {\n",
    "\t\tcase \"foo\": _parse_foo(fooCmd)\n",
    "\t\tcase \"bar\": _parse_bar(barCmd)\n",
    "\t}\n",
    "}\n",
    "\n",
    "func _parse_foo(fooCmd *flag.FlagSet) {\n",
    "\tfooEnable := fooCmd.Bool(\"enable\", false, \"enable\")\n",
    "\tfooName := fooCmd.String(\"name\", \"\", \"name\")\n",
    "\tfooCmd.Parse(os.Args[2:])\n",
    "\tfmt.Println(\"subcommand 'foo'\")\n",
    "\tfmt.Println(\"  enable:\", *fooEnable)\n",
    "\tfmt.Println(\"  name:\", *fooName)\n",
    "\tfmt.Println(\"  tail:\", fooCmd.Args())\n",
    "}\n",
    "\n",
    "func _parse_bar(barCmd *flag.FlagSet) {\n",
    "\tbarLevel := barCmd.Int(\"level\", 0, \"level\")\n",
    "\tbarCmd.Parse(os.Args[2:])\n",
    "\tfmt.Println(\"subcommand 'bar'\")\n",
    "\tfmt.Println(\"  level:\", *barLevel)\n",
    "\tfmt.Println(\"  tail:\", barCmd.Args())\n",
    "}"
   ]
  },
  {
   "cell_type": "markdown",
   "metadata": {},
   "source": [
    "## References\n",
    "\n",
    "- [Hands on the Cobra Module in Golang](https://www.legendu.net/misc/blog/hands-on-the-cobra-module-in-golang/)\n",
    "\n",
    "- [flag - Official Doc](https://pkg.go.dev/flag)\n",
    "\n",
    "- [How to parse command-line flags in Go](https://www.educative.io/edpresso/how-to-parse-command-line-flags-in-go)\n",
    "\n",
    "- [Libraries for advanced parsing of command-line arguments](https://www.programming-books.io/essential/go/libraries-for-advanced-parsing-of-command-line-arguments-49e0d8b79e2d434798e8f4e42e6d1e7e)\n",
    "\n",
    "- [Go by Example: Command-Line Subcommands](https://gobyexample.com/command-line-subcommands)"
   ]
  },
  {
   "cell_type": "code",
   "execution_count": null,
   "metadata": {},
   "outputs": [],
   "source": []
  }
 ],
 "metadata": {
  "file_extension": ".py",
  "kernelspec": {
   "display_name": "Go",
   "language": "go",
   "name": "gophernotes"
  },
  "language_info": {
   "codemirror_mode": "",
   "file_extension": ".go",
   "mimetype": "",
   "name": "go",
   "nbconvert_exporter": "",
   "pygments_lexer": "",
   "version": "go1.18.3"
  },
  "mimetype": "text/x-python",
  "name": "python",
  "npconvert_exporter": "python",
  "pygments_lexer": "ipython3",
  "version": 3
 },
 "nbformat": 4,
 "nbformat_minor": 4
}
