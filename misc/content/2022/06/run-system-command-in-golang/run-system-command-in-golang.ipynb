{
 "cells": [
  {
   "cell_type": "markdown",
   "metadata": {},
   "source": [
    "- Author: Benjamin Du\n",
    "- Date: 2022-06-04 18:09:24\n",
    "- Modified: 2022-06-04 18:09:24\n",
    "- Title: Run System Command in Go\n",
    "- Slug: run-system-command-in-go\n",
    "- Category: Computer Science\n",
    "- Tags: Computer Science, programming, GoLANG, Go, system, command, exec, os"
   ]
  },
  {
   "cell_type": "markdown",
   "metadata": {},
   "source": [
    "**Things on this page are fragmentary and immature notes/thoughts of the author. Please read with your own judgement!**"
   ]
  },
  {
   "cell_type": "markdown",
   "metadata": {},
   "source": [
    "## Comments\n",
    "\n",
    "1. `exec.Command` takes a shell command and optional arguments passed to the shell command,\n",
    "    e.g.,\n",
    "    `exec.Command(\"ls\", \"-lha\")`.\n",
    "    It does not work if you pass a shell command with arguments as a single string to `exec.Command`,\n",
    "    e.g., \n",
    "    `exec.Command(\"ls -lha\")` does not work.\n",
    "    There are a few situations \n",
    "    where it is appealing to pass a shell command with arguments as a single string to `exec.Command`.\n",
    "\n",
    "    - You want to run a compound shell command \n",
    "        which leverages pipe (`|`), `&&`, `||`, etc.\n",
    "        Even though you can break such a compound shell command \n",
    "        into multiple smaller ones \n",
    "        and then run each of them using `exec.Command`,\n",
    "        it can be much more convenient \n",
    "        to be able to run a compound shell command directly.\n",
    "    - Use provides a shell command as a single string for your Golang application to run.  \n",
    "        It might not be trivia to parse a string shell command to its array representation. \n",
    "    \n",
    "    Fortunately, \n",
    "    there is one way around this problem.\n",
    "    You can explicitly call a shell and pass a command (with arguments) to it,\n",
    "    e.g., `exec.Command(\"bash\", \"-c\", \"ls -lha\")`."
   ]
  },
  {
   "cell_type": "code",
   "execution_count": 6,
   "metadata": {},
   "outputs": [
    {
     "data": {
      "text/plain": [
       "[] exit status 2"
      ]
     },
     "execution_count": 6,
     "metadata": {},
     "output_type": "execute_result"
    }
   ],
   "source": [
    "exec.Command(\"ls\", \"|\", \"wc\", \"-l\").Output()"
   ]
  },
  {
   "cell_type": "code",
   "execution_count": 1,
   "metadata": {},
   "outputs": [],
   "source": [
    "import \"fmt\"\n",
    "import \"reflect\"\n",
    "import \"os/exec\""
   ]
  },
  {
   "cell_type": "code",
   "execution_count": 24,
   "metadata": {},
   "outputs": [],
   "source": [
    "cmd := exec.Command(\"ls\")"
   ]
  },
  {
   "cell_type": "code",
   "execution_count": 25,
   "metadata": {},
   "outputs": [
    {
     "data": {
      "text/plain": [
       "/usr/bin/ls"
      ]
     },
     "execution_count": 25,
     "metadata": {},
     "output_type": "execute_result"
    }
   ],
   "source": [
    "cmd"
   ]
  },
  {
   "cell_type": "code",
   "execution_count": 26,
   "metadata": {},
   "outputs": [
    {
     "data": {
      "text/plain": [
       "*exec.Cmd"
      ]
     },
     "execution_count": 26,
     "metadata": {},
     "output_type": "execute_result"
    }
   ],
   "source": [
    "reflect.TypeOf(cmd)"
   ]
  },
  {
   "cell_type": "code",
   "execution_count": 27,
   "metadata": {},
   "outputs": [],
   "source": [
    "err := cmd.Run()\n",
    "err"
   ]
  },
  {
   "cell_type": "code",
   "execution_count": 28,
   "metadata": {},
   "outputs": [
    {
     "data": {
      "text/plain": [
       "true"
      ]
     },
     "execution_count": 28,
     "metadata": {},
     "output_type": "execute_result"
    }
   ],
   "source": [
    "err == nil"
   ]
  },
  {
   "cell_type": "code",
   "execution_count": 29,
   "metadata": {},
   "outputs": [],
   "source": [
    "out, err := exec.Command(\"ls\").Output()"
   ]
  },
  {
   "cell_type": "code",
   "execution_count": 32,
   "metadata": {},
   "outputs": [
    {
     "data": {
      "text/plain": [
       "true"
      ]
     },
     "execution_count": 32,
     "metadata": {},
     "output_type": "execute_result"
    }
   ],
   "source": [
    "err == nil"
   ]
  },
  {
   "cell_type": "code",
   "execution_count": 30,
   "metadata": {},
   "outputs": [
    {
     "data": {
      "text/plain": [
       "[116 105 112 115 45 111 110 45 103 111 108 97 110 103 46 105 112 121 110 98 10]"
      ]
     },
     "execution_count": 30,
     "metadata": {},
     "output_type": "execute_result"
    }
   ],
   "source": [
    "out"
   ]
  },
  {
   "cell_type": "code",
   "execution_count": 33,
   "metadata": {},
   "outputs": [
    {
     "data": {
      "text/plain": [
       "tips-on-golang.ipynb\n"
      ]
     },
     "execution_count": 33,
     "metadata": {},
     "output_type": "execute_result"
    }
   ],
   "source": [
    "string(out[:])"
   ]
  },
  {
   "cell_type": "markdown",
   "metadata": {},
   "source": [
    "## Get Detailed Error Message\n",
    "\n",
    "Please refer to\n",
    "[How to debug \"exit status 1\" error when running exec.Command in Golang](https://stackoverflow.com/questions/18159704/how-to-debug-exit-status-1-error-when-running-exec-command-in-golang)\n",
    "for detailed discussions.\n"
   ]
  },
  {
   "cell_type": "markdown",
   "metadata": {},
   "source": [
    "## References\n",
    "\n",
    "- [Executing System Commands With Golang](https://tutorialedge.net/golang/executing-system-commands-with-golang/)"
   ]
  },
  {
   "cell_type": "code",
   "execution_count": null,
   "metadata": {},
   "outputs": [],
   "source": []
  }
 ],
 "metadata": {
  "file_extension": ".py",
  "kernelspec": {
   "display_name": "Go",
   "language": "go",
   "name": "gophernotes"
  },
  "language_info": {
   "codemirror_mode": "",
   "file_extension": ".go",
   "mimetype": "",
   "name": "go",
   "nbconvert_exporter": "",
   "pygments_lexer": "",
   "version": "go1.18.3"
  },
  "mimetype": "text/x-python",
  "name": "python",
  "npconvert_exporter": "python",
  "pygments_lexer": "ipython3",
  "version": 3,
  "vscode": {
   "interpreter": {
    "hash": "e7370f93d1d0cde622a1f8e1c04877d8463912d04d973331ad4851f04de6915a"
   }
  }
 },
 "nbformat": 4,
 "nbformat_minor": 4
}