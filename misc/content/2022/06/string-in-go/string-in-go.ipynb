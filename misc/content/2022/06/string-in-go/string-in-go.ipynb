{
 "cells": [
  {
   "cell_type": "markdown",
   "metadata": {},
   "source": [
    "- Author: Benjamin Du\n",
    "- Date: 2022-06-09 22:17:07\n",
    "- Modified: 2022-06-09 22:17:07\n",
    "- Title: String in Go\n",
    "- Slug: string-in-go\n",
    "- Category: Computer Science\n",
    "- Tags: Computer Science, programming, Golang, Go, string, str, multiline"
   ]
  },
  {
   "cell_type": "markdown",
   "metadata": {},
   "source": [
    "**Things on this page are fragmentary and immature notes/thoughts of the author. Please read with your own judgement!**"
   ]
  },
  {
   "cell_type": "markdown",
   "metadata": {},
   "source": [
    "## Tips and Traps\n",
    "\n",
    "1. `string` is a primitive type in Golang,\n",
    "    which means a string value has no methods on it\n",
    "    but instead you have to use built-in functions \n",
    "    (e.g., `len`)\n",
    "    or functions in other modules \n",
    "    (e.g., the `strings` module)\n",
    "    to manipulate strings.\n",
    "\n",
    "1. Raw string literals, \n",
    "    delimited by backticks (back quotes), \n",
    "    are interpreted literally. \n",
    "    They can contain line breaks, \n",
    "    and backslashes have no special meaning.\n",
    "    \n",
    "2. The built-in function `len` returns the length of bytes of a string. \n",
    "    It is not necessary the length of unicode characters.\n",
    "    For example,\n",
    "    calling `len` on a Chinese character returns 3 instead of 1. "
   ]
  },
  {
   "cell_type": "code",
   "execution_count": 2,
   "metadata": {},
   "outputs": [],
   "source": [
    "import \"strings\"\n",
    "import \"fmt\""
   ]
  },
  {
   "cell_type": "markdown",
   "metadata": {},
   "source": [
    "## Backtick / Multi-line Strings"
   ]
  },
  {
   "cell_type": "code",
   "execution_count": 2,
   "metadata": {},
   "outputs": [
    {
     "data": {
      "text/plain": [
       "this is\n",
       "a multiline\n",
       "    string"
      ]
     },
     "execution_count": 2,
     "metadata": {},
     "output_type": "execute_result"
    }
   ],
   "source": [
    "s := `this is\n",
    "a multiline\n",
    "    string`\n",
    "s"
   ]
  },
  {
   "cell_type": "markdown",
   "metadata": {},
   "source": [
    "## Slicing of Strings"
   ]
  },
  {
   "cell_type": "code",
   "execution_count": 2,
   "metadata": {},
   "outputs": [
    {
     "data": {
      "text/plain": [
       "how are you"
      ]
     },
     "execution_count": 2,
     "metadata": {},
     "output_type": "execute_result"
    }
   ],
   "source": [
    "s := \"how are you\"\n",
    "s"
   ]
  },
  {
   "cell_type": "code",
   "execution_count": 4,
   "metadata": {},
   "outputs": [
    {
     "data": {
      "text/plain": [
       "w ar"
      ]
     },
     "execution_count": 4,
     "metadata": {},
     "output_type": "execute_result"
    }
   ],
   "source": [
    "s[2:6]"
   ]
  },
  {
   "cell_type": "markdown",
   "metadata": {},
   "source": [
    "## Comparing Strings"
   ]
  },
  {
   "cell_type": "markdown",
   "metadata": {},
   "source": [
    "## The `strings` Module\n",
    "\n",
    "Please refer to\n",
    "[Manipulate Strings Using the `strings` Module in Golang](https://www.legendu.net/misc/blog/manipulate-strings-using-the-strings-module-in-golang/)\n",
    "for detailed discussions."
   ]
  },
  {
   "cell_type": "markdown",
   "metadata": {},
   "source": [
    "## Format Strings\n",
    "\n",
    "Please refer to\n",
    "[Format Strings in Golang](https://www.legendu.net/misc/blog/format-strings-in-golang/)\n",
    "for detailed discussions."
   ]
  },
  {
   "cell_type": "markdown",
   "metadata": {},
   "source": [
    "## Strings in Golang Are UTF-8\n",
    "\n",
    "Please refer to\n",
    "[Strings in Golang Are UTF-8](https://www.legendu.net/misc/blog/strings-in-golang-are-utf-8/)\n",
    "for detailed discussions."
   ]
  },
  {
   "cell_type": "markdown",
   "metadata": {},
   "source": [
    "## References\n",
    "\n",
    "- [How to Use Strings in Go (Golang)](https://www.developer.com/languages/strings-in-go/)\n",
    "\n",
    "- [Official Doc - strings](https://pkg.go.dev/strings)\n",
    "\n",
    "- [fmt.Sprintf](https://pkg.go.dev/fmt#Sprintf)\n"
   ]
  },
  {
   "cell_type": "code",
   "execution_count": null,
   "metadata": {},
   "outputs": [],
   "source": []
  }
 ],
 "metadata": {
  "file_extension": ".py",
  "kernelspec": {
   "display_name": "Go",
   "language": "go",
   "name": "gophernotes"
  },
  "language_info": {
   "codemirror_mode": "",
   "file_extension": ".go",
   "mimetype": "",
   "name": "go",
   "nbconvert_exporter": "",
   "pygments_lexer": "",
   "version": "go1.18.3"
  },
  "mimetype": "text/x-python",
  "name": "python",
  "npconvert_exporter": "python",
  "pygments_lexer": "ipython3",
  "version": 3
 },
 "nbformat": 4,
 "nbformat_minor": 4
}
