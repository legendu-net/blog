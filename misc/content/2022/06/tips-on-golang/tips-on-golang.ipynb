{
 "cells": [
  {
   "cell_type": "markdown",
   "metadata": {},
   "source": [
    "- Author: Benjamin Du\n",
    "- Date: 2022-06-04 17:56:46\n",
    "- Modified: 2022-06-04 17:56:46\n",
    "- Title: Tips on Golang\n",
    "- Slug: tips-on-golang\n",
    "- Category: Computer Science\n",
    "- Tags: Computer Science, programming, GoLANG, Go"
   ]
  },
  {
   "cell_type": "markdown",
   "metadata": {},
   "source": [
    "**Things on this page are fragmentary and immature notes/thoughts of the author. Please read with your own judgement!**"
   ]
  },
  {
   "cell_type": "code",
   "execution_count": 8,
   "metadata": {},
   "outputs": [],
   "source": [
    "import \"fmt\"\n",
    "import \"reflect\"\n",
    "import \"os/exec\""
   ]
  },
  {
   "cell_type": "markdown",
   "metadata": {},
   "source": [
    "## References\n",
    "\n",
    "- [Difference between := and = operators in Go](https://stackoverflow.com/questions/17891226/difference-between-and-operators-in-go)\n",
    "\n",
    "- [Tutorial: Create a Go module](https://go.dev/doc/tutorial/create-module)\n",
    "\n",
    "- [Managing dependencies](https://go.dev/doc/modules/managing-dependencies#naming_module)\n",
    "\n",
    "- [How to Write Go Code](https://go.dev/doc/code)\n",
    "\n",
    "- [Understanding Golang Packages](https://thenewstack.io/understanding-golang-packages/)\n",
    "\n",
    "- [Print type of variable in Go](https://gosamples.dev/print-type/)"
   ]
  },
  {
   "cell_type": "code",
   "execution_count": null,
   "metadata": {},
   "outputs": [],
   "source": []
  }
 ],
 "metadata": {
  "file_extension": ".py",
  "kernelspec": {
   "display_name": "Go",
   "language": "go",
   "name": "gophernotes"
  },
  "language_info": {
   "codemirror_mode": "",
   "file_extension": ".go",
   "mimetype": "",
   "name": "go",
   "nbconvert_exporter": "",
   "pygments_lexer": "",
   "version": "go1.18.3"
  },
  "mimetype": "text/x-python",
  "name": "python",
  "npconvert_exporter": "python",
  "pygments_lexer": "ipython3",
  "version": 3
 },
 "nbformat": 4,
 "nbformat_minor": 4
}
