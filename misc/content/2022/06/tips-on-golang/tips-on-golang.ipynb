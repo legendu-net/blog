{
 "cells": [
  {
   "cell_type": "markdown",
   "metadata": {},
   "source": [
    "- Author: Benjamin Du\n",
    "- Date: 2022-06-04 17:56:46\n",
    "- Modified: 2022-07-09 22:10:13\n",
    "- Title: Tips on Golang\n",
    "- Slug: tips-on-golang\n",
    "- Category: Computer Science\n",
    "- Tags: Computer Science, programming, GoLANG, Go\n"
   ]
  },
  {
   "cell_type": "markdown",
   "metadata": {},
   "source": [
    "**Things on this page are fragmentary and immature notes/thoughts of the author. Please read with your own judgement!**"
   ]
  },
  {
   "cell_type": "markdown",
   "metadata": {},
   "source": [
    "The package `main` tells the Go compiler that \n",
    "the package should compile as an executable program instead of a shared library. \n",
    "The `main` function in the `main` package is the entry point of the program.\n",
    "\n",
    "    mkdir myproj\n",
    "    cd myproj\n",
    "    go mod init legendu.net/myproj"
   ]
  },
  {
   "cell_type": "code",
   "execution_count": 8,
   "metadata": {},
   "outputs": [],
   "source": [
    "import \"fmt\"\n",
    "import \"reflect\"\n",
    "import \"os/exec\""
   ]
  },
  {
   "cell_type": "markdown",
   "metadata": {},
   "source": [
    "## `go get` vs `go install`\n",
    "\n",
    "Please refer to\n",
    "[Deprecation of 'go get' for installing executables](https://go.dev/doc/go-get-install-deprecation)\n",
    "for detailed discussions.\n"
   ]
  },
  {
   "cell_type": "markdown",
   "metadata": {},
   "source": [
    "## References\n",
    "\n",
    "- [The Go Programming Language Specification](https://go.dev/ref/spec)\n",
    "\n",
    "- [Difference between := and = operators in Go](https://stackoverflow.com/questions/17891226/difference-between-and-operators-in-go)\n",
    "\n",
    "- [Tutorial: Create a Go module](https://go.dev/doc/tutorial/create-module)\n",
    "\n",
    "- [Managing dependencies](https://go.dev/doc/modules/managing-dependencies#naming_module)\n",
    "\n",
    "- [How to Write Go Code](https://go.dev/doc/code)\n",
    "\n",
    "- [Understanding Golang Packages](https://thenewstack.io/understanding-golang-packages/)\n",
    "\n",
    "- [Print type of variable in Go](https://gosamples.dev/print-type/)\n",
    "\n",
    "- https://dave.cheney.net/practical-go/presentations/qcon-china.html\n",
    "\n",
    "- https://medium.com/@kdnotes/golang-naming-rules-and-conventions-8efeecd23b68\n",
    "\n",
    "- https://betterprogramming.pub/naming-conventions-in-go-short-but-descriptive-1fa7c6d2f32a#:~:text=The%20convention%20in%20Go%20is,first%20character%20should%20be%20uppercase"
   ]
  }
 ],
 "metadata": {
  "file_extension": ".py",
  "kernelspec": {
   "display_name": "Go",
   "language": "go",
   "name": "gophernotes"
  },
  "language_info": {
   "codemirror_mode": "",
   "file_extension": ".go",
   "mimetype": "",
   "name": "go",
   "nbconvert_exporter": "",
   "pygments_lexer": "",
   "version": "go1.18.3"
  },
  "mimetype": "text/x-python",
  "name": "python",
  "npconvert_exporter": "python",
  "pygments_lexer": "ipython3",
  "version": 3
 },
 "nbformat": 4,
 "nbformat_minor": 4
}