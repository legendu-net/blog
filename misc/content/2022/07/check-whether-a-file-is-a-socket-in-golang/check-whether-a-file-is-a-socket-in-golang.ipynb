{
 "cells": [
  {
   "cell_type": "markdown",
   "metadata": {},
   "source": [
    "- Author: Benjamin Du\n",
    "- Date: 2022-07-17 22:49:24\n",
    "- Modified: 2022-07-17 22:49:24\n",
    "- Title: Check Whether a File Is a Socket in Golang\n",
    "- Slug: check-whether-a-file-is-a-socket-in-golang\n",
    "- Category: Computer Science\n",
    "- Tags: Computer Science, programming, file, socket, Golang, mode, bit"
   ]
  },
  {
   "cell_type": "markdown",
   "metadata": {},
   "source": [
    "**Things on this page are fragmentary and immature notes/thoughts of the author. Please read with your own judgement!**"
   ]
  },
  {
   "cell_type": "code",
   "execution_count": 1,
   "metadata": {},
   "outputs": [],
   "source": [
    "import \"os\"\n",
    "import \"io/fs\"\n",
    "import \"fmt\"\n",
    "import \"log\""
   ]
  },
  {
   "cell_type": "markdown",
   "metadata": {},
   "source": [
    "## Tips and Traps\n",
    "\n",
    "The bits encoding for file mode might be different for different languages.\n",
    "For example, \n",
    "the encoding in Golang and in Python are differnt.\n",
    "As a matter of fact,\n",
    "even for the same language, \n",
    "different libraries might use different encodings.\n",
    "It is critical to use interfaces provided by the library that you use\n",
    "instead of assuming a specific encoding. "
   ]
  },
  {
   "cell_type": "code",
   "execution_count": 2,
   "metadata": {},
   "outputs": [],
   "source": [
    "// Check if a file is a socket.\n",
    "func IsSocket(path string) bool {\n",
    "\tfileInfo, err := os.Stat(path)\n",
    "\tif err != nil {\n",
    "\t\tlog.Fatal(\"ERROR - \", err)\n",
    "\t}\n",
    "\treturn fileInfo.Mode().Type() == fs.ModeSocket\n",
    "}"
   ]
  },
  {
   "cell_type": "code",
   "execution_count": null,
   "metadata": {},
   "outputs": [],
   "source": [
    "IsSocket(\"rust.md\")"
   ]
  },
  {
   "cell_type": "code",
   "execution_count": null,
   "metadata": {},
   "outputs": [],
   "source": [
    "IsSocket(\"/home/dclong/.ssh/control/dclong@10.0.0.47:22\")"
   ]
  },
  {
   "cell_type": "code",
   "execution_count": null,
   "metadata": {},
   "outputs": [],
   "source": []
  }
 ],
 "metadata": {
  "file_extension": ".py",
  "kernelspec": {
   "display_name": "Go",
   "language": "go",
   "name": "gophernotes"
  },
  "language_info": {
   "codemirror_mode": "",
   "file_extension": ".go",
   "mimetype": "",
   "name": "go",
   "nbconvert_exporter": "",
   "pygments_lexer": "",
   "version": "go1.18.3"
  },
  "mimetype": "text/x-python",
  "name": "python",
  "npconvert_exporter": "python",
  "pygments_lexer": "ipython3",
  "version": 3
 },
 "nbformat": 4,
 "nbformat_minor": 4
}
