{
 "cells": [
  {
   "cell_type": "markdown",
   "metadata": {},
   "source": [
    "- Author: Benjamin Du\n",
    "- Date: 2022-07-10 15:34:05\n",
    "- Modified: 2022-07-10 15:34:05\n",
    "- Title: Check Whether a Path Exists in Golang\n",
    "- Slug: check-whether-a-path-exists-in-golang\n",
    "- Category: Computer Science\n",
    "- Tags: Computer Science, programming, Golang, path, exist, file"
   ]
  },
  {
   "cell_type": "markdown",
   "metadata": {},
   "source": [
    "**Things on this page are fragmentary and immature notes/thoughts of the author. Please read with your own judgement!**"
   ]
  },
  {
   "cell_type": "markdown",
   "metadata": {},
   "source": [
    "## Tips & Traps\n",
    "\n",
    "There is no built-in function to check for the existence of a path in Golang.\n",
    "However,\n",
    "you can achieve it using `os.Stat` + `os.IsNotExist`."
   ]
  },
  {
   "cell_type": "code",
   "execution_count": 1,
   "metadata": {},
   "outputs": [],
   "source": [
    "import \"os\""
   ]
  },
  {
   "cell_type": "code",
   "execution_count": 2,
   "metadata": {},
   "outputs": [],
   "source": [
    "_, err := os.Stat(\"/some/non-exist/path\")"
   ]
  },
  {
   "cell_type": "code",
   "execution_count": 3,
   "metadata": {},
   "outputs": [
    {
     "data": {
      "text/plain": [
       "stat /some/non-exist/path: no such file or directory"
      ]
     },
     "execution_count": 3,
     "metadata": {},
     "output_type": "execute_result"
    }
   ],
   "source": [
    "err"
   ]
  },
  {
   "cell_type": "code",
   "execution_count": 6,
   "metadata": {},
   "outputs": [
    {
     "data": {
      "text/plain": [
       "true"
      ]
     },
     "execution_count": 6,
     "metadata": {},
     "output_type": "execute_result"
    }
   ],
   "source": [
    "os.IsNotExist(err)"
   ]
  },
  {
   "cell_type": "markdown",
   "metadata": {},
   "source": [
    "The function `ExistsPath` below is an implementation based the idea abvoe."
   ]
  },
  {
   "cell_type": "code",
   "execution_count": 7,
   "metadata": {},
   "outputs": [],
   "source": [
    "func ExistsPath(path string) bool {\n",
    "\t_, err := os.Stat(path)\n",
    "\tif os.IsNotExist(err) {\n",
    "\t\treturn false\n",
    "\t}\n",
    "\treturn true\n",
    "}"
   ]
  },
  {
   "cell_type": "code",
   "execution_count": 8,
   "metadata": {},
   "outputs": [
    {
     "data": {
      "text/plain": [
       "false"
      ]
     },
     "execution_count": 8,
     "metadata": {},
     "output_type": "execute_result"
    }
   ],
   "source": [
    "ExistsPath(\"/some/non-exist/path\")"
   ]
  },
  {
   "cell_type": "markdown",
   "metadata": {},
   "source": [
    "## References\n",
    "\n",
    "- [Golang Package - path/filepath](https://pkg.go.dev/path/filepath)\n",
    "\n",
    "- [Embed File in Golang Binary](https://www.legendu.net/misc/blog/embed-file-in-golang-binary/)\n",
    "\n",
    "- [Manipulate Filesystem in Golang](https://www.legendu.net/misc/blog/manipulate-filesystem-in-golang/)\n",
    "\n",
    "- [Hands on the filepath Library in Golang](https://www.legendu.net/misc/blog/hands-on-the-filepath-library-in-golang/)\n",
    "\n",
    "- [Get Directory Information in Golang](https://www.legendu.net/misc/blog/get-directory-info-golang/)"
   ]
  },
  {
   "cell_type": "code",
   "execution_count": null,
   "metadata": {},
   "outputs": [],
   "source": []
  }
 ],
 "metadata": {
  "file_extension": ".py",
  "kernelspec": {
   "display_name": "Go",
   "language": "go",
   "name": "gophernotes"
  },
  "language_info": {
   "codemirror_mode": "",
   "file_extension": ".go",
   "mimetype": "",
   "name": "go",
   "nbconvert_exporter": "",
   "pygments_lexer": "",
   "version": "go1.18.3"
  },
  "mimetype": "text/x-python",
  "name": "python",
  "npconvert_exporter": "python",
  "pygments_lexer": "ipython3",
  "version": 3
 },
 "nbformat": 4,
 "nbformat_minor": 4
}
