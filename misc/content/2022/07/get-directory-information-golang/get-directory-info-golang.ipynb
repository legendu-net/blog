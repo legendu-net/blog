{
 "cells": [
  {
   "cell_type": "markdown",
   "metadata": {},
   "source": [
    "- Author: Benjamin Du\n",
    "- Date: 2022-07-01 11:55:46\n",
    "- Modified: 2022-07-01 11:55:46\n",
    "- Title: Get Directory Information in Golang\n",
    "- Slug: get-directory-info-golang\n",
    "- Category: Computer Science\n",
    "- Tags: Computer Science, programming, Go, Golang, path, directory, working, current"
   ]
  },
  {
   "cell_type": "markdown",
   "metadata": {},
   "source": [
    "**Things on this page are fragmentary and immature notes/thoughts of the author. Please read with your own judgement!**"
   ]
  },
  {
   "cell_type": "code",
   "execution_count": 3,
   "metadata": {},
   "outputs": [],
   "source": [
    "import \"os\""
   ]
  },
  {
   "cell_type": "markdown",
   "metadata": {},
   "source": [
    "## Current Working Directory"
   ]
  },
  {
   "cell_type": "code",
   "execution_count": 4,
   "metadata": {},
   "outputs": [],
   "source": [
    "path, err := os.Getwd()"
   ]
  },
  {
   "cell_type": "code",
   "execution_count": 6,
   "metadata": {},
   "outputs": [
    {
     "data": {
      "text/plain": [
       "/workdir/archives/blog/misc/content/2022/07/get-the-current-working-directory-in-golang"
      ]
     },
     "execution_count": 6,
     "metadata": {},
     "output_type": "execute_result"
    }
   ],
   "source": [
    "path"
   ]
  },
  {
   "cell_type": "markdown",
   "metadata": {},
   "source": [
    "## Path of the Golang Executable"
   ]
  },
  {
   "cell_type": "code",
   "execution_count": 7,
   "metadata": {},
   "outputs": [],
   "source": [
    "path, err := os.Executable()"
   ]
  },
  {
   "cell_type": "code",
   "execution_count": 9,
   "metadata": {},
   "outputs": [
    {
     "data": {
      "text/plain": [
       "/usr/local/go/bin/gophernotes"
      ]
     },
     "execution_count": 9,
     "metadata": {},
     "output_type": "execute_result"
    }
   ],
   "source": [
    "path"
   ]
  },
  {
   "cell_type": "markdown",
   "metadata": {},
   "source": [
    "## Home Directory of the Current User\n",
    "\n",
    "UserHomeDir returns the current (real) user's home directory.\n",
    "If the code is run by a non-root user named `some_user` on Linux,\n",
    "then the returned home directory is `/home/some_user`. \n",
    "However,\n",
    "if `some_user` has `sudo` access and run the code using `sudo`, \n",
    "then the real user user is `root` \n",
    "and the returned home directory is `/root`."
   ]
  },
  {
   "cell_type": "code",
   "execution_count": 4,
   "metadata": {},
   "outputs": [],
   "source": [
    "path, err := os.UserHomeDir()"
   ]
  },
  {
   "cell_type": "code",
   "execution_count": 5,
   "metadata": {},
   "outputs": [
    {
     "data": {
      "text/plain": [
       "/home/dclong"
      ]
     },
     "execution_count": 5,
     "metadata": {},
     "output_type": "execute_result"
    }
   ],
   "source": [
    "path"
   ]
  },
  {
   "cell_type": "markdown",
   "metadata": {},
   "source": [
    "## References\n",
    "\n",
    "- [Official Doc - os](https://pkg.go.dev/os)\n",
    "\n",
    "- [Embed File in Golang Binary](https://www.legendu.net/misc/blog/embed-file-in-golang-binary/)\n",
    "\n",
    "- [Manipulate Filesystem in Golang](https://www.legendu.net/misc/blog/manipulate-filesystem-in-golang/)\n",
    "\n",
    "- [Check Whether a Path Exists in Golang](https://www.legendu.net/misc/blog/check-whether-a-path-exists-in-golang/)\n",
    "\n",
    "- [Hands on the filepath Library in Golang](https://www.legendu.net/misc/blog/hands-on-the-filepath-library-in-golang/)"
   ]
  },
  {
   "cell_type": "code",
   "execution_count": null,
   "metadata": {},
   "outputs": [],
   "source": []
  }
 ],
 "metadata": {
  "file_extension": ".py",
  "kernelspec": {
   "display_name": "Go",
   "language": "go",
   "name": "gophernotes"
  },
  "language_info": {
   "codemirror_mode": "",
   "file_extension": ".go",
   "mimetype": "",
   "name": "go",
   "nbconvert_exporter": "",
   "pygments_lexer": "",
   "version": "go1.18.3"
  },
  "mimetype": "text/x-python",
  "name": "python",
  "npconvert_exporter": "python",
  "pygments_lexer": "ipython3",
  "version": 3
 },
 "nbformat": 4,
 "nbformat_minor": 4
}
