{
 "cells": [
  {
   "cell_type": "markdown",
   "metadata": {},
   "source": [
    "- Author: Benjamin Du\n",
    "- Date: 2022-07-05 17:03:58\n",
    "- Modified: 2022-07-05 17:03:58\n",
    "- Title: Get the Type of OS in Golang\n",
    "- Slug: get-the-type-of-os-in-golang\n",
    "- Category: Computer Science\n",
    "- Tags: Computer Science, programming, runtime, GOOS, OS, operating system, Go, Golang"
   ]
  },
  {
   "cell_type": "markdown",
   "metadata": {},
   "source": [
    "**Things on this page are fragmentary and immature notes/thoughts of the author. Please read with your own judgement!**"
   ]
  },
  {
   "cell_type": "code",
   "execution_count": 4,
   "metadata": {},
   "outputs": [],
   "source": [
    "import \"fmt\"\n",
    "import \"runtime\"\n",
    "import \"os/exec\"\n",
    "import \"periph.io/x/host/v3/distro\""
   ]
  },
  {
   "cell_type": "code",
   "execution_count": 2,
   "metadata": {},
   "outputs": [
    {
     "data": {
      "text/plain": [
       "linux"
      ]
     },
     "execution_count": 2,
     "metadata": {},
     "output_type": "execute_result"
    }
   ],
   "source": [
    "runtime.GOOS"
   ]
  },
  {
   "cell_type": "markdown",
   "metadata": {},
   "source": [
    "List all support OS by Golang."
   ]
  },
  {
   "cell_type": "code",
   "execution_count": 8,
   "metadata": {},
   "outputs": [
    {
     "data": {
      "text/plain": [
       "aix/ppc64\n",
       "android/386\n",
       "android/amd64\n",
       "android/arm\n",
       "android/arm64\n",
       "darwin/amd64\n",
       "darwin/arm64\n",
       "dragonfly/amd64\n",
       "freebsd/386\n",
       "freebsd/amd64\n",
       "freebsd/arm\n",
       "freebsd/arm64\n",
       "illumos/amd64\n",
       "ios/amd64\n",
       "ios/arm64\n",
       "js/wasm\n",
       "linux/386\n",
       "linux/amd64\n",
       "linux/arm\n",
       "linux/arm64\n",
       "linux/mips\n",
       "linux/mips64\n",
       "linux/mips64le\n",
       "linux/mipsle\n",
       "linux/ppc64\n",
       "linux/ppc64le\n",
       "linux/riscv64\n",
       "linux/s390x\n",
       "netbsd/386\n",
       "netbsd/amd64\n",
       "netbsd/arm\n",
       "netbsd/arm64\n",
       "openbsd/386\n",
       "openbsd/amd64\n",
       "openbsd/arm\n",
       "openbsd/arm64\n",
       "openbsd/mips64\n",
       "plan9/386\n",
       "plan9/amd64\n",
       "plan9/arm\n",
       "solaris/amd64\n",
       "windows/386\n",
       "windows/amd64\n",
       "windows/arm\n",
       "windows/arm64\n"
      ]
     },
     "execution_count": 8,
     "metadata": {},
     "output_type": "execute_result"
    }
   ],
   "source": [
    "out, err := exec.Command(\"bash\", \"-c\", \"go tool dist list\").Output()\n",
    "string(out)"
   ]
  },
  {
   "cell_type": "markdown",
   "metadata": {},
   "source": [
    "## Get Linux Distribution Information"
   ]
  },
  {
   "cell_type": "code",
   "execution_count": 5,
   "metadata": {},
   "outputs": [
    {
     "name": "stdout",
     "output_type": "stream",
     "text": [
      "NAME: Ubuntu\n",
      "VERSION_ID: 22.04\n",
      "VERSION_CODENAME: jammy\n",
      "BUG_REPORT_URL: https://bugs.launchpad.net/ubuntu/\n",
      "HOME_URL: https://www.ubuntu.com/\n",
      "SUPPORT_URL: https://help.ubuntu.com/\n",
      "PRIVACY_POLICY_URL: https://www.ubuntu.com/legal/terms-and-policies/privacy-policy\n",
      "UBUNTU_CODENAME: jammy\n",
      "PRETTY_NAME: Ubuntu 22.04 LTS\n",
      "VERSION: 22.04 LTS (Jammy Jellyfish)\n",
      "ID: ubuntu\n",
      "ID_LIKE: debian\n"
     ]
    }
   ],
   "source": [
    "for k, v := range distro.OSRelease() {\n",
    "    fmt.Printf(\"%s: %s\\n\", k, v)\n",
    "}"
   ]
  },
  {
   "cell_type": "code",
   "execution_count": null,
   "metadata": {},
   "outputs": [],
   "source": []
  }
 ],
 "metadata": {
  "file_extension": ".py",
  "kernelspec": {
   "display_name": "Go",
   "language": "go",
   "name": "gophernotes"
  },
  "language_info": {
   "codemirror_mode": "",
   "file_extension": ".go",
   "mimetype": "",
   "name": "go",
   "nbconvert_exporter": "",
   "pygments_lexer": "",
   "version": "go1.18.3"
  },
  "mimetype": "text/x-python",
  "name": "python",
  "npconvert_exporter": "python",
  "pygments_lexer": "ipython3",
  "version": 3
 },
 "nbformat": 4,
 "nbformat_minor": 4
}
