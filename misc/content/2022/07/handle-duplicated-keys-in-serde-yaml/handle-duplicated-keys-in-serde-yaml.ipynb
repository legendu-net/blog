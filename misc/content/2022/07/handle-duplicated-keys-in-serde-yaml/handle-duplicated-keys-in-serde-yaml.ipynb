{
 "cells": [
  {
   "cell_type": "markdown",
   "metadata": {},
   "source": [
    "- Author: Benjamin Du\n",
    "- Date: 2022-07-03 15:20:41\n",
    "- Modified: 2022-07-05 00:25:51\n",
    "- Title: Handle Duplicated Keys in serde-yaml in Rust\n",
    "- Slug: handle-duplicated-keys-in-serde-yaml\n",
    "- Category: Computer Science\n",
    "- Tags: Computer Science, programming, Rust, YAML, serde-yaml, serde-with, duplicate, duplicated, keys\n"
   ]
  },
  {
   "cell_type": "markdown",
   "metadata": {},
   "source": [
    "**Things on this page are fragmentary and immature notes/thoughts of the author. Please read with your own judgement!**"
   ]
  },
  {
   "cell_type": "markdown",
   "metadata": {},
   "source": [
    "## Tips and Traps\n",
    "\n",
    "1. The YAML specification does not forbid duplicated keys.\n",
    "\n",
    "2. `serde-yaml` ignores duplicated keys except the last one silently, by default.\n",
    "    To overwrite this behavior,\n",
    "    you have to define your own struct\n",
    "    and use the tag\n",
    "    [serde_with::rust::maps_duplicate_key_is_error](https://docs.rs/serde_with/1.5.0/serde_with/rust/maps_duplicate_key_is_error/index.html)\n",
    "    .\n",
    "    \n",
    "    https://github.com/dtolnay/serde-yaml/issues/150\n",
    "    \n",
    "    https://users.rust-lang.org/t/how-can-i-handle-duplicate-fields-when-specifying-multiple-aliases-using-serde/46426"
   ]
  },
  {
   "cell_type": "code",
   "execution_count": null,
   "metadata": {},
   "outputs": [],
   "source": []
  }
 ],
 "metadata": {
  "file_extension": ".py",
  "kernelspec": {
   "display_name": "Python 3 (ipykernel)",
   "language": "python",
   "name": "python3"
  },
  "language_info": {
   "codemirror_mode": {
    "name": "ipython",
    "version": 3
   },
   "file_extension": ".py",
   "mimetype": "text/x-python",
   "name": "python",
   "nbconvert_exporter": "python",
   "pygments_lexer": "ipython3",
   "version": "3.10.4"
  },
  "mimetype": "text/x-python",
  "name": "python",
  "npconvert_exporter": "python",
  "pygments_lexer": "ipython3",
  "version": 3
 },
 "nbformat": 4,
 "nbformat_minor": 4
}