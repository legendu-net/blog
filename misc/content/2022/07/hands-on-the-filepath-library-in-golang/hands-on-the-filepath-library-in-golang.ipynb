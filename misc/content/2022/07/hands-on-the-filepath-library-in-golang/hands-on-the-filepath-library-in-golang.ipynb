{
 "cells": [
  {
   "cell_type": "markdown",
   "metadata": {},
   "source": [
    "- Author: Benjamin Du\n",
    "- Date: 2022-07-05 20:45:52\n",
    "- Modified: 2022-07-09 22:07:30\n",
    "- Title: Hands on the filepath Library in Golang\n",
    "- Slug: hands-on-the-filepath-library-in-golang\n",
    "- Category: Computer Science\n",
    "- Tags: Computer Science, programming, Go, Golang, filepath, file, path\n"
   ]
  },
  {
   "cell_type": "markdown",
   "metadata": {},
   "source": [
    "**Things on this page are fragmentary and immature notes/thoughts of the author. Please read with your own judgement!**"
   ]
  },
  {
   "cell_type": "code",
   "execution_count": 6,
   "metadata": {},
   "outputs": [],
   "source": [
    "import \"os\"\n",
    "import \"fmt\"\n",
    "import \"path/filepath\""
   ]
  },
  {
   "cell_type": "code",
   "execution_count": 2,
   "metadata": {},
   "outputs": [
    {
     "data": {
      "text/plain": [
       "/home/myname"
      ]
     },
     "execution_count": 2,
     "metadata": {},
     "output_type": "execute_result"
    }
   ],
   "source": [
    "filepath.Dir(\"/home/myname/\")"
   ]
  },
  {
   "cell_type": "code",
   "execution_count": 3,
   "metadata": {},
   "outputs": [
    {
     "data": {
      "text/plain": [
       "/home"
      ]
     },
     "execution_count": 3,
     "metadata": {},
     "output_type": "execute_result"
    }
   ],
   "source": [
    "filepath.Dir(\"/home/myname\")"
   ]
  },
  {
   "cell_type": "markdown",
   "metadata": {},
   "source": [
    "## [filepath.Base](https://pkg.go.dev/path/filepath#Base)"
   ]
  },
  {
   "cell_type": "code",
   "execution_count": 2,
   "metadata": {},
   "outputs": [
    {
     "data": {
      "text/plain": [
       "bin"
      ]
     },
     "execution_count": 2,
     "metadata": {},
     "output_type": "execute_result"
    }
   ],
   "source": [
    "filepath.Base(\"/usr/local/bin\")"
   ]
  },
  {
   "cell_type": "code",
   "execution_count": 3,
   "metadata": {},
   "outputs": [
    {
     "data": {
      "text/plain": [
       "abc.txt"
      ]
     },
     "execution_count": 3,
     "metadata": {},
     "output_type": "execute_result"
    }
   ],
   "source": [
    "filepath.Base(\"/usr/local/bin/abc.txt\")"
   ]
  },
  {
   "cell_type": "markdown",
   "metadata": {},
   "source": [
    "## [filepath.Join](https://pkg.go.dev/path/filepath#Join)"
   ]
  },
  {
   "cell_type": "code",
   "execution_count": 2,
   "metadata": {},
   "outputs": [
    {
     "data": {
      "text/plain": [
       "/usr/local/bin"
      ]
     },
     "execution_count": 2,
     "metadata": {},
     "output_type": "execute_result"
    }
   ],
   "source": [
    "filepath.Join(\"/usr/\", \"local/bin\")"
   ]
  },
  {
   "cell_type": "markdown",
   "metadata": {},
   "source": [
    "## [filepath.Glob](https://pkg.go.dev/path/filepath#Glob)\n",
    "\n",
    "Note: The `glob` package in Python and Rust behave similarly.\n",
    "Both of them find all files and subdirectories for the pattern `**/*`.\n",
    "However,\n",
    "[filepath.Glob](https://pkg.go.dev/path/filepath#Glob)\n",
    "behaves different from those 2 packages.\n",
    "[filepath.Glob](https://pkg.go.dev/path/filepath#Glob)\n",
    "treats `**/*` as `*/*`."
   ]
  },
  {
   "cell_type": "code",
   "execution_count": 19,
   "metadata": {},
   "outputs": [
    {
     "data": {
      "text/plain": [
       "[.ipynb_checkpoints/abc-checkpoint.txt .ipynb_checkpoints/hands-on-the-filepath-library-in-golang-checkpoint.ipynb test/.ipynb_checkpoints test/test.txt test/test2]"
      ]
     },
     "execution_count": 19,
     "metadata": {},
     "output_type": "execute_result"
    }
   ],
   "source": [
    "entries, err := filepath.Glob(\"./**/*\")\n",
    "entries"
   ]
  },
  {
   "cell_type": "code",
   "execution_count": 20,
   "metadata": {},
   "outputs": [
    {
     "name": "stdout",
     "output_type": "stream",
     "text": [
      ".ipynb_checkpoints/abc-checkpoint.txt\n",
      ".ipynb_checkpoints/hands-on-the-filepath-library-in-golang-checkpoint.ipynb\n",
      "test/.ipynb_checkpoints\n",
      "test/test.txt\n",
      "test/test2\n"
     ]
    }
   ],
   "source": [
    "for _, entry := range entries {\n",
    "    fmt.Printf(\"%s\\n\", entry)\n",
    "}"
   ]
  },
  {
   "cell_type": "markdown",
   "metadata": {},
   "source": [
    "## References\n",
    "\n",
    "- [Golang Package - path/filepath](https://pkg.go.dev/path/filepath)\n",
    "\n",
    "- [Embed File in Golang Binary](https://www.legendu.net/misc/blog/embed-file-in-golang-binary/)\n",
    "\n",
    "- [Manipulate Filesystem in Golang](https://www.legendu.net/misc/blog/manipulate-filesystem-in-golang/)\n",
    "\n",
    "- [Check Whether a Path Exists in Golang](https://www.legendu.net/misc/blog/check-whether-a-path-exists-in-golang/)\n",
    "\n",
    "- [Get Directory Information in Golang](https://www.legendu.net/misc/blog/get-directory-info-golang/)"
   ]
  },
  {
   "cell_type": "code",
   "execution_count": null,
   "metadata": {},
   "outputs": [],
   "source": []
  }
 ],
 "metadata": {
  "file_extension": ".py",
  "kernelspec": {
   "display_name": "Go",
   "language": "go",
   "name": "gophernotes"
  },
  "language_info": {
   "codemirror_mode": "",
   "file_extension": ".go",
   "mimetype": "",
   "name": "go",
   "nbconvert_exporter": "",
   "pygments_lexer": "",
   "version": "go1.18.3"
  },
  "mimetype": "text/x-python",
  "name": "python",
  "npconvert_exporter": "python",
  "pygments_lexer": "ipython3",
  "version": 3
 },
 "nbformat": 4,
 "nbformat_minor": 4
}
