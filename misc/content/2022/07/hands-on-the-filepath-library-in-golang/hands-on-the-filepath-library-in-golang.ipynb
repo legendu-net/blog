{
 "cells": [
  {
   "cell_type": "markdown",
   "metadata": {},
   "source": [
    "- Author: Benjamin Du\n",
    "- Date: 2022-07-05 20:45:52\n",
    "- Modified: 2022-07-09 22:07:30\n",
    "- Title: Hands on the filepath Library in Golang\n",
    "- Slug: hands-on-the-filepath-library-in-golang\n",
    "- Category: Computer Science\n",
    "- Tags: Computer Science, programming, Go, Golang, filepath, file, path\n"
   ]
  },
  {
   "cell_type": "markdown",
   "metadata": {},
   "source": [
    "**Things on this page are fragmentary and immature notes/thoughts of the author. Please read with your own judgement!**"
   ]
  },
  {
   "cell_type": "code",
   "execution_count": 1,
   "metadata": {},
   "outputs": [],
   "source": [
    "import \"os\"\n",
    "import \"path/filepath\""
   ]
  },
  {
   "cell_type": "code",
   "execution_count": 2,
   "metadata": {},
   "outputs": [
    {
     "data": {
      "text/plain": [
       "/home/myname"
      ]
     },
     "execution_count": 2,
     "metadata": {},
     "output_type": "execute_result"
    }
   ],
   "source": [
    "filepath.Dir(\"/home/myname/\")"
   ]
  },
  {
   "cell_type": "code",
   "execution_count": 3,
   "metadata": {},
   "outputs": [
    {
     "data": {
      "text/plain": [
       "/home"
      ]
     },
     "execution_count": 3,
     "metadata": {},
     "output_type": "execute_result"
    }
   ],
   "source": [
    "filepath.Dir(\"/home/myname\")"
   ]
  },
  {
   "cell_type": "markdown",
   "metadata": {},
   "source": [
    "## [filepath.Join](https://pkg.go.dev/path/filepath#Join)"
   ]
  },
  {
   "cell_type": "code",
   "execution_count": 2,
   "metadata": {},
   "outputs": [
    {
     "data": {
      "text/plain": [
       "/usr/local/bin"
      ]
     },
     "execution_count": 2,
     "metadata": {},
     "output_type": "execute_result"
    }
   ],
   "source": [
    "filepath.Join(\"/usr/\", \"local/bin\")"
   ]
  },
  {
   "cell_type": "markdown",
   "metadata": {},
   "source": [
    "## [filepath.Glob](https://pkg.go.dev/path/filepath#Glob)"
   ]
  },
  {
   "cell_type": "code",
   "execution_count": 4,
   "metadata": {},
   "outputs": [
    {
     "data": {
      "text/plain": [
       "[/usr/local/bin/__pycache__ /usr/local/bin/alembic /usr/local/bin/annotate-ast /usr/local/bin/autopep8 /usr/local/bin/bat /usr/local/bin/bokeh /usr/local/bin/cargo /usr/local/bin/cargo-cache /usr/local/bin/cargo-clippy /usr/local/bin/cargo-fmt /usr/local/bin/certipy /usr/local/bin/clippy-driver /usr/local/bin/colorcet /usr/local/bin/configurable-http-proxy /usr/local/bin/corepack /usr/local/bin/dateparser-download /usr/local/bin/dul-receive-pack /usr/local/bin/dul-upload-pack /usr/local/bin/dulwich /usr/local/bin/dust /usr/local/bin/epylint /usr/local/bin/evcxr_jupyter /usr/local/bin/f2py /usr/local/bin/f2py3 /usr/local/bin/f2py3.10 /usr/local/bin/find_similar_images.py /usr/local/bin/flake8 /usr/local/bin/fonttools /usr/local/bin/get_objgraph /usr/local/bin/git-nbdiffdriver /usr/local/bin/git-nbdifftool /usr/local/bin/git-nbmergedriver /usr/local/bin/git-nbmergetool /usr/local/bin/hg-nbdiff /usr/local/bin/hg-nbdiffweb /usr/local/bin/hg-nbmerge /usr/local/bin/hg-nbmergeweb /usr/local/bin/holoviews /usr/local/bin/htmlmin /usr/local/bin/icon /usr/local/bin/imageio_download_bin /usr/local/bin/imageio_remove_bin /usr/local/bin/importlab /usr/local/bin/ipython /usr/local/bin/ipython3 /usr/local/bin/isort /usr/local/bin/isort-identify-imports /usr/local/bin/jlpm /usr/local/bin/jsonschema /usr/local/bin/jupyter /usr/local/bin/jupyter-bundlerextension /usr/local/bin/jupyter-dejavu /usr/local/bin/jupyter-execute /usr/local/bin/jupyter-kernel /usr/local/bin/jupyter-kernelspec /usr/local/bin/jupyter-lab /usr/local/bin/jupyter-labextension /usr/local/bin/jupyter-labhub /usr/local/bin/jupyter-migrate /usr/local/bin/jupyter-nbclassic /usr/local/bin/jupyter-nbconvert /usr/local/bin/jupyter-nbextension /usr/local/bin/jupyter-notebook /usr/local/bin/jupyter-run /usr/local/bin/jupyter-server /usr/local/bin/jupyter-serverextension /usr/local/bin/jupyter-troubleshoot /usr/local/bin/jupyter-trust /usr/local/bin/jupyterhub /usr/local/bin/jupyterhub-singleuser /usr/local/bin/logf /usr/local/bin/lsm2bin /usr/local/bin/mako-render /usr/local/bin/markdown_py /usr/local/bin/match_memory /usr/local/bin/merge-pyi /usr/local/bin/n /usr/local/bin/nbdiff /usr/local/bin/nbdiff-web /usr/local/bin/nbdime /usr/local/bin/nbmerge /usr/local/bin/nbmerge-web /usr/local/bin/nbshow /usr/local/bin/ninja /usr/local/bin/node /usr/local/bin/normalizer /usr/local/bin/notifiers /usr/local/bin/npm /usr/local/bin/npx /usr/local/bin/numba /usr/local/bin/pandas_profiling /usr/local/bin/panel /usr/local/bin/phik_trial /usr/local/bin/pip /usr/local/bin/pip3 /usr/local/bin/pip3.10 /usr/local/bin/plasma_store /usr/local/bin/py.test /usr/local/bin/pybabel /usr/local/bin/pycc /usr/local/bin/pycodestyle /usr/local/bin/pyct /usr/local/bin/pydocstyle /usr/local/bin/pyflakes /usr/local/bin/pyftmerge /usr/local/bin/pyftsubset /usr/local/bin/pygmentize /usr/local/bin/pyjson5 /usr/local/bin/pykinit /usr/local/bin/pylint /usr/local/bin/pylint-config /usr/local/bin/pyls /usr/local/bin/pyreverse /usr/local/bin/pyspark_submit /usr/local/bin/pytd /usr/local/bin/pytest /usr/local/bin/pytype /usr/local/bin/pytype-single /usr/local/bin/pyxref /usr/local/bin/repart_hdfs /usr/local/bin/rg /usr/local/bin/rip /usr/local/bin/rust-gdb /usr/local/bin/rust-gdbgui /usr/local/bin/rust-lldb /usr/local/bin/rustc /usr/local/bin/rustdoc /usr/local/bin/rustfmt /usr/local/bin/sccache /usr/local/bin/send2trash /usr/local/bin/skivi /usr/local/bin/sqlformat /usr/local/bin/symilar /usr/local/bin/tabulate /usr/local/bin/tiff2fsspec /usr/local/bin/tiffcomment /usr/local/bin/tifffile /usr/local/bin/tqdm /usr/local/bin/tslab /usr/local/bin/ttx /usr/local/bin/undill /usr/local/bin/wajig /usr/local/bin/wsdump /usr/local/bin/xinstall /usr/local/bin/yapf /usr/local/bin/yapf-diff]"
      ]
     },
     "execution_count": 4,
     "metadata": {},
     "output_type": "execute_result"
    }
   ],
   "source": [
    "entries, err := filepath.Glob(\"/usr/local/bin/*\")\n",
    "entries"
   ]
  },
  {
   "cell_type": "markdown",
   "metadata": {},
   "source": [
    "## References\n",
    "\n",
    "- [Golang Package - path/filepath](https://pkg.go.dev/path/filepath)"
   ]
  },
  {
   "cell_type": "code",
   "execution_count": null,
   "metadata": {},
   "outputs": [],
   "source": []
  }
 ],
 "metadata": {
  "file_extension": ".py",
  "kernelspec": {
   "display_name": "Go",
   "language": "go",
   "name": "gophernotes"
  },
  "language_info": {
   "codemirror_mode": "",
   "file_extension": ".go",
   "mimetype": "",
   "name": "go",
   "nbconvert_exporter": "",
   "pygments_lexer": "",
   "version": "go1.18.3"
  },
  "mimetype": "text/x-python",
  "name": "python",
  "npconvert_exporter": "python",
  "pygments_lexer": "ipython3",
  "version": 3
 },
 "nbformat": 4,
 "nbformat_minor": 4
}
