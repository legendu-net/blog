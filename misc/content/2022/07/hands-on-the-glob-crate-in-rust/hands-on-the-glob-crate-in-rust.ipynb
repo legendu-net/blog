{
 "cells": [
  {
   "cell_type": "markdown",
   "metadata": {},
   "source": [
    "- Author: Benjamin Du\n",
    "- Date: 2022-07-17 23:29:44\n",
    "- Modified: 2022-07-17 23:29:44\n",
    "- Title: Hands on the Glob Crate in Rust\n",
    "- Slug: hands-on-the-glob-crate-in-rust\n",
    "- Category: Computer Science\n",
    "- Tags: Computer Science, programming, Rust, glob, file, pattern, match"
   ]
  },
  {
   "cell_type": "markdown",
   "metadata": {},
   "source": [
    "**Things on this page are fragmentary and immature notes/thoughts of the author. Please read with your own judgement!**"
   ]
  },
  {
   "cell_type": "markdown",
   "metadata": {},
   "source": [
    "## Tips and Traps\n",
    "\n",
    "The Rust crate \n",
    "[glob](https://crates.io/crates/glob)\n",
    "behaves similarly to the Python library `glob`."
   ]
  },
  {
   "cell_type": "code",
   "execution_count": 2,
   "metadata": {},
   "outputs": [
    {
     "data": {
      "text/plain": [
       "sccache: true\n"
      ]
     },
     "execution_count": 2,
     "metadata": {},
     "output_type": "execute_result"
    }
   ],
   "source": [
    ":sccache 1\n",
    ":dep glob = \"0.3.0\""
   ]
  },
  {
   "cell_type": "code",
   "execution_count": 3,
   "metadata": {},
   "outputs": [],
   "source": [
    "use glob::glob;"
   ]
  },
  {
   "cell_type": "code",
   "execution_count": 4,
   "metadata": {},
   "outputs": [
    {
     "name": "stdout",
     "output_type": "stream",
     "text": [
      "\".ipynb_checkpoints\"\n",
      "\".ipynb_checkpoints/hands-on-the-glob-crate-in-rust-checkpoint.ipynb\"\n",
      "\"hands-on-the-glob-crate-in-rust.ipynb\"\n",
      "\"test\"\n",
      "\"test/.ipynb_checkpoints\"\n",
      "\"test/.ipynb_checkpoints/test-checkpoint.txt\"\n",
      "\"test/test.txt\"\n",
      "\"test/test2\"\n",
      "\"test/test2/.ipynb_checkpoints\"\n",
      "\"test/test2/.ipynb_checkpoints/test2-checkpoint.txt\"\n",
      "\"test/test2/test2.txt\"\n"
     ]
    },
    {
     "data": {
      "text/plain": [
       "()"
      ]
     },
     "execution_count": 4,
     "metadata": {},
     "output_type": "execute_result"
    }
   ],
   "source": [
    "for entry in glob(\"./**/*\").unwrap() {\n",
    "    if let Ok(entry) = entry {\n",
    "        println!(\"{:?}\", entry);\n",
    "    }\n",
    "}"
   ]
  },
  {
   "cell_type": "code",
   "execution_count": null,
   "metadata": {},
   "outputs": [],
   "source": []
  }
 ],
 "metadata": {
  "file_extension": ".py",
  "kernelspec": {
   "display_name": "Rust",
   "language": "rust",
   "name": "rust"
  },
  "language_info": {
   "codemirror_mode": "rust",
   "file_extension": ".rs",
   "mimetype": "text/rust",
   "name": "Rust",
   "pygment_lexer": "rust",
   "version": ""
  },
  "mimetype": "text/x-python",
  "name": "python",
  "npconvert_exporter": "python",
  "pygments_lexer": "ipython3",
  "version": 3
 },
 "nbformat": 4,
 "nbformat_minor": 4
}
