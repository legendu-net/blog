{
 "cells": [
  {
   "cell_type": "markdown",
   "metadata": {},
   "source": [
    "- Author: Benjamin Du\n",
    "- Date: 2022-07-10 16:36:22\n",
    "- Modified: 2022-07-10 16:36:22\n",
    "- Title: Manipulate Filesystem in Golang\n",
    "- Slug: manipulate-filesystem-in-golang\n",
    "- Category: Computer Science\n",
    "- Tags: Computer Science, programming, Golang, file, system, file system, remove, rename, directory"
   ]
  },
  {
   "cell_type": "markdown",
   "metadata": {},
   "source": [
    "**Things on this page are fragmentary and immature notes/thoughts of the author. Please read with your own judgement!**"
   ]
  },
  {
   "cell_type": "code",
   "execution_count": null,
   "metadata": {},
   "outputs": [],
   "source": [
    "import (\n",
    "    \"bufio\"\n",
    "    \"fmt\"\n",
    "    \"os\"\n",
    ")"
   ]
  },
  {
   "cell_type": "markdown",
   "metadata": {},
   "source": [
    "## [os.MkdirAll](https://pkg.go.dev/os#MkdirAll)"
   ]
  },
  {
   "cell_type": "markdown",
   "metadata": {},
   "source": [
    "## [os.RemoveAll](https://pkg.go.dev/os#RemoveAll)"
   ]
  },
  {
   "cell_type": "markdown",
   "metadata": {},
   "source": [
    "## [os.OpenFile](https://pkg.go.dev/os#OpenFile)"
   ]
  },
  {
   "cell_type": "code",
   "execution_count": null,
   "metadata": {},
   "outputs": [],
   "source": [
    "os.Create"
   ]
  },
  {
   "cell_type": "code",
   "execution_count": null,
   "metadata": {},
   "outputs": [],
   "source": [
    "os.Write"
   ]
  },
  {
   "cell_type": "markdown",
   "metadata": {},
   "source": [
    "## [ioutil.WriteFile](https://pkg.go.dev/io/ioutil#WriteFile)\n",
    "[ioutil.WriteFile](https://pkg.go.dev/io/ioutil#WriteFile)\n",
    "simply calls\n",
    "[os.WriteFile](https://pkg.go.dev/os#WriteFile)\n",
    "."
   ]
  },
  {
   "cell_type": "markdown",
   "metadata": {},
   "source": [
    "## [ioutil.ReadFile](https://pkg.go.dev/io/ioutil#ReadFile)\n",
    "[ioutil.ReadFile](https://pkg.go.dev/io/ioutil#ReadFile)\n",
    "simply calls\n",
    "[os.ReadFile](https://pkg.go.dev/os#ReadFile)\n",
    "."
   ]
  },
  {
   "cell_type": "markdown",
   "metadata": {},
   "source": [
    "## Copy File\n",
    "\n",
    "The GoLang standard library does not provide a function to copy files directly.\n",
    "However,\n",
    "you can copy a file using `ioutil.ReadFile` + `ioutil.WriteFile`."
   ]
  },
  {
   "cell_type": "markdown",
   "metadata": {},
   "source": [
    "## [(*File).WriteString](https://pkg.go.dev/os#File.WriteString)\n",
    "\n",
    "WriteString is like Write, but writes the contents of string s rather than a slice of bytes."
   ]
  },
  {
   "cell_type": "markdown",
   "metadata": {},
   "source": [
    "## References\n",
    "\n",
    "- [Official Doc - os](https://pkg.go.dev/os)\n",
    "\n",
    "- [Embed File in Golang Binary](https://www.legendu.net/misc/blog/embed-file-in-golang-binary/)\n",
    "\n",
    "- [Check Whether a Path Exists in Golang](https://www.legendu.net/misc/blog/check-whether-a-path-exists-in-golang/)\n",
    "\n",
    "- [Hands on the filepath Library in Golang](https://www.legendu.net/misc/blog/hands-on-the-filepath-library-in-golang/)\n",
    "\n",
    "- [Get Directory Information in Golang](https://www.legendu.net/misc/blog/get-directory-info-golang/)"
   ]
  },
  {
   "cell_type": "code",
   "execution_count": null,
   "metadata": {},
   "outputs": [],
   "source": []
  }
 ],
 "metadata": {
  "file_extension": ".py",
  "kernelspec": {
   "display_name": "Python 3 (ipykernel)",
   "language": "python",
   "name": "python3"
  },
  "language_info": {
   "codemirror_mode": {
    "name": "ipython",
    "version": 3
   },
   "file_extension": ".py",
   "mimetype": "text/x-python",
   "name": "python",
   "nbconvert_exporter": "python",
   "pygments_lexer": "ipython3",
   "version": "3.10.4"
  },
  "mimetype": "text/x-python",
  "name": "python",
  "npconvert_exporter": "python",
  "pygments_lexer": "ipython3",
  "version": 3
 },
 "nbformat": 4,
 "nbformat_minor": 4
}
