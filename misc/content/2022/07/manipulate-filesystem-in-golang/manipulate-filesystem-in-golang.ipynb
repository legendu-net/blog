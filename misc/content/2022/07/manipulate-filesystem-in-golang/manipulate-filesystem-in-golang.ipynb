{
 "cells": [
  {
   "cell_type": "markdown",
   "metadata": {},
   "source": [
    "- Author: Benjamin Du\n",
    "- Date: 2022-07-10 16:36:22\n",
    "- Modified: 2022-07-10 16:36:22\n",
    "- Title: Manipulate Filesystem in Golang\n",
    "- Slug: manipulate-filesystem-in-golang\n",
    "- Category: Computer Science\n",
    "- Tags: Computer Science, programming, Golang, file, system, file system, remove, rename, directory"
   ]
  },
  {
   "cell_type": "markdown",
   "metadata": {},
   "source": [
    "**Things on this page are fragmentary and immature notes/thoughts of the author. Please read with your own judgement!**"
   ]
  },
  {
   "cell_type": "code",
   "execution_count": null,
   "metadata": {},
   "outputs": [],
   "source": [
    "import (\n",
    "    \"bufio\"\n",
    "    \"fmt\"\n",
    "    \"os\"\n",
    ")"
   ]
  },
  {
   "cell_type": "markdown",
   "metadata": {},
   "source": [
    "## [os.MkdirAll](https://pkg.go.dev/os#MkdirAll)"
   ]
  },
  {
   "cell_type": "markdown",
   "metadata": {},
   "source": [
    "## [os.RemoveAll](https://pkg.go.dev/os#RemoveAll)"
   ]
  },
  {
   "cell_type": "markdown",
   "metadata": {},
   "source": [
    "## [os.OpenFile](https://pkg.go.dev/os#OpenFile)"
   ]
  },
  {
   "cell_type": "code",
   "execution_count": null,
   "metadata": {},
   "outputs": [],
   "source": [
    "os.Create"
   ]
  },
  {
   "cell_type": "code",
   "execution_count": null,
   "metadata": {},
   "outputs": [],
   "source": [
    "os.Write"
   ]
  },
  {
   "cell_type": "markdown",
   "metadata": {},
   "source": [
    "## [ioutil.WriteFile](https://pkg.go.dev/io/ioutil#WriteFile)\n",
    "[ioutil.WriteFile](https://pkg.go.dev/io/ioutil#WriteFile)\n",
    "simply calls\n",
    "[os.WriteFile](https://pkg.go.dev/os#WriteFile)\n",
    "."
   ]
  },
  {
   "cell_type": "markdown",
   "metadata": {},
   "source": [
    "## [ioutil.ReadFile](https://pkg.go.dev/io/ioutil#ReadFile)\n",
    "[ioutil.ReadFile](https://pkg.go.dev/io/ioutil#ReadFile)\n",
    "simply calls\n",
    "[os.ReadFile](https://pkg.go.dev/os#ReadFile)\n",
    "."
   ]
  },
  {
   "cell_type": "markdown",
   "metadata": {},
   "source": [
    "## [(*File).WriteString](https://pkg.go.dev/os#File.WriteString)\n",
    "\n",
    "WriteString is like Write, but writes the contents of string s rather than a slice of bytes."
   ]
  },
  {
   "cell_type": "markdown",
   "metadata": {},
   "source": [
    "## References\n",
    "\n",
    "https://pkg.go.dev/os"
   ]
  },
  {
   "cell_type": "code",
   "execution_count": null,
   "metadata": {},
   "outputs": [],
   "source": []
  }
 ],
 "metadata": {
  "file_extension": ".py",
  "kernelspec": {
   "display_name": "Python 3 (ipykernel)",
   "language": "python",
   "name": "python3"
  },
  "language_info": {
   "codemirror_mode": {
    "name": "ipython",
    "version": 3
   },
   "file_extension": ".py",
   "mimetype": "text/x-python",
   "name": "python",
   "nbconvert_exporter": "python",
   "pygments_lexer": "ipython3",
   "version": "3.10.4"
  },
  "mimetype": "text/x-python",
  "name": "python",
  "npconvert_exporter": "python",
  "pygments_lexer": "ipython3",
  "version": 3
 },
 "nbformat": 4,
 "nbformat_minor": 4
}
