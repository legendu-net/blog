{
 "cells": [
  {
   "cell_type": "markdown",
   "metadata": {},
   "source": [
    "- Author: Benjamin Du\n",
    "- Date: 2022-07-10 16:36:22\n",
    "- Modified: 2022-07-10 16:36:22\n",
    "- Title: Manipulate Filesystem in Golang\n",
    "- Slug: manipulate-filesystem-in-golang\n",
    "- Category: Computer Science\n",
    "- Tags: Computer Science, programming, Golang, file, system, file system, remove, rename, directory"
   ]
  },
  {
   "cell_type": "markdown",
   "metadata": {},
   "source": [
    "**Things on this page are fragmentary and immature notes/thoughts of the author. Please read with your own judgement!**"
   ]
  },
  {
   "cell_type": "code",
   "execution_count": 1,
   "metadata": {},
   "outputs": [],
   "source": [
    "import (\n",
    "    \"bufio\"\n",
    "    \"fmt\"\n",
    "    \"os\"\n",
    ")"
   ]
  },
  {
   "cell_type": "markdown",
   "metadata": {},
   "source": [
    "## [os.Stat](https://pkg.go.dev/os#Stat)"
   ]
  },
  {
   "cell_type": "code",
   "execution_count": 10,
   "metadata": {},
   "outputs": [
    {
     "data": {
      "text/plain": [
       "&{manipulate-filesystem-in-golang.ipynb 5209 436 {688987354 63793284779 0x219c440} {2050 38010897 1 33204 1000 1000 0 0 5209 4096 16 {1657639454 51336028} {1657687979 688987354} {1657687979 688987354} [0 0 0]}}"
      ]
     },
     "execution_count": 10,
     "metadata": {},
     "output_type": "execute_result"
    }
   ],
   "source": [
    "fileInfo, err := os.Stat(\"manipulate-filesystem-in-golang.ipynb\")\n",
    "fileInfo"
   ]
  },
  {
   "cell_type": "code",
   "execution_count": 12,
   "metadata": {},
   "outputs": [
    {
     "data": {
      "text/plain": [
       "-rw-rw-r--"
      ]
     },
     "execution_count": 12,
     "metadata": {},
     "output_type": "execute_result"
    }
   ],
   "source": [
    "fileInfo.Mode()"
   ]
  },
  {
   "cell_type": "code",
   "execution_count": 16,
   "metadata": {},
   "outputs": [],
   "source": [
    "os.Chmod(\"test.txt\", 0777)"
   ]
  },
  {
   "cell_type": "code",
   "execution_count": 17,
   "metadata": {},
   "outputs": [
    {
     "data": {
      "text/plain": [
       "&{test.txt 0 511 {613146344 63793284812 0x219c440} {2050 38010904 1 33279 1000 1000 0 0 0 4096 0 {1657688012 741146953} {1657688012 613146344} {1657688218 54021852} [0 0 0]}}"
      ]
     },
     "execution_count": 17,
     "metadata": {},
     "output_type": "execute_result"
    }
   ],
   "source": [
    "fileInfo, err := os.Stat(\"test.txt\")\n",
    "fileInfo"
   ]
  },
  {
   "cell_type": "code",
   "execution_count": 18,
   "metadata": {},
   "outputs": [
    {
     "data": {
      "text/plain": [
       "-rwxrwxrwx"
      ]
     },
     "execution_count": 18,
     "metadata": {},
     "output_type": "execute_result"
    }
   ],
   "source": [
    "fileInfo.Mode()"
   ]
  },
  {
   "cell_type": "code",
   "execution_count": 19,
   "metadata": {},
   "outputs": [],
   "source": [
    "os.Chmod(\"test.txt\", 0664)"
   ]
  },
  {
   "cell_type": "code",
   "execution_count": 20,
   "metadata": {},
   "outputs": [
    {
     "data": {
      "text/plain": [
       "&{test.txt 0 436 {613146344 63793284812 0x219c440} {2050 38010904 1 33204 1000 1000 0 0 0 4096 0 {1657688012 741146953} {1657688012 613146344} {1657688251 198147320} [0 0 0]}}"
      ]
     },
     "execution_count": 20,
     "metadata": {},
     "output_type": "execute_result"
    }
   ],
   "source": [
    "fileInfo, err := os.Stat(\"test.txt\")\n",
    "fileInfo"
   ]
  },
  {
   "cell_type": "code",
   "execution_count": 21,
   "metadata": {},
   "outputs": [
    {
     "data": {
      "text/plain": [
       "-rw-rw-r--"
      ]
     },
     "execution_count": 21,
     "metadata": {},
     "output_type": "execute_result"
    }
   ],
   "source": [
    "fileInfo.Mode()"
   ]
  },
  {
   "cell_type": "markdown",
   "metadata": {},
   "source": [
    "## [os.Chmod](https://pkg.go.dev/os#Chmod)"
   ]
  },
  {
   "cell_type": "markdown",
   "metadata": {},
   "source": [
    "## [os.Chown](https://pkg.go.dev/os#Chown)"
   ]
  },
  {
   "cell_type": "markdown",
   "metadata": {},
   "source": [
    "## [os.MkdirAll](https://pkg.go.dev/os#MkdirAll)"
   ]
  },
  {
   "cell_type": "markdown",
   "metadata": {},
   "source": [
    "## [os.RemoveAll](https://pkg.go.dev/os#RemoveAll)"
   ]
  },
  {
   "cell_type": "markdown",
   "metadata": {},
   "source": [
    "## [os.OpenFile](https://pkg.go.dev/os#OpenFile)"
   ]
  },
  {
   "cell_type": "code",
   "execution_count": null,
   "metadata": {},
   "outputs": [],
   "source": [
    "os.Create"
   ]
  },
  {
   "cell_type": "code",
   "execution_count": null,
   "metadata": {},
   "outputs": [],
   "source": [
    "os.Write"
   ]
  },
  {
   "cell_type": "markdown",
   "metadata": {},
   "source": [
    "## [os.ReadDir](https://pkg.go.dev/os#ReadDir)"
   ]
  },
  {
   "cell_type": "markdown",
   "metadata": {},
   "source": [
    "## [ioutil.WriteFile](https://pkg.go.dev/io/ioutil#WriteFile)\n",
    "[ioutil.WriteFile](https://pkg.go.dev/io/ioutil#WriteFile)\n",
    "simply calls\n",
    "[os.WriteFile](https://pkg.go.dev/os#WriteFile)\n",
    "."
   ]
  },
  {
   "cell_type": "markdown",
   "metadata": {},
   "source": [
    "## [ioutil.ReadFile](https://pkg.go.dev/io/ioutil#ReadFile)\n",
    "[ioutil.ReadFile](https://pkg.go.dev/io/ioutil#ReadFile)\n",
    "simply calls\n",
    "[os.ReadFile](https://pkg.go.dev/os#ReadFile)\n",
    "."
   ]
  },
  {
   "cell_type": "markdown",
   "metadata": {},
   "source": [
    "## Copy File\n",
    "\n",
    "The GoLang standard library does not provide a function to copy files directly.\n",
    "However,\n",
    "you can copy a file using `ioutil.ReadFile` + `ioutil.WriteFile`."
   ]
  },
  {
   "cell_type": "markdown",
   "metadata": {},
   "source": [
    "## [(*File).WriteString](https://pkg.go.dev/os#File.WriteString)\n",
    "\n",
    "WriteString is like Write, but writes the contents of string s rather than a slice of bytes."
   ]
  },
  {
   "cell_type": "markdown",
   "metadata": {},
   "source": [
    "## References\n",
    "\n",
    "- [Official Doc - os](https://pkg.go.dev/os)\n",
    "\n",
    "- [Embed File in Golang Binary](https://www.legendu.net/misc/blog/embed-file-in-golang-binary/)\n",
    "\n",
    "- [Check Whether a Path Exists in Golang](https://www.legendu.net/misc/blog/check-whether-a-path-exists-in-golang/)\n",
    "\n",
    "- [Hands on the filepath Library in Golang](https://www.legendu.net/misc/blog/hands-on-the-filepath-library-in-golang/)\n",
    "\n",
    "- [Get Directory Information in Golang](https://www.legendu.net/misc/blog/get-directory-info-golang/)"
   ]
  },
  {
   "cell_type": "code",
   "execution_count": null,
   "metadata": {},
   "outputs": [],
   "source": []
  }
 ],
 "metadata": {
  "file_extension": ".py",
  "kernelspec": {
   "display_name": "Go",
   "language": "go",
   "name": "gophernotes"
  },
  "language_info": {
   "codemirror_mode": "",
   "file_extension": ".go",
   "mimetype": "",
   "name": "go",
   "nbconvert_exporter": "",
   "pygments_lexer": "",
   "version": "go1.18.3"
  },
  "mimetype": "text/x-python",
  "name": "python",
  "npconvert_exporter": "python",
  "pygments_lexer": "ipython3",
  "version": 3
 },
 "nbformat": 4,
 "nbformat_minor": 4
}
