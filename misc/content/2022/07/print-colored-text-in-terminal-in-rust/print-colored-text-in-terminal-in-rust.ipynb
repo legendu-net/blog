{
 "cells": [
  {
   "cell_type": "markdown",
   "metadata": {},
   "source": [
    "- Author: Benjamin Du\n",
    "- Date: 2022-07-03 15:27:14\n",
    "- Modified: 2022-07-03 15:27:14\n",
    "- Title: Print Colored Text in Terminal in Rust\n",
    "- Slug: print-colored-text-in-terminal-in-rust\n",
    "- Category: Computer Science\n",
    "- Tags: Computer Science, programming, Rust, terminal, color, colored, print, yansi"
   ]
  },
  {
   "cell_type": "markdown",
   "metadata": {},
   "source": [
    "**Things on this page are fragmentary and immature notes/thoughts of the author. Please read with your own judgement!**"
   ]
  },
  {
   "cell_type": "markdown",
   "metadata": {},
   "source": [
    "## Comments\n",
    "\n",
    "There are a few crates \n",
    "[yansi](https://crates.io/crates/yansi),\n",
    "[termcolor](https://crates.io/crates/termcolor),\n",
    "[colored](https://crates.io/crates/colored),\n",
    "and\n",
    "[ansi_term](https://crates.io/crates/ansi_term)\n",
    "in Rust \n",
    "which can help print colorful text in terminal. \n",
    "[Yansi](https://crates.io/crates/yansi)\n",
    "is recommended \n",
    "as it is dead simple and the project is active.\n"
   ]
  },
  {
   "cell_type": "markdown",
   "metadata": {},
   "source": [
    "## Hands on yansi"
   ]
  },
  {
   "cell_type": "code",
   "execution_count": 2,
   "metadata": {},
   "outputs": [],
   "source": [
    ":dep yansi = \"0.5.1\""
   ]
  },
  {
   "cell_type": "code",
   "execution_count": 3,
   "metadata": {},
   "outputs": [],
   "source": [
    "use yansi::Paint;"
   ]
  },
  {
   "cell_type": "code",
   "execution_count": 4,
   "metadata": {},
   "outputs": [
    {
     "name": "stdout",
     "output_type": "stream",
     "text": [
      "\u001b[32mGreen\u001b[0m light, \u001b[4;31mred\u001b[0m light!\n"
     ]
    }
   ],
   "source": [
    "println!(\"{} light, {} light!\", Paint::green(\"Green\"), Paint::red(\"red\").underline());"
   ]
  },
  {
   "cell_type": "code",
   "execution_count": null,
   "metadata": {},
   "outputs": [],
   "source": []
  }
 ],
 "metadata": {
  "file_extension": ".py",
  "kernelspec": {
   "display_name": "Rust",
   "language": "rust",
   "name": "rust"
  },
  "language_info": {
   "codemirror_mode": "rust",
   "file_extension": ".rs",
   "mimetype": "text/rust",
   "name": "Rust",
   "pygment_lexer": "rust",
   "version": ""
  },
  "mimetype": "text/x-python",
  "name": "python",
  "npconvert_exporter": "python",
  "pygments_lexer": "ipython3",
  "version": 3
 },
 "nbformat": 4,
 "nbformat_minor": 4
}
