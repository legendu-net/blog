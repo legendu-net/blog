{
 "cells": [
  {
   "cell_type": "markdown",
   "metadata": {},
   "source": [
    "- Author: Benjamin Du\n",
    "- Date: 2022-07-07 16:16:15\n",
    "- Modified: 2022-07-07 16:16:15\n",
    "- Title: Send and Sync in Rust\n",
    "- Slug: send-and-sync-in-rust\n",
    "- Category: Computer Science\n",
    "- Tags: Computer Science, programming, Rust, Send, Sync, thread, thread-safe, multi-threading, concurrency"
   ]
  },
  {
   "cell_type": "markdown",
   "metadata": {},
   "source": [
    "**Things on this page are fragmentary and immature notes/thoughts of the author. Please read with your own judgement!**"
   ]
  },
  {
   "cell_type": "markdown",
   "metadata": {},
   "source": [
    "## Tips and Traps\n",
    "\n",
    "1. `Send` and `Sync` are 2 thread-safty related marker traits in Rust. \n",
    "\n",
    "2. A type is `Send` if and only if it can be transferred across thread boundaries.\n",
    "    A type is `Sync` if and only if `&T` is `Send`.\n",
    "    \n",
    "3. A `MutexGuard` is not `Send` but is `Sync`.\n",
    "    A `Rc` is neither `Send` not `Sync`.\n",
    "    A Cell / RefCell is `Send` (if its inner type is `Send`) but is never `Sync`\n",
    "    (no matter what its inner type is)."
   ]
  },
  {
   "cell_type": "markdown",
   "metadata": {},
   "source": [
    "## References\n",
    "\n",
    "Crust of Rust: Send, Sync, and their implementors\n",
    "https://www.youtube.com/watch?v=yOezcP-XaIw\n",
    "\n",
    "Rustonomicon - Send and Sync\n",
    "https://doc.rust-lang.org/nomicon/send-and-sync.html?highlight=send%20sync#send-and-sync"
   ]
  }
 ],
 "metadata": {
  "file_extension": ".py",
  "language_info": {
   "codemirror_mode": {
    "name": "ipython",
    "version": 3
   },
   "name": "python"
  },
  "mimetype": "text/x-python",
  "name": "python",
  "npconvert_exporter": "python",
  "orig_nbformat": 2,
  "pygments_lexer": "ipython3",
  "version": 3
 },
 "nbformat": 4,
 "nbformat_minor": 2
}
