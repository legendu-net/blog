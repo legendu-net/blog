{
 "cells": [
  {
   "cell_type": "markdown",
   "metadata": {},
   "source": [
    "- Author: Benjamin Du\n",
    "- Date: 2022-07-21 17:00:54\n",
    "- Modified: 2022-07-21 17:00:54\n",
    "- Title: Serialize and Deserialize JSON in Golang\n",
    "- Slug: serialize-and-deserialize-json-in-golang\n",
    "- Category: Computer Science\n",
    "- Tags: Computer Science, programming, Golang, serialize, serialization, deserialize, deserialization, JSON"
   ]
  },
  {
   "cell_type": "markdown",
   "metadata": {},
   "source": [
    "**Things on this page are fragmentary and immature notes/thoughts of the author. Please read with your own judgement!**"
   ]
  },
  {
   "cell_type": "code",
   "execution_count": 15,
   "metadata": {},
   "outputs": [],
   "source": [
    "import (\n",
    "    \"encoding/json\"\n",
    "    \"fmt\"\n",
    "    \"os\"\n",
    "    \"reflect\"\n",
    ")"
   ]
  },
  {
   "cell_type": "markdown",
   "metadata": {},
   "source": [
    "## Parse A Simple JSON String as a Hashmap"
   ]
  },
  {
   "cell_type": "code",
   "execution_count": 9,
   "metadata": {},
   "outputs": [],
   "source": [
    "byt := []byte(`{\"name\": \"Dan\", \"company\": \"Apple\"}`)\n",
    "var dat map[string]string"
   ]
  },
  {
   "cell_type": "code",
   "execution_count": 10,
   "metadata": {},
   "outputs": [
    {
     "data": {
      "text/plain": [
       "map[company:Apple name:Dan]"
      ]
     },
     "execution_count": 10,
     "metadata": {},
     "output_type": "execute_result"
    }
   ],
   "source": [
    "json.Unmarshal(byt, &dat)\n",
    "dat"
   ]
  },
  {
   "cell_type": "markdown",
   "metadata": {},
   "source": [
    "## Parse A Complex JSON String as a Hashmap of Generic Type"
   ]
  },
  {
   "cell_type": "code",
   "execution_count": 11,
   "metadata": {},
   "outputs": [],
   "source": [
    "byt := []byte(`{\"num\":6.13, \"strs\":[\"a\", \"b\"]}`)\n",
    "var dat map[string]interface{}"
   ]
  },
  {
   "cell_type": "code",
   "execution_count": 12,
   "metadata": {},
   "outputs": [
    {
     "data": {
      "text/plain": [
       "map[num:6.13 strs:[a b]]"
      ]
     },
     "execution_count": 12,
     "metadata": {},
     "output_type": "execute_result"
    }
   ],
   "source": [
    "json.Unmarshal(byt, &dat)\n",
    "dat"
   ]
  },
  {
   "cell_type": "code",
   "execution_count": 14,
   "metadata": {},
   "outputs": [
    {
     "data": {
      "text/plain": [
       "6.13"
      ]
     },
     "execution_count": 14,
     "metadata": {},
     "output_type": "execute_result"
    }
   ],
   "source": [
    "val, err := dat[\"num\"]\n",
    "val"
   ]
  },
  {
   "cell_type": "code",
   "execution_count": 16,
   "metadata": {},
   "outputs": [
    {
     "data": {
      "text/plain": [
       "float64"
      ]
     },
     "execution_count": 16,
     "metadata": {},
     "output_type": "execute_result"
    }
   ],
   "source": [
    "reflect.TypeOf(val)"
   ]
  },
  {
   "cell_type": "code",
   "execution_count": 27,
   "metadata": {},
   "outputs": [
    {
     "data": {
      "text/plain": [
       "[a b]"
      ]
     },
     "execution_count": 27,
     "metadata": {},
     "output_type": "execute_result"
    }
   ],
   "source": [
    "strs = dat[\"strs\"].([]interface{})\n",
    "strs"
   ]
  },
  {
   "cell_type": "code",
   "execution_count": 28,
   "metadata": {},
   "outputs": [
    {
     "data": {
      "text/plain": [
       "[]interface {}"
      ]
     },
     "execution_count": 28,
     "metadata": {},
     "output_type": "execute_result"
    }
   ],
   "source": [
    "reflect.TypeOf(strs)"
   ]
  },
  {
   "cell_type": "code",
   "execution_count": 30,
   "metadata": {},
   "outputs": [
    {
     "ename": "ERROR",
     "evalue": "repl.go:1:6: invalid operation: strs[0] (type interface{} does not support indexing)",
     "output_type": "error",
     "traceback": [
      "repl.go:1:6: invalid operation: strs[0] (type interface{} does not support indexing)"
     ]
    }
   ],
   "source": [
    "strs[0].(string)"
   ]
  },
  {
   "cell_type": "markdown",
   "metadata": {},
   "source": [
    "## Parse a Complex JSON String as a Struct"
   ]
  },
  {
   "cell_type": "code",
   "execution_count": 38,
   "metadata": {},
   "outputs": [
    {
     "data": {
      "text/plain": [
       "{6.13 [a b]}"
      ]
     },
     "execution_count": 38,
     "metadata": {},
     "output_type": "execute_result"
    }
   ],
   "source": [
    "byt := []byte(`{\"num\":6.13, \"strs\":[\"a\", \"b\"]}`)\n",
    "type MyStruct struct {\n",
    "    num float64 `json:\"num\"`\n",
    "    strs []string `json:\"strs\"`\n",
    "}\n",
    "var myObj MyStruct\n",
    "json.Unmarshal(byt, &myObj)\n",
    "myObj"
   ]
  },
  {
   "cell_type": "code",
   "execution_count": 39,
   "metadata": {},
   "outputs": [
    {
     "data": {
      "text/plain": [
       "6.13"
      ]
     },
     "execution_count": 39,
     "metadata": {},
     "output_type": "execute_result"
    }
   ],
   "source": [
    "myObj.num"
   ]
  },
  {
   "cell_type": "code",
   "execution_count": 40,
   "metadata": {},
   "outputs": [
    {
     "data": {
      "text/plain": [
       "[a b]"
      ]
     },
     "execution_count": 40,
     "metadata": {},
     "output_type": "execute_result"
    }
   ],
   "source": [
    "myObj.strs"
   ]
  },
  {
   "cell_type": "code",
   "execution_count": 41,
   "metadata": {},
   "outputs": [
    {
     "data": {
      "text/plain": [
       "a"
      ]
     },
     "execution_count": 41,
     "metadata": {},
     "output_type": "execute_result"
    }
   ],
   "source": [
    "myObj.strs[0]"
   ]
  },
  {
   "cell_type": "markdown",
   "metadata": {},
   "source": [
    "## Partially Parse a Complex JSON String as a Struct\n",
    "\n",
    "The standard library encoding/json \n",
    "supports parsing a JSON string partially."
   ]
  },
  {
   "cell_type": "code",
   "execution_count": 42,
   "metadata": {},
   "outputs": [
    {
     "data": {
      "text/plain": [
       "{[a b]}"
      ]
     },
     "execution_count": 42,
     "metadata": {},
     "output_type": "execute_result"
    }
   ],
   "source": [
    "byt := []byte(`{\"num\":6.13, \"strs\":[\"a\", \"b\"]}`)\n",
    "type MyStruct struct {\n",
    "    strs []string `json:\"strs\"`\n",
    "}\n",
    "var myObj MyStruct\n",
    "json.Unmarshal(byt, &myObj)\n",
    "myObj"
   ]
  },
  {
   "cell_type": "code",
   "execution_count": 43,
   "metadata": {},
   "outputs": [
    {
     "ename": "ERROR",
     "evalue": "repl.go:1:1: type main.MyStruct has no field or method \"num\": myObj.num",
     "output_type": "error",
     "traceback": [
      "repl.go:1:1: type main.MyStruct has no field or method \"num\": myObj.num"
     ]
    }
   ],
   "source": [
    "myObj.num"
   ]
  },
  {
   "cell_type": "code",
   "execution_count": 44,
   "metadata": {},
   "outputs": [
    {
     "data": {
      "text/plain": [
       "[a b]"
      ]
     },
     "execution_count": 44,
     "metadata": {},
     "output_type": "execute_result"
    }
   ],
   "source": [
    "myObj.strs"
   ]
  },
  {
   "cell_type": "code",
   "execution_count": 45,
   "metadata": {},
   "outputs": [
    {
     "data": {
      "text/plain": [
       "a"
      ]
     },
     "execution_count": 45,
     "metadata": {},
     "output_type": "execute_result"
    }
   ],
   "source": [
    "myObj.strs[0]"
   ]
  },
  {
   "cell_type": "markdown",
   "metadata": {},
   "source": [
    "## Nested Partially Parse a Complex JSON String as a Struct\n",
    "\n",
    "The standard library encoding/json \n",
    "even supports nested partially parseing a JSON string."
   ]
  },
  {
   "cell_type": "code",
   "execution_count": 63,
   "metadata": {},
   "outputs": [],
   "source": [
    "bytes := []byte(`{\n",
    "  \"url\": \"https://api.github.com/repos/legendu-net/icon/releases/72107224\",\n",
    "  \"assets_url\": \"https://api.github.com/repos/legendu-net/icon/releases/72107224/assets\",\n",
    "  \"upload_url\": \"https://uploads.github.com/repos/legendu-net/icon/releases/72107224/assets{?name,label}\",\n",
    "  \"html_url\": \"https://github.com/legendu-net/icon/releases/tag/v0.6.0\",\n",
    "  \"id\": 72107224,\n",
    "  \"author\": {\n",
    "    \"login\": \"dclong\",\n",
    "    \"id\": 824507,\n",
    "    \"node_id\": \"MDQ6VXNlcjgyNDUwNw==\",\n",
    "    \"avatar_url\": \"https://avatars.githubusercontent.com/u/824507?v=4\",\n",
    "    \"gravatar_id\": \"\",\n",
    "    \"url\": \"https://api.github.com/users/dclong\",\n",
    "    \"html_url\": \"https://github.com/dclong\",\n",
    "    \"followers_url\": \"https://api.github.com/users/dclong/followers\",\n",
    "    \"following_url\": \"https://api.github.com/users/dclong/following{/other_user}\",\n",
    "    \"gists_url\": \"https://api.github.com/users/dclong/gists{/gist_id}\",\n",
    "    \"starred_url\": \"https://api.github.com/users/dclong/starred{/owner}{/repo}\",\n",
    "    \"subscriptions_url\": \"https://api.github.com/users/dclong/subscriptions\",\n",
    "    \"organizations_url\": \"https://api.github.com/users/dclong/orgs\",\n",
    "    \"repos_url\": \"https://api.github.com/users/dclong/repos\",\n",
    "    \"events_url\": \"https://api.github.com/users/dclong/events{/privacy}\",\n",
    "    \"received_events_url\": \"https://api.github.com/users/dclong/received_events\",\n",
    "    \"type\": \"User\",\n",
    "    \"site_admin\": false\n",
    "  },\n",
    "  \"node_id\": \"RE_kwDOHkKAZc4ETETY\",\n",
    "  \"tag_name\": \"v0.6.0\",\n",
    "  \"target_commitish\": \"main\",\n",
    "  \"name\": \"icon v0.6.0\",\n",
    "  \"draft\": false,\n",
    "  \"prerelease\": false,\n",
    "  \"created_at\": \"2022-07-15T16:17:03Z\",\n",
    "  \"published_at\": \"2022-07-15T16:17:30Z\",\n",
    "  \"assets\": [\n",
    "    {\n",
    "      \"url\": \"https://api.github.com/repos/legendu-net/icon/releases/assets/71690405\",\n",
    "      \"id\": 71690405,\n",
    "      \"node_id\": \"RA_kwDOHkKAZc4EReil\",\n",
    "      \"name\": \"icon-v0.6.0-darwin-amd64.tar.gz\",\n",
    "      \"label\": \"\",\n",
    "      \"uploader\": {\n",
    "        \"login\": \"github-actions[bot]\",\n",
    "        \"id\": 41898282,\n",
    "        \"node_id\": \"MDM6Qm90NDE4OTgyODI=\",\n",
    "        \"avatar_url\": \"https://avatars.githubusercontent.com/in/15368?v=4\",\n",
    "        \"gravatar_id\": \"\",\n",
    "        \"url\": \"https://api.github.com/users/github-actions%5Bbot%5D\",\n",
    "        \"html_url\": \"https://github.com/apps/github-actions\",\n",
    "        \"followers_url\": \"https://api.github.com/users/github-actions%5Bbot%5D/followers\",\n",
    "        \"following_url\": \"https://api.github.com/users/github-actions%5Bbot%5D/following{/other_user}\",\n",
    "        \"gists_url\": \"https://api.github.com/users/github-actions%5Bbot%5D/gists{/gist_id}\",\n",
    "        \"starred_url\": \"https://api.github.com/users/github-actions%5Bbot%5D/starred{/owner}{/repo}\",\n",
    "        \"subscriptions_url\": \"https://api.github.com/users/github-actions%5Bbot%5D/subscriptions\",\n",
    "        \"organizations_url\": \"https://api.github.com/users/github-actions%5Bbot%5D/orgs\",\n",
    "        \"repos_url\": \"https://api.github.com/users/github-actions%5Bbot%5D/repos\",\n",
    "        \"events_url\": \"https://api.github.com/users/github-actions%5Bbot%5D/events{/privacy}\",\n",
    "        \"received_events_url\": \"https://api.github.com/users/github-actions%5Bbot%5D/received_events\",\n",
    "        \"type\": \"Bot\",\n",
    "        \"site_admin\": false\n",
    "      },\n",
    "      \"content_type\": \"application/gzip\",\n",
    "      \"state\": \"uploaded\",\n",
    "      \"size\": 4991511,\n",
    "      \"download_count\": 1,\n",
    "      \"created_at\": \"2022-07-15T16:18:13Z\",\n",
    "      \"updated_at\": \"2022-07-15T16:18:13Z\",\n",
    "      \"browser_download_url\": \"https://github.com/legendu-net/icon/releases/download/v0.6.0/icon-v0.6.0-darwin-amd64.tar.gz\"\n",
    "    },\n",
    "    {\n",
    "      \"url\": \"https://api.github.com/repos/legendu-net/icon/releases/assets/71690408\",\n",
    "      \"id\": 71690408,\n",
    "      \"node_id\": \"RA_kwDOHkKAZc4EReio\",\n",
    "      \"name\": \"icon-v0.6.0-darwin-amd64.tar.gz.md5\",\n",
    "      \"label\": \"\",\n",
    "      \"uploader\": {\n",
    "        \"login\": \"github-actions[bot]\",\n",
    "        \"id\": 41898282,\n",
    "        \"node_id\": \"MDM6Qm90NDE4OTgyODI=\",\n",
    "        \"avatar_url\": \"https://avatars.githubusercontent.com/in/15368?v=4\",\n",
    "        \"gravatar_id\": \"\",\n",
    "        \"url\": \"https://api.github.com/users/github-actions%5Bbot%5D\",\n",
    "        \"html_url\": \"https://github.com/apps/github-actions\",\n",
    "        \"followers_url\": \"https://api.github.com/users/github-actions%5Bbot%5D/followers\",\n",
    "        \"following_url\": \"https://api.github.com/users/github-actions%5Bbot%5D/following{/other_user}\",\n",
    "        \"gists_url\": \"https://api.github.com/users/github-actions%5Bbot%5D/gists{/gist_id}\",\n",
    "        \"starred_url\": \"https://api.github.com/users/github-actions%5Bbot%5D/starred{/owner}{/repo}\",\n",
    "        \"subscriptions_url\": \"https://api.github.com/users/github-actions%5Bbot%5D/subscriptions\",\n",
    "        \"organizations_url\": \"https://api.github.com/users/github-actions%5Bbot%5D/orgs\",\n",
    "        \"repos_url\": \"https://api.github.com/users/github-actions%5Bbot%5D/repos\",\n",
    "        \"events_url\": \"https://api.github.com/users/github-actions%5Bbot%5D/events{/privacy}\",\n",
    "        \"received_events_url\": \"https://api.github.com/users/github-actions%5Bbot%5D/received_events\",\n",
    "        \"type\": \"Bot\",\n",
    "        \"site_admin\": false\n",
    "      },\n",
    "      \"content_type\": \"text/plain\",\n",
    "      \"state\": \"uploaded\",\n",
    "      \"size\": 33,\n",
    "      \"download_count\": 0,\n",
    "      \"created_at\": \"2022-07-15T16:18:14Z\",\n",
    "      \"updated_at\": \"2022-07-15T16:18:14Z\",\n",
    "      \"browser_download_url\": \"https://github.com/legendu-net/icon/releases/download/v0.6.0/icon-v0.6.0-darwin-amd64.tar.gz.md5\"\n",
    "    },\n",
    "    {\n",
    "      \"url\": \"https://api.github.com/repos/legendu-net/icon/releases/assets/71690400\",\n",
    "      \"id\": 71690400,\n",
    "      \"node_id\": \"RA_kwDOHkKAZc4EReig\",\n",
    "      \"name\": \"icon-v0.6.0-darwin-arm64.tar.gz\",\n",
    "      \"label\": \"\",\n",
    "      \"uploader\": {\n",
    "        \"login\": \"github-actions[bot]\",\n",
    "        \"id\": 41898282,\n",
    "        \"node_id\": \"MDM6Qm90NDE4OTgyODI=\",\n",
    "        \"avatar_url\": \"https://avatars.githubusercontent.com/in/15368?v=4\",\n",
    "        \"gravatar_id\": \"\",\n",
    "        \"url\": \"https://api.github.com/users/github-actions%5Bbot%5D\",\n",
    "        \"html_url\": \"https://github.com/apps/github-actions\",\n",
    "        \"followers_url\": \"https://api.github.com/users/github-actions%5Bbot%5D/followers\",\n",
    "        \"following_url\": \"https://api.github.com/users/github-actions%5Bbot%5D/following{/other_user}\",\n",
    "        \"gists_url\": \"https://api.github.com/users/github-actions%5Bbot%5D/gists{/gist_id}\",\n",
    "        \"starred_url\": \"https://api.github.com/users/github-actions%5Bbot%5D/starred{/owner}{/repo}\",\n",
    "        \"subscriptions_url\": \"https://api.github.com/users/github-actions%5Bbot%5D/subscriptions\",\n",
    "        \"organizations_url\": \"https://api.github.com/users/github-actions%5Bbot%5D/orgs\",\n",
    "        \"repos_url\": \"https://api.github.com/users/github-actions%5Bbot%5D/repos\",\n",
    "        \"events_url\": \"https://api.github.com/users/github-actions%5Bbot%5D/events{/privacy}\",\n",
    "        \"received_events_url\": \"https://api.github.com/users/github-actions%5Bbot%5D/received_events\",\n",
    "        \"type\": \"Bot\",\n",
    "        \"site_admin\": false\n",
    "      },\n",
    "      \"content_type\": \"application/gzip\",\n",
    "      \"state\": \"uploaded\",\n",
    "      \"size\": 4811713,\n",
    "      \"download_count\": 1,\n",
    "      \"created_at\": \"2022-07-15T16:18:11Z\",\n",
    "      \"updated_at\": \"2022-07-15T16:18:11Z\",\n",
    "      \"browser_download_url\": \"https://github.com/legendu-net/icon/releases/download/v0.6.0/icon-v0.6.0-darwin-arm64.tar.gz\"\n",
    "    },\n",
    "    {\n",
    "      \"url\": \"https://api.github.com/repos/legendu-net/icon/releases/assets/71690403\",\n",
    "      \"id\": 71690403,\n",
    "      \"node_id\": \"RA_kwDOHkKAZc4EReij\",\n",
    "      \"name\": \"icon-v0.6.0-darwin-arm64.tar.gz.md5\",\n",
    "      \"label\": \"\",\n",
    "      \"uploader\": {\n",
    "        \"login\": \"github-actions[bot]\",\n",
    "        \"id\": 41898282,\n",
    "        \"node_id\": \"MDM6Qm90NDE4OTgyODI=\",\n",
    "        \"avatar_url\": \"https://avatars.githubusercontent.com/in/15368?v=4\",\n",
    "        \"gravatar_id\": \"\",\n",
    "        \"url\": \"https://api.github.com/users/github-actions%5Bbot%5D\",\n",
    "        \"html_url\": \"https://github.com/apps/github-actions\",\n",
    "        \"followers_url\": \"https://api.github.com/users/github-actions%5Bbot%5D/followers\",\n",
    "        \"following_url\": \"https://api.github.com/users/github-actions%5Bbot%5D/following{/other_user}\",\n",
    "        \"gists_url\": \"https://api.github.com/users/github-actions%5Bbot%5D/gists{/gist_id}\",\n",
    "        \"starred_url\": \"https://api.github.com/users/github-actions%5Bbot%5D/starred{/owner}{/repo}\",\n",
    "        \"subscriptions_url\": \"https://api.github.com/users/github-actions%5Bbot%5D/subscriptions\",\n",
    "        \"organizations_url\": \"https://api.github.com/users/github-actions%5Bbot%5D/orgs\",\n",
    "        \"repos_url\": \"https://api.github.com/users/github-actions%5Bbot%5D/repos\",\n",
    "        \"events_url\": \"https://api.github.com/users/github-actions%5Bbot%5D/events{/privacy}\",\n",
    "        \"received_events_url\": \"https://api.github.com/users/github-actions%5Bbot%5D/received_events\",\n",
    "        \"type\": \"Bot\",\n",
    "        \"site_admin\": false\n",
    "      },\n",
    "      \"content_type\": \"text/plain\",\n",
    "      \"state\": \"uploaded\",\n",
    "      \"size\": 33,\n",
    "      \"download_count\": 0,\n",
    "      \"created_at\": \"2022-07-15T16:18:12Z\",\n",
    "      \"updated_at\": \"2022-07-15T16:18:12Z\",\n",
    "      \"browser_download_url\": \"https://github.com/legendu-net/icon/releases/download/v0.6.0/icon-v0.6.0-darwin-arm64.tar.gz.md5\"\n",
    "    },\n",
    "    {\n",
    "      \"url\": \"https://api.github.com/repos/legendu-net/icon/releases/assets/71690355\",\n",
    "      \"id\": 71690355,\n",
    "      \"node_id\": \"RA_kwDOHkKAZc4ERehz\",\n",
    "      \"name\": \"icon-v0.6.0-linux-amd64.tar.gz\",\n",
    "      \"label\": \"\",\n",
    "      \"uploader\": {\n",
    "        \"login\": \"github-actions[bot]\",\n",
    "        \"id\": 41898282,\n",
    "        \"node_id\": \"MDM6Qm90NDE4OTgyODI=\",\n",
    "        \"avatar_url\": \"https://avatars.githubusercontent.com/in/15368?v=4\",\n",
    "        \"gravatar_id\": \"\",\n",
    "        \"url\": \"https://api.github.com/users/github-actions%5Bbot%5D\",\n",
    "        \"html_url\": \"https://github.com/apps/github-actions\",\n",
    "        \"followers_url\": \"https://api.github.com/users/github-actions%5Bbot%5D/followers\",\n",
    "        \"following_url\": \"https://api.github.com/users/github-actions%5Bbot%5D/following{/other_user}\",\n",
    "        \"gists_url\": \"https://api.github.com/users/github-actions%5Bbot%5D/gists{/gist_id}\",\n",
    "        \"starred_url\": \"https://api.github.com/users/github-actions%5Bbot%5D/starred{/owner}{/repo}\",\n",
    "        \"subscriptions_url\": \"https://api.github.com/users/github-actions%5Bbot%5D/subscriptions\",\n",
    "        \"organizations_url\": \"https://api.github.com/users/github-actions%5Bbot%5D/orgs\",\n",
    "        \"repos_url\": \"https://api.github.com/users/github-actions%5Bbot%5D/repos\",\n",
    "        \"events_url\": \"https://api.github.com/users/github-actions%5Bbot%5D/events{/privacy}\",\n",
    "        \"received_events_url\": \"https://api.github.com/users/github-actions%5Bbot%5D/received_events\",\n",
    "        \"type\": \"Bot\",\n",
    "        \"site_admin\": false\n",
    "      },\n",
    "      \"content_type\": \"application/gzip\",\n",
    "      \"state\": \"uploaded\",\n",
    "      \"size\": 5186711,\n",
    "      \"download_count\": 8,\n",
    "      \"created_at\": \"2022-07-15T16:18:05Z\",\n",
    "      \"updated_at\": \"2022-07-15T16:18:05Z\",\n",
    "      \"browser_download_url\": \"https://github.com/legendu-net/icon/releases/download/v0.6.0/icon-v0.6.0-linux-amd64.tar.gz\"\n",
    "    },\n",
    "    {\n",
    "      \"url\": \"https://api.github.com/repos/legendu-net/icon/releases/assets/71690359\",\n",
    "      \"id\": 71690359,\n",
    "      \"node_id\": \"RA_kwDOHkKAZc4EReh3\",\n",
    "      \"name\": \"icon-v0.6.0-linux-amd64.tar.gz.md5\",\n",
    "      \"label\": \"\",\n",
    "      \"uploader\": {\n",
    "        \"login\": \"github-actions[bot]\",\n",
    "        \"id\": 41898282,\n",
    "        \"node_id\": \"MDM6Qm90NDE4OTgyODI=\",\n",
    "        \"avatar_url\": \"https://avatars.githubusercontent.com/in/15368?v=4\",\n",
    "        \"gravatar_id\": \"\",\n",
    "        \"url\": \"https://api.github.com/users/github-actions%5Bbot%5D\",\n",
    "        \"html_url\": \"https://github.com/apps/github-actions\",\n",
    "        \"followers_url\": \"https://api.github.com/users/github-actions%5Bbot%5D/followers\",\n",
    "        \"following_url\": \"https://api.github.com/users/github-actions%5Bbot%5D/following{/other_user}\",\n",
    "        \"gists_url\": \"https://api.github.com/users/github-actions%5Bbot%5D/gists{/gist_id}\",\n",
    "        \"starred_url\": \"https://api.github.com/users/github-actions%5Bbot%5D/starred{/owner}{/repo}\",\n",
    "        \"subscriptions_url\": \"https://api.github.com/users/github-actions%5Bbot%5D/subscriptions\",\n",
    "        \"organizations_url\": \"https://api.github.com/users/github-actions%5Bbot%5D/orgs\",\n",
    "        \"repos_url\": \"https://api.github.com/users/github-actions%5Bbot%5D/repos\",\n",
    "        \"events_url\": \"https://api.github.com/users/github-actions%5Bbot%5D/events{/privacy}\",\n",
    "        \"received_events_url\": \"https://api.github.com/users/github-actions%5Bbot%5D/received_events\",\n",
    "        \"type\": \"Bot\",\n",
    "        \"site_admin\": false\n",
    "      },\n",
    "      \"content_type\": \"text/plain\",\n",
    "      \"state\": \"uploaded\",\n",
    "      \"size\": 33,\n",
    "      \"download_count\": 0,\n",
    "      \"created_at\": \"2022-07-15T16:18:06Z\",\n",
    "      \"updated_at\": \"2022-07-15T16:18:06Z\",\n",
    "      \"browser_download_url\": \"https://github.com/legendu-net/icon/releases/download/v0.6.0/icon-v0.6.0-linux-amd64.tar.gz.md5\"\n",
    "    },\n",
    "    {\n",
    "      \"url\": \"https://api.github.com/repos/legendu-net/icon/releases/assets/71690414\",\n",
    "      \"id\": 71690414,\n",
    "      \"node_id\": \"RA_kwDOHkKAZc4EReiu\",\n",
    "      \"name\": \"icon-v0.6.0-linux-arm64.tar.gz\",\n",
    "      \"label\": \"\",\n",
    "      \"uploader\": {\n",
    "        \"login\": \"github-actions[bot]\",\n",
    "        \"id\": 41898282,\n",
    "        \"node_id\": \"MDM6Qm90NDE4OTgyODI=\",\n",
    "        \"avatar_url\": \"https://avatars.githubusercontent.com/in/15368?v=4\",\n",
    "        \"gravatar_id\": \"\",\n",
    "        \"url\": \"https://api.github.com/users/github-actions%5Bbot%5D\",\n",
    "        \"html_url\": \"https://github.com/apps/github-actions\",\n",
    "        \"followers_url\": \"https://api.github.com/users/github-actions%5Bbot%5D/followers\",\n",
    "        \"following_url\": \"https://api.github.com/users/github-actions%5Bbot%5D/following{/other_user}\",\n",
    "        \"gists_url\": \"https://api.github.com/users/github-actions%5Bbot%5D/gists{/gist_id}\",\n",
    "        \"starred_url\": \"https://api.github.com/users/github-actions%5Bbot%5D/starred{/owner}{/repo}\",\n",
    "        \"subscriptions_url\": \"https://api.github.com/users/github-actions%5Bbot%5D/subscriptions\",\n",
    "        \"organizations_url\": \"https://api.github.com/users/github-actions%5Bbot%5D/orgs\",\n",
    "        \"repos_url\": \"https://api.github.com/users/github-actions%5Bbot%5D/repos\",\n",
    "        \"events_url\": \"https://api.github.com/users/github-actions%5Bbot%5D/events{/privacy}\",\n",
    "        \"received_events_url\": \"https://api.github.com/users/github-actions%5Bbot%5D/received_events\",\n",
    "        \"type\": \"Bot\",\n",
    "        \"site_admin\": false\n",
    "      },\n",
    "      \"content_type\": \"application/gzip\",\n",
    "      \"state\": \"uploaded\",\n",
    "      \"size\": 4843937,\n",
    "      \"download_count\": 0,\n",
    "      \"created_at\": \"2022-07-15T16:18:22Z\",\n",
    "      \"updated_at\": \"2022-07-15T16:18:23Z\",\n",
    "      \"browser_download_url\": \"https://github.com/legendu-net/icon/releases/download/v0.6.0/icon-v0.6.0-linux-arm64.tar.gz\"\n",
    "    }\n",
    "  ],\n",
    "  \"tarball_url\": \"https://api.github.com/repos/legendu-net/icon/tarball/v0.6.0\",\n",
    "  \"zipball_url\": \"https://api.github.com/repos/legendu-net/icon/zipball/v0.6.0\",\n",
    "  \"body\": \"\"\n",
    "}`)\n",
    "type AssetInfo struct {\n",
    "    Name string `json:\"name\"`\n",
    "    BrowserDownloadUrl string `json:\"browser_download_url\"`\n",
    "}\n",
    "type ReleaseInfo struct {\n",
    "    Assets []AssetInfo `json:\"assets\"`\n",
    "}\n",
    "var releaseInfo ReleaseInfo\n",
    "json.Unmarshal(bytes, &releaseInfo)"
   ]
  },
  {
   "cell_type": "code",
   "execution_count": 64,
   "metadata": {},
   "outputs": [
    {
     "data": {
      "text/plain": [
       "[{icon-v0.6.0-darwin-amd64.tar.gz https://github.com/legendu-net/icon/releases/download/v0.6.0/icon-v0.6.0-darwin-amd64.tar.gz} {icon-v0.6.0-darwin-amd64.tar.gz.md5 https://github.com/legendu-net/icon/releases/download/v0.6.0/icon-v0.6.0-darwin-amd64.tar.gz.md5} {icon-v0.6.0-darwin-arm64.tar.gz https://github.com/legendu-net/icon/releases/download/v0.6.0/icon-v0.6.0-darwin-arm64.tar.gz} {icon-v0.6.0-darwin-arm64.tar.gz.md5 https://github.com/legendu-net/icon/releases/download/v0.6.0/icon-v0.6.0-darwin-arm64.tar.gz.md5} {icon-v0.6.0-linux-amd64.tar.gz https://github.com/legendu-net/icon/releases/download/v0.6.0/icon-v0.6.0-linux-amd64.tar.gz} {icon-v0.6.0-linux-amd64.tar.gz.md5 https://github.com/legendu-net/icon/releases/download/v0.6.0/icon-v0.6.0-linux-amd64.tar.gz.md5} {icon-v0.6.0-linux-arm64.tar.gz https://github.com/legendu-net/icon/releases/download/v0.6.0/icon-v0.6.0-linux-arm64.tar.gz}]"
      ]
     },
     "execution_count": 64,
     "metadata": {},
     "output_type": "execute_result"
    }
   ],
   "source": [
    "releaseInfo.Assets"
   ]
  },
  {
   "cell_type": "code",
   "execution_count": 65,
   "metadata": {},
   "outputs": [
    {
     "data": {
      "text/plain": [
       "{icon-v0.6.0-darwin-amd64.tar.gz https://github.com/legendu-net/icon/releases/download/v0.6.0/icon-v0.6.0-darwin-amd64.tar.gz}"
      ]
     },
     "execution_count": 65,
     "metadata": {},
     "output_type": "execute_result"
    }
   ],
   "source": [
    "releaseInfo.Assets[0]"
   ]
  },
  {
   "cell_type": "code",
   "execution_count": 67,
   "metadata": {},
   "outputs": [
    {
     "data": {
      "text/plain": [
       "icon-v0.6.0-darwin-amd64.tar.gz"
      ]
     },
     "execution_count": 67,
     "metadata": {},
     "output_type": "execute_result"
    }
   ],
   "source": [
    "releaseInfo.Assets[0].Name"
   ]
  },
  {
   "cell_type": "code",
   "execution_count": 68,
   "metadata": {},
   "outputs": [
    {
     "data": {
      "text/plain": [
       "https://github.com/legendu-net/icon/releases/download/v0.6.0/icon-v0.6.0-darwin-amd64.tar.gz"
      ]
     },
     "execution_count": 68,
     "metadata": {},
     "output_type": "execute_result"
    }
   ],
   "source": [
    "releaseInfo.Assets[0].BrowserDownloadUrl"
   ]
  },
  {
   "cell_type": "markdown",
   "metadata": {},
   "source": [
    "## References\n",
    "\n",
    "- [A Complete Guide to JSON in Golang (With Examples)](https://www.sohamkamani.com/golang/json/)\n",
    "\n",
    "- [Go by Example: JSON](https://gobyexample.com/json)"
   ]
  },
  {
   "cell_type": "code",
   "execution_count": null,
   "metadata": {},
   "outputs": [],
   "source": []
  }
 ],
 "metadata": {
  "file_extension": ".py",
  "kernelspec": {
   "display_name": "Go",
   "language": "go",
   "name": "gophernotes"
  },
  "language_info": {
   "codemirror_mode": "",
   "file_extension": ".go",
   "mimetype": "",
   "name": "go",
   "nbconvert_exporter": "",
   "pygments_lexer": "",
   "version": "go1.18.3"
  },
  "mimetype": "text/x-python",
  "name": "python",
  "npconvert_exporter": "python",
  "pygments_lexer": "ipython3",
  "version": 3
 },
 "nbformat": 4,
 "nbformat_minor": 4
}
