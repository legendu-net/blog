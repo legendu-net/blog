{
 "cells": [
  {
   "cell_type": "markdown",
   "metadata": {},
   "source": [
    "- Author: Benjamin Du\n",
    "- Date: 2022-07-10 14:59:02\n",
    "- Modified: 2022-07-10 14:59:02\n",
    "- Title: Tuple in Golang\n",
    "- Slug: tuple-in-golang\n",
    "- Category: Computer Science\n",
    "- Tags: Computer Science, programming, tuple, Golang"
   ]
  },
  {
   "cell_type": "markdown",
   "metadata": {},
   "source": [
    "**Things on this page are fragmentary and immature notes/thoughts of the author. Please read with your own judgement!**"
   ]
  },
  {
   "cell_type": "markdown",
   "metadata": {},
   "source": [
    "## Tips and Traps\n",
    "\n",
    "1. Golang implements the type `Tuple` in the standard library `go/types`,\n",
    "    however,\n",
    "    `Tuple` is NOT a first class citizen in Golang.\n",
    "    \n",
    "2. Multiple return parameters in Golang is implemented via `Tuple`\n",
    "    in a limited way (since `Tuple` is not a first-class citizen).\n",
    "    \n",
    "    - Tuple can only be used as multiple return parameters/values currently.\n",
    "    \n",
    "    - Since `Tuple` is not a first-class citizen,\n",
    "        you cannot use a `Tuple` to receive multiple return values.\n",
    "        Instead,\n",
    "        you have to use define multiple variables to receive multiple return values.\n",
    "        \n",
    "    - Nested types is NOT allowed as return parameters."
   ]
  },
  {
   "cell_type": "code",
   "execution_count": 7,
   "metadata": {},
   "outputs": [],
   "source": [
    "import \"go/types\""
   ]
  },
  {
   "cell_type": "code",
   "execution_count": 8,
   "metadata": {},
   "outputs": [
    {
     "ename": "ERROR",
     "evalue": "repl.go:1:1: package types \"go/types\" has no symbol Tuple",
     "output_type": "error",
     "traceback": [
      "repl.go:1:1: package types \"go/types\" has no symbol Tuple"
     ]
    }
   ],
   "source": [
    "types.Tuple"
   ]
  },
  {
   "cell_type": "markdown",
   "metadata": {},
   "source": [
    "## References\n",
    "\n",
    "- [For Sum Types: Golang's multiple return parameters are overrated](https://awalterschulze.github.io/blog/post/sum-types-over-multiple-returns/)"
   ]
  },
  {
   "cell_type": "code",
   "execution_count": null,
   "metadata": {},
   "outputs": [],
   "source": []
  }
 ],
 "metadata": {
  "file_extension": ".py",
  "kernelspec": {
   "display_name": "Go",
   "language": "go",
   "name": "gophernotes"
  },
  "language_info": {
   "codemirror_mode": "",
   "file_extension": ".go",
   "mimetype": "",
   "name": "go",
   "nbconvert_exporter": "",
   "pygments_lexer": "",
   "version": "go1.18.3"
  },
  "mimetype": "text/x-python",
  "name": "python",
  "npconvert_exporter": "python",
  "pygments_lexer": "ipython3",
  "version": 3
 },
 "nbformat": 4,
 "nbformat_minor": 4
}
