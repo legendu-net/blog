{
 "cells": [
  {
   "cell_type": "markdown",
   "metadata": {},
   "source": [
    "- Author: Benjamin Du\n",
    "- Date: 2022-08-05 10:30:37\n",
    "- Modified: 2022-08-05 10:30:37\n",
    "- Title: Ordered Map in Golang\n",
    "- Slug: ordered-map-in-golang\n",
    "- Category: Computer Science\n",
    "- Tags: Computer Science, programming, Golang, map, ordered, orderedmap,"
   ]
  },
  {
   "cell_type": "markdown",
   "metadata": {},
   "source": [
    "Ordered Map in Golang\n",
    "Computer Science\n",
    "Computer Science, programming, Golang, map, ordered, orderedmap,\n",
    "\n",
    "**Things on this page are fragmentary and immature notes/thoughts of the author. Please read with your own judgement!**\n",
    "\n",
    "There are 2 implementations of ordered map in Golang\n",
    "[orderedmap](https://pkg.go.dev/github.com/elliotchance/orderedmap/v2)\n",
    "and\n",
    "[go-ordered-map](github.com/wk8/go-ordered-map/v2)\n",
    ".\n",
    "[orderedmap](https://pkg.go.dev/github.com/elliotchance/orderedmap/v2)\n",
    "is more popular (based on GitHub statistics)\n",
    "and thus is preferred.\n",
    "\n"
   ]
  },
  {
   "cell_type": "code",
   "execution_count": 1,
   "metadata": {},
   "outputs": [
    {
     "ename": "ERROR",
     "evalue": "error executing \"/usr/local/go/bin/go build -buildmode=plugin\" in directory \"/home/dclong/go/src/gomacro.imports/gomacro_pid_7244/import_1\": exit status 2",
     "output_type": "error",
     "traceback": [
      "error executing \"/usr/local/go/bin/go build -buildmode=plugin\" in directory \"/home/dclong/go/src/gomacro.imports/gomacro_pid_7244/import_1\": exit status 2"
     ]
    }
   ],
   "source": [
    "import \"github.com/elliotchance/orderedmap/v2\""
   ]
  },
  {
   "cell_type": "code",
   "execution_count": 3,
   "metadata": {},
   "outputs": [
    {
     "ename": "ERROR",
     "evalue": "repl.go:1:17: expected ';', found '['",
     "output_type": "error",
     "traceback": [
      "repl.go:1:17: expected ';', found '['"
     ]
    }
   ],
   "source": [
    "var m OrderedMap[string, any]"
   ]
  },
  {
   "cell_type": "code",
   "execution_count": 5,
   "metadata": {},
   "outputs": [
    {
     "ename": "ERROR",
     "evalue": "repl.go:1:37: expected ']', found ','",
     "output_type": "error",
     "traceback": [
      "repl.go:1:37: expected ']', found ','"
     ]
    }
   ],
   "source": [
    "m := orderedmap.NewOrderedMap[string, any]()\n",
    "m"
   ]
  },
  {
   "cell_type": "code",
   "execution_count": null,
   "metadata": {},
   "outputs": [],
   "source": [
    "\tm.Set(\"foo\", \"bar\")\n",
    "\tm.Set(\"qux\", 1.23)\n",
    "\tm.Set(\"123\", true)\n",
    "\n",
    "\tm.Delete(\"qux\")"
   ]
  },
  {
   "cell_type": "code",
   "execution_count": null,
   "metadata": {},
   "outputs": [],
   "source": [
    "m := orderedmap.NewOrderedMap[string, any]()\n",
    "\n",
    "\tm.Set(\"foo\", \"bar\")\n",
    "\tm.Set(\"qux\", 1.23)\n",
    "\tm.Set(\"123\", true)\n",
    "\n",
    "\tm.Delete(\"qux\")"
   ]
  }
 ],
 "metadata": {
  "file_extension": ".py",
  "kernelspec": {
   "display_name": "Go",
   "language": "go",
   "name": "gophernotes"
  },
  "language_info": {
   "codemirror_mode": "",
   "file_extension": ".go",
   "mimetype": "",
   "name": "go",
   "nbconvert_exporter": "",
   "pygments_lexer": "",
   "version": "go1.18.5"
  },
  "mimetype": "text/x-python",
  "name": "python",
  "npconvert_exporter": "python",
  "pygments_lexer": "ipython3",
  "version": 3
 },
 "nbformat": 4,
 "nbformat_minor": 4
}
