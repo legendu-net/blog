{
 "cells": [
  {
   "cell_type": "markdown",
   "metadata": {},
   "source": [
    "- Author: Benjamin Du\n",
    "- Date: 2022-08-02 22:24:57\n",
    "- Modified: 2022-08-02 22:24:57\n",
    "- Title: Parse TOML Files in Golang\n",
    "- Slug: parse-toml-files-in-golang\n",
    "- Category: Computer Science\n",
    "- Tags: Computer Science, programming, Golang, TOML, go-toml"
   ]
  },
  {
   "cell_type": "markdown",
   "metadata": {},
   "source": [
    "**Things on this page are fragmentary and immature notes/thoughts of the author. Please read with your own judgement!**"
   ]
  },
  {
   "cell_type": "markdown",
   "metadata": {},
   "source": [
    "## Tips and Traps\n",
    "\n",
    "1. If the schema of a TOML file is unknown,\n",
    "    you can parse it into a generic object (`any` or `map[string]any`). \n",
    "    When parsing a TOML file into a generic object,\n",
    "    `map` is used for storing key-value pairs. \n",
    "    Since `map` is unordered,\n",
    "    the order of keys in the original TOML file is not preserved.\n",
    "    Using a ordered map solves the problem partly.\n",
    "    For example,\n",
    "    parsing a TOML file into a `orderedmap.OrderedMap[string, any]`\n",
    "    preserved the order of keys in the outer-most map but not in inner maps."
   ]
  },
  {
   "cell_type": "code",
   "execution_count": 35,
   "metadata": {},
   "outputs": [],
   "source": [
    "import \"io/ioutil\"\n",
    "import \"fmt\"\n",
    "import \"reflect\"\n",
    "import \"github.com/pelletier/go-toml/v2\""
   ]
  },
  {
   "cell_type": "code",
   "execution_count": 2,
   "metadata": {},
   "outputs": [
    {
     "data": {
      "text/plain": [
       "map[key1:value1 key2:value2 key3:value3]"
      ]
     },
     "execution_count": 2,
     "metadata": {},
     "output_type": "execute_result"
    }
   ],
   "source": [
    "blob := []byte(`\n",
    "key1 = \"value1\"\n",
    "key2 = \"value2\"\n",
    "key3 = \"value3\"\n",
    "`)\n",
    "var dat map[string]interface{}\n",
    "toml.Unmarshal(blob, &dat)\n",
    "dat"
   ]
  },
  {
   "cell_type": "code",
   "execution_count": 3,
   "metadata": {},
   "outputs": [
    {
     "data": {
      "text/plain": [
       "[91 116 111 111 108 46 112 111 101 116 114 121 93 10 110 97 109 101 32 61 32 34 97 114 114 111 119 100 98 34 10 118 101 114 115 105 111 110 32 61 32 34 48 46 49 46 48 34 10 100 101 115 99 114 105 112 116 105 111 110 32 61 32 34 81 117 101 114 121 105 110 103 32 100 97 116 97 98 97 115 101 32 117 115 105 110 103 32 97 114 114 111 119 46 106 118 109 46 34 10 97 117 116 104 111 114 115 32 61 32 91 34 66 101 110 32 68 117 32 60 108 111 110 103 101 110 100 117 64 121 97 104 111 111 46 99 111 109 62 34 93 10 10 91 116 111 111 108 46 112 111 101 116 114 121 46 100 101 112 101 110 100 101 110 99 105 101 115 93 10 112 121 116 104 111 110 32 61 32 34 62 61 51 46 56 44 60 52 46 48 34 10 110 117 109 112 121 32 61 32 34 62 61 49 46 50 50 46 52 34 10 112 97 110 100 97 115 32 61 32 34 62 61 48 46 50 50 34 10 74 80 121 112 101 49 32 61 32 34 62 61 49 46 49 46 50 34 10 115 113 108 112 97 114 115 101 32 61 32 34 62 61 48 46 50 46 52 34 10 108 111 103 117 114 117 32 61 32 34 62 61 48 46 50 46 53 34 10 112 97 110 100 97 115 45 112 114 111 102 105 108 105 110 103 32 61 32 34 62 61 50 46 56 46 48 34 10 112 121 97 114 114 111 119 32 61 32 34 62 61 50 46 48 46 48 34 10 10 91 116 111 111 108 46 112 111 101 116 114 121 46 100 101 118 45 100 101 112 101 110 100 101 110 99 105 101 115 93 10 112 121 116 101 115 116 32 61 32 34 62 61 51 46 48 34 10 112 121 108 105 110 116 32 61 32 34 62 61 50 46 49 50 46 50 34 10 112 121 116 121 112 101 32 61 32 34 62 61 50 48 50 48 46 48 46 48 34 10 121 97 112 102 32 61 32 34 62 61 48 46 51 50 46 48 34 10 116 111 109 108 32 61 32 34 62 61 48 46 49 48 46 50 34 10 10 91 116 111 111 108 46 121 97 112 102 93 10 98 97 115 101 100 95 111 110 95 115 116 121 108 101 32 61 32 34 102 97 99 101 98 111 111 107 34 10 99 111 108 117 109 110 95 108 105 109 105 116 32 61 32 56 56 10 10 91 116 111 111 108 46 121 97 112 102 105 103 110 111 114 101 93 10 105 103 110 111 114 101 95 112 97 116 116 101 114 110 115 32 61 32 91 10 32 32 32 32 34 42 47 46 105 112 121 110 98 95 99 104 101 99 107 112 111 105 110 116 115 47 34 44 10 32 32 32 32 34 46 118 101 110 118 47 34 44 10 32 32 32 32 34 118 101 110 118 47 34 44 10 93 10 10 91 116 111 111 108 46 112 121 114 105 103 104 116 93 10 105 110 99 108 117 100 101 32 61 32 91 34 97 114 114 111 119 100 98 34 44 32 34 116 101 115 116 115 34 93 10 101 120 99 108 117 100 101 32 61 32 91 10 32 32 32 32 34 42 42 47 110 111 100 101 95 109 111 100 117 108 101 115 34 44 10 32 32 32 32 34 42 42 47 95 95 112 121 99 97 99 104 101 95 95 34 44 10 32 32 32 32 34 42 42 47 116 121 112 101 115 116 117 98 115 34 44 10 32 32 32 32 34 42 42 47 46 112 121 116 121 112 101 34 44 10 32 32 32 32 34 46 118 101 110 118 34 44 10 93 10 118 101 110 118 80 97 116 104 32 61 32 34 46 34 10 118 101 110 118 32 61 32 34 46 118 101 110 118 34 10 10 114 101 112 111 114 116 77 105 115 115 105 110 103 73 109 112 111 114 116 115 32 61 32 116 114 117 101 10 114 101 112 111 114 116 77 105 115 115 105 110 103 84 121 112 101 83 116 117 98 115 32 61 32 102 97 108 115 101 10 10 91 98 117 105 108 100 45 115 121 115 116 101 109 93 10 114 101 113 117 105 114 101 115 32 61 32 91 34 112 111 101 116 114 121 62 61 48 46 49 50 34 93 10 98 117 105 108 100 45 98 97 99 107 101 110 100 32 61 32 34 112 111 101 116 114 121 46 109 97 115 111 110 114 121 46 97 112 105 34 10]"
      ]
     },
     "execution_count": 3,
     "metadata": {},
     "output_type": "execute_result"
    }
   ],
   "source": [
    "bytes, err := ioutil.ReadFile(\"pyproject.toml\")\n",
    "bytes"
   ]
  },
  {
   "cell_type": "code",
   "execution_count": 4,
   "metadata": {},
   "outputs": [
    {
     "data": {
      "text/plain": [
       "map[build-system:map[build-backend:poetry.masonry.api requires:[poetry>=0.12]] tool:map[poetry:map[authors:[Ben Du <longendu@yahoo.com>] dependencies:map[JPype1:>=1.1.2 loguru:>=0.2.5 numpy:>=1.22.4 pandas:>=0.22 pandas-profiling:>=2.8.0 pyarrow:>=2.0.0 python:>=3.8,<4.0 sqlparse:>=0.2.4] description:Querying database using arrow.jvm. dev-dependencies:map[pylint:>=2.12.2 pytest:>=3.0 pytype:>=2020.0.0 toml:>=0.10.2 yapf:>=0.32.0] name:arrowdb version:0.1.0] pyright:map[exclude:[**/node_modules **/__pycache__ **/typestubs **/.pytype .venv] include:[arrowdb tests] reportMissingImports:true reportMissingTypeStubs:false venv:.venv venvPath:.] yapf:map[based_on_style:facebook column_limit:88] yapfignore:map[ignore_patterns:[*/.ipynb_checkpoints/ .venv/ venv/]]]]"
      ]
     },
     "execution_count": 4,
     "metadata": {},
     "output_type": "execute_result"
    }
   ],
   "source": [
    "var conf map[string]interface{}\n",
    "toml.Unmarshal(bytes, &conf)\n",
    "conf"
   ]
  },
  {
   "cell_type": "code",
   "execution_count": 5,
   "metadata": {},
   "outputs": [
    {
     "data": {
      "text/plain": [
       "map[string]interface {}"
      ]
     },
     "execution_count": 5,
     "metadata": {},
     "output_type": "execute_result"
    }
   ],
   "source": [
    "reflect.TypeOf(conf)"
   ]
  },
  {
   "cell_type": "code",
   "execution_count": 12,
   "metadata": {},
   "outputs": [
    {
     "data": {
      "text/plain": [
       "map[build-backend:poetry.masonry.api requires:[poetry>=0.12]]"
      ]
     },
     "execution_count": 12,
     "metadata": {},
     "output_type": "execute_result"
    }
   ],
   "source": [
    "b, err := conf[\"build-system\"]\n",
    "b"
   ]
  },
  {
   "cell_type": "code",
   "execution_count": 18,
   "metadata": {},
   "outputs": [],
   "source": [
    "_, isMap := b.(map[string]interface{})"
   ]
  },
  {
   "cell_type": "code",
   "execution_count": 19,
   "metadata": {},
   "outputs": [
    {
     "data": {
      "text/plain": [
       "true"
      ]
     },
     "execution_count": 19,
     "metadata": {},
     "output_type": "execute_result"
    }
   ],
   "source": [
    "isMap"
   ]
  },
  {
   "cell_type": "code",
   "execution_count": 21,
   "metadata": {},
   "outputs": [],
   "source": [
    "_, isArr := b.([]interface{})"
   ]
  },
  {
   "cell_type": "code",
   "execution_count": 22,
   "metadata": {},
   "outputs": [
    {
     "data": {
      "text/plain": [
       "false"
      ]
     },
     "execution_count": 22,
     "metadata": {},
     "output_type": "execute_result"
    }
   ],
   "source": [
    "isArr"
   ]
  },
  {
   "cell_type": "code",
   "execution_count": 32,
   "metadata": {},
   "outputs": [
    {
     "data": {
      "text/plain": [
       "map[build-backend:poetry.masonry.api requires:[poetry>=0.12]]"
      ]
     },
     "execution_count": 32,
     "metadata": {},
     "output_type": "execute_result"
    }
   ],
   "source": [
    "b"
   ]
  },
  {
   "cell_type": "code",
   "execution_count": 33,
   "metadata": {},
   "outputs": [
    {
     "data": {
      "text/plain": [
       "poetry.masonry.apitrue"
      ]
     },
     "execution_count": 33,
     "metadata": {},
     "output_type": "execute_result"
    }
   ],
   "source": [
    "b.(map[string]interface{})[\"build-backend\"]"
   ]
  },
  {
   "cell_type": "code",
   "execution_count": 37,
   "metadata": {},
   "outputs": [],
   "source": [
    "switch v := b.(type) {\n",
    "case map[string]interface{}:\n",
    "    conf[\"build-system\"] = v\n",
    "case []interface{}:\n",
    "    fmt.Printf(\"array\\n\")\n",
    "default:\n",
    "    fmt.Printf(\"other types\")\n",
    "}"
   ]
  },
  {
   "cell_type": "code",
   "execution_count": 42,
   "metadata": {},
   "outputs": [
    {
     "data": {
      "text/plain": [
       "map[build-backend:poetry.masonry.api requires:[poetry>=0.12]]"
      ]
     },
     "execution_count": 42,
     "metadata": {},
     "output_type": "execute_result"
    }
   ],
   "source": [
    "c, err := conf[\"build-system\"]\n",
    "c"
   ]
  },
  {
   "cell_type": "code",
   "execution_count": 49,
   "metadata": {},
   "outputs": [
    {
     "ename": "ERROR",
     "evalue": "repl.go:1:3: invalid operation: c[\"build-backend\"] (type interface{} does not support indexing)",
     "output_type": "error",
     "traceback": [
      "repl.go:1:3: invalid operation: c[\"build-backend\"] (type interface{} does not support indexing)"
     ]
    }
   ],
   "source": [
    "c[\"build-backend\"]"
   ]
  },
  {
   "cell_type": "code",
   "execution_count": 43,
   "metadata": {},
   "outputs": [
    {
     "data": {
      "text/plain": [
       "map[string]interface {}"
      ]
     },
     "execution_count": 43,
     "metadata": {},
     "output_type": "execute_result"
    }
   ],
   "source": [
    "reflect.TypeOf(c)"
   ]
  },
  {
   "cell_type": "code",
   "execution_count": 46,
   "metadata": {},
   "outputs": [
    {
     "data": {
      "text/plain": [
       "map[poetry:map[authors:[Ben Du <longendu@yahoo.com>] dependencies:map[JPype1:>=1.1.2 loguru:>=0.2.5 numpy:>=1.22.4 pandas:>=0.22 pandas-profiling:>=2.8.0 pyarrow:>=2.0.0 python:>=3.8,<4.0 sqlparse:>=0.2.4] description:Querying database using arrow.jvm. dev-dependencies:map[pylint:>=2.12.2 pytest:>=3.0 pytype:>=2020.0.0 toml:>=0.10.2 yapf:>=0.32.0] name:arrowdb version:0.1.0] pyright:map[exclude:[**/node_modules **/__pycache__ **/typestubs **/.pytype .venv] include:[arrowdb tests] reportMissingImports:true reportMissingTypeStubs:false venv:.venv venvPath:.] yapf:map[based_on_style:facebook column_limit:88] yapfignore:map[ignore_patterns:[*/.ipynb_checkpoints/ .venv/ venv/]]]"
      ]
     },
     "execution_count": 46,
     "metadata": {},
     "output_type": "execute_result"
    }
   ],
   "source": [
    "t, err := conf[\"tool\"]\n",
    "t"
   ]
  },
  {
   "cell_type": "code",
   "execution_count": 47,
   "metadata": {},
   "outputs": [
    {
     "data": {
      "text/plain": [
       "map[string]interface {}"
      ]
     },
     "execution_count": 47,
     "metadata": {},
     "output_type": "execute_result"
    }
   ],
   "source": [
    "reflect.TypeOf(t)"
   ]
  },
  {
   "cell_type": "code",
   "execution_count": 48,
   "metadata": {},
   "outputs": [
    {
     "ename": "ERROR",
     "evalue": "repl.go:1:3: invalid operation: t[\"poetry\"] (type interface{} does not support indexing)",
     "output_type": "error",
     "traceback": [
      "repl.go:1:3: invalid operation: t[\"poetry\"] (type interface{} does not support indexing)"
     ]
    }
   ],
   "source": [
    "t[\"poetry\"]"
   ]
  },
  {
   "cell_type": "code",
   "execution_count": null,
   "metadata": {},
   "outputs": [],
   "source": [
    "bm := map[string]interface{}(b)"
   ]
  },
  {
   "cell_type": "code",
   "execution_count": 7,
   "metadata": {},
   "outputs": [
    {
     "ename": "ERROR",
     "evalue": "repl.go:1:21: not enough arguments in call to reflect.TypeOf:\n\thave (interface{})\n\twant (interface{})",
     "output_type": "error",
     "traceback": [
      "repl.go:1:21: not enough arguments in call to reflect.TypeOf:\n\thave (interface{})\n\twant (interface{})"
     ]
    }
   ],
   "source": [
    "reflect.TypeOf(conf[\"build-system\"])"
   ]
  },
  {
   "cell_type": "code",
   "execution_count": 10,
   "metadata": {},
   "outputs": [
    {
     "data": {
      "text/plain": [
       "[build-system]\n",
       "build-backend = 'poetry.masonry.api'\n",
       "requires = ['poetry>=0.12']\n",
       "\n",
       "[tool]\n",
       "[tool.poetry]\n",
       "authors = ['Ben Du <longendu@yahoo.com>']\n",
       "description = 'Querying database using arrow.jvm.'\n",
       "name = 'arrowdb'\n",
       "version = '0.1.0'\n",
       "[tool.poetry.dependencies]\n",
       "JPype1 = '>=1.1.2'\n",
       "loguru = '>=0.2.5'\n",
       "numpy = '>=1.22.4'\n",
       "pandas = '>=0.22'\n",
       "pandas-profiling = '>=2.8.0'\n",
       "pyarrow = '>=2.0.0'\n",
       "python = '>=3.8,<4.0'\n",
       "sqlparse = '>=0.2.4'\n",
       "\n",
       "[tool.poetry.dev-dependencies]\n",
       "pylint = '>=2.12.2'\n",
       "pytest = '>=3.0'\n",
       "pytype = '>=2020.0.0'\n",
       "toml = '>=0.10.2'\n",
       "yapf = '>=0.32.0'\n",
       "\n",
       "\n",
       "[tool.pyright]\n",
       "exclude = ['**/node_modules', '**/__pycache__', '**/typestubs', '**/.pytype', '.venv']\n",
       "include = ['arrowdb', 'tests']\n",
       "reportMissingImports = true\n",
       "reportMissingTypeStubs = false\n",
       "venv = '.venv'\n",
       "venvPath = '.'\n",
       "\n",
       "[tool.yapf]\n",
       "based_on_style = 'facebook'\n",
       "column_limit = 88\n",
       "\n",
       "[tool.yapfignore]\n",
       "ignore_patterns = ['*/.ipynb_checkpoints/', '.venv/', 'venv/']\n",
       "\n",
       "\n"
      ]
     },
     "execution_count": 10,
     "metadata": {},
     "output_type": "execute_result"
    }
   ],
   "source": [
    "bytes, err := toml.Marshal(conf)\n",
    "string(bytes)"
   ]
  },
  {
   "cell_type": "markdown",
   "metadata": {},
   "source": [
    "## References\n",
    "\n",
    "[Official doc - go-toml](https://pkg.go.dev/github.com/pelletier/go-toml/v2)"
   ]
  },
  {
   "cell_type": "code",
   "execution_count": null,
   "metadata": {},
   "outputs": [],
   "source": []
  }
 ],
 "metadata": {
  "file_extension": ".py",
  "kernelspec": {
   "display_name": "Go",
   "language": "go",
   "name": "gophernotes"
  },
  "language_info": {
   "codemirror_mode": "",
   "file_extension": ".go",
   "mimetype": "",
   "name": "go",
   "nbconvert_exporter": "",
   "pygments_lexer": "",
   "version": "go1.18.5"
  },
  "mimetype": "text/x-python",
  "name": "python",
  "npconvert_exporter": "python",
  "pygments_lexer": "ipython3",
  "version": 3
 },
 "nbformat": 4,
 "nbformat_minor": 4
}
