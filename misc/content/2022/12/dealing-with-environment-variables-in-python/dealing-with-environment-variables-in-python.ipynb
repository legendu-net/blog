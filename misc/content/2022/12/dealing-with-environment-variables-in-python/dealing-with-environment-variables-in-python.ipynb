{
 "cells": [
  {
   "attachments": {},
   "cell_type": "markdown",
   "metadata": {},
   "source": [
    "- Author: Benjamin Du\n",
    "- Date: 2022-12-20 18:00:44\n",
    "- Modified: 2022-12-20 18:00:44\n",
    "- Title: Dealing With Environment Variables in Python\n",
    "- Slug: dealing-with-environment-variables-in-python\n",
    "- Category: Computer Science\n",
    "- Tags: Computer Science, programming, Python, environ, environment, variable, HOME, PATH"
   ]
  },
  {
   "cell_type": "markdown",
   "metadata": {},
   "source": [
    "**Things on this page are fragmentary and immature notes/thoughts of the author. Please read with your own judgement!**"
   ]
  },
  {
   "attachments": {},
   "cell_type": "markdown",
   "metadata": {},
   "source": [
    "1. `os.environ` is a dict-like object \n",
    "    containing environment variables as keys and their values as values.\n",
    "    You can query the value of an environment variable using `os.environ[ENV_VAR_NAME]`.\n",
    "    And you can set the value of an environemnt variable using\n",
    "    `os.environ[ENV_VAR_NAME] = val`.\n",
    "\n",
    "2. You should use `os.pathexpanduser(\"~\")` instead of `os.getenv('HOME')`\n",
    "  to get the home directory of the current user in Python.\n",
    "  `os.getenv('HOME')` only works on Linux/Unix."
   ]
  },
  {
   "cell_type": "code",
   "execution_count": 1,
   "metadata": {},
   "outputs": [],
   "source": [
    "import os"
   ]
  },
  {
   "cell_type": "code",
   "execution_count": 2,
   "metadata": {},
   "outputs": [
    {
     "data": {
      "text/plain": [
       "environ{'GITPOD_WORKSPACE_CLASS_INFO': '{\"id\":\"g1-standard\",\"category\":\"GENERAL PURPOSE\",\"displayName\":\"Standard\",\"description\":\"Up to 4 vCPU, 8GB memory, 30GB disk\",\"powerups\":1,\"isDefault\":true,\"deprecated\":false}',\n",
       "        'GITPOD_WORKSPACE_CONTEXT_URL': 'https://github.com/legendu-net/blog',\n",
       "        'GITPOD_REPO_ROOTS': '/workspace/blog',\n",
       "        'LANGUAGE': 'en_US:en',\n",
       "        'USER': 'gitpod',\n",
       "        'JAVA_TOOL_OPTIONS': ' -Xmx3489m',\n",
       "        'GIT_EDITOR': '/ide/bin/remote-cli/gitpod-code --wait',\n",
       "        'GITPOD_PREVENT_METADATA_ACCESS': 'true',\n",
       "        'HOSTNAME': 'legendunet-blog-zs52zub3k4w',\n",
       "        'GITPOD_ANALYTICS_SEGMENT_KEY': 'bUY8IRdJ42KjLOBS9LoIHMYFBD8rSzjU',\n",
       "        'THEIA_WEBVIEW_EXTERNAL_ENDPOINT': 'webview-{{hostname}}',\n",
       "        'HOME': '/home/gitpod',\n",
       "        'VSX_REGISTRY_URL': 'https://open-vsx.gitpod.io',\n",
       "        'GITPOD_TASKS': '[{\"command\":\". /scripts/gitpod.sh\"}]',\n",
       "        'WORKSPACEKIT_WRAP_NETNS': 'true',\n",
       "        'VISUAL': '/ide/bin/remote-cli/gitpod-code',\n",
       "        'SUPERVISOR_ADDR': 'localhost:22999',\n",
       "        'GITPOD_THEIA_PORT': '23000',\n",
       "        'GITPOD_IDE_ALIAS': 'code',\n",
       "        'THEIA_MINI_BROWSER_HOST_PATTERN': 'browser-{{hostname}}',\n",
       "        'GITPOD_ANALYTICS_WRITER': 'segment',\n",
       "        'GITPOD_MEMORY': '3489',\n",
       "        'GITPOD_WORKSPACE_CONTEXT': '{\"isFile\":false,\"path\":\"\",\"title\":\"legendu-net/blog - master\",\"ref\":\"master\",\"refType\":\"branch\",\"revision\":\"7d52e66edf645a7c9ce51870924ec7d3abd8e90d\",\"repository\":{\"cloneUrl\":\"https://github.com/legendu-net/blog.git\",\"host\":\"github.com\",\"name\":\"blog\",\"owner\":\"legendu-net\",\"private\":false},\"normalizedContextURL\":\"https://github.com/legendu-net/blog\",\"checkoutLocation\":\"blog\"}',\n",
       "        'GITPOD_GIT_USER_EMAIL': 'legendu.net@outlook.com',\n",
       "        'GITPOD_HOST': 'https://gitpod.io',\n",
       "        'GP_OPEN_EDITOR': '/ide/bin/remote-cli/gitpod-code',\n",
       "        'PIP_USER': 'no',\n",
       "        'GITPOD_OWNER_ID': '5e66c014-459b-4dcb-93f0-6d5b36f3d59f',\n",
       "        'RUSTUP_HOME': '/usr/local/rustup',\n",
       "        'GITPOD_WORKSPACE_URL': 'https://legendunet-blog-zs52zub3k4w.ws-us80.gitpod.io',\n",
       "        'PATH': '/home/gitpod/.local/bin:/home/gitpod/.SpaceVim/bin:/home/gitpod/.vim/bin:/usr/local/go/bin:/usr/local/cargo/bin:/bin:/ide/bin/remote-cli:/usr/local/sbin:/usr/local/bin:/usr/sbin:/usr/bin:/sbin:/usr/lib/jvm/java-11-openjdk-amd64/bin:/home/gitpod/.pyenv/shims',\n",
       "        'GITPOD_GIT_USER_NAME': 'Ben Du',\n",
       "        'THEIA_WORKSPACE_ROOT': '/workspace/blog',\n",
       "        'GITPOD_INSTANCE_ID': '76d73400-f56c-46ae-b6aa-ae8227afa166',\n",
       "        'GP_EXTERNAL_BROWSER': '/ide/bin/remote-cli/gitpod-code --openExternal',\n",
       "        'LANG': 'en_US.UTF-8',\n",
       "        'GITPOD_CLI_APITOKEN': 'Jm2Gkzj4bAx9GZeHLZzNAI8IsPJW5eUL',\n",
       "        'JAVA_HOME': '/usr/lib/jvm/java-11-openjdk-amd64',\n",
       "        'LC_ALL': 'en_US.UTF-8',\n",
       "        'PWD': '/',\n",
       "        'GITPOD_WORKSPACE_CLUSTER_HOST': 'ws-us80.gitpod.io',\n",
       "        'GITPOD_WORKSPACE_CLASS': 'g1-standard',\n",
       "        'M2_HOME': '/usr/share/maven',\n",
       "        'GITPOD_WORKSPACE_ID': 'legendunet-blog-zs52zub3k4w',\n",
       "        'GITPOD_REPO_ROOT': '/workspace/blog',\n",
       "        'GP_PREVIEW_BROWSER': '/ide/bin/remote-cli/gitpod-code --preview',\n",
       "        'GITPOD_INTERVAL': '30000',\n",
       "        'THEIA_RATELIMIT_LOG': '50',\n",
       "        'EDITOR': '/ide/bin/remote-cli/gitpod-code',\n",
       "        'VSCODE_HANDLES_SIGPIPE': 'true',\n",
       "        'SHLVL': '0',\n",
       "        '_': '/ide/node',\n",
       "        'VSCODE_AMD_ENTRYPOINT': 'vs/workbench/api/node/extensionHostProcess',\n",
       "        'VSCODE_HANDLES_UNCAUGHT_ERRORS': 'true',\n",
       "        'VSCODE_NLS_CONFIG': '{\"locale\":\"en\",\"availableLanguages\":{}}',\n",
       "        'GITPOD_CODE_HOST': 'https://gitpod.io',\n",
       "        'BROWSER': '/ide/bin/helpers/browser.sh',\n",
       "        'VSCODE_CWD': '/',\n",
       "        'ELECTRON_RUN_AS_NODE': '1',\n",
       "        'VSCODE_IPC_HOOK_CLI': '/tmp/vscode-ipc-7cbcc44b-6f13-4976-952c-9d9e2d607ea5.sock',\n",
       "        'PYTHONUNBUFFERED': '1',\n",
       "        'PYTHONIOENCODING': 'utf-8',\n",
       "        'TERM': 'xterm-color',\n",
       "        'CLICOLOR': '1',\n",
       "        'FORCE_COLOR': '1',\n",
       "        'CLICOLOR_FORCE': '1',\n",
       "        'PAGER': 'cat',\n",
       "        'GIT_PAGER': 'cat',\n",
       "        'MPLBACKEND': 'module://matplotlib_inline.backend_inline',\n",
       "        'PYDEVD_IPYTHON_COMPATIBLE_DEBUGGING': '1'}"
      ]
     },
     "execution_count": 2,
     "metadata": {},
     "output_type": "execute_result"
    }
   ],
   "source": [
    "os.environ"
   ]
  },
  {
   "cell_type": "code",
   "execution_count": 3,
   "metadata": {},
   "outputs": [
    {
     "data": {
      "text/plain": [
       "'/home/gitpod/.local/bin:/home/gitpod/.SpaceVim/bin:/home/gitpod/.vim/bin:/usr/local/go/bin:/usr/local/cargo/bin:/bin:/ide/bin/remote-cli:/usr/local/sbin:/usr/local/bin:/usr/sbin:/usr/bin:/sbin:/usr/lib/jvm/java-11-openjdk-amd64/bin:/home/gitpod/.pyenv/shims'"
      ]
     },
     "execution_count": 3,
     "metadata": {},
     "output_type": "execute_result"
    }
   ],
   "source": [
    "os.environ[\"PATH\"]"
   ]
  },
  {
   "cell_type": "code",
   "execution_count": 4,
   "metadata": {},
   "outputs": [
    {
     "data": {
      "text/plain": [
       "'no'"
      ]
     },
     "execution_count": 4,
     "metadata": {},
     "output_type": "execute_result"
    }
   ],
   "source": [
    "os.environ[\"PIP_USER\"]"
   ]
  },
  {
   "cell_type": "code",
   "execution_count": 5,
   "metadata": {},
   "outputs": [
    {
     "data": {
      "text/plain": [
       "'yes'"
      ]
     },
     "execution_count": 5,
     "metadata": {},
     "output_type": "execute_result"
    }
   ],
   "source": [
    "os.environ[\"PIP_USER\"] = \"yes\"\n",
    "os.environ[\"PIP_USER\"]"
   ]
  },
  {
   "cell_type": "code",
   "execution_count": null,
   "metadata": {},
   "outputs": [],
   "source": []
  }
 ],
 "metadata": {
  "file_extension": ".py",
  "kernelspec": {
   "display_name": "Python 3",
   "language": "python",
   "name": "python3"
  },
  "language_info": {
   "codemirror_mode": {
    "name": "ipython",
    "version": 3
   },
   "file_extension": ".py",
   "mimetype": "text/x-python",
   "name": "python",
   "nbconvert_exporter": "python",
   "pygments_lexer": "ipython3",
   "version": "3.10.6"
  },
  "mimetype": "text/x-python",
  "name": "python",
  "npconvert_exporter": "python",
  "orig_nbformat": 2,
  "pygments_lexer": "ipython3",
  "version": 3,
  "vscode": {
   "interpreter": {
    "hash": "e7370f93d1d0cde622a1f8e1c04877d8463912d04d973331ad4851f04de6915a"
   }
  }
 },
 "nbformat": 4,
 "nbformat_minor": 2
}
