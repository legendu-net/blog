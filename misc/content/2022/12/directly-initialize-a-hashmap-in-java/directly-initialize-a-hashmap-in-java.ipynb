{
 "cells": [
  {
   "cell_type": "markdown",
   "metadata": {},
   "source": [
    "- Author: Benjamin Du\n",
    "- Date: 2022-12-10 16:08:19\n",
    "- Modified: 2022-12-10 16:08:19\n",
    "- Title: Directly Initialize a Hashmap in Java\n",
    "- Slug: directly-initialize-a-hashmap-in-java\n",
    "- Category: Computer Science\n",
    "- Tags: Computer Science, programming, Java, hash, map, table, initialize, entry"
   ]
  },
  {
   "cell_type": "markdown",
   "metadata": {},
   "source": [
    "**Things on this page are fragmentary and immature notes/thoughts of the author. Please read with your own judgement!**"
   ]
  },
  {
   "cell_type": "markdown",
   "metadata": {},
   "source": [
    "The following code snippet in Java 9+ initialize an immutable HashMap \n",
    "with up to 10 elements."
   ]
  },
  {
   "cell_type": "code",
   "execution_count": 1,
   "metadata": {},
   "outputs": [],
   "source": [
    "import java.util.Map;\n",
    "\n",
    "Map<String, String> m1 = Map.of(\n",
    "    \"a\", \"b\",\n",
    "    \"c\", \"d\"\n",
    ");"
   ]
  },
  {
   "cell_type": "code",
   "execution_count": 2,
   "metadata": {},
   "outputs": [
    {
     "name": "stdout",
     "output_type": "stream",
     "text": [
      "{c=d, a=b}\n"
     ]
    }
   ],
   "source": [
    "System.out.println(m1);"
   ]
  },
  {
   "cell_type": "markdown",
   "metadata": {},
   "source": [
    "The following code snippet in Java 9+ initialize an immutable HashMap \n",
    "with arbitrary number of elements."
   ]
  },
  {
   "cell_type": "code",
   "execution_count": 3,
   "metadata": {},
   "outputs": [],
   "source": [
    "import java.util.Map;\n",
    "import static java.util.Map.entry;    \n",
    "Map<String, String> m2 = Map.ofEntries(\n",
    "    entry(\"a\", \"b\"),\n",
    "    entry(\"c\", \"d\")\n",
    ");"
   ]
  },
  {
   "cell_type": "code",
   "execution_count": 4,
   "metadata": {},
   "outputs": [
    {
     "name": "stdout",
     "output_type": "stream",
     "text": [
      "{c=d, a=b}\n"
     ]
    }
   ],
   "source": [
    "System.out.println(m2);"
   ]
  },
  {
   "cell_type": "markdown",
   "metadata": {},
   "source": [
    "## References\n",
    "\n",
    "- [How to directly initialize a HashMap (in a literal way)?](https://stackoverflow.com/questions/6802483/how-to-directly-initialize-a-hashmap-in-a-literal-way)\n",
    "\n",
    "- [Java Doc - Map.of](https://docs.oracle.com/javase/9/docs/api/java/util/Map.html#of--)\n"
   ]
  },
  {
   "cell_type": "code",
   "execution_count": null,
   "metadata": {},
   "outputs": [],
   "source": []
  }
 ],
 "metadata": {
  "file_extension": ".py",
  "kernelspec": {
   "display_name": "Ganymede 2.1.1 (Java 11)",
   "language": "java",
   "name": "ganymede-2.1.1-java-11"
  },
  "language_info": {
   "file_extension": ".java",
   "mimetype": "text/x-java",
   "name": "java",
   "version": "11"
  },
  "mimetype": "text/x-python",
  "name": "python",
  "npconvert_exporter": "python",
  "pygments_lexer": "ipython3",
  "version": 3
 },
 "nbformat": 4,
 "nbformat_minor": 4
}
