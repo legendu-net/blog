{
 "cells": [
  {
   "cell_type": "markdown",
   "metadata": {},
   "source": [
    "- Author: Benjamin Du\n",
    "- Date: 2022-12-30 17:45:15\n",
    "- Modified: 2022-12-30 17:45:15\n",
    "- Title: Memory Layout of Enum\n",
    "- Slug: memory-layout-of-enum\n",
    "- Category: Computer Science\n",
    "- Tags: Computer Science, programming, Rust, Enum, memory, layout, heap, stack, tagged, union"
   ]
  },
  {
   "cell_type": "markdown",
   "metadata": {},
   "source": [
    "**Things on this page are fragmentary and immature notes/thoughts of the author. Please read with your own judgement!**"
   ]
  },
  {
   "cell_type": "markdown",
   "metadata": {},
   "source": [
    "## Tips & Traps\n",
    "\n",
    "1. The closest thing to describe Rust Enum is tagged Union.\n",
    "    The Rust compiler adds an extra (up to) 8 bytes \n",
    "    to the enum to store the discriminator. \n",
    "    This is used to identify the variant currently stored in the enum.\n",
    "    However, \n",
    "    Rust does NOT guarantee that the memory layout of an enum is always a tag followed by a union.\n",
    "    Instead, \n",
    "    the Rust compiler retains the freedom to optimize the layout of types\n",
    "    so that the code can be more memory efficient.\n",
    "\n",
    "2. The stack size of an enum depends on the largest variant. \n",
    "    For example, \n",
    "    the following enum\n",
    "    \n",
    "        :::Rust\n",
    "        enum MyEnum {\n",
    "            A(Vec<u64>),\n",
    "            B(isize),\n",
    "            C(usize),\n",
    "        }\n",
    "\n",
    "    has the largest variant `Vec<usize>` which takes 24 bytes on stack.\n",
    "    And since there's an extra 8 bytes for the tag,\n",
    "    the total size of `MyEnum` on the stack is 32 bytes.\n",
    "    However, \n",
    "    notice `Result<Vec<u64>, usize>` takes only 24 bytes on the stack \n",
    "    as the Rust compiler is able to optimize away the tag from the memory layout in this case."
   ]
  },
  {
   "cell_type": "code",
   "execution_count": 11,
   "metadata": {},
   "outputs": [],
   "source": [
    ":dep memuse = \"0.2.1\""
   ]
  },
  {
   "cell_type": "code",
   "execution_count": 12,
   "metadata": {},
   "outputs": [],
   "source": [
    "use memuse::DynamicUsage;"
   ]
  },
  {
   "cell_type": "code",
   "execution_count": 19,
   "metadata": {},
   "outputs": [
    {
     "data": {
      "text/plain": [
       "24"
      ]
     },
     "execution_count": 19,
     "metadata": {},
     "output_type": "execute_result"
    }
   ],
   "source": [
    "std::mem::size_of::<Vec<u64>>()"
   ]
  },
  {
   "cell_type": "code",
   "execution_count": 21,
   "metadata": {},
   "outputs": [
    {
     "data": {
      "text/plain": [
       "8"
      ]
     },
     "execution_count": 21,
     "metadata": {},
     "output_type": "execute_result"
    }
   ],
   "source": [
    "std::mem::size_of::<&Vec<u64>>()"
   ]
  },
  {
   "cell_type": "code",
   "execution_count": 22,
   "metadata": {},
   "outputs": [
    {
     "data": {
      "text/plain": [
       "16"
      ]
     },
     "execution_count": 22,
     "metadata": {},
     "output_type": "execute_result"
    }
   ],
   "source": [
    "std::mem::size_of::<&[u64]>()"
   ]
  },
  {
   "cell_type": "code",
   "execution_count": 13,
   "metadata": {},
   "outputs": [
    {
     "data": {
      "text/plain": [
       "24"
      ]
     },
     "execution_count": 13,
     "metadata": {},
     "output_type": "execute_result"
    }
   ],
   "source": [
    "type T1 = Result<Vec<u64>, usize>;\n",
    "std::mem::size_of::<T1>()"
   ]
  },
  {
   "cell_type": "code",
   "execution_count": 16,
   "metadata": {},
   "outputs": [
    {
     "data": {
      "text/plain": [
       "80"
      ]
     },
     "execution_count": 16,
     "metadata": {},
     "output_type": "execute_result"
    }
   ],
   "source": [
    "let v1: T1 = Ok(Vec::with_capacity(10));\n",
    "v1.dynamic_usage()"
   ]
  },
  {
   "cell_type": "code",
   "execution_count": 17,
   "metadata": {},
   "outputs": [
    {
     "data": {
      "text/plain": [
       "0"
      ]
     },
     "execution_count": 17,
     "metadata": {},
     "output_type": "execute_result"
    }
   ],
   "source": [
    "let v2: T1 = Err(100);\n",
    "v2.dynamic_usage()"
   ]
  },
  {
   "cell_type": "code",
   "execution_count": 8,
   "metadata": {},
   "outputs": [
    {
     "data": {
      "text/plain": [
       "24"
      ]
     },
     "execution_count": 8,
     "metadata": {},
     "output_type": "execute_result"
    }
   ],
   "source": [
    "type T2 = Result<String, usize>;\n",
    "std::mem::size_of::<T2>()"
   ]
  },
  {
   "cell_type": "code",
   "execution_count": 24,
   "metadata": {},
   "outputs": [
    {
     "data": {
      "text/plain": [
       "32"
      ]
     },
     "execution_count": 24,
     "metadata": {},
     "output_type": "execute_result"
    }
   ],
   "source": [
    "enum MyEnum {\n",
    "    A(Vec<u64>),\n",
    "    B(isize),\n",
    "    C(usize),\n",
    "}\n",
    "\n",
    "std::mem::size_of::<MyEnum>()"
   ]
  },
  {
   "cell_type": "markdown",
   "metadata": {},
   "source": [
    "## References\n",
    "\n",
    "- [Rust Crate - memuse](https://crates.io/crates/memuse)\n",
    "\n",
    "- [Optimized enum sizes in Rust](https://adeschamps.github.io/enum-size)\n",
    "\n",
    "- [Rust enum-match code generation](https://www.eventhelix.com/rust/rust-to-assembly-enum-match/#:~:text=Memory%20layout%20of%20a%20Rust%20enum&text=The%20total%20memory%20needed%20for,currently%20saved%20in%20the%20enum.&text=Note%3A%20A%2064%2Dbit%20discriminator%20might%20seem%20wasteful%20here.)"
   ]
  },
  {
   "cell_type": "code",
   "execution_count": null,
   "metadata": {},
   "outputs": [],
   "source": []
  }
 ],
 "metadata": {
  "file_extension": ".py",
  "kernelspec": {
   "display_name": "Rust",
   "language": "rust",
   "name": "rust"
  },
  "language_info": {
   "codemirror_mode": "rust",
   "file_extension": ".rs",
   "mimetype": "text/rust",
   "name": "Rust",
   "pygment_lexer": "rust",
   "version": ""
  },
  "mimetype": "text/x-python",
  "name": "python",
  "npconvert_exporter": "python",
  "pygments_lexer": "ipython3",
  "version": 3
 },
 "nbformat": 4,
 "nbformat_minor": 4
}
