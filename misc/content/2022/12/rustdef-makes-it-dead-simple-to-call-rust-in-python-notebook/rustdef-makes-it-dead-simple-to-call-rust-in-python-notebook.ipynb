{
 "cells": [
  {
   "cell_type": "markdown",
   "metadata": {},
   "source": [
    "- Author: Benjamin Du\n",
    "- Date: 2022-12-09 11:11:12\n",
    "- Modified: 2022-12-20 13:03:26\n",
    "- Title: Rustdef Makes It Dead Simple to Call Rust in Python Notebook\n",
    "- Slug: rustdef-makes-it-dead-simple-to-call-rust-in-python-notebook\n",
    "- Category: Computer Science\n",
    "- Tags: Computer Science, programming, rustdef, Rust, Python, notebootimport\n"
   ]
  },
  {
   "cell_type": "markdown",
   "metadata": {},
   "source": [
    "**Things on this page are fragmentary and immature notes/thoughts of the author. Please read with your own judgement!**\n"
   ]
  },
  {
   "cell_type": "markdown",
   "metadata": {},
   "source": [
    "## Tips and Traps\n",
    "\n",
    "1. [rustimport](https://github.com/mityax/rustimport)\n",
    "    is a Python library \n",
    "    which allows you to import Rust source files directly from Python!\n",
    "    It is similar to \n",
    "    [rustdef @ GitHub](https://github.com/emakryo/rustdef)\n",
    "    but targeting use cases in Python code instead of in Jupyter/Lab notebooks.\n",
    "\n"
   ]
  },
  {
   "cell_type": "code",
   "execution_count": null,
   "metadata": {},
   "outputs": [],
   "source": [
    "!pip3 install --user rustdef"
   ]
  },
  {
   "cell_type": "code",
   "execution_count": 16,
   "metadata": {},
   "outputs": [
    {
     "data": {
      "text/plain": [
       "'yes'"
      ]
     },
     "execution_count": 16,
     "metadata": {},
     "output_type": "execute_result"
    }
   ],
   "source": [
    "import os\n",
    "\n",
    "os.environ[\"PIP_USER\"] = \"yes\"\n",
    "os.environ[\"PIP_USER\"]"
   ]
  },
  {
   "cell_type": "code",
   "execution_count": 3,
   "metadata": {},
   "outputs": [
    {
     "name": "stdout",
     "output_type": "stream",
     "text": [
      "load rustdef\n"
     ]
    },
    {
     "data": {
      "application/javascript": [
       "\n",
       "require(['notebook/js/codecell'], function(codecell) {\n",
       "    codecell.CodeCell.options_default.highlight_modes['text/x-rustsrc']\n",
       "        = {'reg':[/^%%rustdef/]} ;\n",
       "    Jupyter.notebook.events.one('kernel_ready.Kernel', function(){\n",
       "        Jupyter.notebook.get_cells().map(function(cell){\n",
       "        if (cell.cell_type == 'code'){ cell.auto_highlight(); } }) ;\n",
       "    });\n",
       "});\n"
      ],
      "text/plain": [
       "<IPython.core.display.Javascript object>"
      ]
     },
     "metadata": {},
     "output_type": "display_data"
    },
    {
     "name": "stderr",
     "output_type": "stream",
     "text": [
      "     Created library package\n",
      "    Updating crates.io index\n",
      "      Adding pyo3 v0.15.1 to dependencies.\n",
      "             Features:\n",
      "             + extension-module\n",
      "             + indoc\n",
      "             + macros\n",
      "             + paste\n",
      "             + pyo3-macros\n",
      "             + unindent\n",
      "             - abi3\n",
      "             - abi3-py310\n",
      "             - abi3-py36\n",
      "             - abi3-py37\n",
      "             - abi3-py38\n",
      "             - abi3-py39\n",
      "             - anyhow\n",
      "             - auto-initialize\n",
      "             - eyre\n",
      "             - hashbrown\n",
      "             - indexmap\n",
      "             - inventory\n",
      "             - multiple-pymethods\n",
      "             - nightly\n",
      "             - num-bigint\n",
      "             - num-complex\n",
      "             - serde\n"
     ]
    }
   ],
   "source": [
    "%load_ext rustdef"
   ]
  },
  {
   "cell_type": "code",
   "execution_count": 4,
   "metadata": {},
   "outputs": [
    {
     "name": "stderr",
     "output_type": "stream",
     "text": [
      "    Updating crates.io index\n",
      "      Adding itertools v0.10.5 to dependencies.\n",
      "             Features:\n",
      "             + use_alloc\n",
      "             + use_std\n"
     ]
    }
   ],
   "source": [
    "%rustdef deps add itertools@0.10.5"
   ]
  },
  {
   "cell_type": "code",
   "execution_count": 5,
   "metadata": {},
   "outputs": [
    {
     "name": "stdout",
     "output_type": "stream",
     "text": [
      "Use previous build\n",
      "Defaulting to user installation because normal site-packages is not writeable\n",
      "Processing /home/dclong/.rustdef/target/wheels/rustdef_cell_724f061b2fc00560a7a7b29e947ce6159286ce5e-0.1.0-cp310-cp310-linux_x86_64.whl\n",
      "Installing collected packages: rustdef-cell-724f061b2fc00560a7a7b29e947ce6159286ce5e\n",
      "Successfully installed rustdef-cell-724f061b2fc00560a7a7b29e947ce6159286ce5e-0.1.0\n"
     ]
    }
   ],
   "source": [
    "%%rustdef --release\n",
    "use itertools::Itertools;\n",
    "\n",
    "#[pyfunction]\n",
    "fn build_combs3() -> [usize; 230300] {\n",
    "    let mut combs = [0; 230300];\n",
    "    let mut i = 0;\n",
    "    (3usize..50).for_each(|j| {\n",
    "        (0..j).combinations(3).for_each(|comb| {\n",
    "            combs[i] = (comb[2] << 8 | comb[1]) << 8 | comb[0];\n",
    "            i += 1;\n",
    "        });\n",
    "    });\n",
    "    combs\n",
    "}\n",
    "\n",
    "#[pyfunction]\n",
    "fn build_combs3_index() -> [usize; 51] {\n",
    "    let mut indexes = [0; 51];\n",
    "    (3usize..50).for_each(|i| {\n",
    "        indexes[i + 1] = indexes[i] + i * (i - 1) * (i - 2) / 6;\n",
    "    });\n",
    "    indexes\n",
    "}"
   ]
  },
  {
   "cell_type": "code",
   "execution_count": 6,
   "metadata": {},
   "outputs": [],
   "source": [
    "combs3 = build_combs3()"
   ]
  },
  {
   "cell_type": "code",
   "execution_count": 7,
   "metadata": {},
   "outputs": [
    {
     "data": {
      "text/plain": [
       "230300"
      ]
     },
     "execution_count": 7,
     "metadata": {},
     "output_type": "execute_result"
    }
   ],
   "source": [
    "len(combs3)"
   ]
  },
  {
   "cell_type": "code",
   "execution_count": 8,
   "metadata": {},
   "outputs": [
    {
     "data": {
      "text/plain": [
       "[131328, 131328, 196864, 197120, 197121]"
      ]
     },
     "execution_count": 8,
     "metadata": {},
     "output_type": "execute_result"
    }
   ],
   "source": [
    "combs3[:5]"
   ]
  },
  {
   "cell_type": "markdown",
   "metadata": {},
   "source": [
    "## References\n",
    "\n",
    "- [rustdef @ GitHub](https://github.com/emakryo/rustdef)\n",
    "\n",
    "- [rustimport](https://github.com/mityax/rustimport)"
   ]
  },
  {
   "cell_type": "code",
   "execution_count": null,
   "metadata": {},
   "outputs": [],
   "source": []
  }
 ],
 "metadata": {
  "file_extension": ".py",
  "kernelspec": {
   "display_name": "Python 3 (ipykernel)",
   "language": "python",
   "name": "python3"
  },
  "language_info": {
   "codemirror_mode": {
    "name": "ipython",
    "version": 3
   },
   "file_extension": ".py",
   "mimetype": "text/x-python",
   "name": "python",
   "nbconvert_exporter": "python",
   "pygments_lexer": "ipython3",
   "version": "3.10.6"
  },
  "mimetype": "text/x-python",
  "name": "python",
  "npconvert_exporter": "python",
  "pygments_lexer": "ipython3",
  "version": 3,
  "vscode": {
   "interpreter": {
    "hash": "e7370f93d1d0cde622a1f8e1c04877d8463912d04d973331ad4851f04de6915a"
   }
  }
 },
 "nbformat": 4,
 "nbformat_minor": 4
}
