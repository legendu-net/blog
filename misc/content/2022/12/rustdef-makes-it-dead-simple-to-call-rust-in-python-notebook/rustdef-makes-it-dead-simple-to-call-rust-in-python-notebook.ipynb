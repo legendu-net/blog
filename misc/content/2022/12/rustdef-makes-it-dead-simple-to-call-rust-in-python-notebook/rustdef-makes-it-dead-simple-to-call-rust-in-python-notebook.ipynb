{
 "cells": [
  {
   "cell_type": "markdown",
   "metadata": {},
   "source": [
    "- Author: Benjamin Du\n",
    "- Date: 2022-12-09 11:11:12\n",
    "- Modified: 2022-12-20 13:03:26\n",
    "- Title: Rustdef Makes It Dead Simple to Call Rust in Python Notebook\n",
    "- Slug: rustdef-makes-it-dead-simple-to-call-rust-in-python-notebook\n",
    "- Category: Computer Science\n",
    "- Tags: Computer Science, programming, rustdef, Rust, Python, notebook\n"
   ]
  },
  {
   "cell_type": "markdown",
   "metadata": {},
   "source": [
    "**Things on this page are fragmentary and immature notes/thoughts of the author. Please read with your own judgement!**\n"
   ]
  },
  {
   "cell_type": "code",
   "execution_count": 16,
   "metadata": {},
   "outputs": [
    {
     "data": {
      "text/plain": [
       "'yes'"
      ]
     },
     "execution_count": 16,
     "metadata": {},
     "output_type": "execute_result"
    }
   ],
   "source": [
    "import os\n",
    "\n",
    "os.environ[\"PIP_USER\"] = \"yes\"\n",
    "os.environ[\"PIP_USER\"]"
   ]
  },
  {
   "cell_type": "code",
   "execution_count": 17,
   "metadata": {},
   "outputs": [
    {
     "name": "stdout",
     "output_type": "stream",
     "text": [
      "The rustdef extension is already loaded. To reload it, use:\n",
      "  %reload_ext rustdef\n"
     ]
    }
   ],
   "source": [
    "%load_ext rustdef"
   ]
  },
  {
   "cell_type": "code",
   "execution_count": 20,
   "metadata": {},
   "outputs": [
    {
     "name": "stdout",
     "output_type": "stream",
     "text": [
      "Building..\n",
      "🔗 Found pyo3 bindings\n",
      "🐍 Found CPython 3.10 at /usr/bin/python3\n",
      "\u001b[0m\u001b[0m\u001b[1m\u001b[32m   Compiling\u001b[0m proc-macro2 v1.0.49\n",
      "\u001b[0m\u001b[0m\u001b[1m\u001b[32m   Compiling\u001b[0m quote v1.0.23\n",
      "\u001b[0m\u001b[0m\u001b[1m\u001b[32m   Compiling\u001b[0m pyo3-build-config v0.15.2\n",
      "\u001b[0m\u001b[0m\u001b[1m\u001b[32m   Compiling\u001b[0m syn v1.0.107\n",
      "\u001b[0m\u001b[0m\u001b[1m\u001b[32m   Compiling\u001b[0m proc-macro-hack v0.5.20+deprecated\n",
      "\u001b[0m\u001b[0m\u001b[1m\u001b[32m   Compiling\u001b[0m libc v0.2.138\n",
      "\u001b[0m\u001b[0m\u001b[1m\u001b[32m   Compiling\u001b[0m parking_lot_core v0.8.6\n",
      "\u001b[0m\u001b[0m\u001b[1m\u001b[32m   Compiling\u001b[0m lock_api v0.4.9\n",
      "\u001b[K\u001b[0m\u001b[0m\u001b[1m\u001b[32m   Compiling\u001b[0m pyo3 v0.15.2====>           ] 27/44: libc, pyo3-build-config, ...\u001b[0m\u001b[0m\u001b[1m\u001b[36m    Building\u001b[0m [===========>               ] 20/44: pyo3-build-config(build),...\n",
      "\u001b[K\u001b[0m\u001b[0m\u001b[1m\u001b[32m   Compiling\u001b[0m paste-impl v0.1.18>         ] 30/44: syn, pyo3(build.rs), park...\n",
      "\u001b[K\u001b[0m\u001b[0m\u001b[1m\u001b[32m   Compiling\u001b[0m parking_lot v0.11.2      ] 31/44: syn, paste-impl, pyo3(bui...\n",
      "\u001b[K\u001b[0m\u001b[0m\u001b[1m\u001b[32m   Compiling\u001b[0m paste v0.1.18=======>       ] 34/44: syn, parking_lot, paste-impl\n",
      "\u001b[K\u001b[0m\u001b[0m\u001b[1m\u001b[32m   Compiling\u001b[0m pyo3-macros-backend v0.15.237/44: syn                            \n",
      "\u001b[K\u001b[0m\u001b[0m\u001b[1m\u001b[32m   Compiling\u001b[0m indoc-impl v0.3.6=====>     ] 37/44: syn, pyo3-macros-backend    \n",
      "\u001b[K\u001b[0m\u001b[0m\u001b[1m\u001b[32m   Compiling\u001b[0m indoc v0.3.6===========>    ] 38/44: indoc-impl, pyo3-macros-b...\n",
      "\u001b[K\u001b[0m\u001b[0m\u001b[1m\u001b[32m   Compiling\u001b[0m pyo3-macros v0.15.2=====>   ] 40/44: pyo3-macros-backend         \n",
      "\u001b[K\u001b[0m\u001b[0m\u001b[1m\u001b[32m   Compiling\u001b[0m rustdef_cell_e84612d75f253e09f3dc350876180877282f5b6b v0.1.0 (/home/gitpod/.rustdef/rustdef_cell_e84612d75f253e09f3dc350876180877282f5b6b)\n",
      "\u001b[K\u001b[0m\u001b[0m\u001b[1m\u001b[32m    Finished\u001b[0m release [optimized] target(s) in 11.19sstdef_cell_e84612d75f25...\n",
      "📦 Built wheel for CPython 3.10 to /home/gitpod/.rustdef/target/wheels/rustdef_cell_e84612d75f253e09f3dc350876180877282f5b6b-0.1.0-cp310-cp310-linux_x86_64.whl\n",
      "Processing /home/gitpod/.rustdef/target/wheels/rustdef_cell_e84612d75f253e09f3dc350876180877282f5b6b-0.1.0-cp310-cp310-linux_x86_64.whl\n",
      "Installing collected packages: rustdef-cell-e84612d75f253e09f3dc350876180877282f5b6b\n",
      "Successfully installed rustdef-cell-e84612d75f253e09f3dc350876180877282f5b6b-0.1.0\n"
     ]
    }
   ],
   "source": [
    "%%rustdef --release\n",
    "\n",
    "#[pyfunction]\n",
    "fn sum_str(a: usize, b: usize) -> String {\n",
    "    (a + b).to_string()\n",
    "}"
   ]
  },
  {
   "cell_type": "code",
   "execution_count": 21,
   "metadata": {},
   "outputs": [
    {
     "data": {
      "text/plain": [
       "'4'"
      ]
     },
     "execution_count": 21,
     "metadata": {},
     "output_type": "execute_result"
    }
   ],
   "source": [
    "sum_str(1, 3)"
   ]
  },
  {
   "cell_type": "markdown",
   "metadata": {},
   "source": [
    "## References\n",
    "\n",
    "[rustdef @ GitHub](https://github.com/emakryo/rustdef)"
   ]
  }
 ],
 "metadata": {
  "file_extension": ".py",
  "kernelspec": {
   "display_name": "Python 3 (ipykernel)",
   "language": "python",
   "name": "python3"
  },
  "language_info": {
   "codemirror_mode": {
    "name": "ipython",
    "version": 3
   },
   "file_extension": ".py",
   "mimetype": "text/x-python",
   "name": "python",
   "nbconvert_exporter": "python",
   "pygments_lexer": "ipython3",
   "version": "3.10.6"
  },
  "mimetype": "text/x-python",
  "name": "python",
  "npconvert_exporter": "python",
  "pygments_lexer": "ipython3",
  "version": 3,
  "vscode": {
   "interpreter": {
    "hash": "e7370f93d1d0cde622a1f8e1c04877d8463912d04d973331ad4851f04de6915a"
   }
  }
 },
 "nbformat": 4,
 "nbformat_minor": 4
}
