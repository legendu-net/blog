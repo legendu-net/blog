{
 "cells": [
  {
   "cell_type": "markdown",
   "metadata": {},
   "source": [
    "- Author: Benjamin Du\n",
    "- Date: 2023-01-11 18:21:44\n",
    "- Modified: 2023-01-11 18:21:44\n",
    "- Title: Memory Layout in Rust\n",
    "- Slug: memory-layout-in-rust\n",
    "- Category: Computer Science\n",
    "- Tags: Computer Science, programming, Rust, size, type, memory, layout, offset, alignment"
   ]
  },
  {
   "cell_type": "markdown",
   "metadata": {},
   "source": [
    "**Things on this page are fragmentary and immature notes/thoughts of the author. Please read with your own judgement!**"
   ]
  },
  {
   "cell_type": "markdown",
   "metadata": {},
   "source": [
    "## Tips and Traps\n",
    "\n",
    "1. The layout of a type is its size, alignment, and the relative offsets of its fields.\n",
    "\n",
    "2. The function\n",
    "    [std::mem::align_of_val](https://doc.rust-lang.org/std/mem/fn.align_of_val.html)\n",
    "    returns the ABI-required minimum alignment \n",
    "    of the type of the value that val points to in bytes.\n",
    "    Every reference to a value of the type T must be a multiple of this number.\n",
    "    \n",
    "3. The function\n",
    "    [std::mem:size_of](https://doc.rust-lang.org/std/mem/fn.size_of.html)\n",
    "    returns the size of a type in bytes."
   ]
  },
  {
   "cell_type": "code",
   "execution_count": 10,
   "metadata": {},
   "outputs": [
    {
     "data": {
      "text/plain": [
       "8"
      ]
     },
     "execution_count": 10,
     "metadata": {},
     "output_type": "execute_result"
    }
   ],
   "source": [
    "struct MyStruct{\n",
    "    r: u32,\n",
    "    s0: u8,\n",
    "    s1: u8,\n",
    "    s2: u8,\n",
    "    flag: u8,\n",
    "}\n",
    "\n",
    "std::mem::size_of::<MyStruct>()"
   ]
  },
  {
   "cell_type": "markdown",
   "metadata": {},
   "source": [
    "## References\n",
    "\n",
    "- [Type Layout](https://doc.rust-lang.org/reference/type-layout.html)\n",
    "\n",
    "- [Layout of structs and tuples](https://rust-lang.github.io/unsafe-code-guidelines/layout/structs-and-tuples.html#tuple-types)"
   ]
  },
  {
   "cell_type": "code",
   "execution_count": null,
   "metadata": {},
   "outputs": [],
   "source": []
  }
 ],
 "metadata": {
  "file_extension": ".py",
  "kernelspec": {
   "display_name": "Python 3 (ipykernel)",
   "language": "python",
   "name": "python3"
  },
  "language_info": {
   "codemirror_mode": {
    "name": "ipython",
    "version": 3
   },
   "file_extension": ".py",
   "mimetype": "text/x-python",
   "name": "python",
   "nbconvert_exporter": "python",
   "pygments_lexer": "ipython3",
   "version": "3.10.6"
  },
  "mimetype": "text/x-python",
  "name": "python",
  "npconvert_exporter": "python",
  "pygments_lexer": "ipython3",
  "version": 3
 },
 "nbformat": 4,
 "nbformat_minor": 4
}
