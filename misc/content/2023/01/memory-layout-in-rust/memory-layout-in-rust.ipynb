{
 "cells": [
  {
   "cell_type": "markdown",
   "metadata": {},
   "source": [
    "- Author: Benjamin Du\n",
    "- Date: 2023-01-11 18:21:44\n",
    "- Modified: 2023-01-11 18:21:44\n",
    "- Title: Memory Layout in Rust\n",
    "- Slug: memory-layout-in-rust\n",
    "- Category: Computer Science\n",
    "- Tags: Computer Science, programming, Rust, size, type, memory, layout, offset, alignment, static, stack, heap"
   ]
  },
  {
   "cell_type": "markdown",
   "metadata": {},
   "source": [
    "**Things on this page are fragmentary and immature notes/thoughts of the author. Please read with your own judgement!**"
   ]
  },
  {
   "cell_type": "markdown",
   "metadata": {},
   "source": [
    "## Different Types of Memory in Rust\n",
    "\n",
    "Rust has 3 different types of memory: static memory, stack memory and heap memory. \n",
    "\n",
    "1.  Static variables live in static memory\n",
    "    and is determined at compile time. \n",
    "    It is suggested that you define large data variables as static\n",
    "    so that they live in the static memory instead of stack memory\n",
    "    to avoid stack overflow problems.\n",
    "    Of course, \n",
    "    another way is to put those variables into heap memory \n",
    "    (but at the cost of slight performance loss).\n",
    "    \n",
    "2. Function parameters, local variables, arrays, etc. live in stack memory\n",
    "    is determined at compile time.\n",
    "\n",
    "3. Heap memory is managed at runtime.\n",
    "    When people talk about memory management,\n",
    "    they mostly mean managing heap memory."
   ]
  },
  {
   "cell_type": "markdown",
   "metadata": {},
   "source": [
    "## Tips and Traps on Stack Memory\n",
    "\n",
    "1. The layout of a type is its size, alignment, and the relative offsets of its fields.\n",
    "\n",
    "2. The function\n",
    "    [std::mem::align_of_val](https://doc.rust-lang.org/std/mem/fn.align_of_val.html)\n",
    "    returns the ABI-required minimum alignment \n",
    "    of the type of the value that val points to in bytes.\n",
    "    Every reference to a value of the type T must be a multiple of this number.\n",
    "    \n",
    "3. The function\n",
    "    [std::mem:size_of](https://doc.rust-lang.org/std/mem/fn.size_of.html)\n",
    "    returns the size of a type in bytes.\n",
    "    \n",
    "4. Stack overflow issues are often caused by\n",
    "    - infinite (or too deep) recursive functions\n",
    "    - too large array on stack"
   ]
  },
  {
   "cell_type": "code",
   "execution_count": 10,
   "metadata": {},
   "outputs": [
    {
     "data": {
      "text/plain": [
       "8"
      ]
     },
     "execution_count": 10,
     "metadata": {},
     "output_type": "execute_result"
    }
   ],
   "source": [
    "struct MyStruct{\n",
    "    r: u32,\n",
    "    s0: u8,\n",
    "    s1: u8,\n",
    "    s2: u8,\n",
    "    flag: u8,\n",
    "}\n",
    "\n",
    "std::mem::size_of::<MyStruct>()"
   ]
  },
  {
   "cell_type": "markdown",
   "metadata": {},
   "source": [
    "## Functions to Work with Rust Memory"
   ]
  },
  {
   "cell_type": "code",
   "execution_count": null,
   "metadata": {},
   "outputs": [],
   "source": [
    "std::mem::MaybeUninit\n",
    "https://doc.rust-lang.org/stable/std/mem/union.MaybeUninit.html\n",
    "\n",
    "https://doc.rust-lang.org/nomicon/unchecked-uninit.html\n",
    "Unchecked Uninitialized Memory\n"
   ]
  },
  {
   "cell_type": "code",
   "execution_count": null,
   "metadata": {},
   "outputs": [],
   "source": [
    "std::ptr::copy\n",
    "\n",
    "std::mem::copy\n",
    "\n",
    "std::mem::swap"
   ]
  },
  {
   "cell_type": "markdown",
   "metadata": {},
   "source": [
    "## References\n",
    "\n",
    "Stack, Heap, and Static Memory\n",
    "https://www.youtube.com/watch?v=NnLdGKoz1ls\n",
    "\n",
    "- [Type Layout](https://doc.rust-lang.org/reference/type-layout.html)\n",
    "\n",
    "- [Layout of structs and tuples](https://rust-lang.github.io/unsafe-code-guidelines/layout/structs-and-tuples.html#tuple-types)"
   ]
  },
  {
   "cell_type": "code",
   "execution_count": null,
   "metadata": {},
   "outputs": [],
   "source": []
  }
 ],
 "metadata": {
  "file_extension": ".py",
  "kernelspec": {
   "display_name": "Python 3 (ipykernel)",
   "language": "python",
   "name": "python3"
  },
  "language_info": {
   "codemirror_mode": {
    "name": "ipython",
    "version": 3
   },
   "file_extension": ".py",
   "mimetype": "text/x-python",
   "name": "python",
   "nbconvert_exporter": "python",
   "pygments_lexer": "ipython3",
   "version": "3.10.6"
  },
  "mimetype": "text/x-python",
  "name": "python",
  "npconvert_exporter": "python",
  "pygments_lexer": "ipython3",
  "version": 3
 },
 "nbformat": 4,
 "nbformat_minor": 4
}
