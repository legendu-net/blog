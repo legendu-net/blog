{
 "cells": [
  {
   "cell_type": "markdown",
   "metadata": {},
   "source": [
    "- Author: Benjamin Du\n",
    "- Date: 2023-01-01 18:28:47\n",
    "- Modified: 2023-01-01 18:28:47\n",
    "- Title: Read CSV Files Using Polars in Rust\n",
    "- Slug: read-csv-files-using-polars-in-rust\n",
    "- Category: Computer Science\n",
    "- Tags: Computer Science, programming, Rust, Polars, CSV, CsvReader, LazyCsvReader, DataFrame, IO"
   ]
  },
  {
   "cell_type": "markdown",
   "metadata": {},
   "source": [
    "**Things on this page are fragmentary and immature notes/thoughts of the author. Please read with your own judgement!**"
   ]
  },
  {
   "cell_type": "markdown",
   "metadata": {},
   "source": [
    "## Tips and Traps\n",
    "\n",
    "1. LazyCsvReader is more limited compared to CsvReader.\n",
    "    CsvReader support specifying schema \n",
    "    while LazyCsvReader does not.\n",
    "\n",
    "2. CsvReader does not support parsing columns into UInt8, Int8, UInt16 or Int16 at this time\n",
    "    (even though the Python API `polars::read_csv` supports those types).\n",
    "    Please refer to \n",
    "    [this issue](https://github.com/pola-rs/polars/issues/5214)\n",
    "    for more discussions.\n",
    "\n",
    "3. An empty filed is parsed as `null` instead of an empty string by default.\n",
    "    And there is no way to change this behavior at this time.\n",
    "    Please refer to \n",
    "    [this issue](https://github.com/pola-rs/polars/issues/5984)\n",
    "    for more discussions.\n",
    "    Characters other than empty are NOT parsed as `null` by default.\n",
    "    However,\n",
    "    parsing special characters into `null` is supported via the API `CsvReader::with_null_values`."
   ]
  },
  {
   "cell_type": "code",
   "execution_count": 2,
   "metadata": {},
   "outputs": [
    {
     "data": {
      "text/plain": [
       "Timing: true\n",
       "sccache: true\n"
      ]
     },
     "execution_count": 2,
     "metadata": {},
     "output_type": "execute_result"
    },
    {
     "data": {
      "text/html": [
       "<span style=\"color: rgba(0,0,0,0.4);\">Took 470264ms</span>"
      ]
     },
     "execution_count": 2,
     "metadata": {},
     "output_type": "execute_result"
    }
   ],
   "source": [
    ":timing\n",
    ":sccache 1\n",
    ":dep polars = { version = \"0.26.1\", features = [\"lazy\", \"parquet\"] }"
   ]
  },
  {
   "cell_type": "code",
   "execution_count": 3,
   "metadata": {},
   "outputs": [
    {
     "data": {
      "text/html": [
       "<span style=\"color: rgba(0,0,0,0.4);\">Took 460ms</span>"
      ]
     },
     "execution_count": 3,
     "metadata": {},
     "output_type": "execute_result"
    }
   ],
   "source": [
    "use polars::df;\n",
    "use polars::prelude::*;\n",
    "use polars::datatypes::DataType;\n",
    "use std::fs::File;\n",
    "use std::io::BufWriter;\n",
    "use std::io::Write;"
   ]
  },
  {
   "cell_type": "markdown",
   "metadata": {},
   "source": [
    "## CsvReader and DataFrame"
   ]
  },
  {
   "cell_type": "code",
   "execution_count": 4,
   "metadata": {},
   "outputs": [
    {
     "data": {
      "text/plain": [
       "Schema:\n",
       "name: column_1, data type: UInt32\n",
       "name: column_2, data type: UInt32\n",
       "name: column_3, data type: UInt32\n",
       "name: column_4, data type: UInt32\n",
       "name: column_5, data type: Utf8\n"
      ]
     },
     "execution_count": 4,
     "metadata": {},
     "output_type": "execute_result"
    },
    {
     "data": {
      "text/html": [
       "<span style=\"color: rgba(0,0,0,0.4);\">Took 8541ms</span>"
      ]
     },
     "execution_count": 4,
     "metadata": {},
     "output_type": "execute_result"
    }
   ],
   "source": [
    "let mut s = Schema::new();\n",
    "s.with_column(\"column_1\".into(), DataType::UInt32);\n",
    "s.with_column(\"column_2\".into(), DataType::UInt32);\n",
    "s.with_column(\"column_3\".into(), DataType::UInt32);\n",
    "s.with_column(\"column_4\".into(), DataType::UInt32);\n",
    "s.with_column(\"column_5\".into(), DataType::Utf8);\n",
    "s"
   ]
  },
  {
   "cell_type": "code",
   "execution_count": 13,
   "metadata": {},
   "outputs": [
    {
     "data": {
      "text/plain": [
       "shape: (10, 5)\n",
       "┌──────────┬──────────┬──────────┬──────────┬────────────────┐\n",
       "│ column_1 ┆ column_2 ┆ column_3 ┆ column_4 ┆ column_5       │\n",
       "│ ---      ┆ ---      ┆ ---      ┆ ---      ┆ ---            │\n",
       "│ u32      ┆ u32      ┆ u32      ┆ u32      ┆ str            │\n",
       "╞══════════╪══════════╪══════════╪══════════╪════════════════╡\n",
       "│ 0        ┆ 1        ┆ 2        ┆ 0        ┆ 56229711839232 │\n",
       "├╌╌╌╌╌╌╌╌╌╌┼╌╌╌╌╌╌╌╌╌╌┼╌╌╌╌╌╌╌╌╌╌┼╌╌╌╌╌╌╌╌╌╌┼╌╌╌╌╌╌╌╌╌╌╌╌╌╌╌╌┤\n",
       "│ 0        ┆ 1        ┆ 2        ┆ 1        ┆ 57324928499712 │\n",
       "├╌╌╌╌╌╌╌╌╌╌┼╌╌╌╌╌╌╌╌╌╌┼╌╌╌╌╌╌╌╌╌╌┼╌╌╌╌╌╌╌╌╌╌┼╌╌╌╌╌╌╌╌╌╌╌╌╌╌╌╌┤\n",
       "│ 0        ┆ 1        ┆ 2        ┆ 2        ┆ 37744977903616 │\n",
       "├╌╌╌╌╌╌╌╌╌╌┼╌╌╌╌╌╌╌╌╌╌┼╌╌╌╌╌╌╌╌╌╌┼╌╌╌╌╌╌╌╌╌╌┼╌╌╌╌╌╌╌╌╌╌╌╌╌╌╌╌┤\n",
       "│ 0        ┆ 1        ┆ 2        ┆ 3        ┆ NA             │\n",
       "├╌╌╌╌╌╌╌╌╌╌┼╌╌╌╌╌╌╌╌╌╌┼╌╌╌╌╌╌╌╌╌╌┼╌╌╌╌╌╌╌╌╌╌┼╌╌╌╌╌╌╌╌╌╌╌╌╌╌╌╌┤\n",
       "│ ...      ┆ ...      ┆ ...      ┆ ...      ┆ ...            │\n",
       "├╌╌╌╌╌╌╌╌╌╌┼╌╌╌╌╌╌╌╌╌╌┼╌╌╌╌╌╌╌╌╌╌┼╌╌╌╌╌╌╌╌╌╌┼╌╌╌╌╌╌╌╌╌╌╌╌╌╌╌╌┤\n",
       "│ 0        ┆ 1        ┆ 2        ┆ 6        ┆ 38019855810560 │\n",
       "├╌╌╌╌╌╌╌╌╌╌┼╌╌╌╌╌╌╌╌╌╌┼╌╌╌╌╌╌╌╌╌╌┼╌╌╌╌╌╌╌╌╌╌┼╌╌╌╌╌╌╌╌╌╌╌╌╌╌╌╌┤\n",
       "│ 0        ┆ 1        ┆ 2        ┆ 7        ┆ null           │\n",
       "├╌╌╌╌╌╌╌╌╌╌┼╌╌╌╌╌╌╌╌╌╌┼╌╌╌╌╌╌╌╌╌╌┼╌╌╌╌╌╌╌╌╌╌┼╌╌╌╌╌╌╌╌╌╌╌╌╌╌╌╌┤\n",
       "│ 0        ┆ 1        ┆ 2        ┆ 8        ┆ 38157294764032 │\n",
       "├╌╌╌╌╌╌╌╌╌╌┼╌╌╌╌╌╌╌╌╌╌┼╌╌╌╌╌╌╌╌╌╌┼╌╌╌╌╌╌╌╌╌╌┼╌╌╌╌╌╌╌╌╌╌╌╌╌╌╌╌┤\n",
       "│ 0        ┆ 1        ┆ 2        ┆ 9        ┆ 38226014240768 │\n",
       "└──────────┴──────────┴──────────┴──────────┴────────────────┘"
      ]
     },
     "execution_count": 13,
     "metadata": {},
     "output_type": "execute_result"
    },
    {
     "data": {
      "text/html": [
       "<span style=\"color: rgba(0,0,0,0.4);\">Took 3993ms</span>"
      ]
     },
     "execution_count": 13,
     "metadata": {},
     "output_type": "execute_result"
    }
   ],
   "source": [
    "let df = CsvReader::from_path(\"rank53_j0_j0.csv\")?\n",
    "            .has_header(false)\n",
    "            .with_dtypes(Some(&s))\n",
    "            .with_null_values(None)\n",
    "            .finish()?;\n",
    "df"
   ]
  },
  {
   "cell_type": "code",
   "execution_count": 14,
   "metadata": {},
   "outputs": [
    {
     "data": {
      "text/plain": [
       "shape: (0, 5)\n",
       "┌──────────┬──────────┬──────────┬──────────┬──────────┐\n",
       "│ column_1 ┆ column_2 ┆ column_3 ┆ column_4 ┆ column_5 │\n",
       "│ ---      ┆ ---      ┆ ---      ┆ ---      ┆ ---      │\n",
       "│ u32      ┆ u32      ┆ u32      ┆ u32      ┆ str      │\n",
       "╞══════════╪══════════╪══════════╪══════════╪══════════╡\n",
       "└──────────┴──────────┴──────────┴──────────┴──────────┘"
      ]
     },
     "execution_count": 14,
     "metadata": {},
     "output_type": "execute_result"
    },
    {
     "data": {
      "text/html": [
       "<span style=\"color: rgba(0,0,0,0.4);\">Took 2995ms</span>"
      ]
     },
     "execution_count": 14,
     "metadata": {},
     "output_type": "execute_result"
    }
   ],
   "source": [
    "df.filter(\n",
    "    &df.column(\"column_5\")?.equal(\"\")?\n",
    ")?"
   ]
  },
  {
   "cell_type": "code",
   "execution_count": 16,
   "metadata": {},
   "outputs": [
    {
     "data": {
      "text/plain": [
       "shape: (1, 5)\n",
       "┌──────────┬──────────┬──────────┬──────────┬──────────┐\n",
       "│ column_1 ┆ column_2 ┆ column_3 ┆ column_4 ┆ column_5 │\n",
       "│ ---      ┆ ---      ┆ ---      ┆ ---      ┆ ---      │\n",
       "│ u32      ┆ u32      ┆ u32      ┆ u32      ┆ str      │\n",
       "╞══════════╪══════════╪══════════╪══════════╪══════════╡\n",
       "│ 0        ┆ 1        ┆ 2        ┆ 3        ┆ NA       │\n",
       "└──────────┴──────────┴──────────┴──────────┴──────────┘"
      ]
     },
     "execution_count": 16,
     "metadata": {},
     "output_type": "execute_result"
    },
    {
     "data": {
      "text/html": [
       "<span style=\"color: rgba(0,0,0,0.4);\">Took 2476ms</span>"
      ]
     },
     "execution_count": 16,
     "metadata": {},
     "output_type": "execute_result"
    }
   ],
   "source": [
    "df.filter(\n",
    "    &df.column(\"column_5\")?.equal(\"NA\")?\n",
    ")?"
   ]
  },
  {
   "cell_type": "code",
   "execution_count": 15,
   "metadata": {},
   "outputs": [
    {
     "data": {
      "text/plain": [
       "shape: (1, 5)\n",
       "┌──────────┬──────────┬──────────┬──────────┬──────────┐\n",
       "│ column_1 ┆ column_2 ┆ column_3 ┆ column_4 ┆ column_5 │\n",
       "│ ---      ┆ ---      ┆ ---      ┆ ---      ┆ ---      │\n",
       "│ u32      ┆ u32      ┆ u32      ┆ u32      ┆ str      │\n",
       "╞══════════╪══════════╪══════════╪══════════╪══════════╡\n",
       "│ 0        ┆ 1        ┆ 2        ┆ 7        ┆ null     │\n",
       "└──────────┴──────────┴──────────┴──────────┴──────────┘"
      ]
     },
     "execution_count": 15,
     "metadata": {},
     "output_type": "execute_result"
    },
    {
     "data": {
      "text/html": [
       "<span style=\"color: rgba(0,0,0,0.4);\">Took 2839ms</span>"
      ]
     },
     "execution_count": 15,
     "metadata": {},
     "output_type": "execute_result"
    }
   ],
   "source": [
    "df.filter(\n",
    "    &df.column(\"column_5\")?.is_null()\n",
    ")?"
   ]
  },
  {
   "cell_type": "markdown",
   "metadata": {},
   "source": [
    "## LazyCsvReader and LazyFrame"
   ]
  },
  {
   "cell_type": "code",
   "execution_count": 20,
   "metadata": {},
   "outputs": [
    {
     "data": {
      "text/plain": [
       "shape: (10, 5)\n",
       "┌──────────┬──────────┬──────────┬──────────┬────────────────┐\n",
       "│ column_1 ┆ column_2 ┆ column_3 ┆ column_4 ┆ column_5       │\n",
       "│ ---      ┆ ---      ┆ ---      ┆ ---      ┆ ---            │\n",
       "│ i64      ┆ i64      ┆ i64      ┆ i64      ┆ str            │\n",
       "╞══════════╪══════════╪══════════╪══════════╪════════════════╡\n",
       "│ 0        ┆ 1        ┆ 2        ┆ 0        ┆ 56229711839232 │\n",
       "├╌╌╌╌╌╌╌╌╌╌┼╌╌╌╌╌╌╌╌╌╌┼╌╌╌╌╌╌╌╌╌╌┼╌╌╌╌╌╌╌╌╌╌┼╌╌╌╌╌╌╌╌╌╌╌╌╌╌╌╌┤\n",
       "│ 0        ┆ 1        ┆ 2        ┆ 1        ┆ 57324928499712 │\n",
       "├╌╌╌╌╌╌╌╌╌╌┼╌╌╌╌╌╌╌╌╌╌┼╌╌╌╌╌╌╌╌╌╌┼╌╌╌╌╌╌╌╌╌╌┼╌╌╌╌╌╌╌╌╌╌╌╌╌╌╌╌┤\n",
       "│ 0        ┆ 1        ┆ 2        ┆ 2        ┆ 37744977903616 │\n",
       "├╌╌╌╌╌╌╌╌╌╌┼╌╌╌╌╌╌╌╌╌╌┼╌╌╌╌╌╌╌╌╌╌┼╌╌╌╌╌╌╌╌╌╌┼╌╌╌╌╌╌╌╌╌╌╌╌╌╌╌╌┤\n",
       "│ 0        ┆ 1        ┆ 2        ┆ 3        ┆ NA             │\n",
       "├╌╌╌╌╌╌╌╌╌╌┼╌╌╌╌╌╌╌╌╌╌┼╌╌╌╌╌╌╌╌╌╌┼╌╌╌╌╌╌╌╌╌╌┼╌╌╌╌╌╌╌╌╌╌╌╌╌╌╌╌┤\n",
       "│ ...      ┆ ...      ┆ ...      ┆ ...      ┆ ...            │\n",
       "├╌╌╌╌╌╌╌╌╌╌┼╌╌╌╌╌╌╌╌╌╌┼╌╌╌╌╌╌╌╌╌╌┼╌╌╌╌╌╌╌╌╌╌┼╌╌╌╌╌╌╌╌╌╌╌╌╌╌╌╌┤\n",
       "│ 0        ┆ 1        ┆ 2        ┆ 6        ┆ 38019855810560 │\n",
       "├╌╌╌╌╌╌╌╌╌╌┼╌╌╌╌╌╌╌╌╌╌┼╌╌╌╌╌╌╌╌╌╌┼╌╌╌╌╌╌╌╌╌╌┼╌╌╌╌╌╌╌╌╌╌╌╌╌╌╌╌┤\n",
       "│ 0        ┆ 1        ┆ 2        ┆ 7        ┆ null           │\n",
       "├╌╌╌╌╌╌╌╌╌╌┼╌╌╌╌╌╌╌╌╌╌┼╌╌╌╌╌╌╌╌╌╌┼╌╌╌╌╌╌╌╌╌╌┼╌╌╌╌╌╌╌╌╌╌╌╌╌╌╌╌┤\n",
       "│ 0        ┆ 1        ┆ 2        ┆ 8        ┆ 38157294764032 │\n",
       "├╌╌╌╌╌╌╌╌╌╌┼╌╌╌╌╌╌╌╌╌╌┼╌╌╌╌╌╌╌╌╌╌┼╌╌╌╌╌╌╌╌╌╌┼╌╌╌╌╌╌╌╌╌╌╌╌╌╌╌╌┤\n",
       "│ 0        ┆ 1        ┆ 2        ┆ 9        ┆ 38226014240768 │\n",
       "└──────────┴──────────┴──────────┴──────────┴────────────────┘"
      ]
     },
     "execution_count": 20,
     "metadata": {},
     "output_type": "execute_result"
    },
    {
     "data": {
      "text/html": [
       "<span style=\"color: rgba(0,0,0,0.4);\">Took 3285ms</span>"
      ]
     },
     "execution_count": 20,
     "metadata": {},
     "output_type": "execute_result"
    }
   ],
   "source": [
    "let df: LazyFrame = LazyCsvReader::new(\"rank53_j0_j0.csv\")\n",
    "            .has_header(false)\n",
    "            .with_null_values(None)\n",
    "            .finish()?;\n",
    "df.collect()?"
   ]
  },
  {
   "cell_type": "code",
   "execution_count": null,
   "metadata": {},
   "outputs": [],
   "source": []
  }
 ],
 "metadata": {
  "file_extension": ".py",
  "kernelspec": {
   "display_name": "Rust",
   "language": "rust",
   "name": "rust"
  },
  "language_info": {
   "codemirror_mode": "rust",
   "file_extension": ".rs",
   "mimetype": "text/rust",
   "name": "Rust",
   "pygment_lexer": "rust",
   "version": ""
  },
  "mimetype": "text/x-python",
  "name": "python",
  "npconvert_exporter": "python",
  "pygments_lexer": "ipython3",
  "version": 3
 },
 "nbformat": 4,
 "nbformat_minor": 4
}
