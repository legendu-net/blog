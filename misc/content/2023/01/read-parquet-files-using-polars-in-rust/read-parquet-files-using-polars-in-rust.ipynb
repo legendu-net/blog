{
 "cells": [
  {
   "cell_type": "markdown",
   "metadata": {},
   "source": [
    "- Author: Benjamin Du\n",
    "- Date: 2023-01-01 18:52:22\n",
    "- Modified: 2023-01-03 10:48:35\n",
    "- Title: Read Parquet Files Using Polars in Rust\n",
    "- Slug: read-parquet-files-using-polars-in-rust\n",
    "- Category: Computer Science\n",
    "- Tags: Computer Science, programming, Rust, Polars, Parquet, scan_parquet, DataFrame, IO"
   ]
  },
  {
   "cell_type": "markdown",
   "metadata": {},
   "source": [
    "**Things on this page are fragmentary and immature notes/thoughts of the author. Please read with your own judgement!**"
   ]
  },
  {
   "cell_type": "code",
   "execution_count": null,
   "metadata": {},
   "outputs": [],
   "source": [
    ":timing\n",
    ":sccache 1\n",
    ":dep polars = { version = \"0.26.1\", features = [\"lazy\", \"parquet\"] }"
   ]
  },
  {
   "cell_type": "code",
   "execution_count": null,
   "metadata": {},
   "outputs": [],
   "source": [
    "use polars::df;\n",
    "use polars::prelude::*;\n",
    "use polars::datatypes::DataType;\n",
    "use std::fs::File;\n",
    "use std::io::BufWriter;\n",
    "use std::io::Write;"
   ]
  },
  {
   "cell_type": "code",
   "execution_count": 8,
   "metadata": {},
   "outputs": [
    {
     "data": {
      "text/plain": [
       "shape: (4002557, 4)\n",
       "┌──────┬──────────────────┬──────────────────┬─────────────┐\n",
       "│ id0  ┆ id1              ┆ id2              ┆ score_r4_it │\n",
       "│ ---  ┆ ---              ┆ ---              ┆ ---         │\n",
       "│ u64  ┆ u64              ┆ u64              ┆ f64         │\n",
       "╞══════╪══════════════════╪══════════════════╪═════════════╡\n",
       "│ 2    ┆ 16796161         ┆ 4503599635760400 ┆ 1.07059     │\n",
       "├╌╌╌╌╌╌┼╌╌╌╌╌╌╌╌╌╌╌╌╌╌╌╌╌╌┼╌╌╌╌╌╌╌╌╌╌╌╌╌╌╌╌╌╌┼╌╌╌╌╌╌╌╌╌╌╌╌╌┤\n",
       "│ 16   ┆ 8293             ┆ 3288727552       ┆ -0.085568   │\n",
       "├╌╌╌╌╌╌┼╌╌╌╌╌╌╌╌╌╌╌╌╌╌╌╌╌╌┼╌╌╌╌╌╌╌╌╌╌╌╌╌╌╌╌╌╌┼╌╌╌╌╌╌╌╌╌╌╌╌╌┤\n",
       "│ 2    ┆ 4503599660926465 ┆ 28684            ┆ 4.779815    │\n",
       "├╌╌╌╌╌╌┼╌╌╌╌╌╌╌╌╌╌╌╌╌╌╌╌╌╌┼╌╌╌╌╌╌╌╌╌╌╌╌╌╌╌╌╌╌┼╌╌╌╌╌╌╌╌╌╌╌╌╌┤\n",
       "│ 4    ┆ 4503599627386947 ┆ 274911465616     ┆ 4.650999    │\n",
       "├╌╌╌╌╌╌┼╌╌╌╌╌╌╌╌╌╌╌╌╌╌╌╌╌╌┼╌╌╌╌╌╌╌╌╌╌╌╌╌╌╌╌╌╌┼╌╌╌╌╌╌╌╌╌╌╌╌╌┤\n",
       "│ ...  ┆ ...              ┆ ...              ┆ ...         │\n",
       "├╌╌╌╌╌╌┼╌╌╌╌╌╌╌╌╌╌╌╌╌╌╌╌╌╌┼╌╌╌╌╌╌╌╌╌╌╌╌╌╌╌╌╌╌┼╌╌╌╌╌╌╌╌╌╌╌╌╌┤\n",
       "│ 4    ┆ 68727866378      ┆ 4224323673915392 ┆ 11.800134   │\n",
       "├╌╌╌╌╌╌┼╌╌╌╌╌╌╌╌╌╌╌╌╌╌╌╌╌╌┼╌╌╌╌╌╌╌╌╌╌╌╌╌╌╌╌╌╌┼╌╌╌╌╌╌╌╌╌╌╌╌╌┤\n",
       "│ 4    ┆ 4199169          ┆ 1073875984       ┆ 0.594198    │\n",
       "├╌╌╌╌╌╌┼╌╌╌╌╌╌╌╌╌╌╌╌╌╌╌╌╌╌┼╌╌╌╌╌╌╌╌╌╌╌╌╌╌╌╌╌╌┼╌╌╌╌╌╌╌╌╌╌╌╌╌┤\n",
       "│ 512  ┆ 1114250          ┆ 70377336209696   ┆ 7.129028    │\n",
       "├╌╌╌╌╌╌┼╌╌╌╌╌╌╌╌╌╌╌╌╌╌╌╌╌╌┼╌╌╌╌╌╌╌╌╌╌╌╌╌╌╌╌╌╌┼╌╌╌╌╌╌╌╌╌╌╌╌╌┤\n",
       "│ 4096 ┆ 1057409          ┆ 4573976961483792 ┆ 18.13174    │\n",
       "└──────┴──────────────────┴──────────────────┴─────────────┘"
      ]
     },
     "execution_count": 8,
     "metadata": {},
     "output_type": "execute_result"
    }
   ],
   "source": [
    "let mut frame = LazyFrame::scan_parquet(\n",
    "        \"part-000.parquet\",\n",
    "        ScanArgsParquet::default(),\n",
    "    )?\n",
    "    .collect()?;\n",
    "frame"
   ]
  },
  {
   "cell_type": "markdown",
   "metadata": {},
   "source": [
    "## Count the Total Number of Rows of All Parquet Files"
   ]
  },
  {
   "cell_type": "code",
   "execution_count": 46,
   "metadata": {},
   "outputs": [
    {
     "data": {
      "text/plain": [
       "382761717"
      ]
     },
     "execution_count": 46,
     "metadata": {},
     "output_type": "execute_result"
    },
    {
     "data": {
      "text/html": [
       "<span style=\"color: rgba(0,0,0,0.4);\">Took 6767ms</span>"
      ]
     },
     "execution_count": 46,
     "metadata": {},
     "output_type": "execute_result"
    }
   ],
   "source": [
    "LazyFrame::scan_parquet(\n",
    "        \"data/test/**/*.parquet\",\n",
    "        ScanArgsParquet::default(),\n",
    "    ).unwrap().select(\n",
    "        &[count().cast(DataType::UInt64).alias(\"n\")]\n",
    "    ).collect().unwrap()[\"n\"].u64().unwrap().get(0).unwrap()"
   ]
  },
  {
   "cell_type": "code",
   "execution_count": 37,
   "metadata": {},
   "outputs": [
    {
     "data": {
      "text/plain": [
       "shape: (1, 1)\n",
       "┌───────────┐\n",
       "│ n         │\n",
       "│ ---       │\n",
       "│ u64       │\n",
       "╞═══════════╡\n",
       "│ 382761717 │\n",
       "└───────────┘"
      ]
     },
     "execution_count": 37,
     "metadata": {},
     "output_type": "execute_result"
    },
    {
     "data": {
      "text/html": [
       "<span style=\"color: rgba(0,0,0,0.4);\">Took 6477ms</span>"
      ]
     },
     "execution_count": 37,
     "metadata": {},
     "output_type": "execute_result"
    }
   ],
   "source": [
    "let frame = LazyFrame::scan_parquet(\n",
    "        \"data/test/**/*.parquet\",\n",
    "        ScanArgsParquet::default(),\n",
    "    ).unwrap();\n",
    "let df = frame.select(&[count().cast(DataType::UInt64).alias(\"n\")]).collect().unwrap();\n",
    "df"
   ]
  }
 ],
 "metadata": {
  "file_extension": ".py",
  "kernelspec": {
   "display_name": "Rust",
   "language": "rust",
   "name": "rust"
  },
  "language_info": {
   "codemirror_mode": "rust",
   "file_extension": ".rs",
   "mimetype": "text/rust",
   "name": "Rust",
   "pygment_lexer": "rust",
   "version": ""
  },
  "mimetype": "text/x-python",
  "name": "python",
  "npconvert_exporter": "python",
  "pygments_lexer": "ipython3",
  "version": 3
 },
 "nbformat": 4,
 "nbformat_minor": 4
}
