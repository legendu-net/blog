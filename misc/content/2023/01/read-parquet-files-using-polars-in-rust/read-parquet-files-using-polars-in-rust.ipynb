{
 "cells": [
  {
   "cell_type": "markdown",
   "metadata": {},
   "source": [
    "- Author: Benjamin Du\n",
    "- Date: 2023-01-01 18:52:22\n",
    "- Modified: 2023-01-03 10:48:35\n",
    "- Title: Read Parquet Files Using Polars in Rust\n",
    "- Slug: read-parquet-files-using-polars-in-rust\n",
    "- Category: Computer Science\n",
    "- Tags: Computer Science, programming, Rust, Polars, Parquet, scan_parquet, DataFrame, IO"
   ]
  },
  {
   "cell_type": "markdown",
   "metadata": {},
   "source": [
    "**Things on this page are fragmentary and immature notes/thoughts of the author. Please read with your own judgement!**"
   ]
  },
  {
   "cell_type": "code",
   "execution_count": 2,
   "metadata": {},
   "outputs": [
    {
     "data": {
      "text/plain": [
       "Timing: true\n",
       "sccache: true. Warning: dynamic linking disabled, use :cache instead to preserve dynamic linking\n"
      ]
     },
     "execution_count": 2,
     "metadata": {},
     "output_type": "execute_result"
    },
    {
     "data": {
      "text/html": [
       "<span style=\"color: rgba(0,0,0,0.4);\">Took 123503ms</span>"
      ]
     },
     "execution_count": 2,
     "metadata": {},
     "output_type": "execute_result"
    }
   ],
   "source": [
    ":timing\n",
    ":sccache 1\n",
    ":dep polars = { version = \"0.42.0\", features = [\"lazy\", \"parquet\"] }"
   ]
  },
  {
   "cell_type": "code",
   "execution_count": 5,
   "metadata": {},
   "outputs": [
    {
     "data": {
      "text/html": [
       "<span style=\"color: rgba(0,0,0,0.4);\">Took 220ms</span>"
      ]
     },
     "execution_count": 5,
     "metadata": {},
     "output_type": "execute_result"
    }
   ],
   "source": [
    "use polars::df;\n",
    "use polars::prelude::*;\n",
    "use polars::datatypes::DataType;\n",
    "use std::fs::File;\n",
    "use std::io::BufWriter;\n",
    "use std::io::Write;"
   ]
  },
  {
   "cell_type": "code",
   "execution_count": 6,
   "metadata": {},
   "outputs": [
    {
     "data": {
      "text/plain": [
       "shape: (10_498_456, 4)\n",
       "┌──────────────────┬───────────────────┬──────────────────┬─────────────┐\n",
       "│ id0              ┆ id1               ┆ id2              ┆ score_r4_it │\n",
       "│ ---              ┆ ---               ┆ ---              ┆ ---         │\n",
       "│ u64              ┆ u64               ┆ u64              ┆ f64         │\n",
       "╞══════════════════╪═══════════════════╪══════════════════╪═════════════╡\n",
       "│ 33701888         ┆ 13510798882120448 ┆ 4101             ┆ -0.954137   │\n",
       "│ 28               ┆ 4505798920142848  ┆ 2097282          ┆ -11.599546  │\n",
       "│ 41943042         ┆ 275951782400      ┆ 336              ┆ -3.984118   │\n",
       "│ 18939904         ┆ 4503599637331969  ┆ 26               ┆ -1.175188   │\n",
       "│ 416              ┆ 4503599628682241  ┆ 74               ┆ -0.97172    │\n",
       "│ …                ┆ …                 ┆ …                ┆ …           │\n",
       "│ 2195456          ┆ 9007199523700769  ┆ 4503599627370502 ┆ 1.033871    │\n",
       "│ 14               ┆ 557840            ┆ 224              ┆ -0.068309   │\n",
       "│ 4503599627374600 ┆ 1074528352        ┆ 131600           ┆ 18.639906   │\n",
       "│ 8388674          ┆ 70901825536       ┆ 4736             ┆ -4.103395   │\n",
       "│ 1057             ┆ 274917753088      ┆ 4612             ┆ -10.065635  │\n",
       "└──────────────────┴───────────────────┴──────────────────┴─────────────┘"
      ]
     },
     "execution_count": 6,
     "metadata": {},
     "output_type": "execute_result"
    },
    {
     "data": {
      "text/html": [
       "<span style=\"color: rgba(0,0,0,0.4);\">Took 2955ms</span>"
      ]
     },
     "execution_count": 6,
     "metadata": {},
     "output_type": "execute_result"
    }
   ],
   "source": [
    "let mut frame = LazyFrame::scan_parquet(\n",
    "        \"part-000.parquet\",\n",
    "        ScanArgsParquet::default(),\n",
    "    )?\n",
    "    .collect()?;\n",
    "frame"
   ]
  },
  {
   "cell_type": "markdown",
   "metadata": {},
   "source": [
    "## Count the Total Number of Rows of All Parquet Files"
   ]
  },
  {
   "cell_type": "code",
   "execution_count": 15,
   "metadata": {},
   "outputs": [
    {
     "data": {
      "text/plain": [
       "Ok(shape: (1, 4)\n",
       "┌──────────┬──────────┬──────────┬─────────────┐\n",
       "│ id0      ┆ id1      ┆ id2      ┆ score_r4_it │\n",
       "│ ---      ┆ ---      ┆ ---      ┆ ---         │\n",
       "│ u32      ┆ u32      ┆ u32      ┆ u32         │\n",
       "╞══════════╪══════════╪══════════╪═════════════╡\n",
       "│ 10498456 ┆ 10498456 ┆ 10498456 ┆ 10498456    │\n",
       "└──────────┴──────────┴──────────┴─────────────┘)"
      ]
     },
     "execution_count": 15,
     "metadata": {},
     "output_type": "execute_result"
    },
    {
     "data": {
      "text/html": [
       "<span style=\"color: rgba(0,0,0,0.4);\">Took 2817ms</span>"
      ]
     },
     "execution_count": 15,
     "metadata": {},
     "output_type": "execute_result"
    }
   ],
   "source": [
    "LazyFrame::scan_parquet(\n",
    "        \"part-000.parquet\",\n",
    "        ScanArgsParquet::default(),\n",
    "    ).unwrap().count().collect()"
   ]
  },
  {
   "cell_type": "code",
   "execution_count": 12,
   "metadata": {},
   "outputs": [
    {
     "data": {
      "text/plain": [
       "Ok(shape: (1, 4)\n",
       "┌──────────┬──────────┬──────────┬─────────────┐\n",
       "│ id0      ┆ id1      ┆ id2      ┆ score_r4_it │\n",
       "│ ---      ┆ ---      ┆ ---      ┆ ---         │\n",
       "│ u64      ┆ u64      ┆ u64      ┆ u64         │\n",
       "╞══════════╪══════════╪══════════╪═════════════╡\n",
       "│ 10498456 ┆ 10498456 ┆ 10498456 ┆ 10498456    │\n",
       "└──────────┴──────────┴──────────┴─────────────┘)"
      ]
     },
     "execution_count": 12,
     "metadata": {},
     "output_type": "execute_result"
    },
    {
     "data": {
      "text/html": [
       "<span style=\"color: rgba(0,0,0,0.4);\">Took 2965ms</span>"
      ]
     },
     "execution_count": 12,
     "metadata": {},
     "output_type": "execute_result"
    }
   ],
   "source": [
    "LazyFrame::scan_parquet(\n",
    "        \"part-000.parquet\",\n",
    "        ScanArgsParquet::default(),\n",
    "    ).unwrap().select(\n",
    "        &[col(\"*\").count().cast(DataType::UInt64)]\n",
    "    ).collect()"
   ]
  },
  {
   "cell_type": "code",
   "execution_count": 16,
   "metadata": {},
   "outputs": [
    {
     "data": {
      "text/plain": [
       "10498456"
      ]
     },
     "execution_count": 16,
     "metadata": {},
     "output_type": "execute_result"
    },
    {
     "data": {
      "text/html": [
       "<span style=\"color: rgba(0,0,0,0.4);\">Took 3088ms</span>"
      ]
     },
     "execution_count": 16,
     "metadata": {},
     "output_type": "execute_result"
    }
   ],
   "source": [
    "LazyFrame::scan_parquet(\n",
    "        \"part-000.parquet\",\n",
    "        ScanArgsParquet::default(),\n",
    "    ).unwrap().select(\n",
    "        &[col(\"id0\").count().cast(DataType::UInt64).alias(\"n\")]\n",
    "    ).collect().unwrap()[\"n\"].u64().unwrap().get(0).unwrap()"
   ]
  },
  {
   "cell_type": "code",
   "execution_count": 17,
   "metadata": {},
   "outputs": [
    {
     "data": {
      "text/plain": [
       "1"
      ]
     },
     "execution_count": 17,
     "metadata": {},
     "output_type": "execute_result"
    },
    {
     "data": {
      "text/html": [
       "<span style=\"color: rgba(0,0,0,0.4);\">Took 4176ms</span>"
      ]
     },
     "execution_count": 17,
     "metadata": {},
     "output_type": "execute_result"
    }
   ],
   "source": [
    "LazyFrame::scan_parquet(\n",
    "        \"part-000.parquet\",\n",
    "        ScanArgsParquet::default(),\n",
    "    ).unwrap().select(\n",
    "        &[lit(1).count().cast(DataType::UInt64).alias(\"n\")]\n",
    "    ).collect().unwrap()[\"n\"].u64().unwrap().get(0).unwrap()"
   ]
  },
  {
   "cell_type": "code",
   "execution_count": null,
   "metadata": {},
   "outputs": [],
   "source": []
  }
 ],
 "metadata": {
  "file_extension": ".py",
  "kernelspec": {
   "display_name": "Rust",
   "language": "rust",
   "name": "rust"
  },
  "language_info": {
   "codemirror_mode": "rust",
   "file_extension": ".rs",
   "mimetype": "text/rust",
   "name": "Rust",
   "pygment_lexer": "rust",
   "version": ""
  },
  "mimetype": "text/x-python",
  "name": "python",
  "npconvert_exporter": "python",
  "pygments_lexer": "ipython3",
  "version": 3
 },
 "nbformat": 4,
 "nbformat_minor": 4
}
