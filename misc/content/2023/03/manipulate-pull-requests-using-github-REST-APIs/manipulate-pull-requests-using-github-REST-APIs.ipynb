{
 "cells": [
  {
   "cell_type": "markdown",
   "metadata": {},
   "source": [
    "- Author: Benjamin Du\n",
    "- Date: 2023-03-25 14:48:30\n",
    "- Modified: 2023-03-26 16:17:03\n",
    "- Title: Manipulate Pull Requests Using GitHub Rest APIs\n",
    "- Slug: manipulate-pull-requests-using-github-REST-APIs\n",
    "- Category: Computer Science\n",
    "- Tags: Computer Science, programming, GitHub, Actions, REST, RESTful, API, Python, pull request"
   ]
  },
  {
   "cell_type": "markdown",
   "metadata": {},
   "source": [
    "**Things on this page are fragmentary and immature notes/thoughts of the author. Please read with your own judgement!**"
   ]
  },
  {
   "cell_type": "code",
   "execution_count": 13,
   "metadata": {
    "tags": []
   },
   "outputs": [],
   "source": [
    "import json\n",
    "import requests\n",
    "\n",
    "\n",
    "def _build_headers(token: str) -> dict[str, str]:\n",
    "    headers = {\n",
    "        \"Accept\": \"application/vnd.github+json\",\n",
    "    }\n",
    "    if token:\n",
    "        headers[\"Authorization\"] = f\"Bearer {token}\"\n",
    "    return headers\n",
    "\n",
    "\n",
    "def list_pull_requests(token: str, owner: str, repo: str) -> list[dict]:\n",
    "    resp = requests.get(\n",
    "        url=f\"https://api.github.com/repos/{owner}/{repo}/pulls\",\n",
    "        headers=_build_headers(token),\n",
    "    )\n",
    "    if not resp.ok:\n",
    "        resp.raise_for_status()\n",
    "    return resp.json()\n",
    "\n",
    "\n",
    "def create_pull_request(token: str, owner: str, repo: str, data: dict[str, str]) -> dict:\n",
    "    \"\"\"Create a pull request.\n",
    "    Notice that the error code 422 (Unprocessable Entity)\n",
    "    means there's no changes to merge from the head branch to the base branch,\n",
    "    so it is not really an error.\n",
    "    :param token: The personal access token for authentication.\n",
    "    :param owner: Owner of the repository.\n",
    "    :param repo: Name of the repository.\n",
    "    :param data: A dict containing information (e.g., base, head, title, body, etc.)\n",
    "    about the pull request to be created.\n",
    "    \"\"\"\n",
    "    if not (\"head\" in data and \"base\" in data):\n",
    "        raise ValueError(\"The data dict must contains keys head and base!\")\n",
    "    resp = requests.post(\n",
    "        url=f\"https://api.github.com/repos/{owner}/{repo}/pulls\",\n",
    "        headers=_build_headers(token),\n",
    "        data=json.dumps(data),\n",
    "    )\n",
    "    if resp.status_code == 422:\n",
    "        err_msg = resp.json()[\"errors\"][0][\"message\"]\n",
    "        if \"no commits between\" in err_msg.lower():\n",
    "            return None\n",
    "        prs = list_pull_requests(token, OWNER, REPO)\n",
    "        for pr in prs:\n",
    "            if pr[\"head\"][\"ref\"] == data[\"head\"] and pr[\"base\"][\"ref\"] == data[\"base\"]:\n",
    "                return pr\n",
    "        raise RuntimeError(\"The existing PR is closed/merged before identified!\")\n",
    "    return resp.json()\n",
    "\n",
    "\n",
    "def merge_pull_request(token: str, owner: str, repo: str, pr_number: int):\n",
    "    resp = requests.put(\n",
    "        url=f\"https://api.github.com/repos/{owner}/{repo}/pulls/{pr_number}/merge\",\n",
    "        headers=_build_headers(token),\n",
    "    )\n",
    "    if not resp.ok:\n",
    "        resp.raise_for_status()\n",
    "\n",
    "\n",
    "def list_pull_request_files(token: str, owner, repo: str, pr_number: int):\n",
    "    resp = requests.get(\n",
    "        url=f\"https://api.github.com/repos/{owner}/{repo}/pulls/{pr_number}/files\",\n",
    "        headers=_build_headers(token),\n",
    "    )\n",
    "    if not resp.ok:\n",
    "        resp.raise_for_status\n",
    "    return resp.json()"
   ]
  },
  {
   "cell_type": "code",
   "execution_count": 15,
   "metadata": {},
   "outputs": [],
   "source": [
    "files = list_pull_request_files(\"\", \"legendu-net\", \"docker-rust-cicd\", 1)"
   ]
  },
  {
   "cell_type": "code",
   "execution_count": 16,
   "metadata": {
    "tags": []
   },
   "outputs": [
    {
     "data": {
      "text/plain": [
       "['.github/workflows/create_pull_request.yml',\n",
       " '.github/workflows/pr.py',\n",
       " 'Dockerfile',\n",
       " 'build.sh']"
      ]
     },
     "execution_count": 16,
     "metadata": {},
     "output_type": "execute_result"
    }
   ],
   "source": [
    "[file[\"filename\"] for file in files]"
   ]
  },
  {
   "cell_type": "code",
   "execution_count": null,
   "metadata": {},
   "outputs": [],
   "source": []
  }
 ],
 "metadata": {
  "file_extension": ".py",
  "kernelspec": {
   "display_name": "Python 3 (ipykernel)",
   "language": "python",
   "name": "python3"
  },
  "language_info": {
   "codemirror_mode": {
    "name": "ipython",
    "version": 3
   },
   "file_extension": ".py",
   "mimetype": "text/x-python",
   "name": "python",
   "nbconvert_exporter": "python",
   "pygments_lexer": "ipython3",
   "version": "3.10.6"
  },
  "mimetype": "text/x-python",
  "name": "python",
  "npconvert_exporter": "python",
  "pygments_lexer": "ipython3",
  "version": 3
 },
 "nbformat": 4,
 "nbformat_minor": 4
}
