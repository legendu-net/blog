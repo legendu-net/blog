{
 "cells": [
  {
   "cell_type": "markdown",
   "metadata": {},
   "source": [
    "- Author: Benjamin Du\n",
    "- Date: 2023-03-25 14:48:30\n",
    "- Modified: 2023-03-25 14:48:30\n",
    "- Title: Manipulate Pull Requests Using GitHub Rest APIs\n",
    "- Slug: manipulate-pull-requests-using-github-REST-APIs\n",
    "- Category: Computer Science\n",
    "- Tags: Computer Science, programming, GitHub, REST, RESTful, API, Python, pull request"
   ]
  },
  {
   "cell_type": "markdown",
   "metadata": {},
   "source": [
    "**Things on this page are fragmentary and immature notes/thoughts of the author. Please read with your own judgement!**"
   ]
  },
  {
   "cell_type": "code",
   "execution_count": 59,
   "metadata": {
    "tags": []
   },
   "outputs": [],
   "source": [
    "import json\n",
    "import requests\n",
    "\n",
    "\n",
    "def list_pull_requests(token: str, owner: str, repo: str):\n",
    "    return requests.get(\n",
    "        url=f\"https://api.github.com/repos/{owner}/{repo}/pulls\",\n",
    "        headers={\n",
    "            \"Accept\": \"application/vnd.github.v3+json\",\n",
    "            \"Authorization\": f\"token {token}\",\n",
    "        },\n",
    "    )\n",
    "\n",
    "\n",
    "def create_pull_request(token: str, owner: str, repo: str, data: dict[str, str]):\n",
    "    \"\"\"Create a pull request.\n",
    "    Notice that the error code 422 (Unprocessable Entity)\n",
    "    means there's no changes to merge from the head branch to the base branch,\n",
    "    so it is not really an error.\n",
    "\n",
    "    :param token: The personal access token for authentication.\n",
    "    :param owner: Owner of the repository.\n",
    "    :param repo: Name of the repository.\n",
    "    :param data: A dict containing information (e.g., base, head, title, body, etc.)\n",
    "    about the pull request to be created.\n",
    "    \"\"\"\n",
    "    headers = {\n",
    "        \"Accept\": \"application/vnd.github+json\",\n",
    "        \"Authorization\": f\"Bearer {token}\",\n",
    "    }\n",
    "    return requests.post(\n",
    "        url=f\"https://api.github.com/repos/{owner}/{repo}/pulls\",\n",
    "        headers=headers,\n",
    "        data=json.dumps(data)\n",
    "    )\n",
    "\n",
    "\n",
    "def merge_pull_request(token: str, owner: str, repo: str, pr_number: int):\n",
    "    headers = {\n",
    "        \"Accept\": \"application/vnd.github+json\",\n",
    "        \"Authorization\": f\"Bearer {token}\",\n",
    "    }\n",
    "    return requests.put(\n",
    "        url=f\"https://api.github.com/repos/{owner}/{repo}/pulls/{pr_number}/merge\",\n",
    "        headers=headers,\n",
    "    )"
   ]
  }
 ],
 "metadata": {
  "file_extension": ".py",
  "kernelspec": {
   "display_name": "Python 3 (ipykernel)",
   "language": "python",
   "name": "python3"
  },
  "language_info": {
   "codemirror_mode": {
    "name": "ipython",
    "version": 3
   },
   "file_extension": ".py",
   "mimetype": "text/x-python",
   "name": "python",
   "nbconvert_exporter": "python",
   "pygments_lexer": "ipython3",
   "version": "3.10.6"
  },
  "mimetype": "text/x-python",
  "name": "python",
  "npconvert_exporter": "python",
  "pygments_lexer": "ipython3",
  "version": 3
 },
 "nbformat": 4,
 "nbformat_minor": 4
}
