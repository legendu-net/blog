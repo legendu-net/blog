{
 "cells": [
  {
   "cell_type": "markdown",
   "metadata": {},
   "source": [
    "- Author: Benjamin Du\n",
    "- Date: 2023-04-15 11:49:34\n",
    "- Modified: 2023-04-15 11:49:34\n",
    "- Title: List Branches of a Repository Using GitHub Rest APIs\n",
    "- Slug: list-branches-of-a-repository-using-github-rest-apis\n",
    "- Category: Computer Science\n",
    "- Tags: Computer Science, programming, GitHub, Actions, repository, branch, REST, API"
   ]
  },
  {
   "cell_type": "markdown",
   "metadata": {},
   "source": [
    "**Things on this page are fragmentary and immature notes/thoughts of the author. Please read with your own judgement!**"
   ]
  },
  {
   "cell_type": "code",
   "execution_count": 4,
   "metadata": {
    "tags": []
   },
   "outputs": [],
   "source": [
    "from github_rest_api.github import Repository"
   ]
  },
  {
   "cell_type": "code",
   "execution_count": 5,
   "metadata": {
    "tags": []
   },
   "outputs": [
    {
     "data": {
      "text/plain": [
       "<github_rest_api.github.Repository at 0x7fa2fda67670>"
      ]
     },
     "execution_count": 5,
     "metadata": {},
     "output_type": "execute_result"
    }
   ],
   "source": [
    "repo = Repository(token=\"\", owner=\"legendu-net\", repo=\"docker-rust-cicd\")\n",
    "repo"
   ]
  },
  {
   "cell_type": "code",
   "execution_count": 7,
   "metadata": {
    "tags": []
   },
   "outputs": [
    {
     "data": {
      "text/plain": [
       "[{'name': 'dev',\n",
       "  'commit': {'sha': '17bb5924aa766d7d5683efe81d69c5832ecb1674',\n",
       "   'url': 'https://api.github.com/repos/legendu-net/docker-rust-cicd/commits/17bb5924aa766d7d5683efe81d69c5832ecb1674'},\n",
       "  'protected': False},\n",
       " {'name': 'main',\n",
       "  'commit': {'sha': 'dd7ac0d808d08cb03c5e5e5e5a6f597413f690e6',\n",
       "   'url': 'https://api.github.com/repos/legendu-net/docker-rust-cicd/commits/dd7ac0d808d08cb03c5e5e5e5a6f597413f690e6'},\n",
       "  'protected': True}]"
      ]
     },
     "execution_count": 7,
     "metadata": {},
     "output_type": "execute_result"
    }
   ],
   "source": [
    "repo.list_branches()"
   ]
  },
  {
   "cell_type": "code",
   "execution_count": null,
   "metadata": {},
   "outputs": [],
   "source": []
  }
 ],
 "metadata": {
  "file_extension": ".py",
  "kernelspec": {
   "display_name": "Python 3 (ipykernel)",
   "language": "python",
   "name": "python3"
  },
  "language_info": {
   "codemirror_mode": {
    "name": "ipython",
    "version": 3
   },
   "file_extension": ".py",
   "mimetype": "text/x-python",
   "name": "python",
   "nbconvert_exporter": "python",
   "pygments_lexer": "ipython3",
   "version": "3.10.6"
  },
  "mimetype": "text/x-python",
  "name": "python",
  "npconvert_exporter": "python",
  "pygments_lexer": "ipython3",
  "version": 3
 },
 "nbformat": 4,
 "nbformat_minor": 4
}
