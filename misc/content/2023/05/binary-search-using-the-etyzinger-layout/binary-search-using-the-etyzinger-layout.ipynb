{
 "cells": [
  {
   "cell_type": "markdown",
   "metadata": {},
   "source": [
    "- Author: Benjamin Du\n",
    "- Date: 2023-05-19 10:42:41\n",
    "- Modified: 2023-05-19 10:42:41\n",
    "- Title: Binary Search Using the Etyzinger Layout\n",
    "- Slug: binary-search-using-the-etyzinger-layout\n",
    "- Category: Computer Science\n",
    "- Tags: Computer Science, programming, algorithm, binary search, Eytzinger"
   ]
  },
  {
   "cell_type": "markdown",
   "metadata": {},
   "source": [
    "**Things on this page are fragmentary and immature notes/thoughts of the author. Please read with your own judgement!**"
   ]
  },
  {
   "cell_type": "code",
   "execution_count": 9,
   "metadata": {},
   "outputs": [
    {
     "data": {
      "text/plain": [
       "[10, 20, 30, 40, 50, 60, 70, 80, 90, 100, 110, 120, 130, 140, 150]"
      ]
     },
     "execution_count": 9,
     "metadata": {},
     "output_type": "execute_result"
    }
   ],
   "source": [
    "x = [i * 10 for i in range(1, 16)]\n",
    "x"
   ]
  },
  {
   "cell_type": "code",
   "execution_count": 10,
   "metadata": {
    "tags": []
   },
   "outputs": [],
   "source": [
    "def eytzinger(a):\n",
    "    n = len(a)\n",
    "    b = [0] * (n + 1)\n",
    "\n",
    "    def _eytzinger(i=0, k=1):\n",
    "        if k <= n:\n",
    "            i = _eytzinger(i, 2*k)\n",
    "            b[k] = a[i]\n",
    "            i = _eytzinger(i+1, 2*k+1)\n",
    "        return i\n",
    "\n",
    "    _eytzinger()\n",
    "    return b"
   ]
  },
  {
   "cell_type": "markdown",
   "metadata": {},
   "source": [
    "Find the least element in the array greater than or equal to target."
   ]
  },
  {
   "cell_type": "code",
   "execution_count": null,
   "metadata": {},
   "outputs": [],
   "source": [
    "pub fn binary_search_branchless(data: &[u64], target: u32) -> u64 {\n",
    "  let mut idx = 1;\n",
    "  while idx < data.len() {\n",
    "    let el = data[idx];\n",
    "    idx = 2 * idx + usize::from(el < target);\n",
    "  }\n",
    "  idx >>= idx.trailing_ones() + 1;\n",
    "  data[idx]\n",
    "}"
   ]
  },
  {
   "cell_type": "code",
   "execution_count": 11,
   "metadata": {},
   "outputs": [
    {
     "data": {
      "text/plain": [
       "[0, 80, 40, 120, 20, 60, 100, 140, 10, 30, 50, 70, 90, 110, 130, 150]"
      ]
     },
     "execution_count": 11,
     "metadata": {},
     "output_type": "execute_result"
    }
   ],
   "source": [
    "eytzinger(x)"
   ]
  },
  {
   "cell_type": "code",
   "execution_count": 12,
   "metadata": {},
   "outputs": [
    {
     "data": {
      "text/plain": [
       "[0, 80, 120, 40, 140, 100, 60, 20, 150, 130, 110, 90, 70, 50, 30, 10]"
      ]
     },
     "execution_count": 12,
     "metadata": {},
     "output_type": "execute_result"
    }
   ],
   "source": [
    "eytzinger(sorted(x, reverse=True))"
   ]
  },
  {
   "cell_type": "markdown",
   "metadata": {},
   "source": [
    "Find the max element in the array smaller than or equal to target."
   ]
  },
  {
   "cell_type": "code",
   "execution_count": null,
   "metadata": {},
   "outputs": [],
   "source": [
    "pub fn binary_search_branchless_2(data: &[u64], target: u32) -> u64 {\n",
    "  let mut idx = 1;\n",
    "  while idx < data.len() {\n",
    "    let el = data[idx];\n",
    "    idx = idx * 2 + usize::from(el > target);\n",
    "  }\n",
    "  idx >>= idx.trailing_ones() + 1;\n",
    "  data[idx]\n",
    "}"
   ]
  },
  {
   "cell_type": "markdown",
   "metadata": {},
   "source": [
    "## References\n",
    "\n",
    "- [Fast(er) binary search in Rust](https://www.bazhenov.me/posts/faster-binary-search-in-rust/)"
   ]
  },
  {
   "cell_type": "code",
   "execution_count": null,
   "metadata": {},
   "outputs": [],
   "source": []
  }
 ],
 "metadata": {
  "file_extension": ".py",
  "kernelspec": {
   "display_name": "Python 3 (ipykernel)",
   "language": "python",
   "name": "python3"
  },
  "language_info": {
   "codemirror_mode": {
    "name": "ipython",
    "version": 3
   },
   "file_extension": ".py",
   "mimetype": "text/x-python",
   "name": "python",
   "nbconvert_exporter": "python",
   "pygments_lexer": "ipython3",
   "version": "3.10.6"
  },
  "mimetype": "text/x-python",
  "name": "python",
  "npconvert_exporter": "python",
  "pygments_lexer": "ipython3",
  "version": 3
 },
 "nbformat": 4,
 "nbformat_minor": 4
}
