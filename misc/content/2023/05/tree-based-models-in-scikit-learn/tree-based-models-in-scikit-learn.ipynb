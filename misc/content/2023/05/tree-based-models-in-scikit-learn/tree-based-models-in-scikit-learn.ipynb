{
 "cells": [
  {
   "cell_type": "markdown",
   "metadata": {},
   "source": [
    "- Author: Benjamin Du\n",
    "- Date: 2023-05-26 12:28:45\n",
    "- Modified: 2023-05-26 12:28:45\n",
    "- Title: Tree-Based Models in Scikit-Learn\n",
    "- Slug: tree-based-models-in-scikit-learn\n",
    "- Category: Computer Science\n",
    "- Tags: Computer Science, programming, data science, machine learning, AI, scikit-learn, Python"
   ]
  },
  {
   "cell_type": "markdown",
   "metadata": {},
   "source": [
    "**Things on this page are fragmentary and immature notes/thoughts of the author. Please read with your own judgement!**"
   ]
  },
  {
   "cell_type": "markdown",
   "metadata": {},
   "source": [
    "## Comments\n",
    "\n",
    "1. If you want a simple decision tree,\n",
    "\n",
    "DecisionTreeRegressor\n",
    "https://scikit-learn.org/stable/modules/generated/sklearn.tree.DecisionTreeRegressor.html#sklearn.tree.DecisionTreeRegressor\n",
    "is prefer to\n",
    "DecisionTreeClassifier\n",
    "https://scikit-learn.org/stable/modules/generated/sklearn.tree.DecisionTreeClassifier.html \n",
    "as \n",
    "DecisionTreeRegressor is more flexible.\n",
    "\n",
    "As a matter of fact,\n",
    "ensemble tree-based models (no matter classifiers or regressors) \n",
    "are based on\n",
    "DecisionTreeRegressor \n",
    "instead of\n",
    "DecisionTreeClassifier\n",
    "."
   ]
  },
  {
   "cell_type": "code",
   "execution_count": null,
   "metadata": {},
   "outputs": [],
   "source": [
    "## staged_predict\n",
    "https://scikit-learn.org/stable/modules/generated/sklearn.ensemble.GradientBoostingClassifier.html#sklearn.ensemble.GradientBoostingClassifier.staged_predict\n",
    "\n",
    "staged_predict_prob\n",
    "https://scikit-learn.org/stable/modules/generated/sklearn.ensemble.GradientBoostingClassifier.html#sklearn.ensemble.GradientBoostingClassifier.staged_predict_proba\n",
    "\n",
    "GradientBoostingClassifier\n",
    "https://scikit-learn.org/stable/modules/generated/sklearn.ensemble.GradientBoostingClassifier.html\n",
    "\n"
   ]
  },
  {
   "cell_type": "code",
   "execution_count": null,
   "metadata": {},
   "outputs": [],
   "source": [
    "## Visualize Decision Trees\n",
    "\n",
    "What is the meaning of \"value\" in a node in sklearn decisiontree plot_tree\n",
    "https://stackoverflow.com/questions/65717850/what-is-the-meaning-of-value-in-a-node-in-sklearn-decisiontree-plot-tree\n",
    "\n",
    "1. DecisionTreeClassifier\n",
    "    number of samples in each node\n",
    "    \n",
    "    DecisionTreeRegressor\n",
    "    predicted value of the node\n",
    "    The v_m parameter ..."
   ]
  }
 ],
 "metadata": {
  "file_extension": ".py",
  "kernelspec": {
   "display_name": "Python 3 (ipykernel)",
   "language": "python",
   "name": "python3"
  },
  "language_info": {
   "codemirror_mode": {
    "name": "ipython",
    "version": 3
   },
   "file_extension": ".py",
   "mimetype": "text/x-python",
   "name": "python",
   "nbconvert_exporter": "python",
   "pygments_lexer": "ipython3",
   "version": "3.10.6"
  },
  "mimetype": "text/x-python",
  "name": "python",
  "npconvert_exporter": "python",
  "pygments_lexer": "ipython3",
  "version": 3
 },
 "nbformat": 4,
 "nbformat_minor": 4
}
