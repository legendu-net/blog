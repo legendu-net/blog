{
 "cells": [
  {
   "cell_type": "markdown",
   "metadata": {},
   "source": [
    "- Author: Benjamin Du\n",
    "- Date: 2023-06-17 15:29:37\n",
    "- Modified: 2023-06-17 15:29:37\n",
    "- Title: Map a Function to Multiple Columns in Polars in Rust\n",
    "- Slug: map-a-function-to-multiple-columns-in-polars-in-rust\n",
    "- Category: Computer Science\n",
    "- Tags: Computer Science, programming, Rust, polars, DataFrame, column, multiple, apply, map, map_multiple"
   ]
  },
  {
   "cell_type": "markdown",
   "metadata": {},
   "source": [
    "**Things on this page are fragmentary and immature notes/thoughts of the author. Please read with your own judgement!**"
   ]
  },
  {
   "cell_type": "code",
   "execution_count": 2,
   "metadata": {},
   "outputs": [],
   "source": [
    ":dep polars = { version = \"0.30\", features = [\"lazy\", \"round_series\"] }"
   ]
  },
  {
   "cell_type": "markdown",
   "metadata": {},
   "source": [
    "## [map_multiple](https://pola-rs.github.io/polars/polars/prelude/fn.map_multiple.html#)"
   ]
  },
  {
   "cell_type": "code",
   "execution_count": null,
   "metadata": {},
   "outputs": [],
   "source": [
    "fn my_filter_func(col1: &Series, col2: &Series, col2: &Series) -> ReturnType {\n",
    "    let it = (0..n).map(|i| {\n",
    "        let col1 = match col.get(i) {\n",
    "            AnyValue::UInt64(val) => val,\n",
    "            _ => panic!(\"Wrong type of col1!\"),\n",
    "        };\n",
    "        // similar for col2 and col3\n",
    "        // apply user-defined function to col1, col2 and col3\n",
    "    }\n",
    "    // convert it to a collection of the required type\n",
    "}"
   ]
  },
  {
   "cell_type": "code",
   "execution_count": null,
   "metadata": {},
   "outputs": [],
   "source": [
    "fn my_black_box_function(a: f32, b: f32) -> f32 {\n",
    "    // do something\n",
    "    a\n",
    "}\n",
    "\n",
    "fn apply_multiples(col_a: &Series, col_b: &Series) -> Float32Chunked {\n",
    "    match (col_a.dtype(), col_b.dtype()) {\n",
    "        (DataType::Float32, DataType::Float32) => {\n",
    "            let a = col_a.f32().unwrap();\n",
    "            let b = col_b.f32().unwrap();\n",
    "\n",
    "            a.into_iter()\n",
    "                .zip(b.into_iter())\n",
    "                .map(|(opt_a, opt_b)| match (opt_a, opt_b) {\n",
    "                    (Some(a), Some(b)) => Some(my_black_box_function(a, b)),\n",
    "                    _ => None,\n",
    "                })\n",
    "                .collect()\n",
    "        }\n",
    "        _ => panic!(\"unpexptected dtypes\"),\n",
    "    }\n",
    "}"
   ]
  },
  {
   "cell_type": "code",
   "execution_count": null,
   "metadata": {},
   "outputs": [],
   "source": [
    "fn apply_multiples(lf: LazyFrame) -> Result<DataFrame> {\n",
    "    df![\n",
    "        \"a\" => [1.0, 2.0, 3.0],\n",
    "        \"b\" => [3.0, 5.1, 0.3]\n",
    "    ]?\n",
    "    .lazy()\n",
    "    .select([concat_lst([\"col_a\", \"col_b\"]).map(\n",
    "        |s| {\n",
    "            let ca = s.struct_()?;\n",
    "\n",
    "            let b = ca.field_by_name(\"col_a\")?;\n",
    "            let a = ca.field_by_name(\"col_b\")?;\n",
    "            let a = a.f32()?;\n",
    "            let b = b.f32()?;\n",
    "\n",
    "            let out: Float32Chunked = a\n",
    "                .into_iter()\n",
    "                .zip(b.into_iter())\n",
    "                .map(|(opt_a, opt_b)| match (opt_a, opt_b) {\n",
    "                    (Some(a), Some(b)) => Some(my_black_box_function(a, b)),\n",
    "                    _ => None,\n",
    "                })\n",
    "                .collect();\n",
    "\n",
    "            Ok(out.into_series())\n",
    "        },\n",
    "        GetOutput::from_type(DataType::Float32),\n",
    "    )])\n",
    "    .collect()\n",
    "}"
   ]
  },
  {
   "cell_type": "code",
   "execution_count": 3,
   "metadata": {
    "tags": []
   },
   "outputs": [],
   "source": [
    "use polars::{\n",
    "    prelude::*,\n",
    "    datatypes::DataType,\n",
    "};"
   ]
  },
  {
   "cell_type": "code",
   "execution_count": 12,
   "metadata": {},
   "outputs": [
    {
     "data": {
      "text/plain": [
       "shape: (6, 4)\n",
       "┌─────────────────┬──────────────────┬────────────────┬──────────────────┐\n",
       "│ column integers ┆ column float64 A ┆ column options ┆ column float64 B │\n",
       "│ ---             ┆ ---              ┆ ---            ┆ ---              │\n",
       "│ i32             ┆ f64              ┆ i32            ┆ f64              │\n",
       "╞═════════════════╪══════════════════╪════════════════╪══════════════════╡\n",
       "│ 1               ┆ 23.654           ┆ 28             ┆ 23.6499          │\n",
       "│ 2               ┆ 0.319            ┆ 300            ┆ 0.399            │\n",
       "│ 3               ┆ 10.0049          ┆ null           ┆ 10.0061          │\n",
       "│ 4               ┆ 89.01999         ┆ 2              ┆ 89.0105          │\n",
       "│ 5               ┆ -3.41501         ┆ -30            ┆ -3.4331          │\n",
       "│ 6               ┆ 52.0766          ┆ null           ┆ 52.099999        │\n",
       "└─────────────────┴──────────────────┴────────────────┴──────────────────┘"
      ]
     },
     "execution_count": 12,
     "metadata": {},
     "output_type": "execute_result"
    }
   ],
   "source": [
    "let df = df!(\n",
    "    \"column integers\"  => &[1, 2, 3, 4, 5, 6],\n",
    "    \"column float64 A\" => [23.654, 0.319, 10.0049, 89.01999, -3.41501, 52.0766],\n",
    "    \"column options\"   => [Some(28), Some(300), None, Some(2), Some(-30), None],\n",
    "    \"column float64 B\" => [23.6499, 0.399, 10.0061, 89.0105, -3.4331, 52.099999],\n",
    ").unwrap();\n",
    "df"
   ]
  },
  {
   "cell_type": "code",
   "execution_count": 13,
   "metadata": {},
   "outputs": [
    {
     "data": {
      "text/plain": [
       "[\"column float64 A\", \"column float64 B\"]"
      ]
     },
     "execution_count": 13,
     "metadata": {},
     "output_type": "execute_result"
    }
   ],
   "source": [
    "let columns_with_float64 = vec![\n",
    "    \"column float64 A\",\n",
    "    \"column float64 B\",\n",
    "];\n",
    "columns_with_float64"
   ]
  },
  {
   "cell_type": "code",
   "execution_count": null,
   "metadata": {},
   "outputs": [],
   "source": [
    "lazyframe\n",
    ".with_columns([\n",
    "    cols(col1, col2, ..., colN)\n",
    "   .apply(|series| \n",
    "       some_function(series), \n",
    "       GetOutput::from_type(DataType::Float64)\n",
    "   )\n",
    "]);"
   ]
  },
  {
   "cell_type": "markdown",
   "metadata": {},
   "source": [
    "## References\n",
    "\n",
    "How to apply a function to multiple columns of a polars DataFrame in Rust\n",
    "\n",
    "https://stackoverflow.com/questions/72372821/how-to-apply-a-function-to-multiple-columns-of-a-polars-dataframe-in-rust/76394385#76394385"
   ]
  }
 ],
 "metadata": {
  "file_extension": ".py",
  "kernelspec": {
   "display_name": "Rust",
   "language": "rust",
   "name": "rust"
  },
  "language_info": {
   "codemirror_mode": "rust",
   "file_extension": ".rs",
   "mimetype": "text/rust",
   "name": "Rust",
   "pygment_lexer": "rust",
   "version": ""
  },
  "mimetype": "text/x-python",
  "name": "python",
  "npconvert_exporter": "python",
  "pygments_lexer": "ipython3",
  "version": 3
 },
 "nbformat": 4,
 "nbformat_minor": 4
}
