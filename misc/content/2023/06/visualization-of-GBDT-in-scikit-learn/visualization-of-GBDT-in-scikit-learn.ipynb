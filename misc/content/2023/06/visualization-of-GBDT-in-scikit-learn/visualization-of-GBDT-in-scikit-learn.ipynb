{
 "cells": [
  {
   "cell_type": "markdown",
   "metadata": {},
   "source": [
    "- Author: Benjamin Du\n",
    "- Date: 2023-06-11 22:15:47\n",
    "- Modified: 2023-06-19 22:50:04\n",
    "- Title: Visualization of GBDT in scikit-learn\n",
    "- Slug: visualization-of-gbdt-in-scikit-learn\n",
    "- Category: Computer Science\n",
    "- Tags: Computer Science, programming, Python, scikit-learn, AI, machine learning, data science, visualization, tree, GBDT"
   ]
  },
  {
   "cell_type": "markdown",
   "metadata": {},
   "source": [
    "**Things on this page are fragmentary and immature notes/thoughts of the author. Please read with your own judgement!**"
   ]
  },
  {
   "cell_type": "code",
   "execution_count": null,
   "metadata": {},
   "outputs": [],
   "source": []
  },
  {
   "cell_type": "code",
   "execution_count": null,
   "metadata": {
    "colab": {
     "height": 1000
    },
    "executionInfo": {
     "elapsed": 6174,
     "status": "ok",
     "timestamp": 1684858008291,
     "user": {
      "displayName": "Ben Du",
      "userId": "04853613291388488893"
     },
     "user_tz": 420
    },
    "id": "DuKY-J1hTOqQ",
    "outputId": "fc7a439f-e77a-419a-cac7-4ccf5ec168c0"
   },
   "outputs": [],
   "source": [
    "fig, axes = plt.subplots(figsize=(50, 5))\n",
    "tree.plot_tree(classifier3[\"decisiontreeclassifier\"],\n",
    "                feature_names=classifier3[:-1].get_feature_names_out(),\n",
    "                class_names=[\"Good\", \"Bad\"],\n",
    "                rounded=True,\n",
    "                precision=1,\n",
    "                filled=True,\n",
    "                impurity=False,\n",
    "                fontsize=10)"
   ]
  },
  {
   "cell_type": "code",
   "execution_count": null,
   "metadata": {
    "colab": {
     "height": 1000
    },
    "executionInfo": {
     "elapsed": 211550,
     "status": "ok",
     "timestamp": 1684809470383,
     "user": {
      "displayName": "Ben Du",
      "userId": "04853613291388488893"
     },
     "user_tz": 420
    },
    "id": "NmIk0Y3QW1Qa",
    "outputId": "484a3ec0-7f7e-4e95-f018-633988f83089"
   },
   "outputs": [],
   "source": [
    "from sklearn import tree\n",
    "\n",
    "for dt_estimator in classifier[\"gradientboostingclassifier\"].estimators_:\n",
    "    dt = dt_estimator[0]\n",
    "    fig, axes = plt.subplots(figsize=(50, 5))\n",
    "    tree.plot_tree(dt,\n",
    "                 feature_names=classifier[:-1].get_feature_names_out(),\n",
    "                 class_names=[\"Good\", \"Bad\"],\n",
    "                 rounded=True,\n",
    "                 precision=1,\n",
    "                 filled=True,\n",
    "                 impurity=False,\n",
    "                 fontsize=10)"
   ]
  },
  {
   "cell_type": "markdown",
   "metadata": {},
   "source": [
    "## References\n",
    "\n",
    "How to visualize an sklearn GradientBoostingClassifier?\n",
    "https://stackoverflow.com/questions/44974360/how-to-visualize-an-sklearn-gradientboostingclassifier"
   ]
  }
 ],
 "metadata": {
  "file_extension": ".py",
  "kernelspec": {
   "display_name": "Python 3 (ipykernel)",
   "language": "python",
   "name": "python3"
  },
  "language_info": {
   "codemirror_mode": {
    "name": "ipython",
    "version": 3
   },
   "file_extension": ".py",
   "mimetype": "text/x-python",
   "name": "python",
   "nbconvert_exporter": "python",
   "pygments_lexer": "ipython3",
   "version": "3.10.6"
  },
  "mimetype": "text/x-python",
  "name": "python",
  "npconvert_exporter": "python",
  "pygments_lexer": "ipython3",
  "version": 3
 },
 "nbformat": 4,
 "nbformat_minor": 4
}