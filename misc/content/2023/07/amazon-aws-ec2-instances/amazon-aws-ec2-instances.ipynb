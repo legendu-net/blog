{
 "cells": [
  {
   "cell_type": "markdown",
   "metadata": {},
   "source": [
    "- Author: Benjamin Du\n",
    "- Date: 2023-07-01 12:44:50\n",
    "- Modified: 2023-07-01 18:07:37\n",
    "- Title: Amazon AWS EC2 Instances\n",
    "- Slug: amazon-aws-ec2-instances\n",
    "- Category: Computer Science\n",
    "- Tags: Computer Science, programming, Amazon, AWS, EC2, spot, VM, instance, price"
   ]
  },
  {
   "cell_type": "markdown",
   "metadata": {},
   "source": [
    "**Things on this page are fragmentary and immature notes/thoughts of the author. Please read with your own judgement!**"
   ]
  },
  {
   "cell_type": "markdown",
   "metadata": {
    "tags": []
   },
   "source": [
    "https://aws.amazon.com/ec2/pricing/on-demand/\n",
    "\n",
    "![](https://user-images.githubusercontent.com/824507/250304785-7f0487f0-82f2-469e-b1aa-ccb08dcf412a.png)"
   ]
  },
  {
   "cell_type": "code",
   "execution_count": 26,
   "metadata": {
    "tags": []
   },
   "outputs": [],
   "source": [
    "import polars as pl"
   ]
  },
  {
   "cell_type": "code",
   "execution_count": 37,
   "metadata": {
    "tags": []
   },
   "outputs": [
    {
     "data": {
      "text/html": [
       "<div><style>\n",
       ".dataframe > thead > tr > th,\n",
       ".dataframe > tbody > tr > td {\n",
       "  text-align: right;\n",
       "}\n",
       "</style>\n",
       "<small>shape: (613, 10)</small><table border=\"1\" class=\"dataframe\"><thead><tr><th>name</th><th>hourly_cost</th><th>vcpu</th><th>memory</th><th>storage</th><th>network</th><th>performance_per_vcpu</th><th>network_burst</th><th>ebs_burst</th><th>real_vcpu</th></tr><tr><td>str</td><td>f64</td><td>i64</td><td>f64</td><td>str</td><td>str</td><td>f64</td><td>str</td><td>str</td><td>f64</td></tr></thead><tbody><tr><td>&quot;a1.medium&quot;</td><td>0.0255</td><td>1</td><td>2.0</td><td>&quot;EBS Only&quot;</td><td>&quot;Up to 10 Gigab\u2026</td><td>1.0</td><td>null</td><td>null</td><td>1.0</td></tr><tr><td>&quot;a1.large&quot;</td><td>0.051</td><td>2</td><td>4.0</td><td>&quot;EBS Only&quot;</td><td>&quot;Up to 10 Gigab\u2026</td><td>1.0</td><td>null</td><td>null</td><td>2.0</td></tr><tr><td>&quot;a1.xlarge&quot;</td><td>0.102</td><td>4</td><td>8.0</td><td>&quot;EBS Only&quot;</td><td>&quot;Up to 10 Gigab\u2026</td><td>1.0</td><td>null</td><td>null</td><td>4.0</td></tr><tr><td>&quot;a1.2xlarge&quot;</td><td>0.204</td><td>8</td><td>16.0</td><td>&quot;EBS Only&quot;</td><td>&quot;Up to 10 Gigab\u2026</td><td>1.0</td><td>null</td><td>null</td><td>8.0</td></tr><tr><td>&quot;a1.4xlarge&quot;</td><td>0.408</td><td>16</td><td>32.0</td><td>&quot;EBS Only&quot;</td><td>&quot;Up to 10 Gigab\u2026</td><td>1.0</td><td>null</td><td>null</td><td>16.0</td></tr><tr><td>&quot;a1.metal&quot;</td><td>0.408</td><td>16</td><td>32.0</td><td>&quot;EBS Only&quot;</td><td>&quot;Up to 10 Gigab\u2026</td><td>1.0</td><td>null</td><td>null</td><td>16.0</td></tr><tr><td>&quot;t4g.nano&quot;</td><td>0.0042</td><td>2</td><td>0.5</td><td>&quot;EBS Only&quot;</td><td>&quot;Up to 5 Gigabi\u2026</td><td>0.05</td><td>&quot;Up to 5&quot;</td><td>&quot;Up to 2,085&quot;</td><td>0.1</td></tr><tr><td>&quot;t4g.micro&quot;</td><td>0.0084</td><td>2</td><td>1.0</td><td>&quot;EBS Only&quot;</td><td>&quot;Up to 5 Gigabi\u2026</td><td>0.1</td><td>&quot;Up to 5&quot;</td><td>&quot;Up to 2,085&quot;</td><td>0.2</td></tr><tr><td>&quot;t4g.small&quot;</td><td>0.0168</td><td>2</td><td>2.0</td><td>&quot;EBS Only&quot;</td><td>&quot;Up to 5 Gigabi\u2026</td><td>0.2</td><td>&quot;Up to 5&quot;</td><td>&quot;Up to 2,085&quot;</td><td>0.4</td></tr><tr><td>&quot;t4g.medium&quot;</td><td>0.0336</td><td>2</td><td>4.0</td><td>&quot;EBS Only&quot;</td><td>&quot;Up to 5 Gigabi\u2026</td><td>0.2</td><td>&quot;Up to 5&quot;</td><td>&quot;Up to 2,085&quot;</td><td>0.4</td></tr><tr><td>&quot;t4g.large&quot;</td><td>0.0672</td><td>2</td><td>8.0</td><td>&quot;EBS Only&quot;</td><td>&quot;Up to 5 Gigabi\u2026</td><td>0.3</td><td>&quot;Up to 5&quot;</td><td>&quot;Up to 2,780&quot;</td><td>0.6</td></tr><tr><td>&quot;t4g.xlarge&quot;</td><td>0.1344</td><td>4</td><td>16.0</td><td>&quot;EBS Only&quot;</td><td>&quot;Up to 5 Gigabi\u2026</td><td>0.4</td><td>&quot;Up to 5&quot;</td><td>&quot;Up to 2,780&quot;</td><td>1.6</td></tr><tr><td>&hellip;</td><td>&hellip;</td><td>&hellip;</td><td>&hellip;</td><td>&hellip;</td><td>&hellip;</td><td>&hellip;</td><td>&hellip;</td><td>&hellip;</td><td>&hellip;</td></tr><tr><td>&quot;u-3tb1.56xlarg\u2026</td><td>27.3</td><td>224</td><td>3072.0</td><td>&quot;EBS Only&quot;</td><td>&quot;50 Gigabit&quot;</td><td>1.0</td><td>null</td><td>null</td><td>224.0</td></tr><tr><td>&quot;vt1.3xlarge&quot;</td><td>0.65</td><td>12</td><td>24.0</td><td>&quot;EBS Only&quot;</td><td>&quot;3125 Megabit&quot;</td><td>1.0</td><td>null</td><td>null</td><td>12.0</td></tr><tr><td>&quot;vt1.6xlarge&quot;</td><td>1.3</td><td>24</td><td>48.0</td><td>&quot;EBS Only&quot;</td><td>&quot;6250 Megabit&quot;</td><td>1.0</td><td>null</td><td>null</td><td>24.0</td></tr><tr><td>&quot;inf1.24xlarge&quot;</td><td>4.721</td><td>96</td><td>192.0</td><td>&quot;EBS Only&quot;</td><td>&quot;100 Gigabit&quot;</td><td>1.0</td><td>null</td><td>null</td><td>96.0</td></tr><tr><td>&quot;dl1.24xlarge&quot;</td><td>13.10904</td><td>96</td><td>768.0</td><td>&quot;4 x 1000 GB NV\u2026</td><td>&quot;400 Gigabit&quot;</td><td>1.0</td><td>null</td><td>null</td><td>96.0</td></tr><tr><td>&quot;trn1.32xlarge&quot;</td><td>21.5</td><td>128</td><td>512.0</td><td>&quot;4 x 1900 NVMe \u2026</td><td>&quot;800 Gigabit&quot;</td><td>1.0</td><td>null</td><td>null</td><td>128.0</td></tr><tr><td>&quot;vt1.24xlarge&quot;</td><td>5.2</td><td>96</td><td>192.0</td><td>&quot;EBS Only&quot;</td><td>&quot;25000 Megabit&quot;</td><td>1.0</td><td>null</td><td>null</td><td>96.0</td></tr><tr><td>&quot;inf1.xlarge&quot;</td><td>0.228</td><td>4</td><td>8.0</td><td>&quot;EBS Only&quot;</td><td>&quot;Up to 25 Gigab\u2026</td><td>1.0</td><td>null</td><td>null</td><td>4.0</td></tr><tr><td>&quot;trn1.2xlarge&quot;</td><td>1.34375</td><td>8</td><td>32.0</td><td>&quot;1 x 475 NVMe S\u2026</td><td>&quot;12500 Megabit&quot;</td><td>1.0</td><td>null</td><td>null</td><td>8.0</td></tr><tr><td>&quot;inf1.2xlarge&quot;</td><td>0.362</td><td>8</td><td>16.0</td><td>&quot;EBS Only&quot;</td><td>&quot;Up to 25 Gigab\u2026</td><td>1.0</td><td>null</td><td>null</td><td>8.0</td></tr><tr><td>&quot;inf1.6xlarge&quot;</td><td>1.18</td><td>24</td><td>48.0</td><td>&quot;EBS Only&quot;</td><td>&quot;25 Gigabit&quot;</td><td>1.0</td><td>null</td><td>null</td><td>24.0</td></tr><tr><td>&quot;trn1n.32xlarge\u2026</td><td>24.78</td><td>128</td><td>512.0</td><td>&quot;4 x 1900 NVMe \u2026</td><td>&quot;1600 Gigabit&quot;</td><td>1.0</td><td>null</td><td>null</td><td>128.0</td></tr></tbody></table></div>"
      ],
      "text/plain": [
       "shape: (613, 10)\n",
       "\u250c\u2500\u2500\u2500\u2500\u2500\u2500\u2500\u2500\u2500\u2500\u2500\u2500\u2500\u2500\u252c\u2500\u2500\u2500\u2500\u2500\u2500\u2500\u2500\u2500\u2500\u2500\u252c\u2500\u2500\u2500\u2500\u2500\u2500\u252c\u2500\u2500\u2500\u2500\u2500\u2500\u2500\u2500\u252c\u2500\u2500\u2500\u252c\u2500\u2500\u2500\u2500\u2500\u2500\u2500\u2500\u2500\u2500\u2500\u2500\u252c\u2500\u2500\u2500\u2500\u2500\u2500\u2500\u2500\u2500\u2500\u2500\u2500\u2500\u2500\u252c\u2500\u2500\u2500\u2500\u2500\u2500\u2500\u2500\u2500\u2500\u2500\u252c\u2500\u2500\u2500\u2500\u2500\u2500\u2500\u2500\u2500\u2500\u2500\u2510\n",
       "\u2502 name         \u2506 hourly_co \u2506 vcpu \u2506 memory \u2506 \u2026 \u2506 performanc \u2506 network_burs \u2506 ebs_burst \u2506 real_vcpu \u2502\n",
       "\u2502 ---          \u2506 st        \u2506 ---  \u2506 ---    \u2506   \u2506 e_per_vcpu \u2506 t            \u2506 ---       \u2506 ---       \u2502\n",
       "\u2502 str          \u2506 ---       \u2506 i64  \u2506 f64    \u2506   \u2506 ---        \u2506 ---          \u2506 str       \u2506 f64       \u2502\n",
       "\u2502              \u2506 f64       \u2506      \u2506        \u2506   \u2506 f64        \u2506 str          \u2506           \u2506           \u2502\n",
       "\u255e\u2550\u2550\u2550\u2550\u2550\u2550\u2550\u2550\u2550\u2550\u2550\u2550\u2550\u2550\u256a\u2550\u2550\u2550\u2550\u2550\u2550\u2550\u2550\u2550\u2550\u2550\u256a\u2550\u2550\u2550\u2550\u2550\u2550\u256a\u2550\u2550\u2550\u2550\u2550\u2550\u2550\u2550\u256a\u2550\u2550\u2550\u256a\u2550\u2550\u2550\u2550\u2550\u2550\u2550\u2550\u2550\u2550\u2550\u2550\u256a\u2550\u2550\u2550\u2550\u2550\u2550\u2550\u2550\u2550\u2550\u2550\u2550\u2550\u2550\u256a\u2550\u2550\u2550\u2550\u2550\u2550\u2550\u2550\u2550\u2550\u2550\u256a\u2550\u2550\u2550\u2550\u2550\u2550\u2550\u2550\u2550\u2550\u2550\u2561\n",
       "\u2502 a1.medium    \u2506 0.0255    \u2506 1    \u2506 2.0    \u2506 \u2026 \u2506 1.0        \u2506 null         \u2506 null      \u2506 1.0       \u2502\n",
       "\u2502 a1.large     \u2506 0.051     \u2506 2    \u2506 4.0    \u2506 \u2026 \u2506 1.0        \u2506 null         \u2506 null      \u2506 2.0       \u2502\n",
       "\u2502 a1.xlarge    \u2506 0.102     \u2506 4    \u2506 8.0    \u2506 \u2026 \u2506 1.0        \u2506 null         \u2506 null      \u2506 4.0       \u2502\n",
       "\u2502 a1.2xlarge   \u2506 0.204     \u2506 8    \u2506 16.0   \u2506 \u2026 \u2506 1.0        \u2506 null         \u2506 null      \u2506 8.0       \u2502\n",
       "\u2502 \u2026            \u2506 \u2026         \u2506 \u2026    \u2506 \u2026      \u2506 \u2026 \u2506 \u2026          \u2506 \u2026            \u2506 \u2026         \u2506 \u2026         \u2502\n",
       "\u2502 trn1.2xlarge \u2506 1.34375   \u2506 8    \u2506 32.0   \u2506 \u2026 \u2506 1.0        \u2506 null         \u2506 null      \u2506 8.0       \u2502\n",
       "\u2502 inf1.2xlarge \u2506 0.362     \u2506 8    \u2506 16.0   \u2506 \u2026 \u2506 1.0        \u2506 null         \u2506 null      \u2506 8.0       \u2502\n",
       "\u2502 inf1.6xlarge \u2506 1.18      \u2506 24   \u2506 48.0   \u2506 \u2026 \u2506 1.0        \u2506 null         \u2506 null      \u2506 24.0      \u2502\n",
       "\u2502 trn1n.32xlar \u2506 24.78     \u2506 128  \u2506 512.0  \u2506 \u2026 \u2506 1.0        \u2506 null         \u2506 null      \u2506 128.0     \u2502\n",
       "\u2502 ge           \u2506           \u2506      \u2506        \u2506   \u2506            \u2506              \u2506           \u2506           \u2502\n",
       "\u2514\u2500\u2500\u2500\u2500\u2500\u2500\u2500\u2500\u2500\u2500\u2500\u2500\u2500\u2500\u2534\u2500\u2500\u2500\u2500\u2500\u2500\u2500\u2500\u2500\u2500\u2500\u2534\u2500\u2500\u2500\u2500\u2500\u2500\u2534\u2500\u2500\u2500\u2500\u2500\u2500\u2500\u2500\u2534\u2500\u2500\u2500\u2534\u2500\u2500\u2500\u2500\u2500\u2500\u2500\u2500\u2500\u2500\u2500\u2500\u2534\u2500\u2500\u2500\u2500\u2500\u2500\u2500\u2500\u2500\u2500\u2500\u2500\u2500\u2500\u2534\u2500\u2500\u2500\u2500\u2500\u2500\u2500\u2500\u2500\u2500\u2500\u2534\u2500\u2500\u2500\u2500\u2500\u2500\u2500\u2500\u2500\u2500\u2500\u2518"
      ]
     },
     "execution_count": 37,
     "metadata": {},
     "output_type": "execute_result"
    }
   ],
   "source": [
    "df = pl.read_csv(\"aws_ec2_vm_instances.csv\")\n",
    "df = df.with_columns(\n",
    "    hourly_cost=pl.col(\"hourly_cost\").str.lstrip(\"$\").cast(float),\n",
    "    memory=pl.col(\"memory\").str.rstrip(\" GiB\").cast(float),\n",
    "    performance_per_vcpu=pl.when(pl.col(\"performance_per_vcpu\").is_null()).then(1).otherwise(\n",
    "        pl.col(\"performance_per_vcpu\")\n",
    "    ),\n",
    ").with_columns(\n",
    "    real_vcpu=pl.col(\"vcpu\") * pl.col(\"performance_per_vcpu\"),\n",
    ")\n",
    "df"
   ]
  },
  {
   "cell_type": "markdown",
   "metadata": {
    "tags": []
   },
   "source": [
    "## VM Instances With Highest vCPU / memory Ratio"
   ]
  },
  {
   "cell_type": "code",
   "execution_count": 38,
   "metadata": {
    "tags": []
   },
   "outputs": [
    {
     "data": {
      "text/plain": [
       "2.0"
      ]
     },
     "execution_count": 38,
     "metadata": {},
     "output_type": "execute_result"
    }
   ],
   "source": [
    "(df[\"real_vcpu\"] / df[\"memory\"]).max()"
   ]
  },
  {
   "cell_type": "code",
   "execution_count": 39,
   "metadata": {
    "tags": []
   },
   "outputs": [
    {
     "data": {
      "text/html": [
       "<div><style>\n",
       ".dataframe > thead > tr > th,\n",
       ".dataframe > tbody > tr > td {\n",
       "  text-align: right;\n",
       "}\n",
       "</style>\n",
       "<small>shape: (1, 10)</small><table border=\"1\" class=\"dataframe\"><thead><tr><th>name</th><th>hourly_cost</th><th>vcpu</th><th>memory</th><th>storage</th><th>network</th><th>performance_per_vcpu</th><th>network_burst</th><th>ebs_burst</th><th>real_vcpu</th></tr><tr><td>str</td><td>f64</td><td>i64</td><td>f64</td><td>str</td><td>str</td><td>f64</td><td>str</td><td>str</td><td>f64</td></tr></thead><tbody><tr><td>&quot;t2.nano&quot;</td><td>0.0058</td><td>1</td><td>0.5</td><td>&quot;EBS Only&quot;</td><td>&quot;Low&quot;</td><td>1.0</td><td>null</td><td>null</td><td>1.0</td></tr></tbody></table></div>"
      ],
      "text/plain": [
       "shape: (1, 10)\n",
       "\u250c\u2500\u2500\u2500\u2500\u2500\u2500\u2500\u2500\u2500\u252c\u2500\u2500\u2500\u2500\u2500\u2500\u2500\u2500\u2500\u2500\u2500\u2500\u2500\u252c\u2500\u2500\u2500\u2500\u2500\u2500\u252c\u2500\u2500\u2500\u2500\u2500\u2500\u2500\u2500\u252c\u2500\u2500\u2500\u252c\u2500\u2500\u2500\u2500\u2500\u2500\u2500\u2500\u2500\u2500\u2500\u2500\u2500\u2500\u2500\u252c\u2500\u2500\u2500\u2500\u2500\u2500\u2500\u2500\u2500\u2500\u2500\u2500\u2500\u2500\u252c\u2500\u2500\u2500\u2500\u2500\u2500\u2500\u2500\u2500\u2500\u2500\u252c\u2500\u2500\u2500\u2500\u2500\u2500\u2500\u2500\u2500\u2500\u2500\u2510\n",
       "\u2502 name    \u2506 hourly_cost \u2506 vcpu \u2506 memory \u2506 \u2026 \u2506 performance_p \u2506 network_burs \u2506 ebs_burst \u2506 real_vcpu \u2502\n",
       "\u2502 ---     \u2506 ---         \u2506 ---  \u2506 ---    \u2506   \u2506 er_vcpu       \u2506 t            \u2506 ---       \u2506 ---       \u2502\n",
       "\u2502 str     \u2506 f64         \u2506 i64  \u2506 f64    \u2506   \u2506 ---           \u2506 ---          \u2506 str       \u2506 f64       \u2502\n",
       "\u2502         \u2506             \u2506      \u2506        \u2506   \u2506 f64           \u2506 str          \u2506           \u2506           \u2502\n",
       "\u255e\u2550\u2550\u2550\u2550\u2550\u2550\u2550\u2550\u2550\u256a\u2550\u2550\u2550\u2550\u2550\u2550\u2550\u2550\u2550\u2550\u2550\u2550\u2550\u256a\u2550\u2550\u2550\u2550\u2550\u2550\u256a\u2550\u2550\u2550\u2550\u2550\u2550\u2550\u2550\u256a\u2550\u2550\u2550\u256a\u2550\u2550\u2550\u2550\u2550\u2550\u2550\u2550\u2550\u2550\u2550\u2550\u2550\u2550\u2550\u256a\u2550\u2550\u2550\u2550\u2550\u2550\u2550\u2550\u2550\u2550\u2550\u2550\u2550\u2550\u256a\u2550\u2550\u2550\u2550\u2550\u2550\u2550\u2550\u2550\u2550\u2550\u256a\u2550\u2550\u2550\u2550\u2550\u2550\u2550\u2550\u2550\u2550\u2550\u2561\n",
       "\u2502 t2.nano \u2506 0.0058      \u2506 1    \u2506 0.5    \u2506 \u2026 \u2506 1.0           \u2506 null         \u2506 null      \u2506 1.0       \u2502\n",
       "\u2514\u2500\u2500\u2500\u2500\u2500\u2500\u2500\u2500\u2500\u2534\u2500\u2500\u2500\u2500\u2500\u2500\u2500\u2500\u2500\u2500\u2500\u2500\u2500\u2534\u2500\u2500\u2500\u2500\u2500\u2500\u2534\u2500\u2500\u2500\u2500\u2500\u2500\u2500\u2500\u2534\u2500\u2500\u2500\u2534\u2500\u2500\u2500\u2500\u2500\u2500\u2500\u2500\u2500\u2500\u2500\u2500\u2500\u2500\u2500\u2534\u2500\u2500\u2500\u2500\u2500\u2500\u2500\u2500\u2500\u2500\u2500\u2500\u2500\u2500\u2534\u2500\u2500\u2500\u2500\u2500\u2500\u2500\u2500\u2500\u2500\u2500\u2534\u2500\u2500\u2500\u2500\u2500\u2500\u2500\u2500\u2500\u2500\u2500\u2518"
      ]
     },
     "execution_count": 39,
     "metadata": {},
     "output_type": "execute_result"
    }
   ],
   "source": [
    "df.filter(df[\"real_vcpu\"] / df[\"memory\"] >= 2)"
   ]
  },
  {
   "cell_type": "markdown",
   "metadata": {
    "tags": []
   },
   "source": [
    "## Cheapest VM Instance per vCPU Hour\n",
    "\n",
    "`t2.nano` is the cheapest with an hourly cost of `$0.0058` and a monthly cost of `$4.176` per vCPU."
   ]
  },
  {
   "cell_type": "code",
   "execution_count": 40,
   "metadata": {
    "tags": []
   },
   "outputs": [
    {
     "data": {
      "text/plain": [
       "0.0058"
      ]
     },
     "execution_count": 40,
     "metadata": {},
     "output_type": "execute_result"
    }
   ],
   "source": [
    "(df[\"hourly_cost\"] / df[\"real_vcpu\"]).min()"
   ]
  },
  {
   "cell_type": "code",
   "execution_count": 42,
   "metadata": {
    "tags": []
   },
   "outputs": [
    {
     "data": {
      "text/html": [
       "<div><style>\n",
       ".dataframe > thead > tr > th,\n",
       ".dataframe > tbody > tr > td {\n",
       "  text-align: right;\n",
       "}\n",
       "</style>\n",
       "<small>shape: (1, 10)</small><table border=\"1\" class=\"dataframe\"><thead><tr><th>name</th><th>hourly_cost</th><th>vcpu</th><th>memory</th><th>storage</th><th>network</th><th>performance_per_vcpu</th><th>network_burst</th><th>ebs_burst</th><th>real_vcpu</th></tr><tr><td>str</td><td>f64</td><td>i64</td><td>f64</td><td>str</td><td>str</td><td>f64</td><td>str</td><td>str</td><td>f64</td></tr></thead><tbody><tr><td>&quot;t2.nano&quot;</td><td>0.0058</td><td>1</td><td>0.5</td><td>&quot;EBS Only&quot;</td><td>&quot;Low&quot;</td><td>1.0</td><td>null</td><td>null</td><td>1.0</td></tr></tbody></table></div>"
      ],
      "text/plain": [
       "shape: (1, 10)\n",
       "\u250c\u2500\u2500\u2500\u2500\u2500\u2500\u2500\u2500\u2500\u252c\u2500\u2500\u2500\u2500\u2500\u2500\u2500\u2500\u2500\u2500\u2500\u2500\u2500\u252c\u2500\u2500\u2500\u2500\u2500\u2500\u252c\u2500\u2500\u2500\u2500\u2500\u2500\u2500\u2500\u252c\u2500\u2500\u2500\u252c\u2500\u2500\u2500\u2500\u2500\u2500\u2500\u2500\u2500\u2500\u2500\u2500\u2500\u2500\u2500\u252c\u2500\u2500\u2500\u2500\u2500\u2500\u2500\u2500\u2500\u2500\u2500\u2500\u2500\u2500\u252c\u2500\u2500\u2500\u2500\u2500\u2500\u2500\u2500\u2500\u2500\u2500\u252c\u2500\u2500\u2500\u2500\u2500\u2500\u2500\u2500\u2500\u2500\u2500\u2510\n",
       "\u2502 name    \u2506 hourly_cost \u2506 vcpu \u2506 memory \u2506 \u2026 \u2506 performance_p \u2506 network_burs \u2506 ebs_burst \u2506 real_vcpu \u2502\n",
       "\u2502 ---     \u2506 ---         \u2506 ---  \u2506 ---    \u2506   \u2506 er_vcpu       \u2506 t            \u2506 ---       \u2506 ---       \u2502\n",
       "\u2502 str     \u2506 f64         \u2506 i64  \u2506 f64    \u2506   \u2506 ---           \u2506 ---          \u2506 str       \u2506 f64       \u2502\n",
       "\u2502         \u2506             \u2506      \u2506        \u2506   \u2506 f64           \u2506 str          \u2506           \u2506           \u2502\n",
       "\u255e\u2550\u2550\u2550\u2550\u2550\u2550\u2550\u2550\u2550\u256a\u2550\u2550\u2550\u2550\u2550\u2550\u2550\u2550\u2550\u2550\u2550\u2550\u2550\u256a\u2550\u2550\u2550\u2550\u2550\u2550\u256a\u2550\u2550\u2550\u2550\u2550\u2550\u2550\u2550\u256a\u2550\u2550\u2550\u256a\u2550\u2550\u2550\u2550\u2550\u2550\u2550\u2550\u2550\u2550\u2550\u2550\u2550\u2550\u2550\u256a\u2550\u2550\u2550\u2550\u2550\u2550\u2550\u2550\u2550\u2550\u2550\u2550\u2550\u2550\u256a\u2550\u2550\u2550\u2550\u2550\u2550\u2550\u2550\u2550\u2550\u2550\u256a\u2550\u2550\u2550\u2550\u2550\u2550\u2550\u2550\u2550\u2550\u2550\u2561\n",
       "\u2502 t2.nano \u2506 0.0058      \u2506 1    \u2506 0.5    \u2506 \u2026 \u2506 1.0           \u2506 null         \u2506 null      \u2506 1.0       \u2502\n",
       "\u2514\u2500\u2500\u2500\u2500\u2500\u2500\u2500\u2500\u2500\u2534\u2500\u2500\u2500\u2500\u2500\u2500\u2500\u2500\u2500\u2500\u2500\u2500\u2500\u2534\u2500\u2500\u2500\u2500\u2500\u2500\u2534\u2500\u2500\u2500\u2500\u2500\u2500\u2500\u2500\u2534\u2500\u2500\u2500\u2534\u2500\u2500\u2500\u2500\u2500\u2500\u2500\u2500\u2500\u2500\u2500\u2500\u2500\u2500\u2500\u2534\u2500\u2500\u2500\u2500\u2500\u2500\u2500\u2500\u2500\u2500\u2500\u2500\u2500\u2500\u2534\u2500\u2500\u2500\u2500\u2500\u2500\u2500\u2500\u2500\u2500\u2500\u2534\u2500\u2500\u2500\u2500\u2500\u2500\u2500\u2500\u2500\u2500\u2500\u2518"
      ]
     },
     "execution_count": 42,
     "metadata": {},
     "output_type": "execute_result"
    }
   ],
   "source": [
    "df.filter(df[\"hourly_cost\"] / df[\"real_vcpu\"] <= 0.0058)"
   ]
  },
  {
   "cell_type": "markdown",
   "metadata": {
    "tags": []
   },
   "source": [
    "Monthly cost (USD)."
   ]
  },
  {
   "cell_type": "code",
   "execution_count": 43,
   "metadata": {
    "tags": []
   },
   "outputs": [
    {
     "data": {
      "text/plain": [
       "4.176"
      ]
     },
     "execution_count": 43,
     "metadata": {},
     "output_type": "execute_result"
    }
   ],
   "source": [
    "0.0058 * 24 * 30"
   ]
  },
  {
   "cell_type": "markdown",
   "metadata": {
    "tags": []
   },
   "source": [
    "## References\n",
    "\n",
    "- [Comparison of Popular Cloud Platforms]( https://www.legendu.net/misc/blog/comparison-of-popular-cloud-platforms )\n",
    "\n",
    "- [AWS EC2 Pricing](https://aws.amazon.com/ec2/pricing/on-demand/)"
   ]
  },
  {
   "cell_type": "code",
   "execution_count": null,
   "metadata": {},
   "outputs": [],
   "source": []
  }
 ],
 "metadata": {
  "file_extension": ".py",
  "kernelspec": {
   "display_name": "Python 3 (ipykernel)",
   "language": "python",
   "name": "python3"
  },
  "language_info": {
   "codemirror_mode": {
    "name": "ipython",
    "version": 3
   },
   "file_extension": ".py",
   "mimetype": "text/x-python",
   "name": "python",
   "nbconvert_exporter": "python",
   "pygments_lexer": "ipython3",
   "version": "3.10.6"
  },
  "mimetype": "text/x-python",
  "name": "python",
  "npconvert_exporter": "python",
  "pygments_lexer": "ipython3",
  "version": 3
 },
 "nbformat": 4,
 "nbformat_minor": 4
}