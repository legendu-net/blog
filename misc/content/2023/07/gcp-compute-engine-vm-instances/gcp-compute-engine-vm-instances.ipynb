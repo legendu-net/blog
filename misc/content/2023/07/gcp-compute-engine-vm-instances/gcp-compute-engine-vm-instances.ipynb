{
 "cells": [
  {
   "attachments": {},
   "cell_type": "markdown",
   "metadata": {},
   "source": [
    "- Author: Benjamin Du\n",
    "- Date: 2023-07-01 17:57:54\n",
    "- Modified: 2024-03-04 22:25:52\n",
    "- Title: GCP Compute Engine VM Instances\n",
    "- Slug: gcp-compute-engine-vm-instances\n",
    "- Category: Computer Science\n",
    "- Tags: Computer Science, programming, cloud, GCP, VM, compute engine, spot, Google"
   ]
  },
  {
   "cell_type": "markdown",
   "metadata": {},
   "source": [
    "**Things on this page are fragmentary and immature notes/thoughts of the author. Please read with your own judgement!**"
   ]
  },
  {
   "attachments": {},
   "cell_type": "markdown",
   "metadata": {},
   "source": [
    "## GCP\n",
    "\n",
    "GCP c2 and c3 VMs are good choices according to performance per price.\n",
    "It's even cheaper than customized VM types with reduced memories!\n",
    "GCP c2 VMs are compute optimized and are ideal for CPU intensive workloads.\n",
    "Note that GCP c2 spot VMs are even cheaper than AWS t2.nano VMs\n",
    "if you can stand your VM being preempted.\n",
    "\n",
    "![gcp-c2-price](https://user-images.githubusercontent.com/824507/250313656-891cd99a-c9a0-4004-9158-fd87503c39a6.png)\n",
    "\n",
    "![gcp-c3-price](https://user-images.githubusercontent.com/824507/250313771-b776b124-5503-4aa9-a457-a55452bfdf67.png)"
   ]
  },
  {
   "cell_type": "markdown",
   "metadata": {},
   "source": [
    "## Create GCP VMs Using Command Line\n",
    "\n",
    "```\n",
    "gcloud compute instances create instance-20240304-20240304-064337 \\\n",
    "    --project=crested-studio-416206 \\\n",
    "    --zone=northamerica-northeast1-c \\\n",
    "    --machine-type=e2-medium \\\n",
    "    --network-interface=network-tier=PREMIUM,stack-type=IPV4_ONLY,subnet=default \\\n",
    "    --maintenance-policy=MIGRATE \\\n",
    "    --provisioning-model=STANDARD \\\n",
    "    --service-account=170261695503-compute@developer.gserviceaccount.com \\\n",
    "    --scopes=https://www.googleapis.com/auth/cloud-platform \\\n",
    "    --tags=https-server,lb-health-check \\\n",
    "    --create-disk=auto-delete=yes,boot=yes,device-name=instance-20240304-062735,image=projects/ubuntu-os-cloud/global/images/ubuntu-2204-jammy-v20240228,mode=rw,size=10,type=projects/crested-studio-416206/zones/northamerica-northeast1-c/diskTypes/pd-balanced \\\n",
    "    --no-shielded-secure-boot \\\n",
    "    --shielded-vtpm \\\n",
    "    --shielded-integrity-monitoring \\\n",
    "    --labels=goog-ec-src=vm_add-gcloud \\\n",
    "    --reservation-affinity=any\n",
    "```"
   ]
  },
  {
   "cell_type": "markdown",
   "metadata": {},
   "source": [
    "## References\n",
    "\n",
    "- [Comparison of Popular Cloud Platforms]( https://www.legendu.net/misc/blog/comparison-of-popular-cloud-platforms )\n",
    "\n",
    "- [GCP - Create a VM with a custom machine type](https://cloud.google.com/compute/docs/instances/creating-instance-with-custom-machine-type)\n",
    "\n",
    "- [GCP - Free cloud features and trial offer](https://cloud.google.com/free/docs/free-cloud-features#compute)\n",
    "\n",
    "- [GCP - Choosing the right virtual machine type](https://cloud.google.com/compute#section-6)\n",
    "\n",
    "- [GCP Product Calculator](https://cloud.google.com/products/calculator)\n",
    "\n",
    "- [GCP - Compute Engine Pricing](https://cloud.google.com/compute/all-pricing)"
   ]
  },
  {
   "cell_type": "code",
   "execution_count": null,
   "metadata": {},
   "outputs": [],
   "source": []
  }
 ],
 "metadata": {
  "file_extension": ".py",
  "kernelspec": {
   "display_name": "Python 3 (ipykernel)",
   "language": "python",
   "name": "python3"
  },
  "language_info": {
   "codemirror_mode": {
    "name": "ipython",
    "version": 3
   },
   "file_extension": ".py",
   "mimetype": "text/x-python",
   "name": "python",
   "nbconvert_exporter": "python",
   "pygments_lexer": "ipython3",
   "version": "3.10.12"
  },
  "mimetype": "text/x-python",
  "name": "python",
  "npconvert_exporter": "python",
  "pygments_lexer": "ipython3",
  "version": 3
 },
 "nbformat": 4,
 "nbformat_minor": 4
}