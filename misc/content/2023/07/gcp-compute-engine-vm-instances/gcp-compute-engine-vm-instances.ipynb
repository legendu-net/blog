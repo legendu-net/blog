{
 "cells": [
  {
   "cell_type": "markdown",
   "metadata": {},
   "source": [
    "- Author: Benjamin Du\n",
    "- Date: 2023-07-01 17:57:54\n",
    "- Modified: 2023-07-01 17:57:54\n",
    "- Title: GCP Compute Engine Vm Instances\n",
    "- Slug: gcp-compute-engine-vm-instances\n",
    "- Category: Computer Science\n",
    "- Tags: Computer Science, programming, cloud, GCP, VM, compute engine, spot, C2, C3, Google"
   ]
  },
  {
   "cell_type": "markdown",
   "metadata": {},
   "source": [
    "**Things on this page are fragmentary and immature notes/thoughts of the author. Please read with your own judgement!**"
   ]
  },
  {
   "cell_type": "markdown",
   "metadata": {},
   "source": [
    "## GCP\n",
    "\n",
    "GCP c2 and c3 VMs are good choices according to performance per price.\n",
    "It's even cheaper than customized VM types with reduced memories!\n",
    "GCP c2 VMs are compute optimized and are ideal for CPU intensive workloads.\n",
    "Note that GCP c2 spot VMs are even cheaper than AWS t2.nano VMs\n",
    "if you can stand your VM being preempted.\n",
    "\n",
    "![](https://user-images.githubusercontent.com/824507/250313656-891cd99a-c9a0-4004-9158-fd87503c39a6.png)\n",
    "\n",
    "![](https://user-images.githubusercontent.com/824507/250313771-b776b124-5503-4aa9-a457-a55452bfdf67.png)"
   ]
  },
  {
   "cell_type": "markdown",
   "metadata": {},
   "source": [
    "## References\n",
    "\n",
    "- [Comparison of Popular Cloud Platforms]( https://www.legendu.net/misc/blog/comparison-of-popular-cloud-platforms )\n",
    "\n",
    "- [GCP - Create a VM with a custom machine type](https://cloud.google.com/compute/docs/instances/creating-instance-with-custom-machine-type)\n",
    "\n",
    "- [GCP - Free cloud features and trial offer](https://cloud.google.com/free/docs/free-cloud-features#compute)\n",
    "\n",
    "- [GCP - Choosing the right virtual machine type](https://cloud.google.com/compute#section-6)\n",
    "\n",
    "- [GCP Product Calculator](https://cloud.google.com/products/calculator)\n",
    "\n",
    "- [GCP - Compute Engine Pricing](https://cloud.google.com/compute/all-pricing)"
   ]
  },
  {
   "cell_type": "code",
   "execution_count": null,
   "metadata": {},
   "outputs": [],
   "source": []
  }
 ],
 "metadata": {
  "file_extension": ".py",
  "kernelspec": {
   "display_name": "Python 3 (ipykernel)",
   "language": "python",
   "name": "python3"
  },
  "language_info": {
   "codemirror_mode": {
    "name": "ipython",
    "version": 3
   },
   "file_extension": ".py",
   "mimetype": "text/x-python",
   "name": "python",
   "nbconvert_exporter": "python",
   "pygments_lexer": "ipython3",
   "version": "3.10.6"
  },
  "mimetype": "text/x-python",
  "name": "python",
  "npconvert_exporter": "python",
  "pygments_lexer": "ipython3",
  "version": 3
 },
 "nbformat": 4,
 "nbformat_minor": 4
}
