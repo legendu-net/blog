{
 "cells": [
  {
   "cell_type": "markdown",
   "metadata": {},
   "source": [
    "- Author: Benjamin Du\n",
    "- Date: 2023-09-05 16:25:47\n",
    "- Modified: 2023-09-05 16:25:47\n",
    "- Title: Convert PDF to Image Using Fitz in Python\n",
    "- Slug: convert-pdf-to-image-using-fitz-in-python\n",
    "- Category: Computer Science\n",
    "- Tags: Computer Science, programming, Python, PDF, convert, image, fitz"
   ]
  },
  {
   "cell_type": "markdown",
   "metadata": {},
   "source": [
    "**Things on this page are fragmentary and immature notes/thoughts of the author. Please read with your own judgement!**"
   ]
  },
  {
   "cell_type": "code",
   "execution_count": null,
   "metadata": {
    "tags": []
   },
   "outputs": [],
   "source": [
    "!wajig install python3-fitz"
   ]
  },
  {
   "cell_type": "code",
   "execution_count": 6,
   "metadata": {
    "tags": []
   },
   "outputs": [],
   "source": [
    "import fitz"
   ]
  },
  {
   "cell_type": "code",
   "execution_count": 10,
   "metadata": {
    "tags": []
   },
   "outputs": [],
   "source": [
    "pdffile = \"source.pdf\""
   ]
  },
  {
   "cell_type": "code",
   "execution_count": 11,
   "metadata": {
    "tags": []
   },
   "outputs": [],
   "source": [
    "doc = fitz.open(pdffile)"
   ]
  },
  {
   "cell_type": "code",
   "execution_count": 12,
   "metadata": {
    "tags": []
   },
   "outputs": [],
   "source": [
    "zoom = 4\n",
    "mat = fitz.Matrix(zoom, zoom)\n",
    "count = 0\n",
    "# Count variable is to get the number of pages in the pdf\n",
    "for p in doc:\n",
    "    count += 1\n",
    "for i in range(count):\n",
    "    val = f\"my_image_{i+1}.png\"\n",
    "    page = doc.load_page(i)\n",
    "    pix = page.get_pixmap()\n",
    "    pix.save(val)\n",
    "doc.close()"
   ]
  }
 ],
 "metadata": {
  "file_extension": ".py",
  "kernelspec": {
   "display_name": "Python 3 (ipykernel)",
   "language": "python",
   "name": "python3"
  },
  "language_info": {
   "codemirror_mode": {
    "name": "ipython",
    "version": 3
   },
   "file_extension": ".py",
   "mimetype": "text/x-python",
   "name": "python",
   "nbconvert_exporter": "python",
   "pygments_lexer": "ipython3",
   "version": "3.10.12"
  },
  "mimetype": "text/x-python",
  "name": "python",
  "npconvert_exporter": "python",
  "pygments_lexer": "ipython3",
  "version": 3
 },
 "nbformat": 4,
 "nbformat_minor": 4
}
