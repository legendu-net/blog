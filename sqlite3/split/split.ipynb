{
 "cells": [
  {
   "cell_type": "markdown",
   "metadata": {},
   "source": [
    "## Commens\n",
    "\n",
    "Too complicated!"
   ]
  },
  {
   "cell_type": "code",
   "execution_count": 1,
   "metadata": {},
   "outputs": [],
   "source": [
    "%defaultDatasource jdbc:sqlite:split.sqlite3"
   ]
  },
  {
   "cell_type": "code",
   "execution_count": 2,
   "metadata": {},
   "outputs": [
    {
     "ename": "org.sqlite.SQLiteException",
     "evalue": " [SQLITE_ERROR] SQL error or missing database (table states already exists)",
     "output_type": "error",
     "text": "org.sqlite.SQLiteException: [SQLITE_ERROR] SQL error or missing database (table states already exists)",
     "traceback": [
      "\u001b[1;31morg.sqlite.SQLiteException: [SQLITE_ERROR] SQL error or missing database (table states already exists)\u001b[0;0m"
     ]
    }
   ],
   "source": [
    "create table states (\n",
    "    state text,\n",
    "    cities text\n",
    ")"
   ]
  },
  {
   "cell_type": "code",
   "execution_count": 3,
   "metadata": {},
   "outputs": [
    {
     "data": {
      "text/plain": [
       "2"
      ]
     },
     "execution_count": 3,
     "metadata": {},
     "output_type": "execute_result"
    }
   ],
   "source": [
    "select count(*) from states"
   ]
  },
  {
   "cell_type": "code",
   "execution_count": 6,
   "metadata": {},
   "outputs": [],
   "source": [
    "insert into states (\n",
    "    state,\n",
    "    cities\n",
    ") values (\n",
    "    'Iowa',\n",
    "    'Ames, Des Moines, Iowa City'\n",
    "), (\n",
    "    'Illinois',\n",
    "    'Chicago, Buffalo Grove'\n",
    ")"
   ]
  },
  {
   "cell_type": "code",
   "execution_count": 4,
   "metadata": {},
   "outputs": [
    {
     "data": {
      "application/vnd.jupyter.widget-view+json": {
       "model_id": "112299c1-73a5-4f6c-afc4-41c3e92a6297",
       "version_major": 2,
       "version_minor": 0
      },
      "method": "display_data"
     },
     "metadata": {},
     "output_type": "display_data"
    }
   ],
   "source": [
    "select * from states"
   ]
  },
  {
   "cell_type": "code",
   "execution_count": 5,
   "metadata": {},
   "outputs": [
    {
     "data": {
      "application/vnd.jupyter.widget-view+json": {
       "model_id": "7055dbfa-d230-41a1-8a40-f2f6659981b6",
       "version_major": 2,
       "version_minor": 0
      },
      "method": "display_data"
     },
     "metadata": {},
     "output_type": "display_data"
    }
   ],
   "source": [
    "WITH RECURSIVE split(s, last, rest) AS (\n",
    "  VALUES('', '', 'C:\\Users\\fidel\\Desktop\\Temp')\n",
    "  UNION ALL\n",
    "  SELECT s || substr(rest, 1, 1),\n",
    "         substr(rest, 1, 1),\n",
    "         substr(rest, 2)\n",
    "  FROM split\n",
    "  WHERE rest <> ''\n",
    ")\n",
    "SELECT s\n",
    "FROM split\n",
    "WHERE rest = ''\n",
    "   OR last = '\\';"
   ]
  },
  {
   "cell_type": "code",
   "execution_count": 7,
   "metadata": {},
   "outputs": [
    {
     "data": {
      "application/vnd.jupyter.widget-view+json": {
       "model_id": "8ce7ebc4-7b00-4c7f-80bd-6335abd04c29",
       "version_major": 2,
       "version_minor": 0
      },
      "method": "display_data"
     },
     "metadata": {},
     "output_type": "display_data"
    }
   ],
   "source": [
    "WITH RECURSIVE split(s, last, rest) AS (\n",
    "    VALUES('', '', 'C:\\Users\\fidel\\Desktop\\Temp')\n",
    "    UNION ALL\n",
    "    SELECT s || substr(rest, 1, 1),\n",
    "         substr(rest, 1, 1),\n",
    "         substr(rest, 2)\n",
    "    FROM split\n",
    "    WHERE rest <> ''\n",
    ")\n",
    "SELECT \n",
    "    *\n",
    "FROM \n",
    "    split\n",
    ";"
   ]
  },
  {
   "cell_type": "code",
   "execution_count": null,
   "metadata": {},
   "outputs": [],
   "source": []
  }
 ],
 "metadata": {
  "kernelspec": {
   "display_name": "SQL",
   "language": "SQL",
   "name": "sql"
  },
  "language_info": {
   "codemirror_mode": "sql",
   "file_extension": ".sql",
   "mimetype": "",
   "name": "SQL",
   "nbconverter_exporter": "",
   "version": ""
  }
 },
 "nbformat": 4,
 "nbformat_minor": 2
}
