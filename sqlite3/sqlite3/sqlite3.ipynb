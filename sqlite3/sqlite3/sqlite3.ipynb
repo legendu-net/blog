{
 "cells": [
  {
   "cell_type": "code",
   "execution_count": 3,
   "metadata": {},
   "outputs": [],
   "source": [
    "%defaultDatasource jdbc:sqlite:.blogger.sqlite3"
   ]
  },
  {
   "cell_type": "code",
   "execution_count": 7,
   "metadata": {},
   "outputs": [
    {
     "data": {
      "application/vnd.jupyter.widget-view+json": {
       "model_id": "c452280e-292b-4acc-8e58-ae683f950473",
       "version_major": 2,
       "version_minor": 0
      },
      "method": "display_data"
     },
     "metadata": {},
     "output_type": "display_data"
    }
   ],
   "source": [
    "select * from sqlite_master"
   ]
  },
  {
   "cell_type": "code",
   "execution_count": 8,
   "metadata": {},
   "outputs": [
    {
     "data": {
      "application/vnd.jupyter.widget-view+json": {
       "model_id": "ce54eac8-a0a4-4216-b126-d52891dfbe80",
       "version_major": 2,
       "version_minor": 0
      },
      "method": "display_data"
     },
     "metadata": {},
     "output_type": "display_data"
    }
   ],
   "source": [
    "select * from posts limit 10"
   ]
  },
  {
   "cell_type": "code",
   "execution_count": 10,
   "metadata": {},
   "outputs": [
    {
     "data": {
      "application/vnd.jupyter.widget-view+json": {
       "model_id": "a41b37d9-96b8-422d-b247-98bed0f42564",
       "version_major": 2,
       "version_minor": 0
      },
      "method": "display_data"
     },
     "metadata": {},
     "output_type": "display_data"
    }
   ],
   "source": [
    "select rowid, * from posts where title like '%airflow tips%'"
   ]
  },
  {
   "cell_type": "code",
   "execution_count": 12,
   "metadata": {},
   "outputs": [
    {
     "data": {
      "text/plain": [
       "UUID: a64534c3-c495-436a-a1f6-d21dd3fc135f\n",
       "Status: published\n",
       "Date: 2018-10-20 12:32:02\n",
       "Author: Ben Chuanlong Du\n",
       "Slug: apache-airflow-tips\n",
       "Title: Apache Airflow Tips\n",
       "Category: Programming\n",
       "Tags: programming\n",
       "\n",
       "**\n",
       "Things on this page are\n",
       "fragmentary and immature notes/thoughts of the author.\n",
       "It is not meant to readers\n",
       "but rather for convenient reference of the author and future improvement.\n",
       "**\n",
       "\n",
       "https://airflow.apache.org/start.html\n",
       "\n",
       "https://airflow.apache.org/installation.html\n",
       "\n",
       "\n",
       "https://airflow.apache.org/tutorial.html"
      ]
     },
     "execution_count": 12,
     "metadata": {},
     "output_type": "execute_result"
    }
   ],
   "source": [
    "select content from posts where rowid = 479"
   ]
  },
  {
   "cell_type": "code",
   "execution_count": null,
   "metadata": {},
   "outputs": [],
   "source": []
  }
 ],
 "metadata": {
  "kernelspec": {
   "display_name": "SQL",
   "language": "SQL",
   "name": "sql"
  },
  "language_info": {
   "codemirror_mode": "sql",
   "file_extension": ".sql",
   "mimetype": "",
   "name": "SQL",
   "nbconverter_exporter": "",
   "version": ""
  }
 },
 "nbformat": 4,
 "nbformat_minor": 2
}
