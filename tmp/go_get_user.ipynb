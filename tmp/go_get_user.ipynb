{
 "cells": [
  {
   "cell_type": "code",
   "execution_count": null,
   "id": "04c68883-ae68-43df-9e52-42ad08949fc1",
   "metadata": {},
   "outputs": [],
   "source": [
    "import \"os/user\""
   ]
  },
  {
   "cell_type": "code",
   "execution_count": null,
   "id": "5f10aa5f-9c5b-4f23-b15b-eaf0ce9cae4e",
   "metadata": {},
   "outputs": [],
   "source": [
    "currentUser, err := user.Current()"
   ]
  },
  {
   "cell_type": "code",
   "execution_count": null,
   "id": "f8aac161-ec86-459e-8262-76a25967cca8",
   "metadata": {},
   "outputs": [],
   "source": [
    "currentUser"
   ]
  },
  {
   "cell_type": "code",
   "execution_count": null,
   "id": "04ef86e3-142c-4549-8be4-173172fbd56a",
   "metadata": {},
   "outputs": [],
   "source": [
    "currentUser.Username"
   ]
  },
  {
   "cell_type": "code",
   "execution_count": null,
   "id": "d05e5236-3966-479a-80c3-8af92b40f99c",
   "metadata": {},
   "outputs": [],
   "source": [
    "currentUser.Uid"
   ]
  },
  {
   "cell_type": "code",
   "execution_count": null,
   "id": "ec33e76b-c948-4557-944b-63c26a49c632",
   "metadata": {},
   "outputs": [],
   "source": [
    "currentUser.Gid"
   ]
  },
  {
   "cell_type": "code",
   "execution_count": null,
   "id": "8a8274c3-d203-472a-b09e-9b163e564c19",
   "metadata": {},
   "outputs": [],
   "source": []
  }
 ],
 "metadata": {
  "kernelspec": {
   "display_name": "Go",
   "language": "go",
   "name": "gophernotes"
  },
  "language_info": {
   "codemirror_mode": "",
   "file_extension": ".go",
   "mimetype": "",
   "name": "go",
   "nbconvert_exporter": "",
   "pygments_lexer": "",
   "version": "go1.18.3"
  }
 },
 "nbformat": 4,
 "nbformat_minor": 5
}
