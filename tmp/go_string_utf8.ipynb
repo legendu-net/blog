{
 "cells": [
  {
   "cell_type": "code",
   "execution_count": 1,
   "id": "8d19f44f-fe83-4b73-9d90-e6e474c8f665",
   "metadata": {},
   "outputs": [],
   "source": [
    "s := \"在线中文输入\""
   ]
  },
  {
   "cell_type": "code",
   "execution_count": 2,
   "id": "fb8e75da-fbca-40bd-9d6e-742ab7a54f46",
   "metadata": {},
   "outputs": [
    {
     "data": {
      "text/plain": [
       "在线中文输入"
      ]
     },
     "execution_count": 2,
     "metadata": {},
     "output_type": "execute_result"
    }
   ],
   "source": [
    "s"
   ]
  },
  {
   "cell_type": "code",
   "execution_count": 3,
   "id": "e8130bc5-5f14-4183-8c01-b329c1859913",
   "metadata": {},
   "outputs": [
    {
     "data": {
      "text/plain": [
       "18"
      ]
     },
     "execution_count": 3,
     "metadata": {},
     "output_type": "execute_result"
    }
   ],
   "source": [
    "len(s)"
   ]
  },
  {
   "cell_type": "code",
   "execution_count": 4,
   "id": "f78305b4-a195-424d-8136-c2f7f894be11",
   "metadata": {},
   "outputs": [],
   "source": [
    "import \"unicode/utf8\""
   ]
  },
  {
   "cell_type": "code",
   "execution_count": 5,
   "id": "cae566ed-c7bf-434a-8050-e0b5aef5ee0b",
   "metadata": {},
   "outputs": [
    {
     "data": {
      "text/plain": [
       "A to Z"
      ]
     },
     "execution_count": 5,
     "metadata": {},
     "output_type": "execute_result"
    }
   ],
   "source": [
    "q := \"A to Z\"\n",
    "q"
   ]
  },
  {
   "cell_type": "code",
   "execution_count": 7,
   "id": "06714406-eb4a-43c5-b4f7-347322aa00bd",
   "metadata": {},
   "outputs": [],
   "source": [
    "fc, size1 := utf8.DecodeRuneInString(q)"
   ]
  },
  {
   "cell_type": "code",
   "execution_count": 8,
   "id": "f65a7123-d961-425d-bb30-422ee25f6668",
   "metadata": {},
   "outputs": [
    {
     "data": {
      "text/plain": [
       "65"
      ]
     },
     "execution_count": 8,
     "metadata": {},
     "output_type": "execute_result"
    }
   ],
   "source": [
    "fc"
   ]
  },
  {
   "cell_type": "code",
   "execution_count": 9,
   "id": "8f5013f6-dfd7-44bd-ae61-13f7add790a9",
   "metadata": {},
   "outputs": [
    {
     "data": {
      "text/plain": [
       "1"
      ]
     },
     "execution_count": 9,
     "metadata": {},
     "output_type": "execute_result"
    }
   ],
   "source": [
    "size1"
   ]
  },
  {
   "cell_type": "code",
   "execution_count": 10,
   "id": "3898d041-b242-4087-b2d0-52a45d0318ee",
   "metadata": {},
   "outputs": [],
   "source": [
    "lc, size2 := utf8.DecodeLastRuneInString(q)"
   ]
  },
  {
   "cell_type": "code",
   "execution_count": 11,
   "id": "3ec9b878-0bba-42b9-80f8-51aecb27ecef",
   "metadata": {},
   "outputs": [
    {
     "data": {
      "text/plain": [
       "90"
      ]
     },
     "execution_count": 11,
     "metadata": {},
     "output_type": "execute_result"
    }
   ],
   "source": [
    "lc"
   ]
  },
  {
   "cell_type": "code",
   "execution_count": 12,
   "id": "8539df0c-fac7-4a86-9089-aa0d04e3afe2",
   "metadata": {},
   "outputs": [
    {
     "data": {
      "text/plain": [
       "1"
      ]
     },
     "execution_count": 12,
     "metadata": {},
     "output_type": "execute_result"
    }
   ],
   "source": [
    "size2"
   ]
  },
  {
   "cell_type": "code",
   "execution_count": 14,
   "id": "f88f76fc-2107-4cd9-9c0a-0bbba3d16cce",
   "metadata": {},
   "outputs": [],
   "source": [
    "fc, size1 := utf8.DecodeRuneInString(s)"
   ]
  },
  {
   "cell_type": "code",
   "execution_count": 15,
   "id": "8bec917d-0416-41ae-8d59-18d324bedefb",
   "metadata": {},
   "outputs": [
    {
     "data": {
      "text/plain": [
       "22312"
      ]
     },
     "execution_count": 15,
     "metadata": {},
     "output_type": "execute_result"
    }
   ],
   "source": [
    "fc"
   ]
  },
  {
   "cell_type": "code",
   "execution_count": 16,
   "id": "3bf3f826-d691-4c45-827f-2c94a40f2215",
   "metadata": {},
   "outputs": [
    {
     "data": {
      "text/plain": [
       "3"
      ]
     },
     "execution_count": 16,
     "metadata": {},
     "output_type": "execute_result"
    }
   ],
   "source": [
    "size1"
   ]
  },
  {
   "cell_type": "code",
   "execution_count": 17,
   "id": "a4f1c0df-754e-4202-a868-bb5907b4a771",
   "metadata": {},
   "outputs": [
    {
     "ename": "ERROR",
     "evalue": "repl.go:1:1: undefined identifier: typeof",
     "output_type": "error",
     "traceback": [
      "repl.go:1:1: undefined identifier: typeof"
     ]
    }
   ],
   "source": [
    "https://www.developer.com/languages/strings-in-go/\n",
    "How to Use Strings in Go (Golang)\n"
   ]
  },
  {
   "cell_type": "code",
   "execution_count": null,
   "id": "14a226e4-72a6-433c-bc34-a1a083781583",
   "metadata": {},
   "outputs": [],
   "source": []
  }
 ],
 "metadata": {
  "kernelspec": {
   "display_name": "Go",
   "language": "go",
   "name": "gophernotes"
  },
  "language_info": {
   "codemirror_mode": "",
   "file_extension": ".go",
   "mimetype": "",
   "name": "go",
   "nbconvert_exporter": "",
   "pygments_lexer": "",
   "version": "go1.18.3"
  }
 },
 "nbformat": 4,
 "nbformat_minor": 5
}
