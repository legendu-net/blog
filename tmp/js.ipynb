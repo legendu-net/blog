{
 "cells": [
  {
   "cell_type": "code",
   "execution_count": 2,
   "id": "22778f53-65a2-4b59-9d0b-3599bef06d05",
   "metadata": {},
   "outputs": [
    {
     "name": "stderr",
     "output_type": "stream",
     "text": [
      "1:17 - No overload matches this call.\n",
      "1:17 - Overload 1 of 2, '(iterable?: Iterable<any>): Set<any>', gave the following error.\n",
      "1:17 - Argument of type 'number' is not assignable to parameter of type 'Iterable<any>'.\n",
      "1:17 - Overload 2 of 2, '(values?: readonly any[]): Set<any>', gave the following error.\n",
      "1:17 - Argument of type 'number' is not assignable to parameter of type 'readonly any[]'.\n",
      "1:20 - ',' expected.\n",
      "1:22 - Cannot redeclare block-scoped variable '(Missing)'.\n",
      "1:22 - ':' expected.\n",
      "1:25 - Cannot redeclare block-scoped variable '(Missing)'.\n",
      "1:25 - ':' expected.\n",
      "1:28 - Cannot redeclare block-scoped variable '(Missing)'.\n",
      "1:28 - ':' expected.\n"
     ]
    }
   ],
   "source": [
    "let a = new Set(3) {1, 2, 3}"
   ]
  },
  {
   "cell_type": "code",
   "execution_count": 3,
   "id": "7d98c901-0692-4edc-89a6-5b5bc67d1edc",
   "metadata": {},
   "outputs": [
    {
     "name": "stderr",
     "output_type": "stream",
     "text": [
      "1:1 - Value of type 'SetConstructor' is not callable. Did you mean to include 'new'?\n"
     ]
    }
   ],
   "source": [
    "Set(3)"
   ]
  },
  {
   "cell_type": "code",
   "execution_count": 5,
   "id": "4969932e-14c4-4c26-a810-cd6c74f5ab3a",
   "metadata": {},
   "outputs": [
    {
     "name": "stdout",
     "output_type": "stream",
     "text": [
      "Set(0) {}\n"
     ]
    }
   ],
   "source": [
    "new Set()"
   ]
  },
  {
   "cell_type": "code",
   "execution_count": 6,
   "id": "e492582e-129e-419a-802a-c35781eafc08",
   "metadata": {},
   "outputs": [
    {
     "name": "stderr",
     "output_type": "stream",
     "text": [
      "1:2 - Left side of comma operator is unused and has no side effects.\n",
      "1:2 - Left side of comma operator is unused and has no side effects.\n"
     ]
    }
   ],
   "source": [
    "{1, 2, 3}"
   ]
  },
  {
   "cell_type": "code",
   "execution_count": 7,
   "id": "817e719b-203c-4003-a530-40fd22cd89d3",
   "metadata": {},
   "outputs": [
    {
     "name": "stdout",
     "output_type": "stream",
     "text": [
      "Set(3) { 1, 2, 3 }\n"
     ]
    }
   ],
   "source": [
    "new Set ([1, 2, 3])"
   ]
  },
  {
   "cell_type": "code",
   "execution_count": 8,
   "id": "f51d8fb0-0817-4b86-b00a-3abb03fc0f9b",
   "metadata": {},
   "outputs": [],
   "source": [
    "let x;"
   ]
  },
  {
   "cell_type": "code",
   "execution_count": 9,
   "id": "18f2793f-c41a-4d3a-96d0-a7316b9c1b37",
   "metadata": {},
   "outputs": [
    {
     "name": "stdout",
     "output_type": "stream",
     "text": [
      "undefined\n"
     ]
    }
   ],
   "source": [
    "typeof(x)"
   ]
  },
  {
   "cell_type": "code",
   "execution_count": 10,
   "id": "cc940227-d1ab-417c-a46f-e71e9c9347db",
   "metadata": {},
   "outputs": [
    {
     "name": "stdout",
     "output_type": "stream",
     "text": [
      "true\n"
     ]
    }
   ],
   "source": [
    "x == null"
   ]
  },
  {
   "cell_type": "code",
   "execution_count": null,
   "id": "9d7ed521-ba22-4150-8f33-969d88bcc4db",
   "metadata": {},
   "outputs": [],
   "source": []
  }
 ],
 "metadata": {
  "kernelspec": {
   "display_name": "JavaScript",
   "language": "javascript",
   "name": "jslab"
  },
  "language_info": {
   "file_extension": ".js",
   "mimetype": "text/javascript",
   "name": "javascript",
   "version": ""
  }
 },
 "nbformat": 4,
 "nbformat_minor": 5
}
