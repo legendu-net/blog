{
 "cells": [
  {
   "cell_type": "code",
   "execution_count": 27,
   "id": "5949d2db-a4a3-47b6-9461-a4dcdde27511",
   "metadata": {},
   "outputs": [],
   "source": [
    "import \"net/http\"\n",
    "import \"io/ioutil\"\n",
    "import \"regexp\"\n",
    "import \"fmt\""
   ]
  },
  {
   "cell_type": "code",
   "execution_count": 2,
   "id": "ac6d1f48-2fd1-4e3a-b064-f3fa48fd02e5",
   "metadata": {},
   "outputs": [],
   "source": [
    "resp, err := http.Get(\"https://archive.apache.org/dist/spark/\")"
   ]
  },
  {
   "cell_type": "code",
   "execution_count": 3,
   "id": "4d8207d6-ff5b-46d4-bca0-05afeb3ada62",
   "metadata": {},
   "outputs": [],
   "source": [
    "err"
   ]
  },
  {
   "cell_type": "code",
   "execution_count": 6,
   "id": "875dae3b-4b09-49f4-8b08-cb72d6aa7b2b",
   "metadata": {},
   "outputs": [
    {
     "data": {
      "text/plain": [
       "200"
      ]
     },
     "execution_count": 6,
     "metadata": {},
     "output_type": "execute_result"
    }
   ],
   "source": [
    "resp.StatusCode"
   ]
  },
  {
   "cell_type": "code",
   "execution_count": 8,
   "id": "0ae09ced-fcd0-400a-9c5a-79acaf85c534",
   "metadata": {},
   "outputs": [],
   "source": [
    "body, err := ioutil.ReadAll(resp.Body)"
   ]
  },
  {
   "cell_type": "code",
   "execution_count": 9,
   "id": "20c9a72a-0028-4456-903b-1aa2093f2989",
   "metadata": {},
   "outputs": [],
   "source": [
    "err"
   ]
  },
  {
   "cell_type": "code",
   "execution_count": 20,
   "id": "31fcdede-91c6-4d50-82db-db4bdc0d83f3",
   "metadata": {},
   "outputs": [],
   "source": [
    "html := string(body)"
   ]
  },
  {
   "cell_type": "code",
   "execution_count": 21,
   "id": "c594b305-1b21-4faf-b8c3-312fe0b40feb",
   "metadata": {},
   "outputs": [
    {
     "data": {
      "text/plain": [
       "<!DOCTYPE HTML PUBLIC \"-//W3C//DTD HTML 3.2 Final//EN\">\n",
       "<html>\n",
       " <head>\n",
       "  <title>Index of /dist/spark</title>\n",
       " </head>\n",
       " <body>\n",
       "<h1>Index of /dist/spark</h1>\n",
       "<pre><img src=\"/icons/blank.gif\" alt=\"Icon \"> <a href=\"?C=N;O=D\">Name</a>                    <a href=\"?C=M;O=A\">Last modified</a>      <a href=\"?C=S;O=A\">Size</a>  <a href=\"?C=D;O=A\">Description</a><hr><img src=\"/icons/back.gif\" alt=\"[PARENTDIR]\"> <a href=\"/dist/\">Parent Directory</a>                             -   \n",
       "<img src=\"/icons/folder.gif\" alt=\"[DIR]\"> <a href=\"spark-0.8.0-incubating/\">spark-0.8.0-incubating/</a> 2014-05-26 19:49    -   \n",
       "<img src=\"/icons/folder.gif\" alt=\"[DIR]\"> <a href=\"spark-0.8.1-incubating/\">spark-0.8.1-incubating/</a> 2014-05-26 19:48    -   \n",
       "<img src=\"/icons/folder.gif\" alt=\"[DIR]\"> <a href=\"spark-0.9.0-incubating/\">spark-0.9.0-incubating/</a> 2014-05-26 19:59    -   \n",
       "<img src=\"/icons/folder.gif\" alt=\"[DIR]\"> <a href=\"spark-0.9.1/\">spark-0.9.1/</a>            2014-04-11 17:15    -   \n",
       "<img src=\"/icons/folder.gif\" alt=\"[DIR]\"> <a href=\"spark-0.9.2/\">spark-0.9.2/</a>            2014-07-23 03:32    -   \n",
       "<img src=\"/icons/folder.gif\" alt=\"[DIR]\"> <a href=\"spark-1.0.0/\">spark-1.0.0/</a>            2014-05-30 08:31    -   \n",
       "<img src=\"/icons/folder.gif\" alt=\"[DIR]\"> <a href=\"spark-1.0.1/\">spark-1.0.1/</a>            2014-07-11 17:37    -   \n",
       "<img src=\"/icons/folder.gif\" alt=\"[DIR]\"> <a href=\"spark-1.0.2/\">spark-1.0.2/</a>            2014-08-05 01:55    -   \n",
       "<img src=\"/icons/folder.gif\" alt=\"[DIR]\"> <a href=\"spark-1.1.0/\">spark-1.1.0/</a>            2014-09-11 23:02    -   \n",
       "<img src=\"/icons/folder.gif\" alt=\"[DIR]\"> <a href=\"spark-1.1.1/\">spark-1.1.1/</a>            2015-08-19 03:34    -   \n",
       "<img src=\"/icons/folder.gif\" alt=\"[DIR]\"> <a href=\"spark-1.2.0/\">spark-1.2.0/</a>            2014-12-18 22:56    -   \n",
       "<img src=\"/icons/folder.gif\" alt=\"[DIR]\"> <a href=\"spark-1.2.1/\">spark-1.2.1/</a>            2015-08-19 03:39    -   \n",
       "<img src=\"/icons/folder.gif\" alt=\"[DIR]\"> <a href=\"spark-1.2.2/\">spark-1.2.2/</a>            2015-08-19 03:40    -   \n",
       "<img src=\"/icons/folder.gif\" alt=\"[DIR]\"> <a href=\"spark-1.3.0/\">spark-1.3.0/</a>            2015-08-19 03:39    -   \n",
       "<img src=\"/icons/folder.gif\" alt=\"[DIR]\"> <a href=\"spark-1.3.1/\">spark-1.3.1/</a>            2015-04-16 23:47    -   \n",
       "<img src=\"/icons/folder.gif\" alt=\"[DIR]\"> <a href=\"spark-1.4.0/\">spark-1.4.0/</a>            2015-08-19 03:42    -   \n",
       "<img src=\"/icons/folder.gif\" alt=\"[DIR]\"> <a href=\"spark-1.4.1/\">spark-1.4.1/</a>            2015-07-15 03:39    -   \n",
       "<img src=\"/icons/folder.gif\" alt=\"[DIR]\"> <a href=\"spark-1.5.0/\">spark-1.5.0/</a>            2015-09-09 05:58    -   \n",
       "<img src=\"/icons/folder.gif\" alt=\"[DIR]\"> <a href=\"spark-1.5.1/\">spark-1.5.1/</a>            2015-10-06 04:54    -   \n",
       "<img src=\"/icons/folder.gif\" alt=\"[DIR]\"> <a href=\"spark-1.5.2/\">spark-1.5.2/</a>            2015-11-10 00:22    -   \n",
       "<img src=\"/icons/folder.gif\" alt=\"[DIR]\"> <a href=\"spark-1.6.0/\">spark-1.6.0/</a>            2016-01-04 16:30    -   \n",
       "<img src=\"/icons/folder.gif\" alt=\"[DIR]\"> <a href=\"spark-1.6.1/\">spark-1.6.1/</a>            2016-03-10 20:09    -   \n",
       "<img src=\"/icons/folder.gif\" alt=\"[DIR]\"> <a href=\"spark-1.6.2/\">spark-1.6.2/</a>            2016-06-25 07:42    -   \n",
       "<img src=\"/icons/folder.gif\" alt=\"[DIR]\"> <a href=\"spark-1.6.3/\">spark-1.6.3/</a>            2018-05-04 15:29    -   \n",
       "<img src=\"/icons/folder.gif\" alt=\"[DIR]\"> <a href=\"spark-2.0.0-preview/\">spark-2.0.0-preview/</a>    2016-05-25 06:32    -   \n",
       "<img src=\"/icons/folder.gif\" alt=\"[DIR]\"> <a href=\"spark-2.0.0/\">spark-2.0.0/</a>            2016-07-26 22:15    -   \n",
       "<img src=\"/icons/folder.gif\" alt=\"[DIR]\"> <a href=\"spark-2.0.1/\">spark-2.0.1/</a>            2016-10-04 17:31    -   \n",
       "<img src=\"/icons/folder.gif\" alt=\"[DIR]\"> <a href=\"spark-2.0.2/\">spark-2.0.2/</a>            2018-05-04 15:30    -   \n",
       "<img src=\"/icons/folder.gif\" alt=\"[DIR]\"> <a href=\"spark-2.1.0/\">spark-2.1.0/</a>            2016-12-22 22:12    -   \n",
       "<img src=\"/icons/folder.gif\" alt=\"[DIR]\"> <a href=\"spark-2.1.1/\">spark-2.1.1/</a>            2017-10-04 10:48    -   \n",
       "<img src=\"/icons/folder.gif\" alt=\"[DIR]\"> <a href=\"spark-2.1.2/\">spark-2.1.2/</a>            2018-05-04 15:35    -   \n",
       "<img src=\"/icons/folder.gif\" alt=\"[DIR]\"> <a href=\"spark-2.1.3/\">spark-2.1.3/</a>            2018-06-29 23:59    -   \n",
       "<img src=\"/icons/folder.gif\" alt=\"[DIR]\"> <a href=\"spark-2.2.0/\">spark-2.2.0/</a>            2018-05-04 15:31    -   \n",
       "<img src=\"/icons/folder.gif\" alt=\"[DIR]\"> <a href=\"spark-2.2.1/\">spark-2.2.1/</a>            2018-05-04 15:40    -   \n",
       "<img src=\"/icons/folder.gif\" alt=\"[DIR]\"> <a href=\"spark-2.2.2/\">spark-2.2.2/</a>            2018-07-03 19:16    -   \n",
       "<img src=\"/icons/folder.gif\" alt=\"[DIR]\"> <a href=\"spark-2.2.3/\">spark-2.2.3/</a>            2019-01-12 18:28    -   \n",
       "<img src=\"/icons/folder.gif\" alt=\"[DIR]\"> <a href=\"spark-2.3.0/\">spark-2.3.0/</a>            2018-05-04 15:42    -   \n",
       "<img src=\"/icons/folder.gif\" alt=\"[DIR]\"> <a href=\"spark-2.3.1/\">spark-2.3.1/</a>            2018-06-09 01:14    -   \n",
       "<img src=\"/icons/folder.gif\" alt=\"[DIR]\"> <a href=\"spark-2.3.2/\">spark-2.3.2/</a>            2018-09-25 03:32    -   \n",
       "<img src=\"/icons/folder.gif\" alt=\"[DIR]\"> <a href=\"spark-2.3.3/\">spark-2.3.3/</a>            2019-02-16 11:39    -   \n",
       "<img src=\"/icons/folder.gif\" alt=\"[DIR]\"> <a href=\"spark-2.3.4/\">spark-2.3.4/</a>            2019-09-09 09:19    -   \n",
       "<img src=\"/icons/folder.gif\" alt=\"[DIR]\"> <a href=\"spark-2.4.0/\">spark-2.4.0/</a>            2018-11-02 04:28    -   \n",
       "<img src=\"/icons/folder.gif\" alt=\"[DIR]\"> <a href=\"spark-2.4.1/\">spark-2.4.1/</a>            2019-04-01 08:01    -   \n",
       "<img src=\"/icons/folder.gif\" alt=\"[DIR]\"> <a href=\"spark-2.4.2/\">spark-2.4.2/</a>            2019-04-24 02:56    -   \n",
       "<img src=\"/icons/folder.gif\" alt=\"[DIR]\"> <a href=\"spark-2.4.3/\">spark-2.4.3/</a>            2019-05-07 07:57    -   \n",
       "<img src=\"/icons/folder.gif\" alt=\"[DIR]\"> <a href=\"spark-2.4.4/\">spark-2.4.4/</a>            2019-08-31 05:16    -   \n",
       "<img src=\"/icons/folder.gif\" alt=\"[DIR]\"> <a href=\"spark-2.4.5/\">spark-2.4.5/</a>            2020-02-06 18:37    -   \n",
       "<img src=\"/icons/folder.gif\" alt=\"[DIR]\"> <a href=\"spark-2.4.6/\">spark-2.4.6/</a>            2020-06-05 18:02    -   \n",
       "<img src=\"/icons/folder.gif\" alt=\"[DIR]\"> <a href=\"spark-2.4.7/\">spark-2.4.7/</a>            2020-11-05 18:45    -   \n",
       "<img src=\"/icons/folder.gif\" alt=\"[DIR]\"> <a href=\"spark-2.4.8/\">spark-2.4.8/</a>            2022-06-17 11:13    -   \n",
       "<img src=\"/icons/folder.gif\" alt=\"[DIR]\"> <a href=\"spark-3.0.0-preview/\">spark-3.0.0-preview/</a>    2019-11-06 23:15    -   \n",
       "<img src=\"/icons/folder.gif\" alt=\"[DIR]\"> <a href=\"spark-3.0.0-preview2/\">spark-3.0.0-preview2/</a>   2019-12-22 18:53    -   \n",
       "<img src=\"/icons/folder.gif\" alt=\"[DIR]\"> <a href=\"spark-3.0.0/\">spark-3.0.0/</a>            2020-06-16 09:19    -   \n",
       "<img src=\"/icons/folder.gif\" alt=\"[DIR]\"> <a href=\"spark-3.0.1/\">spark-3.0.1/</a>            2020-11-05 18:46    -   \n",
       "<img src=\"/icons/folder.gif\" alt=\"[DIR]\"> <a href=\"spark-3.0.2/\">spark-3.0.2/</a>            2021-02-19 17:24    -   \n",
       "<img src=\"/icons/folder.gif\" alt=\"[DIR]\"> <a href=\"spark-3.0.3/\">spark-3.0.3/</a>            2022-06-17 11:12    -   \n",
       "<img src=\"/icons/folder.gif\" alt=\"[DIR]\"> <a href=\"spark-3.1.1/\">spark-3.1.1/</a>            2021-03-02 11:01    -   \n",
       "<img src=\"/icons/folder.gif\" alt=\"[DIR]\"> <a href=\"spark-3.1.2/\">spark-3.1.2/</a>            2022-06-17 11:12    -   \n",
       "<img src=\"/icons/folder.gif\" alt=\"[DIR]\"> <a href=\"spark-3.1.3/\">spark-3.1.3/</a>            2022-06-17 11:12    -   \n",
       "<img src=\"/icons/folder.gif\" alt=\"[DIR]\"> <a href=\"spark-3.2.0/\">spark-3.2.0/</a>            2021-10-13 09:09    -   \n",
       "<img src=\"/icons/folder.gif\" alt=\"[DIR]\"> <a href=\"spark-3.2.1/\">spark-3.2.1/</a>            2022-06-17 11:12    -   \n",
       "<img src=\"/icons/folder.gif\" alt=\"[DIR]\"> <a href=\"spark-3.3.0/\">spark-3.3.0/</a>            2022-06-17 11:11    -   \n",
       "<img src=\"/icons/unknown.gif\" alt=\"[   ]\"> <a href=\"KEYS\">KEYS</a>                    2022-06-15 08:08  102K  \n",
       "<hr></pre>\n",
       "</body></html>\n"
      ]
     },
     "execution_count": 21,
     "metadata": {},
     "output_type": "execute_result"
    }
   ],
   "source": [
    "html"
   ]
  },
  {
   "cell_type": "code",
   "execution_count": 18,
   "id": "953eea28-b973-41f9-8092-1e4d3d95a993",
   "metadata": {},
   "outputs": [],
   "source": [
    "re := regexp.MustCompile(`<a href=\\\"spark-(\\d+.\\d+.\\d+)/\\\">`)"
   ]
  },
  {
   "cell_type": "code",
   "execution_count": 25,
   "id": "25b98669-1f95-4337-9bfe-18b3e1405527",
   "metadata": {},
   "outputs": [],
   "source": [
    "matches := re.FindAllStringSubmatch(html, -1)"
   ]
  },
  {
   "cell_type": "code",
   "execution_count": 28,
   "id": "935f984c-eb98-464c-a977-de61c769c094",
   "metadata": {},
   "outputs": [
    {
     "name": "stdout",
     "output_type": "stream",
     "text": [
      "<a href=\"spark-0.9.1/\">, 0.9.1\n",
      "<a href=\"spark-0.9.2/\">, 0.9.2\n",
      "<a href=\"spark-1.0.0/\">, 1.0.0\n",
      "<a href=\"spark-1.0.1/\">, 1.0.1\n",
      "<a href=\"spark-1.0.2/\">, 1.0.2\n",
      "<a href=\"spark-1.1.0/\">, 1.1.0\n",
      "<a href=\"spark-1.1.1/\">, 1.1.1\n",
      "<a href=\"spark-1.2.0/\">, 1.2.0\n",
      "<a href=\"spark-1.2.1/\">, 1.2.1\n",
      "<a href=\"spark-1.2.2/\">, 1.2.2\n",
      "<a href=\"spark-1.3.0/\">, 1.3.0\n",
      "<a href=\"spark-1.3.1/\">, 1.3.1\n",
      "<a href=\"spark-1.4.0/\">, 1.4.0\n",
      "<a href=\"spark-1.4.1/\">, 1.4.1\n",
      "<a href=\"spark-1.5.0/\">, 1.5.0\n",
      "<a href=\"spark-1.5.1/\">, 1.5.1\n",
      "<a href=\"spark-1.5.2/\">, 1.5.2\n",
      "<a href=\"spark-1.6.0/\">, 1.6.0\n",
      "<a href=\"spark-1.6.1/\">, 1.6.1\n",
      "<a href=\"spark-1.6.2/\">, 1.6.2\n",
      "<a href=\"spark-1.6.3/\">, 1.6.3\n",
      "<a href=\"spark-2.0.0/\">, 2.0.0\n",
      "<a href=\"spark-2.0.1/\">, 2.0.1\n",
      "<a href=\"spark-2.0.2/\">, 2.0.2\n",
      "<a href=\"spark-2.1.0/\">, 2.1.0\n",
      "<a href=\"spark-2.1.1/\">, 2.1.1\n",
      "<a href=\"spark-2.1.2/\">, 2.1.2\n",
      "<a href=\"spark-2.1.3/\">, 2.1.3\n",
      "<a href=\"spark-2.2.0/\">, 2.2.0\n",
      "<a href=\"spark-2.2.1/\">, 2.2.1\n",
      "<a href=\"spark-2.2.2/\">, 2.2.2\n",
      "<a href=\"spark-2.2.3/\">, 2.2.3\n",
      "<a href=\"spark-2.3.0/\">, 2.3.0\n",
      "<a href=\"spark-2.3.1/\">, 2.3.1\n",
      "<a href=\"spark-2.3.2/\">, 2.3.2\n",
      "<a href=\"spark-2.3.3/\">, 2.3.3\n",
      "<a href=\"spark-2.3.4/\">, 2.3.4\n",
      "<a href=\"spark-2.4.0/\">, 2.4.0\n",
      "<a href=\"spark-2.4.1/\">, 2.4.1\n",
      "<a href=\"spark-2.4.2/\">, 2.4.2\n",
      "<a href=\"spark-2.4.3/\">, 2.4.3\n",
      "<a href=\"spark-2.4.4/\">, 2.4.4\n",
      "<a href=\"spark-2.4.5/\">, 2.4.5\n",
      "<a href=\"spark-2.4.6/\">, 2.4.6\n",
      "<a href=\"spark-2.4.7/\">, 2.4.7\n",
      "<a href=\"spark-2.4.8/\">, 2.4.8\n",
      "<a href=\"spark-3.0.0/\">, 3.0.0\n",
      "<a href=\"spark-3.0.1/\">, 3.0.1\n",
      "<a href=\"spark-3.0.2/\">, 3.0.2\n",
      "<a href=\"spark-3.0.3/\">, 3.0.3\n",
      "<a href=\"spark-3.1.1/\">, 3.1.1\n",
      "<a href=\"spark-3.1.2/\">, 3.1.2\n",
      "<a href=\"spark-3.1.3/\">, 3.1.3\n",
      "<a href=\"spark-3.2.0/\">, 3.2.0\n",
      "<a href=\"spark-3.2.1/\">, 3.2.1\n",
      "<a href=\"spark-3.3.0/\">, 3.3.0\n"
     ]
    }
   ],
   "source": [
    "for _, match := range matches {\n",
    "    fmt.Printf(\"%s, %s\\n\", match[0], match[1])\n",
    "}"
   ]
  },
  {
   "cell_type": "code",
   "execution_count": null,
   "id": "d8395c75-c11a-4869-ae54-2e8a7a38236f",
   "metadata": {},
   "outputs": [],
   "source": []
  }
 ],
 "metadata": {
  "kernelspec": {
   "display_name": "Go",
   "language": "go",
   "name": "gophernotes"
  },
  "language_info": {
   "codemirror_mode": "",
   "file_extension": ".go",
   "mimetype": "",
   "name": "go",
   "nbconvert_exporter": "",
   "pygments_lexer": "",
   "version": "go1.18.3"
  }
 },
 "nbformat": 4,
 "nbformat_minor": 5
}
