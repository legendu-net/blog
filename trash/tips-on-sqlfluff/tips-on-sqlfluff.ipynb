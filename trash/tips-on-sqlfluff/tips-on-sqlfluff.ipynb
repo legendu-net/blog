{
 "nbformat": 4,
 "nbformat_minor": 2,
 "metadata": {
  "language_info": {
   "name": "python",
   "codemirror_mode": {
    "name": "ipython",
    "version": 3
   }
  },
  "orig_nbformat": 2,
  "file_extension": ".py",
  "mimetype": "text/x-python",
  "name": "python",
  "npconvert_exporter": "python",
  "pygments_lexer": "ipython3",
  "version": 3
 },
 "cells": [
  {
   "cell_type": "markdown",
   "metadata": {},
   "source": [
    "- Author: Ben Du\n",
    "- Date: 2021-02-16 15:12:44\n",
    "- Title: Tip on Sqlfluff\n",
    "- Slug: tips-on-sqlfluff\n",
    "- Category: Computer Science\n",
    "- Tags: Computer Science, programming, sqlfluff, SQL, lint, linter, format, issue, error"
   ]
  },
  {
   "source": [],
   "cell_type": "markdown",
   "metadata": {}
  },
  {
   "cell_type": "code",
   "execution_count": null,
   "metadata": {},
   "outputs": [],
   "source": [
    "## General Tips and Traps \n",
    "\n",
    "1. SQLfluff supports Jinja template! \n",
    "\n",
    "## Safe to fix\n",
    "2. L001: Unneccessary trailing whitespace.\n",
    "3. L008: Commas should be followed by a single whitespace unless followed by a comment.\n",
    "\n",
    "\n",
    "## Ignore \n",
    "\n",
    "L:  75 | P:   5 |  LXR | Unable to lex characters: ''${candidat'...'\n",
    "\n",
    "## Parsing Error\n",
    "\n",
    "1. PRS: Found unparsable section: '-- /*Select list of users to choose from...'\n"
   ]
  }
 ]
}